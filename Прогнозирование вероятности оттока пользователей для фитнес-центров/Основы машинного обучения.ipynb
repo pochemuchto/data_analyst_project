{
 "cells": [
  {
   "cell_type": "markdown",
   "metadata": {},
   "source": [
    "# Прогнозирование вероятности оттока пользователей для фитнес-центров"
   ]
  },
  {
   "cell_type": "markdown",
   "metadata": {},
   "source": [
    "Сеть фитнес-центров «Культурист-датасаентист» разрабатывает стратегию взаимодействия с клиентами на основе аналитических данных. Распространённая проблема фитнес-клубов и других сервисов — отток клиентов. Можно считать, что клиент попал в отток, если за последний месяц ни разу не посетил спортзал. Если клиент начал новую жизнь с понедельника, немного походил в спортзал, а потом пропал — скорее всего, он не вернётся.\n",
    "\n",
    "Чтобы бороться с оттоком, отдел по работе с клиентами «Культуриста-датасаентиста» перевёл в электронный вид множество клиентских анкет. \n",
    "\n",
    "**Цель исследования:** \n",
    "\n",
    "Провести анализ и подготовить план действий по удержанию клиентов. \n",
    "А именно:\n",
    "\n",
    "- Научиться прогнозировать вероятность оттока (на уровне следующего месяца) для каждого клиента;\n",
    "- Сформировать типичные портреты клиентов: выделить несколько наиболее ярких групп и охарактеризовать их основные свойства;\n",
    "- Проанализировать основные признаки, наиболее сильно влияющие на отток;\n",
    "- Сформулировать основные выводы и разработать рекомендации по повышению качества работы с клиентами:\n",
    "    - 1) Выделить целевые группы клиентов;\n",
    "    - 2) Предложить меры по снижению оттока;\n",
    "    - 3) Определить другие особенности взаимодействия с клиентами.\n"
   ]
  },
  {
   "cell_type": "markdown",
   "metadata": {},
   "source": [
    "## 1. Загрузка данных"
   ]
  },
  {
   "cell_type": "code",
   "execution_count": 1,
   "metadata": {},
   "outputs": [],
   "source": [
    "# Импортирую библиотеки\n",
    "import pandas as pd \n",
    "import numpy as np\n",
    "import matplotlib.pyplot as plt\n",
    "import seaborn as sns\n",
    "\n",
    "from sklearn.preprocessing import StandardScaler\n",
    "from sklearn.model_selection import GridSearchCV, train_test_split\n",
    "from sklearn.linear_model import LogisticRegression\n",
    "from sklearn.ensemble import RandomForestClassifier\n",
    "from sklearn.metrics import accuracy_score, precision_score, recall_score\n",
    "from scipy.cluster.hierarchy import dendrogram, linkage \n",
    "from sklearn.cluster import KMeans\n",
    "\n",
    "import warnings\n",
    "warnings.filterwarnings('ignore')"
   ]
  },
  {
   "cell_type": "code",
   "execution_count": 2,
   "metadata": {},
   "outputs": [],
   "source": [
    "# Загружу таблицы\n",
    "try:\n",
    "    df = pd.read_csv('gym_churn.csv')\n",
    "except: \n",
    "    df = pd.read_csv('/datasets/gym_churn.csv')"
   ]
  },
  {
   "cell_type": "code",
   "execution_count": 3,
   "metadata": {},
   "outputs": [
    {
     "data": {
      "text/html": [
       "<div>\n",
       "<style scoped>\n",
       "    .dataframe tbody tr th:only-of-type {\n",
       "        vertical-align: middle;\n",
       "    }\n",
       "\n",
       "    .dataframe tbody tr th {\n",
       "        vertical-align: top;\n",
       "    }\n",
       "\n",
       "    .dataframe thead th {\n",
       "        text-align: right;\n",
       "    }\n",
       "</style>\n",
       "<table border=\"1\" class=\"dataframe\">\n",
       "  <thead>\n",
       "    <tr style=\"text-align: right;\">\n",
       "      <th></th>\n",
       "      <th>gender</th>\n",
       "      <th>Near_Location</th>\n",
       "      <th>Partner</th>\n",
       "      <th>Promo_friends</th>\n",
       "      <th>Phone</th>\n",
       "      <th>Contract_period</th>\n",
       "      <th>Group_visits</th>\n",
       "      <th>Age</th>\n",
       "      <th>Avg_additional_charges_total</th>\n",
       "      <th>Month_to_end_contract</th>\n",
       "      <th>Lifetime</th>\n",
       "      <th>Avg_class_frequency_total</th>\n",
       "      <th>Avg_class_frequency_current_month</th>\n",
       "      <th>Churn</th>\n",
       "    </tr>\n",
       "  </thead>\n",
       "  <tbody>\n",
       "    <tr>\n",
       "      <th>0</th>\n",
       "      <td>1</td>\n",
       "      <td>1</td>\n",
       "      <td>1</td>\n",
       "      <td>1</td>\n",
       "      <td>0</td>\n",
       "      <td>6</td>\n",
       "      <td>1</td>\n",
       "      <td>29</td>\n",
       "      <td>14.227470</td>\n",
       "      <td>5.0</td>\n",
       "      <td>3</td>\n",
       "      <td>0.020398</td>\n",
       "      <td>0.000000</td>\n",
       "      <td>0</td>\n",
       "    </tr>\n",
       "    <tr>\n",
       "      <th>1</th>\n",
       "      <td>0</td>\n",
       "      <td>1</td>\n",
       "      <td>0</td>\n",
       "      <td>0</td>\n",
       "      <td>1</td>\n",
       "      <td>12</td>\n",
       "      <td>1</td>\n",
       "      <td>31</td>\n",
       "      <td>113.202938</td>\n",
       "      <td>12.0</td>\n",
       "      <td>7</td>\n",
       "      <td>1.922936</td>\n",
       "      <td>1.910244</td>\n",
       "      <td>0</td>\n",
       "    </tr>\n",
       "    <tr>\n",
       "      <th>2</th>\n",
       "      <td>0</td>\n",
       "      <td>1</td>\n",
       "      <td>1</td>\n",
       "      <td>0</td>\n",
       "      <td>1</td>\n",
       "      <td>1</td>\n",
       "      <td>0</td>\n",
       "      <td>28</td>\n",
       "      <td>129.448479</td>\n",
       "      <td>1.0</td>\n",
       "      <td>2</td>\n",
       "      <td>1.859098</td>\n",
       "      <td>1.736502</td>\n",
       "      <td>0</td>\n",
       "    </tr>\n",
       "    <tr>\n",
       "      <th>3</th>\n",
       "      <td>0</td>\n",
       "      <td>1</td>\n",
       "      <td>1</td>\n",
       "      <td>1</td>\n",
       "      <td>1</td>\n",
       "      <td>12</td>\n",
       "      <td>1</td>\n",
       "      <td>33</td>\n",
       "      <td>62.669863</td>\n",
       "      <td>12.0</td>\n",
       "      <td>2</td>\n",
       "      <td>3.205633</td>\n",
       "      <td>3.357215</td>\n",
       "      <td>0</td>\n",
       "    </tr>\n",
       "    <tr>\n",
       "      <th>4</th>\n",
       "      <td>1</td>\n",
       "      <td>1</td>\n",
       "      <td>1</td>\n",
       "      <td>1</td>\n",
       "      <td>1</td>\n",
       "      <td>1</td>\n",
       "      <td>0</td>\n",
       "      <td>26</td>\n",
       "      <td>198.362265</td>\n",
       "      <td>1.0</td>\n",
       "      <td>3</td>\n",
       "      <td>1.113884</td>\n",
       "      <td>1.120078</td>\n",
       "      <td>0</td>\n",
       "    </tr>\n",
       "  </tbody>\n",
       "</table>\n",
       "</div>"
      ],
      "text/plain": [
       "   gender  Near_Location  Partner  Promo_friends  Phone  Contract_period  \\\n",
       "0       1              1        1              1      0                6   \n",
       "1       0              1        0              0      1               12   \n",
       "2       0              1        1              0      1                1   \n",
       "3       0              1        1              1      1               12   \n",
       "4       1              1        1              1      1                1   \n",
       "\n",
       "   Group_visits  Age  Avg_additional_charges_total  Month_to_end_contract  \\\n",
       "0             1   29                     14.227470                    5.0   \n",
       "1             1   31                    113.202938                   12.0   \n",
       "2             0   28                    129.448479                    1.0   \n",
       "3             1   33                     62.669863                   12.0   \n",
       "4             0   26                    198.362265                    1.0   \n",
       "\n",
       "   Lifetime  Avg_class_frequency_total  Avg_class_frequency_current_month  \\\n",
       "0         3                   0.020398                           0.000000   \n",
       "1         7                   1.922936                           1.910244   \n",
       "2         2                   1.859098                           1.736502   \n",
       "3         2                   3.205633                           3.357215   \n",
       "4         3                   1.113884                           1.120078   \n",
       "\n",
       "   Churn  \n",
       "0      0  \n",
       "1      0  \n",
       "2      0  \n",
       "3      0  \n",
       "4      0  "
      ]
     },
     "execution_count": 3,
     "metadata": {},
     "output_type": "execute_result"
    }
   ],
   "source": [
    "# Выведу таблицу\n",
    "df.head()"
   ]
  },
  {
   "cell_type": "markdown",
   "metadata": {},
   "source": [
    "«Культурист-датасаентист» предоставил сведения в csv-файлах. Заказчик подготовил данные, которые содержат данные на месяц до оттока и факт оттока на определённый месяц. Набор данных включает следующие поля:\n",
    "\n",
    "Данные клиента за предыдущий до проверки факта оттока месяц:\n",
    "\n",
    "- `gender` — пол;\n",
    "- `Near_Location` — проживание или работа в районе, где находится фитнес-центр;\n",
    "- `Partner` — сотрудник компании-партнёра клуба (сотрудничество с компаниями, чьи сотрудники могут получать скидки на абонемент  в таком случае фитнес-центр хранит информацию о работодателе клиента);\n",
    "- `Promo_friends` — факт первоначальной записи в рамках акции «приведи друга» (использовал промо-код от знакомого при оплате первого абонемента);\n",
    "- `Phone` — наличие контактного телефона;\n",
    "- `Age` — возраст;\n",
    "- `Lifetime` — время с момента первого обращения в фитнес-центр (в месяцах).\n",
    "\n",
    "Информация на основе журнала посещений, покупок и информация о текущем статусе абонемента клиента:\n",
    "\n",
    "- `Contract_period` — длительность текущего действующего абонемента (месяц, 6 месяцев, год);\n",
    "- `Month_to_end_contract` — срок до окончания текущего действующего абонемента (в месяцах);\n",
    "- `Group_visits` — факт посещения групповых занятий;\n",
    "- `Avg_class_frequency_total` — средняя частота посещений в неделю за все время с начала действия абонемента;\n",
    "- `Avg_class_frequency_current_month` — средняя частота посещений в неделю за предыдущий месяц;\n",
    "- `Avg_additional_charges_total` — суммарная выручка от других услуг фитнес-центра: кафе, спорттовары, косметический и массажный салон.\n",
    "- `Churn` — факт оттока в текущем месяце."
   ]
  },
  {
   "cell_type": "markdown",
   "metadata": {},
   "source": [
    "\n",
    "---"
   ]
  },
  {
   "cell_type": "markdown",
   "metadata": {},
   "source": [
    "## 2. Исследовательский анализ данных (EDA)"
   ]
  },
  {
   "cell_type": "code",
   "execution_count": 4,
   "metadata": {},
   "outputs": [
    {
     "name": "stdout",
     "output_type": "stream",
     "text": [
      "<class 'pandas.core.frame.DataFrame'>\n",
      "RangeIndex: 4000 entries, 0 to 3999\n",
      "Data columns (total 14 columns):\n",
      " #   Column                             Non-Null Count  Dtype  \n",
      "---  ------                             --------------  -----  \n",
      " 0   gender                             4000 non-null   int64  \n",
      " 1   Near_Location                      4000 non-null   int64  \n",
      " 2   Partner                            4000 non-null   int64  \n",
      " 3   Promo_friends                      4000 non-null   int64  \n",
      " 4   Phone                              4000 non-null   int64  \n",
      " 5   Contract_period                    4000 non-null   int64  \n",
      " 6   Group_visits                       4000 non-null   int64  \n",
      " 7   Age                                4000 non-null   int64  \n",
      " 8   Avg_additional_charges_total       4000 non-null   float64\n",
      " 9   Month_to_end_contract              4000 non-null   float64\n",
      " 10  Lifetime                           4000 non-null   int64  \n",
      " 11  Avg_class_frequency_total          4000 non-null   float64\n",
      " 12  Avg_class_frequency_current_month  4000 non-null   float64\n",
      " 13  Churn                              4000 non-null   int64  \n",
      "dtypes: float64(4), int64(10)\n",
      "memory usage: 437.6 KB\n"
     ]
    }
   ],
   "source": [
    "# Посмотрю информацию по таблице\n",
    "df.info()"
   ]
  },
  {
   "cell_type": "markdown",
   "metadata": {},
   "source": [
    "Таблица состоит из 14 столбцов и 4000 строк. Пропусков в данных нет.\n",
    "\n",
    "Заменю тип данных в столбце `month_to_end_contract` на int"
   ]
  },
  {
   "cell_type": "code",
   "execution_count": 5,
   "metadata": {},
   "outputs": [],
   "source": [
    "# Приведу названия столбцов к нижнему регистру\n",
    "df.columns = df.columns.str.lower()"
   ]
  },
  {
   "cell_type": "code",
   "execution_count": 6,
   "metadata": {},
   "outputs": [
    {
     "data": {
      "text/plain": [
       "1.0     2207\n",
       "6.0      645\n",
       "12.0     524\n",
       "11.0     181\n",
       "5.0      130\n",
       "10.0      82\n",
       "9.0       73\n",
       "4.0       58\n",
       "8.0       38\n",
       "7.0       25\n",
       "3.0       23\n",
       "2.0       14\n",
       "Name: month_to_end_contract, dtype: int64"
      ]
     },
     "execution_count": 6,
     "metadata": {},
     "output_type": "execute_result"
    }
   ],
   "source": [
    "# Проверю значения в столбце 'month_to_end_contract'\n",
    "df['month_to_end_contract'].value_counts()"
   ]
  },
  {
   "cell_type": "code",
   "execution_count": 7,
   "metadata": {},
   "outputs": [
    {
     "name": "stdout",
     "output_type": "stream",
     "text": [
      "<class 'pandas.core.frame.DataFrame'>\n",
      "RangeIndex: 4000 entries, 0 to 3999\n",
      "Data columns (total 14 columns):\n",
      " #   Column                             Non-Null Count  Dtype  \n",
      "---  ------                             --------------  -----  \n",
      " 0   gender                             4000 non-null   int64  \n",
      " 1   near_location                      4000 non-null   int64  \n",
      " 2   partner                            4000 non-null   int64  \n",
      " 3   promo_friends                      4000 non-null   int64  \n",
      " 4   phone                              4000 non-null   int64  \n",
      " 5   contract_period                    4000 non-null   int64  \n",
      " 6   group_visits                       4000 non-null   int64  \n",
      " 7   age                                4000 non-null   int64  \n",
      " 8   avg_additional_charges_total       4000 non-null   float64\n",
      " 9   month_to_end_contract              4000 non-null   int64  \n",
      " 10  lifetime                           4000 non-null   int64  \n",
      " 11  avg_class_frequency_total          4000 non-null   float64\n",
      " 12  avg_class_frequency_current_month  4000 non-null   float64\n",
      " 13  churn                              4000 non-null   int64  \n",
      "dtypes: float64(3), int64(11)\n",
      "memory usage: 437.6 KB\n"
     ]
    }
   ],
   "source": [
    "# Заменю тип данных\n",
    "df['month_to_end_contract'] = df['month_to_end_contract'].astype('int')\n",
    "df.info()"
   ]
  },
  {
   "cell_type": "code",
   "execution_count": 8,
   "metadata": {},
   "outputs": [
    {
     "name": "stdout",
     "output_type": "stream",
     "text": [
      "Количество добликатов:  0\n"
     ]
    }
   ],
   "source": [
    "# Проверю данные на наличие явных дубликатов\n",
    "print('Количество добликатов: ', df.duplicated().sum())"
   ]
  },
  {
   "cell_type": "markdown",
   "metadata": {},
   "source": [
    "### Расмотреть средние значения и стандартные отклонения с помощью метода `describe`"
   ]
  },
  {
   "cell_type": "code",
   "execution_count": 9,
   "metadata": {},
   "outputs": [
    {
     "data": {
      "text/html": [
       "<div>\n",
       "<style scoped>\n",
       "    .dataframe tbody tr th:only-of-type {\n",
       "        vertical-align: middle;\n",
       "    }\n",
       "\n",
       "    .dataframe tbody tr th {\n",
       "        vertical-align: top;\n",
       "    }\n",
       "\n",
       "    .dataframe thead th {\n",
       "        text-align: right;\n",
       "    }\n",
       "</style>\n",
       "<table border=\"1\" class=\"dataframe\">\n",
       "  <thead>\n",
       "    <tr style=\"text-align: right;\">\n",
       "      <th></th>\n",
       "      <th>count</th>\n",
       "      <th>mean</th>\n",
       "      <th>std</th>\n",
       "      <th>min</th>\n",
       "      <th>25%</th>\n",
       "      <th>50%</th>\n",
       "      <th>75%</th>\n",
       "      <th>max</th>\n",
       "    </tr>\n",
       "  </thead>\n",
       "  <tbody>\n",
       "    <tr>\n",
       "      <th>gender</th>\n",
       "      <td>4000.0</td>\n",
       "      <td>0.510250</td>\n",
       "      <td>0.499957</td>\n",
       "      <td>0.000000</td>\n",
       "      <td>0.000000</td>\n",
       "      <td>1.000000</td>\n",
       "      <td>1.000000</td>\n",
       "      <td>1.000000</td>\n",
       "    </tr>\n",
       "    <tr>\n",
       "      <th>near_location</th>\n",
       "      <td>4000.0</td>\n",
       "      <td>0.845250</td>\n",
       "      <td>0.361711</td>\n",
       "      <td>0.000000</td>\n",
       "      <td>1.000000</td>\n",
       "      <td>1.000000</td>\n",
       "      <td>1.000000</td>\n",
       "      <td>1.000000</td>\n",
       "    </tr>\n",
       "    <tr>\n",
       "      <th>partner</th>\n",
       "      <td>4000.0</td>\n",
       "      <td>0.486750</td>\n",
       "      <td>0.499887</td>\n",
       "      <td>0.000000</td>\n",
       "      <td>0.000000</td>\n",
       "      <td>0.000000</td>\n",
       "      <td>1.000000</td>\n",
       "      <td>1.000000</td>\n",
       "    </tr>\n",
       "    <tr>\n",
       "      <th>promo_friends</th>\n",
       "      <td>4000.0</td>\n",
       "      <td>0.308500</td>\n",
       "      <td>0.461932</td>\n",
       "      <td>0.000000</td>\n",
       "      <td>0.000000</td>\n",
       "      <td>0.000000</td>\n",
       "      <td>1.000000</td>\n",
       "      <td>1.000000</td>\n",
       "    </tr>\n",
       "    <tr>\n",
       "      <th>phone</th>\n",
       "      <td>4000.0</td>\n",
       "      <td>0.903500</td>\n",
       "      <td>0.295313</td>\n",
       "      <td>0.000000</td>\n",
       "      <td>1.000000</td>\n",
       "      <td>1.000000</td>\n",
       "      <td>1.000000</td>\n",
       "      <td>1.000000</td>\n",
       "    </tr>\n",
       "    <tr>\n",
       "      <th>contract_period</th>\n",
       "      <td>4000.0</td>\n",
       "      <td>4.681250</td>\n",
       "      <td>4.549706</td>\n",
       "      <td>1.000000</td>\n",
       "      <td>1.000000</td>\n",
       "      <td>1.000000</td>\n",
       "      <td>6.000000</td>\n",
       "      <td>12.000000</td>\n",
       "    </tr>\n",
       "    <tr>\n",
       "      <th>group_visits</th>\n",
       "      <td>4000.0</td>\n",
       "      <td>0.412250</td>\n",
       "      <td>0.492301</td>\n",
       "      <td>0.000000</td>\n",
       "      <td>0.000000</td>\n",
       "      <td>0.000000</td>\n",
       "      <td>1.000000</td>\n",
       "      <td>1.000000</td>\n",
       "    </tr>\n",
       "    <tr>\n",
       "      <th>age</th>\n",
       "      <td>4000.0</td>\n",
       "      <td>29.184250</td>\n",
       "      <td>3.258367</td>\n",
       "      <td>18.000000</td>\n",
       "      <td>27.000000</td>\n",
       "      <td>29.000000</td>\n",
       "      <td>31.000000</td>\n",
       "      <td>41.000000</td>\n",
       "    </tr>\n",
       "    <tr>\n",
       "      <th>avg_additional_charges_total</th>\n",
       "      <td>4000.0</td>\n",
       "      <td>146.943728</td>\n",
       "      <td>96.355602</td>\n",
       "      <td>0.148205</td>\n",
       "      <td>68.868830</td>\n",
       "      <td>136.220159</td>\n",
       "      <td>210.949625</td>\n",
       "      <td>552.590740</td>\n",
       "    </tr>\n",
       "    <tr>\n",
       "      <th>month_to_end_contract</th>\n",
       "      <td>4000.0</td>\n",
       "      <td>4.322750</td>\n",
       "      <td>4.191297</td>\n",
       "      <td>1.000000</td>\n",
       "      <td>1.000000</td>\n",
       "      <td>1.000000</td>\n",
       "      <td>6.000000</td>\n",
       "      <td>12.000000</td>\n",
       "    </tr>\n",
       "    <tr>\n",
       "      <th>lifetime</th>\n",
       "      <td>4000.0</td>\n",
       "      <td>3.724750</td>\n",
       "      <td>3.749267</td>\n",
       "      <td>0.000000</td>\n",
       "      <td>1.000000</td>\n",
       "      <td>3.000000</td>\n",
       "      <td>5.000000</td>\n",
       "      <td>31.000000</td>\n",
       "    </tr>\n",
       "    <tr>\n",
       "      <th>avg_class_frequency_total</th>\n",
       "      <td>4000.0</td>\n",
       "      <td>1.879020</td>\n",
       "      <td>0.972245</td>\n",
       "      <td>0.000000</td>\n",
       "      <td>1.180875</td>\n",
       "      <td>1.832768</td>\n",
       "      <td>2.536078</td>\n",
       "      <td>6.023668</td>\n",
       "    </tr>\n",
       "    <tr>\n",
       "      <th>avg_class_frequency_current_month</th>\n",
       "      <td>4000.0</td>\n",
       "      <td>1.767052</td>\n",
       "      <td>1.052906</td>\n",
       "      <td>0.000000</td>\n",
       "      <td>0.963003</td>\n",
       "      <td>1.719574</td>\n",
       "      <td>2.510336</td>\n",
       "      <td>6.146783</td>\n",
       "    </tr>\n",
       "    <tr>\n",
       "      <th>churn</th>\n",
       "      <td>4000.0</td>\n",
       "      <td>0.265250</td>\n",
       "      <td>0.441521</td>\n",
       "      <td>0.000000</td>\n",
       "      <td>0.000000</td>\n",
       "      <td>0.000000</td>\n",
       "      <td>1.000000</td>\n",
       "      <td>1.000000</td>\n",
       "    </tr>\n",
       "  </tbody>\n",
       "</table>\n",
       "</div>"
      ],
      "text/plain": [
       "                                    count        mean        std        min  \\\n",
       "gender                             4000.0    0.510250   0.499957   0.000000   \n",
       "near_location                      4000.0    0.845250   0.361711   0.000000   \n",
       "partner                            4000.0    0.486750   0.499887   0.000000   \n",
       "promo_friends                      4000.0    0.308500   0.461932   0.000000   \n",
       "phone                              4000.0    0.903500   0.295313   0.000000   \n",
       "contract_period                    4000.0    4.681250   4.549706   1.000000   \n",
       "group_visits                       4000.0    0.412250   0.492301   0.000000   \n",
       "age                                4000.0   29.184250   3.258367  18.000000   \n",
       "avg_additional_charges_total       4000.0  146.943728  96.355602   0.148205   \n",
       "month_to_end_contract              4000.0    4.322750   4.191297   1.000000   \n",
       "lifetime                           4000.0    3.724750   3.749267   0.000000   \n",
       "avg_class_frequency_total          4000.0    1.879020   0.972245   0.000000   \n",
       "avg_class_frequency_current_month  4000.0    1.767052   1.052906   0.000000   \n",
       "churn                              4000.0    0.265250   0.441521   0.000000   \n",
       "\n",
       "                                         25%         50%         75%  \\\n",
       "gender                              0.000000    1.000000    1.000000   \n",
       "near_location                       1.000000    1.000000    1.000000   \n",
       "partner                             0.000000    0.000000    1.000000   \n",
       "promo_friends                       0.000000    0.000000    1.000000   \n",
       "phone                               1.000000    1.000000    1.000000   \n",
       "contract_period                     1.000000    1.000000    6.000000   \n",
       "group_visits                        0.000000    0.000000    1.000000   \n",
       "age                                27.000000   29.000000   31.000000   \n",
       "avg_additional_charges_total       68.868830  136.220159  210.949625   \n",
       "month_to_end_contract               1.000000    1.000000    6.000000   \n",
       "lifetime                            1.000000    3.000000    5.000000   \n",
       "avg_class_frequency_total           1.180875    1.832768    2.536078   \n",
       "avg_class_frequency_current_month   0.963003    1.719574    2.510336   \n",
       "churn                               0.000000    0.000000    1.000000   \n",
       "\n",
       "                                          max  \n",
       "gender                               1.000000  \n",
       "near_location                        1.000000  \n",
       "partner                              1.000000  \n",
       "promo_friends                        1.000000  \n",
       "phone                                1.000000  \n",
       "contract_period                     12.000000  \n",
       "group_visits                         1.000000  \n",
       "age                                 41.000000  \n",
       "avg_additional_charges_total       552.590740  \n",
       "month_to_end_contract               12.000000  \n",
       "lifetime                            31.000000  \n",
       "avg_class_frequency_total            6.023668  \n",
       "avg_class_frequency_current_month    6.146783  \n",
       "churn                                1.000000  "
      ]
     },
     "execution_count": 9,
     "metadata": {},
     "output_type": "execute_result"
    }
   ],
   "source": [
    "# Выведу на экран статистику по таблице\n",
    "df.describe().T"
   ]
  },
  {
   "cell_type": "markdown",
   "metadata": {},
   "source": [
    "- `gender` - 51%, примерно равное распределение клиентов мужского и женского пола.\n",
    "- `near_location` - 84% - большая часть клиентов живет или работает в районе, где находится фитнес-клуб.\n",
    "- `partner` - 48% - половина клиентов это сотрудники организаций партнёров и просто работники данного фитнес-клуба. \n",
    "- `promo_friends` - 31% стали клиентами в рамках акции «приведи друга».\n",
    "- `phone` - 90% - большая часть клиентов указали телефон при покупке абонемента.\n",
    "- `contract_period` - 4,7 мес - среднее значение длительности абонемента. Т.к. абонемента с такой продолжительности нет, предположу, что чаще покупают на 6 мес.\n",
    "- `group_visits` - 41% клиентов посещают групповые занятия. \n",
    "- `age` - 29 лет - средний возраст клиентов\n",
    "- `avg_additional_charges_total` - 147 руб выручка от сопутствующих продаж фитнес-клуба.\n",
    "- `month_to_end_contract` - 4,3 мес в среднем осталось до окончания действия абонемента.\n",
    "- `lifetime` - 3,7 мес в среднем прошло с первого посещения фитнес центра.\n",
    "- `avg_class_frequency_total` - примерно 2 посещения в неделю с начала действия абонемента.\n",
    "- `avg_class_frequency_current_month` - примерно 2 посещения в неделю за предыдущий месяц.\n",
    "- `churn` - 26% доля оттока."
   ]
  },
  {
   "cell_type": "markdown",
   "metadata": {},
   "source": [
    "### Расмотреть средние значения признаков в двух группах — тех, кто ушел в отток и тех, кто остался"
   ]
  },
  {
   "cell_type": "code",
   "execution_count": 10,
   "metadata": {},
   "outputs": [
    {
     "data": {
      "text/html": [
       "<div>\n",
       "<style scoped>\n",
       "    .dataframe tbody tr th:only-of-type {\n",
       "        vertical-align: middle;\n",
       "    }\n",
       "\n",
       "    .dataframe tbody tr th {\n",
       "        vertical-align: top;\n",
       "    }\n",
       "\n",
       "    .dataframe thead th {\n",
       "        text-align: right;\n",
       "    }\n",
       "</style>\n",
       "<table border=\"1\" class=\"dataframe\">\n",
       "  <thead>\n",
       "    <tr style=\"text-align: right;\">\n",
       "      <th></th>\n",
       "      <th>Клиенты</th>\n",
       "      <th>Бывшие клиенты</th>\n",
       "    </tr>\n",
       "  </thead>\n",
       "  <tbody>\n",
       "    <tr>\n",
       "      <th>gender</th>\n",
       "      <td>0.510037</td>\n",
       "      <td>0.510839</td>\n",
       "    </tr>\n",
       "    <tr>\n",
       "      <th>near_location</th>\n",
       "      <td>0.873086</td>\n",
       "      <td>0.768143</td>\n",
       "    </tr>\n",
       "    <tr>\n",
       "      <th>partner</th>\n",
       "      <td>0.534195</td>\n",
       "      <td>0.355325</td>\n",
       "    </tr>\n",
       "    <tr>\n",
       "      <th>promo_friends</th>\n",
       "      <td>0.353522</td>\n",
       "      <td>0.183789</td>\n",
       "    </tr>\n",
       "    <tr>\n",
       "      <th>phone</th>\n",
       "      <td>0.903709</td>\n",
       "      <td>0.902922</td>\n",
       "    </tr>\n",
       "    <tr>\n",
       "      <th>contract_period</th>\n",
       "      <td>5.747193</td>\n",
       "      <td>1.728558</td>\n",
       "    </tr>\n",
       "    <tr>\n",
       "      <th>group_visits</th>\n",
       "      <td>0.464103</td>\n",
       "      <td>0.268615</td>\n",
       "    </tr>\n",
       "    <tr>\n",
       "      <th>age</th>\n",
       "      <td>29.976523</td>\n",
       "      <td>26.989632</td>\n",
       "    </tr>\n",
       "    <tr>\n",
       "      <th>avg_additional_charges_total</th>\n",
       "      <td>158.445715</td>\n",
       "      <td>115.082899</td>\n",
       "    </tr>\n",
       "    <tr>\n",
       "      <th>month_to_end_contract</th>\n",
       "      <td>5.283089</td>\n",
       "      <td>1.662582</td>\n",
       "    </tr>\n",
       "    <tr>\n",
       "      <th>lifetime</th>\n",
       "      <td>4.711807</td>\n",
       "      <td>0.990575</td>\n",
       "    </tr>\n",
       "    <tr>\n",
       "      <th>avg_class_frequency_total</th>\n",
       "      <td>2.024876</td>\n",
       "      <td>1.474995</td>\n",
       "    </tr>\n",
       "    <tr>\n",
       "      <th>avg_class_frequency_current_month</th>\n",
       "      <td>2.027882</td>\n",
       "      <td>1.044546</td>\n",
       "    </tr>\n",
       "  </tbody>\n",
       "</table>\n",
       "</div>"
      ],
      "text/plain": [
       "                                      Клиенты  Бывшие клиенты\n",
       "gender                               0.510037        0.510839\n",
       "near_location                        0.873086        0.768143\n",
       "partner                              0.534195        0.355325\n",
       "promo_friends                        0.353522        0.183789\n",
       "phone                                0.903709        0.902922\n",
       "contract_period                      5.747193        1.728558\n",
       "group_visits                         0.464103        0.268615\n",
       "age                                 29.976523       26.989632\n",
       "avg_additional_charges_total       158.445715      115.082899\n",
       "month_to_end_contract                5.283089        1.662582\n",
       "lifetime                             4.711807        0.990575\n",
       "avg_class_frequency_total            2.024876        1.474995\n",
       "avg_class_frequency_current_month    2.027882        1.044546"
      ]
     },
     "execution_count": 10,
     "metadata": {},
     "output_type": "execute_result"
    }
   ],
   "source": [
    "churn = df.groupby('churn').mean()\n",
    "churn = churn.T\n",
    "churn.columns = ['Клиенты', 'Бывшие клиенты']\n",
    "churn"
   ]
  },
  {
   "cell_type": "markdown",
   "metadata": {},
   "source": [
    "- Чаще остаются клиенты, которые живут/работают рядом с фитнес-клубом;\n",
    "- Удержание клиентов выше, если они попали в фитнес-клуб по партнёрской программе;\n",
    "- Те клиенты, которые пришли по акции «приведи друга» остаются чаще;\n",
    "- Посещение групповых занятий влияет на удержание;\n",
    "- Выручка с сопутствующих продаж больше от клиентов, которые не перестали посещать фитнес-клуб;\n",
    "- Клиенты, которые покупают абонементы на 6 мес и год, реже уходят;\n",
    "- Время с момента первого посещения постоянного клиента - 5 мес, а ушедших клиентов - 1 мес. Соответственно, нужно заниматься удержанием новых клиентов;\n",
    "- Среди клиентов, которые остались, число посещений больше, чем у ушедших;\n",
    "- В последний месяц у ушедших клиентов посещаемость ниже. \n",
    "\n",
    "Не влияет на удержание следующие признаки: \n",
    "- Пол клиента;\n",
    "- Наличие телефона клиента в базе;\n",
    "- Возраст клиента."
   ]
  },
  {
   "cell_type": "markdown",
   "metadata": {},
   "source": [
    "### Построить столбчатые гистограммы и распределения признаков для тех, кто ушёл и тех, кто остался"
   ]
  },
  {
   "cell_type": "code",
   "execution_count": 11,
   "metadata": {},
   "outputs": [],
   "source": [
    "# Задам значение тех что ущёл  и остался \n",
    "churn_1 = df.query('churn == 1')\n",
    "churn_0 = df.query('churn == 0')"
   ]
  },
  {
   "cell_type": "code",
   "execution_count": 12,
   "metadata": {},
   "outputs": [
    {
     "data": {
      "image/png": "[encoded data removed]",
      "text/plain": [
       "<Figure size 432x288 with 1 Axes>"
      ]
     },
     "metadata": {
      "needs_background": "light"
     },
     "output_type": "display_data"
    },
    {
     "data": {
      "image/png": "[encoded data removed]",
      "text/plain": [
       "<Figure size 432x288 with 1 Axes>"
      ]
     },
     "metadata": {
      "needs_background": "light"
     },
     "output_type": "display_data"
    },
    {
     "data": {
      "image/png": "[encoded data removed]",
      "text/plain": [
       "<Figure size 432x288 with 1 Axes>"
      ]
     },
     "metadata": {
      "needs_background": "light"
     },
     "output_type": "display_data"
    },
    {
     "data": {
      "image/png": "[encoded data removed]",
      "text/plain": [
       "<Figure size 432x288 with 1 Axes>"
      ]
     },
     "metadata": {
      "needs_background": "light"
     },
     "output_type": "display_data"
    },
    {
     "data": {
      "image/png": "[encoded data removed]",
      "text/plain": [
       "<Figure size 432x288 with 1 Axes>"
      ]
     },
     "metadata": {
      "needs_background": "light"
     },
     "output_type": "display_data"
    },
    {
     "data": {
      "image/png": "[encoded data removed]",
      "text/plain": [
       "<Figure size 432x288 with 1 Axes>"
      ]
     },
     "metadata": {
      "needs_background": "light"
     },
     "output_type": "display_data"
    }
   ],
   "source": [
    "# переменная с столбцами с булевыми значениями \n",
    "bull = ['gender', 'near_location', 'partner', 'promo_friends', 'phone', 'group_visits']\n",
    "\n",
    "for col in bull:\n",
    "    sns.histplot(data=df, x=col, hue='churn')\n",
    "    plt.title(f'Столбчатая гистограмма')\n",
    "    plt.xlabel(f'Признак:  {col}')\n",
    "    plt.ylabel('Количество клиентов')\n",
    "    plt.legend(labels=['Клиенты', 'Бывшие клиенты'])\n",
    "    plt.grid()\n",
    "    plt.show()"
   ]
  },
  {
   "cell_type": "code",
   "execution_count": 13,
   "metadata": {},
   "outputs": [
    {
     "data": {
      "image/png": "[encoded data removed]",
      "text/plain": [
       "<Figure size 432x288 with 1 Axes>"
      ]
     },
     "metadata": {
      "needs_background": "light"
     },
     "output_type": "display_data"
    },
    {
     "data": {
      "image/png": "[encoded data removed]",
      "text/plain": [
       "<Figure size 432x288 with 1 Axes>"
      ]
     },
     "metadata": {
      "needs_background": "light"
     },
     "output_type": "display_data"
    },
    {
     "data": {
      "image/png": "[encoded data removed]",
      "text/plain": [
       "<Figure size 432x288 with 1 Axes>"
      ]
     },
     "metadata": {
      "needs_background": "light"
     },
     "output_type": "display_data"
    },
    {
     "data": {
      "image/png": "[encoded data removed]",
      "text/plain": [
       "<Figure size 432x288 with 1 Axes>"
      ]
     },
     "metadata": {
      "needs_background": "light"
     },
     "output_type": "display_data"
    },
    {
     "data": {
      "image/png": "[encoded data removed]",
      "text/plain": [
       "<Figure size 432x288 with 1 Axes>"
      ]
     },
     "metadata": {
      "needs_background": "light"
     },
     "output_type": "display_data"
    },
    {
     "data": {
      "image/png": "[encoded data removed]",
      "text/plain": [
       "<Figure size 432x288 with 1 Axes>"
      ]
     },
     "metadata": {
      "needs_background": "light"
     },
     "output_type": "display_data"
    },
    {
     "data": {
      "image/png": "[encoded data removed]",
      "text/plain": [
       "<Figure size 432x288 with 1 Axes>"
      ]
     },
     "metadata": {
      "needs_background": "light"
     },
     "output_type": "display_data"
    }
   ],
   "source": [
    "# переменная с численными значениями\n",
    "integ = ['contract_period', 'age', 'avg_additional_charges_total', 'month_to_end_contract', \n",
    "       'lifetime', 'avg_class_frequency_total', 'avg_class_frequency_current_month']\n",
    "\n",
    "for col in integ:\n",
    "    sns.histplot(data=df, x=col, hue='churn')\n",
    "    plt.title(f'Столбчатая гистограмма')\n",
    "    plt.xlabel(f'Признак:  {col}')\n",
    "    plt.ylabel('Количество клиентов')\n",
    "    plt.legend(labels=['Клиенты', 'Бывшие клиенты'])\n",
    "    plt.grid()\n",
    "    plt.show()"
   ]
  },
  {
   "cell_type": "markdown",
   "metadata": {},
   "source": [
    "### Построить матрицу корреляций"
   ]
  },
  {
   "cell_type": "code",
   "execution_count": 14,
   "metadata": {},
   "outputs": [
    {
     "data": {
      "image/png": "[encoded data removed]",
      "text/plain": [
       "<Figure size 1008x720 with 2 Axes>"
      ]
     },
     "metadata": {
      "needs_background": "light"
     },
     "output_type": "display_data"
    }
   ],
   "source": [
    "plt.figure(figsize=(14, 10))\n",
    "sns.heatmap(df.corr(), annot = True, cmap='Blues')\n",
    "plt.title(f'Матрица корреляций')\n",
    "plt.xlabel('Признак')\n",
    "plt.ylabel('Признак')\n",
    "plt.show()"
   ]
  },
  {
   "cell_type": "markdown",
   "metadata": {},
   "source": [
    "На матрице корреляции видно две зависимости: \n",
    "- Срок до окончания текущего действующего абонемента (month_to_end_contract) и длительность текущего абонемента (contract_period)\n",
    "- Средняя частота посещений в неделю за все время с начала действия абонемента; (avg_class_frequency_total) и средняя частота посещений в неделю за предыдущий месяц (avg_class_frequency_current_month)\n",
    "\n",
    "____"
   ]
  },
  {
   "cell_type": "markdown",
   "metadata": {},
   "source": [
    "##  3. Исследование моделей прогнозирования оттока клиентов"
   ]
  },
  {
   "cell_type": "code",
   "execution_count": 15,
   "metadata": {},
   "outputs": [],
   "source": [
    "# Выделю признаки\n",
    "X = df.drop('churn', axis=1)\n",
    "y = df['churn']"
   ]
  },
  {
   "cell_type": "code",
   "execution_count": 16,
   "metadata": {},
   "outputs": [],
   "source": [
    "# Разделю данные на обучающую и валидационную выборки\n",
    "X_train, X_test, y_train, y_test = train_test_split(X, y, test_size=0.2, random_state=0)"
   ]
  },
  {
   "cell_type": "code",
   "execution_count": 17,
   "metadata": {},
   "outputs": [
    {
     "name": "stdout",
     "output_type": "stream",
     "text": [
      "------------------------------\n",
      "Размер обучающей выборки: 80%\n",
      "Размер тестовой выборки: 20%\n",
      "------------------------------\n"
     ]
    }
   ],
   "source": [
    "print('------------------------------')\n",
    "print(f'Размер обучающей выборки: {X_train.shape[0]/len(df):.0%}')\n",
    "print(f'Размер тестовой выборки: {X_test.shape[0]/len(df):.0%}')\n",
    "print('------------------------------')"
   ]
  },
  {
   "cell_type": "code",
   "execution_count": 18,
   "metadata": {},
   "outputs": [],
   "source": [
    "# стандартизируем данные \n",
    "scaler = StandardScaler()\n",
    "scaler.fit(X_train)\n",
    "\n",
    "X_train_st = scaler.transform(X_train) \n",
    "X_test_st = scaler.transform(X_test) "
   ]
  },
  {
   "cell_type": "markdown",
   "metadata": {},
   "source": [
    "#### LogisticRegression"
   ]
  },
  {
   "cell_type": "code",
   "execution_count": 19,
   "metadata": {},
   "outputs": [
    {
     "name": "stdout",
     "output_type": "stream",
     "text": [
      "---Линейная регрессия---\n",
      "Accuracy: 0.922\n",
      "Precision: 0.854\n",
      "Recall: 0.828\n",
      "--------------------------------------------------\n",
      "CPU times: user 0 ns, sys: 109 ms, total: 109 ms\n",
      "Wall time: 22.4 ms\n"
     ]
    }
   ],
   "source": [
    "%%time \n",
    "\n",
    "model_lr = LogisticRegression(random_state=0)\n",
    "model_lr.fit(X_train_st, y_train)\n",
    "pred_lr = model_lr.predict(X_test_st)\n",
    "\n",
    "print('---Линейная регрессия---')\n",
    "print('Accuracy:', round(accuracy_score(y_test, pred_lr), 3))\n",
    "print('Precision:', round(precision_score(y_test, pred_lr), 3))\n",
    "print('Recall:', round(recall_score(y_test, pred_lr), 3))\n",
    "print('--------------------------------------------------')"
   ]
  },
  {
   "cell_type": "markdown",
   "metadata": {},
   "source": [
    "#### RandomForestClassifier"
   ]
  },
  {
   "cell_type": "code",
   "execution_count": null,
   "metadata": {},
   "outputs": [],
   "source": [
    "%%time \n",
    "\n",
    "model_rfc = RandomForestClassifier(random_state=0)\n",
    "param_rfc = {'max_depth': range (1, 20), 'n_estimators': range(50, 110)}\n",
    "\n",
    "model_rfc = GridSearchCV(model_rfc, param_grid=param_rfc, cv=5)\n",
    "model_rfc.fit(X_train_st, y_train)\n",
    "print('Лучшие параметры:', model_rfc.best_params_)"
   ]
  },
  {
   "cell_type": "code",
   "execution_count": null,
   "metadata": {},
   "outputs": [],
   "source": [
    "%%time \n",
    "\n",
    "model_rfc = RandomForestClassifier(random_state=0, max_depth = 19, n_estimators=101)\n",
    "model_rfc.fit(X_train_st, y_train)\n",
    "pred_rfc = model_rfc.predict(X_test_st)\n",
    "\n",
    "print('---Случайный лес---')\n",
    "print('Accuracy:', round(accuracy_score(y_test, pred_rfc), 3))\n",
    "print('Precision:', round(precision_score(y_test, pred_rfc), 3))\n",
    "print('Recall:', round(recall_score(y_test, pred_rfc), 3))\n",
    "print('--------------------------------------------------')"
   ]
  },
  {
   "cell_type": "markdown",
   "metadata": {},
   "source": [
    "**Вывод**\n",
    "\n",
    "- Доля правильных ответов **accuracy** выше у модели `LogisticRegression`- 0.922 (`RandomForestClassifier` - 0.916);\n",
    "- Точность **precision** выше у модели `LogisticRegression`- 0.854 (`RandomForestClassifier` - 0.839);\n",
    "- Полнота данных **recall** больше у модели `LogisticRegression`- 0.828 (`RandomForestClassifier` - 0.818).\n",
    "\n",
    "Обе модели показали себя хорошо, но с небольшим отрывом результат метрик `LogisticRegression` после обучения - лучше.\n",
    "Модель `LogisticRegression` больше подойдёт для прогнозирования оттока клиентов.\n",
    "\n",
    "____"
   ]
  },
  {
   "cell_type": "markdown",
   "metadata": {},
   "source": [
    "## 4. Кластеризация клиентов фитнес-центра"
   ]
  },
  {
   "cell_type": "code",
   "execution_count": null,
   "metadata": {},
   "outputs": [],
   "source": [
    "# стандартизируем данные \n",
    "X_sc = scaler.fit_transform(X)\n",
    "linked = linkage(X_sc, method = 'ward') "
   ]
  },
  {
   "cell_type": "markdown",
   "metadata": {},
   "source": [
    "### Построить дендрограмму"
   ]
  },
  {
   "cell_type": "code",
   "execution_count": null,
   "metadata": {},
   "outputs": [],
   "source": [
    "%%time \n",
    "\n",
    "# Отображу дендрограмму\n",
    "plt.figure(figsize=(15, 10))  \n",
    "dendrogram(linked, orientation='top')\n",
    "plt.title('Дендрограмма кластеризации клиентов фитнес-центра')\n",
    "plt.show() "
   ]
  },
  {
   "cell_type": "markdown",
   "metadata": {},
   "source": [
    "Судя по дендограмме оптимальное число кластеров - **5**"
   ]
  },
  {
   "cell_type": "markdown",
   "metadata": {},
   "source": [
    "### Обучить модель кластеризации на основании алгоритма K-Means и спрогнозировать кластеры клиентов "
   ]
  },
  {
   "cell_type": "code",
   "execution_count": null,
   "metadata": {},
   "outputs": [],
   "source": [
    "# задам модель k_means с числом кластеров 5\n",
    "km = KMeans(n_clusters = 5, random_state = 0)\n",
    "\n",
    "# прогнозирую кластеры для наблюдений (алгоритм присваивает им номера от 0 до 4)\n",
    "labels = km.fit_predict(X_sc)\n",
    "\n",
    "# сохраню метки кластера в поле нашего датасета\n",
    "df['cluster_km'] = labels\n",
    "\n",
    "# Выведу среднее значение для кластеров\n",
    "display(df.groupby(['cluster_km']).mean().T)\n",
    "\n",
    "# Рассчитаю количество ушедших клиентов и долю оттока\n",
    "leav_club = df.query('churn == 1').groupby('cluster_km').agg({'churn':'count'}).reset_index()\n",
    "leav_club['%'] = leav_club['churn'] / (leav_club['churn'].sum()) * 100\n",
    "\n",
    "display(leav_club.T)"
   ]
  },
  {
   "cell_type": "markdown",
   "metadata": {},
   "source": [
    "___\n",
    "\n",
    "**Кластер 0**\n",
    "- Работают/живут недалеко от фитнес-клуба - 95%;\n",
    "- Занимаются по программе лояльности - 78%;\n",
    "- Клиенты данного кластера чаще приходят по акции «приведи друга» - 57% (возможно сами приводят друзей по данной программе);\n",
    "- Чаще покупают абонемент длительностью - 1 год;\n",
    "- Чаще посещают групповые занятия - 54%;\n",
    "- С данных клиентов больше выручка с сопутствующих продаж - 160 руб;\n",
    "- Посещают фитнес-клуб примерно 2 раза в неделю;\n",
    "- **Отток 2%**\n",
    "___\n",
    "\n",
    "**Кластер 1**\n",
    "- Работают/живут недалеко от фитнес-клуба - 86%;\n",
    "- 47% занимаются по программе лояльности;\n",
    "- 30% пришли по акции «приведи друга»;\n",
    "- Чаще не указывают номер телефона;\n",
    "- Абонемент в среднем на 4,7 мес\n",
    "- 42% посещают групповые занятия;\n",
    "- Доход с сопутствующих продаж ~143 руб;\n",
    "- Посещают фитнес-клуб примерно 2 раза в неделю;\n",
    "- **Отток 26%**\n",
    "\n",
    "____\n",
    "**Кластер 2**\n",
    "- Клиенты живут/работают очень далеко от фитнес-клуба;\n",
    "- 46% занимаются по программе лояльности;\n",
    "- всего 8% пришли по акции «приведи друга»;\n",
    "- Абонемент в среднем 2,3 мес;\n",
    "- 21% посещают групповые занятия;\n",
    "- Доход с сопутствующих продаж ~135 руб;\n",
    "- Посещают фитнес-клуб в среднем 1,5 раза в неделю;\n",
    "- **Отток 44%**\n",
    "____\n",
    "**Кластер 3**\n",
    "- 100% проживают/работают рядом с фитнес-клубом;\n",
    "- 35% занимаются по программе лояльности;\n",
    "- 24% пришли по акции «приведи друга»;\n",
    "- Абонемент в среднем на 1,9 мес;\n",
    "- 34% посещают групповые занятия;\n",
    "- Доход с сопутствующих продаж ~131 руб;\n",
    "- Посещают фитнес-клуб примерно 1 раза в неделю;\n",
    "- **Отток 51%**\n",
    "____\n",
    "**Кластер 4**\n",
    "- Работают/живут недалеко от фитнес-клуба - 97%;\n",
    "- 35% занимаются по программе лояльности;\n",
    "- 23% пришли по акции «приведи друга»;\n",
    "- Абонемент в среднем на 2,6 мес;\n",
    "- 47% посещают групповые занятия;\n",
    "- Доход с сопутствующих продаж ~161 руб;\n",
    "- Посещают фитнес-клуб примерно 3 раза в неделю;\n",
    "- **Отток 6%**\n",
    "\n",
    "____"
   ]
  },
  {
   "cell_type": "markdown",
   "metadata": {},
   "source": [
    "### Построить распределения признаков для кластеров"
   ]
  },
  {
   "cell_type": "code",
   "execution_count": null,
   "metadata": {},
   "outputs": [],
   "source": [
    "df_cl= df.groupby(['cluster_km', 'churn']).mean().reset_index()\n",
    "\n",
    "bull = ['gender', 'near_location', 'partner', 'promo_friends', 'phone', 'group_visits']\n",
    "\n",
    "for col in bull:\n",
    "    sns.barplot(data=df_cl, x='cluster_km', y=col, hue='churn', palette='Blues')\n",
    "    plt.title(f'Столбчатая гистограмма')\n",
    "    plt.xlabel(f'Признак:  {col}')\n",
    "    plt.ylabel('Количество клиентов')\n",
    "    plt.grid()\n",
    "    plt.show()"
   ]
  },
  {
   "cell_type": "code",
   "execution_count": null,
   "metadata": {},
   "outputs": [],
   "source": [
    "# переменная с численными значениями\n",
    "integ = ['contract_period', 'age', 'avg_additional_charges_total', 'month_to_end_contract', \n",
    "       'lifetime', 'avg_class_frequency_total', 'avg_class_frequency_current_month']\n",
    "\n",
    "for col in integ:\n",
    "    sns.displot(data=df, x=col, hue='cluster_km', kind='hist', height=5, aspect=1.2, palette='mako')\n",
    "    plt.title(f'Столбчатая гистограмма')\n",
    "    plt.xlabel(f'Признак:  {col}')\n",
    "    plt.ylabel('Количество клиентов')\n",
    "    plt.grid()\n",
    "    plt.show()"
   ]
  },
  {
   "cell_type": "markdown",
   "metadata": {},
   "source": [
    "После исследования выделю два кластера с наибольшим оттоком: 2 и 3\n",
    "\n",
    "Для этих кластеров характерно: \n",
    "- Чаще всех приобретает абонемент на короткий срок - 1 мес;\n",
    "- Мало посещают групповые занятия;\n",
    "- Реже приходят в клуб по акции «приведи друга»;\n",
    "- Посещают клуб меньше 2 раз в неделю"
   ]
  },
  {
   "cell_type": "markdown",
   "metadata": {},
   "source": [
    "## Посчитать долю оттока "
   ]
  },
  {
   "cell_type": "code",
   "execution_count": null,
   "metadata": {},
   "outputs": [],
   "source": [
    "df.groupby(['cluster_km'])['churn'].sum()/(df.groupby(['cluster_km'])['churn'].count()) * 100"
   ]
  },
  {
   "cell_type": "markdown",
   "metadata": {},
   "source": [
    "## 5. Общие выводы"
   ]
  },
  {
   "cell_type": "markdown",
   "metadata": {},
   "source": [
    "1. В ходе исследования загрузили данные таблицы gym_churn и подготовили их к анализу, сделав следующее: \n",
    "\n",
    "    - Привели названия столбцов к нижнему регистру;\n",
    "    - Заменили тип данных в столбце 'month_to_end_contract' на int;\n",
    "    - Проверили данные на наличие явных дубликатов и пропусков\n",
    "    \n",
    "2. Провели исследовательский анализ данных (EDA)\n",
    "\n",
    "    - Изучили средние значения признаков в двух группах — тех, кто ушел в отток и тех, кто остался;\n",
    "    - Построили столбчатые гистограммы и распределения признаков для тех, кто ушёл и тех, кто остался;\n",
    "    - Построили матрицу корреляций и отобразили её.\n",
    "    \n",
    "    \n",
    "3. Обучить модели `LogisticRegression` и `RandomForestClassifier` для прогнозирования оттока клиентов, используя следующие метрики  *accuracy*, *precision* и *recall*: \n",
    "\n",
    "`LogisticRegression`\n",
    "\n",
    "    - Accuracy: 0.922\n",
    "    - Precision: 0.854\n",
    "    - Recall: 0.828\n",
    "\n",
    "`RandomForestClassifier`\n",
    "\n",
    "    - Accuracy: 0.916\n",
    "    - Precision: 0.839\n",
    "    - Recall: 0.818\n",
    "\n",
    "Обе модели показали себя хорошо, но с небольшим отрывом результат метрик LogisticRegression после обучения - лучше. Модель LogisticRegression больше подойдёт для прогнозирования оттока клиентов.\n",
    "\n",
    "4. Провели кластеризацию клиентов\n",
    "\n",
    "Обучили  модель кластеризации на основании алгоритма K-Means и выявили 5 основных кластеров клиентов:\n",
    "\n",
    "**Кластер 0**\n",
    "- Работают/живут недалеко от фитнес-клуба - 95%;\n",
    "- Занимаются по по программе лояльности - 78%;\n",
    "- Клиенты данного кластера чаще приходят по акции «приведи друга» - 57% (возможно сами приводят друзей по данной программе);\n",
    "- Чаще покупают абонемент длительностью - 1 год;\n",
    "- Чаще посещают групповые занятия - 54%;\n",
    "- С данных клиентов больше выручка с сопутствующих продаж - 160 руб;\n",
    "- Посещают фитнес-клуб примерно 2 раза в неделю;\n",
    "- **Отток 2%**\n",
    "\n",
    "**Кластер 1**\n",
    "- Работают/живут недалеко от фитнес-клуба - 86%;\n",
    "- 47% занимаются по программе лояльности;\n",
    "- 30% пришли по акции «приведи друга»;\n",
    "- Чаще не указывают номер телефона;\n",
    "- Абонемент в среднем на 4,7 мес\n",
    "- 42% посещают групповые занятия;\n",
    "- Доход с сопутствующих продаж ~143 руб;\n",
    "- Посещают фитнес-клуб примерно 2 раза в неделю;\n",
    "- **Отток 26%**\n",
    "\n",
    "**Кластер 2**\n",
    "- Клиенты живут/работают очень далеко от фитнес-клуба;\n",
    "- 46% занимаются по программе лояльности;\n",
    "- всего 8% пришли по акции «приведи друга»;\n",
    "- Абонемент в среднем 2,3 мес;\n",
    "- 21% посещают групповые занятия;\n",
    "- Доход с сопутствующих продаж ~135 руб;\n",
    "- Посещают фитнес-клуб в среднем 1,5 раза в неделю;\n",
    "- **Отток 44%**\n",
    "\n",
    "**Кластер 3**\n",
    "- 100% проживают/работают рядом с фитнес-клубом;\n",
    "- 35% занимаются по программе лояльности;\n",
    "- 24% пришли по акции «приведи друга»;\n",
    "- Абонемент в среднем на 1,9 мес;\n",
    "- 34% посещают групповые занятия;\n",
    "- Доход с сопутствующих продаж ~131 руб;\n",
    "- Посещают фитнес-клуб примерно 1 раза в неделю;\n",
    "- **Отток 51%**\n",
    "\n",
    "**Кластер 4**\n",
    "- Работают/живут недалеко от фитнес-клуба - 97%;\n",
    "- 35% занимаются по программе лояльности;\n",
    "- 23% пришли по акции «приведи друга»;\n",
    "- Абонемент в среднем на 2,6 мес;\n",
    "- 47% посещают групповые занятия;\n",
    "- Доход с сопутствующих продаж ~161 руб;\n",
    "- Посещают фитнес-клуб примерно 3 раза в неделю;\n",
    "- **Отток 6%**\n",
    "___\n",
    "\n",
    "🔴После исследования выделим два кластера с наибольшим оттоком: 2 и 3🔴\n",
    "\n",
    "Для этих кластеров характерно: \n",
    "- Чаще всех приобретает абонемент на короткий срок - 1 мес;\n",
    "- Мало посещают групповые занятия;\n",
    "- Реже приходят в клуб по акции «приведи друга»;\n",
    "- Посещают клуб меньше 2 раз в неделю\n",
    "\n",
    "🟢Так же обозначу характеристика кластеров 0 и 4, где удержание клиентов выше:🟢\n",
    "- Проживают/работают рядом с фитнес-клубом;\n",
    "- Клиент занимается по программе лояльности;\n",
    "- Преобретают абонементы длительностью от 6 мес включительно;\n",
    "- Часто посещают групповые занятия;\n",
    "- Ходят на тренировку 2-3 раза в неделю"
   ]
  },
  {
   "cell_type": "markdown",
   "metadata": {},
   "source": [
    "## Рекомендации"
   ]
  },
  {
   "cell_type": "markdown",
   "metadata": {},
   "source": [
    "- Предлагать новым клиентам скидки на абонементы длительностью 6 и 12 мес (т.к. они стоят на порядок дороже абонемента на 1 мес, потраченные деньги станут дополнительным стимулом для посещения зала);\n",
    "\n",
    "\n",
    "- Создать систему бонусов за посещение зала для дополнительной мотивации. Например, за одно посещение начислять баллы на счет клиента для приобретения сопутствующих товаров в фитнес-клубе: спортпит, несколько походов в солярий и т.д.;\n",
    "\n",
    "\n",
    "- Подумать над увеличением количества организаций-партнёров, т.к. удержание и отдача клиентов, которые приходят по этой программе крайне положительные;\n",
    "\n",
    "\n",
    "- Изучить вопрос, \"Почему бывшие клиенты редко посещали групповые занятия?\". Возможно дело в цене за посещение, малом разнообразии типов групповых занятий или времени в котором они проходят;\n",
    "\n",
    "\n",
    "- Среди тех, кто приходят в клуб по акции «приведи друга» - хорошая динамика. Стоит попытаться разработать программу вознаграждения для тех, кто приводит друзей в зал (Допустим клиент получает денежное вознаграждение за то что привёл друга в 1000р или дополнительный 1 мес. занятий), думаю, что это положительно повлияет на удержание.\n",
    "\n",
    "\n",
    "На примере исследования прослеживается самая подверженная оттокам группа - новички, те, кто приобретает абонемент на 1 мес. Необходимо стимулировать данных клиентов дополнительными скидками, акциями, бонусами. Не стоит так же забывать клиентов, которые давно посещают зал."
   ]
  }
 ],
 "metadata": {
  "ExecuteTimeLog": [
   {
    "duration": 1521,
    "start_time": "2022-11-28T11:24:34.411Z"
   },
   {
    "duration": 163,
    "start_time": "2022-11-28T11:24:35.934Z"
   },
   {
    "duration": 15,
    "start_time": "2022-11-28T11:24:48.623Z"
   },
   {
    "duration": 1616,
    "start_time": "2022-11-29T11:51:21.234Z"
   },
   {
    "duration": 94,
    "start_time": "2022-11-29T11:51:22.852Z"
   },
   {
    "duration": 17,
    "start_time": "2022-11-29T11:51:22.948Z"
   },
   {
    "duration": 22,
    "start_time": "2022-11-29T12:10:53.695Z"
   },
   {
    "duration": 61,
    "start_time": "2022-11-29T12:11:53.056Z"
   },
   {
    "duration": 44,
    "start_time": "2022-11-29T12:11:58.268Z"
   },
   {
    "duration": 19,
    "start_time": "2022-11-29T12:12:10.699Z"
   },
   {
    "duration": 32,
    "start_time": "2022-11-29T12:12:23.267Z"
   },
   {
    "duration": 21,
    "start_time": "2022-11-29T12:12:28.888Z"
   },
   {
    "duration": 21,
    "start_time": "2022-11-29T12:15:33.907Z"
   },
   {
    "duration": 46,
    "start_time": "2022-11-29T12:16:25.477Z"
   },
   {
    "duration": 1333,
    "start_time": "2022-11-29T12:18:47.030Z"
   },
   {
    "duration": 56,
    "start_time": "2022-11-29T12:18:48.365Z"
   },
   {
    "duration": 24,
    "start_time": "2022-11-29T12:18:48.423Z"
   },
   {
    "duration": 43,
    "start_time": "2022-11-29T12:18:48.448Z"
   },
   {
    "duration": 109,
    "start_time": "2022-11-29T13:29:14.757Z"
   },
   {
    "duration": 9,
    "start_time": "2022-11-29T13:29:22.534Z"
   },
   {
    "duration": 4,
    "start_time": "2022-11-29T13:29:27.414Z"
   },
   {
    "duration": 9,
    "start_time": "2022-11-29T13:29:38.027Z"
   },
   {
    "duration": 9,
    "start_time": "2022-11-29T13:29:50.226Z"
   },
   {
    "duration": 1446,
    "start_time": "2022-11-29T13:30:03.740Z"
   },
   {
    "duration": 70,
    "start_time": "2022-11-29T13:30:05.188Z"
   },
   {
    "duration": 25,
    "start_time": "2022-11-29T13:30:05.259Z"
   },
   {
    "duration": 47,
    "start_time": "2022-11-29T13:30:05.286Z"
   },
   {
    "duration": 14,
    "start_time": "2022-11-29T13:30:05.335Z"
   },
   {
    "duration": 20,
    "start_time": "2022-11-29T13:30:05.351Z"
   },
   {
    "duration": 1475,
    "start_time": "2022-11-29T13:32:04.996Z"
   },
   {
    "duration": 60,
    "start_time": "2022-11-29T13:32:06.474Z"
   },
   {
    "duration": 27,
    "start_time": "2022-11-29T13:32:06.535Z"
   },
   {
    "duration": 48,
    "start_time": "2022-11-29T13:32:06.563Z"
   },
   {
    "duration": 122,
    "start_time": "2022-11-29T13:32:06.614Z"
   },
   {
    "duration": 0,
    "start_time": "2022-11-29T13:32:06.738Z"
   },
   {
    "duration": 10,
    "start_time": "2022-11-29T13:32:11.628Z"
   },
   {
    "duration": 9,
    "start_time": "2022-11-29T13:32:20.825Z"
   },
   {
    "duration": 1430,
    "start_time": "2022-11-29T13:32:26.742Z"
   },
   {
    "duration": 64,
    "start_time": "2022-11-29T13:32:28.174Z"
   },
   {
    "duration": 26,
    "start_time": "2022-11-29T13:32:28.239Z"
   },
   {
    "duration": 47,
    "start_time": "2022-11-29T13:32:28.267Z"
   },
   {
    "duration": 3,
    "start_time": "2022-11-29T13:32:28.316Z"
   },
   {
    "duration": 17,
    "start_time": "2022-11-29T13:32:28.321Z"
   },
   {
    "duration": 7,
    "start_time": "2022-11-29T14:07:28.782Z"
   },
   {
    "duration": 7,
    "start_time": "2022-11-29T14:08:33.545Z"
   },
   {
    "duration": 106,
    "start_time": "2022-11-29T14:11:17.184Z"
   },
   {
    "duration": 9,
    "start_time": "2022-11-29T14:11:25.097Z"
   },
   {
    "duration": 12,
    "start_time": "2022-11-29T17:17:26.369Z"
   },
   {
    "duration": 10,
    "start_time": "2022-11-29T17:23:51.980Z"
   },
   {
    "duration": 1380,
    "start_time": "2022-11-29T18:47:31.886Z"
   },
   {
    "duration": 70,
    "start_time": "2022-11-29T18:47:33.268Z"
   },
   {
    "duration": 17,
    "start_time": "2022-11-29T18:47:33.339Z"
   },
   {
    "duration": 13,
    "start_time": "2022-11-29T18:47:33.358Z"
   },
   {
    "duration": 3,
    "start_time": "2022-11-29T18:47:33.373Z"
   },
   {
    "duration": 12,
    "start_time": "2022-11-29T18:47:33.378Z"
   },
   {
    "duration": 45,
    "start_time": "2022-11-29T18:47:33.392Z"
   },
   {
    "duration": 12,
    "start_time": "2022-11-29T18:47:33.438Z"
   },
   {
    "duration": 8,
    "start_time": "2022-11-29T18:47:33.452Z"
   },
   {
    "duration": 12,
    "start_time": "2022-11-29T18:48:56.305Z"
   },
   {
    "duration": 8,
    "start_time": "2022-11-29T18:49:48.108Z"
   },
   {
    "duration": 17,
    "start_time": "2022-11-29T18:49:54.245Z"
   },
   {
    "duration": 12,
    "start_time": "2022-11-29T18:50:01.728Z"
   },
   {
    "duration": 321,
    "start_time": "2022-11-29T19:35:59.656Z"
   },
   {
    "duration": 554,
    "start_time": "2022-11-29T19:36:08.996Z"
   },
   {
    "duration": 461,
    "start_time": "2022-11-29T19:36:22.767Z"
   },
   {
    "duration": 471,
    "start_time": "2022-11-29T19:37:19.428Z"
   },
   {
    "duration": 110,
    "start_time": "2022-11-29T19:38:19.333Z"
   },
   {
    "duration": 13,
    "start_time": "2022-11-29T19:39:36.724Z"
   },
   {
    "duration": 16,
    "start_time": "2022-11-29T19:39:52.806Z"
   },
   {
    "duration": 11,
    "start_time": "2022-11-29T19:40:24.857Z"
   },
   {
    "duration": 12,
    "start_time": "2022-11-29T19:42:23.030Z"
   },
   {
    "duration": 16,
    "start_time": "2022-11-29T19:42:27.904Z"
   },
   {
    "duration": 8,
    "start_time": "2022-11-29T19:45:19.874Z"
   },
   {
    "duration": 8,
    "start_time": "2022-11-29T19:55:29.542Z"
   },
   {
    "duration": 3257,
    "start_time": "2022-11-29T19:59:31.202Z"
   },
   {
    "duration": 49,
    "start_time": "2022-11-29T20:00:42.884Z"
   },
   {
    "duration": 9,
    "start_time": "2022-11-29T20:01:30.110Z"
   },
   {
    "duration": 9,
    "start_time": "2022-11-29T20:02:00.526Z"
   },
   {
    "duration": 13,
    "start_time": "2022-11-29T20:04:13.642Z"
   },
   {
    "duration": 12,
    "start_time": "2022-11-29T20:05:36.400Z"
   },
   {
    "duration": 12,
    "start_time": "2022-11-29T20:05:53.225Z"
   },
   {
    "duration": 13,
    "start_time": "2022-11-29T20:06:12.630Z"
   },
   {
    "duration": 15,
    "start_time": "2022-11-29T20:06:31.096Z"
   },
   {
    "duration": 3295,
    "start_time": "2022-11-29T20:08:11.748Z"
   },
   {
    "duration": 3191,
    "start_time": "2022-11-29T20:09:07.125Z"
   },
   {
    "duration": 21,
    "start_time": "2022-11-29T20:09:43.915Z"
   },
   {
    "duration": 14,
    "start_time": "2022-11-29T20:10:37.357Z"
   },
   {
    "duration": 12,
    "start_time": "2022-11-29T20:10:51.729Z"
   },
   {
    "duration": 12,
    "start_time": "2022-11-29T20:11:35.462Z"
   },
   {
    "duration": 3261,
    "start_time": "2022-11-29T20:11:42.538Z"
   },
   {
    "duration": 12,
    "start_time": "2022-11-29T20:12:38.634Z"
   },
   {
    "duration": 8,
    "start_time": "2022-11-29T20:12:42.244Z"
   },
   {
    "duration": 4468,
    "start_time": "2022-11-29T20:12:44.229Z"
   },
   {
    "duration": 24,
    "start_time": "2022-11-29T20:15:35.818Z"
   },
   {
    "duration": 46,
    "start_time": "2022-11-29T20:17:08.142Z"
   },
   {
    "duration": 63,
    "start_time": "2022-11-29T20:17:18.472Z"
   },
   {
    "duration": 52,
    "start_time": "2022-11-29T20:18:00.117Z"
   },
   {
    "duration": 47,
    "start_time": "2022-11-29T20:18:20.493Z"
   },
   {
    "duration": 50,
    "start_time": "2022-11-29T20:19:30.933Z"
   },
   {
    "duration": 53,
    "start_time": "2022-11-29T20:19:35.382Z"
   },
   {
    "duration": 50,
    "start_time": "2022-11-29T20:19:48.484Z"
   },
   {
    "duration": 1678,
    "start_time": "2022-11-29T20:20:09.708Z"
   },
   {
    "duration": 1451,
    "start_time": "2022-11-29T20:20:28.341Z"
   },
   {
    "duration": 1700,
    "start_time": "2022-11-30T12:07:30.794Z"
   },
   {
    "duration": 176,
    "start_time": "2022-11-30T12:07:32.496Z"
   },
   {
    "duration": 18,
    "start_time": "2022-11-30T12:07:32.674Z"
   },
   {
    "duration": 15,
    "start_time": "2022-11-30T12:07:32.694Z"
   },
   {
    "duration": 5,
    "start_time": "2022-11-30T12:07:32.710Z"
   },
   {
    "duration": 13,
    "start_time": "2022-11-30T12:07:32.717Z"
   },
   {
    "duration": 62,
    "start_time": "2022-11-30T12:07:32.732Z"
   },
   {
    "duration": 12,
    "start_time": "2022-11-30T12:07:32.796Z"
   },
   {
    "duration": 11,
    "start_time": "2022-11-30T12:07:32.810Z"
   },
   {
    "duration": 31,
    "start_time": "2022-11-30T12:07:32.824Z"
   },
   {
    "duration": 11,
    "start_time": "2022-11-30T12:07:32.858Z"
   },
   {
    "duration": 3683,
    "start_time": "2022-11-30T12:07:32.871Z"
   },
   {
    "duration": 4608,
    "start_time": "2022-11-30T12:07:36.556Z"
   },
   {
    "duration": 1592,
    "start_time": "2022-11-30T12:07:41.165Z"
   },
   {
    "duration": 1702,
    "start_time": "2023-01-17T09:53:20.170Z"
   },
   {
    "duration": 156,
    "start_time": "2023-01-17T09:53:21.875Z"
   },
   {
    "duration": 19,
    "start_time": "2023-01-17T09:53:22.033Z"
   },
   {
    "duration": 19,
    "start_time": "2023-01-17T09:53:22.053Z"
   },
   {
    "duration": 3,
    "start_time": "2023-01-17T09:53:22.077Z"
   },
   {
    "duration": 25,
    "start_time": "2023-01-17T09:53:22.081Z"
   },
   {
    "duration": 53,
    "start_time": "2023-01-17T09:53:22.108Z"
   },
   {
    "duration": 13,
    "start_time": "2023-01-17T09:53:22.163Z"
   },
   {
    "duration": 9,
    "start_time": "2023-01-17T09:53:22.177Z"
   },
   {
    "duration": 19,
    "start_time": "2023-01-17T09:53:22.187Z"
   },
   {
    "duration": 33,
    "start_time": "2023-01-17T09:53:22.208Z"
   },
   {
    "duration": 3373,
    "start_time": "2023-01-17T09:53:22.243Z"
   },
   {
    "duration": 4531,
    "start_time": "2023-01-17T09:53:25.617Z"
   },
   {
    "duration": 1549,
    "start_time": "2023-01-17T09:53:30.150Z"
   },
   {
    "duration": 4,
    "start_time": "2023-01-17T09:53:31.702Z"
   },
   {
    "duration": 141,
    "start_time": "2023-01-17T09:53:31.707Z"
   },
   {
    "duration": 10,
    "start_time": "2023-01-17T09:54:13.046Z"
   },
   {
    "duration": 4,
    "start_time": "2023-01-17T09:54:41.389Z"
   },
   {
    "duration": 6,
    "start_time": "2023-01-17T09:54:44.603Z"
   },
   {
    "duration": 4,
    "start_time": "2023-01-17T09:55:11.230Z"
   },
   {
    "duration": 4,
    "start_time": "2023-01-17T09:55:47.234Z"
   },
   {
    "duration": 10,
    "start_time": "2023-01-17T10:17:32.853Z"
   },
   {
    "duration": 55,
    "start_time": "2023-01-17T10:26:54.044Z"
   },
   {
    "duration": 179,
    "start_time": "2023-01-17T10:28:23.063Z"
   },
   {
    "duration": 4,
    "start_time": "2023-01-17T10:28:57.637Z"
   },
   {
    "duration": 215,
    "start_time": "2023-01-17T10:29:01.430Z"
   },
   {
    "duration": 202,
    "start_time": "2023-01-17T10:29:16.239Z"
   },
   {
    "duration": 5,
    "start_time": "2023-01-17T10:30:27.526Z"
   },
   {
    "duration": 101,
    "start_time": "2023-01-17T10:30:32.043Z"
   },
   {
    "duration": 43,
    "start_time": "2023-01-17T10:31:12.607Z"
   },
   {
    "duration": 120,
    "start_time": "2023-01-17T10:31:22.917Z"
   },
   {
    "duration": 109,
    "start_time": "2023-01-17T12:01:56.128Z"
   },
   {
    "duration": 133,
    "start_time": "2023-01-17T12:02:49.604Z"
   },
   {
    "duration": 139,
    "start_time": "2023-01-17T12:03:22.198Z"
   },
   {
    "duration": 55,
    "start_time": "2023-01-17T12:20:16.491Z"
   },
   {
    "duration": 68,
    "start_time": "2023-01-17T12:21:52.387Z"
   },
   {
    "duration": 5,
    "start_time": "2023-01-17T12:22:11.370Z"
   },
   {
    "duration": 57,
    "start_time": "2023-01-17T12:22:21.825Z"
   },
   {
    "duration": 58,
    "start_time": "2023-01-17T12:22:50.116Z"
   },
   {
    "duration": 48465,
    "start_time": "2023-01-17T12:23:29.002Z"
   },
   {
    "duration": 394675,
    "start_time": "2023-01-17T12:33:48.231Z"
   },
   {
    "duration": 141478,
    "start_time": "2023-01-17T12:42:14.877Z"
   },
   {
    "duration": 107,
    "start_time": "2023-01-17T12:47:54.228Z"
   },
   {
    "duration": 1412,
    "start_time": "2023-01-17T12:59:54.715Z"
   },
   {
    "duration": 71,
    "start_time": "2023-01-17T12:59:56.129Z"
   },
   {
    "duration": 15,
    "start_time": "2023-01-17T12:59:56.202Z"
   },
   {
    "duration": 16,
    "start_time": "2023-01-17T12:59:56.219Z"
   },
   {
    "duration": 3,
    "start_time": "2023-01-17T12:59:56.238Z"
   },
   {
    "duration": 14,
    "start_time": "2023-01-17T12:59:56.243Z"
   },
   {
    "duration": 44,
    "start_time": "2023-01-17T12:59:56.259Z"
   },
   {
    "duration": 11,
    "start_time": "2023-01-17T12:59:56.305Z"
   },
   {
    "duration": 6,
    "start_time": "2023-01-17T12:59:56.336Z"
   },
   {
    "duration": 15,
    "start_time": "2023-01-17T12:59:56.344Z"
   },
   {
    "duration": 9,
    "start_time": "2023-01-17T12:59:56.361Z"
   },
   {
    "duration": 3434,
    "start_time": "2023-01-17T12:59:56.371Z"
   },
   {
    "duration": 4436,
    "start_time": "2023-01-17T12:59:59.807Z"
   },
   {
    "duration": 1498,
    "start_time": "2023-01-17T13:00:04.245Z"
   },
   {
    "duration": 5,
    "start_time": "2023-01-17T13:00:05.746Z"
   },
   {
    "duration": 20,
    "start_time": "2023-01-17T13:00:05.753Z"
   },
   {
    "duration": 36,
    "start_time": "2023-01-17T13:00:05.775Z"
   },
   {
    "duration": 26,
    "start_time": "2023-01-17T13:00:05.813Z"
   },
   {
    "duration": 199,
    "start_time": "2023-01-17T13:00:05.841Z"
   },
   {
    "duration": 290,
    "start_time": "2023-01-17T13:00:06.046Z"
   },
   {
    "duration": 118,
    "start_time": "2023-01-17T13:00:06.338Z"
   },
   {
    "duration": 1247417,
    "start_time": "2023-01-17T13:00:29.713Z"
   },
   {
    "duration": 1198960,
    "start_time": "2023-01-17T13:21:42.553Z"
   },
   {
    "duration": 396,
    "start_time": "2023-01-17T13:56:18.006Z"
   },
   {
    "duration": 6,
    "start_time": "2023-01-17T14:12:53.829Z"
   },
   {
    "duration": 115082,
    "start_time": "2023-01-17T14:16:07.259Z"
   },
   {
    "duration": 117386,
    "start_time": "2023-01-17T14:26:45.572Z"
   },
   {
    "duration": 21,
    "start_time": "2023-01-17T14:28:42.961Z"
   },
   {
    "duration": 3,
    "start_time": "2023-01-17T14:30:12.340Z"
   },
   {
    "duration": 15,
    "start_time": "2023-01-17T14:31:42.973Z"
   },
   {
    "duration": 863,
    "start_time": "2023-01-17T14:31:56.378Z"
   },
   {
    "duration": 11,
    "start_time": "2023-01-17T14:32:11.372Z"
   },
   {
    "duration": 12,
    "start_time": "2023-01-17T14:32:30.483Z"
   },
   {
    "duration": 14,
    "start_time": "2023-01-17T14:32:38.616Z"
   },
   {
    "duration": 514,
    "start_time": "2023-01-17T15:10:42.035Z"
   },
   {
    "duration": 790,
    "start_time": "2023-01-17T15:11:32.748Z"
   },
   {
    "duration": 980,
    "start_time": "2023-01-17T15:11:36.168Z"
   },
   {
    "duration": 938,
    "start_time": "2023-01-17T15:12:49.302Z"
   },
   {
    "duration": 1234,
    "start_time": "2023-01-17T15:13:02.728Z"
   },
   {
    "duration": 1481,
    "start_time": "2023-01-17T15:18:00.272Z"
   },
   {
    "duration": 1310,
    "start_time": "2023-01-17T15:20:09.644Z"
   },
   {
    "duration": 1412,
    "start_time": "2023-01-17T15:20:40.133Z"
   },
   {
    "duration": 3333,
    "start_time": "2023-01-17T15:43:31.477Z"
   },
   {
    "duration": 3865,
    "start_time": "2023-01-17T15:45:24.950Z"
   },
   {
    "duration": 3806,
    "start_time": "2023-01-17T15:45:59.846Z"
   },
   {
    "duration": 4141,
    "start_time": "2023-01-17T15:50:04.370Z"
   },
   {
    "duration": 6731,
    "start_time": "2023-01-17T15:50:38.681Z"
   },
   {
    "duration": 18,
    "start_time": "2023-01-17T15:54:42.416Z"
   },
   {
    "duration": 13,
    "start_time": "2023-01-17T15:54:46.070Z"
   },
   {
    "duration": 12,
    "start_time": "2023-01-17T15:54:49.312Z"
   },
   {
    "duration": 15,
    "start_time": "2023-01-17T15:55:21.937Z"
   },
   {
    "duration": 11,
    "start_time": "2023-01-17T15:55:29.510Z"
   },
   {
    "duration": 7,
    "start_time": "2023-01-17T16:04:51.463Z"
   },
   {
    "duration": 9,
    "start_time": "2023-01-17T16:05:37.800Z"
   },
   {
    "duration": 47,
    "start_time": "2023-01-18T13:25:28.193Z"
   },
   {
    "duration": 1548,
    "start_time": "2023-01-18T13:25:38.591Z"
   },
   {
    "duration": 162,
    "start_time": "2023-01-18T13:25:41.289Z"
   },
   {
    "duration": 16,
    "start_time": "2023-01-18T13:25:42.051Z"
   },
   {
    "duration": 71,
    "start_time": "2023-01-18T13:55:53.893Z"
   },
   {
    "duration": 12,
    "start_time": "2023-01-18T13:55:59.816Z"
   },
   {
    "duration": 13,
    "start_time": "2023-01-18T14:06:44.598Z"
   },
   {
    "duration": 15,
    "start_time": "2023-01-18T14:07:09.186Z"
   },
   {
    "duration": 3,
    "start_time": "2023-01-18T14:13:35.516Z"
   },
   {
    "duration": 9,
    "start_time": "2023-01-18T14:14:40.976Z"
   },
   {
    "duration": 45,
    "start_time": "2023-01-18T14:40:24.179Z"
   },
   {
    "duration": 3,
    "start_time": "2023-01-18T15:05:18.889Z"
   },
   {
    "duration": 3,
    "start_time": "2023-01-18T15:05:25.516Z"
   },
   {
    "duration": 17,
    "start_time": "2023-01-18T15:06:04.087Z"
   },
   {
    "duration": 11,
    "start_time": "2023-01-18T15:06:08.254Z"
   },
   {
    "duration": 139,
    "start_time": "2023-01-18T15:07:45.177Z"
   },
   {
    "duration": 4,
    "start_time": "2023-01-18T15:07:50.913Z"
   },
   {
    "duration": 13,
    "start_time": "2023-01-18T15:08:03.991Z"
   },
   {
    "duration": 8,
    "start_time": "2023-01-18T15:09:38.057Z"
   },
   {
    "duration": 5,
    "start_time": "2023-01-18T15:10:29.137Z"
   },
   {
    "duration": 11,
    "start_time": "2023-01-18T15:10:53.568Z"
   },
   {
    "duration": 5,
    "start_time": "2023-01-18T15:11:10.729Z"
   },
   {
    "duration": 5,
    "start_time": "2023-01-18T15:11:52.702Z"
   },
   {
    "duration": 11,
    "start_time": "2023-01-18T15:13:47.859Z"
   },
   {
    "duration": 43,
    "start_time": "2023-01-18T15:24:06.487Z"
   },
   {
    "duration": 48,
    "start_time": "2023-01-19T12:06:35.299Z"
   },
   {
    "duration": 1561,
    "start_time": "2023-01-19T12:06:38.591Z"
   },
   {
    "duration": 166,
    "start_time": "2023-01-19T12:06:41.041Z"
   },
   {
    "duration": 15,
    "start_time": "2023-01-19T12:06:41.279Z"
   },
   {
    "duration": 12,
    "start_time": "2023-01-19T12:06:42.200Z"
   },
   {
    "duration": 3,
    "start_time": "2023-01-19T12:06:42.871Z"
   },
   {
    "duration": 6,
    "start_time": "2023-01-19T12:06:43.132Z"
   },
   {
    "duration": 12,
    "start_time": "2023-01-19T12:06:46.632Z"
   },
   {
    "duration": 7,
    "start_time": "2023-01-19T12:06:46.933Z"
   },
   {
    "duration": 45,
    "start_time": "2023-01-19T12:06:47.385Z"
   },
   {
    "duration": 299,
    "start_time": "2023-01-19T12:06:48.833Z"
   },
   {
    "duration": 13,
    "start_time": "2023-01-19T12:08:40.868Z"
   },
   {
    "duration": 10,
    "start_time": "2023-01-19T13:35:14.268Z"
   },
   {
    "duration": 9,
    "start_time": "2023-01-19T13:35:16.295Z"
   },
   {
    "duration": 3187,
    "start_time": "2023-01-19T13:35:16.961Z"
   },
   {
    "duration": 1425,
    "start_time": "2023-01-19T13:39:53.245Z"
   },
   {
    "duration": 55,
    "start_time": "2023-01-19T13:39:54.672Z"
   },
   {
    "duration": 15,
    "start_time": "2023-01-19T13:39:54.729Z"
   },
   {
    "duration": 11,
    "start_time": "2023-01-19T13:39:54.746Z"
   },
   {
    "duration": 7,
    "start_time": "2023-01-19T13:39:54.758Z"
   },
   {
    "duration": 10,
    "start_time": "2023-01-19T13:39:54.767Z"
   },
   {
    "duration": 14,
    "start_time": "2023-01-19T13:39:54.778Z"
   },
   {
    "duration": 7,
    "start_time": "2023-01-19T13:39:54.793Z"
   },
   {
    "duration": 56,
    "start_time": "2023-01-19T13:39:54.801Z"
   },
   {
    "duration": 14,
    "start_time": "2023-01-19T13:39:55.704Z"
   },
   {
    "duration": 10,
    "start_time": "2023-01-19T13:39:56.266Z"
   },
   {
    "duration": 3703,
    "start_time": "2023-01-19T13:39:56.413Z"
   },
   {
    "duration": 3263,
    "start_time": "2023-01-19T13:40:31.266Z"
   },
   {
    "duration": 3600,
    "start_time": "2023-01-19T13:40:34.530Z"
   },
   {
    "duration": 3298,
    "start_time": "2023-01-19T13:43:32.677Z"
   },
   {
    "duration": 54,
    "start_time": "2023-01-19T13:44:29.170Z"
   },
   {
    "duration": 3417,
    "start_time": "2023-01-19T13:44:47.740Z"
   },
   {
    "duration": 3932,
    "start_time": "2023-01-19T13:46:08.047Z"
   },
   {
    "duration": 61,
    "start_time": "2023-01-19T13:46:20.649Z"
   },
   {
    "duration": 4001,
    "start_time": "2023-01-19T13:46:50.708Z"
   },
   {
    "duration": 47,
    "start_time": "2023-01-19T13:48:45.865Z"
   },
   {
    "duration": 3964,
    "start_time": "2023-01-19T13:48:48.546Z"
   },
   {
    "duration": 108,
    "start_time": "2023-01-19T13:49:36.101Z"
   },
   {
    "duration": 121,
    "start_time": "2023-01-19T13:49:41.387Z"
   },
   {
    "duration": 108,
    "start_time": "2023-01-19T13:49:46.239Z"
   },
   {
    "duration": 111,
    "start_time": "2023-01-19T13:49:54.176Z"
   },
   {
    "duration": 110,
    "start_time": "2023-01-19T13:50:11.481Z"
   },
   {
    "duration": 220,
    "start_time": "2023-01-19T13:51:00.707Z"
   },
   {
    "duration": 3848,
    "start_time": "2023-01-19T13:51:09.991Z"
   },
   {
    "duration": 13,
    "start_time": "2023-01-19T13:51:57.363Z"
   },
   {
    "duration": 13,
    "start_time": "2023-01-19T13:52:01.207Z"
   },
   {
    "duration": 443,
    "start_time": "2023-01-19T13:54:10.237Z"
   },
   {
    "duration": 448,
    "start_time": "2023-01-19T13:54:31.549Z"
   },
   {
    "duration": 1423,
    "start_time": "2023-01-19T13:55:10.137Z"
   },
   {
    "duration": 56,
    "start_time": "2023-01-19T13:55:11.562Z"
   },
   {
    "duration": 14,
    "start_time": "2023-01-19T13:55:11.619Z"
   },
   {
    "duration": 15,
    "start_time": "2023-01-19T13:55:11.635Z"
   },
   {
    "duration": 6,
    "start_time": "2023-01-19T13:55:11.651Z"
   },
   {
    "duration": 11,
    "start_time": "2023-01-19T13:55:11.658Z"
   },
   {
    "duration": 19,
    "start_time": "2023-01-19T13:55:11.671Z"
   },
   {
    "duration": 6,
    "start_time": "2023-01-19T13:55:11.691Z"
   },
   {
    "duration": 52,
    "start_time": "2023-01-19T13:55:11.698Z"
   },
   {
    "duration": 12,
    "start_time": "2023-01-19T13:55:11.752Z"
   },
   {
    "duration": 9,
    "start_time": "2023-01-19T13:55:12.466Z"
   },
   {
    "duration": 4391,
    "start_time": "2023-01-19T13:55:13.267Z"
   },
   {
    "duration": 4294,
    "start_time": "2023-01-19T13:56:21.765Z"
   },
   {
    "duration": 4331,
    "start_time": "2023-01-19T13:56:35.637Z"
   },
   {
    "duration": 4568,
    "start_time": "2023-01-19T13:56:59.897Z"
   },
   {
    "duration": 3995,
    "start_time": "2023-01-19T13:57:25.677Z"
   },
   {
    "duration": 211,
    "start_time": "2023-01-19T13:57:47.689Z"
   },
   {
    "duration": 4064,
    "start_time": "2023-01-19T13:58:12.059Z"
   },
   {
    "duration": 3278,
    "start_time": "2023-01-19T13:59:08.171Z"
   },
   {
    "duration": 221,
    "start_time": "2023-01-19T13:59:37.873Z"
   },
   {
    "duration": 3419,
    "start_time": "2023-01-19T13:59:50.992Z"
   },
   {
    "duration": 569,
    "start_time": "2023-01-19T14:00:21.410Z"
   },
   {
    "duration": 3363,
    "start_time": "2023-01-19T14:00:31.479Z"
   },
   {
    "duration": 12,
    "start_time": "2023-01-19T14:02:05.139Z"
   },
   {
    "duration": 4512,
    "start_time": "2023-01-19T14:04:30.738Z"
   },
   {
    "duration": 1362,
    "start_time": "2023-01-19T14:05:43.382Z"
   },
   {
    "duration": 57,
    "start_time": "2023-01-19T14:05:44.746Z"
   },
   {
    "duration": 15,
    "start_time": "2023-01-19T14:05:44.804Z"
   },
   {
    "duration": 10,
    "start_time": "2023-01-19T14:05:44.821Z"
   },
   {
    "duration": 3,
    "start_time": "2023-01-19T14:05:44.833Z"
   },
   {
    "duration": 8,
    "start_time": "2023-01-19T14:05:44.838Z"
   },
   {
    "duration": 13,
    "start_time": "2023-01-19T14:05:44.848Z"
   },
   {
    "duration": 6,
    "start_time": "2023-01-19T14:05:44.862Z"
   },
   {
    "duration": 46,
    "start_time": "2023-01-19T14:05:44.870Z"
   },
   {
    "duration": 15,
    "start_time": "2023-01-19T14:05:46.337Z"
   },
   {
    "duration": 10,
    "start_time": "2023-01-19T14:05:46.940Z"
   },
   {
    "duration": 4368,
    "start_time": "2023-01-19T14:05:47.308Z"
   },
   {
    "duration": 4380,
    "start_time": "2023-01-19T14:07:11.283Z"
   },
   {
    "duration": 4341,
    "start_time": "2023-01-19T14:08:10.709Z"
   },
   {
    "duration": 53,
    "start_time": "2023-01-19T14:08:27.537Z"
   },
   {
    "duration": 317,
    "start_time": "2023-01-19T14:08:31.882Z"
   },
   {
    "duration": 4153,
    "start_time": "2023-01-19T14:08:40.438Z"
   },
   {
    "duration": 46,
    "start_time": "2023-01-19T15:37:27.682Z"
   },
   {
    "duration": 9,
    "start_time": "2023-01-19T15:39:24.412Z"
   },
   {
    "duration": 1604,
    "start_time": "2023-01-19T15:39:28.335Z"
   },
   {
    "duration": 110,
    "start_time": "2023-01-19T15:39:29.941Z"
   },
   {
    "duration": 22,
    "start_time": "2023-01-19T15:39:30.053Z"
   },
   {
    "duration": 22,
    "start_time": "2023-01-19T15:39:30.078Z"
   },
   {
    "duration": 7,
    "start_time": "2023-01-19T15:39:30.102Z"
   },
   {
    "duration": 18,
    "start_time": "2023-01-19T15:39:30.111Z"
   },
   {
    "duration": 37,
    "start_time": "2023-01-19T15:39:30.131Z"
   },
   {
    "duration": 9,
    "start_time": "2023-01-19T15:39:30.170Z"
   },
   {
    "duration": 78,
    "start_time": "2023-01-19T15:39:30.181Z"
   },
   {
    "duration": 12,
    "start_time": "2023-01-19T15:39:30.262Z"
   },
   {
    "duration": 66,
    "start_time": "2023-01-19T15:39:30.276Z"
   },
   {
    "duration": 4447,
    "start_time": "2023-01-19T15:39:30.344Z"
   },
   {
    "duration": 4301,
    "start_time": "2023-01-19T15:39:34.798Z"
   },
   {
    "duration": 4583,
    "start_time": "2023-01-19T15:39:59.104Z"
   },
   {
    "duration": 1649,
    "start_time": "2023-01-19T15:40:43.952Z"
   },
   {
    "duration": 66,
    "start_time": "2023-01-19T15:40:45.603Z"
   },
   {
    "duration": 17,
    "start_time": "2023-01-19T15:40:45.671Z"
   },
   {
    "duration": 12,
    "start_time": "2023-01-19T15:40:45.691Z"
   },
   {
    "duration": 5,
    "start_time": "2023-01-19T15:40:45.705Z"
   },
   {
    "duration": 29,
    "start_time": "2023-01-19T15:40:45.712Z"
   },
   {
    "duration": 19,
    "start_time": "2023-01-19T15:40:45.743Z"
   },
   {
    "duration": 9,
    "start_time": "2023-01-19T15:40:45.764Z"
   },
   {
    "duration": 61,
    "start_time": "2023-01-19T15:40:50.833Z"
   },
   {
    "duration": 14,
    "start_time": "2023-01-19T15:40:57.726Z"
   },
   {
    "duration": 12,
    "start_time": "2023-01-19T15:41:00.750Z"
   },
   {
    "duration": 128,
    "start_time": "2023-01-19T15:41:01.104Z"
   },
   {
    "duration": 11459,
    "start_time": "2023-01-19T15:41:14.107Z"
   },
   {
    "duration": 122,
    "start_time": "2023-01-19T15:42:17.618Z"
   },
   {
    "duration": 11450,
    "start_time": "2023-01-19T15:42:21.014Z"
   },
   {
    "duration": 5,
    "start_time": "2023-01-19T15:43:35.660Z"
   },
   {
    "duration": 10906,
    "start_time": "2023-01-19T15:43:36.768Z"
   },
   {
    "duration": 11166,
    "start_time": "2023-01-19T15:44:18.186Z"
   },
   {
    "duration": 10914,
    "start_time": "2023-01-19T15:45:14.834Z"
   },
   {
    "duration": 2659,
    "start_time": "2023-01-19T15:46:17.516Z"
   },
   {
    "duration": 80,
    "start_time": "2023-01-19T15:48:51.184Z"
   },
   {
    "duration": 2893,
    "start_time": "2023-01-19T15:48:53.487Z"
   },
   {
    "duration": 2784,
    "start_time": "2023-01-19T15:49:03.182Z"
   },
   {
    "duration": 121,
    "start_time": "2023-01-19T15:54:16.352Z"
   },
   {
    "duration": 10321,
    "start_time": "2023-01-19T15:54:19.910Z"
   },
   {
    "duration": 2711,
    "start_time": "2023-01-19T15:54:34.713Z"
   },
   {
    "duration": 6,
    "start_time": "2023-01-19T15:55:43.452Z"
   },
   {
    "duration": 1054,
    "start_time": "2023-01-19T15:55:47.172Z"
   },
   {
    "duration": 125,
    "start_time": "2023-01-19T15:56:35.045Z"
   },
   {
    "duration": 893,
    "start_time": "2023-01-19T15:56:38.537Z"
   },
   {
    "duration": 880,
    "start_time": "2023-01-19T16:02:34.119Z"
   },
   {
    "duration": 892,
    "start_time": "2023-01-19T16:02:38.239Z"
   },
   {
    "duration": 1326,
    "start_time": "2023-01-19T16:02:41.719Z"
   },
   {
    "duration": 166,
    "start_time": "2023-01-19T16:02:45.268Z"
   },
   {
    "duration": 164,
    "start_time": "2023-01-19T16:02:47.651Z"
   },
   {
    "duration": 862,
    "start_time": "2023-01-19T16:02:52.032Z"
   },
   {
    "duration": 915,
    "start_time": "2023-01-19T16:02:56.822Z"
   },
   {
    "duration": 740,
    "start_time": "2023-01-19T16:05:38.723Z"
   },
   {
    "duration": 819,
    "start_time": "2023-01-19T16:18:24.324Z"
   },
   {
    "duration": 4684,
    "start_time": "2023-01-19T16:23:39.650Z"
   },
   {
    "duration": 4155,
    "start_time": "2023-01-19T16:23:47.329Z"
   },
   {
    "duration": 3870,
    "start_time": "2023-01-19T16:23:58.248Z"
   },
   {
    "duration": 3357,
    "start_time": "2023-01-19T16:24:16.286Z"
   },
   {
    "duration": 3604,
    "start_time": "2023-01-19T16:30:24.650Z"
   },
   {
    "duration": 3388,
    "start_time": "2023-01-19T16:36:24.983Z"
   },
   {
    "duration": 3262,
    "start_time": "2023-01-19T16:36:33.202Z"
   },
   {
    "duration": 68,
    "start_time": "2023-01-19T16:38:37.211Z"
   },
   {
    "duration": 4122,
    "start_time": "2023-01-19T16:38:41.696Z"
   },
   {
    "duration": 9,
    "start_time": "2023-01-19T16:39:36.838Z"
   },
   {
    "duration": 3665,
    "start_time": "2023-01-19T16:39:37.395Z"
   },
   {
    "duration": 3473,
    "start_time": "2023-01-19T16:39:48.210Z"
   },
   {
    "duration": 1203,
    "start_time": "2023-01-19T16:41:05.120Z"
   },
   {
    "duration": 220,
    "start_time": "2023-01-19T16:42:02.264Z"
   },
   {
    "duration": 1203,
    "start_time": "2023-01-19T16:43:48.302Z"
   },
   {
    "duration": 11,
    "start_time": "2023-01-19T16:44:27.473Z"
   },
   {
    "duration": 1731,
    "start_time": "2023-01-19T16:44:37.903Z"
   },
   {
    "duration": 1798,
    "start_time": "2023-01-19T16:48:29.970Z"
   },
   {
    "duration": 1817,
    "start_time": "2023-01-19T16:49:00.164Z"
   },
   {
    "duration": 10,
    "start_time": "2023-01-19T16:49:22.631Z"
   },
   {
    "duration": 10,
    "start_time": "2023-01-19T16:49:38.616Z"
   },
   {
    "duration": 1458,
    "start_time": "2023-01-19T16:49:59.243Z"
   },
   {
    "duration": 1539,
    "start_time": "2023-01-19T16:53:54.753Z"
   },
   {
    "duration": 1372,
    "start_time": "2023-01-19T17:04:44.691Z"
   },
   {
    "duration": 61,
    "start_time": "2023-01-19T17:04:46.199Z"
   },
   {
    "duration": 15,
    "start_time": "2023-01-19T17:04:46.587Z"
   },
   {
    "duration": 13,
    "start_time": "2023-01-19T17:04:47.675Z"
   },
   {
    "duration": 3,
    "start_time": "2023-01-19T17:04:47.750Z"
   },
   {
    "duration": 6,
    "start_time": "2023-01-19T17:04:47.784Z"
   },
   {
    "duration": 11,
    "start_time": "2023-01-19T17:04:48.210Z"
   },
   {
    "duration": 7,
    "start_time": "2023-01-19T17:04:48.829Z"
   },
   {
    "duration": 50,
    "start_time": "2023-01-19T17:04:49.982Z"
   },
   {
    "duration": 12,
    "start_time": "2023-01-19T17:04:51.458Z"
   },
   {
    "duration": 9,
    "start_time": "2023-01-19T17:04:52.609Z"
   },
   {
    "duration": 1620,
    "start_time": "2023-01-19T17:04:53.055Z"
   },
   {
    "duration": 8,
    "start_time": "2023-01-19T17:05:32.390Z"
   },
   {
    "duration": 1983,
    "start_time": "2023-01-19T17:06:00.751Z"
   },
   {
    "duration": 148,
    "start_time": "2023-01-19T17:07:33.851Z"
   },
   {
    "duration": 2259,
    "start_time": "2023-01-19T17:08:10.677Z"
   },
   {
    "duration": 16,
    "start_time": "2023-01-19T17:10:10.606Z"
   },
   {
    "duration": 15,
    "start_time": "2023-01-19T17:10:15.956Z"
   },
   {
    "duration": 17,
    "start_time": "2023-01-19T17:10:35.546Z"
   },
   {
    "duration": 82,
    "start_time": "2023-01-19T17:12:12.907Z"
   },
   {
    "duration": 70,
    "start_time": "2023-01-19T17:12:19.667Z"
   },
   {
    "duration": 15,
    "start_time": "2023-01-19T17:12:26.162Z"
   },
   {
    "duration": 1976,
    "start_time": "2023-01-19T17:12:29.981Z"
   },
   {
    "duration": 2115,
    "start_time": "2023-01-19T17:12:45.628Z"
   },
   {
    "duration": 2138,
    "start_time": "2023-01-19T17:14:03.127Z"
   },
   {
    "duration": 111,
    "start_time": "2023-01-19T17:14:51.554Z"
   },
   {
    "duration": 2160,
    "start_time": "2023-01-19T17:15:07.274Z"
   },
   {
    "duration": 2027,
    "start_time": "2023-01-19T17:15:22.310Z"
   },
   {
    "duration": 2043,
    "start_time": "2023-01-19T17:15:37.598Z"
   },
   {
    "duration": 2375,
    "start_time": "2023-01-19T17:15:44.134Z"
   },
   {
    "duration": 2360,
    "start_time": "2023-01-19T17:15:52.858Z"
   },
   {
    "duration": 2115,
    "start_time": "2023-01-19T17:16:00.581Z"
   },
   {
    "duration": 1982,
    "start_time": "2023-01-19T17:16:26.746Z"
   },
   {
    "duration": 70,
    "start_time": "2023-01-19T17:16:52.148Z"
   },
   {
    "duration": 1593,
    "start_time": "2023-01-19T17:16:57.150Z"
   },
   {
    "duration": 2087,
    "start_time": "2023-01-19T17:17:45.494Z"
   },
   {
    "duration": 13,
    "start_time": "2023-01-19T17:17:58.471Z"
   },
   {
    "duration": 1592,
    "start_time": "2023-01-19T17:19:08.341Z"
   },
   {
    "duration": 1760,
    "start_time": "2023-01-19T17:20:09.254Z"
   },
   {
    "duration": 183,
    "start_time": "2023-01-19T17:20:24.488Z"
   },
   {
    "duration": 1678,
    "start_time": "2023-01-19T17:20:31.433Z"
   },
   {
    "duration": 1736,
    "start_time": "2023-01-19T17:20:41.865Z"
   },
   {
    "duration": 1503,
    "start_time": "2023-01-19T17:20:58.926Z"
   },
   {
    "duration": 1633,
    "start_time": "2023-01-19T17:22:13.017Z"
   },
   {
    "duration": 70,
    "start_time": "2023-01-19T17:26:03.289Z"
   },
   {
    "duration": 1453,
    "start_time": "2023-01-19T17:26:12.042Z"
   },
   {
    "duration": 129,
    "start_time": "2023-01-19T17:41:43.380Z"
   },
   {
    "duration": 233,
    "start_time": "2023-01-19T17:41:46.396Z"
   },
   {
    "duration": 1470,
    "start_time": "2023-01-19T17:41:57.900Z"
   },
   {
    "duration": 2145,
    "start_time": "2023-01-19T17:52:56.885Z"
   },
   {
    "duration": 109,
    "start_time": "2023-01-19T18:05:23.896Z"
   },
   {
    "duration": 11,
    "start_time": "2023-01-19T18:05:25.776Z"
   },
   {
    "duration": 1880,
    "start_time": "2023-01-19T18:05:41.766Z"
   },
   {
    "duration": 2258,
    "start_time": "2023-01-19T18:07:41.969Z"
   },
   {
    "duration": 1289,
    "start_time": "2023-01-19T18:07:45.458Z"
   },
   {
    "duration": 2329,
    "start_time": "2023-01-19T18:08:08.351Z"
   },
   {
    "duration": 1995,
    "start_time": "2023-01-19T18:09:03.099Z"
   },
   {
    "duration": 1376,
    "start_time": "2023-01-19T18:09:07.711Z"
   },
   {
    "duration": 11,
    "start_time": "2023-01-19T18:09:54.181Z"
   },
   {
    "duration": 997,
    "start_time": "2023-01-19T18:10:36.704Z"
   },
   {
    "duration": 1317,
    "start_time": "2023-01-19T18:10:50.473Z"
   },
   {
    "duration": 2164,
    "start_time": "2023-01-19T18:31:35.521Z"
   },
   {
    "duration": 1363,
    "start_time": "2023-01-19T18:33:45.925Z"
   },
   {
    "duration": 1629,
    "start_time": "2023-01-19T18:58:34.856Z"
   },
   {
    "duration": 1610,
    "start_time": "2023-01-19T18:59:54.179Z"
   },
   {
    "duration": 12,
    "start_time": "2023-01-19T19:10:00.214Z"
   },
   {
    "duration": 9,
    "start_time": "2023-01-19T19:25:37.402Z"
   },
   {
    "duration": 4,
    "start_time": "2023-01-19T19:25:43.170Z"
   },
   {
    "duration": 14,
    "start_time": "2023-01-19T19:25:43.406Z"
   },
   {
    "duration": 6,
    "start_time": "2023-01-19T19:25:43.618Z"
   },
   {
    "duration": 5,
    "start_time": "2023-01-19T19:25:47.710Z"
   },
   {
    "duration": 6,
    "start_time": "2023-01-19T19:25:50.764Z"
   },
   {
    "duration": 4,
    "start_time": "2023-01-19T19:25:53.768Z"
   },
   {
    "duration": 5,
    "start_time": "2023-01-19T19:26:22.359Z"
   },
   {
    "duration": 3,
    "start_time": "2023-01-19T19:26:28.103Z"
   },
   {
    "duration": 83,
    "start_time": "2023-01-19T19:28:13.537Z"
   },
   {
    "duration": 1587,
    "start_time": "2023-01-19T19:29:10.183Z"
   },
   {
    "duration": 66,
    "start_time": "2023-01-19T19:29:11.773Z"
   },
   {
    "duration": 19,
    "start_time": "2023-01-19T19:29:11.841Z"
   },
   {
    "duration": 18,
    "start_time": "2023-01-19T19:29:11.864Z"
   },
   {
    "duration": 19,
    "start_time": "2023-01-19T19:29:11.885Z"
   },
   {
    "duration": 15,
    "start_time": "2023-01-19T19:29:11.907Z"
   },
   {
    "duration": 20,
    "start_time": "2023-01-19T19:29:11.924Z"
   },
   {
    "duration": 16,
    "start_time": "2023-01-19T19:29:11.947Z"
   },
   {
    "duration": 56,
    "start_time": "2023-01-19T19:29:11.965Z"
   },
   {
    "duration": 14,
    "start_time": "2023-01-19T19:29:12.023Z"
   },
   {
    "duration": 9,
    "start_time": "2023-01-19T19:29:12.280Z"
   },
   {
    "duration": 1345,
    "start_time": "2023-01-19T19:29:12.562Z"
   },
   {
    "duration": 2096,
    "start_time": "2023-01-19T19:29:13.910Z"
   },
   {
    "duration": 1501,
    "start_time": "2023-01-19T19:29:16.008Z"
   },
   {
    "duration": 5,
    "start_time": "2023-01-19T19:29:33.077Z"
   },
   {
    "duration": 6,
    "start_time": "2023-01-19T19:29:33.860Z"
   },
   {
    "duration": 4,
    "start_time": "2023-01-19T19:29:34.426Z"
   },
   {
    "duration": 9,
    "start_time": "2023-01-19T19:29:34.755Z"
   },
   {
    "duration": 203,
    "start_time": "2023-01-19T19:29:35.596Z"
   },
   {
    "duration": 1397,
    "start_time": "2023-01-19T19:31:24.851Z"
   },
   {
    "duration": 62,
    "start_time": "2023-01-19T19:31:26.249Z"
   },
   {
    "duration": 16,
    "start_time": "2023-01-19T19:31:26.313Z"
   },
   {
    "duration": 19,
    "start_time": "2023-01-19T19:31:26.330Z"
   },
   {
    "duration": 26,
    "start_time": "2023-01-19T19:31:26.350Z"
   },
   {
    "duration": 29,
    "start_time": "2023-01-19T19:31:26.378Z"
   },
   {
    "duration": 28,
    "start_time": "2023-01-19T19:31:26.409Z"
   },
   {
    "duration": 26,
    "start_time": "2023-01-19T19:31:26.439Z"
   },
   {
    "duration": 62,
    "start_time": "2023-01-19T19:31:26.467Z"
   },
   {
    "duration": 13,
    "start_time": "2023-01-19T19:31:26.532Z"
   },
   {
    "duration": 19,
    "start_time": "2023-01-19T19:31:26.547Z"
   },
   {
    "duration": 1390,
    "start_time": "2023-01-19T19:31:26.568Z"
   },
   {
    "duration": 2004,
    "start_time": "2023-01-19T19:31:27.959Z"
   },
   {
    "duration": 1532,
    "start_time": "2023-01-19T19:31:29.965Z"
   },
   {
    "duration": 3,
    "start_time": "2023-01-19T19:31:31.499Z"
   },
   {
    "duration": 10,
    "start_time": "2023-01-19T19:31:31.504Z"
   },
   {
    "duration": 4,
    "start_time": "2023-01-19T19:31:31.515Z"
   },
   {
    "duration": 13,
    "start_time": "2023-01-19T19:31:31.521Z"
   },
   {
    "duration": 168,
    "start_time": "2023-01-19T19:31:31.536Z"
   },
   {
    "duration": 1151847,
    "start_time": "2023-01-19T19:31:32.013Z"
   },
   {
    "duration": 319,
    "start_time": "2023-01-19T19:51:28.498Z"
   },
   {
    "duration": 118,
    "start_time": "2023-01-19T20:49:49.824Z"
   },
   {
    "duration": 678,
    "start_time": "2023-01-19T20:49:53.568Z"
   },
   {
    "duration": 119531,
    "start_time": "2023-01-19T20:49:54.248Z"
   },
   {
    "duration": 3,
    "start_time": "2023-01-19T20:51:53.781Z"
   },
   {
    "duration": 5,
    "start_time": "2023-01-19T20:52:29.518Z"
   },
   {
    "duration": 10,
    "start_time": "2023-01-19T20:52:49.963Z"
   },
   {
    "duration": 10,
    "start_time": "2023-01-19T20:52:55.404Z"
   },
   {
    "duration": 11,
    "start_time": "2023-01-19T20:53:02.920Z"
   },
   {
    "duration": 109658,
    "start_time": "2023-01-19T20:58:33.098Z"
   },
   {
    "duration": 108489,
    "start_time": "2023-01-19T21:01:18.157Z"
   },
   {
    "duration": 945,
    "start_time": "2023-01-19T21:05:34.468Z"
   },
   {
    "duration": 1229,
    "start_time": "2023-01-19T21:28:12.378Z"
   },
   {
    "duration": 43,
    "start_time": "2023-01-20T09:07:57.461Z"
   },
   {
    "duration": 1740,
    "start_time": "2023-01-20T09:08:01.715Z"
   },
   {
    "duration": 96,
    "start_time": "2023-01-20T09:08:03.457Z"
   },
   {
    "duration": 15,
    "start_time": "2023-01-20T09:08:03.555Z"
   },
   {
    "duration": 13,
    "start_time": "2023-01-20T09:08:03.571Z"
   },
   {
    "duration": 2,
    "start_time": "2023-01-20T09:08:03.586Z"
   },
   {
    "duration": 11,
    "start_time": "2023-01-20T09:08:03.590Z"
   },
   {
    "duration": 14,
    "start_time": "2023-01-20T09:08:03.602Z"
   },
   {
    "duration": 22,
    "start_time": "2023-01-20T09:08:03.618Z"
   },
   {
    "duration": 44,
    "start_time": "2023-01-20T09:08:03.642Z"
   },
   {
    "duration": 12,
    "start_time": "2023-01-20T09:08:03.689Z"
   },
   {
    "duration": 12,
    "start_time": "2023-01-20T09:08:03.703Z"
   },
   {
    "duration": 1250,
    "start_time": "2023-01-20T09:08:03.716Z"
   },
   {
    "duration": 1912,
    "start_time": "2023-01-20T09:08:04.968Z"
   },
   {
    "duration": 1567,
    "start_time": "2023-01-20T09:08:06.881Z"
   },
   {
    "duration": 4,
    "start_time": "2023-01-20T09:08:08.450Z"
   },
   {
    "duration": 27,
    "start_time": "2023-01-20T09:08:08.456Z"
   },
   {
    "duration": 28,
    "start_time": "2023-01-20T09:08:08.485Z"
   },
   {
    "duration": 18,
    "start_time": "2023-01-20T09:08:08.514Z"
   },
   {
    "duration": 112,
    "start_time": "2023-01-20T09:08:08.533Z"
   },
   {
    "duration": 1083742,
    "start_time": "2023-01-20T09:08:08.737Z"
   },
   {
    "duration": 345,
    "start_time": "2023-01-20T09:26:12.481Z"
   },
   {
    "duration": 604,
    "start_time": "2023-01-20T09:26:12.828Z"
   },
   {
    "duration": 102067,
    "start_time": "2023-01-20T09:26:13.433Z"
   },
   {
    "duration": 1337,
    "start_time": "2023-01-20T09:27:55.502Z"
   },
   {
    "duration": 82,
    "start_time": "2023-01-20T09:27:56.840Z"
   },
   {
    "duration": 1054,
    "start_time": "2023-01-20T09:33:35.695Z"
   },
   {
    "duration": 12,
    "start_time": "2023-01-20T09:33:36.752Z"
   },
   {
    "duration": 13,
    "start_time": "2023-01-20T09:34:37.122Z"
   },
   {
    "duration": 1310,
    "start_time": "2023-01-20T09:39:03.944Z"
   },
   {
    "duration": 1202,
    "start_time": "2023-01-20T09:39:13.663Z"
   },
   {
    "duration": 1183,
    "start_time": "2023-01-20T09:40:11.369Z"
   },
   {
    "duration": 1534,
    "start_time": "2023-01-20T09:42:34.764Z"
   },
   {
    "duration": 1156,
    "start_time": "2023-01-20T09:42:56.899Z"
   },
   {
    "duration": 1268,
    "start_time": "2023-01-20T09:43:24.681Z"
   },
   {
    "duration": 1186,
    "start_time": "2023-01-20T09:44:05.866Z"
   },
   {
    "duration": 1149,
    "start_time": "2023-01-20T09:44:29.491Z"
   },
   {
    "duration": 1202,
    "start_time": "2023-01-20T09:45:08.943Z"
   },
   {
    "duration": 901,
    "start_time": "2023-01-20T09:45:27.551Z"
   },
   {
    "duration": 1261,
    "start_time": "2023-01-20T09:48:14.377Z"
   },
   {
    "duration": 1161,
    "start_time": "2023-01-20T09:48:25.585Z"
   },
   {
    "duration": 1174,
    "start_time": "2023-01-20T09:49:18.072Z"
   },
   {
    "duration": 1105,
    "start_time": "2023-01-20T09:49:27.453Z"
   },
   {
    "duration": 1148,
    "start_time": "2023-01-20T09:50:07.593Z"
   },
   {
    "duration": 1288,
    "start_time": "2023-01-20T09:50:44.460Z"
   },
   {
    "duration": 1095,
    "start_time": "2023-01-20T09:51:03.359Z"
   },
   {
    "duration": 5669,
    "start_time": "2023-01-20T10:04:25.050Z"
   },
   {
    "duration": 3975,
    "start_time": "2023-01-20T10:05:27.173Z"
   },
   {
    "duration": 1954,
    "start_time": "2023-01-20T10:07:58.911Z"
   },
   {
    "duration": 2136,
    "start_time": "2023-01-20T10:08:10.454Z"
   },
   {
    "duration": 117,
    "start_time": "2023-01-20T10:08:29.286Z"
   },
   {
    "duration": 15,
    "start_time": "2023-01-20T10:09:16.245Z"
   },
   {
    "duration": 15,
    "start_time": "2023-01-20T10:09:34.915Z"
   },
   {
    "duration": 13,
    "start_time": "2023-01-20T10:10:48.512Z"
   },
   {
    "duration": 6180,
    "start_time": "2023-01-20T10:10:58.342Z"
   },
   {
    "duration": 116,
    "start_time": "2023-01-20T10:19:24.481Z"
   },
   {
    "duration": 1558,
    "start_time": "2023-01-20T10:22:35.329Z"
   },
   {
    "duration": 65,
    "start_time": "2023-01-20T10:22:36.890Z"
   },
   {
    "duration": 14,
    "start_time": "2023-01-20T10:22:36.956Z"
   },
   {
    "duration": 32,
    "start_time": "2023-01-20T10:22:36.973Z"
   },
   {
    "duration": 4,
    "start_time": "2023-01-20T10:22:37.364Z"
   },
   {
    "duration": 7,
    "start_time": "2023-01-20T10:22:37.555Z"
   },
   {
    "duration": 11,
    "start_time": "2023-01-20T10:22:37.751Z"
   },
   {
    "duration": 7,
    "start_time": "2023-01-20T10:22:37.966Z"
   },
   {
    "duration": 42,
    "start_time": "2023-01-20T10:22:38.379Z"
   },
   {
    "duration": 12,
    "start_time": "2023-01-20T10:22:39.018Z"
   },
   {
    "duration": 9,
    "start_time": "2023-01-20T10:22:41.608Z"
   },
   {
    "duration": 1488,
    "start_time": "2023-01-20T10:22:41.807Z"
   },
   {
    "duration": 2165,
    "start_time": "2023-01-20T10:22:43.297Z"
   },
   {
    "duration": 1460,
    "start_time": "2023-01-20T10:22:45.464Z"
   },
   {
    "duration": 4,
    "start_time": "2023-01-20T10:22:47.905Z"
   },
   {
    "duration": 6,
    "start_time": "2023-01-20T10:22:49.267Z"
   },
   {
    "duration": 4,
    "start_time": "2023-01-20T10:22:49.756Z"
   },
   {
    "duration": 11,
    "start_time": "2023-01-20T10:22:50.227Z"
   },
   {
    "duration": 604,
    "start_time": "2023-01-20T10:22:54.475Z"
   },
   {
    "duration": 917,
    "start_time": "2023-01-20T10:22:58.931Z"
   },
   {
    "duration": 1316,
    "start_time": "2023-01-20T10:23:01.330Z"
   },
   {
    "duration": 133,
    "start_time": "2023-01-20T10:24:13.455Z"
   },
   {
    "duration": 19,
    "start_time": "2023-01-20T10:24:21.932Z"
   },
   {
    "duration": 20,
    "start_time": "2023-01-20T10:28:43.446Z"
   },
   {
    "duration": 19,
    "start_time": "2023-01-20T10:29:03.261Z"
   },
   {
    "duration": 15,
    "start_time": "2023-01-20T10:29:21.120Z"
   },
   {
    "duration": 1225,
    "start_time": "2023-01-20T10:29:30.635Z"
   },
   {
    "duration": 1245,
    "start_time": "2023-01-20T10:29:38.176Z"
   },
   {
    "duration": 1353,
    "start_time": "2023-01-20T10:30:36.395Z"
   },
   {
    "duration": 68,
    "start_time": "2023-01-20T10:31:41.236Z"
   },
   {
    "duration": 128,
    "start_time": "2023-01-20T10:31:46.340Z"
   },
   {
    "duration": 1085,
    "start_time": "2023-01-20T10:31:55.092Z"
   },
   {
    "duration": 1091,
    "start_time": "2023-01-20T10:32:05.298Z"
   },
   {
    "duration": 1228,
    "start_time": "2023-01-20T10:32:12.494Z"
   },
   {
    "duration": 1358,
    "start_time": "2023-01-20T10:32:17.883Z"
   },
   {
    "duration": 123,
    "start_time": "2023-01-20T10:33:07.257Z"
   },
   {
    "duration": 145,
    "start_time": "2023-01-20T10:33:15.039Z"
   },
   {
    "duration": 121,
    "start_time": "2023-01-20T10:33:24.127Z"
   },
   {
    "duration": 144,
    "start_time": "2023-01-20T10:34:05.868Z"
   },
   {
    "duration": 1064,
    "start_time": "2023-01-20T10:34:10.681Z"
   },
   {
    "duration": 1085,
    "start_time": "2023-01-20T10:34:30.530Z"
   },
   {
    "duration": 1467,
    "start_time": "2023-01-20T10:38:09.783Z"
   },
   {
    "duration": 5866,
    "start_time": "2023-01-20T10:42:47.123Z"
   },
   {
    "duration": 4484,
    "start_time": "2023-01-20T10:45:05.187Z"
   },
   {
    "duration": 4264,
    "start_time": "2023-01-20T10:45:55.399Z"
   },
   {
    "duration": 4022,
    "start_time": "2023-01-20T10:47:56.085Z"
   },
   {
    "duration": 7037,
    "start_time": "2023-01-20T10:48:36.451Z"
   },
   {
    "duration": 6963,
    "start_time": "2023-01-20T10:49:16.756Z"
   },
   {
    "duration": 7078,
    "start_time": "2023-01-20T10:49:30.462Z"
   },
   {
    "duration": 218,
    "start_time": "2023-01-20T10:49:46.276Z"
   },
   {
    "duration": 5958,
    "start_time": "2023-01-20T10:50:54.183Z"
   },
   {
    "duration": 6474,
    "start_time": "2023-01-20T10:51:01.889Z"
   },
   {
    "duration": 6907,
    "start_time": "2023-01-20T10:51:28.262Z"
   },
   {
    "duration": 6891,
    "start_time": "2023-01-20T10:51:49.173Z"
   },
   {
    "duration": 6466,
    "start_time": "2023-01-20T10:51:59.734Z"
   },
   {
    "duration": 5888,
    "start_time": "2023-01-20T10:52:06.803Z"
   },
   {
    "duration": 4,
    "start_time": "2023-01-20T10:52:39.426Z"
   },
   {
    "duration": 6981,
    "start_time": "2023-01-20T10:52:54.221Z"
   },
   {
    "duration": 6160,
    "start_time": "2023-01-20T10:57:57.817Z"
   },
   {
    "duration": 225,
    "start_time": "2023-01-20T11:00:18.561Z"
   },
   {
    "duration": 258,
    "start_time": "2023-01-20T11:00:40.334Z"
   },
   {
    "duration": 276,
    "start_time": "2023-01-20T11:01:56.694Z"
   },
   {
    "duration": 6182,
    "start_time": "2023-01-20T11:02:08.248Z"
   },
   {
    "duration": 6094,
    "start_time": "2023-01-20T11:05:38.749Z"
   },
   {
    "duration": 23,
    "start_time": "2023-01-20T11:05:54.038Z"
   },
   {
    "duration": 6422,
    "start_time": "2023-01-20T11:06:12.318Z"
   },
   {
    "duration": 6297,
    "start_time": "2023-01-20T11:06:27.571Z"
   },
   {
    "duration": 6157,
    "start_time": "2023-01-20T11:06:37.380Z"
   },
   {
    "duration": 6574,
    "start_time": "2023-01-20T11:07:19.069Z"
   },
   {
    "duration": 6353,
    "start_time": "2023-01-20T11:12:21.093Z"
   },
   {
    "duration": 6389,
    "start_time": "2023-01-20T11:12:38.684Z"
   },
   {
    "duration": 6602,
    "start_time": "2023-01-20T11:12:49.728Z"
   },
   {
    "duration": 9,
    "start_time": "2023-01-20T11:55:29.235Z"
   },
   {
    "duration": 10,
    "start_time": "2023-01-20T11:55:59.650Z"
   },
   {
    "duration": 1347,
    "start_time": "2023-01-20T13:30:14.350Z"
   },
   {
    "duration": 64,
    "start_time": "2023-01-20T13:30:15.699Z"
   },
   {
    "duration": 13,
    "start_time": "2023-01-20T13:30:15.765Z"
   },
   {
    "duration": 16,
    "start_time": "2023-01-20T13:30:15.780Z"
   },
   {
    "duration": 10,
    "start_time": "2023-01-20T13:30:15.798Z"
   },
   {
    "duration": 8,
    "start_time": "2023-01-20T13:30:15.811Z"
   },
   {
    "duration": 12,
    "start_time": "2023-01-20T13:30:15.820Z"
   },
   {
    "duration": 10,
    "start_time": "2023-01-20T13:30:15.834Z"
   },
   {
    "duration": 55,
    "start_time": "2023-01-20T13:30:15.846Z"
   },
   {
    "duration": 12,
    "start_time": "2023-01-20T13:30:15.902Z"
   },
   {
    "duration": 8,
    "start_time": "2023-01-20T13:30:15.916Z"
   },
   {
    "duration": 1323,
    "start_time": "2023-01-20T13:30:15.925Z"
   },
   {
    "duration": 1921,
    "start_time": "2023-01-20T13:30:17.249Z"
   },
   {
    "duration": 1371,
    "start_time": "2023-01-20T13:30:19.173Z"
   },
   {
    "duration": 4,
    "start_time": "2023-01-20T13:30:20.546Z"
   },
   {
    "duration": 12,
    "start_time": "2023-01-20T13:30:20.551Z"
   },
   {
    "duration": 18,
    "start_time": "2023-01-20T13:30:20.565Z"
   },
   {
    "duration": 11,
    "start_time": "2023-01-20T13:30:20.585Z"
   },
   {
    "duration": 142,
    "start_time": "2023-01-20T13:30:20.597Z"
   },
   {
    "duration": 1093330,
    "start_time": "2023-01-20T13:30:20.741Z"
   },
   {
    "duration": 346,
    "start_time": "2023-01-20T13:48:34.073Z"
   },
   {
    "duration": 507,
    "start_time": "2023-01-20T13:48:34.421Z"
   },
   {
    "duration": 105179,
    "start_time": "2023-01-20T13:48:34.930Z"
   },
   {
    "duration": 1140,
    "start_time": "2023-01-20T13:50:20.111Z"
   },
   {
    "duration": 1099,
    "start_time": "2023-01-20T13:50:21.253Z"
   },
   {
    "duration": 6292,
    "start_time": "2023-01-20T13:50:22.354Z"
   },
   {
    "duration": 8,
    "start_time": "2023-01-20T13:50:28.648Z"
   }
  ],
  "kernelspec": {
   "display_name": "Python 3 (ipykernel)",
   "language": "python",
   "name": "python3"
  },
  "language_info": {
   "codemirror_mode": {
    "name": "ipython",
    "version": 3
   },
   "file_extension": ".py",
   "mimetype": "text/x-python",
   "name": "python",
   "nbconvert_exporter": "python",
   "pygments_lexer": "ipython3",
   "version": "3.9.2"
  },
  "toc": {
   "base_numbering": 1,
   "nav_menu": {},
   "number_sections": false,
   "sideBar": true,
   "skip_h1_title": true,
   "title_cell": "Table of Contents",
   "title_sidebar": "Contents",
   "toc_cell": false,
   "toc_position": {},
   "toc_section_display": true,
   "toc_window_display": false
  }
 },
 "nbformat": 4,
 "nbformat_minor": 4
}
