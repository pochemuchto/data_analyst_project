{
 "cells": [
  {
   "cell_type": "markdown",
   "metadata": {},
   "source": [
    "# Определение перспективного тарифа для телеком-компании"
   ]
  },
  {
   "cell_type": "markdown",
   "metadata": {},
   "source": [
    "«Мегалайн» — федерального оператора сотовой связи. Клиентам предлагают два тарифных плана: «Смарт» и «Ультра». Чтобы скорректировать рекламный бюджет, коммерческий департамент хочет понять, какой тариф приносит больше денег.\n",
    "\n",
    "\n",
    "**Описание тарифов**\n",
    "\n",
    "`Тариф «Смарт»`\n",
    "- Ежемесячная плата: 550 рублей\n",
    "- Включено 500 минут разговора, 50 сообщений и 15 Гб интернет-трафика\n",
    "\n",
    "Стоимость услуг сверх тарифного пакета:\n",
    "- минута разговора: 3 рубля\n",
    "- сообщение: 3 рубля\n",
    "- 1 Гб интернет-трафика: 200 рублей\n",
    "\n",
    "\n",
    "`Тариф «Ультра»`\n",
    "- Ежемесячная плата: 1950 рублей\n",
    "- Включено 3000 минут разговора, 1000 сообщений и 30 Гб интернет-трафика\n",
    "\n",
    "Стоимость услуг сверх тарифного пакета:\n",
    "\n",
    "- минута разговора: 1 рубль\n",
    "- сообщение: 1 рубль\n",
    "- 1 Гб интернет-трафика: 150 рублей\n",
    "\n",
    "\n",
    "Необходимо сделать предварительный анализ тарифов на небольшой выборке клиентов. В нашем распоряжении данные 500 пользователей «Мегалайна»."
   ]
  },
  {
   "cell_type": "markdown",
   "metadata": {},
   "source": [
    "**Цель исследования:** проанализировать поведение клиентов и сделать вывод — какой тариф лучше.\n",
    "\n",
    "**Ход исследования:** в нашем распоряжении данные 500 пользователей «Мегалайна»: кто они, откуда, каким тарифом пользуются, сколько звонков и сообщений каждый отправил за 2018 год. Выгрузим данные и проведем исследование в следующем порядке: \n",
    "\n",
    "1. Откроем файл с данными и изучим общую информацию.\n",
    "2. Предобработка данных.\n",
    "3. Исследовательский анализ данных.\n",
    "4. Проверка гипотез.\n",
    "5. Общий вывод."
   ]
  },
  {
   "cell_type": "markdown",
   "metadata": {},
   "source": [
    "## Откроем файл с данными и изучим общую информацию"
   ]
  },
  {
   "cell_type": "code",
   "execution_count": 1,
   "metadata": {},
   "outputs": [],
   "source": [
    "import pandas as pd # Импортируем библиотеки \n",
    "import matplotlib.pyplot as plt\n",
    "from scipy import stats as st\n",
    "import numpy as np"
   ]
  },
  {
   "cell_type": "code",
   "execution_count": 2,
   "metadata": {},
   "outputs": [],
   "source": [
    "try: # Откроем файлы с данными\n",
    "    df_users = pd.read_csv('users.csv')\n",
    "    df_calls = pd.read_csv('calls.csv')\n",
    "    df_messages = pd.read_csv('messages.csv')\n",
    "    df_internet = pd.read_csv('internet.csv')\n",
    "    df_tariffs = pd.read_csv('tariffs.csv')\n",
    "except:\n",
    "    df_users = pd.read_csv('/datasets/users.csv')\n",
    "    df_calls = pd.read_csv('/datasets/calls.csv')\n",
    "    df_messages = pd.read_csv('/datasets/messages.csv')\n",
    "    df_internet = pd.read_csv('/datasets/internet.csv')\n",
    "    df_tariffs = pd.read_csv('/datasets/tariffs.csv')"
   ]
  },
  {
   "cell_type": "markdown",
   "metadata": {},
   "source": [
    "Рассмотрим каждый датасет."
   ]
  },
  {
   "cell_type": "markdown",
   "metadata": {},
   "source": [
    "1. Таблица **users** (информация о пользователях):\n",
    "- `user_id` — уникальный идентификатор пользователя\n",
    "- `first_name` — имя пользователя\n",
    "- `last_name` — фамилия пользователя\n",
    "- `age` — возраст пользователя (годы)\n",
    "- `reg_date` — дата подключения тарифа (день, месяц, год)\n",
    "- `churn_date` — дата прекращения пользования тарифом (если значение пропущено, то тариф ещё действовал на момент выгрузки данных)\n",
    "- `city` — город проживания пользователя\n",
    "- `tariff` — название тарифного плана"
   ]
  },
  {
   "cell_type": "code",
   "execution_count": 3,
   "metadata": {},
   "outputs": [
    {
     "data": {
      "text/html": [
       "<div>\n",
       "<style scoped>\n",
       "    .dataframe tbody tr th:only-of-type {\n",
       "        vertical-align: middle;\n",
       "    }\n",
       "\n",
       "    .dataframe tbody tr th {\n",
       "        vertical-align: top;\n",
       "    }\n",
       "\n",
       "    .dataframe thead th {\n",
       "        text-align: right;\n",
       "    }\n",
       "</style>\n",
       "<table border=\"1\" class=\"dataframe\">\n",
       "  <thead>\n",
       "    <tr style=\"text-align: right;\">\n",
       "      <th></th>\n",
       "      <th>user_id</th>\n",
       "      <th>age</th>\n",
       "      <th>churn_date</th>\n",
       "      <th>city</th>\n",
       "      <th>first_name</th>\n",
       "      <th>last_name</th>\n",
       "      <th>reg_date</th>\n",
       "      <th>tariff</th>\n",
       "    </tr>\n",
       "  </thead>\n",
       "  <tbody>\n",
       "    <tr>\n",
       "      <th>0</th>\n",
       "      <td>1000</td>\n",
       "      <td>52</td>\n",
       "      <td>NaN</td>\n",
       "      <td>Краснодар</td>\n",
       "      <td>Рафаил</td>\n",
       "      <td>Верещагин</td>\n",
       "      <td>2018-05-25</td>\n",
       "      <td>ultra</td>\n",
       "    </tr>\n",
       "    <tr>\n",
       "      <th>1</th>\n",
       "      <td>1001</td>\n",
       "      <td>41</td>\n",
       "      <td>NaN</td>\n",
       "      <td>Москва</td>\n",
       "      <td>Иван</td>\n",
       "      <td>Ежов</td>\n",
       "      <td>2018-11-01</td>\n",
       "      <td>smart</td>\n",
       "    </tr>\n",
       "    <tr>\n",
       "      <th>2</th>\n",
       "      <td>1002</td>\n",
       "      <td>59</td>\n",
       "      <td>NaN</td>\n",
       "      <td>Стерлитамак</td>\n",
       "      <td>Евгений</td>\n",
       "      <td>Абрамович</td>\n",
       "      <td>2018-06-17</td>\n",
       "      <td>smart</td>\n",
       "    </tr>\n",
       "    <tr>\n",
       "      <th>3</th>\n",
       "      <td>1003</td>\n",
       "      <td>23</td>\n",
       "      <td>NaN</td>\n",
       "      <td>Москва</td>\n",
       "      <td>Белла</td>\n",
       "      <td>Белякова</td>\n",
       "      <td>2018-08-17</td>\n",
       "      <td>ultra</td>\n",
       "    </tr>\n",
       "    <tr>\n",
       "      <th>4</th>\n",
       "      <td>1004</td>\n",
       "      <td>68</td>\n",
       "      <td>NaN</td>\n",
       "      <td>Новокузнецк</td>\n",
       "      <td>Татьяна</td>\n",
       "      <td>Авдеенко</td>\n",
       "      <td>2018-05-14</td>\n",
       "      <td>ultra</td>\n",
       "    </tr>\n",
       "  </tbody>\n",
       "</table>\n",
       "</div>"
      ],
      "text/plain": [
       "   user_id  age churn_date         city first_name  last_name    reg_date  \\\n",
       "0     1000   52        NaN    Краснодар     Рафаил  Верещагин  2018-05-25   \n",
       "1     1001   41        NaN       Москва       Иван       Ежов  2018-11-01   \n",
       "2     1002   59        NaN  Стерлитамак    Евгений  Абрамович  2018-06-17   \n",
       "3     1003   23        NaN       Москва      Белла   Белякова  2018-08-17   \n",
       "4     1004   68        NaN  Новокузнецк    Татьяна   Авдеенко  2018-05-14   \n",
       "\n",
       "  tariff  \n",
       "0  ultra  \n",
       "1  smart  \n",
       "2  smart  \n",
       "3  ultra  \n",
       "4  ultra  "
      ]
     },
     "metadata": {},
     "output_type": "display_data"
    },
    {
     "data": {
      "text/html": [
       "<div>\n",
       "<style scoped>\n",
       "    .dataframe tbody tr th:only-of-type {\n",
       "        vertical-align: middle;\n",
       "    }\n",
       "\n",
       "    .dataframe tbody tr th {\n",
       "        vertical-align: top;\n",
       "    }\n",
       "\n",
       "    .dataframe thead th {\n",
       "        text-align: right;\n",
       "    }\n",
       "</style>\n",
       "<table border=\"1\" class=\"dataframe\">\n",
       "  <thead>\n",
       "    <tr style=\"text-align: right;\">\n",
       "      <th></th>\n",
       "      <th>user_id</th>\n",
       "      <th>age</th>\n",
       "      <th>churn_date</th>\n",
       "      <th>city</th>\n",
       "      <th>first_name</th>\n",
       "      <th>last_name</th>\n",
       "      <th>reg_date</th>\n",
       "      <th>tariff</th>\n",
       "    </tr>\n",
       "  </thead>\n",
       "  <tbody>\n",
       "    <tr>\n",
       "      <th>495</th>\n",
       "      <td>1495</td>\n",
       "      <td>65</td>\n",
       "      <td>NaN</td>\n",
       "      <td>Иркутск</td>\n",
       "      <td>Авксентий</td>\n",
       "      <td>Фокин</td>\n",
       "      <td>2018-08-28</td>\n",
       "      <td>ultra</td>\n",
       "    </tr>\n",
       "    <tr>\n",
       "      <th>496</th>\n",
       "      <td>1496</td>\n",
       "      <td>36</td>\n",
       "      <td>NaN</td>\n",
       "      <td>Вологда</td>\n",
       "      <td>Трифон</td>\n",
       "      <td>Блохин</td>\n",
       "      <td>2018-01-27</td>\n",
       "      <td>smart</td>\n",
       "    </tr>\n",
       "    <tr>\n",
       "      <th>497</th>\n",
       "      <td>1497</td>\n",
       "      <td>32</td>\n",
       "      <td>NaN</td>\n",
       "      <td>Челябинск</td>\n",
       "      <td>Каролина</td>\n",
       "      <td>Агеева</td>\n",
       "      <td>2018-10-09</td>\n",
       "      <td>smart</td>\n",
       "    </tr>\n",
       "    <tr>\n",
       "      <th>498</th>\n",
       "      <td>1498</td>\n",
       "      <td>68</td>\n",
       "      <td>2018-10-25</td>\n",
       "      <td>Владикавказ</td>\n",
       "      <td>Всеволод</td>\n",
       "      <td>Акимчин</td>\n",
       "      <td>2018-07-19</td>\n",
       "      <td>smart</td>\n",
       "    </tr>\n",
       "    <tr>\n",
       "      <th>499</th>\n",
       "      <td>1499</td>\n",
       "      <td>35</td>\n",
       "      <td>NaN</td>\n",
       "      <td>Пермь</td>\n",
       "      <td>Гектор</td>\n",
       "      <td>Корнилов</td>\n",
       "      <td>2018-09-27</td>\n",
       "      <td>smart</td>\n",
       "    </tr>\n",
       "  </tbody>\n",
       "</table>\n",
       "</div>"
      ],
      "text/plain": [
       "     user_id  age  churn_date         city first_name last_name    reg_date  \\\n",
       "495     1495   65         NaN      Иркутск  Авксентий     Фокин  2018-08-28   \n",
       "496     1496   36         NaN      Вологда     Трифон    Блохин  2018-01-27   \n",
       "497     1497   32         NaN    Челябинск   Каролина    Агеева  2018-10-09   \n",
       "498     1498   68  2018-10-25  Владикавказ   Всеволод   Акимчин  2018-07-19   \n",
       "499     1499   35         NaN        Пермь     Гектор  Корнилов  2018-09-27   \n",
       "\n",
       "    tariff  \n",
       "495  ultra  \n",
       "496  smart  \n",
       "497  smart  \n",
       "498  smart  \n",
       "499  smart  "
      ]
     },
     "metadata": {},
     "output_type": "display_data"
    },
    {
     "data": {
      "text/html": [
       "<div>\n",
       "<style scoped>\n",
       "    .dataframe tbody tr th:only-of-type {\n",
       "        vertical-align: middle;\n",
       "    }\n",
       "\n",
       "    .dataframe tbody tr th {\n",
       "        vertical-align: top;\n",
       "    }\n",
       "\n",
       "    .dataframe thead th {\n",
       "        text-align: right;\n",
       "    }\n",
       "</style>\n",
       "<table border=\"1\" class=\"dataframe\">\n",
       "  <thead>\n",
       "    <tr style=\"text-align: right;\">\n",
       "      <th></th>\n",
       "      <th>user_id</th>\n",
       "      <th>age</th>\n",
       "      <th>churn_date</th>\n",
       "      <th>city</th>\n",
       "      <th>first_name</th>\n",
       "      <th>last_name</th>\n",
       "      <th>reg_date</th>\n",
       "      <th>tariff</th>\n",
       "    </tr>\n",
       "  </thead>\n",
       "  <tbody>\n",
       "    <tr>\n",
       "      <th>477</th>\n",
       "      <td>1477</td>\n",
       "      <td>70</td>\n",
       "      <td>NaN</td>\n",
       "      <td>Набережные Челны</td>\n",
       "      <td>Геральд</td>\n",
       "      <td>Серов</td>\n",
       "      <td>2018-04-24</td>\n",
       "      <td>smart</td>\n",
       "    </tr>\n",
       "    <tr>\n",
       "      <th>256</th>\n",
       "      <td>1256</td>\n",
       "      <td>55</td>\n",
       "      <td>NaN</td>\n",
       "      <td>Санкт-Петербург</td>\n",
       "      <td>Алевтина</td>\n",
       "      <td>Панфилова</td>\n",
       "      <td>2018-09-28</td>\n",
       "      <td>smart</td>\n",
       "    </tr>\n",
       "    <tr>\n",
       "      <th>174</th>\n",
       "      <td>1174</td>\n",
       "      <td>29</td>\n",
       "      <td>NaN</td>\n",
       "      <td>Санкт-Петербург</td>\n",
       "      <td>Лолита</td>\n",
       "      <td>Розанова</td>\n",
       "      <td>2018-02-17</td>\n",
       "      <td>smart</td>\n",
       "    </tr>\n",
       "    <tr>\n",
       "      <th>309</th>\n",
       "      <td>1309</td>\n",
       "      <td>28</td>\n",
       "      <td>NaN</td>\n",
       "      <td>Казань</td>\n",
       "      <td>Юлия</td>\n",
       "      <td>Касьянова</td>\n",
       "      <td>2018-10-05</td>\n",
       "      <td>ultra</td>\n",
       "    </tr>\n",
       "    <tr>\n",
       "      <th>496</th>\n",
       "      <td>1496</td>\n",
       "      <td>36</td>\n",
       "      <td>NaN</td>\n",
       "      <td>Вологда</td>\n",
       "      <td>Трифон</td>\n",
       "      <td>Блохин</td>\n",
       "      <td>2018-01-27</td>\n",
       "      <td>smart</td>\n",
       "    </tr>\n",
       "  </tbody>\n",
       "</table>\n",
       "</div>"
      ],
      "text/plain": [
       "     user_id  age churn_date              city first_name  last_name  \\\n",
       "477     1477   70        NaN  Набережные Челны    Геральд      Серов   \n",
       "256     1256   55        NaN   Санкт-Петербург   Алевтина  Панфилова   \n",
       "174     1174   29        NaN   Санкт-Петербург     Лолита   Розанова   \n",
       "309     1309   28        NaN            Казань       Юлия  Касьянова   \n",
       "496     1496   36        NaN           Вологда     Трифон     Блохин   \n",
       "\n",
       "       reg_date tariff  \n",
       "477  2018-04-24  smart  \n",
       "256  2018-09-28  smart  \n",
       "174  2018-02-17  smart  \n",
       "309  2018-10-05  ultra  \n",
       "496  2018-01-27  smart  "
      ]
     },
     "metadata": {},
     "output_type": "display_data"
    },
    {
     "data": {
      "text/html": [
       "<div>\n",
       "<style scoped>\n",
       "    .dataframe tbody tr th:only-of-type {\n",
       "        vertical-align: middle;\n",
       "    }\n",
       "\n",
       "    .dataframe tbody tr th {\n",
       "        vertical-align: top;\n",
       "    }\n",
       "\n",
       "    .dataframe thead th {\n",
       "        text-align: right;\n",
       "    }\n",
       "</style>\n",
       "<table border=\"1\" class=\"dataframe\">\n",
       "  <thead>\n",
       "    <tr style=\"text-align: right;\">\n",
       "      <th></th>\n",
       "      <th>user_id</th>\n",
       "      <th>age</th>\n",
       "    </tr>\n",
       "  </thead>\n",
       "  <tbody>\n",
       "    <tr>\n",
       "      <th>count</th>\n",
       "      <td>500.000000</td>\n",
       "      <td>500.00000</td>\n",
       "    </tr>\n",
       "    <tr>\n",
       "      <th>mean</th>\n",
       "      <td>1249.500000</td>\n",
       "      <td>46.58800</td>\n",
       "    </tr>\n",
       "    <tr>\n",
       "      <th>std</th>\n",
       "      <td>144.481833</td>\n",
       "      <td>16.66763</td>\n",
       "    </tr>\n",
       "    <tr>\n",
       "      <th>min</th>\n",
       "      <td>1000.000000</td>\n",
       "      <td>18.00000</td>\n",
       "    </tr>\n",
       "    <tr>\n",
       "      <th>25%</th>\n",
       "      <td>1124.750000</td>\n",
       "      <td>32.00000</td>\n",
       "    </tr>\n",
       "    <tr>\n",
       "      <th>50%</th>\n",
       "      <td>1249.500000</td>\n",
       "      <td>46.00000</td>\n",
       "    </tr>\n",
       "    <tr>\n",
       "      <th>75%</th>\n",
       "      <td>1374.250000</td>\n",
       "      <td>62.00000</td>\n",
       "    </tr>\n",
       "    <tr>\n",
       "      <th>max</th>\n",
       "      <td>1499.000000</td>\n",
       "      <td>75.00000</td>\n",
       "    </tr>\n",
       "  </tbody>\n",
       "</table>\n",
       "</div>"
      ],
      "text/plain": [
       "           user_id        age\n",
       "count   500.000000  500.00000\n",
       "mean   1249.500000   46.58800\n",
       "std     144.481833   16.66763\n",
       "min    1000.000000   18.00000\n",
       "25%    1124.750000   32.00000\n",
       "50%    1249.500000   46.00000\n",
       "75%    1374.250000   62.00000\n",
       "max    1499.000000   75.00000"
      ]
     },
     "metadata": {},
     "output_type": "display_data"
    },
    {
     "name": "stdout",
     "output_type": "stream",
     "text": [
      "<class 'pandas.core.frame.DataFrame'>\n",
      "RangeIndex: 500 entries, 0 to 499\n",
      "Data columns (total 8 columns):\n",
      " #   Column      Non-Null Count  Dtype \n",
      "---  ------      --------------  ----- \n",
      " 0   user_id     500 non-null    int64 \n",
      " 1   age         500 non-null    int64 \n",
      " 2   churn_date  38 non-null     object\n",
      " 3   city        500 non-null    object\n",
      " 4   first_name  500 non-null    object\n",
      " 5   last_name   500 non-null    object\n",
      " 6   reg_date    500 non-null    object\n",
      " 7   tariff      500 non-null    object\n",
      "dtypes: int64(2), object(6)\n",
      "memory usage: 31.4+ KB\n"
     ]
    }
   ],
   "source": [
    "display(df_users.head(5))\n",
    "display(df_users.tail(5))\n",
    "display(df_users.sample(5))\n",
    "display(df_users.describe())\n",
    "df_users.info()"
   ]
  },
  {
   "cell_type": "markdown",
   "metadata": {},
   "source": [
    "___"
   ]
  },
  {
   "cell_type": "markdown",
   "metadata": {},
   "source": [
    "2. Таблица **calls** (информация о звонках):\n",
    "- `id` — уникальный номер звонка\n",
    "- `call_date` — дата звонка\n",
    "- `duration` — длительность звонка в минутах\n",
    "- `user_id` — идентификатор пользователя, сделавшего звонок"
   ]
  },
  {
   "cell_type": "code",
   "execution_count": 4,
   "metadata": {},
   "outputs": [
    {
     "data": {
      "text/html": [
       "<div>\n",
       "<style scoped>\n",
       "    .dataframe tbody tr th:only-of-type {\n",
       "        vertical-align: middle;\n",
       "    }\n",
       "\n",
       "    .dataframe tbody tr th {\n",
       "        vertical-align: top;\n",
       "    }\n",
       "\n",
       "    .dataframe thead th {\n",
       "        text-align: right;\n",
       "    }\n",
       "</style>\n",
       "<table border=\"1\" class=\"dataframe\">\n",
       "  <thead>\n",
       "    <tr style=\"text-align: right;\">\n",
       "      <th></th>\n",
       "      <th>id</th>\n",
       "      <th>call_date</th>\n",
       "      <th>duration</th>\n",
       "      <th>user_id</th>\n",
       "    </tr>\n",
       "  </thead>\n",
       "  <tbody>\n",
       "    <tr>\n",
       "      <th>0</th>\n",
       "      <td>1000_0</td>\n",
       "      <td>2018-07-25</td>\n",
       "      <td>0.00</td>\n",
       "      <td>1000</td>\n",
       "    </tr>\n",
       "    <tr>\n",
       "      <th>1</th>\n",
       "      <td>1000_1</td>\n",
       "      <td>2018-08-17</td>\n",
       "      <td>0.00</td>\n",
       "      <td>1000</td>\n",
       "    </tr>\n",
       "    <tr>\n",
       "      <th>2</th>\n",
       "      <td>1000_2</td>\n",
       "      <td>2018-06-11</td>\n",
       "      <td>2.85</td>\n",
       "      <td>1000</td>\n",
       "    </tr>\n",
       "    <tr>\n",
       "      <th>3</th>\n",
       "      <td>1000_3</td>\n",
       "      <td>2018-09-21</td>\n",
       "      <td>13.80</td>\n",
       "      <td>1000</td>\n",
       "    </tr>\n",
       "    <tr>\n",
       "      <th>4</th>\n",
       "      <td>1000_4</td>\n",
       "      <td>2018-12-15</td>\n",
       "      <td>5.18</td>\n",
       "      <td>1000</td>\n",
       "    </tr>\n",
       "  </tbody>\n",
       "</table>\n",
       "</div>"
      ],
      "text/plain": [
       "       id   call_date  duration  user_id\n",
       "0  1000_0  2018-07-25      0.00     1000\n",
       "1  1000_1  2018-08-17      0.00     1000\n",
       "2  1000_2  2018-06-11      2.85     1000\n",
       "3  1000_3  2018-09-21     13.80     1000\n",
       "4  1000_4  2018-12-15      5.18     1000"
      ]
     },
     "metadata": {},
     "output_type": "display_data"
    },
    {
     "data": {
      "text/html": [
       "<div>\n",
       "<style scoped>\n",
       "    .dataframe tbody tr th:only-of-type {\n",
       "        vertical-align: middle;\n",
       "    }\n",
       "\n",
       "    .dataframe tbody tr th {\n",
       "        vertical-align: top;\n",
       "    }\n",
       "\n",
       "    .dataframe thead th {\n",
       "        text-align: right;\n",
       "    }\n",
       "</style>\n",
       "<table border=\"1\" class=\"dataframe\">\n",
       "  <thead>\n",
       "    <tr style=\"text-align: right;\">\n",
       "      <th></th>\n",
       "      <th>id</th>\n",
       "      <th>call_date</th>\n",
       "      <th>duration</th>\n",
       "      <th>user_id</th>\n",
       "    </tr>\n",
       "  </thead>\n",
       "  <tbody>\n",
       "    <tr>\n",
       "      <th>202602</th>\n",
       "      <td>1499_215</td>\n",
       "      <td>2018-12-26</td>\n",
       "      <td>0.76</td>\n",
       "      <td>1499</td>\n",
       "    </tr>\n",
       "    <tr>\n",
       "      <th>202603</th>\n",
       "      <td>1499_216</td>\n",
       "      <td>2018-10-18</td>\n",
       "      <td>18.83</td>\n",
       "      <td>1499</td>\n",
       "    </tr>\n",
       "    <tr>\n",
       "      <th>202604</th>\n",
       "      <td>1499_217</td>\n",
       "      <td>2018-11-10</td>\n",
       "      <td>10.81</td>\n",
       "      <td>1499</td>\n",
       "    </tr>\n",
       "    <tr>\n",
       "      <th>202605</th>\n",
       "      <td>1499_218</td>\n",
       "      <td>2018-10-06</td>\n",
       "      <td>4.27</td>\n",
       "      <td>1499</td>\n",
       "    </tr>\n",
       "    <tr>\n",
       "      <th>202606</th>\n",
       "      <td>1499_219</td>\n",
       "      <td>2018-12-14</td>\n",
       "      <td>19.62</td>\n",
       "      <td>1499</td>\n",
       "    </tr>\n",
       "  </tbody>\n",
       "</table>\n",
       "</div>"
      ],
      "text/plain": [
       "              id   call_date  duration  user_id\n",
       "202602  1499_215  2018-12-26      0.76     1499\n",
       "202603  1499_216  2018-10-18     18.83     1499\n",
       "202604  1499_217  2018-11-10     10.81     1499\n",
       "202605  1499_218  2018-10-06      4.27     1499\n",
       "202606  1499_219  2018-12-14     19.62     1499"
      ]
     },
     "metadata": {},
     "output_type": "display_data"
    },
    {
     "data": {
      "text/html": [
       "<div>\n",
       "<style scoped>\n",
       "    .dataframe tbody tr th:only-of-type {\n",
       "        vertical-align: middle;\n",
       "    }\n",
       "\n",
       "    .dataframe tbody tr th {\n",
       "        vertical-align: top;\n",
       "    }\n",
       "\n",
       "    .dataframe thead th {\n",
       "        text-align: right;\n",
       "    }\n",
       "</style>\n",
       "<table border=\"1\" class=\"dataframe\">\n",
       "  <thead>\n",
       "    <tr style=\"text-align: right;\">\n",
       "      <th></th>\n",
       "      <th>id</th>\n",
       "      <th>call_date</th>\n",
       "      <th>duration</th>\n",
       "      <th>user_id</th>\n",
       "    </tr>\n",
       "  </thead>\n",
       "  <tbody>\n",
       "    <tr>\n",
       "      <th>29697</th>\n",
       "      <td>1075_103</td>\n",
       "      <td>2018-12-22</td>\n",
       "      <td>6.27</td>\n",
       "      <td>1075</td>\n",
       "    </tr>\n",
       "    <tr>\n",
       "      <th>1008</th>\n",
       "      <td>1003_301</td>\n",
       "      <td>2018-11-28</td>\n",
       "      <td>13.04</td>\n",
       "      <td>1003</td>\n",
       "    </tr>\n",
       "    <tr>\n",
       "      <th>110219</th>\n",
       "      <td>1282_1113</td>\n",
       "      <td>2018-09-08</td>\n",
       "      <td>8.48</td>\n",
       "      <td>1282</td>\n",
       "    </tr>\n",
       "    <tr>\n",
       "      <th>55517</th>\n",
       "      <td>1142_161</td>\n",
       "      <td>2018-03-28</td>\n",
       "      <td>20.57</td>\n",
       "      <td>1142</td>\n",
       "    </tr>\n",
       "    <tr>\n",
       "      <th>29156</th>\n",
       "      <td>1072_482</td>\n",
       "      <td>2018-07-31</td>\n",
       "      <td>15.85</td>\n",
       "      <td>1072</td>\n",
       "    </tr>\n",
       "  </tbody>\n",
       "</table>\n",
       "</div>"
      ],
      "text/plain": [
       "               id   call_date  duration  user_id\n",
       "29697    1075_103  2018-12-22      6.27     1075\n",
       "1008     1003_301  2018-11-28     13.04     1003\n",
       "110219  1282_1113  2018-09-08      8.48     1282\n",
       "55517    1142_161  2018-03-28     20.57     1142\n",
       "29156    1072_482  2018-07-31     15.85     1072"
      ]
     },
     "metadata": {},
     "output_type": "display_data"
    },
    {
     "data": {
      "text/html": [
       "<div>\n",
       "<style scoped>\n",
       "    .dataframe tbody tr th:only-of-type {\n",
       "        vertical-align: middle;\n",
       "    }\n",
       "\n",
       "    .dataframe tbody tr th {\n",
       "        vertical-align: top;\n",
       "    }\n",
       "\n",
       "    .dataframe thead th {\n",
       "        text-align: right;\n",
       "    }\n",
       "</style>\n",
       "<table border=\"1\" class=\"dataframe\">\n",
       "  <thead>\n",
       "    <tr style=\"text-align: right;\">\n",
       "      <th></th>\n",
       "      <th>duration</th>\n",
       "      <th>user_id</th>\n",
       "    </tr>\n",
       "  </thead>\n",
       "  <tbody>\n",
       "    <tr>\n",
       "      <th>count</th>\n",
       "      <td>202607.000000</td>\n",
       "      <td>202607.000000</td>\n",
       "    </tr>\n",
       "    <tr>\n",
       "      <th>mean</th>\n",
       "      <td>6.755887</td>\n",
       "      <td>1253.940619</td>\n",
       "    </tr>\n",
       "    <tr>\n",
       "      <th>std</th>\n",
       "      <td>5.843365</td>\n",
       "      <td>144.722751</td>\n",
       "    </tr>\n",
       "    <tr>\n",
       "      <th>min</th>\n",
       "      <td>0.000000</td>\n",
       "      <td>1000.000000</td>\n",
       "    </tr>\n",
       "    <tr>\n",
       "      <th>25%</th>\n",
       "      <td>1.300000</td>\n",
       "      <td>1126.000000</td>\n",
       "    </tr>\n",
       "    <tr>\n",
       "      <th>50%</th>\n",
       "      <td>6.000000</td>\n",
       "      <td>1260.000000</td>\n",
       "    </tr>\n",
       "    <tr>\n",
       "      <th>75%</th>\n",
       "      <td>10.700000</td>\n",
       "      <td>1379.000000</td>\n",
       "    </tr>\n",
       "    <tr>\n",
       "      <th>max</th>\n",
       "      <td>38.000000</td>\n",
       "      <td>1499.000000</td>\n",
       "    </tr>\n",
       "  </tbody>\n",
       "</table>\n",
       "</div>"
      ],
      "text/plain": [
       "            duration        user_id\n",
       "count  202607.000000  202607.000000\n",
       "mean        6.755887    1253.940619\n",
       "std         5.843365     144.722751\n",
       "min         0.000000    1000.000000\n",
       "25%         1.300000    1126.000000\n",
       "50%         6.000000    1260.000000\n",
       "75%        10.700000    1379.000000\n",
       "max        38.000000    1499.000000"
      ]
     },
     "metadata": {},
     "output_type": "display_data"
    },
    {
     "name": "stdout",
     "output_type": "stream",
     "text": [
      "<class 'pandas.core.frame.DataFrame'>\n",
      "RangeIndex: 202607 entries, 0 to 202606\n",
      "Data columns (total 4 columns):\n",
      " #   Column     Non-Null Count   Dtype  \n",
      "---  ------     --------------   -----  \n",
      " 0   id         202607 non-null  object \n",
      " 1   call_date  202607 non-null  object \n",
      " 2   duration   202607 non-null  float64\n",
      " 3   user_id    202607 non-null  int64  \n",
      "dtypes: float64(1), int64(1), object(2)\n",
      "memory usage: 6.2+ MB\n"
     ]
    }
   ],
   "source": [
    "display(df_calls.head(5))\n",
    "display(df_calls.tail(5))\n",
    "display(df_calls.sample(5))\n",
    "display(df_calls.describe())\n",
    "df_calls.info()"
   ]
  },
  {
   "cell_type": "markdown",
   "metadata": {},
   "source": [
    "___"
   ]
  },
  {
   "cell_type": "markdown",
   "metadata": {},
   "source": [
    "3. Таблица **messages** (информация о сообщениях):\n",
    "- `id` — уникальный номер сообщения\n",
    "- `message_date` — дата сообщения\n",
    "- `user_id` — идентификатор пользователя, отправившего сообщение"
   ]
  },
  {
   "cell_type": "code",
   "execution_count": 5,
   "metadata": {},
   "outputs": [
    {
     "data": {
      "text/html": [
       "<div>\n",
       "<style scoped>\n",
       "    .dataframe tbody tr th:only-of-type {\n",
       "        vertical-align: middle;\n",
       "    }\n",
       "\n",
       "    .dataframe tbody tr th {\n",
       "        vertical-align: top;\n",
       "    }\n",
       "\n",
       "    .dataframe thead th {\n",
       "        text-align: right;\n",
       "    }\n",
       "</style>\n",
       "<table border=\"1\" class=\"dataframe\">\n",
       "  <thead>\n",
       "    <tr style=\"text-align: right;\">\n",
       "      <th></th>\n",
       "      <th>id</th>\n",
       "      <th>message_date</th>\n",
       "      <th>user_id</th>\n",
       "    </tr>\n",
       "  </thead>\n",
       "  <tbody>\n",
       "    <tr>\n",
       "      <th>0</th>\n",
       "      <td>1000_0</td>\n",
       "      <td>2018-06-27</td>\n",
       "      <td>1000</td>\n",
       "    </tr>\n",
       "    <tr>\n",
       "      <th>1</th>\n",
       "      <td>1000_1</td>\n",
       "      <td>2018-10-08</td>\n",
       "      <td>1000</td>\n",
       "    </tr>\n",
       "    <tr>\n",
       "      <th>2</th>\n",
       "      <td>1000_2</td>\n",
       "      <td>2018-08-04</td>\n",
       "      <td>1000</td>\n",
       "    </tr>\n",
       "    <tr>\n",
       "      <th>3</th>\n",
       "      <td>1000_3</td>\n",
       "      <td>2018-06-16</td>\n",
       "      <td>1000</td>\n",
       "    </tr>\n",
       "    <tr>\n",
       "      <th>4</th>\n",
       "      <td>1000_4</td>\n",
       "      <td>2018-12-05</td>\n",
       "      <td>1000</td>\n",
       "    </tr>\n",
       "  </tbody>\n",
       "</table>\n",
       "</div>"
      ],
      "text/plain": [
       "       id message_date  user_id\n",
       "0  1000_0   2018-06-27     1000\n",
       "1  1000_1   2018-10-08     1000\n",
       "2  1000_2   2018-08-04     1000\n",
       "3  1000_3   2018-06-16     1000\n",
       "4  1000_4   2018-12-05     1000"
      ]
     },
     "metadata": {},
     "output_type": "display_data"
    },
    {
     "data": {
      "text/html": [
       "<div>\n",
       "<style scoped>\n",
       "    .dataframe tbody tr th:only-of-type {\n",
       "        vertical-align: middle;\n",
       "    }\n",
       "\n",
       "    .dataframe tbody tr th {\n",
       "        vertical-align: top;\n",
       "    }\n",
       "\n",
       "    .dataframe thead th {\n",
       "        text-align: right;\n",
       "    }\n",
       "</style>\n",
       "<table border=\"1\" class=\"dataframe\">\n",
       "  <thead>\n",
       "    <tr style=\"text-align: right;\">\n",
       "      <th></th>\n",
       "      <th>id</th>\n",
       "      <th>message_date</th>\n",
       "      <th>user_id</th>\n",
       "    </tr>\n",
       "  </thead>\n",
       "  <tbody>\n",
       "    <tr>\n",
       "      <th>123031</th>\n",
       "      <td>1499_179</td>\n",
       "      <td>2018-12-12</td>\n",
       "      <td>1499</td>\n",
       "    </tr>\n",
       "    <tr>\n",
       "      <th>123032</th>\n",
       "      <td>1499_180</td>\n",
       "      <td>2018-09-28</td>\n",
       "      <td>1499</td>\n",
       "    </tr>\n",
       "    <tr>\n",
       "      <th>123033</th>\n",
       "      <td>1499_181</td>\n",
       "      <td>2018-09-27</td>\n",
       "      <td>1499</td>\n",
       "    </tr>\n",
       "    <tr>\n",
       "      <th>123034</th>\n",
       "      <td>1499_182</td>\n",
       "      <td>2018-11-15</td>\n",
       "      <td>1499</td>\n",
       "    </tr>\n",
       "    <tr>\n",
       "      <th>123035</th>\n",
       "      <td>1499_183</td>\n",
       "      <td>2018-11-16</td>\n",
       "      <td>1499</td>\n",
       "    </tr>\n",
       "  </tbody>\n",
       "</table>\n",
       "</div>"
      ],
      "text/plain": [
       "              id message_date  user_id\n",
       "123031  1499_179   2018-12-12     1499\n",
       "123032  1499_180   2018-09-28     1499\n",
       "123033  1499_181   2018-09-27     1499\n",
       "123034  1499_182   2018-11-15     1499\n",
       "123035  1499_183   2018-11-16     1499"
      ]
     },
     "metadata": {},
     "output_type": "display_data"
    },
    {
     "data": {
      "text/html": [
       "<div>\n",
       "<style scoped>\n",
       "    .dataframe tbody tr th:only-of-type {\n",
       "        vertical-align: middle;\n",
       "    }\n",
       "\n",
       "    .dataframe tbody tr th {\n",
       "        vertical-align: top;\n",
       "    }\n",
       "\n",
       "    .dataframe thead th {\n",
       "        text-align: right;\n",
       "    }\n",
       "</style>\n",
       "<table border=\"1\" class=\"dataframe\">\n",
       "  <thead>\n",
       "    <tr style=\"text-align: right;\">\n",
       "      <th></th>\n",
       "      <th>id</th>\n",
       "      <th>message_date</th>\n",
       "      <th>user_id</th>\n",
       "    </tr>\n",
       "  </thead>\n",
       "  <tbody>\n",
       "    <tr>\n",
       "      <th>79610</th>\n",
       "      <td>1332_230</td>\n",
       "      <td>2018-12-12</td>\n",
       "      <td>1332</td>\n",
       "    </tr>\n",
       "    <tr>\n",
       "      <th>88196</th>\n",
       "      <td>1369_121</td>\n",
       "      <td>2018-10-14</td>\n",
       "      <td>1369</td>\n",
       "    </tr>\n",
       "    <tr>\n",
       "      <th>100346</th>\n",
       "      <td>1411_182</td>\n",
       "      <td>2018-10-11</td>\n",
       "      <td>1411</td>\n",
       "    </tr>\n",
       "    <tr>\n",
       "      <th>40544</th>\n",
       "      <td>1172_28</td>\n",
       "      <td>2018-08-22</td>\n",
       "      <td>1172</td>\n",
       "    </tr>\n",
       "    <tr>\n",
       "      <th>79662</th>\n",
       "      <td>1333_18</td>\n",
       "      <td>2018-10-10</td>\n",
       "      <td>1333</td>\n",
       "    </tr>\n",
       "  </tbody>\n",
       "</table>\n",
       "</div>"
      ],
      "text/plain": [
       "              id message_date  user_id\n",
       "79610   1332_230   2018-12-12     1332\n",
       "88196   1369_121   2018-10-14     1369\n",
       "100346  1411_182   2018-10-11     1411\n",
       "40544    1172_28   2018-08-22     1172\n",
       "79662    1333_18   2018-10-10     1333"
      ]
     },
     "metadata": {},
     "output_type": "display_data"
    },
    {
     "name": "stdout",
     "output_type": "stream",
     "text": [
      "<class 'pandas.core.frame.DataFrame'>\n",
      "RangeIndex: 123036 entries, 0 to 123035\n",
      "Data columns (total 3 columns):\n",
      " #   Column        Non-Null Count   Dtype \n",
      "---  ------        --------------   ----- \n",
      " 0   id            123036 non-null  object\n",
      " 1   message_date  123036 non-null  object\n",
      " 2   user_id       123036 non-null  int64 \n",
      "dtypes: int64(1), object(2)\n",
      "memory usage: 2.8+ MB\n"
     ]
    }
   ],
   "source": [
    "display(df_messages.head(5))\n",
    "display(df_messages.tail(5))\n",
    "display(df_messages.sample(5))\n",
    "df_messages.info()"
   ]
  },
  {
   "cell_type": "markdown",
   "metadata": {},
   "source": [
    "___"
   ]
  },
  {
   "cell_type": "markdown",
   "metadata": {},
   "source": [
    "4. Таблица **internet** (информация об интернет-сессиях):\n",
    "- `id` — уникальный номер сессии\n",
    "- `mb_used` — объём потраченного за сессию интернет-трафика (в мегабайтах)\n",
    "- `session_date` — дата интернет-сессии\n",
    "- `user_id` — идентификатор пользователя"
   ]
  },
  {
   "cell_type": "code",
   "execution_count": 6,
   "metadata": {},
   "outputs": [
    {
     "data": {
      "text/html": [
       "<div>\n",
       "<style scoped>\n",
       "    .dataframe tbody tr th:only-of-type {\n",
       "        vertical-align: middle;\n",
       "    }\n",
       "\n",
       "    .dataframe tbody tr th {\n",
       "        vertical-align: top;\n",
       "    }\n",
       "\n",
       "    .dataframe thead th {\n",
       "        text-align: right;\n",
       "    }\n",
       "</style>\n",
       "<table border=\"1\" class=\"dataframe\">\n",
       "  <thead>\n",
       "    <tr style=\"text-align: right;\">\n",
       "      <th></th>\n",
       "      <th>Unnamed: 0</th>\n",
       "      <th>id</th>\n",
       "      <th>mb_used</th>\n",
       "      <th>session_date</th>\n",
       "      <th>user_id</th>\n",
       "    </tr>\n",
       "  </thead>\n",
       "  <tbody>\n",
       "    <tr>\n",
       "      <th>0</th>\n",
       "      <td>0</td>\n",
       "      <td>1000_0</td>\n",
       "      <td>112.95</td>\n",
       "      <td>2018-11-25</td>\n",
       "      <td>1000</td>\n",
       "    </tr>\n",
       "    <tr>\n",
       "      <th>1</th>\n",
       "      <td>1</td>\n",
       "      <td>1000_1</td>\n",
       "      <td>1052.81</td>\n",
       "      <td>2018-09-07</td>\n",
       "      <td>1000</td>\n",
       "    </tr>\n",
       "    <tr>\n",
       "      <th>2</th>\n",
       "      <td>2</td>\n",
       "      <td>1000_2</td>\n",
       "      <td>1197.26</td>\n",
       "      <td>2018-06-25</td>\n",
       "      <td>1000</td>\n",
       "    </tr>\n",
       "    <tr>\n",
       "      <th>3</th>\n",
       "      <td>3</td>\n",
       "      <td>1000_3</td>\n",
       "      <td>550.27</td>\n",
       "      <td>2018-08-22</td>\n",
       "      <td>1000</td>\n",
       "    </tr>\n",
       "    <tr>\n",
       "      <th>4</th>\n",
       "      <td>4</td>\n",
       "      <td>1000_4</td>\n",
       "      <td>302.56</td>\n",
       "      <td>2018-09-24</td>\n",
       "      <td>1000</td>\n",
       "    </tr>\n",
       "  </tbody>\n",
       "</table>\n",
       "</div>"
      ],
      "text/plain": [
       "   Unnamed: 0      id  mb_used session_date  user_id\n",
       "0           0  1000_0   112.95   2018-11-25     1000\n",
       "1           1  1000_1  1052.81   2018-09-07     1000\n",
       "2           2  1000_2  1197.26   2018-06-25     1000\n",
       "3           3  1000_3   550.27   2018-08-22     1000\n",
       "4           4  1000_4   302.56   2018-09-24     1000"
      ]
     },
     "metadata": {},
     "output_type": "display_data"
    },
    {
     "data": {
      "text/html": [
       "<div>\n",
       "<style scoped>\n",
       "    .dataframe tbody tr th:only-of-type {\n",
       "        vertical-align: middle;\n",
       "    }\n",
       "\n",
       "    .dataframe tbody tr th {\n",
       "        vertical-align: top;\n",
       "    }\n",
       "\n",
       "    .dataframe thead th {\n",
       "        text-align: right;\n",
       "    }\n",
       "</style>\n",
       "<table border=\"1\" class=\"dataframe\">\n",
       "  <thead>\n",
       "    <tr style=\"text-align: right;\">\n",
       "      <th></th>\n",
       "      <th>Unnamed: 0</th>\n",
       "      <th>id</th>\n",
       "      <th>mb_used</th>\n",
       "      <th>session_date</th>\n",
       "      <th>user_id</th>\n",
       "    </tr>\n",
       "  </thead>\n",
       "  <tbody>\n",
       "    <tr>\n",
       "      <th>149391</th>\n",
       "      <td>149391</td>\n",
       "      <td>1499_152</td>\n",
       "      <td>318.90</td>\n",
       "      <td>2018-10-03</td>\n",
       "      <td>1499</td>\n",
       "    </tr>\n",
       "    <tr>\n",
       "      <th>149392</th>\n",
       "      <td>149392</td>\n",
       "      <td>1499_153</td>\n",
       "      <td>490.13</td>\n",
       "      <td>2018-12-14</td>\n",
       "      <td>1499</td>\n",
       "    </tr>\n",
       "    <tr>\n",
       "      <th>149393</th>\n",
       "      <td>149393</td>\n",
       "      <td>1499_154</td>\n",
       "      <td>0.00</td>\n",
       "      <td>2018-10-27</td>\n",
       "      <td>1499</td>\n",
       "    </tr>\n",
       "    <tr>\n",
       "      <th>149394</th>\n",
       "      <td>149394</td>\n",
       "      <td>1499_155</td>\n",
       "      <td>1246.32</td>\n",
       "      <td>2018-11-26</td>\n",
       "      <td>1499</td>\n",
       "    </tr>\n",
       "    <tr>\n",
       "      <th>149395</th>\n",
       "      <td>149395</td>\n",
       "      <td>1499_156</td>\n",
       "      <td>544.37</td>\n",
       "      <td>2018-10-26</td>\n",
       "      <td>1499</td>\n",
       "    </tr>\n",
       "  </tbody>\n",
       "</table>\n",
       "</div>"
      ],
      "text/plain": [
       "        Unnamed: 0        id  mb_used session_date  user_id\n",
       "149391      149391  1499_152   318.90   2018-10-03     1499\n",
       "149392      149392  1499_153   490.13   2018-12-14     1499\n",
       "149393      149393  1499_154     0.00   2018-10-27     1499\n",
       "149394      149394  1499_155  1246.32   2018-11-26     1499\n",
       "149395      149395  1499_156   544.37   2018-10-26     1499"
      ]
     },
     "metadata": {},
     "output_type": "display_data"
    },
    {
     "data": {
      "text/html": [
       "<div>\n",
       "<style scoped>\n",
       "    .dataframe tbody tr th:only-of-type {\n",
       "        vertical-align: middle;\n",
       "    }\n",
       "\n",
       "    .dataframe tbody tr th {\n",
       "        vertical-align: top;\n",
       "    }\n",
       "\n",
       "    .dataframe thead th {\n",
       "        text-align: right;\n",
       "    }\n",
       "</style>\n",
       "<table border=\"1\" class=\"dataframe\">\n",
       "  <thead>\n",
       "    <tr style=\"text-align: right;\">\n",
       "      <th></th>\n",
       "      <th>Unnamed: 0</th>\n",
       "      <th>id</th>\n",
       "      <th>mb_used</th>\n",
       "      <th>session_date</th>\n",
       "      <th>user_id</th>\n",
       "    </tr>\n",
       "  </thead>\n",
       "  <tbody>\n",
       "    <tr>\n",
       "      <th>82743</th>\n",
       "      <td>82743</td>\n",
       "      <td>1281_59</td>\n",
       "      <td>501.36</td>\n",
       "      <td>2018-06-24</td>\n",
       "      <td>1281</td>\n",
       "    </tr>\n",
       "    <tr>\n",
       "      <th>1607</th>\n",
       "      <td>1607</td>\n",
       "      <td>1006_238</td>\n",
       "      <td>570.11</td>\n",
       "      <td>2018-10-06</td>\n",
       "      <td>1006</td>\n",
       "    </tr>\n",
       "    <tr>\n",
       "      <th>71145</th>\n",
       "      <td>71145</td>\n",
       "      <td>1241_49</td>\n",
       "      <td>0.00</td>\n",
       "      <td>2018-11-16</td>\n",
       "      <td>1241</td>\n",
       "    </tr>\n",
       "    <tr>\n",
       "      <th>10384</th>\n",
       "      <td>10384</td>\n",
       "      <td>1035_219</td>\n",
       "      <td>316.57</td>\n",
       "      <td>2018-08-11</td>\n",
       "      <td>1035</td>\n",
       "    </tr>\n",
       "    <tr>\n",
       "      <th>109809</th>\n",
       "      <td>109809</td>\n",
       "      <td>1374_20</td>\n",
       "      <td>0.00</td>\n",
       "      <td>2018-09-09</td>\n",
       "      <td>1374</td>\n",
       "    </tr>\n",
       "  </tbody>\n",
       "</table>\n",
       "</div>"
      ],
      "text/plain": [
       "        Unnamed: 0        id  mb_used session_date  user_id\n",
       "82743        82743   1281_59   501.36   2018-06-24     1281\n",
       "1607          1607  1006_238   570.11   2018-10-06     1006\n",
       "71145        71145   1241_49     0.00   2018-11-16     1241\n",
       "10384        10384  1035_219   316.57   2018-08-11     1035\n",
       "109809      109809   1374_20     0.00   2018-09-09     1374"
      ]
     },
     "metadata": {},
     "output_type": "display_data"
    },
    {
     "data": {
      "text/html": [
       "<div>\n",
       "<style scoped>\n",
       "    .dataframe tbody tr th:only-of-type {\n",
       "        vertical-align: middle;\n",
       "    }\n",
       "\n",
       "    .dataframe tbody tr th {\n",
       "        vertical-align: top;\n",
       "    }\n",
       "\n",
       "    .dataframe thead th {\n",
       "        text-align: right;\n",
       "    }\n",
       "</style>\n",
       "<table border=\"1\" class=\"dataframe\">\n",
       "  <thead>\n",
       "    <tr style=\"text-align: right;\">\n",
       "      <th></th>\n",
       "      <th>Unnamed: 0</th>\n",
       "      <th>mb_used</th>\n",
       "      <th>user_id</th>\n",
       "    </tr>\n",
       "  </thead>\n",
       "  <tbody>\n",
       "    <tr>\n",
       "      <th>count</th>\n",
       "      <td>149396.000000</td>\n",
       "      <td>149396.000000</td>\n",
       "      <td>149396.000000</td>\n",
       "    </tr>\n",
       "    <tr>\n",
       "      <th>mean</th>\n",
       "      <td>74697.500000</td>\n",
       "      <td>370.192426</td>\n",
       "      <td>1252.099842</td>\n",
       "    </tr>\n",
       "    <tr>\n",
       "      <th>std</th>\n",
       "      <td>43127.054745</td>\n",
       "      <td>278.300951</td>\n",
       "      <td>144.050823</td>\n",
       "    </tr>\n",
       "    <tr>\n",
       "      <th>min</th>\n",
       "      <td>0.000000</td>\n",
       "      <td>0.000000</td>\n",
       "      <td>1000.000000</td>\n",
       "    </tr>\n",
       "    <tr>\n",
       "      <th>25%</th>\n",
       "      <td>37348.750000</td>\n",
       "      <td>138.187500</td>\n",
       "      <td>1130.000000</td>\n",
       "    </tr>\n",
       "    <tr>\n",
       "      <th>50%</th>\n",
       "      <td>74697.500000</td>\n",
       "      <td>348.015000</td>\n",
       "      <td>1251.000000</td>\n",
       "    </tr>\n",
       "    <tr>\n",
       "      <th>75%</th>\n",
       "      <td>112046.250000</td>\n",
       "      <td>559.552500</td>\n",
       "      <td>1380.000000</td>\n",
       "    </tr>\n",
       "    <tr>\n",
       "      <th>max</th>\n",
       "      <td>149395.000000</td>\n",
       "      <td>1724.830000</td>\n",
       "      <td>1499.000000</td>\n",
       "    </tr>\n",
       "  </tbody>\n",
       "</table>\n",
       "</div>"
      ],
      "text/plain": [
       "          Unnamed: 0        mb_used        user_id\n",
       "count  149396.000000  149396.000000  149396.000000\n",
       "mean    74697.500000     370.192426    1252.099842\n",
       "std     43127.054745     278.300951     144.050823\n",
       "min         0.000000       0.000000    1000.000000\n",
       "25%     37348.750000     138.187500    1130.000000\n",
       "50%     74697.500000     348.015000    1251.000000\n",
       "75%    112046.250000     559.552500    1380.000000\n",
       "max    149395.000000    1724.830000    1499.000000"
      ]
     },
     "metadata": {},
     "output_type": "display_data"
    },
    {
     "name": "stdout",
     "output_type": "stream",
     "text": [
      "<class 'pandas.core.frame.DataFrame'>\n",
      "RangeIndex: 149396 entries, 0 to 149395\n",
      "Data columns (total 5 columns):\n",
      " #   Column        Non-Null Count   Dtype  \n",
      "---  ------        --------------   -----  \n",
      " 0   Unnamed: 0    149396 non-null  int64  \n",
      " 1   id            149396 non-null  object \n",
      " 2   mb_used       149396 non-null  float64\n",
      " 3   session_date  149396 non-null  object \n",
      " 4   user_id       149396 non-null  int64  \n",
      "dtypes: float64(1), int64(2), object(2)\n",
      "memory usage: 5.7+ MB\n"
     ]
    }
   ],
   "source": [
    "display(df_internet.head(5))\n",
    "display(df_internet.tail(5))\n",
    "display(df_internet.sample(5))\n",
    "display(df_internet.describe())\n",
    "df_internet.info()"
   ]
  },
  {
   "cell_type": "markdown",
   "metadata": {},
   "source": [
    "____"
   ]
  },
  {
   "cell_type": "markdown",
   "metadata": {},
   "source": [
    "5. Таблица **tariffs** (информация о тарифах):\n",
    "- `tariff_name` — название тарифа\n",
    "- `rub_monthly_fe`e — ежемесячная абонентская плата в рублях\n",
    "- `minutes_included` — количество минут разговора в месяц, включённых в абонентскую плату\n",
    "- `messages_included` — количество сообщений в месяц, включённых в абонентскую плату\n",
    "- `mb_per_month_included` — объём интернет-трафика, включённого в абонентскую плату (в мегабайтах)\n",
    "- `rub_per_minute` — стоимость минуты разговора сверх тарифного пакета (например, если в тарифе 100 минут разговора в месяц, то со 101 минуты будет взиматься плата)\n",
    "- `rub_per_message` — стоимость отправки сообщения сверх тарифного пакета\n",
    "- `rub_per_gb` — стоимость дополнительного гигабайта интернет-трафика сверх тарифного пакета (1 гигабайт = 1024 мегабайта)"
   ]
  },
  {
   "cell_type": "code",
   "execution_count": 7,
   "metadata": {},
   "outputs": [
    {
     "data": {
      "text/html": [
       "<div>\n",
       "<style scoped>\n",
       "    .dataframe tbody tr th:only-of-type {\n",
       "        vertical-align: middle;\n",
       "    }\n",
       "\n",
       "    .dataframe tbody tr th {\n",
       "        vertical-align: top;\n",
       "    }\n",
       "\n",
       "    .dataframe thead th {\n",
       "        text-align: right;\n",
       "    }\n",
       "</style>\n",
       "<table border=\"1\" class=\"dataframe\">\n",
       "  <thead>\n",
       "    <tr style=\"text-align: right;\">\n",
       "      <th></th>\n",
       "      <th>messages_included</th>\n",
       "      <th>mb_per_month_included</th>\n",
       "      <th>minutes_included</th>\n",
       "      <th>rub_monthly_fee</th>\n",
       "      <th>rub_per_gb</th>\n",
       "      <th>rub_per_message</th>\n",
       "      <th>rub_per_minute</th>\n",
       "      <th>tariff_name</th>\n",
       "    </tr>\n",
       "  </thead>\n",
       "  <tbody>\n",
       "    <tr>\n",
       "      <th>0</th>\n",
       "      <td>50</td>\n",
       "      <td>15360</td>\n",
       "      <td>500</td>\n",
       "      <td>550</td>\n",
       "      <td>200</td>\n",
       "      <td>3</td>\n",
       "      <td>3</td>\n",
       "      <td>smart</td>\n",
       "    </tr>\n",
       "    <tr>\n",
       "      <th>1</th>\n",
       "      <td>1000</td>\n",
       "      <td>30720</td>\n",
       "      <td>3000</td>\n",
       "      <td>1950</td>\n",
       "      <td>150</td>\n",
       "      <td>1</td>\n",
       "      <td>1</td>\n",
       "      <td>ultra</td>\n",
       "    </tr>\n",
       "  </tbody>\n",
       "</table>\n",
       "</div>"
      ],
      "text/plain": [
       "   messages_included  mb_per_month_included  minutes_included  \\\n",
       "0                 50                  15360               500   \n",
       "1               1000                  30720              3000   \n",
       "\n",
       "   rub_monthly_fee  rub_per_gb  rub_per_message  rub_per_minute tariff_name  \n",
       "0              550         200                3               3       smart  \n",
       "1             1950         150                1               1       ultra  "
      ]
     },
     "metadata": {},
     "output_type": "display_data"
    },
    {
     "name": "stdout",
     "output_type": "stream",
     "text": [
      "<class 'pandas.core.frame.DataFrame'>\n",
      "RangeIndex: 2 entries, 0 to 1\n",
      "Data columns (total 8 columns):\n",
      " #   Column                 Non-Null Count  Dtype \n",
      "---  ------                 --------------  ----- \n",
      " 0   messages_included      2 non-null      int64 \n",
      " 1   mb_per_month_included  2 non-null      int64 \n",
      " 2   minutes_included       2 non-null      int64 \n",
      " 3   rub_monthly_fee        2 non-null      int64 \n",
      " 4   rub_per_gb             2 non-null      int64 \n",
      " 5   rub_per_message        2 non-null      int64 \n",
      " 6   rub_per_minute         2 non-null      int64 \n",
      " 7   tariff_name            2 non-null      object\n",
      "dtypes: int64(7), object(1)\n",
      "memory usage: 256.0+ bytes\n"
     ]
    }
   ],
   "source": [
    "display(df_tariffs.head())\n",
    "df_tariffs.info()"
   ]
  },
  {
   "cell_type": "markdown",
   "metadata": {},
   "source": [
    "**Вывод**\n",
    "\n",
    "- Распределение данных выглядит адекватно.\n",
    "- Наименование столбцов корректно.\n",
    "- Пропуски есть только в таблице df_users в столбце `churn_date` (дата прекращения пользования тарифом), но это обусловлено тем, что тариф ещё действовал на момент выгрузки данных.\n",
    "- Необходимо поменять во всех таблицах тип данных в столбцах с датой, так как вместо *datetime* они обозначены *odject*.\n",
    "\n",
    "Первичное ознакомление с данными проведено, рассмотрим данные более подробно и приступим к предобработке."
   ]
  },
  {
   "cell_type": "markdown",
   "metadata": {},
   "source": [
    "## Подготовка данных"
   ]
  },
  {
   "cell_type": "markdown",
   "metadata": {},
   "source": [
    "Во всех таблицах столбцы с датами обозначены типом *object*, заменим на *datetime*. Проверим, может не только 2018 год указан."
   ]
  },
  {
   "cell_type": "code",
   "execution_count": 8,
   "metadata": {},
   "outputs": [
    {
     "name": "stdout",
     "output_type": "stream",
     "text": [
      "Float64Index([nan, 2018.0], dtype='float64', name='churn_date')\n",
      "Int64Index([2018], dtype='int64', name='reg_date')\n",
      "Int64Index([2018], dtype='int64', name='call_date')\n",
      "Int64Index([2018], dtype='int64', name='message_date')\n",
      "Int64Index([2018], dtype='int64', name='session_date')\n"
     ]
    }
   ],
   "source": [
    "print(pd.DatetimeIndex(df_users['churn_date']).year.unique())\n",
    "print(pd.DatetimeIndex(df_users['reg_date']).year.unique())\n",
    "print(pd.DatetimeIndex(df_calls['call_date']).year.unique())\n",
    "print(pd.DatetimeIndex(df_messages['message_date']).year.unique())\n",
    "print(pd.DatetimeIndex(df_internet['session_date']).year.unique())"
   ]
  },
  {
   "cell_type": "markdown",
   "metadata": {},
   "source": [
    "И поскольку все данные представленны только за 2018 год, для удобства укажем только номер месяца."
   ]
  },
  {
   "cell_type": "code",
   "execution_count": 9,
   "metadata": {},
   "outputs": [],
   "source": [
    "# Заменим тип данных на datetime в столбце df_users\n",
    "df_users['churn_date'] = pd.to_datetime(df_users['churn_date'], format='%Y-%m-%d')\n",
    "df_users['reg_date'] = pd.to_datetime(df_users['reg_date'], format='%Y-%m-%d')\n",
    "\n",
    "df_users['churn_date'] = pd.DatetimeIndex(df_users['churn_date']).month\n",
    "df_users['reg_date'] = pd.DatetimeIndex(df_users['reg_date']).month\n",
    "\n",
    "df_users = df_users.rename(columns={'churn_date':'churn_month', 'reg_date':'reg_month'})"
   ]
  },
  {
   "cell_type": "code",
   "execution_count": 10,
   "metadata": {},
   "outputs": [],
   "source": [
    "# Заменим тип данных на datetime в столбце df_calls\n",
    "df_calls['call_date'] = pd.to_datetime(df_calls['call_date'], format='%Y-%m-%d')\n",
    "df_calls['call_date'] = pd.DatetimeIndex(df_calls['call_date']).month\n",
    "\n",
    "df_calls = df_calls.rename(columns={'call_date':'month'})"
   ]
  },
  {
   "cell_type": "code",
   "execution_count": 11,
   "metadata": {},
   "outputs": [],
   "source": [
    "# Заменим тип данных на datetime в столбце df_messages\n",
    "df_messages['message_date'] = pd.to_datetime(df_messages['message_date'], format='%Y-%m-%d')\n",
    "df_messages['message_date'] = pd.DatetimeIndex(df_messages['message_date']).month\n",
    "\n",
    "df_messages = df_messages.rename(columns={'message_date':'month'})"
   ]
  },
  {
   "cell_type": "code",
   "execution_count": 12,
   "metadata": {},
   "outputs": [],
   "source": [
    "# Заменим тип данных на datetime в столбце df_internet\n",
    "df_internet['session_date'] = pd.to_datetime(df_internet['session_date'], format='%Y-%m-%d')\n",
    "df_internet['session_date'] = pd.DatetimeIndex(df_internet['session_date']).month\n",
    "\n",
    "df_internet = df_internet.rename(columns={'session_date':'month'})"
   ]
  },
  {
   "cell_type": "markdown",
   "metadata": {},
   "source": [
    "В таблице **df_tariffs** переведем значение столбца `mb_per_month_included` в гигабайты."
   ]
  },
  {
   "cell_type": "code",
   "execution_count": 13,
   "metadata": {},
   "outputs": [
    {
     "data": {
      "text/html": [
       "<div>\n",
       "<style scoped>\n",
       "    .dataframe tbody tr th:only-of-type {\n",
       "        vertical-align: middle;\n",
       "    }\n",
       "\n",
       "    .dataframe tbody tr th {\n",
       "        vertical-align: top;\n",
       "    }\n",
       "\n",
       "    .dataframe thead th {\n",
       "        text-align: right;\n",
       "    }\n",
       "</style>\n",
       "<table border=\"1\" class=\"dataframe\">\n",
       "  <thead>\n",
       "    <tr style=\"text-align: right;\">\n",
       "      <th></th>\n",
       "      <th>messages_included</th>\n",
       "      <th>minutes_included</th>\n",
       "      <th>rub_monthly_fee</th>\n",
       "      <th>rub_per_gb</th>\n",
       "      <th>rub_per_message</th>\n",
       "      <th>rub_per_minute</th>\n",
       "      <th>tariff</th>\n",
       "      <th>gb_per_month_included</th>\n",
       "    </tr>\n",
       "  </thead>\n",
       "  <tbody>\n",
       "    <tr>\n",
       "      <th>0</th>\n",
       "      <td>50</td>\n",
       "      <td>500</td>\n",
       "      <td>550</td>\n",
       "      <td>200</td>\n",
       "      <td>3</td>\n",
       "      <td>3</td>\n",
       "      <td>smart</td>\n",
       "      <td>15</td>\n",
       "    </tr>\n",
       "    <tr>\n",
       "      <th>1</th>\n",
       "      <td>1000</td>\n",
       "      <td>3000</td>\n",
       "      <td>1950</td>\n",
       "      <td>150</td>\n",
       "      <td>1</td>\n",
       "      <td>1</td>\n",
       "      <td>ultra</td>\n",
       "      <td>30</td>\n",
       "    </tr>\n",
       "  </tbody>\n",
       "</table>\n",
       "</div>"
      ],
      "text/plain": [
       "   messages_included  minutes_included  rub_monthly_fee  rub_per_gb  \\\n",
       "0                 50               500              550         200   \n",
       "1               1000              3000             1950         150   \n",
       "\n",
       "   rub_per_message  rub_per_minute tariff  gb_per_month_included  \n",
       "0                3               3  smart                     15  \n",
       "1                1               1  ultra                     30  "
      ]
     },
     "execution_count": 13,
     "metadata": {},
     "output_type": "execute_result"
    }
   ],
   "source": [
    "df_tariffs['gb_per_month_included'] = (df_tariffs['mb_per_month_included']/1024).astype('int')\n",
    "\n",
    "# Удалим столбец с трафиком включённого в абонентскую плату в мегабайтах\n",
    "df_tariffs.drop(['mb_per_month_included'], axis='columns', inplace=True)\n",
    "\n",
    "# Так же изменим название для дальнейшего объединения таблиц\n",
    "df_tariffs = df_tariffs.rename(columns={'tariff_name':'tariff'})\n",
    "\n",
    "df_tariffs"
   ]
  },
  {
   "cell_type": "markdown",
   "metadata": {},
   "source": [
    "Проверим таблицы на дубликаты"
   ]
  },
  {
   "cell_type": "code",
   "execution_count": 14,
   "metadata": {},
   "outputs": [
    {
     "name": "stdout",
     "output_type": "stream",
     "text": [
      "0\n",
      "0\n",
      "0\n",
      "0\n"
     ]
    }
   ],
   "source": [
    "all_data = [df_users, df_calls, df_messages, df_internet]\n",
    "\n",
    "for double in all_data:\n",
    "    print(double.duplicated().sum())"
   ]
  },
  {
   "cell_type": "markdown",
   "metadata": {},
   "source": [
    "Проверим пропуски в данных."
   ]
  },
  {
   "cell_type": "code",
   "execution_count": 15,
   "metadata": {},
   "outputs": [
    {
     "name": "stdout",
     "output_type": "stream",
     "text": [
      "user_id          0\n",
      "age              0\n",
      "churn_month    462\n",
      "city             0\n",
      "first_name       0\n",
      "last_name        0\n",
      "reg_month        0\n",
      "tariff           0\n",
      "dtype: int64\n",
      "_____________________\n",
      "\n",
      "id          0\n",
      "month       0\n",
      "duration    0\n",
      "user_id     0\n",
      "dtype: int64\n",
      "_____________________\n",
      "\n",
      "id         0\n",
      "month      0\n",
      "user_id    0\n",
      "dtype: int64\n",
      "_____________________\n",
      "\n",
      "Unnamed: 0    0\n",
      "id            0\n",
      "mb_used       0\n",
      "month         0\n",
      "user_id       0\n",
      "dtype: int64\n",
      "_____________________\n",
      "\n"
     ]
    }
   ],
   "source": [
    "for nan in all_data:\n",
    "    print(nan.isna().sum())\n",
    "    print('_____________________')\n",
    "    print('')"
   ]
  },
  {
   "cell_type": "markdown",
   "metadata": {},
   "source": [
    "Проверим уникальные значения в столбцах `city`, `last_name`, `first_name` в таблице **df_users**. Посмотрим соблюдён ли регистр, нет ли сдвоенных значений и не допущена ли ошибка."
   ]
  },
  {
   "cell_type": "code",
   "execution_count": 16,
   "metadata": {
    "scrolled": true,
    "tags": []
   },
   "outputs": [
    {
     "data": {
      "text/plain": [
       "array(['Краснодар', 'Москва', 'Стерлитамак', 'Новокузнецк',\n",
       "       'Набережные Челны', 'Ульяновск', 'Челябинск', 'Пермь', 'Тюмень',\n",
       "       'Самара', 'Санкт-Петербург', 'Иваново', 'Чебоксары', 'Омск', 'Уфа',\n",
       "       'Томск', 'Чита', 'Мурманск', 'Петрозаводск', 'Тверь',\n",
       "       'Екатеринбург', 'Махачкала', 'Вологда', 'Череповец', 'Ярославль',\n",
       "       'Сочи', 'Хабаровск', 'Ставрополь', 'Рязань', 'Улан-Удэ', 'Тула',\n",
       "       'Саратов', 'Ростов-на-Дону', 'Казань', 'Иркутск', 'Курск',\n",
       "       'Калуга', 'Якутск', 'Астрахань', 'Химки', 'Владикавказ',\n",
       "       'Волгоград', 'Саранск', 'Ижевск', 'Новосибирск', 'Брянск',\n",
       "       'Тольятти', 'Нижний Тагил', 'Орёл', 'Белгород', 'Воронеж',\n",
       "       'Волжский', 'Курган', 'Барнаул', 'Красноярск', 'Архангельск',\n",
       "       'Липецк', 'Кемерово', 'Киров', 'Сургут', 'Пенза', 'Магнитогорск',\n",
       "       'Нижний Новгород', 'Кострома', 'Владивосток', 'Тамбов', 'Балашиха',\n",
       "       'Севастополь', 'Калининград', 'Оренбург', 'Смоленск',\n",
       "       'Нижневартовск', 'Владимир', 'Новороссийск', 'Грозный', 'Подольск'],\n",
       "      dtype=object)"
      ]
     },
     "execution_count": 16,
     "metadata": {},
     "output_type": "execute_result"
    }
   ],
   "source": [
    "df_users['city'].unique()"
   ]
  },
  {
   "cell_type": "code",
   "execution_count": 17,
   "metadata": {
    "scrolled": true
   },
   "outputs": [
    {
     "data": {
      "text/plain": [
       "array(['Рафаил', 'Иван', 'Евгений', 'Белла', 'Татьяна', 'Афанасий',\n",
       "       'Леонид', 'Юна', 'Рустэм', 'Василиса', 'Эдуард', 'Веселина',\n",
       "       'Варлам', 'Борис', 'Яков', 'Рузана', 'Марица', 'Мария', 'Матвей',\n",
       "       'Игнатий', 'Тала', 'Святослав', 'Людмила', 'Иулиан', 'Владислав',\n",
       "       'Рустем', 'Алексей', 'Мариетта', 'Лаврентий', 'Инна', 'Лия',\n",
       "       'Розалия', 'Анжелика', 'Изольда', 'Агнесса', 'Юрий', 'Михаил',\n",
       "       'Константин', 'Марианна', 'Иннокентий', 'Джемма', 'Екатерина',\n",
       "       'Милица', 'Лола', 'Габриель', 'Кристина', 'Павел', 'Ренальд',\n",
       "       'Луиза', 'Радислав', 'Динара', 'Лукий', 'Глеб', 'Тамара',\n",
       "       'Александр', 'Таира', 'Роза', 'Исак', 'Юзефа', 'Ким', 'Гордей',\n",
       "       'Эльза', 'Гектор', 'Андрей', 'Рафаэль', 'Фёдор', 'Харитон',\n",
       "       'Еремей', 'Всеволод', 'Софья', 'Авксентий', 'Виолетта', 'Ириней',\n",
       "       'Гелена', 'Ксения', 'Вера', 'Вениамин', 'Вероника', 'Даниэла',\n",
       "       'Алла', 'Элеонора', 'Аюна', 'Руслан', 'Онисим', 'Марта', 'Эльвира',\n",
       "       'Габриэль', 'Исаак', 'Милана', 'Арнольд', 'Маргарита', 'Рашид',\n",
       "       'Альберта', 'Дана', 'Олег', 'Альбин', 'Сабина', 'Яна', 'Анвар',\n",
       "       'Инара', 'Нина', 'Надежда', 'Марьяна', 'Милена', 'Пётр', 'Леся',\n",
       "       'Светлана', 'Клариса', 'Симона', 'Арсен', 'Ефим', 'Юлий',\n",
       "       'Владимир', 'Евдокия', 'Алиса', 'Майя', 'Лариса', 'Марина',\n",
       "       'Валерий', 'Виктория', 'Игорь', 'Эльга', 'Лев', 'Геральд',\n",
       "       'Клавдия', 'Лилия', 'Георгина', 'Вадим', 'Каролина', 'Алан',\n",
       "       'Агафья', 'Лолита', 'Радим', 'Наталья', 'Рем', 'Снежана',\n",
       "       'Мануэла', 'Рэм', 'Виталий', 'Рауль', 'Степан', 'Егор', 'Демьян',\n",
       "       'Агата', 'Геннадий', 'Адам', 'Мирослава', 'Елена', 'Ева',\n",
       "       'Евфросинья', 'Арина', 'Гайдар', 'Артемий', 'Рустам', 'Ермолай',\n",
       "       'Кузьма', 'Рубен', 'Ахмет', 'Раиса', 'Денис', 'Нелли', 'Касьян',\n",
       "       'Сара', 'Роксана', 'Леон', 'Алина', 'Даниил', 'Зинаида', 'Артём',\n",
       "       'Анатолий', 'Лейла', 'Александра', 'Серафима', 'Алевтина',\n",
       "       'Эмилия', 'Мадина', 'Антонина', 'Саида', 'Трофим', 'Аким',\n",
       "       'Мальвина', 'Аурелия', 'Мстислав', 'Аксён', 'Семён', 'Валерия',\n",
       "       'Григорий', 'Таисия', 'Арсений', 'Эдита', 'Дебора', 'Олеся',\n",
       "       'Альфред', 'Тихон', 'Наида', 'Илья', 'Инесса', 'Юлия', 'Рудольф',\n",
       "       'Максим', 'Инга', 'Эсмеральда', 'Дайна', 'Джозефина', 'Тимофей',\n",
       "       'Виктор', 'Валентина', 'Анита', 'Илзе', 'Галина', 'Варвара',\n",
       "       'Анфиса', 'Доминика', 'Лаура', 'Рената', 'Оксана', 'Георгий',\n",
       "       'Лидия', 'Евгения', 'Фаддей', 'Герасим', 'Радомир', 'Ренат',\n",
       "       'Владислава', 'Роберт', 'Элина', 'Станислав', 'Элла', 'Гарри',\n",
       "       'Берта', 'Геодар', 'Эльмира', 'Клара', 'Камилла', 'Джулия',\n",
       "       'Карина', 'Нателла', 'Леонтий', 'Ростислав', 'Ангелина', 'Алёна',\n",
       "       'Ринат', 'Эллада', 'Николай', 'Руслана', 'Трифон'], dtype=object)"
      ]
     },
     "execution_count": 17,
     "metadata": {},
     "output_type": "execute_result"
    }
   ],
   "source": [
    "df_users['first_name'].unique()"
   ]
  },
  {
   "cell_type": "code",
   "execution_count": 18,
   "metadata": {
    "scrolled": true
   },
   "outputs": [
    {
     "data": {
      "text/plain": [
       "array(['Верещагин', 'Ежов', 'Абрамович', 'Белякова', 'Авдеенко', 'Горлов',\n",
       "       'Ермолаев', 'Березина', 'Пономарёв', 'Блинова', 'Кононов',\n",
       "       'Алёшко', 'Соловьев', 'Андреенко', 'Акинфьев', 'Алюшина',\n",
       "       'Сазонова', 'Аленникова', 'Золотов', 'Круглов', 'Костина',\n",
       "       'Тихонов', 'Трофимова', 'Мельникова', 'Антипов', 'Акинин',\n",
       "       'Бородин', 'Авдеев', 'Евсеев', 'Селезнев', 'Русанова', 'Тимофеев',\n",
       "       'Игнатьева', 'Бабушкина', 'Бондарев', 'Аракина', 'Андропова',\n",
       "       'Архипова', 'Денисова', 'Одинцов', 'Кравцов', 'Добрынин',\n",
       "       'Родионова', 'Рябов', 'Карасева', 'Александрова', 'Меркулова',\n",
       "       'Мясникова', 'Ларин', 'Аничкина', 'Сомова', 'Панов', 'Фёдоров',\n",
       "       'Платонова', 'Артемьев', 'Дьячкова', 'Глушков', 'Свиридов',\n",
       "       'Рудаков', 'Ситникова', 'Коршунов', 'Климова', 'Алфеева',\n",
       "       'Игнатова', 'Малахов', 'Абашкина', 'Демьянов', 'Кочетов',\n",
       "       'Селиванова', 'Чумаков', 'Андрейкин', 'Павловский', 'Никулин',\n",
       "       'Шарапов', 'Кольцова', 'Литвинов', 'Авроров', 'Игнатьев',\n",
       "       'Терехова', 'Малышев', 'Галкин', 'Спиридонова', 'Дорофеева',\n",
       "       'Аксёнов', 'Абалакова', 'Нечаева', 'Астафьева', 'Суслова',\n",
       "       'Амельченко', 'Лапина', 'Пугачева', 'Кабанова', 'Кулешова',\n",
       "       'Озерова', 'Сергеева', 'Красильников', 'Колобов', 'Королькова',\n",
       "       'Лобанова', 'Поляков', 'Рыбакова', 'Костин', 'Воронин', 'Болдырев',\n",
       "       'Андрющенко', 'Александрович', 'Макарова', 'Казанцев', 'Булгаков',\n",
       "       'Колесова', 'Толкачев', 'Шевцова', 'Латышева', 'Сухарев',\n",
       "       'Абдулина', 'Афанасова', 'Устинов', 'Андрианов', 'Арсенкова',\n",
       "       'Ильина', 'Агаева', 'Морозов', 'Крюкова', 'Афонасьева', 'Алехина',\n",
       "       'Аникина', 'Авросимова', 'Воронина', 'Левин', 'Артёшин',\n",
       "       'Ерофеева', 'Корнеева', 'Ахматулин', 'Короткова', 'Алешкова',\n",
       "       'Покровский', 'Ефремов', 'Алешин', 'Никонов', 'Синицын', 'Киреева',\n",
       "       'Алексеенко', 'Муравьева', 'Молчанова', 'Щербакова', 'Одинцова',\n",
       "       'Тихомирова', 'Чернов', 'Белоусова', 'Андрейчук', 'Авдонюшкин',\n",
       "       'Голованова', 'Минаева', 'Вишневский', 'Лебедев', 'Медведев',\n",
       "       'Жданов', 'Ананьева', 'Карташова', 'Козлов', 'Иванова', 'Карасев',\n",
       "       'Григорьева', 'Розанова', 'Марков', 'Куприянов', 'Жарова',\n",
       "       'Астапенко', 'Мишин', 'Аврорин', 'Агаев', 'Тарасова', 'Родина',\n",
       "       'Абакумов', 'Овчинников', 'Соколов', 'Зубкова', 'Абоимов',\n",
       "       'Акиндинов', 'Мальцев', 'Безруков', 'Наумов', 'Петухова',\n",
       "       'Чернышев', 'Черняев', 'Швецов', 'Демьянова', 'Ларионова',\n",
       "       'Веселов', 'Адаменко', 'Григорьев', 'Лазарева', 'Семина',\n",
       "       'Шарапова', 'Зеленина', 'Сахарова', 'Сорокин', 'Серебрякова',\n",
       "       'Азимова', 'Пономарев', 'Муравьёв', 'Алиев', 'Малинин', 'Сазонов',\n",
       "       'Мамонтова', 'Некрасов', 'Астапов', 'Сафонова', 'Панфилов',\n",
       "       'Тарасов', 'Горбачева', 'Бобылёв', 'Калинина', 'Алфимов',\n",
       "       'Капустин', 'Авдюков', 'Ларина', 'Алфимова', 'Алексеева', 'Басова',\n",
       "       'Демидов', 'Кошелева', 'Ёрохов', 'Шарова', 'Федосеев', 'Леонтьев',\n",
       "       'Макеев', 'Коновалова', 'Минаев', 'Авдушева', 'Ракова', 'Тетерина',\n",
       "       'Масленникова', 'Сухарева', 'Пономарева', 'Панфилова', 'Беляев',\n",
       "       'Третьякова', 'Горбунов', 'Пантелеева', 'Зайцев', 'Жукова',\n",
       "       'Адамов', 'Антропова', 'Седова', 'Трошин', 'Ахмадулин',\n",
       "       'Вешнякова', 'Чижова', 'Корнилов', 'Еремин', 'Елизаров', 'Крюков',\n",
       "       'Троицкий', 'Худяков', 'Зимина', 'Аракчеев', 'Крючков', 'Давыдов',\n",
       "       'Богданова', 'Анищенко', 'Дубинина', 'Асафьева', 'Черный',\n",
       "       'Абрамцев', 'Чеснокова', 'Симонова', 'Азерников', 'Авраменко',\n",
       "       'Абаимов', 'Абакшина', 'Соловьёв', 'Лаптева', 'Попов', 'Авсейкина',\n",
       "       'Корнилова', 'Касьянова', 'Нестеров', 'Крылова', 'Поликарпова',\n",
       "       'Суслов', 'Амелишко', 'Агапеева', 'Алымова', 'Зыков', 'Парфенов',\n",
       "       'Киселёв', 'Софронов', 'Сальников', 'Носкова', 'Барсуков',\n",
       "       'Севастьянова', 'Аркадьев', 'Золотова', 'Малинина', 'Антонова',\n",
       "       'Алексеичев', 'Орлов', 'Алютин', 'Кузнецов', 'Казакова',\n",
       "       'Верещагина', 'Ёркина', 'Антропов', 'Фокина', 'Громова',\n",
       "       'Курочкин', 'Козырева', 'Румянцева', 'Кулагина', 'Абрикосова',\n",
       "       'Гончаров', 'Ермилов', 'Логинов', 'Абашкин', 'Болдырева',\n",
       "       'Вишняков', 'Фетисова', 'Антоненко', 'Гришина', 'Сысоев',\n",
       "       'Трофимов', 'Авраамова', 'Афанасенко', 'Акимычева', 'Акимов',\n",
       "       'Семин', 'Бычкова', 'Кочергина', 'Нестерова', 'Родионов', 'Зуев',\n",
       "       'Беляева', 'Беликова', 'Зубков', 'Кондратов', 'Савельева',\n",
       "       'Чистякова', 'Ахмедов', 'Абрашина', 'Артёмов', 'Васильева',\n",
       "       'Измайлова', 'Амелин', 'Уваров', 'Белова', 'Семёнов', 'Пирогова',\n",
       "       'Кукушкин', 'Ильин', 'Прокофьева', 'Афонин', 'Фролов', 'Лукин',\n",
       "       'Ёлчина', 'Макаров', 'Ахматов', 'Яшина', 'Корольков', 'Устинова',\n",
       "       'Силин', 'Ёрохова', 'Фомин', 'Азаров', 'Добрынина', 'Тимофеева',\n",
       "       'Кочетков', 'Алёшкова', 'Субботина', 'Ерофеев', 'Селезнева',\n",
       "       'Бородина', 'Афонина', 'Матвеев', 'Белозёров', 'Ковалева',\n",
       "       'Афинин', 'Иванов', 'Артемчук', 'Алешина', 'Дроздов', 'Новикова',\n",
       "       'Козлова', 'Завьялова', 'Абалдуева', 'Акуленко', 'Авринский',\n",
       "       'Авчинникова', 'Абрамычева', 'Авросинова', 'Ёркин', 'Шевцов',\n",
       "       'Александрюк', 'Авдышев', 'Абалкин', 'Лосева', 'Гаврилова',\n",
       "       'Боброва', 'Любимов', 'Фадеева', 'Семенова', 'Серов',\n",
       "       'Константинова', 'Богданов', 'Емельянова', 'Блохина', 'Борисова',\n",
       "       'Сухова', 'Моргунов', 'Кириллов', 'Филатов', 'Алесин', 'Артёменко',\n",
       "       'Ахматулина', 'Андропов', 'Фокин', 'Блохин', 'Агеева', 'Акимчин'],\n",
       "      dtype=object)"
      ]
     },
     "execution_count": 18,
     "metadata": {},
     "output_type": "execute_result"
    }
   ],
   "source": [
    "df_users['last_name'].unique()"
   ]
  },
  {
   "cell_type": "code",
   "execution_count": 19,
   "metadata": {},
   "outputs": [
    {
     "name": "stdout",
     "output_type": "stream",
     "text": [
      "<class 'pandas.core.frame.DataFrame'>\n",
      "RangeIndex: 500 entries, 0 to 499\n",
      "Data columns (total 8 columns):\n",
      " #   Column       Non-Null Count  Dtype  \n",
      "---  ------       --------------  -----  \n",
      " 0   user_id      500 non-null    int64  \n",
      " 1   age          500 non-null    int64  \n",
      " 2   churn_month  38 non-null     float64\n",
      " 3   city         500 non-null    object \n",
      " 4   first_name   500 non-null    object \n",
      " 5   last_name    500 non-null    object \n",
      " 6   reg_month    500 non-null    int64  \n",
      " 7   tariff       500 non-null    object \n",
      "dtypes: float64(1), int64(3), object(4)\n",
      "memory usage: 31.4+ KB\n",
      "<class 'pandas.core.frame.DataFrame'>\n",
      "RangeIndex: 202607 entries, 0 to 202606\n",
      "Data columns (total 4 columns):\n",
      " #   Column    Non-Null Count   Dtype  \n",
      "---  ------    --------------   -----  \n",
      " 0   id        202607 non-null  object \n",
      " 1   month     202607 non-null  int64  \n",
      " 2   duration  202607 non-null  float64\n",
      " 3   user_id   202607 non-null  int64  \n",
      "dtypes: float64(1), int64(2), object(1)\n",
      "memory usage: 6.2+ MB\n",
      "<class 'pandas.core.frame.DataFrame'>\n",
      "RangeIndex: 123036 entries, 0 to 123035\n",
      "Data columns (total 3 columns):\n",
      " #   Column   Non-Null Count   Dtype \n",
      "---  ------   --------------   ----- \n",
      " 0   id       123036 non-null  object\n",
      " 1   month    123036 non-null  int64 \n",
      " 2   user_id  123036 non-null  int64 \n",
      "dtypes: int64(2), object(1)\n",
      "memory usage: 2.8+ MB\n",
      "<class 'pandas.core.frame.DataFrame'>\n",
      "RangeIndex: 149396 entries, 0 to 149395\n",
      "Data columns (total 5 columns):\n",
      " #   Column      Non-Null Count   Dtype  \n",
      "---  ------      --------------   -----  \n",
      " 0   Unnamed: 0  149396 non-null  int64  \n",
      " 1   id          149396 non-null  object \n",
      " 2   mb_used     149396 non-null  float64\n",
      " 3   month       149396 non-null  int64  \n",
      " 4   user_id     149396 non-null  int64  \n",
      "dtypes: float64(1), int64(3), object(1)\n",
      "memory usage: 5.7+ MB\n"
     ]
    }
   ],
   "source": [
    "for date in all_data:\n",
    "    date.info()"
   ]
  },
  {
   "cell_type": "markdown",
   "metadata": {},
   "source": [
    "### Рассчитать количество сделанных звонков и израсходованных минут разговора по месяцам"
   ]
  },
  {
   "cell_type": "code",
   "execution_count": 20,
   "metadata": {},
   "outputs": [],
   "source": [
    "# Округлим длительность звонков до целых минут и изменим тип на целочисленный. \n",
    "df_calls['duration'] = np.ceil(df_calls['duration']).astype('int')"
   ]
  },
  {
   "cell_type": "code",
   "execution_count": 21,
   "metadata": {},
   "outputs": [
    {
     "data": {
      "text/html": [
       "<div>\n",
       "<style scoped>\n",
       "    .dataframe tbody tr th:only-of-type {\n",
       "        vertical-align: middle;\n",
       "    }\n",
       "\n",
       "    .dataframe tbody tr th {\n",
       "        vertical-align: top;\n",
       "    }\n",
       "\n",
       "    .dataframe thead th {\n",
       "        text-align: right;\n",
       "    }\n",
       "</style>\n",
       "<table border=\"1\" class=\"dataframe\">\n",
       "  <thead>\n",
       "    <tr style=\"text-align: right;\">\n",
       "      <th></th>\n",
       "      <th>user_id</th>\n",
       "      <th>month</th>\n",
       "      <th>duration</th>\n",
       "      <th>calls</th>\n",
       "    </tr>\n",
       "  </thead>\n",
       "  <tbody>\n",
       "    <tr>\n",
       "      <th>0</th>\n",
       "      <td>1000</td>\n",
       "      <td>5</td>\n",
       "      <td>159</td>\n",
       "      <td>22</td>\n",
       "    </tr>\n",
       "    <tr>\n",
       "      <th>1</th>\n",
       "      <td>1000</td>\n",
       "      <td>6</td>\n",
       "      <td>172</td>\n",
       "      <td>43</td>\n",
       "    </tr>\n",
       "    <tr>\n",
       "      <th>2</th>\n",
       "      <td>1000</td>\n",
       "      <td>7</td>\n",
       "      <td>340</td>\n",
       "      <td>47</td>\n",
       "    </tr>\n",
       "    <tr>\n",
       "      <th>3</th>\n",
       "      <td>1000</td>\n",
       "      <td>8</td>\n",
       "      <td>408</td>\n",
       "      <td>52</td>\n",
       "    </tr>\n",
       "    <tr>\n",
       "      <th>4</th>\n",
       "      <td>1000</td>\n",
       "      <td>9</td>\n",
       "      <td>466</td>\n",
       "      <td>58</td>\n",
       "    </tr>\n",
       "    <tr>\n",
       "      <th>...</th>\n",
       "      <td>...</td>\n",
       "      <td>...</td>\n",
       "      <td>...</td>\n",
       "      <td>...</td>\n",
       "    </tr>\n",
       "    <tr>\n",
       "      <th>3169</th>\n",
       "      <td>1498</td>\n",
       "      <td>10</td>\n",
       "      <td>247</td>\n",
       "      <td>41</td>\n",
       "    </tr>\n",
       "    <tr>\n",
       "      <th>3170</th>\n",
       "      <td>1499</td>\n",
       "      <td>9</td>\n",
       "      <td>70</td>\n",
       "      <td>9</td>\n",
       "    </tr>\n",
       "    <tr>\n",
       "      <th>3171</th>\n",
       "      <td>1499</td>\n",
       "      <td>10</td>\n",
       "      <td>449</td>\n",
       "      <td>68</td>\n",
       "    </tr>\n",
       "    <tr>\n",
       "      <th>3172</th>\n",
       "      <td>1499</td>\n",
       "      <td>11</td>\n",
       "      <td>612</td>\n",
       "      <td>74</td>\n",
       "    </tr>\n",
       "    <tr>\n",
       "      <th>3173</th>\n",
       "      <td>1499</td>\n",
       "      <td>12</td>\n",
       "      <td>492</td>\n",
       "      <td>69</td>\n",
       "    </tr>\n",
       "  </tbody>\n",
       "</table>\n",
       "<p>3174 rows × 4 columns</p>\n",
       "</div>"
      ],
      "text/plain": [
       "      user_id  month  duration  calls\n",
       "0        1000      5       159     22\n",
       "1        1000      6       172     43\n",
       "2        1000      7       340     47\n",
       "3        1000      8       408     52\n",
       "4        1000      9       466     58\n",
       "...       ...    ...       ...    ...\n",
       "3169     1498     10       247     41\n",
       "3170     1499      9        70      9\n",
       "3171     1499     10       449     68\n",
       "3172     1499     11       612     74\n",
       "3173     1499     12       492     69\n",
       "\n",
       "[3174 rows x 4 columns]"
      ]
     },
     "execution_count": 21,
     "metadata": {},
     "output_type": "execute_result"
    }
   ],
   "source": [
    "calls_per_month= df_calls.pivot_table(index=['user_id', 'month'], values=['duration'], aggfunc=['sum', 'count']).reset_index()\n",
    "calls_per_month.columns = ['user_id', 'month', 'duration', 'calls']\n",
    "calls_per_month"
   ]
  },
  {
   "cell_type": "markdown",
   "metadata": {},
   "source": [
    "### Рассчитать количество отправленных сообщений по месяцам."
   ]
  },
  {
   "cell_type": "code",
   "execution_count": 22,
   "metadata": {},
   "outputs": [
    {
     "data": {
      "text/html": [
       "<div>\n",
       "<style scoped>\n",
       "    .dataframe tbody tr th:only-of-type {\n",
       "        vertical-align: middle;\n",
       "    }\n",
       "\n",
       "    .dataframe tbody tr th {\n",
       "        vertical-align: top;\n",
       "    }\n",
       "\n",
       "    .dataframe thead th {\n",
       "        text-align: right;\n",
       "    }\n",
       "</style>\n",
       "<table border=\"1\" class=\"dataframe\">\n",
       "  <thead>\n",
       "    <tr style=\"text-align: right;\">\n",
       "      <th></th>\n",
       "      <th>user_id</th>\n",
       "      <th>month</th>\n",
       "      <th>messages</th>\n",
       "    </tr>\n",
       "  </thead>\n",
       "  <tbody>\n",
       "    <tr>\n",
       "      <th>0</th>\n",
       "      <td>1000</td>\n",
       "      <td>5</td>\n",
       "      <td>22</td>\n",
       "    </tr>\n",
       "    <tr>\n",
       "      <th>1</th>\n",
       "      <td>1000</td>\n",
       "      <td>6</td>\n",
       "      <td>60</td>\n",
       "    </tr>\n",
       "    <tr>\n",
       "      <th>2</th>\n",
       "      <td>1000</td>\n",
       "      <td>7</td>\n",
       "      <td>75</td>\n",
       "    </tr>\n",
       "    <tr>\n",
       "      <th>3</th>\n",
       "      <td>1000</td>\n",
       "      <td>8</td>\n",
       "      <td>81</td>\n",
       "    </tr>\n",
       "    <tr>\n",
       "      <th>4</th>\n",
       "      <td>1000</td>\n",
       "      <td>9</td>\n",
       "      <td>57</td>\n",
       "    </tr>\n",
       "    <tr>\n",
       "      <th>...</th>\n",
       "      <td>...</td>\n",
       "      <td>...</td>\n",
       "      <td>...</td>\n",
       "    </tr>\n",
       "    <tr>\n",
       "      <th>2712</th>\n",
       "      <td>1498</td>\n",
       "      <td>10</td>\n",
       "      <td>42</td>\n",
       "    </tr>\n",
       "    <tr>\n",
       "      <th>2713</th>\n",
       "      <td>1499</td>\n",
       "      <td>9</td>\n",
       "      <td>11</td>\n",
       "    </tr>\n",
       "    <tr>\n",
       "      <th>2714</th>\n",
       "      <td>1499</td>\n",
       "      <td>10</td>\n",
       "      <td>48</td>\n",
       "    </tr>\n",
       "    <tr>\n",
       "      <th>2715</th>\n",
       "      <td>1499</td>\n",
       "      <td>11</td>\n",
       "      <td>59</td>\n",
       "    </tr>\n",
       "    <tr>\n",
       "      <th>2716</th>\n",
       "      <td>1499</td>\n",
       "      <td>12</td>\n",
       "      <td>66</td>\n",
       "    </tr>\n",
       "  </tbody>\n",
       "</table>\n",
       "<p>2717 rows × 3 columns</p>\n",
       "</div>"
      ],
      "text/plain": [
       "      user_id  month  messages\n",
       "0        1000      5        22\n",
       "1        1000      6        60\n",
       "2        1000      7        75\n",
       "3        1000      8        81\n",
       "4        1000      9        57\n",
       "...       ...    ...       ...\n",
       "2712     1498     10        42\n",
       "2713     1499      9        11\n",
       "2714     1499     10        48\n",
       "2715     1499     11        59\n",
       "2716     1499     12        66\n",
       "\n",
       "[2717 rows x 3 columns]"
      ]
     },
     "execution_count": 22,
     "metadata": {},
     "output_type": "execute_result"
    }
   ],
   "source": [
    "messages_per_month= df_messages.pivot_table(index=['user_id', 'month'], values=['id'], aggfunc=['count']).reset_index()\n",
    "messages_per_month.columns = ['user_id', 'month', 'messages']\n",
    "messages_per_month"
   ]
  },
  {
   "cell_type": "markdown",
   "metadata": {},
   "source": [
    "### Рассчитать объем израсходованного интернет-трафика по месяцам"
   ]
  },
  {
   "cell_type": "code",
   "execution_count": 23,
   "metadata": {},
   "outputs": [
    {
     "data": {
      "text/html": [
       "<div>\n",
       "<style scoped>\n",
       "    .dataframe tbody tr th:only-of-type {\n",
       "        vertical-align: middle;\n",
       "    }\n",
       "\n",
       "    .dataframe tbody tr th {\n",
       "        vertical-align: top;\n",
       "    }\n",
       "\n",
       "    .dataframe thead th {\n",
       "        text-align: right;\n",
       "    }\n",
       "</style>\n",
       "<table border=\"1\" class=\"dataframe\">\n",
       "  <thead>\n",
       "    <tr style=\"text-align: right;\">\n",
       "      <th></th>\n",
       "      <th>user_id</th>\n",
       "      <th>month</th>\n",
       "      <th>gb</th>\n",
       "    </tr>\n",
       "  </thead>\n",
       "  <tbody>\n",
       "    <tr>\n",
       "      <th>0</th>\n",
       "      <td>1000</td>\n",
       "      <td>5</td>\n",
       "      <td>2253.49</td>\n",
       "    </tr>\n",
       "    <tr>\n",
       "      <th>1</th>\n",
       "      <td>1000</td>\n",
       "      <td>6</td>\n",
       "      <td>23233.77</td>\n",
       "    </tr>\n",
       "    <tr>\n",
       "      <th>2</th>\n",
       "      <td>1000</td>\n",
       "      <td>7</td>\n",
       "      <td>14003.64</td>\n",
       "    </tr>\n",
       "    <tr>\n",
       "      <th>3</th>\n",
       "      <td>1000</td>\n",
       "      <td>8</td>\n",
       "      <td>14055.93</td>\n",
       "    </tr>\n",
       "    <tr>\n",
       "      <th>4</th>\n",
       "      <td>1000</td>\n",
       "      <td>9</td>\n",
       "      <td>14568.91</td>\n",
       "    </tr>\n",
       "    <tr>\n",
       "      <th>...</th>\n",
       "      <td>...</td>\n",
       "      <td>...</td>\n",
       "      <td>...</td>\n",
       "    </tr>\n",
       "    <tr>\n",
       "      <th>3198</th>\n",
       "      <td>1498</td>\n",
       "      <td>10</td>\n",
       "      <td>20579.36</td>\n",
       "    </tr>\n",
       "    <tr>\n",
       "      <th>3199</th>\n",
       "      <td>1499</td>\n",
       "      <td>9</td>\n",
       "      <td>1845.75</td>\n",
       "    </tr>\n",
       "    <tr>\n",
       "      <th>3200</th>\n",
       "      <td>1499</td>\n",
       "      <td>10</td>\n",
       "      <td>17788.51</td>\n",
       "    </tr>\n",
       "    <tr>\n",
       "      <th>3201</th>\n",
       "      <td>1499</td>\n",
       "      <td>11</td>\n",
       "      <td>17963.31</td>\n",
       "    </tr>\n",
       "    <tr>\n",
       "      <th>3202</th>\n",
       "      <td>1499</td>\n",
       "      <td>12</td>\n",
       "      <td>13055.58</td>\n",
       "    </tr>\n",
       "  </tbody>\n",
       "</table>\n",
       "<p>3203 rows × 3 columns</p>\n",
       "</div>"
      ],
      "text/plain": [
       "      user_id  month        gb\n",
       "0        1000      5   2253.49\n",
       "1        1000      6  23233.77\n",
       "2        1000      7  14003.64\n",
       "3        1000      8  14055.93\n",
       "4        1000      9  14568.91\n",
       "...       ...    ...       ...\n",
       "3198     1498     10  20579.36\n",
       "3199     1499      9   1845.75\n",
       "3200     1499     10  17788.51\n",
       "3201     1499     11  17963.31\n",
       "3202     1499     12  13055.58\n",
       "\n",
       "[3203 rows x 3 columns]"
      ]
     },
     "execution_count": 23,
     "metadata": {},
     "output_type": "execute_result"
    }
   ],
   "source": [
    "monthly_traffic= df_internet.pivot_table(index=['user_id', 'month'], values=['mb_used'], aggfunc=['sum']).reset_index()\n",
    "monthly_traffic.columns = ['user_id', 'month', 'gb']\n",
    "monthly_traffic"
   ]
  },
  {
   "cell_type": "code",
   "execution_count": 24,
   "metadata": {},
   "outputs": [
    {
     "data": {
      "text/html": [
       "<div>\n",
       "<style scoped>\n",
       "    .dataframe tbody tr th:only-of-type {\n",
       "        vertical-align: middle;\n",
       "    }\n",
       "\n",
       "    .dataframe tbody tr th {\n",
       "        vertical-align: top;\n",
       "    }\n",
       "\n",
       "    .dataframe thead th {\n",
       "        text-align: right;\n",
       "    }\n",
       "</style>\n",
       "<table border=\"1\" class=\"dataframe\">\n",
       "  <thead>\n",
       "    <tr style=\"text-align: right;\">\n",
       "      <th></th>\n",
       "      <th>user_id</th>\n",
       "      <th>month</th>\n",
       "      <th>gb</th>\n",
       "    </tr>\n",
       "  </thead>\n",
       "  <tbody>\n",
       "    <tr>\n",
       "      <th>0</th>\n",
       "      <td>1000</td>\n",
       "      <td>5</td>\n",
       "      <td>3</td>\n",
       "    </tr>\n",
       "    <tr>\n",
       "      <th>1</th>\n",
       "      <td>1000</td>\n",
       "      <td>6</td>\n",
       "      <td>23</td>\n",
       "    </tr>\n",
       "    <tr>\n",
       "      <th>2</th>\n",
       "      <td>1000</td>\n",
       "      <td>7</td>\n",
       "      <td>14</td>\n",
       "    </tr>\n",
       "    <tr>\n",
       "      <th>3</th>\n",
       "      <td>1000</td>\n",
       "      <td>8</td>\n",
       "      <td>14</td>\n",
       "    </tr>\n",
       "    <tr>\n",
       "      <th>4</th>\n",
       "      <td>1000</td>\n",
       "      <td>9</td>\n",
       "      <td>15</td>\n",
       "    </tr>\n",
       "    <tr>\n",
       "      <th>...</th>\n",
       "      <td>...</td>\n",
       "      <td>...</td>\n",
       "      <td>...</td>\n",
       "    </tr>\n",
       "    <tr>\n",
       "      <th>3198</th>\n",
       "      <td>1498</td>\n",
       "      <td>10</td>\n",
       "      <td>21</td>\n",
       "    </tr>\n",
       "    <tr>\n",
       "      <th>3199</th>\n",
       "      <td>1499</td>\n",
       "      <td>9</td>\n",
       "      <td>2</td>\n",
       "    </tr>\n",
       "    <tr>\n",
       "      <th>3200</th>\n",
       "      <td>1499</td>\n",
       "      <td>10</td>\n",
       "      <td>18</td>\n",
       "    </tr>\n",
       "    <tr>\n",
       "      <th>3201</th>\n",
       "      <td>1499</td>\n",
       "      <td>11</td>\n",
       "      <td>18</td>\n",
       "    </tr>\n",
       "    <tr>\n",
       "      <th>3202</th>\n",
       "      <td>1499</td>\n",
       "      <td>12</td>\n",
       "      <td>13</td>\n",
       "    </tr>\n",
       "  </tbody>\n",
       "</table>\n",
       "<p>3203 rows × 3 columns</p>\n",
       "</div>"
      ],
      "text/plain": [
       "      user_id  month  gb\n",
       "0        1000      5   3\n",
       "1        1000      6  23\n",
       "2        1000      7  14\n",
       "3        1000      8  14\n",
       "4        1000      9  15\n",
       "...       ...    ...  ..\n",
       "3198     1498     10  21\n",
       "3199     1499      9   2\n",
       "3200     1499     10  18\n",
       "3201     1499     11  18\n",
       "3202     1499     12  13\n",
       "\n",
       "[3203 rows x 3 columns]"
      ]
     },
     "execution_count": 24,
     "metadata": {},
     "output_type": "execute_result"
    }
   ],
   "source": [
    "# Переведём мб в гб и округлим до целочисленных значений в большую сторону \n",
    "monthly_traffic['gb'] = np.ceil(monthly_traffic['gb'] / 1024).astype('int')\n",
    "monthly_traffic"
   ]
  },
  {
   "cell_type": "markdown",
   "metadata": {},
   "source": [
    "### Рассчитать помесячную выручку с каждого пользователя"
   ]
  },
  {
   "cell_type": "markdown",
   "metadata": {},
   "source": [
    "Для начала объединим ранее полученные таблицы в одну общую"
   ]
  },
  {
   "cell_type": "code",
   "execution_count": 25,
   "metadata": {},
   "outputs": [],
   "source": [
    "df = calls_per_month.merge(messages_per_month,  on=['user_id', 'month'], how='outer')\n",
    "df = df.merge(monthly_traffic,  on=['user_id', 'month'], how='outer')\n",
    "df = df.merge(df_users,  on=['user_id'], how='left')\n",
    "df = df.merge(df_tariffs,  on=['tariff'], how='outer')"
   ]
  },
  {
   "cell_type": "code",
   "execution_count": 26,
   "metadata": {},
   "outputs": [
    {
     "name": "stdout",
     "output_type": "stream",
     "text": [
      "<class 'pandas.core.frame.DataFrame'>\n",
      "Int64Index: 3214 entries, 0 to 3213\n",
      "Data columns (total 20 columns):\n",
      " #   Column                 Non-Null Count  Dtype  \n",
      "---  ------                 --------------  -----  \n",
      " 0   user_id                3214 non-null   int64  \n",
      " 1   month                  3214 non-null   int64  \n",
      " 2   duration               3174 non-null   float64\n",
      " 3   calls                  3174 non-null   float64\n",
      " 4   messages               2717 non-null   float64\n",
      " 5   gb                     3203 non-null   float64\n",
      " 6   age                    3214 non-null   int64  \n",
      " 7   churn_month            187 non-null    float64\n",
      " 8   city                   3214 non-null   object \n",
      " 9   first_name             3214 non-null   object \n",
      " 10  last_name              3214 non-null   object \n",
      " 11  reg_month              3214 non-null   int64  \n",
      " 12  tariff                 3214 non-null   object \n",
      " 13  messages_included      3214 non-null   int64  \n",
      " 14  minutes_included       3214 non-null   int64  \n",
      " 15  rub_monthly_fee        3214 non-null   int64  \n",
      " 16  rub_per_gb             3214 non-null   int64  \n",
      " 17  rub_per_message        3214 non-null   int64  \n",
      " 18  rub_per_minute         3214 non-null   int64  \n",
      " 19  gb_per_month_included  3214 non-null   int64  \n",
      "dtypes: float64(5), int64(11), object(4)\n",
      "memory usage: 527.3+ KB\n"
     ]
    },
    {
     "data": {
      "text/plain": [
       "None"
      ]
     },
     "metadata": {},
     "output_type": "display_data"
    },
    {
     "data": {
      "text/html": [
       "<div>\n",
       "<style scoped>\n",
       "    .dataframe tbody tr th:only-of-type {\n",
       "        vertical-align: middle;\n",
       "    }\n",
       "\n",
       "    .dataframe tbody tr th {\n",
       "        vertical-align: top;\n",
       "    }\n",
       "\n",
       "    .dataframe thead th {\n",
       "        text-align: right;\n",
       "    }\n",
       "</style>\n",
       "<table border=\"1\" class=\"dataframe\">\n",
       "  <thead>\n",
       "    <tr style=\"text-align: right;\">\n",
       "      <th></th>\n",
       "      <th>user_id</th>\n",
       "      <th>month</th>\n",
       "      <th>duration</th>\n",
       "      <th>calls</th>\n",
       "      <th>messages</th>\n",
       "      <th>gb</th>\n",
       "      <th>age</th>\n",
       "      <th>churn_month</th>\n",
       "      <th>city</th>\n",
       "      <th>first_name</th>\n",
       "      <th>last_name</th>\n",
       "      <th>reg_month</th>\n",
       "      <th>tariff</th>\n",
       "      <th>messages_included</th>\n",
       "      <th>minutes_included</th>\n",
       "      <th>rub_monthly_fee</th>\n",
       "      <th>rub_per_gb</th>\n",
       "      <th>rub_per_message</th>\n",
       "      <th>rub_per_minute</th>\n",
       "      <th>gb_per_month_included</th>\n",
       "    </tr>\n",
       "  </thead>\n",
       "  <tbody>\n",
       "    <tr>\n",
       "      <th>0</th>\n",
       "      <td>1000</td>\n",
       "      <td>5</td>\n",
       "      <td>159.0</td>\n",
       "      <td>22.0</td>\n",
       "      <td>22.0</td>\n",
       "      <td>3.0</td>\n",
       "      <td>52</td>\n",
       "      <td>NaN</td>\n",
       "      <td>Краснодар</td>\n",
       "      <td>Рафаил</td>\n",
       "      <td>Верещагин</td>\n",
       "      <td>5</td>\n",
       "      <td>ultra</td>\n",
       "      <td>1000</td>\n",
       "      <td>3000</td>\n",
       "      <td>1950</td>\n",
       "      <td>150</td>\n",
       "      <td>1</td>\n",
       "      <td>1</td>\n",
       "      <td>30</td>\n",
       "    </tr>\n",
       "    <tr>\n",
       "      <th>1</th>\n",
       "      <td>1000</td>\n",
       "      <td>6</td>\n",
       "      <td>172.0</td>\n",
       "      <td>43.0</td>\n",
       "      <td>60.0</td>\n",
       "      <td>23.0</td>\n",
       "      <td>52</td>\n",
       "      <td>NaN</td>\n",
       "      <td>Краснодар</td>\n",
       "      <td>Рафаил</td>\n",
       "      <td>Верещагин</td>\n",
       "      <td>5</td>\n",
       "      <td>ultra</td>\n",
       "      <td>1000</td>\n",
       "      <td>3000</td>\n",
       "      <td>1950</td>\n",
       "      <td>150</td>\n",
       "      <td>1</td>\n",
       "      <td>1</td>\n",
       "      <td>30</td>\n",
       "    </tr>\n",
       "    <tr>\n",
       "      <th>2</th>\n",
       "      <td>1000</td>\n",
       "      <td>7</td>\n",
       "      <td>340.0</td>\n",
       "      <td>47.0</td>\n",
       "      <td>75.0</td>\n",
       "      <td>14.0</td>\n",
       "      <td>52</td>\n",
       "      <td>NaN</td>\n",
       "      <td>Краснодар</td>\n",
       "      <td>Рафаил</td>\n",
       "      <td>Верещагин</td>\n",
       "      <td>5</td>\n",
       "      <td>ultra</td>\n",
       "      <td>1000</td>\n",
       "      <td>3000</td>\n",
       "      <td>1950</td>\n",
       "      <td>150</td>\n",
       "      <td>1</td>\n",
       "      <td>1</td>\n",
       "      <td>30</td>\n",
       "    </tr>\n",
       "    <tr>\n",
       "      <th>3</th>\n",
       "      <td>1000</td>\n",
       "      <td>8</td>\n",
       "      <td>408.0</td>\n",
       "      <td>52.0</td>\n",
       "      <td>81.0</td>\n",
       "      <td>14.0</td>\n",
       "      <td>52</td>\n",
       "      <td>NaN</td>\n",
       "      <td>Краснодар</td>\n",
       "      <td>Рафаил</td>\n",
       "      <td>Верещагин</td>\n",
       "      <td>5</td>\n",
       "      <td>ultra</td>\n",
       "      <td>1000</td>\n",
       "      <td>3000</td>\n",
       "      <td>1950</td>\n",
       "      <td>150</td>\n",
       "      <td>1</td>\n",
       "      <td>1</td>\n",
       "      <td>30</td>\n",
       "    </tr>\n",
       "    <tr>\n",
       "      <th>4</th>\n",
       "      <td>1000</td>\n",
       "      <td>9</td>\n",
       "      <td>466.0</td>\n",
       "      <td>58.0</td>\n",
       "      <td>57.0</td>\n",
       "      <td>15.0</td>\n",
       "      <td>52</td>\n",
       "      <td>NaN</td>\n",
       "      <td>Краснодар</td>\n",
       "      <td>Рафаил</td>\n",
       "      <td>Верещагин</td>\n",
       "      <td>5</td>\n",
       "      <td>ultra</td>\n",
       "      <td>1000</td>\n",
       "      <td>3000</td>\n",
       "      <td>1950</td>\n",
       "      <td>150</td>\n",
       "      <td>1</td>\n",
       "      <td>1</td>\n",
       "      <td>30</td>\n",
       "    </tr>\n",
       "  </tbody>\n",
       "</table>\n",
       "</div>"
      ],
      "text/plain": [
       "   user_id  month  duration  calls  messages    gb  age  churn_month  \\\n",
       "0     1000      5     159.0   22.0      22.0   3.0   52          NaN   \n",
       "1     1000      6     172.0   43.0      60.0  23.0   52          NaN   \n",
       "2     1000      7     340.0   47.0      75.0  14.0   52          NaN   \n",
       "3     1000      8     408.0   52.0      81.0  14.0   52          NaN   \n",
       "4     1000      9     466.0   58.0      57.0  15.0   52          NaN   \n",
       "\n",
       "        city first_name  last_name  reg_month tariff  messages_included  \\\n",
       "0  Краснодар     Рафаил  Верещагин          5  ultra               1000   \n",
       "1  Краснодар     Рафаил  Верещагин          5  ultra               1000   \n",
       "2  Краснодар     Рафаил  Верещагин          5  ultra               1000   \n",
       "3  Краснодар     Рафаил  Верещагин          5  ultra               1000   \n",
       "4  Краснодар     Рафаил  Верещагин          5  ultra               1000   \n",
       "\n",
       "   minutes_included  rub_monthly_fee  rub_per_gb  rub_per_message  \\\n",
       "0              3000             1950         150                1   \n",
       "1              3000             1950         150                1   \n",
       "2              3000             1950         150                1   \n",
       "3              3000             1950         150                1   \n",
       "4              3000             1950         150                1   \n",
       "\n",
       "   rub_per_minute  gb_per_month_included  \n",
       "0               1                     30  \n",
       "1               1                     30  \n",
       "2               1                     30  \n",
       "3               1                     30  \n",
       "4               1                     30  "
      ]
     },
     "metadata": {},
     "output_type": "display_data"
    }
   ],
   "source": [
    "# Проверим, что получилось\n",
    "display(df.info())\n",
    "display(df.head(5))"
   ]
  },
  {
   "cell_type": "markdown",
   "metadata": {},
   "source": [
    "Пропуски в столбцах `duration`,`calls`, `messages`,`gb` могут говорить о том, что пользователь не использовал услуга за месяц.\n",
    "Поэтому заменим пропущенные значения на 0. А так же и тип данных для удобства."
   ]
  },
  {
   "cell_type": "code",
   "execution_count": 27,
   "metadata": {},
   "outputs": [],
   "source": [
    "df = df.fillna({'duration':0,'calls':0,'messages':0,'gb':0, 'month':0})\n",
    "df = df.astype({'duration':'int','calls':'int','messages':'int','gb':'int', 'month':'int'})\n",
    "df = df.query('month > 0')"
   ]
  },
  {
   "cell_type": "code",
   "execution_count": 28,
   "metadata": {},
   "outputs": [
    {
     "data": {
      "text/plain": [
       "0"
      ]
     },
     "execution_count": 28,
     "metadata": {},
     "output_type": "execute_result"
    }
   ],
   "source": [
    "df.duplicated().sum()"
   ]
  },
  {
   "cell_type": "code",
   "execution_count": 29,
   "metadata": {},
   "outputs": [
    {
     "data": {
      "text/plain": [
       "user_id                     0\n",
       "month                       0\n",
       "duration                    0\n",
       "calls                       0\n",
       "messages                    0\n",
       "gb                          0\n",
       "age                         0\n",
       "churn_month              3027\n",
       "city                        0\n",
       "first_name                  0\n",
       "last_name                   0\n",
       "reg_month                   0\n",
       "tariff                      0\n",
       "messages_included           0\n",
       "minutes_included            0\n",
       "rub_monthly_fee             0\n",
       "rub_per_gb                  0\n",
       "rub_per_message             0\n",
       "rub_per_minute              0\n",
       "gb_per_month_included       0\n",
       "dtype: int64"
      ]
     },
     "execution_count": 29,
     "metadata": {},
     "output_type": "execute_result"
    }
   ],
   "source": [
    "df.isna().sum()"
   ]
  },
  {
   "cell_type": "markdown",
   "metadata": {},
   "source": [
    "Теперь приступим к рассчету помесячной выручки с каждого пользователя."
   ]
  },
  {
   "cell_type": "code",
   "execution_count": 30,
   "metadata": {},
   "outputs": [],
   "source": [
    "# Функция меняющая отрицательные значения на 0\n",
    "def above_zero(n):\n",
    "    if n < 0:\n",
    "        return 0\n",
    "    return n\n",
    "\n",
    "# Вычислим количество минут, смс и гб использованных сверх лимита\n",
    "# Если всё в рамках тарифного плана при помощи функции заменим на 0\n",
    "df['calls_exceeded'] = df['duration'] - df['minutes_included']\n",
    "df['calls_exceeded'] = df['calls_exceeded'].apply(above_zero)\n",
    "\n",
    "df['messages_exceeded'] = df['messages'] - df['messages_included']\n",
    "df['messages_exceeded'] = df['messages_exceeded'].apply(above_zero)\n",
    "\n",
    "df['gb_exceeded'] = df['gb'] - df['gb_per_month_included']\n",
    "df['gb_exceeded'] = df['gb_exceeded'].apply(above_zero)"
   ]
  },
  {
   "cell_type": "code",
   "execution_count": 31,
   "metadata": {},
   "outputs": [],
   "source": [
    "# Вычислим выручку с минут, смс и гб использованных сверх лимита  для каждого пользователя.\n",
    "df['payment'] = (\n",
    "    (df['calls_exceeded'] * df['rub_per_minute']) +\n",
    "    (df['messages_exceeded'] * df['rub_per_message']) +\n",
    "    (df['gb_exceeded'] * df['rub_per_gb']))\n",
    "\n",
    "# Добавим к абонентской плате сумму выручки за перерасход.\n",
    "df['payment'] = df['payment'] + df['rub_monthly_fee']"
   ]
  },
  {
   "cell_type": "code",
   "execution_count": 32,
   "metadata": {},
   "outputs": [
    {
     "name": "stdout",
     "output_type": "stream",
     "text": [
      "<class 'pandas.core.frame.DataFrame'>\n",
      "Int64Index: 3214 entries, 0 to 3213\n",
      "Data columns (total 24 columns):\n",
      " #   Column                 Non-Null Count  Dtype  \n",
      "---  ------                 --------------  -----  \n",
      " 0   user_id                3214 non-null   int64  \n",
      " 1   month                  3214 non-null   int64  \n",
      " 2   duration               3214 non-null   int64  \n",
      " 3   calls                  3214 non-null   int64  \n",
      " 4   messages               3214 non-null   int64  \n",
      " 5   gb                     3214 non-null   int64  \n",
      " 6   age                    3214 non-null   int64  \n",
      " 7   churn_month            187 non-null    float64\n",
      " 8   city                   3214 non-null   object \n",
      " 9   first_name             3214 non-null   object \n",
      " 10  last_name              3214 non-null   object \n",
      " 11  reg_month              3214 non-null   int64  \n",
      " 12  tariff                 3214 non-null   object \n",
      " 13  messages_included      3214 non-null   int64  \n",
      " 14  minutes_included       3214 non-null   int64  \n",
      " 15  rub_monthly_fee        3214 non-null   int64  \n",
      " 16  rub_per_gb             3214 non-null   int64  \n",
      " 17  rub_per_message        3214 non-null   int64  \n",
      " 18  rub_per_minute         3214 non-null   int64  \n",
      " 19  gb_per_month_included  3214 non-null   int64  \n",
      " 20  calls_exceeded         3214 non-null   int64  \n",
      " 21  messages_exceeded      3214 non-null   int64  \n",
      " 22  gb_exceeded            3214 non-null   int64  \n",
      " 23  payment                3214 non-null   int64  \n",
      "dtypes: float64(1), int64(19), object(4)\n",
      "memory usage: 627.7+ KB\n"
     ]
    },
    {
     "data": {
      "text/plain": [
       "None"
      ]
     },
     "metadata": {},
     "output_type": "display_data"
    },
    {
     "data": {
      "text/plain": [
       "1950    905\n",
       "550     567\n",
       "950      87\n",
       "1150     80\n",
       "1350     78\n",
       "       ... \n",
       "4473      1\n",
       "3950      1\n",
       "2773      1\n",
       "3083      1\n",
       "1513      1\n",
       "Name: payment, Length: 778, dtype: int64"
      ]
     },
     "execution_count": 32,
     "metadata": {},
     "output_type": "execute_result"
    }
   ],
   "source": [
    "display(df.info())\n",
    "df['payment'].value_counts()"
   ]
  },
  {
   "cell_type": "code",
   "execution_count": 33,
   "metadata": {},
   "outputs": [],
   "source": [
    "# Создадим таблицу с нужными столбцами.\n",
    "df_new = df.drop(['first_name', 'last_name', 'reg_month', 'churn_month'], axis='columns')"
   ]
  },
  {
   "cell_type": "code",
   "execution_count": 34,
   "metadata": {},
   "outputs": [
    {
     "data": {
      "text/html": [
       "<div>\n",
       "<style scoped>\n",
       "    .dataframe tbody tr th:only-of-type {\n",
       "        vertical-align: middle;\n",
       "    }\n",
       "\n",
       "    .dataframe tbody tr th {\n",
       "        vertical-align: top;\n",
       "    }\n",
       "\n",
       "    .dataframe thead th {\n",
       "        text-align: right;\n",
       "    }\n",
       "</style>\n",
       "<table border=\"1\" class=\"dataframe\">\n",
       "  <thead>\n",
       "    <tr style=\"text-align: right;\">\n",
       "      <th></th>\n",
       "      <th>user_id</th>\n",
       "      <th>month</th>\n",
       "      <th>duration</th>\n",
       "      <th>calls</th>\n",
       "      <th>messages</th>\n",
       "      <th>gb</th>\n",
       "      <th>age</th>\n",
       "      <th>city</th>\n",
       "      <th>tariff</th>\n",
       "      <th>messages_included</th>\n",
       "      <th>minutes_included</th>\n",
       "      <th>rub_monthly_fee</th>\n",
       "      <th>rub_per_gb</th>\n",
       "      <th>rub_per_message</th>\n",
       "      <th>rub_per_minute</th>\n",
       "      <th>gb_per_month_included</th>\n",
       "      <th>calls_exceeded</th>\n",
       "      <th>messages_exceeded</th>\n",
       "      <th>gb_exceeded</th>\n",
       "      <th>payment</th>\n",
       "    </tr>\n",
       "  </thead>\n",
       "  <tbody>\n",
       "    <tr>\n",
       "      <th>0</th>\n",
       "      <td>1000</td>\n",
       "      <td>5</td>\n",
       "      <td>159</td>\n",
       "      <td>22</td>\n",
       "      <td>22</td>\n",
       "      <td>3</td>\n",
       "      <td>52</td>\n",
       "      <td>Краснодар</td>\n",
       "      <td>ultra</td>\n",
       "      <td>1000</td>\n",
       "      <td>3000</td>\n",
       "      <td>1950</td>\n",
       "      <td>150</td>\n",
       "      <td>1</td>\n",
       "      <td>1</td>\n",
       "      <td>30</td>\n",
       "      <td>0</td>\n",
       "      <td>0</td>\n",
       "      <td>0</td>\n",
       "      <td>1950</td>\n",
       "    </tr>\n",
       "    <tr>\n",
       "      <th>1</th>\n",
       "      <td>1000</td>\n",
       "      <td>6</td>\n",
       "      <td>172</td>\n",
       "      <td>43</td>\n",
       "      <td>60</td>\n",
       "      <td>23</td>\n",
       "      <td>52</td>\n",
       "      <td>Краснодар</td>\n",
       "      <td>ultra</td>\n",
       "      <td>1000</td>\n",
       "      <td>3000</td>\n",
       "      <td>1950</td>\n",
       "      <td>150</td>\n",
       "      <td>1</td>\n",
       "      <td>1</td>\n",
       "      <td>30</td>\n",
       "      <td>0</td>\n",
       "      <td>0</td>\n",
       "      <td>0</td>\n",
       "      <td>1950</td>\n",
       "    </tr>\n",
       "    <tr>\n",
       "      <th>2</th>\n",
       "      <td>1000</td>\n",
       "      <td>7</td>\n",
       "      <td>340</td>\n",
       "      <td>47</td>\n",
       "      <td>75</td>\n",
       "      <td>14</td>\n",
       "      <td>52</td>\n",
       "      <td>Краснодар</td>\n",
       "      <td>ultra</td>\n",
       "      <td>1000</td>\n",
       "      <td>3000</td>\n",
       "      <td>1950</td>\n",
       "      <td>150</td>\n",
       "      <td>1</td>\n",
       "      <td>1</td>\n",
       "      <td>30</td>\n",
       "      <td>0</td>\n",
       "      <td>0</td>\n",
       "      <td>0</td>\n",
       "      <td>1950</td>\n",
       "    </tr>\n",
       "    <tr>\n",
       "      <th>3</th>\n",
       "      <td>1000</td>\n",
       "      <td>8</td>\n",
       "      <td>408</td>\n",
       "      <td>52</td>\n",
       "      <td>81</td>\n",
       "      <td>14</td>\n",
       "      <td>52</td>\n",
       "      <td>Краснодар</td>\n",
       "      <td>ultra</td>\n",
       "      <td>1000</td>\n",
       "      <td>3000</td>\n",
       "      <td>1950</td>\n",
       "      <td>150</td>\n",
       "      <td>1</td>\n",
       "      <td>1</td>\n",
       "      <td>30</td>\n",
       "      <td>0</td>\n",
       "      <td>0</td>\n",
       "      <td>0</td>\n",
       "      <td>1950</td>\n",
       "    </tr>\n",
       "    <tr>\n",
       "      <th>4</th>\n",
       "      <td>1000</td>\n",
       "      <td>9</td>\n",
       "      <td>466</td>\n",
       "      <td>58</td>\n",
       "      <td>57</td>\n",
       "      <td>15</td>\n",
       "      <td>52</td>\n",
       "      <td>Краснодар</td>\n",
       "      <td>ultra</td>\n",
       "      <td>1000</td>\n",
       "      <td>3000</td>\n",
       "      <td>1950</td>\n",
       "      <td>150</td>\n",
       "      <td>1</td>\n",
       "      <td>1</td>\n",
       "      <td>30</td>\n",
       "      <td>0</td>\n",
       "      <td>0</td>\n",
       "      <td>0</td>\n",
       "      <td>1950</td>\n",
       "    </tr>\n",
       "  </tbody>\n",
       "</table>\n",
       "</div>"
      ],
      "text/plain": [
       "   user_id  month  duration  calls  messages  gb  age       city tariff  \\\n",
       "0     1000      5       159     22        22   3   52  Краснодар  ultra   \n",
       "1     1000      6       172     43        60  23   52  Краснодар  ultra   \n",
       "2     1000      7       340     47        75  14   52  Краснодар  ultra   \n",
       "3     1000      8       408     52        81  14   52  Краснодар  ultra   \n",
       "4     1000      9       466     58        57  15   52  Краснодар  ultra   \n",
       "\n",
       "   messages_included  minutes_included  rub_monthly_fee  rub_per_gb  \\\n",
       "0               1000              3000             1950         150   \n",
       "1               1000              3000             1950         150   \n",
       "2               1000              3000             1950         150   \n",
       "3               1000              3000             1950         150   \n",
       "4               1000              3000             1950         150   \n",
       "\n",
       "   rub_per_message  rub_per_minute  gb_per_month_included  calls_exceeded  \\\n",
       "0                1               1                     30               0   \n",
       "1                1               1                     30               0   \n",
       "2                1               1                     30               0   \n",
       "3                1               1                     30               0   \n",
       "4                1               1                     30               0   \n",
       "\n",
       "   messages_exceeded  gb_exceeded  payment  \n",
       "0                  0            0     1950  \n",
       "1                  0            0     1950  \n",
       "2                  0            0     1950  \n",
       "3                  0            0     1950  \n",
       "4                  0            0     1950  "
      ]
     },
     "execution_count": 34,
     "metadata": {},
     "output_type": "execute_result"
    }
   ],
   "source": [
    "df_new.head(5)"
   ]
  },
  {
   "cell_type": "code",
   "execution_count": 35,
   "metadata": {},
   "outputs": [
    {
     "data": {
      "text/html": [
       "<div>\n",
       "<style scoped>\n",
       "    .dataframe tbody tr th:only-of-type {\n",
       "        vertical-align: middle;\n",
       "    }\n",
       "\n",
       "    .dataframe tbody tr th {\n",
       "        vertical-align: top;\n",
       "    }\n",
       "\n",
       "    .dataframe thead th {\n",
       "        text-align: right;\n",
       "    }\n",
       "</style>\n",
       "<table border=\"1\" class=\"dataframe\">\n",
       "  <thead>\n",
       "    <tr style=\"text-align: right;\">\n",
       "      <th></th>\n",
       "      <th>user_id</th>\n",
       "      <th>month</th>\n",
       "      <th>duration</th>\n",
       "      <th>calls</th>\n",
       "      <th>messages</th>\n",
       "      <th>gb</th>\n",
       "      <th>age</th>\n",
       "      <th>city</th>\n",
       "      <th>tariff</th>\n",
       "      <th>messages_included</th>\n",
       "      <th>minutes_included</th>\n",
       "      <th>rub_monthly_fee</th>\n",
       "      <th>rub_per_gb</th>\n",
       "      <th>rub_per_message</th>\n",
       "      <th>rub_per_minute</th>\n",
       "      <th>gb_per_month_included</th>\n",
       "      <th>calls_exceeded</th>\n",
       "      <th>messages_exceeded</th>\n",
       "      <th>gb_exceeded</th>\n",
       "      <th>payment</th>\n",
       "    </tr>\n",
       "  </thead>\n",
       "  <tbody>\n",
       "    <tr>\n",
       "      <th>2540</th>\n",
       "      <td>1340</td>\n",
       "      <td>11</td>\n",
       "      <td>539</td>\n",
       "      <td>69</td>\n",
       "      <td>9</td>\n",
       "      <td>16</td>\n",
       "      <td>50</td>\n",
       "      <td>Пенза</td>\n",
       "      <td>smart</td>\n",
       "      <td>50</td>\n",
       "      <td>500</td>\n",
       "      <td>550</td>\n",
       "      <td>200</td>\n",
       "      <td>3</td>\n",
       "      <td>3</td>\n",
       "      <td>15</td>\n",
       "      <td>39</td>\n",
       "      <td>0</td>\n",
       "      <td>1</td>\n",
       "      <td>867</td>\n",
       "    </tr>\n",
       "    <tr>\n",
       "      <th>359</th>\n",
       "      <td>1222</td>\n",
       "      <td>11</td>\n",
       "      <td>1027</td>\n",
       "      <td>156</td>\n",
       "      <td>114</td>\n",
       "      <td>22</td>\n",
       "      <td>44</td>\n",
       "      <td>Уфа</td>\n",
       "      <td>ultra</td>\n",
       "      <td>1000</td>\n",
       "      <td>3000</td>\n",
       "      <td>1950</td>\n",
       "      <td>150</td>\n",
       "      <td>1</td>\n",
       "      <td>1</td>\n",
       "      <td>30</td>\n",
       "      <td>0</td>\n",
       "      <td>0</td>\n",
       "      <td>0</td>\n",
       "      <td>1950</td>\n",
       "    </tr>\n",
       "    <tr>\n",
       "      <th>2990</th>\n",
       "      <td>1451</td>\n",
       "      <td>12</td>\n",
       "      <td>1144</td>\n",
       "      <td>141</td>\n",
       "      <td>50</td>\n",
       "      <td>17</td>\n",
       "      <td>58</td>\n",
       "      <td>Набережные Челны</td>\n",
       "      <td>smart</td>\n",
       "      <td>50</td>\n",
       "      <td>500</td>\n",
       "      <td>550</td>\n",
       "      <td>200</td>\n",
       "      <td>3</td>\n",
       "      <td>3</td>\n",
       "      <td>15</td>\n",
       "      <td>644</td>\n",
       "      <td>0</td>\n",
       "      <td>2</td>\n",
       "      <td>2882</td>\n",
       "    </tr>\n",
       "    <tr>\n",
       "      <th>104</th>\n",
       "      <td>1063</td>\n",
       "      <td>10</td>\n",
       "      <td>985</td>\n",
       "      <td>123</td>\n",
       "      <td>0</td>\n",
       "      <td>14</td>\n",
       "      <td>45</td>\n",
       "      <td>Тула</td>\n",
       "      <td>ultra</td>\n",
       "      <td>1000</td>\n",
       "      <td>3000</td>\n",
       "      <td>1950</td>\n",
       "      <td>150</td>\n",
       "      <td>1</td>\n",
       "      <td>1</td>\n",
       "      <td>30</td>\n",
       "      <td>0</td>\n",
       "      <td>0</td>\n",
       "      <td>0</td>\n",
       "      <td>1950</td>\n",
       "    </tr>\n",
       "    <tr>\n",
       "      <th>1004</th>\n",
       "      <td>1005</td>\n",
       "      <td>11</td>\n",
       "      <td>547</td>\n",
       "      <td>75</td>\n",
       "      <td>51</td>\n",
       "      <td>13</td>\n",
       "      <td>67</td>\n",
       "      <td>Набережные Челны</td>\n",
       "      <td>smart</td>\n",
       "      <td>50</td>\n",
       "      <td>500</td>\n",
       "      <td>550</td>\n",
       "      <td>200</td>\n",
       "      <td>3</td>\n",
       "      <td>3</td>\n",
       "      <td>15</td>\n",
       "      <td>47</td>\n",
       "      <td>1</td>\n",
       "      <td>0</td>\n",
       "      <td>694</td>\n",
       "    </tr>\n",
       "  </tbody>\n",
       "</table>\n",
       "</div>"
      ],
      "text/plain": [
       "      user_id  month  duration  calls  messages  gb  age              city  \\\n",
       "2540     1340     11       539     69         9  16   50             Пенза   \n",
       "359      1222     11      1027    156       114  22   44               Уфа   \n",
       "2990     1451     12      1144    141        50  17   58  Набережные Челны   \n",
       "104      1063     10       985    123         0  14   45              Тула   \n",
       "1004     1005     11       547     75        51  13   67  Набережные Челны   \n",
       "\n",
       "     tariff  messages_included  minutes_included  rub_monthly_fee  rub_per_gb  \\\n",
       "2540  smart                 50               500              550         200   \n",
       "359   ultra               1000              3000             1950         150   \n",
       "2990  smart                 50               500              550         200   \n",
       "104   ultra               1000              3000             1950         150   \n",
       "1004  smart                 50               500              550         200   \n",
       "\n",
       "      rub_per_message  rub_per_minute  gb_per_month_included  calls_exceeded  \\\n",
       "2540                3               3                     15              39   \n",
       "359                 1               1                     30               0   \n",
       "2990                3               3                     15             644   \n",
       "104                 1               1                     30               0   \n",
       "1004                3               3                     15              47   \n",
       "\n",
       "      messages_exceeded  gb_exceeded  payment  \n",
       "2540                  0            1      867  \n",
       "359                   0            0     1950  \n",
       "2990                  0            2     2882  \n",
       "104                   0            0     1950  \n",
       "1004                  1            0      694  "
      ]
     },
     "execution_count": 35,
     "metadata": {},
     "output_type": "execute_result"
    }
   ],
   "source": [
    "df_new.sample(5)"
   ]
  },
  {
   "cell_type": "markdown",
   "metadata": {},
   "source": [
    "**Вывод**\n",
    "\n",
    "- Преобразовала столбцы с датами из типа *object* в *datetime*;\n",
    "- Проверила уникальные значения в столбцах `city`, `last_name`, `first_name`. Соблюдён регистр, сдвоенных значений нет; \n",
    "- Рассчитала:\n",
    "\n",
    "    1. Количество сделанных звонков и израсходованных минут разговора по месяцам;\n",
    "    2. Количество отправленных сообщений по месяцам;\n",
    "    3. объем израсходованного интернет-трафика по месяцам;\n",
    "    4. Помесячную выручку с каждого пользователя.\n",
    "    \n",
    "    \n",
    "- Проверила на дубликаты;\n",
    "- Проверила пропуски.\n",
    "\n",
    "\n",
    "____"
   ]
  },
  {
   "cell_type": "markdown",
   "metadata": {},
   "source": [
    "##  Исследовательский анализ данных"
   ]
  },
  {
   "cell_type": "markdown",
   "metadata": {},
   "source": [
    "Исследуем и опишем поведение клиентов оператора, исходя из выборки. ответим на следующие вопросы:\n",
    "\n",
    "- Сколько *минут разговора*, сколько *сообщений* и какой объём *интернет-трафика* требуется пользователям каждого тарифа в месяц?\n",
    "- Посчитаем среднее количество, дисперсию и стандартное отклонение.\n",
    "- Построим гистограммы. "
   ]
  },
  {
   "cell_type": "markdown",
   "metadata": {},
   "source": [
    "Рассмотрим, количество уникальных пользователей."
   ]
  },
  {
   "cell_type": "code",
   "execution_count": 36,
   "metadata": {},
   "outputs": [
    {
     "name": "stdout",
     "output_type": "stream",
     "text": [
      "Пользователей «Мегалайна» в данной выборке: 498\n",
      "--------------------------------------------------\n",
      "Пользователей тарифа «Смарт» в данной выборке: 350\n",
      "Пользователей тарифа «Ультра» в данной выборке: 148\n",
      "--------------------------------------------------\n",
      "Всего операция по тарифам:\n",
      "smart    2229\n",
      "ultra     985\n",
      "Name: tariff, dtype: int64\n"
     ]
    }
   ],
   "source": [
    "print('Пользователей «Мегалайна» в данной выборке:', df_new['user_id'].nunique())\n",
    "print('--------------------------------------------------')\n",
    "\n",
    "# Задам отдельный датасет для каждого тарифа\n",
    "df_smart = df_new.query('tariff == \"smart\"')\n",
    "df_ultra = df_new.query('tariff == \"ultra\"')\n",
    "\n",
    "print('Пользователей тарифа «Смарт» в данной выборке:', df_smart['user_id'].nunique())\n",
    "print('Пользователей тарифа «Ультра» в данной выборке:', df_ultra['user_id'].nunique())\n",
    "print('--------------------------------------------------')\n",
    "print('Всего операция по тарифам:')\n",
    "print(df_new['tariff'].value_counts())"
   ]
  },
  {
   "cell_type": "markdown",
   "metadata": {},
   "source": [
    "### Длительность звонков"
   ]
  },
  {
   "cell_type": "code",
   "execution_count": 37,
   "metadata": {},
   "outputs": [
    {
     "data": {
      "text/html": [
       "<div>\n",
       "<style scoped>\n",
       "    .dataframe tbody tr th:only-of-type {\n",
       "        vertical-align: middle;\n",
       "    }\n",
       "\n",
       "    .dataframe tbody tr th {\n",
       "        vertical-align: top;\n",
       "    }\n",
       "\n",
       "    .dataframe thead th {\n",
       "        text-align: right;\n",
       "    }\n",
       "</style>\n",
       "<table border=\"1\" class=\"dataframe\">\n",
       "  <thead>\n",
       "    <tr style=\"text-align: right;\">\n",
       "      <th></th>\n",
       "      <th>Smart</th>\n",
       "      <th>Ultra</th>\n",
       "    </tr>\n",
       "    <tr>\n",
       "      <th>month</th>\n",
       "      <th></th>\n",
       "      <th></th>\n",
       "    </tr>\n",
       "  </thead>\n",
       "  <tbody>\n",
       "    <tr>\n",
       "      <th>1</th>\n",
       "      <td>162.5</td>\n",
       "      <td>382.0</td>\n",
       "    </tr>\n",
       "    <tr>\n",
       "      <th>2</th>\n",
       "      <td>258.0</td>\n",
       "      <td>168.0</td>\n",
       "    </tr>\n",
       "    <tr>\n",
       "      <th>3</th>\n",
       "      <td>409.0</td>\n",
       "      <td>403.0</td>\n",
       "    </tr>\n",
       "    <tr>\n",
       "      <th>4</th>\n",
       "      <td>368.5</td>\n",
       "      <td>453.0</td>\n",
       "    </tr>\n",
       "    <tr>\n",
       "      <th>5</th>\n",
       "      <td>433.0</td>\n",
       "      <td>519.0</td>\n",
       "    </tr>\n",
       "    <tr>\n",
       "      <th>6</th>\n",
       "      <td>400.0</td>\n",
       "      <td>479.0</td>\n",
       "    </tr>\n",
       "    <tr>\n",
       "      <th>7</th>\n",
       "      <td>414.0</td>\n",
       "      <td>542.0</td>\n",
       "    </tr>\n",
       "    <tr>\n",
       "      <th>8</th>\n",
       "      <td>432.0</td>\n",
       "      <td>500.0</td>\n",
       "    </tr>\n",
       "    <tr>\n",
       "      <th>9</th>\n",
       "      <td>435.0</td>\n",
       "      <td>520.0</td>\n",
       "    </tr>\n",
       "    <tr>\n",
       "      <th>10</th>\n",
       "      <td>427.5</td>\n",
       "      <td>533.0</td>\n",
       "    </tr>\n",
       "    <tr>\n",
       "      <th>11</th>\n",
       "      <td>428.5</td>\n",
       "      <td>546.0</td>\n",
       "    </tr>\n",
       "    <tr>\n",
       "      <th>12</th>\n",
       "      <td>471.0</td>\n",
       "      <td>584.0</td>\n",
       "    </tr>\n",
       "  </tbody>\n",
       "</table>\n",
       "</div>"
      ],
      "text/plain": [
       "       Smart  Ultra\n",
       "month              \n",
       "1      162.5  382.0\n",
       "2      258.0  168.0\n",
       "3      409.0  403.0\n",
       "4      368.5  453.0\n",
       "5      433.0  519.0\n",
       "6      400.0  479.0\n",
       "7      414.0  542.0\n",
       "8      432.0  500.0\n",
       "9      435.0  520.0\n",
       "10     427.5  533.0\n",
       "11     428.5  546.0\n",
       "12     471.0  584.0"
      ]
     },
     "metadata": {},
     "output_type": "display_data"
    },
    {
     "data": {
      "image/png": "[encoded data removed]",
      "text/plain": [
       "<Figure size 864x504 with 1 Axes>"
      ]
     },
     "metadata": {
      "needs_background": "light"
     },
     "output_type": "display_data"
    }
   ],
   "source": [
    "# Построим таблицу и график распределения длительности звонков по месяцам\n",
    "table_call = df_new.pivot_table(index='month', columns='tariff', values='duration', aggfunc={'median'})\n",
    "table_call.columns=['Smart','Ultra']\n",
    "display(table_call)\n",
    "\n",
    "\n",
    "table_call.plot(kind='bar',grid=True, alpha=0.4, figsize = (12,7))\n",
    "plt.title('Распределение длительности разговора по месяцам ')\n",
    "plt.xlabel('Месяц')\n",
    "plt.ylabel('Мин.')\n",
    "plt.legend(['Smart','Ultra'])\n",
    "plt.show()"
   ]
  },
  {
   "cell_type": "code",
   "execution_count": 38,
   "metadata": {},
   "outputs": [
    {
     "data": {
      "text/plain": [
       "'Статистика по звонкам тарифа «Смарт»'"
      ]
     },
     "metadata": {},
     "output_type": "display_data"
    },
    {
     "data": {
      "text/plain": [
       "count    2229.000000\n",
       "mean      417.934948\n",
       "std       190.313730\n",
       "min         0.000000\n",
       "25%       282.000000\n",
       "50%       422.000000\n",
       "75%       545.000000\n",
       "max      1435.000000\n",
       "Name: duration, dtype: float64"
      ]
     },
     "metadata": {},
     "output_type": "display_data"
    },
    {
     "data": {
      "text/plain": [
       "'Статистика по звонкам тарифа «Ультра»'"
      ]
     },
     "metadata": {},
     "output_type": "display_data"
    },
    {
     "data": {
      "text/plain": [
       "count     985.000000\n",
       "mean      526.623350\n",
       "std       317.606098\n",
       "min         0.000000\n",
       "25%       284.000000\n",
       "50%       518.000000\n",
       "75%       752.000000\n",
       "max      1673.000000\n",
       "Name: duration, dtype: float64"
      ]
     },
     "metadata": {},
     "output_type": "display_data"
    },
    {
     "data": {
      "text/html": [
       "<style type=\"text/css\">\n",
       "</style>\n",
       "<table id=\"T_b0db4\">\n",
       "  <thead>\n",
       "    <tr>\n",
       "      <th class=\"blank level0\" >&nbsp;</th>\n",
       "      <th id=\"T_b0db4_level0_col0\" class=\"col_heading level0 col0\" >median</th>\n",
       "      <th id=\"T_b0db4_level0_col1\" class=\"col_heading level0 col1\" >mean</th>\n",
       "      <th id=\"T_b0db4_level0_col2\" class=\"col_heading level0 col2\" >var</th>\n",
       "      <th id=\"T_b0db4_level0_col3\" class=\"col_heading level0 col3\" >std</th>\n",
       "    </tr>\n",
       "    <tr>\n",
       "      <th class=\"blank level1\" >&nbsp;</th>\n",
       "      <th id=\"T_b0db4_level1_col0\" class=\"col_heading level1 col0\" >duration</th>\n",
       "      <th id=\"T_b0db4_level1_col1\" class=\"col_heading level1 col1\" >duration</th>\n",
       "      <th id=\"T_b0db4_level1_col2\" class=\"col_heading level1 col2\" >duration</th>\n",
       "      <th id=\"T_b0db4_level1_col3\" class=\"col_heading level1 col3\" >duration</th>\n",
       "    </tr>\n",
       "    <tr>\n",
       "      <th class=\"index_name level0\" >tariff</th>\n",
       "      <th class=\"blank col0\" >&nbsp;</th>\n",
       "      <th class=\"blank col1\" >&nbsp;</th>\n",
       "      <th class=\"blank col2\" >&nbsp;</th>\n",
       "      <th class=\"blank col3\" >&nbsp;</th>\n",
       "    </tr>\n",
       "  </thead>\n",
       "  <tbody>\n",
       "    <tr>\n",
       "      <th id=\"T_b0db4_level0_row0\" class=\"row_heading level0 row0\" >smart</th>\n",
       "      <td id=\"T_b0db4_row0_col0\" class=\"data row0 col0\" >422.0</td>\n",
       "      <td id=\"T_b0db4_row0_col1\" class=\"data row0 col1\" >417.9</td>\n",
       "      <td id=\"T_b0db4_row0_col2\" class=\"data row0 col2\" >36219.3</td>\n",
       "      <td id=\"T_b0db4_row0_col3\" class=\"data row0 col3\" >190.3</td>\n",
       "    </tr>\n",
       "    <tr>\n",
       "      <th id=\"T_b0db4_level0_row1\" class=\"row_heading level0 row1\" >ultra</th>\n",
       "      <td id=\"T_b0db4_row1_col0\" class=\"data row1 col0\" >518.0</td>\n",
       "      <td id=\"T_b0db4_row1_col1\" class=\"data row1 col1\" >526.6</td>\n",
       "      <td id=\"T_b0db4_row1_col2\" class=\"data row1 col2\" >100873.6</td>\n",
       "      <td id=\"T_b0db4_row1_col3\" class=\"data row1 col3\" >317.6</td>\n",
       "    </tr>\n",
       "  </tbody>\n",
       "</table>\n"
      ],
      "text/plain": [
       "<pandas.io.formats.style.Styler at 0x7fd627aec880>"
      ]
     },
     "execution_count": 38,
     "metadata": {},
     "output_type": "execute_result"
    }
   ],
   "source": [
    "# Посмотрим статистику\n",
    "display('Статистика по звонкам тарифа «Смарт»',df_smart['duration'].describe())\n",
    "display('Статистика по звонкам тарифа «Ультра»',df_ultra['duration'].describe())\n",
    "\n",
    "# Посчитаем среднее количество, дисперсию и стандартное отклонение\n",
    "\n",
    "#table_call_2.columns = ['Среднее', 'Дисперсия', 'Стандартное отклонение']\n",
    "table_call_2 = (df_new.pivot_table(index='tariff', values='duration', aggfunc = ['median', 'mean', np.var, np.std])\n",
    "                .style.format('{:.1f}'))\n",
    "table_call_2"
   ]
  },
  {
   "cell_type": "code",
   "execution_count": 39,
   "metadata": {},
   "outputs": [
    {
     "data": {
      "image/png": "[encoded data removed]",
      "text/plain": [
       "<Figure size 720x360 with 1 Axes>"
      ]
     },
     "metadata": {
      "needs_background": "light"
     },
     "output_type": "display_data"
    }
   ],
   "source": [
    "# Построим гистограмму\n",
    "df_smart['duration'].plot(kind='hist', bins=15, alpha=0.4, grid=True, figsize=(10, 5))\n",
    "df_ultra['duration'].plot(kind='hist', bins=15, alpha=0.4, grid=True, figsize=(10, 5))\n",
    "plt.legend(['Smart', 'Ultra'])\n",
    "plt.title('Распределение длительности разговора')\n",
    "plt.xlabel('Мин.')\n",
    "plt.ylabel('Частота')\n",
    "plt.show()"
   ]
  },
  {
   "cell_type": "markdown",
   "metadata": {},
   "source": [
    "**1. Тариф «Смарт»**\n",
    "\n",
    "Включено 500 минут разговора. Стоимость услуг сверх тарифного пакета: минута разговора: 3 рубля.\n",
    "\n",
    "На гистограмме видно, смещение вправо, в основном длительность звонков равна 250-550 мин. \n",
    "\n",
    "~25% пользователей переплачивают за превышение лимита.\n",
    "\n",
    "- Среднее 418 мин;\n",
    "- Дисперсия 36219;\n",
    "- Стандартное отклонение 190."
   ]
  },
  {
   "cell_type": "markdown",
   "metadata": {},
   "source": [
    "**2. Тариф «Ультра»**\n",
    "\n",
    "Включено 3000 минут разговора. Стоимость услуг сверх тарифного пакета: минута разговора: 1 рубль.\n",
    "\n",
    "Абонентов данного тарифа, почти в 2 раза меньше чем абонентов «Смарт», как видно на гистограмме средняя продолжительность звонка 250-750мин. Так же в отличие от предыдущего тарифа показатели по звонкам «Ультра» далеки от тарифного лимита. \n",
    "\n",
    "- Среднее 526 мин;\n",
    "- Дисперсия 100873;\n",
    "- Стандартное отклонение 317.\n",
    "____"
   ]
  },
  {
   "cell_type": "markdown",
   "metadata": {},
   "source": [
    "### Сообщения"
   ]
  },
  {
   "cell_type": "code",
   "execution_count": 40,
   "metadata": {},
   "outputs": [
    {
     "data": {
      "text/html": [
       "<div>\n",
       "<style scoped>\n",
       "    .dataframe tbody tr th:only-of-type {\n",
       "        vertical-align: middle;\n",
       "    }\n",
       "\n",
       "    .dataframe tbody tr th {\n",
       "        vertical-align: top;\n",
       "    }\n",
       "\n",
       "    .dataframe thead th {\n",
       "        text-align: right;\n",
       "    }\n",
       "</style>\n",
       "<table border=\"1\" class=\"dataframe\">\n",
       "  <thead>\n",
       "    <tr style=\"text-align: right;\">\n",
       "      <th></th>\n",
       "      <th>Smart</th>\n",
       "      <th>Ultra</th>\n",
       "    </tr>\n",
       "    <tr>\n",
       "      <th>month</th>\n",
       "      <th></th>\n",
       "      <th></th>\n",
       "    </tr>\n",
       "  </thead>\n",
       "  <tbody>\n",
       "    <tr>\n",
       "      <th>1</th>\n",
       "      <td>15.0</td>\n",
       "      <td>32.0</td>\n",
       "    </tr>\n",
       "    <tr>\n",
       "      <th>2</th>\n",
       "      <td>20.0</td>\n",
       "      <td>5.5</td>\n",
       "    </tr>\n",
       "    <tr>\n",
       "      <th>3</th>\n",
       "      <td>23.0</td>\n",
       "      <td>20.0</td>\n",
       "    </tr>\n",
       "    <tr>\n",
       "      <th>4</th>\n",
       "      <td>28.0</td>\n",
       "      <td>17.0</td>\n",
       "    </tr>\n",
       "    <tr>\n",
       "      <th>5</th>\n",
       "      <td>30.0</td>\n",
       "      <td>25.0</td>\n",
       "    </tr>\n",
       "    <tr>\n",
       "      <th>6</th>\n",
       "      <td>28.0</td>\n",
       "      <td>27.5</td>\n",
       "    </tr>\n",
       "    <tr>\n",
       "      <th>7</th>\n",
       "      <td>29.0</td>\n",
       "      <td>38.0</td>\n",
       "    </tr>\n",
       "    <tr>\n",
       "      <th>8</th>\n",
       "      <td>27.0</td>\n",
       "      <td>40.0</td>\n",
       "    </tr>\n",
       "    <tr>\n",
       "      <th>9</th>\n",
       "      <td>30.0</td>\n",
       "      <td>43.0</td>\n",
       "    </tr>\n",
       "    <tr>\n",
       "      <th>10</th>\n",
       "      <td>30.0</td>\n",
       "      <td>49.0</td>\n",
       "    </tr>\n",
       "    <tr>\n",
       "      <th>11</th>\n",
       "      <td>28.0</td>\n",
       "      <td>43.0</td>\n",
       "    </tr>\n",
       "    <tr>\n",
       "      <th>12</th>\n",
       "      <td>29.0</td>\n",
       "      <td>51.0</td>\n",
       "    </tr>\n",
       "  </tbody>\n",
       "</table>\n",
       "</div>"
      ],
      "text/plain": [
       "       Smart  Ultra\n",
       "month              \n",
       "1       15.0   32.0\n",
       "2       20.0    5.5\n",
       "3       23.0   20.0\n",
       "4       28.0   17.0\n",
       "5       30.0   25.0\n",
       "6       28.0   27.5\n",
       "7       29.0   38.0\n",
       "8       27.0   40.0\n",
       "9       30.0   43.0\n",
       "10      30.0   49.0\n",
       "11      28.0   43.0\n",
       "12      29.0   51.0"
      ]
     },
     "metadata": {},
     "output_type": "display_data"
    },
    {
     "data": {
      "image/png": "[encoded data removed]",
      "text/plain": [
       "<Figure size 864x504 with 1 Axes>"
      ]
     },
     "metadata": {
      "needs_background": "light"
     },
     "output_type": "display_data"
    }
   ],
   "source": [
    "# Построим таблицу и график распределения отправленных смс по месяцам\n",
    "table_sms = df_new.pivot_table(index='month', columns='tariff', values='messages', aggfunc={'median'})\n",
    "table_sms.columns=['Smart','Ultra']\n",
    "display(table_sms)\n",
    "\n",
    "table_sms.plot(kind='bar',grid=True, alpha=0.4, figsize = (12,7))\n",
    "plt.title('Распределение отправленных смс по месяцам ')\n",
    "plt.xlabel('Месяц')\n",
    "plt.ylabel('Смс')\n",
    "plt.legend(['Smart','Ultra'])\n",
    "plt.show()"
   ]
  },
  {
   "cell_type": "code",
   "execution_count": 41,
   "metadata": {},
   "outputs": [
    {
     "data": {
      "text/plain": [
       "'Статистика по сообщениям тарифа «Смарт»'"
      ]
     },
     "metadata": {},
     "output_type": "display_data"
    },
    {
     "data": {
      "text/plain": [
       "count    2229.000000\n",
       "mean       33.384029\n",
       "std        28.227876\n",
       "min         0.000000\n",
       "25%        10.000000\n",
       "50%        28.000000\n",
       "75%        51.000000\n",
       "max       143.000000\n",
       "Name: messages, dtype: float64"
      ]
     },
     "metadata": {},
     "output_type": "display_data"
    },
    {
     "data": {
      "text/plain": [
       "'Статистика по сообщениям тарифа «Ультра»'"
      ]
     },
     "metadata": {},
     "output_type": "display_data"
    },
    {
     "data": {
      "text/plain": [
       "count    985.000000\n",
       "mean      49.363452\n",
       "std       47.804457\n",
       "min        0.000000\n",
       "25%        6.000000\n",
       "50%       38.000000\n",
       "75%       79.000000\n",
       "max      224.000000\n",
       "Name: messages, dtype: float64"
      ]
     },
     "metadata": {},
     "output_type": "display_data"
    },
    {
     "data": {
      "text/html": [
       "<style type=\"text/css\">\n",
       "</style>\n",
       "<table id=\"T_cf370\">\n",
       "  <thead>\n",
       "    <tr>\n",
       "      <th class=\"blank level0\" >&nbsp;</th>\n",
       "      <th id=\"T_cf370_level0_col0\" class=\"col_heading level0 col0\" >median</th>\n",
       "      <th id=\"T_cf370_level0_col1\" class=\"col_heading level0 col1\" >mean</th>\n",
       "      <th id=\"T_cf370_level0_col2\" class=\"col_heading level0 col2\" >var</th>\n",
       "      <th id=\"T_cf370_level0_col3\" class=\"col_heading level0 col3\" >std</th>\n",
       "    </tr>\n",
       "    <tr>\n",
       "      <th class=\"blank level1\" >&nbsp;</th>\n",
       "      <th id=\"T_cf370_level1_col0\" class=\"col_heading level1 col0\" >messages</th>\n",
       "      <th id=\"T_cf370_level1_col1\" class=\"col_heading level1 col1\" >messages</th>\n",
       "      <th id=\"T_cf370_level1_col2\" class=\"col_heading level1 col2\" >messages</th>\n",
       "      <th id=\"T_cf370_level1_col3\" class=\"col_heading level1 col3\" >messages</th>\n",
       "    </tr>\n",
       "    <tr>\n",
       "      <th class=\"index_name level0\" >tariff</th>\n",
       "      <th class=\"blank col0\" >&nbsp;</th>\n",
       "      <th class=\"blank col1\" >&nbsp;</th>\n",
       "      <th class=\"blank col2\" >&nbsp;</th>\n",
       "      <th class=\"blank col3\" >&nbsp;</th>\n",
       "    </tr>\n",
       "  </thead>\n",
       "  <tbody>\n",
       "    <tr>\n",
       "      <th id=\"T_cf370_level0_row0\" class=\"row_heading level0 row0\" >smart</th>\n",
       "      <td id=\"T_cf370_row0_col0\" class=\"data row0 col0\" >28.0</td>\n",
       "      <td id=\"T_cf370_row0_col1\" class=\"data row0 col1\" >33.4</td>\n",
       "      <td id=\"T_cf370_row0_col2\" class=\"data row0 col2\" >796.8</td>\n",
       "      <td id=\"T_cf370_row0_col3\" class=\"data row0 col3\" >28.2</td>\n",
       "    </tr>\n",
       "    <tr>\n",
       "      <th id=\"T_cf370_level0_row1\" class=\"row_heading level0 row1\" >ultra</th>\n",
       "      <td id=\"T_cf370_row1_col0\" class=\"data row1 col0\" >38.0</td>\n",
       "      <td id=\"T_cf370_row1_col1\" class=\"data row1 col1\" >49.4</td>\n",
       "      <td id=\"T_cf370_row1_col2\" class=\"data row1 col2\" >2285.3</td>\n",
       "      <td id=\"T_cf370_row1_col3\" class=\"data row1 col3\" >47.8</td>\n",
       "    </tr>\n",
       "  </tbody>\n",
       "</table>\n"
      ],
      "text/plain": [
       "<pandas.io.formats.style.Styler at 0x7fd62759ed30>"
      ]
     },
     "execution_count": 41,
     "metadata": {},
     "output_type": "execute_result"
    }
   ],
   "source": [
    "# Посмотрим статистику\n",
    "display('Статистика по сообщениям тарифа «Смарт»',df_smart['messages'].describe())\n",
    "display('Статистика по сообщениям тарифа «Ультра»',df_ultra['messages'].describe())\n",
    "\n",
    "# Посчитаем среднее количество, дисперсию и стандартное отклонение\n",
    "#t1.columns = ['Среднее', 'Дисперсия', 'Стандартное отклонение']\n",
    "table_sms_2 = (df_new.pivot_table(index='tariff', values='messages', aggfunc = ['median','mean', np.var, np.std])\n",
    "               .style.format('{:.1f}'))\n",
    "table_sms_2"
   ]
  },
  {
   "cell_type": "code",
   "execution_count": 42,
   "metadata": {},
   "outputs": [
    {
     "data": {
      "image/png": "[encoded data removed]",
      "text/plain": [
       "<Figure size 720x360 with 1 Axes>"
      ]
     },
     "metadata": {
      "needs_background": "light"
     },
     "output_type": "display_data"
    }
   ],
   "source": [
    "# Построим гистограмму\n",
    "df_smart['messages'].plot(kind='hist', bins=15, alpha=0.4, grid=True, figsize=(10, 5))\n",
    "df_ultra['messages'].plot(kind='hist', bins=15, alpha=0.4, grid=True, figsize=(10, 5))\n",
    "plt.legend(['Smart', 'Ultra'])\n",
    "plt.title('Распределение отправленных сообщений')\n",
    "plt.xlabel('Отправлено смс')\n",
    "plt.ylabel('Частота')\n",
    "plt.show()"
   ]
  },
  {
   "cell_type": "markdown",
   "metadata": {},
   "source": [
    "**1. Тариф «Смарт»**\n",
    "\n",
    "Включено 50 сообщений. Стоимость услуг сверх тарифного пакета: сообщение: 3 рубля.\n",
    "\n",
    "На гистограмме пиковое значение до 10 сообщений. Так же есть скос вправо, малой части абонентов не хватает месячного лимита.\n",
    "\n",
    "- Среднее 33 смс;\n",
    "- Дисперсия 797;\n",
    "- Стандартное отклонение 28."
   ]
  },
  {
   "cell_type": "markdown",
   "metadata": {},
   "source": [
    "**2. Тариф «Ультра»**\n",
    "\n",
    "Включено 1000 сообщений. Стоимость услуг сверх тарифного пакета: сообщение: 1 рубля.\n",
    "\n",
    "На гистограмме пик приходится до 20 сообщений, при этом почти равномерное распределение вправо от пика, но нет пользователей, которые превысили  бы тарифный лимит.\n",
    "\n",
    "- Среднее 49 смс;\n",
    "- Дисперсия 2285;\n",
    "- Стандартное отклонение 48.\n",
    "\n",
    "___"
   ]
  },
  {
   "cell_type": "markdown",
   "metadata": {},
   "source": [
    "### Интернет-трафик"
   ]
  },
  {
   "cell_type": "code",
   "execution_count": 43,
   "metadata": {},
   "outputs": [
    {
     "data": {
      "text/html": [
       "<div>\n",
       "<style scoped>\n",
       "    .dataframe tbody tr th:only-of-type {\n",
       "        vertical-align: middle;\n",
       "    }\n",
       "\n",
       "    .dataframe tbody tr th {\n",
       "        vertical-align: top;\n",
       "    }\n",
       "\n",
       "    .dataframe thead th {\n",
       "        text-align: right;\n",
       "    }\n",
       "</style>\n",
       "<table border=\"1\" class=\"dataframe\">\n",
       "  <thead>\n",
       "    <tr style=\"text-align: right;\">\n",
       "      <th></th>\n",
       "      <th>Smart</th>\n",
       "      <th>Ultra</th>\n",
       "    </tr>\n",
       "    <tr>\n",
       "      <th>month</th>\n",
       "      <th></th>\n",
       "      <th></th>\n",
       "    </tr>\n",
       "  </thead>\n",
       "  <tbody>\n",
       "    <tr>\n",
       "      <th>1</th>\n",
       "      <td>15.0</td>\n",
       "      <td>32.0</td>\n",
       "    </tr>\n",
       "    <tr>\n",
       "      <th>2</th>\n",
       "      <td>20.0</td>\n",
       "      <td>5.5</td>\n",
       "    </tr>\n",
       "    <tr>\n",
       "      <th>3</th>\n",
       "      <td>23.0</td>\n",
       "      <td>20.0</td>\n",
       "    </tr>\n",
       "    <tr>\n",
       "      <th>4</th>\n",
       "      <td>28.0</td>\n",
       "      <td>17.0</td>\n",
       "    </tr>\n",
       "    <tr>\n",
       "      <th>5</th>\n",
       "      <td>30.0</td>\n",
       "      <td>25.0</td>\n",
       "    </tr>\n",
       "    <tr>\n",
       "      <th>6</th>\n",
       "      <td>28.0</td>\n",
       "      <td>27.5</td>\n",
       "    </tr>\n",
       "    <tr>\n",
       "      <th>7</th>\n",
       "      <td>29.0</td>\n",
       "      <td>38.0</td>\n",
       "    </tr>\n",
       "    <tr>\n",
       "      <th>8</th>\n",
       "      <td>27.0</td>\n",
       "      <td>40.0</td>\n",
       "    </tr>\n",
       "    <tr>\n",
       "      <th>9</th>\n",
       "      <td>30.0</td>\n",
       "      <td>43.0</td>\n",
       "    </tr>\n",
       "    <tr>\n",
       "      <th>10</th>\n",
       "      <td>30.0</td>\n",
       "      <td>49.0</td>\n",
       "    </tr>\n",
       "    <tr>\n",
       "      <th>11</th>\n",
       "      <td>28.0</td>\n",
       "      <td>43.0</td>\n",
       "    </tr>\n",
       "    <tr>\n",
       "      <th>12</th>\n",
       "      <td>29.0</td>\n",
       "      <td>51.0</td>\n",
       "    </tr>\n",
       "  </tbody>\n",
       "</table>\n",
       "</div>"
      ],
      "text/plain": [
       "       Smart  Ultra\n",
       "month              \n",
       "1       15.0   32.0\n",
       "2       20.0    5.5\n",
       "3       23.0   20.0\n",
       "4       28.0   17.0\n",
       "5       30.0   25.0\n",
       "6       28.0   27.5\n",
       "7       29.0   38.0\n",
       "8       27.0   40.0\n",
       "9       30.0   43.0\n",
       "10      30.0   49.0\n",
       "11      28.0   43.0\n",
       "12      29.0   51.0"
      ]
     },
     "metadata": {},
     "output_type": "display_data"
    },
    {
     "data": {
      "image/png": "[encoded data removed]",
      "text/plain": [
       "<Figure size 864x504 with 1 Axes>"
      ]
     },
     "metadata": {
      "needs_background": "light"
     },
     "output_type": "display_data"
    }
   ],
   "source": [
    "# Построим таблицу и график распределения интернет-трафика по месяцам\n",
    "table_gb = df_new.pivot_table(index='month', columns='tariff', values='gb', aggfunc={'median'})\n",
    "table_gb.columns=['Smart','Ultra']\n",
    "display(table_sms)\n",
    "\n",
    "table_gb.plot(kind='bar',grid=True, alpha=0.4, figsize = (12,7))\n",
    "plt.title('Распределение интернет-трафика по месяцам ')\n",
    "plt.xlabel('Месяц')\n",
    "plt.ylabel('Смс')\n",
    "plt.legend(['Smart','Ultra'])\n",
    "plt.show()"
   ]
  },
  {
   "cell_type": "code",
   "execution_count": 44,
   "metadata": {},
   "outputs": [
    {
     "data": {
      "text/plain": [
       "'Статистика по интернет-трафику тарифа «Смарт»'"
      ]
     },
     "metadata": {},
     "output_type": "display_data"
    },
    {
     "data": {
      "text/plain": [
       "count    2229.000000\n",
       "mean       16.328847\n",
       "std         5.747061\n",
       "min         0.000000\n",
       "25%        13.000000\n",
       "50%        17.000000\n",
       "75%        20.000000\n",
       "max        38.000000\n",
       "Name: gb, dtype: float64"
      ]
     },
     "metadata": {},
     "output_type": "display_data"
    },
    {
     "data": {
      "text/plain": [
       "'Статистика по интернет-трафику тарифа «Ультра»'"
      ]
     },
     "metadata": {},
     "output_type": "display_data"
    },
    {
     "data": {
      "text/plain": [
       "count    985.000000\n",
       "mean      19.494416\n",
       "std        9.853511\n",
       "min        0.000000\n",
       "25%       12.000000\n",
       "50%       19.000000\n",
       "75%       27.000000\n",
       "max       49.000000\n",
       "Name: gb, dtype: float64"
      ]
     },
     "metadata": {},
     "output_type": "display_data"
    },
    {
     "data": {
      "text/html": [
       "<style type=\"text/css\">\n",
       "</style>\n",
       "<table id=\"T_f0eb6\">\n",
       "  <thead>\n",
       "    <tr>\n",
       "      <th class=\"blank level0\" >&nbsp;</th>\n",
       "      <th id=\"T_f0eb6_level0_col0\" class=\"col_heading level0 col0\" >median</th>\n",
       "      <th id=\"T_f0eb6_level0_col1\" class=\"col_heading level0 col1\" >mean</th>\n",
       "      <th id=\"T_f0eb6_level0_col2\" class=\"col_heading level0 col2\" >var</th>\n",
       "      <th id=\"T_f0eb6_level0_col3\" class=\"col_heading level0 col3\" >std</th>\n",
       "    </tr>\n",
       "    <tr>\n",
       "      <th class=\"blank level1\" >&nbsp;</th>\n",
       "      <th id=\"T_f0eb6_level1_col0\" class=\"col_heading level1 col0\" >gb</th>\n",
       "      <th id=\"T_f0eb6_level1_col1\" class=\"col_heading level1 col1\" >gb</th>\n",
       "      <th id=\"T_f0eb6_level1_col2\" class=\"col_heading level1 col2\" >gb</th>\n",
       "      <th id=\"T_f0eb6_level1_col3\" class=\"col_heading level1 col3\" >gb</th>\n",
       "    </tr>\n",
       "    <tr>\n",
       "      <th class=\"index_name level0\" >tariff</th>\n",
       "      <th class=\"blank col0\" >&nbsp;</th>\n",
       "      <th class=\"blank col1\" >&nbsp;</th>\n",
       "      <th class=\"blank col2\" >&nbsp;</th>\n",
       "      <th class=\"blank col3\" >&nbsp;</th>\n",
       "    </tr>\n",
       "  </thead>\n",
       "  <tbody>\n",
       "    <tr>\n",
       "      <th id=\"T_f0eb6_level0_row0\" class=\"row_heading level0 row0\" >smart</th>\n",
       "      <td id=\"T_f0eb6_row0_col0\" class=\"data row0 col0\" >17.0</td>\n",
       "      <td id=\"T_f0eb6_row0_col1\" class=\"data row0 col1\" >16.3</td>\n",
       "      <td id=\"T_f0eb6_row0_col2\" class=\"data row0 col2\" >33.0</td>\n",
       "      <td id=\"T_f0eb6_row0_col3\" class=\"data row0 col3\" >5.7</td>\n",
       "    </tr>\n",
       "    <tr>\n",
       "      <th id=\"T_f0eb6_level0_row1\" class=\"row_heading level0 row1\" >ultra</th>\n",
       "      <td id=\"T_f0eb6_row1_col0\" class=\"data row1 col0\" >19.0</td>\n",
       "      <td id=\"T_f0eb6_row1_col1\" class=\"data row1 col1\" >19.5</td>\n",
       "      <td id=\"T_f0eb6_row1_col2\" class=\"data row1 col2\" >97.1</td>\n",
       "      <td id=\"T_f0eb6_row1_col3\" class=\"data row1 col3\" >9.9</td>\n",
       "    </tr>\n",
       "  </tbody>\n",
       "</table>\n"
      ],
      "text/plain": [
       "<pandas.io.formats.style.Styler at 0x7fd627413c10>"
      ]
     },
     "execution_count": 44,
     "metadata": {},
     "output_type": "execute_result"
    }
   ],
   "source": [
    "# Посмотрим статистику)\n",
    "display('Статистика по интернет-трафику тарифа «Смарт»',df_smart['gb'].describe())\n",
    "display('Статистика по интернет-трафику тарифа «Ультра»',df_ultra['gb'].describe())\n",
    "\n",
    "# Посчитаем среднее количество, дисперсию и стандартное отклонение\n",
    "table_gb_2 = df_new.pivot_table(index='tariff', values='gb', aggfunc = ['median','mean', np.var, np.std]).style.format('{:.1f}')\n",
    "table_gb_2"
   ]
  },
  {
   "cell_type": "code",
   "execution_count": 45,
   "metadata": {},
   "outputs": [
    {
     "data": {
      "image/png": "[encoded data removed]",
      "text/plain": [
       "<Figure size 720x360 with 1 Axes>"
      ]
     },
     "metadata": {
      "needs_background": "light"
     },
     "output_type": "display_data"
    }
   ],
   "source": [
    "# Построим гистограмму\n",
    "df_smart['gb'].plot(kind='hist', bins=15, alpha=0.4, grid=True, figsize=(10, 5))\n",
    "df_ultra['gb'].plot(kind='hist', bins=15, alpha=0.4, grid=True, figsize=(10, 5))\n",
    "plt.legend(['Smart', 'Ultra'])\n",
    "plt.title('Распределение интернет-трафика')\n",
    "plt.xlabel('Гб')\n",
    "plt.ylabel('Частота')\n",
    "plt.show()"
   ]
  },
  {
   "cell_type": "markdown",
   "metadata": {},
   "source": [
    "**1. Тариф «Смарт»**\n",
    "\n",
    "Включено 15 Гб интернет-трафика. Стоимость услуг сверх тарифного пакета: 1 Гб интернет-трафика: 200 рублей.\n",
    "\n",
    "В основном абоненты расходуют от 12-20гб трафика. Большая часть покупает дополнительный трафик.\n",
    "\n",
    "- Среднее 16 гб;\n",
    "- Дисперсия 33;\n",
    "- Стандартное 33 отклонение 5.7."
   ]
  },
  {
   "cell_type": "markdown",
   "metadata": {},
   "source": [
    "**2. Тариф «Ультра»**\n",
    "\n",
    "Включено 30 Гб интернет-трафика. Стоимость услуг сверх тарифного пакета: 1 Гб интернет-трафика: 150 рублей.\n",
    "\n",
    "Пиковые значения в интервале от 10 до 29гб. Так же есть абоненты, которые превышают тарифный лимит и переплачивают за дополнительный трафик.\n",
    "\n",
    "- Среднее 19.5 гб;\n",
    "- Дисперсия 97;\n",
    "- Стандартное отклонение 10."
   ]
  },
  {
   "cell_type": "markdown",
   "metadata": {},
   "source": [
    "## Проверка гипотез."
   ]
  },
  {
   "cell_type": "markdown",
   "metadata": {},
   "source": [
    "### Cредняя выручка пользователей тарифов «Ультра» и «Смарт» различаются"
   ]
  },
  {
   "cell_type": "markdown",
   "metadata": {},
   "source": [
    "Сформулируем нулевую(H₀) и альтернативную(На) гипотезы:\n",
    "\n",
    "- H₀ - Cредняя выручка пользователей тарифов «Ультра» и «Смарт» одинаковая;\n",
    "\n",
    "- На - Cредняя выручка пользователей тарифов «Ультра» и «Смарт» различаются.\n",
    "\n",
    "Вычислим и составим таблицу с суммой дохода, медианным, средним значениям и дисперсией по обоим тарифам."
   ]
  },
  {
   "cell_type": "code",
   "execution_count": 46,
   "metadata": {},
   "outputs": [
    {
     "data": {
      "text/html": [
       "<style type=\"text/css\">\n",
       "</style>\n",
       "<table id=\"T_808c8\">\n",
       "  <thead>\n",
       "    <tr>\n",
       "      <th class=\"blank level0\" >&nbsp;</th>\n",
       "      <th id=\"T_808c8_level0_col0\" class=\"col_heading level0 col0\" >sum</th>\n",
       "      <th id=\"T_808c8_level0_col1\" class=\"col_heading level0 col1\" >median</th>\n",
       "      <th id=\"T_808c8_level0_col2\" class=\"col_heading level0 col2\" >mean</th>\n",
       "      <th id=\"T_808c8_level0_col3\" class=\"col_heading level0 col3\" >var</th>\n",
       "    </tr>\n",
       "    <tr>\n",
       "      <th class=\"blank level1\" >&nbsp;</th>\n",
       "      <th id=\"T_808c8_level1_col0\" class=\"col_heading level1 col0\" >payment</th>\n",
       "      <th id=\"T_808c8_level1_col1\" class=\"col_heading level1 col1\" >payment</th>\n",
       "      <th id=\"T_808c8_level1_col2\" class=\"col_heading level1 col2\" >payment</th>\n",
       "      <th id=\"T_808c8_level1_col3\" class=\"col_heading level1 col3\" >payment</th>\n",
       "    </tr>\n",
       "    <tr>\n",
       "      <th class=\"index_name level0\" >tariff</th>\n",
       "      <th class=\"blank col0\" >&nbsp;</th>\n",
       "      <th class=\"blank col1\" >&nbsp;</th>\n",
       "      <th class=\"blank col2\" >&nbsp;</th>\n",
       "      <th class=\"blank col3\" >&nbsp;</th>\n",
       "    </tr>\n",
       "  </thead>\n",
       "  <tbody>\n",
       "    <tr>\n",
       "      <th id=\"T_808c8_level0_row0\" class=\"row_heading level0 row0\" >smart</th>\n",
       "      <td id=\"T_808c8_row0_col0\" class=\"data row0 col0\" >2875351.0</td>\n",
       "      <td id=\"T_808c8_row0_col1\" class=\"data row0 col1\" >1023.0</td>\n",
       "      <td id=\"T_808c8_row0_col2\" class=\"data row0 col2\" >1290.0</td>\n",
       "      <td id=\"T_808c8_row0_col3\" class=\"data row0 col3\" >669785.7</td>\n",
       "    </tr>\n",
       "    <tr>\n",
       "      <th id=\"T_808c8_level0_row1\" class=\"row_heading level0 row1\" >ultra</th>\n",
       "      <td id=\"T_808c8_row1_col0\" class=\"data row1 col0\" >2039100.0</td>\n",
       "      <td id=\"T_808c8_row1_col1\" class=\"data row1 col1\" >1950.0</td>\n",
       "      <td id=\"T_808c8_row1_col2\" class=\"data row1 col2\" >2070.2</td>\n",
       "      <td id=\"T_808c8_row1_col3\" class=\"data row1 col3\" >141516.7</td>\n",
       "    </tr>\n",
       "  </tbody>\n",
       "</table>\n"
      ],
      "text/plain": [
       "<pandas.io.formats.style.Styler at 0x7fd6272ed220>"
      ]
     },
     "execution_count": 46,
     "metadata": {},
     "output_type": "execute_result"
    }
   ],
   "source": [
    "# Задам параметры таблице\n",
    "table_payment = (df_new.pivot_table(index='tariff', values='payment', aggfunc = ['sum', 'median', 'mean', np.var])\n",
    "                .style.format('{:.1f}'))\n",
    "table_payment"
   ]
  },
  {
   "cell_type": "markdown",
   "metadata": {},
   "source": [
    "Для проверки гипотезы применим t-тест т.к.:\n",
    "- Генеральные совокупности не зависят друг от друга;\n",
    "- Выборочные средние должны быть нормально распределены;\n",
    "- в значении `equal_var` укажу `False`, т.к. дисперсии выборок не равны.\n",
    "\n",
    "Используем метод `st.ttest_ind()`"
   ]
  },
  {
   "cell_type": "code",
   "execution_count": 47,
   "metadata": {},
   "outputs": [
    {
     "name": "stdout",
     "output_type": "stream",
     "text": [
      "p-значение:  4.2606313931076085e-250\n",
      "Отвергаем нулевую гипотезу\n"
     ]
    }
   ],
   "source": [
    "alpha = 0.05 # критический уровень статистической значимости\n",
    "\n",
    "results = st.ttest_ind(\n",
    "          df_smart['payment'], \n",
    "          df_ultra['payment'],\n",
    "          equal_var = False)\n",
    "\n",
    "print('p-значение: ', results.pvalue)\n",
    "\n",
    "if results.pvalue < alpha:\n",
    "    print(\"Отвергаем нулевую гипотезу\")\n",
    "else:\n",
    "    print(\"Не получилось отвергнуть нулевую гипотезу\") "
   ]
  },
  {
   "cell_type": "markdown",
   "metadata": {},
   "source": [
    "**Вывод**\n",
    "\n",
    "По результатам проверки опровергли нулевую гипотезу, средняя выручка пользователей тарифов «Ультра» и «Смарт» различается."
   ]
  },
  {
   "cell_type": "markdown",
   "metadata": {},
   "source": [
    "### Cредняя выручка пользователей из Москвы отличается от выручки пользователей из других регионов"
   ]
  },
  {
   "cell_type": "markdown",
   "metadata": {},
   "source": [
    "Сформулируем нулевую(H₀) и альтернативную(На) гипотезы:\n",
    "- H₀ - Средняя выручка пользователей из Москвы и пользователей из других регионов равна;\n",
    "\n",
    "- На - Средняя выручка пользователей из Москвы отличается от выручки пользователей из других регионов.\n",
    "\n",
    "Вычислим и составим таблицу с суммой дохода, медианным, средним значением и дисперсией по обоим тарифам."
   ]
  },
  {
   "cell_type": "code",
   "execution_count": 48,
   "metadata": {},
   "outputs": [],
   "source": [
    "# Зададим датасет\n",
    "df_moscow = df_new.query('city == \"Москва\"')\n",
    "df_region = df_new.query('city != \"Москва\"')"
   ]
  },
  {
   "cell_type": "code",
   "execution_count": 49,
   "metadata": {},
   "outputs": [
    {
     "data": {
      "text/html": [
       "<style type=\"text/css\">\n",
       "</style>\n",
       "<table id=\"T_2b886\">\n",
       "  <thead>\n",
       "    <tr>\n",
       "      <th class=\"blank level0\" >&nbsp;</th>\n",
       "      <th id=\"T_2b886_level0_col0\" class=\"col_heading level0 col0\" >sum</th>\n",
       "      <th id=\"T_2b886_level0_col1\" class=\"col_heading level0 col1\" >median</th>\n",
       "      <th id=\"T_2b886_level0_col2\" class=\"col_heading level0 col2\" >mean</th>\n",
       "      <th id=\"T_2b886_level0_col3\" class=\"col_heading level0 col3\" >var</th>\n",
       "    </tr>\n",
       "    <tr>\n",
       "      <th class=\"blank level1\" >&nbsp;</th>\n",
       "      <th id=\"T_2b886_level1_col0\" class=\"col_heading level1 col0\" >payment</th>\n",
       "      <th id=\"T_2b886_level1_col1\" class=\"col_heading level1 col1\" >payment</th>\n",
       "      <th id=\"T_2b886_level1_col2\" class=\"col_heading level1 col2\" >payment</th>\n",
       "      <th id=\"T_2b886_level1_col3\" class=\"col_heading level1 col3\" >payment</th>\n",
       "    </tr>\n",
       "    <tr>\n",
       "      <th class=\"index_name level0\" >city</th>\n",
       "      <th class=\"blank col0\" >&nbsp;</th>\n",
       "      <th class=\"blank col1\" >&nbsp;</th>\n",
       "      <th class=\"blank col2\" >&nbsp;</th>\n",
       "      <th class=\"blank col3\" >&nbsp;</th>\n",
       "    </tr>\n",
       "  </thead>\n",
       "  <tbody>\n",
       "    <tr>\n",
       "      <th id=\"T_2b886_level0_row0\" class=\"row_heading level0 row0\" >Москва</th>\n",
       "      <td id=\"T_2b886_row0_col0\" class=\"data row0 col0\" >945042.0</td>\n",
       "      <td id=\"T_2b886_row0_col1\" class=\"data row0 col1\" >1750.0</td>\n",
       "      <td id=\"T_2b886_row0_col2\" class=\"data row0 col2\" >1546.7</td>\n",
       "      <td id=\"T_2b886_row0_col3\" class=\"data row0 col3\" >565636.5</td>\n",
       "    </tr>\n",
       "  </tbody>\n",
       "</table>\n"
      ],
      "text/plain": [
       "<pandas.io.formats.style.Styler at 0x7fd627152fd0>"
      ]
     },
     "execution_count": 49,
     "metadata": {},
     "output_type": "execute_result"
    }
   ],
   "source": [
    "table_city = (df_moscow.pivot_table(index='city', values='payment', aggfunc = ['sum', 'median', 'mean', np.var])\n",
    "                .style.format('{:.1f}'))\n",
    "table_city"
   ]
  },
  {
   "cell_type": "code",
   "execution_count": 50,
   "metadata": {},
   "outputs": [
    {
     "name": "stdout",
     "output_type": "stream",
     "text": [
      "Суммарный доход : 3969409\n",
      "Медианный доход: 1583.0\n",
      "Средний доход: 1524.94\n",
      "Дисперсия: 654137.63\n"
     ]
    }
   ],
   "source": [
    "print('Суммарный доход :', round(df_region['payment'].sum(), 2))\n",
    "print('Медианный доход:', round(df_region['payment'].median(), 2))\n",
    "print('Средний доход:', round(df_region['payment'].mean(), 2))\n",
    "print('Дисперсия:', round(np.var(df_region['payment'], ddof = 1), 2))"
   ]
  },
  {
   "cell_type": "markdown",
   "metadata": {},
   "source": [
    "Для проверки гипотезы применим t-тест т.к.:\n",
    "- Генеральные совокупности не зависят друг от друга;\n",
    "- Выборочные средние должны быть нормально распределены;\n",
    "- в значении `equal_var` укажу `False`, т.к. дисперсии выборок не равны.\n",
    "\n",
    "Используем метод `st.ttest_ind()`"
   ]
  },
  {
   "cell_type": "code",
   "execution_count": 51,
   "metadata": {},
   "outputs": [
    {
     "name": "stdout",
     "output_type": "stream",
     "text": [
      "p-значение:  0.5257376663729298\n",
      "Не получилось отвергнуть нулевую гипотезу\n"
     ]
    }
   ],
   "source": [
    "alpha = 0.05 # критический уровень статистической значимости\n",
    "\n",
    "results = st.ttest_ind(\n",
    "          df_moscow['payment'], \n",
    "          df_region['payment'],\n",
    "          equal_var = False)\n",
    "\n",
    "print('p-значение: ', results.pvalue)\n",
    "\n",
    "if results.pvalue < alpha:\n",
    "    print(\"Отвергаем нулевую гипотезу\")\n",
    "else:\n",
    "    print(\"Не получилось отвергнуть нулевую гипотезу\") "
   ]
  },
  {
   "cell_type": "markdown",
   "metadata": {},
   "source": [
    "**Вывод**\n",
    "\n",
    "По результатам проверки подтвердилась нулевая гипотеза, средняя выручка пользователей из Москвы и пользователей из других регионов равна(вероятность, что выручка будет одинаковая ~10%)."
   ]
  },
  {
   "cell_type": "markdown",
   "metadata": {},
   "source": [
    "## Общий вывод."
   ]
  },
  {
   "cell_type": "markdown",
   "metadata": {},
   "source": [
    "В ходе проекта проанализировали данные абонентов тарифов «Ультра» и «Смарт» на выборке из 500 пользователей телеком-компании «Мегалайн». Выгрузили данные и провели исследование в следующем порядке:\n",
    "\n",
    "1. Изучили файл с данными по абонентам, звонкам, сообщениям, интернет-трафику и тарифах.\n",
    "\n",
    "\n",
    "2. Подготовили данные для дальнейшего анализа. Преобразовали столбцы с датами из типа object в datetime. Проверили на дубликаты и пропуски таблицы. Объединили таблицы в один датасет, а так же добавили следующие столбцы:\n",
    "\n",
    "\n",
    "- Количество сделанных звонков и израсходованных минут разговора по месяцам;\n",
    "- Количество отправленных сообщений по месяцам;\n",
    "- объем израсходованного интернет-трафика по месяцам;\n",
    "- Помесячную выручку с каждого пользователя.\n",
    "\n",
    "\n",
    "3. Провели исследовательский анализ данных.\n",
    "\n",
    "- В среднем длительность звонков пользователей тарифа «Смарт» равна 250-550 мин (лимит 500 мин), а пользователей «Ультра» 250-750мин (лимит 3000). По минутам разговора абоненты «Ультра» не превышают тарифный лимит. Абоненты «Смарт» примерно 25% предпочитают за превышение тарифного лимита.\n",
    "\n",
    "- В месяц среднестатистический пользователей тарифа  «Смарт» отправляет до 10 сообщений (лимит 50), а пользователей «Ультра» 20 смс (лимит 1000). Услуги sms сообщений не пользуются популярностью у абонентов обоих тарифов. Учитывая, что на данный момент мобильный интернет пользуется большим спросом, пользователи предпочитают обмениваться сообщениями в мессенджерах. \n",
    "\n",
    "- В основном абоненты «Смарт» расходуют от 12-20гб трафика. Большая часть покупает дополнительный трафик. У пользователей тарифа «Ультра» значения в интервале от 10 до 29гб. Именно услуга интрнет-трафика пользуется популярностью, т.к. пользователи обоих тарифов превышают лимит и переплачивают за дополнительные гигабайты. \n",
    "\n",
    "- Пользователей тарифа «Смарт» - 350,  тарифа «Ультра» - 148. При этом средний доход от пользователя «Ультра» больше (2070 руб), чем у «Смарт» (1270 руб), даже с учётом переплат за превышение тарифного плана.\n",
    "\n",
    "\n",
    "4. Так же проверили 2 гипотезы и следующие оказались верны:\n",
    "- Cредняя выручка пользователей тарифов «Ультра» и «Смарт» различаются\n",
    "- Средняя выручка пользователей из Москвы и пользователей из других регионов равна\n",
    "\n",
    "**Рекомендации**\n",
    "\n",
    "Учитывая вышеизложенное будет лучше продвигать в рамках рекламной компании тариф «Ультра». Доступность цены тарифа «Смарт»  и так привлекает в 2 раза больше пользователей. Пользователи «Ультра» не превышают лимит, а соответственно не переплачивают, при этом средний доход  с абонентов «Ультра» выше, даже с учётом переплат в абонентов «Смарт». Средняя выручка с пользователей Москвы и других регионов равна, поэтому можно отдельно не индивидуализировать рекламную компанию под эти рынки."
   ]
  }
 ],
 "metadata": {
  "ExecuteTimeLog": [
   {
    "duration": 379,
    "start_time": "2022-10-02T12:39:49.966Z"
   },
   {
    "duration": 232,
    "start_time": "2022-10-02T12:42:49.956Z"
   },
   {
    "duration": 14,
    "start_time": "2022-10-02T12:43:11.500Z"
   },
   {
    "duration": 25,
    "start_time": "2022-10-02T12:44:18.913Z"
   },
   {
    "duration": 9,
    "start_time": "2022-10-02T12:47:02.474Z"
   },
   {
    "duration": 24,
    "start_time": "2022-10-02T12:47:07.520Z"
   },
   {
    "duration": 59,
    "start_time": "2022-10-02T13:22:02.027Z"
   },
   {
    "duration": 869,
    "start_time": "2022-10-02T13:22:15.223Z"
   },
   {
    "duration": 72,
    "start_time": "2022-10-02T13:22:16.591Z"
   },
   {
    "duration": 27,
    "start_time": "2022-10-02T13:22:41.988Z"
   },
   {
    "duration": 62,
    "start_time": "2022-10-02T13:22:49.720Z"
   },
   {
    "duration": 83,
    "start_time": "2022-10-02T13:22:58.963Z"
   },
   {
    "duration": 64,
    "start_time": "2022-10-02T13:23:02.149Z"
   },
   {
    "duration": 64,
    "start_time": "2022-10-02T13:23:05.242Z"
   },
   {
    "duration": 64,
    "start_time": "2022-10-02T13:23:22.763Z"
   },
   {
    "duration": 65,
    "start_time": "2022-10-02T13:23:33.239Z"
   },
   {
    "duration": 18,
    "start_time": "2022-10-02T13:24:47.475Z"
   },
   {
    "duration": 35,
    "start_time": "2022-10-02T13:25:03.621Z"
   },
   {
    "duration": 35,
    "start_time": "2022-10-02T13:25:10.835Z"
   },
   {
    "duration": 29,
    "start_time": "2022-10-02T13:25:14.655Z"
   },
   {
    "duration": 76,
    "start_time": "2022-10-02T14:37:55.061Z"
   },
   {
    "duration": 1491,
    "start_time": "2022-10-03T09:37:30.232Z"
   },
   {
    "duration": 1219,
    "start_time": "2022-10-03T09:41:49.656Z"
   },
   {
    "duration": 1338,
    "start_time": "2022-10-03T09:41:50.881Z"
   },
   {
    "duration": 40,
    "start_time": "2022-10-03T09:41:52.221Z"
   },
   {
    "duration": 81,
    "start_time": "2022-10-03T09:41:52.263Z"
   },
   {
    "duration": 1254,
    "start_time": "2022-10-03T09:48:21.116Z"
   },
   {
    "duration": 490,
    "start_time": "2022-10-03T09:48:22.373Z"
   },
   {
    "duration": 37,
    "start_time": "2022-10-03T09:48:22.865Z"
   },
   {
    "duration": 90,
    "start_time": "2022-10-03T09:48:22.904Z"
   },
   {
    "duration": 14,
    "start_time": "2022-10-03T09:57:57.732Z"
   },
   {
    "duration": 109,
    "start_time": "2022-10-03T09:58:15.118Z"
   },
   {
    "duration": 13,
    "start_time": "2022-10-03T09:58:18.932Z"
   },
   {
    "duration": 27,
    "start_time": "2022-10-03T09:58:42.397Z"
   },
   {
    "duration": 30,
    "start_time": "2022-10-03T09:59:28.475Z"
   },
   {
    "duration": 5,
    "start_time": "2022-10-03T09:59:38.608Z"
   },
   {
    "duration": 37,
    "start_time": "2022-10-03T09:59:48.261Z"
   },
   {
    "duration": 186,
    "start_time": "2022-10-03T10:02:29.295Z"
   },
   {
    "duration": 230,
    "start_time": "2022-10-03T10:02:48.541Z"
   },
   {
    "duration": 221,
    "start_time": "2022-10-03T10:03:06.948Z"
   },
   {
    "duration": 206,
    "start_time": "2022-10-03T10:03:25.781Z"
   },
   {
    "duration": 32,
    "start_time": "2022-10-03T10:21:42.848Z"
   },
   {
    "duration": 34,
    "start_time": "2022-10-03T10:22:34.025Z"
   },
   {
    "duration": 45,
    "start_time": "2022-10-03T10:22:34.803Z"
   },
   {
    "duration": 36,
    "start_time": "2022-10-03T10:22:35.170Z"
   },
   {
    "duration": 47,
    "start_time": "2022-10-03T10:22:35.508Z"
   },
   {
    "duration": 390,
    "start_time": "2022-10-03T10:22:35.917Z"
   },
   {
    "duration": 91,
    "start_time": "2022-10-03T10:23:16.132Z"
   },
   {
    "duration": 16,
    "start_time": "2022-10-03T10:23:22.512Z"
   },
   {
    "duration": 11,
    "start_time": "2022-10-03T10:33:24.273Z"
   },
   {
    "duration": 514,
    "start_time": "2022-10-03T10:35:13.316Z"
   },
   {
    "duration": 1217,
    "start_time": "2022-10-03T10:35:24.447Z"
   },
   {
    "duration": 522,
    "start_time": "2022-10-03T10:35:25.666Z"
   },
   {
    "duration": 43,
    "start_time": "2022-10-03T10:35:26.190Z"
   },
   {
    "duration": 63,
    "start_time": "2022-10-03T10:35:26.234Z"
   },
   {
    "duration": 34,
    "start_time": "2022-10-03T10:35:26.300Z"
   },
   {
    "duration": 61,
    "start_time": "2022-10-03T10:35:26.335Z"
   },
   {
    "duration": 14,
    "start_time": "2022-10-03T10:35:26.398Z"
   },
   {
    "duration": 3,
    "start_time": "2022-10-03T10:42:34.877Z"
   },
   {
    "duration": 97,
    "start_time": "2022-10-03T11:11:06.439Z"
   },
   {
    "duration": 15,
    "start_time": "2022-10-03T11:11:28.259Z"
   },
   {
    "duration": 22,
    "start_time": "2022-10-03T11:11:41.090Z"
   },
   {
    "duration": 87,
    "start_time": "2022-10-03T11:14:00.746Z"
   },
   {
    "duration": 9,
    "start_time": "2022-10-03T11:14:49.140Z"
   },
   {
    "duration": 55,
    "start_time": "2022-10-03T11:14:55.234Z"
   },
   {
    "duration": 55,
    "start_time": "2022-10-03T11:15:11.052Z"
   },
   {
    "duration": 47,
    "start_time": "2022-10-03T11:17:06.109Z"
   },
   {
    "duration": 9,
    "start_time": "2022-10-03T11:20:18.908Z"
   },
   {
    "duration": 250,
    "start_time": "2022-10-03T11:20:28.350Z"
   },
   {
    "duration": 6,
    "start_time": "2022-10-03T11:23:27.517Z"
   },
   {
    "duration": 31,
    "start_time": "2022-10-03T12:27:11.983Z"
   },
   {
    "duration": 49,
    "start_time": "2022-10-03T12:27:27.169Z"
   },
   {
    "duration": 54,
    "start_time": "2022-10-03T12:28:07.794Z"
   },
   {
    "duration": 86,
    "start_time": "2022-10-03T12:28:15.499Z"
   },
   {
    "duration": 61,
    "start_time": "2022-10-03T12:28:32.837Z"
   },
   {
    "duration": 46,
    "start_time": "2022-10-03T12:28:40.091Z"
   },
   {
    "duration": 50,
    "start_time": "2022-10-03T12:28:53.445Z"
   },
   {
    "duration": 78,
    "start_time": "2022-10-03T12:28:57.331Z"
   },
   {
    "duration": 54,
    "start_time": "2022-10-03T12:45:38.098Z"
   },
   {
    "duration": 37,
    "start_time": "2022-10-03T12:46:01.245Z"
   },
   {
    "duration": 29,
    "start_time": "2022-10-03T12:46:16.001Z"
   },
   {
    "duration": 50,
    "start_time": "2022-10-03T12:47:50.719Z"
   },
   {
    "duration": 5,
    "start_time": "2022-10-03T12:48:07.599Z"
   },
   {
    "duration": 7,
    "start_time": "2022-10-03T13:30:36.784Z"
   },
   {
    "duration": 8,
    "start_time": "2022-10-03T13:30:37.014Z"
   },
   {
    "duration": 6,
    "start_time": "2022-10-03T13:30:37.517Z"
   },
   {
    "duration": 11,
    "start_time": "2022-10-03T13:30:57.914Z"
   },
   {
    "duration": 17,
    "start_time": "2022-10-03T13:31:02.354Z"
   },
   {
    "duration": 11,
    "start_time": "2022-10-03T13:31:08.144Z"
   },
   {
    "duration": 10,
    "start_time": "2022-10-03T13:31:12.604Z"
   },
   {
    "duration": 12,
    "start_time": "2022-10-03T13:31:38.093Z"
   },
   {
    "duration": 8,
    "start_time": "2022-10-03T13:36:04.077Z"
   },
   {
    "duration": 7,
    "start_time": "2022-10-03T13:36:19.958Z"
   },
   {
    "duration": 34,
    "start_time": "2022-10-03T13:48:53.759Z"
   },
   {
    "duration": 284,
    "start_time": "2022-10-03T13:49:01.964Z"
   },
   {
    "duration": 376,
    "start_time": "2022-10-03T13:49:09.706Z"
   },
   {
    "duration": 19,
    "start_time": "2022-10-03T13:49:19.188Z"
   },
   {
    "duration": 15,
    "start_time": "2022-10-03T13:53:57.501Z"
   },
   {
    "duration": 43,
    "start_time": "2022-10-03T13:54:00.813Z"
   },
   {
    "duration": 5,
    "start_time": "2022-10-03T14:00:22.181Z"
   },
   {
    "duration": 1184,
    "start_time": "2022-10-03T14:00:47.302Z"
   },
   {
    "duration": 531,
    "start_time": "2022-10-03T14:00:48.488Z"
   },
   {
    "duration": 60,
    "start_time": "2022-10-03T14:00:49.021Z"
   },
   {
    "duration": 109,
    "start_time": "2022-10-03T14:00:49.084Z"
   },
   {
    "duration": 35,
    "start_time": "2022-10-03T14:00:49.194Z"
   },
   {
    "duration": 132,
    "start_time": "2022-10-03T14:00:49.231Z"
   },
   {
    "duration": 21,
    "start_time": "2022-10-03T14:00:49.366Z"
   },
   {
    "duration": 123,
    "start_time": "2022-10-03T14:00:49.388Z"
   },
   {
    "duration": 9,
    "start_time": "2022-10-03T14:00:49.513Z"
   },
   {
    "duration": 24,
    "start_time": "2022-10-03T14:00:49.525Z"
   },
   {
    "duration": 29,
    "start_time": "2022-10-03T14:00:49.551Z"
   },
   {
    "duration": 68,
    "start_time": "2022-10-03T14:00:49.582Z"
   },
   {
    "duration": 0,
    "start_time": "2022-10-03T14:00:49.652Z"
   },
   {
    "duration": 0,
    "start_time": "2022-10-03T14:00:49.653Z"
   },
   {
    "duration": 0,
    "start_time": "2022-10-03T14:00:49.655Z"
   },
   {
    "duration": 0,
    "start_time": "2022-10-03T14:00:49.656Z"
   },
   {
    "duration": 0,
    "start_time": "2022-10-03T14:00:49.657Z"
   },
   {
    "duration": 0,
    "start_time": "2022-10-03T14:00:49.658Z"
   },
   {
    "duration": 118,
    "start_time": "2022-10-03T14:01:32.451Z"
   },
   {
    "duration": 6,
    "start_time": "2022-10-03T14:01:37.695Z"
   },
   {
    "duration": 8,
    "start_time": "2022-10-03T14:01:41.812Z"
   },
   {
    "duration": 259,
    "start_time": "2022-10-03T14:01:42.297Z"
   },
   {
    "duration": 30,
    "start_time": "2022-10-03T14:01:42.881Z"
   },
   {
    "duration": 5,
    "start_time": "2022-10-03T14:01:43.348Z"
   },
   {
    "duration": 7,
    "start_time": "2022-10-03T14:01:43.553Z"
   },
   {
    "duration": 6,
    "start_time": "2022-10-03T14:01:43.741Z"
   },
   {
    "duration": 57,
    "start_time": "2022-10-03T14:01:43.947Z"
   },
   {
    "duration": 43,
    "start_time": "2022-10-03T14:14:57.629Z"
   },
   {
    "duration": 23,
    "start_time": "2022-10-03T14:28:03.679Z"
   },
   {
    "duration": 12,
    "start_time": "2022-10-03T14:37:25.050Z"
   },
   {
    "duration": 7,
    "start_time": "2022-10-03T14:37:28.081Z"
   },
   {
    "duration": 6,
    "start_time": "2022-10-03T14:37:48.289Z"
   },
   {
    "duration": 1033,
    "start_time": "2022-10-03T14:39:29.171Z"
   },
   {
    "duration": 868,
    "start_time": "2022-10-03T14:39:39.710Z"
   },
   {
    "duration": 1201,
    "start_time": "2022-10-03T14:39:59.221Z"
   },
   {
    "duration": 510,
    "start_time": "2022-10-03T14:40:00.425Z"
   },
   {
    "duration": 53,
    "start_time": "2022-10-03T14:40:00.937Z"
   },
   {
    "duration": 92,
    "start_time": "2022-10-03T14:40:00.992Z"
   },
   {
    "duration": 38,
    "start_time": "2022-10-03T14:40:01.086Z"
   },
   {
    "duration": 98,
    "start_time": "2022-10-03T14:40:01.126Z"
   },
   {
    "duration": 39,
    "start_time": "2022-10-03T14:40:01.226Z"
   },
   {
    "duration": 213,
    "start_time": "2022-10-03T14:40:01.266Z"
   },
   {
    "duration": 0,
    "start_time": "2022-10-03T14:40:01.481Z"
   },
   {
    "duration": 0,
    "start_time": "2022-10-03T14:40:01.483Z"
   },
   {
    "duration": 0,
    "start_time": "2022-10-03T14:40:01.485Z"
   },
   {
    "duration": 0,
    "start_time": "2022-10-03T14:40:01.486Z"
   },
   {
    "duration": 0,
    "start_time": "2022-10-03T14:40:01.487Z"
   },
   {
    "duration": 0,
    "start_time": "2022-10-03T14:40:01.489Z"
   },
   {
    "duration": 0,
    "start_time": "2022-10-03T14:40:01.491Z"
   },
   {
    "duration": 0,
    "start_time": "2022-10-03T14:40:01.492Z"
   },
   {
    "duration": 0,
    "start_time": "2022-10-03T14:40:01.494Z"
   },
   {
    "duration": 0,
    "start_time": "2022-10-03T14:40:01.495Z"
   },
   {
    "duration": 0,
    "start_time": "2022-10-03T14:40:01.496Z"
   },
   {
    "duration": 0,
    "start_time": "2022-10-03T14:40:01.498Z"
   },
   {
    "duration": 134,
    "start_time": "2022-10-03T14:40:16.256Z"
   },
   {
    "duration": 124,
    "start_time": "2022-10-03T14:40:27.580Z"
   },
   {
    "duration": 1149,
    "start_time": "2022-10-03T14:55:20.304Z"
   },
   {
    "duration": 581,
    "start_time": "2022-10-03T14:55:21.456Z"
   },
   {
    "duration": 64,
    "start_time": "2022-10-03T14:55:22.038Z"
   },
   {
    "duration": 105,
    "start_time": "2022-10-03T14:55:22.104Z"
   },
   {
    "duration": 64,
    "start_time": "2022-10-03T14:55:22.212Z"
   },
   {
    "duration": 103,
    "start_time": "2022-10-03T14:55:22.277Z"
   },
   {
    "duration": 17,
    "start_time": "2022-10-03T14:55:22.381Z"
   },
   {
    "duration": 161,
    "start_time": "2022-10-03T14:55:22.400Z"
   },
   {
    "duration": 12,
    "start_time": "2022-10-03T14:55:22.563Z"
   },
   {
    "duration": 101,
    "start_time": "2022-10-03T14:55:22.576Z"
   },
   {
    "duration": 38,
    "start_time": "2022-10-03T14:55:22.679Z"
   },
   {
    "duration": 69,
    "start_time": "2022-10-03T14:55:22.719Z"
   },
   {
    "duration": 11,
    "start_time": "2022-10-03T14:55:22.790Z"
   },
   {
    "duration": 11,
    "start_time": "2022-10-03T14:55:22.803Z"
   },
   {
    "duration": 264,
    "start_time": "2022-10-03T14:55:22.815Z"
   },
   {
    "duration": 31,
    "start_time": "2022-10-03T14:55:23.081Z"
   },
   {
    "duration": 6,
    "start_time": "2022-10-03T14:55:23.114Z"
   },
   {
    "duration": 34,
    "start_time": "2022-10-03T14:55:23.122Z"
   },
   {
    "duration": 10,
    "start_time": "2022-10-03T14:55:23.158Z"
   },
   {
    "duration": 56,
    "start_time": "2022-10-03T14:55:23.171Z"
   },
   {
    "duration": 1418,
    "start_time": "2022-10-04T11:42:30.333Z"
   },
   {
    "duration": 1938,
    "start_time": "2022-10-04T11:42:31.754Z"
   },
   {
    "duration": 70,
    "start_time": "2022-10-04T11:42:33.694Z"
   },
   {
    "duration": 92,
    "start_time": "2022-10-04T11:42:33.766Z"
   },
   {
    "duration": 61,
    "start_time": "2022-10-04T11:42:33.860Z"
   },
   {
    "duration": 100,
    "start_time": "2022-10-04T11:42:33.923Z"
   },
   {
    "duration": 15,
    "start_time": "2022-10-04T11:42:34.025Z"
   },
   {
    "duration": 160,
    "start_time": "2022-10-04T11:42:34.041Z"
   },
   {
    "duration": 8,
    "start_time": "2022-10-04T11:42:34.203Z"
   },
   {
    "duration": 111,
    "start_time": "2022-10-04T11:42:34.213Z"
   },
   {
    "duration": 52,
    "start_time": "2022-10-04T11:42:34.326Z"
   },
   {
    "duration": 47,
    "start_time": "2022-10-04T11:42:34.379Z"
   },
   {
    "duration": 11,
    "start_time": "2022-10-04T11:42:34.428Z"
   },
   {
    "duration": 30,
    "start_time": "2022-10-04T11:42:34.442Z"
   },
   {
    "duration": 227,
    "start_time": "2022-10-04T11:42:34.474Z"
   },
   {
    "duration": 31,
    "start_time": "2022-10-04T11:42:34.703Z"
   },
   {
    "duration": 8,
    "start_time": "2022-10-04T11:42:34.736Z"
   },
   {
    "duration": 29,
    "start_time": "2022-10-04T11:42:34.745Z"
   },
   {
    "duration": 43,
    "start_time": "2022-10-04T11:42:34.776Z"
   },
   {
    "duration": 65,
    "start_time": "2022-10-04T11:42:34.821Z"
   },
   {
    "duration": 118,
    "start_time": "2022-10-04T11:42:34.888Z"
   },
   {
    "duration": 0,
    "start_time": "2022-10-04T11:42:35.008Z"
   },
   {
    "duration": 13,
    "start_time": "2022-10-04T11:42:42.828Z"
   },
   {
    "duration": 65,
    "start_time": "2022-10-04T11:48:30.075Z"
   },
   {
    "duration": 67,
    "start_time": "2022-10-04T11:49:05.778Z"
   },
   {
    "duration": 58,
    "start_time": "2022-10-04T11:54:03.318Z"
   },
   {
    "duration": 14,
    "start_time": "2022-10-04T11:54:10.730Z"
   },
   {
    "duration": 17,
    "start_time": "2022-10-04T12:18:31.077Z"
   },
   {
    "duration": 11,
    "start_time": "2022-10-04T12:18:31.307Z"
   },
   {
    "duration": 56,
    "start_time": "2022-10-04T12:25:15.522Z"
   },
   {
    "duration": 57,
    "start_time": "2022-10-04T12:25:21.423Z"
   },
   {
    "duration": 11,
    "start_time": "2022-10-04T12:25:21.672Z"
   },
   {
    "duration": 418,
    "start_time": "2022-10-04T12:26:31.705Z"
   },
   {
    "duration": 402,
    "start_time": "2022-10-04T12:26:57.305Z"
   },
   {
    "duration": 55,
    "start_time": "2022-10-04T12:27:13.908Z"
   },
   {
    "duration": 16,
    "start_time": "2022-10-04T12:27:15.469Z"
   },
   {
    "duration": 334,
    "start_time": "2022-10-04T12:27:33.086Z"
   },
   {
    "duration": 15,
    "start_time": "2022-10-04T12:27:34.873Z"
   },
   {
    "duration": 55,
    "start_time": "2022-10-04T12:27:45.391Z"
   },
   {
    "duration": 15,
    "start_time": "2022-10-04T12:27:45.821Z"
   },
   {
    "duration": 54,
    "start_time": "2022-10-04T12:32:46.390Z"
   },
   {
    "duration": 13,
    "start_time": "2022-10-04T12:32:48.156Z"
   },
   {
    "duration": 10,
    "start_time": "2022-10-04T12:36:47.468Z"
   },
   {
    "duration": 21,
    "start_time": "2022-10-04T12:38:22.762Z"
   },
   {
    "duration": 25,
    "start_time": "2022-10-04T12:38:41.513Z"
   },
   {
    "duration": 13,
    "start_time": "2022-10-04T12:38:42.797Z"
   },
   {
    "duration": 23,
    "start_time": "2022-10-04T12:45:50.364Z"
   },
   {
    "duration": 13,
    "start_time": "2022-10-04T12:45:51.276Z"
   },
   {
    "duration": 1154,
    "start_time": "2022-10-04T12:47:43.815Z"
   },
   {
    "duration": 505,
    "start_time": "2022-10-04T12:47:44.971Z"
   },
   {
    "duration": 49,
    "start_time": "2022-10-04T12:47:45.478Z"
   },
   {
    "duration": 95,
    "start_time": "2022-10-04T12:47:45.529Z"
   },
   {
    "duration": 42,
    "start_time": "2022-10-04T12:47:45.625Z"
   },
   {
    "duration": 72,
    "start_time": "2022-10-04T12:47:45.689Z"
   },
   {
    "duration": 36,
    "start_time": "2022-10-04T12:47:45.763Z"
   },
   {
    "duration": 140,
    "start_time": "2022-10-04T12:47:45.801Z"
   },
   {
    "duration": 9,
    "start_time": "2022-10-04T12:47:45.944Z"
   },
   {
    "duration": 84,
    "start_time": "2022-10-04T12:47:45.957Z"
   },
   {
    "duration": 48,
    "start_time": "2022-10-04T12:47:46.043Z"
   },
   {
    "duration": 47,
    "start_time": "2022-10-04T12:47:46.093Z"
   },
   {
    "duration": 11,
    "start_time": "2022-10-04T12:47:46.142Z"
   },
   {
    "duration": 8,
    "start_time": "2022-10-04T12:47:46.154Z"
   },
   {
    "duration": 237,
    "start_time": "2022-10-04T12:47:46.164Z"
   },
   {
    "duration": 32,
    "start_time": "2022-10-04T12:47:46.403Z"
   },
   {
    "duration": 5,
    "start_time": "2022-10-04T12:47:46.437Z"
   },
   {
    "duration": 15,
    "start_time": "2022-10-04T12:47:46.444Z"
   },
   {
    "duration": 31,
    "start_time": "2022-10-04T12:47:46.461Z"
   },
   {
    "duration": 62,
    "start_time": "2022-10-04T12:47:46.493Z"
   },
   {
    "duration": 67,
    "start_time": "2022-10-04T12:47:46.557Z"
   },
   {
    "duration": 31,
    "start_time": "2022-10-04T12:47:46.625Z"
   },
   {
    "duration": 41,
    "start_time": "2022-10-04T12:47:46.658Z"
   },
   {
    "duration": 16,
    "start_time": "2022-10-04T12:58:17.392Z"
   },
   {
    "duration": 32,
    "start_time": "2022-10-04T12:58:46.840Z"
   },
   {
    "duration": 37,
    "start_time": "2022-10-04T12:59:00.980Z"
   },
   {
    "duration": 1190,
    "start_time": "2022-10-04T13:05:16.582Z"
   },
   {
    "duration": 508,
    "start_time": "2022-10-04T13:05:17.774Z"
   },
   {
    "duration": 56,
    "start_time": "2022-10-04T13:05:18.283Z"
   },
   {
    "duration": 105,
    "start_time": "2022-10-04T13:05:18.341Z"
   },
   {
    "duration": 53,
    "start_time": "2022-10-04T13:05:18.449Z"
   },
   {
    "duration": 94,
    "start_time": "2022-10-04T13:05:18.503Z"
   },
   {
    "duration": 18,
    "start_time": "2022-10-04T13:05:18.598Z"
   },
   {
    "duration": 148,
    "start_time": "2022-10-04T13:05:18.617Z"
   },
   {
    "duration": 10,
    "start_time": "2022-10-04T13:05:18.766Z"
   },
   {
    "duration": 77,
    "start_time": "2022-10-04T13:05:18.790Z"
   },
   {
    "duration": 48,
    "start_time": "2022-10-04T13:05:18.870Z"
   },
   {
    "duration": 47,
    "start_time": "2022-10-04T13:05:18.920Z"
   },
   {
    "duration": 24,
    "start_time": "2022-10-04T13:05:18.969Z"
   },
   {
    "duration": 2,
    "start_time": "2022-10-04T13:05:18.996Z"
   },
   {
    "duration": 245,
    "start_time": "2022-10-04T13:05:19.000Z"
   },
   {
    "duration": 44,
    "start_time": "2022-10-04T13:05:19.247Z"
   },
   {
    "duration": 6,
    "start_time": "2022-10-04T13:05:19.293Z"
   },
   {
    "duration": 10,
    "start_time": "2022-10-04T13:05:19.300Z"
   },
   {
    "duration": 8,
    "start_time": "2022-10-04T13:05:19.311Z"
   },
   {
    "duration": 78,
    "start_time": "2022-10-04T13:05:19.321Z"
   },
   {
    "duration": 69,
    "start_time": "2022-10-04T13:05:19.402Z"
   },
   {
    "duration": 1313,
    "start_time": "2022-10-04T13:05:19.473Z"
   },
   {
    "duration": 0,
    "start_time": "2022-10-04T13:05:20.788Z"
   },
   {
    "duration": 0,
    "start_time": "2022-10-04T13:05:20.789Z"
   },
   {
    "duration": 0,
    "start_time": "2022-10-04T13:05:20.790Z"
   },
   {
    "duration": 0,
    "start_time": "2022-10-04T13:05:20.791Z"
   },
   {
    "duration": 5,
    "start_time": "2022-10-04T13:05:50.899Z"
   },
   {
    "duration": 15,
    "start_time": "2022-10-04T13:05:53.134Z"
   },
   {
    "duration": 1223,
    "start_time": "2022-10-04T13:06:19.672Z"
   },
   {
    "duration": 515,
    "start_time": "2022-10-04T13:06:20.898Z"
   },
   {
    "duration": 59,
    "start_time": "2022-10-04T13:06:21.415Z"
   },
   {
    "duration": 83,
    "start_time": "2022-10-04T13:06:21.476Z"
   },
   {
    "duration": 59,
    "start_time": "2022-10-04T13:06:21.561Z"
   },
   {
    "duration": 95,
    "start_time": "2022-10-04T13:06:21.622Z"
   },
   {
    "duration": 16,
    "start_time": "2022-10-04T13:06:21.719Z"
   },
   {
    "duration": 174,
    "start_time": "2022-10-04T13:06:21.737Z"
   },
   {
    "duration": 11,
    "start_time": "2022-10-04T13:06:21.914Z"
   },
   {
    "duration": 95,
    "start_time": "2022-10-04T13:06:21.928Z"
   },
   {
    "duration": 45,
    "start_time": "2022-10-04T13:06:22.025Z"
   },
   {
    "duration": 60,
    "start_time": "2022-10-04T13:06:22.072Z"
   },
   {
    "duration": 11,
    "start_time": "2022-10-04T13:06:22.134Z"
   },
   {
    "duration": 3,
    "start_time": "2022-10-04T13:06:22.149Z"
   },
   {
    "duration": 252,
    "start_time": "2022-10-04T13:06:22.154Z"
   },
   {
    "duration": 31,
    "start_time": "2022-10-04T13:06:22.408Z"
   },
   {
    "duration": 5,
    "start_time": "2022-10-04T13:06:22.441Z"
   },
   {
    "duration": 8,
    "start_time": "2022-10-04T13:06:22.447Z"
   },
   {
    "duration": 34,
    "start_time": "2022-10-04T13:06:22.456Z"
   },
   {
    "duration": 55,
    "start_time": "2022-10-04T13:06:22.492Z"
   },
   {
    "duration": 84,
    "start_time": "2022-10-04T13:06:22.548Z"
   },
   {
    "duration": 4,
    "start_time": "2022-10-04T13:06:22.634Z"
   },
   {
    "duration": 15,
    "start_time": "2022-10-04T13:06:22.640Z"
   },
   {
    "duration": 48,
    "start_time": "2022-10-04T13:06:22.657Z"
   },
   {
    "duration": 30,
    "start_time": "2022-10-04T13:06:22.706Z"
   },
   {
    "duration": 12,
    "start_time": "2022-10-04T13:06:22.738Z"
   },
   {
    "duration": 5,
    "start_time": "2022-10-04T13:07:19.843Z"
   },
   {
    "duration": 14,
    "start_time": "2022-10-04T13:07:20.471Z"
   },
   {
    "duration": 18,
    "start_time": "2022-10-04T13:26:51.911Z"
   },
   {
    "duration": 1190,
    "start_time": "2022-10-04T13:29:23.588Z"
   },
   {
    "duration": 509,
    "start_time": "2022-10-04T13:29:24.780Z"
   },
   {
    "duration": 51,
    "start_time": "2022-10-04T13:29:25.290Z"
   },
   {
    "duration": 107,
    "start_time": "2022-10-04T13:29:25.344Z"
   },
   {
    "duration": 59,
    "start_time": "2022-10-04T13:29:25.453Z"
   },
   {
    "duration": 95,
    "start_time": "2022-10-04T13:29:25.514Z"
   },
   {
    "duration": 16,
    "start_time": "2022-10-04T13:29:25.611Z"
   },
   {
    "duration": 149,
    "start_time": "2022-10-04T13:29:25.629Z"
   },
   {
    "duration": 14,
    "start_time": "2022-10-04T13:29:25.780Z"
   },
   {
    "duration": 73,
    "start_time": "2022-10-04T13:29:25.797Z"
   },
   {
    "duration": 49,
    "start_time": "2022-10-04T13:29:25.872Z"
   },
   {
    "duration": 44,
    "start_time": "2022-10-04T13:29:25.923Z"
   },
   {
    "duration": 24,
    "start_time": "2022-10-04T13:29:25.969Z"
   },
   {
    "duration": 4,
    "start_time": "2022-10-04T13:29:25.995Z"
   },
   {
    "duration": 241,
    "start_time": "2022-10-04T13:29:26.000Z"
   },
   {
    "duration": 46,
    "start_time": "2022-10-04T13:29:26.243Z"
   },
   {
    "duration": 5,
    "start_time": "2022-10-04T13:29:26.291Z"
   },
   {
    "duration": 13,
    "start_time": "2022-10-04T13:29:26.298Z"
   },
   {
    "duration": 10,
    "start_time": "2022-10-04T13:29:26.312Z"
   },
   {
    "duration": 69,
    "start_time": "2022-10-04T13:29:26.324Z"
   },
   {
    "duration": 13,
    "start_time": "2022-10-04T13:29:26.394Z"
   },
   {
    "duration": 5,
    "start_time": "2022-10-04T13:29:26.409Z"
   },
   {
    "duration": 13,
    "start_time": "2022-10-04T13:29:26.416Z"
   },
   {
    "duration": 94,
    "start_time": "2022-10-04T13:29:26.431Z"
   },
   {
    "duration": 31,
    "start_time": "2022-10-04T13:29:26.528Z"
   },
   {
    "duration": 54,
    "start_time": "2022-10-04T13:29:26.561Z"
   },
   {
    "duration": 14,
    "start_time": "2022-10-04T13:29:26.617Z"
   },
   {
    "duration": 5,
    "start_time": "2022-10-04T13:41:36.353Z"
   },
   {
    "duration": 10,
    "start_time": "2022-10-04T13:41:37.301Z"
   },
   {
    "duration": 48,
    "start_time": "2022-10-04T13:41:40.836Z"
   },
   {
    "duration": 272,
    "start_time": "2022-10-04T14:13:05.757Z"
   },
   {
    "duration": 30,
    "start_time": "2022-10-04T14:13:12.837Z"
   },
   {
    "duration": 101,
    "start_time": "2022-10-04T14:13:19.439Z"
   },
   {
    "duration": 32,
    "start_time": "2022-10-04T14:13:31.935Z"
   },
   {
    "duration": 35,
    "start_time": "2022-10-04T14:13:41.863Z"
   },
   {
    "duration": 29,
    "start_time": "2022-10-04T14:13:48.274Z"
   },
   {
    "duration": 36,
    "start_time": "2022-10-04T14:15:41.960Z"
   },
   {
    "duration": 29,
    "start_time": "2022-10-04T14:19:43.890Z"
   },
   {
    "duration": 1202,
    "start_time": "2022-10-04T14:20:37.818Z"
   },
   {
    "duration": 537,
    "start_time": "2022-10-04T14:20:39.022Z"
   },
   {
    "duration": 52,
    "start_time": "2022-10-04T14:20:39.561Z"
   },
   {
    "duration": 94,
    "start_time": "2022-10-04T14:20:39.615Z"
   },
   {
    "duration": 38,
    "start_time": "2022-10-04T14:20:39.711Z"
   },
   {
    "duration": 101,
    "start_time": "2022-10-04T14:20:39.751Z"
   },
   {
    "duration": 36,
    "start_time": "2022-10-04T14:20:39.853Z"
   },
   {
    "duration": 141,
    "start_time": "2022-10-04T14:20:39.891Z"
   },
   {
    "duration": 9,
    "start_time": "2022-10-04T14:20:40.034Z"
   },
   {
    "duration": 91,
    "start_time": "2022-10-04T14:20:40.045Z"
   },
   {
    "duration": 45,
    "start_time": "2022-10-04T14:20:40.138Z"
   },
   {
    "duration": 48,
    "start_time": "2022-10-04T14:20:40.189Z"
   },
   {
    "duration": 11,
    "start_time": "2022-10-04T14:20:40.239Z"
   },
   {
    "duration": 2,
    "start_time": "2022-10-04T14:20:40.253Z"
   },
   {
    "duration": 259,
    "start_time": "2022-10-04T14:20:40.256Z"
   },
   {
    "duration": 31,
    "start_time": "2022-10-04T14:20:40.517Z"
   },
   {
    "duration": 5,
    "start_time": "2022-10-04T14:20:40.550Z"
   },
   {
    "duration": 18,
    "start_time": "2022-10-04T14:20:40.557Z"
   },
   {
    "duration": 26,
    "start_time": "2022-10-04T14:20:40.577Z"
   },
   {
    "duration": 65,
    "start_time": "2022-10-04T14:20:40.605Z"
   },
   {
    "duration": 4,
    "start_time": "2022-10-04T14:20:40.672Z"
   },
   {
    "duration": 87,
    "start_time": "2022-10-04T14:20:40.678Z"
   },
   {
    "duration": 38,
    "start_time": "2022-10-04T14:20:40.767Z"
   },
   {
    "duration": 43,
    "start_time": "2022-10-04T14:20:40.807Z"
   },
   {
    "duration": 5,
    "start_time": "2022-10-04T14:20:40.852Z"
   },
   {
    "duration": 35,
    "start_time": "2022-10-04T14:20:40.858Z"
   },
   {
    "duration": 13,
    "start_time": "2022-10-04T14:20:40.895Z"
   },
   {
    "duration": 19,
    "start_time": "2022-10-04T14:21:14.938Z"
   },
   {
    "duration": 4,
    "start_time": "2022-10-04T14:21:15.815Z"
   },
   {
    "duration": 13,
    "start_time": "2022-10-04T14:21:20.786Z"
   },
   {
    "duration": 10,
    "start_time": "2022-10-04T14:37:13.147Z"
   },
   {
    "duration": 14,
    "start_time": "2022-10-04T14:38:14.576Z"
   },
   {
    "duration": 1214,
    "start_time": "2022-10-04T14:38:34.282Z"
   },
   {
    "duration": 503,
    "start_time": "2022-10-04T14:38:35.499Z"
   },
   {
    "duration": 51,
    "start_time": "2022-10-04T14:38:36.004Z"
   },
   {
    "duration": 82,
    "start_time": "2022-10-04T14:38:36.057Z"
   },
   {
    "duration": 58,
    "start_time": "2022-10-04T14:38:36.141Z"
   },
   {
    "duration": 98,
    "start_time": "2022-10-04T14:38:36.201Z"
   },
   {
    "duration": 17,
    "start_time": "2022-10-04T14:38:36.301Z"
   },
   {
    "duration": 153,
    "start_time": "2022-10-04T14:38:36.320Z"
   },
   {
    "duration": 16,
    "start_time": "2022-10-04T14:38:36.475Z"
   },
   {
    "duration": 77,
    "start_time": "2022-10-04T14:38:36.494Z"
   },
   {
    "duration": 43,
    "start_time": "2022-10-04T14:38:36.573Z"
   },
   {
    "duration": 47,
    "start_time": "2022-10-04T14:38:36.618Z"
   },
   {
    "duration": 28,
    "start_time": "2022-10-04T14:38:36.667Z"
   },
   {
    "duration": 2,
    "start_time": "2022-10-04T14:38:36.697Z"
   },
   {
    "duration": 238,
    "start_time": "2022-10-04T14:38:36.700Z"
   },
   {
    "duration": 32,
    "start_time": "2022-10-04T14:38:36.940Z"
   },
   {
    "duration": 5,
    "start_time": "2022-10-04T14:38:36.989Z"
   },
   {
    "duration": 7,
    "start_time": "2022-10-04T14:38:36.996Z"
   },
   {
    "duration": 8,
    "start_time": "2022-10-04T14:38:37.005Z"
   },
   {
    "duration": 75,
    "start_time": "2022-10-04T14:38:37.014Z"
   },
   {
    "duration": 5,
    "start_time": "2022-10-04T14:38:37.091Z"
   },
   {
    "duration": 69,
    "start_time": "2022-10-04T14:38:37.098Z"
   },
   {
    "duration": 48,
    "start_time": "2022-10-04T14:38:37.169Z"
   },
   {
    "duration": 23,
    "start_time": "2022-10-04T14:38:37.219Z"
   },
   {
    "duration": 3,
    "start_time": "2022-10-04T14:38:37.243Z"
   },
   {
    "duration": 16,
    "start_time": "2022-10-04T14:38:37.247Z"
   },
   {
    "duration": 36,
    "start_time": "2022-10-04T14:38:37.265Z"
   },
   {
    "duration": 16,
    "start_time": "2022-10-04T14:38:37.304Z"
   },
   {
    "duration": 22,
    "start_time": "2022-10-04T14:48:25.745Z"
   },
   {
    "duration": 16,
    "start_time": "2022-10-04T14:48:29.143Z"
   },
   {
    "duration": 11,
    "start_time": "2022-10-04T14:52:37.862Z"
   },
   {
    "duration": 6,
    "start_time": "2022-10-04T17:31:44.624Z"
   },
   {
    "duration": 11,
    "start_time": "2022-10-04T17:31:52.473Z"
   },
   {
    "duration": 1174,
    "start_time": "2022-10-04T17:37:23.125Z"
   },
   {
    "duration": 536,
    "start_time": "2022-10-04T17:37:24.301Z"
   },
   {
    "duration": 54,
    "start_time": "2022-10-04T17:37:24.839Z"
   },
   {
    "duration": 93,
    "start_time": "2022-10-04T17:37:24.896Z"
   },
   {
    "duration": 38,
    "start_time": "2022-10-04T17:37:24.991Z"
   },
   {
    "duration": 106,
    "start_time": "2022-10-04T17:37:25.031Z"
   },
   {
    "duration": 18,
    "start_time": "2022-10-04T17:37:25.139Z"
   },
   {
    "duration": 167,
    "start_time": "2022-10-04T17:37:25.159Z"
   },
   {
    "duration": 10,
    "start_time": "2022-10-04T17:37:25.328Z"
   },
   {
    "duration": 88,
    "start_time": "2022-10-04T17:37:25.340Z"
   },
   {
    "duration": 38,
    "start_time": "2022-10-04T17:37:25.430Z"
   },
   {
    "duration": 67,
    "start_time": "2022-10-04T17:37:25.469Z"
   },
   {
    "duration": 12,
    "start_time": "2022-10-04T17:37:25.538Z"
   },
   {
    "duration": 3,
    "start_time": "2022-10-04T17:37:25.552Z"
   },
   {
    "duration": 255,
    "start_time": "2022-10-04T17:37:25.557Z"
   },
   {
    "duration": 33,
    "start_time": "2022-10-04T17:37:25.814Z"
   },
   {
    "duration": 6,
    "start_time": "2022-10-04T17:37:25.848Z"
   },
   {
    "duration": 6,
    "start_time": "2022-10-04T17:37:25.856Z"
   },
   {
    "duration": 5,
    "start_time": "2022-10-04T17:37:25.889Z"
   },
   {
    "duration": 51,
    "start_time": "2022-10-04T17:37:25.896Z"
   },
   {
    "duration": 5,
    "start_time": "2022-10-04T17:37:25.949Z"
   },
   {
    "duration": 90,
    "start_time": "2022-10-04T17:37:25.956Z"
   },
   {
    "duration": 31,
    "start_time": "2022-10-04T17:37:26.047Z"
   },
   {
    "duration": 24,
    "start_time": "2022-10-04T17:37:26.089Z"
   },
   {
    "duration": 13,
    "start_time": "2022-10-04T17:37:26.115Z"
   },
   {
    "duration": 19,
    "start_time": "2022-10-04T17:37:26.130Z"
   },
   {
    "duration": 14,
    "start_time": "2022-10-04T17:37:26.151Z"
   },
   {
    "duration": 27,
    "start_time": "2022-10-04T17:37:26.168Z"
   },
   {
    "duration": 1211,
    "start_time": "2022-10-04T17:50:03.965Z"
   },
   {
    "duration": 527,
    "start_time": "2022-10-04T17:50:05.178Z"
   },
   {
    "duration": 52,
    "start_time": "2022-10-04T17:50:05.707Z"
   },
   {
    "duration": 93,
    "start_time": "2022-10-04T17:50:05.761Z"
   },
   {
    "duration": 54,
    "start_time": "2022-10-04T17:50:05.856Z"
   },
   {
    "duration": 96,
    "start_time": "2022-10-04T17:50:05.912Z"
   },
   {
    "duration": 16,
    "start_time": "2022-10-04T17:50:06.010Z"
   },
   {
    "duration": 146,
    "start_time": "2022-10-04T17:50:06.028Z"
   },
   {
    "duration": 17,
    "start_time": "2022-10-04T17:50:06.176Z"
   },
   {
    "duration": 76,
    "start_time": "2022-10-04T17:50:06.196Z"
   },
   {
    "duration": 44,
    "start_time": "2022-10-04T17:50:06.274Z"
   },
   {
    "duration": 46,
    "start_time": "2022-10-04T17:50:06.320Z"
   },
   {
    "duration": 29,
    "start_time": "2022-10-04T17:50:06.367Z"
   },
   {
    "duration": 2,
    "start_time": "2022-10-04T17:50:06.397Z"
   },
   {
    "duration": 223,
    "start_time": "2022-10-04T17:50:06.401Z"
   },
   {
    "duration": 30,
    "start_time": "2022-10-04T17:50:06.625Z"
   },
   {
    "duration": 4,
    "start_time": "2022-10-04T17:50:06.657Z"
   },
   {
    "duration": 7,
    "start_time": "2022-10-04T17:50:06.663Z"
   },
   {
    "duration": 5,
    "start_time": "2022-10-04T17:50:06.690Z"
   },
   {
    "duration": 52,
    "start_time": "2022-10-04T17:50:06.696Z"
   },
   {
    "duration": 5,
    "start_time": "2022-10-04T17:50:06.750Z"
   },
   {
    "duration": 93,
    "start_time": "2022-10-04T17:50:06.756Z"
   },
   {
    "duration": 39,
    "start_time": "2022-10-04T17:50:06.851Z"
   },
   {
    "duration": 22,
    "start_time": "2022-10-04T17:50:06.892Z"
   },
   {
    "duration": 12,
    "start_time": "2022-10-04T17:50:06.916Z"
   },
   {
    "duration": 16,
    "start_time": "2022-10-04T17:50:06.930Z"
   },
   {
    "duration": 132,
    "start_time": "2022-10-04T17:50:06.947Z"
   },
   {
    "duration": 0,
    "start_time": "2022-10-04T17:50:07.081Z"
   },
   {
    "duration": 6,
    "start_time": "2022-10-04T17:50:19.420Z"
   },
   {
    "duration": 13,
    "start_time": "2022-10-04T17:50:23.177Z"
   },
   {
    "duration": 12,
    "start_time": "2022-10-04T17:52:21.699Z"
   },
   {
    "duration": 17,
    "start_time": "2022-10-04T17:52:22.022Z"
   },
   {
    "duration": 23,
    "start_time": "2022-10-04T18:02:28.192Z"
   },
   {
    "duration": 20,
    "start_time": "2022-10-04T18:02:35.137Z"
   },
   {
    "duration": 1193,
    "start_time": "2022-10-04T18:03:26.528Z"
   },
   {
    "duration": 542,
    "start_time": "2022-10-04T18:03:27.724Z"
   },
   {
    "duration": 63,
    "start_time": "2022-10-04T18:03:28.268Z"
   },
   {
    "duration": 108,
    "start_time": "2022-10-04T18:03:28.334Z"
   },
   {
    "duration": 71,
    "start_time": "2022-10-04T18:03:28.444Z"
   },
   {
    "duration": 97,
    "start_time": "2022-10-04T18:03:28.517Z"
   },
   {
    "duration": 17,
    "start_time": "2022-10-04T18:03:28.616Z"
   },
   {
    "duration": 158,
    "start_time": "2022-10-04T18:03:28.636Z"
   },
   {
    "duration": 8,
    "start_time": "2022-10-04T18:03:28.796Z"
   },
   {
    "duration": 86,
    "start_time": "2022-10-04T18:03:28.806Z"
   },
   {
    "duration": 37,
    "start_time": "2022-10-04T18:03:28.894Z"
   },
   {
    "duration": 63,
    "start_time": "2022-10-04T18:03:28.933Z"
   },
   {
    "duration": 12,
    "start_time": "2022-10-04T18:03:28.997Z"
   },
   {
    "duration": 2,
    "start_time": "2022-10-04T18:03:29.012Z"
   },
   {
    "duration": 251,
    "start_time": "2022-10-04T18:03:29.016Z"
   },
   {
    "duration": 59,
    "start_time": "2022-10-04T18:03:29.269Z"
   },
   {
    "duration": 6,
    "start_time": "2022-10-04T18:03:29.331Z"
   },
   {
    "duration": 7,
    "start_time": "2022-10-04T18:03:29.339Z"
   },
   {
    "duration": 10,
    "start_time": "2022-10-04T18:03:29.348Z"
   },
   {
    "duration": 93,
    "start_time": "2022-10-04T18:03:29.360Z"
   },
   {
    "duration": 6,
    "start_time": "2022-10-04T18:03:29.458Z"
   },
   {
    "duration": 88,
    "start_time": "2022-10-04T18:03:29.467Z"
   },
   {
    "duration": 47,
    "start_time": "2022-10-04T18:03:29.557Z"
   },
   {
    "duration": 25,
    "start_time": "2022-10-04T18:03:29.605Z"
   },
   {
    "duration": 14,
    "start_time": "2022-10-04T18:03:29.631Z"
   },
   {
    "duration": 42,
    "start_time": "2022-10-04T18:03:29.652Z"
   },
   {
    "duration": 121,
    "start_time": "2022-10-04T18:03:29.696Z"
   },
   {
    "duration": 0,
    "start_time": "2022-10-04T18:03:29.819Z"
   },
   {
    "duration": 0,
    "start_time": "2022-10-04T18:03:29.820Z"
   },
   {
    "duration": 20,
    "start_time": "2022-10-04T18:03:38.314Z"
   },
   {
    "duration": 136,
    "start_time": "2022-10-04T18:03:56.076Z"
   },
   {
    "duration": 11,
    "start_time": "2022-10-04T18:03:57.719Z"
   },
   {
    "duration": 205,
    "start_time": "2022-10-04T18:04:11.740Z"
   },
   {
    "duration": 1197,
    "start_time": "2022-10-04T18:04:46.382Z"
   },
   {
    "duration": 1291,
    "start_time": "2022-10-04T18:04:47.581Z"
   },
   {
    "duration": 50,
    "start_time": "2022-10-04T18:04:48.874Z"
   },
   {
    "duration": 102,
    "start_time": "2022-10-04T18:04:48.927Z"
   },
   {
    "duration": 59,
    "start_time": "2022-10-04T18:04:49.031Z"
   },
   {
    "duration": 76,
    "start_time": "2022-10-04T18:04:49.092Z"
   },
   {
    "duration": 17,
    "start_time": "2022-10-04T18:04:49.189Z"
   },
   {
    "duration": 151,
    "start_time": "2022-10-04T18:04:49.208Z"
   },
   {
    "duration": 10,
    "start_time": "2022-10-04T18:04:49.361Z"
   },
   {
    "duration": 115,
    "start_time": "2022-10-04T18:04:49.374Z"
   },
   {
    "duration": 39,
    "start_time": "2022-10-04T18:04:49.491Z"
   },
   {
    "duration": 65,
    "start_time": "2022-10-04T18:04:49.531Z"
   },
   {
    "duration": 11,
    "start_time": "2022-10-04T18:04:49.598Z"
   },
   {
    "duration": 2,
    "start_time": "2022-10-04T18:04:49.611Z"
   },
   {
    "duration": 238,
    "start_time": "2022-10-04T18:04:49.615Z"
   },
   {
    "duration": 41,
    "start_time": "2022-10-04T18:04:49.855Z"
   },
   {
    "duration": 5,
    "start_time": "2022-10-04T18:04:49.898Z"
   },
   {
    "duration": 8,
    "start_time": "2022-10-04T18:04:49.905Z"
   },
   {
    "duration": 6,
    "start_time": "2022-10-04T18:04:49.915Z"
   },
   {
    "duration": 78,
    "start_time": "2022-10-04T18:04:49.923Z"
   },
   {
    "duration": 5,
    "start_time": "2022-10-04T18:04:50.003Z"
   },
   {
    "duration": 101,
    "start_time": "2022-10-04T18:04:50.010Z"
   },
   {
    "duration": 32,
    "start_time": "2022-10-04T18:04:50.113Z"
   },
   {
    "duration": 24,
    "start_time": "2022-10-04T18:04:50.146Z"
   },
   {
    "duration": 14,
    "start_time": "2022-10-04T18:04:50.189Z"
   },
   {
    "duration": 19,
    "start_time": "2022-10-04T18:04:50.205Z"
   },
   {
    "duration": 54,
    "start_time": "2022-10-04T18:05:59.967Z"
   },
   {
    "duration": 1224,
    "start_time": "2022-10-04T18:06:26.957Z"
   },
   {
    "duration": 1312,
    "start_time": "2022-10-04T18:06:28.183Z"
   },
   {
    "duration": 52,
    "start_time": "2022-10-04T18:06:29.497Z"
   },
   {
    "duration": 99,
    "start_time": "2022-10-04T18:06:29.552Z"
   },
   {
    "duration": 53,
    "start_time": "2022-10-04T18:06:29.654Z"
   },
   {
    "duration": 91,
    "start_time": "2022-10-04T18:06:29.709Z"
   },
   {
    "duration": 16,
    "start_time": "2022-10-04T18:06:29.801Z"
   },
   {
    "duration": 149,
    "start_time": "2022-10-04T18:06:29.819Z"
   },
   {
    "duration": 19,
    "start_time": "2022-10-04T18:06:29.970Z"
   },
   {
    "duration": 69,
    "start_time": "2022-10-04T18:06:29.991Z"
   },
   {
    "duration": 48,
    "start_time": "2022-10-04T18:06:30.062Z"
   },
   {
    "duration": 47,
    "start_time": "2022-10-04T18:06:30.112Z"
   },
   {
    "duration": 29,
    "start_time": "2022-10-04T18:06:30.161Z"
   },
   {
    "duration": 3,
    "start_time": "2022-10-04T18:06:30.193Z"
   },
   {
    "duration": 242,
    "start_time": "2022-10-04T18:06:30.198Z"
   },
   {
    "duration": 33,
    "start_time": "2022-10-04T18:06:30.442Z"
   },
   {
    "duration": 5,
    "start_time": "2022-10-04T18:06:30.489Z"
   },
   {
    "duration": 21,
    "start_time": "2022-10-04T18:06:30.496Z"
   },
   {
    "duration": 25,
    "start_time": "2022-10-04T18:06:30.518Z"
   },
   {
    "duration": 96,
    "start_time": "2022-10-04T18:06:30.545Z"
   },
   {
    "duration": 6,
    "start_time": "2022-10-04T18:06:30.643Z"
   },
   {
    "duration": 89,
    "start_time": "2022-10-04T18:06:30.651Z"
   },
   {
    "duration": 35,
    "start_time": "2022-10-04T18:06:30.742Z"
   },
   {
    "duration": 24,
    "start_time": "2022-10-04T18:06:30.788Z"
   },
   {
    "duration": 16,
    "start_time": "2022-10-04T18:06:30.814Z"
   },
   {
    "duration": 18,
    "start_time": "2022-10-04T18:06:30.832Z"
   },
   {
    "duration": 167,
    "start_time": "2022-10-04T18:06:30.852Z"
   },
   {
    "duration": 10,
    "start_time": "2022-10-04T18:06:31.021Z"
   },
   {
    "duration": 27,
    "start_time": "2022-10-04T18:06:31.032Z"
   },
   {
    "duration": 17,
    "start_time": "2022-10-04T18:06:31.060Z"
   },
   {
    "duration": 945,
    "start_time": "2022-10-04T18:07:21.025Z"
   },
   {
    "duration": 27,
    "start_time": "2022-10-04T18:07:28.869Z"
   },
   {
    "duration": 1187,
    "start_time": "2022-10-04T18:09:30.372Z"
   },
   {
    "duration": 554,
    "start_time": "2022-10-04T18:09:31.561Z"
   },
   {
    "duration": 69,
    "start_time": "2022-10-04T18:09:32.117Z"
   },
   {
    "duration": 107,
    "start_time": "2022-10-04T18:09:32.188Z"
   },
   {
    "duration": 41,
    "start_time": "2022-10-04T18:09:32.297Z"
   },
   {
    "duration": 115,
    "start_time": "2022-10-04T18:09:32.340Z"
   },
   {
    "duration": 14,
    "start_time": "2022-10-04T18:09:32.457Z"
   },
   {
    "duration": 144,
    "start_time": "2022-10-04T18:09:32.489Z"
   },
   {
    "duration": 10,
    "start_time": "2022-10-04T18:09:32.634Z"
   },
   {
    "duration": 79,
    "start_time": "2022-10-04T18:09:32.646Z"
   },
   {
    "duration": 36,
    "start_time": "2022-10-04T18:09:32.727Z"
   },
   {
    "duration": 60,
    "start_time": "2022-10-04T18:09:32.765Z"
   },
   {
    "duration": 11,
    "start_time": "2022-10-04T18:09:32.827Z"
   },
   {
    "duration": 2,
    "start_time": "2022-10-04T18:09:32.842Z"
   },
   {
    "duration": 248,
    "start_time": "2022-10-04T18:09:32.846Z"
   },
   {
    "duration": 33,
    "start_time": "2022-10-04T18:09:33.096Z"
   },
   {
    "duration": 6,
    "start_time": "2022-10-04T18:09:33.131Z"
   },
   {
    "duration": 8,
    "start_time": "2022-10-04T18:09:33.139Z"
   },
   {
    "duration": 7,
    "start_time": "2022-10-04T18:09:33.149Z"
   },
   {
    "duration": 93,
    "start_time": "2022-10-04T18:09:33.158Z"
   },
   {
    "duration": 6,
    "start_time": "2022-10-04T18:09:33.253Z"
   },
   {
    "duration": 137,
    "start_time": "2022-10-04T18:09:33.261Z"
   },
   {
    "duration": 0,
    "start_time": "2022-10-04T18:09:33.400Z"
   },
   {
    "duration": 0,
    "start_time": "2022-10-04T18:09:33.402Z"
   },
   {
    "duration": 0,
    "start_time": "2022-10-04T18:09:33.403Z"
   },
   {
    "duration": 0,
    "start_time": "2022-10-04T18:09:33.404Z"
   },
   {
    "duration": 0,
    "start_time": "2022-10-04T18:09:33.405Z"
   },
   {
    "duration": 0,
    "start_time": "2022-10-04T18:09:33.406Z"
   },
   {
    "duration": 0,
    "start_time": "2022-10-04T18:09:33.407Z"
   },
   {
    "duration": 0,
    "start_time": "2022-10-04T18:09:33.408Z"
   },
   {
    "duration": 87,
    "start_time": "2022-10-04T18:09:48.564Z"
   },
   {
    "duration": 38,
    "start_time": "2022-10-04T18:09:55.773Z"
   },
   {
    "duration": 26,
    "start_time": "2022-10-04T18:10:02.079Z"
   },
   {
    "duration": 22,
    "start_time": "2022-10-04T18:10:10.166Z"
   },
   {
    "duration": 14,
    "start_time": "2022-10-04T18:10:15.825Z"
   },
   {
    "duration": 16,
    "start_time": "2022-10-04T18:10:40.533Z"
   },
   {
    "duration": 136,
    "start_time": "2022-10-04T18:14:42.562Z"
   },
   {
    "duration": 1646,
    "start_time": "2022-10-04T18:15:07.261Z"
   },
   {
    "duration": 22,
    "start_time": "2022-10-04T18:15:15.409Z"
   },
   {
    "duration": 4,
    "start_time": "2022-10-04T18:23:14.301Z"
   },
   {
    "duration": 50,
    "start_time": "2022-10-04T18:23:47.397Z"
   },
   {
    "duration": 6,
    "start_time": "2022-10-04T18:23:47.686Z"
   },
   {
    "duration": 1148,
    "start_time": "2022-10-04T18:23:57.244Z"
   },
   {
    "duration": 1288,
    "start_time": "2022-10-04T18:23:58.394Z"
   },
   {
    "duration": 49,
    "start_time": "2022-10-04T18:23:59.683Z"
   },
   {
    "duration": 91,
    "start_time": "2022-10-04T18:23:59.734Z"
   },
   {
    "duration": 34,
    "start_time": "2022-10-04T18:23:59.827Z"
   },
   {
    "duration": 92,
    "start_time": "2022-10-04T18:23:59.862Z"
   },
   {
    "duration": 38,
    "start_time": "2022-10-04T18:23:59.955Z"
   },
   {
    "duration": 136,
    "start_time": "2022-10-04T18:23:59.995Z"
   },
   {
    "duration": 9,
    "start_time": "2022-10-04T18:24:00.132Z"
   },
   {
    "duration": 85,
    "start_time": "2022-10-04T18:24:00.144Z"
   },
   {
    "duration": 38,
    "start_time": "2022-10-04T18:24:00.231Z"
   },
   {
    "duration": 66,
    "start_time": "2022-10-04T18:24:00.271Z"
   },
   {
    "duration": 5,
    "start_time": "2022-10-04T18:24:00.338Z"
   },
   {
    "duration": 34,
    "start_time": "2022-10-04T18:24:00.345Z"
   },
   {
    "duration": 4,
    "start_time": "2022-10-04T18:24:00.380Z"
   },
   {
    "duration": 232,
    "start_time": "2022-10-04T18:24:00.385Z"
   },
   {
    "duration": 43,
    "start_time": "2022-10-04T18:24:00.619Z"
   },
   {
    "duration": 7,
    "start_time": "2022-10-04T18:24:00.664Z"
   },
   {
    "duration": 20,
    "start_time": "2022-10-04T18:24:00.673Z"
   },
   {
    "duration": 18,
    "start_time": "2022-10-04T18:24:00.695Z"
   },
   {
    "duration": 68,
    "start_time": "2022-10-04T18:24:00.714Z"
   },
   {
    "duration": 8,
    "start_time": "2022-10-04T18:24:00.784Z"
   },
   {
    "duration": 71,
    "start_time": "2022-10-04T18:24:00.794Z"
   },
   {
    "duration": 42,
    "start_time": "2022-10-04T18:24:00.868Z"
   },
   {
    "duration": 22,
    "start_time": "2022-10-04T18:24:00.912Z"
   },
   {
    "duration": 14,
    "start_time": "2022-10-04T18:24:00.936Z"
   },
   {
    "duration": 39,
    "start_time": "2022-10-04T18:24:00.953Z"
   },
   {
    "duration": 8296,
    "start_time": "2022-10-04T18:24:00.995Z"
   },
   {
    "duration": 49,
    "start_time": "2022-10-04T18:25:46.334Z"
   },
   {
    "duration": 1195,
    "start_time": "2022-10-04T18:26:16.271Z"
   },
   {
    "duration": 1325,
    "start_time": "2022-10-04T18:26:17.468Z"
   },
   {
    "duration": 51,
    "start_time": "2022-10-04T18:26:18.795Z"
   },
   {
    "duration": 95,
    "start_time": "2022-10-04T18:26:18.847Z"
   },
   {
    "duration": 56,
    "start_time": "2022-10-04T18:26:18.945Z"
   },
   {
    "duration": 103,
    "start_time": "2022-10-04T18:26:19.003Z"
   },
   {
    "duration": 16,
    "start_time": "2022-10-04T18:26:19.108Z"
   },
   {
    "duration": 156,
    "start_time": "2022-10-04T18:26:19.126Z"
   },
   {
    "duration": 9,
    "start_time": "2022-10-04T18:26:19.284Z"
   },
   {
    "duration": 75,
    "start_time": "2022-10-04T18:26:19.295Z"
   },
   {
    "duration": 52,
    "start_time": "2022-10-04T18:26:19.372Z"
   },
   {
    "duration": 63,
    "start_time": "2022-10-04T18:26:19.426Z"
   },
   {
    "duration": 4,
    "start_time": "2022-10-04T18:26:19.491Z"
   },
   {
    "duration": 14,
    "start_time": "2022-10-04T18:26:19.498Z"
   },
   {
    "duration": 2,
    "start_time": "2022-10-04T18:26:19.514Z"
   },
   {
    "duration": 247,
    "start_time": "2022-10-04T18:26:19.518Z"
   },
   {
    "duration": 40,
    "start_time": "2022-10-04T18:26:19.767Z"
   },
   {
    "duration": 5,
    "start_time": "2022-10-04T18:26:19.809Z"
   },
   {
    "duration": 9,
    "start_time": "2022-10-04T18:26:19.816Z"
   },
   {
    "duration": 8,
    "start_time": "2022-10-04T18:26:19.827Z"
   },
   {
    "duration": 78,
    "start_time": "2022-10-04T18:26:19.837Z"
   },
   {
    "duration": 5,
    "start_time": "2022-10-04T18:26:19.917Z"
   },
   {
    "duration": 79,
    "start_time": "2022-10-04T18:26:19.923Z"
   },
   {
    "duration": 32,
    "start_time": "2022-10-04T18:26:20.004Z"
   },
   {
    "duration": 50,
    "start_time": "2022-10-04T18:26:20.039Z"
   },
   {
    "duration": 14,
    "start_time": "2022-10-04T18:26:20.091Z"
   },
   {
    "duration": 17,
    "start_time": "2022-10-04T18:26:20.106Z"
   },
   {
    "duration": 4991,
    "start_time": "2022-10-04T18:26:20.125Z"
   },
   {
    "duration": 27,
    "start_time": "2022-10-04T18:26:25.118Z"
   },
   {
    "duration": 3,
    "start_time": "2022-10-04T18:26:25.147Z"
   },
   {
    "duration": 1179,
    "start_time": "2022-10-04T18:28:49.605Z"
   },
   {
    "duration": 501,
    "start_time": "2022-10-04T18:28:50.786Z"
   },
   {
    "duration": 52,
    "start_time": "2022-10-04T18:28:51.289Z"
   },
   {
    "duration": 103,
    "start_time": "2022-10-04T18:28:51.343Z"
   },
   {
    "duration": 58,
    "start_time": "2022-10-04T18:28:51.449Z"
   },
   {
    "duration": 90,
    "start_time": "2022-10-04T18:28:51.510Z"
   },
   {
    "duration": 15,
    "start_time": "2022-10-04T18:28:51.602Z"
   },
   {
    "duration": 143,
    "start_time": "2022-10-04T18:28:51.619Z"
   },
   {
    "duration": 9,
    "start_time": "2022-10-04T18:28:51.764Z"
   },
   {
    "duration": 89,
    "start_time": "2022-10-04T18:28:51.774Z"
   },
   {
    "duration": 49,
    "start_time": "2022-10-04T18:28:51.865Z"
   },
   {
    "duration": 57,
    "start_time": "2022-10-04T18:28:51.916Z"
   },
   {
    "duration": 18,
    "start_time": "2022-10-04T18:28:51.975Z"
   },
   {
    "duration": 22,
    "start_time": "2022-10-04T18:28:51.996Z"
   },
   {
    "duration": 6,
    "start_time": "2022-10-04T18:28:52.020Z"
   },
   {
    "duration": 261,
    "start_time": "2022-10-04T18:28:52.028Z"
   },
   {
    "duration": 33,
    "start_time": "2022-10-04T18:28:52.291Z"
   },
   {
    "duration": 5,
    "start_time": "2022-10-04T18:28:52.326Z"
   },
   {
    "duration": 8,
    "start_time": "2022-10-04T18:28:52.333Z"
   },
   {
    "duration": 6,
    "start_time": "2022-10-04T18:28:52.342Z"
   },
   {
    "duration": 89,
    "start_time": "2022-10-04T18:28:52.350Z"
   },
   {
    "duration": 5,
    "start_time": "2022-10-04T18:28:52.440Z"
   },
   {
    "duration": 80,
    "start_time": "2022-10-04T18:28:52.446Z"
   },
   {
    "duration": 29,
    "start_time": "2022-10-04T18:28:52.528Z"
   },
   {
    "duration": 40,
    "start_time": "2022-10-04T18:28:52.558Z"
   },
   {
    "duration": 13,
    "start_time": "2022-10-04T18:28:52.599Z"
   },
   {
    "duration": 16,
    "start_time": "2022-10-04T18:28:52.613Z"
   },
   {
    "duration": 2,
    "start_time": "2022-10-04T18:28:52.631Z"
   },
   {
    "duration": 115,
    "start_time": "2022-10-04T18:28:52.634Z"
   },
   {
    "duration": 0,
    "start_time": "2022-10-04T18:28:52.751Z"
   },
   {
    "duration": 1591,
    "start_time": "2022-10-04T18:40:43.660Z"
   },
   {
    "duration": 21,
    "start_time": "2022-10-04T18:40:47.755Z"
   },
   {
    "duration": 171,
    "start_time": "2022-10-04T18:44:00.612Z"
   },
   {
    "duration": 1049,
    "start_time": "2022-10-04T18:45:01.480Z"
   },
   {
    "duration": 60,
    "start_time": "2022-10-04T18:45:23.408Z"
   },
   {
    "duration": 56,
    "start_time": "2022-10-04T18:45:46.339Z"
   },
   {
    "duration": 332,
    "start_time": "2022-10-04T18:46:42.896Z"
   },
   {
    "duration": 56,
    "start_time": "2022-10-04T18:46:54.798Z"
   },
   {
    "duration": 32,
    "start_time": "2022-10-04T18:47:42.394Z"
   },
   {
    "duration": 46,
    "start_time": "2022-10-04T18:48:09.255Z"
   },
   {
    "duration": 43,
    "start_time": "2022-10-04T18:48:55.868Z"
   },
   {
    "duration": 43,
    "start_time": "2022-10-04T18:49:01.660Z"
   },
   {
    "duration": 1564,
    "start_time": "2022-10-04T18:49:15.255Z"
   },
   {
    "duration": 20,
    "start_time": "2022-10-04T18:49:18.555Z"
   },
   {
    "duration": 1138,
    "start_time": "2022-10-04T18:49:25.131Z"
   },
   {
    "duration": 492,
    "start_time": "2022-10-04T18:49:26.271Z"
   },
   {
    "duration": 48,
    "start_time": "2022-10-04T18:49:26.765Z"
   },
   {
    "duration": 90,
    "start_time": "2022-10-04T18:49:26.815Z"
   },
   {
    "duration": 35,
    "start_time": "2022-10-04T18:49:26.906Z"
   },
   {
    "duration": 93,
    "start_time": "2022-10-04T18:49:26.943Z"
   },
   {
    "duration": 16,
    "start_time": "2022-10-04T18:49:27.037Z"
   },
   {
    "duration": 156,
    "start_time": "2022-10-04T18:49:27.055Z"
   },
   {
    "duration": 10,
    "start_time": "2022-10-04T18:49:27.214Z"
   },
   {
    "duration": 79,
    "start_time": "2022-10-04T18:49:27.228Z"
   },
   {
    "duration": 36,
    "start_time": "2022-10-04T18:49:27.309Z"
   },
   {
    "duration": 56,
    "start_time": "2022-10-04T18:49:27.347Z"
   },
   {
    "duration": 3,
    "start_time": "2022-10-04T18:49:27.405Z"
   },
   {
    "duration": 28,
    "start_time": "2022-10-04T18:49:27.410Z"
   },
   {
    "duration": 3,
    "start_time": "2022-10-04T18:49:27.440Z"
   },
   {
    "duration": 243,
    "start_time": "2022-10-04T18:49:27.445Z"
   },
   {
    "duration": 33,
    "start_time": "2022-10-04T18:49:27.689Z"
   },
   {
    "duration": 6,
    "start_time": "2022-10-04T18:49:27.724Z"
   },
   {
    "duration": 6,
    "start_time": "2022-10-04T18:49:27.732Z"
   },
   {
    "duration": 9,
    "start_time": "2022-10-04T18:49:27.739Z"
   },
   {
    "duration": 82,
    "start_time": "2022-10-04T18:49:27.750Z"
   },
   {
    "duration": 6,
    "start_time": "2022-10-04T18:49:27.835Z"
   },
   {
    "duration": 88,
    "start_time": "2022-10-04T18:49:27.843Z"
   },
   {
    "duration": 31,
    "start_time": "2022-10-04T18:49:27.933Z"
   },
   {
    "duration": 41,
    "start_time": "2022-10-04T18:49:27.966Z"
   },
   {
    "duration": 14,
    "start_time": "2022-10-04T18:49:28.009Z"
   },
   {
    "duration": 40,
    "start_time": "2022-10-04T18:49:28.025Z"
   },
   {
    "duration": 1666,
    "start_time": "2022-10-04T18:49:28.069Z"
   },
   {
    "duration": 3,
    "start_time": "2022-10-04T18:49:29.737Z"
   },
   {
    "duration": 27,
    "start_time": "2022-10-04T18:49:29.742Z"
   },
   {
    "duration": 18,
    "start_time": "2022-10-04T18:49:29.771Z"
   },
   {
    "duration": 1204,
    "start_time": "2022-10-04T18:53:23.056Z"
   },
   {
    "duration": 548,
    "start_time": "2022-10-04T18:53:24.262Z"
   },
   {
    "duration": 44,
    "start_time": "2022-10-04T18:53:24.812Z"
   },
   {
    "duration": 83,
    "start_time": "2022-10-04T18:53:24.857Z"
   },
   {
    "duration": 48,
    "start_time": "2022-10-04T18:53:24.942Z"
   },
   {
    "duration": 73,
    "start_time": "2022-10-04T18:53:24.992Z"
   },
   {
    "duration": 37,
    "start_time": "2022-10-04T18:53:25.067Z"
   },
   {
    "duration": 144,
    "start_time": "2022-10-04T18:53:25.106Z"
   },
   {
    "duration": 9,
    "start_time": "2022-10-04T18:53:25.251Z"
   },
   {
    "duration": 86,
    "start_time": "2022-10-04T18:53:25.261Z"
   },
   {
    "duration": 49,
    "start_time": "2022-10-04T18:53:25.350Z"
   },
   {
    "duration": 44,
    "start_time": "2022-10-04T18:53:25.401Z"
   },
   {
    "duration": 3,
    "start_time": "2022-10-04T18:53:25.447Z"
   },
   {
    "duration": 12,
    "start_time": "2022-10-04T18:53:25.454Z"
   },
   {
    "duration": 2,
    "start_time": "2022-10-04T18:53:25.490Z"
   },
   {
    "duration": 216,
    "start_time": "2022-10-04T18:53:25.494Z"
   },
   {
    "duration": 31,
    "start_time": "2022-10-04T18:53:25.712Z"
   },
   {
    "duration": 5,
    "start_time": "2022-10-04T18:53:25.745Z"
   },
   {
    "duration": 6,
    "start_time": "2022-10-04T18:53:25.751Z"
   },
   {
    "duration": 32,
    "start_time": "2022-10-04T18:53:25.758Z"
   },
   {
    "duration": 48,
    "start_time": "2022-10-04T18:53:25.792Z"
   },
   {
    "duration": 4,
    "start_time": "2022-10-04T18:53:25.842Z"
   },
   {
    "duration": 87,
    "start_time": "2022-10-04T18:53:25.848Z"
   },
   {
    "duration": 29,
    "start_time": "2022-10-04T18:53:25.936Z"
   },
   {
    "duration": 40,
    "start_time": "2022-10-04T18:53:25.967Z"
   },
   {
    "duration": 13,
    "start_time": "2022-10-04T18:53:26.009Z"
   },
   {
    "duration": 15,
    "start_time": "2022-10-04T18:53:26.024Z"
   },
   {
    "duration": 128,
    "start_time": "2022-10-04T18:53:26.041Z"
   },
   {
    "duration": 0,
    "start_time": "2022-10-04T18:53:26.171Z"
   },
   {
    "duration": 0,
    "start_time": "2022-10-04T18:53:26.172Z"
   },
   {
    "duration": 0,
    "start_time": "2022-10-04T18:53:26.173Z"
   },
   {
    "duration": 7,
    "start_time": "2022-10-04T18:54:48.281Z"
   },
   {
    "duration": 25,
    "start_time": "2022-10-04T18:54:52.894Z"
   },
   {
    "duration": 355,
    "start_time": "2022-10-04T18:56:31.206Z"
   },
   {
    "duration": 44,
    "start_time": "2022-10-04T18:56:36.782Z"
   },
   {
    "duration": 335,
    "start_time": "2022-10-04T18:56:59.008Z"
   },
   {
    "duration": 38,
    "start_time": "2022-10-04T18:57:11.918Z"
   },
   {
    "duration": 12,
    "start_time": "2022-10-04T18:58:32.091Z"
   },
   {
    "duration": 2,
    "start_time": "2022-10-04T18:58:32.520Z"
   },
   {
    "duration": 20,
    "start_time": "2022-10-04T18:58:32.925Z"
   },
   {
    "duration": 1184,
    "start_time": "2022-10-04T18:58:55.320Z"
   },
   {
    "duration": 502,
    "start_time": "2022-10-04T18:58:56.506Z"
   },
   {
    "duration": 54,
    "start_time": "2022-10-04T18:58:57.009Z"
   },
   {
    "duration": 89,
    "start_time": "2022-10-04T18:58:57.066Z"
   },
   {
    "duration": 59,
    "start_time": "2022-10-04T18:58:57.156Z"
   },
   {
    "duration": 104,
    "start_time": "2022-10-04T18:58:57.217Z"
   },
   {
    "duration": 18,
    "start_time": "2022-10-04T18:58:57.322Z"
   },
   {
    "duration": 149,
    "start_time": "2022-10-04T18:58:57.342Z"
   },
   {
    "duration": 9,
    "start_time": "2022-10-04T18:58:57.493Z"
   },
   {
    "duration": 88,
    "start_time": "2022-10-04T18:58:57.505Z"
   },
   {
    "duration": 37,
    "start_time": "2022-10-04T18:58:57.594Z"
   },
   {
    "duration": 63,
    "start_time": "2022-10-04T18:58:57.632Z"
   },
   {
    "duration": 4,
    "start_time": "2022-10-04T18:58:57.696Z"
   },
   {
    "duration": 14,
    "start_time": "2022-10-04T18:58:57.701Z"
   },
   {
    "duration": 2,
    "start_time": "2022-10-04T18:58:57.717Z"
   },
   {
    "duration": 242,
    "start_time": "2022-10-04T18:58:57.721Z"
   },
   {
    "duration": 41,
    "start_time": "2022-10-04T18:58:57.965Z"
   },
   {
    "duration": 5,
    "start_time": "2022-10-04T18:58:58.008Z"
   },
   {
    "duration": 5,
    "start_time": "2022-10-04T18:58:58.015Z"
   },
   {
    "duration": 6,
    "start_time": "2022-10-04T18:58:58.022Z"
   },
   {
    "duration": 74,
    "start_time": "2022-10-04T18:58:58.030Z"
   },
   {
    "duration": 7,
    "start_time": "2022-10-04T18:58:58.106Z"
   },
   {
    "duration": 98,
    "start_time": "2022-10-04T18:58:58.115Z"
   },
   {
    "duration": 38,
    "start_time": "2022-10-04T18:58:58.215Z"
   },
   {
    "duration": 42,
    "start_time": "2022-10-04T18:58:58.255Z"
   },
   {
    "duration": 16,
    "start_time": "2022-10-04T18:58:58.299Z"
   },
   {
    "duration": 15,
    "start_time": "2022-10-04T18:58:58.317Z"
   },
   {
    "duration": 12,
    "start_time": "2022-10-04T18:58:58.335Z"
   },
   {
    "duration": 5,
    "start_time": "2022-10-04T18:58:58.349Z"
   },
   {
    "duration": 48,
    "start_time": "2022-10-04T18:58:58.355Z"
   },
   {
    "duration": 4,
    "start_time": "2022-10-04T18:58:58.406Z"
   },
   {
    "duration": 1201,
    "start_time": "2022-10-04T18:59:20.939Z"
   },
   {
    "duration": 501,
    "start_time": "2022-10-04T18:59:22.142Z"
   },
   {
    "duration": 51,
    "start_time": "2022-10-04T18:59:22.645Z"
   },
   {
    "duration": 92,
    "start_time": "2022-10-04T18:59:22.697Z"
   },
   {
    "duration": 37,
    "start_time": "2022-10-04T18:59:22.792Z"
   },
   {
    "duration": 102,
    "start_time": "2022-10-04T18:59:22.831Z"
   },
   {
    "duration": 17,
    "start_time": "2022-10-04T18:59:22.934Z"
   },
   {
    "duration": 157,
    "start_time": "2022-10-04T18:59:22.952Z"
   },
   {
    "duration": 9,
    "start_time": "2022-10-04T18:59:23.110Z"
   },
   {
    "duration": 84,
    "start_time": "2022-10-04T18:59:23.121Z"
   },
   {
    "duration": 39,
    "start_time": "2022-10-04T18:59:23.206Z"
   },
   {
    "duration": 62,
    "start_time": "2022-10-04T18:59:23.247Z"
   },
   {
    "duration": 4,
    "start_time": "2022-10-04T18:59:23.310Z"
   },
   {
    "duration": 14,
    "start_time": "2022-10-04T18:59:23.317Z"
   },
   {
    "duration": 3,
    "start_time": "2022-10-04T18:59:23.333Z"
   },
   {
    "duration": 247,
    "start_time": "2022-10-04T18:59:23.337Z"
   },
   {
    "duration": 34,
    "start_time": "2022-10-04T18:59:23.585Z"
   },
   {
    "duration": 5,
    "start_time": "2022-10-04T18:59:23.622Z"
   },
   {
    "duration": 10,
    "start_time": "2022-10-04T18:59:23.629Z"
   },
   {
    "duration": 7,
    "start_time": "2022-10-04T18:59:23.641Z"
   },
   {
    "duration": 83,
    "start_time": "2022-10-04T18:59:23.650Z"
   },
   {
    "duration": 4,
    "start_time": "2022-10-04T18:59:23.735Z"
   },
   {
    "duration": 77,
    "start_time": "2022-10-04T18:59:23.741Z"
   },
   {
    "duration": 30,
    "start_time": "2022-10-04T18:59:23.820Z"
   },
   {
    "duration": 43,
    "start_time": "2022-10-04T18:59:23.852Z"
   },
   {
    "duration": 11,
    "start_time": "2022-10-04T18:59:23.897Z"
   },
   {
    "duration": 14,
    "start_time": "2022-10-04T18:59:23.910Z"
   },
   {
    "duration": 108,
    "start_time": "2022-10-04T18:59:23.926Z"
   },
   {
    "duration": 0,
    "start_time": "2022-10-04T18:59:24.036Z"
   },
   {
    "duration": 0,
    "start_time": "2022-10-04T18:59:24.037Z"
   },
   {
    "duration": 0,
    "start_time": "2022-10-04T18:59:24.038Z"
   },
   {
    "duration": 12,
    "start_time": "2022-10-04T18:59:32.310Z"
   },
   {
    "duration": 2,
    "start_time": "2022-10-04T18:59:33.250Z"
   },
   {
    "duration": 19,
    "start_time": "2022-10-04T18:59:33.454Z"
   },
   {
    "duration": 327,
    "start_time": "2022-10-04T19:02:10.549Z"
   },
   {
    "duration": 22,
    "start_time": "2022-10-04T19:02:15.962Z"
   },
   {
    "duration": 13,
    "start_time": "2022-10-04T19:02:18.717Z"
   },
   {
    "duration": 30,
    "start_time": "2022-10-04T19:02:31.079Z"
   },
   {
    "duration": 30,
    "start_time": "2022-10-04T19:02:49.510Z"
   },
   {
    "duration": 27,
    "start_time": "2022-10-04T19:02:52.774Z"
   },
   {
    "duration": 15,
    "start_time": "2022-10-04T19:02:56.056Z"
   },
   {
    "duration": 13,
    "start_time": "2022-10-04T19:04:44.296Z"
   },
   {
    "duration": 1193,
    "start_time": "2022-10-04T19:05:08.974Z"
   },
   {
    "duration": 510,
    "start_time": "2022-10-04T19:05:10.168Z"
   },
   {
    "duration": 49,
    "start_time": "2022-10-04T19:05:10.680Z"
   },
   {
    "duration": 105,
    "start_time": "2022-10-04T19:05:10.732Z"
   },
   {
    "duration": 50,
    "start_time": "2022-10-04T19:05:10.840Z"
   },
   {
    "duration": 75,
    "start_time": "2022-10-04T19:05:10.892Z"
   },
   {
    "duration": 15,
    "start_time": "2022-10-04T19:05:10.989Z"
   },
   {
    "duration": 143,
    "start_time": "2022-10-04T19:05:11.006Z"
   },
   {
    "duration": 9,
    "start_time": "2022-10-04T19:05:11.150Z"
   },
   {
    "duration": 87,
    "start_time": "2022-10-04T19:05:11.163Z"
   },
   {
    "duration": 44,
    "start_time": "2022-10-04T19:05:11.252Z"
   },
   {
    "duration": 47,
    "start_time": "2022-10-04T19:05:11.298Z"
   },
   {
    "duration": 4,
    "start_time": "2022-10-04T19:05:11.346Z"
   },
   {
    "duration": 32,
    "start_time": "2022-10-04T19:05:11.352Z"
   },
   {
    "duration": 11,
    "start_time": "2022-10-04T19:05:11.385Z"
   },
   {
    "duration": 241,
    "start_time": "2022-10-04T19:05:11.397Z"
   },
   {
    "duration": 35,
    "start_time": "2022-10-04T19:05:11.640Z"
   },
   {
    "duration": 5,
    "start_time": "2022-10-04T19:05:11.689Z"
   },
   {
    "duration": 27,
    "start_time": "2022-10-04T19:05:11.696Z"
   },
   {
    "duration": 19,
    "start_time": "2022-10-04T19:05:11.725Z"
   },
   {
    "duration": 79,
    "start_time": "2022-10-04T19:05:11.746Z"
   },
   {
    "duration": 6,
    "start_time": "2022-10-04T19:05:11.828Z"
   },
   {
    "duration": 92,
    "start_time": "2022-10-04T19:05:11.836Z"
   },
   {
    "duration": 38,
    "start_time": "2022-10-04T19:05:11.930Z"
   },
   {
    "duration": 55,
    "start_time": "2022-10-04T19:05:11.969Z"
   },
   {
    "duration": 13,
    "start_time": "2022-10-04T19:05:12.027Z"
   },
   {
    "duration": 27,
    "start_time": "2022-10-04T19:05:12.042Z"
   },
   {
    "duration": 3,
    "start_time": "2022-10-04T19:05:12.071Z"
   },
   {
    "duration": 49,
    "start_time": "2022-10-04T19:05:12.076Z"
   },
   {
    "duration": 17,
    "start_time": "2022-10-04T19:05:12.127Z"
   },
   {
    "duration": 17,
    "start_time": "2022-10-04T19:09:12.097Z"
   },
   {
    "duration": 3,
    "start_time": "2022-10-04T19:09:12.618Z"
   },
   {
    "duration": 24,
    "start_time": "2022-10-04T19:09:12.982Z"
   },
   {
    "duration": 17,
    "start_time": "2022-10-04T19:09:45.393Z"
   },
   {
    "duration": 3,
    "start_time": "2022-10-04T19:09:46.442Z"
   },
   {
    "duration": 23,
    "start_time": "2022-10-04T19:09:46.715Z"
   },
   {
    "duration": 17,
    "start_time": "2022-10-04T19:09:55.098Z"
   },
   {
    "duration": 3,
    "start_time": "2022-10-04T19:09:55.416Z"
   },
   {
    "duration": 21,
    "start_time": "2022-10-04T19:09:55.754Z"
   },
   {
    "duration": 1157,
    "start_time": "2022-10-04T19:10:03.346Z"
   },
   {
    "duration": 523,
    "start_time": "2022-10-04T19:10:04.505Z"
   },
   {
    "duration": 55,
    "start_time": "2022-10-04T19:10:05.029Z"
   },
   {
    "duration": 76,
    "start_time": "2022-10-04T19:10:05.090Z"
   },
   {
    "duration": 56,
    "start_time": "2022-10-04T19:10:05.167Z"
   },
   {
    "duration": 105,
    "start_time": "2022-10-04T19:10:05.225Z"
   },
   {
    "duration": 18,
    "start_time": "2022-10-04T19:10:05.332Z"
   },
   {
    "duration": 152,
    "start_time": "2022-10-04T19:10:05.352Z"
   },
   {
    "duration": 9,
    "start_time": "2022-10-04T19:10:05.506Z"
   },
   {
    "duration": 96,
    "start_time": "2022-10-04T19:10:05.518Z"
   },
   {
    "duration": 39,
    "start_time": "2022-10-04T19:10:05.616Z"
   },
   {
    "duration": 62,
    "start_time": "2022-10-04T19:10:05.657Z"
   },
   {
    "duration": 3,
    "start_time": "2022-10-04T19:10:05.721Z"
   },
   {
    "duration": 17,
    "start_time": "2022-10-04T19:10:05.726Z"
   },
   {
    "duration": 3,
    "start_time": "2022-10-04T19:10:05.745Z"
   },
   {
    "duration": 240,
    "start_time": "2022-10-04T19:10:05.749Z"
   },
   {
    "duration": 30,
    "start_time": "2022-10-04T19:10:05.991Z"
   },
   {
    "duration": 4,
    "start_time": "2022-10-04T19:10:06.023Z"
   },
   {
    "duration": 6,
    "start_time": "2022-10-04T19:10:06.029Z"
   },
   {
    "duration": 10,
    "start_time": "2022-10-04T19:10:06.037Z"
   },
   {
    "duration": 74,
    "start_time": "2022-10-04T19:10:06.049Z"
   },
   {
    "duration": 6,
    "start_time": "2022-10-04T19:10:06.125Z"
   },
   {
    "duration": 78,
    "start_time": "2022-10-04T19:10:06.133Z"
   },
   {
    "duration": 30,
    "start_time": "2022-10-04T19:10:06.213Z"
   },
   {
    "duration": 45,
    "start_time": "2022-10-04T19:10:06.245Z"
   },
   {
    "duration": 11,
    "start_time": "2022-10-04T19:10:06.292Z"
   },
   {
    "duration": 20,
    "start_time": "2022-10-04T19:10:06.305Z"
   },
   {
    "duration": 3,
    "start_time": "2022-10-04T19:10:06.328Z"
   },
   {
    "duration": 36,
    "start_time": "2022-10-04T19:10:06.332Z"
   },
   {
    "duration": 20,
    "start_time": "2022-10-04T19:10:06.369Z"
   },
   {
    "duration": 10,
    "start_time": "2022-10-04T19:10:59.743Z"
   },
   {
    "duration": 2,
    "start_time": "2022-10-04T19:11:00.067Z"
   },
   {
    "duration": 21,
    "start_time": "2022-10-04T19:11:00.344Z"
   },
   {
    "duration": 98,
    "start_time": "2022-10-04T19:12:00.228Z"
   },
   {
    "duration": 25,
    "start_time": "2022-10-04T19:12:11.184Z"
   },
   {
    "duration": 17,
    "start_time": "2022-10-04T19:35:24.376Z"
   },
   {
    "duration": 14,
    "start_time": "2022-10-04T19:36:04.795Z"
   },
   {
    "duration": 1099,
    "start_time": "2022-10-04T19:36:22.152Z"
   },
   {
    "duration": 479,
    "start_time": "2022-10-04T19:36:23.253Z"
   },
   {
    "duration": 55,
    "start_time": "2022-10-04T19:36:23.734Z"
   },
   {
    "duration": 74,
    "start_time": "2022-10-04T19:36:23.792Z"
   },
   {
    "duration": 56,
    "start_time": "2022-10-04T19:36:23.868Z"
   },
   {
    "duration": 92,
    "start_time": "2022-10-04T19:36:23.925Z"
   },
   {
    "duration": 14,
    "start_time": "2022-10-04T19:36:24.019Z"
   },
   {
    "duration": 140,
    "start_time": "2022-10-04T19:36:24.035Z"
   },
   {
    "duration": 16,
    "start_time": "2022-10-04T19:36:24.176Z"
   },
   {
    "duration": 66,
    "start_time": "2022-10-04T19:36:24.194Z"
   },
   {
    "duration": 50,
    "start_time": "2022-10-04T19:36:24.261Z"
   },
   {
    "duration": 43,
    "start_time": "2022-10-04T19:36:24.313Z"
   },
   {
    "duration": 3,
    "start_time": "2022-10-04T19:36:24.358Z"
   },
   {
    "duration": 28,
    "start_time": "2022-10-04T19:36:24.362Z"
   },
   {
    "duration": 2,
    "start_time": "2022-10-04T19:36:24.391Z"
   },
   {
    "duration": 216,
    "start_time": "2022-10-04T19:36:24.395Z"
   },
   {
    "duration": 29,
    "start_time": "2022-10-04T19:36:24.613Z"
   },
   {
    "duration": 4,
    "start_time": "2022-10-04T19:36:24.644Z"
   },
   {
    "duration": 6,
    "start_time": "2022-10-04T19:36:24.650Z"
   },
   {
    "duration": 33,
    "start_time": "2022-10-04T19:36:24.657Z"
   },
   {
    "duration": 47,
    "start_time": "2022-10-04T19:36:24.692Z"
   },
   {
    "duration": 5,
    "start_time": "2022-10-04T19:36:24.740Z"
   },
   {
    "duration": 93,
    "start_time": "2022-10-04T19:36:24.746Z"
   },
   {
    "duration": 33,
    "start_time": "2022-10-04T19:36:24.841Z"
   },
   {
    "duration": 36,
    "start_time": "2022-10-04T19:36:24.876Z"
   },
   {
    "duration": 10,
    "start_time": "2022-10-04T19:36:24.913Z"
   },
   {
    "duration": 11,
    "start_time": "2022-10-04T19:36:24.925Z"
   },
   {
    "duration": 20,
    "start_time": "2022-10-04T19:36:24.939Z"
   },
   {
    "duration": 14,
    "start_time": "2022-10-04T19:36:24.961Z"
   },
   {
    "duration": 14,
    "start_time": "2022-10-04T19:36:24.976Z"
   },
   {
    "duration": 4,
    "start_time": "2022-10-04T19:36:24.992Z"
   },
   {
    "duration": 31,
    "start_time": "2022-10-04T19:36:38.194Z"
   },
   {
    "duration": 1156,
    "start_time": "2022-10-04T19:39:39.902Z"
   },
   {
    "duration": 474,
    "start_time": "2022-10-04T19:39:41.060Z"
   },
   {
    "duration": 50,
    "start_time": "2022-10-04T19:39:41.536Z"
   },
   {
    "duration": 76,
    "start_time": "2022-10-04T19:39:41.587Z"
   },
   {
    "duration": 56,
    "start_time": "2022-10-04T19:39:41.665Z"
   },
   {
    "duration": 115,
    "start_time": "2022-10-04T19:39:41.722Z"
   },
   {
    "duration": 19,
    "start_time": "2022-10-04T19:39:41.840Z"
   },
   {
    "duration": 194,
    "start_time": "2022-10-04T19:39:41.861Z"
   },
   {
    "duration": 12,
    "start_time": "2022-10-04T19:39:42.057Z"
   },
   {
    "duration": 92,
    "start_time": "2022-10-04T19:39:42.072Z"
   },
   {
    "duration": 45,
    "start_time": "2022-10-04T19:39:42.166Z"
   },
   {
    "duration": 45,
    "start_time": "2022-10-04T19:39:42.213Z"
   },
   {
    "duration": 4,
    "start_time": "2022-10-04T19:39:42.259Z"
   },
   {
    "duration": 27,
    "start_time": "2022-10-04T19:39:42.266Z"
   },
   {
    "duration": 3,
    "start_time": "2022-10-04T19:39:42.294Z"
   },
   {
    "duration": 222,
    "start_time": "2022-10-04T19:39:42.298Z"
   },
   {
    "duration": 29,
    "start_time": "2022-10-04T19:39:42.522Z"
   },
   {
    "duration": 5,
    "start_time": "2022-10-04T19:39:42.553Z"
   },
   {
    "duration": 7,
    "start_time": "2022-10-04T19:39:42.560Z"
   },
   {
    "duration": 6,
    "start_time": "2022-10-04T19:39:42.589Z"
   },
   {
    "duration": 50,
    "start_time": "2022-10-04T19:39:42.597Z"
   },
   {
    "duration": 5,
    "start_time": "2022-10-04T19:39:42.649Z"
   },
   {
    "duration": 84,
    "start_time": "2022-10-04T19:39:42.655Z"
   },
   {
    "duration": 31,
    "start_time": "2022-10-04T19:39:42.741Z"
   },
   {
    "duration": 42,
    "start_time": "2022-10-04T19:39:42.773Z"
   },
   {
    "duration": 10,
    "start_time": "2022-10-04T19:39:42.817Z"
   },
   {
    "duration": 10,
    "start_time": "2022-10-04T19:39:42.829Z"
   },
   {
    "duration": 21,
    "start_time": "2022-10-04T19:39:42.841Z"
   },
   {
    "duration": 15,
    "start_time": "2022-10-04T19:39:42.889Z"
   },
   {
    "duration": 23,
    "start_time": "2022-10-04T19:39:42.906Z"
   },
   {
    "duration": 3,
    "start_time": "2022-10-04T19:39:42.930Z"
   },
   {
    "duration": 6,
    "start_time": "2022-10-04T19:39:42.934Z"
   },
   {
    "duration": 15,
    "start_time": "2022-10-04T19:40:01.206Z"
   },
   {
    "duration": 23,
    "start_time": "2022-10-04T19:40:01.669Z"
   },
   {
    "duration": 26,
    "start_time": "2022-10-04T19:40:05.675Z"
   },
   {
    "duration": 1197,
    "start_time": "2022-10-04T19:40:14.867Z"
   },
   {
    "duration": 505,
    "start_time": "2022-10-04T19:40:16.066Z"
   },
   {
    "duration": 47,
    "start_time": "2022-10-04T19:40:16.573Z"
   },
   {
    "duration": 87,
    "start_time": "2022-10-04T19:40:16.622Z"
   },
   {
    "duration": 33,
    "start_time": "2022-10-04T19:40:16.711Z"
   },
   {
    "duration": 93,
    "start_time": "2022-10-04T19:40:16.746Z"
   },
   {
    "duration": 15,
    "start_time": "2022-10-04T19:40:16.840Z"
   },
   {
    "duration": 147,
    "start_time": "2022-10-04T19:40:16.857Z"
   },
   {
    "duration": 8,
    "start_time": "2022-10-04T19:40:17.006Z"
   },
   {
    "duration": 83,
    "start_time": "2022-10-04T19:40:17.016Z"
   },
   {
    "duration": 35,
    "start_time": "2022-10-04T19:40:17.101Z"
   },
   {
    "duration": 57,
    "start_time": "2022-10-04T19:40:17.137Z"
   },
   {
    "duration": 3,
    "start_time": "2022-10-04T19:40:17.196Z"
   },
   {
    "duration": 11,
    "start_time": "2022-10-04T19:40:17.202Z"
   },
   {
    "duration": 2,
    "start_time": "2022-10-04T19:40:17.215Z"
   },
   {
    "duration": 225,
    "start_time": "2022-10-04T19:40:17.219Z"
   },
   {
    "duration": 47,
    "start_time": "2022-10-04T19:40:17.446Z"
   },
   {
    "duration": 4,
    "start_time": "2022-10-04T19:40:17.495Z"
   },
   {
    "duration": 6,
    "start_time": "2022-10-04T19:40:17.501Z"
   },
   {
    "duration": 6,
    "start_time": "2022-10-04T19:40:17.509Z"
   },
   {
    "duration": 47,
    "start_time": "2022-10-04T19:40:17.517Z"
   },
   {
    "duration": 26,
    "start_time": "2022-10-04T19:40:17.566Z"
   },
   {
    "duration": 62,
    "start_time": "2022-10-04T19:40:17.593Z"
   },
   {
    "duration": 42,
    "start_time": "2022-10-04T19:40:17.657Z"
   },
   {
    "duration": 29,
    "start_time": "2022-10-04T19:40:17.702Z"
   },
   {
    "duration": 10,
    "start_time": "2022-10-04T19:40:17.732Z"
   },
   {
    "duration": 12,
    "start_time": "2022-10-04T19:40:17.743Z"
   },
   {
    "duration": 43,
    "start_time": "2022-10-04T19:40:17.757Z"
   },
   {
    "duration": 16,
    "start_time": "2022-10-04T19:40:17.801Z"
   },
   {
    "duration": 23,
    "start_time": "2022-10-04T19:40:17.819Z"
   },
   {
    "duration": 2,
    "start_time": "2022-10-04T19:40:17.843Z"
   },
   {
    "duration": 4,
    "start_time": "2022-10-04T19:40:17.847Z"
   },
   {
    "duration": 1139,
    "start_time": "2022-10-04T19:40:58.004Z"
   },
   {
    "duration": 492,
    "start_time": "2022-10-04T19:40:59.145Z"
   },
   {
    "duration": 44,
    "start_time": "2022-10-04T19:40:59.639Z"
   },
   {
    "duration": 70,
    "start_time": "2022-10-04T19:40:59.689Z"
   },
   {
    "duration": 51,
    "start_time": "2022-10-04T19:40:59.761Z"
   },
   {
    "duration": 91,
    "start_time": "2022-10-04T19:40:59.814Z"
   },
   {
    "duration": 16,
    "start_time": "2022-10-04T19:40:59.906Z"
   },
   {
    "duration": 139,
    "start_time": "2022-10-04T19:40:59.924Z"
   },
   {
    "duration": 8,
    "start_time": "2022-10-04T19:41:00.065Z"
   },
   {
    "duration": 78,
    "start_time": "2022-10-04T19:41:00.076Z"
   },
   {
    "duration": 50,
    "start_time": "2022-10-04T19:41:00.156Z"
   },
   {
    "duration": 47,
    "start_time": "2022-10-04T19:41:00.208Z"
   },
   {
    "duration": 4,
    "start_time": "2022-10-04T19:41:00.257Z"
   },
   {
    "duration": 28,
    "start_time": "2022-10-04T19:41:00.262Z"
   },
   {
    "duration": 11,
    "start_time": "2022-10-04T19:41:00.292Z"
   },
   {
    "duration": 238,
    "start_time": "2022-10-04T19:41:00.304Z"
   },
   {
    "duration": 31,
    "start_time": "2022-10-04T19:41:00.543Z"
   },
   {
    "duration": 6,
    "start_time": "2022-10-04T19:41:00.588Z"
   },
   {
    "duration": 15,
    "start_time": "2022-10-04T19:41:00.596Z"
   },
   {
    "duration": 9,
    "start_time": "2022-10-04T19:41:00.613Z"
   },
   {
    "duration": 74,
    "start_time": "2022-10-04T19:41:00.624Z"
   },
   {
    "duration": 5,
    "start_time": "2022-10-04T19:41:00.700Z"
   },
   {
    "duration": 80,
    "start_time": "2022-10-04T19:41:00.706Z"
   },
   {
    "duration": 34,
    "start_time": "2022-10-04T19:41:00.789Z"
   },
   {
    "duration": 34,
    "start_time": "2022-10-04T19:41:00.824Z"
   },
   {
    "duration": 30,
    "start_time": "2022-10-04T19:41:00.860Z"
   },
   {
    "duration": 14,
    "start_time": "2022-10-04T19:41:00.892Z"
   },
   {
    "duration": 22,
    "start_time": "2022-10-04T19:41:00.909Z"
   },
   {
    "duration": 16,
    "start_time": "2022-10-04T19:41:00.933Z"
   },
   {
    "duration": 47,
    "start_time": "2022-10-04T19:41:00.950Z"
   },
   {
    "duration": 2,
    "start_time": "2022-10-04T19:41:00.999Z"
   },
   {
    "duration": 5,
    "start_time": "2022-10-04T19:41:01.003Z"
   },
   {
    "duration": 10,
    "start_time": "2022-10-04T19:44:04.672Z"
   },
   {
    "duration": 69,
    "start_time": "2022-10-04T19:44:09.545Z"
   },
   {
    "duration": 30,
    "start_time": "2022-10-04T19:44:21.130Z"
   },
   {
    "duration": 22,
    "start_time": "2022-10-04T19:44:29.691Z"
   },
   {
    "duration": 1177,
    "start_time": "2022-10-04T19:50:59.256Z"
   },
   {
    "duration": 508,
    "start_time": "2022-10-04T19:51:00.436Z"
   },
   {
    "duration": 52,
    "start_time": "2022-10-04T19:51:00.946Z"
   },
   {
    "duration": 101,
    "start_time": "2022-10-04T19:51:01.000Z"
   },
   {
    "duration": 37,
    "start_time": "2022-10-04T19:51:01.103Z"
   },
   {
    "duration": 100,
    "start_time": "2022-10-04T19:51:01.142Z"
   },
   {
    "duration": 17,
    "start_time": "2022-10-04T19:51:01.244Z"
   },
   {
    "duration": 166,
    "start_time": "2022-10-04T19:51:01.263Z"
   },
   {
    "duration": 9,
    "start_time": "2022-10-04T19:51:01.431Z"
   },
   {
    "duration": 87,
    "start_time": "2022-10-04T19:51:01.442Z"
   },
   {
    "duration": 38,
    "start_time": "2022-10-04T19:51:01.530Z"
   },
   {
    "duration": 58,
    "start_time": "2022-10-04T19:51:01.570Z"
   },
   {
    "duration": 4,
    "start_time": "2022-10-04T19:51:01.629Z"
   },
   {
    "duration": 17,
    "start_time": "2022-10-04T19:51:01.634Z"
   },
   {
    "duration": 4,
    "start_time": "2022-10-04T19:51:01.653Z"
   },
   {
    "duration": 248,
    "start_time": "2022-10-04T19:51:01.659Z"
   },
   {
    "duration": 43,
    "start_time": "2022-10-04T19:51:01.909Z"
   },
   {
    "duration": 7,
    "start_time": "2022-10-04T19:51:01.956Z"
   },
   {
    "duration": 16,
    "start_time": "2022-10-04T19:51:01.990Z"
   },
   {
    "duration": 21,
    "start_time": "2022-10-04T19:51:02.009Z"
   },
   {
    "duration": 66,
    "start_time": "2022-10-04T19:51:02.033Z"
   },
   {
    "duration": 6,
    "start_time": "2022-10-04T19:51:02.101Z"
   },
   {
    "duration": 101,
    "start_time": "2022-10-04T19:51:02.109Z"
   },
   {
    "duration": 38,
    "start_time": "2022-10-04T19:51:02.212Z"
   },
   {
    "duration": 53,
    "start_time": "2022-10-04T19:51:02.253Z"
   },
   {
    "duration": 10,
    "start_time": "2022-10-04T19:51:02.308Z"
   },
   {
    "duration": 16,
    "start_time": "2022-10-04T19:51:02.320Z"
   },
   {
    "duration": 2,
    "start_time": "2022-10-04T19:51:02.340Z"
   },
   {
    "duration": 7,
    "start_time": "2022-10-04T19:51:02.345Z"
   },
   {
    "duration": 39,
    "start_time": "2022-10-04T19:51:02.353Z"
   },
   {
    "duration": 4,
    "start_time": "2022-10-04T19:51:02.394Z"
   },
   {
    "duration": 5,
    "start_time": "2022-10-04T19:51:02.400Z"
   },
   {
    "duration": 28,
    "start_time": "2022-10-04T19:51:42.663Z"
   },
   {
    "duration": 37,
    "start_time": "2022-10-04T19:51:45.837Z"
   },
   {
    "duration": 23,
    "start_time": "2022-10-04T19:52:32.501Z"
   },
   {
    "duration": 2,
    "start_time": "2022-10-04T19:52:33.995Z"
   },
   {
    "duration": 3,
    "start_time": "2022-10-04T19:52:34.247Z"
   },
   {
    "duration": 31,
    "start_time": "2022-10-04T19:52:34.525Z"
   },
   {
    "duration": 120,
    "start_time": "2022-10-04T19:54:22.897Z"
   },
   {
    "duration": 3,
    "start_time": "2022-10-04T19:54:23.241Z"
   },
   {
    "duration": 5,
    "start_time": "2022-10-04T19:54:59.428Z"
   },
   {
    "duration": 2,
    "start_time": "2022-10-04T19:55:00.464Z"
   },
   {
    "duration": 24,
    "start_time": "2022-10-04T19:55:00.828Z"
   },
   {
    "duration": 13,
    "start_time": "2022-10-04T19:56:08.776Z"
   },
   {
    "duration": 3,
    "start_time": "2022-10-04T19:56:09.163Z"
   },
   {
    "duration": 1105,
    "start_time": "2022-10-04T19:56:19.080Z"
   },
   {
    "duration": 501,
    "start_time": "2022-10-04T19:56:20.190Z"
   },
   {
    "duration": 54,
    "start_time": "2022-10-04T19:56:20.692Z"
   },
   {
    "duration": 109,
    "start_time": "2022-10-04T19:56:20.749Z"
   },
   {
    "duration": 51,
    "start_time": "2022-10-04T19:56:20.861Z"
   },
   {
    "duration": 92,
    "start_time": "2022-10-04T19:56:20.914Z"
   },
   {
    "duration": 17,
    "start_time": "2022-10-04T19:56:21.008Z"
   },
   {
    "duration": 145,
    "start_time": "2022-10-04T19:56:21.027Z"
   },
   {
    "duration": 15,
    "start_time": "2022-10-04T19:56:21.174Z"
   },
   {
    "duration": 73,
    "start_time": "2022-10-04T19:56:21.190Z"
   },
   {
    "duration": 49,
    "start_time": "2022-10-04T19:56:21.265Z"
   },
   {
    "duration": 48,
    "start_time": "2022-10-04T19:56:21.316Z"
   },
   {
    "duration": 4,
    "start_time": "2022-10-04T19:56:21.366Z"
   },
   {
    "duration": 14,
    "start_time": "2022-10-04T19:56:21.388Z"
   },
   {
    "duration": 9,
    "start_time": "2022-10-04T19:56:21.404Z"
   },
   {
    "duration": 235,
    "start_time": "2022-10-04T19:56:21.415Z"
   },
   {
    "duration": 45,
    "start_time": "2022-10-04T19:56:21.651Z"
   },
   {
    "duration": 4,
    "start_time": "2022-10-04T19:56:21.698Z"
   },
   {
    "duration": 7,
    "start_time": "2022-10-04T19:56:21.704Z"
   },
   {
    "duration": 6,
    "start_time": "2022-10-04T19:56:21.713Z"
   },
   {
    "duration": 83,
    "start_time": "2022-10-04T19:56:21.721Z"
   },
   {
    "duration": 7,
    "start_time": "2022-10-04T19:56:21.806Z"
   },
   {
    "duration": 92,
    "start_time": "2022-10-04T19:56:21.815Z"
   },
   {
    "duration": 39,
    "start_time": "2022-10-04T19:56:21.909Z"
   },
   {
    "duration": 52,
    "start_time": "2022-10-04T19:56:21.952Z"
   },
   {
    "duration": 16,
    "start_time": "2022-10-04T19:56:22.007Z"
   },
   {
    "duration": 33,
    "start_time": "2022-10-04T19:56:22.025Z"
   },
   {
    "duration": 6,
    "start_time": "2022-10-04T19:56:22.060Z"
   },
   {
    "duration": 37,
    "start_time": "2022-10-04T19:56:22.067Z"
   },
   {
    "duration": 41,
    "start_time": "2022-10-04T19:56:22.106Z"
   },
   {
    "duration": 7,
    "start_time": "2022-10-04T19:56:22.149Z"
   },
   {
    "duration": 7,
    "start_time": "2022-10-04T19:56:22.158Z"
   },
   {
    "duration": 99,
    "start_time": "2022-10-04T20:02:44.406Z"
   },
   {
    "duration": 1253,
    "start_time": "2022-10-04T20:02:51.390Z"
   },
   {
    "duration": 506,
    "start_time": "2022-10-04T20:02:52.646Z"
   },
   {
    "duration": 47,
    "start_time": "2022-10-04T20:02:53.154Z"
   },
   {
    "duration": 93,
    "start_time": "2022-10-04T20:02:53.203Z"
   },
   {
    "duration": 36,
    "start_time": "2022-10-04T20:02:53.297Z"
   },
   {
    "duration": 101,
    "start_time": "2022-10-04T20:02:53.335Z"
   },
   {
    "duration": 17,
    "start_time": "2022-10-04T20:02:53.438Z"
   },
   {
    "duration": 161,
    "start_time": "2022-10-04T20:02:53.456Z"
   },
   {
    "duration": 9,
    "start_time": "2022-10-04T20:02:53.619Z"
   },
   {
    "duration": 84,
    "start_time": "2022-10-04T20:02:53.631Z"
   },
   {
    "duration": 37,
    "start_time": "2022-10-04T20:02:53.717Z"
   },
   {
    "duration": 59,
    "start_time": "2022-10-04T20:02:53.756Z"
   },
   {
    "duration": 3,
    "start_time": "2022-10-04T20:02:53.817Z"
   },
   {
    "duration": 20,
    "start_time": "2022-10-04T20:02:53.821Z"
   },
   {
    "duration": 2,
    "start_time": "2022-10-04T20:02:53.843Z"
   },
   {
    "duration": 225,
    "start_time": "2022-10-04T20:02:53.847Z"
   },
   {
    "duration": 38,
    "start_time": "2022-10-04T20:02:54.074Z"
   },
   {
    "duration": 5,
    "start_time": "2022-10-04T20:02:54.114Z"
   },
   {
    "duration": 7,
    "start_time": "2022-10-04T20:02:54.120Z"
   },
   {
    "duration": 7,
    "start_time": "2022-10-04T20:02:54.129Z"
   },
   {
    "duration": 66,
    "start_time": "2022-10-04T20:02:54.137Z"
   },
   {
    "duration": 5,
    "start_time": "2022-10-04T20:02:54.205Z"
   },
   {
    "duration": 79,
    "start_time": "2022-10-04T20:02:54.211Z"
   },
   {
    "duration": 29,
    "start_time": "2022-10-04T20:02:54.291Z"
   },
   {
    "duration": 30,
    "start_time": "2022-10-04T20:02:54.322Z"
   },
   {
    "duration": 10,
    "start_time": "2022-10-04T20:02:54.354Z"
   },
   {
    "duration": 22,
    "start_time": "2022-10-04T20:02:54.390Z"
   },
   {
    "duration": 5,
    "start_time": "2022-10-04T20:02:54.415Z"
   },
   {
    "duration": 3,
    "start_time": "2022-10-04T20:02:54.421Z"
   },
   {
    "duration": 21,
    "start_time": "2022-10-04T20:02:54.426Z"
   },
   {
    "duration": 3,
    "start_time": "2022-10-04T20:02:54.448Z"
   },
   {
    "duration": 7,
    "start_time": "2022-10-04T20:02:54.452Z"
   },
   {
    "duration": 1187,
    "start_time": "2022-10-04T20:04:33.272Z"
   },
   {
    "duration": 660,
    "start_time": "2022-10-04T20:04:34.461Z"
   },
   {
    "duration": 49,
    "start_time": "2022-10-04T20:04:35.123Z"
   },
   {
    "duration": 91,
    "start_time": "2022-10-04T20:04:35.174Z"
   },
   {
    "duration": 57,
    "start_time": "2022-10-04T20:04:35.267Z"
   },
   {
    "duration": 109,
    "start_time": "2022-10-04T20:04:35.325Z"
   },
   {
    "duration": 18,
    "start_time": "2022-10-04T20:04:35.436Z"
   },
   {
    "duration": 145,
    "start_time": "2022-10-04T20:04:35.456Z"
   },
   {
    "duration": 8,
    "start_time": "2022-10-04T20:04:35.603Z"
   },
   {
    "duration": 89,
    "start_time": "2022-10-04T20:04:35.613Z"
   },
   {
    "duration": 39,
    "start_time": "2022-10-04T20:04:35.704Z"
   },
   {
    "duration": 63,
    "start_time": "2022-10-04T20:04:35.744Z"
   },
   {
    "duration": 4,
    "start_time": "2022-10-04T20:04:35.809Z"
   },
   {
    "duration": 14,
    "start_time": "2022-10-04T20:04:35.816Z"
   },
   {
    "duration": 3,
    "start_time": "2022-10-04T20:04:35.832Z"
   },
   {
    "duration": 245,
    "start_time": "2022-10-04T20:04:35.836Z"
   },
   {
    "duration": 36,
    "start_time": "2022-10-04T20:04:36.082Z"
   },
   {
    "duration": 4,
    "start_time": "2022-10-04T20:04:36.120Z"
   },
   {
    "duration": 7,
    "start_time": "2022-10-04T20:04:36.125Z"
   },
   {
    "duration": 10,
    "start_time": "2022-10-04T20:04:36.134Z"
   },
   {
    "duration": 78,
    "start_time": "2022-10-04T20:04:36.145Z"
   },
   {
    "duration": 6,
    "start_time": "2022-10-04T20:04:36.224Z"
   },
   {
    "duration": 76,
    "start_time": "2022-10-04T20:04:36.232Z"
   },
   {
    "duration": 30,
    "start_time": "2022-10-04T20:04:36.310Z"
   },
   {
    "duration": 49,
    "start_time": "2022-10-04T20:04:36.342Z"
   },
   {
    "duration": 12,
    "start_time": "2022-10-04T20:04:36.394Z"
   },
   {
    "duration": 23,
    "start_time": "2022-10-04T20:04:36.409Z"
   },
   {
    "duration": 7,
    "start_time": "2022-10-04T20:04:36.433Z"
   },
   {
    "duration": 3,
    "start_time": "2022-10-04T20:04:36.442Z"
   },
   {
    "duration": 57,
    "start_time": "2022-10-04T20:04:36.447Z"
   },
   {
    "duration": 14,
    "start_time": "2022-10-04T20:04:36.506Z"
   },
   {
    "duration": 27,
    "start_time": "2022-10-04T20:04:36.521Z"
   },
   {
    "duration": 1240,
    "start_time": "2022-10-04T20:05:03.322Z"
   },
   {
    "duration": 562,
    "start_time": "2022-10-04T20:05:04.564Z"
   },
   {
    "duration": 52,
    "start_time": "2022-10-04T20:05:05.129Z"
   },
   {
    "duration": 114,
    "start_time": "2022-10-04T20:05:05.183Z"
   },
   {
    "duration": 41,
    "start_time": "2022-10-04T20:05:05.300Z"
   },
   {
    "duration": 106,
    "start_time": "2022-10-04T20:05:05.343Z"
   },
   {
    "duration": 17,
    "start_time": "2022-10-04T20:05:05.450Z"
   },
   {
    "duration": 144,
    "start_time": "2022-10-04T20:05:05.489Z"
   },
   {
    "duration": 10,
    "start_time": "2022-10-04T20:05:05.636Z"
   },
   {
    "duration": 82,
    "start_time": "2022-10-04T20:05:05.648Z"
   },
   {
    "duration": 37,
    "start_time": "2022-10-04T20:05:05.732Z"
   },
   {
    "duration": 64,
    "start_time": "2022-10-04T20:05:05.771Z"
   },
   {
    "duration": 5,
    "start_time": "2022-10-04T20:05:05.837Z"
   },
   {
    "duration": 50,
    "start_time": "2022-10-04T20:05:05.847Z"
   },
   {
    "duration": 3,
    "start_time": "2022-10-04T20:05:05.899Z"
   },
   {
    "duration": 227,
    "start_time": "2022-10-04T20:05:05.904Z"
   },
   {
    "duration": 31,
    "start_time": "2022-10-04T20:05:06.133Z"
   },
   {
    "duration": 23,
    "start_time": "2022-10-04T20:05:06.166Z"
   },
   {
    "duration": 14,
    "start_time": "2022-10-04T20:05:06.191Z"
   },
   {
    "duration": 6,
    "start_time": "2022-10-04T20:05:06.207Z"
   },
   {
    "duration": 48,
    "start_time": "2022-10-04T20:05:06.215Z"
   },
   {
    "duration": 24,
    "start_time": "2022-10-04T20:05:06.265Z"
   },
   {
    "duration": 64,
    "start_time": "2022-10-04T20:05:06.291Z"
   },
   {
    "duration": 53,
    "start_time": "2022-10-04T20:05:06.357Z"
   },
   {
    "duration": 31,
    "start_time": "2022-10-04T20:05:06.412Z"
   },
   {
    "duration": 10,
    "start_time": "2022-10-04T20:05:06.445Z"
   },
   {
    "duration": 43,
    "start_time": "2022-10-04T20:05:06.457Z"
   },
   {
    "duration": 4,
    "start_time": "2022-10-04T20:05:06.502Z"
   },
   {
    "duration": 4,
    "start_time": "2022-10-04T20:05:06.508Z"
   },
   {
    "duration": 21,
    "start_time": "2022-10-04T20:05:06.513Z"
   },
   {
    "duration": 4,
    "start_time": "2022-10-04T20:05:06.535Z"
   },
   {
    "duration": 14,
    "start_time": "2022-10-04T20:05:06.541Z"
   },
   {
    "duration": 1479,
    "start_time": "2022-10-04T20:09:31.426Z"
   },
   {
    "duration": 779,
    "start_time": "2022-10-04T20:09:32.907Z"
   },
   {
    "duration": 47,
    "start_time": "2022-10-04T20:09:33.687Z"
   },
   {
    "duration": 101,
    "start_time": "2022-10-04T20:09:33.737Z"
   },
   {
    "duration": 56,
    "start_time": "2022-10-04T20:09:33.840Z"
   },
   {
    "duration": 69,
    "start_time": "2022-10-04T20:09:33.897Z"
   },
   {
    "duration": 15,
    "start_time": "2022-10-04T20:09:33.990Z"
   },
   {
    "duration": 147,
    "start_time": "2022-10-04T20:09:34.006Z"
   },
   {
    "duration": 9,
    "start_time": "2022-10-04T20:09:34.155Z"
   },
   {
    "duration": 81,
    "start_time": "2022-10-04T20:09:34.167Z"
   },
   {
    "duration": 45,
    "start_time": "2022-10-04T20:09:34.249Z"
   },
   {
    "duration": 45,
    "start_time": "2022-10-04T20:09:34.296Z"
   },
   {
    "duration": 4,
    "start_time": "2022-10-04T20:09:34.342Z"
   },
   {
    "duration": 13,
    "start_time": "2022-10-04T20:09:34.348Z"
   },
   {
    "duration": 2,
    "start_time": "2022-10-04T20:09:34.363Z"
   },
   {
    "duration": 231,
    "start_time": "2022-10-04T20:09:34.367Z"
   },
   {
    "duration": 31,
    "start_time": "2022-10-04T20:09:34.600Z"
   },
   {
    "duration": 5,
    "start_time": "2022-10-04T20:09:34.633Z"
   },
   {
    "duration": 7,
    "start_time": "2022-10-04T20:09:34.640Z"
   },
   {
    "duration": 6,
    "start_time": "2022-10-04T20:09:34.648Z"
   },
   {
    "duration": 76,
    "start_time": "2022-10-04T20:09:34.655Z"
   },
   {
    "duration": 4,
    "start_time": "2022-10-04T20:09:34.733Z"
   },
   {
    "duration": 75,
    "start_time": "2022-10-04T20:09:34.739Z"
   },
   {
    "duration": 30,
    "start_time": "2022-10-04T20:09:34.816Z"
   },
   {
    "duration": 49,
    "start_time": "2022-10-04T20:09:34.847Z"
   },
   {
    "duration": 11,
    "start_time": "2022-10-04T20:09:34.898Z"
   },
   {
    "duration": 25,
    "start_time": "2022-10-04T20:09:34.911Z"
   },
   {
    "duration": 2,
    "start_time": "2022-10-04T20:09:34.939Z"
   },
   {
    "duration": 10,
    "start_time": "2022-10-04T20:09:34.943Z"
   },
   {
    "duration": 47,
    "start_time": "2022-10-04T20:09:34.955Z"
   },
   {
    "duration": 2,
    "start_time": "2022-10-04T20:09:35.005Z"
   },
   {
    "duration": 7,
    "start_time": "2022-10-04T20:09:35.010Z"
   },
   {
    "duration": 1152,
    "start_time": "2022-10-04T20:38:54.409Z"
   },
   {
    "duration": 504,
    "start_time": "2022-10-04T20:38:55.563Z"
   },
   {
    "duration": 52,
    "start_time": "2022-10-04T20:38:56.069Z"
   },
   {
    "duration": 96,
    "start_time": "2022-10-04T20:38:56.123Z"
   },
   {
    "duration": 34,
    "start_time": "2022-10-04T20:38:56.221Z"
   },
   {
    "duration": 93,
    "start_time": "2022-10-04T20:38:56.257Z"
   },
   {
    "duration": 16,
    "start_time": "2022-10-04T20:38:56.351Z"
   },
   {
    "duration": 138,
    "start_time": "2022-10-04T20:38:56.390Z"
   },
   {
    "duration": 9,
    "start_time": "2022-10-04T20:38:56.530Z"
   },
   {
    "duration": 80,
    "start_time": "2022-10-04T20:38:56.541Z"
   },
   {
    "duration": 34,
    "start_time": "2022-10-04T20:38:56.623Z"
   },
   {
    "duration": 58,
    "start_time": "2022-10-04T20:38:56.659Z"
   },
   {
    "duration": 4,
    "start_time": "2022-10-04T20:38:56.718Z"
   },
   {
    "duration": 15,
    "start_time": "2022-10-04T20:38:56.725Z"
   },
   {
    "duration": 3,
    "start_time": "2022-10-04T20:38:56.742Z"
   },
   {
    "duration": 221,
    "start_time": "2022-10-04T20:38:56.746Z"
   },
   {
    "duration": 44,
    "start_time": "2022-10-04T20:38:56.969Z"
   },
   {
    "duration": 5,
    "start_time": "2022-10-04T20:38:57.016Z"
   },
   {
    "duration": 10,
    "start_time": "2022-10-04T20:38:57.023Z"
   },
   {
    "duration": 7,
    "start_time": "2022-10-04T20:38:57.035Z"
   },
   {
    "duration": 71,
    "start_time": "2022-10-04T20:38:57.044Z"
   },
   {
    "duration": 5,
    "start_time": "2022-10-04T20:38:57.117Z"
   },
   {
    "duration": 75,
    "start_time": "2022-10-04T20:38:57.124Z"
   },
   {
    "duration": 29,
    "start_time": "2022-10-04T20:38:57.200Z"
   },
   {
    "duration": 28,
    "start_time": "2022-10-04T20:38:57.231Z"
   },
   {
    "duration": 1259,
    "start_time": "2022-10-04T20:38:57.261Z"
   },
   {
    "duration": 0,
    "start_time": "2022-10-04T20:38:58.522Z"
   },
   {
    "duration": 0,
    "start_time": "2022-10-04T20:38:58.523Z"
   },
   {
    "duration": 0,
    "start_time": "2022-10-04T20:38:58.524Z"
   },
   {
    "duration": 1,
    "start_time": "2022-10-04T20:38:58.525Z"
   },
   {
    "duration": 0,
    "start_time": "2022-10-04T20:38:58.527Z"
   },
   {
    "duration": 0,
    "start_time": "2022-10-04T20:38:58.528Z"
   },
   {
    "duration": 14,
    "start_time": "2022-10-04T20:39:11.889Z"
   },
   {
    "duration": 22,
    "start_time": "2022-10-04T20:39:13.774Z"
   },
   {
    "duration": 29,
    "start_time": "2022-10-04T20:39:26.628Z"
   },
   {
    "duration": 46,
    "start_time": "2022-10-04T20:40:58.384Z"
   },
   {
    "duration": 29,
    "start_time": "2022-10-04T20:41:02.734Z"
   },
   {
    "duration": 14,
    "start_time": "2022-10-04T20:41:41.173Z"
   },
   {
    "duration": 29,
    "start_time": "2022-10-04T20:44:37.525Z"
   },
   {
    "duration": 1096,
    "start_time": "2022-10-04T20:44:52.854Z"
   },
   {
    "duration": 454,
    "start_time": "2022-10-04T20:44:53.951Z"
   },
   {
    "duration": 45,
    "start_time": "2022-10-04T20:44:54.407Z"
   },
   {
    "duration": 87,
    "start_time": "2022-10-04T20:44:54.455Z"
   },
   {
    "duration": 46,
    "start_time": "2022-10-04T20:44:54.544Z"
   },
   {
    "duration": 66,
    "start_time": "2022-10-04T20:44:54.592Z"
   },
   {
    "duration": 35,
    "start_time": "2022-10-04T20:44:54.659Z"
   },
   {
    "duration": 135,
    "start_time": "2022-10-04T20:44:54.696Z"
   },
   {
    "duration": 8,
    "start_time": "2022-10-04T20:44:54.833Z"
   },
   {
    "duration": 76,
    "start_time": "2022-10-04T20:44:54.844Z"
   },
   {
    "duration": 34,
    "start_time": "2022-10-04T20:44:54.921Z"
   },
   {
    "duration": 55,
    "start_time": "2022-10-04T20:44:54.957Z"
   },
   {
    "duration": 3,
    "start_time": "2022-10-04T20:44:55.014Z"
   },
   {
    "duration": 15,
    "start_time": "2022-10-04T20:44:55.018Z"
   },
   {
    "duration": 2,
    "start_time": "2022-10-04T20:44:55.035Z"
   },
   {
    "duration": 251,
    "start_time": "2022-10-04T20:44:55.038Z"
   },
   {
    "duration": 31,
    "start_time": "2022-10-04T20:44:55.291Z"
   },
   {
    "duration": 5,
    "start_time": "2022-10-04T20:44:55.323Z"
   },
   {
    "duration": 7,
    "start_time": "2022-10-04T20:44:55.330Z"
   },
   {
    "duration": 7,
    "start_time": "2022-10-04T20:44:55.338Z"
   },
   {
    "duration": 83,
    "start_time": "2022-10-04T20:44:55.346Z"
   },
   {
    "duration": 6,
    "start_time": "2022-10-04T20:44:55.431Z"
   },
   {
    "duration": 81,
    "start_time": "2022-10-04T20:44:55.438Z"
   },
   {
    "duration": 34,
    "start_time": "2022-10-04T20:44:55.520Z"
   },
   {
    "duration": 53,
    "start_time": "2022-10-04T20:44:55.556Z"
   },
   {
    "duration": 13,
    "start_time": "2022-10-04T20:44:55.612Z"
   },
   {
    "duration": 21,
    "start_time": "2022-10-04T20:44:55.627Z"
   },
   {
    "duration": 2,
    "start_time": "2022-10-04T20:44:55.651Z"
   },
   {
    "duration": 51,
    "start_time": "2022-10-04T20:44:55.655Z"
   },
   {
    "duration": 13,
    "start_time": "2022-10-04T20:44:55.708Z"
   },
   {
    "duration": 3,
    "start_time": "2022-10-04T20:44:55.722Z"
   },
   {
    "duration": 5,
    "start_time": "2022-10-04T20:44:55.726Z"
   },
   {
    "duration": 7,
    "start_time": "2022-10-04T20:44:55.733Z"
   },
   {
    "duration": 11,
    "start_time": "2022-10-04T20:44:55.742Z"
   },
   {
    "duration": 5,
    "start_time": "2022-10-04T20:45:59.068Z"
   },
   {
    "duration": 12,
    "start_time": "2022-10-04T20:46:03.448Z"
   },
   {
    "duration": 29,
    "start_time": "2022-10-04T20:47:36.821Z"
   },
   {
    "duration": 5,
    "start_time": "2022-10-04T20:47:51.835Z"
   },
   {
    "duration": 20,
    "start_time": "2022-10-04T20:49:29.613Z"
   },
   {
    "duration": 53,
    "start_time": "2022-10-04T20:49:43.897Z"
   },
   {
    "duration": 1133,
    "start_time": "2022-10-04T20:50:12.626Z"
   },
   {
    "duration": 493,
    "start_time": "2022-10-04T20:50:13.761Z"
   },
   {
    "duration": 49,
    "start_time": "2022-10-04T20:50:14.256Z"
   },
   {
    "duration": 100,
    "start_time": "2022-10-04T20:50:14.307Z"
   },
   {
    "duration": 38,
    "start_time": "2022-10-04T20:50:14.409Z"
   },
   {
    "duration": 106,
    "start_time": "2022-10-04T20:50:14.449Z"
   },
   {
    "duration": 33,
    "start_time": "2022-10-04T20:50:14.557Z"
   },
   {
    "duration": 140,
    "start_time": "2022-10-04T20:50:14.592Z"
   },
   {
    "duration": 10,
    "start_time": "2022-10-04T20:50:14.733Z"
   },
   {
    "duration": 86,
    "start_time": "2022-10-04T20:50:14.746Z"
   },
   {
    "duration": 37,
    "start_time": "2022-10-04T20:50:14.834Z"
   },
   {
    "duration": 54,
    "start_time": "2022-10-04T20:50:14.873Z"
   },
   {
    "duration": 3,
    "start_time": "2022-10-04T20:50:14.929Z"
   },
   {
    "duration": 14,
    "start_time": "2022-10-04T20:50:14.933Z"
   },
   {
    "duration": 4,
    "start_time": "2022-10-04T20:50:14.948Z"
   },
   {
    "duration": 250,
    "start_time": "2022-10-04T20:50:14.953Z"
   },
   {
    "duration": 34,
    "start_time": "2022-10-04T20:50:15.205Z"
   },
   {
    "duration": 5,
    "start_time": "2022-10-04T20:50:15.241Z"
   },
   {
    "duration": 7,
    "start_time": "2022-10-04T20:50:15.247Z"
   },
   {
    "duration": 34,
    "start_time": "2022-10-04T20:50:15.256Z"
   },
   {
    "duration": 55,
    "start_time": "2022-10-04T20:50:15.292Z"
   },
   {
    "duration": 6,
    "start_time": "2022-10-04T20:50:15.349Z"
   },
   {
    "duration": 96,
    "start_time": "2022-10-04T20:50:15.357Z"
   },
   {
    "duration": 35,
    "start_time": "2022-10-04T20:50:15.455Z"
   },
   {
    "duration": 30,
    "start_time": "2022-10-04T20:50:15.492Z"
   },
   {
    "duration": 10,
    "start_time": "2022-10-04T20:50:15.524Z"
   },
   {
    "duration": 23,
    "start_time": "2022-10-04T20:50:15.536Z"
   },
   {
    "duration": 3,
    "start_time": "2022-10-04T20:50:15.589Z"
   },
   {
    "duration": 61,
    "start_time": "2022-10-04T20:50:15.593Z"
   },
   {
    "duration": 4,
    "start_time": "2022-10-04T20:50:15.656Z"
   },
   {
    "duration": 55,
    "start_time": "2022-10-04T20:50:15.661Z"
   },
   {
    "duration": 3,
    "start_time": "2022-10-04T20:50:15.718Z"
   },
   {
    "duration": 5,
    "start_time": "2022-10-04T20:50:15.722Z"
   },
   {
    "duration": 6,
    "start_time": "2022-10-04T20:50:15.729Z"
   },
   {
    "duration": 4,
    "start_time": "2022-10-04T20:51:54.915Z"
   },
   {
    "duration": 96,
    "start_time": "2022-10-04T20:53:04.241Z"
   },
   {
    "duration": 1129,
    "start_time": "2022-10-04T20:53:30.633Z"
   },
   {
    "duration": 542,
    "start_time": "2022-10-04T20:53:31.764Z"
   },
   {
    "duration": 57,
    "start_time": "2022-10-04T20:53:32.308Z"
   },
   {
    "duration": 75,
    "start_time": "2022-10-04T20:53:32.367Z"
   },
   {
    "duration": 69,
    "start_time": "2022-10-04T20:53:32.444Z"
   },
   {
    "duration": 94,
    "start_time": "2022-10-04T20:53:32.515Z"
   },
   {
    "duration": 16,
    "start_time": "2022-10-04T20:53:32.610Z"
   },
   {
    "duration": 147,
    "start_time": "2022-10-04T20:53:32.627Z"
   },
   {
    "duration": 19,
    "start_time": "2022-10-04T20:53:32.776Z"
   },
   {
    "duration": 71,
    "start_time": "2022-10-04T20:53:32.797Z"
   },
   {
    "duration": 44,
    "start_time": "2022-10-04T20:53:32.870Z"
   },
   {
    "duration": 45,
    "start_time": "2022-10-04T20:53:32.916Z"
   },
   {
    "duration": 3,
    "start_time": "2022-10-04T20:53:32.962Z"
   },
   {
    "duration": 32,
    "start_time": "2022-10-04T20:53:32.968Z"
   },
   {
    "duration": 3,
    "start_time": "2022-10-04T20:53:33.001Z"
   },
   {
    "duration": 230,
    "start_time": "2022-10-04T20:53:33.005Z"
   },
   {
    "duration": 29,
    "start_time": "2022-10-04T20:53:33.237Z"
   },
   {
    "duration": 22,
    "start_time": "2022-10-04T20:53:33.268Z"
   },
   {
    "duration": 6,
    "start_time": "2022-10-04T20:53:33.292Z"
   },
   {
    "duration": 6,
    "start_time": "2022-10-04T20:53:33.300Z"
   },
   {
    "duration": 48,
    "start_time": "2022-10-04T20:53:33.308Z"
   },
   {
    "duration": 30,
    "start_time": "2022-10-04T20:53:33.359Z"
   },
   {
    "duration": 63,
    "start_time": "2022-10-04T20:53:33.391Z"
   },
   {
    "duration": 48,
    "start_time": "2022-10-04T20:53:33.456Z"
   },
   {
    "duration": 31,
    "start_time": "2022-10-04T20:53:33.506Z"
   },
   {
    "duration": 11,
    "start_time": "2022-10-04T20:53:33.540Z"
   },
   {
    "duration": 45,
    "start_time": "2022-10-04T20:53:33.554Z"
   },
   {
    "duration": 2,
    "start_time": "2022-10-04T20:53:33.601Z"
   },
   {
    "duration": 84,
    "start_time": "2022-10-04T20:53:33.606Z"
   },
   {
    "duration": 110,
    "start_time": "2022-10-04T20:53:33.692Z"
   },
   {
    "duration": 0,
    "start_time": "2022-10-04T20:53:33.804Z"
   },
   {
    "duration": 0,
    "start_time": "2022-10-04T20:53:33.806Z"
   },
   {
    "duration": 0,
    "start_time": "2022-10-04T20:53:33.807Z"
   },
   {
    "duration": 0,
    "start_time": "2022-10-04T20:53:33.809Z"
   },
   {
    "duration": 9,
    "start_time": "2022-10-04T20:53:58.162Z"
   },
   {
    "duration": 1187,
    "start_time": "2022-10-04T20:54:11.184Z"
   },
   {
    "duration": 524,
    "start_time": "2022-10-04T20:54:12.373Z"
   },
   {
    "duration": 46,
    "start_time": "2022-10-04T20:54:12.898Z"
   },
   {
    "duration": 88,
    "start_time": "2022-10-04T20:54:12.946Z"
   },
   {
    "duration": 53,
    "start_time": "2022-10-04T20:54:13.036Z"
   },
   {
    "duration": 73,
    "start_time": "2022-10-04T20:54:13.090Z"
   },
   {
    "duration": 34,
    "start_time": "2022-10-04T20:54:13.165Z"
   },
   {
    "duration": 146,
    "start_time": "2022-10-04T20:54:13.202Z"
   },
   {
    "duration": 10,
    "start_time": "2022-10-04T20:54:13.350Z"
   },
   {
    "duration": 85,
    "start_time": "2022-10-04T20:54:13.363Z"
   },
   {
    "duration": 45,
    "start_time": "2022-10-04T20:54:13.449Z"
   },
   {
    "duration": 45,
    "start_time": "2022-10-04T20:54:13.496Z"
   },
   {
    "duration": 3,
    "start_time": "2022-10-04T20:54:13.542Z"
   },
   {
    "duration": 27,
    "start_time": "2022-10-04T20:54:13.547Z"
   },
   {
    "duration": 13,
    "start_time": "2022-10-04T20:54:13.576Z"
   },
   {
    "duration": 220,
    "start_time": "2022-10-04T20:54:13.590Z"
   },
   {
    "duration": 30,
    "start_time": "2022-10-04T20:54:13.812Z"
   },
   {
    "duration": 5,
    "start_time": "2022-10-04T20:54:13.844Z"
   },
   {
    "duration": 31,
    "start_time": "2022-10-04T20:54:13.850Z"
   },
   {
    "duration": 18,
    "start_time": "2022-10-04T20:54:13.883Z"
   },
   {
    "duration": 50,
    "start_time": "2022-10-04T20:54:13.903Z"
   },
   {
    "duration": 5,
    "start_time": "2022-10-04T20:54:13.954Z"
   },
   {
    "duration": 75,
    "start_time": "2022-10-04T20:54:13.961Z"
   },
   {
    "duration": 30,
    "start_time": "2022-10-04T20:54:14.037Z"
   },
   {
    "duration": 46,
    "start_time": "2022-10-04T20:54:14.069Z"
   },
   {
    "duration": 11,
    "start_time": "2022-10-04T20:54:14.117Z"
   },
   {
    "duration": 21,
    "start_time": "2022-10-04T20:54:14.130Z"
   },
   {
    "duration": 3,
    "start_time": "2022-10-04T20:54:14.154Z"
   },
   {
    "duration": 82,
    "start_time": "2022-10-04T20:54:14.158Z"
   },
   {
    "duration": 5,
    "start_time": "2022-10-04T20:54:14.241Z"
   },
   {
    "duration": 115,
    "start_time": "2022-10-04T20:54:14.248Z"
   },
   {
    "duration": 0,
    "start_time": "2022-10-04T20:54:14.366Z"
   },
   {
    "duration": 0,
    "start_time": "2022-10-04T20:54:14.367Z"
   },
   {
    "duration": 0,
    "start_time": "2022-10-04T20:54:14.368Z"
   },
   {
    "duration": 0,
    "start_time": "2022-10-04T20:54:14.369Z"
   },
   {
    "duration": 8,
    "start_time": "2022-10-04T20:54:39.689Z"
   },
   {
    "duration": 8,
    "start_time": "2022-10-04T20:54:44.210Z"
   },
   {
    "duration": 1181,
    "start_time": "2022-10-04T20:54:53.070Z"
   },
   {
    "duration": 466,
    "start_time": "2022-10-04T20:54:54.253Z"
   },
   {
    "duration": 44,
    "start_time": "2022-10-04T20:54:54.721Z"
   },
   {
    "duration": 73,
    "start_time": "2022-10-04T20:54:54.767Z"
   },
   {
    "duration": 51,
    "start_time": "2022-10-04T20:54:54.841Z"
   },
   {
    "duration": 77,
    "start_time": "2022-10-04T20:54:54.894Z"
   },
   {
    "duration": 16,
    "start_time": "2022-10-04T20:54:54.989Z"
   },
   {
    "duration": 145,
    "start_time": "2022-10-04T20:54:55.007Z"
   },
   {
    "duration": 10,
    "start_time": "2022-10-04T20:54:55.153Z"
   },
   {
    "duration": 81,
    "start_time": "2022-10-04T20:54:55.166Z"
   },
   {
    "duration": 46,
    "start_time": "2022-10-04T20:54:55.249Z"
   },
   {
    "duration": 47,
    "start_time": "2022-10-04T20:54:55.296Z"
   },
   {
    "duration": 4,
    "start_time": "2022-10-04T20:54:55.345Z"
   },
   {
    "duration": 14,
    "start_time": "2022-10-04T20:54:55.351Z"
   },
   {
    "duration": 3,
    "start_time": "2022-10-04T20:54:55.388Z"
   },
   {
    "duration": 212,
    "start_time": "2022-10-04T20:54:55.392Z"
   },
   {
    "duration": 29,
    "start_time": "2022-10-04T20:54:55.605Z"
   },
   {
    "duration": 4,
    "start_time": "2022-10-04T20:54:55.636Z"
   },
   {
    "duration": 15,
    "start_time": "2022-10-04T20:54:55.641Z"
   },
   {
    "duration": 6,
    "start_time": "2022-10-04T20:54:55.658Z"
   },
   {
    "duration": 69,
    "start_time": "2022-10-04T20:54:55.666Z"
   },
   {
    "duration": 6,
    "start_time": "2022-10-04T20:54:55.737Z"
   },
   {
    "duration": 82,
    "start_time": "2022-10-04T20:54:55.745Z"
   },
   {
    "duration": 31,
    "start_time": "2022-10-04T20:54:55.829Z"
   },
   {
    "duration": 53,
    "start_time": "2022-10-04T20:54:55.862Z"
   },
   {
    "duration": 12,
    "start_time": "2022-10-04T20:54:55.917Z"
   },
   {
    "duration": 23,
    "start_time": "2022-10-04T20:54:55.931Z"
   },
   {
    "duration": 2,
    "start_time": "2022-10-04T20:54:55.958Z"
   },
   {
    "duration": 56,
    "start_time": "2022-10-04T20:54:55.993Z"
   },
   {
    "duration": 5,
    "start_time": "2022-10-04T20:54:56.050Z"
   },
   {
    "duration": 107,
    "start_time": "2022-10-04T20:54:56.056Z"
   },
   {
    "duration": 0,
    "start_time": "2022-10-04T20:54:56.165Z"
   },
   {
    "duration": 0,
    "start_time": "2022-10-04T20:54:56.166Z"
   },
   {
    "duration": 0,
    "start_time": "2022-10-04T20:54:56.167Z"
   },
   {
    "duration": 0,
    "start_time": "2022-10-04T20:54:56.168Z"
   },
   {
    "duration": 3,
    "start_time": "2022-10-04T20:55:12.099Z"
   },
   {
    "duration": 3,
    "start_time": "2022-10-04T20:55:16.897Z"
   },
   {
    "duration": 8,
    "start_time": "2022-10-04T20:55:20.577Z"
   },
   {
    "duration": 8,
    "start_time": "2022-10-04T20:55:32.527Z"
   },
   {
    "duration": 1179,
    "start_time": "2022-10-04T20:55:42.390Z"
   },
   {
    "duration": 491,
    "start_time": "2022-10-04T20:55:43.571Z"
   },
   {
    "duration": 50,
    "start_time": "2022-10-04T20:55:44.064Z"
   },
   {
    "duration": 87,
    "start_time": "2022-10-04T20:55:44.116Z"
   },
   {
    "duration": 35,
    "start_time": "2022-10-04T20:55:44.205Z"
   },
   {
    "duration": 97,
    "start_time": "2022-10-04T20:55:44.242Z"
   },
   {
    "duration": 16,
    "start_time": "2022-10-04T20:55:44.341Z"
   },
   {
    "duration": 154,
    "start_time": "2022-10-04T20:55:44.359Z"
   },
   {
    "duration": 9,
    "start_time": "2022-10-04T20:55:44.515Z"
   },
   {
    "duration": 84,
    "start_time": "2022-10-04T20:55:44.526Z"
   },
   {
    "duration": 35,
    "start_time": "2022-10-04T20:55:44.612Z"
   },
   {
    "duration": 53,
    "start_time": "2022-10-04T20:55:44.649Z"
   },
   {
    "duration": 3,
    "start_time": "2022-10-04T20:55:44.703Z"
   },
   {
    "duration": 15,
    "start_time": "2022-10-04T20:55:44.708Z"
   },
   {
    "duration": 2,
    "start_time": "2022-10-04T20:55:44.725Z"
   },
   {
    "duration": 224,
    "start_time": "2022-10-04T20:55:44.728Z"
   },
   {
    "duration": 40,
    "start_time": "2022-10-04T20:55:44.954Z"
   },
   {
    "duration": 5,
    "start_time": "2022-10-04T20:55:44.995Z"
   },
   {
    "duration": 12,
    "start_time": "2022-10-04T20:55:45.001Z"
   },
   {
    "duration": 14,
    "start_time": "2022-10-04T20:55:45.014Z"
   },
   {
    "duration": 66,
    "start_time": "2022-10-04T20:55:45.030Z"
   },
   {
    "duration": 5,
    "start_time": "2022-10-04T20:55:45.098Z"
   },
   {
    "duration": 68,
    "start_time": "2022-10-04T20:55:45.104Z"
   },
   {
    "duration": 33,
    "start_time": "2022-10-04T20:55:45.188Z"
   },
   {
    "duration": 33,
    "start_time": "2022-10-04T20:55:45.223Z"
   },
   {
    "duration": 37,
    "start_time": "2022-10-04T20:55:45.258Z"
   },
   {
    "duration": 23,
    "start_time": "2022-10-04T20:55:45.296Z"
   },
   {
    "duration": 3,
    "start_time": "2022-10-04T20:55:45.322Z"
   },
   {
    "duration": 89,
    "start_time": "2022-10-04T20:55:45.326Z"
   },
   {
    "duration": 5,
    "start_time": "2022-10-04T20:55:45.418Z"
   },
   {
    "duration": 23,
    "start_time": "2022-10-04T20:55:45.425Z"
   },
   {
    "duration": 8,
    "start_time": "2022-10-04T20:55:45.450Z"
   },
   {
    "duration": 3,
    "start_time": "2022-10-04T20:55:45.460Z"
   },
   {
    "duration": 3,
    "start_time": "2022-10-04T20:55:45.489Z"
   },
   {
    "duration": 8,
    "start_time": "2022-10-04T20:55:45.494Z"
   },
   {
    "duration": 11,
    "start_time": "2022-10-04T20:56:05.761Z"
   },
   {
    "duration": 1192,
    "start_time": "2022-10-04T20:56:19.280Z"
   },
   {
    "duration": 474,
    "start_time": "2022-10-04T20:56:20.474Z"
   },
   {
    "duration": 47,
    "start_time": "2022-10-04T20:56:20.950Z"
   },
   {
    "duration": 71,
    "start_time": "2022-10-04T20:56:20.998Z"
   },
   {
    "duration": 34,
    "start_time": "2022-10-04T20:56:21.088Z"
   },
   {
    "duration": 96,
    "start_time": "2022-10-04T20:56:21.124Z"
   },
   {
    "duration": 15,
    "start_time": "2022-10-04T20:56:21.222Z"
   },
   {
    "duration": 134,
    "start_time": "2022-10-04T20:56:21.238Z"
   },
   {
    "duration": 22,
    "start_time": "2022-10-04T20:56:21.374Z"
   },
   {
    "duration": 69,
    "start_time": "2022-10-04T20:56:21.398Z"
   },
   {
    "duration": 45,
    "start_time": "2022-10-04T20:56:21.468Z"
   },
   {
    "duration": 43,
    "start_time": "2022-10-04T20:56:21.514Z"
   },
   {
    "duration": 3,
    "start_time": "2022-10-04T20:56:21.558Z"
   },
   {
    "duration": 29,
    "start_time": "2022-10-04T20:56:21.564Z"
   },
   {
    "duration": 3,
    "start_time": "2022-10-04T20:56:21.594Z"
   },
   {
    "duration": 233,
    "start_time": "2022-10-04T20:56:21.598Z"
   },
   {
    "duration": 40,
    "start_time": "2022-10-04T20:56:21.833Z"
   },
   {
    "duration": 7,
    "start_time": "2022-10-04T20:56:21.890Z"
   },
   {
    "duration": 8,
    "start_time": "2022-10-04T20:56:21.899Z"
   },
   {
    "duration": 11,
    "start_time": "2022-10-04T20:56:21.909Z"
   },
   {
    "duration": 76,
    "start_time": "2022-10-04T20:56:21.922Z"
   },
   {
    "duration": 6,
    "start_time": "2022-10-04T20:56:22.000Z"
   },
   {
    "duration": 92,
    "start_time": "2022-10-04T20:56:22.008Z"
   },
   {
    "duration": 32,
    "start_time": "2022-10-04T20:56:22.102Z"
   },
   {
    "duration": 32,
    "start_time": "2022-10-04T20:56:22.136Z"
   },
   {
    "duration": 28,
    "start_time": "2022-10-04T20:56:22.170Z"
   },
   {
    "duration": 30,
    "start_time": "2022-10-04T20:56:22.200Z"
   },
   {
    "duration": 3,
    "start_time": "2022-10-04T20:56:22.231Z"
   },
   {
    "duration": 67,
    "start_time": "2022-10-04T20:56:22.235Z"
   },
   {
    "duration": 5,
    "start_time": "2022-10-04T20:56:22.303Z"
   },
   {
    "duration": 25,
    "start_time": "2022-10-04T20:56:22.309Z"
   },
   {
    "duration": 7,
    "start_time": "2022-10-04T20:56:22.337Z"
   },
   {
    "duration": 3,
    "start_time": "2022-10-04T20:56:22.346Z"
   },
   {
    "duration": 6,
    "start_time": "2022-10-04T20:56:22.350Z"
   },
   {
    "duration": 6,
    "start_time": "2022-10-04T20:56:22.357Z"
   },
   {
    "duration": 10,
    "start_time": "2022-10-04T21:08:46.881Z"
   },
   {
    "duration": 13,
    "start_time": "2022-10-04T21:09:00.795Z"
   },
   {
    "duration": 1230,
    "start_time": "2022-10-04T21:11:14.156Z"
   },
   {
    "duration": 499,
    "start_time": "2022-10-04T21:11:15.388Z"
   },
   {
    "duration": 47,
    "start_time": "2022-10-04T21:11:15.888Z"
   },
   {
    "duration": 94,
    "start_time": "2022-10-04T21:11:15.937Z"
   },
   {
    "duration": 35,
    "start_time": "2022-10-04T21:11:16.032Z"
   },
   {
    "duration": 88,
    "start_time": "2022-10-04T21:11:16.068Z"
   },
   {
    "duration": 37,
    "start_time": "2022-10-04T21:11:16.157Z"
   },
   {
    "duration": 140,
    "start_time": "2022-10-04T21:11:16.196Z"
   },
   {
    "duration": 9,
    "start_time": "2022-10-04T21:11:16.338Z"
   },
   {
    "duration": 81,
    "start_time": "2022-10-04T21:11:16.350Z"
   },
   {
    "duration": 35,
    "start_time": "2022-10-04T21:11:16.433Z"
   },
   {
    "duration": 56,
    "start_time": "2022-10-04T21:11:16.470Z"
   },
   {
    "duration": 14,
    "start_time": "2022-10-04T21:11:16.528Z"
   },
   {
    "duration": 2,
    "start_time": "2022-10-04T21:11:16.543Z"
   },
   {
    "duration": 225,
    "start_time": "2022-10-04T21:11:16.547Z"
   },
   {
    "duration": 39,
    "start_time": "2022-10-04T21:11:16.774Z"
   },
   {
    "duration": 4,
    "start_time": "2022-10-04T21:11:16.815Z"
   },
   {
    "duration": 7,
    "start_time": "2022-10-04T21:11:16.821Z"
   },
   {
    "duration": 6,
    "start_time": "2022-10-04T21:11:16.829Z"
   },
   {
    "duration": 74,
    "start_time": "2022-10-04T21:11:16.837Z"
   },
   {
    "duration": 5,
    "start_time": "2022-10-04T21:11:16.913Z"
   },
   {
    "duration": 72,
    "start_time": "2022-10-04T21:11:16.919Z"
   },
   {
    "duration": 30,
    "start_time": "2022-10-04T21:11:16.993Z"
   },
   {
    "duration": 32,
    "start_time": "2022-10-04T21:11:17.025Z"
   },
   {
    "duration": 34,
    "start_time": "2022-10-04T21:11:17.059Z"
   },
   {
    "duration": 32,
    "start_time": "2022-10-04T21:11:17.095Z"
   },
   {
    "duration": 3,
    "start_time": "2022-10-04T21:11:17.130Z"
   },
   {
    "duration": 66,
    "start_time": "2022-10-04T21:11:17.136Z"
   },
   {
    "duration": 9,
    "start_time": "2022-10-04T21:11:17.204Z"
   },
   {
    "duration": 12,
    "start_time": "2022-10-04T21:11:17.215Z"
   },
   {
    "duration": 2524,
    "start_time": "2022-10-04T21:11:17.229Z"
   },
   {
    "duration": 0,
    "start_time": "2022-10-04T21:11:19.754Z"
   },
   {
    "duration": 0,
    "start_time": "2022-10-04T21:11:19.756Z"
   },
   {
    "duration": 0,
    "start_time": "2022-10-04T21:11:19.757Z"
   },
   {
    "duration": 6,
    "start_time": "2022-10-04T21:11:25.801Z"
   },
   {
    "duration": 12,
    "start_time": "2022-10-04T21:12:05.002Z"
   },
   {
    "duration": 30,
    "start_time": "2022-10-04T21:12:07.378Z"
   },
   {
    "duration": 3,
    "start_time": "2022-10-04T21:20:37.617Z"
   },
   {
    "duration": 52,
    "start_time": "2022-10-05T08:39:54.820Z"
   },
   {
    "duration": 1239,
    "start_time": "2022-10-05T08:40:01.804Z"
   },
   {
    "duration": 965,
    "start_time": "2022-10-05T08:40:03.045Z"
   },
   {
    "duration": 43,
    "start_time": "2022-10-05T08:40:04.011Z"
   },
   {
    "duration": 86,
    "start_time": "2022-10-05T08:40:04.055Z"
   },
   {
    "duration": 32,
    "start_time": "2022-10-05T08:40:04.143Z"
   },
   {
    "duration": 81,
    "start_time": "2022-10-05T08:40:04.176Z"
   },
   {
    "duration": 13,
    "start_time": "2022-10-05T08:40:04.258Z"
   },
   {
    "duration": 150,
    "start_time": "2022-10-05T08:40:04.273Z"
   },
   {
    "duration": 11,
    "start_time": "2022-10-05T08:40:04.424Z"
   },
   {
    "duration": 75,
    "start_time": "2022-10-05T08:40:04.437Z"
   },
   {
    "duration": 32,
    "start_time": "2022-10-05T08:40:04.514Z"
   },
   {
    "duration": 44,
    "start_time": "2022-10-05T08:40:04.548Z"
   },
   {
    "duration": 28,
    "start_time": "2022-10-05T08:40:04.594Z"
   },
   {
    "duration": 197,
    "start_time": "2022-10-05T08:40:04.626Z"
   },
   {
    "duration": 24,
    "start_time": "2022-10-05T08:40:04.825Z"
   },
   {
    "duration": 5,
    "start_time": "2022-10-05T08:40:04.850Z"
   },
   {
    "duration": 7,
    "start_time": "2022-10-05T08:40:04.856Z"
   },
   {
    "duration": 6,
    "start_time": "2022-10-05T08:40:04.864Z"
   },
   {
    "duration": 69,
    "start_time": "2022-10-05T08:40:04.872Z"
   },
   {
    "duration": 5,
    "start_time": "2022-10-05T08:40:04.942Z"
   },
   {
    "duration": 61,
    "start_time": "2022-10-05T08:40:04.948Z"
   },
   {
    "duration": 26,
    "start_time": "2022-10-05T08:40:05.011Z"
   },
   {
    "duration": 27,
    "start_time": "2022-10-05T08:40:05.039Z"
   },
   {
    "duration": 9,
    "start_time": "2022-10-05T08:40:05.068Z"
   },
   {
    "duration": 43,
    "start_time": "2022-10-05T08:40:05.078Z"
   },
   {
    "duration": 2,
    "start_time": "2022-10-05T08:40:05.123Z"
   },
   {
    "duration": 39,
    "start_time": "2022-10-05T08:40:05.126Z"
   },
   {
    "duration": 8,
    "start_time": "2022-10-05T08:40:05.166Z"
   },
   {
    "duration": 34,
    "start_time": "2022-10-05T08:40:05.175Z"
   },
   {
    "duration": 6,
    "start_time": "2022-10-05T08:40:05.211Z"
   },
   {
    "duration": 5,
    "start_time": "2022-10-05T08:40:05.219Z"
   },
   {
    "duration": 4,
    "start_time": "2022-10-05T08:40:05.225Z"
   },
   {
    "duration": 3,
    "start_time": "2022-10-05T08:40:05.231Z"
   },
   {
    "duration": 10,
    "start_time": "2022-10-05T08:40:05.236Z"
   },
   {
    "duration": 3,
    "start_time": "2022-10-05T08:43:29.453Z"
   },
   {
    "duration": 4,
    "start_time": "2022-10-05T08:43:31.031Z"
   },
   {
    "duration": 1006,
    "start_time": "2022-10-05T08:45:22.768Z"
   },
   {
    "duration": 420,
    "start_time": "2022-10-05T08:45:23.777Z"
   },
   {
    "duration": 42,
    "start_time": "2022-10-05T08:45:24.199Z"
   },
   {
    "duration": 111,
    "start_time": "2022-10-05T08:45:24.243Z"
   },
   {
    "duration": 54,
    "start_time": "2022-10-05T08:45:24.356Z"
   },
   {
    "duration": 77,
    "start_time": "2022-10-05T08:45:24.412Z"
   },
   {
    "duration": 20,
    "start_time": "2022-10-05T08:45:24.508Z"
   },
   {
    "duration": 138,
    "start_time": "2022-10-05T08:45:24.529Z"
   },
   {
    "duration": 9,
    "start_time": "2022-10-05T08:45:24.669Z"
   },
   {
    "duration": 100,
    "start_time": "2022-10-05T08:45:24.681Z"
   },
   {
    "duration": 33,
    "start_time": "2022-10-05T08:45:24.782Z"
   },
   {
    "duration": 42,
    "start_time": "2022-10-05T08:45:24.820Z"
   },
   {
    "duration": 12,
    "start_time": "2022-10-05T08:45:24.864Z"
   },
   {
    "duration": 172,
    "start_time": "2022-10-05T08:45:24.877Z"
   },
   {
    "duration": 26,
    "start_time": "2022-10-05T08:45:25.051Z"
   },
   {
    "duration": 5,
    "start_time": "2022-10-05T08:45:25.078Z"
   },
   {
    "duration": 25,
    "start_time": "2022-10-05T08:45:25.084Z"
   },
   {
    "duration": 5,
    "start_time": "2022-10-05T08:45:25.111Z"
   },
   {
    "duration": 44,
    "start_time": "2022-10-05T08:45:25.117Z"
   },
   {
    "duration": 4,
    "start_time": "2022-10-05T08:45:25.163Z"
   },
   {
    "duration": 74,
    "start_time": "2022-10-05T08:45:25.169Z"
   },
   {
    "duration": 29,
    "start_time": "2022-10-05T08:45:25.245Z"
   },
   {
    "duration": 44,
    "start_time": "2022-10-05T08:45:25.276Z"
   },
   {
    "duration": 11,
    "start_time": "2022-10-05T08:45:25.322Z"
   },
   {
    "duration": 29,
    "start_time": "2022-10-05T08:45:25.335Z"
   },
   {
    "duration": 3,
    "start_time": "2022-10-05T08:45:25.365Z"
   },
   {
    "duration": 64,
    "start_time": "2022-10-05T08:45:25.369Z"
   },
   {
    "duration": 8,
    "start_time": "2022-10-05T08:45:25.437Z"
   },
   {
    "duration": 11,
    "start_time": "2022-10-05T08:45:25.446Z"
   },
   {
    "duration": 8,
    "start_time": "2022-10-05T08:45:25.459Z"
   },
   {
    "duration": 8,
    "start_time": "2022-10-05T08:45:25.468Z"
   },
   {
    "duration": 67,
    "start_time": "2022-10-05T08:45:25.477Z"
   },
   {
    "duration": 3,
    "start_time": "2022-10-05T08:45:25.545Z"
   },
   {
    "duration": 12,
    "start_time": "2022-10-05T08:45:25.550Z"
   },
   {
    "duration": 14,
    "start_time": "2022-10-05T08:45:25.564Z"
   },
   {
    "duration": 5,
    "start_time": "2022-10-05T08:46:36.786Z"
   },
   {
    "duration": 24,
    "start_time": "2022-10-05T08:47:02.490Z"
   },
   {
    "duration": 26,
    "start_time": "2022-10-05T08:47:56.748Z"
   },
   {
    "duration": 6,
    "start_time": "2022-10-05T08:50:26.932Z"
   },
   {
    "duration": 5,
    "start_time": "2022-10-05T08:50:28.277Z"
   },
   {
    "duration": 8,
    "start_time": "2022-10-05T08:51:13.692Z"
   },
   {
    "duration": 4,
    "start_time": "2022-10-05T08:51:14.990Z"
   },
   {
    "duration": 25,
    "start_time": "2022-10-05T08:51:16.997Z"
   },
   {
    "duration": 16,
    "start_time": "2022-10-05T08:52:55.756Z"
   },
   {
    "duration": 9,
    "start_time": "2022-10-05T08:52:56.525Z"
   },
   {
    "duration": 35,
    "start_time": "2022-10-05T08:52:58.172Z"
   },
   {
    "duration": 1068,
    "start_time": "2022-10-05T08:53:12.254Z"
   },
   {
    "duration": 416,
    "start_time": "2022-10-05T08:53:13.324Z"
   },
   {
    "duration": 42,
    "start_time": "2022-10-05T08:53:13.742Z"
   },
   {
    "duration": 74,
    "start_time": "2022-10-05T08:53:13.786Z"
   },
   {
    "duration": 54,
    "start_time": "2022-10-05T08:53:13.861Z"
   },
   {
    "duration": 60,
    "start_time": "2022-10-05T08:53:13.917Z"
   },
   {
    "duration": 35,
    "start_time": "2022-10-05T08:53:13.979Z"
   },
   {
    "duration": 117,
    "start_time": "2022-10-05T08:53:14.016Z"
   },
   {
    "duration": 8,
    "start_time": "2022-10-05T08:53:14.135Z"
   },
   {
    "duration": 68,
    "start_time": "2022-10-05T08:53:14.145Z"
   },
   {
    "duration": 29,
    "start_time": "2022-10-05T08:53:14.214Z"
   },
   {
    "duration": 35,
    "start_time": "2022-10-05T08:53:14.244Z"
   },
   {
    "duration": 11,
    "start_time": "2022-10-05T08:53:14.280Z"
   },
   {
    "duration": 210,
    "start_time": "2022-10-05T08:53:14.309Z"
   },
   {
    "duration": 43,
    "start_time": "2022-10-05T08:53:14.521Z"
   },
   {
    "duration": 5,
    "start_time": "2022-10-05T08:53:14.566Z"
   },
   {
    "duration": 28,
    "start_time": "2022-10-05T08:53:14.572Z"
   },
   {
    "duration": 7,
    "start_time": "2022-10-05T08:53:14.608Z"
   },
   {
    "duration": 65,
    "start_time": "2022-10-05T08:53:14.618Z"
   },
   {
    "duration": 24,
    "start_time": "2022-10-05T08:53:14.685Z"
   },
   {
    "duration": 61,
    "start_time": "2022-10-05T08:53:14.711Z"
   },
   {
    "duration": 37,
    "start_time": "2022-10-05T08:53:14.774Z"
   },
   {
    "duration": 26,
    "start_time": "2022-10-05T08:53:14.813Z"
   },
   {
    "duration": 10,
    "start_time": "2022-10-05T08:53:14.841Z"
   },
   {
    "duration": 19,
    "start_time": "2022-10-05T08:53:14.853Z"
   },
   {
    "duration": 35,
    "start_time": "2022-10-05T08:53:14.874Z"
   },
   {
    "duration": 46,
    "start_time": "2022-10-05T08:53:14.911Z"
   },
   {
    "duration": 11,
    "start_time": "2022-10-05T08:53:14.961Z"
   },
   {
    "duration": 13,
    "start_time": "2022-10-05T08:53:14.974Z"
   },
   {
    "duration": 3,
    "start_time": "2022-10-05T08:53:15.009Z"
   },
   {
    "duration": 24,
    "start_time": "2022-10-05T08:53:15.014Z"
   },
   {
    "duration": 13,
    "start_time": "2022-10-05T08:53:15.040Z"
   },
   {
    "duration": 31,
    "start_time": "2022-10-05T08:53:15.054Z"
   },
   {
    "duration": 2,
    "start_time": "2022-10-05T08:53:15.087Z"
   },
   {
    "duration": 20,
    "start_time": "2022-10-05T08:53:15.091Z"
   },
   {
    "duration": 11,
    "start_time": "2022-10-05T08:53:15.113Z"
   },
   {
    "duration": 9,
    "start_time": "2022-10-05T08:53:32.387Z"
   },
   {
    "duration": 1132,
    "start_time": "2022-10-05T08:53:38.705Z"
   },
   {
    "duration": 418,
    "start_time": "2022-10-05T08:53:39.838Z"
   },
   {
    "duration": 53,
    "start_time": "2022-10-05T08:53:40.257Z"
   },
   {
    "duration": 74,
    "start_time": "2022-10-05T08:53:40.312Z"
   },
   {
    "duration": 54,
    "start_time": "2022-10-05T08:53:40.388Z"
   },
   {
    "duration": 91,
    "start_time": "2022-10-05T08:53:40.444Z"
   },
   {
    "duration": 15,
    "start_time": "2022-10-05T08:53:40.537Z"
   },
   {
    "duration": 132,
    "start_time": "2022-10-05T08:53:40.553Z"
   },
   {
    "duration": 8,
    "start_time": "2022-10-05T08:53:40.686Z"
   },
   {
    "duration": 85,
    "start_time": "2022-10-05T08:53:40.696Z"
   },
   {
    "duration": 43,
    "start_time": "2022-10-05T08:53:40.783Z"
   },
   {
    "duration": 37,
    "start_time": "2022-10-05T08:53:40.828Z"
   },
   {
    "duration": 16,
    "start_time": "2022-10-05T08:53:40.867Z"
   },
   {
    "duration": 184,
    "start_time": "2022-10-05T08:53:40.887Z"
   },
   {
    "duration": 38,
    "start_time": "2022-10-05T08:53:41.072Z"
   },
   {
    "duration": 6,
    "start_time": "2022-10-05T08:53:41.112Z"
   },
   {
    "duration": 8,
    "start_time": "2022-10-05T08:53:41.120Z"
   },
   {
    "duration": 7,
    "start_time": "2022-10-05T08:53:41.130Z"
   },
   {
    "duration": 93,
    "start_time": "2022-10-05T08:53:41.139Z"
   },
   {
    "duration": 5,
    "start_time": "2022-10-05T08:53:41.234Z"
   },
   {
    "duration": 95,
    "start_time": "2022-10-05T08:53:41.241Z"
   },
   {
    "duration": 42,
    "start_time": "2022-10-05T08:53:41.338Z"
   },
   {
    "duration": 66,
    "start_time": "2022-10-05T08:53:41.382Z"
   },
   {
    "duration": 14,
    "start_time": "2022-10-05T08:53:41.450Z"
   },
   {
    "duration": 51,
    "start_time": "2022-10-05T08:53:41.466Z"
   },
   {
    "duration": 2,
    "start_time": "2022-10-05T08:53:41.519Z"
   },
   {
    "duration": 49,
    "start_time": "2022-10-05T08:53:41.523Z"
   },
   {
    "duration": 10,
    "start_time": "2022-10-05T08:53:41.573Z"
   },
   {
    "duration": 22,
    "start_time": "2022-10-05T08:53:41.585Z"
   },
   {
    "duration": 6,
    "start_time": "2022-10-05T08:53:41.609Z"
   },
   {
    "duration": 19,
    "start_time": "2022-10-05T08:53:41.617Z"
   },
   {
    "duration": 26,
    "start_time": "2022-10-05T08:53:41.638Z"
   },
   {
    "duration": 64,
    "start_time": "2022-10-05T08:53:41.666Z"
   },
   {
    "duration": 5,
    "start_time": "2022-10-05T08:53:41.732Z"
   },
   {
    "duration": 15,
    "start_time": "2022-10-05T08:53:41.739Z"
   },
   {
    "duration": 19,
    "start_time": "2022-10-05T08:53:41.756Z"
   },
   {
    "duration": 1069,
    "start_time": "2022-10-05T08:54:09.778Z"
   },
   {
    "duration": 420,
    "start_time": "2022-10-05T08:54:10.848Z"
   },
   {
    "duration": 45,
    "start_time": "2022-10-05T08:54:11.270Z"
   },
   {
    "duration": 106,
    "start_time": "2022-10-05T08:54:11.317Z"
   },
   {
    "duration": 35,
    "start_time": "2022-10-05T08:54:11.425Z"
   },
   {
    "duration": 93,
    "start_time": "2022-10-05T08:54:11.462Z"
   },
   {
    "duration": 17,
    "start_time": "2022-10-05T08:54:11.556Z"
   },
   {
    "duration": 157,
    "start_time": "2022-10-05T08:54:11.575Z"
   },
   {
    "duration": 9,
    "start_time": "2022-10-05T08:54:11.734Z"
   },
   {
    "duration": 74,
    "start_time": "2022-10-05T08:54:11.746Z"
   },
   {
    "duration": 39,
    "start_time": "2022-10-05T08:54:11.822Z"
   },
   {
    "duration": 56,
    "start_time": "2022-10-05T08:54:11.862Z"
   },
   {
    "duration": 12,
    "start_time": "2022-10-05T08:54:11.919Z"
   },
   {
    "duration": 170,
    "start_time": "2022-10-05T08:54:11.932Z"
   },
   {
    "duration": 31,
    "start_time": "2022-10-05T08:54:12.103Z"
   },
   {
    "duration": 4,
    "start_time": "2022-10-05T08:54:12.136Z"
   },
   {
    "duration": 7,
    "start_time": "2022-10-05T08:54:12.141Z"
   },
   {
    "duration": 6,
    "start_time": "2022-10-05T08:54:12.149Z"
   },
   {
    "duration": 74,
    "start_time": "2022-10-05T08:54:12.157Z"
   },
   {
    "duration": 5,
    "start_time": "2022-10-05T08:54:12.232Z"
   },
   {
    "duration": 71,
    "start_time": "2022-10-05T08:54:12.239Z"
   },
   {
    "duration": 27,
    "start_time": "2022-10-05T08:54:12.312Z"
   },
   {
    "duration": 27,
    "start_time": "2022-10-05T08:54:12.340Z"
   },
   {
    "duration": 12,
    "start_time": "2022-10-05T08:54:12.369Z"
   },
   {
    "duration": 47,
    "start_time": "2022-10-05T08:54:12.382Z"
   },
   {
    "duration": 2,
    "start_time": "2022-10-05T08:54:12.431Z"
   },
   {
    "duration": 38,
    "start_time": "2022-10-05T08:54:12.435Z"
   },
   {
    "duration": 37,
    "start_time": "2022-10-05T08:54:12.477Z"
   },
   {
    "duration": 16,
    "start_time": "2022-10-05T08:54:12.516Z"
   },
   {
    "duration": 6,
    "start_time": "2022-10-05T08:54:12.534Z"
   },
   {
    "duration": 11,
    "start_time": "2022-10-05T08:54:12.542Z"
   },
   {
    "duration": 7,
    "start_time": "2022-10-05T08:54:12.555Z"
   },
   {
    "duration": 50,
    "start_time": "2022-10-05T08:54:12.564Z"
   },
   {
    "duration": 2,
    "start_time": "2022-10-05T08:54:12.615Z"
   },
   {
    "duration": 4,
    "start_time": "2022-10-05T08:54:12.619Z"
   },
   {
    "duration": 5,
    "start_time": "2022-10-05T08:54:12.625Z"
   },
   {
    "duration": 1054,
    "start_time": "2022-10-05T08:55:06.580Z"
   },
   {
    "duration": 433,
    "start_time": "2022-10-05T08:55:07.636Z"
   },
   {
    "duration": 53,
    "start_time": "2022-10-05T08:55:08.074Z"
   },
   {
    "duration": 87,
    "start_time": "2022-10-05T08:55:08.129Z"
   },
   {
    "duration": 37,
    "start_time": "2022-10-05T08:55:08.217Z"
   },
   {
    "duration": 110,
    "start_time": "2022-10-05T08:55:08.255Z"
   },
   {
    "duration": 17,
    "start_time": "2022-10-05T08:55:08.367Z"
   },
   {
    "duration": 137,
    "start_time": "2022-10-05T08:55:08.386Z"
   },
   {
    "duration": 9,
    "start_time": "2022-10-05T08:55:08.524Z"
   },
   {
    "duration": 76,
    "start_time": "2022-10-05T08:55:08.534Z"
   },
   {
    "duration": 29,
    "start_time": "2022-10-05T08:55:08.611Z"
   },
   {
    "duration": 49,
    "start_time": "2022-10-05T08:55:08.642Z"
   },
   {
    "duration": 22,
    "start_time": "2022-10-05T08:55:08.694Z"
   },
   {
    "duration": 188,
    "start_time": "2022-10-05T08:55:08.717Z"
   },
   {
    "duration": 26,
    "start_time": "2022-10-05T08:55:08.907Z"
   },
   {
    "duration": 4,
    "start_time": "2022-10-05T08:55:08.935Z"
   },
   {
    "duration": 18,
    "start_time": "2022-10-05T08:55:08.940Z"
   },
   {
    "duration": 19,
    "start_time": "2022-10-05T08:55:08.960Z"
   },
   {
    "duration": 59,
    "start_time": "2022-10-05T08:55:08.981Z"
   },
   {
    "duration": 5,
    "start_time": "2022-10-05T08:55:09.042Z"
   },
   {
    "duration": 96,
    "start_time": "2022-10-05T08:55:09.049Z"
   },
   {
    "duration": 35,
    "start_time": "2022-10-05T08:55:09.147Z"
   },
   {
    "duration": 40,
    "start_time": "2022-10-05T08:55:09.183Z"
   },
   {
    "duration": 14,
    "start_time": "2022-10-05T08:55:09.225Z"
   },
   {
    "duration": 40,
    "start_time": "2022-10-05T08:55:09.241Z"
   },
   {
    "duration": 3,
    "start_time": "2022-10-05T08:55:09.283Z"
   },
   {
    "duration": 85,
    "start_time": "2022-10-05T08:55:09.288Z"
   },
   {
    "duration": 8,
    "start_time": "2022-10-05T08:55:09.374Z"
   },
   {
    "duration": 26,
    "start_time": "2022-10-05T08:55:09.384Z"
   },
   {
    "duration": 12,
    "start_time": "2022-10-05T08:55:09.412Z"
   },
   {
    "duration": 29,
    "start_time": "2022-10-05T08:55:09.425Z"
   },
   {
    "duration": 27,
    "start_time": "2022-10-05T08:55:09.456Z"
   },
   {
    "duration": 38,
    "start_time": "2022-10-05T08:55:09.485Z"
   },
   {
    "duration": 3,
    "start_time": "2022-10-05T08:55:09.524Z"
   },
   {
    "duration": 9,
    "start_time": "2022-10-05T08:55:09.528Z"
   },
   {
    "duration": 10,
    "start_time": "2022-10-05T08:55:09.539Z"
   },
   {
    "duration": 1001,
    "start_time": "2022-10-05T08:57:49.942Z"
   },
   {
    "duration": 429,
    "start_time": "2022-10-05T08:57:50.945Z"
   },
   {
    "duration": 47,
    "start_time": "2022-10-05T08:57:51.376Z"
   },
   {
    "duration": 60,
    "start_time": "2022-10-05T08:57:51.425Z"
   },
   {
    "duration": 46,
    "start_time": "2022-10-05T08:57:51.487Z"
   },
   {
    "duration": 80,
    "start_time": "2022-10-05T08:57:51.535Z"
   },
   {
    "duration": 15,
    "start_time": "2022-10-05T08:57:51.616Z"
   },
   {
    "duration": 122,
    "start_time": "2022-10-05T08:57:51.633Z"
   },
   {
    "duration": 8,
    "start_time": "2022-10-05T08:57:51.756Z"
   },
   {
    "duration": 68,
    "start_time": "2022-10-05T08:57:51.768Z"
   },
   {
    "duration": 29,
    "start_time": "2022-10-05T08:57:51.837Z"
   },
   {
    "duration": 53,
    "start_time": "2022-10-05T08:57:51.868Z"
   },
   {
    "duration": 16,
    "start_time": "2022-10-05T08:57:51.922Z"
   },
   {
    "duration": 197,
    "start_time": "2022-10-05T08:57:51.940Z"
   },
   {
    "duration": 30,
    "start_time": "2022-10-05T08:57:52.138Z"
   },
   {
    "duration": 5,
    "start_time": "2022-10-05T08:57:52.169Z"
   },
   {
    "duration": 7,
    "start_time": "2022-10-05T08:57:52.176Z"
   },
   {
    "duration": 27,
    "start_time": "2022-10-05T08:57:52.185Z"
   },
   {
    "duration": 52,
    "start_time": "2022-10-05T08:57:52.214Z"
   },
   {
    "duration": 5,
    "start_time": "2022-10-05T08:57:52.267Z"
   },
   {
    "duration": 66,
    "start_time": "2022-10-05T08:57:52.273Z"
   },
   {
    "duration": 25,
    "start_time": "2022-10-05T08:57:52.341Z"
   },
   {
    "duration": 26,
    "start_time": "2022-10-05T08:57:52.368Z"
   },
   {
    "duration": 23,
    "start_time": "2022-10-05T08:57:52.395Z"
   },
   {
    "duration": 19,
    "start_time": "2022-10-05T08:57:52.419Z"
   },
   {
    "duration": 3,
    "start_time": "2022-10-05T08:57:52.439Z"
   },
   {
    "duration": 47,
    "start_time": "2022-10-05T08:57:52.443Z"
   },
   {
    "duration": 8,
    "start_time": "2022-10-05T08:57:52.511Z"
   },
   {
    "duration": 10,
    "start_time": "2022-10-05T08:57:52.521Z"
   },
   {
    "duration": 2,
    "start_time": "2022-10-05T08:57:52.532Z"
   },
   {
    "duration": 13,
    "start_time": "2022-10-05T08:57:52.535Z"
   },
   {
    "duration": 11,
    "start_time": "2022-10-05T08:57:52.549Z"
   },
   {
    "duration": 54,
    "start_time": "2022-10-05T08:57:52.561Z"
   },
   {
    "duration": 2,
    "start_time": "2022-10-05T08:57:52.616Z"
   },
   {
    "duration": 5,
    "start_time": "2022-10-05T08:57:52.620Z"
   },
   {
    "duration": 5,
    "start_time": "2022-10-05T08:57:52.626Z"
   },
   {
    "duration": 7,
    "start_time": "2022-10-05T09:13:12.984Z"
   },
   {
    "duration": 1037,
    "start_time": "2022-10-05T09:13:19.862Z"
   },
   {
    "duration": 436,
    "start_time": "2022-10-05T09:13:20.901Z"
   },
   {
    "duration": 44,
    "start_time": "2022-10-05T09:13:21.339Z"
   },
   {
    "duration": 72,
    "start_time": "2022-10-05T09:13:21.385Z"
   },
   {
    "duration": 29,
    "start_time": "2022-10-05T09:13:21.459Z"
   },
   {
    "duration": 72,
    "start_time": "2022-10-05T09:13:21.510Z"
   },
   {
    "duration": 29,
    "start_time": "2022-10-05T09:13:21.584Z"
   },
   {
    "duration": 120,
    "start_time": "2022-10-05T09:13:21.615Z"
   },
   {
    "duration": 8,
    "start_time": "2022-10-05T09:13:21.737Z"
   },
   {
    "duration": 69,
    "start_time": "2022-10-05T09:13:21.746Z"
   },
   {
    "duration": 30,
    "start_time": "2022-10-05T09:13:21.817Z"
   },
   {
    "duration": 35,
    "start_time": "2022-10-05T09:13:21.849Z"
   },
   {
    "duration": 32,
    "start_time": "2022-10-05T09:13:21.885Z"
   },
   {
    "duration": 196,
    "start_time": "2022-10-05T09:13:21.921Z"
   },
   {
    "duration": 26,
    "start_time": "2022-10-05T09:13:22.119Z"
   },
   {
    "duration": 4,
    "start_time": "2022-10-05T09:13:22.146Z"
   },
   {
    "duration": 9,
    "start_time": "2022-10-05T09:13:22.152Z"
   },
   {
    "duration": 8,
    "start_time": "2022-10-05T09:13:22.162Z"
   },
   {
    "duration": 61,
    "start_time": "2022-10-05T09:13:22.171Z"
   },
   {
    "duration": 4,
    "start_time": "2022-10-05T09:13:22.233Z"
   },
   {
    "duration": 62,
    "start_time": "2022-10-05T09:13:22.239Z"
   },
   {
    "duration": 27,
    "start_time": "2022-10-05T09:13:22.309Z"
   },
   {
    "duration": 28,
    "start_time": "2022-10-05T09:13:22.338Z"
   },
   {
    "duration": 10,
    "start_time": "2022-10-05T09:13:22.368Z"
   },
   {
    "duration": 45,
    "start_time": "2022-10-05T09:13:22.379Z"
   },
   {
    "duration": 3,
    "start_time": "2022-10-05T09:13:22.425Z"
   },
   {
    "duration": 39,
    "start_time": "2022-10-05T09:13:22.430Z"
   },
   {
    "duration": 8,
    "start_time": "2022-10-05T09:13:22.471Z"
   },
   {
    "duration": 36,
    "start_time": "2022-10-05T09:13:22.481Z"
   },
   {
    "duration": 2,
    "start_time": "2022-10-05T09:13:22.519Z"
   },
   {
    "duration": 8,
    "start_time": "2022-10-05T09:13:22.523Z"
   },
   {
    "duration": 12,
    "start_time": "2022-10-05T09:13:22.532Z"
   },
   {
    "duration": 915,
    "start_time": "2022-10-05T09:13:22.546Z"
   },
   {
    "duration": 0,
    "start_time": "2022-10-05T09:13:23.463Z"
   },
   {
    "duration": 0,
    "start_time": "2022-10-05T09:13:23.464Z"
   },
   {
    "duration": 1029,
    "start_time": "2022-10-05T09:18:11.307Z"
   },
   {
    "duration": 416,
    "start_time": "2022-10-05T09:18:12.337Z"
   },
   {
    "duration": 43,
    "start_time": "2022-10-05T09:18:12.754Z"
   },
   {
    "duration": 60,
    "start_time": "2022-10-05T09:18:12.798Z"
   },
   {
    "duration": 49,
    "start_time": "2022-10-05T09:18:12.860Z"
   },
   {
    "duration": 60,
    "start_time": "2022-10-05T09:18:12.910Z"
   },
   {
    "duration": 14,
    "start_time": "2022-10-05T09:18:12.972Z"
   },
   {
    "duration": 131,
    "start_time": "2022-10-05T09:18:12.987Z"
   },
   {
    "duration": 7,
    "start_time": "2022-10-05T09:18:13.119Z"
   },
   {
    "duration": 58,
    "start_time": "2022-10-05T09:18:13.128Z"
   },
   {
    "duration": 34,
    "start_time": "2022-10-05T09:18:13.187Z"
   },
   {
    "duration": 39,
    "start_time": "2022-10-05T09:18:13.223Z"
   },
   {
    "duration": 13,
    "start_time": "2022-10-05T09:18:13.263Z"
   },
   {
    "duration": 201,
    "start_time": "2022-10-05T09:18:13.279Z"
   },
   {
    "duration": 30,
    "start_time": "2022-10-05T09:18:13.482Z"
   },
   {
    "duration": 4,
    "start_time": "2022-10-05T09:18:13.514Z"
   },
   {
    "duration": 5,
    "start_time": "2022-10-05T09:18:13.519Z"
   },
   {
    "duration": 5,
    "start_time": "2022-10-05T09:18:13.526Z"
   },
   {
    "duration": 40,
    "start_time": "2022-10-05T09:18:13.533Z"
   },
   {
    "duration": 4,
    "start_time": "2022-10-05T09:18:13.575Z"
   },
   {
    "duration": 78,
    "start_time": "2022-10-05T09:18:13.580Z"
   },
   {
    "duration": 26,
    "start_time": "2022-10-05T09:18:13.659Z"
   },
   {
    "duration": 40,
    "start_time": "2022-10-05T09:18:13.686Z"
   },
   {
    "duration": 10,
    "start_time": "2022-10-05T09:18:13.727Z"
   },
   {
    "duration": 19,
    "start_time": "2022-10-05T09:18:13.738Z"
   },
   {
    "duration": 2,
    "start_time": "2022-10-05T09:18:13.758Z"
   },
   {
    "duration": 60,
    "start_time": "2022-10-05T09:18:13.762Z"
   },
   {
    "duration": 8,
    "start_time": "2022-10-05T09:18:13.824Z"
   },
   {
    "duration": 10,
    "start_time": "2022-10-05T09:18:13.833Z"
   },
   {
    "duration": 2,
    "start_time": "2022-10-05T09:18:13.844Z"
   },
   {
    "duration": 1513,
    "start_time": "2022-10-05T09:18:13.848Z"
   },
   {
    "duration": 0,
    "start_time": "2022-10-05T09:18:15.363Z"
   },
   {
    "duration": 0,
    "start_time": "2022-10-05T09:18:15.364Z"
   },
   {
    "duration": 0,
    "start_time": "2022-10-05T09:18:15.365Z"
   },
   {
    "duration": 0,
    "start_time": "2022-10-05T09:18:15.366Z"
   },
   {
    "duration": 2,
    "start_time": "2022-10-05T09:18:23.128Z"
   },
   {
    "duration": 6,
    "start_time": "2022-10-05T09:18:23.639Z"
   },
   {
    "duration": 4,
    "start_time": "2022-10-05T09:18:24.118Z"
   },
   {
    "duration": 25,
    "start_time": "2022-10-05T09:18:24.688Z"
   },
   {
    "duration": 992,
    "start_time": "2022-10-05T09:19:17.350Z"
   },
   {
    "duration": 416,
    "start_time": "2022-10-05T09:19:18.344Z"
   },
   {
    "duration": 45,
    "start_time": "2022-10-05T09:19:18.762Z"
   },
   {
    "duration": 64,
    "start_time": "2022-10-05T09:19:18.809Z"
   },
   {
    "duration": 50,
    "start_time": "2022-10-05T09:19:18.875Z"
   },
   {
    "duration": 61,
    "start_time": "2022-10-05T09:19:18.927Z"
   },
   {
    "duration": 28,
    "start_time": "2022-10-05T09:19:18.989Z"
   },
   {
    "duration": 123,
    "start_time": "2022-10-05T09:19:19.019Z"
   },
   {
    "duration": 8,
    "start_time": "2022-10-05T09:19:19.143Z"
   },
   {
    "duration": 64,
    "start_time": "2022-10-05T09:19:19.153Z"
   },
   {
    "duration": 29,
    "start_time": "2022-10-05T09:19:19.219Z"
   },
   {
    "duration": 38,
    "start_time": "2022-10-05T09:19:19.250Z"
   },
   {
    "duration": 28,
    "start_time": "2022-10-05T09:19:19.290Z"
   },
   {
    "duration": 175,
    "start_time": "2022-10-05T09:19:19.321Z"
   },
   {
    "duration": 32,
    "start_time": "2022-10-05T09:19:19.497Z"
   },
   {
    "duration": 5,
    "start_time": "2022-10-05T09:19:19.531Z"
   },
   {
    "duration": 5,
    "start_time": "2022-10-05T09:19:19.538Z"
   },
   {
    "duration": 8,
    "start_time": "2022-10-05T09:19:19.544Z"
   },
   {
    "duration": 61,
    "start_time": "2022-10-05T09:19:19.553Z"
   },
   {
    "duration": 4,
    "start_time": "2022-10-05T09:19:19.616Z"
   },
   {
    "duration": 52,
    "start_time": "2022-10-05T09:19:19.621Z"
   },
   {
    "duration": 39,
    "start_time": "2022-10-05T09:19:19.674Z"
   },
   {
    "duration": 26,
    "start_time": "2022-10-05T09:19:19.715Z"
   },
   {
    "duration": 10,
    "start_time": "2022-10-05T09:19:19.742Z"
   },
   {
    "duration": 18,
    "start_time": "2022-10-05T09:19:19.753Z"
   },
   {
    "duration": 2,
    "start_time": "2022-10-05T09:19:19.773Z"
   },
   {
    "duration": 64,
    "start_time": "2022-10-05T09:19:19.776Z"
   },
   {
    "duration": 7,
    "start_time": "2022-10-05T09:19:19.842Z"
   },
   {
    "duration": 10,
    "start_time": "2022-10-05T09:19:19.850Z"
   },
   {
    "duration": 5,
    "start_time": "2022-10-05T09:19:19.861Z"
   },
   {
    "duration": 4,
    "start_time": "2022-10-05T09:19:19.867Z"
   },
   {
    "duration": 9,
    "start_time": "2022-10-05T09:19:19.872Z"
   },
   {
    "duration": 19,
    "start_time": "2022-10-05T09:19:19.894Z"
   },
   {
    "duration": 25,
    "start_time": "2022-10-05T09:19:19.914Z"
   },
   {
    "duration": 2,
    "start_time": "2022-10-05T09:19:19.940Z"
   },
   {
    "duration": 1079,
    "start_time": "2022-10-05T09:19:51.374Z"
   },
   {
    "duration": 465,
    "start_time": "2022-10-05T09:19:52.455Z"
   },
   {
    "duration": 45,
    "start_time": "2022-10-05T09:19:52.922Z"
   },
   {
    "duration": 99,
    "start_time": "2022-10-05T09:19:52.970Z"
   },
   {
    "duration": 40,
    "start_time": "2022-10-05T09:19:53.070Z"
   },
   {
    "duration": 60,
    "start_time": "2022-10-05T09:19:53.111Z"
   },
   {
    "duration": 36,
    "start_time": "2022-10-05T09:19:53.173Z"
   },
   {
    "duration": 116,
    "start_time": "2022-10-05T09:19:53.211Z"
   },
   {
    "duration": 8,
    "start_time": "2022-10-05T09:19:53.329Z"
   },
   {
    "duration": 70,
    "start_time": "2022-10-05T09:19:53.340Z"
   },
   {
    "duration": 31,
    "start_time": "2022-10-05T09:19:53.412Z"
   },
   {
    "duration": 38,
    "start_time": "2022-10-05T09:19:53.444Z"
   },
   {
    "duration": 27,
    "start_time": "2022-10-05T09:19:53.483Z"
   },
   {
    "duration": 187,
    "start_time": "2022-10-05T09:19:53.511Z"
   },
   {
    "duration": 31,
    "start_time": "2022-10-05T09:19:53.700Z"
   },
   {
    "duration": 4,
    "start_time": "2022-10-05T09:19:53.733Z"
   },
   {
    "duration": 16,
    "start_time": "2022-10-05T09:19:53.739Z"
   },
   {
    "duration": 16,
    "start_time": "2022-10-05T09:19:53.756Z"
   },
   {
    "duration": 47,
    "start_time": "2022-10-05T09:19:53.774Z"
   },
   {
    "duration": 4,
    "start_time": "2022-10-05T09:19:53.823Z"
   },
   {
    "duration": 58,
    "start_time": "2022-10-05T09:19:53.828Z"
   },
   {
    "duration": 40,
    "start_time": "2022-10-05T09:19:53.888Z"
   },
   {
    "duration": 27,
    "start_time": "2022-10-05T09:19:53.929Z"
   },
   {
    "duration": 9,
    "start_time": "2022-10-05T09:19:53.958Z"
   },
   {
    "duration": 21,
    "start_time": "2022-10-05T09:19:53.969Z"
   },
   {
    "duration": 2,
    "start_time": "2022-10-05T09:19:54.010Z"
   },
   {
    "duration": 40,
    "start_time": "2022-10-05T09:19:54.013Z"
   },
   {
    "duration": 9,
    "start_time": "2022-10-05T09:19:54.056Z"
   },
   {
    "duration": 10,
    "start_time": "2022-10-05T09:19:54.067Z"
   },
   {
    "duration": 30,
    "start_time": "2022-10-05T09:19:54.079Z"
   },
   {
    "duration": 2,
    "start_time": "2022-10-05T09:19:54.111Z"
   },
   {
    "duration": 10,
    "start_time": "2022-10-05T09:19:54.115Z"
   },
   {
    "duration": 16,
    "start_time": "2022-10-05T09:19:54.126Z"
   },
   {
    "duration": 26,
    "start_time": "2022-10-05T09:19:54.143Z"
   },
   {
    "duration": 3,
    "start_time": "2022-10-05T09:19:54.170Z"
   },
   {
    "duration": 987,
    "start_time": "2022-10-05T09:21:12.554Z"
   },
   {
    "duration": 412,
    "start_time": "2022-10-05T09:21:13.543Z"
   },
   {
    "duration": 40,
    "start_time": "2022-10-05T09:21:13.956Z"
   },
   {
    "duration": 63,
    "start_time": "2022-10-05T09:21:13.998Z"
   },
   {
    "duration": 47,
    "start_time": "2022-10-05T09:21:14.062Z"
   },
   {
    "duration": 58,
    "start_time": "2022-10-05T09:21:14.110Z"
   },
   {
    "duration": 13,
    "start_time": "2022-10-05T09:21:14.170Z"
   },
   {
    "duration": 127,
    "start_time": "2022-10-05T09:21:14.184Z"
   },
   {
    "duration": 8,
    "start_time": "2022-10-05T09:21:14.312Z"
   },
   {
    "duration": 55,
    "start_time": "2022-10-05T09:21:14.322Z"
   },
   {
    "duration": 52,
    "start_time": "2022-10-05T09:21:14.379Z"
   },
   {
    "duration": 41,
    "start_time": "2022-10-05T09:21:14.433Z"
   },
   {
    "duration": 14,
    "start_time": "2022-10-05T09:21:14.476Z"
   },
   {
    "duration": 192,
    "start_time": "2022-10-05T09:21:14.512Z"
   },
   {
    "duration": 26,
    "start_time": "2022-10-05T09:21:14.709Z"
   },
   {
    "duration": 4,
    "start_time": "2022-10-05T09:21:14.736Z"
   },
   {
    "duration": 8,
    "start_time": "2022-10-05T09:21:14.741Z"
   },
   {
    "duration": 9,
    "start_time": "2022-10-05T09:21:14.751Z"
   },
   {
    "duration": 57,
    "start_time": "2022-10-05T09:21:14.761Z"
   },
   {
    "duration": 4,
    "start_time": "2022-10-05T09:21:14.820Z"
   },
   {
    "duration": 53,
    "start_time": "2022-10-05T09:21:14.825Z"
   },
   {
    "duration": 45,
    "start_time": "2022-10-05T09:21:14.879Z"
   },
   {
    "duration": 27,
    "start_time": "2022-10-05T09:21:14.925Z"
   },
   {
    "duration": 9,
    "start_time": "2022-10-05T09:21:14.953Z"
   },
   {
    "duration": 17,
    "start_time": "2022-10-05T09:21:14.964Z"
   },
   {
    "duration": 2,
    "start_time": "2022-10-05T09:21:14.983Z"
   },
   {
    "duration": 60,
    "start_time": "2022-10-05T09:21:14.986Z"
   },
   {
    "duration": 7,
    "start_time": "2022-10-05T09:21:15.049Z"
   },
   {
    "duration": 13,
    "start_time": "2022-10-05T09:21:15.057Z"
   },
   {
    "duration": 2,
    "start_time": "2022-10-05T09:21:15.071Z"
   },
   {
    "duration": 7,
    "start_time": "2022-10-05T09:21:15.075Z"
   },
   {
    "duration": 32,
    "start_time": "2022-10-05T09:21:15.083Z"
   },
   {
    "duration": 4,
    "start_time": "2022-10-05T09:21:15.116Z"
   },
   {
    "duration": 40,
    "start_time": "2022-10-05T09:21:15.121Z"
   },
   {
    "duration": 3,
    "start_time": "2022-10-05T09:21:15.162Z"
   },
   {
    "duration": 991,
    "start_time": "2022-10-05T09:25:19.158Z"
   },
   {
    "duration": 426,
    "start_time": "2022-10-05T09:25:20.151Z"
   },
   {
    "duration": 42,
    "start_time": "2022-10-05T09:25:20.579Z"
   },
   {
    "duration": 64,
    "start_time": "2022-10-05T09:25:20.624Z"
   },
   {
    "duration": 43,
    "start_time": "2022-10-05T09:25:20.690Z"
   },
   {
    "duration": 81,
    "start_time": "2022-10-05T09:25:20.735Z"
   },
   {
    "duration": 18,
    "start_time": "2022-10-05T09:25:20.817Z"
   },
   {
    "duration": 119,
    "start_time": "2022-10-05T09:25:20.837Z"
   },
   {
    "duration": 8,
    "start_time": "2022-10-05T09:25:20.958Z"
   },
   {
    "duration": 66,
    "start_time": "2022-10-05T09:25:20.969Z"
   },
   {
    "duration": 29,
    "start_time": "2022-10-05T09:25:21.036Z"
   },
   {
    "duration": 48,
    "start_time": "2022-10-05T09:25:21.066Z"
   },
   {
    "duration": 10,
    "start_time": "2022-10-05T09:25:21.116Z"
   },
   {
    "duration": 172,
    "start_time": "2022-10-05T09:25:21.128Z"
   },
   {
    "duration": 32,
    "start_time": "2022-10-05T09:25:21.301Z"
   },
   {
    "duration": 4,
    "start_time": "2022-10-05T09:25:21.334Z"
   },
   {
    "duration": 17,
    "start_time": "2022-10-05T09:25:21.339Z"
   },
   {
    "duration": 5,
    "start_time": "2022-10-05T09:25:21.358Z"
   },
   {
    "duration": 53,
    "start_time": "2022-10-05T09:25:21.365Z"
   },
   {
    "duration": 4,
    "start_time": "2022-10-05T09:25:21.420Z"
   },
   {
    "duration": 58,
    "start_time": "2022-10-05T09:25:21.425Z"
   },
   {
    "duration": 36,
    "start_time": "2022-10-05T09:25:21.484Z"
   },
   {
    "duration": 25,
    "start_time": "2022-10-05T09:25:21.521Z"
   },
   {
    "duration": 9,
    "start_time": "2022-10-05T09:25:21.548Z"
   },
   {
    "duration": 20,
    "start_time": "2022-10-05T09:25:21.558Z"
   },
   {
    "duration": 2,
    "start_time": "2022-10-05T09:25:21.579Z"
   },
   {
    "duration": 61,
    "start_time": "2022-10-05T09:25:21.582Z"
   },
   {
    "duration": 10,
    "start_time": "2022-10-05T09:25:21.646Z"
   },
   {
    "duration": 15,
    "start_time": "2022-10-05T09:25:21.657Z"
   },
   {
    "duration": 16,
    "start_time": "2022-10-05T09:25:21.674Z"
   },
   {
    "duration": 3,
    "start_time": "2022-10-05T09:25:21.691Z"
   },
   {
    "duration": 20,
    "start_time": "2022-10-05T09:25:21.696Z"
   },
   {
    "duration": 5,
    "start_time": "2022-10-05T09:25:21.717Z"
   },
   {
    "duration": 25,
    "start_time": "2022-10-05T09:25:21.723Z"
   },
   {
    "duration": 2,
    "start_time": "2022-10-05T09:25:21.750Z"
   },
   {
    "duration": 4,
    "start_time": "2022-10-05T09:27:40.114Z"
   },
   {
    "duration": 33,
    "start_time": "2022-10-05T09:27:46.250Z"
   },
   {
    "duration": 44,
    "start_time": "2022-10-05T09:28:00.294Z"
   },
   {
    "duration": 16,
    "start_time": "2022-10-05T09:28:27.008Z"
   },
   {
    "duration": 30,
    "start_time": "2022-10-05T09:28:45.812Z"
   },
   {
    "duration": 117,
    "start_time": "2022-10-05T09:29:00.997Z"
   },
   {
    "duration": 17,
    "start_time": "2022-10-05T09:29:07.476Z"
   },
   {
    "duration": 20,
    "start_time": "2022-10-05T09:29:31.136Z"
   },
   {
    "duration": 46,
    "start_time": "2022-10-05T09:59:47.331Z"
   },
   {
    "duration": 1007,
    "start_time": "2022-10-05T10:04:34.763Z"
   },
   {
    "duration": 424,
    "start_time": "2022-10-05T10:04:35.772Z"
   },
   {
    "duration": 50,
    "start_time": "2022-10-05T10:04:36.198Z"
   },
   {
    "duration": 84,
    "start_time": "2022-10-05T10:04:36.250Z"
   },
   {
    "duration": 30,
    "start_time": "2022-10-05T10:04:36.336Z"
   },
   {
    "duration": 87,
    "start_time": "2022-10-05T10:04:36.368Z"
   },
   {
    "duration": 16,
    "start_time": "2022-10-05T10:04:36.456Z"
   },
   {
    "duration": 135,
    "start_time": "2022-10-05T10:04:36.474Z"
   },
   {
    "duration": 9,
    "start_time": "2022-10-05T10:04:36.610Z"
   },
   {
    "duration": 57,
    "start_time": "2022-10-05T10:04:36.622Z"
   },
   {
    "duration": 47,
    "start_time": "2022-10-05T10:04:36.681Z"
   },
   {
    "duration": 36,
    "start_time": "2022-10-05T10:04:36.730Z"
   },
   {
    "duration": 12,
    "start_time": "2022-10-05T10:04:36.767Z"
   },
   {
    "duration": 192,
    "start_time": "2022-10-05T10:04:36.781Z"
   },
   {
    "duration": 35,
    "start_time": "2022-10-05T10:04:36.975Z"
   },
   {
    "duration": 5,
    "start_time": "2022-10-05T10:04:37.012Z"
   },
   {
    "duration": 6,
    "start_time": "2022-10-05T10:04:37.019Z"
   },
   {
    "duration": 8,
    "start_time": "2022-10-05T10:04:37.026Z"
   },
   {
    "duration": 42,
    "start_time": "2022-10-05T10:04:37.035Z"
   },
   {
    "duration": 4,
    "start_time": "2022-10-05T10:04:37.079Z"
   },
   {
    "duration": 82,
    "start_time": "2022-10-05T10:04:37.084Z"
   },
   {
    "duration": 27,
    "start_time": "2022-10-05T10:04:37.167Z"
   },
   {
    "duration": 37,
    "start_time": "2022-10-05T10:04:37.196Z"
   },
   {
    "duration": 11,
    "start_time": "2022-10-05T10:04:37.235Z"
   },
   {
    "duration": 19,
    "start_time": "2022-10-05T10:04:37.248Z"
   },
   {
    "duration": 4,
    "start_time": "2022-10-05T10:04:37.269Z"
   },
   {
    "duration": 66,
    "start_time": "2022-10-05T10:04:37.275Z"
   },
   {
    "duration": 7,
    "start_time": "2022-10-05T10:04:37.344Z"
   },
   {
    "duration": 13,
    "start_time": "2022-10-05T10:04:37.352Z"
   },
   {
    "duration": 3,
    "start_time": "2022-10-05T10:04:37.366Z"
   },
   {
    "duration": 11,
    "start_time": "2022-10-05T10:04:37.370Z"
   },
   {
    "duration": 28,
    "start_time": "2022-10-05T10:04:37.383Z"
   },
   {
    "duration": 16,
    "start_time": "2022-10-05T10:04:37.413Z"
   },
   {
    "duration": 3,
    "start_time": "2022-10-05T10:04:37.430Z"
   },
   {
    "duration": 68,
    "start_time": "2022-10-05T10:06:11.635Z"
   },
   {
    "duration": 1108,
    "start_time": "2022-10-05T10:06:41.778Z"
   },
   {
    "duration": 548,
    "start_time": "2022-10-05T10:06:42.888Z"
   },
   {
    "duration": 43,
    "start_time": "2022-10-05T10:06:43.437Z"
   },
   {
    "duration": 72,
    "start_time": "2022-10-05T10:06:43.482Z"
   },
   {
    "duration": 54,
    "start_time": "2022-10-05T10:06:43.555Z"
   },
   {
    "duration": 63,
    "start_time": "2022-10-05T10:06:43.611Z"
   },
   {
    "duration": 44,
    "start_time": "2022-10-05T10:06:43.675Z"
   },
   {
    "duration": 118,
    "start_time": "2022-10-05T10:06:43.722Z"
   },
   {
    "duration": 11,
    "start_time": "2022-10-05T10:06:43.842Z"
   },
   {
    "duration": 69,
    "start_time": "2022-10-05T10:06:43.855Z"
   },
   {
    "duration": 31,
    "start_time": "2022-10-05T10:06:43.925Z"
   },
   {
    "duration": 35,
    "start_time": "2022-10-05T10:06:43.958Z"
   },
   {
    "duration": 12,
    "start_time": "2022-10-05T10:06:44.008Z"
   },
   {
    "duration": 183,
    "start_time": "2022-10-05T10:06:44.022Z"
   },
   {
    "duration": 28,
    "start_time": "2022-10-05T10:06:44.209Z"
   },
   {
    "duration": 5,
    "start_time": "2022-10-05T10:06:44.238Z"
   },
   {
    "duration": 6,
    "start_time": "2022-10-05T10:06:44.245Z"
   },
   {
    "duration": 8,
    "start_time": "2022-10-05T10:06:44.252Z"
   },
   {
    "duration": 101,
    "start_time": "2022-10-05T10:06:44.262Z"
   },
   {
    "duration": 5,
    "start_time": "2022-10-05T10:06:44.364Z"
   },
   {
    "duration": 81,
    "start_time": "2022-10-05T10:06:44.371Z"
   },
   {
    "duration": 35,
    "start_time": "2022-10-05T10:06:44.454Z"
   },
   {
    "duration": 52,
    "start_time": "2022-10-05T10:06:44.490Z"
   },
   {
    "duration": 14,
    "start_time": "2022-10-05T10:06:44.545Z"
   },
   {
    "duration": 34,
    "start_time": "2022-10-05T10:06:44.561Z"
   },
   {
    "duration": 13,
    "start_time": "2022-10-05T10:06:44.597Z"
   },
   {
    "duration": 59,
    "start_time": "2022-10-05T10:06:44.613Z"
   },
   {
    "duration": 98,
    "start_time": "2022-10-05T10:06:44.677Z"
   },
   {
    "duration": 11,
    "start_time": "2022-10-05T10:06:44.777Z"
   },
   {
    "duration": 20,
    "start_time": "2022-10-05T10:06:44.790Z"
   },
   {
    "duration": 11,
    "start_time": "2022-10-05T10:06:44.812Z"
   },
   {
    "duration": 5,
    "start_time": "2022-10-05T10:06:44.825Z"
   },
   {
    "duration": 20,
    "start_time": "2022-10-05T10:06:44.833Z"
   },
   {
    "duration": 6,
    "start_time": "2022-10-05T10:06:44.855Z"
   },
   {
    "duration": 48,
    "start_time": "2022-10-05T10:06:44.862Z"
   },
   {
    "duration": 3,
    "start_time": "2022-10-05T10:06:44.912Z"
   },
   {
    "duration": 999,
    "start_time": "2022-10-05T10:07:20.456Z"
   },
   {
    "duration": 432,
    "start_time": "2022-10-05T10:07:21.457Z"
   },
   {
    "duration": 42,
    "start_time": "2022-10-05T10:07:21.890Z"
   },
   {
    "duration": 78,
    "start_time": "2022-10-05T10:07:21.934Z"
   },
   {
    "duration": 31,
    "start_time": "2022-10-05T10:07:22.014Z"
   },
   {
    "duration": 84,
    "start_time": "2022-10-05T10:07:22.047Z"
   },
   {
    "duration": 14,
    "start_time": "2022-10-05T10:07:22.133Z"
   },
   {
    "duration": 124,
    "start_time": "2022-10-05T10:07:22.149Z"
   },
   {
    "duration": 9,
    "start_time": "2022-10-05T10:07:22.275Z"
   },
   {
    "duration": 70,
    "start_time": "2022-10-05T10:07:22.286Z"
   },
   {
    "duration": 28,
    "start_time": "2022-10-05T10:07:22.358Z"
   },
   {
    "duration": 47,
    "start_time": "2022-10-05T10:07:22.387Z"
   },
   {
    "duration": 13,
    "start_time": "2022-10-05T10:07:22.436Z"
   },
   {
    "duration": 191,
    "start_time": "2022-10-05T10:07:22.453Z"
   },
   {
    "duration": 29,
    "start_time": "2022-10-05T10:07:22.646Z"
   },
   {
    "duration": 4,
    "start_time": "2022-10-05T10:07:22.677Z"
   },
   {
    "duration": 26,
    "start_time": "2022-10-05T10:07:22.683Z"
   },
   {
    "duration": 6,
    "start_time": "2022-10-05T10:07:22.710Z"
   },
   {
    "duration": 47,
    "start_time": "2022-10-05T10:07:22.717Z"
   },
   {
    "duration": 6,
    "start_time": "2022-10-05T10:07:22.766Z"
   },
   {
    "duration": 74,
    "start_time": "2022-10-05T10:07:22.774Z"
   },
   {
    "duration": 27,
    "start_time": "2022-10-05T10:07:22.850Z"
   },
   {
    "duration": 46,
    "start_time": "2022-10-05T10:07:22.878Z"
   },
   {
    "duration": 10,
    "start_time": "2022-10-05T10:07:22.925Z"
   },
   {
    "duration": 22,
    "start_time": "2022-10-05T10:07:22.937Z"
   },
   {
    "duration": 3,
    "start_time": "2022-10-05T10:07:22.960Z"
   },
   {
    "duration": 60,
    "start_time": "2022-10-05T10:07:22.964Z"
   },
   {
    "duration": 49,
    "start_time": "2022-10-05T10:07:23.025Z"
   },
   {
    "duration": 33,
    "start_time": "2022-10-05T10:07:23.076Z"
   },
   {
    "duration": 12,
    "start_time": "2022-10-05T10:07:23.111Z"
   },
   {
    "duration": 11,
    "start_time": "2022-10-05T10:07:23.125Z"
   },
   {
    "duration": 5,
    "start_time": "2022-10-05T10:07:23.137Z"
   },
   {
    "duration": 11,
    "start_time": "2022-10-05T10:07:23.143Z"
   },
   {
    "duration": 18,
    "start_time": "2022-10-05T10:07:23.155Z"
   },
   {
    "duration": 16,
    "start_time": "2022-10-05T10:07:23.174Z"
   },
   {
    "duration": 2,
    "start_time": "2022-10-05T10:07:23.209Z"
   },
   {
    "duration": 1054,
    "start_time": "2022-10-05T10:07:35.781Z"
   },
   {
    "duration": 434,
    "start_time": "2022-10-05T10:07:36.836Z"
   },
   {
    "duration": 53,
    "start_time": "2022-10-05T10:07:37.272Z"
   },
   {
    "duration": 62,
    "start_time": "2022-10-05T10:07:37.327Z"
   },
   {
    "duration": 46,
    "start_time": "2022-10-05T10:07:37.391Z"
   },
   {
    "duration": 82,
    "start_time": "2022-10-05T10:07:37.439Z"
   },
   {
    "duration": 14,
    "start_time": "2022-10-05T10:07:37.523Z"
   },
   {
    "duration": 116,
    "start_time": "2022-10-05T10:07:37.538Z"
   },
   {
    "duration": 8,
    "start_time": "2022-10-05T10:07:37.655Z"
   },
   {
    "duration": 68,
    "start_time": "2022-10-05T10:07:37.665Z"
   },
   {
    "duration": 28,
    "start_time": "2022-10-05T10:07:37.735Z"
   },
   {
    "duration": 48,
    "start_time": "2022-10-05T10:07:37.765Z"
   },
   {
    "duration": 11,
    "start_time": "2022-10-05T10:07:37.815Z"
   },
   {
    "duration": 178,
    "start_time": "2022-10-05T10:07:37.827Z"
   },
   {
    "duration": 28,
    "start_time": "2022-10-05T10:07:38.006Z"
   },
   {
    "duration": 5,
    "start_time": "2022-10-05T10:07:38.036Z"
   },
   {
    "duration": 6,
    "start_time": "2022-10-05T10:07:38.043Z"
   },
   {
    "duration": 6,
    "start_time": "2022-10-05T10:07:38.051Z"
   },
   {
    "duration": 73,
    "start_time": "2022-10-05T10:07:38.058Z"
   },
   {
    "duration": 4,
    "start_time": "2022-10-05T10:07:38.133Z"
   },
   {
    "duration": 71,
    "start_time": "2022-10-05T10:07:38.139Z"
   },
   {
    "duration": 29,
    "start_time": "2022-10-05T10:07:38.212Z"
   },
   {
    "duration": 27,
    "start_time": "2022-10-05T10:07:38.242Z"
   },
   {
    "duration": 9,
    "start_time": "2022-10-05T10:07:38.271Z"
   },
   {
    "duration": 48,
    "start_time": "2022-10-05T10:07:38.281Z"
   },
   {
    "duration": 2,
    "start_time": "2022-10-05T10:07:38.330Z"
   },
   {
    "duration": 39,
    "start_time": "2022-10-05T10:07:38.334Z"
   },
   {
    "duration": 73,
    "start_time": "2022-10-05T10:07:38.376Z"
   },
   {
    "duration": 8,
    "start_time": "2022-10-05T10:07:38.451Z"
   },
   {
    "duration": 13,
    "start_time": "2022-10-05T10:07:38.460Z"
   },
   {
    "duration": 36,
    "start_time": "2022-10-05T10:07:38.474Z"
   },
   {
    "duration": 3,
    "start_time": "2022-10-05T10:07:38.512Z"
   },
   {
    "duration": 11,
    "start_time": "2022-10-05T10:07:38.516Z"
   },
   {
    "duration": 6,
    "start_time": "2022-10-05T10:07:38.529Z"
   },
   {
    "duration": 17,
    "start_time": "2022-10-05T10:07:38.536Z"
   },
   {
    "duration": 3,
    "start_time": "2022-10-05T10:07:38.554Z"
   },
   {
    "duration": 15,
    "start_time": "2022-10-05T10:09:14.731Z"
   },
   {
    "duration": 16,
    "start_time": "2022-10-05T10:15:26.292Z"
   },
   {
    "duration": 22,
    "start_time": "2022-10-05T10:15:31.962Z"
   },
   {
    "duration": 11,
    "start_time": "2022-10-05T10:15:56.152Z"
   },
   {
    "duration": 1108,
    "start_time": "2022-10-05T10:16:06.283Z"
   },
   {
    "duration": 465,
    "start_time": "2022-10-05T10:16:07.393Z"
   },
   {
    "duration": 46,
    "start_time": "2022-10-05T10:16:07.860Z"
   },
   {
    "duration": 120,
    "start_time": "2022-10-05T10:16:07.910Z"
   },
   {
    "duration": 37,
    "start_time": "2022-10-05T10:16:08.032Z"
   },
   {
    "duration": 82,
    "start_time": "2022-10-05T10:16:08.071Z"
   },
   {
    "duration": 18,
    "start_time": "2022-10-05T10:16:08.155Z"
   },
   {
    "duration": 175,
    "start_time": "2022-10-05T10:16:08.175Z"
   },
   {
    "duration": 8,
    "start_time": "2022-10-05T10:16:08.352Z"
   },
   {
    "duration": 67,
    "start_time": "2022-10-05T10:16:08.363Z"
   },
   {
    "duration": 29,
    "start_time": "2022-10-05T10:16:08.432Z"
   },
   {
    "duration": 54,
    "start_time": "2022-10-05T10:16:08.463Z"
   },
   {
    "duration": 17,
    "start_time": "2022-10-05T10:16:08.518Z"
   },
   {
    "duration": 178,
    "start_time": "2022-10-05T10:16:08.537Z"
   },
   {
    "duration": 43,
    "start_time": "2022-10-05T10:16:08.717Z"
   },
   {
    "duration": 5,
    "start_time": "2022-10-05T10:16:08.762Z"
   },
   {
    "duration": 11,
    "start_time": "2022-10-05T10:16:08.769Z"
   },
   {
    "duration": 29,
    "start_time": "2022-10-05T10:16:08.782Z"
   },
   {
    "duration": 54,
    "start_time": "2022-10-05T10:16:08.812Z"
   },
   {
    "duration": 4,
    "start_time": "2022-10-05T10:16:08.868Z"
   },
   {
    "duration": 81,
    "start_time": "2022-10-05T10:16:08.873Z"
   },
   {
    "duration": 38,
    "start_time": "2022-10-05T10:16:08.956Z"
   },
   {
    "duration": 58,
    "start_time": "2022-10-05T10:16:08.996Z"
   },
   {
    "duration": 15,
    "start_time": "2022-10-05T10:16:09.056Z"
   },
   {
    "duration": 53,
    "start_time": "2022-10-05T10:16:09.073Z"
   },
   {
    "duration": 37,
    "start_time": "2022-10-05T10:16:09.128Z"
   },
   {
    "duration": 24,
    "start_time": "2022-10-05T10:16:09.166Z"
   },
   {
    "duration": 53,
    "start_time": "2022-10-05T10:16:09.210Z"
   },
   {
    "duration": 11,
    "start_time": "2022-10-05T10:16:09.264Z"
   },
   {
    "duration": 38,
    "start_time": "2022-10-05T10:16:09.276Z"
   },
   {
    "duration": 19,
    "start_time": "2022-10-05T10:16:09.316Z"
   },
   {
    "duration": 9,
    "start_time": "2022-10-05T10:16:09.338Z"
   },
   {
    "duration": 22,
    "start_time": "2022-10-05T10:16:09.349Z"
   },
   {
    "duration": 15,
    "start_time": "2022-10-05T10:16:09.373Z"
   },
   {
    "duration": 29,
    "start_time": "2022-10-05T10:16:09.390Z"
   },
   {
    "duration": 7,
    "start_time": "2022-10-05T10:16:09.421Z"
   },
   {
    "duration": 5,
    "start_time": "2022-10-05T10:16:09.431Z"
   },
   {
    "duration": 31,
    "start_time": "2022-10-05T10:21:18.991Z"
   },
   {
    "duration": 1041,
    "start_time": "2022-10-05T10:21:26.837Z"
   },
   {
    "duration": 422,
    "start_time": "2022-10-05T10:21:27.880Z"
   },
   {
    "duration": 46,
    "start_time": "2022-10-05T10:21:28.303Z"
   },
   {
    "duration": 85,
    "start_time": "2022-10-05T10:21:28.350Z"
   },
   {
    "duration": 32,
    "start_time": "2022-10-05T10:21:28.437Z"
   },
   {
    "duration": 84,
    "start_time": "2022-10-05T10:21:28.471Z"
   },
   {
    "duration": 13,
    "start_time": "2022-10-05T10:21:28.556Z"
   },
   {
    "duration": 147,
    "start_time": "2022-10-05T10:21:28.571Z"
   },
   {
    "duration": 12,
    "start_time": "2022-10-05T10:21:28.720Z"
   },
   {
    "duration": 58,
    "start_time": "2022-10-05T10:21:28.734Z"
   },
   {
    "duration": 37,
    "start_time": "2022-10-05T10:21:28.793Z"
   },
   {
    "duration": 33,
    "start_time": "2022-10-05T10:21:28.832Z"
   },
   {
    "duration": 10,
    "start_time": "2022-10-05T10:21:28.867Z"
   },
   {
    "duration": 194,
    "start_time": "2022-10-05T10:21:28.880Z"
   },
   {
    "duration": 36,
    "start_time": "2022-10-05T10:21:29.076Z"
   },
   {
    "duration": 4,
    "start_time": "2022-10-05T10:21:29.114Z"
   },
   {
    "duration": 7,
    "start_time": "2022-10-05T10:21:29.120Z"
   },
   {
    "duration": 8,
    "start_time": "2022-10-05T10:21:29.128Z"
   },
   {
    "duration": 43,
    "start_time": "2022-10-05T10:21:29.138Z"
   },
   {
    "duration": 27,
    "start_time": "2022-10-05T10:21:29.182Z"
   },
   {
    "duration": 55,
    "start_time": "2022-10-05T10:21:29.210Z"
   },
   {
    "duration": 46,
    "start_time": "2022-10-05T10:21:29.267Z"
   },
   {
    "duration": 27,
    "start_time": "2022-10-05T10:21:29.315Z"
   },
   {
    "duration": 9,
    "start_time": "2022-10-05T10:21:29.343Z"
   },
   {
    "duration": 18,
    "start_time": "2022-10-05T10:21:29.353Z"
   },
   {
    "duration": 63,
    "start_time": "2022-10-05T10:21:29.372Z"
   },
   {
    "duration": 8,
    "start_time": "2022-10-05T10:21:29.436Z"
   },
   {
    "duration": 70,
    "start_time": "2022-10-05T10:21:29.446Z"
   },
   {
    "duration": 11,
    "start_time": "2022-10-05T10:21:29.518Z"
   },
   {
    "duration": 3,
    "start_time": "2022-10-05T10:21:29.530Z"
   },
   {
    "duration": 11,
    "start_time": "2022-10-05T10:21:29.534Z"
   },
   {
    "duration": 6,
    "start_time": "2022-10-05T10:21:29.547Z"
   },
   {
    "duration": 16,
    "start_time": "2022-10-05T10:21:29.554Z"
   },
   {
    "duration": 2,
    "start_time": "2022-10-05T10:21:29.609Z"
   },
   {
    "duration": 5,
    "start_time": "2022-10-05T10:21:29.613Z"
   },
   {
    "duration": 27,
    "start_time": "2022-10-05T10:21:50.682Z"
   },
   {
    "duration": 1113,
    "start_time": "2022-10-05T10:23:24.119Z"
   },
   {
    "duration": 433,
    "start_time": "2022-10-05T10:23:25.234Z"
   },
   {
    "duration": 44,
    "start_time": "2022-10-05T10:23:25.668Z"
   },
   {
    "duration": 63,
    "start_time": "2022-10-05T10:23:25.714Z"
   },
   {
    "duration": 54,
    "start_time": "2022-10-05T10:23:25.780Z"
   },
   {
    "duration": 80,
    "start_time": "2022-10-05T10:23:25.836Z"
   },
   {
    "duration": 14,
    "start_time": "2022-10-05T10:23:25.918Z"
   },
   {
    "duration": 120,
    "start_time": "2022-10-05T10:23:25.934Z"
   },
   {
    "duration": 8,
    "start_time": "2022-10-05T10:23:26.055Z"
   },
   {
    "duration": 68,
    "start_time": "2022-10-05T10:23:26.064Z"
   },
   {
    "duration": 29,
    "start_time": "2022-10-05T10:23:26.134Z"
   },
   {
    "duration": 53,
    "start_time": "2022-10-05T10:23:26.164Z"
   },
   {
    "duration": 13,
    "start_time": "2022-10-05T10:23:26.219Z"
   },
   {
    "duration": 193,
    "start_time": "2022-10-05T10:23:26.234Z"
   },
   {
    "duration": 27,
    "start_time": "2022-10-05T10:23:26.428Z"
   },
   {
    "duration": 4,
    "start_time": "2022-10-05T10:23:26.457Z"
   },
   {
    "duration": 6,
    "start_time": "2022-10-05T10:23:26.462Z"
   },
   {
    "duration": 7,
    "start_time": "2022-10-05T10:23:26.469Z"
   },
   {
    "duration": 75,
    "start_time": "2022-10-05T10:23:26.478Z"
   },
   {
    "duration": 5,
    "start_time": "2022-10-05T10:23:26.555Z"
   },
   {
    "duration": 96,
    "start_time": "2022-10-05T10:23:26.562Z"
   },
   {
    "duration": 27,
    "start_time": "2022-10-05T10:23:26.659Z"
   },
   {
    "duration": 38,
    "start_time": "2022-10-05T10:23:26.688Z"
   },
   {
    "duration": 10,
    "start_time": "2022-10-05T10:23:26.727Z"
   },
   {
    "duration": 19,
    "start_time": "2022-10-05T10:23:26.738Z"
   },
   {
    "duration": 52,
    "start_time": "2022-10-05T10:23:26.759Z"
   },
   {
    "duration": 9,
    "start_time": "2022-10-05T10:23:26.812Z"
   },
   {
    "duration": 49,
    "start_time": "2022-10-05T10:23:26.822Z"
   },
   {
    "duration": 10,
    "start_time": "2022-10-05T10:23:26.873Z"
   },
   {
    "duration": 25,
    "start_time": "2022-10-05T10:23:26.885Z"
   },
   {
    "duration": 15,
    "start_time": "2022-10-05T10:23:26.912Z"
   },
   {
    "duration": 7,
    "start_time": "2022-10-05T10:23:26.929Z"
   },
   {
    "duration": 17,
    "start_time": "2022-10-05T10:23:26.937Z"
   },
   {
    "duration": 2,
    "start_time": "2022-10-05T10:23:26.956Z"
   },
   {
    "duration": 12,
    "start_time": "2022-10-05T10:23:26.960Z"
   },
   {
    "duration": 5939,
    "start_time": "2022-10-05T13:18:50.209Z"
   },
   {
    "duration": 10477,
    "start_time": "2022-10-05T13:30:59.876Z"
   },
   {
    "duration": 9798,
    "start_time": "2022-10-05T13:31:39.730Z"
   },
   {
    "duration": 117,
    "start_time": "2022-10-05T13:33:25.381Z"
   },
   {
    "duration": 154,
    "start_time": "2022-10-05T13:33:41.999Z"
   },
   {
    "duration": 154,
    "start_time": "2022-10-05T13:33:46.211Z"
   },
   {
    "duration": 11,
    "start_time": "2022-10-05T13:53:28.658Z"
   },
   {
    "duration": 5,
    "start_time": "2022-10-05T13:53:33.062Z"
   },
   {
    "duration": 17,
    "start_time": "2022-10-05T14:01:07.225Z"
   },
   {
    "duration": 4,
    "start_time": "2022-10-05T14:02:11.130Z"
   },
   {
    "duration": 12,
    "start_time": "2022-10-05T14:02:12.536Z"
   },
   {
    "duration": 1019,
    "start_time": "2022-10-05T14:04:12.230Z"
   },
   {
    "duration": 429,
    "start_time": "2022-10-05T14:04:13.251Z"
   },
   {
    "duration": 43,
    "start_time": "2022-10-05T14:04:13.682Z"
   },
   {
    "duration": 62,
    "start_time": "2022-10-05T14:04:13.727Z"
   },
   {
    "duration": 44,
    "start_time": "2022-10-05T14:04:13.790Z"
   },
   {
    "duration": 82,
    "start_time": "2022-10-05T14:04:13.835Z"
   },
   {
    "duration": 14,
    "start_time": "2022-10-05T14:04:13.918Z"
   },
   {
    "duration": 119,
    "start_time": "2022-10-05T14:04:13.933Z"
   },
   {
    "duration": 7,
    "start_time": "2022-10-05T14:04:14.054Z"
   },
   {
    "duration": 63,
    "start_time": "2022-10-05T14:04:14.064Z"
   },
   {
    "duration": 30,
    "start_time": "2022-10-05T14:04:14.129Z"
   },
   {
    "duration": 49,
    "start_time": "2022-10-05T14:04:14.160Z"
   },
   {
    "duration": 11,
    "start_time": "2022-10-05T14:04:14.211Z"
   },
   {
    "duration": 184,
    "start_time": "2022-10-05T14:04:14.224Z"
   },
   {
    "duration": 36,
    "start_time": "2022-10-05T14:04:14.410Z"
   },
   {
    "duration": 6,
    "start_time": "2022-10-05T14:04:14.447Z"
   },
   {
    "duration": 25,
    "start_time": "2022-10-05T14:04:14.455Z"
   },
   {
    "duration": 10,
    "start_time": "2022-10-05T14:04:14.482Z"
   },
   {
    "duration": 63,
    "start_time": "2022-10-05T14:04:14.494Z"
   },
   {
    "duration": 4,
    "start_time": "2022-10-05T14:04:14.559Z"
   },
   {
    "duration": 81,
    "start_time": "2022-10-05T14:04:14.565Z"
   },
   {
    "duration": 27,
    "start_time": "2022-10-05T14:04:14.648Z"
   },
   {
    "duration": 45,
    "start_time": "2022-10-05T14:04:14.677Z"
   },
   {
    "duration": 10,
    "start_time": "2022-10-05T14:04:14.724Z"
   },
   {
    "duration": 22,
    "start_time": "2022-10-05T14:04:14.736Z"
   },
   {
    "duration": 25,
    "start_time": "2022-10-05T14:04:14.760Z"
   },
   {
    "duration": 9,
    "start_time": "2022-10-05T14:04:14.809Z"
   },
   {
    "duration": 12,
    "start_time": "2022-10-05T14:04:14.821Z"
   },
   {
    "duration": 11,
    "start_time": "2022-10-05T14:04:14.834Z"
   },
   {
    "duration": 18,
    "start_time": "2022-10-05T14:04:14.846Z"
   },
   {
    "duration": 4,
    "start_time": "2022-10-05T14:04:14.866Z"
   },
   {
    "duration": 128,
    "start_time": "2022-10-05T14:04:14.871Z"
   },
   {
    "duration": 0,
    "start_time": "2022-10-05T14:04:15.000Z"
   },
   {
    "duration": 0,
    "start_time": "2022-10-05T14:04:15.009Z"
   },
   {
    "duration": 9,
    "start_time": "2022-10-05T14:05:14.581Z"
   },
   {
    "duration": 3,
    "start_time": "2022-10-05T14:05:34.110Z"
   },
   {
    "duration": 2,
    "start_time": "2022-10-05T14:05:50.564Z"
   },
   {
    "duration": 1108,
    "start_time": "2022-10-05T14:06:04.648Z"
   },
   {
    "duration": 480,
    "start_time": "2022-10-05T14:06:05.757Z"
   },
   {
    "duration": 46,
    "start_time": "2022-10-05T14:06:06.239Z"
   },
   {
    "duration": 74,
    "start_time": "2022-10-05T14:06:06.286Z"
   },
   {
    "duration": 29,
    "start_time": "2022-10-05T14:06:06.362Z"
   },
   {
    "duration": 60,
    "start_time": "2022-10-05T14:06:06.408Z"
   },
   {
    "duration": 18,
    "start_time": "2022-10-05T14:06:06.470Z"
   },
   {
    "duration": 122,
    "start_time": "2022-10-05T14:06:06.509Z"
   },
   {
    "duration": 8,
    "start_time": "2022-10-05T14:06:06.632Z"
   },
   {
    "duration": 68,
    "start_time": "2022-10-05T14:06:06.642Z"
   },
   {
    "duration": 30,
    "start_time": "2022-10-05T14:06:06.711Z"
   },
   {
    "duration": 35,
    "start_time": "2022-10-05T14:06:06.742Z"
   },
   {
    "duration": 31,
    "start_time": "2022-10-05T14:06:06.779Z"
   },
   {
    "duration": 174,
    "start_time": "2022-10-05T14:06:06.813Z"
   },
   {
    "duration": 36,
    "start_time": "2022-10-05T14:06:06.989Z"
   },
   {
    "duration": 4,
    "start_time": "2022-10-05T14:06:07.027Z"
   },
   {
    "duration": 7,
    "start_time": "2022-10-05T14:06:07.032Z"
   },
   {
    "duration": 6,
    "start_time": "2022-10-05T14:06:07.040Z"
   },
   {
    "duration": 62,
    "start_time": "2022-10-05T14:06:07.047Z"
   },
   {
    "duration": 5,
    "start_time": "2022-10-05T14:06:07.110Z"
   },
   {
    "duration": 57,
    "start_time": "2022-10-05T14:06:07.117Z"
   },
   {
    "duration": 46,
    "start_time": "2022-10-05T14:06:07.175Z"
   },
   {
    "duration": 27,
    "start_time": "2022-10-05T14:06:07.223Z"
   },
   {
    "duration": 10,
    "start_time": "2022-10-05T14:06:07.252Z"
   },
   {
    "duration": 22,
    "start_time": "2022-10-05T14:06:07.264Z"
   },
   {
    "duration": 43,
    "start_time": "2022-10-05T14:06:07.288Z"
   },
   {
    "duration": 8,
    "start_time": "2022-10-05T14:06:07.332Z"
   },
   {
    "duration": 12,
    "start_time": "2022-10-05T14:06:07.341Z"
   },
   {
    "duration": 10,
    "start_time": "2022-10-05T14:06:07.354Z"
   },
   {
    "duration": 15,
    "start_time": "2022-10-05T14:06:07.365Z"
   },
   {
    "duration": 3,
    "start_time": "2022-10-05T14:06:07.382Z"
   },
   {
    "duration": 11,
    "start_time": "2022-10-05T14:06:07.409Z"
   },
   {
    "duration": 3,
    "start_time": "2022-10-05T14:06:07.421Z"
   },
   {
    "duration": 4,
    "start_time": "2022-10-05T14:06:07.426Z"
   },
   {
    "duration": 7,
    "start_time": "2022-10-05T14:06:17.460Z"
   },
   {
    "duration": 12,
    "start_time": "2022-10-05T14:06:22.458Z"
   },
   {
    "duration": 20,
    "start_time": "2022-10-05T14:08:27.928Z"
   },
   {
    "duration": 211,
    "start_time": "2022-10-05T14:09:27.058Z"
   },
   {
    "duration": 210,
    "start_time": "2022-10-05T14:11:59.286Z"
   },
   {
    "duration": 215,
    "start_time": "2022-10-05T14:16:52.515Z"
   },
   {
    "duration": 3,
    "start_time": "2022-10-05T14:18:15.667Z"
   },
   {
    "duration": 21,
    "start_time": "2022-10-05T14:18:22.288Z"
   },
   {
    "duration": 23,
    "start_time": "2022-10-05T14:18:49.633Z"
   },
   {
    "duration": 28,
    "start_time": "2022-10-05T14:18:54.364Z"
   },
   {
    "duration": 481,
    "start_time": "2022-10-05T14:21:53.375Z"
   },
   {
    "duration": 21,
    "start_time": "2022-10-05T14:22:08.053Z"
   },
   {
    "duration": 23,
    "start_time": "2022-10-05T14:23:15.069Z"
   },
   {
    "duration": 14,
    "start_time": "2022-10-05T14:23:29.965Z"
   },
   {
    "duration": 21,
    "start_time": "2022-10-05T14:23:37.621Z"
   },
   {
    "duration": 229,
    "start_time": "2022-10-05T14:24:12.178Z"
   },
   {
    "duration": 1294,
    "start_time": "2022-10-05T14:25:06.895Z"
   },
   {
    "duration": 661,
    "start_time": "2022-10-05T14:25:08.191Z"
   },
   {
    "duration": 42,
    "start_time": "2022-10-05T14:25:08.854Z"
   },
   {
    "duration": 70,
    "start_time": "2022-10-05T14:25:08.897Z"
   },
   {
    "duration": 56,
    "start_time": "2022-10-05T14:25:08.970Z"
   },
   {
    "duration": 61,
    "start_time": "2022-10-05T14:25:09.028Z"
   },
   {
    "duration": 19,
    "start_time": "2022-10-05T14:25:09.109Z"
   },
   {
    "duration": 121,
    "start_time": "2022-10-05T14:25:09.129Z"
   },
   {
    "duration": 10,
    "start_time": "2022-10-05T14:25:09.252Z"
   },
   {
    "duration": 81,
    "start_time": "2022-10-05T14:25:09.263Z"
   },
   {
    "duration": 31,
    "start_time": "2022-10-05T14:25:09.345Z"
   },
   {
    "duration": 51,
    "start_time": "2022-10-05T14:25:09.377Z"
   },
   {
    "duration": 12,
    "start_time": "2022-10-05T14:25:09.430Z"
   },
   {
    "duration": 202,
    "start_time": "2022-10-05T14:25:09.445Z"
   },
   {
    "duration": 26,
    "start_time": "2022-10-05T14:25:09.649Z"
   },
   {
    "duration": 4,
    "start_time": "2022-10-05T14:25:09.676Z"
   },
   {
    "duration": 7,
    "start_time": "2022-10-05T14:25:09.682Z"
   },
   {
    "duration": 8,
    "start_time": "2022-10-05T14:25:09.709Z"
   },
   {
    "duration": 51,
    "start_time": "2022-10-05T14:25:09.718Z"
   },
   {
    "duration": 4,
    "start_time": "2022-10-05T14:25:09.770Z"
   },
   {
    "duration": 71,
    "start_time": "2022-10-05T14:25:09.776Z"
   },
   {
    "duration": 27,
    "start_time": "2022-10-05T14:25:09.848Z"
   },
   {
    "duration": 49,
    "start_time": "2022-10-05T14:25:09.877Z"
   },
   {
    "duration": 10,
    "start_time": "2022-10-05T14:25:09.927Z"
   },
   {
    "duration": 25,
    "start_time": "2022-10-05T14:25:09.939Z"
   },
   {
    "duration": 24,
    "start_time": "2022-10-05T14:25:09.966Z"
   },
   {
    "duration": 127,
    "start_time": "2022-10-05T14:25:10.010Z"
   },
   {
    "duration": 0,
    "start_time": "2022-10-05T14:25:10.139Z"
   },
   {
    "duration": 0,
    "start_time": "2022-10-05T14:25:10.140Z"
   },
   {
    "duration": 0,
    "start_time": "2022-10-05T14:25:10.141Z"
   },
   {
    "duration": 0,
    "start_time": "2022-10-05T14:25:10.142Z"
   },
   {
    "duration": 0,
    "start_time": "2022-10-05T14:25:10.143Z"
   },
   {
    "duration": 0,
    "start_time": "2022-10-05T14:25:10.144Z"
   },
   {
    "duration": 0,
    "start_time": "2022-10-05T14:25:10.145Z"
   },
   {
    "duration": 9,
    "start_time": "2022-10-05T14:25:48.982Z"
   },
   {
    "duration": 5,
    "start_time": "2022-10-05T14:26:06.733Z"
   },
   {
    "duration": 29,
    "start_time": "2022-10-05T14:31:42.582Z"
   },
   {
    "duration": 4,
    "start_time": "2022-10-05T14:32:06.321Z"
   },
   {
    "duration": 26,
    "start_time": "2022-10-05T14:32:10.514Z"
   },
   {
    "duration": 10,
    "start_time": "2022-10-05T14:32:16.043Z"
   },
   {
    "duration": 30,
    "start_time": "2022-10-05T14:32:40.259Z"
   },
   {
    "duration": 8,
    "start_time": "2022-10-05T14:33:18.199Z"
   },
   {
    "duration": 8,
    "start_time": "2022-10-05T14:33:38.699Z"
   },
   {
    "duration": 1096,
    "start_time": "2022-10-05T14:35:32.143Z"
   },
   {
    "duration": 447,
    "start_time": "2022-10-05T14:35:33.241Z"
   },
   {
    "duration": 44,
    "start_time": "2022-10-05T14:35:33.689Z"
   },
   {
    "duration": 93,
    "start_time": "2022-10-05T14:35:33.735Z"
   },
   {
    "duration": 29,
    "start_time": "2022-10-05T14:35:33.829Z"
   },
   {
    "duration": 83,
    "start_time": "2022-10-05T14:35:33.859Z"
   },
   {
    "duration": 15,
    "start_time": "2022-10-05T14:35:33.944Z"
   },
   {
    "duration": 126,
    "start_time": "2022-10-05T14:35:33.961Z"
   },
   {
    "duration": 20,
    "start_time": "2022-10-05T14:35:34.089Z"
   },
   {
    "duration": 56,
    "start_time": "2022-10-05T14:35:34.111Z"
   },
   {
    "duration": 44,
    "start_time": "2022-10-05T14:35:34.169Z"
   },
   {
    "duration": 36,
    "start_time": "2022-10-05T14:35:34.215Z"
   },
   {
    "duration": 13,
    "start_time": "2022-10-05T14:35:34.253Z"
   },
   {
    "duration": 231,
    "start_time": "2022-10-05T14:35:34.267Z"
   },
   {
    "duration": 45,
    "start_time": "2022-10-05T14:35:34.500Z"
   },
   {
    "duration": 7,
    "start_time": "2022-10-05T14:35:34.547Z"
   },
   {
    "duration": 50,
    "start_time": "2022-10-05T14:35:34.556Z"
   },
   {
    "duration": 22,
    "start_time": "2022-10-05T14:35:34.608Z"
   },
   {
    "duration": 84,
    "start_time": "2022-10-05T14:35:34.632Z"
   },
   {
    "duration": 20,
    "start_time": "2022-10-05T14:35:34.718Z"
   },
   {
    "duration": 95,
    "start_time": "2022-10-05T14:35:34.740Z"
   },
   {
    "duration": 28,
    "start_time": "2022-10-05T14:35:34.837Z"
   },
   {
    "duration": 38,
    "start_time": "2022-10-05T14:35:34.867Z"
   },
   {
    "duration": 12,
    "start_time": "2022-10-05T14:35:34.908Z"
   },
   {
    "duration": 38,
    "start_time": "2022-10-05T14:35:34.921Z"
   },
   {
    "duration": 26,
    "start_time": "2022-10-05T14:35:34.961Z"
   },
   {
    "duration": 40,
    "start_time": "2022-10-05T14:35:34.989Z"
   },
   {
    "duration": 7,
    "start_time": "2022-10-05T14:35:35.032Z"
   },
   {
    "duration": 16,
    "start_time": "2022-10-05T14:35:35.041Z"
   },
   {
    "duration": 34,
    "start_time": "2022-10-05T14:35:35.059Z"
   },
   {
    "duration": 20,
    "start_time": "2022-10-05T14:35:35.095Z"
   },
   {
    "duration": 19,
    "start_time": "2022-10-05T14:35:35.116Z"
   },
   {
    "duration": 5,
    "start_time": "2022-10-05T14:35:35.136Z"
   },
   {
    "duration": 34,
    "start_time": "2022-10-05T14:35:35.143Z"
   },
   {
    "duration": 259,
    "start_time": "2022-10-05T14:35:35.178Z"
   },
   {
    "duration": 2,
    "start_time": "2022-10-05T14:35:35.438Z"
   },
   {
    "duration": 1047,
    "start_time": "2022-10-05T14:36:42.591Z"
   },
   {
    "duration": 465,
    "start_time": "2022-10-05T14:36:43.640Z"
   },
   {
    "duration": 44,
    "start_time": "2022-10-05T14:36:44.106Z"
   },
   {
    "duration": 88,
    "start_time": "2022-10-05T14:36:44.151Z"
   },
   {
    "duration": 29,
    "start_time": "2022-10-05T14:36:44.242Z"
   },
   {
    "duration": 81,
    "start_time": "2022-10-05T14:36:44.273Z"
   },
   {
    "duration": 15,
    "start_time": "2022-10-05T14:36:44.356Z"
   },
   {
    "duration": 165,
    "start_time": "2022-10-05T14:36:44.373Z"
   },
   {
    "duration": 11,
    "start_time": "2022-10-05T14:36:44.540Z"
   },
   {
    "duration": 81,
    "start_time": "2022-10-05T14:36:44.552Z"
   },
   {
    "duration": 37,
    "start_time": "2022-10-05T14:36:44.635Z"
   },
   {
    "duration": 56,
    "start_time": "2022-10-05T14:36:44.674Z"
   },
   {
    "duration": 13,
    "start_time": "2022-10-05T14:36:44.732Z"
   },
   {
    "duration": 193,
    "start_time": "2022-10-05T14:36:44.749Z"
   },
   {
    "duration": 28,
    "start_time": "2022-10-05T14:36:44.943Z"
   },
   {
    "duration": 5,
    "start_time": "2022-10-05T14:36:44.972Z"
   },
   {
    "duration": 8,
    "start_time": "2022-10-05T14:36:44.978Z"
   },
   {
    "duration": 5,
    "start_time": "2022-10-05T14:36:45.009Z"
   },
   {
    "duration": 57,
    "start_time": "2022-10-05T14:36:45.016Z"
   },
   {
    "duration": 4,
    "start_time": "2022-10-05T14:36:45.075Z"
   },
   {
    "duration": 67,
    "start_time": "2022-10-05T14:36:45.081Z"
   },
   {
    "duration": 27,
    "start_time": "2022-10-05T14:36:45.149Z"
   },
   {
    "duration": 37,
    "start_time": "2022-10-05T14:36:45.178Z"
   },
   {
    "duration": 10,
    "start_time": "2022-10-05T14:36:45.217Z"
   },
   {
    "duration": 23,
    "start_time": "2022-10-05T14:36:45.228Z"
   },
   {
    "duration": 28,
    "start_time": "2022-10-05T14:36:45.252Z"
   },
   {
    "duration": 38,
    "start_time": "2022-10-05T14:36:45.281Z"
   },
   {
    "duration": 12,
    "start_time": "2022-10-05T14:36:45.321Z"
   },
   {
    "duration": 8,
    "start_time": "2022-10-05T14:36:45.335Z"
   },
   {
    "duration": 15,
    "start_time": "2022-10-05T14:36:45.345Z"
   },
   {
    "duration": 10,
    "start_time": "2022-10-05T14:36:45.361Z"
   },
   {
    "duration": 37,
    "start_time": "2022-10-05T14:36:45.372Z"
   },
   {
    "duration": 4,
    "start_time": "2022-10-05T14:36:45.411Z"
   },
   {
    "duration": 15,
    "start_time": "2022-10-05T14:36:45.416Z"
   },
   {
    "duration": 236,
    "start_time": "2022-10-05T14:36:45.433Z"
   },
   {
    "duration": 3,
    "start_time": "2022-10-05T14:36:45.671Z"
   },
   {
    "duration": 202,
    "start_time": "2022-10-05T14:49:54.175Z"
   },
   {
    "duration": 1388,
    "start_time": "2022-10-05T20:07:53.365Z"
   },
   {
    "duration": 1339,
    "start_time": "2022-10-05T20:07:54.755Z"
   },
   {
    "duration": 68,
    "start_time": "2022-10-05T20:07:56.095Z"
   },
   {
    "duration": 118,
    "start_time": "2022-10-05T20:07:56.165Z"
   },
   {
    "duration": 57,
    "start_time": "2022-10-05T20:07:56.294Z"
   },
   {
    "duration": 92,
    "start_time": "2022-10-05T20:07:56.353Z"
   },
   {
    "duration": 24,
    "start_time": "2022-10-05T20:07:56.455Z"
   },
   {
    "duration": 150,
    "start_time": "2022-10-05T20:07:56.481Z"
   },
   {
    "duration": 17,
    "start_time": "2022-10-05T20:07:56.633Z"
   },
   {
    "duration": 107,
    "start_time": "2022-10-05T20:07:56.654Z"
   },
   {
    "duration": 40,
    "start_time": "2022-10-05T20:07:56.763Z"
   },
   {
    "duration": 52,
    "start_time": "2022-10-05T20:07:56.805Z"
   },
   {
    "duration": 13,
    "start_time": "2022-10-05T20:07:56.863Z"
   },
   {
    "duration": 211,
    "start_time": "2022-10-05T20:07:56.878Z"
   },
   {
    "duration": 29,
    "start_time": "2022-10-05T20:07:57.090Z"
   },
   {
    "duration": 38,
    "start_time": "2022-10-05T20:07:57.121Z"
   },
   {
    "duration": 9,
    "start_time": "2022-10-05T20:07:57.164Z"
   },
   {
    "duration": 7,
    "start_time": "2022-10-05T20:07:57.175Z"
   },
   {
    "duration": 45,
    "start_time": "2022-10-05T20:07:57.184Z"
   },
   {
    "duration": 6,
    "start_time": "2022-10-05T20:07:57.230Z"
   },
   {
    "duration": 87,
    "start_time": "2022-10-05T20:07:57.238Z"
   },
   {
    "duration": 41,
    "start_time": "2022-10-05T20:07:57.327Z"
   },
   {
    "duration": 36,
    "start_time": "2022-10-05T20:07:57.370Z"
   },
   {
    "duration": 9,
    "start_time": "2022-10-05T20:07:57.408Z"
   },
   {
    "duration": 36,
    "start_time": "2022-10-05T20:07:57.419Z"
   },
   {
    "duration": 28,
    "start_time": "2022-10-05T20:07:57.457Z"
   },
   {
    "duration": 11,
    "start_time": "2022-10-05T20:07:57.487Z"
   },
   {
    "duration": 9,
    "start_time": "2022-10-05T20:07:57.499Z"
   },
   {
    "duration": 30,
    "start_time": "2022-10-05T20:07:57.509Z"
   },
   {
    "duration": 34,
    "start_time": "2022-10-05T20:07:57.541Z"
   },
   {
    "duration": 14,
    "start_time": "2022-10-05T20:07:57.577Z"
   },
   {
    "duration": 21,
    "start_time": "2022-10-05T20:07:57.593Z"
   },
   {
    "duration": 3,
    "start_time": "2022-10-05T20:07:57.616Z"
   },
   {
    "duration": 22,
    "start_time": "2022-10-05T20:07:57.621Z"
   },
   {
    "duration": 243,
    "start_time": "2022-10-05T20:07:57.650Z"
   },
   {
    "duration": 3,
    "start_time": "2022-10-05T20:07:57.894Z"
   },
   {
    "duration": 242,
    "start_time": "2022-10-05T20:22:43.358Z"
   },
   {
    "duration": 254,
    "start_time": "2022-10-05T20:23:09.207Z"
   },
   {
    "duration": 205,
    "start_time": "2022-10-05T20:23:23.552Z"
   },
   {
    "duration": 257,
    "start_time": "2022-10-05T20:23:38.716Z"
   },
   {
    "duration": 230,
    "start_time": "2022-10-05T20:30:21.924Z"
   },
   {
    "duration": 47,
    "start_time": "2022-10-06T10:00:03.518Z"
   },
   {
    "duration": 7,
    "start_time": "2022-10-06T10:00:09.840Z"
   },
   {
    "duration": 8,
    "start_time": "2022-10-06T10:05:06.532Z"
   },
   {
    "duration": 6,
    "start_time": "2022-10-06T10:05:10.716Z"
   },
   {
    "duration": 1240,
    "start_time": "2022-10-06T10:05:18.917Z"
   },
   {
    "duration": 1776,
    "start_time": "2022-10-06T10:05:20.159Z"
   },
   {
    "duration": 42,
    "start_time": "2022-10-06T10:05:21.937Z"
   },
   {
    "duration": 70,
    "start_time": "2022-10-06T10:05:21.980Z"
   },
   {
    "duration": 29,
    "start_time": "2022-10-06T10:05:22.052Z"
   },
   {
    "duration": 85,
    "start_time": "2022-10-06T10:05:22.082Z"
   },
   {
    "duration": 14,
    "start_time": "2022-10-06T10:05:22.168Z"
   },
   {
    "duration": 122,
    "start_time": "2022-10-06T10:05:22.183Z"
   },
   {
    "duration": 18,
    "start_time": "2022-10-06T10:05:22.307Z"
   },
   {
    "duration": 67,
    "start_time": "2022-10-06T10:05:22.326Z"
   },
   {
    "duration": 39,
    "start_time": "2022-10-06T10:05:22.395Z"
   },
   {
    "duration": 40,
    "start_time": "2022-10-06T10:05:22.435Z"
   },
   {
    "duration": 12,
    "start_time": "2022-10-06T10:05:22.476Z"
   },
   {
    "duration": 190,
    "start_time": "2022-10-06T10:05:22.491Z"
   },
   {
    "duration": 24,
    "start_time": "2022-10-06T10:05:22.682Z"
   },
   {
    "duration": 15,
    "start_time": "2022-10-06T10:05:22.707Z"
   },
   {
    "duration": 6,
    "start_time": "2022-10-06T10:05:22.724Z"
   },
   {
    "duration": 6,
    "start_time": "2022-10-06T10:05:22.731Z"
   },
   {
    "duration": 42,
    "start_time": "2022-10-06T10:05:22.739Z"
   },
   {
    "duration": 5,
    "start_time": "2022-10-06T10:05:22.782Z"
   },
   {
    "duration": 73,
    "start_time": "2022-10-06T10:05:22.788Z"
   },
   {
    "duration": 25,
    "start_time": "2022-10-06T10:05:22.863Z"
   },
   {
    "duration": 43,
    "start_time": "2022-10-06T10:05:22.889Z"
   },
   {
    "duration": 9,
    "start_time": "2022-10-06T10:05:22.934Z"
   },
   {
    "duration": 25,
    "start_time": "2022-10-06T10:05:22.944Z"
   },
   {
    "duration": 22,
    "start_time": "2022-10-06T10:05:22.971Z"
   },
   {
    "duration": 29,
    "start_time": "2022-10-06T10:05:22.994Z"
   },
   {
    "duration": 8,
    "start_time": "2022-10-06T10:05:23.024Z"
   },
   {
    "duration": 5,
    "start_time": "2022-10-06T10:05:23.034Z"
   },
   {
    "duration": 13,
    "start_time": "2022-10-06T10:05:23.041Z"
   },
   {
    "duration": 7,
    "start_time": "2022-10-06T10:05:23.055Z"
   },
   {
    "duration": 20,
    "start_time": "2022-10-06T10:05:23.063Z"
   },
   {
    "duration": 3,
    "start_time": "2022-10-06T10:05:23.085Z"
   },
   {
    "duration": 34,
    "start_time": "2022-10-06T10:05:23.089Z"
   },
   {
    "duration": 220,
    "start_time": "2022-10-06T10:05:23.124Z"
   },
   {
    "duration": 3,
    "start_time": "2022-10-06T10:05:23.346Z"
   },
   {
    "duration": 205,
    "start_time": "2022-10-06T10:05:33.864Z"
   },
   {
    "duration": 1646,
    "start_time": "2022-10-06T10:08:40.331Z"
   },
   {
    "duration": 1892,
    "start_time": "2022-10-06T10:12:09.516Z"
   },
   {
    "duration": 88,
    "start_time": "2022-10-06T10:15:48.923Z"
   },
   {
    "duration": 296,
    "start_time": "2022-10-06T10:16:01.607Z"
   },
   {
    "duration": 170,
    "start_time": "2022-10-06T10:17:01.937Z"
   },
   {
    "duration": 240,
    "start_time": "2022-10-06T10:17:24.737Z"
   },
   {
    "duration": 70,
    "start_time": "2022-10-06T10:17:46.851Z"
   },
   {
    "duration": 394,
    "start_time": "2022-10-06T10:18:08.419Z"
   },
   {
    "duration": 307,
    "start_time": "2022-10-06T10:18:32.941Z"
   },
   {
    "duration": 276,
    "start_time": "2022-10-06T10:18:48.921Z"
   },
   {
    "duration": 370,
    "start_time": "2022-10-06T10:18:56.092Z"
   },
   {
    "duration": 398,
    "start_time": "2022-10-06T10:19:00.919Z"
   },
   {
    "duration": 199,
    "start_time": "2022-10-06T10:19:07.032Z"
   },
   {
    "duration": 243,
    "start_time": "2022-10-06T10:19:11.497Z"
   },
   {
    "duration": 256,
    "start_time": "2022-10-06T10:19:15.809Z"
   },
   {
    "duration": 246,
    "start_time": "2022-10-06T10:19:22.935Z"
   },
   {
    "duration": 250,
    "start_time": "2022-10-06T10:19:32.378Z"
   },
   {
    "duration": 174,
    "start_time": "2022-10-06T10:20:19.897Z"
   },
   {
    "duration": 1993,
    "start_time": "2022-10-06T10:24:32.199Z"
   },
   {
    "duration": 410,
    "start_time": "2022-10-06T10:25:10.062Z"
   },
   {
    "duration": 398,
    "start_time": "2022-10-06T10:25:19.054Z"
   },
   {
    "duration": 379,
    "start_time": "2022-10-06T10:25:24.048Z"
   },
   {
    "duration": 368,
    "start_time": "2022-10-06T10:25:46.438Z"
   },
   {
    "duration": 196,
    "start_time": "2022-10-06T10:26:34.728Z"
   },
   {
    "duration": 407,
    "start_time": "2022-10-06T10:26:47.645Z"
   },
   {
    "duration": 366,
    "start_time": "2022-10-06T10:26:59.543Z"
   },
   {
    "duration": 16,
    "start_time": "2022-10-06T10:27:56.512Z"
   },
   {
    "duration": 213,
    "start_time": "2022-10-06T10:28:07.571Z"
   },
   {
    "duration": 173,
    "start_time": "2022-10-06T10:30:02.723Z"
   },
   {
    "duration": 23,
    "start_time": "2022-10-06T10:30:25.857Z"
   },
   {
    "duration": 24,
    "start_time": "2022-10-06T10:31:01.404Z"
   },
   {
    "duration": 76,
    "start_time": "2022-10-06T10:31:16.104Z"
   },
   {
    "duration": 55,
    "start_time": "2022-10-06T10:31:21.132Z"
   },
   {
    "duration": 187,
    "start_time": "2022-10-06T10:31:44.335Z"
   },
   {
    "duration": 304,
    "start_time": "2022-10-06T10:32:28.680Z"
   },
   {
    "duration": 182,
    "start_time": "2022-10-06T10:32:36.705Z"
   },
   {
    "duration": 165,
    "start_time": "2022-10-06T10:33:43.959Z"
   },
   {
    "duration": 197,
    "start_time": "2022-10-06T10:33:57.201Z"
   },
   {
    "duration": 238,
    "start_time": "2022-10-06T10:34:38.552Z"
   },
   {
    "duration": 308,
    "start_time": "2022-10-06T10:35:46.092Z"
   },
   {
    "duration": 511,
    "start_time": "2022-10-06T10:35:55.794Z"
   },
   {
    "duration": 217,
    "start_time": "2022-10-06T10:41:34.264Z"
   },
   {
    "duration": 204,
    "start_time": "2022-10-06T10:41:38.789Z"
   },
   {
    "duration": 202,
    "start_time": "2022-10-06T10:41:47.629Z"
   },
   {
    "duration": 220,
    "start_time": "2022-10-06T10:41:57.867Z"
   },
   {
    "duration": 180,
    "start_time": "2022-10-06T10:42:16.944Z"
   },
   {
    "duration": 257,
    "start_time": "2022-10-06T10:43:45.968Z"
   },
   {
    "duration": 194,
    "start_time": "2022-10-06T10:44:35.194Z"
   },
   {
    "duration": 183,
    "start_time": "2022-10-06T10:45:22.651Z"
   },
   {
    "duration": 199,
    "start_time": "2022-10-06T10:48:53.488Z"
   },
   {
    "duration": 310,
    "start_time": "2022-10-06T10:49:38.017Z"
   },
   {
    "duration": 478,
    "start_time": "2022-10-06T10:49:46.253Z"
   },
   {
    "duration": 218,
    "start_time": "2022-10-06T10:49:49.262Z"
   },
   {
    "duration": 330,
    "start_time": "2022-10-06T10:49:55.943Z"
   },
   {
    "duration": 270,
    "start_time": "2022-10-06T10:51:11.763Z"
   },
   {
    "duration": 231,
    "start_time": "2022-10-06T10:51:26.621Z"
   },
   {
    "duration": 182,
    "start_time": "2022-10-06T10:51:37.306Z"
   },
   {
    "duration": 189,
    "start_time": "2022-10-06T10:51:44.815Z"
   },
   {
    "duration": 244,
    "start_time": "2022-10-06T10:51:57.738Z"
   },
   {
    "duration": 274,
    "start_time": "2022-10-06T10:52:36.617Z"
   },
   {
    "duration": 194,
    "start_time": "2022-10-06T10:53:05.319Z"
   },
   {
    "duration": 184,
    "start_time": "2022-10-06T10:53:23.910Z"
   },
   {
    "duration": 178,
    "start_time": "2022-10-06T10:53:24.132Z"
   },
   {
    "duration": 7,
    "start_time": "2022-10-06T12:03:33.248Z"
   },
   {
    "duration": 4,
    "start_time": "2022-10-06T12:07:26.556Z"
   },
   {
    "duration": 5,
    "start_time": "2022-10-06T12:07:49.015Z"
   },
   {
    "duration": 177,
    "start_time": "2022-10-06T12:22:56.259Z"
   },
   {
    "duration": 177,
    "start_time": "2022-10-06T12:23:02.883Z"
   },
   {
    "duration": 258,
    "start_time": "2022-10-06T12:23:53.419Z"
   },
   {
    "duration": 42,
    "start_time": "2022-10-06T12:24:52.611Z"
   },
   {
    "duration": 24,
    "start_time": "2022-10-06T12:25:00.252Z"
   },
   {
    "duration": 291,
    "start_time": "2022-10-06T12:25:06.196Z"
   },
   {
    "duration": 269,
    "start_time": "2022-10-06T12:25:19.623Z"
   },
   {
    "duration": 126,
    "start_time": "2022-10-06T12:28:37.689Z"
   },
   {
    "duration": 9,
    "start_time": "2022-10-06T12:28:53.292Z"
   },
   {
    "duration": 11,
    "start_time": "2022-10-06T12:28:57.469Z"
   },
   {
    "duration": 13,
    "start_time": "2022-10-06T12:29:09.240Z"
   },
   {
    "duration": 2,
    "start_time": "2022-10-06T12:30:14.782Z"
   },
   {
    "duration": 4,
    "start_time": "2022-10-06T12:30:17.605Z"
   },
   {
    "duration": 20,
    "start_time": "2022-10-06T12:30:26.645Z"
   },
   {
    "duration": 16,
    "start_time": "2022-10-06T12:30:29.267Z"
   },
   {
    "duration": 14,
    "start_time": "2022-10-06T12:30:39.428Z"
   },
   {
    "duration": 6,
    "start_time": "2022-10-06T12:33:06.202Z"
   },
   {
    "duration": 8,
    "start_time": "2022-10-06T12:39:41.967Z"
   },
   {
    "duration": 9,
    "start_time": "2022-10-06T12:39:47.483Z"
   },
   {
    "duration": 15,
    "start_time": "2022-10-06T12:40:06.816Z"
   },
   {
    "duration": 13,
    "start_time": "2022-10-06T12:40:41.172Z"
   },
   {
    "duration": 20,
    "start_time": "2022-10-06T12:41:03.616Z"
   },
   {
    "duration": 11,
    "start_time": "2022-10-06T12:44:26.977Z"
   },
   {
    "duration": 31,
    "start_time": "2022-10-06T12:44:30.738Z"
   },
   {
    "duration": 24,
    "start_time": "2022-10-06T12:44:40.051Z"
   },
   {
    "duration": 63,
    "start_time": "2022-10-06T12:45:19.389Z"
   },
   {
    "duration": 28,
    "start_time": "2022-10-06T12:45:25.812Z"
   },
   {
    "duration": 31,
    "start_time": "2022-10-06T13:05:07.286Z"
   },
   {
    "duration": 23,
    "start_time": "2022-10-06T13:05:31.290Z"
   },
   {
    "duration": 26,
    "start_time": "2022-10-06T13:06:51.757Z"
   },
   {
    "duration": 30,
    "start_time": "2022-10-06T13:07:07.400Z"
   },
   {
    "duration": 1071,
    "start_time": "2022-10-06T13:07:14.589Z"
   },
   {
    "duration": 430,
    "start_time": "2022-10-06T13:07:15.662Z"
   },
   {
    "duration": 56,
    "start_time": "2022-10-06T13:07:16.093Z"
   },
   {
    "duration": 82,
    "start_time": "2022-10-06T13:07:16.151Z"
   },
   {
    "duration": 28,
    "start_time": "2022-10-06T13:07:16.235Z"
   },
   {
    "duration": 83,
    "start_time": "2022-10-06T13:07:16.265Z"
   },
   {
    "duration": 13,
    "start_time": "2022-10-06T13:07:16.350Z"
   },
   {
    "duration": 126,
    "start_time": "2022-10-06T13:07:16.365Z"
   },
   {
    "duration": 8,
    "start_time": "2022-10-06T13:07:16.493Z"
   },
   {
    "duration": 69,
    "start_time": "2022-10-06T13:07:16.503Z"
   },
   {
    "duration": 32,
    "start_time": "2022-10-06T13:07:16.573Z"
   },
   {
    "duration": 49,
    "start_time": "2022-10-06T13:07:16.607Z"
   },
   {
    "duration": 11,
    "start_time": "2022-10-06T13:07:16.658Z"
   },
   {
    "duration": 202,
    "start_time": "2022-10-06T13:07:16.672Z"
   },
   {
    "duration": 26,
    "start_time": "2022-10-06T13:07:16.875Z"
   },
   {
    "duration": 21,
    "start_time": "2022-10-06T13:07:16.902Z"
   },
   {
    "duration": 10,
    "start_time": "2022-10-06T13:07:16.924Z"
   },
   {
    "duration": 7,
    "start_time": "2022-10-06T13:07:16.935Z"
   },
   {
    "duration": 41,
    "start_time": "2022-10-06T13:07:16.944Z"
   },
   {
    "duration": 5,
    "start_time": "2022-10-06T13:07:16.987Z"
   },
   {
    "duration": 79,
    "start_time": "2022-10-06T13:07:16.994Z"
   },
   {
    "duration": 26,
    "start_time": "2022-10-06T13:07:17.075Z"
   },
   {
    "duration": 43,
    "start_time": "2022-10-06T13:07:17.103Z"
   },
   {
    "duration": 10,
    "start_time": "2022-10-06T13:07:17.148Z"
   },
   {
    "duration": 34,
    "start_time": "2022-10-06T13:07:17.160Z"
   },
   {
    "duration": 35,
    "start_time": "2022-10-06T13:07:17.196Z"
   },
   {
    "duration": 10,
    "start_time": "2022-10-06T13:07:17.232Z"
   },
   {
    "duration": 7,
    "start_time": "2022-10-06T13:07:17.244Z"
   },
   {
    "duration": 7,
    "start_time": "2022-10-06T13:07:17.252Z"
   },
   {
    "duration": 18,
    "start_time": "2022-10-06T13:07:17.260Z"
   },
   {
    "duration": 8,
    "start_time": "2022-10-06T13:07:17.280Z"
   },
   {
    "duration": 33,
    "start_time": "2022-10-06T13:07:17.290Z"
   },
   {
    "duration": 4,
    "start_time": "2022-10-06T13:07:17.325Z"
   },
   {
    "duration": 16,
    "start_time": "2022-10-06T13:07:17.331Z"
   },
   {
    "duration": 76,
    "start_time": "2022-10-06T13:07:17.349Z"
   },
   {
    "duration": 7,
    "start_time": "2022-10-06T13:07:17.427Z"
   },
   {
    "duration": 231,
    "start_time": "2022-10-06T13:07:17.436Z"
   },
   {
    "duration": 225,
    "start_time": "2022-10-06T13:07:17.669Z"
   },
   {
    "duration": 195,
    "start_time": "2022-10-06T13:07:17.896Z"
   },
   {
    "duration": 262,
    "start_time": "2022-10-06T13:07:18.092Z"
   },
   {
    "duration": 3,
    "start_time": "2022-10-06T13:07:18.357Z"
   },
   {
    "duration": 28,
    "start_time": "2022-10-06T13:07:35.870Z"
   },
   {
    "duration": 23,
    "start_time": "2022-10-06T13:07:42.167Z"
   },
   {
    "duration": 25,
    "start_time": "2022-10-06T13:09:41.849Z"
   },
   {
    "duration": 26,
    "start_time": "2022-10-06T13:09:58.546Z"
   },
   {
    "duration": 23,
    "start_time": "2022-10-06T13:15:05.057Z"
   },
   {
    "duration": 34,
    "start_time": "2022-10-06T13:15:30.117Z"
   },
   {
    "duration": 37,
    "start_time": "2022-10-06T13:15:50.417Z"
   },
   {
    "duration": 8,
    "start_time": "2022-10-06T13:48:08.244Z"
   },
   {
    "duration": 12,
    "start_time": "2022-10-06T13:49:50.940Z"
   },
   {
    "duration": 97,
    "start_time": "2022-10-06T16:36:45.296Z"
   },
   {
    "duration": 27,
    "start_time": "2022-10-06T16:36:57.760Z"
   },
   {
    "duration": 8,
    "start_time": "2022-10-06T16:37:00.479Z"
   },
   {
    "duration": 7,
    "start_time": "2022-10-06T16:37:10.037Z"
   },
   {
    "duration": 6,
    "start_time": "2022-10-06T16:37:14.770Z"
   },
   {
    "duration": 9,
    "start_time": "2022-10-06T16:37:28.482Z"
   },
   {
    "duration": 5,
    "start_time": "2022-10-06T16:37:35.607Z"
   },
   {
    "duration": 183,
    "start_time": "2022-10-06T17:27:14.601Z"
   },
   {
    "duration": 239,
    "start_time": "2022-10-06T17:35:28.170Z"
   },
   {
    "duration": 13,
    "start_time": "2022-10-06T17:46:09.120Z"
   },
   {
    "duration": 13,
    "start_time": "2022-10-06T17:46:18.021Z"
   },
   {
    "duration": 12,
    "start_time": "2022-10-06T17:47:10.029Z"
   },
   {
    "duration": 13,
    "start_time": "2022-10-06T17:47:14.614Z"
   },
   {
    "duration": 13,
    "start_time": "2022-10-06T17:47:27.499Z"
   },
   {
    "duration": 13,
    "start_time": "2022-10-06T17:47:43.538Z"
   },
   {
    "duration": 19,
    "start_time": "2022-10-06T17:49:23.910Z"
   },
   {
    "duration": 13,
    "start_time": "2022-10-06T17:49:36.356Z"
   },
   {
    "duration": 19,
    "start_time": "2022-10-06T17:51:55.004Z"
   },
   {
    "duration": 6,
    "start_time": "2022-10-06T17:52:15.977Z"
   },
   {
    "duration": 4,
    "start_time": "2022-10-06T17:52:24.892Z"
   },
   {
    "duration": 15,
    "start_time": "2022-10-06T17:52:35.396Z"
   },
   {
    "duration": 12,
    "start_time": "2022-10-06T17:53:31.736Z"
   },
   {
    "duration": 13,
    "start_time": "2022-10-06T17:53:40.386Z"
   },
   {
    "duration": 13,
    "start_time": "2022-10-06T17:53:49.800Z"
   },
   {
    "duration": 19,
    "start_time": "2022-10-06T17:55:12.474Z"
   },
   {
    "duration": 4,
    "start_time": "2022-10-06T17:59:52.483Z"
   },
   {
    "duration": 1050,
    "start_time": "2022-10-06T18:00:01.697Z"
   },
   {
    "duration": 539,
    "start_time": "2022-10-06T18:00:02.748Z"
   },
   {
    "duration": 50,
    "start_time": "2022-10-06T18:00:03.288Z"
   },
   {
    "duration": 66,
    "start_time": "2022-10-06T18:00:03.340Z"
   },
   {
    "duration": 44,
    "start_time": "2022-10-06T18:00:03.408Z"
   },
   {
    "duration": 81,
    "start_time": "2022-10-06T18:00:03.453Z"
   },
   {
    "duration": 13,
    "start_time": "2022-10-06T18:00:03.538Z"
   },
   {
    "duration": 130,
    "start_time": "2022-10-06T18:00:03.552Z"
   },
   {
    "duration": 8,
    "start_time": "2022-10-06T18:00:03.683Z"
   },
   {
    "duration": 85,
    "start_time": "2022-10-06T18:00:03.693Z"
   },
   {
    "duration": 34,
    "start_time": "2022-10-06T18:00:03.780Z"
   },
   {
    "duration": 47,
    "start_time": "2022-10-06T18:00:03.824Z"
   },
   {
    "duration": 14,
    "start_time": "2022-10-06T18:00:03.873Z"
   },
   {
    "duration": 200,
    "start_time": "2022-10-06T18:00:03.889Z"
   },
   {
    "duration": 31,
    "start_time": "2022-10-06T18:00:04.091Z"
   },
   {
    "duration": 5,
    "start_time": "2022-10-06T18:00:04.125Z"
   },
   {
    "duration": 35,
    "start_time": "2022-10-06T18:00:04.132Z"
   },
   {
    "duration": 23,
    "start_time": "2022-10-06T18:00:04.169Z"
   },
   {
    "duration": 67,
    "start_time": "2022-10-06T18:00:04.194Z"
   },
   {
    "duration": 4,
    "start_time": "2022-10-06T18:00:04.263Z"
   },
   {
    "duration": 67,
    "start_time": "2022-10-06T18:00:04.269Z"
   },
   {
    "duration": 27,
    "start_time": "2022-10-06T18:00:04.338Z"
   },
   {
    "duration": 27,
    "start_time": "2022-10-06T18:00:04.367Z"
   },
   {
    "duration": 10,
    "start_time": "2022-10-06T18:00:04.396Z"
   },
   {
    "duration": 23,
    "start_time": "2022-10-06T18:00:04.427Z"
   },
   {
    "duration": 24,
    "start_time": "2022-10-06T18:00:04.452Z"
   },
   {
    "duration": 11,
    "start_time": "2022-10-06T18:00:04.477Z"
   },
   {
    "duration": 9,
    "start_time": "2022-10-06T18:00:04.490Z"
   },
   {
    "duration": 30,
    "start_time": "2022-10-06T18:00:04.500Z"
   },
   {
    "duration": 33,
    "start_time": "2022-10-06T18:00:04.533Z"
   },
   {
    "duration": 16,
    "start_time": "2022-10-06T18:00:04.568Z"
   },
   {
    "duration": 19,
    "start_time": "2022-10-06T18:00:04.586Z"
   },
   {
    "duration": 3,
    "start_time": "2022-10-06T18:00:04.607Z"
   },
   {
    "duration": 19,
    "start_time": "2022-10-06T18:00:04.612Z"
   },
   {
    "duration": 15,
    "start_time": "2022-10-06T18:00:04.636Z"
   },
   {
    "duration": 4,
    "start_time": "2022-10-06T18:00:04.652Z"
   },
   {
    "duration": 210,
    "start_time": "2022-10-06T18:00:04.657Z"
   },
   {
    "duration": 62,
    "start_time": "2022-10-06T18:00:04.868Z"
   },
   {
    "duration": 207,
    "start_time": "2022-10-06T18:00:04.932Z"
   },
   {
    "duration": 25,
    "start_time": "2022-10-06T18:00:05.146Z"
   },
   {
    "duration": 361,
    "start_time": "2022-10-06T18:00:05.172Z"
   },
   {
    "duration": 23,
    "start_time": "2022-10-06T18:00:05.538Z"
   },
   {
    "duration": 206,
    "start_time": "2022-10-06T18:00:05.562Z"
   },
   {
    "duration": 3,
    "start_time": "2022-10-06T18:00:05.770Z"
   },
   {
    "duration": 12,
    "start_time": "2022-10-06T18:00:36.452Z"
   },
   {
    "duration": 11,
    "start_time": "2022-10-06T18:01:13.437Z"
   },
   {
    "duration": 11,
    "start_time": "2022-10-06T18:01:40.042Z"
   },
   {
    "duration": 17,
    "start_time": "2022-10-06T18:01:47.836Z"
   },
   {
    "duration": 10,
    "start_time": "2022-10-06T18:01:54.262Z"
   },
   {
    "duration": 6,
    "start_time": "2022-10-06T18:02:26.261Z"
   },
   {
    "duration": 13,
    "start_time": "2022-10-06T18:02:55.701Z"
   },
   {
    "duration": 185,
    "start_time": "2022-10-06T18:06:51.572Z"
   },
   {
    "duration": 253,
    "start_time": "2022-10-06T18:18:18.022Z"
   },
   {
    "duration": 254,
    "start_time": "2022-10-06T18:19:38.112Z"
   },
   {
    "duration": 254,
    "start_time": "2022-10-06T18:19:48.493Z"
   },
   {
    "duration": 343,
    "start_time": "2022-10-06T18:19:52.371Z"
   },
   {
    "duration": 35,
    "start_time": "2022-10-06T18:20:36.231Z"
   },
   {
    "duration": 26,
    "start_time": "2022-10-06T18:24:37.550Z"
   },
   {
    "duration": 235,
    "start_time": "2022-10-06T18:25:35.393Z"
   },
   {
    "duration": 121,
    "start_time": "2022-10-06T18:27:33.258Z"
   },
   {
    "duration": 72,
    "start_time": "2022-10-06T18:27:49.207Z"
   },
   {
    "duration": 234,
    "start_time": "2022-10-06T18:27:52.912Z"
   },
   {
    "duration": 203,
    "start_time": "2022-10-06T18:53:34.630Z"
   },
   {
    "duration": 183,
    "start_time": "2022-10-06T18:55:41.052Z"
   },
   {
    "duration": 188,
    "start_time": "2022-10-06T18:56:12.466Z"
   },
   {
    "duration": 1034,
    "start_time": "2022-10-06T19:45:21.309Z"
   },
   {
    "duration": 539,
    "start_time": "2022-10-06T19:45:22.345Z"
   },
   {
    "duration": 48,
    "start_time": "2022-10-06T19:45:22.886Z"
   },
   {
    "duration": 86,
    "start_time": "2022-10-06T19:45:22.936Z"
   },
   {
    "duration": 42,
    "start_time": "2022-10-06T19:45:23.024Z"
   },
   {
    "duration": 97,
    "start_time": "2022-10-06T19:45:23.068Z"
   },
   {
    "duration": 13,
    "start_time": "2022-10-06T19:45:23.167Z"
   },
   {
    "duration": 117,
    "start_time": "2022-10-06T19:45:23.182Z"
   },
   {
    "duration": 22,
    "start_time": "2022-10-06T19:45:23.301Z"
   },
   {
    "duration": 78,
    "start_time": "2022-10-06T19:45:23.325Z"
   },
   {
    "duration": 46,
    "start_time": "2022-10-06T19:45:23.405Z"
   },
   {
    "duration": 42,
    "start_time": "2022-10-06T19:45:23.453Z"
   },
   {
    "duration": 27,
    "start_time": "2022-10-06T19:45:23.496Z"
   },
   {
    "duration": 207,
    "start_time": "2022-10-06T19:45:23.527Z"
   },
   {
    "duration": 25,
    "start_time": "2022-10-06T19:45:23.736Z"
   },
   {
    "duration": 5,
    "start_time": "2022-10-06T19:45:23.762Z"
   },
   {
    "duration": 10,
    "start_time": "2022-10-06T19:45:23.769Z"
   },
   {
    "duration": 10,
    "start_time": "2022-10-06T19:45:23.780Z"
   },
   {
    "duration": 82,
    "start_time": "2022-10-06T19:45:23.792Z"
   },
   {
    "duration": 5,
    "start_time": "2022-10-06T19:45:23.876Z"
   },
   {
    "duration": 75,
    "start_time": "2022-10-06T19:45:23.883Z"
   },
   {
    "duration": 30,
    "start_time": "2022-10-06T19:45:23.960Z"
   },
   {
    "duration": 44,
    "start_time": "2022-10-06T19:45:23.991Z"
   },
   {
    "duration": 11,
    "start_time": "2022-10-06T19:45:24.037Z"
   },
   {
    "duration": 27,
    "start_time": "2022-10-06T19:45:24.049Z"
   },
   {
    "duration": 46,
    "start_time": "2022-10-06T19:45:24.077Z"
   },
   {
    "duration": 11,
    "start_time": "2022-10-06T19:45:24.125Z"
   },
   {
    "duration": 10,
    "start_time": "2022-10-06T19:45:24.138Z"
   },
   {
    "duration": 10,
    "start_time": "2022-10-06T19:45:24.149Z"
   },
   {
    "duration": 14,
    "start_time": "2022-10-06T19:45:24.160Z"
   },
   {
    "duration": 11,
    "start_time": "2022-10-06T19:45:24.176Z"
   },
   {
    "duration": 37,
    "start_time": "2022-10-06T19:45:24.189Z"
   },
   {
    "duration": 5,
    "start_time": "2022-10-06T19:45:24.227Z"
   },
   {
    "duration": 25,
    "start_time": "2022-10-06T19:45:24.234Z"
   },
   {
    "duration": 14,
    "start_time": "2022-10-06T19:45:24.261Z"
   },
   {
    "duration": 107,
    "start_time": "2022-10-06T19:45:24.277Z"
   },
   {
    "duration": 0,
    "start_time": "2022-10-06T19:45:24.386Z"
   },
   {
    "duration": 0,
    "start_time": "2022-10-06T19:45:24.387Z"
   },
   {
    "duration": 0,
    "start_time": "2022-10-06T19:45:24.388Z"
   },
   {
    "duration": 0,
    "start_time": "2022-10-06T19:45:24.389Z"
   },
   {
    "duration": 0,
    "start_time": "2022-10-06T19:45:24.390Z"
   },
   {
    "duration": 0,
    "start_time": "2022-10-06T19:45:24.391Z"
   },
   {
    "duration": 0,
    "start_time": "2022-10-06T19:45:24.392Z"
   },
   {
    "duration": 0,
    "start_time": "2022-10-06T19:45:24.393Z"
   },
   {
    "duration": 1058,
    "start_time": "2022-10-06T19:45:52.070Z"
   },
   {
    "duration": 480,
    "start_time": "2022-10-06T19:45:53.130Z"
   },
   {
    "duration": 49,
    "start_time": "2022-10-06T19:45:53.611Z"
   },
   {
    "duration": 98,
    "start_time": "2022-10-06T19:45:53.663Z"
   },
   {
    "duration": 58,
    "start_time": "2022-10-06T19:45:53.764Z"
   },
   {
    "duration": 67,
    "start_time": "2022-10-06T19:45:53.824Z"
   },
   {
    "duration": 36,
    "start_time": "2022-10-06T19:45:53.892Z"
   },
   {
    "duration": 150,
    "start_time": "2022-10-06T19:45:53.930Z"
   },
   {
    "duration": 9,
    "start_time": "2022-10-06T19:45:54.081Z"
   },
   {
    "duration": 79,
    "start_time": "2022-10-06T19:45:54.091Z"
   },
   {
    "duration": 34,
    "start_time": "2022-10-06T19:45:54.172Z"
   },
   {
    "duration": 64,
    "start_time": "2022-10-06T19:45:54.208Z"
   },
   {
    "duration": 12,
    "start_time": "2022-10-06T19:45:54.273Z"
   },
   {
    "duration": 227,
    "start_time": "2022-10-06T19:45:54.288Z"
   },
   {
    "duration": 35,
    "start_time": "2022-10-06T19:45:54.521Z"
   },
   {
    "duration": 5,
    "start_time": "2022-10-06T19:45:54.558Z"
   },
   {
    "duration": 7,
    "start_time": "2022-10-06T19:45:54.564Z"
   },
   {
    "duration": 6,
    "start_time": "2022-10-06T19:45:54.573Z"
   },
   {
    "duration": 84,
    "start_time": "2022-10-06T19:45:54.581Z"
   },
   {
    "duration": 6,
    "start_time": "2022-10-06T19:45:54.667Z"
   },
   {
    "duration": 94,
    "start_time": "2022-10-06T19:45:54.674Z"
   },
   {
    "duration": 29,
    "start_time": "2022-10-06T19:45:54.770Z"
   },
   {
    "duration": 41,
    "start_time": "2022-10-06T19:45:54.800Z"
   },
   {
    "duration": 11,
    "start_time": "2022-10-06T19:45:54.843Z"
   },
   {
    "duration": 26,
    "start_time": "2022-10-06T19:45:54.855Z"
   },
   {
    "duration": 47,
    "start_time": "2022-10-06T19:45:54.883Z"
   },
   {
    "duration": 16,
    "start_time": "2022-10-06T19:45:54.932Z"
   },
   {
    "duration": 12,
    "start_time": "2022-10-06T19:45:54.950Z"
   },
   {
    "duration": 8,
    "start_time": "2022-10-06T19:45:54.964Z"
   },
   {
    "duration": 13,
    "start_time": "2022-10-06T19:45:54.973Z"
   },
   {
    "duration": 36,
    "start_time": "2022-10-06T19:45:54.988Z"
   },
   {
    "duration": 23,
    "start_time": "2022-10-06T19:45:55.026Z"
   },
   {
    "duration": 5,
    "start_time": "2022-10-06T19:45:55.050Z"
   },
   {
    "duration": 26,
    "start_time": "2022-10-06T19:45:55.057Z"
   },
   {
    "duration": 40,
    "start_time": "2022-10-06T19:45:55.085Z"
   },
   {
    "duration": 134,
    "start_time": "2022-10-06T19:45:55.126Z"
   },
   {
    "duration": 0,
    "start_time": "2022-10-06T19:45:55.262Z"
   },
   {
    "duration": 0,
    "start_time": "2022-10-06T19:45:55.264Z"
   },
   {
    "duration": 0,
    "start_time": "2022-10-06T19:45:55.265Z"
   },
   {
    "duration": 0,
    "start_time": "2022-10-06T19:45:55.266Z"
   },
   {
    "duration": 0,
    "start_time": "2022-10-06T19:45:55.268Z"
   },
   {
    "duration": 0,
    "start_time": "2022-10-06T19:45:55.269Z"
   },
   {
    "duration": 0,
    "start_time": "2022-10-06T19:45:55.270Z"
   },
   {
    "duration": 0,
    "start_time": "2022-10-06T19:45:55.271Z"
   },
   {
    "duration": 1107,
    "start_time": "2022-10-06T19:46:26.636Z"
   },
   {
    "duration": 453,
    "start_time": "2022-10-06T19:46:27.745Z"
   },
   {
    "duration": 44,
    "start_time": "2022-10-06T19:46:28.200Z"
   },
   {
    "duration": 86,
    "start_time": "2022-10-06T19:46:28.246Z"
   },
   {
    "duration": 32,
    "start_time": "2022-10-06T19:46:28.334Z"
   },
   {
    "duration": 89,
    "start_time": "2022-10-06T19:46:28.367Z"
   },
   {
    "duration": 17,
    "start_time": "2022-10-06T19:46:28.458Z"
   },
   {
    "duration": 188,
    "start_time": "2022-10-06T19:46:28.477Z"
   },
   {
    "duration": 8,
    "start_time": "2022-10-06T19:46:28.667Z"
   },
   {
    "duration": 65,
    "start_time": "2022-10-06T19:46:28.676Z"
   },
   {
    "duration": 32,
    "start_time": "2022-10-06T19:46:28.743Z"
   },
   {
    "duration": 50,
    "start_time": "2022-10-06T19:46:28.776Z"
   },
   {
    "duration": 12,
    "start_time": "2022-10-06T19:46:28.828Z"
   },
   {
    "duration": 205,
    "start_time": "2022-10-06T19:46:28.843Z"
   },
   {
    "duration": 37,
    "start_time": "2022-10-06T19:46:29.050Z"
   },
   {
    "duration": 4,
    "start_time": "2022-10-06T19:46:29.089Z"
   },
   {
    "duration": 30,
    "start_time": "2022-10-06T19:46:29.094Z"
   },
   {
    "duration": 15,
    "start_time": "2022-10-06T19:46:29.127Z"
   },
   {
    "duration": 56,
    "start_time": "2022-10-06T19:46:29.143Z"
   },
   {
    "duration": 4,
    "start_time": "2022-10-06T19:46:29.201Z"
   },
   {
    "duration": 72,
    "start_time": "2022-10-06T19:46:29.206Z"
   },
   {
    "duration": 27,
    "start_time": "2022-10-06T19:46:29.279Z"
   },
   {
    "duration": 40,
    "start_time": "2022-10-06T19:46:29.308Z"
   },
   {
    "duration": 12,
    "start_time": "2022-10-06T19:46:29.352Z"
   },
   {
    "duration": 31,
    "start_time": "2022-10-06T19:46:29.366Z"
   },
   {
    "duration": 48,
    "start_time": "2022-10-06T19:46:29.399Z"
   },
   {
    "duration": 12,
    "start_time": "2022-10-06T19:46:29.449Z"
   },
   {
    "duration": 10,
    "start_time": "2022-10-06T19:46:29.463Z"
   },
   {
    "duration": 6,
    "start_time": "2022-10-06T19:46:29.474Z"
   },
   {
    "duration": 40,
    "start_time": "2022-10-06T19:46:29.482Z"
   },
   {
    "duration": 6,
    "start_time": "2022-10-06T19:46:29.524Z"
   },
   {
    "duration": 19,
    "start_time": "2022-10-06T19:46:29.532Z"
   },
   {
    "duration": 4,
    "start_time": "2022-10-06T19:46:29.553Z"
   },
   {
    "duration": 19,
    "start_time": "2022-10-06T19:46:29.559Z"
   },
   {
    "duration": 12,
    "start_time": "2022-10-06T19:46:29.580Z"
   },
   {
    "duration": 267,
    "start_time": "2022-10-06T19:46:29.594Z"
   },
   {
    "duration": 63,
    "start_time": "2022-10-06T19:46:29.862Z"
   },
   {
    "duration": 237,
    "start_time": "2022-10-06T19:46:29.927Z"
   },
   {
    "duration": 236,
    "start_time": "2022-10-06T19:46:30.166Z"
   },
   {
    "duration": 42,
    "start_time": "2022-10-06T19:46:30.404Z"
   },
   {
    "duration": 204,
    "start_time": "2022-10-06T19:46:30.450Z"
   },
   {
    "duration": 248,
    "start_time": "2022-10-06T19:46:30.655Z"
   },
   {
    "duration": 34,
    "start_time": "2022-10-06T19:46:30.905Z"
   },
   {
    "duration": 221,
    "start_time": "2022-10-06T19:46:30.940Z"
   },
   {
    "duration": 33,
    "start_time": "2022-10-06T19:47:28.217Z"
   },
   {
    "duration": 257,
    "start_time": "2022-10-06T19:48:00.030Z"
   },
   {
    "duration": 295,
    "start_time": "2022-10-06T20:09:45.641Z"
   },
   {
    "duration": 1027,
    "start_time": "2022-10-06T20:10:20.628Z"
   },
   {
    "duration": 422,
    "start_time": "2022-10-06T20:10:21.657Z"
   },
   {
    "duration": 45,
    "start_time": "2022-10-06T20:10:22.080Z"
   },
   {
    "duration": 60,
    "start_time": "2022-10-06T20:10:22.126Z"
   },
   {
    "duration": 51,
    "start_time": "2022-10-06T20:10:22.188Z"
   },
   {
    "duration": 60,
    "start_time": "2022-10-06T20:10:22.240Z"
   },
   {
    "duration": 37,
    "start_time": "2022-10-06T20:10:22.302Z"
   },
   {
    "duration": 125,
    "start_time": "2022-10-06T20:10:22.341Z"
   },
   {
    "duration": 8,
    "start_time": "2022-10-06T20:10:22.468Z"
   },
   {
    "duration": 72,
    "start_time": "2022-10-06T20:10:22.477Z"
   },
   {
    "duration": 32,
    "start_time": "2022-10-06T20:10:22.551Z"
   },
   {
    "duration": 54,
    "start_time": "2022-10-06T20:10:22.584Z"
   },
   {
    "duration": 12,
    "start_time": "2022-10-06T20:10:22.640Z"
   },
   {
    "duration": 204,
    "start_time": "2022-10-06T20:10:22.654Z"
   },
   {
    "duration": 24,
    "start_time": "2022-10-06T20:10:22.859Z"
   },
   {
    "duration": 4,
    "start_time": "2022-10-06T20:10:22.885Z"
   },
   {
    "duration": 7,
    "start_time": "2022-10-06T20:10:22.890Z"
   },
   {
    "duration": 4,
    "start_time": "2022-10-06T20:10:22.921Z"
   },
   {
    "duration": 45,
    "start_time": "2022-10-06T20:10:22.927Z"
   },
   {
    "duration": 5,
    "start_time": "2022-10-06T20:10:22.973Z"
   },
   {
    "duration": 80,
    "start_time": "2022-10-06T20:10:22.979Z"
   },
   {
    "duration": 27,
    "start_time": "2022-10-06T20:10:23.060Z"
   },
   {
    "duration": 45,
    "start_time": "2022-10-06T20:10:23.088Z"
   },
   {
    "duration": 10,
    "start_time": "2022-10-06T20:10:23.135Z"
   },
   {
    "duration": 20,
    "start_time": "2022-10-06T20:10:23.147Z"
   },
   {
    "duration": 24,
    "start_time": "2022-10-06T20:10:23.169Z"
   },
   {
    "duration": 38,
    "start_time": "2022-10-06T20:10:23.194Z"
   },
   {
    "duration": 10,
    "start_time": "2022-10-06T20:10:23.233Z"
   },
   {
    "duration": 6,
    "start_time": "2022-10-06T20:10:23.244Z"
   },
   {
    "duration": 14,
    "start_time": "2022-10-06T20:10:23.252Z"
   },
   {
    "duration": 7,
    "start_time": "2022-10-06T20:10:23.268Z"
   },
   {
    "duration": 48,
    "start_time": "2022-10-06T20:10:23.277Z"
   },
   {
    "duration": 5,
    "start_time": "2022-10-06T20:10:23.327Z"
   },
   {
    "duration": 15,
    "start_time": "2022-10-06T20:10:23.334Z"
   },
   {
    "duration": 15,
    "start_time": "2022-10-06T20:10:23.351Z"
   },
   {
    "duration": 271,
    "start_time": "2022-10-06T20:10:23.368Z"
   },
   {
    "duration": 58,
    "start_time": "2022-10-06T20:10:23.641Z"
   },
   {
    "duration": 223,
    "start_time": "2022-10-06T20:10:23.701Z"
   },
   {
    "duration": 234,
    "start_time": "2022-10-06T20:10:23.925Z"
   },
   {
    "duration": 35,
    "start_time": "2022-10-06T20:10:24.161Z"
   },
   {
    "duration": 224,
    "start_time": "2022-10-06T20:10:24.200Z"
   },
   {
    "duration": 228,
    "start_time": "2022-10-06T20:10:24.426Z"
   },
   {
    "duration": 28,
    "start_time": "2022-10-06T20:10:24.655Z"
   },
   {
    "duration": 197,
    "start_time": "2022-10-06T20:10:24.685Z"
   },
   {
    "duration": 306,
    "start_time": "2022-10-06T20:12:08.671Z"
   },
   {
    "duration": 324,
    "start_time": "2022-10-06T20:12:40.308Z"
   },
   {
    "duration": 290,
    "start_time": "2022-10-06T20:12:51.011Z"
   },
   {
    "duration": 14,
    "start_time": "2022-10-06T20:13:36.090Z"
   },
   {
    "duration": 34,
    "start_time": "2022-10-06T20:15:20.736Z"
   },
   {
    "duration": 38,
    "start_time": "2022-10-06T20:16:37.587Z"
   },
   {
    "duration": 48,
    "start_time": "2022-10-06T20:17:51.107Z"
   },
   {
    "duration": 1210,
    "start_time": "2022-10-06T20:20:06.729Z"
   },
   {
    "duration": 473,
    "start_time": "2022-10-06T20:20:07.941Z"
   },
   {
    "duration": 47,
    "start_time": "2022-10-06T20:20:08.416Z"
   },
   {
    "duration": 97,
    "start_time": "2022-10-06T20:20:08.465Z"
   },
   {
    "duration": 37,
    "start_time": "2022-10-06T20:20:08.564Z"
   },
   {
    "duration": 69,
    "start_time": "2022-10-06T20:20:08.621Z"
   },
   {
    "duration": 40,
    "start_time": "2022-10-06T20:20:08.691Z"
   },
   {
    "duration": 154,
    "start_time": "2022-10-06T20:20:08.733Z"
   },
   {
    "duration": 8,
    "start_time": "2022-10-06T20:20:08.889Z"
   },
   {
    "duration": 74,
    "start_time": "2022-10-06T20:20:08.899Z"
   },
   {
    "duration": 35,
    "start_time": "2022-10-06T20:20:08.975Z"
   },
   {
    "duration": 44,
    "start_time": "2022-10-06T20:20:09.021Z"
   },
   {
    "duration": 14,
    "start_time": "2022-10-06T20:20:09.067Z"
   },
   {
    "duration": 237,
    "start_time": "2022-10-06T20:20:09.085Z"
   },
   {
    "duration": 38,
    "start_time": "2022-10-06T20:20:09.324Z"
   },
   {
    "duration": 6,
    "start_time": "2022-10-06T20:20:09.363Z"
   },
   {
    "duration": 15,
    "start_time": "2022-10-06T20:20:09.370Z"
   },
   {
    "duration": 6,
    "start_time": "2022-10-06T20:20:09.387Z"
   },
   {
    "duration": 83,
    "start_time": "2022-10-06T20:20:09.394Z"
   },
   {
    "duration": 4,
    "start_time": "2022-10-06T20:20:09.479Z"
   },
   {
    "duration": 77,
    "start_time": "2022-10-06T20:20:09.485Z"
   },
   {
    "duration": 26,
    "start_time": "2022-10-06T20:20:09.564Z"
   },
   {
    "duration": 54,
    "start_time": "2022-10-06T20:20:09.592Z"
   },
   {
    "duration": 11,
    "start_time": "2022-10-06T20:20:09.647Z"
   },
   {
    "duration": 21,
    "start_time": "2022-10-06T20:20:09.659Z"
   },
   {
    "duration": 44,
    "start_time": "2022-10-06T20:20:09.681Z"
   },
   {
    "duration": 17,
    "start_time": "2022-10-06T20:20:09.726Z"
   },
   {
    "duration": 12,
    "start_time": "2022-10-06T20:20:09.744Z"
   },
   {
    "duration": 7,
    "start_time": "2022-10-06T20:20:09.757Z"
   },
   {
    "duration": 22,
    "start_time": "2022-10-06T20:20:09.766Z"
   },
   {
    "duration": 32,
    "start_time": "2022-10-06T20:20:09.790Z"
   },
   {
    "duration": 18,
    "start_time": "2022-10-06T20:20:09.824Z"
   },
   {
    "duration": 17,
    "start_time": "2022-10-06T20:20:09.844Z"
   },
   {
    "duration": 32,
    "start_time": "2022-10-06T20:20:09.863Z"
   },
   {
    "duration": 20,
    "start_time": "2022-10-06T20:20:09.897Z"
   },
   {
    "duration": 234,
    "start_time": "2022-10-06T20:20:09.918Z"
   },
   {
    "duration": 85,
    "start_time": "2022-10-06T20:20:10.154Z"
   },
   {
    "duration": 215,
    "start_time": "2022-10-06T20:20:10.241Z"
   },
   {
    "duration": 239,
    "start_time": "2022-10-06T20:20:10.458Z"
   },
   {
    "duration": 49,
    "start_time": "2022-10-06T20:20:10.699Z"
   },
   {
    "duration": 203,
    "start_time": "2022-10-06T20:20:10.751Z"
   },
   {
    "duration": 235,
    "start_time": "2022-10-06T20:20:10.956Z"
   },
   {
    "duration": 323,
    "start_time": "2022-10-06T20:20:11.192Z"
   },
   {
    "duration": 0,
    "start_time": "2022-10-06T20:20:11.516Z"
   },
   {
    "duration": 88,
    "start_time": "2022-10-06T21:04:50.483Z"
   },
   {
    "duration": 80,
    "start_time": "2022-10-06T21:06:03.701Z"
   },
   {
    "duration": 64,
    "start_time": "2022-10-06T21:06:43.408Z"
   },
   {
    "duration": 84,
    "start_time": "2022-10-06T21:06:50.508Z"
   },
   {
    "duration": 74,
    "start_time": "2022-10-06T21:07:33.441Z"
   },
   {
    "duration": 75,
    "start_time": "2022-10-06T21:08:13.821Z"
   },
   {
    "duration": 28,
    "start_time": "2022-10-06T21:08:21.050Z"
   },
   {
    "duration": 86,
    "start_time": "2022-10-06T21:08:31.252Z"
   },
   {
    "duration": 74,
    "start_time": "2022-10-06T21:08:40.679Z"
   },
   {
    "duration": 26,
    "start_time": "2022-10-06T21:09:29.268Z"
   },
   {
    "duration": 81,
    "start_time": "2022-10-06T21:09:37.038Z"
   },
   {
    "duration": 994,
    "start_time": "2022-10-06T21:09:51.243Z"
   },
   {
    "duration": 423,
    "start_time": "2022-10-06T21:09:52.239Z"
   },
   {
    "duration": 42,
    "start_time": "2022-10-06T21:09:52.664Z"
   },
   {
    "duration": 60,
    "start_time": "2022-10-06T21:09:52.707Z"
   },
   {
    "duration": 29,
    "start_time": "2022-10-06T21:09:52.769Z"
   },
   {
    "duration": 57,
    "start_time": "2022-10-06T21:09:52.821Z"
   },
   {
    "duration": 12,
    "start_time": "2022-10-06T21:09:52.880Z"
   },
   {
    "duration": 136,
    "start_time": "2022-10-06T21:09:52.893Z"
   },
   {
    "duration": 8,
    "start_time": "2022-10-06T21:09:53.030Z"
   },
   {
    "duration": 60,
    "start_time": "2022-10-06T21:09:53.040Z"
   },
   {
    "duration": 46,
    "start_time": "2022-10-06T21:09:53.102Z"
   },
   {
    "duration": 41,
    "start_time": "2022-10-06T21:09:53.149Z"
   },
   {
    "duration": 11,
    "start_time": "2022-10-06T21:09:53.191Z"
   },
   {
    "duration": 201,
    "start_time": "2022-10-06T21:09:53.203Z"
   },
   {
    "duration": 33,
    "start_time": "2022-10-06T21:09:53.405Z"
   },
   {
    "duration": 5,
    "start_time": "2022-10-06T21:09:53.440Z"
   },
   {
    "duration": 11,
    "start_time": "2022-10-06T21:09:53.447Z"
   },
   {
    "duration": 16,
    "start_time": "2022-10-06T21:09:53.460Z"
   },
   {
    "duration": 61,
    "start_time": "2022-10-06T21:09:53.477Z"
   },
   {
    "duration": 5,
    "start_time": "2022-10-06T21:09:53.541Z"
   },
   {
    "duration": 88,
    "start_time": "2022-10-06T21:09:53.549Z"
   },
   {
    "duration": 29,
    "start_time": "2022-10-06T21:09:53.639Z"
   },
   {
    "duration": 33,
    "start_time": "2022-10-06T21:09:53.670Z"
   },
   {
    "duration": 13,
    "start_time": "2022-10-06T21:09:53.722Z"
   },
   {
    "duration": 33,
    "start_time": "2022-10-06T21:09:53.736Z"
   },
   {
    "duration": 40,
    "start_time": "2022-10-06T21:09:53.771Z"
   },
   {
    "duration": 15,
    "start_time": "2022-10-06T21:09:53.813Z"
   },
   {
    "duration": 9,
    "start_time": "2022-10-06T21:09:53.831Z"
   },
   {
    "duration": 6,
    "start_time": "2022-10-06T21:09:53.842Z"
   },
   {
    "duration": 16,
    "start_time": "2022-10-06T21:09:53.850Z"
   },
   {
    "duration": 24,
    "start_time": "2022-10-06T21:09:53.868Z"
   },
   {
    "duration": 28,
    "start_time": "2022-10-06T21:09:53.894Z"
   },
   {
    "duration": 4,
    "start_time": "2022-10-06T21:09:53.924Z"
   },
   {
    "duration": 26,
    "start_time": "2022-10-06T21:09:53.930Z"
   },
   {
    "duration": 15,
    "start_time": "2022-10-06T21:09:53.958Z"
   },
   {
    "duration": 265,
    "start_time": "2022-10-06T21:09:53.975Z"
   },
   {
    "duration": 93,
    "start_time": "2022-10-06T21:09:54.241Z"
   },
   {
    "duration": 212,
    "start_time": "2022-10-06T21:09:54.336Z"
   },
   {
    "duration": 240,
    "start_time": "2022-10-06T21:09:54.550Z"
   },
   {
    "duration": 56,
    "start_time": "2022-10-06T21:09:54.792Z"
   },
   {
    "duration": 215,
    "start_time": "2022-10-06T21:09:54.850Z"
   },
   {
    "duration": 232,
    "start_time": "2022-10-06T21:09:55.067Z"
   },
   {
    "duration": 74,
    "start_time": "2022-10-06T21:09:55.300Z"
   },
   {
    "duration": 0,
    "start_time": "2022-10-06T21:09:55.376Z"
   },
   {
    "duration": 115,
    "start_time": "2022-10-06T21:10:54.781Z"
   },
   {
    "duration": 1723,
    "start_time": "2022-10-06T21:11:02.467Z"
   },
   {
    "duration": 78,
    "start_time": "2022-10-06T21:11:10.180Z"
   },
   {
    "duration": 36,
    "start_time": "2022-10-06T21:11:29.181Z"
   },
   {
    "duration": 171,
    "start_time": "2022-10-06T21:22:23.168Z"
   },
   {
    "duration": 15,
    "start_time": "2022-10-06T21:51:54.900Z"
   },
   {
    "duration": 5,
    "start_time": "2022-10-06T21:53:37.151Z"
   },
   {
    "duration": 1004,
    "start_time": "2022-10-06T21:55:29.840Z"
   },
   {
    "duration": 422,
    "start_time": "2022-10-06T21:55:30.845Z"
   },
   {
    "duration": 39,
    "start_time": "2022-10-06T21:55:31.269Z"
   },
   {
    "duration": 63,
    "start_time": "2022-10-06T21:55:31.309Z"
   },
   {
    "duration": 28,
    "start_time": "2022-10-06T21:55:31.375Z"
   },
   {
    "duration": 60,
    "start_time": "2022-10-06T21:55:31.421Z"
   },
   {
    "duration": 13,
    "start_time": "2022-10-06T21:55:31.483Z"
   },
   {
    "duration": 137,
    "start_time": "2022-10-06T21:55:31.497Z"
   },
   {
    "duration": 8,
    "start_time": "2022-10-06T21:55:31.636Z"
   },
   {
    "duration": 59,
    "start_time": "2022-10-06T21:55:31.645Z"
   },
   {
    "duration": 46,
    "start_time": "2022-10-06T21:55:31.705Z"
   },
   {
    "duration": 39,
    "start_time": "2022-10-06T21:55:31.752Z"
   },
   {
    "duration": 30,
    "start_time": "2022-10-06T21:55:31.792Z"
   },
   {
    "duration": 181,
    "start_time": "2022-10-06T21:55:31.826Z"
   },
   {
    "duration": 31,
    "start_time": "2022-10-06T21:55:32.009Z"
   },
   {
    "duration": 4,
    "start_time": "2022-10-06T21:55:32.042Z"
   },
   {
    "duration": 7,
    "start_time": "2022-10-06T21:55:32.047Z"
   },
   {
    "duration": 8,
    "start_time": "2022-10-06T21:55:32.056Z"
   },
   {
    "duration": 39,
    "start_time": "2022-10-06T21:55:32.066Z"
   },
   {
    "duration": 4,
    "start_time": "2022-10-06T21:55:32.121Z"
   },
   {
    "duration": 57,
    "start_time": "2022-10-06T21:55:32.127Z"
   },
   {
    "duration": 37,
    "start_time": "2022-10-06T21:55:32.185Z"
   },
   {
    "duration": 28,
    "start_time": "2022-10-06T21:55:32.223Z"
   },
   {
    "duration": 9,
    "start_time": "2022-10-06T21:55:32.252Z"
   },
   {
    "duration": 28,
    "start_time": "2022-10-06T21:55:32.262Z"
   },
   {
    "duration": 38,
    "start_time": "2022-10-06T21:55:32.291Z"
   },
   {
    "duration": 10,
    "start_time": "2022-10-06T21:55:32.330Z"
   },
   {
    "duration": 25,
    "start_time": "2022-10-06T21:55:32.341Z"
   },
   {
    "duration": 5,
    "start_time": "2022-10-06T21:55:32.368Z"
   },
   {
    "duration": 17,
    "start_time": "2022-10-06T21:55:32.375Z"
   },
   {
    "duration": 8,
    "start_time": "2022-10-06T21:55:32.393Z"
   },
   {
    "duration": 21,
    "start_time": "2022-10-06T21:55:32.402Z"
   },
   {
    "duration": 4,
    "start_time": "2022-10-06T21:55:32.424Z"
   },
   {
    "duration": 26,
    "start_time": "2022-10-06T21:55:32.429Z"
   },
   {
    "duration": 14,
    "start_time": "2022-10-06T21:55:32.457Z"
   },
   {
    "duration": 218,
    "start_time": "2022-10-06T21:55:32.473Z"
   },
   {
    "duration": 73,
    "start_time": "2022-10-06T21:55:32.692Z"
   },
   {
    "duration": 183,
    "start_time": "2022-10-06T21:55:32.767Z"
   },
   {
    "duration": 225,
    "start_time": "2022-10-06T21:55:32.951Z"
   },
   {
    "duration": 46,
    "start_time": "2022-10-06T21:55:33.178Z"
   },
   {
    "duration": 201,
    "start_time": "2022-10-06T21:55:33.228Z"
   },
   {
    "duration": 200,
    "start_time": "2022-10-06T21:55:33.430Z"
   },
   {
    "duration": 36,
    "start_time": "2022-10-06T21:55:33.632Z"
   },
   {
    "duration": 192,
    "start_time": "2022-10-06T21:55:33.670Z"
   },
   {
    "duration": 6,
    "start_time": "2022-10-06T21:55:33.863Z"
   },
   {
    "duration": 976,
    "start_time": "2022-10-06T22:00:56.965Z"
   },
   {
    "duration": 405,
    "start_time": "2022-10-06T22:00:57.943Z"
   },
   {
    "duration": 48,
    "start_time": "2022-10-06T22:00:58.350Z"
   },
   {
    "duration": 73,
    "start_time": "2022-10-06T22:00:58.400Z"
   },
   {
    "duration": 50,
    "start_time": "2022-10-06T22:00:58.476Z"
   },
   {
    "duration": 65,
    "start_time": "2022-10-06T22:00:58.527Z"
   },
   {
    "duration": 34,
    "start_time": "2022-10-06T22:00:58.593Z"
   },
   {
    "duration": 123,
    "start_time": "2022-10-06T22:00:58.628Z"
   },
   {
    "duration": 8,
    "start_time": "2022-10-06T22:00:58.752Z"
   },
   {
    "duration": 78,
    "start_time": "2022-10-06T22:00:58.762Z"
   },
   {
    "duration": 33,
    "start_time": "2022-10-06T22:00:58.842Z"
   },
   {
    "duration": 54,
    "start_time": "2022-10-06T22:00:58.876Z"
   },
   {
    "duration": 11,
    "start_time": "2022-10-06T22:00:58.932Z"
   },
   {
    "duration": 186,
    "start_time": "2022-10-06T22:00:58.946Z"
   },
   {
    "duration": 27,
    "start_time": "2022-10-06T22:00:59.134Z"
   },
   {
    "duration": 4,
    "start_time": "2022-10-06T22:00:59.162Z"
   },
   {
    "duration": 20,
    "start_time": "2022-10-06T22:00:59.168Z"
   },
   {
    "duration": 5,
    "start_time": "2022-10-06T22:00:59.190Z"
   },
   {
    "duration": 54,
    "start_time": "2022-10-06T22:00:59.197Z"
   },
   {
    "duration": 4,
    "start_time": "2022-10-06T22:00:59.252Z"
   },
   {
    "duration": 65,
    "start_time": "2022-10-06T22:00:59.257Z"
   },
   {
    "duration": 26,
    "start_time": "2022-10-06T22:00:59.323Z"
   },
   {
    "duration": 29,
    "start_time": "2022-10-06T22:00:59.350Z"
   },
   {
    "duration": 11,
    "start_time": "2022-10-06T22:00:59.381Z"
   },
   {
    "duration": 43,
    "start_time": "2022-10-06T22:00:59.393Z"
   },
   {
    "duration": 23,
    "start_time": "2022-10-06T22:00:59.438Z"
   },
   {
    "duration": 11,
    "start_time": "2022-10-06T22:00:59.462Z"
   },
   {
    "duration": 8,
    "start_time": "2022-10-06T22:00:59.474Z"
   },
   {
    "duration": 5,
    "start_time": "2022-10-06T22:00:59.483Z"
   },
   {
    "duration": 38,
    "start_time": "2022-10-06T22:00:59.490Z"
   },
   {
    "duration": 10,
    "start_time": "2022-10-06T22:00:59.529Z"
   },
   {
    "duration": 16,
    "start_time": "2022-10-06T22:00:59.540Z"
   },
   {
    "duration": 3,
    "start_time": "2022-10-06T22:00:59.558Z"
   },
   {
    "duration": 13,
    "start_time": "2022-10-06T22:00:59.563Z"
   },
   {
    "duration": 16,
    "start_time": "2022-10-06T22:00:59.577Z"
   },
   {
    "duration": 239,
    "start_time": "2022-10-06T22:00:59.594Z"
   },
   {
    "duration": 62,
    "start_time": "2022-10-06T22:00:59.835Z"
   },
   {
    "duration": 192,
    "start_time": "2022-10-06T22:00:59.898Z"
   },
   {
    "duration": 213,
    "start_time": "2022-10-06T22:01:00.091Z"
   },
   {
    "duration": 44,
    "start_time": "2022-10-06T22:01:00.305Z"
   },
   {
    "duration": 187,
    "start_time": "2022-10-06T22:01:00.352Z"
   },
   {
    "duration": 216,
    "start_time": "2022-10-06T22:01:00.541Z"
   },
   {
    "duration": 35,
    "start_time": "2022-10-06T22:01:00.758Z"
   },
   {
    "duration": 188,
    "start_time": "2022-10-06T22:01:00.794Z"
   },
   {
    "duration": 98,
    "start_time": "2022-10-06T22:01:00.984Z"
   },
   {
    "duration": 0,
    "start_time": "2022-10-06T22:01:01.084Z"
   },
   {
    "duration": 11,
    "start_time": "2022-10-06T22:01:15.741Z"
   },
   {
    "duration": 16,
    "start_time": "2022-10-06T22:01:31.681Z"
   },
   {
    "duration": 16,
    "start_time": "2022-10-06T22:01:44.689Z"
   },
   {
    "duration": 10,
    "start_time": "2022-10-06T22:01:52.197Z"
   },
   {
    "duration": 5,
    "start_time": "2022-10-06T22:05:17.640Z"
   },
   {
    "duration": 9,
    "start_time": "2022-10-06T22:08:44.628Z"
   },
   {
    "duration": 994,
    "start_time": "2022-10-06T22:08:53.067Z"
   },
   {
    "duration": 440,
    "start_time": "2022-10-06T22:08:54.063Z"
   },
   {
    "duration": 43,
    "start_time": "2022-10-06T22:08:54.504Z"
   },
   {
    "duration": 76,
    "start_time": "2022-10-06T22:08:54.549Z"
   },
   {
    "duration": 30,
    "start_time": "2022-10-06T22:08:54.626Z"
   },
   {
    "duration": 82,
    "start_time": "2022-10-06T22:08:54.657Z"
   },
   {
    "duration": 14,
    "start_time": "2022-10-06T22:08:54.741Z"
   },
   {
    "duration": 130,
    "start_time": "2022-10-06T22:08:54.757Z"
   },
   {
    "duration": 8,
    "start_time": "2022-10-06T22:08:54.889Z"
   },
   {
    "duration": 71,
    "start_time": "2022-10-06T22:08:54.899Z"
   },
   {
    "duration": 34,
    "start_time": "2022-10-06T22:08:54.972Z"
   },
   {
    "duration": 52,
    "start_time": "2022-10-06T22:08:55.008Z"
   },
   {
    "duration": 13,
    "start_time": "2022-10-06T22:08:55.062Z"
   },
   {
    "duration": 219,
    "start_time": "2022-10-06T22:08:55.077Z"
   },
   {
    "duration": 32,
    "start_time": "2022-10-06T22:08:55.297Z"
   },
   {
    "duration": 4,
    "start_time": "2022-10-06T22:08:55.331Z"
   },
   {
    "duration": 7,
    "start_time": "2022-10-06T22:08:55.336Z"
   },
   {
    "duration": 16,
    "start_time": "2022-10-06T22:08:55.344Z"
   },
   {
    "duration": 65,
    "start_time": "2022-10-06T22:08:55.361Z"
   },
   {
    "duration": 4,
    "start_time": "2022-10-06T22:08:55.428Z"
   },
   {
    "duration": 66,
    "start_time": "2022-10-06T22:08:55.434Z"
   },
   {
    "duration": 43,
    "start_time": "2022-10-06T22:08:55.503Z"
   },
   {
    "duration": 28,
    "start_time": "2022-10-06T22:08:55.548Z"
   },
   {
    "duration": 9,
    "start_time": "2022-10-06T22:08:55.578Z"
   },
   {
    "duration": 38,
    "start_time": "2022-10-06T22:08:55.589Z"
   },
   {
    "duration": 25,
    "start_time": "2022-10-06T22:08:55.629Z"
   },
   {
    "duration": 12,
    "start_time": "2022-10-06T22:08:55.656Z"
   },
   {
    "duration": 9,
    "start_time": "2022-10-06T22:08:55.671Z"
   },
   {
    "duration": 6,
    "start_time": "2022-10-06T22:08:55.681Z"
   },
   {
    "duration": 41,
    "start_time": "2022-10-06T22:08:55.689Z"
   },
   {
    "duration": 5,
    "start_time": "2022-10-06T22:08:55.732Z"
   },
   {
    "duration": 20,
    "start_time": "2022-10-06T22:08:55.739Z"
   },
   {
    "duration": 4,
    "start_time": "2022-10-06T22:08:55.760Z"
   },
   {
    "duration": 14,
    "start_time": "2022-10-06T22:08:55.765Z"
   },
   {
    "duration": 13,
    "start_time": "2022-10-06T22:08:55.781Z"
   },
   {
    "duration": 303,
    "start_time": "2022-10-06T22:08:55.821Z"
   },
   {
    "duration": 76,
    "start_time": "2022-10-06T22:08:56.125Z"
   },
   {
    "duration": 236,
    "start_time": "2022-10-06T22:08:56.202Z"
   },
   {
    "duration": 235,
    "start_time": "2022-10-06T22:08:56.440Z"
   },
   {
    "duration": 52,
    "start_time": "2022-10-06T22:08:56.676Z"
   },
   {
    "duration": 202,
    "start_time": "2022-10-06T22:08:56.730Z"
   },
   {
    "duration": 222,
    "start_time": "2022-10-06T22:08:56.934Z"
   },
   {
    "duration": 36,
    "start_time": "2022-10-06T22:08:57.158Z"
   },
   {
    "duration": 204,
    "start_time": "2022-10-06T22:08:57.195Z"
   },
   {
    "duration": 5,
    "start_time": "2022-10-06T22:08:57.400Z"
   },
   {
    "duration": 28,
    "start_time": "2022-10-06T22:08:57.406Z"
   },
   {
    "duration": 15,
    "start_time": "2022-10-06T22:08:57.435Z"
   },
   {
    "duration": 96,
    "start_time": "2022-10-06T22:08:57.452Z"
   },
   {
    "duration": 6,
    "start_time": "2022-10-06T22:10:23.801Z"
   },
   {
    "duration": 1181,
    "start_time": "2022-10-07T07:01:08.744Z"
   },
   {
    "duration": 1161,
    "start_time": "2022-10-07T07:01:09.927Z"
   },
   {
    "duration": 48,
    "start_time": "2022-10-07T07:01:11.090Z"
   },
   {
    "duration": 90,
    "start_time": "2022-10-07T07:01:11.140Z"
   },
   {
    "duration": 33,
    "start_time": "2022-10-07T07:01:11.232Z"
   },
   {
    "duration": 83,
    "start_time": "2022-10-07T07:01:11.267Z"
   },
   {
    "duration": 14,
    "start_time": "2022-10-07T07:01:11.351Z"
   },
   {
    "duration": 137,
    "start_time": "2022-10-07T07:01:11.366Z"
   },
   {
    "duration": 8,
    "start_time": "2022-10-07T07:01:11.505Z"
   },
   {
    "duration": 67,
    "start_time": "2022-10-07T07:01:11.515Z"
   },
   {
    "duration": 40,
    "start_time": "2022-10-07T07:01:11.584Z"
   },
   {
    "duration": 44,
    "start_time": "2022-10-07T07:01:11.625Z"
   },
   {
    "duration": 32,
    "start_time": "2022-10-07T07:01:11.671Z"
   },
   {
    "duration": 191,
    "start_time": "2022-10-07T07:01:11.706Z"
   },
   {
    "duration": 26,
    "start_time": "2022-10-07T07:01:11.899Z"
   },
   {
    "duration": 5,
    "start_time": "2022-10-07T07:01:11.927Z"
   },
   {
    "duration": 5,
    "start_time": "2022-10-07T07:01:11.934Z"
   },
   {
    "duration": 6,
    "start_time": "2022-10-07T07:01:11.941Z"
   },
   {
    "duration": 82,
    "start_time": "2022-10-07T07:01:11.949Z"
   },
   {
    "duration": 5,
    "start_time": "2022-10-07T07:01:12.033Z"
   },
   {
    "duration": 66,
    "start_time": "2022-10-07T07:01:12.040Z"
   },
   {
    "duration": 26,
    "start_time": "2022-10-07T07:01:12.108Z"
   },
   {
    "duration": 28,
    "start_time": "2022-10-07T07:01:12.136Z"
   },
   {
    "duration": 34,
    "start_time": "2022-10-07T07:01:12.166Z"
   },
   {
    "duration": 20,
    "start_time": "2022-10-07T07:01:12.202Z"
   },
   {
    "duration": 24,
    "start_time": "2022-10-07T07:01:12.224Z"
   },
   {
    "duration": 11,
    "start_time": "2022-10-07T07:01:12.249Z"
   },
   {
    "duration": 36,
    "start_time": "2022-10-07T07:01:12.261Z"
   },
   {
    "duration": 6,
    "start_time": "2022-10-07T07:01:12.299Z"
   },
   {
    "duration": 12,
    "start_time": "2022-10-07T07:01:12.306Z"
   },
   {
    "duration": 8,
    "start_time": "2022-10-07T07:01:12.320Z"
   },
   {
    "duration": 16,
    "start_time": "2022-10-07T07:01:12.329Z"
   },
   {
    "duration": 3,
    "start_time": "2022-10-07T07:01:12.347Z"
   },
   {
    "duration": 12,
    "start_time": "2022-10-07T07:01:12.352Z"
   },
   {
    "duration": 40,
    "start_time": "2022-10-07T07:01:12.366Z"
   },
   {
    "duration": 251,
    "start_time": "2022-10-07T07:01:12.408Z"
   },
   {
    "duration": 81,
    "start_time": "2022-10-07T07:01:12.660Z"
   },
   {
    "duration": 232,
    "start_time": "2022-10-07T07:01:12.742Z"
   },
   {
    "duration": 229,
    "start_time": "2022-10-07T07:01:12.976Z"
   },
   {
    "duration": 36,
    "start_time": "2022-10-07T07:01:13.207Z"
   },
   {
    "duration": 222,
    "start_time": "2022-10-07T07:01:13.245Z"
   },
   {
    "duration": 240,
    "start_time": "2022-10-07T07:01:13.468Z"
   },
   {
    "duration": 37,
    "start_time": "2022-10-07T07:01:13.709Z"
   },
   {
    "duration": 215,
    "start_time": "2022-10-07T07:01:13.748Z"
   },
   {
    "duration": 7,
    "start_time": "2022-10-07T07:01:13.964Z"
   },
   {
    "duration": 22,
    "start_time": "2022-10-07T07:01:13.973Z"
   },
   {
    "duration": 7,
    "start_time": "2022-10-07T07:01:13.997Z"
   },
   {
    "duration": 15,
    "start_time": "2022-10-07T08:32:28.238Z"
   },
   {
    "duration": 15,
    "start_time": "2022-10-07T08:32:39.268Z"
   },
   {
    "duration": 25,
    "start_time": "2022-10-07T08:32:46.780Z"
   },
   {
    "duration": 18,
    "start_time": "2022-10-07T08:36:13.183Z"
   },
   {
    "duration": 23,
    "start_time": "2022-10-07T08:36:54.216Z"
   },
   {
    "duration": 6,
    "start_time": "2022-10-07T08:51:26.461Z"
   },
   {
    "duration": 7,
    "start_time": "2022-10-07T08:55:52.834Z"
   },
   {
    "duration": 6,
    "start_time": "2022-10-07T08:55:59.657Z"
   },
   {
    "duration": 28,
    "start_time": "2022-10-07T09:07:20.656Z"
   },
   {
    "duration": 29,
    "start_time": "2022-10-07T09:07:55.922Z"
   },
   {
    "duration": 29,
    "start_time": "2022-10-07T09:12:26.072Z"
   },
   {
    "duration": 27,
    "start_time": "2022-10-07T09:13:22.904Z"
   },
   {
    "duration": 32,
    "start_time": "2022-10-07T09:13:40.105Z"
   },
   {
    "duration": 30,
    "start_time": "2022-10-07T09:14:41.067Z"
   },
   {
    "duration": 27,
    "start_time": "2022-10-07T09:14:48.606Z"
   },
   {
    "duration": 27,
    "start_time": "2022-10-07T09:18:23.666Z"
   },
   {
    "duration": 164,
    "start_time": "2022-10-07T09:18:24.689Z"
   },
   {
    "duration": 5,
    "start_time": "2022-10-07T09:18:54.654Z"
   },
   {
    "duration": 8,
    "start_time": "2022-10-07T09:24:12.214Z"
   },
   {
    "duration": 92,
    "start_time": "2022-10-07T09:24:13.397Z"
   },
   {
    "duration": 43,
    "start_time": "2022-10-07T09:25:33.580Z"
   },
   {
    "duration": 27,
    "start_time": "2022-10-07T09:26:33.639Z"
   },
   {
    "duration": 47,
    "start_time": "2022-10-07T09:26:50.499Z"
   },
   {
    "duration": 11,
    "start_time": "2022-10-07T09:28:54.206Z"
   },
   {
    "duration": 1039,
    "start_time": "2022-10-07T09:29:15.520Z"
   },
   {
    "duration": 477,
    "start_time": "2022-10-07T09:29:16.565Z"
   },
   {
    "duration": 47,
    "start_time": "2022-10-07T09:29:17.044Z"
   },
   {
    "duration": 69,
    "start_time": "2022-10-07T09:29:17.095Z"
   },
   {
    "duration": 52,
    "start_time": "2022-10-07T09:29:17.166Z"
   },
   {
    "duration": 88,
    "start_time": "2022-10-07T09:29:17.220Z"
   },
   {
    "duration": 16,
    "start_time": "2022-10-07T09:29:17.309Z"
   },
   {
    "duration": 145,
    "start_time": "2022-10-07T09:29:17.327Z"
   },
   {
    "duration": 8,
    "start_time": "2022-10-07T09:29:17.474Z"
   },
   {
    "duration": 74,
    "start_time": "2022-10-07T09:29:17.495Z"
   },
   {
    "duration": 46,
    "start_time": "2022-10-07T09:29:17.570Z"
   },
   {
    "duration": 41,
    "start_time": "2022-10-07T09:29:17.617Z"
   },
   {
    "duration": 12,
    "start_time": "2022-10-07T09:29:17.660Z"
   },
   {
    "duration": 220,
    "start_time": "2022-10-07T09:29:17.675Z"
   },
   {
    "duration": 25,
    "start_time": "2022-10-07T09:29:17.897Z"
   },
   {
    "duration": 5,
    "start_time": "2022-10-07T09:29:17.923Z"
   },
   {
    "duration": 8,
    "start_time": "2022-10-07T09:29:17.930Z"
   },
   {
    "duration": 7,
    "start_time": "2022-10-07T09:29:17.940Z"
   },
   {
    "duration": 79,
    "start_time": "2022-10-07T09:29:17.948Z"
   },
   {
    "duration": 6,
    "start_time": "2022-10-07T09:29:18.029Z"
   },
   {
    "duration": 78,
    "start_time": "2022-10-07T09:29:18.037Z"
   },
   {
    "duration": 28,
    "start_time": "2022-10-07T09:29:18.117Z"
   },
   {
    "duration": 29,
    "start_time": "2022-10-07T09:29:18.147Z"
   },
   {
    "duration": 27,
    "start_time": "2022-10-07T09:29:18.177Z"
   },
   {
    "duration": 25,
    "start_time": "2022-10-07T09:29:18.205Z"
   },
   {
    "duration": 27,
    "start_time": "2022-10-07T09:29:18.232Z"
   },
   {
    "duration": 37,
    "start_time": "2022-10-07T09:29:18.260Z"
   },
   {
    "duration": 9,
    "start_time": "2022-10-07T09:29:18.299Z"
   },
   {
    "duration": 7,
    "start_time": "2022-10-07T09:29:18.310Z"
   },
   {
    "duration": 11,
    "start_time": "2022-10-07T09:29:18.319Z"
   },
   {
    "duration": 7,
    "start_time": "2022-10-07T09:29:18.332Z"
   },
   {
    "duration": 19,
    "start_time": "2022-10-07T09:29:18.340Z"
   },
   {
    "duration": 4,
    "start_time": "2022-10-07T09:29:18.360Z"
   },
   {
    "duration": 12,
    "start_time": "2022-10-07T09:29:18.395Z"
   },
   {
    "duration": 15,
    "start_time": "2022-10-07T09:29:18.409Z"
   },
   {
    "duration": 269,
    "start_time": "2022-10-07T09:29:18.426Z"
   },
   {
    "duration": 72,
    "start_time": "2022-10-07T09:29:18.696Z"
   },
   {
    "duration": 240,
    "start_time": "2022-10-07T09:29:18.769Z"
   },
   {
    "duration": 246,
    "start_time": "2022-10-07T09:29:19.011Z"
   },
   {
    "duration": 50,
    "start_time": "2022-10-07T09:29:19.259Z"
   },
   {
    "duration": 215,
    "start_time": "2022-10-07T09:29:19.313Z"
   },
   {
    "duration": 232,
    "start_time": "2022-10-07T09:29:19.530Z"
   },
   {
    "duration": 51,
    "start_time": "2022-10-07T09:29:19.763Z"
   },
   {
    "duration": 208,
    "start_time": "2022-10-07T09:29:19.816Z"
   },
   {
    "duration": 32,
    "start_time": "2022-10-07T09:29:20.026Z"
   },
   {
    "duration": 6,
    "start_time": "2022-10-07T09:29:20.060Z"
   },
   {
    "duration": 43,
    "start_time": "2022-10-07T09:29:20.067Z"
   },
   {
    "duration": 26,
    "start_time": "2022-10-07T09:29:20.111Z"
   },
   {
    "duration": 111,
    "start_time": "2022-10-07T09:29:20.139Z"
   },
   {
    "duration": 0,
    "start_time": "2022-10-07T09:29:20.251Z"
   },
   {
    "duration": 1060,
    "start_time": "2022-10-07T09:29:54.278Z"
   },
   {
    "duration": 426,
    "start_time": "2022-10-07T09:29:55.340Z"
   },
   {
    "duration": 45,
    "start_time": "2022-10-07T09:29:55.768Z"
   },
   {
    "duration": 81,
    "start_time": "2022-10-07T09:29:55.814Z"
   },
   {
    "duration": 31,
    "start_time": "2022-10-07T09:29:55.897Z"
   },
   {
    "duration": 89,
    "start_time": "2022-10-07T09:29:55.929Z"
   },
   {
    "duration": 17,
    "start_time": "2022-10-07T09:29:56.020Z"
   },
   {
    "duration": 138,
    "start_time": "2022-10-07T09:29:56.038Z"
   },
   {
    "duration": 18,
    "start_time": "2022-10-07T09:29:56.178Z"
   },
   {
    "duration": 66,
    "start_time": "2022-10-07T09:29:56.198Z"
   },
   {
    "duration": 42,
    "start_time": "2022-10-07T09:29:56.265Z"
   },
   {
    "duration": 40,
    "start_time": "2022-10-07T09:29:56.308Z"
   },
   {
    "duration": 12,
    "start_time": "2022-10-07T09:29:56.350Z"
   },
   {
    "duration": 232,
    "start_time": "2022-10-07T09:29:56.365Z"
   },
   {
    "duration": 32,
    "start_time": "2022-10-07T09:29:56.599Z"
   },
   {
    "duration": 7,
    "start_time": "2022-10-07T09:29:56.633Z"
   },
   {
    "duration": 18,
    "start_time": "2022-10-07T09:29:56.642Z"
   },
   {
    "duration": 19,
    "start_time": "2022-10-07T09:29:56.662Z"
   },
   {
    "duration": 59,
    "start_time": "2022-10-07T09:29:56.683Z"
   },
   {
    "duration": 7,
    "start_time": "2022-10-07T09:29:56.744Z"
   },
   {
    "duration": 85,
    "start_time": "2022-10-07T09:29:56.753Z"
   },
   {
    "duration": 33,
    "start_time": "2022-10-07T09:29:56.839Z"
   },
   {
    "duration": 40,
    "start_time": "2022-10-07T09:29:56.873Z"
   },
   {
    "duration": 10,
    "start_time": "2022-10-07T09:29:56.915Z"
   },
   {
    "duration": 29,
    "start_time": "2022-10-07T09:29:56.926Z"
   },
   {
    "duration": 43,
    "start_time": "2022-10-07T09:29:56.957Z"
   },
   {
    "duration": 13,
    "start_time": "2022-10-07T09:29:57.001Z"
   },
   {
    "duration": 10,
    "start_time": "2022-10-07T09:29:57.016Z"
   },
   {
    "duration": 13,
    "start_time": "2022-10-07T09:29:57.027Z"
   },
   {
    "duration": 13,
    "start_time": "2022-10-07T09:29:57.041Z"
   },
   {
    "duration": 14,
    "start_time": "2022-10-07T09:29:57.055Z"
   },
   {
    "duration": 45,
    "start_time": "2022-10-07T09:29:57.071Z"
   },
   {
    "duration": 5,
    "start_time": "2022-10-07T09:29:57.118Z"
   },
   {
    "duration": 18,
    "start_time": "2022-10-07T09:29:57.124Z"
   },
   {
    "duration": 13,
    "start_time": "2022-10-07T09:29:57.144Z"
   },
   {
    "duration": 272,
    "start_time": "2022-10-07T09:29:57.159Z"
   },
   {
    "duration": 86,
    "start_time": "2022-10-07T09:29:57.433Z"
   },
   {
    "duration": 212,
    "start_time": "2022-10-07T09:29:57.522Z"
   },
   {
    "duration": 244,
    "start_time": "2022-10-07T09:29:57.735Z"
   },
   {
    "duration": 52,
    "start_time": "2022-10-07T09:29:57.980Z"
   },
   {
    "duration": 243,
    "start_time": "2022-10-07T09:29:58.035Z"
   },
   {
    "duration": 239,
    "start_time": "2022-10-07T09:29:58.279Z"
   },
   {
    "duration": 40,
    "start_time": "2022-10-07T09:29:58.519Z"
   },
   {
    "duration": 217,
    "start_time": "2022-10-07T09:29:58.561Z"
   },
   {
    "duration": 37,
    "start_time": "2022-10-07T09:29:58.780Z"
   },
   {
    "duration": 6,
    "start_time": "2022-10-07T09:29:58.819Z"
   },
   {
    "duration": 116,
    "start_time": "2022-10-07T09:29:58.827Z"
   },
   {
    "duration": 0,
    "start_time": "2022-10-07T09:29:58.945Z"
   },
   {
    "duration": 0,
    "start_time": "2022-10-07T09:29:58.946Z"
   },
   {
    "duration": 0,
    "start_time": "2022-10-07T09:29:58.947Z"
   },
   {
    "duration": 27,
    "start_time": "2022-10-07T09:31:51.775Z"
   },
   {
    "duration": 9,
    "start_time": "2022-10-07T09:33:22.054Z"
   },
   {
    "duration": 8,
    "start_time": "2022-10-07T09:33:46.280Z"
   },
   {
    "duration": 31,
    "start_time": "2022-10-07T09:33:48.147Z"
   },
   {
    "duration": 82,
    "start_time": "2022-10-07T09:34:08.465Z"
   },
   {
    "duration": 28,
    "start_time": "2022-10-07T09:34:21.815Z"
   },
   {
    "duration": 8,
    "start_time": "2022-10-07T09:35:02.024Z"
   },
   {
    "duration": 10,
    "start_time": "2022-10-07T09:35:13.290Z"
   },
   {
    "duration": 10,
    "start_time": "2022-10-07T09:35:37.047Z"
   },
   {
    "duration": 61,
    "start_time": "2022-10-07T09:36:06.568Z"
   },
   {
    "duration": 28,
    "start_time": "2022-10-07T09:39:12.868Z"
   },
   {
    "duration": 105,
    "start_time": "2022-10-07T09:39:32.239Z"
   },
   {
    "duration": 318,
    "start_time": "2022-10-07T09:39:43.918Z"
   },
   {
    "duration": 6,
    "start_time": "2022-10-07T09:39:58.526Z"
   },
   {
    "duration": 5,
    "start_time": "2022-10-07T09:41:07.644Z"
   },
   {
    "duration": 1188,
    "start_time": "2022-10-07T09:47:20.464Z"
   },
   {
    "duration": 519,
    "start_time": "2022-10-07T09:47:21.654Z"
   },
   {
    "duration": 47,
    "start_time": "2022-10-07T09:47:22.175Z"
   },
   {
    "duration": 89,
    "start_time": "2022-10-07T09:47:22.224Z"
   },
   {
    "duration": 32,
    "start_time": "2022-10-07T09:47:22.315Z"
   },
   {
    "duration": 89,
    "start_time": "2022-10-07T09:47:22.348Z"
   },
   {
    "duration": 14,
    "start_time": "2022-10-07T09:47:22.439Z"
   },
   {
    "duration": 141,
    "start_time": "2022-10-07T09:47:22.454Z"
   },
   {
    "duration": 8,
    "start_time": "2022-10-07T09:47:22.597Z"
   },
   {
    "duration": 68,
    "start_time": "2022-10-07T09:47:22.606Z"
   },
   {
    "duration": 42,
    "start_time": "2022-10-07T09:47:22.676Z"
   },
   {
    "duration": 43,
    "start_time": "2022-10-07T09:47:22.719Z"
   },
   {
    "duration": 12,
    "start_time": "2022-10-07T09:47:22.764Z"
   },
   {
    "duration": 218,
    "start_time": "2022-10-07T09:47:22.797Z"
   },
   {
    "duration": 25,
    "start_time": "2022-10-07T09:47:23.017Z"
   },
   {
    "duration": 5,
    "start_time": "2022-10-07T09:47:23.044Z"
   },
   {
    "duration": 11,
    "start_time": "2022-10-07T09:47:23.050Z"
   },
   {
    "duration": 6,
    "start_time": "2022-10-07T09:47:23.062Z"
   },
   {
    "duration": 60,
    "start_time": "2022-10-07T09:47:23.070Z"
   },
   {
    "duration": 4,
    "start_time": "2022-10-07T09:47:23.132Z"
   },
   {
    "duration": 80,
    "start_time": "2022-10-07T09:47:23.137Z"
   },
   {
    "duration": 26,
    "start_time": "2022-10-07T09:47:23.218Z"
   },
   {
    "duration": 33,
    "start_time": "2022-10-07T09:47:23.246Z"
   },
   {
    "duration": 24,
    "start_time": "2022-10-07T09:47:23.281Z"
   },
   {
    "duration": 21,
    "start_time": "2022-10-07T09:47:23.307Z"
   },
   {
    "duration": 26,
    "start_time": "2022-10-07T09:47:23.330Z"
   },
   {
    "duration": 44,
    "start_time": "2022-10-07T09:47:23.357Z"
   },
   {
    "duration": 9,
    "start_time": "2022-10-07T09:47:23.402Z"
   },
   {
    "duration": 7,
    "start_time": "2022-10-07T09:47:23.412Z"
   },
   {
    "duration": 11,
    "start_time": "2022-10-07T09:47:23.420Z"
   },
   {
    "duration": 9,
    "start_time": "2022-10-07T09:47:23.432Z"
   },
   {
    "duration": 19,
    "start_time": "2022-10-07T09:47:23.442Z"
   },
   {
    "duration": 4,
    "start_time": "2022-10-07T09:47:23.462Z"
   },
   {
    "duration": 12,
    "start_time": "2022-10-07T09:47:23.495Z"
   },
   {
    "duration": 13,
    "start_time": "2022-10-07T09:47:23.509Z"
   },
   {
    "duration": 274,
    "start_time": "2022-10-07T09:47:23.523Z"
   },
   {
    "duration": 75,
    "start_time": "2022-10-07T09:47:23.798Z"
   },
   {
    "duration": 226,
    "start_time": "2022-10-07T09:47:23.875Z"
   },
   {
    "duration": 247,
    "start_time": "2022-10-07T09:47:24.103Z"
   },
   {
    "duration": 46,
    "start_time": "2022-10-07T09:47:24.352Z"
   },
   {
    "duration": 215,
    "start_time": "2022-10-07T09:47:24.401Z"
   },
   {
    "duration": 259,
    "start_time": "2022-10-07T09:47:24.618Z"
   },
   {
    "duration": 46,
    "start_time": "2022-10-07T09:47:24.879Z"
   },
   {
    "duration": 221,
    "start_time": "2022-10-07T09:47:24.927Z"
   },
   {
    "duration": 31,
    "start_time": "2022-10-07T09:47:25.149Z"
   },
   {
    "duration": 17,
    "start_time": "2022-10-07T09:47:25.181Z"
   },
   {
    "duration": 15,
    "start_time": "2022-10-07T09:47:25.200Z"
   },
   {
    "duration": 114,
    "start_time": "2022-10-07T09:47:25.217Z"
   },
   {
    "duration": 0,
    "start_time": "2022-10-07T09:47:25.332Z"
   },
   {
    "duration": 0,
    "start_time": "2022-10-07T09:47:25.334Z"
   },
   {
    "duration": 925,
    "start_time": "2022-10-07T09:47:37.153Z"
   },
   {
    "duration": 6,
    "start_time": "2022-10-07T09:48:05.672Z"
   },
   {
    "duration": 1251,
    "start_time": "2022-10-07T09:48:08.642Z"
   },
   {
    "duration": 5,
    "start_time": "2022-10-07T09:48:16.939Z"
   },
   {
    "duration": 1051,
    "start_time": "2022-10-07T09:48:50.188Z"
   },
   {
    "duration": 436,
    "start_time": "2022-10-07T09:48:51.241Z"
   },
   {
    "duration": 45,
    "start_time": "2022-10-07T09:48:51.679Z"
   },
   {
    "duration": 85,
    "start_time": "2022-10-07T09:48:51.726Z"
   },
   {
    "duration": 30,
    "start_time": "2022-10-07T09:48:51.813Z"
   },
   {
    "duration": 90,
    "start_time": "2022-10-07T09:48:51.844Z"
   },
   {
    "duration": 14,
    "start_time": "2022-10-07T09:48:51.935Z"
   },
   {
    "duration": 145,
    "start_time": "2022-10-07T09:48:51.951Z"
   },
   {
    "duration": 8,
    "start_time": "2022-10-07T09:48:52.097Z"
   },
   {
    "duration": 78,
    "start_time": "2022-10-07T09:48:52.107Z"
   },
   {
    "duration": 34,
    "start_time": "2022-10-07T09:48:52.187Z"
   },
   {
    "duration": 45,
    "start_time": "2022-10-07T09:48:52.223Z"
   },
   {
    "duration": 12,
    "start_time": "2022-10-07T09:48:52.270Z"
   },
   {
    "duration": 198,
    "start_time": "2022-10-07T09:48:52.297Z"
   },
   {
    "duration": 25,
    "start_time": "2022-10-07T09:48:52.497Z"
   },
   {
    "duration": 7,
    "start_time": "2022-10-07T09:48:52.523Z"
   },
   {
    "duration": 29,
    "start_time": "2022-10-07T09:48:52.531Z"
   },
   {
    "duration": 35,
    "start_time": "2022-10-07T09:48:52.562Z"
   },
   {
    "duration": 62,
    "start_time": "2022-10-07T09:48:52.598Z"
   },
   {
    "duration": 6,
    "start_time": "2022-10-07T09:48:52.661Z"
   },
   {
    "duration": 120,
    "start_time": "2022-10-07T09:48:52.669Z"
   },
   {
    "duration": 29,
    "start_time": "2022-10-07T09:48:52.791Z"
   },
   {
    "duration": 31,
    "start_time": "2022-10-07T09:48:52.822Z"
   },
   {
    "duration": 21,
    "start_time": "2022-10-07T09:48:52.855Z"
   },
   {
    "duration": 55,
    "start_time": "2022-10-07T09:48:52.878Z"
   },
   {
    "duration": 32,
    "start_time": "2022-10-07T09:48:52.934Z"
   },
   {
    "duration": 13,
    "start_time": "2022-10-07T09:48:52.968Z"
   },
   {
    "duration": 42,
    "start_time": "2022-10-07T09:48:52.982Z"
   },
   {
    "duration": 42,
    "start_time": "2022-10-07T09:48:53.026Z"
   },
   {
    "duration": 42,
    "start_time": "2022-10-07T09:48:53.069Z"
   },
   {
    "duration": 44,
    "start_time": "2022-10-07T09:48:53.112Z"
   },
   {
    "duration": 34,
    "start_time": "2022-10-07T09:48:53.157Z"
   },
   {
    "duration": 17,
    "start_time": "2022-10-07T09:48:53.193Z"
   },
   {
    "duration": 44,
    "start_time": "2022-10-07T09:48:53.212Z"
   },
   {
    "duration": 30,
    "start_time": "2022-10-07T09:48:53.257Z"
   },
   {
    "duration": 246,
    "start_time": "2022-10-07T09:48:53.288Z"
   },
   {
    "duration": 82,
    "start_time": "2022-10-07T09:48:53.536Z"
   },
   {
    "duration": 216,
    "start_time": "2022-10-07T09:48:53.620Z"
   },
   {
    "duration": 231,
    "start_time": "2022-10-07T09:48:53.838Z"
   },
   {
    "duration": 50,
    "start_time": "2022-10-07T09:48:54.071Z"
   },
   {
    "duration": 211,
    "start_time": "2022-10-07T09:48:54.126Z"
   },
   {
    "duration": 229,
    "start_time": "2022-10-07T09:48:54.339Z"
   },
   {
    "duration": 46,
    "start_time": "2022-10-07T09:48:54.569Z"
   },
   {
    "duration": 201,
    "start_time": "2022-10-07T09:48:54.617Z"
   },
   {
    "duration": 30,
    "start_time": "2022-10-07T09:48:54.820Z"
   },
   {
    "duration": 5,
    "start_time": "2022-10-07T09:48:54.852Z"
   },
   {
    "duration": 42,
    "start_time": "2022-10-07T09:48:54.859Z"
   },
   {
    "duration": 51,
    "start_time": "2022-10-07T09:48:54.903Z"
   },
   {
    "duration": 25,
    "start_time": "2022-10-07T09:48:54.956Z"
   },
   {
    "duration": 32,
    "start_time": "2022-10-07T09:48:54.982Z"
   },
   {
    "duration": 1255,
    "start_time": "2022-10-08T07:58:47.613Z"
   },
   {
    "duration": 1292,
    "start_time": "2022-10-08T07:58:48.870Z"
   },
   {
    "duration": 61,
    "start_time": "2022-10-08T07:58:50.164Z"
   },
   {
    "duration": 111,
    "start_time": "2022-10-08T07:58:50.228Z"
   },
   {
    "duration": 65,
    "start_time": "2022-10-08T07:58:50.340Z"
   },
   {
    "duration": 101,
    "start_time": "2022-10-08T07:58:50.406Z"
   },
   {
    "duration": 17,
    "start_time": "2022-10-08T07:58:50.509Z"
   },
   {
    "duration": 165,
    "start_time": "2022-10-08T07:58:50.529Z"
   },
   {
    "duration": 12,
    "start_time": "2022-10-08T07:58:50.697Z"
   },
   {
    "duration": 89,
    "start_time": "2022-10-08T07:58:50.712Z"
   },
   {
    "duration": 42,
    "start_time": "2022-10-08T07:58:50.803Z"
   },
   {
    "duration": 63,
    "start_time": "2022-10-08T07:58:50.847Z"
   },
   {
    "duration": 14,
    "start_time": "2022-10-08T07:58:50.912Z"
   },
   {
    "duration": 243,
    "start_time": "2022-10-08T07:58:50.928Z"
   },
   {
    "duration": 46,
    "start_time": "2022-10-08T07:58:51.173Z"
   },
   {
    "duration": 6,
    "start_time": "2022-10-08T07:58:51.221Z"
   },
   {
    "duration": 12,
    "start_time": "2022-10-08T07:58:51.228Z"
   },
   {
    "duration": 24,
    "start_time": "2022-10-08T07:58:51.242Z"
   },
   {
    "duration": 73,
    "start_time": "2022-10-08T07:58:51.269Z"
   },
   {
    "duration": 9,
    "start_time": "2022-10-08T07:58:51.344Z"
   },
   {
    "duration": 87,
    "start_time": "2022-10-08T07:58:51.355Z"
   },
   {
    "duration": 45,
    "start_time": "2022-10-08T07:58:51.444Z"
   },
   {
    "duration": 35,
    "start_time": "2022-10-08T07:58:51.491Z"
   },
   {
    "duration": 13,
    "start_time": "2022-10-08T07:58:51.528Z"
   },
   {
    "duration": 51,
    "start_time": "2022-10-08T07:58:51.543Z"
   },
   {
    "duration": 32,
    "start_time": "2022-10-08T07:58:51.596Z"
   },
   {
    "duration": 13,
    "start_time": "2022-10-08T07:58:51.631Z"
   },
   {
    "duration": 42,
    "start_time": "2022-10-08T07:58:51.648Z"
   },
   {
    "duration": 8,
    "start_time": "2022-10-08T07:58:51.692Z"
   },
   {
    "duration": 13,
    "start_time": "2022-10-08T07:58:51.702Z"
   },
   {
    "duration": 10,
    "start_time": "2022-10-08T07:58:51.716Z"
   },
   {
    "duration": 20,
    "start_time": "2022-10-08T07:58:51.729Z"
   },
   {
    "duration": 38,
    "start_time": "2022-10-08T07:58:51.751Z"
   },
   {
    "duration": 29,
    "start_time": "2022-10-08T07:58:51.792Z"
   },
   {
    "duration": 28,
    "start_time": "2022-10-08T07:58:51.824Z"
   },
   {
    "duration": 408,
    "start_time": "2022-10-08T07:58:51.855Z"
   },
   {
    "duration": 97,
    "start_time": "2022-10-08T07:58:52.265Z"
   },
   {
    "duration": 253,
    "start_time": "2022-10-08T07:58:52.364Z"
   },
   {
    "duration": 279,
    "start_time": "2022-10-08T07:58:52.619Z"
   },
   {
    "duration": 47,
    "start_time": "2022-10-08T07:58:52.899Z"
   },
   {
    "duration": 245,
    "start_time": "2022-10-08T07:58:52.948Z"
   },
   {
    "duration": 273,
    "start_time": "2022-10-08T07:58:53.196Z"
   },
   {
    "duration": 54,
    "start_time": "2022-10-08T07:58:53.471Z"
   },
   {
    "duration": 273,
    "start_time": "2022-10-08T07:58:53.528Z"
   },
   {
    "duration": 37,
    "start_time": "2022-10-08T07:58:53.803Z"
   },
   {
    "duration": 7,
    "start_time": "2022-10-08T07:58:53.842Z"
   },
   {
    "duration": 39,
    "start_time": "2022-10-08T07:58:53.851Z"
   },
   {
    "duration": 42,
    "start_time": "2022-10-08T07:58:53.893Z"
   },
   {
    "duration": 9,
    "start_time": "2022-10-08T07:58:53.937Z"
   },
   {
    "duration": 16,
    "start_time": "2022-10-08T07:58:53.947Z"
   },
   {
    "duration": 1232,
    "start_time": "2022-10-08T09:07:58.647Z"
   },
   {
    "duration": 626,
    "start_time": "2022-10-08T09:07:59.881Z"
   },
   {
    "duration": 83,
    "start_time": "2022-10-08T09:08:00.509Z"
   },
   {
    "duration": 130,
    "start_time": "2022-10-08T09:08:00.595Z"
   },
   {
    "duration": 73,
    "start_time": "2022-10-08T09:08:00.728Z"
   },
   {
    "duration": 127,
    "start_time": "2022-10-08T09:08:00.803Z"
   },
   {
    "duration": 22,
    "start_time": "2022-10-08T09:08:00.932Z"
   },
   {
    "duration": 210,
    "start_time": "2022-10-08T09:08:00.956Z"
   },
   {
    "duration": 22,
    "start_time": "2022-10-08T09:08:01.168Z"
   },
   {
    "duration": 111,
    "start_time": "2022-10-08T09:08:01.194Z"
   },
   {
    "duration": 55,
    "start_time": "2022-10-08T09:08:01.308Z"
   },
   {
    "duration": 93,
    "start_time": "2022-10-08T09:08:01.366Z"
   },
   {
    "duration": 16,
    "start_time": "2022-10-08T09:08:01.462Z"
   },
   {
    "duration": 342,
    "start_time": "2022-10-08T09:08:01.480Z"
   },
   {
    "duration": 73,
    "start_time": "2022-10-08T09:08:01.824Z"
   },
   {
    "duration": 14,
    "start_time": "2022-10-08T09:08:01.899Z"
   },
   {
    "duration": 41,
    "start_time": "2022-10-08T09:08:01.916Z"
   },
   {
    "duration": 69,
    "start_time": "2022-10-08T09:08:01.959Z"
   },
   {
    "duration": 120,
    "start_time": "2022-10-08T09:08:02.030Z"
   },
   {
    "duration": 7,
    "start_time": "2022-10-08T09:08:02.153Z"
   },
   {
    "duration": 145,
    "start_time": "2022-10-08T09:08:02.162Z"
   },
   {
    "duration": 47,
    "start_time": "2022-10-08T09:08:02.310Z"
   },
   {
    "duration": 60,
    "start_time": "2022-10-08T09:08:02.359Z"
   },
   {
    "duration": 15,
    "start_time": "2022-10-08T09:08:02.421Z"
   },
   {
    "duration": 64,
    "start_time": "2022-10-08T09:08:02.439Z"
   },
   {
    "duration": 39,
    "start_time": "2022-10-08T09:08:02.505Z"
   },
   {
    "duration": 19,
    "start_time": "2022-10-08T09:08:02.546Z"
   },
   {
    "duration": 32,
    "start_time": "2022-10-08T09:08:02.569Z"
   },
   {
    "duration": 26,
    "start_time": "2022-10-08T09:08:02.603Z"
   },
   {
    "duration": 19,
    "start_time": "2022-10-08T09:08:02.631Z"
   },
   {
    "duration": 43,
    "start_time": "2022-10-08T09:08:02.653Z"
   },
   {
    "duration": 36,
    "start_time": "2022-10-08T09:08:02.698Z"
   },
   {
    "duration": 10,
    "start_time": "2022-10-08T09:08:02.737Z"
   },
   {
    "duration": 42,
    "start_time": "2022-10-08T09:08:02.749Z"
   },
   {
    "duration": 34,
    "start_time": "2022-10-08T09:08:02.793Z"
   },
   {
    "duration": 337,
    "start_time": "2022-10-08T09:08:02.829Z"
   },
   {
    "duration": 141,
    "start_time": "2022-10-08T09:08:03.168Z"
   },
   {
    "duration": 366,
    "start_time": "2022-10-08T09:08:03.311Z"
   },
   {
    "duration": 383,
    "start_time": "2022-10-08T09:08:03.679Z"
   },
   {
    "duration": 76,
    "start_time": "2022-10-08T09:08:04.065Z"
   },
   {
    "duration": 309,
    "start_time": "2022-10-08T09:08:04.143Z"
   },
   {
    "duration": 276,
    "start_time": "2022-10-08T09:08:04.454Z"
   },
   {
    "duration": 80,
    "start_time": "2022-10-08T09:08:04.733Z"
   },
   {
    "duration": 352,
    "start_time": "2022-10-08T09:08:04.816Z"
   },
   {
    "duration": 55,
    "start_time": "2022-10-08T09:08:05.170Z"
   },
   {
    "duration": 7,
    "start_time": "2022-10-08T09:08:05.227Z"
   },
   {
    "duration": 14,
    "start_time": "2022-10-08T09:08:05.236Z"
   },
   {
    "duration": 53,
    "start_time": "2022-10-08T09:08:05.252Z"
   },
   {
    "duration": 10,
    "start_time": "2022-10-08T09:08:05.307Z"
   },
   {
    "duration": 14,
    "start_time": "2022-10-08T09:08:05.319Z"
   },
   {
    "duration": 15,
    "start_time": "2022-10-08T09:41:56.361Z"
   },
   {
    "duration": 62,
    "start_time": "2022-10-08T11:25:15.176Z"
   },
   {
    "duration": 8,
    "start_time": "2022-10-08T11:43:35.568Z"
   },
   {
    "duration": 1434,
    "start_time": "2022-10-08T11:43:43.674Z"
   },
   {
    "duration": 998,
    "start_time": "2022-10-08T11:43:45.110Z"
   },
   {
    "duration": 62,
    "start_time": "2022-10-08T11:43:46.110Z"
   },
   {
    "duration": 97,
    "start_time": "2022-10-08T11:43:46.173Z"
   },
   {
    "duration": 59,
    "start_time": "2022-10-08T11:43:46.272Z"
   },
   {
    "duration": 98,
    "start_time": "2022-10-08T11:43:46.334Z"
   },
   {
    "duration": 21,
    "start_time": "2022-10-08T11:43:46.435Z"
   },
   {
    "duration": 163,
    "start_time": "2022-10-08T11:43:46.458Z"
   },
   {
    "duration": 15,
    "start_time": "2022-10-08T11:43:46.626Z"
   },
   {
    "duration": 94,
    "start_time": "2022-10-08T11:43:46.644Z"
   },
   {
    "duration": 42,
    "start_time": "2022-10-08T11:43:46.741Z"
   },
   {
    "duration": 62,
    "start_time": "2022-10-08T11:43:46.785Z"
   },
   {
    "duration": 13,
    "start_time": "2022-10-08T11:43:46.849Z"
   },
   {
    "duration": 238,
    "start_time": "2022-10-08T11:43:46.865Z"
   },
   {
    "duration": 43,
    "start_time": "2022-10-08T11:43:47.105Z"
   },
   {
    "duration": 5,
    "start_time": "2022-10-08T11:43:47.150Z"
   },
   {
    "duration": 22,
    "start_time": "2022-10-08T11:43:47.157Z"
   },
   {
    "duration": 23,
    "start_time": "2022-10-08T11:43:47.181Z"
   },
   {
    "duration": 70,
    "start_time": "2022-10-08T11:43:47.205Z"
   },
   {
    "duration": 5,
    "start_time": "2022-10-08T11:43:47.277Z"
   },
   {
    "duration": 84,
    "start_time": "2022-10-08T11:43:47.284Z"
   },
   {
    "duration": 28,
    "start_time": "2022-10-08T11:43:47.369Z"
   },
   {
    "duration": 55,
    "start_time": "2022-10-08T11:43:47.398Z"
   },
   {
    "duration": 10,
    "start_time": "2022-10-08T11:43:47.455Z"
   },
   {
    "duration": 22,
    "start_time": "2022-10-08T11:43:47.467Z"
   },
   {
    "duration": 60,
    "start_time": "2022-10-08T11:43:47.490Z"
   },
   {
    "duration": 12,
    "start_time": "2022-10-08T11:43:47.552Z"
   },
   {
    "duration": 10,
    "start_time": "2022-10-08T11:43:47.566Z"
   },
   {
    "duration": 7,
    "start_time": "2022-10-08T11:43:47.578Z"
   },
   {
    "duration": 53,
    "start_time": "2022-10-08T11:43:47.587Z"
   },
   {
    "duration": 8,
    "start_time": "2022-10-08T11:43:47.643Z"
   },
   {
    "duration": 19,
    "start_time": "2022-10-08T11:43:47.652Z"
   },
   {
    "duration": 4,
    "start_time": "2022-10-08T11:43:47.673Z"
   },
   {
    "duration": 44,
    "start_time": "2022-10-08T11:43:47.678Z"
   },
   {
    "duration": 15,
    "start_time": "2022-10-08T11:43:47.724Z"
   },
   {
    "duration": 23,
    "start_time": "2022-10-08T11:43:47.741Z"
   },
   {
    "duration": 316,
    "start_time": "2022-10-08T11:43:47.765Z"
   },
   {
    "duration": 106,
    "start_time": "2022-10-08T11:43:48.082Z"
   },
   {
    "duration": 272,
    "start_time": "2022-10-08T11:43:48.189Z"
   },
   {
    "duration": 291,
    "start_time": "2022-10-08T11:43:48.463Z"
   },
   {
    "duration": 44,
    "start_time": "2022-10-08T11:43:48.759Z"
   },
   {
    "duration": 321,
    "start_time": "2022-10-08T11:43:48.804Z"
   },
   {
    "duration": 300,
    "start_time": "2022-10-08T11:43:49.127Z"
   },
   {
    "duration": 45,
    "start_time": "2022-10-08T11:43:49.429Z"
   },
   {
    "duration": 250,
    "start_time": "2022-10-08T11:43:49.476Z"
   },
   {
    "duration": 32,
    "start_time": "2022-10-08T11:43:49.728Z"
   },
   {
    "duration": 5,
    "start_time": "2022-10-08T11:43:49.762Z"
   },
   {
    "duration": 11,
    "start_time": "2022-10-08T11:43:49.769Z"
   },
   {
    "duration": 69,
    "start_time": "2022-10-08T11:43:49.782Z"
   },
   {
    "duration": 8,
    "start_time": "2022-10-08T11:43:49.853Z"
   },
   {
    "duration": 26,
    "start_time": "2022-10-08T11:43:49.863Z"
   },
   {
    "duration": 1115,
    "start_time": "2022-10-08T14:22:40.779Z"
   },
   {
    "duration": 507,
    "start_time": "2022-10-08T14:22:41.896Z"
   },
   {
    "duration": 50,
    "start_time": "2022-10-08T14:22:42.404Z"
   },
   {
    "duration": 91,
    "start_time": "2022-10-08T14:22:42.456Z"
   },
   {
    "duration": 33,
    "start_time": "2022-10-08T14:22:42.549Z"
   },
   {
    "duration": 104,
    "start_time": "2022-10-08T14:22:42.584Z"
   },
   {
    "duration": 33,
    "start_time": "2022-10-08T14:22:42.689Z"
   },
   {
    "duration": 142,
    "start_time": "2022-10-08T14:22:42.725Z"
   },
   {
    "duration": 10,
    "start_time": "2022-10-08T14:22:42.869Z"
   },
   {
    "duration": 87,
    "start_time": "2022-10-08T14:22:42.883Z"
   },
   {
    "duration": 34,
    "start_time": "2022-10-08T14:22:42.972Z"
   },
   {
    "duration": 65,
    "start_time": "2022-10-08T14:22:43.008Z"
   },
   {
    "duration": 13,
    "start_time": "2022-10-08T14:22:43.074Z"
   },
   {
    "duration": 221,
    "start_time": "2022-10-08T14:22:43.088Z"
   },
   {
    "duration": 39,
    "start_time": "2022-10-08T14:22:43.311Z"
   },
   {
    "duration": 5,
    "start_time": "2022-10-08T14:22:43.353Z"
   },
   {
    "duration": 16,
    "start_time": "2022-10-08T14:22:43.359Z"
   },
   {
    "duration": 10,
    "start_time": "2022-10-08T14:22:43.376Z"
   },
   {
    "duration": 56,
    "start_time": "2022-10-08T14:22:43.388Z"
   },
   {
    "duration": 5,
    "start_time": "2022-10-08T14:22:43.446Z"
   },
   {
    "duration": 69,
    "start_time": "2022-10-08T14:22:43.453Z"
   },
   {
    "duration": 35,
    "start_time": "2022-10-08T14:22:43.524Z"
   },
   {
    "duration": 31,
    "start_time": "2022-10-08T14:22:43.560Z"
   },
   {
    "duration": 19,
    "start_time": "2022-10-08T14:22:43.621Z"
   },
   {
    "duration": 24,
    "start_time": "2022-10-08T14:22:43.643Z"
   },
   {
    "duration": 58,
    "start_time": "2022-10-08T14:22:43.669Z"
   },
   {
    "duration": 18,
    "start_time": "2022-10-08T14:22:43.730Z"
   },
   {
    "duration": 9,
    "start_time": "2022-10-08T14:22:43.752Z"
   },
   {
    "duration": 7,
    "start_time": "2022-10-08T14:22:43.763Z"
   },
   {
    "duration": 13,
    "start_time": "2022-10-08T14:22:43.771Z"
   },
   {
    "duration": 36,
    "start_time": "2022-10-08T14:22:43.785Z"
   },
   {
    "duration": 29,
    "start_time": "2022-10-08T14:22:43.825Z"
   },
   {
    "duration": 5,
    "start_time": "2022-10-08T14:22:43.856Z"
   },
   {
    "duration": 18,
    "start_time": "2022-10-08T14:22:43.863Z"
   },
   {
    "duration": 21,
    "start_time": "2022-10-08T14:22:43.883Z"
   },
   {
    "duration": 26,
    "start_time": "2022-10-08T14:22:43.922Z"
   },
   {
    "duration": 326,
    "start_time": "2022-10-08T14:22:43.949Z"
   },
   {
    "duration": 113,
    "start_time": "2022-10-08T14:22:44.277Z"
   },
   {
    "duration": 262,
    "start_time": "2022-10-08T14:22:44.392Z"
   },
   {
    "duration": 278,
    "start_time": "2022-10-08T14:22:44.656Z"
   },
   {
    "duration": 42,
    "start_time": "2022-10-08T14:22:44.937Z"
   },
   {
    "duration": 271,
    "start_time": "2022-10-08T14:22:44.981Z"
   },
   {
    "duration": 295,
    "start_time": "2022-10-08T14:22:45.255Z"
   },
   {
    "duration": 47,
    "start_time": "2022-10-08T14:22:45.552Z"
   },
   {
    "duration": 264,
    "start_time": "2022-10-08T14:22:45.601Z"
   },
   {
    "duration": 30,
    "start_time": "2022-10-08T14:22:45.866Z"
   },
   {
    "duration": 5,
    "start_time": "2022-10-08T14:22:45.898Z"
   },
   {
    "duration": 11,
    "start_time": "2022-10-08T14:22:45.921Z"
   },
   {
    "duration": 34,
    "start_time": "2022-10-08T14:22:45.935Z"
   },
   {
    "duration": 6,
    "start_time": "2022-10-08T14:22:45.971Z"
   },
   {
    "duration": 8,
    "start_time": "2022-10-08T14:22:45.978Z"
   }
  ],
  "kernelspec": {
   "display_name": "Python 3 (ipykernel)",
   "language": "python",
   "name": "python3"
  },
  "language_info": {
   "codemirror_mode": {
    "name": "ipython",
    "version": 3
   },
   "file_extension": ".py",
   "mimetype": "text/x-python",
   "name": "python",
   "nbconvert_exporter": "python",
   "pygments_lexer": "ipython3",
   "version": "3.9.2"
  },
  "toc": {
   "base_numbering": 1,
   "nav_menu": {},
   "number_sections": true,
   "sideBar": true,
   "skip_h1_title": true,
   "title_cell": "Table of Contents",
   "title_sidebar": "Contents",
   "toc_cell": false,
   "toc_position": {},
   "toc_section_display": true,
   "toc_window_display": false
  }
 },
 "nbformat": 4,
 "nbformat_minor": 4
}
