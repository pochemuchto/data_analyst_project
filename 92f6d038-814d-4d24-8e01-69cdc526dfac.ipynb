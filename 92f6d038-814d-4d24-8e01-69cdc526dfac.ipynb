{
 "cells": [
  {
   "cell_type": "markdown",
   "metadata": {},
   "source": [
    "# Дарья, привет! 👋\n",
    "\n",
    "Меня зовут Артем Пиляй. Я буду проверять твой проект. Со мной можно на «ты».\n",
    " \n",
    "В тетрадке ты найдешь комментарии к проекту, они будут в отдельных ячейках Markdown с заголовком «🔁#️⃣ Ревьюер».  \n",
    "Твои проекты станут еще круче, если ты воспользуешься комментариями в дальнейших проектах.\n",
    " \n",
    "Повторная проверка пройдет быстрее если ты не будешь перемещать, изменять и удалять мои комментарии. Еще ускорить повторную проверку можно если ты будешь писать о внесенных изменениях в синих ячейках Markdown, заготовку я тебе приготовил ниже. 😉\n",
    "\n",
    "<a id=\"error_\"></a>\n",
    "<div class=\"alert alert-danger\">\n",
    "\n",
    "<b>🔁#️⃣ Ревьюер: ✋</b> Такой комментарий нужно исправить обязательно, он критически влияет на удачное выполнение проекта.\n",
    "\n",
    "</div>\n",
    "\n",
    "<div class=\"alert alert-warning\">\n",
    "\n",
    "<b>🔁#️⃣ Ревьюер: 👉</b> Такой комментарий является рекомендацией или советом. Можешь использовать их на своё усмотрение.\n",
    "\n",
    "</div>\n",
    "\n",
    "<div class=\"alert alert-success\">\n",
    "\n",
    "<b>🔁#️⃣ Ревьюер: 👍</b> Такой комментарий в начале проекта означает, что работа принята. В основной части работы комментарии такого цвета говорят о том, что было сделано что-то качественное и правильное. 😉\n",
    "\n",
    "</div>"
   ]
  },
  {
   "cell_type": "markdown",
   "metadata": {},
   "source": [
    "<div class=\"alert alert-info\">\n",
    "\n",
    "<b>Студент:</b> Такой комментарий можно будет быстро найти.\n",
    "\n",
    "</div>"
   ]
  },
  {
   "cell_type": "markdown",
   "metadata": {},
   "source": [
    "---"
   ]
  },
  {
   "cell_type": "markdown",
   "metadata": {},
   "source": [
    "<div class=\"alert alert-danger\">\n",
    "\n",
    "<b>🔁1️⃣ Ревьюер: ✋</b> Дарья у тебя хороший проект. Для того, чтобы исследование и выводы были более точные нужно внести некоторые изменения. Но в остальном ты молодец!\n",
    "    \n",
    "Жду новую версию. 😉\n",
    "\n",
    "\n",
    "</div>"
   ]
  },
  {
   "cell_type": "markdown",
   "metadata": {},
   "source": [
    "<div class=\"alert alert-danger\">\n",
    "\n",
    "<b>🔁2️⃣ Ревьюер: ✋</b> Осталось чуть-чуть. Ты проделала отличную работу. Осталось равномерно разделить уровень дохода на категории. Подробное описание как это сделать я тебе написал.\n",
    "    \n",
    "Жду новую версию. 😉\n",
    "    \n",
    "</div>"
   ]
  },
  {
   "cell_type": "markdown",
   "metadata": {},
   "source": [
    "<div class=\"alert alert-danger\">\n",
    "\n",
    "<b>🔁3️ Ревьюер: ✋</b> Ты забыла добавить обновленную информацию в самый главный раздел – **Финальный вывод**!\n",
    "    \n",
    "Жду новую версию и на подпись. ✌️\n",
    "    \n",
    "</div>"
   ]
  },
  {
   "cell_type": "markdown",
   "metadata": {},
   "source": [
    "<div class=\"alert alert-info\">\n",
    "\n",
    "<b>Студент:</b> Не сохранённую версию отправила 🤦‍♀️\n",
    "\n",
    "</div>"
   ]
  },
  {
   "cell_type": "markdown",
   "metadata": {},
   "source": [
    "<div class=\"alert alert-success\">\n",
    "<b>🔁4 Ревьюер: ✌️</b> Дарья, спасибо за хорошую работу, за живое общение и за усердие. Все комментарии учтены.\n",
    "\n",
    "Поздравляю, **проект принят**! 🥳 🎉\n",
    "\n",
    "Желаю тебе успехов в дальнейшем обучении.\n",
    "    \n",
    "Ты молодец!\n",
    "    \n",
    "</div>"
   ]
  },
  {
   "cell_type": "markdown",
   "metadata": {},
   "source": [
    "# Исследование надёжности заёмщиков\n",
    "\n",
    "Заказчик — кредитный отдел банка. Нужно разобраться, влияет ли семейное положение и количество детей клиента на факт погашения кредита в срок. Входные данные от банка — статистика о платёжеспособности клиентов.\n",
    "\n",
    "Результаты исследования будут учтены при построении модели **кредитного скоринга** — специальной системы, которая оценивает способность потенциального заёмщика вернуть кредит банку."
   ]
  },
  {
   "cell_type": "markdown",
   "metadata": {},
   "source": [
    "## Шаг 1. Откройте файл с данными и изучите общую информацию"
   ]
  },
  {
   "cell_type": "code",
   "execution_count": 38,
   "metadata": {
    "scrolled": false
   },
   "outputs": [
    {
     "data": {
      "text/html": [
       "<div>\n",
       "<style scoped>\n",
       "    .dataframe tbody tr th:only-of-type {\n",
       "        vertical-align: middle;\n",
       "    }\n",
       "\n",
       "    .dataframe tbody tr th {\n",
       "        vertical-align: top;\n",
       "    }\n",
       "\n",
       "    .dataframe thead th {\n",
       "        text-align: right;\n",
       "    }\n",
       "</style>\n",
       "<table border=\"1\" class=\"dataframe\">\n",
       "  <thead>\n",
       "    <tr style=\"text-align: right;\">\n",
       "      <th></th>\n",
       "      <th>children</th>\n",
       "      <th>days_employed</th>\n",
       "      <th>dob_years</th>\n",
       "      <th>education</th>\n",
       "      <th>education_id</th>\n",
       "      <th>family_status</th>\n",
       "      <th>family_status_id</th>\n",
       "      <th>gender</th>\n",
       "      <th>income_type</th>\n",
       "      <th>debt</th>\n",
       "      <th>total_income</th>\n",
       "      <th>purpose</th>\n",
       "    </tr>\n",
       "  </thead>\n",
       "  <tbody>\n",
       "    <tr>\n",
       "      <td>0</td>\n",
       "      <td>1</td>\n",
       "      <td>-8437.673028</td>\n",
       "      <td>42</td>\n",
       "      <td>высшее</td>\n",
       "      <td>0</td>\n",
       "      <td>женат / замужем</td>\n",
       "      <td>0</td>\n",
       "      <td>F</td>\n",
       "      <td>сотрудник</td>\n",
       "      <td>0</td>\n",
       "      <td>253875.639453</td>\n",
       "      <td>покупка жилья</td>\n",
       "    </tr>\n",
       "    <tr>\n",
       "      <td>1</td>\n",
       "      <td>1</td>\n",
       "      <td>-4024.803754</td>\n",
       "      <td>36</td>\n",
       "      <td>среднее</td>\n",
       "      <td>1</td>\n",
       "      <td>женат / замужем</td>\n",
       "      <td>0</td>\n",
       "      <td>F</td>\n",
       "      <td>сотрудник</td>\n",
       "      <td>0</td>\n",
       "      <td>112080.014102</td>\n",
       "      <td>приобретение автомобиля</td>\n",
       "    </tr>\n",
       "    <tr>\n",
       "      <td>2</td>\n",
       "      <td>0</td>\n",
       "      <td>-5623.422610</td>\n",
       "      <td>33</td>\n",
       "      <td>Среднее</td>\n",
       "      <td>1</td>\n",
       "      <td>женат / замужем</td>\n",
       "      <td>0</td>\n",
       "      <td>M</td>\n",
       "      <td>сотрудник</td>\n",
       "      <td>0</td>\n",
       "      <td>145885.952297</td>\n",
       "      <td>покупка жилья</td>\n",
       "    </tr>\n",
       "    <tr>\n",
       "      <td>3</td>\n",
       "      <td>3</td>\n",
       "      <td>-4124.747207</td>\n",
       "      <td>32</td>\n",
       "      <td>среднее</td>\n",
       "      <td>1</td>\n",
       "      <td>женат / замужем</td>\n",
       "      <td>0</td>\n",
       "      <td>M</td>\n",
       "      <td>сотрудник</td>\n",
       "      <td>0</td>\n",
       "      <td>267628.550329</td>\n",
       "      <td>дополнительное образование</td>\n",
       "    </tr>\n",
       "    <tr>\n",
       "      <td>4</td>\n",
       "      <td>0</td>\n",
       "      <td>340266.072047</td>\n",
       "      <td>53</td>\n",
       "      <td>среднее</td>\n",
       "      <td>1</td>\n",
       "      <td>гражданский брак</td>\n",
       "      <td>1</td>\n",
       "      <td>F</td>\n",
       "      <td>пенсионер</td>\n",
       "      <td>0</td>\n",
       "      <td>158616.077870</td>\n",
       "      <td>сыграть свадьбу</td>\n",
       "    </tr>\n",
       "    <tr>\n",
       "      <td>5</td>\n",
       "      <td>0</td>\n",
       "      <td>-926.185831</td>\n",
       "      <td>27</td>\n",
       "      <td>высшее</td>\n",
       "      <td>0</td>\n",
       "      <td>гражданский брак</td>\n",
       "      <td>1</td>\n",
       "      <td>M</td>\n",
       "      <td>компаньон</td>\n",
       "      <td>0</td>\n",
       "      <td>255763.565419</td>\n",
       "      <td>покупка жилья</td>\n",
       "    </tr>\n",
       "    <tr>\n",
       "      <td>6</td>\n",
       "      <td>0</td>\n",
       "      <td>-2879.202052</td>\n",
       "      <td>43</td>\n",
       "      <td>высшее</td>\n",
       "      <td>0</td>\n",
       "      <td>женат / замужем</td>\n",
       "      <td>0</td>\n",
       "      <td>F</td>\n",
       "      <td>компаньон</td>\n",
       "      <td>0</td>\n",
       "      <td>240525.971920</td>\n",
       "      <td>операции с жильем</td>\n",
       "    </tr>\n",
       "    <tr>\n",
       "      <td>7</td>\n",
       "      <td>0</td>\n",
       "      <td>-152.779569</td>\n",
       "      <td>50</td>\n",
       "      <td>СРЕДНЕЕ</td>\n",
       "      <td>1</td>\n",
       "      <td>женат / замужем</td>\n",
       "      <td>0</td>\n",
       "      <td>M</td>\n",
       "      <td>сотрудник</td>\n",
       "      <td>0</td>\n",
       "      <td>135823.934197</td>\n",
       "      <td>образование</td>\n",
       "    </tr>\n",
       "    <tr>\n",
       "      <td>8</td>\n",
       "      <td>2</td>\n",
       "      <td>-6929.865299</td>\n",
       "      <td>35</td>\n",
       "      <td>ВЫСШЕЕ</td>\n",
       "      <td>0</td>\n",
       "      <td>гражданский брак</td>\n",
       "      <td>1</td>\n",
       "      <td>F</td>\n",
       "      <td>сотрудник</td>\n",
       "      <td>0</td>\n",
       "      <td>95856.832424</td>\n",
       "      <td>на проведение свадьбы</td>\n",
       "    </tr>\n",
       "    <tr>\n",
       "      <td>9</td>\n",
       "      <td>0</td>\n",
       "      <td>-2188.756445</td>\n",
       "      <td>41</td>\n",
       "      <td>среднее</td>\n",
       "      <td>1</td>\n",
       "      <td>женат / замужем</td>\n",
       "      <td>0</td>\n",
       "      <td>M</td>\n",
       "      <td>сотрудник</td>\n",
       "      <td>0</td>\n",
       "      <td>144425.938277</td>\n",
       "      <td>покупка жилья для семьи</td>\n",
       "    </tr>\n",
       "    <tr>\n",
       "      <td>10</td>\n",
       "      <td>2</td>\n",
       "      <td>-4171.483647</td>\n",
       "      <td>36</td>\n",
       "      <td>высшее</td>\n",
       "      <td>0</td>\n",
       "      <td>женат / замужем</td>\n",
       "      <td>0</td>\n",
       "      <td>M</td>\n",
       "      <td>компаньон</td>\n",
       "      <td>0</td>\n",
       "      <td>113943.491460</td>\n",
       "      <td>покупка недвижимости</td>\n",
       "    </tr>\n",
       "    <tr>\n",
       "      <td>11</td>\n",
       "      <td>0</td>\n",
       "      <td>-792.701887</td>\n",
       "      <td>40</td>\n",
       "      <td>среднее</td>\n",
       "      <td>1</td>\n",
       "      <td>женат / замужем</td>\n",
       "      <td>0</td>\n",
       "      <td>F</td>\n",
       "      <td>сотрудник</td>\n",
       "      <td>0</td>\n",
       "      <td>77069.234271</td>\n",
       "      <td>покупка коммерческой недвижимости</td>\n",
       "    </tr>\n",
       "    <tr>\n",
       "      <td>12</td>\n",
       "      <td>0</td>\n",
       "      <td>NaN</td>\n",
       "      <td>65</td>\n",
       "      <td>среднее</td>\n",
       "      <td>1</td>\n",
       "      <td>гражданский брак</td>\n",
       "      <td>1</td>\n",
       "      <td>M</td>\n",
       "      <td>пенсионер</td>\n",
       "      <td>0</td>\n",
       "      <td>NaN</td>\n",
       "      <td>сыграть свадьбу</td>\n",
       "    </tr>\n",
       "    <tr>\n",
       "      <td>13</td>\n",
       "      <td>0</td>\n",
       "      <td>-1846.641941</td>\n",
       "      <td>54</td>\n",
       "      <td>неоконченное высшее</td>\n",
       "      <td>2</td>\n",
       "      <td>женат / замужем</td>\n",
       "      <td>0</td>\n",
       "      <td>F</td>\n",
       "      <td>сотрудник</td>\n",
       "      <td>0</td>\n",
       "      <td>130458.228857</td>\n",
       "      <td>приобретение автомобиля</td>\n",
       "    </tr>\n",
       "    <tr>\n",
       "      <td>14</td>\n",
       "      <td>0</td>\n",
       "      <td>-1844.956182</td>\n",
       "      <td>56</td>\n",
       "      <td>высшее</td>\n",
       "      <td>0</td>\n",
       "      <td>гражданский брак</td>\n",
       "      <td>1</td>\n",
       "      <td>F</td>\n",
       "      <td>компаньон</td>\n",
       "      <td>1</td>\n",
       "      <td>165127.911772</td>\n",
       "      <td>покупка жилой недвижимости</td>\n",
       "    </tr>\n",
       "    <tr>\n",
       "      <td>15</td>\n",
       "      <td>1</td>\n",
       "      <td>-972.364419</td>\n",
       "      <td>26</td>\n",
       "      <td>среднее</td>\n",
       "      <td>1</td>\n",
       "      <td>женат / замужем</td>\n",
       "      <td>0</td>\n",
       "      <td>F</td>\n",
       "      <td>сотрудник</td>\n",
       "      <td>0</td>\n",
       "      <td>116820.904450</td>\n",
       "      <td>строительство собственной недвижимости</td>\n",
       "    </tr>\n",
       "    <tr>\n",
       "      <td>16</td>\n",
       "      <td>0</td>\n",
       "      <td>-1719.934226</td>\n",
       "      <td>35</td>\n",
       "      <td>среднее</td>\n",
       "      <td>1</td>\n",
       "      <td>женат / замужем</td>\n",
       "      <td>0</td>\n",
       "      <td>F</td>\n",
       "      <td>сотрудник</td>\n",
       "      <td>0</td>\n",
       "      <td>289202.704229</td>\n",
       "      <td>недвижимость</td>\n",
       "    </tr>\n",
       "    <tr>\n",
       "      <td>17</td>\n",
       "      <td>0</td>\n",
       "      <td>-2369.999720</td>\n",
       "      <td>33</td>\n",
       "      <td>высшее</td>\n",
       "      <td>0</td>\n",
       "      <td>гражданский брак</td>\n",
       "      <td>1</td>\n",
       "      <td>M</td>\n",
       "      <td>сотрудник</td>\n",
       "      <td>0</td>\n",
       "      <td>90410.586745</td>\n",
       "      <td>строительство недвижимости</td>\n",
       "    </tr>\n",
       "    <tr>\n",
       "      <td>18</td>\n",
       "      <td>0</td>\n",
       "      <td>400281.136913</td>\n",
       "      <td>53</td>\n",
       "      <td>среднее</td>\n",
       "      <td>1</td>\n",
       "      <td>вдовец / вдова</td>\n",
       "      <td>2</td>\n",
       "      <td>F</td>\n",
       "      <td>пенсионер</td>\n",
       "      <td>0</td>\n",
       "      <td>56823.777243</td>\n",
       "      <td>на покупку подержанного автомобиля</td>\n",
       "    </tr>\n",
       "    <tr>\n",
       "      <td>19</td>\n",
       "      <td>0</td>\n",
       "      <td>-10038.818549</td>\n",
       "      <td>48</td>\n",
       "      <td>СРЕДНЕЕ</td>\n",
       "      <td>1</td>\n",
       "      <td>в разводе</td>\n",
       "      <td>3</td>\n",
       "      <td>F</td>\n",
       "      <td>сотрудник</td>\n",
       "      <td>0</td>\n",
       "      <td>242831.107982</td>\n",
       "      <td>на покупку своего автомобиля</td>\n",
       "    </tr>\n",
       "  </tbody>\n",
       "</table>\n",
       "</div>"
      ],
      "text/plain": [
       "    children  days_employed  dob_years            education  education_id  \\\n",
       "0          1   -8437.673028         42               высшее             0   \n",
       "1          1   -4024.803754         36              среднее             1   \n",
       "2          0   -5623.422610         33              Среднее             1   \n",
       "3          3   -4124.747207         32              среднее             1   \n",
       "4          0  340266.072047         53              среднее             1   \n",
       "5          0    -926.185831         27               высшее             0   \n",
       "6          0   -2879.202052         43               высшее             0   \n",
       "7          0    -152.779569         50              СРЕДНЕЕ             1   \n",
       "8          2   -6929.865299         35               ВЫСШЕЕ             0   \n",
       "9          0   -2188.756445         41              среднее             1   \n",
       "10         2   -4171.483647         36               высшее             0   \n",
       "11         0    -792.701887         40              среднее             1   \n",
       "12         0            NaN         65              среднее             1   \n",
       "13         0   -1846.641941         54  неоконченное высшее             2   \n",
       "14         0   -1844.956182         56               высшее             0   \n",
       "15         1    -972.364419         26              среднее             1   \n",
       "16         0   -1719.934226         35              среднее             1   \n",
       "17         0   -2369.999720         33               высшее             0   \n",
       "18         0  400281.136913         53              среднее             1   \n",
       "19         0  -10038.818549         48              СРЕДНЕЕ             1   \n",
       "\n",
       "       family_status  family_status_id gender income_type  debt  \\\n",
       "0    женат / замужем                 0      F   сотрудник     0   \n",
       "1    женат / замужем                 0      F   сотрудник     0   \n",
       "2    женат / замужем                 0      M   сотрудник     0   \n",
       "3    женат / замужем                 0      M   сотрудник     0   \n",
       "4   гражданский брак                 1      F   пенсионер     0   \n",
       "5   гражданский брак                 1      M   компаньон     0   \n",
       "6    женат / замужем                 0      F   компаньон     0   \n",
       "7    женат / замужем                 0      M   сотрудник     0   \n",
       "8   гражданский брак                 1      F   сотрудник     0   \n",
       "9    женат / замужем                 0      M   сотрудник     0   \n",
       "10   женат / замужем                 0      M   компаньон     0   \n",
       "11   женат / замужем                 0      F   сотрудник     0   \n",
       "12  гражданский брак                 1      M   пенсионер     0   \n",
       "13   женат / замужем                 0      F   сотрудник     0   \n",
       "14  гражданский брак                 1      F   компаньон     1   \n",
       "15   женат / замужем                 0      F   сотрудник     0   \n",
       "16   женат / замужем                 0      F   сотрудник     0   \n",
       "17  гражданский брак                 1      M   сотрудник     0   \n",
       "18    вдовец / вдова                 2      F   пенсионер     0   \n",
       "19         в разводе                 3      F   сотрудник     0   \n",
       "\n",
       "     total_income                                 purpose  \n",
       "0   253875.639453                           покупка жилья  \n",
       "1   112080.014102                 приобретение автомобиля  \n",
       "2   145885.952297                           покупка жилья  \n",
       "3   267628.550329              дополнительное образование  \n",
       "4   158616.077870                         сыграть свадьбу  \n",
       "5   255763.565419                           покупка жилья  \n",
       "6   240525.971920                       операции с жильем  \n",
       "7   135823.934197                             образование  \n",
       "8    95856.832424                   на проведение свадьбы  \n",
       "9   144425.938277                 покупка жилья для семьи  \n",
       "10  113943.491460                    покупка недвижимости  \n",
       "11   77069.234271       покупка коммерческой недвижимости  \n",
       "12            NaN                         сыграть свадьбу  \n",
       "13  130458.228857                 приобретение автомобиля  \n",
       "14  165127.911772              покупка жилой недвижимости  \n",
       "15  116820.904450  строительство собственной недвижимости  \n",
       "16  289202.704229                            недвижимость  \n",
       "17   90410.586745              строительство недвижимости  \n",
       "18   56823.777243      на покупку подержанного автомобиля  \n",
       "19  242831.107982            на покупку своего автомобиля  "
      ]
     },
     "execution_count": 38,
     "metadata": {},
     "output_type": "execute_result"
    }
   ],
   "source": [
    "import pandas as pd # импортируем бибилиотку pandas\n",
    "from pymystem3 import Mystem # импортируем библиотеку pymystem3 для лемматизации\n",
    "m = Mystem() # присваиваем m библиотеку pymystem3 для лемматизации\n",
    "df = pd.read_csv('/datasets/data.csv') \n",
    "df.head(20) # получение первых 20 строк таблицы df"
   ]
  },
  {
   "cell_type": "code",
   "execution_count": 39,
   "metadata": {},
   "outputs": [
    {
     "name": "stdout",
     "output_type": "stream",
     "text": [
      "<class 'pandas.core.frame.DataFrame'>\n",
      "RangeIndex: 21525 entries, 0 to 21524\n",
      "Data columns (total 12 columns):\n",
      "children            21525 non-null int64\n",
      "days_employed       19351 non-null float64\n",
      "dob_years           21525 non-null int64\n",
      "education           21525 non-null object\n",
      "education_id        21525 non-null int64\n",
      "family_status       21525 non-null object\n",
      "family_status_id    21525 non-null int64\n",
      "gender              21525 non-null object\n",
      "income_type         21525 non-null object\n",
      "debt                21525 non-null int64\n",
      "total_income        19351 non-null float64\n",
      "purpose             21525 non-null object\n",
      "dtypes: float64(2), int64(5), object(5)\n",
      "memory usage: 2.0+ MB\n"
     ]
    }
   ],
   "source": [
    "df.info() # получение общей информации о данных в таблице df"
   ]
  },
  {
   "cell_type": "code",
   "execution_count": 40,
   "metadata": {},
   "outputs": [
    {
     "data": {
      "text/html": [
       "<div>\n",
       "<style scoped>\n",
       "    .dataframe tbody tr th:only-of-type {\n",
       "        vertical-align: middle;\n",
       "    }\n",
       "\n",
       "    .dataframe tbody tr th {\n",
       "        vertical-align: top;\n",
       "    }\n",
       "\n",
       "    .dataframe thead th {\n",
       "        text-align: right;\n",
       "    }\n",
       "</style>\n",
       "<table border=\"1\" class=\"dataframe\">\n",
       "  <thead>\n",
       "    <tr style=\"text-align: right;\">\n",
       "      <th></th>\n",
       "      <th>children</th>\n",
       "      <th>days_employed</th>\n",
       "      <th>dob_years</th>\n",
       "      <th>education_id</th>\n",
       "      <th>family_status_id</th>\n",
       "      <th>debt</th>\n",
       "      <th>total_income</th>\n",
       "    </tr>\n",
       "  </thead>\n",
       "  <tbody>\n",
       "    <tr>\n",
       "      <td>count</td>\n",
       "      <td>21525.000000</td>\n",
       "      <td>19351.000000</td>\n",
       "      <td>21525.000000</td>\n",
       "      <td>21525.000000</td>\n",
       "      <td>21525.000000</td>\n",
       "      <td>21525.000000</td>\n",
       "      <td>1.935100e+04</td>\n",
       "    </tr>\n",
       "    <tr>\n",
       "      <td>mean</td>\n",
       "      <td>0.538908</td>\n",
       "      <td>63046.497661</td>\n",
       "      <td>43.293380</td>\n",
       "      <td>0.817236</td>\n",
       "      <td>0.972544</td>\n",
       "      <td>0.080883</td>\n",
       "      <td>1.674223e+05</td>\n",
       "    </tr>\n",
       "    <tr>\n",
       "      <td>std</td>\n",
       "      <td>1.381587</td>\n",
       "      <td>140827.311974</td>\n",
       "      <td>12.574584</td>\n",
       "      <td>0.548138</td>\n",
       "      <td>1.420324</td>\n",
       "      <td>0.272661</td>\n",
       "      <td>1.029716e+05</td>\n",
       "    </tr>\n",
       "    <tr>\n",
       "      <td>min</td>\n",
       "      <td>-1.000000</td>\n",
       "      <td>-18388.949901</td>\n",
       "      <td>0.000000</td>\n",
       "      <td>0.000000</td>\n",
       "      <td>0.000000</td>\n",
       "      <td>0.000000</td>\n",
       "      <td>2.066726e+04</td>\n",
       "    </tr>\n",
       "    <tr>\n",
       "      <td>25%</td>\n",
       "      <td>0.000000</td>\n",
       "      <td>-2747.423625</td>\n",
       "      <td>33.000000</td>\n",
       "      <td>1.000000</td>\n",
       "      <td>0.000000</td>\n",
       "      <td>0.000000</td>\n",
       "      <td>1.030532e+05</td>\n",
       "    </tr>\n",
       "    <tr>\n",
       "      <td>50%</td>\n",
       "      <td>0.000000</td>\n",
       "      <td>-1203.369529</td>\n",
       "      <td>42.000000</td>\n",
       "      <td>1.000000</td>\n",
       "      <td>0.000000</td>\n",
       "      <td>0.000000</td>\n",
       "      <td>1.450179e+05</td>\n",
       "    </tr>\n",
       "    <tr>\n",
       "      <td>75%</td>\n",
       "      <td>1.000000</td>\n",
       "      <td>-291.095954</td>\n",
       "      <td>53.000000</td>\n",
       "      <td>1.000000</td>\n",
       "      <td>1.000000</td>\n",
       "      <td>0.000000</td>\n",
       "      <td>2.034351e+05</td>\n",
       "    </tr>\n",
       "    <tr>\n",
       "      <td>max</td>\n",
       "      <td>20.000000</td>\n",
       "      <td>401755.400475</td>\n",
       "      <td>75.000000</td>\n",
       "      <td>4.000000</td>\n",
       "      <td>4.000000</td>\n",
       "      <td>1.000000</td>\n",
       "      <td>2.265604e+06</td>\n",
       "    </tr>\n",
       "  </tbody>\n",
       "</table>\n",
       "</div>"
      ],
      "text/plain": [
       "           children  days_employed     dob_years  education_id  \\\n",
       "count  21525.000000   19351.000000  21525.000000  21525.000000   \n",
       "mean       0.538908   63046.497661     43.293380      0.817236   \n",
       "std        1.381587  140827.311974     12.574584      0.548138   \n",
       "min       -1.000000  -18388.949901      0.000000      0.000000   \n",
       "25%        0.000000   -2747.423625     33.000000      1.000000   \n",
       "50%        0.000000   -1203.369529     42.000000      1.000000   \n",
       "75%        1.000000    -291.095954     53.000000      1.000000   \n",
       "max       20.000000  401755.400475     75.000000      4.000000   \n",
       "\n",
       "       family_status_id          debt  total_income  \n",
       "count      21525.000000  21525.000000  1.935100e+04  \n",
       "mean           0.972544      0.080883  1.674223e+05  \n",
       "std            1.420324      0.272661  1.029716e+05  \n",
       "min            0.000000      0.000000  2.066726e+04  \n",
       "25%            0.000000      0.000000  1.030532e+05  \n",
       "50%            0.000000      0.000000  1.450179e+05  \n",
       "75%            1.000000      0.000000  2.034351e+05  \n",
       "max            4.000000      1.000000  2.265604e+06  "
      ]
     },
     "execution_count": 40,
     "metadata": {},
     "output_type": "execute_result"
    }
   ],
   "source": [
    "df.describe() # получение общей статистики в таблице df"
   ]
  },
  {
   "cell_type": "markdown",
   "metadata": {},
   "source": [
    "В таблице 12 столбцов:\n",
    "\n",
    "- `children` — количество детей в семье\n",
    "- `days_employed` — общий трудовой стаж в днях\n",
    "- `dob_years` — возраст клиента в годах\n",
    "- `education` — уровень образования клиента\n",
    "- `education_id` — идентификатор уровня образования\n",
    "- `family_status` — семейное положение\n",
    "- `family_status_id` — идентификатор семейного положения\n",
    "- `gender` — пол клиента\n",
    "- `income_type` — тип занятости\n",
    "- `debt` — имел ли задолженность по возврату кредитов\n",
    "- `total_income` — ежемесячный доход\n",
    "- `purpose` — цель получения кредита"
   ]
  },
  {
   "cell_type": "markdown",
   "metadata": {},
   "source": [
    "**Вывод**"
   ]
  },
  {
   "cell_type": "markdown",
   "metadata": {},
   "source": [
    "При изучении данных и статистики по таблице, выявлены следующие недочёты :\n",
    "1. В столбцах **days_employed** и **total_income** встречаются пропуски Nan, возможно в одной строке.\n",
    "2. Так же для удобства можно округлить значения в столбцах **days_employed** (перевести в года) и **total_income**.\n",
    "3. В столбцах **children** и **days_employed** встречается отрицательное значение. \n",
    "4. Минимальное значение **dob_years** 0 лет вылядит странно.\n",
    "5. В столбце **education**  необходимо привести данные к единому регистру.\n",
    "6. Максимальное количество детей в столбце **children** - 20."
   ]
  },
  {
   "cell_type": "markdown",
   "metadata": {},
   "source": [
    "<div class=\"alert alert-success\">\n",
    "\n",
    "<b>🔁1️⃣ Ревьюер: 👍</b> Хороший вывод. Описаны найденные проблемы и предложены варианты их решения. \n",
    "    \n",
    "Знакомство с датафреймом – это важный этап работы аналитика, хорошенько погрузиться в данные, чтобы видеть общую картину.\n",
    "\n",
    "</div>"
   ]
  },
  {
   "cell_type": "markdown",
   "metadata": {},
   "source": [
    " <div class=\"alert alert-warning\">\n",
    "\n",
    "<b>🔁1️⃣ Ревьюер: 👉 </b> Добавь еще описание данных, чтобы понимать, что находится в каждом столбце.\n",
    "    \n",
    "Например:\n",
    "\n",
    "- `children` — количество детей в семье\n",
    "- ...\n",
    "\n",
    "</div>"
   ]
  },
  {
   "cell_type": "markdown",
   "metadata": {},
   "source": [
    "<div class=\"alert alert-info\">\n",
    "\n",
    "<b>Студент:</b> Добавила описание столбцов\n",
    "\n",
    "</div>"
   ]
  },
  {
   "cell_type": "markdown",
   "metadata": {},
   "source": [
    "<div class=\"alert alert-success\">\n",
    "\n",
    "<b>🔁2️⃣ Ревьюер: 👍</b> Отлично, теперь мы знаем, что находится в нашем датасете.\n",
    "\n",
    "</div>"
   ]
  },
  {
   "cell_type": "markdown",
   "metadata": {},
   "source": [
    "## Шаг 2. Предобработка данных"
   ]
  },
  {
   "cell_type": "markdown",
   "metadata": {},
   "source": [
    "### Обработка пропусков"
   ]
  },
  {
   "cell_type": "code",
   "execution_count": 41,
   "metadata": {},
   "outputs": [
    {
     "name": "stdout",
     "output_type": "stream",
     "text": [
      "<class 'pandas.core.frame.DataFrame'>\n",
      "Int64Index: 2174 entries, 12 to 21510\n",
      "Data columns (total 12 columns):\n",
      "children            2174 non-null int64\n",
      "days_employed       0 non-null float64\n",
      "dob_years           2174 non-null int64\n",
      "education           2174 non-null object\n",
      "education_id        2174 non-null int64\n",
      "family_status       2174 non-null object\n",
      "family_status_id    2174 non-null int64\n",
      "gender              2174 non-null object\n",
      "income_type         2174 non-null object\n",
      "debt                2174 non-null int64\n",
      "total_income        0 non-null float64\n",
      "purpose             2174 non-null object\n",
      "dtypes: float64(2), int64(5), object(5)\n",
      "memory usage: 220.8+ KB\n"
     ]
    }
   ],
   "source": [
    "#df.isna().sum() #Сумма пропусков в столбцах days_employed и total_income 2174\n",
    "#Нужно проверить, действительно ли пропуски встречаются на одной строке\n",
    "gaps_in_column = df[(df['days_employed'].isna() == True) & (df['total_income'].isna() == True)]\n",
    "gaps_in_column.info()\n",
    "\n",
    "#Так и оказалось, пропуски в этих столбцах встречаются в одной и той же строке."
   ]
  },
  {
   "cell_type": "code",
   "execution_count": 42,
   "metadata": {},
   "outputs": [
    {
     "data": {
      "text/plain": [
       "children               0\n",
       "days_employed          0\n",
       "dob_years              0\n",
       "education              0\n",
       "education_id           0\n",
       "family_status          0\n",
       "family_status_id       0\n",
       "gender                 0\n",
       "income_type            0\n",
       "debt                   0\n",
       "total_income        2174\n",
       "purpose                0\n",
       "dtype: int64"
      ]
     },
     "execution_count": 42,
     "metadata": {},
     "output_type": "execute_result"
    }
   ],
   "source": [
    "#Заменим значения в столбце days_employed на 0\n",
    "df['days_employed'] = df['days_employed'].fillna(0)\n",
    "df.isna().sum() # проверяем нет ли больше пропусков "
   ]
  },
  {
   "cell_type": "code",
   "execution_count": 43,
   "metadata": {},
   "outputs": [
    {
     "data": {
      "text/plain": [
       "children            0\n",
       "days_employed       0\n",
       "dob_years           0\n",
       "education           0\n",
       "education_id        0\n",
       "family_status       0\n",
       "family_status_id    0\n",
       "gender              0\n",
       "income_type         0\n",
       "debt                0\n",
       "total_income        0\n",
       "purpose             0\n",
       "dtype: int64"
      ]
     },
     "execution_count": 43,
     "metadata": {},
     "output_type": "execute_result"
    }
   ],
   "source": [
    "#А пропуски в столбце total_income заменим на медианное значение в зависимости от знчения в income_type\n",
    "for i in df['income_type'].unique():\n",
    "    median_incom = df.loc[(df['income_type'] == i) & (df['total_income'].isna()), 'total_income'] = df.loc[df['income_type']== i , 'total_income'].median()\n",
    "    \n",
    "df.isna().sum()"
   ]
  },
  {
   "cell_type": "markdown",
   "metadata": {},
   "source": [
    "**Вывод**"
   ]
  },
  {
   "cell_type": "markdown",
   "metadata": {},
   "source": [
    "`Старый вывод` Поскольку пропуски в данных составляют меньше 10% предположу, что данные заёмщики не работали(или работали, но не официально) и не имели постоянного дохода, поэтому значения не заполнены. Приводить средние значения по типу занятости заёмщика мне кажется не совсем корректным, \n",
    "т.к. мы не можем получить точные недостающие данные по заработку и стажу. Допустим, указав средний заработок человеку, который его не получает, может повысить шанс заявителя в скоринге на получение кредита.\n",
    "\n",
    "`Новый вывод` Относительно типа занятости заменили пропуски в ежемесячном доходе на медианное значение, т.к. данные о зарплате нам понадобятся для дальнейшего исследования. А пропущенные значения в стаже заменили на 0 "
   ]
  },
  {
   "cell_type": "markdown",
   "metadata": {},
   "source": [
    "<a id=\"error_1\"></a> \n",
    "<div class=\"alert alert-danger\">\n",
    "\n",
    "<b>🔁1️⃣ Ревьюер: ✋</b> Да, но не указав заработок человеку который его получает мы понизим его шансы на получение кредита. 😉\n",
    "\n",
    "С учетом, что пропущенных значений 9.9% его лучше заполнить медианным значением в разрезе типа занятости.\n",
    "</div>"
   ]
  },
  {
   "cell_type": "markdown",
   "metadata": {},
   "source": [
    "<div class=\"alert alert-info\">\n",
    "\n",
    "<b>Студент:</b> Написала функцию, которая заменяет пропущенные значения в **total_income** на медианные, в зависимости от типа занятости (от значения в **income_type**). Пропуски в **days_employed** заменила на 0.\n",
    "\n",
    "Спасибо за это замечание, теперь в вопросе \"Есть ли зависимость между уровнем дохода и возвратом кредита в срок?\" хотя бы есть разница в процентах по просрочке. Почему то я это не сопаставила. \n",
    "</div>"
   ]
  },
  {
   "cell_type": "markdown",
   "metadata": {},
   "source": [
    "<div class=\"alert alert-success\">\n",
    "\n",
    "<b>🔁2️⃣ Ревьюер: 👍</b> Хорошая работа, молодец!\n",
    "\n",
    "</div>"
   ]
  },
  {
   "cell_type": "markdown",
   "metadata": {},
   "source": [
    "### Замена типа данных"
   ]
  },
  {
   "cell_type": "code",
   "execution_count": 44,
   "metadata": {},
   "outputs": [
    {
     "name": "stdout",
     "output_type": "stream",
     "text": [
      "<class 'pandas.core.frame.DataFrame'>\n",
      "RangeIndex: 21525 entries, 0 to 21524\n",
      "Data columns (total 12 columns):\n",
      "children            21525 non-null int64\n",
      "days_employed       21525 non-null int64\n",
      "dob_years           21525 non-null int64\n",
      "education           21525 non-null object\n",
      "education_id        21525 non-null int64\n",
      "family_status       21525 non-null object\n",
      "family_status_id    21525 non-null int64\n",
      "gender              21525 non-null object\n",
      "income_type         21525 non-null object\n",
      "debt                21525 non-null int64\n",
      "total_income        21525 non-null int64\n",
      "purpose             21525 non-null object\n",
      "dtypes: int64(7), object(5)\n",
      "memory usage: 2.0+ MB\n"
     ]
    }
   ],
   "source": [
    "df['days_employed'] = df['days_employed'].astype('int') # Стаж явно указан в днях, позже для удобства переведём в года\n",
    "df['total_income'] = df['total_income'].astype('int') # Данная точность \"до копейки\" ни к чему, округляем\n",
    "df.info() # Проверяем"
   ]
  },
  {
   "cell_type": "markdown",
   "metadata": {},
   "source": [
    "Так же 74%, т.е. значительную часть стажа составляют отрицательные значения, возможно из-за ошибки при вводе данных или выгрузке. Поэтому целесообразно будет заменить их на положительные, а не указывать средние показатели, чтобы не исказить данные. Пусть даже столбец **days_employed** в исследовании нам не понадобится, приведем показатели к понятным для работы, \n",
    "сделаем следующее:\n",
    "1. Заменим отрицательные значения на положительные.\n",
    "2. Сразу укажем для удобства стаж в годах, заодно переименуем столбец на **length_of_service**\n",
    "3. Проверим максимальное значения в столбце, приведем их к нормальному виду. "
   ]
  },
  {
   "cell_type": "markdown",
   "metadata": {},
   "source": [
    "<div class=\"alert alert-success\">\n",
    "\n",
    "<b>🔁1️⃣ Ревьюер: 👍</b> Все верно.\n",
    "\n",
    "</div>"
   ]
  },
  {
   "cell_type": "code",
   "execution_count": 45,
   "metadata": {},
   "outputs": [
    {
     "data": {
      "text/html": [
       "<div>\n",
       "<style scoped>\n",
       "    .dataframe tbody tr th:only-of-type {\n",
       "        vertical-align: middle;\n",
       "    }\n",
       "\n",
       "    .dataframe tbody tr th {\n",
       "        vertical-align: top;\n",
       "    }\n",
       "\n",
       "    .dataframe thead th {\n",
       "        text-align: right;\n",
       "    }\n",
       "</style>\n",
       "<table border=\"1\" class=\"dataframe\">\n",
       "  <thead>\n",
       "    <tr style=\"text-align: right;\">\n",
       "      <th></th>\n",
       "      <th>children</th>\n",
       "      <th>length_of_service</th>\n",
       "      <th>dob_years</th>\n",
       "      <th>education</th>\n",
       "      <th>education_id</th>\n",
       "      <th>family_status</th>\n",
       "      <th>family_status_id</th>\n",
       "      <th>gender</th>\n",
       "      <th>income_type</th>\n",
       "      <th>debt</th>\n",
       "      <th>total_income</th>\n",
       "      <th>purpose</th>\n",
       "    </tr>\n",
       "  </thead>\n",
       "  <tbody>\n",
       "    <tr>\n",
       "      <td>0</td>\n",
       "      <td>1</td>\n",
       "      <td>23.115068</td>\n",
       "      <td>42</td>\n",
       "      <td>высшее</td>\n",
       "      <td>0</td>\n",
       "      <td>женат / замужем</td>\n",
       "      <td>0</td>\n",
       "      <td>F</td>\n",
       "      <td>сотрудник</td>\n",
       "      <td>0</td>\n",
       "      <td>253875</td>\n",
       "      <td>покупка жилья</td>\n",
       "    </tr>\n",
       "    <tr>\n",
       "      <td>1</td>\n",
       "      <td>1</td>\n",
       "      <td>11.024658</td>\n",
       "      <td>36</td>\n",
       "      <td>среднее</td>\n",
       "      <td>1</td>\n",
       "      <td>женат / замужем</td>\n",
       "      <td>0</td>\n",
       "      <td>F</td>\n",
       "      <td>сотрудник</td>\n",
       "      <td>0</td>\n",
       "      <td>112080</td>\n",
       "      <td>приобретение автомобиля</td>\n",
       "    </tr>\n",
       "    <tr>\n",
       "      <td>2</td>\n",
       "      <td>0</td>\n",
       "      <td>15.405479</td>\n",
       "      <td>33</td>\n",
       "      <td>Среднее</td>\n",
       "      <td>1</td>\n",
       "      <td>женат / замужем</td>\n",
       "      <td>0</td>\n",
       "      <td>M</td>\n",
       "      <td>сотрудник</td>\n",
       "      <td>0</td>\n",
       "      <td>145885</td>\n",
       "      <td>покупка жилья</td>\n",
       "    </tr>\n",
       "    <tr>\n",
       "      <td>3</td>\n",
       "      <td>3</td>\n",
       "      <td>11.298630</td>\n",
       "      <td>32</td>\n",
       "      <td>среднее</td>\n",
       "      <td>1</td>\n",
       "      <td>женат / замужем</td>\n",
       "      <td>0</td>\n",
       "      <td>M</td>\n",
       "      <td>сотрудник</td>\n",
       "      <td>0</td>\n",
       "      <td>267628</td>\n",
       "      <td>дополнительное образование</td>\n",
       "    </tr>\n",
       "    <tr>\n",
       "      <td>4</td>\n",
       "      <td>0</td>\n",
       "      <td>932.235616</td>\n",
       "      <td>53</td>\n",
       "      <td>среднее</td>\n",
       "      <td>1</td>\n",
       "      <td>гражданский брак</td>\n",
       "      <td>1</td>\n",
       "      <td>F</td>\n",
       "      <td>пенсионер</td>\n",
       "      <td>0</td>\n",
       "      <td>158616</td>\n",
       "      <td>сыграть свадьбу</td>\n",
       "    </tr>\n",
       "    <tr>\n",
       "      <td>5</td>\n",
       "      <td>0</td>\n",
       "      <td>2.536986</td>\n",
       "      <td>27</td>\n",
       "      <td>высшее</td>\n",
       "      <td>0</td>\n",
       "      <td>гражданский брак</td>\n",
       "      <td>1</td>\n",
       "      <td>M</td>\n",
       "      <td>компаньон</td>\n",
       "      <td>0</td>\n",
       "      <td>255763</td>\n",
       "      <td>покупка жилья</td>\n",
       "    </tr>\n",
       "    <tr>\n",
       "      <td>6</td>\n",
       "      <td>0</td>\n",
       "      <td>7.887671</td>\n",
       "      <td>43</td>\n",
       "      <td>высшее</td>\n",
       "      <td>0</td>\n",
       "      <td>женат / замужем</td>\n",
       "      <td>0</td>\n",
       "      <td>F</td>\n",
       "      <td>компаньон</td>\n",
       "      <td>0</td>\n",
       "      <td>240525</td>\n",
       "      <td>операции с жильем</td>\n",
       "    </tr>\n",
       "    <tr>\n",
       "      <td>7</td>\n",
       "      <td>0</td>\n",
       "      <td>0.416438</td>\n",
       "      <td>50</td>\n",
       "      <td>СРЕДНЕЕ</td>\n",
       "      <td>1</td>\n",
       "      <td>женат / замужем</td>\n",
       "      <td>0</td>\n",
       "      <td>M</td>\n",
       "      <td>сотрудник</td>\n",
       "      <td>0</td>\n",
       "      <td>135823</td>\n",
       "      <td>образование</td>\n",
       "    </tr>\n",
       "    <tr>\n",
       "      <td>8</td>\n",
       "      <td>2</td>\n",
       "      <td>18.983562</td>\n",
       "      <td>35</td>\n",
       "      <td>ВЫСШЕЕ</td>\n",
       "      <td>0</td>\n",
       "      <td>гражданский брак</td>\n",
       "      <td>1</td>\n",
       "      <td>F</td>\n",
       "      <td>сотрудник</td>\n",
       "      <td>0</td>\n",
       "      <td>95856</td>\n",
       "      <td>на проведение свадьбы</td>\n",
       "    </tr>\n",
       "    <tr>\n",
       "      <td>9</td>\n",
       "      <td>0</td>\n",
       "      <td>5.994521</td>\n",
       "      <td>41</td>\n",
       "      <td>среднее</td>\n",
       "      <td>1</td>\n",
       "      <td>женат / замужем</td>\n",
       "      <td>0</td>\n",
       "      <td>M</td>\n",
       "      <td>сотрудник</td>\n",
       "      <td>0</td>\n",
       "      <td>144425</td>\n",
       "      <td>покупка жилья для семьи</td>\n",
       "    </tr>\n",
       "  </tbody>\n",
       "</table>\n",
       "</div>"
      ],
      "text/plain": [
       "   children  length_of_service  dob_years education  education_id  \\\n",
       "0         1          23.115068         42    высшее             0   \n",
       "1         1          11.024658         36   среднее             1   \n",
       "2         0          15.405479         33   Среднее             1   \n",
       "3         3          11.298630         32   среднее             1   \n",
       "4         0         932.235616         53   среднее             1   \n",
       "5         0           2.536986         27    высшее             0   \n",
       "6         0           7.887671         43    высшее             0   \n",
       "7         0           0.416438         50   СРЕДНЕЕ             1   \n",
       "8         2          18.983562         35    ВЫСШЕЕ             0   \n",
       "9         0           5.994521         41   среднее             1   \n",
       "\n",
       "      family_status  family_status_id gender income_type  debt  total_income  \\\n",
       "0   женат / замужем                 0      F   сотрудник     0        253875   \n",
       "1   женат / замужем                 0      F   сотрудник     0        112080   \n",
       "2   женат / замужем                 0      M   сотрудник     0        145885   \n",
       "3   женат / замужем                 0      M   сотрудник     0        267628   \n",
       "4  гражданский брак                 1      F   пенсионер     0        158616   \n",
       "5  гражданский брак                 1      M   компаньон     0        255763   \n",
       "6   женат / замужем                 0      F   компаньон     0        240525   \n",
       "7   женат / замужем                 0      M   сотрудник     0        135823   \n",
       "8  гражданский брак                 1      F   сотрудник     0         95856   \n",
       "9   женат / замужем                 0      M   сотрудник     0        144425   \n",
       "\n",
       "                      purpose  \n",
       "0               покупка жилья  \n",
       "1     приобретение автомобиля  \n",
       "2               покупка жилья  \n",
       "3  дополнительное образование  \n",
       "4             сыграть свадьбу  \n",
       "5               покупка жилья  \n",
       "6           операции с жильем  \n",
       "7                 образование  \n",
       "8       на проведение свадьбы  \n",
       "9     покупка жилья для семьи  "
      ]
     },
     "execution_count": 45,
     "metadata": {},
     "output_type": "execute_result"
    }
   ],
   "source": [
    "df['days_employed'] = df['days_employed'].abs() # Меняем значения на положительные в стаже\n",
    "df['days_employed'] = (df['days_employed']/365) #  Переводим дни в года \n",
    "df = df.rename(columns={'days_employed':'length_of_service'}) # Меняем название столбца\n",
    "df.head(10) #проверяем"
   ]
  },
  {
   "cell_type": "code",
   "execution_count": 46,
   "metadata": {},
   "outputs": [
    {
     "data": {
      "text/html": [
       "<div>\n",
       "<style scoped>\n",
       "    .dataframe tbody tr th:only-of-type {\n",
       "        vertical-align: middle;\n",
       "    }\n",
       "\n",
       "    .dataframe tbody tr th {\n",
       "        vertical-align: top;\n",
       "    }\n",
       "\n",
       "    .dataframe thead tr th {\n",
       "        text-align: left;\n",
       "    }\n",
       "\n",
       "    .dataframe thead tr:last-of-type th {\n",
       "        text-align: right;\n",
       "    }\n",
       "</style>\n",
       "<table border=\"1\" class=\"dataframe\">\n",
       "  <thead>\n",
       "    <tr>\n",
       "      <th></th>\n",
       "      <th colspan=\"2\" halign=\"left\">length_of_service</th>\n",
       "    </tr>\n",
       "    <tr>\n",
       "      <th></th>\n",
       "      <th>count</th>\n",
       "      <th>mean</th>\n",
       "    </tr>\n",
       "    <tr>\n",
       "      <th>income_type</th>\n",
       "      <th></th>\n",
       "      <th></th>\n",
       "    </tr>\n",
       "  </thead>\n",
       "  <tbody>\n",
       "    <tr>\n",
       "      <td>безработный</td>\n",
       "      <td>2</td>\n",
       "      <td>1003.871233</td>\n",
       "    </tr>\n",
       "    <tr>\n",
       "      <td>в декрете</td>\n",
       "      <td>1</td>\n",
       "      <td>9.030137</td>\n",
       "    </tr>\n",
       "    <tr>\n",
       "      <td>госслужащий</td>\n",
       "      <td>1459</td>\n",
       "      <td>8.375063</td>\n",
       "    </tr>\n",
       "    <tr>\n",
       "      <td>компаньон</td>\n",
       "      <td>5085</td>\n",
       "      <td>5.205853</td>\n",
       "    </tr>\n",
       "    <tr>\n",
       "      <td>пенсионер</td>\n",
       "      <td>3856</td>\n",
       "      <td>892.901507</td>\n",
       "    </tr>\n",
       "    <tr>\n",
       "      <td>предприниматель</td>\n",
       "      <td>2</td>\n",
       "      <td>0.712329</td>\n",
       "    </tr>\n",
       "    <tr>\n",
       "      <td>сотрудник</td>\n",
       "      <td>11119</td>\n",
       "      <td>5.739289</td>\n",
       "    </tr>\n",
       "    <tr>\n",
       "      <td>студент</td>\n",
       "      <td>1</td>\n",
       "      <td>1.583562</td>\n",
       "    </tr>\n",
       "  </tbody>\n",
       "</table>\n",
       "</div>"
      ],
      "text/plain": [
       "                length_of_service             \n",
       "                            count         mean\n",
       "income_type                                   \n",
       "безработный                     2  1003.871233\n",
       "в декрете                       1     9.030137\n",
       "госслужащий                  1459     8.375063\n",
       "компаньон                    5085     5.205853\n",
       "пенсионер                    3856   892.901507\n",
       "предприниматель                 2     0.712329\n",
       "сотрудник                   11119     5.739289\n",
       "студент                         1     1.583562"
      ]
     },
     "execution_count": 46,
     "metadata": {},
     "output_type": "execute_result"
    }
   ],
   "source": [
    "#После перевода стажа в года и просмотра таблицы бросается в глаза нереальный опыт работы в 932 года, \n",
    "#возможно это имеет отношение к типу занятости в таблице выше данный опыт работы только у пенсионера, проверяем\n",
    "\n",
    "unemployed_and_pens = df.groupby('income_type').agg({'length_of_service':['count', 'mean']}) # выводим таблицу\n",
    "unemployed_and_pens"
   ]
  },
  {
   "cell_type": "code",
   "execution_count": 47,
   "metadata": {},
   "outputs": [
    {
     "data": {
      "text/html": [
       "<div>\n",
       "<style scoped>\n",
       "    .dataframe tbody tr th:only-of-type {\n",
       "        vertical-align: middle;\n",
       "    }\n",
       "\n",
       "    .dataframe tbody tr th {\n",
       "        vertical-align: top;\n",
       "    }\n",
       "\n",
       "    .dataframe thead tr th {\n",
       "        text-align: left;\n",
       "    }\n",
       "\n",
       "    .dataframe thead tr:last-of-type th {\n",
       "        text-align: right;\n",
       "    }\n",
       "</style>\n",
       "<table border=\"1\" class=\"dataframe\">\n",
       "  <thead>\n",
       "    <tr>\n",
       "      <th></th>\n",
       "      <th colspan=\"2\" halign=\"left\">length_of_service</th>\n",
       "    </tr>\n",
       "    <tr>\n",
       "      <th></th>\n",
       "      <th>count</th>\n",
       "      <th>mean</th>\n",
       "    </tr>\n",
       "    <tr>\n",
       "      <th>income_type</th>\n",
       "      <th></th>\n",
       "      <th></th>\n",
       "    </tr>\n",
       "  </thead>\n",
       "  <tbody>\n",
       "    <tr>\n",
       "      <td>безработный</td>\n",
       "      <td>2</td>\n",
       "      <td>41.827968</td>\n",
       "    </tr>\n",
       "    <tr>\n",
       "      <td>в декрете</td>\n",
       "      <td>1</td>\n",
       "      <td>9.030137</td>\n",
       "    </tr>\n",
       "    <tr>\n",
       "      <td>госслужащий</td>\n",
       "      <td>1459</td>\n",
       "      <td>8.375063</td>\n",
       "    </tr>\n",
       "    <tr>\n",
       "      <td>компаньон</td>\n",
       "      <td>5085</td>\n",
       "      <td>5.205853</td>\n",
       "    </tr>\n",
       "    <tr>\n",
       "      <td>пенсионер</td>\n",
       "      <td>3856</td>\n",
       "      <td>37.204229</td>\n",
       "    </tr>\n",
       "    <tr>\n",
       "      <td>предприниматель</td>\n",
       "      <td>2</td>\n",
       "      <td>0.712329</td>\n",
       "    </tr>\n",
       "    <tr>\n",
       "      <td>сотрудник</td>\n",
       "      <td>11119</td>\n",
       "      <td>5.739289</td>\n",
       "    </tr>\n",
       "    <tr>\n",
       "      <td>студент</td>\n",
       "      <td>1</td>\n",
       "      <td>1.583562</td>\n",
       "    </tr>\n",
       "  </tbody>\n",
       "</table>\n",
       "</div>"
      ],
      "text/plain": [
       "                length_of_service           \n",
       "                            count       mean\n",
       "income_type                                 \n",
       "безработный                     2  41.827968\n",
       "в декрете                       1   9.030137\n",
       "госслужащий                  1459   8.375063\n",
       "компаньон                    5085   5.205853\n",
       "пенсионер                    3856  37.204229\n",
       "предприниматель                 2   0.712329\n",
       "сотрудник                   11119   5.739289\n",
       "студент                         1   1.583562"
      ]
     },
     "execution_count": 47,
     "metadata": {},
     "output_type": "execute_result"
    }
   ],
   "source": [
    "#У безработных и пенсионеров стаж не нормальных размеров, возможно данные указывали ни в днях, а в часах\n",
    "#Поэтому для удобства разделим стаж по этим категориям ещё раз, что бы получить значения в днях  \n",
    "\n",
    "df.loc[df['income_type'] == 'пенсионер', 'length_of_service'] = df['length_of_service']/24 # Переводим стаж пенсионеров в дни\n",
    "df.loc[df['income_type'] == 'безработный', 'length_of_service'] = df['length_of_service']/24 # Переводим стаж безработых в дни\n",
    "unemployed_and_pens = df.groupby('income_type').agg({'length_of_service':['count', 'mean']}) # Копируем таблицу\n",
    "df['length_of_service'] = df['length_of_service'].astype('int') # Зададим целочисленное значение\n",
    "unemployed_and_pens # выводим сводную таблицу повторно"
   ]
  },
  {
   "cell_type": "markdown",
   "metadata": {},
   "source": [
    "<div class=\"alert alert-success\">\n",
    "\n",
    "<b>🔁1️⃣ Ревьюер: 👍</b> Действительно, так больше похоже на правду.\n",
    "\n",
    "</div>"
   ]
  },
  {
   "cell_type": "code",
   "execution_count": 48,
   "metadata": {},
   "outputs": [
    {
     "data": {
      "text/plain": [
       " 0     14149\n",
       " 1      4818\n",
       " 2      2055\n",
       " 3       330\n",
       " 20       76\n",
       "-1        47\n",
       " 4        41\n",
       " 5         9\n",
       "Name: children, dtype: int64"
      ]
     },
     "execution_count": 48,
     "metadata": {},
     "output_type": "execute_result"
    }
   ],
   "source": [
    "# Исправим данные в стобце children\n",
    "df['children'].value_counts()"
   ]
  },
  {
   "cell_type": "markdown",
   "metadata": {},
   "source": [
    "В столбце так же встречаются некорректные значения:\n",
    "1. Количество семей с 20ю детьми - 76. Учитывая какой разрыв у людей с 20ю детьми и с 4-5 детьми, предположу, что при вводе данных ошибочно нажали на 0. Исправим на 2\n",
    "2. 47 значений -1, немного, скорее всего это опять ошибка. "
   ]
  },
  {
   "cell_type": "code",
   "execution_count": 49,
   "metadata": {},
   "outputs": [
    {
     "data": {
      "text/plain": [
       "0    14149\n",
       "1     4865\n",
       "2     2131\n",
       "3      330\n",
       "4       41\n",
       "5        9\n",
       "Name: children, dtype: int64"
      ]
     },
     "execution_count": 49,
     "metadata": {},
     "output_type": "execute_result"
    }
   ],
   "source": [
    "df['children'] = df['children'].replace(-1, 1) # Меняем значения -1 на положительные \n",
    "df['children'] = df['children'].replace(20, 2) # Заменяем 20 детей на 2\n",
    "df['children'].value_counts() # Проверяем"
   ]
  },
  {
   "cell_type": "markdown",
   "metadata": {},
   "source": [
    "<div class=\"alert alert-success\">\n",
    "\n",
    "<b>🔁1️⃣ Ревьюер: 👍</b> Согласен.\n",
    "\n",
    "</div>"
   ]
  },
  {
   "cell_type": "code",
   "execution_count": 50,
   "metadata": {},
   "outputs": [
    {
     "data": {
      "text/plain": [
       "dob_years\n",
       "0     101\n",
       "19     14\n",
       "20     51\n",
       "21    111\n",
       "22    183\n",
       "23    254\n",
       "24    264\n",
       "25    357\n",
       "26    408\n",
       "27    493\n",
       "28    503\n",
       "29    545\n",
       "30    540\n",
       "31    560\n",
       "32    510\n",
       "33    581\n",
       "34    603\n",
       "35    617\n",
       "36    555\n",
       "37    537\n",
       "38    598\n",
       "39    573\n",
       "40    609\n",
       "41    607\n",
       "42    597\n",
       "43    513\n",
       "44    547\n",
       "45    497\n",
       "46    475\n",
       "47    480\n",
       "48    538\n",
       "49    508\n",
       "50    514\n",
       "51    448\n",
       "52    484\n",
       "53    459\n",
       "54    479\n",
       "55    443\n",
       "56    487\n",
       "57    460\n",
       "58    461\n",
       "59    444\n",
       "60    377\n",
       "61    355\n",
       "62    352\n",
       "63    269\n",
       "64    265\n",
       "65    194\n",
       "66    183\n",
       "67    167\n",
       "68     99\n",
       "69     85\n",
       "70     65\n",
       "71     58\n",
       "72     33\n",
       "73      8\n",
       "74      6\n",
       "75      1\n",
       "Name: dob_years, dtype: int64"
      ]
     },
     "execution_count": 50,
     "metadata": {},
     "output_type": "execute_result"
    }
   ],
   "source": [
    "df.groupby('dob_years')['dob_years'].count() # Группируем по возрасту"
   ]
  },
  {
   "cell_type": "code",
   "execution_count": 51,
   "metadata": {},
   "outputs": [],
   "source": [
    "# В столбце dob_years значений с 0 - 101, возможно не были указаны заявителем\n",
    "# Нулей немного, но поскольку данные по возрасту в исследовании нам пригодятся, заменим нули на среднее значение \n",
    "\n",
    "dob_years_mean = df['dob_years'].mean() # Находим среднее значение в столбце \n",
    "df.loc[df['dob_years'] == 0, 'dob_years'] = dob_years_mean #Заменяем 0 на среднее значение\n",
    "df['dob_years'] = df['dob_years'].round().astype('int') # Округляем и выводим целые числа "
   ]
  },
  {
   "cell_type": "markdown",
   "metadata": {},
   "source": [
    "<div class=\"alert alert-warning\">\n",
    "\n",
    "<b>🔁1️⃣ Ревьюер: 👉</b> Подскажи, в каком разделе нам пригодится возраст клиента?\n",
    "    \n",
    "</div>"
   ]
  },
  {
   "cell_type": "markdown",
   "metadata": {},
   "source": [
    "<div class=\"alert alert-info\">\n",
    "\n",
    "<b>Студент:</b> Твой вопрос ввел меня в ступор) на секунду я даже засомневалась, \"неужели я пропустила вопрос в исследовании?\"\n",
    "Но ты же имеешь в виду, то что нужно было это делать в разделе \"обработку пропусков\"? Потому что относительно вопросов я не вижу необходимость использовать данные о возрасте. А исправила их, потому что  при первом выводе df.describe() это бросилось в глаза, и так, на всякий испраивла\n",
    "</div>"
   ]
  },
  {
   "cell_type": "markdown",
   "metadata": {},
   "source": [
    "<div class=\"alert alert-success\">\n",
    "\n",
    "<b>🔁2️⃣ Ревьюер: 👍</b> Я просто поинтересовался. 😄\n",
    "\n",
    "</div>"
   ]
  },
  {
   "cell_type": "markdown",
   "metadata": {},
   "source": [
    "<div class=\"alert alert-info\">\n",
    "\n",
    "<b>Студент:</b> 😅\n",
    "</div>"
   ]
  },
  {
   "cell_type": "code",
   "execution_count": 52,
   "metadata": {},
   "outputs": [],
   "source": [
    "# В таблице со статистикой не отображается столбец **gender** проверим его на уникальные значения.\n",
    "#df['gender'].value_counts() # обнаружено только одно непонятное значение XNA, удалим его \n",
    "\n",
    "df = df.drop(df[df['gender'] == 'XNA'].index) #удаляем в столбце значение XNA"
   ]
  },
  {
   "cell_type": "markdown",
   "metadata": {},
   "source": [
    "<div class=\"alert alert-success\">\n",
    "\n",
    "<b>🔁1️⃣ Ревьюер: 👍</b> Правильно.\n",
    "\n",
    "</div>"
   ]
  },
  {
   "cell_type": "code",
   "execution_count": 53,
   "metadata": {},
   "outputs": [
    {
     "data": {
      "text/plain": [
       "F    14236\n",
       "M     7288\n",
       "Name: gender, dtype: int64"
      ]
     },
     "execution_count": 53,
     "metadata": {},
     "output_type": "execute_result"
    }
   ],
   "source": [
    "df['gender'].value_counts() # проверяем"
   ]
  },
  {
   "cell_type": "markdown",
   "metadata": {},
   "source": [
    "**Вывод**"
   ]
  },
  {
   "cell_type": "markdown",
   "metadata": {},
   "source": [
    "Заменили тип данных в столбцах **total_income** и **length_of_service**(ранее **days_employed**) на целочисленный. Исправили стаж работы у пенсионеров и безработных, привели его к единому. Также заменили некорректные значения в столбцах **children**, **dob_years** и **gender**"
   ]
  },
  {
   "cell_type": "markdown",
   "metadata": {},
   "source": [
    "<div class=\"alert alert-success\">\n",
    "\n",
    "<b>🔁1️⃣ Ревьюер: 👍</b> Хорошая работа.\n",
    "\n",
    "</div>"
   ]
  },
  {
   "cell_type": "markdown",
   "metadata": {},
   "source": [
    "### Обработка дубликатов"
   ]
  },
  {
   "cell_type": "code",
   "execution_count": 54,
   "metadata": {},
   "outputs": [
    {
     "data": {
      "text/plain": [
       "среднее                13750\n",
       "высшее                  4718\n",
       "СРЕДНЕЕ                  772\n",
       "Среднее                  711\n",
       "неоконченное высшее      667\n",
       "ВЫСШЕЕ                   274\n",
       "Высшее                   268\n",
       "начальное                250\n",
       "Неоконченное высшее       47\n",
       "НЕОКОНЧЕННОЕ ВЫСШЕЕ       29\n",
       "НАЧАЛЬНОЕ                 17\n",
       "Начальное                 15\n",
       "ученая степень             4\n",
       "Ученая степень             1\n",
       "УЧЕНАЯ СТЕПЕНЬ             1\n",
       "Name: education, dtype: int64"
      ]
     },
     "execution_count": 54,
     "metadata": {},
     "output_type": "execute_result"
    }
   ],
   "source": [
    "df['education'].value_counts() # посмотрим разброс по наименованиям"
   ]
  },
  {
   "cell_type": "code",
   "execution_count": 55,
   "metadata": {},
   "outputs": [
    {
     "data": {
      "text/plain": [
       "среднее                15233\n",
       "высшее                  5260\n",
       "неоконченное высшее      743\n",
       "начальное                282\n",
       "ученая степень             6\n",
       "Name: education, dtype: int64"
      ]
     },
     "execution_count": 55,
     "metadata": {},
     "output_type": "execute_result"
    }
   ],
   "source": [
    "df['education'] = df['education'].str.lower() # приведем к единому регистру \n",
    "df['education'].value_counts() # поверяем"
   ]
  },
  {
   "cell_type": "code",
   "execution_count": 56,
   "metadata": {},
   "outputs": [
    {
     "data": {
      "text/plain": [
       "71"
      ]
     },
     "execution_count": 56,
     "metadata": {},
     "output_type": "execute_result"
    }
   ],
   "source": [
    "df.duplicated().sum() # Общее количество дубликатов"
   ]
  },
  {
   "cell_type": "code",
   "execution_count": 57,
   "metadata": {},
   "outputs": [],
   "source": [
    "df = df.drop_duplicates().reset_index(drop= True) # удаляем все дубли и пропуски в индексах"
   ]
  },
  {
   "cell_type": "code",
   "execution_count": 58,
   "metadata": {},
   "outputs": [
    {
     "data": {
      "text/plain": [
       "0"
      ]
     },
     "execution_count": 58,
     "metadata": {},
     "output_type": "execute_result"
    }
   ],
   "source": [
    "df.duplicated().sum() # Проверяем "
   ]
  },
  {
   "cell_type": "markdown",
   "metadata": {},
   "source": [
    "# **Вывод**"
   ]
  },
  {
   "cell_type": "markdown",
   "metadata": {},
   "source": [
    "При удалении дублей использовали метод df = df.drop_duplicates().reset_index(drop=True) что бы индексы шли по порядку"
   ]
  },
  {
   "cell_type": "markdown",
   "metadata": {},
   "source": [
    "<div class=\"alert alert-success\">\n",
    "\n",
    "<b>🔁1️⃣ Ревьюер: 👍</b> Все верно. И дублей нет и индексы в порядке. 🙂\n",
    "\n",
    "</div>"
   ]
  },
  {
   "cell_type": "markdown",
   "metadata": {},
   "source": [
    "### Лемматизация"
   ]
  },
  {
   "cell_type": "code",
   "execution_count": 59,
   "metadata": {},
   "outputs": [
    {
     "data": {
      "text/plain": [
       "свадьба                                   791\n",
       "на проведение свадьбы                     768\n",
       "сыграть свадьбу                           765\n",
       "операции с недвижимостью                  675\n",
       "покупка коммерческой недвижимости         661\n",
       "операции с жильем                         652\n",
       "покупка жилья для сдачи                   651\n",
       "операции с коммерческой недвижимостью     650\n",
       "жилье                                     646\n",
       "покупка жилья                             646\n",
       "покупка жилья для семьи                   638\n",
       "строительство собственной недвижимости    635\n",
       "недвижимость                              633\n",
       "операции со своей недвижимостью           627\n",
       "строительство жилой недвижимости          624\n",
       "покупка своего жилья                      620\n",
       "покупка недвижимости                      620\n",
       "строительство недвижимости                619\n",
       "ремонт жилью                              607\n",
       "покупка жилой недвижимости                606\n",
       "на покупку своего автомобиля              505\n",
       "заняться высшим образованием              496\n",
       "автомобиль                                494\n",
       "сделка с подержанным автомобилем          486\n",
       "на покупку подержанного автомобиля        478\n",
       "свой автомобиль                           478\n",
       "автомобили                                478\n",
       "на покупку автомобиля                     471\n",
       "приобретение автомобиля                   461\n",
       "дополнительное образование                460\n",
       "сделка с автомобилем                      455\n",
       "высшее образование                        452\n",
       "образование                               447\n",
       "получение дополнительного образования     446\n",
       "получение образования                     442\n",
       "профильное образование                    436\n",
       "получение высшего образования             426\n",
       "заняться образованием                     408\n",
       "Name: purpose, dtype: int64"
      ]
     },
     "execution_count": 59,
     "metadata": {},
     "output_type": "execute_result"
    }
   ],
   "source": [
    "df['purpose'].value_counts() # проверяем сколько котегорий"
   ]
  },
  {
   "cell_type": "code",
   "execution_count": 60,
   "metadata": {},
   "outputs": [
    {
     "data": {
      "text/plain": [
       "['автомобиль', '\\n']                                                      972\n",
       "['свадьба', '\\n']                                                         791\n",
       "['на', ' ', 'проведение', ' ', 'свадьба', '\\n']                           768\n",
       "['сыграть', ' ', 'свадьба', '\\n']                                         765\n",
       "['операция', ' ', 'с', ' ', 'недвижимость', '\\n']                         675\n",
       "['покупка', ' ', 'коммерческий', ' ', 'недвижимость', '\\n']               661\n",
       "['операция', ' ', 'с', ' ', 'жилье', '\\n']                                652\n",
       "['покупка', ' ', 'жилье', ' ', 'для', ' ', 'сдача', '\\n']                 651\n",
       "['операция', ' ', 'с', ' ', 'коммерческий', ' ', 'недвижимость', '\\n']    650\n",
       "['покупка', ' ', 'жилье', '\\n']                                           646\n",
       "['жилье', '\\n']                                                           646\n",
       "['покупка', ' ', 'жилье', ' ', 'для', ' ', 'семья', '\\n']                 638\n",
       "['строительство', ' ', 'собственный', ' ', 'недвижимость', '\\n']          635\n",
       "['недвижимость', '\\n']                                                    633\n",
       "['операция', ' ', 'со', ' ', 'свой', ' ', 'недвижимость', '\\n']           627\n",
       "['строительство', ' ', 'жилой', ' ', 'недвижимость', '\\n']                624\n",
       "['покупка', ' ', 'свой', ' ', 'жилье', '\\n']                              620\n",
       "['покупка', ' ', 'недвижимость', '\\n']                                    620\n",
       "['строительство', ' ', 'недвижимость', '\\n']                              619\n",
       "['ремонт', ' ', 'жилье', '\\n']                                            607\n",
       "['покупка', ' ', 'жилой', ' ', 'недвижимость', '\\n']                      606\n",
       "['на', ' ', 'покупка', ' ', 'свой', ' ', 'автомобиль', '\\n']              505\n",
       "['заниматься', ' ', 'высокий', ' ', 'образование', '\\n']                  496\n",
       "['сделка', ' ', 'с', ' ', 'подержанный', ' ', 'автомобиль', '\\n']         486\n",
       "['свой', ' ', 'автомобиль', '\\n']                                         478\n",
       "['на', ' ', 'покупка', ' ', 'подержать', ' ', 'автомобиль', '\\n']         478\n",
       "['на', ' ', 'покупка', ' ', 'автомобиль', '\\n']                           471\n",
       "['приобретение', ' ', 'автомобиль', '\\n']                                 461\n",
       "['дополнительный', ' ', 'образование', '\\n']                              460\n",
       "['сделка', ' ', 'с', ' ', 'автомобиль', '\\n']                             455\n",
       "['высокий', ' ', 'образование', '\\n']                                     452\n",
       "['образование', '\\n']                                                     447\n",
       "['получение', ' ', 'дополнительный', ' ', 'образование', '\\n']            446\n",
       "['получение', ' ', 'образование', '\\n']                                   442\n",
       "['профильный', ' ', 'образование', '\\n']                                  436\n",
       "['получение', ' ', 'высокий', ' ', 'образование', '\\n']                   426\n",
       "['заниматься', ' ', 'образование', '\\n']                                  408\n",
       "Name: new_purpose, dtype: int64"
      ]
     },
     "execution_count": 60,
     "metadata": {},
     "output_type": "execute_result"
    }
   ],
   "source": [
    "df['new_purpose'] = df['purpose'].apply(m.lemmatize)\n",
    "df['new_purpose'] = df['new_purpose'].astype('str')\n",
    "df['new_purpose'].value_counts() # Выведем повторения"
   ]
  },
  {
   "cell_type": "markdown",
   "metadata": {},
   "source": [
    "<div class=\"alert alert-success\">\n",
    "\n",
    "<b>🔁1️⃣ Ревьюер: 👍</b> Это не самые частые повторения, а все. 😉\n",
    "\n",
    "</div>"
   ]
  },
  {
   "cell_type": "markdown",
   "metadata": {},
   "source": [
    "<div class=\"alert alert-info\">\n",
    "\n",
    "<b>Студент:</b> +\n",
    "</div>"
   ]
  },
  {
   "cell_type": "markdown",
   "metadata": {},
   "source": [
    "<div class=\"alert alert-success\">\n",
    "\n",
    "<b>🔁2️⃣ Ревьюер: 👍</b>\n",
    "\n",
    "</div>"
   ]
  },
  {
   "cell_type": "markdown",
   "metadata": {},
   "source": [
    "**Вывод**"
   ]
  },
  {
   "cell_type": "markdown",
   "metadata": {},
   "source": [
    "После просмотра всех словосочетаний, можно выделить 4 основные цели на получение кредита: недвижимость, автомобиль, образование и свадьба."
   ]
  },
  {
   "cell_type": "markdown",
   "metadata": {},
   "source": [
    "<div class=\"alert alert-success\">\n",
    "\n",
    "<b>🔁1️⃣ Ревьюер: 👍</b> Хорошо. Здесь можно было написать какие четыре цели ты выявила.\n",
    "\n",
    "</div>"
   ]
  },
  {
   "cell_type": "markdown",
   "metadata": {},
   "source": [
    "<div class=\"alert alert-info\">\n",
    "\n",
    "<b>Студент:</b> +\n",
    "</div>"
   ]
  },
  {
   "cell_type": "markdown",
   "metadata": {},
   "source": [
    "<div class=\"alert alert-success\">\n",
    "\n",
    "<b>🔁2️⃣ Ревьюер: 👍</b> И здесь все хорошо.\n",
    "\n",
    "</div>"
   ]
  },
  {
   "cell_type": "markdown",
   "metadata": {},
   "source": [
    "### Категоризация данных"
   ]
  },
  {
   "cell_type": "markdown",
   "metadata": {},
   "source": [
    "Напишем функции для катигоризации значений в столбцах: **children**, **family_status**, **total_income**, **purpose**"
   ]
  },
  {
   "cell_type": "code",
   "execution_count": 61,
   "metadata": {},
   "outputs": [
    {
     "data": {
      "text/plain": [
       "0        (195818.0, 2265604.0]\n",
       "1         (107620.0, 142594.0]\n",
       "2         (142594.0, 195818.0]\n",
       "3        (195818.0, 2265604.0]\n",
       "4         (142594.0, 195818.0]\n",
       "                 ...          \n",
       "21448    (195818.0, 2265604.0]\n",
       "21449     (142594.0, 195818.0]\n",
       "21450    (20666.999, 107620.0]\n",
       "21451    (195818.0, 2265604.0]\n",
       "21452    (20666.999, 107620.0]\n",
       "Name: total_income, Length: 21453, dtype: category\n",
       "Categories (4, interval[float64]): [(20666.999, 107620.0] < (107620.0, 142594.0] < (142594.0, 195818.0] < (195818.0, 2265604.0]]"
      ]
     },
     "execution_count": 61,
     "metadata": {},
     "output_type": "execute_result"
    }
   ],
   "source": [
    "# Для дальнейшего исследования, разделим доход на равномерные категории с помощью метода qcut()\n",
    "pd.qcut(df['total_income'], q = 4)"
   ]
  },
  {
   "cell_type": "code",
   "execution_count": 62,
   "metadata": {},
   "outputs": [],
   "source": [
    "def children(quantity): # Функция для категоризации в столбце children\n",
    "    if quantity['children'] == 0:\n",
    "        return 'детей нет'\n",
    "    elif 1 <= quantity['children'] <= 2:\n",
    "        return '1-2 ребенка'\n",
    "    else:\n",
    "        return 'многодетные'\n",
    "df['children'] = df.apply(children, axis=1)"
   ]
  },
  {
   "cell_type": "code",
   "execution_count": 63,
   "metadata": {},
   "outputs": [],
   "source": [
    "def total_income(money): # Функция для категоризации в столбце total_income\n",
    "    if money ['total_income'] <= 107620:\n",
    "        return 'меньше 107 620р'\n",
    "    elif 107620 < money ['total_income'] <= 142594:\n",
    "        return 'от 107 620р до 142 594р'\n",
    "    elif 142594 < money ['total_income'] < 195815:\n",
    "        return 'от 142 594р до 195 818р'\n",
    "    else:\n",
    "        return 'больше 195 818р'\n",
    "df['total_income'] = df.apply(total_income, axis=1)"
   ]
  },
  {
   "cell_type": "code",
   "execution_count": 64,
   "metadata": {},
   "outputs": [
    {
     "data": {
      "text/html": [
       "<div>\n",
       "<style scoped>\n",
       "    .dataframe tbody tr th:only-of-type {\n",
       "        vertical-align: middle;\n",
       "    }\n",
       "\n",
       "    .dataframe tbody tr th {\n",
       "        vertical-align: top;\n",
       "    }\n",
       "\n",
       "    .dataframe thead th {\n",
       "        text-align: right;\n",
       "    }\n",
       "</style>\n",
       "<table border=\"1\" class=\"dataframe\">\n",
       "  <thead>\n",
       "    <tr style=\"text-align: right;\">\n",
       "      <th></th>\n",
       "      <th>children</th>\n",
       "      <th>length_of_service</th>\n",
       "      <th>dob_years</th>\n",
       "      <th>education</th>\n",
       "      <th>education_id</th>\n",
       "      <th>family_status</th>\n",
       "      <th>family_status_id</th>\n",
       "      <th>gender</th>\n",
       "      <th>income_type</th>\n",
       "      <th>debt</th>\n",
       "      <th>total_income</th>\n",
       "      <th>new_purpose</th>\n",
       "    </tr>\n",
       "  </thead>\n",
       "  <tbody>\n",
       "    <tr>\n",
       "      <td>0</td>\n",
       "      <td>1-2 ребенка</td>\n",
       "      <td>23</td>\n",
       "      <td>42</td>\n",
       "      <td>высшее</td>\n",
       "      <td>0</td>\n",
       "      <td>женат / замужем</td>\n",
       "      <td>0</td>\n",
       "      <td>F</td>\n",
       "      <td>сотрудник</td>\n",
       "      <td>0</td>\n",
       "      <td>больше 195 818р</td>\n",
       "      <td>недвижимость</td>\n",
       "    </tr>\n",
       "    <tr>\n",
       "      <td>1</td>\n",
       "      <td>1-2 ребенка</td>\n",
       "      <td>11</td>\n",
       "      <td>36</td>\n",
       "      <td>среднее</td>\n",
       "      <td>1</td>\n",
       "      <td>женат / замужем</td>\n",
       "      <td>0</td>\n",
       "      <td>F</td>\n",
       "      <td>сотрудник</td>\n",
       "      <td>0</td>\n",
       "      <td>от 107 620р до 142 594р</td>\n",
       "      <td>автомобиль</td>\n",
       "    </tr>\n",
       "    <tr>\n",
       "      <td>2</td>\n",
       "      <td>детей нет</td>\n",
       "      <td>15</td>\n",
       "      <td>33</td>\n",
       "      <td>среднее</td>\n",
       "      <td>1</td>\n",
       "      <td>женат / замужем</td>\n",
       "      <td>0</td>\n",
       "      <td>M</td>\n",
       "      <td>сотрудник</td>\n",
       "      <td>0</td>\n",
       "      <td>от 142 594р до 195 818р</td>\n",
       "      <td>недвижимость</td>\n",
       "    </tr>\n",
       "    <tr>\n",
       "      <td>3</td>\n",
       "      <td>многодетные</td>\n",
       "      <td>11</td>\n",
       "      <td>32</td>\n",
       "      <td>среднее</td>\n",
       "      <td>1</td>\n",
       "      <td>женат / замужем</td>\n",
       "      <td>0</td>\n",
       "      <td>M</td>\n",
       "      <td>сотрудник</td>\n",
       "      <td>0</td>\n",
       "      <td>больше 195 818р</td>\n",
       "      <td>образование</td>\n",
       "    </tr>\n",
       "    <tr>\n",
       "      <td>4</td>\n",
       "      <td>детей нет</td>\n",
       "      <td>38</td>\n",
       "      <td>53</td>\n",
       "      <td>среднее</td>\n",
       "      <td>1</td>\n",
       "      <td>гражданский брак</td>\n",
       "      <td>1</td>\n",
       "      <td>F</td>\n",
       "      <td>пенсионер</td>\n",
       "      <td>0</td>\n",
       "      <td>от 142 594р до 195 818р</td>\n",
       "      <td>свадьба</td>\n",
       "    </tr>\n",
       "    <tr>\n",
       "      <td>5</td>\n",
       "      <td>детей нет</td>\n",
       "      <td>2</td>\n",
       "      <td>27</td>\n",
       "      <td>высшее</td>\n",
       "      <td>0</td>\n",
       "      <td>гражданский брак</td>\n",
       "      <td>1</td>\n",
       "      <td>M</td>\n",
       "      <td>компаньон</td>\n",
       "      <td>0</td>\n",
       "      <td>больше 195 818р</td>\n",
       "      <td>недвижимость</td>\n",
       "    </tr>\n",
       "    <tr>\n",
       "      <td>6</td>\n",
       "      <td>детей нет</td>\n",
       "      <td>7</td>\n",
       "      <td>43</td>\n",
       "      <td>высшее</td>\n",
       "      <td>0</td>\n",
       "      <td>женат / замужем</td>\n",
       "      <td>0</td>\n",
       "      <td>F</td>\n",
       "      <td>компаньон</td>\n",
       "      <td>0</td>\n",
       "      <td>больше 195 818р</td>\n",
       "      <td>недвижимость</td>\n",
       "    </tr>\n",
       "    <tr>\n",
       "      <td>7</td>\n",
       "      <td>детей нет</td>\n",
       "      <td>0</td>\n",
       "      <td>50</td>\n",
       "      <td>среднее</td>\n",
       "      <td>1</td>\n",
       "      <td>женат / замужем</td>\n",
       "      <td>0</td>\n",
       "      <td>M</td>\n",
       "      <td>сотрудник</td>\n",
       "      <td>0</td>\n",
       "      <td>от 107 620р до 142 594р</td>\n",
       "      <td>образование</td>\n",
       "    </tr>\n",
       "    <tr>\n",
       "      <td>8</td>\n",
       "      <td>1-2 ребенка</td>\n",
       "      <td>18</td>\n",
       "      <td>35</td>\n",
       "      <td>высшее</td>\n",
       "      <td>0</td>\n",
       "      <td>гражданский брак</td>\n",
       "      <td>1</td>\n",
       "      <td>F</td>\n",
       "      <td>сотрудник</td>\n",
       "      <td>0</td>\n",
       "      <td>меньше 107 620р</td>\n",
       "      <td>свадьба</td>\n",
       "    </tr>\n",
       "    <tr>\n",
       "      <td>9</td>\n",
       "      <td>детей нет</td>\n",
       "      <td>5</td>\n",
       "      <td>41</td>\n",
       "      <td>среднее</td>\n",
       "      <td>1</td>\n",
       "      <td>женат / замужем</td>\n",
       "      <td>0</td>\n",
       "      <td>M</td>\n",
       "      <td>сотрудник</td>\n",
       "      <td>0</td>\n",
       "      <td>от 142 594р до 195 818р</td>\n",
       "      <td>недвижимость</td>\n",
       "    </tr>\n",
       "    <tr>\n",
       "      <td>10</td>\n",
       "      <td>1-2 ребенка</td>\n",
       "      <td>11</td>\n",
       "      <td>36</td>\n",
       "      <td>высшее</td>\n",
       "      <td>0</td>\n",
       "      <td>женат / замужем</td>\n",
       "      <td>0</td>\n",
       "      <td>M</td>\n",
       "      <td>компаньон</td>\n",
       "      <td>0</td>\n",
       "      <td>от 107 620р до 142 594р</td>\n",
       "      <td>недвижимость</td>\n",
       "    </tr>\n",
       "    <tr>\n",
       "      <td>11</td>\n",
       "      <td>детей нет</td>\n",
       "      <td>2</td>\n",
       "      <td>40</td>\n",
       "      <td>среднее</td>\n",
       "      <td>1</td>\n",
       "      <td>женат / замужем</td>\n",
       "      <td>0</td>\n",
       "      <td>F</td>\n",
       "      <td>сотрудник</td>\n",
       "      <td>0</td>\n",
       "      <td>меньше 107 620р</td>\n",
       "      <td>недвижимость</td>\n",
       "    </tr>\n",
       "    <tr>\n",
       "      <td>12</td>\n",
       "      <td>детей нет</td>\n",
       "      <td>0</td>\n",
       "      <td>65</td>\n",
       "      <td>среднее</td>\n",
       "      <td>1</td>\n",
       "      <td>гражданский брак</td>\n",
       "      <td>1</td>\n",
       "      <td>M</td>\n",
       "      <td>пенсионер</td>\n",
       "      <td>0</td>\n",
       "      <td>от 107 620р до 142 594р</td>\n",
       "      <td>свадьба</td>\n",
       "    </tr>\n",
       "    <tr>\n",
       "      <td>13</td>\n",
       "      <td>детей нет</td>\n",
       "      <td>5</td>\n",
       "      <td>54</td>\n",
       "      <td>неоконченное высшее</td>\n",
       "      <td>2</td>\n",
       "      <td>женат / замужем</td>\n",
       "      <td>0</td>\n",
       "      <td>F</td>\n",
       "      <td>сотрудник</td>\n",
       "      <td>0</td>\n",
       "      <td>от 107 620р до 142 594р</td>\n",
       "      <td>автомобиль</td>\n",
       "    </tr>\n",
       "    <tr>\n",
       "      <td>14</td>\n",
       "      <td>детей нет</td>\n",
       "      <td>5</td>\n",
       "      <td>56</td>\n",
       "      <td>высшее</td>\n",
       "      <td>0</td>\n",
       "      <td>гражданский брак</td>\n",
       "      <td>1</td>\n",
       "      <td>F</td>\n",
       "      <td>компаньон</td>\n",
       "      <td>1</td>\n",
       "      <td>от 142 594р до 195 818р</td>\n",
       "      <td>недвижимость</td>\n",
       "    </tr>\n",
       "    <tr>\n",
       "      <td>15</td>\n",
       "      <td>1-2 ребенка</td>\n",
       "      <td>2</td>\n",
       "      <td>26</td>\n",
       "      <td>среднее</td>\n",
       "      <td>1</td>\n",
       "      <td>женат / замужем</td>\n",
       "      <td>0</td>\n",
       "      <td>F</td>\n",
       "      <td>сотрудник</td>\n",
       "      <td>0</td>\n",
       "      <td>от 107 620р до 142 594р</td>\n",
       "      <td>недвижимость</td>\n",
       "    </tr>\n",
       "    <tr>\n",
       "      <td>16</td>\n",
       "      <td>детей нет</td>\n",
       "      <td>4</td>\n",
       "      <td>35</td>\n",
       "      <td>среднее</td>\n",
       "      <td>1</td>\n",
       "      <td>женат / замужем</td>\n",
       "      <td>0</td>\n",
       "      <td>F</td>\n",
       "      <td>сотрудник</td>\n",
       "      <td>0</td>\n",
       "      <td>больше 195 818р</td>\n",
       "      <td>недвижимость</td>\n",
       "    </tr>\n",
       "    <tr>\n",
       "      <td>17</td>\n",
       "      <td>детей нет</td>\n",
       "      <td>6</td>\n",
       "      <td>33</td>\n",
       "      <td>высшее</td>\n",
       "      <td>0</td>\n",
       "      <td>гражданский брак</td>\n",
       "      <td>1</td>\n",
       "      <td>M</td>\n",
       "      <td>сотрудник</td>\n",
       "      <td>0</td>\n",
       "      <td>меньше 107 620р</td>\n",
       "      <td>недвижимость</td>\n",
       "    </tr>\n",
       "    <tr>\n",
       "      <td>18</td>\n",
       "      <td>детей нет</td>\n",
       "      <td>45</td>\n",
       "      <td>53</td>\n",
       "      <td>среднее</td>\n",
       "      <td>1</td>\n",
       "      <td>вдовец / вдова</td>\n",
       "      <td>2</td>\n",
       "      <td>F</td>\n",
       "      <td>пенсионер</td>\n",
       "      <td>0</td>\n",
       "      <td>меньше 107 620р</td>\n",
       "      <td>автомобиль</td>\n",
       "    </tr>\n",
       "    <tr>\n",
       "      <td>19</td>\n",
       "      <td>детей нет</td>\n",
       "      <td>27</td>\n",
       "      <td>48</td>\n",
       "      <td>среднее</td>\n",
       "      <td>1</td>\n",
       "      <td>в разводе</td>\n",
       "      <td>3</td>\n",
       "      <td>F</td>\n",
       "      <td>сотрудник</td>\n",
       "      <td>0</td>\n",
       "      <td>больше 195 818р</td>\n",
       "      <td>автомобиль</td>\n",
       "    </tr>\n",
       "  </tbody>\n",
       "</table>\n",
       "</div>"
      ],
      "text/plain": [
       "       children  length_of_service  dob_years            education  \\\n",
       "0   1-2 ребенка                 23         42               высшее   \n",
       "1   1-2 ребенка                 11         36              среднее   \n",
       "2     детей нет                 15         33              среднее   \n",
       "3   многодетные                 11         32              среднее   \n",
       "4     детей нет                 38         53              среднее   \n",
       "5     детей нет                  2         27               высшее   \n",
       "6     детей нет                  7         43               высшее   \n",
       "7     детей нет                  0         50              среднее   \n",
       "8   1-2 ребенка                 18         35               высшее   \n",
       "9     детей нет                  5         41              среднее   \n",
       "10  1-2 ребенка                 11         36               высшее   \n",
       "11    детей нет                  2         40              среднее   \n",
       "12    детей нет                  0         65              среднее   \n",
       "13    детей нет                  5         54  неоконченное высшее   \n",
       "14    детей нет                  5         56               высшее   \n",
       "15  1-2 ребенка                  2         26              среднее   \n",
       "16    детей нет                  4         35              среднее   \n",
       "17    детей нет                  6         33               высшее   \n",
       "18    детей нет                 45         53              среднее   \n",
       "19    детей нет                 27         48              среднее   \n",
       "\n",
       "    education_id     family_status  family_status_id gender income_type  debt  \\\n",
       "0              0   женат / замужем                 0      F   сотрудник     0   \n",
       "1              1   женат / замужем                 0      F   сотрудник     0   \n",
       "2              1   женат / замужем                 0      M   сотрудник     0   \n",
       "3              1   женат / замужем                 0      M   сотрудник     0   \n",
       "4              1  гражданский брак                 1      F   пенсионер     0   \n",
       "5              0  гражданский брак                 1      M   компаньон     0   \n",
       "6              0   женат / замужем                 0      F   компаньон     0   \n",
       "7              1   женат / замужем                 0      M   сотрудник     0   \n",
       "8              0  гражданский брак                 1      F   сотрудник     0   \n",
       "9              1   женат / замужем                 0      M   сотрудник     0   \n",
       "10             0   женат / замужем                 0      M   компаньон     0   \n",
       "11             1   женат / замужем                 0      F   сотрудник     0   \n",
       "12             1  гражданский брак                 1      M   пенсионер     0   \n",
       "13             2   женат / замужем                 0      F   сотрудник     0   \n",
       "14             0  гражданский брак                 1      F   компаньон     1   \n",
       "15             1   женат / замужем                 0      F   сотрудник     0   \n",
       "16             1   женат / замужем                 0      F   сотрудник     0   \n",
       "17             0  гражданский брак                 1      M   сотрудник     0   \n",
       "18             1    вдовец / вдова                 2      F   пенсионер     0   \n",
       "19             1         в разводе                 3      F   сотрудник     0   \n",
       "\n",
       "               total_income   new_purpose  \n",
       "0           больше 195 818р  недвижимость  \n",
       "1   от 107 620р до 142 594р    автомобиль  \n",
       "2   от 142 594р до 195 818р  недвижимость  \n",
       "3           больше 195 818р   образование  \n",
       "4   от 142 594р до 195 818р       свадьба  \n",
       "5           больше 195 818р  недвижимость  \n",
       "6           больше 195 818р  недвижимость  \n",
       "7   от 107 620р до 142 594р   образование  \n",
       "8           меньше 107 620р       свадьба  \n",
       "9   от 142 594р до 195 818р  недвижимость  \n",
       "10  от 107 620р до 142 594р  недвижимость  \n",
       "11          меньше 107 620р  недвижимость  \n",
       "12  от 107 620р до 142 594р       свадьба  \n",
       "13  от 107 620р до 142 594р    автомобиль  \n",
       "14  от 142 594р до 195 818р  недвижимость  \n",
       "15  от 107 620р до 142 594р  недвижимость  \n",
       "16          больше 195 818р  недвижимость  \n",
       "17          меньше 107 620р  недвижимость  \n",
       "18          меньше 107 620р    автомобиль  \n",
       "19          больше 195 818р    автомобиль  "
      ]
     },
     "execution_count": 64,
     "metadata": {},
     "output_type": "execute_result"
    }
   ],
   "source": [
    "def purpose(intent): # функция для категоризации в столбце purpose\n",
    "    if 'жил' in intent or 'недвиж' in intent:\n",
    "        return 'недвижимость'\n",
    "    if 'свад' in intent:\n",
    "        return 'свадьба'\n",
    "    if 'автомоб' in intent:\n",
    "        return 'автомобиль'\n",
    "    if 'образова' in intent:\n",
    "        return 'образование'\n",
    "df['new_purpose'] = df['purpose'].apply(purpose)\n",
    "df = df.drop('purpose', axis=1) # Удаляем столбец со старыми значениями\n",
    "\n",
    "df.head(20) # Проверяем что получилось"
   ]
  },
  {
   "cell_type": "markdown",
   "metadata": {},
   "source": [
    "<div class=\"alert alert-warning\">\n",
    "\n",
    "<b>🔁1️⃣ Ревьюер: 👉</b> Лучше делать разные логические действия в разных ячейках. Во-первых, в случае возникновения ошибки, ее легче выявить. Во-вторых, так удобнее добавлять промежуточные комментарии. В этом и есть вся прелесть Jupyter notebook.\n",
    "\n",
    "</div>"
   ]
  },
  {
   "cell_type": "markdown",
   "metadata": {},
   "source": [
    "<div class=\"alert alert-info\">\n",
    "\n",
    "<b>Студент:</b> +\n",
    "</div>"
   ]
  },
  {
   "cell_type": "markdown",
   "metadata": {},
   "source": [
    "<div class=\"alert alert-success\">\n",
    "\n",
    "<b>🔁2️⃣ Ревьюер: 👍</b> Спасибо.\n",
    "\n",
    "</div>"
   ]
  },
  {
   "cell_type": "code",
   "execution_count": 65,
   "metadata": {},
   "outputs": [
    {
     "data": {
      "text/plain": [
       "недвижимость    10810\n",
       "автомобиль       4306\n",
       "образование      4013\n",
       "свадьба          2324\n",
       "Name: new_purpose, dtype: int64"
      ]
     },
     "execution_count": 65,
     "metadata": {},
     "output_type": "execute_result"
    }
   ],
   "source": [
    "df['new_purpose'].value_counts() # Проверяем"
   ]
  },
  {
   "cell_type": "code",
   "execution_count": 66,
   "metadata": {},
   "outputs": [
    {
     "data": {
      "text/plain": [
       "от 107 620р до 142 594р    5479\n",
       "меньше 107 620р            5364\n",
       "больше 195 818р            5364\n",
       "от 142 594р до 195 818р    5246\n",
       "Name: total_income, dtype: int64"
      ]
     },
     "execution_count": 66,
     "metadata": {},
     "output_type": "execute_result"
    }
   ],
   "source": [
    "df['total_income'].value_counts() # Проверяем"
   ]
  },
  {
   "cell_type": "markdown",
   "metadata": {},
   "source": [
    "<div class=\"alert alert-warning\">\n",
    "\n",
    "<b>🔁1️⃣ Ревьюер: 👉</b> Для наглядности нужно отобразить как категоризирован столбец дохода. Для проведения правильного исследования важно, чтобы категории в количественных столбцах были разделены примерно одинаково.\n",
    "\n",
    "</div>"
   ]
  },
  {
   "cell_type": "markdown",
   "metadata": {},
   "source": [
    "<div class=\"alert alert-info\">\n",
    "\n",
    "<b>Студент:</b> Добавила категории дохода. Немного откорректировала функцию, что бы хоть как-то увеличить численность людей с низким доходом для исследования.\n",
    "</div>"
   ]
  },
  {
   "cell_type": "markdown",
   "metadata": {},
   "source": [
    "<a id=\"error_2_1\"></a> \n",
    "<div class=\"alert alert-danger\">\n",
    "\n",
    "<b>🔁2️⃣ Ревьюер: ✋</b> Смотри, у тебя самая маленькая категория в 523 раза меньше самой большой. Это может отразиться на результатах исследования. Когда мы делим на категории количественные данные, то лучше их делать примерно одинаковыми. Для этого можно воспользоваться методом `describe()` или `qcut()`. Пример:\n",
    "    \n",
    "```py\n",
    "pd.qcut(df['total_income'], 4)\n",
    "```\n",
    "    \n",
    "```\n",
    "Name: total_income, Length: 21453, dtype: category\n",
    "Categories (4, interval[float64]): [(20666.999, 107620.0]  (107620.0, 142594.0]  (142594.0, 195818.0]  (195818.0, 2265604.0]]\n",
    "```\n",
    "                                                                                                               \n",
    "Что внутри: `pd.qcut(датафрейм['столбец'], количество_категорий)`. \n",
    "    \n",
    "Итого у нас 4 категории:\n",
    "* меньше 107_620\n",
    "* от 107_620 до 142_594\n",
    "* от 142_594 до 195_818\n",
    "* от 195_818\n",
    "    \n",
    "Попробуй использовать этот метод.\n",
    "\n",
    "</div>"
   ]
  },
  {
   "cell_type": "markdown",
   "metadata": {},
   "source": [
    "<div class=\"alert alert-info\">\n",
    "\n",
    "<b>Студент:</b> +\n",
    "</div>"
   ]
  },
  {
   "cell_type": "markdown",
   "metadata": {},
   "source": [
    "**Вывод**"
   ]
  },
  {
   "cell_type": "markdown",
   "metadata": {},
   "source": [
    "Категоризировали данные в столбцах : **children**, **total_income** и **purpose**. Это поможет предоставить статистику для ответов на вопросы в понятной форме"
   ]
  },
  {
   "cell_type": "markdown",
   "metadata": {},
   "source": [
    "<div class=\"alert alert-success\">\n",
    "\n",
    "<b>🔁1️⃣ Ревьюер: 👍</b> Правильно.\n",
    "\n",
    "</div>"
   ]
  },
  {
   "cell_type": "markdown",
   "metadata": {},
   "source": [
    "## Шаг 3. Ответьте на вопросы"
   ]
  },
  {
   "cell_type": "markdown",
   "metadata": {},
   "source": [
    "### Есть ли зависимость между наличием детей и возвратом кредита в срок?"
   ]
  },
  {
   "cell_type": "code",
   "execution_count": 67,
   "metadata": {},
   "outputs": [
    {
     "data": {
      "text/html": [
       "<div>\n",
       "<style scoped>\n",
       "    .dataframe tbody tr th:only-of-type {\n",
       "        vertical-align: middle;\n",
       "    }\n",
       "\n",
       "    .dataframe tbody tr th {\n",
       "        vertical-align: top;\n",
       "    }\n",
       "\n",
       "    .dataframe thead th {\n",
       "        text-align: right;\n",
       "    }\n",
       "</style>\n",
       "<table border=\"1\" class=\"dataframe\">\n",
       "  <thead>\n",
       "    <tr style=\"text-align: right;\">\n",
       "      <th></th>\n",
       "      <th>count</th>\n",
       "      <th>sum</th>\n",
       "    </tr>\n",
       "    <tr>\n",
       "      <th>children</th>\n",
       "      <th></th>\n",
       "      <th></th>\n",
       "    </tr>\n",
       "  </thead>\n",
       "  <tbody>\n",
       "    <tr>\n",
       "      <td>1-2 ребенка</td>\n",
       "      <td>6983</td>\n",
       "      <td>647</td>\n",
       "    </tr>\n",
       "    <tr>\n",
       "      <td>детей нет</td>\n",
       "      <td>14090</td>\n",
       "      <td>1063</td>\n",
       "    </tr>\n",
       "    <tr>\n",
       "      <td>многодетные</td>\n",
       "      <td>380</td>\n",
       "      <td>31</td>\n",
       "    </tr>\n",
       "  </tbody>\n",
       "</table>\n",
       "</div>"
      ],
      "text/plain": [
       "             count   sum\n",
       "children                \n",
       "1-2 ребенка   6983   647\n",
       "детей нет    14090  1063\n",
       "многодетные    380    31"
      ]
     },
     "execution_count": 67,
     "metadata": {},
     "output_type": "execute_result"
    }
   ],
   "source": [
    "children_debt_pivot = df.pivot_table(index = ['children'], values = 'debt', aggfunc = {'sum','count'}) # Формируем своную таблицу\n",
    "children_debt_pivot # Смотрим статистику по столбцу "
   ]
  },
  {
   "cell_type": "code",
   "execution_count": 68,
   "metadata": {},
   "outputs": [
    {
     "data": {
      "text/plain": [
       "children\n",
       "1-2 ребенка    9.265359\n",
       "детей нет      7.544358\n",
       "многодетные    8.157895\n",
       "dtype: float64"
      ]
     },
     "execution_count": 68,
     "metadata": {},
     "output_type": "execute_result"
    }
   ],
   "source": [
    "children_debt = df.groupby('children').agg({'debt':['sum', 'count']})\n",
    "result_children_debt = children_debt['debt']['sum']/children_debt['debt']['count']*100 # Просчитываем % просрочек\n",
    "result_children_debt # Вывоим на экран"
   ]
  },
  {
   "cell_type": "markdown",
   "metadata": {},
   "source": [
    "<a id=\"error_2\"></a> \n",
    "<div class=\"alert alert-danger\">\n",
    "\n",
    "<b>🔁1️⃣ Ревьюер: ✋</b> В задании говорится, что нужно построить сводные таблицы используя `pivot_table`. Примени этот метод пожалуйста.\n",
    "\n",
    "</div>"
   ]
  },
  {
   "cell_type": "markdown",
   "metadata": {},
   "source": [
    "<div class=\"alert alert-info\">\n",
    "\n",
    "<b>Студент:</b> Сделала\n",
    "</div>"
   ]
  },
  {
   "cell_type": "markdown",
   "metadata": {},
   "source": [
    "<div class=\"alert alert-success\">\n",
    "\n",
    "<b>🔁2️⃣ Ревьюер: 👍</b> Отлично, умение применять сводные таблицы тебе пригодится еще ни один раз.\n",
    "\n",
    "</div>"
   ]
  },
  {
   "cell_type": "markdown",
   "metadata": {},
   "source": [
    "**Вывод**"
   ]
  },
  {
   "cell_type": "markdown",
   "metadata": {},
   "source": [
    "У заёмщиков с детьми чаще всего встречаются просрочки по кредитам. Хотя у многодетных семей меньше процент просрочек, чем у семей с 1-2 детьми. "
   ]
  },
  {
   "cell_type": "markdown",
   "metadata": {},
   "source": [
    "<div class=\"alert alert-success\">\n",
    "\n",
    "<b>🔁1️⃣ Ревьюер: 👍</b> Верно подмечено.\n",
    "\n",
    "</div>"
   ]
  },
  {
   "cell_type": "markdown",
   "metadata": {},
   "source": [
    "### Есть ли зависимость между семейным положением и возвратом кредита в срок?"
   ]
  },
  {
   "cell_type": "code",
   "execution_count": 69,
   "metadata": {},
   "outputs": [
    {
     "data": {
      "text/html": [
       "<div>\n",
       "<style scoped>\n",
       "    .dataframe tbody tr th:only-of-type {\n",
       "        vertical-align: middle;\n",
       "    }\n",
       "\n",
       "    .dataframe tbody tr th {\n",
       "        vertical-align: top;\n",
       "    }\n",
       "\n",
       "    .dataframe thead th {\n",
       "        text-align: right;\n",
       "    }\n",
       "</style>\n",
       "<table border=\"1\" class=\"dataframe\">\n",
       "  <thead>\n",
       "    <tr style=\"text-align: right;\">\n",
       "      <th></th>\n",
       "      <th>count</th>\n",
       "      <th>sum</th>\n",
       "    </tr>\n",
       "    <tr>\n",
       "      <th>family_status</th>\n",
       "      <th></th>\n",
       "      <th></th>\n",
       "    </tr>\n",
       "  </thead>\n",
       "  <tbody>\n",
       "    <tr>\n",
       "      <td>Не женат / не замужем</td>\n",
       "      <td>2810</td>\n",
       "      <td>274</td>\n",
       "    </tr>\n",
       "    <tr>\n",
       "      <td>в разводе</td>\n",
       "      <td>1195</td>\n",
       "      <td>85</td>\n",
       "    </tr>\n",
       "    <tr>\n",
       "      <td>вдовец / вдова</td>\n",
       "      <td>959</td>\n",
       "      <td>63</td>\n",
       "    </tr>\n",
       "    <tr>\n",
       "      <td>гражданский брак</td>\n",
       "      <td>4150</td>\n",
       "      <td>388</td>\n",
       "    </tr>\n",
       "    <tr>\n",
       "      <td>женат / замужем</td>\n",
       "      <td>12339</td>\n",
       "      <td>931</td>\n",
       "    </tr>\n",
       "  </tbody>\n",
       "</table>\n",
       "</div>"
      ],
      "text/plain": [
       "                       count  sum\n",
       "family_status                    \n",
       "Не женат / не замужем   2810  274\n",
       "в разводе               1195   85\n",
       "вдовец / вдова           959   63\n",
       "гражданский брак        4150  388\n",
       "женат / замужем        12339  931"
      ]
     },
     "execution_count": 69,
     "metadata": {},
     "output_type": "execute_result"
    }
   ],
   "source": [
    "family_status_debt_pivot = df.pivot_table(index = ['family_status'], values = 'debt', aggfunc = {'sum','count'}) # Формируем свондую таблицу\n",
    "family_status_debt_pivot"
   ]
  },
  {
   "cell_type": "code",
   "execution_count": 70,
   "metadata": {},
   "outputs": [
    {
     "data": {
      "text/plain": [
       "family_status\n",
       "Не женат / не замужем    9.750890\n",
       "в разводе                7.112971\n",
       "вдовец / вдова           6.569343\n",
       "гражданский брак         9.349398\n",
       "женат / замужем          7.545182\n",
       "dtype: float64"
      ]
     },
     "execution_count": 70,
     "metadata": {},
     "output_type": "execute_result"
    }
   ],
   "source": [
    "family_status_debt = df.groupby('family_status').agg({'debt':['sum', 'count']})\n",
    "result_family_status_debt = family_status_debt['debt']['sum']/family_status_debt['debt']['count']*100 # Просчитываем % просрочек\n",
    "result_family_status_debt # Выводим функцию на экран  "
   ]
  },
  {
   "cell_type": "markdown",
   "metadata": {},
   "source": [
    "**Вывод**"
   ]
  },
  {
   "cell_type": "markdown",
   "metadata": {},
   "source": [
    "У заёмщиков не состоящих в законных отношениях доля просрочек по кредиту больше - 9,3% и 9,7%. Так же те кто развелись или овдовели имеют меньше задолженностей, чем люди в браке 6,5% и 7,1%"
   ]
  },
  {
   "cell_type": "markdown",
   "metadata": {},
   "source": [
    "<div class=\"alert alert-success\">\n",
    "\n",
    "<b>🔁1️⃣ Ревьюер: 👍</b> Верный вывод. Можно еще добавить числа.\n",
    "</div>"
   ]
  },
  {
   "cell_type": "markdown",
   "metadata": {},
   "source": [
    "<div class=\"alert alert-info\">\n",
    "\n",
    "<b>Студент:</b> +\n",
    "</div>"
   ]
  },
  {
   "cell_type": "markdown",
   "metadata": {},
   "source": [
    "<div class=\"alert alert-success\">\n",
    "\n",
    "<b>🔁2️⃣ Ревьюер: 👍</b> Супер.\n",
    "\n",
    "</div>"
   ]
  },
  {
   "cell_type": "markdown",
   "metadata": {},
   "source": [
    "### Есть ли зависимость между уровнем дохода и возвратом кредита в срок?"
   ]
  },
  {
   "cell_type": "code",
   "execution_count": 71,
   "metadata": {},
   "outputs": [
    {
     "data": {
      "text/html": [
       "<div>\n",
       "<style scoped>\n",
       "    .dataframe tbody tr th:only-of-type {\n",
       "        vertical-align: middle;\n",
       "    }\n",
       "\n",
       "    .dataframe tbody tr th {\n",
       "        vertical-align: top;\n",
       "    }\n",
       "\n",
       "    .dataframe thead th {\n",
       "        text-align: right;\n",
       "    }\n",
       "</style>\n",
       "<table border=\"1\" class=\"dataframe\">\n",
       "  <thead>\n",
       "    <tr style=\"text-align: right;\">\n",
       "      <th></th>\n",
       "      <th>count</th>\n",
       "      <th>sum</th>\n",
       "    </tr>\n",
       "    <tr>\n",
       "      <th>total_income</th>\n",
       "      <th></th>\n",
       "      <th></th>\n",
       "    </tr>\n",
       "  </thead>\n",
       "  <tbody>\n",
       "    <tr>\n",
       "      <td>больше 195 818р</td>\n",
       "      <td>5364</td>\n",
       "      <td>383</td>\n",
       "    </tr>\n",
       "    <tr>\n",
       "      <td>меньше 107 620р</td>\n",
       "      <td>5364</td>\n",
       "      <td>427</td>\n",
       "    </tr>\n",
       "    <tr>\n",
       "      <td>от 107 620р до 142 594р</td>\n",
       "      <td>5479</td>\n",
       "      <td>483</td>\n",
       "    </tr>\n",
       "    <tr>\n",
       "      <td>от 142 594р до 195 818р</td>\n",
       "      <td>5246</td>\n",
       "      <td>448</td>\n",
       "    </tr>\n",
       "  </tbody>\n",
       "</table>\n",
       "</div>"
      ],
      "text/plain": [
       "                         count  sum\n",
       "total_income                       \n",
       "больше 195 818р           5364  383\n",
       "меньше 107 620р           5364  427\n",
       "от 107 620р до 142 594р   5479  483\n",
       "от 142 594р до 195 818р   5246  448"
      ]
     },
     "execution_count": 71,
     "metadata": {},
     "output_type": "execute_result"
    }
   ],
   "source": [
    "total_income_debt_pivot = df.pivot_table(index = ['total_income'], values = 'debt', aggfunc = {'sum','count'})\n",
    "total_income_debt_pivot"
   ]
  },
  {
   "cell_type": "code",
   "execution_count": 72,
   "metadata": {},
   "outputs": [
    {
     "data": {
      "text/plain": [
       "total_income\n",
       "больше 195 818р            7.140194\n",
       "меньше 107 620р            7.960477\n",
       "от 107 620р до 142 594р    8.815477\n",
       "от 142 594р до 195 818р    8.539840\n",
       "dtype: float64"
      ]
     },
     "execution_count": 72,
     "metadata": {},
     "output_type": "execute_result"
    }
   ],
   "source": [
    "total_income_debt = df.groupby('total_income').agg({'debt':['sum','count']})\n",
    "result_total_income_debt = total_income_debt['debt']['sum']/total_income_debt['debt']['count']*100 # Просчитываем % просрочек\n",
    "result_total_income_debt # Выводим функцию на экран  "
   ]
  },
  {
   "cell_type": "markdown",
   "metadata": {},
   "source": [
    "<a id=\"error_3\"></a> \n",
    "<div class=\"alert alert-danger\">\n",
    "\n",
    "<b>🔁1️⃣ Ревьюер: ✋</b> Лучше делить категории так, чтобы они были примерно равны. Данные для равномерного деления категорий можно взять использовав метод `describe()`. Тогда изменятся результаты по разным категориям, а значит и вывод.\n",
    "    \n",
    "</div>"
   ]
  },
  {
   "cell_type": "markdown",
   "metadata": {},
   "source": [
    "**Вывод**"
   ]
  },
  {
   "cell_type": "markdown",
   "metadata": {},
   "source": [
    "`Старый вывод` Количество людей в каждом классе очень сильно разница, допустим заёмщиков с миллионным заработком меньше всех, но всё равно исходя из процентных показателей по количеству долгов, можно сказать, что люди любого достатка сталкиваются с финансовыми трудностями и соответственно с просрочками по кредитам.\n",
    "\n",
    "`Новый вывод` Заёмщики с доходом от 108 000р до 196 000р имеют больший процент просрочки по кредитам, а вот у людей с заработком от 200 000р ситуация обратная."
   ]
  },
  {
   "cell_type": "markdown",
   "metadata": {},
   "source": [
    "<div class=\"alert alert-info\">\n",
    "\n",
    "<b>Студент:</b> Я немного изменила минимальный заработок, так же замена пропусков на среднее значение увеличило количество данных, что помогло скорректировать вывод, для этой статистики.\n",
    "</div>"
   ]
  },
  {
   "cell_type": "markdown",
   "metadata": {},
   "source": [
    "<div class=\"alert alert-success\">\n",
    "\n",
    "<b>🔁2️⃣ Ревьюер: 👍</b> Про категоризацию доходов оставил комментарий выше.\n",
    "\n",
    "</div>"
   ]
  },
  {
   "cell_type": "markdown",
   "metadata": {},
   "source": [
    "<div class=\"alert alert-info\">\n",
    "\n",
    "<b>Студент:</b> +\n",
    "</div>"
   ]
  },
  {
   "cell_type": "markdown",
   "metadata": {},
   "source": [
    "### Как разные цели кредита влияют на его возврат в срок?"
   ]
  },
  {
   "cell_type": "code",
   "execution_count": 73,
   "metadata": {},
   "outputs": [
    {
     "data": {
      "text/html": [
       "<div>\n",
       "<style scoped>\n",
       "    .dataframe tbody tr th:only-of-type {\n",
       "        vertical-align: middle;\n",
       "    }\n",
       "\n",
       "    .dataframe tbody tr th {\n",
       "        vertical-align: top;\n",
       "    }\n",
       "\n",
       "    .dataframe thead th {\n",
       "        text-align: right;\n",
       "    }\n",
       "</style>\n",
       "<table border=\"1\" class=\"dataframe\">\n",
       "  <thead>\n",
       "    <tr style=\"text-align: right;\">\n",
       "      <th></th>\n",
       "      <th>count</th>\n",
       "      <th>sum</th>\n",
       "    </tr>\n",
       "    <tr>\n",
       "      <th>new_purpose</th>\n",
       "      <th></th>\n",
       "      <th></th>\n",
       "    </tr>\n",
       "  </thead>\n",
       "  <tbody>\n",
       "    <tr>\n",
       "      <td>автомобиль</td>\n",
       "      <td>4306</td>\n",
       "      <td>403</td>\n",
       "    </tr>\n",
       "    <tr>\n",
       "      <td>недвижимость</td>\n",
       "      <td>10810</td>\n",
       "      <td>782</td>\n",
       "    </tr>\n",
       "    <tr>\n",
       "      <td>образование</td>\n",
       "      <td>4013</td>\n",
       "      <td>370</td>\n",
       "    </tr>\n",
       "    <tr>\n",
       "      <td>свадьба</td>\n",
       "      <td>2324</td>\n",
       "      <td>186</td>\n",
       "    </tr>\n",
       "  </tbody>\n",
       "</table>\n",
       "</div>"
      ],
      "text/plain": [
       "              count  sum\n",
       "new_purpose             \n",
       "автомобиль     4306  403\n",
       "недвижимость  10810  782\n",
       "образование    4013  370\n",
       "свадьба        2324  186"
      ]
     },
     "execution_count": 73,
     "metadata": {},
     "output_type": "execute_result"
    }
   ],
   "source": [
    "new_purpose_debt_pivot = df.pivot_table(index = ['new_purpose'], values = 'debt', aggfunc = {'sum','count'})\n",
    "new_purpose_debt_pivot"
   ]
  },
  {
   "cell_type": "code",
   "execution_count": 74,
   "metadata": {},
   "outputs": [
    {
     "data": {
      "text/plain": [
       "new_purpose\n",
       "автомобиль      9.359034\n",
       "недвижимость    7.234043\n",
       "образование     9.220035\n",
       "свадьба         8.003442\n",
       "dtype: float64"
      ]
     },
     "execution_count": 74,
     "metadata": {},
     "output_type": "execute_result"
    }
   ],
   "source": [
    "new_purpose_debt = df.groupby('new_purpose').agg({'debt':['sum','count']}) # Формируем сводную таблицу\n",
    "result_new_purpose_debt = new_purpose_debt['debt']['sum']/new_purpose_debt['debt']['count']*100 # Просчитываем % просрочек\n",
    "result_new_purpose_debt"
   ]
  },
  {
   "cell_type": "markdown",
   "metadata": {},
   "source": [
    "**Вывод**"
   ]
  },
  {
   "cell_type": "markdown",
   "metadata": {},
   "source": [
    "Меньше всего задолженностей в кредитах взятых с целью купить/обменять/улучшить недвижимость. Больше всего должников в категориях \"автомобиль\" и \"образование."
   ]
  },
  {
   "cell_type": "markdown",
   "metadata": {},
   "source": [
    "<div class=\"alert alert-success\">\n",
    "\n",
    "<b>🔁1️⃣ Ревьюер: 👍</b> Правильно. Недвижимость никто не хочет терять.\n",
    "\n",
    "</div>"
   ]
  },
  {
   "cell_type": "markdown",
   "metadata": {},
   "source": [
    "## Шаг 4. Общий вывод"
   ]
  },
  {
   "cell_type": "markdown",
   "metadata": {},
   "source": [
    "Исходя из проделанной работы можно составить портрет надёжного заёмщика. \n",
    "\n",
    "🟢Меньше всего задолженностей у людей:\n",
    " - с доходом меньше 110 000р и больше 200 000р, \n",
    " - без детей,\n",
    " - ранее состоявших в официальном браке(разведены или овдовели),\n",
    " - которые взяли кредит с целью приобретения/улучшения недвижимости.\n",
    "\n",
    "🔴Соответственно, больше задолженностей у заёмщиков:\n",
    " - с доходом от 110 000р и до 200 000р\n",
    " - с 1-2 детьми, \n",
    " - состоящих в гражданском браке или одинокие,\n",
    " - которые берут кредит на машину или образование."
   ]
  },
  {
   "cell_type": "markdown",
   "metadata": {},
   "source": [
    "<a id=\"error_4\"></a> \n",
    "<div class=\"alert alert-danger\">\n",
    "\n",
    "<b>🔁1️⃣ Ревьюер: ✋</b> Выводы – это лицо аналитика. Конечный заказчик будет читать финальный вывод и только его. Разбей по пунктам, добавь чисел для большей убедительности. Сделай красиво, чтобы было понятно, что проведено настоящее исследование и выводу можно верить. Тем более ты это умеешь делать! 😉"
   ]
  },
  {
   "cell_type": "markdown",
   "metadata": {},
   "source": [
    "<a id=\"error_2_1\"></a> \n",
    "<div class=\"alert alert-danger\">\n",
    "\n",
    "<b>🔁2️⃣ Ревьюер: ✋</b> Добавь еще числа и скорректированные данные по уровню доходов. Получится хороший вывод."
   ]
  },
  {
   "cell_type": "markdown",
   "metadata": {},
   "source": [
    "<div class=\"alert alert-danger\">\n",
    "\n",
    "<b>🔁1️⃣ Ревьюер: ✋</b> Дарья у тебя хороший проект. Для того, чтобы исследование и выводы были более точные нужно внести некоторые изменения. Но в остальном ты молодец!\n",
    "    \n",
    "Для удобства поиска я добавил тебе ссылки.\n",
    "\n",
    "* [Заполни доход](#error_1)\n",
    "* [Используй pivot_table](#error_2)\n",
    "* [Измени размер категорий](#error_3)\n",
    "* [Оформи финальный вывод](#error_4)\n",
    "    \n",
    "Жду новую версию. 😉\n",
    "\n",
    "\n",
    "</div>"
   ]
  },
  {
   "cell_type": "markdown",
   "metadata": {},
   "source": [
    "<div class=\"alert alert-danger\">\n",
    "\n",
    "<b>🔁2️⃣ Ревьюер: ✋</b> Осталось чуть-чуть. Ты проделала отличную работу. Осталось равномерно разделить уровень дохода на категории. Подробное описание как это сделать я тебе написал.\n",
    "    \n",
    "Для удобства поиска я добавил тебе ссылки.\n",
    "\n",
    "* [Категоризация дохода](#error_2_1)\n",
    "* [Финальный вывод](#error_2_2)\n",
    "    \n",
    "Жду новую версию. 😉\n",
    "    \n",
    "</div>"
   ]
  },
  {
   "cell_type": "markdown",
   "metadata": {},
   "source": [
    "<div class=\"alert alert-danger\">\n",
    "\n",
    "<b>🔁3️ Ревьюер: ✋</b> Ты забыла добавить обновленную информацию в самый главный раздел – **Финальный вывод**!\n",
    "    \n",
    "Жду новую версию и на подпись. ✌️\n",
    "    \n",
    "</div>"
   ]
  },
  {
   "cell_type": "markdown",
   "metadata": {},
   "source": [
    "<div class=\"alert alert-info\">\n",
    "\n",
    "<b>Студент:</b> +\n",
    "</div>"
   ]
  },
  {
   "cell_type": "markdown",
   "metadata": {},
   "source": [
    "<div class=\"alert alert-success\">\n",
    "<b>🔁4 Ревьюер: ✌️</b> Дарья, спасибо за хорошую работу, за живое общение и за усердие. Все комментарии учтены.\n",
    "\n",
    "Поздравляю, **проект принят**! 🥳 🎉\n",
    "\n",
    "Желаю тебе успехов в дальнейшем обучении.\n",
    "    \n",
    "Ты молодец!\n",
    "    \n",
    "</div>"
   ]
  },
  {
   "cell_type": "markdown",
   "metadata": {},
   "source": [
    "# Чек-лист готовности проекта\n",
    "\n",
    "Поставьте 'x' в выполненных пунктах. Далее нажмите Shift+Enter."
   ]
  },
  {
   "cell_type": "markdown",
   "metadata": {},
   "source": [
    "- [x]  открыт файл;\n",
    "- [x]  файл изучен;\n",
    "- [x]  определены пропущенные значения;\n",
    "- [x]  заполнены пропущенные значения;\n",
    "- [x]  есть пояснение, какие пропущенные значения обнаружены;\n",
    "- [x]  описаны возможные причины появления пропусков в данных;\n",
    "- [x]  объяснено, по какому принципу заполнены пропуски;\n",
    "- [x]  заменен вещественный тип данных на целочисленный;\n",
    "- [x]  есть пояснение, какой метод используется для изменения типа данных и почему;\n",
    "- [x]  удалены дубликаты;\n",
    "- [x]  есть пояснение, какой метод используется для поиска и удаления дубликатов;\n",
    "- [x]  описаны возможные причины появления дубликатов в данных;\n",
    "- [x]  выделены леммы в значениях столбца с целями получения кредита;\n",
    "- [x]  описан процесс лемматизации;\n",
    "- [x]  данные категоризированы;\n",
    "- [x]  есть объяснение принципа категоризации данных;\n",
    "- [x]  есть ответ на вопрос: \"Есть ли зависимость между наличием детей и возвратом кредита в срок?\";\n",
    "- [x]  есть ответ на вопрос: \"Есть ли зависимость между семейным положением и возвратом кредита в срок?\";\n",
    "- [x]  есть ответ на вопрос: \"Есть ли зависимость между уровнем дохода и возвратом кредита в срок?\";\n",
    "- [x]  есть ответ на вопрос: \"Как разные цели кредита влияют на его возврат в срок?\";\n",
    "- [x]  в каждом этапе есть выводы;\n",
    "- [x]  есть общий вывод."
   ]
  }
 ],
 "metadata": {
  "ExecuteTimeLog": [
   {
    "duration": 923,
    "start_time": "2021-11-16T08:54:36.143Z"
   },
   {
    "duration": 4,
    "start_time": "2021-11-16T09:34:54.846Z"
   },
   {
    "duration": 823,
    "start_time": "2021-12-03T07:59:06.469Z"
   },
   {
    "duration": 77,
    "start_time": "2021-12-03T08:10:18.214Z"
   },
   {
    "duration": 77,
    "start_time": "2021-12-03T08:10:28.182Z"
   },
   {
    "duration": 76,
    "start_time": "2021-12-03T08:12:20.624Z"
   },
   {
    "duration": 16,
    "start_time": "2021-12-03T08:12:51.877Z"
   },
   {
    "duration": 99,
    "start_time": "2021-12-03T09:16:40.085Z"
   },
   {
    "duration": 84,
    "start_time": "2021-12-03T09:22:44.926Z"
   },
   {
    "duration": 80,
    "start_time": "2021-12-03T09:22:55.393Z"
   },
   {
    "duration": 84,
    "start_time": "2021-12-03T09:35:41.917Z"
   },
   {
    "duration": 80,
    "start_time": "2021-12-03T09:39:34.376Z"
   },
   {
    "duration": 94,
    "start_time": "2021-12-03T09:43:29.122Z"
   },
   {
    "duration": 79,
    "start_time": "2021-12-03T09:43:39.354Z"
   },
   {
    "duration": 88,
    "start_time": "2021-12-03T11:54:52.652Z"
   },
   {
    "duration": 91,
    "start_time": "2021-12-03T11:57:19.293Z"
   },
   {
    "duration": 94,
    "start_time": "2021-12-03T11:57:43.949Z"
   },
   {
    "duration": 77,
    "start_time": "2021-12-03T11:58:03.118Z"
   },
   {
    "duration": 96,
    "start_time": "2021-12-03T11:58:21.301Z"
   },
   {
    "duration": 73,
    "start_time": "2021-12-03T11:58:35.048Z"
   },
   {
    "duration": 83,
    "start_time": "2021-12-03T11:58:44.356Z"
   },
   {
    "duration": 92,
    "start_time": "2021-12-03T12:00:15.406Z"
   },
   {
    "duration": 82,
    "start_time": "2021-12-03T12:31:03.331Z"
   },
   {
    "duration": 17,
    "start_time": "2021-12-03T12:31:06.966Z"
   },
   {
    "duration": 365,
    "start_time": "2021-12-03T12:37:49.253Z"
   },
   {
    "duration": 48,
    "start_time": "2021-12-03T12:38:24.881Z"
   },
   {
    "duration": 13,
    "start_time": "2021-12-03T14:30:57.756Z"
   },
   {
    "duration": 88,
    "start_time": "2021-12-03T14:35:57.913Z"
   },
   {
    "duration": 94,
    "start_time": "2021-12-03T14:36:26.573Z"
   },
   {
    "duration": 96,
    "start_time": "2021-12-03T14:36:35.696Z"
   },
   {
    "duration": 100,
    "start_time": "2021-12-03T14:36:48.703Z"
   },
   {
    "duration": 89,
    "start_time": "2021-12-03T14:37:04.977Z"
   },
   {
    "duration": 86,
    "start_time": "2021-12-03T14:37:13.853Z"
   },
   {
    "duration": 366,
    "start_time": "2021-12-05T13:48:53.980Z"
   },
   {
    "duration": 311,
    "start_time": "2021-12-05T13:49:17.033Z"
   },
   {
    "duration": 560,
    "start_time": "2021-12-05T13:49:30.223Z"
   },
   {
    "duration": 306,
    "start_time": "2021-12-05T13:49:34.662Z"
   },
   {
    "duration": 905,
    "start_time": "2021-12-05T13:49:59.777Z"
   },
   {
    "duration": 15,
    "start_time": "2021-12-05T13:50:00.686Z"
   },
   {
    "duration": 69,
    "start_time": "2021-12-05T13:50:00.704Z"
   },
   {
    "duration": 79,
    "start_time": "2021-12-05T13:50:10.686Z"
   },
   {
    "duration": 14,
    "start_time": "2021-12-05T13:50:10.768Z"
   },
   {
    "duration": 70,
    "start_time": "2021-12-05T13:50:10.784Z"
   },
   {
    "duration": 94,
    "start_time": "2021-12-05T13:50:42.283Z"
   },
   {
    "duration": 16,
    "start_time": "2021-12-05T13:50:44.562Z"
   },
   {
    "duration": 48,
    "start_time": "2021-12-05T13:50:45.609Z"
   },
   {
    "duration": 18,
    "start_time": "2021-12-05T13:50:48.074Z"
   },
   {
    "duration": 38,
    "start_time": "2021-12-05T13:51:14.088Z"
   },
   {
    "duration": 45,
    "start_time": "2021-12-05T13:51:31.905Z"
   },
   {
    "duration": -135,
    "start_time": "2021-12-05T13:51:53.935Z"
   },
   {
    "duration": 19,
    "start_time": "2021-12-05T13:51:56.869Z"
   },
   {
    "duration": 96,
    "start_time": "2021-12-05T14:17:28.231Z"
   },
   {
    "duration": 11,
    "start_time": "2021-12-05T18:43:47.779Z"
   },
   {
    "duration": 11,
    "start_time": "2021-12-05T18:46:22.809Z"
   },
   {
    "duration": 11,
    "start_time": "2021-12-05T19:17:10.147Z"
   },
   {
    "duration": 11,
    "start_time": "2021-12-05T19:17:39.710Z"
   },
   {
    "duration": 19,
    "start_time": "2021-12-05T19:21:06.559Z"
   },
   {
    "duration": 18,
    "start_time": "2021-12-05T19:22:38.456Z"
   },
   {
    "duration": 10,
    "start_time": "2021-12-05T19:36:25.466Z"
   },
   {
    "duration": 10,
    "start_time": "2021-12-05T19:38:57.392Z"
   },
   {
    "duration": 84,
    "start_time": "2021-12-05T19:39:04.500Z"
   },
   {
    "duration": 14,
    "start_time": "2021-12-05T19:39:04.587Z"
   },
   {
    "duration": 64,
    "start_time": "2021-12-05T19:39:04.604Z"
   },
   {
    "duration": 13,
    "start_time": "2021-12-05T19:39:04.670Z"
   },
   {
    "duration": 12,
    "start_time": "2021-12-05T19:39:11.753Z"
   },
   {
    "duration": 15,
    "start_time": "2021-12-05T19:41:18.596Z"
   },
   {
    "duration": 12,
    "start_time": "2021-12-05T19:42:34.713Z"
   },
   {
    "duration": 15,
    "start_time": "2021-12-05T19:42:35.266Z"
   },
   {
    "duration": 99,
    "start_time": "2021-12-05T20:08:00.960Z"
   },
   {
    "duration": 402,
    "start_time": "2021-12-05T20:08:20.685Z"
   },
   {
    "duration": 584,
    "start_time": "2021-12-05T20:08:24.999Z"
   },
   {
    "duration": 333,
    "start_time": "2021-12-05T20:12:35.676Z"
   },
   {
    "duration": 356,
    "start_time": "2021-12-05T20:13:07.789Z"
   },
   {
    "duration": 291,
    "start_time": "2021-12-05T20:13:18.820Z"
   },
   {
    "duration": 302,
    "start_time": "2021-12-05T20:13:29.360Z"
   },
   {
    "duration": 80,
    "start_time": "2021-12-05T20:14:47.213Z"
   },
   {
    "duration": 37,
    "start_time": "2021-12-05T20:14:47.296Z"
   },
   {
    "duration": 48,
    "start_time": "2021-12-05T20:14:47.338Z"
   },
   {
    "duration": 40,
    "start_time": "2021-12-05T20:14:47.389Z"
   },
   {
    "duration": 16,
    "start_time": "2021-12-05T20:14:47.432Z"
   },
   {
    "duration": 14,
    "start_time": "2021-12-05T20:14:47.451Z"
   },
   {
    "duration": 5,
    "start_time": "2021-12-05T20:14:50.229Z"
   },
   {
    "duration": 5,
    "start_time": "2021-12-05T20:14:55.839Z"
   },
   {
    "duration": 20,
    "start_time": "2021-12-05T20:15:19.323Z"
   },
   {
    "duration": 16,
    "start_time": "2021-12-05T20:16:36.003Z"
   },
   {
    "duration": 19,
    "start_time": "2021-12-05T20:17:18.288Z"
   },
   {
    "duration": 300,
    "start_time": "2021-12-05T20:17:30.123Z"
   },
   {
    "duration": 16,
    "start_time": "2021-12-05T20:17:38.876Z"
   },
   {
    "duration": 279,
    "start_time": "2021-12-05T20:17:45.040Z"
   },
   {
    "duration": 21,
    "start_time": "2021-12-05T20:17:49.170Z"
   },
   {
    "duration": 19,
    "start_time": "2021-12-05T20:22:31.614Z"
   },
   {
    "duration": 46,
    "start_time": "2021-12-05T20:53:07.565Z"
   },
   {
    "duration": 12,
    "start_time": "2021-12-05T21:12:56.517Z"
   },
   {
    "duration": 16,
    "start_time": "2021-12-05T21:16:07.485Z"
   },
   {
    "duration": 12,
    "start_time": "2021-12-05T21:16:08.162Z"
   },
   {
    "duration": 18,
    "start_time": "2021-12-05T21:16:17.347Z"
   },
   {
    "duration": 12,
    "start_time": "2021-12-05T21:16:18.148Z"
   },
   {
    "duration": 20,
    "start_time": "2021-12-05T21:16:31.897Z"
   },
   {
    "duration": 12,
    "start_time": "2021-12-05T21:16:32.266Z"
   },
   {
    "duration": 11,
    "start_time": "2021-12-05T21:24:09.798Z"
   },
   {
    "duration": 45,
    "start_time": "2021-12-05T21:24:24.598Z"
   },
   {
    "duration": 11,
    "start_time": "2021-12-05T21:41:33.522Z"
   },
   {
    "duration": 340,
    "start_time": "2021-12-05T21:42:02.185Z"
   },
   {
    "duration": 11,
    "start_time": "2021-12-05T21:42:44.411Z"
   },
   {
    "duration": 9,
    "start_time": "2021-12-05T21:45:45.999Z"
   },
   {
    "duration": 289,
    "start_time": "2021-12-05T21:46:40.427Z"
   },
   {
    "duration": 8,
    "start_time": "2021-12-05T21:47:01.754Z"
   },
   {
    "duration": 10,
    "start_time": "2021-12-05T21:47:10.998Z"
   },
   {
    "duration": 8,
    "start_time": "2021-12-05T21:47:12.847Z"
   },
   {
    "duration": 5,
    "start_time": "2021-12-05T21:47:23.944Z"
   },
   {
    "duration": 6,
    "start_time": "2021-12-05T21:47:31.276Z"
   },
   {
    "duration": 8,
    "start_time": "2021-12-05T21:47:40.707Z"
   },
   {
    "duration": 347,
    "start_time": "2021-12-05T21:48:03.575Z"
   },
   {
    "duration": 356,
    "start_time": "2021-12-05T21:50:51.795Z"
   },
   {
    "duration": 7,
    "start_time": "2021-12-05T21:50:56.293Z"
   },
   {
    "duration": 296,
    "start_time": "2021-12-05T21:51:17.190Z"
   },
   {
    "duration": 11,
    "start_time": "2021-12-05T22:00:41.133Z"
   },
   {
    "duration": 12,
    "start_time": "2021-12-05T22:01:21.200Z"
   },
   {
    "duration": 309,
    "start_time": "2021-12-05T22:02:17.415Z"
   },
   {
    "duration": 165,
    "start_time": "2021-12-05T22:05:30.903Z"
   },
   {
    "duration": 94,
    "start_time": "2021-12-05T22:05:37.499Z"
   },
   {
    "duration": 4085,
    "start_time": "2021-12-05T22:06:23.274Z"
   },
   {
    "duration": 634,
    "start_time": "2021-12-05T22:06:30.077Z"
   },
   {
    "duration": 3888,
    "start_time": "2021-12-05T22:06:36.858Z"
   },
   {
    "duration": 4294,
    "start_time": "2021-12-05T22:06:45.240Z"
   },
   {
    "duration": 100,
    "start_time": "2021-12-05T22:06:51.343Z"
   },
   {
    "duration": 311,
    "start_time": "2021-12-05T22:06:54.177Z"
   },
   {
    "duration": 332,
    "start_time": "2021-12-05T22:11:04.923Z"
   },
   {
    "duration": 99,
    "start_time": "2021-12-05T22:11:08.930Z"
   },
   {
    "duration": 285,
    "start_time": "2021-12-05T22:12:00.028Z"
   },
   {
    "duration": 316,
    "start_time": "2021-12-05T22:12:06.870Z"
   },
   {
    "duration": 386,
    "start_time": "2021-12-05T22:15:04.018Z"
   },
   {
    "duration": 279,
    "start_time": "2021-12-05T22:16:51.024Z"
   },
   {
    "duration": 290,
    "start_time": "2021-12-05T22:16:58.297Z"
   },
   {
    "duration": 319,
    "start_time": "2021-12-05T22:17:05.139Z"
   },
   {
    "duration": 373,
    "start_time": "2021-12-05T22:17:08.837Z"
   },
   {
    "duration": 293,
    "start_time": "2021-12-05T22:29:55.075Z"
   },
   {
    "duration": 307,
    "start_time": "2021-12-05T22:30:30.762Z"
   },
   {
    "duration": 285,
    "start_time": "2021-12-05T22:30:42.289Z"
   },
   {
    "duration": 298,
    "start_time": "2021-12-05T22:30:49.685Z"
   },
   {
    "duration": 285,
    "start_time": "2021-12-05T22:30:56.157Z"
   },
   {
    "duration": 9,
    "start_time": "2021-12-05T22:31:01.396Z"
   },
   {
    "duration": 90,
    "start_time": "2021-12-05T22:31:11.196Z"
   },
   {
    "duration": 298,
    "start_time": "2021-12-05T22:31:42.078Z"
   },
   {
    "duration": 268,
    "start_time": "2021-12-05T22:31:47.501Z"
   },
   {
    "duration": 498,
    "start_time": "2021-12-05T22:33:20.451Z"
   },
   {
    "duration": 96,
    "start_time": "2021-12-05T22:33:24.149Z"
   },
   {
    "duration": 291,
    "start_time": "2021-12-05T22:33:27.970Z"
   },
   {
    "duration": 296,
    "start_time": "2021-12-05T22:33:52.873Z"
   },
   {
    "duration": 517,
    "start_time": "2021-12-05T22:34:05.323Z"
   },
   {
    "duration": 312,
    "start_time": "2021-12-05T22:35:51.526Z"
   },
   {
    "duration": 96,
    "start_time": "2021-12-05T22:36:02.929Z"
   },
   {
    "duration": 295,
    "start_time": "2021-12-05T22:36:07.984Z"
   },
   {
    "duration": 361,
    "start_time": "2021-12-06T12:53:51.994Z"
   },
   {
    "duration": 867,
    "start_time": "2021-12-06T12:54:00.698Z"
   },
   {
    "duration": 15,
    "start_time": "2021-12-06T12:54:01.568Z"
   },
   {
    "duration": 65,
    "start_time": "2021-12-06T12:54:01.586Z"
   },
   {
    "duration": 12,
    "start_time": "2021-12-06T12:54:01.654Z"
   },
   {
    "duration": 34,
    "start_time": "2021-12-06T12:54:01.668Z"
   },
   {
    "duration": 44,
    "start_time": "2021-12-06T12:54:01.704Z"
   },
   {
    "duration": 109,
    "start_time": "2021-12-06T12:54:01.750Z"
   },
   {
    "duration": 9,
    "start_time": "2021-12-06T12:54:03.575Z"
   },
   {
    "duration": 8,
    "start_time": "2021-12-06T12:54:05.853Z"
   },
   {
    "duration": 12,
    "start_time": "2021-12-06T12:54:20.586Z"
   },
   {
    "duration": 8,
    "start_time": "2021-12-06T12:54:32.737Z"
   },
   {
    "duration": 25,
    "start_time": "2021-12-06T12:54:41.796Z"
   },
   {
    "duration": 26,
    "start_time": "2021-12-06T13:03:49.281Z"
   },
   {
    "duration": 125,
    "start_time": "2021-12-06T13:07:22.505Z"
   },
   {
    "duration": 192,
    "start_time": "2021-12-06T13:07:27.374Z"
   },
   {
    "duration": 23,
    "start_time": "2021-12-06T13:07:31.134Z"
   },
   {
    "duration": 22,
    "start_time": "2021-12-06T13:07:49.442Z"
   },
   {
    "duration": 23,
    "start_time": "2021-12-06T13:07:53.449Z"
   },
   {
    "duration": 86,
    "start_time": "2021-12-06T13:08:12.174Z"
   },
   {
    "duration": 15,
    "start_time": "2021-12-06T13:08:12.263Z"
   },
   {
    "duration": 73,
    "start_time": "2021-12-06T13:08:12.281Z"
   },
   {
    "duration": 12,
    "start_time": "2021-12-06T13:08:12.357Z"
   },
   {
    "duration": 15,
    "start_time": "2021-12-06T13:08:12.371Z"
   },
   {
    "duration": 61,
    "start_time": "2021-12-06T13:08:12.388Z"
   },
   {
    "duration": 19,
    "start_time": "2021-12-06T13:08:12.452Z"
   },
   {
    "duration": 21,
    "start_time": "2021-12-06T13:08:14.469Z"
   },
   {
    "duration": 397,
    "start_time": "2021-12-06T13:15:28.023Z"
   },
   {
    "duration": 29,
    "start_time": "2021-12-06T13:16:02.718Z"
   },
   {
    "duration": 88,
    "start_time": "2021-12-06T13:16:09.621Z"
   },
   {
    "duration": 19,
    "start_time": "2021-12-06T13:16:09.712Z"
   },
   {
    "duration": 50,
    "start_time": "2021-12-06T13:16:09.734Z"
   },
   {
    "duration": 11,
    "start_time": "2021-12-06T13:16:09.786Z"
   },
   {
    "duration": 47,
    "start_time": "2021-12-06T13:16:09.800Z"
   },
   {
    "duration": 27,
    "start_time": "2021-12-06T13:16:09.850Z"
   },
   {
    "duration": 47,
    "start_time": "2021-12-06T13:16:09.880Z"
   },
   {
    "duration": 28,
    "start_time": "2021-12-06T13:16:12.025Z"
   },
   {
    "duration": 7266,
    "start_time": "2021-12-06T13:25:37.013Z"
   },
   {
    "duration": 8414,
    "start_time": "2021-12-06T13:25:50.451Z"
   },
   {
    "duration": 7541,
    "start_time": "2021-12-06T13:26:04.443Z"
   },
   {
    "duration": 80,
    "start_time": "2021-12-06T13:26:19.742Z"
   },
   {
    "duration": 19,
    "start_time": "2021-12-06T13:26:19.825Z"
   },
   {
    "duration": 46,
    "start_time": "2021-12-06T13:26:19.849Z"
   },
   {
    "duration": 16,
    "start_time": "2021-12-06T13:26:19.926Z"
   },
   {
    "duration": 16,
    "start_time": "2021-12-06T13:26:19.945Z"
   },
   {
    "duration": 13,
    "start_time": "2021-12-06T13:26:19.963Z"
   },
   {
    "duration": 46,
    "start_time": "2021-12-06T13:26:19.979Z"
   },
   {
    "duration": 29,
    "start_time": "2021-12-06T13:26:20.028Z"
   },
   {
    "duration": 44,
    "start_time": "2021-12-06T13:26:24.846Z"
   },
   {
    "duration": -1305,
    "start_time": "2021-12-06T13:29:31.786Z"
   },
   {
    "duration": 80,
    "start_time": "2021-12-06T13:29:34.366Z"
   },
   {
    "duration": 14,
    "start_time": "2021-12-06T13:29:34.449Z"
   },
   {
    "duration": 82,
    "start_time": "2021-12-06T13:29:34.467Z"
   },
   {
    "duration": 14,
    "start_time": "2021-12-06T13:29:34.552Z"
   },
   {
    "duration": 14,
    "start_time": "2021-12-06T13:29:34.568Z"
   },
   {
    "duration": 47,
    "start_time": "2021-12-06T13:29:34.584Z"
   },
   {
    "duration": 23,
    "start_time": "2021-12-06T13:29:34.633Z"
   },
   {
    "duration": 25,
    "start_time": "2021-12-06T13:29:37.409Z"
   },
   {
    "duration": 47,
    "start_time": "2021-12-06T13:29:57.997Z"
   },
   {
    "duration": 7795,
    "start_time": "2021-12-06T13:53:44.892Z"
   },
   {
    "duration": -1345,
    "start_time": "2021-12-06T13:56:11.903Z"
   },
   {
    "duration": 83,
    "start_time": "2021-12-06T13:56:55.753Z"
   },
   {
    "duration": 19,
    "start_time": "2021-12-06T13:56:55.839Z"
   },
   {
    "duration": 76,
    "start_time": "2021-12-06T13:56:55.862Z"
   },
   {
    "duration": 13,
    "start_time": "2021-12-06T13:56:55.941Z"
   },
   {
    "duration": 31,
    "start_time": "2021-12-06T13:56:55.957Z"
   },
   {
    "duration": 43,
    "start_time": "2021-12-06T13:56:55.991Z"
   },
   {
    "duration": 56,
    "start_time": "2021-12-06T13:56:56.036Z"
   },
   {
    "duration": 9879,
    "start_time": "2021-12-06T13:59:20.968Z"
   },
   {
    "duration": 75,
    "start_time": "2021-12-06T13:59:36.424Z"
   },
   {
    "duration": 32,
    "start_time": "2021-12-06T13:59:36.502Z"
   },
   {
    "duration": 46,
    "start_time": "2021-12-06T13:59:36.538Z"
   },
   {
    "duration": 36,
    "start_time": "2021-12-06T13:59:36.587Z"
   },
   {
    "duration": 20,
    "start_time": "2021-12-06T13:59:36.625Z"
   },
   {
    "duration": 17,
    "start_time": "2021-12-06T13:59:36.647Z"
   },
   {
    "duration": 61,
    "start_time": "2021-12-06T13:59:36.666Z"
   },
   {
    "duration": 53,
    "start_time": "2021-12-06T13:59:40.073Z"
   },
   {
    "duration": 11090,
    "start_time": "2021-12-06T14:01:52.216Z"
   },
   {
    "duration": 7086,
    "start_time": "2021-12-06T14:11:28.004Z"
   },
   {
    "duration": 80,
    "start_time": "2021-12-06T14:11:44.952Z"
   },
   {
    "duration": 15,
    "start_time": "2021-12-06T14:11:45.035Z"
   },
   {
    "duration": 51,
    "start_time": "2021-12-06T14:11:45.053Z"
   },
   {
    "duration": 32,
    "start_time": "2021-12-06T14:11:45.107Z"
   },
   {
    "duration": 18,
    "start_time": "2021-12-06T14:11:45.141Z"
   },
   {
    "duration": 18,
    "start_time": "2021-12-06T14:11:45.162Z"
   },
   {
    "duration": 63,
    "start_time": "2021-12-06T14:11:45.183Z"
   },
   {
    "duration": 5,
    "start_time": "2021-12-06T14:11:45.249Z"
   },
   {
    "duration": 13,
    "start_time": "2021-12-06T14:13:56.221Z"
   },
   {
    "duration": 9,
    "start_time": "2021-12-06T14:14:01.275Z"
   },
   {
    "duration": 78,
    "start_time": "2021-12-06T14:14:04.286Z"
   },
   {
    "duration": 14,
    "start_time": "2021-12-06T14:14:04.366Z"
   },
   {
    "duration": 74,
    "start_time": "2021-12-06T14:14:04.383Z"
   },
   {
    "duration": 13,
    "start_time": "2021-12-06T14:14:04.460Z"
   },
   {
    "duration": 13,
    "start_time": "2021-12-06T14:14:08.425Z"
   },
   {
    "duration": 370,
    "start_time": "2021-12-06T14:19:15.740Z"
   },
   {
    "duration": 82,
    "start_time": "2021-12-06T14:19:20.595Z"
   },
   {
    "duration": 16,
    "start_time": "2021-12-06T14:19:20.680Z"
   },
   {
    "duration": 84,
    "start_time": "2021-12-06T14:19:20.700Z"
   },
   {
    "duration": 35,
    "start_time": "2021-12-06T14:19:20.788Z"
   },
   {
    "duration": 14,
    "start_time": "2021-12-06T14:19:20.826Z"
   },
   {
    "duration": 17,
    "start_time": "2021-12-06T14:19:20.843Z"
   },
   {
    "duration": 17,
    "start_time": "2021-12-06T14:19:20.863Z"
   },
   {
    "duration": 29,
    "start_time": "2021-12-06T14:19:23.800Z"
   },
   {
    "duration": 4,
    "start_time": "2021-12-06T14:19:50.485Z"
   },
   {
    "duration": 11,
    "start_time": "2021-12-06T14:23:54.865Z"
   },
   {
    "duration": 9,
    "start_time": "2021-12-06T14:28:48.229Z"
   },
   {
    "duration": 110,
    "start_time": "2021-12-06T14:28:57.145Z"
   },
   {
    "duration": 15,
    "start_time": "2021-12-06T14:28:57.259Z"
   },
   {
    "duration": 74,
    "start_time": "2021-12-06T14:28:57.276Z"
   },
   {
    "duration": 16,
    "start_time": "2021-12-06T14:28:57.353Z"
   },
   {
    "duration": 11,
    "start_time": "2021-12-06T14:28:57.372Z"
   },
   {
    "duration": 61,
    "start_time": "2021-12-06T14:28:57.386Z"
   },
   {
    "duration": 20,
    "start_time": "2021-12-06T14:28:57.449Z"
   },
   {
    "duration": 50,
    "start_time": "2021-12-06T14:28:57.473Z"
   },
   {
    "duration": 11,
    "start_time": "2021-12-06T14:28:58.895Z"
   },
   {
    "duration": 9,
    "start_time": "2021-12-06T14:29:48.697Z"
   },
   {
    "duration": 8093,
    "start_time": "2021-12-06T14:34:42.874Z"
   },
   {
    "duration": -1412,
    "start_time": "2021-12-06T14:34:52.383Z"
   },
   {
    "duration": 18,
    "start_time": "2021-12-06T15:58:36.621Z"
   },
   {
    "duration": 51,
    "start_time": "2021-12-06T15:58:41.983Z"
   },
   {
    "duration": 8,
    "start_time": "2021-12-06T15:58:58.558Z"
   },
   {
    "duration": 9,
    "start_time": "2021-12-06T16:00:13.450Z"
   },
   {
    "duration": 85,
    "start_time": "2021-12-06T16:05:12.887Z"
   },
   {
    "duration": 15,
    "start_time": "2021-12-06T16:05:12.974Z"
   },
   {
    "duration": 64,
    "start_time": "2021-12-06T16:05:12.992Z"
   },
   {
    "duration": 15,
    "start_time": "2021-12-06T16:05:13.059Z"
   },
   {
    "duration": 22,
    "start_time": "2021-12-06T16:05:13.076Z"
   },
   {
    "duration": 34,
    "start_time": "2021-12-06T16:05:13.100Z"
   },
   {
    "duration": 45,
    "start_time": "2021-12-06T16:05:13.137Z"
   },
   {
    "duration": 26,
    "start_time": "2021-12-06T16:05:13.185Z"
   },
   {
    "duration": 24,
    "start_time": "2021-12-06T16:05:13.215Z"
   },
   {
    "duration": 24,
    "start_time": "2021-12-06T16:05:13.242Z"
   },
   {
    "duration": 6,
    "start_time": "2021-12-06T16:05:14.797Z"
   },
   {
    "duration": 10,
    "start_time": "2021-12-06T16:05:15.537Z"
   },
   {
    "duration": 6,
    "start_time": "2021-12-06T16:07:55.548Z"
   },
   {
    "duration": 6,
    "start_time": "2021-12-06T16:11:58.586Z"
   },
   {
    "duration": 10,
    "start_time": "2021-12-06T16:12:01.044Z"
   },
   {
    "duration": 8,
    "start_time": "2021-12-06T16:13:18.883Z"
   },
   {
    "duration": 7112,
    "start_time": "2021-12-06T16:18:53.663Z"
   },
   {
    "duration": 84,
    "start_time": "2021-12-06T16:19:00.973Z"
   },
   {
    "duration": 14,
    "start_time": "2021-12-06T16:19:01.060Z"
   },
   {
    "duration": 86,
    "start_time": "2021-12-06T16:19:01.077Z"
   },
   {
    "duration": 15,
    "start_time": "2021-12-06T16:19:01.166Z"
   },
   {
    "duration": 23,
    "start_time": "2021-12-06T16:19:01.183Z"
   },
   {
    "duration": 25,
    "start_time": "2021-12-06T16:19:01.208Z"
   },
   {
    "duration": 33,
    "start_time": "2021-12-06T16:19:01.235Z"
   },
   {
    "duration": 38,
    "start_time": "2021-12-06T16:19:01.272Z"
   },
   {
    "duration": 10833,
    "start_time": "2021-12-06T16:19:06.915Z"
   },
   {
    "duration": -175,
    "start_time": "2021-12-06T16:19:17.928Z"
   },
   {
    "duration": -173,
    "start_time": "2021-12-06T16:19:17.933Z"
   },
   {
    "duration": -178,
    "start_time": "2021-12-06T16:19:17.941Z"
   },
   {
    "duration": 7403,
    "start_time": "2021-12-06T16:21:15.168Z"
   },
   {
    "duration": 9910,
    "start_time": "2021-12-06T16:21:24.412Z"
   },
   {
    "duration": 300,
    "start_time": "2021-12-06T16:29:26.545Z"
   },
   {
    "duration": 337,
    "start_time": "2021-12-06T16:29:33.696Z"
   },
   {
    "duration": 292,
    "start_time": "2021-12-06T16:29:46.881Z"
   },
   {
    "duration": 81,
    "start_time": "2021-12-06T16:29:55.023Z"
   },
   {
    "duration": 25,
    "start_time": "2021-12-06T16:29:55.106Z"
   },
   {
    "duration": 48,
    "start_time": "2021-12-06T16:29:55.135Z"
   },
   {
    "duration": 12,
    "start_time": "2021-12-06T16:29:55.186Z"
   },
   {
    "duration": 33,
    "start_time": "2021-12-06T16:29:55.201Z"
   },
   {
    "duration": 28,
    "start_time": "2021-12-06T16:29:55.237Z"
   },
   {
    "duration": 21,
    "start_time": "2021-12-06T16:29:55.267Z"
   },
   {
    "duration": 43,
    "start_time": "2021-12-06T16:29:55.291Z"
   },
   {
    "duration": 292,
    "start_time": "2021-12-06T16:29:58.776Z"
   },
   {
    "duration": 288,
    "start_time": "2021-12-06T16:30:12.581Z"
   },
   {
    "duration": 285,
    "start_time": "2021-12-06T16:30:21.579Z"
   },
   {
    "duration": 299,
    "start_time": "2021-12-06T16:32:44.748Z"
   },
   {
    "duration": 285,
    "start_time": "2021-12-06T16:33:16.797Z"
   },
   {
    "duration": 29,
    "start_time": "2021-12-06T16:33:28.199Z"
   },
   {
    "duration": 14,
    "start_time": "2021-12-06T16:33:55.264Z"
   },
   {
    "duration": 25,
    "start_time": "2021-12-06T16:34:03.456Z"
   },
   {
    "duration": 26,
    "start_time": "2021-12-06T16:42:12.631Z"
   },
   {
    "duration": 21,
    "start_time": "2021-12-06T16:42:23.657Z"
   },
   {
    "duration": 356,
    "start_time": "2021-12-06T16:52:20.518Z"
   },
   {
    "duration": 327,
    "start_time": "2021-12-06T16:53:31.153Z"
   },
   {
    "duration": 34,
    "start_time": "2021-12-06T16:53:38.799Z"
   },
   {
    "duration": 27,
    "start_time": "2021-12-06T16:54:19.353Z"
   },
   {
    "duration": 283,
    "start_time": "2021-12-06T16:57:20.377Z"
   },
   {
    "duration": 93,
    "start_time": "2021-12-06T16:57:28.882Z"
   },
   {
    "duration": 338,
    "start_time": "2021-12-06T16:57:33.505Z"
   },
   {
    "duration": 17,
    "start_time": "2021-12-06T16:58:55.852Z"
   },
   {
    "duration": 21,
    "start_time": "2021-12-06T17:11:34.344Z"
   },
   {
    "duration": 7489,
    "start_time": "2021-12-06T17:21:38.382Z"
   },
   {
    "duration": 7389,
    "start_time": "2021-12-06T17:21:49.044Z"
   },
   {
    "duration": 114,
    "start_time": "2021-12-06T17:27:18.497Z"
   },
   {
    "duration": 7914,
    "start_time": "2021-12-06T17:27:48.759Z"
   },
   {
    "duration": -255,
    "start_time": "2021-12-06T17:28:40.081Z"
   },
   {
    "duration": 87,
    "start_time": "2021-12-06T17:28:47.649Z"
   },
   {
    "duration": 15,
    "start_time": "2021-12-06T17:28:47.738Z"
   },
   {
    "duration": 67,
    "start_time": "2021-12-06T17:28:47.756Z"
   },
   {
    "duration": 16,
    "start_time": "2021-12-06T17:28:47.827Z"
   },
   {
    "duration": 33,
    "start_time": "2021-12-06T17:28:47.846Z"
   },
   {
    "duration": 19,
    "start_time": "2021-12-06T17:28:47.882Z"
   },
   {
    "duration": 36,
    "start_time": "2021-12-06T17:28:47.903Z"
   },
   {
    "duration": 29,
    "start_time": "2021-12-06T17:28:47.943Z"
   },
   {
    "duration": 17,
    "start_time": "2021-12-06T17:28:47.974Z"
   },
   {
    "duration": 101,
    "start_time": "2021-12-06T17:28:52.306Z"
   },
   {
    "duration": 38,
    "start_time": "2021-12-06T17:32:22.613Z"
   },
   {
    "duration": 90,
    "start_time": "2021-12-06T17:32:37.112Z"
   },
   {
    "duration": 26,
    "start_time": "2021-12-06T17:32:37.205Z"
   },
   {
    "duration": 44,
    "start_time": "2021-12-06T17:32:37.234Z"
   },
   {
    "duration": 13,
    "start_time": "2021-12-06T17:32:37.281Z"
   },
   {
    "duration": 31,
    "start_time": "2021-12-06T17:32:37.297Z"
   },
   {
    "duration": 15,
    "start_time": "2021-12-06T17:32:37.336Z"
   },
   {
    "duration": 18,
    "start_time": "2021-12-06T17:32:37.353Z"
   },
   {
    "duration": 66,
    "start_time": "2021-12-06T17:32:37.374Z"
   },
   {
    "duration": 17,
    "start_time": "2021-12-06T17:32:37.443Z"
   },
   {
    "duration": 33,
    "start_time": "2021-12-06T17:32:41.236Z"
   },
   {
    "duration": 2037,
    "start_time": "2021-12-06T17:32:59.906Z"
   },
   {
    "duration": 31,
    "start_time": "2021-12-06T17:33:11.188Z"
   },
   {
    "duration": 474,
    "start_time": "2021-12-06T20:19:08.744Z"
   },
   {
    "duration": 287,
    "start_time": "2021-12-06T20:19:19.471Z"
   },
   {
    "duration": 981,
    "start_time": "2021-12-06T20:19:23.268Z"
   },
   {
    "duration": 16,
    "start_time": "2021-12-06T20:19:24.252Z"
   },
   {
    "duration": 73,
    "start_time": "2021-12-06T20:19:24.271Z"
   },
   {
    "duration": 16,
    "start_time": "2021-12-06T20:19:24.347Z"
   },
   {
    "duration": 13,
    "start_time": "2021-12-06T20:19:24.367Z"
   },
   {
    "duration": 54,
    "start_time": "2021-12-06T20:19:24.383Z"
   },
   {
    "duration": 27,
    "start_time": "2021-12-06T20:19:24.440Z"
   },
   {
    "duration": 57,
    "start_time": "2021-12-06T20:19:24.470Z"
   },
   {
    "duration": 23,
    "start_time": "2021-12-06T20:19:24.530Z"
   },
   {
    "duration": 26,
    "start_time": "2021-12-06T20:19:27.293Z"
   },
   {
    "duration": 52,
    "start_time": "2021-12-06T20:22:13.798Z"
   },
   {
    "duration": 22,
    "start_time": "2021-12-06T20:22:45.609Z"
   },
   {
    "duration": 22,
    "start_time": "2021-12-06T20:22:50.294Z"
   },
   {
    "duration": 22,
    "start_time": "2021-12-06T20:22:57.320Z"
   },
   {
    "duration": 22,
    "start_time": "2021-12-06T20:22:58.553Z"
   },
   {
    "duration": 54,
    "start_time": "2021-12-06T20:26:23.713Z"
   },
   {
    "duration": 34,
    "start_time": "2021-12-06T20:27:03.907Z"
   },
   {
    "duration": 76,
    "start_time": "2021-12-06T20:27:35.663Z"
   },
   {
    "duration": 14,
    "start_time": "2021-12-06T20:27:35.742Z"
   },
   {
    "duration": 45,
    "start_time": "2021-12-06T20:27:35.758Z"
   },
   {
    "duration": 34,
    "start_time": "2021-12-06T20:27:35.805Z"
   },
   {
    "duration": 12,
    "start_time": "2021-12-06T20:27:35.842Z"
   },
   {
    "duration": 16,
    "start_time": "2021-12-06T20:27:35.857Z"
   },
   {
    "duration": 61,
    "start_time": "2021-12-06T20:27:35.876Z"
   },
   {
    "duration": 30,
    "start_time": "2021-12-06T20:27:35.941Z"
   },
   {
    "duration": 18,
    "start_time": "2021-12-06T20:27:35.974Z"
   },
   {
    "duration": 29,
    "start_time": "2021-12-06T20:27:37.937Z"
   },
   {
    "duration": 1082,
    "start_time": "2021-12-06T20:28:10.116Z"
   },
   {
    "duration": 74,
    "start_time": "2021-12-06T20:28:15.176Z"
   },
   {
    "duration": 14,
    "start_time": "2021-12-06T20:28:15.252Z"
   },
   {
    "duration": 64,
    "start_time": "2021-12-06T20:28:15.269Z"
   },
   {
    "duration": 12,
    "start_time": "2021-12-06T20:28:15.336Z"
   },
   {
    "duration": 12,
    "start_time": "2021-12-06T20:28:15.350Z"
   },
   {
    "duration": 37,
    "start_time": "2021-12-06T20:28:15.364Z"
   },
   {
    "duration": 32,
    "start_time": "2021-12-06T20:28:15.403Z"
   },
   {
    "duration": 23,
    "start_time": "2021-12-06T20:28:15.437Z"
   },
   {
    "duration": 17,
    "start_time": "2021-12-06T20:28:15.462Z"
   },
   {
    "duration": 1369,
    "start_time": "2021-12-06T20:28:18.437Z"
   },
   {
    "duration": 30,
    "start_time": "2021-12-06T20:28:41.555Z"
   },
   {
    "duration": 30,
    "start_time": "2021-12-06T20:29:00.543Z"
   },
   {
    "duration": 79,
    "start_time": "2021-12-06T20:29:46.918Z"
   },
   {
    "duration": 24,
    "start_time": "2021-12-06T20:29:46.999Z"
   },
   {
    "duration": 47,
    "start_time": "2021-12-06T20:29:47.026Z"
   },
   {
    "duration": 14,
    "start_time": "2021-12-06T20:29:47.075Z"
   },
   {
    "duration": 38,
    "start_time": "2021-12-06T20:29:47.091Z"
   },
   {
    "duration": 13,
    "start_time": "2021-12-06T20:29:47.132Z"
   },
   {
    "duration": 18,
    "start_time": "2021-12-06T20:29:47.147Z"
   },
   {
    "duration": 64,
    "start_time": "2021-12-06T20:29:47.168Z"
   },
   {
    "duration": 20,
    "start_time": "2021-12-06T20:29:47.235Z"
   },
   {
    "duration": 31,
    "start_time": "2021-12-06T20:29:49.306Z"
   },
   {
    "duration": 24,
    "start_time": "2021-12-06T20:30:01.082Z"
   },
   {
    "duration": 54,
    "start_time": "2021-12-06T20:30:55.947Z"
   },
   {
    "duration": 80,
    "start_time": "2021-12-06T20:31:02.262Z"
   },
   {
    "duration": 13,
    "start_time": "2021-12-06T20:31:02.345Z"
   },
   {
    "duration": 85,
    "start_time": "2021-12-06T20:31:02.362Z"
   },
   {
    "duration": 15,
    "start_time": "2021-12-06T20:31:02.450Z"
   },
   {
    "duration": 25,
    "start_time": "2021-12-06T20:31:02.468Z"
   },
   {
    "duration": 59,
    "start_time": "2021-12-06T20:31:02.495Z"
   },
   {
    "duration": 55,
    "start_time": "2021-12-06T20:31:02.557Z"
   },
   {
    "duration": 44,
    "start_time": "2021-12-06T20:31:02.614Z"
   },
   {
    "duration": 28,
    "start_time": "2021-12-06T20:31:02.662Z"
   },
   {
    "duration": 56,
    "start_time": "2021-12-06T20:31:07.474Z"
   },
   {
    "duration": 10,
    "start_time": "2021-12-06T20:31:19.680Z"
   },
   {
    "duration": 13,
    "start_time": "2021-12-06T20:31:21.653Z"
   },
   {
    "duration": 25,
    "start_time": "2021-12-06T20:31:32.318Z"
   },
   {
    "duration": 20,
    "start_time": "2021-12-06T20:31:35.958Z"
   },
   {
    "duration": 23,
    "start_time": "2021-12-06T20:31:36.941Z"
   },
   {
    "duration": 54,
    "start_time": "2021-12-06T20:32:20.773Z"
   },
   {
    "duration": 19,
    "start_time": "2021-12-06T20:32:45.185Z"
   },
   {
    "duration": 311,
    "start_time": "2021-12-06T20:34:34.978Z"
   },
   {
    "duration": 276,
    "start_time": "2021-12-06T20:37:29.067Z"
   },
   {
    "duration": 75,
    "start_time": "2021-12-06T20:37:35.240Z"
   },
   {
    "duration": 14,
    "start_time": "2021-12-06T20:37:35.317Z"
   },
   {
    "duration": 43,
    "start_time": "2021-12-06T20:37:35.334Z"
   },
   {
    "duration": 13,
    "start_time": "2021-12-06T20:37:35.379Z"
   },
   {
    "duration": 34,
    "start_time": "2021-12-06T20:37:35.394Z"
   },
   {
    "duration": 16,
    "start_time": "2021-12-06T20:37:35.431Z"
   },
   {
    "duration": 19,
    "start_time": "2021-12-06T20:37:35.449Z"
   },
   {
    "duration": 71,
    "start_time": "2021-12-06T20:37:35.471Z"
   },
   {
    "duration": 18,
    "start_time": "2021-12-06T20:37:35.546Z"
   },
   {
    "duration": 304,
    "start_time": "2021-12-06T20:37:38.622Z"
   },
   {
    "duration": 281,
    "start_time": "2021-12-06T20:38:06.672Z"
   },
   {
    "duration": 80,
    "start_time": "2021-12-06T20:38:12.777Z"
   },
   {
    "duration": 15,
    "start_time": "2021-12-06T20:38:12.860Z"
   },
   {
    "duration": 71,
    "start_time": "2021-12-06T20:38:12.878Z"
   },
   {
    "duration": 14,
    "start_time": "2021-12-06T20:38:12.951Z"
   },
   {
    "duration": 10,
    "start_time": "2021-12-06T20:38:12.969Z"
   },
   {
    "duration": 51,
    "start_time": "2021-12-06T20:38:12.981Z"
   },
   {
    "duration": 18,
    "start_time": "2021-12-06T20:38:13.034Z"
   },
   {
    "duration": 26,
    "start_time": "2021-12-06T20:38:13.055Z"
   },
   {
    "duration": 47,
    "start_time": "2021-12-06T20:38:13.084Z"
   },
   {
    "duration": 285,
    "start_time": "2021-12-06T20:38:14.562Z"
   },
   {
    "duration": 46,
    "start_time": "2021-12-06T20:41:32.067Z"
   },
   {
    "duration": 74,
    "start_time": "2021-12-06T20:41:58.162Z"
   },
   {
    "duration": 14,
    "start_time": "2021-12-06T20:41:58.239Z"
   },
   {
    "duration": 46,
    "start_time": "2021-12-06T20:41:58.256Z"
   },
   {
    "duration": 15,
    "start_time": "2021-12-06T20:41:58.325Z"
   },
   {
    "duration": 12,
    "start_time": "2021-12-06T20:41:58.343Z"
   },
   {
    "duration": 17,
    "start_time": "2021-12-06T20:41:58.357Z"
   },
   {
    "duration": 61,
    "start_time": "2021-12-06T20:41:58.376Z"
   },
   {
    "duration": 26,
    "start_time": "2021-12-06T20:41:58.441Z"
   },
   {
    "duration": 18,
    "start_time": "2021-12-06T20:41:58.470Z"
   },
   {
    "duration": 62,
    "start_time": "2021-12-06T20:42:01.657Z"
   },
   {
    "duration": 51,
    "start_time": "2021-12-06T20:43:11.441Z"
   },
   {
    "duration": 26,
    "start_time": "2021-12-06T20:43:53.346Z"
   },
   {
    "duration": 46,
    "start_time": "2021-12-06T20:44:07.659Z"
   },
   {
    "duration": 24,
    "start_time": "2021-12-06T20:50:23.633Z"
   },
   {
    "duration": 7430,
    "start_time": "2021-12-06T20:57:40.104Z"
   },
   {
    "duration": 889,
    "start_time": "2021-12-06T20:58:22.486Z"
   },
   {
    "duration": 18,
    "start_time": "2021-12-06T20:58:23.379Z"
   },
   {
    "duration": 68,
    "start_time": "2021-12-06T20:58:23.400Z"
   },
   {
    "duration": 14,
    "start_time": "2021-12-06T20:58:23.471Z"
   },
   {
    "duration": 37,
    "start_time": "2021-12-06T20:58:23.487Z"
   },
   {
    "duration": 20,
    "start_time": "2021-12-06T20:58:23.527Z"
   },
   {
    "duration": 19,
    "start_time": "2021-12-06T20:58:23.551Z"
   },
   {
    "duration": 44,
    "start_time": "2021-12-06T20:58:29.896Z"
   },
   {
    "duration": 7548,
    "start_time": "2021-12-06T20:58:37.045Z"
   },
   {
    "duration": -557,
    "start_time": "2021-12-06T20:58:45.153Z"
   },
   {
    "duration": 7011,
    "start_time": "2021-12-06T20:58:48.760Z"
   },
   {
    "duration": 111,
    "start_time": "2021-12-06T20:58:55.971Z"
   },
   {
    "duration": 22,
    "start_time": "2021-12-06T20:58:56.341Z"
   },
   {
    "duration": 64,
    "start_time": "2021-12-06T20:58:56.710Z"
   },
   {
    "duration": 19,
    "start_time": "2021-12-06T20:58:58.683Z"
   },
   {
    "duration": 14,
    "start_time": "2021-12-06T20:59:00.163Z"
   },
   {
    "duration": 17,
    "start_time": "2021-12-06T20:59:00.902Z"
   },
   {
    "duration": 21,
    "start_time": "2021-12-06T20:59:03.183Z"
   },
   {
    "duration": 53,
    "start_time": "2021-12-06T20:59:05.218Z"
   },
   {
    "duration": 7361,
    "start_time": "2021-12-06T20:59:40.419Z"
   },
   {
    "duration": -556,
    "start_time": "2021-12-06T20:59:48.340Z"
   },
   {
    "duration": 7000,
    "start_time": "2021-12-06T20:59:47.878Z"
   },
   {
    "duration": 82,
    "start_time": "2021-12-06T21:00:01.560Z"
   },
   {
    "duration": 15,
    "start_time": "2021-12-06T21:00:01.645Z"
   },
   {
    "duration": 69,
    "start_time": "2021-12-06T21:00:01.663Z"
   },
   {
    "duration": 14,
    "start_time": "2021-12-06T21:00:01.734Z"
   },
   {
    "duration": 31,
    "start_time": "2021-12-06T21:00:01.751Z"
   },
   {
    "duration": 35,
    "start_time": "2021-12-06T21:00:01.785Z"
   },
   {
    "duration": 60,
    "start_time": "2021-12-06T21:00:01.822Z"
   },
   {
    "duration": 75,
    "start_time": "2021-12-06T21:00:01.886Z"
   },
   {
    "duration": 17,
    "start_time": "2021-12-06T21:00:01.965Z"
   },
   {
    "duration": 9981,
    "start_time": "2021-12-06T21:00:44.408Z"
   },
   {
    "duration": -558,
    "start_time": "2021-12-06T21:00:54.950Z"
   },
   {
    "duration": 77,
    "start_time": "2021-12-06T21:00:59.825Z"
   },
   {
    "duration": 28,
    "start_time": "2021-12-06T21:00:59.905Z"
   },
   {
    "duration": 53,
    "start_time": "2021-12-06T21:00:59.937Z"
   },
   {
    "duration": 32,
    "start_time": "2021-12-06T21:00:59.993Z"
   },
   {
    "duration": 13,
    "start_time": "2021-12-06T21:01:00.028Z"
   },
   {
    "duration": 29,
    "start_time": "2021-12-06T21:01:00.043Z"
   },
   {
    "duration": 29,
    "start_time": "2021-12-06T21:01:00.075Z"
   },
   {
    "duration": 43,
    "start_time": "2021-12-06T21:01:00.106Z"
   },
   {
    "duration": 7995,
    "start_time": "2021-12-06T21:01:10.238Z"
   },
   {
    "duration": -559,
    "start_time": "2021-12-06T21:01:18.795Z"
   },
   {
    "duration": 81,
    "start_time": "2021-12-06T21:01:24.872Z"
   },
   {
    "duration": 14,
    "start_time": "2021-12-06T21:01:24.955Z"
   },
   {
    "duration": 60,
    "start_time": "2021-12-06T21:01:24.972Z"
   },
   {
    "duration": 12,
    "start_time": "2021-12-06T21:01:25.035Z"
   },
   {
    "duration": 9,
    "start_time": "2021-12-06T21:01:25.050Z"
   },
   {
    "duration": 14,
    "start_time": "2021-12-06T21:01:25.061Z"
   },
   {
    "duration": 53,
    "start_time": "2021-12-06T21:01:25.077Z"
   },
   {
    "duration": 29,
    "start_time": "2021-12-06T21:01:25.132Z"
   },
   {
    "duration": 9,
    "start_time": "2021-12-06T21:01:25.164Z"
   },
   {
    "duration": 75,
    "start_time": "2021-12-06T21:01:42.182Z"
   },
   {
    "duration": 14,
    "start_time": "2021-12-06T21:01:42.955Z"
   },
   {
    "duration": 45,
    "start_time": "2021-12-06T21:01:43.367Z"
   },
   {
    "duration": 14,
    "start_time": "2021-12-06T21:01:44.514Z"
   },
   {
    "duration": 11,
    "start_time": "2021-12-06T21:01:44.895Z"
   },
   {
    "duration": 16,
    "start_time": "2021-12-06T21:01:45.076Z"
   },
   {
    "duration": 17,
    "start_time": "2021-12-06T21:01:46.041Z"
   },
   {
    "duration": 29,
    "start_time": "2021-12-06T21:01:46.424Z"
   },
   {
    "duration": 10,
    "start_time": "2021-12-06T21:01:46.645Z"
   },
   {
    "duration": 8,
    "start_time": "2021-12-06T21:01:47.419Z"
   },
   {
    "duration": 10,
    "start_time": "2021-12-06T21:01:49.008Z"
   },
   {
    "duration": 7030,
    "start_time": "2021-12-06T21:02:11.022Z"
   },
   {
    "duration": 7064,
    "start_time": "2021-12-06T21:03:11.066Z"
   },
   {
    "duration": -569,
    "start_time": "2021-12-06T21:03:18.702Z"
   },
   {
    "duration": 107,
    "start_time": "2021-12-06T21:08:48.683Z"
   },
   {
    "duration": 788,
    "start_time": "2021-12-06T21:08:56.450Z"
   },
   {
    "duration": 16,
    "start_time": "2021-12-06T21:08:57.827Z"
   },
   {
    "duration": 49,
    "start_time": "2021-12-06T21:08:58.691Z"
   },
   {
    "duration": 14,
    "start_time": "2021-12-06T21:09:01.716Z"
   },
   {
    "duration": 11,
    "start_time": "2021-12-06T21:09:03.003Z"
   },
   {
    "duration": 21,
    "start_time": "2021-12-06T21:09:04.170Z"
   },
   {
    "duration": 26,
    "start_time": "2021-12-06T21:09:06.673Z"
   },
   {
    "duration": 18,
    "start_time": "2021-12-06T21:09:08.343Z"
   },
   {
    "duration": 44,
    "start_time": "2021-12-06T21:09:11.096Z"
   },
   {
    "duration": 13,
    "start_time": "2021-12-06T21:09:22.124Z"
   },
   {
    "duration": 7720,
    "start_time": "2021-12-06T21:09:29.324Z"
   },
   {
    "duration": 776,
    "start_time": "2021-12-06T21:09:42.530Z"
   },
   {
    "duration": 15,
    "start_time": "2021-12-06T21:09:43.308Z"
   },
   {
    "duration": 43,
    "start_time": "2021-12-06T21:09:43.325Z"
   },
   {
    "duration": 15,
    "start_time": "2021-12-06T21:09:45.092Z"
   },
   {
    "duration": 12,
    "start_time": "2021-12-06T21:09:45.908Z"
   },
   {
    "duration": 15,
    "start_time": "2021-12-06T21:09:46.218Z"
   },
   {
    "duration": 18,
    "start_time": "2021-12-06T21:09:48.231Z"
   },
   {
    "duration": 16,
    "start_time": "2021-12-06T21:09:49.145Z"
   },
   {
    "duration": 22,
    "start_time": "2021-12-06T21:09:50.935Z"
   },
   {
    "duration": 11,
    "start_time": "2021-12-06T21:09:52.433Z"
   },
   {
    "duration": 10,
    "start_time": "2021-12-06T21:09:59.663Z"
   },
   {
    "duration": 11,
    "start_time": "2021-12-06T21:10:03.342Z"
   },
   {
    "duration": 43,
    "start_time": "2021-12-06T21:10:26.901Z"
   },
   {
    "duration": 14,
    "start_time": "2021-12-06T21:11:36.686Z"
   },
   {
    "duration": 80,
    "start_time": "2021-12-06T21:12:03.559Z"
   },
   {
    "duration": 15,
    "start_time": "2021-12-06T21:12:03.641Z"
   },
   {
    "duration": 74,
    "start_time": "2021-12-06T21:12:03.660Z"
   },
   {
    "duration": 14,
    "start_time": "2021-12-06T21:12:03.738Z"
   },
   {
    "duration": 10,
    "start_time": "2021-12-06T21:12:03.755Z"
   },
   {
    "duration": 15,
    "start_time": "2021-12-06T21:12:03.768Z"
   },
   {
    "duration": 54,
    "start_time": "2021-12-06T21:12:03.785Z"
   },
   {
    "duration": 10,
    "start_time": "2021-12-06T21:12:03.844Z"
   },
   {
    "duration": 22,
    "start_time": "2021-12-06T21:12:03.856Z"
   },
   {
    "duration": 45,
    "start_time": "2021-12-06T21:12:03.880Z"
   },
   {
    "duration": 16,
    "start_time": "2021-12-06T21:12:03.928Z"
   },
   {
    "duration": 13,
    "start_time": "2021-12-06T21:12:03.947Z"
   },
   {
    "duration": 12,
    "start_time": "2021-12-06T21:12:43.572Z"
   },
   {
    "duration": 24,
    "start_time": "2021-12-06T21:12:47.025Z"
   },
   {
    "duration": 11,
    "start_time": "2021-12-06T21:12:47.701Z"
   },
   {
    "duration": 45,
    "start_time": "2021-12-06T21:13:13.533Z"
   },
   {
    "duration": 34,
    "start_time": "2021-12-06T21:13:18.156Z"
   },
   {
    "duration": 7386,
    "start_time": "2021-12-06T21:13:28.143Z"
   },
   {
    "duration": 76,
    "start_time": "2021-12-06T21:13:45.600Z"
   },
   {
    "duration": 12,
    "start_time": "2021-12-06T21:13:45.679Z"
   },
   {
    "duration": 67,
    "start_time": "2021-12-06T21:13:45.694Z"
   },
   {
    "duration": 12,
    "start_time": "2021-12-06T21:13:45.764Z"
   },
   {
    "duration": 10,
    "start_time": "2021-12-06T21:13:45.779Z"
   },
   {
    "duration": 37,
    "start_time": "2021-12-06T21:13:45.792Z"
   },
   {
    "duration": 21,
    "start_time": "2021-12-06T21:13:45.832Z"
   },
   {
    "duration": 21,
    "start_time": "2021-12-06T21:13:45.857Z"
   },
   {
    "duration": 7392,
    "start_time": "2021-12-06T21:13:53.911Z"
   },
   {
    "duration": 74,
    "start_time": "2021-12-06T21:14:04.866Z"
   },
   {
    "duration": 15,
    "start_time": "2021-12-06T21:14:04.943Z"
   },
   {
    "duration": 69,
    "start_time": "2021-12-06T21:14:04.961Z"
   },
   {
    "duration": 21,
    "start_time": "2021-12-06T21:14:05.034Z"
   },
   {
    "duration": 11,
    "start_time": "2021-12-06T21:14:05.058Z"
   },
   {
    "duration": 52,
    "start_time": "2021-12-06T21:14:05.072Z"
   },
   {
    "duration": 21,
    "start_time": "2021-12-06T21:14:05.126Z"
   },
   {
    "duration": 10,
    "start_time": "2021-12-06T21:14:08.275Z"
   },
   {
    "duration": 31,
    "start_time": "2021-12-06T21:14:09.754Z"
   },
   {
    "duration": 46,
    "start_time": "2021-12-06T21:14:11.665Z"
   },
   {
    "duration": 84,
    "start_time": "2021-12-06T21:14:32.070Z"
   },
   {
    "duration": 14,
    "start_time": "2021-12-06T21:14:32.157Z"
   },
   {
    "duration": 66,
    "start_time": "2021-12-06T21:14:32.174Z"
   },
   {
    "duration": 15,
    "start_time": "2021-12-06T21:14:32.242Z"
   },
   {
    "duration": 10,
    "start_time": "2021-12-06T21:14:32.260Z"
   },
   {
    "duration": 15,
    "start_time": "2021-12-06T21:14:32.272Z"
   },
   {
    "duration": 20,
    "start_time": "2021-12-06T21:14:32.324Z"
   },
   {
    "duration": 9,
    "start_time": "2021-12-06T21:14:32.348Z"
   },
   {
    "duration": 29,
    "start_time": "2021-12-06T21:14:42.794Z"
   },
   {
    "duration": 33,
    "start_time": "2021-12-06T21:14:55.802Z"
   },
   {
    "duration": 33,
    "start_time": "2021-12-06T21:15:05.233Z"
   },
   {
    "duration": 31,
    "start_time": "2021-12-06T21:15:06.775Z"
   },
   {
    "duration": 31,
    "start_time": "2021-12-06T21:15:09.180Z"
   },
   {
    "duration": 43,
    "start_time": "2021-12-06T21:16:42.821Z"
   },
   {
    "duration": 46,
    "start_time": "2021-12-06T21:16:43.931Z"
   },
   {
    "duration": 44,
    "start_time": "2021-12-06T21:16:45.596Z"
   },
   {
    "duration": 18,
    "start_time": "2021-12-06T21:51:53.170Z"
   },
   {
    "duration": 46,
    "start_time": "2021-12-06T21:53:54.122Z"
   },
   {
    "duration": 16,
    "start_time": "2021-12-06T21:55:24.249Z"
   },
   {
    "duration": 17,
    "start_time": "2021-12-06T21:57:40.490Z"
   },
   {
    "duration": 5,
    "start_time": "2021-12-06T21:57:50.107Z"
   },
   {
    "duration": 18,
    "start_time": "2021-12-06T21:57:59.538Z"
   },
   {
    "duration": 9,
    "start_time": "2021-12-06T22:00:27.555Z"
   },
   {
    "duration": 7,
    "start_time": "2021-12-06T22:01:14.589Z"
   },
   {
    "duration": 6,
    "start_time": "2021-12-06T22:02:28.198Z"
   },
   {
    "duration": 32,
    "start_time": "2021-12-06T22:03:57.093Z"
   },
   {
    "duration": 248,
    "start_time": "2021-12-06T22:04:36.239Z"
   },
   {
    "duration": 38,
    "start_time": "2021-12-06T22:05:02.561Z"
   },
   {
    "duration": 35,
    "start_time": "2021-12-06T22:05:45.963Z"
   },
   {
    "duration": 273,
    "start_time": "2021-12-06T22:05:56.569Z"
   },
   {
    "duration": 10,
    "start_time": "2021-12-06T22:06:42.123Z"
   },
   {
    "duration": 10,
    "start_time": "2021-12-06T22:07:02.158Z"
   },
   {
    "duration": 12,
    "start_time": "2021-12-06T22:07:05.118Z"
   },
   {
    "duration": 10,
    "start_time": "2021-12-06T22:07:06.350Z"
   },
   {
    "duration": 6,
    "start_time": "2021-12-06T22:10:38.170Z"
   },
   {
    "duration": 11,
    "start_time": "2021-12-06T22:11:32.049Z"
   },
   {
    "duration": 12,
    "start_time": "2021-12-06T22:26:22.589Z"
   },
   {
    "duration": 46,
    "start_time": "2021-12-06T22:26:23.637Z"
   },
   {
    "duration": 9,
    "start_time": "2021-12-06T22:26:48.850Z"
   },
   {
    "duration": 41,
    "start_time": "2021-12-06T22:26:49.651Z"
   },
   {
    "duration": 24,
    "start_time": "2021-12-06T22:27:01.180Z"
   },
   {
    "duration": 12,
    "start_time": "2021-12-06T22:27:23.868Z"
   },
   {
    "duration": 12,
    "start_time": "2021-12-06T22:27:45.505Z"
   },
   {
    "duration": 11,
    "start_time": "2021-12-06T22:30:35.218Z"
   },
   {
    "duration": 89,
    "start_time": "2021-12-06T22:34:18.566Z"
   },
   {
    "duration": 7,
    "start_time": "2021-12-06T22:34:22.017Z"
   },
   {
    "duration": 269,
    "start_time": "2021-12-06T22:34:34.222Z"
   },
   {
    "duration": 294,
    "start_time": "2021-12-06T22:35:13.061Z"
   },
   {
    "duration": 482,
    "start_time": "2021-12-06T22:35:22.925Z"
   },
   {
    "duration": 7,
    "start_time": "2021-12-06T22:35:42.344Z"
   },
   {
    "duration": 10,
    "start_time": "2021-12-06T22:37:06.369Z"
   },
   {
    "duration": 9,
    "start_time": "2021-12-06T22:37:47.983Z"
   },
   {
    "duration": 9,
    "start_time": "2021-12-06T22:38:54.934Z"
   },
   {
    "duration": 8,
    "start_time": "2021-12-06T22:40:00.402Z"
   },
   {
    "duration": 6,
    "start_time": "2021-12-06T22:40:54.529Z"
   },
   {
    "duration": 9,
    "start_time": "2021-12-06T22:40:58.350Z"
   },
   {
    "duration": 89,
    "start_time": "2021-12-06T22:44:25.790Z"
   },
   {
    "duration": 280,
    "start_time": "2021-12-06T22:44:34.296Z"
   },
   {
    "duration": 10,
    "start_time": "2021-12-06T22:44:40.584Z"
   },
   {
    "duration": 281,
    "start_time": "2021-12-06T22:44:46.872Z"
   },
   {
    "duration": 289,
    "start_time": "2021-12-06T22:45:43.342Z"
   },
   {
    "duration": 3655,
    "start_time": "2021-12-06T22:50:14.280Z"
   },
   {
    "duration": 3788,
    "start_time": "2021-12-06T22:50:25.069Z"
   },
   {
    "duration": 18,
    "start_time": "2021-12-06T22:50:49.051Z"
   },
   {
    "duration": -701,
    "start_time": "2021-12-06T22:52:06.099Z"
   },
   {
    "duration": -701,
    "start_time": "2021-12-06T22:52:06.101Z"
   },
   {
    "duration": 9,
    "start_time": "2021-12-06T22:54:49.349Z"
   },
   {
    "duration": 23,
    "start_time": "2021-12-06T22:54:50.334Z"
   },
   {
    "duration": 267,
    "start_time": "2021-12-06T22:58:13.153Z"
   },
   {
    "duration": 23,
    "start_time": "2021-12-06T22:58:21.352Z"
   },
   {
    "duration": 20,
    "start_time": "2021-12-06T23:00:36.976Z"
   },
   {
    "duration": 112,
    "start_time": "2021-12-07T09:19:07.600Z"
   },
   {
    "duration": 716,
    "start_time": "2021-12-07T09:19:12.648Z"
   },
   {
    "duration": 11,
    "start_time": "2021-12-07T09:19:13.366Z"
   },
   {
    "duration": 47,
    "start_time": "2021-12-07T09:19:13.379Z"
   },
   {
    "duration": 9,
    "start_time": "2021-12-07T09:19:13.428Z"
   },
   {
    "duration": 49,
    "start_time": "2021-12-07T09:19:13.439Z"
   },
   {
    "duration": 52,
    "start_time": "2021-12-07T09:19:13.490Z"
   },
   {
    "duration": 21,
    "start_time": "2021-12-07T09:19:13.545Z"
   },
   {
    "duration": 29,
    "start_time": "2021-12-07T09:19:13.569Z"
   },
   {
    "duration": 57,
    "start_time": "2021-12-07T09:19:13.601Z"
   },
   {
    "duration": 8,
    "start_time": "2021-12-07T09:19:13.661Z"
   },
   {
    "duration": 19,
    "start_time": "2021-12-07T09:19:13.673Z"
   },
   {
    "duration": 18,
    "start_time": "2021-12-07T09:19:13.695Z"
   },
   {
    "duration": 16,
    "start_time": "2021-12-07T09:19:13.715Z"
   },
   {
    "duration": 52,
    "start_time": "2021-12-07T09:19:13.733Z"
   },
   {
    "duration": 8,
    "start_time": "2021-12-07T09:19:13.787Z"
   },
   {
    "duration": 31,
    "start_time": "2021-12-07T09:19:13.797Z"
   },
   {
    "duration": 19,
    "start_time": "2021-12-07T09:19:16.097Z"
   },
   {
    "duration": 79,
    "start_time": "2021-12-07T09:19:16.838Z"
   },
   {
    "duration": 25,
    "start_time": "2021-12-07T09:19:26.761Z"
   },
   {
    "duration": 33,
    "start_time": "2021-12-07T09:20:29.701Z"
   },
   {
    "duration": 19,
    "start_time": "2021-12-07T09:21:09.584Z"
   },
   {
    "duration": 39,
    "start_time": "2021-12-07T09:21:10.201Z"
   },
   {
    "duration": 15,
    "start_time": "2021-12-07T09:22:03.893Z"
   },
   {
    "duration": 33,
    "start_time": "2021-12-07T09:22:05.620Z"
   },
   {
    "duration": 394,
    "start_time": "2021-12-07T09:22:39.955Z"
   },
   {
    "duration": 32,
    "start_time": "2021-12-07T09:30:31.660Z"
   },
   {
    "duration": 36,
    "start_time": "2021-12-07T09:30:43.680Z"
   },
   {
    "duration": 42,
    "start_time": "2021-12-07T09:32:02.095Z"
   },
   {
    "duration": 29,
    "start_time": "2021-12-07T09:32:25.090Z"
   },
   {
    "duration": 16,
    "start_time": "2021-12-07T09:37:12.420Z"
   },
   {
    "duration": 24,
    "start_time": "2021-12-07T09:37:32.516Z"
   },
   {
    "duration": 23,
    "start_time": "2021-12-07T09:37:42.131Z"
   },
   {
    "duration": 29,
    "start_time": "2021-12-07T09:37:54.522Z"
   },
   {
    "duration": 64,
    "start_time": "2021-12-07T09:39:13.120Z"
   },
   {
    "duration": 11,
    "start_time": "2021-12-07T09:39:13.186Z"
   },
   {
    "duration": 32,
    "start_time": "2021-12-07T09:39:13.199Z"
   },
   {
    "duration": 10,
    "start_time": "2021-12-07T09:39:13.233Z"
   },
   {
    "duration": 25,
    "start_time": "2021-12-07T09:39:13.245Z"
   },
   {
    "duration": 26,
    "start_time": "2021-12-07T09:39:13.272Z"
   },
   {
    "duration": 15,
    "start_time": "2021-12-07T09:39:13.300Z"
   },
   {
    "duration": 9,
    "start_time": "2021-12-07T09:39:13.318Z"
   },
   {
    "duration": 47,
    "start_time": "2021-12-07T09:39:13.329Z"
   },
   {
    "duration": 6,
    "start_time": "2021-12-07T09:39:13.378Z"
   },
   {
    "duration": 14,
    "start_time": "2021-12-07T09:39:13.385Z"
   },
   {
    "duration": 8,
    "start_time": "2021-12-07T09:39:13.401Z"
   },
   {
    "duration": 7,
    "start_time": "2021-12-07T09:39:13.411Z"
   },
   {
    "duration": 65,
    "start_time": "2021-12-07T09:39:13.420Z"
   },
   {
    "duration": 8,
    "start_time": "2021-12-07T09:39:13.486Z"
   },
   {
    "duration": 24,
    "start_time": "2021-12-07T09:39:13.496Z"
   },
   {
    "duration": 43,
    "start_time": "2021-12-07T09:39:13.522Z"
   },
   {
    "duration": 40,
    "start_time": "2021-12-07T09:39:13.568Z"
   },
   {
    "duration": 12,
    "start_time": "2021-12-07T09:39:35.558Z"
   },
   {
    "duration": 16,
    "start_time": "2021-12-07T09:42:15.344Z"
   },
   {
    "duration": 18,
    "start_time": "2021-12-07T09:42:15.961Z"
   },
   {
    "duration": 15,
    "start_time": "2021-12-07T09:42:38.338Z"
   },
   {
    "duration": 19,
    "start_time": "2021-12-07T09:43:51.570Z"
   },
   {
    "duration": 17,
    "start_time": "2021-12-07T09:43:52.000Z"
   },
   {
    "duration": 21,
    "start_time": "2021-12-07T09:45:00.367Z"
   },
   {
    "duration": 43,
    "start_time": "2021-12-07T09:45:22.680Z"
   },
   {
    "duration": 17,
    "start_time": "2021-12-07T09:45:29.831Z"
   },
   {
    "duration": 8,
    "start_time": "2021-12-07T09:47:54.814Z"
   },
   {
    "duration": 8,
    "start_time": "2021-12-07T09:56:16.651Z"
   },
   {
    "duration": 238,
    "start_time": "2021-12-07T10:07:14.794Z"
   },
   {
    "duration": 10,
    "start_time": "2021-12-07T10:07:17.506Z"
   },
   {
    "duration": 294,
    "start_time": "2021-12-07T10:07:18.615Z"
   },
   {
    "duration": 258,
    "start_time": "2021-12-07T10:07:44.260Z"
   },
   {
    "duration": 1195,
    "start_time": "2021-12-07T10:10:08.319Z"
   },
   {
    "duration": 99,
    "start_time": "2021-12-07T10:10:27.244Z"
   },
   {
    "duration": 13,
    "start_time": "2021-12-07T10:10:27.345Z"
   },
   {
    "duration": 60,
    "start_time": "2021-12-07T10:10:27.360Z"
   },
   {
    "duration": 12,
    "start_time": "2021-12-07T10:10:27.423Z"
   },
   {
    "duration": 15,
    "start_time": "2021-12-07T10:10:27.437Z"
   },
   {
    "duration": 25,
    "start_time": "2021-12-07T10:10:27.454Z"
   },
   {
    "duration": 18,
    "start_time": "2021-12-07T10:10:27.482Z"
   },
   {
    "duration": 9,
    "start_time": "2021-12-07T10:10:27.505Z"
   },
   {
    "duration": 42,
    "start_time": "2021-12-07T10:10:27.517Z"
   },
   {
    "duration": 17,
    "start_time": "2021-12-07T10:10:27.561Z"
   },
   {
    "duration": 26,
    "start_time": "2021-12-07T10:10:27.580Z"
   },
   {
    "duration": 16,
    "start_time": "2021-12-07T10:10:27.608Z"
   },
   {
    "duration": 11,
    "start_time": "2021-12-07T10:10:27.626Z"
   },
   {
    "duration": 41,
    "start_time": "2021-12-07T10:10:27.639Z"
   },
   {
    "duration": 8,
    "start_time": "2021-12-07T10:10:27.681Z"
   },
   {
    "duration": 25,
    "start_time": "2021-12-07T10:10:27.691Z"
   },
   {
    "duration": 20,
    "start_time": "2021-12-07T10:10:27.718Z"
   },
   {
    "duration": 21,
    "start_time": "2021-12-07T10:10:27.764Z"
   },
   {
    "duration": 18,
    "start_time": "2021-12-07T10:10:27.787Z"
   },
   {
    "duration": 9,
    "start_time": "2021-12-07T10:10:27.807Z"
   },
   {
    "duration": 10,
    "start_time": "2021-12-07T10:10:30.815Z"
   },
   {
    "duration": 4447,
    "start_time": "2021-12-07T10:10:31.371Z"
   },
   {
    "duration": 80,
    "start_time": "2021-12-07T10:18:49.800Z"
   },
   {
    "duration": 87,
    "start_time": "2021-12-07T10:19:24.753Z"
   },
   {
    "duration": 12,
    "start_time": "2021-12-07T10:19:24.842Z"
   },
   {
    "duration": 49,
    "start_time": "2021-12-07T10:19:24.857Z"
   },
   {
    "duration": 12,
    "start_time": "2021-12-07T10:19:24.908Z"
   },
   {
    "duration": 10,
    "start_time": "2021-12-07T10:19:24.922Z"
   },
   {
    "duration": 14,
    "start_time": "2021-12-07T10:19:24.964Z"
   },
   {
    "duration": 15,
    "start_time": "2021-12-07T10:19:24.980Z"
   },
   {
    "duration": 9,
    "start_time": "2021-12-07T10:19:24.998Z"
   },
   {
    "duration": 60,
    "start_time": "2021-12-07T10:19:25.010Z"
   },
   {
    "duration": 6,
    "start_time": "2021-12-07T10:19:25.072Z"
   },
   {
    "duration": 11,
    "start_time": "2021-12-07T10:19:25.080Z"
   },
   {
    "duration": 22,
    "start_time": "2021-12-07T10:19:25.093Z"
   },
   {
    "duration": 8,
    "start_time": "2021-12-07T10:19:25.117Z"
   },
   {
    "duration": 58,
    "start_time": "2021-12-07T10:19:25.126Z"
   },
   {
    "duration": 7,
    "start_time": "2021-12-07T10:19:25.186Z"
   },
   {
    "duration": 20,
    "start_time": "2021-12-07T10:19:25.195Z"
   },
   {
    "duration": 23,
    "start_time": "2021-12-07T10:19:25.217Z"
   },
   {
    "duration": 39,
    "start_time": "2021-12-07T10:19:25.241Z"
   },
   {
    "duration": 19,
    "start_time": "2021-12-07T10:19:25.282Z"
   },
   {
    "duration": 9,
    "start_time": "2021-12-07T10:19:25.303Z"
   },
   {
    "duration": 9,
    "start_time": "2021-12-07T10:19:27.215Z"
   },
   {
    "duration": 256,
    "start_time": "2021-12-07T10:19:28.140Z"
   },
   {
    "duration": 97,
    "start_time": "2021-12-07T10:19:29.558Z"
   },
   {
    "duration": 77,
    "start_time": "2021-12-07T10:20:46.240Z"
   },
   {
    "duration": 78,
    "start_time": "2021-12-07T10:20:56.411Z"
   },
   {
    "duration": 64,
    "start_time": "2021-12-07T10:21:03.255Z"
   },
   {
    "duration": 11,
    "start_time": "2021-12-07T10:21:03.322Z"
   },
   {
    "duration": 52,
    "start_time": "2021-12-07T10:21:03.336Z"
   },
   {
    "duration": 11,
    "start_time": "2021-12-07T10:21:03.391Z"
   },
   {
    "duration": 15,
    "start_time": "2021-12-07T10:21:03.404Z"
   },
   {
    "duration": 15,
    "start_time": "2021-12-07T10:21:03.421Z"
   },
   {
    "duration": 33,
    "start_time": "2021-12-07T10:21:03.438Z"
   },
   {
    "duration": 13,
    "start_time": "2021-12-07T10:21:03.474Z"
   },
   {
    "duration": 28,
    "start_time": "2021-12-07T10:21:03.491Z"
   },
   {
    "duration": 7,
    "start_time": "2021-12-07T10:21:03.522Z"
   },
   {
    "duration": 35,
    "start_time": "2021-12-07T10:21:03.531Z"
   },
   {
    "duration": 8,
    "start_time": "2021-12-07T10:21:03.569Z"
   },
   {
    "duration": 8,
    "start_time": "2021-12-07T10:21:03.579Z"
   },
   {
    "duration": 62,
    "start_time": "2021-12-07T10:21:03.589Z"
   },
   {
    "duration": 16,
    "start_time": "2021-12-07T10:21:03.653Z"
   },
   {
    "duration": 42,
    "start_time": "2021-12-07T10:21:03.671Z"
   },
   {
    "duration": 31,
    "start_time": "2021-12-07T10:21:03.714Z"
   },
   {
    "duration": 22,
    "start_time": "2021-12-07T10:21:03.747Z"
   },
   {
    "duration": 18,
    "start_time": "2021-12-07T10:21:03.771Z"
   },
   {
    "duration": 9,
    "start_time": "2021-12-07T10:21:03.791Z"
   },
   {
    "duration": 82,
    "start_time": "2021-12-07T10:21:05.595Z"
   },
   {
    "duration": 9,
    "start_time": "2021-12-07T10:21:20.514Z"
   },
   {
    "duration": 1044,
    "start_time": "2021-12-07T10:24:10.140Z"
   },
   {
    "duration": 28273,
    "start_time": "2021-12-07T10:24:20.371Z"
   },
   {
    "duration": 540,
    "start_time": "2021-12-07T10:24:48.107Z"
   },
   {
    "duration": 532,
    "start_time": "2021-12-07T10:24:48.116Z"
   },
   {
    "duration": 531,
    "start_time": "2021-12-07T10:24:48.118Z"
   },
   {
    "duration": 529,
    "start_time": "2021-12-07T10:24:48.121Z"
   },
   {
    "duration": 527,
    "start_time": "2021-12-07T10:24:48.124Z"
   },
   {
    "duration": 525,
    "start_time": "2021-12-07T10:24:48.127Z"
   },
   {
    "duration": 519,
    "start_time": "2021-12-07T10:24:48.133Z"
   },
   {
    "duration": 517,
    "start_time": "2021-12-07T10:24:48.136Z"
   },
   {
    "duration": 516,
    "start_time": "2021-12-07T10:24:48.138Z"
   },
   {
    "duration": 515,
    "start_time": "2021-12-07T10:24:48.140Z"
   },
   {
    "duration": 514,
    "start_time": "2021-12-07T10:24:48.142Z"
   },
   {
    "duration": 513,
    "start_time": "2021-12-07T10:24:48.144Z"
   },
   {
    "duration": 512,
    "start_time": "2021-12-07T10:24:48.146Z"
   },
   {
    "duration": 511,
    "start_time": "2021-12-07T10:24:48.148Z"
   },
   {
    "duration": 510,
    "start_time": "2021-12-07T10:24:48.150Z"
   },
   {
    "duration": 508,
    "start_time": "2021-12-07T10:24:48.153Z"
   },
   {
    "duration": 507,
    "start_time": "2021-12-07T10:24:48.155Z"
   },
   {
    "duration": 507,
    "start_time": "2021-12-07T10:24:48.156Z"
   },
   {
    "duration": 505,
    "start_time": "2021-12-07T10:24:48.159Z"
   },
   {
    "duration": 504,
    "start_time": "2021-12-07T10:24:48.161Z"
   },
   {
    "duration": 10831,
    "start_time": "2021-12-07T10:24:59.696Z"
   },
   {
    "duration": 90,
    "start_time": "2021-12-07T10:25:15.033Z"
   },
   {
    "duration": 12,
    "start_time": "2021-12-07T10:25:15.125Z"
   },
   {
    "duration": 66,
    "start_time": "2021-12-07T10:25:15.139Z"
   },
   {
    "duration": 11,
    "start_time": "2021-12-07T10:25:15.208Z"
   },
   {
    "duration": 31,
    "start_time": "2021-12-07T10:25:15.221Z"
   },
   {
    "duration": 44,
    "start_time": "2021-12-07T10:25:15.254Z"
   },
   {
    "duration": 54,
    "start_time": "2021-12-07T10:25:15.299Z"
   },
   {
    "duration": 43,
    "start_time": "2021-12-07T10:25:15.355Z"
   },
   {
    "duration": 41,
    "start_time": "2021-12-07T10:25:15.401Z"
   },
   {
    "duration": 40,
    "start_time": "2021-12-07T10:25:15.445Z"
   },
   {
    "duration": 33,
    "start_time": "2021-12-07T10:25:15.487Z"
   },
   {
    "duration": 30,
    "start_time": "2021-12-07T10:25:15.522Z"
   },
   {
    "duration": 37,
    "start_time": "2021-12-07T10:25:15.555Z"
   },
   {
    "duration": 73,
    "start_time": "2021-12-07T10:25:15.594Z"
   },
   {
    "duration": 8,
    "start_time": "2021-12-07T10:25:15.669Z"
   },
   {
    "duration": 66,
    "start_time": "2021-12-07T10:25:15.678Z"
   },
   {
    "duration": 23,
    "start_time": "2021-12-07T10:25:15.746Z"
   },
   {
    "duration": 37,
    "start_time": "2021-12-07T10:25:15.771Z"
   },
   {
    "duration": 18,
    "start_time": "2021-12-07T10:25:15.810Z"
   },
   {
    "duration": 24,
    "start_time": "2021-12-07T10:25:15.829Z"
   },
   {
    "duration": 17682,
    "start_time": "2021-12-07T10:25:43.688Z"
   },
   {
    "duration": 522,
    "start_time": "2021-12-07T10:26:27.592Z"
   },
   {
    "duration": 86,
    "start_time": "2021-12-07T10:27:19.801Z"
   },
   {
    "duration": 87,
    "start_time": "2021-12-07T10:27:21.467Z"
   },
   {
    "duration": 189,
    "start_time": "2021-12-07T10:40:32.645Z"
   },
   {
    "duration": 154,
    "start_time": "2021-12-07T10:41:57.290Z"
   },
   {
    "duration": 117,
    "start_time": "2021-12-07T10:44:06.350Z"
   },
   {
    "duration": 896,
    "start_time": "2021-12-07T10:44:34.030Z"
   },
   {
    "duration": 9,
    "start_time": "2021-12-07T10:44:50.671Z"
   },
   {
    "duration": 740,
    "start_time": "2021-12-07T10:44:55.663Z"
   },
   {
    "duration": 71,
    "start_time": "2021-12-07T10:45:01.492Z"
   },
   {
    "duration": 12,
    "start_time": "2021-12-07T10:45:01.565Z"
   },
   {
    "duration": 45,
    "start_time": "2021-12-07T10:45:01.580Z"
   },
   {
    "duration": 12,
    "start_time": "2021-12-07T10:45:01.628Z"
   },
   {
    "duration": 16,
    "start_time": "2021-12-07T10:45:01.664Z"
   },
   {
    "duration": 58,
    "start_time": "2021-12-07T10:45:01.683Z"
   },
   {
    "duration": 31,
    "start_time": "2021-12-07T10:45:01.743Z"
   },
   {
    "duration": 12,
    "start_time": "2021-12-07T10:45:01.778Z"
   },
   {
    "duration": 40,
    "start_time": "2021-12-07T10:45:01.793Z"
   },
   {
    "duration": 13,
    "start_time": "2021-12-07T10:45:01.835Z"
   },
   {
    "duration": 72,
    "start_time": "2021-12-07T10:45:01.850Z"
   },
   {
    "duration": 87,
    "start_time": "2021-12-07T10:45:01.924Z"
   },
   {
    "duration": 36,
    "start_time": "2021-12-07T10:45:02.013Z"
   },
   {
    "duration": 99,
    "start_time": "2021-12-07T10:45:02.051Z"
   },
   {
    "duration": 23,
    "start_time": "2021-12-07T10:45:02.153Z"
   },
   {
    "duration": 35,
    "start_time": "2021-12-07T10:45:02.178Z"
   },
   {
    "duration": 51,
    "start_time": "2021-12-07T10:45:02.215Z"
   },
   {
    "duration": 28,
    "start_time": "2021-12-07T10:45:02.268Z"
   },
   {
    "duration": 25,
    "start_time": "2021-12-07T10:45:02.299Z"
   },
   {
    "duration": 41,
    "start_time": "2021-12-07T10:45:02.327Z"
   },
   {
    "duration": 1178,
    "start_time": "2021-12-07T10:45:04.358Z"
   },
   {
    "duration": 693,
    "start_time": "2021-12-07T10:45:13.910Z"
   },
   {
    "duration": 12,
    "start_time": "2021-12-07T10:45:21.370Z"
   },
   {
    "duration": 11,
    "start_time": "2021-12-07T10:45:25.808Z"
   },
   {
    "duration": 417,
    "start_time": "2021-12-07T10:45:27.041Z"
   },
   {
    "duration": 11,
    "start_time": "2021-12-07T10:45:27.966Z"
   },
   {
    "duration": 896,
    "start_time": "2021-12-07T10:45:41.896Z"
   },
   {
    "duration": 11,
    "start_time": "2021-12-07T10:45:47.691Z"
   },
   {
    "duration": 8,
    "start_time": "2021-12-07T10:45:51.943Z"
   },
   {
    "duration": 460,
    "start_time": "2021-12-07T10:45:52.687Z"
   },
   {
    "duration": 8,
    "start_time": "2021-12-07T10:45:53.916Z"
   },
   {
    "duration": 9,
    "start_time": "2021-12-07T10:45:58.168Z"
   },
   {
    "duration": 1260,
    "start_time": "2021-12-07T10:46:30.656Z"
   },
   {
    "duration": 489,
    "start_time": "2021-12-07T10:47:23.723Z"
   },
   {
    "duration": 3762,
    "start_time": "2021-12-07T11:34:34.546Z"
   },
   {
    "duration": 701,
    "start_time": "2021-12-07T11:34:52.229Z"
   },
   {
    "duration": 12,
    "start_time": "2021-12-07T11:34:52.932Z"
   },
   {
    "duration": 33,
    "start_time": "2021-12-07T11:34:52.946Z"
   },
   {
    "duration": 10,
    "start_time": "2021-12-07T11:34:52.981Z"
   },
   {
    "duration": 8,
    "start_time": "2021-12-07T11:34:52.992Z"
   },
   {
    "duration": 15,
    "start_time": "2021-12-07T11:34:53.002Z"
   },
   {
    "duration": 14,
    "start_time": "2021-12-07T11:34:53.019Z"
   },
   {
    "duration": 12,
    "start_time": "2021-12-07T11:34:53.064Z"
   },
   {
    "duration": 24,
    "start_time": "2021-12-07T11:34:53.078Z"
   },
   {
    "duration": 6,
    "start_time": "2021-12-07T11:34:53.103Z"
   },
   {
    "duration": 16,
    "start_time": "2021-12-07T11:34:53.110Z"
   },
   {
    "duration": 17,
    "start_time": "2021-12-07T11:34:53.127Z"
   },
   {
    "duration": 18,
    "start_time": "2021-12-07T11:34:53.146Z"
   },
   {
    "duration": 39,
    "start_time": "2021-12-07T11:34:53.165Z"
   },
   {
    "duration": 7,
    "start_time": "2021-12-07T11:34:53.206Z"
   },
   {
    "duration": 19,
    "start_time": "2021-12-07T11:34:53.215Z"
   },
   {
    "duration": 33,
    "start_time": "2021-12-07T11:34:53.235Z"
   },
   {
    "duration": 18,
    "start_time": "2021-12-07T11:34:53.270Z"
   },
   {
    "duration": 16,
    "start_time": "2021-12-07T11:34:53.290Z"
   },
   {
    "duration": 8,
    "start_time": "2021-12-07T11:34:53.307Z"
   },
   {
    "duration": 52,
    "start_time": "2021-12-07T11:34:53.317Z"
   },
   {
    "duration": 7,
    "start_time": "2021-12-07T11:34:53.371Z"
   },
   {
    "duration": 22,
    "start_time": "2021-12-07T11:38:34.671Z"
   },
   {
    "duration": 18,
    "start_time": "2021-12-07T11:38:35.965Z"
   },
   {
    "duration": 9,
    "start_time": "2021-12-07T12:23:03.600Z"
   },
   {
    "duration": 31,
    "start_time": "2021-12-07T12:23:04.038Z"
   },
   {
    "duration": 31,
    "start_time": "2021-12-07T12:23:11.615Z"
   },
   {
    "duration": 27,
    "start_time": "2021-12-07T12:24:09.992Z"
   },
   {
    "duration": 8,
    "start_time": "2021-12-07T12:57:02.751Z"
   },
   {
    "duration": 10,
    "start_time": "2021-12-07T12:57:36.779Z"
   },
   {
    "duration": 6,
    "start_time": "2021-12-07T12:57:49.109Z"
   },
   {
    "duration": 8,
    "start_time": "2021-12-07T12:58:10.991Z"
   },
   {
    "duration": 6,
    "start_time": "2021-12-07T12:58:17.588Z"
   },
   {
    "duration": 8,
    "start_time": "2021-12-07T13:04:50.075Z"
   },
   {
    "duration": 6595,
    "start_time": "2021-12-07T14:08:10.352Z"
   },
   {
    "duration": 69,
    "start_time": "2021-12-07T14:08:29.616Z"
   },
   {
    "duration": 12,
    "start_time": "2021-12-07T14:08:29.687Z"
   },
   {
    "duration": 35,
    "start_time": "2021-12-07T14:08:29.702Z"
   },
   {
    "duration": 28,
    "start_time": "2021-12-07T14:08:29.739Z"
   },
   {
    "duration": 9,
    "start_time": "2021-12-07T14:08:29.768Z"
   },
   {
    "duration": 12,
    "start_time": "2021-12-07T14:08:29.778Z"
   },
   {
    "duration": 15,
    "start_time": "2021-12-07T14:08:29.792Z"
   },
   {
    "duration": 9,
    "start_time": "2021-12-07T14:08:29.809Z"
   },
   {
    "duration": 64,
    "start_time": "2021-12-07T14:08:29.820Z"
   },
   {
    "duration": 6,
    "start_time": "2021-12-07T14:08:29.887Z"
   },
   {
    "duration": 10,
    "start_time": "2021-12-07T14:08:29.895Z"
   },
   {
    "duration": 12,
    "start_time": "2021-12-07T14:08:29.907Z"
   },
   {
    "duration": 41,
    "start_time": "2021-12-07T14:08:29.922Z"
   },
   {
    "duration": 32,
    "start_time": "2021-12-07T14:08:29.965Z"
   },
   {
    "duration": 13,
    "start_time": "2021-12-07T14:08:29.999Z"
   },
   {
    "duration": 20,
    "start_time": "2021-12-07T14:08:30.013Z"
   },
   {
    "duration": 43,
    "start_time": "2021-12-07T14:08:30.035Z"
   },
   {
    "duration": 25,
    "start_time": "2021-12-07T14:08:30.080Z"
   },
   {
    "duration": 25,
    "start_time": "2021-12-07T14:08:30.107Z"
   },
   {
    "duration": 15,
    "start_time": "2021-12-07T14:08:30.134Z"
   },
   {
    "duration": 3688,
    "start_time": "2021-12-07T14:08:30.150Z"
   },
   {
    "duration": 3116,
    "start_time": "2021-12-07T14:10:39.105Z"
   },
   {
    "duration": 2946,
    "start_time": "2021-12-07T14:10:48.165Z"
   },
   {
    "duration": 10,
    "start_time": "2021-12-07T14:16:47.616Z"
   },
   {
    "duration": 13,
    "start_time": "2021-12-07T14:19:24.740Z"
   },
   {
    "duration": 3,
    "start_time": "2021-12-07T14:26:04.058Z"
   },
   {
    "duration": 285,
    "start_time": "2021-12-07T14:27:59.203Z"
   },
   {
    "duration": 424,
    "start_time": "2021-12-07T14:28:09.067Z"
   },
   {
    "duration": 427,
    "start_time": "2021-12-07T14:28:14.553Z"
   },
   {
    "duration": 122,
    "start_time": "2021-12-07T14:28:31.493Z"
   },
   {
    "duration": 13,
    "start_time": "2021-12-07T14:28:31.618Z"
   },
   {
    "duration": 65,
    "start_time": "2021-12-07T14:28:31.634Z"
   },
   {
    "duration": 10,
    "start_time": "2021-12-07T14:28:31.702Z"
   },
   {
    "duration": 12,
    "start_time": "2021-12-07T14:28:31.714Z"
   },
   {
    "duration": 17,
    "start_time": "2021-12-07T14:28:31.728Z"
   },
   {
    "duration": 29,
    "start_time": "2021-12-07T14:28:31.747Z"
   },
   {
    "duration": 9,
    "start_time": "2021-12-07T14:28:31.779Z"
   },
   {
    "duration": 23,
    "start_time": "2021-12-07T14:28:31.790Z"
   },
   {
    "duration": 13,
    "start_time": "2021-12-07T14:28:31.815Z"
   },
   {
    "duration": 36,
    "start_time": "2021-12-07T14:28:31.830Z"
   },
   {
    "duration": 8,
    "start_time": "2021-12-07T14:28:31.868Z"
   },
   {
    "duration": 10,
    "start_time": "2021-12-07T14:28:31.878Z"
   },
   {
    "duration": 49,
    "start_time": "2021-12-07T14:28:31.890Z"
   },
   {
    "duration": 8,
    "start_time": "2021-12-07T14:28:31.941Z"
   },
   {
    "duration": 19,
    "start_time": "2021-12-07T14:28:31.963Z"
   },
   {
    "duration": 26,
    "start_time": "2021-12-07T14:28:31.984Z"
   },
   {
    "duration": 19,
    "start_time": "2021-12-07T14:28:32.012Z"
   },
   {
    "duration": 33,
    "start_time": "2021-12-07T14:28:32.033Z"
   },
   {
    "duration": 8,
    "start_time": "2021-12-07T14:28:32.068Z"
   },
   {
    "duration": 4298,
    "start_time": "2021-12-07T14:28:32.078Z"
   },
   {
    "duration": 293,
    "start_time": "2021-12-07T14:28:39.762Z"
   },
   {
    "duration": 414,
    "start_time": "2021-12-07T14:29:11.756Z"
   },
   {
    "duration": 776,
    "start_time": "2021-12-07T14:29:15.023Z"
   },
   {
    "duration": 403,
    "start_time": "2021-12-07T14:29:23.160Z"
   },
   {
    "duration": 8,
    "start_time": "2021-12-07T14:29:31.726Z"
   },
   {
    "duration": 419,
    "start_time": "2021-12-07T14:52:16.317Z"
   },
   {
    "duration": 92,
    "start_time": "2021-12-07T14:52:21.703Z"
   },
   {
    "duration": 12,
    "start_time": "2021-12-07T14:52:21.797Z"
   },
   {
    "duration": 32,
    "start_time": "2021-12-07T14:52:21.811Z"
   },
   {
    "duration": 23,
    "start_time": "2021-12-07T14:52:21.845Z"
   },
   {
    "duration": 10,
    "start_time": "2021-12-07T14:52:21.870Z"
   },
   {
    "duration": 12,
    "start_time": "2021-12-07T14:52:21.882Z"
   },
   {
    "duration": 14,
    "start_time": "2021-12-07T14:52:21.895Z"
   },
   {
    "duration": 7,
    "start_time": "2021-12-07T14:52:21.910Z"
   },
   {
    "duration": 57,
    "start_time": "2021-12-07T14:52:21.920Z"
   },
   {
    "duration": 6,
    "start_time": "2021-12-07T14:52:21.979Z"
   },
   {
    "duration": 17,
    "start_time": "2021-12-07T14:52:21.987Z"
   },
   {
    "duration": 7,
    "start_time": "2021-12-07T14:52:22.006Z"
   },
   {
    "duration": 8,
    "start_time": "2021-12-07T14:52:22.014Z"
   },
   {
    "duration": 52,
    "start_time": "2021-12-07T14:52:22.023Z"
   },
   {
    "duration": 7,
    "start_time": "2021-12-07T14:52:22.077Z"
   },
   {
    "duration": 22,
    "start_time": "2021-12-07T14:52:22.086Z"
   },
   {
    "duration": 22,
    "start_time": "2021-12-07T14:52:22.110Z"
   },
   {
    "duration": 35,
    "start_time": "2021-12-07T14:52:22.134Z"
   },
   {
    "duration": 17,
    "start_time": "2021-12-07T14:52:22.170Z"
   },
   {
    "duration": 9,
    "start_time": "2021-12-07T14:52:22.188Z"
   },
   {
    "duration": 3531,
    "start_time": "2021-12-07T14:52:22.199Z"
   },
   {
    "duration": 684,
    "start_time": "2021-12-07T14:52:28.337Z"
   },
   {
    "duration": 126,
    "start_time": "2021-12-07T16:21:28.462Z"
   },
   {
    "duration": 95,
    "start_time": "2021-12-07T16:21:41.587Z"
   },
   {
    "duration": 14,
    "start_time": "2021-12-07T16:21:41.685Z"
   },
   {
    "duration": 34,
    "start_time": "2021-12-07T16:21:41.702Z"
   },
   {
    "duration": 33,
    "start_time": "2021-12-07T16:21:41.739Z"
   },
   {
    "duration": 20,
    "start_time": "2021-12-07T16:21:41.775Z"
   },
   {
    "duration": 12,
    "start_time": "2021-12-07T16:21:41.797Z"
   },
   {
    "duration": 17,
    "start_time": "2021-12-07T16:21:41.811Z"
   },
   {
    "duration": 33,
    "start_time": "2021-12-07T16:21:41.830Z"
   },
   {
    "duration": 24,
    "start_time": "2021-12-07T16:21:41.866Z"
   },
   {
    "duration": 5,
    "start_time": "2021-12-07T16:21:41.892Z"
   },
   {
    "duration": 9,
    "start_time": "2021-12-07T16:21:41.899Z"
   },
   {
    "duration": 9,
    "start_time": "2021-12-07T16:21:41.909Z"
   },
   {
    "duration": 7,
    "start_time": "2021-12-07T16:21:41.919Z"
   },
   {
    "duration": 64,
    "start_time": "2021-12-07T16:21:41.927Z"
   },
   {
    "duration": 9,
    "start_time": "2021-12-07T16:21:41.993Z"
   },
   {
    "duration": 19,
    "start_time": "2021-12-07T16:21:42.003Z"
   },
   {
    "duration": 45,
    "start_time": "2021-12-07T16:21:42.023Z"
   },
   {
    "duration": 18,
    "start_time": "2021-12-07T16:21:42.070Z"
   },
   {
    "duration": 15,
    "start_time": "2021-12-07T16:21:42.090Z"
   },
   {
    "duration": 9,
    "start_time": "2021-12-07T16:21:42.107Z"
   },
   {
    "duration": 3808,
    "start_time": "2021-12-07T16:21:42.118Z"
   },
   {
    "duration": 78,
    "start_time": "2021-12-07T16:21:46.399Z"
   },
   {
    "duration": 693,
    "start_time": "2021-12-07T16:21:52.196Z"
   },
   {
    "duration": 447,
    "start_time": "2021-12-07T16:29:57.344Z"
   },
   {
    "duration": 421,
    "start_time": "2021-12-07T16:30:07.333Z"
   },
   {
    "duration": 416,
    "start_time": "2021-12-07T16:30:26.257Z"
   },
   {
    "duration": 95,
    "start_time": "2021-12-07T16:30:35.483Z"
   },
   {
    "duration": 14,
    "start_time": "2021-12-07T16:30:35.581Z"
   },
   {
    "duration": 37,
    "start_time": "2021-12-07T16:30:35.598Z"
   },
   {
    "duration": 12,
    "start_time": "2021-12-07T16:30:35.663Z"
   },
   {
    "duration": 13,
    "start_time": "2021-12-07T16:30:35.677Z"
   },
   {
    "duration": 12,
    "start_time": "2021-12-07T16:30:35.692Z"
   },
   {
    "duration": 14,
    "start_time": "2021-12-07T16:30:35.706Z"
   },
   {
    "duration": 7,
    "start_time": "2021-12-07T16:30:35.722Z"
   },
   {
    "duration": 25,
    "start_time": "2021-12-07T16:30:35.765Z"
   },
   {
    "duration": 7,
    "start_time": "2021-12-07T16:30:35.792Z"
   },
   {
    "duration": 15,
    "start_time": "2021-12-07T16:30:35.800Z"
   },
   {
    "duration": 8,
    "start_time": "2021-12-07T16:30:35.817Z"
   },
   {
    "duration": 41,
    "start_time": "2021-12-07T16:30:35.827Z"
   },
   {
    "duration": 35,
    "start_time": "2021-12-07T16:30:35.870Z"
   },
   {
    "duration": 10,
    "start_time": "2021-12-07T16:30:35.907Z"
   },
   {
    "duration": 45,
    "start_time": "2021-12-07T16:30:35.918Z"
   },
   {
    "duration": 22,
    "start_time": "2021-12-07T16:30:35.965Z"
   },
   {
    "duration": 20,
    "start_time": "2021-12-07T16:30:35.989Z"
   },
   {
    "duration": 19,
    "start_time": "2021-12-07T16:30:36.011Z"
   },
   {
    "duration": 10,
    "start_time": "2021-12-07T16:30:36.064Z"
   },
   {
    "duration": 3753,
    "start_time": "2021-12-07T16:30:36.077Z"
   },
   {
    "duration": 748,
    "start_time": "2021-12-07T16:30:43.764Z"
   },
   {
    "duration": 503,
    "start_time": "2021-12-07T16:31:05.526Z"
   },
   {
    "duration": 402,
    "start_time": "2021-12-07T16:31:12.122Z"
   },
   {
    "duration": 8,
    "start_time": "2021-12-07T16:31:21.922Z"
   },
   {
    "duration": 449,
    "start_time": "2021-12-07T16:32:20.240Z"
   },
   {
    "duration": 2875,
    "start_time": "2021-12-07T16:32:22.951Z"
   },
   {
    "duration": 403,
    "start_time": "2021-12-07T16:32:25.828Z"
   },
   {
    "duration": 88,
    "start_time": "2021-12-07T16:32:43.266Z"
   },
   {
    "duration": 11,
    "start_time": "2021-12-07T16:32:43.356Z"
   },
   {
    "duration": 33,
    "start_time": "2021-12-07T16:32:43.369Z"
   },
   {
    "duration": 11,
    "start_time": "2021-12-07T16:32:43.405Z"
   },
   {
    "duration": 9,
    "start_time": "2021-12-07T16:32:43.418Z"
   },
   {
    "duration": 41,
    "start_time": "2021-12-07T16:32:43.429Z"
   },
   {
    "duration": 15,
    "start_time": "2021-12-07T16:32:43.472Z"
   },
   {
    "duration": 9,
    "start_time": "2021-12-07T16:32:43.490Z"
   },
   {
    "duration": 30,
    "start_time": "2021-12-07T16:32:43.502Z"
   },
   {
    "duration": 35,
    "start_time": "2021-12-07T16:32:43.534Z"
   },
   {
    "duration": 8,
    "start_time": "2021-12-07T16:32:43.571Z"
   },
   {
    "duration": 7,
    "start_time": "2021-12-07T16:32:43.581Z"
   },
   {
    "duration": 8,
    "start_time": "2021-12-07T16:32:43.590Z"
   },
   {
    "duration": 64,
    "start_time": "2021-12-07T16:32:43.600Z"
   },
   {
    "duration": 8,
    "start_time": "2021-12-07T16:32:43.666Z"
   },
   {
    "duration": 24,
    "start_time": "2021-12-07T16:32:43.676Z"
   },
   {
    "duration": 21,
    "start_time": "2021-12-07T16:32:43.702Z"
   },
   {
    "duration": 39,
    "start_time": "2021-12-07T16:32:43.724Z"
   },
   {
    "duration": 17,
    "start_time": "2021-12-07T16:32:43.766Z"
   },
   {
    "duration": 7,
    "start_time": "2021-12-07T16:32:43.785Z"
   },
   {
    "duration": 3652,
    "start_time": "2021-12-07T16:32:43.794Z"
   },
   {
    "duration": 1745,
    "start_time": "2021-12-07T16:32:47.448Z"
   },
   {
    "duration": 730,
    "start_time": "2021-12-07T16:33:03.029Z"
   },
   {
    "duration": 10,
    "start_time": "2021-12-07T16:33:03.761Z"
   },
   {
    "duration": 54,
    "start_time": "2021-12-07T16:33:03.773Z"
   },
   {
    "duration": 9,
    "start_time": "2021-12-07T16:33:03.829Z"
   },
   {
    "duration": 12,
    "start_time": "2021-12-07T16:33:03.840Z"
   },
   {
    "duration": 26,
    "start_time": "2021-12-07T16:33:03.853Z"
   },
   {
    "duration": 22,
    "start_time": "2021-12-07T16:33:03.881Z"
   },
   {
    "duration": 10,
    "start_time": "2021-12-07T16:33:03.906Z"
   },
   {
    "duration": 21,
    "start_time": "2021-12-07T16:33:03.918Z"
   },
   {
    "duration": 6,
    "start_time": "2021-12-07T16:33:03.940Z"
   },
   {
    "duration": 19,
    "start_time": "2021-12-07T16:33:03.947Z"
   },
   {
    "duration": 9,
    "start_time": "2021-12-07T16:33:03.967Z"
   },
   {
    "duration": 20,
    "start_time": "2021-12-07T16:33:03.977Z"
   },
   {
    "duration": 37,
    "start_time": "2021-12-07T16:33:03.998Z"
   },
   {
    "duration": 7,
    "start_time": "2021-12-07T16:33:04.037Z"
   },
   {
    "duration": 33,
    "start_time": "2021-12-07T16:33:04.045Z"
   },
   {
    "duration": 19,
    "start_time": "2021-12-07T16:33:04.080Z"
   },
   {
    "duration": 17,
    "start_time": "2021-12-07T16:33:04.101Z"
   },
   {
    "duration": 15,
    "start_time": "2021-12-07T16:33:04.120Z"
   },
   {
    "duration": 29,
    "start_time": "2021-12-07T16:33:04.136Z"
   },
   {
    "duration": 3626,
    "start_time": "2021-12-07T16:33:04.167Z"
   },
   {
    "duration": 2112,
    "start_time": "2021-12-07T16:33:07.795Z"
   },
   {
    "duration": 409,
    "start_time": "2021-12-07T16:34:56.033Z"
   },
   {
    "duration": 94,
    "start_time": "2021-12-07T16:35:01.151Z"
   },
   {
    "duration": 20,
    "start_time": "2021-12-07T16:35:01.247Z"
   },
   {
    "duration": 37,
    "start_time": "2021-12-07T16:35:01.269Z"
   },
   {
    "duration": 11,
    "start_time": "2021-12-07T16:35:01.308Z"
   },
   {
    "duration": 12,
    "start_time": "2021-12-07T16:35:01.320Z"
   },
   {
    "duration": 32,
    "start_time": "2021-12-07T16:35:01.335Z"
   },
   {
    "duration": 13,
    "start_time": "2021-12-07T16:35:01.369Z"
   },
   {
    "duration": 10,
    "start_time": "2021-12-07T16:35:01.385Z"
   },
   {
    "duration": 26,
    "start_time": "2021-12-07T16:35:01.398Z"
   },
   {
    "duration": 42,
    "start_time": "2021-12-07T16:35:01.426Z"
   },
   {
    "duration": 20,
    "start_time": "2021-12-07T16:35:01.469Z"
   },
   {
    "duration": 10,
    "start_time": "2021-12-07T16:35:01.491Z"
   },
   {
    "duration": 12,
    "start_time": "2021-12-07T16:35:01.503Z"
   },
   {
    "duration": 42,
    "start_time": "2021-12-07T16:35:01.516Z"
   },
   {
    "duration": 8,
    "start_time": "2021-12-07T16:35:01.560Z"
   },
   {
    "duration": 24,
    "start_time": "2021-12-07T16:35:01.570Z"
   },
   {
    "duration": 46,
    "start_time": "2021-12-07T16:35:01.596Z"
   },
   {
    "duration": 23,
    "start_time": "2021-12-07T16:35:01.644Z"
   },
   {
    "duration": 15,
    "start_time": "2021-12-07T16:35:01.669Z"
   },
   {
    "duration": 7,
    "start_time": "2021-12-07T16:35:01.686Z"
   },
   {
    "duration": 3705,
    "start_time": "2021-12-07T16:35:01.695Z"
   },
   {
    "duration": 783,
    "start_time": "2021-12-07T16:35:07.359Z"
   },
   {
    "duration": 436,
    "start_time": "2021-12-07T16:36:06.669Z"
   },
   {
    "duration": 433,
    "start_time": "2021-12-07T16:36:15.907Z"
   },
   {
    "duration": 95,
    "start_time": "2021-12-07T16:36:20.122Z"
   },
   {
    "duration": 12,
    "start_time": "2021-12-07T16:36:20.219Z"
   },
   {
    "duration": 46,
    "start_time": "2021-12-07T16:36:20.233Z"
   },
   {
    "duration": 10,
    "start_time": "2021-12-07T16:36:20.281Z"
   },
   {
    "duration": 34,
    "start_time": "2021-12-07T16:36:20.293Z"
   },
   {
    "duration": 14,
    "start_time": "2021-12-07T16:36:20.329Z"
   },
   {
    "duration": 14,
    "start_time": "2021-12-07T16:36:20.345Z"
   },
   {
    "duration": 10,
    "start_time": "2021-12-07T16:36:20.361Z"
   },
   {
    "duration": 25,
    "start_time": "2021-12-07T16:36:20.373Z"
   },
   {
    "duration": 5,
    "start_time": "2021-12-07T16:36:20.400Z"
   },
   {
    "duration": 20,
    "start_time": "2021-12-07T16:36:20.407Z"
   },
   {
    "duration": 9,
    "start_time": "2021-12-07T16:36:20.428Z"
   },
   {
    "duration": 26,
    "start_time": "2021-12-07T16:36:20.439Z"
   },
   {
    "duration": 46,
    "start_time": "2021-12-07T16:36:20.468Z"
   },
   {
    "duration": 7,
    "start_time": "2021-12-07T16:36:20.516Z"
   },
   {
    "duration": 26,
    "start_time": "2021-12-07T16:36:20.525Z"
   },
   {
    "duration": 25,
    "start_time": "2021-12-07T16:36:20.553Z"
   },
   {
    "duration": 17,
    "start_time": "2021-12-07T16:36:20.580Z"
   },
   {
    "duration": 20,
    "start_time": "2021-12-07T16:36:20.599Z"
   },
   {
    "duration": 10,
    "start_time": "2021-12-07T16:36:20.621Z"
   },
   {
    "duration": 3697,
    "start_time": "2021-12-07T16:36:20.633Z"
   },
   {
    "duration": 683,
    "start_time": "2021-12-07T16:36:26.324Z"
   },
   {
    "duration": 7,
    "start_time": "2021-12-07T16:36:29.036Z"
   },
   {
    "duration": 305,
    "start_time": "2021-12-07T16:41:23.395Z"
   },
   {
    "duration": 95,
    "start_time": "2021-12-07T16:41:43.263Z"
   },
   {
    "duration": 11,
    "start_time": "2021-12-07T16:41:43.364Z"
   },
   {
    "duration": 50,
    "start_time": "2021-12-07T16:41:43.377Z"
   },
   {
    "duration": 14,
    "start_time": "2021-12-07T16:41:43.430Z"
   },
   {
    "duration": 14,
    "start_time": "2021-12-07T16:41:43.463Z"
   },
   {
    "duration": 28,
    "start_time": "2021-12-07T16:41:43.479Z"
   },
   {
    "duration": 39,
    "start_time": "2021-12-07T16:41:43.509Z"
   },
   {
    "duration": 18,
    "start_time": "2021-12-07T16:41:43.550Z"
   },
   {
    "duration": 37,
    "start_time": "2021-12-07T16:41:43.571Z"
   },
   {
    "duration": 6,
    "start_time": "2021-12-07T16:41:43.611Z"
   },
   {
    "duration": 15,
    "start_time": "2021-12-07T16:41:43.619Z"
   },
   {
    "duration": 14,
    "start_time": "2021-12-07T16:41:43.636Z"
   },
   {
    "duration": 14,
    "start_time": "2021-12-07T16:41:43.652Z"
   },
   {
    "duration": 44,
    "start_time": "2021-12-07T16:41:43.668Z"
   },
   {
    "duration": 7,
    "start_time": "2021-12-07T16:41:43.713Z"
   },
   {
    "duration": 24,
    "start_time": "2021-12-07T16:41:43.722Z"
   },
   {
    "duration": 27,
    "start_time": "2021-12-07T16:41:43.747Z"
   },
   {
    "duration": 19,
    "start_time": "2021-12-07T16:41:43.776Z"
   },
   {
    "duration": 15,
    "start_time": "2021-12-07T16:41:43.797Z"
   },
   {
    "duration": 7,
    "start_time": "2021-12-07T16:41:43.814Z"
   },
   {
    "duration": 3809,
    "start_time": "2021-12-07T16:41:43.823Z"
   },
   {
    "duration": 723,
    "start_time": "2021-12-07T16:41:47.634Z"
   },
   {
    "duration": 8,
    "start_time": "2021-12-07T16:41:48.363Z"
   },
   {
    "duration": 249,
    "start_time": "2021-12-07T16:41:50.880Z"
   },
   {
    "duration": 13,
    "start_time": "2021-12-07T16:42:47.778Z"
   },
   {
    "duration": 1154,
    "start_time": "2021-12-07T16:43:26.677Z"
   },
   {
    "duration": 13,
    "start_time": "2021-12-07T16:48:41.053Z"
   },
   {
    "duration": 5,
    "start_time": "2021-12-07T16:49:03.799Z"
   },
   {
    "duration": 10,
    "start_time": "2021-12-07T16:55:32.252Z"
   },
   {
    "duration": 11,
    "start_time": "2021-12-07T16:59:34.005Z"
   },
   {
    "duration": 241,
    "start_time": "2021-12-07T17:11:11.298Z"
   },
   {
    "duration": 82,
    "start_time": "2021-12-07T17:11:22.578Z"
   },
   {
    "duration": 93,
    "start_time": "2021-12-07T17:11:28.046Z"
   },
   {
    "duration": 13,
    "start_time": "2021-12-07T17:11:28.141Z"
   },
   {
    "duration": 43,
    "start_time": "2021-12-07T17:11:28.156Z"
   },
   {
    "duration": 9,
    "start_time": "2021-12-07T17:11:28.201Z"
   },
   {
    "duration": 22,
    "start_time": "2021-12-07T17:11:28.212Z"
   },
   {
    "duration": 21,
    "start_time": "2021-12-07T17:11:28.236Z"
   },
   {
    "duration": 15,
    "start_time": "2021-12-07T17:11:28.259Z"
   },
   {
    "duration": 32,
    "start_time": "2021-12-07T17:11:28.276Z"
   },
   {
    "duration": 40,
    "start_time": "2021-12-07T17:11:28.310Z"
   },
   {
    "duration": 49,
    "start_time": "2021-12-07T17:11:28.352Z"
   },
   {
    "duration": 17,
    "start_time": "2021-12-07T17:11:28.403Z"
   },
   {
    "duration": 31,
    "start_time": "2021-12-07T17:11:28.422Z"
   },
   {
    "duration": 29,
    "start_time": "2021-12-07T17:11:28.455Z"
   },
   {
    "duration": 55,
    "start_time": "2021-12-07T17:11:28.486Z"
   },
   {
    "duration": 10,
    "start_time": "2021-12-07T17:11:28.543Z"
   },
   {
    "duration": 37,
    "start_time": "2021-12-07T17:11:28.555Z"
   },
   {
    "duration": 50,
    "start_time": "2021-12-07T17:11:28.594Z"
   },
   {
    "duration": 30,
    "start_time": "2021-12-07T17:11:28.647Z"
   },
   {
    "duration": 30,
    "start_time": "2021-12-07T17:11:28.679Z"
   },
   {
    "duration": 12,
    "start_time": "2021-12-07T17:11:28.711Z"
   },
   {
    "duration": 3748,
    "start_time": "2021-12-07T17:11:28.725Z"
   },
   {
    "duration": 836,
    "start_time": "2021-12-07T17:11:32.475Z"
   },
   {
    "duration": 8,
    "start_time": "2021-12-07T17:11:33.313Z"
   },
   {
    "duration": 140,
    "start_time": "2021-12-07T17:11:33.323Z"
   },
   {
    "duration": 14,
    "start_time": "2021-12-07T17:12:22.312Z"
   },
   {
    "duration": 640,
    "start_time": "2021-12-07T17:15:35.934Z"
   },
   {
    "duration": 244,
    "start_time": "2021-12-07T17:15:44.936Z"
   },
   {
    "duration": 13,
    "start_time": "2021-12-07T17:21:07.945Z"
   },
   {
    "duration": 245,
    "start_time": "2021-12-07T17:22:09.155Z"
   },
   {
    "duration": 104,
    "start_time": "2021-12-07T17:22:31.837Z"
   },
   {
    "duration": 668,
    "start_time": "2021-12-07T17:22:37.077Z"
   },
   {
    "duration": 262,
    "start_time": "2021-12-07T17:23:17.698Z"
   },
   {
    "duration": 261,
    "start_time": "2021-12-07T17:24:06.209Z"
   },
   {
    "duration": 77,
    "start_time": "2021-12-07T17:30:28.440Z"
   },
   {
    "duration": 315,
    "start_time": "2021-12-07T17:30:33.926Z"
   },
   {
    "duration": 250,
    "start_time": "2021-12-07T17:30:50.200Z"
   },
   {
    "duration": 13,
    "start_time": "2021-12-07T17:32:49.597Z"
   },
   {
    "duration": 14,
    "start_time": "2021-12-07T17:33:14.560Z"
   },
   {
    "duration": 83,
    "start_time": "2021-12-07T17:43:26.039Z"
   },
   {
    "duration": 73,
    "start_time": "2021-12-07T17:43:35.900Z"
   },
   {
    "duration": 78,
    "start_time": "2021-12-07T17:45:05.160Z"
   },
   {
    "duration": 290,
    "start_time": "2021-12-07T17:45:20.571Z"
   },
   {
    "duration": 253,
    "start_time": "2021-12-07T17:46:53.838Z"
   },
   {
    "duration": 13,
    "start_time": "2021-12-07T17:46:59.757Z"
   },
   {
    "duration": 92,
    "start_time": "2021-12-07T17:48:11.469Z"
   },
   {
    "duration": 11,
    "start_time": "2021-12-07T17:48:11.563Z"
   },
   {
    "duration": 45,
    "start_time": "2021-12-07T17:48:11.576Z"
   },
   {
    "duration": 12,
    "start_time": "2021-12-07T17:48:11.624Z"
   },
   {
    "duration": 27,
    "start_time": "2021-12-07T17:48:11.638Z"
   },
   {
    "duration": 27,
    "start_time": "2021-12-07T17:48:11.667Z"
   },
   {
    "duration": 32,
    "start_time": "2021-12-07T17:48:11.696Z"
   },
   {
    "duration": 25,
    "start_time": "2021-12-07T17:48:11.730Z"
   },
   {
    "duration": 24,
    "start_time": "2021-12-07T17:48:11.758Z"
   },
   {
    "duration": 10,
    "start_time": "2021-12-07T17:48:11.784Z"
   },
   {
    "duration": 22,
    "start_time": "2021-12-07T17:48:11.795Z"
   },
   {
    "duration": 19,
    "start_time": "2021-12-07T17:48:11.818Z"
   },
   {
    "duration": 21,
    "start_time": "2021-12-07T17:48:11.839Z"
   },
   {
    "duration": 43,
    "start_time": "2021-12-07T17:48:11.862Z"
   },
   {
    "duration": 8,
    "start_time": "2021-12-07T17:48:11.907Z"
   },
   {
    "duration": 21,
    "start_time": "2021-12-07T17:48:11.917Z"
   },
   {
    "duration": 27,
    "start_time": "2021-12-07T17:48:11.940Z"
   },
   {
    "duration": 19,
    "start_time": "2021-12-07T17:48:11.970Z"
   },
   {
    "duration": 16,
    "start_time": "2021-12-07T17:48:11.991Z"
   },
   {
    "duration": 7,
    "start_time": "2021-12-07T17:48:12.009Z"
   },
   {
    "duration": 3829,
    "start_time": "2021-12-07T17:48:12.018Z"
   },
   {
    "duration": 730,
    "start_time": "2021-12-07T17:48:15.849Z"
   },
   {
    "duration": 7,
    "start_time": "2021-12-07T17:48:16.582Z"
   },
   {
    "duration": 19,
    "start_time": "2021-12-07T17:48:34.316Z"
   },
   {
    "duration": 15,
    "start_time": "2021-12-07T17:50:26.996Z"
   },
   {
    "duration": 5,
    "start_time": "2021-12-07T17:50:28.538Z"
   },
   {
    "duration": 9,
    "start_time": "2021-12-07T17:52:48.401Z"
   },
   {
    "duration": 19,
    "start_time": "2021-12-07T18:08:19.070Z"
   },
   {
    "duration": 5,
    "start_time": "2021-12-07T18:08:31.335Z"
   },
   {
    "duration": 20,
    "start_time": "2021-12-07T18:39:15.664Z"
   },
   {
    "duration": 5,
    "start_time": "2021-12-07T18:39:16.650Z"
   },
   {
    "duration": 15,
    "start_time": "2021-12-07T18:39:24.178Z"
   },
   {
    "duration": 5,
    "start_time": "2021-12-07T18:39:24.909Z"
   },
   {
    "duration": 99,
    "start_time": "2021-12-07T18:55:37.527Z"
   },
   {
    "duration": 11,
    "start_time": "2021-12-07T18:55:37.628Z"
   },
   {
    "duration": 56,
    "start_time": "2021-12-07T18:55:37.641Z"
   },
   {
    "duration": 11,
    "start_time": "2021-12-07T18:55:37.700Z"
   },
   {
    "duration": 12,
    "start_time": "2021-12-07T18:55:37.713Z"
   },
   {
    "duration": 13,
    "start_time": "2021-12-07T18:55:37.727Z"
   },
   {
    "duration": 44,
    "start_time": "2021-12-07T18:55:37.742Z"
   },
   {
    "duration": 9,
    "start_time": "2021-12-07T18:55:37.789Z"
   },
   {
    "duration": 23,
    "start_time": "2021-12-07T18:55:37.800Z"
   },
   {
    "duration": 50,
    "start_time": "2021-12-07T18:55:37.825Z"
   },
   {
    "duration": 11,
    "start_time": "2021-12-07T18:55:37.878Z"
   },
   {
    "duration": 8,
    "start_time": "2021-12-07T18:55:37.891Z"
   },
   {
    "duration": 8,
    "start_time": "2021-12-07T18:55:37.901Z"
   },
   {
    "duration": 57,
    "start_time": "2021-12-07T18:55:37.911Z"
   },
   {
    "duration": 21,
    "start_time": "2021-12-07T18:55:37.970Z"
   },
   {
    "duration": 18,
    "start_time": "2021-12-07T18:55:37.996Z"
   },
   {
    "duration": 24,
    "start_time": "2021-12-07T18:55:38.016Z"
   },
   {
    "duration": 42,
    "start_time": "2021-12-07T18:55:38.041Z"
   },
   {
    "duration": 16,
    "start_time": "2021-12-07T18:55:38.084Z"
   },
   {
    "duration": 55,
    "start_time": "2021-12-07T18:55:38.101Z"
   },
   {
    "duration": 4073,
    "start_time": "2021-12-07T18:55:38.158Z"
   },
   {
    "duration": 764,
    "start_time": "2021-12-07T18:55:42.233Z"
   },
   {
    "duration": 7,
    "start_time": "2021-12-07T18:55:43.000Z"
   },
   {
    "duration": 34,
    "start_time": "2021-12-07T18:55:43.009Z"
   },
   {
    "duration": 6,
    "start_time": "2021-12-07T18:55:43.044Z"
   },
   {
    "duration": 33,
    "start_time": "2021-12-07T18:55:43.051Z"
   },
   {
    "duration": 4,
    "start_time": "2021-12-07T18:55:43.086Z"
   },
   {
    "duration": 22,
    "start_time": "2021-12-07T18:55:43.092Z"
   },
   {
    "duration": 17,
    "start_time": "2021-12-07T18:55:43.116Z"
   },
   {
    "duration": 5,
    "start_time": "2021-12-07T18:56:08.202Z"
   },
   {
    "duration": 15,
    "start_time": "2021-12-07T18:56:26.983Z"
   },
   {
    "duration": 5,
    "start_time": "2021-12-07T18:56:27.414Z"
   },
   {
    "duration": 471,
    "start_time": "2021-12-07T19:23:33.529Z"
   },
   {
    "duration": 101,
    "start_time": "2021-12-07T19:23:44.816Z"
   },
   {
    "duration": 12,
    "start_time": "2021-12-07T19:23:44.920Z"
   },
   {
    "duration": 63,
    "start_time": "2021-12-07T19:23:44.935Z"
   },
   {
    "duration": 12,
    "start_time": "2021-12-07T19:23:45.000Z"
   },
   {
    "duration": 18,
    "start_time": "2021-12-07T19:23:45.014Z"
   },
   {
    "duration": 31,
    "start_time": "2021-12-07T19:23:45.034Z"
   },
   {
    "duration": 19,
    "start_time": "2021-12-07T19:23:45.069Z"
   },
   {
    "duration": 10,
    "start_time": "2021-12-07T19:23:45.091Z"
   },
   {
    "duration": 24,
    "start_time": "2021-12-07T19:23:45.104Z"
   },
   {
    "duration": 40,
    "start_time": "2021-12-07T19:23:45.130Z"
   },
   {
    "duration": 16,
    "start_time": "2021-12-07T19:23:45.173Z"
   },
   {
    "duration": 9,
    "start_time": "2021-12-07T19:23:45.191Z"
   },
   {
    "duration": 8,
    "start_time": "2021-12-07T19:23:45.202Z"
   },
   {
    "duration": 80,
    "start_time": "2021-12-07T19:23:45.211Z"
   },
   {
    "duration": 10,
    "start_time": "2021-12-07T19:23:45.292Z"
   },
   {
    "duration": 21,
    "start_time": "2021-12-07T19:23:45.303Z"
   },
   {
    "duration": 43,
    "start_time": "2021-12-07T19:23:45.325Z"
   },
   {
    "duration": 26,
    "start_time": "2021-12-07T19:23:45.371Z"
   },
   {
    "duration": 17,
    "start_time": "2021-12-07T19:23:45.399Z"
   },
   {
    "duration": 9,
    "start_time": "2021-12-07T19:23:45.418Z"
   },
   {
    "duration": 4141,
    "start_time": "2021-12-07T19:23:45.429Z"
   },
   {
    "duration": 810,
    "start_time": "2021-12-07T19:23:49.574Z"
   },
   {
    "duration": 9,
    "start_time": "2021-12-07T19:23:50.388Z"
   },
   {
    "duration": 21,
    "start_time": "2021-12-07T19:23:50.399Z"
   },
   {
    "duration": 8,
    "start_time": "2021-12-07T19:23:50.422Z"
   },
   {
    "duration": 48,
    "start_time": "2021-12-07T19:23:50.432Z"
   },
   {
    "duration": 5,
    "start_time": "2021-12-07T19:23:50.483Z"
   },
   {
    "duration": 18,
    "start_time": "2021-12-07T19:23:50.489Z"
   },
   {
    "duration": 17,
    "start_time": "2021-12-07T19:23:50.603Z"
   },
   {
    "duration": 5,
    "start_time": "2021-12-07T19:23:51.279Z"
   },
   {
    "duration": 511,
    "start_time": "2021-12-07T19:24:58.164Z"
   },
   {
    "duration": 100,
    "start_time": "2021-12-07T19:25:07.719Z"
   },
   {
    "duration": 11,
    "start_time": "2021-12-07T19:25:07.821Z"
   },
   {
    "duration": 60,
    "start_time": "2021-12-07T19:25:07.835Z"
   },
   {
    "duration": 11,
    "start_time": "2021-12-07T19:25:07.897Z"
   },
   {
    "duration": 8,
    "start_time": "2021-12-07T19:25:07.910Z"
   },
   {
    "duration": 13,
    "start_time": "2021-12-07T19:25:07.920Z"
   },
   {
    "duration": 48,
    "start_time": "2021-12-07T19:25:07.935Z"
   },
   {
    "duration": 11,
    "start_time": "2021-12-07T19:25:07.989Z"
   },
   {
    "duration": 23,
    "start_time": "2021-12-07T19:25:08.002Z"
   },
   {
    "duration": 7,
    "start_time": "2021-12-07T19:25:08.027Z"
   },
   {
    "duration": 17,
    "start_time": "2021-12-07T19:25:08.063Z"
   },
   {
    "duration": 8,
    "start_time": "2021-12-07T19:25:08.081Z"
   },
   {
    "duration": 7,
    "start_time": "2021-12-07T19:25:08.091Z"
   },
   {
    "duration": 36,
    "start_time": "2021-12-07T19:25:08.099Z"
   },
   {
    "duration": 42,
    "start_time": "2021-12-07T19:25:08.137Z"
   },
   {
    "duration": 22,
    "start_time": "2021-12-07T19:25:08.182Z"
   },
   {
    "duration": 19,
    "start_time": "2021-12-07T19:25:08.205Z"
   },
   {
    "duration": 43,
    "start_time": "2021-12-07T19:25:08.226Z"
   },
   {
    "duration": 21,
    "start_time": "2021-12-07T19:25:08.272Z"
   },
   {
    "duration": 7,
    "start_time": "2021-12-07T19:25:08.295Z"
   },
   {
    "duration": 4052,
    "start_time": "2021-12-07T19:25:08.303Z"
   },
   {
    "duration": 781,
    "start_time": "2021-12-07T19:25:12.357Z"
   },
   {
    "duration": 7,
    "start_time": "2021-12-07T19:25:13.141Z"
   },
   {
    "duration": 31,
    "start_time": "2021-12-07T19:25:13.149Z"
   },
   {
    "duration": 5,
    "start_time": "2021-12-07T19:25:13.182Z"
   },
   {
    "duration": 18,
    "start_time": "2021-12-07T19:25:13.188Z"
   },
   {
    "duration": 4,
    "start_time": "2021-12-07T19:25:13.208Z"
   },
   {
    "duration": 18,
    "start_time": "2021-12-07T19:25:13.214Z"
   },
   {
    "duration": 10,
    "start_time": "2021-12-07T19:25:13.267Z"
   },
   {
    "duration": 93,
    "start_time": "2021-12-07T19:30:38.111Z"
   },
   {
    "duration": 11,
    "start_time": "2021-12-07T19:30:38.206Z"
   },
   {
    "duration": 48,
    "start_time": "2021-12-07T19:30:38.220Z"
   },
   {
    "duration": 11,
    "start_time": "2021-12-07T19:30:38.269Z"
   },
   {
    "duration": 8,
    "start_time": "2021-12-07T19:30:38.281Z"
   },
   {
    "duration": 11,
    "start_time": "2021-12-07T19:30:38.291Z"
   },
   {
    "duration": 16,
    "start_time": "2021-12-07T19:30:38.303Z"
   },
   {
    "duration": 44,
    "start_time": "2021-12-07T19:30:38.321Z"
   },
   {
    "duration": 24,
    "start_time": "2021-12-07T19:30:38.369Z"
   },
   {
    "duration": 5,
    "start_time": "2021-12-07T19:30:38.396Z"
   },
   {
    "duration": 11,
    "start_time": "2021-12-07T19:30:38.403Z"
   },
   {
    "duration": 9,
    "start_time": "2021-12-07T19:30:38.416Z"
   },
   {
    "duration": 45,
    "start_time": "2021-12-07T19:30:38.428Z"
   },
   {
    "duration": 51,
    "start_time": "2021-12-07T19:30:38.476Z"
   },
   {
    "duration": 7,
    "start_time": "2021-12-07T19:30:38.529Z"
   },
   {
    "duration": 37,
    "start_time": "2021-12-07T19:30:38.538Z"
   },
   {
    "duration": 68,
    "start_time": "2021-12-07T19:30:38.578Z"
   },
   {
    "duration": 20,
    "start_time": "2021-12-07T19:30:38.648Z"
   },
   {
    "duration": 18,
    "start_time": "2021-12-07T19:30:38.670Z"
   },
   {
    "duration": 9,
    "start_time": "2021-12-07T19:30:38.690Z"
   },
   {
    "duration": 3778,
    "start_time": "2021-12-07T19:30:38.701Z"
   },
   {
    "duration": 722,
    "start_time": "2021-12-07T19:30:42.481Z"
   },
   {
    "duration": 8,
    "start_time": "2021-12-07T19:30:43.204Z"
   },
   {
    "duration": 22,
    "start_time": "2021-12-07T19:30:43.213Z"
   },
   {
    "duration": 6,
    "start_time": "2021-12-07T19:30:43.237Z"
   },
   {
    "duration": 17,
    "start_time": "2021-12-07T19:30:43.264Z"
   },
   {
    "duration": 5,
    "start_time": "2021-12-07T19:30:43.285Z"
   },
   {
    "duration": 18,
    "start_time": "2021-12-07T19:30:43.292Z"
   },
   {
    "duration": 5,
    "start_time": "2021-12-07T19:30:43.312Z"
   },
   {
    "duration": 479,
    "start_time": "2021-12-07T19:57:21.900Z"
   },
   {
    "duration": 101,
    "start_time": "2021-12-07T19:57:30.200Z"
   },
   {
    "duration": 11,
    "start_time": "2021-12-07T19:57:30.303Z"
   },
   {
    "duration": 36,
    "start_time": "2021-12-07T19:57:30.316Z"
   },
   {
    "duration": 27,
    "start_time": "2021-12-07T19:57:30.353Z"
   },
   {
    "duration": 8,
    "start_time": "2021-12-07T19:57:30.382Z"
   },
   {
    "duration": 17,
    "start_time": "2021-12-07T19:57:30.391Z"
   },
   {
    "duration": 26,
    "start_time": "2021-12-07T19:57:30.410Z"
   },
   {
    "duration": 26,
    "start_time": "2021-12-07T19:57:30.438Z"
   },
   {
    "duration": 28,
    "start_time": "2021-12-07T19:57:30.469Z"
   },
   {
    "duration": 5,
    "start_time": "2021-12-07T19:57:30.500Z"
   },
   {
    "duration": 12,
    "start_time": "2021-12-07T19:57:30.507Z"
   },
   {
    "duration": 7,
    "start_time": "2021-12-07T19:57:30.521Z"
   },
   {
    "duration": 34,
    "start_time": "2021-12-07T19:57:30.530Z"
   },
   {
    "duration": 41,
    "start_time": "2021-12-07T19:57:30.568Z"
   },
   {
    "duration": 7,
    "start_time": "2021-12-07T19:57:30.611Z"
   },
   {
    "duration": 21,
    "start_time": "2021-12-07T19:57:30.620Z"
   },
   {
    "duration": 24,
    "start_time": "2021-12-07T19:57:30.665Z"
   },
   {
    "duration": 17,
    "start_time": "2021-12-07T19:57:30.691Z"
   },
   {
    "duration": 16,
    "start_time": "2021-12-07T19:57:30.710Z"
   },
   {
    "duration": 37,
    "start_time": "2021-12-07T19:57:30.728Z"
   },
   {
    "duration": 4016,
    "start_time": "2021-12-07T19:57:30.768Z"
   },
   {
    "duration": 764,
    "start_time": "2021-12-07T19:57:34.786Z"
   },
   {
    "duration": 20,
    "start_time": "2021-12-07T19:57:35.552Z"
   },
   {
    "duration": 24,
    "start_time": "2021-12-07T19:57:35.575Z"
   },
   {
    "duration": 4,
    "start_time": "2021-12-07T19:57:35.601Z"
   },
   {
    "duration": 25,
    "start_time": "2021-12-07T19:57:35.607Z"
   },
   {
    "duration": 4,
    "start_time": "2021-12-07T19:57:35.634Z"
   },
   {
    "duration": 41,
    "start_time": "2021-12-07T19:57:35.640Z"
   },
   {
    "duration": 5,
    "start_time": "2021-12-07T19:57:35.684Z"
   },
   {
    "duration": 98,
    "start_time": "2021-12-07T20:13:31.121Z"
   },
   {
    "duration": 14,
    "start_time": "2021-12-07T20:13:31.222Z"
   },
   {
    "duration": 52,
    "start_time": "2021-12-07T20:13:31.240Z"
   },
   {
    "duration": 12,
    "start_time": "2021-12-07T20:13:31.295Z"
   },
   {
    "duration": 9,
    "start_time": "2021-12-07T20:13:31.310Z"
   },
   {
    "duration": 49,
    "start_time": "2021-12-07T20:13:31.321Z"
   },
   {
    "duration": 15,
    "start_time": "2021-12-07T20:13:31.372Z"
   },
   {
    "duration": 13,
    "start_time": "2021-12-07T20:13:31.390Z"
   },
   {
    "duration": 26,
    "start_time": "2021-12-07T20:13:31.405Z"
   },
   {
    "duration": 35,
    "start_time": "2021-12-07T20:13:31.433Z"
   },
   {
    "duration": 22,
    "start_time": "2021-12-07T20:13:31.470Z"
   },
   {
    "duration": 17,
    "start_time": "2021-12-07T20:13:31.494Z"
   },
   {
    "duration": 10,
    "start_time": "2021-12-07T20:13:31.514Z"
   },
   {
    "duration": 66,
    "start_time": "2021-12-07T20:13:31.527Z"
   },
   {
    "duration": 11,
    "start_time": "2021-12-07T20:13:31.595Z"
   },
   {
    "duration": 36,
    "start_time": "2021-12-07T20:13:31.609Z"
   },
   {
    "duration": 40,
    "start_time": "2021-12-07T20:13:31.647Z"
   },
   {
    "duration": 27,
    "start_time": "2021-12-07T20:13:31.690Z"
   },
   {
    "duration": 44,
    "start_time": "2021-12-07T20:13:31.720Z"
   },
   {
    "duration": 11,
    "start_time": "2021-12-07T20:13:31.766Z"
   },
   {
    "duration": 4274,
    "start_time": "2021-12-07T20:13:31.780Z"
   },
   {
    "duration": 1301,
    "start_time": "2021-12-07T20:13:36.063Z"
   },
   {
    "duration": 11,
    "start_time": "2021-12-07T20:13:37.369Z"
   },
   {
    "duration": 17,
    "start_time": "2021-12-07T20:13:37.383Z"
   },
   {
    "duration": 4,
    "start_time": "2021-12-07T20:13:37.402Z"
   },
   {
    "duration": 20,
    "start_time": "2021-12-07T20:13:37.409Z"
   },
   {
    "duration": 6,
    "start_time": "2021-12-07T20:13:37.463Z"
   },
   {
    "duration": 24,
    "start_time": "2021-12-07T20:13:37.471Z"
   },
   {
    "duration": 16,
    "start_time": "2021-12-07T20:13:37.497Z"
   },
   {
    "duration": 29,
    "start_time": "2021-12-07T20:13:37.515Z"
   },
   {
    "duration": 22,
    "start_time": "2021-12-07T20:13:37.546Z"
   },
   {
    "duration": 8,
    "start_time": "2021-12-07T20:53:48.478Z"
   },
   {
    "duration": 805,
    "start_time": "2021-12-07T21:10:07.294Z"
   },
   {
    "duration": 12,
    "start_time": "2021-12-07T21:10:08.834Z"
   },
   {
    "duration": 45,
    "start_time": "2021-12-07T21:10:10.251Z"
   },
   {
    "duration": 10,
    "start_time": "2021-12-07T21:10:32.503Z"
   },
   {
    "duration": 15,
    "start_time": "2021-12-07T21:11:52.267Z"
   },
   {
    "duration": 14,
    "start_time": "2021-12-07T21:13:40.256Z"
   },
   {
    "duration": 25,
    "start_time": "2021-12-07T21:19:30.732Z"
   },
   {
    "duration": 82,
    "start_time": "2021-12-07T21:19:38.129Z"
   },
   {
    "duration": 7124,
    "start_time": "2021-12-07T21:19:43.861Z"
   },
   {
    "duration": 6045,
    "start_time": "2021-12-07T21:19:55.449Z"
   },
   {
    "duration": 69,
    "start_time": "2021-12-07T21:20:13.004Z"
   },
   {
    "duration": 17,
    "start_time": "2021-12-07T21:20:13.469Z"
   },
   {
    "duration": 33,
    "start_time": "2021-12-07T21:20:13.877Z"
   },
   {
    "duration": 11,
    "start_time": "2021-12-07T21:20:16.433Z"
   },
   {
    "duration": 12,
    "start_time": "2021-12-07T21:20:16.804Z"
   },
   {
    "duration": 23,
    "start_time": "2021-12-07T21:20:19.362Z"
   },
   {
    "duration": 17,
    "start_time": "2021-12-07T21:20:23.386Z"
   },
   {
    "duration": 10,
    "start_time": "2021-12-07T21:22:29.737Z"
   },
   {
    "duration": 13,
    "start_time": "2021-12-07T21:22:34.419Z"
   },
   {
    "duration": 13,
    "start_time": "2021-12-07T21:23:04.008Z"
   },
   {
    "duration": 26,
    "start_time": "2021-12-07T21:23:05.486Z"
   },
   {
    "duration": 20,
    "start_time": "2021-12-07T21:23:09.000Z"
   },
   {
    "duration": 22,
    "start_time": "2021-12-07T21:23:12.268Z"
   },
   {
    "duration": 900,
    "start_time": "2021-12-07T21:23:34.599Z"
   },
   {
    "duration": 12,
    "start_time": "2021-12-07T21:23:35.501Z"
   },
   {
    "duration": 54,
    "start_time": "2021-12-07T21:23:35.515Z"
   },
   {
    "duration": 14,
    "start_time": "2021-12-07T21:23:35.573Z"
   },
   {
    "duration": 12,
    "start_time": "2021-12-07T21:23:35.589Z"
   },
   {
    "duration": 16,
    "start_time": "2021-12-07T21:23:35.603Z"
   },
   {
    "duration": 64,
    "start_time": "2021-12-07T21:23:35.621Z"
   },
   {
    "duration": 15,
    "start_time": "2021-12-07T21:23:35.687Z"
   },
   {
    "duration": 14,
    "start_time": "2021-12-07T21:23:40.447Z"
   },
   {
    "duration": 22,
    "start_time": "2021-12-07T21:23:41.371Z"
   },
   {
    "duration": 19,
    "start_time": "2021-12-07T21:23:44.330Z"
   },
   {
    "duration": 21,
    "start_time": "2021-12-07T21:23:47.412Z"
   },
   {
    "duration": 12,
    "start_time": "2021-12-07T21:24:10.775Z"
   },
   {
    "duration": 19,
    "start_time": "2021-12-07T21:24:12.133Z"
   },
   {
    "duration": 65,
    "start_time": "2021-12-07T21:24:20.984Z"
   },
   {
    "duration": 18,
    "start_time": "2021-12-07T21:24:21.052Z"
   },
   {
    "duration": 52,
    "start_time": "2021-12-07T21:24:21.074Z"
   },
   {
    "duration": 9,
    "start_time": "2021-12-07T21:24:21.128Z"
   },
   {
    "duration": 41,
    "start_time": "2021-12-07T21:24:21.139Z"
   },
   {
    "duration": 28,
    "start_time": "2021-12-07T21:24:21.182Z"
   },
   {
    "duration": 25,
    "start_time": "2021-12-07T21:24:21.211Z"
   },
   {
    "duration": 20,
    "start_time": "2021-12-07T21:24:21.238Z"
   },
   {
    "duration": 71,
    "start_time": "2021-12-07T21:25:10.315Z"
   },
   {
    "duration": 10,
    "start_time": "2021-12-07T21:25:10.388Z"
   },
   {
    "duration": 44,
    "start_time": "2021-12-07T21:25:10.400Z"
   },
   {
    "duration": 19,
    "start_time": "2021-12-07T21:25:10.446Z"
   },
   {
    "duration": 18,
    "start_time": "2021-12-07T21:25:10.469Z"
   },
   {
    "duration": 15,
    "start_time": "2021-12-07T21:25:10.489Z"
   },
   {
    "duration": 23,
    "start_time": "2021-12-07T21:25:10.506Z"
   },
   {
    "duration": 4,
    "start_time": "2021-12-07T21:25:10.531Z"
   },
   {
    "duration": 55,
    "start_time": "2021-12-07T21:25:10.538Z"
   },
   {
    "duration": 31,
    "start_time": "2021-12-07T21:25:12.975Z"
   },
   {
    "duration": 16,
    "start_time": "2021-12-07T21:28:56.607Z"
   },
   {
    "duration": 24,
    "start_time": "2021-12-07T21:28:57.532Z"
   },
   {
    "duration": 683,
    "start_time": "2021-12-07T21:29:21.406Z"
   },
   {
    "duration": 12,
    "start_time": "2021-12-07T21:29:22.091Z"
   },
   {
    "duration": 31,
    "start_time": "2021-12-07T21:29:22.105Z"
   },
   {
    "duration": 30,
    "start_time": "2021-12-07T21:29:22.138Z"
   },
   {
    "duration": 17,
    "start_time": "2021-12-07T21:29:22.171Z"
   },
   {
    "duration": 14,
    "start_time": "2021-12-07T21:29:22.190Z"
   },
   {
    "duration": 21,
    "start_time": "2021-12-07T21:29:22.206Z"
   },
   {
    "duration": 55,
    "start_time": "2021-12-07T21:29:22.229Z"
   },
   {
    "duration": 24,
    "start_time": "2021-12-07T21:29:22.287Z"
   },
   {
    "duration": 13,
    "start_time": "2021-12-07T21:29:51.899Z"
   },
   {
    "duration": 7,
    "start_time": "2021-12-07T21:34:10.926Z"
   },
   {
    "duration": 8,
    "start_time": "2021-12-07T21:34:18.447Z"
   },
   {
    "duration": 8,
    "start_time": "2021-12-07T21:37:10.676Z"
   },
   {
    "duration": 8,
    "start_time": "2021-12-07T21:37:14.930Z"
   },
   {
    "duration": 8,
    "start_time": "2021-12-07T21:37:18.012Z"
   },
   {
    "duration": 8,
    "start_time": "2021-12-07T21:40:15.543Z"
   },
   {
    "duration": 31,
    "start_time": "2021-12-07T21:40:16.036Z"
   },
   {
    "duration": 10,
    "start_time": "2021-12-07T21:57:46.735Z"
   },
   {
    "duration": 23,
    "start_time": "2021-12-07T21:57:49.755Z"
   },
   {
    "duration": 19,
    "start_time": "2021-12-07T21:57:59.125Z"
   },
   {
    "duration": 20,
    "start_time": "2021-12-07T21:58:03.133Z"
   },
   {
    "duration": 21,
    "start_time": "2021-12-07T21:58:03.563Z"
   },
   {
    "duration": 326,
    "start_time": "2021-12-08T07:38:59.938Z"
   },
   {
    "duration": 680,
    "start_time": "2021-12-08T07:39:07.064Z"
   },
   {
    "duration": 12,
    "start_time": "2021-12-08T07:39:07.745Z"
   },
   {
    "duration": 45,
    "start_time": "2021-12-08T07:39:07.759Z"
   },
   {
    "duration": 13,
    "start_time": "2021-12-08T07:39:07.806Z"
   },
   {
    "duration": 29,
    "start_time": "2021-12-08T07:39:07.821Z"
   },
   {
    "duration": 31,
    "start_time": "2021-12-08T07:39:07.852Z"
   },
   {
    "duration": 34,
    "start_time": "2021-12-08T07:39:07.885Z"
   },
   {
    "duration": 27,
    "start_time": "2021-12-08T07:39:07.921Z"
   },
   {
    "duration": 27,
    "start_time": "2021-12-08T07:39:07.951Z"
   },
   {
    "duration": 7,
    "start_time": "2021-12-08T07:39:07.979Z"
   },
   {
    "duration": 33,
    "start_time": "2021-12-08T07:39:07.988Z"
   },
   {
    "duration": 37,
    "start_time": "2021-12-08T07:39:08.023Z"
   },
   {
    "duration": 11,
    "start_time": "2021-12-08T07:39:08.062Z"
   },
   {
    "duration": 44,
    "start_time": "2021-12-08T07:39:08.075Z"
   },
   {
    "duration": 8,
    "start_time": "2021-12-08T07:39:08.122Z"
   },
   {
    "duration": 29,
    "start_time": "2021-12-08T07:39:08.132Z"
   },
   {
    "duration": 19,
    "start_time": "2021-12-08T07:39:08.162Z"
   },
   {
    "duration": 17,
    "start_time": "2021-12-08T07:39:08.182Z"
   },
   {
    "duration": 45,
    "start_time": "2021-12-08T07:39:08.201Z"
   },
   {
    "duration": 16,
    "start_time": "2021-12-08T07:39:09.479Z"
   },
   {
    "duration": 7,
    "start_time": "2021-12-08T07:39:09.911Z"
   },
   {
    "duration": 7,
    "start_time": "2021-12-08T07:40:18.318Z"
   },
   {
    "duration": 9,
    "start_time": "2021-12-08T07:40:53.323Z"
   },
   {
    "duration": 9,
    "start_time": "2021-12-08T07:43:35.845Z"
   },
   {
    "duration": 8,
    "start_time": "2021-12-08T07:46:15.229Z"
   },
   {
    "duration": 29,
    "start_time": "2021-12-08T07:46:18.056Z"
   },
   {
    "duration": 39,
    "start_time": "2021-12-08T07:47:14.818Z"
   },
   {
    "duration": 32,
    "start_time": "2021-12-08T07:47:22.648Z"
   },
   {
    "duration": 35,
    "start_time": "2021-12-08T07:51:19.986Z"
   },
   {
    "duration": 39,
    "start_time": "2021-12-08T07:52:34.742Z"
   },
   {
    "duration": 62,
    "start_time": "2021-12-08T08:10:00.260Z"
   },
   {
    "duration": 10,
    "start_time": "2021-12-08T08:10:00.324Z"
   },
   {
    "duration": 41,
    "start_time": "2021-12-08T08:10:00.336Z"
   },
   {
    "duration": 9,
    "start_time": "2021-12-08T08:10:00.379Z"
   },
   {
    "duration": 25,
    "start_time": "2021-12-08T08:10:00.390Z"
   },
   {
    "duration": 24,
    "start_time": "2021-12-08T08:10:00.416Z"
   },
   {
    "duration": 45,
    "start_time": "2021-12-08T08:10:00.441Z"
   },
   {
    "duration": 13,
    "start_time": "2021-12-08T08:10:00.488Z"
   },
   {
    "duration": 28,
    "start_time": "2021-12-08T08:10:00.503Z"
   },
   {
    "duration": 31,
    "start_time": "2021-12-08T08:10:00.533Z"
   },
   {
    "duration": 36,
    "start_time": "2021-12-08T08:10:00.566Z"
   },
   {
    "duration": 23,
    "start_time": "2021-12-08T08:10:00.603Z"
   },
   {
    "duration": 24,
    "start_time": "2021-12-08T08:10:00.628Z"
   },
   {
    "duration": 33,
    "start_time": "2021-12-08T08:10:00.653Z"
   },
   {
    "duration": 13,
    "start_time": "2021-12-08T08:10:00.688Z"
   },
   {
    "duration": 19,
    "start_time": "2021-12-08T08:10:00.703Z"
   },
   {
    "duration": 20,
    "start_time": "2021-12-08T08:10:00.723Z"
   },
   {
    "duration": 24,
    "start_time": "2021-12-08T08:10:00.745Z"
   },
   {
    "duration": 18,
    "start_time": "2021-12-08T08:10:00.771Z"
   },
   {
    "duration": 16,
    "start_time": "2021-12-08T08:10:00.791Z"
   },
   {
    "duration": 16,
    "start_time": "2021-12-08T08:10:00.808Z"
   },
   {
    "duration": 3692,
    "start_time": "2021-12-08T08:10:00.826Z"
   },
   {
    "duration": 997,
    "start_time": "2021-12-08T08:10:09.410Z"
   },
   {
    "duration": 688,
    "start_time": "2021-12-08T08:10:19.388Z"
   },
   {
    "duration": 81,
    "start_time": "2021-12-08T08:10:36.412Z"
   },
   {
    "duration": 11,
    "start_time": "2021-12-08T08:10:36.495Z"
   },
   {
    "duration": 46,
    "start_time": "2021-12-08T08:10:36.509Z"
   },
   {
    "duration": 10,
    "start_time": "2021-12-08T08:10:36.557Z"
   },
   {
    "duration": 11,
    "start_time": "2021-12-08T08:10:36.569Z"
   },
   {
    "duration": 13,
    "start_time": "2021-12-08T08:10:36.581Z"
   },
   {
    "duration": 48,
    "start_time": "2021-12-08T08:10:36.596Z"
   },
   {
    "duration": 14,
    "start_time": "2021-12-08T08:10:36.647Z"
   },
   {
    "duration": 32,
    "start_time": "2021-12-08T08:10:36.663Z"
   },
   {
    "duration": 5,
    "start_time": "2021-12-08T08:10:36.697Z"
   },
   {
    "duration": 9,
    "start_time": "2021-12-08T08:10:36.704Z"
   },
   {
    "duration": 31,
    "start_time": "2021-12-08T08:10:36.714Z"
   },
   {
    "duration": 8,
    "start_time": "2021-12-08T08:10:36.747Z"
   },
   {
    "duration": 16,
    "start_time": "2021-12-08T08:10:36.757Z"
   },
   {
    "duration": 8,
    "start_time": "2021-12-08T08:10:36.774Z"
   },
   {
    "duration": 16,
    "start_time": "2021-12-08T08:10:36.783Z"
   },
   {
    "duration": 20,
    "start_time": "2021-12-08T08:10:36.801Z"
   },
   {
    "duration": 31,
    "start_time": "2021-12-08T08:10:36.823Z"
   },
   {
    "duration": 19,
    "start_time": "2021-12-08T08:10:36.856Z"
   },
   {
    "duration": 17,
    "start_time": "2021-12-08T08:10:36.877Z"
   },
   {
    "duration": 8,
    "start_time": "2021-12-08T08:10:36.897Z"
   },
   {
    "duration": 3539,
    "start_time": "2021-12-08T08:10:36.907Z"
   },
   {
    "duration": 706,
    "start_time": "2021-12-08T08:10:43.304Z"
   },
   {
    "duration": 9,
    "start_time": "2021-12-08T08:13:28.946Z"
   },
   {
    "duration": 8,
    "start_time": "2021-12-08T08:13:33.007Z"
   },
   {
    "duration": 15,
    "start_time": "2021-12-08T08:27:42.508Z"
   },
   {
    "duration": 4,
    "start_time": "2021-12-08T08:27:43.733Z"
   },
   {
    "duration": 130,
    "start_time": "2021-12-08T08:36:11.102Z"
   },
   {
    "duration": 20,
    "start_time": "2021-12-08T08:36:11.235Z"
   },
   {
    "duration": 58,
    "start_time": "2021-12-08T08:36:11.257Z"
   },
   {
    "duration": 17,
    "start_time": "2021-12-08T08:36:11.318Z"
   },
   {
    "duration": 34,
    "start_time": "2021-12-08T08:36:11.337Z"
   },
   {
    "duration": 46,
    "start_time": "2021-12-08T08:36:11.373Z"
   },
   {
    "duration": 60,
    "start_time": "2021-12-08T08:36:11.430Z"
   },
   {
    "duration": 31,
    "start_time": "2021-12-08T08:36:11.497Z"
   },
   {
    "duration": 35,
    "start_time": "2021-12-08T08:36:11.532Z"
   },
   {
    "duration": 9,
    "start_time": "2021-12-08T08:36:11.569Z"
   },
   {
    "duration": 12,
    "start_time": "2021-12-08T08:36:11.580Z"
   },
   {
    "duration": 20,
    "start_time": "2021-12-08T08:36:11.594Z"
   },
   {
    "duration": 32,
    "start_time": "2021-12-08T08:36:11.617Z"
   },
   {
    "duration": 7,
    "start_time": "2021-12-08T08:36:11.651Z"
   },
   {
    "duration": 7,
    "start_time": "2021-12-08T08:36:11.660Z"
   },
   {
    "duration": 9,
    "start_time": "2021-12-08T08:36:11.668Z"
   },
   {
    "duration": 19,
    "start_time": "2021-12-08T08:36:11.679Z"
   },
   {
    "duration": 17,
    "start_time": "2021-12-08T08:36:11.699Z"
   },
   {
    "duration": 44,
    "start_time": "2021-12-08T08:36:11.717Z"
   },
   {
    "duration": 15,
    "start_time": "2021-12-08T08:36:11.763Z"
   },
   {
    "duration": 8,
    "start_time": "2021-12-08T08:36:11.780Z"
   },
   {
    "duration": 3774,
    "start_time": "2021-12-08T08:36:11.789Z"
   },
   {
    "duration": 720,
    "start_time": "2021-12-08T08:36:15.566Z"
   },
   {
    "duration": 7,
    "start_time": "2021-12-08T08:36:16.288Z"
   },
   {
    "duration": 44,
    "start_time": "2021-12-08T08:36:16.296Z"
   },
   {
    "duration": 9,
    "start_time": "2021-12-08T08:36:16.342Z"
   },
   {
    "duration": 36,
    "start_time": "2021-12-08T08:36:16.353Z"
   },
   {
    "duration": 30,
    "start_time": "2021-12-08T08:36:16.391Z"
   },
   {
    "duration": 37,
    "start_time": "2021-12-08T08:36:16.423Z"
   },
   {
    "duration": 11,
    "start_time": "2021-12-08T08:36:16.461Z"
   },
   {
    "duration": 46,
    "start_time": "2021-12-08T08:36:16.473Z"
   },
   {
    "duration": 8,
    "start_time": "2021-12-08T08:36:16.521Z"
   },
   {
    "duration": 972,
    "start_time": "2021-12-09T02:20:59.873Z"
   },
   {
    "duration": 15,
    "start_time": "2021-12-09T02:21:00.847Z"
   },
   {
    "duration": 61,
    "start_time": "2021-12-09T02:21:00.865Z"
   },
   {
    "duration": 14,
    "start_time": "2021-12-09T02:21:00.929Z"
   },
   {
    "duration": 22,
    "start_time": "2021-12-09T02:21:00.945Z"
   },
   {
    "duration": 19,
    "start_time": "2021-12-09T02:21:00.970Z"
   },
   {
    "duration": 30,
    "start_time": "2021-12-09T02:21:01.024Z"
   },
   {
    "duration": 19,
    "start_time": "2021-12-09T02:21:01.060Z"
   },
   {
    "duration": 66,
    "start_time": "2021-12-09T02:21:01.083Z"
   },
   {
    "duration": 8,
    "start_time": "2021-12-09T02:21:01.151Z"
   },
   {
    "duration": 16,
    "start_time": "2021-12-09T02:21:01.161Z"
   },
   {
    "duration": 19,
    "start_time": "2021-12-09T02:21:01.179Z"
   },
   {
    "duration": 26,
    "start_time": "2021-12-09T02:21:01.200Z"
   },
   {
    "duration": 25,
    "start_time": "2021-12-09T02:21:01.228Z"
   },
   {
    "duration": 22,
    "start_time": "2021-12-09T02:21:01.256Z"
   },
   {
    "duration": 25,
    "start_time": "2021-12-09T02:21:01.280Z"
   },
   {
    "duration": 29,
    "start_time": "2021-12-09T02:21:01.307Z"
   },
   {
    "duration": 30,
    "start_time": "2021-12-09T02:21:01.339Z"
   },
   {
    "duration": 22,
    "start_time": "2021-12-09T02:21:01.372Z"
   },
   {
    "duration": 28,
    "start_time": "2021-12-09T02:21:01.396Z"
   },
   {
    "duration": 10,
    "start_time": "2021-12-09T02:21:01.426Z"
   },
   {
    "duration": 4628,
    "start_time": "2021-12-09T02:21:01.438Z"
   },
   {
    "duration": 1156,
    "start_time": "2021-12-09T02:21:06.071Z"
   },
   {
    "duration": 9,
    "start_time": "2021-12-09T02:21:07.230Z"
   },
   {
    "duration": 24,
    "start_time": "2021-12-09T02:21:07.241Z"
   },
   {
    "duration": 6,
    "start_time": "2021-12-09T02:21:07.267Z"
   },
   {
    "duration": 56,
    "start_time": "2021-12-09T02:21:07.275Z"
   },
   {
    "duration": 6,
    "start_time": "2021-12-09T02:21:07.333Z"
   },
   {
    "duration": 21,
    "start_time": "2021-12-09T02:21:07.341Z"
   },
   {
    "duration": 7,
    "start_time": "2021-12-09T02:21:07.364Z"
   },
   {
    "duration": 59,
    "start_time": "2021-12-09T02:21:07.374Z"
   },
   {
    "duration": 7,
    "start_time": "2021-12-09T02:21:07.436Z"
   },
   {
    "duration": 278,
    "start_time": "2021-12-09T02:21:47.610Z"
   },
   {
    "duration": 6,
    "start_time": "2021-12-09T02:27:37.043Z"
   },
   {
    "duration": 139,
    "start_time": "2021-12-09T02:38:39.137Z"
   },
   {
    "duration": 6,
    "start_time": "2021-12-09T02:47:50.569Z"
   },
   {
    "duration": 30,
    "start_time": "2021-12-09T02:48:26.764Z"
   },
   {
    "duration": 795,
    "start_time": "2021-12-09T03:25:26.948Z"
   },
   {
    "duration": 14,
    "start_time": "2021-12-09T03:25:27.746Z"
   },
   {
    "duration": 60,
    "start_time": "2021-12-09T03:25:27.764Z"
   },
   {
    "duration": 13,
    "start_time": "2021-12-09T03:25:27.827Z"
   },
   {
    "duration": 13,
    "start_time": "2021-12-09T03:25:27.843Z"
   },
   {
    "duration": 17,
    "start_time": "2021-12-09T03:25:27.858Z"
   },
   {
    "duration": 64,
    "start_time": "2021-12-09T03:25:27.877Z"
   },
   {
    "duration": 17,
    "start_time": "2021-12-09T03:25:27.943Z"
   },
   {
    "duration": 27,
    "start_time": "2021-12-09T03:25:27.964Z"
   },
   {
    "duration": 7,
    "start_time": "2021-12-09T03:25:28.023Z"
   },
   {
    "duration": 11,
    "start_time": "2021-12-09T03:25:28.033Z"
   },
   {
    "duration": 9,
    "start_time": "2021-12-09T03:25:28.047Z"
   },
   {
    "duration": 8,
    "start_time": "2021-12-09T03:25:28.059Z"
   },
   {
    "duration": 58,
    "start_time": "2021-12-09T03:25:28.070Z"
   },
   {
    "duration": 9,
    "start_time": "2021-12-09T03:25:28.131Z"
   },
   {
    "duration": 10,
    "start_time": "2021-12-09T03:25:28.142Z"
   },
   {
    "duration": 24,
    "start_time": "2021-12-09T03:25:28.154Z"
   },
   {
    "duration": 59,
    "start_time": "2021-12-09T03:25:28.181Z"
   },
   {
    "duration": 34,
    "start_time": "2021-12-09T03:25:28.243Z"
   },
   {
    "duration": 55,
    "start_time": "2021-12-09T03:25:28.280Z"
   },
   {
    "duration": 12,
    "start_time": "2021-12-09T03:25:28.338Z"
   },
   {
    "duration": 4704,
    "start_time": "2021-12-09T03:25:28.353Z"
   },
   {
    "duration": 1091,
    "start_time": "2021-12-09T03:25:33.059Z"
   },
   {
    "duration": 9,
    "start_time": "2021-12-09T03:25:34.153Z"
   },
   {
    "duration": 27,
    "start_time": "2021-12-09T03:25:34.165Z"
   },
   {
    "duration": 30,
    "start_time": "2021-12-09T03:25:34.194Z"
   },
   {
    "duration": 20,
    "start_time": "2021-12-09T03:25:34.229Z"
   },
   {
    "duration": 6,
    "start_time": "2021-12-09T03:25:34.251Z"
   },
   {
    "duration": 20,
    "start_time": "2021-12-09T03:25:34.260Z"
   },
   {
    "duration": 41,
    "start_time": "2021-12-09T03:25:34.283Z"
   },
   {
    "duration": 20,
    "start_time": "2021-12-09T03:25:34.327Z"
   },
   {
    "duration": 6,
    "start_time": "2021-12-09T03:25:34.349Z"
   },
   {
    "duration": 171,
    "start_time": "2021-12-09T08:03:06.827Z"
   },
   {
    "duration": 358,
    "start_time": "2021-12-09T08:09:24.960Z"
   },
   {
    "duration": 831,
    "start_time": "2021-12-09T08:09:31.708Z"
   },
   {
    "duration": 15,
    "start_time": "2021-12-09T08:09:32.541Z"
   },
   {
    "duration": 53,
    "start_time": "2021-12-09T08:09:32.568Z"
   },
   {
    "duration": 15,
    "start_time": "2021-12-09T08:09:32.623Z"
   },
   {
    "duration": 17,
    "start_time": "2021-12-09T08:09:32.668Z"
   },
   {
    "duration": 13,
    "start_time": "2021-12-09T08:09:34.622Z"
   },
   {
    "duration": 15,
    "start_time": "2021-12-09T08:10:09.388Z"
   },
   {
    "duration": 103,
    "start_time": "2021-12-09T08:11:35.376Z"
   },
   {
    "duration": 106,
    "start_time": "2021-12-09T08:12:10.022Z"
   },
   {
    "duration": 86,
    "start_time": "2021-12-09T08:12:15.140Z"
   },
   {
    "duration": 14,
    "start_time": "2021-12-09T08:12:15.229Z"
   },
   {
    "duration": 65,
    "start_time": "2021-12-09T08:12:15.246Z"
   },
   {
    "duration": 93,
    "start_time": "2021-12-09T08:12:17.293Z"
   },
   {
    "duration": 138,
    "start_time": "2021-12-09T08:12:53.231Z"
   },
   {
    "duration": 5,
    "start_time": "2021-12-09T08:42:35.868Z"
   },
   {
    "duration": 14,
    "start_time": "2021-12-09T08:43:46.315Z"
   },
   {
    "duration": 79,
    "start_time": "2021-12-09T08:43:51.663Z"
   },
   {
    "duration": 14,
    "start_time": "2021-12-09T08:43:51.745Z"
   },
   {
    "duration": 46,
    "start_time": "2021-12-09T08:43:51.768Z"
   },
   {
    "duration": 16,
    "start_time": "2021-12-09T08:43:51.816Z"
   },
   {
    "duration": 9,
    "start_time": "2021-12-09T08:55:46.292Z"
   },
   {
    "duration": 16,
    "start_time": "2021-12-09T09:00:54.563Z"
   },
   {
    "duration": 21,
    "start_time": "2021-12-09T09:01:07.437Z"
   },
   {
    "duration": 81,
    "start_time": "2021-12-09T09:01:13.401Z"
   },
   {
    "duration": 14,
    "start_time": "2021-12-09T09:01:13.485Z"
   },
   {
    "duration": 64,
    "start_time": "2021-12-09T09:01:13.503Z"
   },
   {
    "duration": 14,
    "start_time": "2021-12-09T09:01:13.569Z"
   },
   {
    "duration": 13,
    "start_time": "2021-12-09T09:01:13.586Z"
   },
   {
    "duration": 15,
    "start_time": "2021-12-09T09:01:15.944Z"
   },
   {
    "duration": 22,
    "start_time": "2021-12-09T09:01:16.561Z"
   },
   {
    "duration": 333,
    "start_time": "2021-12-09T09:08:28.738Z"
   },
   {
    "duration": 81,
    "start_time": "2021-12-09T09:08:37.470Z"
   },
   {
    "duration": 21,
    "start_time": "2021-12-09T09:08:37.554Z"
   },
   {
    "duration": 47,
    "start_time": "2021-12-09T09:08:37.578Z"
   },
   {
    "duration": 43,
    "start_time": "2021-12-09T09:08:37.628Z"
   },
   {
    "duration": 16,
    "start_time": "2021-12-09T09:08:37.674Z"
   },
   {
    "duration": 13,
    "start_time": "2021-12-09T09:08:38.963Z"
   },
   {
    "duration": 293,
    "start_time": "2021-12-09T09:08:39.336Z"
   },
   {
    "duration": 387,
    "start_time": "2021-12-09T09:10:52.615Z"
   },
   {
    "duration": 321,
    "start_time": "2021-12-09T09:17:50.364Z"
   },
   {
    "duration": 82,
    "start_time": "2021-12-09T09:18:12.880Z"
   },
   {
    "duration": 15,
    "start_time": "2021-12-09T09:18:12.964Z"
   },
   {
    "duration": 49,
    "start_time": "2021-12-09T09:18:12.982Z"
   },
   {
    "duration": 39,
    "start_time": "2021-12-09T09:18:13.034Z"
   },
   {
    "duration": 13,
    "start_time": "2021-12-09T09:18:13.076Z"
   },
   {
    "duration": 15,
    "start_time": "2021-12-09T09:18:14.282Z"
   },
   {
    "duration": 354,
    "start_time": "2021-12-09T09:18:14.899Z"
   },
   {
    "duration": 401,
    "start_time": "2021-12-09T09:18:21.741Z"
   },
   {
    "duration": 77,
    "start_time": "2021-12-09T09:29:08.975Z"
   },
   {
    "duration": 91,
    "start_time": "2021-12-09T09:33:15.344Z"
   },
   {
    "duration": 81,
    "start_time": "2021-12-09T09:33:26.423Z"
   },
   {
    "duration": 16,
    "start_time": "2021-12-09T09:33:26.507Z"
   },
   {
    "duration": 69,
    "start_time": "2021-12-09T09:33:26.526Z"
   },
   {
    "duration": 14,
    "start_time": "2021-12-09T09:33:26.598Z"
   },
   {
    "duration": 25,
    "start_time": "2021-12-09T09:33:26.614Z"
   },
   {
    "duration": 14,
    "start_time": "2021-12-09T09:33:28.414Z"
   },
   {
    "duration": 57,
    "start_time": "2021-12-09T09:33:28.843Z"
   },
   {
    "duration": 14,
    "start_time": "2021-12-09T09:33:32.542Z"
   },
   {
    "duration": 57,
    "start_time": "2021-12-09T09:33:32.912Z"
   },
   {
    "duration": 77,
    "start_time": "2021-12-09T09:33:51.466Z"
   },
   {
    "duration": 67,
    "start_time": "2021-12-09T09:34:07.247Z"
   },
   {
    "duration": 12,
    "start_time": "2021-12-09T09:34:47.742Z"
   },
   {
    "duration": 89,
    "start_time": "2021-12-09T09:34:55.241Z"
   },
   {
    "duration": 16,
    "start_time": "2021-12-09T09:34:55.332Z"
   },
   {
    "duration": 61,
    "start_time": "2021-12-09T09:34:55.351Z"
   },
   {
    "duration": 17,
    "start_time": "2021-12-09T09:34:55.416Z"
   },
   {
    "duration": 43,
    "start_time": "2021-12-09T09:34:55.435Z"
   },
   {
    "duration": 15,
    "start_time": "2021-12-09T09:34:56.310Z"
   },
   {
    "duration": 72,
    "start_time": "2021-12-09T09:34:56.863Z"
   },
   {
    "duration": 172,
    "start_time": "2021-12-09T09:40:21.035Z"
   },
   {
    "duration": 83,
    "start_time": "2021-12-09T09:55:34.453Z"
   },
   {
    "duration": 29,
    "start_time": "2021-12-09T09:55:34.540Z"
   },
   {
    "duration": 68,
    "start_time": "2021-12-09T09:55:34.573Z"
   },
   {
    "duration": 21,
    "start_time": "2021-12-09T09:55:34.668Z"
   },
   {
    "duration": 22,
    "start_time": "2021-12-09T09:55:34.692Z"
   },
   {
    "duration": 126,
    "start_time": "2021-12-09T09:55:34.717Z"
   },
   {
    "duration": 19,
    "start_time": "2021-12-09T09:55:46.937Z"
   },
   {
    "duration": 33,
    "start_time": "2021-12-09T09:55:54.026Z"
   },
   {
    "duration": 19,
    "start_time": "2021-12-09T09:56:00.929Z"
   },
   {
    "duration": 31,
    "start_time": "2021-12-09T09:56:03.333Z"
   },
   {
    "duration": 8,
    "start_time": "2021-12-09T09:56:07.092Z"
   },
   {
    "duration": 13,
    "start_time": "2021-12-09T09:56:09.742Z"
   },
   {
    "duration": 9,
    "start_time": "2021-12-09T09:56:12.393Z"
   },
   {
    "duration": 14,
    "start_time": "2021-12-09T09:56:15.537Z"
   },
   {
    "duration": 4795,
    "start_time": "2021-12-09T09:57:51.012Z"
   },
   {
    "duration": 103,
    "start_time": "2021-12-09T09:57:58.502Z"
   },
   {
    "duration": 16,
    "start_time": "2021-12-09T09:57:58.608Z"
   },
   {
    "duration": 78,
    "start_time": "2021-12-09T09:57:58.627Z"
   },
   {
    "duration": 14,
    "start_time": "2021-12-09T09:57:58.708Z"
   },
   {
    "duration": 45,
    "start_time": "2021-12-09T09:57:58.724Z"
   },
   {
    "duration": 70,
    "start_time": "2021-12-09T09:57:58.772Z"
   },
   {
    "duration": 40,
    "start_time": "2021-12-09T09:57:58.844Z"
   },
   {
    "duration": 28,
    "start_time": "2021-12-09T09:57:58.887Z"
   },
   {
    "duration": 53,
    "start_time": "2021-12-09T09:57:58.918Z"
   },
   {
    "duration": 34,
    "start_time": "2021-12-09T09:57:58.974Z"
   },
   {
    "duration": 9,
    "start_time": "2021-12-09T09:57:59.010Z"
   },
   {
    "duration": 47,
    "start_time": "2021-12-09T09:57:59.022Z"
   },
   {
    "duration": 15,
    "start_time": "2021-12-09T09:57:59.072Z"
   },
   {
    "duration": 11,
    "start_time": "2021-12-09T09:58:00.874Z"
   },
   {
    "duration": 14,
    "start_time": "2021-12-09T09:58:01.798Z"
   },
   {
    "duration": 12,
    "start_time": "2021-12-09T10:07:33.703Z"
   },
   {
    "duration": 13,
    "start_time": "2021-12-09T10:07:35.241Z"
   },
   {
    "duration": 11,
    "start_time": "2021-12-09T10:07:37.030Z"
   },
   {
    "duration": 24,
    "start_time": "2021-12-09T10:07:38.449Z"
   },
   {
    "duration": 26,
    "start_time": "2021-12-09T10:07:38.942Z"
   },
   {
    "duration": 26,
    "start_time": "2021-12-09T10:07:39.249Z"
   },
   {
    "duration": 24,
    "start_time": "2021-12-09T10:07:40.051Z"
   },
   {
    "duration": 112,
    "start_time": "2021-12-09T10:10:39.848Z"
   },
   {
    "duration": 112,
    "start_time": "2021-12-09T10:11:00.611Z"
   },
   {
    "duration": 443,
    "start_time": "2021-12-09T10:12:38.925Z"
   },
   {
    "duration": 757,
    "start_time": "2021-12-09T10:12:39.594Z"
   },
   {
    "duration": 48,
    "start_time": "2021-12-09T10:12:40.354Z"
   },
   {
    "duration": 83,
    "start_time": "2021-12-09T10:12:46.688Z"
   },
   {
    "duration": 14,
    "start_time": "2021-12-09T10:12:46.774Z"
   },
   {
    "duration": 56,
    "start_time": "2021-12-09T10:12:46.791Z"
   },
   {
    "duration": 15,
    "start_time": "2021-12-09T10:12:46.867Z"
   },
   {
    "duration": 14,
    "start_time": "2021-12-09T10:12:46.884Z"
   },
   {
    "duration": 102,
    "start_time": "2021-12-09T10:12:46.901Z"
   },
   {
    "duration": 18,
    "start_time": "2021-12-09T10:12:47.005Z"
   },
   {
    "duration": 48,
    "start_time": "2021-12-09T10:12:47.027Z"
   },
   {
    "duration": 18,
    "start_time": "2021-12-09T10:12:47.078Z"
   },
   {
    "duration": 31,
    "start_time": "2021-12-09T10:12:47.099Z"
   },
   {
    "duration": 36,
    "start_time": "2021-12-09T10:12:47.132Z"
   },
   {
    "duration": 11,
    "start_time": "2021-12-09T10:12:47.171Z"
   },
   {
    "duration": 9,
    "start_time": "2021-12-09T10:12:47.184Z"
   },
   {
    "duration": 9,
    "start_time": "2021-12-09T10:12:47.195Z"
   },
   {
    "duration": 16,
    "start_time": "2021-12-09T10:12:47.206Z"
   },
   {
    "duration": 51,
    "start_time": "2021-12-09T10:12:47.224Z"
   },
   {
    "duration": 11,
    "start_time": "2021-12-09T10:12:47.278Z"
   },
   {
    "duration": 39,
    "start_time": "2021-12-09T10:12:47.291Z"
   },
   {
    "duration": 52,
    "start_time": "2021-12-09T10:12:47.333Z"
   },
   {
    "duration": 25,
    "start_time": "2021-12-09T10:12:47.388Z"
   },
   {
    "duration": 22,
    "start_time": "2021-12-09T10:12:47.415Z"
   },
   {
    "duration": 31,
    "start_time": "2021-12-09T10:12:47.439Z"
   },
   {
    "duration": 4696,
    "start_time": "2021-12-09T10:12:47.475Z"
   },
   {
    "duration": 471,
    "start_time": "2021-12-09T10:12:52.173Z"
   },
   {
    "duration": 778,
    "start_time": "2021-12-09T10:12:52.646Z"
   },
   {
    "duration": 10,
    "start_time": "2021-12-09T10:17:00.796Z"
   },
   {
    "duration": 114,
    "start_time": "2021-12-09T10:18:14.627Z"
   },
   {
    "duration": 34,
    "start_time": "2021-12-09T10:18:14.744Z"
   },
   {
    "duration": 48,
    "start_time": "2021-12-09T10:18:14.781Z"
   },
   {
    "duration": 39,
    "start_time": "2021-12-09T10:18:14.832Z"
   },
   {
    "duration": 14,
    "start_time": "2021-12-09T10:18:14.873Z"
   },
   {
    "duration": 94,
    "start_time": "2021-12-09T10:18:14.889Z"
   },
   {
    "duration": 18,
    "start_time": "2021-12-09T10:18:14.985Z"
   },
   {
    "duration": 26,
    "start_time": "2021-12-09T10:18:15.006Z"
   },
   {
    "duration": 49,
    "start_time": "2021-12-09T10:18:15.035Z"
   },
   {
    "duration": 34,
    "start_time": "2021-12-09T10:18:15.086Z"
   },
   {
    "duration": 8,
    "start_time": "2021-12-09T10:18:15.123Z"
   },
   {
    "duration": 47,
    "start_time": "2021-12-09T10:18:15.133Z"
   },
   {
    "duration": 12,
    "start_time": "2021-12-09T10:18:15.183Z"
   },
   {
    "duration": 11,
    "start_time": "2021-12-09T10:18:15.198Z"
   },
   {
    "duration": 56,
    "start_time": "2021-12-09T10:18:15.211Z"
   },
   {
    "duration": 9,
    "start_time": "2021-12-09T10:18:15.270Z"
   },
   {
    "duration": 14,
    "start_time": "2021-12-09T10:18:15.282Z"
   },
   {
    "duration": 25,
    "start_time": "2021-12-09T10:18:15.298Z"
   },
   {
    "duration": 57,
    "start_time": "2021-12-09T10:18:15.325Z"
   },
   {
    "duration": 26,
    "start_time": "2021-12-09T10:18:15.384Z"
   },
   {
    "duration": 23,
    "start_time": "2021-12-09T10:18:15.412Z"
   },
   {
    "duration": 38,
    "start_time": "2021-12-09T10:18:15.437Z"
   },
   {
    "duration": 4699,
    "start_time": "2021-12-09T10:18:15.481Z"
   },
   {
    "duration": 489,
    "start_time": "2021-12-09T10:18:20.182Z"
   },
   {
    "duration": 772,
    "start_time": "2021-12-09T10:18:20.674Z"
   },
   {
    "duration": 54,
    "start_time": "2021-12-09T10:18:21.448Z"
   },
   {
    "duration": 10,
    "start_time": "2021-12-09T10:18:21.505Z"
   },
   {
    "duration": 11,
    "start_time": "2021-12-09T10:18:25.846Z"
   },
   {
    "duration": 10,
    "start_time": "2021-12-09T10:18:26.400Z"
   },
   {
    "duration": 574,
    "start_time": "2021-12-09T10:27:38.942Z"
   },
   {
    "duration": -1034,
    "start_time": "2021-12-09T10:27:40.554Z"
   },
   {
    "duration": 118,
    "start_time": "2021-12-09T10:27:48.464Z"
   },
   {
    "duration": 15,
    "start_time": "2021-12-09T10:27:48.585Z"
   },
   {
    "duration": 72,
    "start_time": "2021-12-09T10:27:48.603Z"
   },
   {
    "duration": 16,
    "start_time": "2021-12-09T10:27:48.677Z"
   },
   {
    "duration": 15,
    "start_time": "2021-12-09T10:27:48.695Z"
   },
   {
    "duration": 102,
    "start_time": "2021-12-09T10:27:48.712Z"
   },
   {
    "duration": 19,
    "start_time": "2021-12-09T10:27:48.816Z"
   },
   {
    "duration": 50,
    "start_time": "2021-12-09T10:27:48.839Z"
   },
   {
    "duration": 19,
    "start_time": "2021-12-09T10:27:48.892Z"
   },
   {
    "duration": 59,
    "start_time": "2021-12-09T10:27:48.913Z"
   },
   {
    "duration": 8,
    "start_time": "2021-12-09T10:27:48.974Z"
   },
   {
    "duration": 21,
    "start_time": "2021-12-09T10:27:48.984Z"
   },
   {
    "duration": 18,
    "start_time": "2021-12-09T10:27:49.007Z"
   },
   {
    "duration": 22,
    "start_time": "2021-12-09T10:27:49.027Z"
   },
   {
    "duration": 25,
    "start_time": "2021-12-09T10:27:49.051Z"
   },
   {
    "duration": 10,
    "start_time": "2021-12-09T10:27:49.078Z"
   },
   {
    "duration": 35,
    "start_time": "2021-12-09T10:27:49.091Z"
   },
   {
    "duration": 50,
    "start_time": "2021-12-09T10:27:49.128Z"
   },
   {
    "duration": 31,
    "start_time": "2021-12-09T10:27:49.180Z"
   },
   {
    "duration": 25,
    "start_time": "2021-12-09T10:27:49.213Z"
   },
   {
    "duration": 35,
    "start_time": "2021-12-09T10:27:49.240Z"
   },
   {
    "duration": 11,
    "start_time": "2021-12-09T10:27:49.277Z"
   },
   {
    "duration": 4707,
    "start_time": "2021-12-09T10:27:49.292Z"
   },
   {
    "duration": 465,
    "start_time": "2021-12-09T10:27:54.002Z"
   },
   {
    "duration": 781,
    "start_time": "2021-12-09T10:27:54.469Z"
   },
   {
    "duration": 50,
    "start_time": "2021-12-09T10:27:55.252Z"
   },
   {
    "duration": 9,
    "start_time": "2021-12-09T10:27:55.304Z"
   },
   {
    "duration": 12,
    "start_time": "2021-12-09T10:27:55.316Z"
   },
   {
    "duration": 580,
    "start_time": "2021-12-09T10:28:38.470Z"
   },
   {
    "duration": 122,
    "start_time": "2021-12-09T10:28:44.773Z"
   },
   {
    "duration": 15,
    "start_time": "2021-12-09T10:28:44.898Z"
   },
   {
    "duration": 74,
    "start_time": "2021-12-09T10:28:44.918Z"
   },
   {
    "duration": 15,
    "start_time": "2021-12-09T10:28:44.996Z"
   },
   {
    "duration": 38,
    "start_time": "2021-12-09T10:28:45.013Z"
   },
   {
    "duration": 91,
    "start_time": "2021-12-09T10:28:45.053Z"
   },
   {
    "duration": 29,
    "start_time": "2021-12-09T10:28:45.147Z"
   },
   {
    "duration": 38,
    "start_time": "2021-12-09T10:28:45.181Z"
   },
   {
    "duration": 44,
    "start_time": "2021-12-09T10:28:45.223Z"
   },
   {
    "duration": 33,
    "start_time": "2021-12-09T10:28:45.269Z"
   },
   {
    "duration": 8,
    "start_time": "2021-12-09T10:28:45.305Z"
   },
   {
    "duration": 14,
    "start_time": "2021-12-09T10:28:45.315Z"
   },
   {
    "duration": 42,
    "start_time": "2021-12-09T10:28:45.332Z"
   },
   {
    "duration": 10,
    "start_time": "2021-12-09T10:28:45.376Z"
   },
   {
    "duration": 24,
    "start_time": "2021-12-09T10:28:45.388Z"
   },
   {
    "duration": 17,
    "start_time": "2021-12-09T10:28:45.415Z"
   },
   {
    "duration": 35,
    "start_time": "2021-12-09T10:28:45.434Z"
   },
   {
    "duration": 27,
    "start_time": "2021-12-09T10:28:45.471Z"
   },
   {
    "duration": 33,
    "start_time": "2021-12-09T10:28:45.500Z"
   },
   {
    "duration": 52,
    "start_time": "2021-12-09T10:28:45.535Z"
   },
   {
    "duration": 23,
    "start_time": "2021-12-09T10:28:45.590Z"
   },
   {
    "duration": 21,
    "start_time": "2021-12-09T10:28:45.616Z"
   },
   {
    "duration": 4668,
    "start_time": "2021-12-09T10:28:45.641Z"
   },
   {
    "duration": 489,
    "start_time": "2021-12-09T10:28:50.312Z"
   },
   {
    "duration": 726,
    "start_time": "2021-12-09T10:28:50.804Z"
   },
   {
    "duration": 55,
    "start_time": "2021-12-09T10:28:51.533Z"
   },
   {
    "duration": 10,
    "start_time": "2021-12-09T10:28:51.590Z"
   },
   {
    "duration": 10,
    "start_time": "2021-12-09T10:30:51.841Z"
   },
   {
    "duration": 10,
    "start_time": "2021-12-09T10:30:52.327Z"
   },
   {
    "duration": 560,
    "start_time": "2021-12-09T10:34:42.577Z"
   },
   {
    "duration": 132,
    "start_time": "2021-12-09T10:34:49.763Z"
   },
   {
    "duration": 15,
    "start_time": "2021-12-09T10:34:49.898Z"
   },
   {
    "duration": 74,
    "start_time": "2021-12-09T10:34:49.916Z"
   },
   {
    "duration": 15,
    "start_time": "2021-12-09T10:34:49.993Z"
   },
   {
    "duration": 18,
    "start_time": "2021-12-09T10:34:50.010Z"
   },
   {
    "duration": 97,
    "start_time": "2021-12-09T10:34:50.030Z"
   },
   {
    "duration": 39,
    "start_time": "2021-12-09T10:34:50.129Z"
   },
   {
    "duration": 28,
    "start_time": "2021-12-09T10:34:50.172Z"
   },
   {
    "duration": 23,
    "start_time": "2021-12-09T10:34:50.204Z"
   },
   {
    "duration": 57,
    "start_time": "2021-12-09T10:34:50.229Z"
   },
   {
    "duration": 21,
    "start_time": "2021-12-09T10:34:50.288Z"
   },
   {
    "duration": 27,
    "start_time": "2021-12-09T10:34:50.312Z"
   },
   {
    "duration": 19,
    "start_time": "2021-12-09T10:34:50.341Z"
   },
   {
    "duration": 31,
    "start_time": "2021-12-09T10:34:50.362Z"
   },
   {
    "duration": 43,
    "start_time": "2021-12-09T10:34:50.396Z"
   },
   {
    "duration": 15,
    "start_time": "2021-12-09T10:34:50.442Z"
   },
   {
    "duration": 47,
    "start_time": "2021-12-09T10:34:50.460Z"
   },
   {
    "duration": 56,
    "start_time": "2021-12-09T10:34:50.509Z"
   },
   {
    "duration": 49,
    "start_time": "2021-12-09T10:34:50.567Z"
   },
   {
    "duration": 36,
    "start_time": "2021-12-09T10:34:50.618Z"
   },
   {
    "duration": 25,
    "start_time": "2021-12-09T10:34:50.657Z"
   },
   {
    "duration": 11,
    "start_time": "2021-12-09T10:34:50.685Z"
   },
   {
    "duration": 4656,
    "start_time": "2021-12-09T10:34:50.700Z"
   },
   {
    "duration": 473,
    "start_time": "2021-12-09T10:34:55.359Z"
   },
   {
    "duration": 777,
    "start_time": "2021-12-09T10:34:55.834Z"
   },
   {
    "duration": 59,
    "start_time": "2021-12-09T10:34:56.614Z"
   },
   {
    "duration": 13,
    "start_time": "2021-12-09T10:34:56.676Z"
   },
   {
    "duration": 15,
    "start_time": "2021-12-09T10:35:00.017Z"
   },
   {
    "duration": 10,
    "start_time": "2021-12-09T10:35:00.449Z"
   },
   {
    "duration": 515,
    "start_time": "2021-12-09T10:35:15.672Z"
   },
   {
    "duration": 115,
    "start_time": "2021-12-09T10:35:22.315Z"
   },
   {
    "duration": 40,
    "start_time": "2021-12-09T10:35:22.433Z"
   },
   {
    "duration": 50,
    "start_time": "2021-12-09T10:35:22.477Z"
   },
   {
    "duration": 45,
    "start_time": "2021-12-09T10:35:22.531Z"
   },
   {
    "duration": 15,
    "start_time": "2021-12-09T10:35:22.579Z"
   },
   {
    "duration": 99,
    "start_time": "2021-12-09T10:35:22.597Z"
   },
   {
    "duration": 19,
    "start_time": "2021-12-09T10:35:22.699Z"
   },
   {
    "duration": 54,
    "start_time": "2021-12-09T10:35:22.722Z"
   },
   {
    "duration": 20,
    "start_time": "2021-12-09T10:35:22.779Z"
   },
   {
    "duration": 32,
    "start_time": "2021-12-09T10:35:22.801Z"
   },
   {
    "duration": 37,
    "start_time": "2021-12-09T10:35:22.835Z"
   },
   {
    "duration": 12,
    "start_time": "2021-12-09T10:35:22.875Z"
   },
   {
    "duration": 10,
    "start_time": "2021-12-09T10:35:22.889Z"
   },
   {
    "duration": 10,
    "start_time": "2021-12-09T10:35:22.902Z"
   },
   {
    "duration": 56,
    "start_time": "2021-12-09T10:35:22.915Z"
   },
   {
    "duration": 10,
    "start_time": "2021-12-09T10:35:22.974Z"
   },
   {
    "duration": 15,
    "start_time": "2021-12-09T10:35:22.986Z"
   },
   {
    "duration": 31,
    "start_time": "2021-12-09T10:35:23.003Z"
   },
   {
    "duration": 25,
    "start_time": "2021-12-09T10:35:23.068Z"
   },
   {
    "duration": 25,
    "start_time": "2021-12-09T10:35:23.095Z"
   },
   {
    "duration": 51,
    "start_time": "2021-12-09T10:35:23.123Z"
   },
   {
    "duration": 11,
    "start_time": "2021-12-09T10:35:23.176Z"
   },
   {
    "duration": 4842,
    "start_time": "2021-12-09T10:35:23.191Z"
   },
   {
    "duration": 484,
    "start_time": "2021-12-09T10:35:28.036Z"
   },
   {
    "duration": 752,
    "start_time": "2021-12-09T10:35:28.523Z"
   },
   {
    "duration": 46,
    "start_time": "2021-12-09T10:35:29.277Z"
   },
   {
    "duration": 12,
    "start_time": "2021-12-09T10:35:29.326Z"
   },
   {
    "duration": 11,
    "start_time": "2021-12-09T10:35:42.476Z"
   },
   {
    "duration": 22,
    "start_time": "2021-12-09T10:35:42.489Z"
   },
   {
    "duration": 6,
    "start_time": "2021-12-09T10:35:42.517Z"
   },
   {
    "duration": 48,
    "start_time": "2021-12-09T10:35:42.526Z"
   },
   {
    "duration": 7,
    "start_time": "2021-12-09T10:35:42.577Z"
   },
   {
    "duration": 24,
    "start_time": "2021-12-09T10:35:42.586Z"
   },
   {
    "duration": 6,
    "start_time": "2021-12-09T10:35:42.613Z"
   },
   {
    "duration": 59,
    "start_time": "2021-12-09T10:35:42.621Z"
   },
   {
    "duration": 6,
    "start_time": "2021-12-09T10:35:42.683Z"
   },
   {
    "duration": 113,
    "start_time": "2021-12-09T10:35:57.005Z"
   },
   {
    "duration": 16,
    "start_time": "2021-12-09T10:35:57.120Z"
   },
   {
    "duration": 93,
    "start_time": "2021-12-09T10:35:57.139Z"
   },
   {
    "duration": 17,
    "start_time": "2021-12-09T10:35:57.236Z"
   },
   {
    "duration": 25,
    "start_time": "2021-12-09T10:35:57.267Z"
   },
   {
    "duration": 84,
    "start_time": "2021-12-09T10:35:57.294Z"
   },
   {
    "duration": 19,
    "start_time": "2021-12-09T10:35:57.381Z"
   },
   {
    "duration": 26,
    "start_time": "2021-12-09T10:35:57.404Z"
   },
   {
    "duration": 48,
    "start_time": "2021-12-09T10:35:57.433Z"
   },
   {
    "duration": 35,
    "start_time": "2021-12-09T10:35:57.484Z"
   },
   {
    "duration": 8,
    "start_time": "2021-12-09T10:35:57.521Z"
   },
   {
    "duration": 40,
    "start_time": "2021-12-09T10:35:57.532Z"
   },
   {
    "duration": 25,
    "start_time": "2021-12-09T10:35:57.575Z"
   },
   {
    "duration": 21,
    "start_time": "2021-12-09T10:35:57.603Z"
   },
   {
    "duration": 27,
    "start_time": "2021-12-09T10:35:57.626Z"
   },
   {
    "duration": 26,
    "start_time": "2021-12-09T10:35:57.656Z"
   },
   {
    "duration": 26,
    "start_time": "2021-12-09T10:35:57.684Z"
   },
   {
    "duration": 52,
    "start_time": "2021-12-09T10:35:57.712Z"
   },
   {
    "duration": 40,
    "start_time": "2021-12-09T10:35:57.767Z"
   },
   {
    "duration": 28,
    "start_time": "2021-12-09T10:35:57.809Z"
   },
   {
    "duration": 36,
    "start_time": "2021-12-09T10:35:57.839Z"
   },
   {
    "duration": 10,
    "start_time": "2021-12-09T10:35:57.878Z"
   },
   {
    "duration": 4935,
    "start_time": "2021-12-09T10:35:57.892Z"
   },
   {
    "duration": 488,
    "start_time": "2021-12-09T10:36:02.831Z"
   },
   {
    "duration": 730,
    "start_time": "2021-12-09T10:36:03.322Z"
   },
   {
    "duration": 54,
    "start_time": "2021-12-09T10:36:04.055Z"
   },
   {
    "duration": 20,
    "start_time": "2021-12-09T10:36:04.112Z"
   },
   {
    "duration": 10,
    "start_time": "2021-12-09T10:36:05.469Z"
   },
   {
    "duration": 11,
    "start_time": "2021-12-09T10:36:05.900Z"
   },
   {
    "duration": 104,
    "start_time": "2021-12-09T10:41:18.811Z"
   },
   {
    "duration": 114,
    "start_time": "2021-12-09T10:45:32.339Z"
   },
   {
    "duration": 24,
    "start_time": "2021-12-09T10:45:32.455Z"
   },
   {
    "duration": 50,
    "start_time": "2021-12-09T10:45:32.482Z"
   },
   {
    "duration": 43,
    "start_time": "2021-12-09T10:45:32.535Z"
   },
   {
    "duration": 14,
    "start_time": "2021-12-09T10:45:32.581Z"
   },
   {
    "duration": 98,
    "start_time": "2021-12-09T10:45:32.598Z"
   },
   {
    "duration": 18,
    "start_time": "2021-12-09T10:45:32.698Z"
   },
   {
    "duration": 55,
    "start_time": "2021-12-09T10:45:32.720Z"
   },
   {
    "duration": 20,
    "start_time": "2021-12-09T10:45:32.778Z"
   },
   {
    "duration": 32,
    "start_time": "2021-12-09T10:45:32.801Z"
   },
   {
    "duration": 39,
    "start_time": "2021-12-09T10:45:32.835Z"
   },
   {
    "duration": 15,
    "start_time": "2021-12-09T10:45:32.876Z"
   },
   {
    "duration": 21,
    "start_time": "2021-12-09T10:45:32.893Z"
   },
   {
    "duration": 53,
    "start_time": "2021-12-09T10:45:32.916Z"
   },
   {
    "duration": 12,
    "start_time": "2021-12-09T10:45:32.972Z"
   },
   {
    "duration": 10,
    "start_time": "2021-12-09T10:45:32.987Z"
   },
   {
    "duration": 11,
    "start_time": "2021-12-09T10:45:33.000Z"
   },
   {
    "duration": 59,
    "start_time": "2021-12-09T10:45:33.013Z"
   },
   {
    "duration": 24,
    "start_time": "2021-12-09T10:45:33.075Z"
   },
   {
    "duration": 26,
    "start_time": "2021-12-09T10:45:33.102Z"
   },
   {
    "duration": 49,
    "start_time": "2021-12-09T10:45:33.131Z"
   },
   {
    "duration": 12,
    "start_time": "2021-12-09T10:45:33.183Z"
   },
   {
    "duration": 4896,
    "start_time": "2021-12-09T10:45:33.204Z"
   },
   {
    "duration": 495,
    "start_time": "2021-12-09T10:45:38.103Z"
   },
   {
    "duration": 729,
    "start_time": "2021-12-09T10:45:38.601Z"
   },
   {
    "duration": 57,
    "start_time": "2021-12-09T10:45:39.333Z"
   },
   {
    "duration": 12,
    "start_time": "2021-12-09T10:45:39.393Z"
   },
   {
    "duration": 12,
    "start_time": "2021-12-09T10:45:39.409Z"
   },
   {
    "duration": 61,
    "start_time": "2021-12-09T10:45:39.425Z"
   },
   {
    "duration": 6,
    "start_time": "2021-12-09T10:45:39.488Z"
   },
   {
    "duration": 27,
    "start_time": "2021-12-09T10:45:39.497Z"
   },
   {
    "duration": 43,
    "start_time": "2021-12-09T10:45:39.527Z"
   },
   {
    "duration": 24,
    "start_time": "2021-12-09T10:45:39.572Z"
   },
   {
    "duration": 6,
    "start_time": "2021-12-09T10:45:39.598Z"
   },
   {
    "duration": 30,
    "start_time": "2021-12-09T10:56:12.337Z"
   },
   {
    "duration": 8170,
    "start_time": "2021-12-09T10:57:24.213Z"
   },
   {
    "duration": 115,
    "start_time": "2021-12-09T10:57:58.286Z"
   },
   {
    "duration": 16,
    "start_time": "2021-12-09T10:57:58.404Z"
   },
   {
    "duration": 73,
    "start_time": "2021-12-09T10:57:58.423Z"
   },
   {
    "duration": 14,
    "start_time": "2021-12-09T10:57:58.500Z"
   },
   {
    "duration": 17,
    "start_time": "2021-12-09T10:57:58.516Z"
   },
   {
    "duration": 95,
    "start_time": "2021-12-09T10:57:58.535Z"
   },
   {
    "duration": 18,
    "start_time": "2021-12-09T10:57:58.632Z"
   },
   {
    "duration": 27,
    "start_time": "2021-12-09T10:57:58.669Z"
   },
   {
    "duration": 26,
    "start_time": "2021-12-09T10:57:58.699Z"
   },
   {
    "duration": 59,
    "start_time": "2021-12-09T10:57:58.728Z"
   },
   {
    "duration": 10,
    "start_time": "2021-12-09T10:57:58.789Z"
   },
   {
    "duration": 33,
    "start_time": "2021-12-09T10:57:58.802Z"
   },
   {
    "duration": 29,
    "start_time": "2021-12-09T10:57:58.838Z"
   },
   {
    "duration": 21,
    "start_time": "2021-12-09T10:57:58.870Z"
   },
   {
    "duration": 39,
    "start_time": "2021-12-09T10:57:58.894Z"
   },
   {
    "duration": 22,
    "start_time": "2021-12-09T10:57:58.935Z"
   },
   {
    "duration": 26,
    "start_time": "2021-12-09T10:57:58.961Z"
   },
   {
    "duration": 42,
    "start_time": "2021-12-09T10:57:58.990Z"
   },
   {
    "duration": 41,
    "start_time": "2021-12-09T10:57:59.034Z"
   },
   {
    "duration": 25,
    "start_time": "2021-12-09T10:57:59.077Z"
   },
   {
    "duration": 31,
    "start_time": "2021-12-09T10:57:59.105Z"
   },
   {
    "duration": 28,
    "start_time": "2021-12-09T10:57:59.138Z"
   },
   {
    "duration": 4890,
    "start_time": "2021-12-09T10:57:59.171Z"
   },
   {
    "duration": 490,
    "start_time": "2021-12-09T10:58:04.068Z"
   },
   {
    "duration": 952,
    "start_time": "2021-12-09T10:58:04.561Z"
   },
   {
    "duration": 59,
    "start_time": "2021-12-09T10:58:05.516Z"
   },
   {
    "duration": 12,
    "start_time": "2021-12-09T10:58:05.578Z"
   },
   {
    "duration": 16,
    "start_time": "2021-12-09T10:58:05.593Z"
   },
   {
    "duration": 7828,
    "start_time": "2021-12-09T10:58:05.612Z"
   },
   {
    "duration": -1066,
    "start_time": "2021-12-09T10:58:14.508Z"
   },
   {
    "duration": 2508,
    "start_time": "2021-12-09T10:58:55.779Z"
   },
   {
    "duration": 16,
    "start_time": "2021-12-09T10:58:58.291Z"
   },
   {
    "duration": 73,
    "start_time": "2021-12-09T10:58:58.310Z"
   },
   {
    "duration": 15,
    "start_time": "2021-12-09T10:58:58.385Z"
   },
   {
    "duration": 14,
    "start_time": "2021-12-09T10:58:58.402Z"
   },
   {
    "duration": 105,
    "start_time": "2021-12-09T10:58:58.419Z"
   },
   {
    "duration": 19,
    "start_time": "2021-12-09T10:58:58.527Z"
   },
   {
    "duration": 43,
    "start_time": "2021-12-09T10:58:58.549Z"
   },
   {
    "duration": 19,
    "start_time": "2021-12-09T10:58:58.596Z"
   },
   {
    "duration": 62,
    "start_time": "2021-12-09T10:58:58.619Z"
   },
   {
    "duration": 8,
    "start_time": "2021-12-09T10:58:58.684Z"
   },
   {
    "duration": 21,
    "start_time": "2021-12-09T10:58:58.695Z"
   },
   {
    "duration": 25,
    "start_time": "2021-12-09T10:58:58.719Z"
   },
   {
    "duration": 34,
    "start_time": "2021-12-09T10:58:58.746Z"
   },
   {
    "duration": 31,
    "start_time": "2021-12-09T10:58:58.782Z"
   },
   {
    "duration": 12,
    "start_time": "2021-12-09T10:58:58.816Z"
   },
   {
    "duration": 34,
    "start_time": "2021-12-09T10:58:58.830Z"
   },
   {
    "duration": 46,
    "start_time": "2021-12-09T10:58:58.867Z"
   },
   {
    "duration": 28,
    "start_time": "2021-12-09T10:58:58.915Z"
   },
   {
    "duration": 27,
    "start_time": "2021-12-09T10:58:58.945Z"
   },
   {
    "duration": 24,
    "start_time": "2021-12-09T10:58:58.974Z"
   },
   {
    "duration": 11,
    "start_time": "2021-12-09T10:58:59.001Z"
   },
   {
    "duration": 4811,
    "start_time": "2021-12-09T10:58:59.015Z"
   },
   {
    "duration": 593,
    "start_time": "2021-12-09T10:59:03.829Z"
   },
   {
    "duration": 768,
    "start_time": "2021-12-09T10:59:04.425Z"
   },
   {
    "duration": 53,
    "start_time": "2021-12-09T10:59:05.196Z"
   },
   {
    "duration": 15,
    "start_time": "2021-12-09T10:59:05.270Z"
   },
   {
    "duration": 15,
    "start_time": "2021-12-09T10:59:05.288Z"
   },
   {
    "duration": 9021,
    "start_time": "2021-12-09T10:59:05.306Z"
   },
   {
    "duration": -1067,
    "start_time": "2021-12-09T10:59:15.398Z"
   },
   {
    "duration": 8353,
    "start_time": "2021-12-09T10:59:58.140Z"
   },
   {
    "duration": 28,
    "start_time": "2021-12-09T11:00:58.445Z"
   },
   {
    "duration": 7335,
    "start_time": "2021-12-09T11:01:19.645Z"
   },
   {
    "duration": 132,
    "start_time": "2021-12-09T11:02:09.161Z"
   },
   {
    "duration": 15,
    "start_time": "2021-12-09T11:02:09.295Z"
   },
   {
    "duration": 74,
    "start_time": "2021-12-09T11:02:09.313Z"
   },
   {
    "duration": 15,
    "start_time": "2021-12-09T11:02:09.390Z"
   },
   {
    "duration": 14,
    "start_time": "2021-12-09T11:02:09.408Z"
   },
   {
    "duration": 96,
    "start_time": "2021-12-09T11:02:09.424Z"
   },
   {
    "duration": 18,
    "start_time": "2021-12-09T11:02:09.523Z"
   },
   {
    "duration": 45,
    "start_time": "2021-12-09T11:02:09.545Z"
   },
   {
    "duration": 18,
    "start_time": "2021-12-09T11:02:09.593Z"
   },
   {
    "duration": 59,
    "start_time": "2021-12-09T11:02:09.614Z"
   },
   {
    "duration": 8,
    "start_time": "2021-12-09T11:02:09.675Z"
   },
   {
    "duration": 22,
    "start_time": "2021-12-09T11:02:09.686Z"
   },
   {
    "duration": 34,
    "start_time": "2021-12-09T11:02:09.710Z"
   },
   {
    "duration": 20,
    "start_time": "2021-12-09T11:02:09.747Z"
   },
   {
    "duration": 19,
    "start_time": "2021-12-09T11:02:09.769Z"
   },
   {
    "duration": 11,
    "start_time": "2021-12-09T11:02:09.790Z"
   },
   {
    "duration": 13,
    "start_time": "2021-12-09T11:02:09.803Z"
   },
   {
    "duration": 51,
    "start_time": "2021-12-09T11:02:09.818Z"
   },
   {
    "duration": 35,
    "start_time": "2021-12-09T11:02:09.871Z"
   },
   {
    "duration": 28,
    "start_time": "2021-12-09T11:02:09.908Z"
   },
   {
    "duration": 43,
    "start_time": "2021-12-09T11:02:09.938Z"
   },
   {
    "duration": 10,
    "start_time": "2021-12-09T11:02:09.984Z"
   },
   {
    "duration": 4924,
    "start_time": "2021-12-09T11:02:09.999Z"
   },
   {
    "duration": 486,
    "start_time": "2021-12-09T11:02:14.927Z"
   },
   {
    "duration": 736,
    "start_time": "2021-12-09T11:02:15.416Z"
   },
   {
    "duration": 54,
    "start_time": "2021-12-09T11:02:16.155Z"
   },
   {
    "duration": 10,
    "start_time": "2021-12-09T11:02:16.211Z"
   },
   {
    "duration": 44,
    "start_time": "2021-12-09T11:02:16.224Z"
   },
   {
    "duration": 58,
    "start_time": "2021-12-09T11:02:16.271Z"
   },
   {
    "duration": 9127,
    "start_time": "2021-12-09T11:02:16.332Z"
   },
   {
    "duration": 7515,
    "start_time": "2021-12-09T11:03:02.768Z"
   },
   {
    "duration": 359,
    "start_time": "2021-12-09T11:03:29.881Z"
   },
   {
    "duration": 120,
    "start_time": "2021-12-09T11:04:45.251Z"
   },
   {
    "duration": 15,
    "start_time": "2021-12-09T11:04:45.374Z"
   },
   {
    "duration": 59,
    "start_time": "2021-12-09T11:04:45.393Z"
   },
   {
    "duration": 15,
    "start_time": "2021-12-09T11:04:45.468Z"
   },
   {
    "duration": 16,
    "start_time": "2021-12-09T11:04:45.486Z"
   },
   {
    "duration": 110,
    "start_time": "2021-12-09T11:04:45.506Z"
   },
   {
    "duration": 23,
    "start_time": "2021-12-09T11:04:45.619Z"
   },
   {
    "duration": 29,
    "start_time": "2021-12-09T11:04:45.670Z"
   },
   {
    "duration": 22,
    "start_time": "2021-12-09T11:04:45.703Z"
   },
   {
    "duration": 68,
    "start_time": "2021-12-09T11:04:45.728Z"
   },
   {
    "duration": 13,
    "start_time": "2021-12-09T11:04:45.799Z"
   },
   {
    "duration": 29,
    "start_time": "2021-12-09T11:04:45.815Z"
   },
   {
    "duration": 36,
    "start_time": "2021-12-09T11:04:45.848Z"
   },
   {
    "duration": 13,
    "start_time": "2021-12-09T11:04:45.886Z"
   },
   {
    "duration": 39,
    "start_time": "2021-12-09T11:04:45.902Z"
   },
   {
    "duration": 20,
    "start_time": "2021-12-09T11:04:45.943Z"
   },
   {
    "duration": 15,
    "start_time": "2021-12-09T11:04:45.965Z"
   },
   {
    "duration": 40,
    "start_time": "2021-12-09T11:04:45.982Z"
   },
   {
    "duration": 43,
    "start_time": "2021-12-09T11:04:46.025Z"
   },
   {
    "duration": 25,
    "start_time": "2021-12-09T11:04:46.071Z"
   },
   {
    "duration": 24,
    "start_time": "2021-12-09T11:04:46.098Z"
   },
   {
    "duration": 14,
    "start_time": "2021-12-09T11:04:46.125Z"
   },
   {
    "duration": 4874,
    "start_time": "2021-12-09T11:04:46.168Z"
   },
   {
    "duration": 488,
    "start_time": "2021-12-09T11:04:51.045Z"
   },
   {
    "duration": 759,
    "start_time": "2021-12-09T11:04:51.536Z"
   },
   {
    "duration": 46,
    "start_time": "2021-12-09T11:04:52.298Z"
   },
   {
    "duration": 26,
    "start_time": "2021-12-09T11:04:52.346Z"
   },
   {
    "duration": 36,
    "start_time": "2021-12-09T11:04:52.375Z"
   },
   {
    "duration": 43,
    "start_time": "2021-12-09T11:04:52.414Z"
   },
   {
    "duration": 29,
    "start_time": "2021-12-09T11:04:54.631Z"
   },
   {
    "duration": 18,
    "start_time": "2021-12-09T11:04:55.310Z"
   },
   {
    "duration": 29,
    "start_time": "2021-12-09T11:06:33.996Z"
   },
   {
    "duration": 91,
    "start_time": "2021-12-09T11:07:53.620Z"
   },
   {
    "duration": 29,
    "start_time": "2021-12-09T11:11:54.429Z"
   },
   {
    "duration": 18,
    "start_time": "2021-12-09T11:11:55.037Z"
   },
   {
    "duration": 25,
    "start_time": "2021-12-09T11:13:43.029Z"
   },
   {
    "duration": 17,
    "start_time": "2021-12-09T11:13:44.686Z"
   },
   {
    "duration": 30,
    "start_time": "2021-12-09T11:13:50.356Z"
   },
   {
    "duration": 17,
    "start_time": "2021-12-09T11:13:50.972Z"
   },
   {
    "duration": 29,
    "start_time": "2021-12-09T11:22:35.422Z"
   },
   {
    "duration": 130,
    "start_time": "2021-12-09T11:55:57.637Z"
   },
   {
    "duration": 15,
    "start_time": "2021-12-09T11:55:57.770Z"
   },
   {
    "duration": 91,
    "start_time": "2021-12-09T11:55:57.788Z"
   },
   {
    "duration": 15,
    "start_time": "2021-12-09T11:55:57.882Z"
   },
   {
    "duration": 22,
    "start_time": "2021-12-09T11:55:57.900Z"
   },
   {
    "duration": 144,
    "start_time": "2021-12-09T11:55:57.925Z"
   },
   {
    "duration": 28,
    "start_time": "2021-12-09T11:55:58.072Z"
   },
   {
    "duration": 30,
    "start_time": "2021-12-09T11:55:58.106Z"
   },
   {
    "duration": 53,
    "start_time": "2021-12-09T11:55:58.140Z"
   },
   {
    "duration": 73,
    "start_time": "2021-12-09T11:55:58.196Z"
   },
   {
    "duration": 8,
    "start_time": "2021-12-09T11:55:58.272Z"
   },
   {
    "duration": 31,
    "start_time": "2021-12-09T11:55:58.282Z"
   },
   {
    "duration": 12,
    "start_time": "2021-12-09T11:55:58.316Z"
   },
   {
    "duration": 41,
    "start_time": "2021-12-09T11:55:58.330Z"
   },
   {
    "duration": 34,
    "start_time": "2021-12-09T11:55:58.373Z"
   },
   {
    "duration": 35,
    "start_time": "2021-12-09T11:55:58.410Z"
   },
   {
    "duration": 18,
    "start_time": "2021-12-09T11:55:58.448Z"
   },
   {
    "duration": 49,
    "start_time": "2021-12-09T11:55:58.469Z"
   },
   {
    "duration": 25,
    "start_time": "2021-12-09T11:55:58.521Z"
   },
   {
    "duration": 49,
    "start_time": "2021-12-09T11:55:58.550Z"
   },
   {
    "duration": 34,
    "start_time": "2021-12-09T11:55:58.602Z"
   },
   {
    "duration": 35,
    "start_time": "2021-12-09T11:55:58.639Z"
   },
   {
    "duration": 5233,
    "start_time": "2021-12-09T11:55:58.681Z"
   },
   {
    "duration": 489,
    "start_time": "2021-12-09T11:56:03.917Z"
   },
   {
    "duration": 872,
    "start_time": "2021-12-09T11:56:04.409Z"
   },
   {
    "duration": 102,
    "start_time": "2021-12-09T11:56:05.284Z"
   },
   {
    "duration": -1142,
    "start_time": "2021-12-09T11:56:06.531Z"
   },
   {
    "duration": -1148,
    "start_time": "2021-12-09T11:56:06.538Z"
   },
   {
    "duration": -1150,
    "start_time": "2021-12-09T11:56:06.541Z"
   },
   {
    "duration": -1151,
    "start_time": "2021-12-09T11:56:06.544Z"
   },
   {
    "duration": -1153,
    "start_time": "2021-12-09T11:56:06.547Z"
   },
   {
    "duration": -1155,
    "start_time": "2021-12-09T11:56:06.550Z"
   },
   {
    "duration": -1156,
    "start_time": "2021-12-09T11:56:06.552Z"
   },
   {
    "duration": -1157,
    "start_time": "2021-12-09T11:56:06.555Z"
   },
   {
    "duration": -1159,
    "start_time": "2021-12-09T11:56:06.558Z"
   },
   {
    "duration": -1160,
    "start_time": "2021-12-09T11:56:06.561Z"
   },
   {
    "duration": -1161,
    "start_time": "2021-12-09T11:56:06.563Z"
   },
   {
    "duration": -1167,
    "start_time": "2021-12-09T11:56:06.571Z"
   },
   {
    "duration": 179,
    "start_time": "2021-12-09T11:56:16.443Z"
   },
   {
    "duration": 25,
    "start_time": "2021-12-09T11:56:16.625Z"
   },
   {
    "duration": 75,
    "start_time": "2021-12-09T11:56:16.669Z"
   },
   {
    "duration": 38,
    "start_time": "2021-12-09T11:56:16.748Z"
   },
   {
    "duration": 22,
    "start_time": "2021-12-09T11:56:16.789Z"
   },
   {
    "duration": 144,
    "start_time": "2021-12-09T11:56:16.814Z"
   },
   {
    "duration": 31,
    "start_time": "2021-12-09T11:56:16.961Z"
   },
   {
    "duration": 42,
    "start_time": "2021-12-09T11:56:16.998Z"
   },
   {
    "duration": 51,
    "start_time": "2021-12-09T11:56:17.044Z"
   },
   {
    "duration": 75,
    "start_time": "2021-12-09T11:56:17.098Z"
   },
   {
    "duration": 12,
    "start_time": "2021-12-09T11:56:17.176Z"
   },
   {
    "duration": 15,
    "start_time": "2021-12-09T11:56:17.191Z"
   },
   {
    "duration": 18,
    "start_time": "2021-12-09T11:56:17.208Z"
   },
   {
    "duration": 47,
    "start_time": "2021-12-09T11:56:17.229Z"
   },
   {
    "duration": 17,
    "start_time": "2021-12-09T11:56:17.280Z"
   },
   {
    "duration": 14,
    "start_time": "2021-12-09T11:56:17.300Z"
   },
   {
    "duration": 15,
    "start_time": "2021-12-09T11:56:17.317Z"
   },
   {
    "duration": 40,
    "start_time": "2021-12-09T11:56:17.368Z"
   },
   {
    "duration": 58,
    "start_time": "2021-12-09T11:56:17.411Z"
   },
   {
    "duration": 38,
    "start_time": "2021-12-09T11:56:17.472Z"
   },
   {
    "duration": 55,
    "start_time": "2021-12-09T11:56:17.513Z"
   },
   {
    "duration": 17,
    "start_time": "2021-12-09T11:56:17.571Z"
   },
   {
    "duration": 5347,
    "start_time": "2021-12-09T11:56:17.596Z"
   },
   {
    "duration": 496,
    "start_time": "2021-12-09T11:56:22.947Z"
   },
   {
    "duration": 766,
    "start_time": "2021-12-09T11:56:23.445Z"
   },
   {
    "duration": 109,
    "start_time": "2021-12-09T11:56:24.214Z"
   },
   {
    "duration": -1142,
    "start_time": "2021-12-09T11:56:25.468Z"
   },
   {
    "duration": -1147,
    "start_time": "2021-12-09T11:56:25.474Z"
   },
   {
    "duration": -1149,
    "start_time": "2021-12-09T11:56:25.477Z"
   },
   {
    "duration": -1150,
    "start_time": "2021-12-09T11:56:25.479Z"
   },
   {
    "duration": -1151,
    "start_time": "2021-12-09T11:56:25.482Z"
   },
   {
    "duration": -1153,
    "start_time": "2021-12-09T11:56:25.485Z"
   },
   {
    "duration": -1154,
    "start_time": "2021-12-09T11:56:25.488Z"
   },
   {
    "duration": -1155,
    "start_time": "2021-12-09T11:56:25.490Z"
   },
   {
    "duration": -1161,
    "start_time": "2021-12-09T11:56:25.497Z"
   },
   {
    "duration": -1163,
    "start_time": "2021-12-09T11:56:25.501Z"
   },
   {
    "duration": -1163,
    "start_time": "2021-12-09T11:56:25.503Z"
   },
   {
    "duration": -1165,
    "start_time": "2021-12-09T11:56:25.506Z"
   },
   {
    "duration": 44,
    "start_time": "2021-12-09T11:56:26.235Z"
   },
   {
    "duration": 31,
    "start_time": "2021-12-09T11:56:36.706Z"
   },
   {
    "duration": 17,
    "start_time": "2021-12-09T11:56:37.753Z"
   },
   {
    "duration": 855,
    "start_time": "2021-12-09T11:57:18.808Z"
   },
   {
    "duration": 16,
    "start_time": "2021-12-09T11:57:22.382Z"
   },
   {
    "duration": 49,
    "start_time": "2021-12-09T11:57:24.540Z"
   },
   {
    "duration": 14,
    "start_time": "2021-12-09T11:57:30.732Z"
   },
   {
    "duration": 22,
    "start_time": "2021-12-09T11:57:32.361Z"
   },
   {
    "duration": 79,
    "start_time": "2021-12-09T11:57:34.506Z"
   },
   {
    "duration": 18,
    "start_time": "2021-12-09T11:57:40.675Z"
   },
   {
    "duration": 34,
    "start_time": "2021-12-09T11:57:42.768Z"
   },
   {
    "duration": 20,
    "start_time": "2021-12-09T11:57:47.076Z"
   },
   {
    "duration": 49,
    "start_time": "2021-12-09T11:57:47.640Z"
   },
   {
    "duration": 13,
    "start_time": "2021-12-09T11:57:49.561Z"
   },
   {
    "duration": 16,
    "start_time": "2021-12-09T11:57:50.838Z"
   },
   {
    "duration": 11,
    "start_time": "2021-12-09T11:57:51.895Z"
   },
   {
    "duration": 11,
    "start_time": "2021-12-09T11:57:53.747Z"
   },
   {
    "duration": 11,
    "start_time": "2021-12-09T11:57:57.781Z"
   },
   {
    "duration": 11,
    "start_time": "2021-12-09T11:57:58.929Z"
   },
   {
    "duration": 16,
    "start_time": "2021-12-09T11:58:01.555Z"
   },
   {
    "duration": 23,
    "start_time": "2021-12-09T11:58:02.269Z"
   },
   {
    "duration": 24,
    "start_time": "2021-12-09T11:58:02.835Z"
   },
   {
    "duration": 26,
    "start_time": "2021-12-09T11:58:03.276Z"
   },
   {
    "duration": 25,
    "start_time": "2021-12-09T11:58:03.638Z"
   },
   {
    "duration": 10,
    "start_time": "2021-12-09T11:58:06.295Z"
   },
   {
    "duration": 4938,
    "start_time": "2021-12-09T11:58:08.407Z"
   },
   {
    "duration": 4658,
    "start_time": "2021-12-09T11:58:23.831Z"
   },
   {
    "duration": 981,
    "start_time": "2021-12-09T11:58:28.493Z"
   },
   {
    "duration": 1256,
    "start_time": "2021-12-09T11:58:39.185Z"
   },
   {
    "duration": 105,
    "start_time": "2021-12-09T11:58:40.444Z"
   },
   {
    "duration": 98,
    "start_time": "2021-12-09T11:58:52.217Z"
   },
   {
    "duration": 603,
    "start_time": "2021-12-09T11:59:33.774Z"
   },
   {
    "duration": -1154,
    "start_time": "2021-12-09T11:59:35.535Z"
   },
   {
    "duration": 40,
    "start_time": "2021-12-09T11:59:34.568Z"
   },
   {
    "duration": 116,
    "start_time": "2021-12-09T11:59:44.970Z"
   },
   {
    "duration": 20,
    "start_time": "2021-12-09T11:59:45.151Z"
   },
   {
    "duration": 74,
    "start_time": "2021-12-09T11:59:45.304Z"
   },
   {
    "duration": 21,
    "start_time": "2021-12-09T11:59:46.824Z"
   },
   {
    "duration": 21,
    "start_time": "2021-12-09T11:59:47.015Z"
   },
   {
    "duration": 69,
    "start_time": "2021-12-09T11:59:47.175Z"
   },
   {
    "duration": 26,
    "start_time": "2021-12-09T11:59:49.577Z"
   },
   {
    "duration": 36,
    "start_time": "2021-12-09T11:59:49.607Z"
   },
   {
    "duration": 22,
    "start_time": "2021-12-09T11:59:49.669Z"
   },
   {
    "duration": 41,
    "start_time": "2021-12-09T11:59:49.694Z"
   },
   {
    "duration": 10,
    "start_time": "2021-12-09T11:59:56.322Z"
   },
   {
    "duration": 11,
    "start_time": "2021-12-09T11:59:56.965Z"
   },
   {
    "duration": 12,
    "start_time": "2021-12-09T11:59:57.308Z"
   },
   {
    "duration": 11,
    "start_time": "2021-12-09T11:59:57.499Z"
   },
   {
    "duration": 10,
    "start_time": "2021-12-09T11:59:58.223Z"
   },
   {
    "duration": 11,
    "start_time": "2021-12-09T11:59:58.585Z"
   },
   {
    "duration": 12,
    "start_time": "2021-12-09T11:59:59.471Z"
   },
   {
    "duration": 24,
    "start_time": "2021-12-09T11:59:59.622Z"
   },
   {
    "duration": 26,
    "start_time": "2021-12-09T12:00:00.087Z"
   },
   {
    "duration": 26,
    "start_time": "2021-12-09T12:00:00.336Z"
   },
   {
    "duration": 23,
    "start_time": "2021-12-09T12:00:00.588Z"
   },
   {
    "duration": 12,
    "start_time": "2021-12-09T12:00:01.655Z"
   },
   {
    "duration": 5230,
    "start_time": "2021-12-09T12:00:02.370Z"
   },
   {
    "duration": 889,
    "start_time": "2021-12-09T12:00:07.604Z"
   },
   {
    "duration": 1381,
    "start_time": "2021-12-09T12:00:08.496Z"
   },
   {
    "duration": 88,
    "start_time": "2021-12-09T12:00:09.880Z"
   },
   {
    "duration": 10,
    "start_time": "2021-12-09T12:00:21.879Z"
   },
   {
    "duration": 11,
    "start_time": "2021-12-09T12:00:22.443Z"
   },
   {
    "duration": 30,
    "start_time": "2021-12-09T12:00:30.150Z"
   },
   {
    "duration": 28,
    "start_time": "2021-12-09T12:00:30.493Z"
   },
   {
    "duration": 18,
    "start_time": "2021-12-09T12:00:31.178Z"
   },
   {
    "duration": 7,
    "start_time": "2021-12-09T12:00:32.506Z"
   },
   {
    "duration": 42,
    "start_time": "2021-12-09T12:00:48.265Z"
   },
   {
    "duration": 24,
    "start_time": "2021-12-09T12:00:48.607Z"
   },
   {
    "duration": 44,
    "start_time": "2021-12-09T12:00:51.856Z"
   },
   {
    "duration": 27,
    "start_time": "2021-12-09T12:00:52.389Z"
   },
   {
    "duration": 28,
    "start_time": "2021-12-09T12:00:56.395Z"
   },
   {
    "duration": 16,
    "start_time": "2021-12-09T12:00:57.262Z"
   },
   {
    "duration": 919,
    "start_time": "2021-12-09T12:54:08.352Z"
   },
   {
    "duration": 18,
    "start_time": "2021-12-09T12:54:09.273Z"
   },
   {
    "duration": 77,
    "start_time": "2021-12-09T12:54:09.294Z"
   },
   {
    "duration": 15,
    "start_time": "2021-12-09T12:54:09.374Z"
   },
   {
    "duration": 16,
    "start_time": "2021-12-09T12:54:09.392Z"
   },
   {
    "duration": 107,
    "start_time": "2021-12-09T12:54:09.411Z"
   },
   {
    "duration": 19,
    "start_time": "2021-12-09T12:54:09.521Z"
   },
   {
    "duration": 56,
    "start_time": "2021-12-09T12:54:09.545Z"
   },
   {
    "duration": 19,
    "start_time": "2021-12-09T12:54:09.604Z"
   },
   {
    "duration": 49,
    "start_time": "2021-12-09T12:54:09.626Z"
   },
   {
    "duration": 12,
    "start_time": "2021-12-09T12:54:09.681Z"
   },
   {
    "duration": 22,
    "start_time": "2021-12-09T12:54:09.695Z"
   },
   {
    "duration": 22,
    "start_time": "2021-12-09T12:54:09.719Z"
   },
   {
    "duration": 26,
    "start_time": "2021-12-09T12:54:09.744Z"
   },
   {
    "duration": 38,
    "start_time": "2021-12-09T12:54:09.773Z"
   },
   {
    "duration": 30,
    "start_time": "2021-12-09T12:54:09.813Z"
   },
   {
    "duration": 32,
    "start_time": "2021-12-09T12:54:09.845Z"
   },
   {
    "duration": 34,
    "start_time": "2021-12-09T12:54:09.880Z"
   },
   {
    "duration": 54,
    "start_time": "2021-12-09T12:54:09.917Z"
   },
   {
    "duration": 32,
    "start_time": "2021-12-09T12:54:09.973Z"
   },
   {
    "duration": 25,
    "start_time": "2021-12-09T12:54:10.008Z"
   },
   {
    "duration": 42,
    "start_time": "2021-12-09T12:54:10.036Z"
   },
   {
    "duration": 5211,
    "start_time": "2021-12-09T12:54:10.085Z"
   },
   {
    "duration": 597,
    "start_time": "2021-12-09T12:54:15.299Z"
   },
   {
    "duration": 910,
    "start_time": "2021-12-09T12:54:15.899Z"
   },
   {
    "duration": 66,
    "start_time": "2021-12-09T12:54:16.811Z"
   },
   {
    "duration": 14,
    "start_time": "2021-12-09T12:54:16.881Z"
   },
   {
    "duration": 10,
    "start_time": "2021-12-09T12:54:16.898Z"
   },
   {
    "duration": 69,
    "start_time": "2021-12-09T12:54:16.910Z"
   },
   {
    "duration": 17,
    "start_time": "2021-12-09T12:54:16.984Z"
   },
   {
    "duration": 69,
    "start_time": "2021-12-09T12:54:17.004Z"
   },
   {
    "duration": 17,
    "start_time": "2021-12-09T12:54:17.082Z"
   },
   {
    "duration": 29,
    "start_time": "2021-12-09T12:54:17.102Z"
   },
   {
    "duration": 44,
    "start_time": "2021-12-09T12:54:17.134Z"
   },
   {
    "duration": 32,
    "start_time": "2021-12-09T12:54:17.182Z"
   },
   {
    "duration": 18,
    "start_time": "2021-12-09T12:54:17.217Z"
   },
   {
    "duration": 104,
    "start_time": "2021-12-09T12:54:39.904Z"
   },
   {
    "duration": 627,
    "start_time": "2021-12-10T02:55:12.479Z"
   },
   {
    "duration": 10,
    "start_time": "2021-12-10T02:55:13.108Z"
   },
   {
    "duration": 42,
    "start_time": "2021-12-10T02:55:13.120Z"
   },
   {
    "duration": 8,
    "start_time": "2021-12-10T02:55:13.164Z"
   },
   {
    "duration": 32,
    "start_time": "2021-12-10T02:55:13.174Z"
   },
   {
    "duration": 53,
    "start_time": "2021-12-10T02:55:13.208Z"
   },
   {
    "duration": 10,
    "start_time": "2021-12-10T02:55:13.263Z"
   },
   {
    "duration": 51,
    "start_time": "2021-12-10T02:55:13.275Z"
   },
   {
    "duration": 15,
    "start_time": "2021-12-10T02:55:13.329Z"
   },
   {
    "duration": 22,
    "start_time": "2021-12-10T02:55:13.346Z"
   },
   {
    "duration": 41,
    "start_time": "2021-12-10T02:55:13.369Z"
   },
   {
    "duration": 33,
    "start_time": "2021-12-10T02:55:13.412Z"
   },
   {
    "duration": 41,
    "start_time": "2021-12-10T02:55:13.446Z"
   },
   {
    "duration": 29,
    "start_time": "2021-12-10T02:55:13.488Z"
   },
   {
    "duration": 48,
    "start_time": "2021-12-10T02:55:13.519Z"
   },
   {
    "duration": 38,
    "start_time": "2021-12-10T02:55:13.569Z"
   },
   {
    "duration": 25,
    "start_time": "2021-12-10T02:55:13.608Z"
   },
   {
    "duration": 46,
    "start_time": "2021-12-10T02:55:13.635Z"
   },
   {
    "duration": 43,
    "start_time": "2021-12-10T02:55:13.683Z"
   },
   {
    "duration": 35,
    "start_time": "2021-12-10T02:55:13.728Z"
   },
   {
    "duration": 29,
    "start_time": "2021-12-10T02:55:13.764Z"
   },
   {
    "duration": 20,
    "start_time": "2021-12-10T02:55:13.794Z"
   },
   {
    "duration": 3341,
    "start_time": "2021-12-10T02:55:13.816Z"
   },
   {
    "duration": 353,
    "start_time": "2021-12-10T02:55:17.159Z"
   },
   {
    "duration": 377,
    "start_time": "2021-12-10T02:55:17.514Z"
   },
   {
    "duration": 24,
    "start_time": "2021-12-10T02:55:17.893Z"
   },
   {
    "duration": 17,
    "start_time": "2021-12-10T02:55:17.920Z"
   },
   {
    "duration": 19,
    "start_time": "2021-12-10T02:55:17.939Z"
   },
   {
    "duration": 37,
    "start_time": "2021-12-10T02:55:17.960Z"
   },
   {
    "duration": 16,
    "start_time": "2021-12-10T02:55:17.998Z"
   },
   {
    "duration": 36,
    "start_time": "2021-12-10T02:55:18.015Z"
   },
   {
    "duration": 15,
    "start_time": "2021-12-10T02:55:18.052Z"
   },
   {
    "duration": 30,
    "start_time": "2021-12-10T02:55:18.068Z"
   },
   {
    "duration": 20,
    "start_time": "2021-12-10T02:55:18.100Z"
   },
   {
    "duration": 34,
    "start_time": "2021-12-10T02:55:18.121Z"
   },
   {
    "duration": 10,
    "start_time": "2021-12-10T02:55:18.156Z"
   },
   {
    "duration": 112,
    "start_time": "2021-12-10T03:05:20.678Z"
   },
   {
    "duration": 359,
    "start_time": "2021-12-10T03:07:08.355Z"
   },
   {
    "duration": 615,
    "start_time": "2021-12-10T03:10:45.684Z"
   },
   {
    "duration": 10,
    "start_time": "2021-12-10T03:10:46.300Z"
   },
   {
    "duration": 28,
    "start_time": "2021-12-10T03:10:46.312Z"
   },
   {
    "duration": 9,
    "start_time": "2021-12-10T03:10:46.341Z"
   },
   {
    "duration": 9,
    "start_time": "2021-12-10T03:10:46.351Z"
   },
   {
    "duration": 62,
    "start_time": "2021-12-10T03:10:46.362Z"
   },
   {
    "duration": 12,
    "start_time": "2021-12-10T03:10:46.425Z"
   },
   {
    "duration": 17,
    "start_time": "2021-12-10T03:10:46.439Z"
   },
   {
    "duration": 36,
    "start_time": "2021-12-10T03:10:46.457Z"
   },
   {
    "duration": 19,
    "start_time": "2021-12-10T03:10:46.494Z"
   },
   {
    "duration": 5,
    "start_time": "2021-12-10T03:10:46.514Z"
   },
   {
    "duration": 11,
    "start_time": "2021-12-10T03:10:46.520Z"
   },
   {
    "duration": 7,
    "start_time": "2021-12-10T03:10:46.532Z"
   },
   {
    "duration": 7,
    "start_time": "2021-12-10T03:10:46.540Z"
   },
   {
    "duration": 9,
    "start_time": "2021-12-10T03:10:46.548Z"
   },
   {
    "duration": 33,
    "start_time": "2021-12-10T03:10:46.558Z"
   },
   {
    "duration": 9,
    "start_time": "2021-12-10T03:10:46.593Z"
   },
   {
    "duration": 25,
    "start_time": "2021-12-10T03:10:46.603Z"
   },
   {
    "duration": 19,
    "start_time": "2021-12-10T03:10:46.630Z"
   },
   {
    "duration": 15,
    "start_time": "2021-12-10T03:10:46.651Z"
   },
   {
    "duration": 29,
    "start_time": "2021-12-10T03:10:46.668Z"
   },
   {
    "duration": 7,
    "start_time": "2021-12-10T03:10:46.698Z"
   },
   {
    "duration": 3105,
    "start_time": "2021-12-10T03:10:46.707Z"
   },
   {
    "duration": 248,
    "start_time": "2021-12-10T03:10:49.814Z"
   },
   {
    "duration": 12,
    "start_time": "2021-12-10T03:10:50.063Z"
   },
   {
    "duration": 336,
    "start_time": "2021-12-10T03:10:50.077Z"
   },
   {
    "duration": 55,
    "start_time": "2021-12-10T03:10:50.360Z"
   },
   {
    "duration": 51,
    "start_time": "2021-12-10T03:10:50.365Z"
   },
   {
    "duration": 47,
    "start_time": "2021-12-10T03:10:50.370Z"
   },
   {
    "duration": 11,
    "start_time": "2021-12-10T03:10:50.407Z"
   },
   {
    "duration": 7,
    "start_time": "2021-12-10T03:10:50.411Z"
   },
   {
    "duration": 4,
    "start_time": "2021-12-10T03:10:50.415Z"
   },
   {
    "duration": 1,
    "start_time": "2021-12-10T03:10:50.419Z"
   },
   {
    "duration": -3,
    "start_time": "2021-12-10T03:10:50.424Z"
   },
   {
    "duration": -6,
    "start_time": "2021-12-10T03:10:50.428Z"
   },
   {
    "duration": -9,
    "start_time": "2021-12-10T03:10:50.432Z"
   },
   {
    "duration": -13,
    "start_time": "2021-12-10T03:10:50.436Z"
   },
   {
    "duration": -16,
    "start_time": "2021-12-10T03:10:50.440Z"
   },
   {
    "duration": -19,
    "start_time": "2021-12-10T03:10:50.444Z"
   },
   {
    "duration": -22,
    "start_time": "2021-12-10T03:10:50.448Z"
   },
   {
    "duration": 741,
    "start_time": "2021-12-10T03:12:24.020Z"
   },
   {
    "duration": 229,
    "start_time": "2021-12-10T03:12:45.525Z"
   },
   {
    "duration": 13,
    "start_time": "2021-12-10T03:12:53.575Z"
   },
   {
    "duration": 258,
    "start_time": "2021-12-10T03:13:58.384Z"
   },
   {
    "duration": 404,
    "start_time": "2021-12-10T03:14:10.863Z"
   },
   {
    "duration": 13,
    "start_time": "2021-12-10T03:15:11.635Z"
   },
   {
    "duration": 13,
    "start_time": "2021-12-10T03:16:01.390Z"
   },
   {
    "duration": 468,
    "start_time": "2021-12-10T03:17:20.544Z"
   },
   {
    "duration": 59,
    "start_time": "2021-12-10T03:17:20.955Z"
   },
   {
    "duration": 562,
    "start_time": "2021-12-10T03:17:32.345Z"
   },
   {
    "duration": 9,
    "start_time": "2021-12-10T03:17:32.909Z"
   },
   {
    "duration": 27,
    "start_time": "2021-12-10T03:17:32.920Z"
   },
   {
    "duration": 8,
    "start_time": "2021-12-10T03:17:32.948Z"
   },
   {
    "duration": 30,
    "start_time": "2021-12-10T03:17:32.958Z"
   },
   {
    "duration": 40,
    "start_time": "2021-12-10T03:17:32.990Z"
   },
   {
    "duration": 11,
    "start_time": "2021-12-10T03:17:33.031Z"
   },
   {
    "duration": 16,
    "start_time": "2021-12-10T03:17:33.045Z"
   },
   {
    "duration": 31,
    "start_time": "2021-12-10T03:17:33.062Z"
   },
   {
    "duration": 18,
    "start_time": "2021-12-10T03:17:33.094Z"
   },
   {
    "duration": 5,
    "start_time": "2021-12-10T03:17:33.113Z"
   },
   {
    "duration": 6,
    "start_time": "2021-12-10T03:17:33.119Z"
   },
   {
    "duration": 8,
    "start_time": "2021-12-10T03:17:33.126Z"
   },
   {
    "duration": 7,
    "start_time": "2021-12-10T03:17:33.135Z"
   },
   {
    "duration": 8,
    "start_time": "2021-12-10T03:17:33.143Z"
   },
   {
    "duration": 8,
    "start_time": "2021-12-10T03:17:33.187Z"
   },
   {
    "duration": 8,
    "start_time": "2021-12-10T03:17:33.196Z"
   },
   {
    "duration": 16,
    "start_time": "2021-12-10T03:17:33.206Z"
   },
   {
    "duration": 15,
    "start_time": "2021-12-10T03:17:33.223Z"
   },
   {
    "duration": 14,
    "start_time": "2021-12-10T03:17:33.239Z"
   },
   {
    "duration": 44,
    "start_time": "2021-12-10T03:17:33.255Z"
   },
   {
    "duration": 7,
    "start_time": "2021-12-10T03:17:33.300Z"
   },
   {
    "duration": 3121,
    "start_time": "2021-12-10T03:17:33.310Z"
   },
   {
    "duration": 255,
    "start_time": "2021-12-10T03:17:36.433Z"
   },
   {
    "duration": 384,
    "start_time": "2021-12-10T03:17:36.689Z"
   },
   {
    "duration": 29,
    "start_time": "2021-12-10T03:17:37.075Z"
   },
   {
    "duration": 6,
    "start_time": "2021-12-10T03:17:37.106Z"
   },
   {
    "duration": 11,
    "start_time": "2021-12-10T03:17:37.113Z"
   },
   {
    "duration": 73,
    "start_time": "2021-12-10T03:17:37.126Z"
   },
   {
    "duration": -1,
    "start_time": "2021-12-10T03:17:37.201Z"
   },
   {
    "duration": -3,
    "start_time": "2021-12-10T03:17:37.204Z"
   },
   {
    "duration": -6,
    "start_time": "2021-12-10T03:17:37.208Z"
   },
   {
    "duration": -9,
    "start_time": "2021-12-10T03:17:37.212Z"
   },
   {
    "duration": -11,
    "start_time": "2021-12-10T03:17:37.215Z"
   },
   {
    "duration": -14,
    "start_time": "2021-12-10T03:17:37.219Z"
   },
   {
    "duration": -17,
    "start_time": "2021-12-10T03:17:37.223Z"
   },
   {
    "duration": -19,
    "start_time": "2021-12-10T03:17:37.226Z"
   },
   {
    "duration": 3,
    "start_time": "2021-12-10T03:18:01.053Z"
   },
   {
    "duration": 631,
    "start_time": "2021-12-10T03:35:45.312Z"
   },
   {
    "duration": 12,
    "start_time": "2021-12-10T03:35:45.945Z"
   },
   {
    "duration": 36,
    "start_time": "2021-12-10T03:35:45.959Z"
   },
   {
    "duration": 12,
    "start_time": "2021-12-10T03:35:45.997Z"
   },
   {
    "duration": 24,
    "start_time": "2021-12-10T03:35:46.011Z"
   },
   {
    "duration": 44,
    "start_time": "2021-12-10T03:35:46.037Z"
   },
   {
    "duration": 16,
    "start_time": "2021-12-10T03:35:46.083Z"
   },
   {
    "duration": 18,
    "start_time": "2021-12-10T03:35:46.102Z"
   },
   {
    "duration": 11,
    "start_time": "2021-12-10T03:35:46.122Z"
   },
   {
    "duration": 18,
    "start_time": "2021-12-10T03:35:46.135Z"
   },
   {
    "duration": 35,
    "start_time": "2021-12-10T03:35:46.154Z"
   },
   {
    "duration": 7,
    "start_time": "2021-12-10T03:35:46.190Z"
   },
   {
    "duration": 6,
    "start_time": "2021-12-10T03:35:46.198Z"
   },
   {
    "duration": 6,
    "start_time": "2021-12-10T03:35:46.206Z"
   },
   {
    "duration": 8,
    "start_time": "2021-12-10T03:35:46.214Z"
   },
   {
    "duration": 6,
    "start_time": "2021-12-10T03:35:46.224Z"
   },
   {
    "duration": 10,
    "start_time": "2021-12-10T03:35:46.231Z"
   },
   {
    "duration": 50,
    "start_time": "2021-12-10T03:35:46.243Z"
   },
   {
    "duration": 22,
    "start_time": "2021-12-10T03:35:46.296Z"
   },
   {
    "duration": 19,
    "start_time": "2021-12-10T03:35:46.320Z"
   },
   {
    "duration": 15,
    "start_time": "2021-12-10T03:35:46.340Z"
   },
   {
    "duration": 7,
    "start_time": "2021-12-10T03:35:46.357Z"
   },
   {
    "duration": 3113,
    "start_time": "2021-12-10T03:35:46.389Z"
   },
   {
    "duration": 318,
    "start_time": "2021-12-10T03:35:49.504Z"
   },
   {
    "duration": 386,
    "start_time": "2021-12-10T03:35:49.823Z"
   },
   {
    "duration": 26,
    "start_time": "2021-12-10T03:35:50.210Z"
   },
   {
    "duration": 6,
    "start_time": "2021-12-10T03:35:50.238Z"
   },
   {
    "duration": 8,
    "start_time": "2021-12-10T03:35:50.245Z"
   },
   {
    "duration": 35,
    "start_time": "2021-12-10T03:35:50.255Z"
   },
   {
    "duration": 10,
    "start_time": "2021-12-10T03:35:50.291Z"
   },
   {
    "duration": 17,
    "start_time": "2021-12-10T03:35:50.303Z"
   },
   {
    "duration": 10,
    "start_time": "2021-12-10T03:35:50.321Z"
   },
   {
    "duration": 16,
    "start_time": "2021-12-10T03:35:50.332Z"
   },
   {
    "duration": 43,
    "start_time": "2021-12-10T03:35:50.350Z"
   },
   {
    "duration": 17,
    "start_time": "2021-12-10T03:35:50.394Z"
   },
   {
    "duration": 9,
    "start_time": "2021-12-10T03:35:50.413Z"
   },
   {
    "duration": 880,
    "start_time": "2021-12-10T08:36:41.375Z"
   },
   {
    "duration": 15,
    "start_time": "2021-12-10T08:36:42.257Z"
   },
   {
    "duration": 51,
    "start_time": "2021-12-10T08:36:42.275Z"
   },
   {
    "duration": 15,
    "start_time": "2021-12-10T08:36:42.328Z"
   },
   {
    "duration": 36,
    "start_time": "2021-12-10T08:36:42.345Z"
   },
   {
    "duration": 88,
    "start_time": "2021-12-10T08:36:42.383Z"
   },
   {
    "duration": 19,
    "start_time": "2021-12-10T08:36:42.473Z"
   },
   {
    "duration": 36,
    "start_time": "2021-12-10T08:36:42.496Z"
   },
   {
    "duration": 44,
    "start_time": "2021-12-10T08:36:42.534Z"
   },
   {
    "duration": 33,
    "start_time": "2021-12-10T08:36:42.580Z"
   },
   {
    "duration": 8,
    "start_time": "2021-12-10T08:36:42.615Z"
   },
   {
    "duration": 46,
    "start_time": "2021-12-10T08:36:42.625Z"
   },
   {
    "duration": 10,
    "start_time": "2021-12-10T08:36:42.673Z"
   },
   {
    "duration": 25,
    "start_time": "2021-12-10T08:36:42.685Z"
   },
   {
    "duration": 19,
    "start_time": "2021-12-10T08:36:42.712Z"
   },
   {
    "duration": 10,
    "start_time": "2021-12-10T08:36:42.734Z"
   },
   {
    "duration": 11,
    "start_time": "2021-12-10T08:36:42.766Z"
   },
   {
    "duration": 34,
    "start_time": "2021-12-10T08:36:42.779Z"
   },
   {
    "duration": 24,
    "start_time": "2021-12-10T08:36:42.815Z"
   },
   {
    "duration": 49,
    "start_time": "2021-12-10T08:36:42.841Z"
   },
   {
    "duration": 26,
    "start_time": "2021-12-10T08:36:42.892Z"
   },
   {
    "duration": 46,
    "start_time": "2021-12-10T08:36:42.921Z"
   },
   {
    "duration": 4649,
    "start_time": "2021-12-10T08:36:42.972Z"
   },
   {
    "duration": 487,
    "start_time": "2021-12-10T08:36:47.624Z"
   },
   {
    "duration": 745,
    "start_time": "2021-12-10T08:36:48.113Z"
   },
   {
    "duration": 46,
    "start_time": "2021-12-10T08:36:48.861Z"
   },
   {
    "duration": 9,
    "start_time": "2021-12-10T08:36:48.909Z"
   },
   {
    "duration": 13,
    "start_time": "2021-12-10T08:36:48.920Z"
   },
   {
    "duration": 369,
    "start_time": "2021-12-10T08:36:48.968Z"
   },
   {
    "duration": -1395,
    "start_time": "2021-12-10T08:36:50.735Z"
   },
   {
    "duration": -1397,
    "start_time": "2021-12-10T08:36:50.738Z"
   },
   {
    "duration": -1400,
    "start_time": "2021-12-10T08:36:50.742Z"
   },
   {
    "duration": -1401,
    "start_time": "2021-12-10T08:36:50.745Z"
   },
   {
    "duration": -1406,
    "start_time": "2021-12-10T08:36:50.751Z"
   },
   {
    "duration": -1408,
    "start_time": "2021-12-10T08:36:50.754Z"
   },
   {
    "duration": -1410,
    "start_time": "2021-12-10T08:36:50.758Z"
   },
   {
    "duration": -1412,
    "start_time": "2021-12-10T08:36:50.761Z"
   },
   {
    "duration": 371,
    "start_time": "2021-12-10T08:45:17.111Z"
   },
   {
    "duration": 126,
    "start_time": "2021-12-10T08:45:24.473Z"
   },
   {
    "duration": 16,
    "start_time": "2021-12-10T08:45:24.601Z"
   },
   {
    "duration": 78,
    "start_time": "2021-12-10T08:45:24.620Z"
   },
   {
    "duration": 15,
    "start_time": "2021-12-10T08:45:24.700Z"
   },
   {
    "duration": 15,
    "start_time": "2021-12-10T08:45:24.717Z"
   },
   {
    "duration": 95,
    "start_time": "2021-12-10T08:45:24.734Z"
   },
   {
    "duration": 38,
    "start_time": "2021-12-10T08:45:24.832Z"
   },
   {
    "duration": 27,
    "start_time": "2021-12-10T08:45:24.874Z"
   },
   {
    "duration": 20,
    "start_time": "2021-12-10T08:45:24.904Z"
   },
   {
    "duration": 67,
    "start_time": "2021-12-10T08:45:24.926Z"
   },
   {
    "duration": 7,
    "start_time": "2021-12-10T08:45:24.995Z"
   },
   {
    "duration": 13,
    "start_time": "2021-12-10T08:45:25.004Z"
   },
   {
    "duration": 9,
    "start_time": "2021-12-10T08:45:25.019Z"
   },
   {
    "duration": 9,
    "start_time": "2021-12-10T08:45:25.067Z"
   },
   {
    "duration": 18,
    "start_time": "2021-12-10T08:45:25.079Z"
   },
   {
    "duration": 10,
    "start_time": "2021-12-10T08:45:25.100Z"
   },
   {
    "duration": 12,
    "start_time": "2021-12-10T08:45:25.112Z"
   },
   {
    "duration": 54,
    "start_time": "2021-12-10T08:45:25.127Z"
   },
   {
    "duration": 30,
    "start_time": "2021-12-10T08:45:25.183Z"
   },
   {
    "duration": 26,
    "start_time": "2021-12-10T08:45:25.216Z"
   },
   {
    "duration": 45,
    "start_time": "2021-12-10T08:45:25.244Z"
   },
   {
    "duration": 10,
    "start_time": "2021-12-10T08:45:25.291Z"
   },
   {
    "duration": 4668,
    "start_time": "2021-12-10T08:45:25.306Z"
   },
   {
    "duration": 495,
    "start_time": "2021-12-10T08:45:29.977Z"
   },
   {
    "duration": 733,
    "start_time": "2021-12-10T08:45:30.474Z"
   },
   {
    "duration": 58,
    "start_time": "2021-12-10T08:45:31.209Z"
   },
   {
    "duration": 12,
    "start_time": "2021-12-10T08:45:31.270Z"
   },
   {
    "duration": 15,
    "start_time": "2021-12-10T08:45:31.285Z"
   },
   {
    "duration": 365,
    "start_time": "2021-12-10T08:45:31.303Z"
   },
   {
    "duration": -1399,
    "start_time": "2021-12-10T08:45:33.069Z"
   },
   {
    "duration": -1400,
    "start_time": "2021-12-10T08:45:33.072Z"
   },
   {
    "duration": -1402,
    "start_time": "2021-12-10T08:45:33.075Z"
   },
   {
    "duration": -1404,
    "start_time": "2021-12-10T08:45:33.078Z"
   },
   {
    "duration": -1406,
    "start_time": "2021-12-10T08:45:33.081Z"
   },
   {
    "duration": -1408,
    "start_time": "2021-12-10T08:45:33.085Z"
   },
   {
    "duration": -1416,
    "start_time": "2021-12-10T08:45:33.094Z"
   },
   {
    "duration": -1418,
    "start_time": "2021-12-10T08:45:33.097Z"
   },
   {
    "duration": 363,
    "start_time": "2021-12-10T08:45:54.400Z"
   },
   {
    "duration": 302,
    "start_time": "2021-12-10T08:46:28.676Z"
   },
   {
    "duration": 120,
    "start_time": "2021-12-10T08:49:08.220Z"
   },
   {
    "duration": 37,
    "start_time": "2021-12-10T08:49:08.342Z"
   },
   {
    "duration": 51,
    "start_time": "2021-12-10T08:49:08.383Z"
   },
   {
    "duration": 17,
    "start_time": "2021-12-10T08:49:08.467Z"
   },
   {
    "duration": 17,
    "start_time": "2021-12-10T08:49:08.487Z"
   },
   {
    "duration": 107,
    "start_time": "2021-12-10T08:49:08.506Z"
   },
   {
    "duration": 20,
    "start_time": "2021-12-10T08:49:08.615Z"
   },
   {
    "duration": 47,
    "start_time": "2021-12-10T08:49:08.639Z"
   },
   {
    "duration": 19,
    "start_time": "2021-12-10T08:49:08.688Z"
   },
   {
    "duration": 58,
    "start_time": "2021-12-10T08:49:08.710Z"
   },
   {
    "duration": 8,
    "start_time": "2021-12-10T08:49:08.771Z"
   },
   {
    "duration": 11,
    "start_time": "2021-12-10T08:49:08.781Z"
   },
   {
    "duration": 9,
    "start_time": "2021-12-10T08:49:08.794Z"
   },
   {
    "duration": 10,
    "start_time": "2021-12-10T08:49:08.806Z"
   },
   {
    "duration": 65,
    "start_time": "2021-12-10T08:49:08.818Z"
   },
   {
    "duration": 10,
    "start_time": "2021-12-10T08:49:08.886Z"
   },
   {
    "duration": 12,
    "start_time": "2021-12-10T08:49:08.899Z"
   },
   {
    "duration": 12,
    "start_time": "2021-12-10T08:49:08.914Z"
   },
   {
    "duration": 26,
    "start_time": "2021-12-10T08:49:08.968Z"
   },
   {
    "duration": 28,
    "start_time": "2021-12-10T08:49:08.997Z"
   },
   {
    "duration": 58,
    "start_time": "2021-12-10T08:49:09.027Z"
   },
   {
    "duration": 21,
    "start_time": "2021-12-10T08:49:09.087Z"
   },
   {
    "duration": 10,
    "start_time": "2021-12-10T08:49:09.113Z"
   },
   {
    "duration": 4796,
    "start_time": "2021-12-10T08:49:09.125Z"
   },
   {
    "duration": 487,
    "start_time": "2021-12-10T08:49:13.923Z"
   },
   {
    "duration": 746,
    "start_time": "2021-12-10T08:49:14.412Z"
   },
   {
    "duration": 62,
    "start_time": "2021-12-10T08:49:15.161Z"
   },
   {
    "duration": 10,
    "start_time": "2021-12-10T08:49:15.226Z"
   },
   {
    "duration": 36,
    "start_time": "2021-12-10T08:49:15.239Z"
   },
   {
    "duration": 389,
    "start_time": "2021-12-10T08:49:15.278Z"
   },
   {
    "duration": -1404,
    "start_time": "2021-12-10T08:49:17.074Z"
   },
   {
    "duration": -1411,
    "start_time": "2021-12-10T08:49:17.082Z"
   },
   {
    "duration": -1416,
    "start_time": "2021-12-10T08:49:17.089Z"
   },
   {
    "duration": -1422,
    "start_time": "2021-12-10T08:49:17.096Z"
   },
   {
    "duration": -1427,
    "start_time": "2021-12-10T08:49:17.103Z"
   },
   {
    "duration": -1433,
    "start_time": "2021-12-10T08:49:17.110Z"
   },
   {
    "duration": -1440,
    "start_time": "2021-12-10T08:49:17.119Z"
   },
   {
    "duration": -1446,
    "start_time": "2021-12-10T08:49:17.126Z"
   },
   {
    "duration": 300,
    "start_time": "2021-12-10T08:49:27.020Z"
   },
   {
    "duration": 116,
    "start_time": "2021-12-10T08:49:31.017Z"
   },
   {
    "duration": 31,
    "start_time": "2021-12-10T08:49:31.136Z"
   },
   {
    "duration": 49,
    "start_time": "2021-12-10T08:49:31.170Z"
   },
   {
    "duration": 15,
    "start_time": "2021-12-10T08:49:31.222Z"
   },
   {
    "duration": 39,
    "start_time": "2021-12-10T08:49:31.240Z"
   },
   {
    "duration": 94,
    "start_time": "2021-12-10T08:49:31.281Z"
   },
   {
    "duration": 20,
    "start_time": "2021-12-10T08:49:31.378Z"
   },
   {
    "duration": 30,
    "start_time": "2021-12-10T08:49:31.402Z"
   },
   {
    "duration": 49,
    "start_time": "2021-12-10T08:49:31.434Z"
   },
   {
    "duration": 32,
    "start_time": "2021-12-10T08:49:31.485Z"
   },
   {
    "duration": 8,
    "start_time": "2021-12-10T08:49:31.519Z"
   },
   {
    "duration": 44,
    "start_time": "2021-12-10T08:49:31.529Z"
   },
   {
    "duration": 25,
    "start_time": "2021-12-10T08:49:31.575Z"
   },
   {
    "duration": 10,
    "start_time": "2021-12-10T08:49:31.602Z"
   },
   {
    "duration": 14,
    "start_time": "2021-12-10T08:49:33.061Z"
   },
   {
    "duration": 20,
    "start_time": "2021-12-10T08:49:33.432Z"
   },
   {
    "duration": 20,
    "start_time": "2021-12-10T08:49:44.713Z"
   },
   {
    "duration": 22,
    "start_time": "2021-12-10T08:49:47.301Z"
   },
   {
    "duration": 1541,
    "start_time": "2021-12-10T08:54:02.195Z"
   },
   {
    "duration": 28,
    "start_time": "2021-12-10T08:54:03.739Z"
   },
   {
    "duration": 50,
    "start_time": "2021-12-10T08:54:03.770Z"
   },
   {
    "duration": 44,
    "start_time": "2021-12-10T08:54:03.823Z"
   },
   {
    "duration": 15,
    "start_time": "2021-12-10T08:54:03.870Z"
   },
   {
    "duration": 91,
    "start_time": "2021-12-10T08:54:03.887Z"
   },
   {
    "duration": 18,
    "start_time": "2021-12-10T08:54:03.980Z"
   },
   {
    "duration": 27,
    "start_time": "2021-12-10T08:54:04.002Z"
   },
   {
    "duration": 48,
    "start_time": "2021-12-10T08:54:04.032Z"
   },
   {
    "duration": 32,
    "start_time": "2021-12-10T08:54:04.082Z"
   },
   {
    "duration": 8,
    "start_time": "2021-12-10T08:54:04.116Z"
   },
   {
    "duration": 48,
    "start_time": "2021-12-10T08:54:04.126Z"
   },
   {
    "duration": 9,
    "start_time": "2021-12-10T08:54:04.176Z"
   },
   {
    "duration": 25,
    "start_time": "2021-12-10T08:54:04.187Z"
   },
   {
    "duration": 34,
    "start_time": "2021-12-10T08:54:04.214Z"
   },
   {
    "duration": 9,
    "start_time": "2021-12-10T08:54:04.251Z"
   },
   {
    "duration": 26,
    "start_time": "2021-12-10T08:54:04.263Z"
   },
   {
    "duration": 37,
    "start_time": "2021-12-10T08:54:04.292Z"
   },
   {
    "duration": 39,
    "start_time": "2021-12-10T08:54:04.331Z"
   },
   {
    "duration": 24,
    "start_time": "2021-12-10T08:54:04.372Z"
   },
   {
    "duration": 24,
    "start_time": "2021-12-10T08:54:04.399Z"
   },
   {
    "duration": 43,
    "start_time": "2021-12-10T08:54:04.425Z"
   },
   {
    "duration": 4685,
    "start_time": "2021-12-10T08:54:04.475Z"
   },
   {
    "duration": 23,
    "start_time": "2021-12-10T08:54:09.168Z"
   },
   {
    "duration": 492,
    "start_time": "2021-12-10T08:54:09.193Z"
   },
   {
    "duration": 744,
    "start_time": "2021-12-10T08:54:09.688Z"
   },
   {
    "duration": 58,
    "start_time": "2021-12-10T08:54:10.434Z"
   },
   {
    "duration": 12,
    "start_time": "2021-12-10T08:54:10.495Z"
   },
   {
    "duration": 12,
    "start_time": "2021-12-10T08:54:10.509Z"
   },
   {
    "duration": 368,
    "start_time": "2021-12-10T08:54:10.523Z"
   },
   {
    "duration": -1408,
    "start_time": "2021-12-10T08:54:12.302Z"
   },
   {
    "duration": -1408,
    "start_time": "2021-12-10T08:54:12.305Z"
   },
   {
    "duration": -1413,
    "start_time": "2021-12-10T08:54:12.312Z"
   },
   {
    "duration": -1415,
    "start_time": "2021-12-10T08:54:12.316Z"
   },
   {
    "duration": -1417,
    "start_time": "2021-12-10T08:54:12.320Z"
   },
   {
    "duration": -1418,
    "start_time": "2021-12-10T08:54:12.323Z"
   },
   {
    "duration": -1423,
    "start_time": "2021-12-10T08:54:12.330Z"
   },
   {
    "duration": -1424,
    "start_time": "2021-12-10T08:54:12.334Z"
   },
   {
    "duration": 105,
    "start_time": "2021-12-10T09:22:29.186Z"
   },
   {
    "duration": 16,
    "start_time": "2021-12-10T09:22:29.294Z"
   },
   {
    "duration": 80,
    "start_time": "2021-12-10T09:22:29.313Z"
   },
   {
    "duration": 15,
    "start_time": "2021-12-10T09:22:29.396Z"
   },
   {
    "duration": 13,
    "start_time": "2021-12-10T09:22:29.413Z"
   },
   {
    "duration": 100,
    "start_time": "2021-12-10T09:22:29.428Z"
   },
   {
    "duration": 37,
    "start_time": "2021-12-10T09:22:29.530Z"
   },
   {
    "duration": 28,
    "start_time": "2021-12-10T09:22:29.571Z"
   },
   {
    "duration": 19,
    "start_time": "2021-12-10T09:22:29.602Z"
   },
   {
    "duration": 64,
    "start_time": "2021-12-10T09:22:29.623Z"
   },
   {
    "duration": 8,
    "start_time": "2021-12-10T09:22:29.689Z"
   },
   {
    "duration": 14,
    "start_time": "2021-12-10T09:22:29.699Z"
   },
   {
    "duration": 12,
    "start_time": "2021-12-10T09:22:29.716Z"
   },
   {
    "duration": 40,
    "start_time": "2021-12-10T09:22:29.731Z"
   },
   {
    "duration": 34,
    "start_time": "2021-12-10T09:22:29.773Z"
   },
   {
    "duration": 13,
    "start_time": "2021-12-10T09:22:29.810Z"
   },
   {
    "duration": 14,
    "start_time": "2021-12-10T09:22:29.825Z"
   },
   {
    "duration": 36,
    "start_time": "2021-12-10T09:22:29.841Z"
   },
   {
    "duration": 26,
    "start_time": "2021-12-10T09:22:29.879Z"
   },
   {
    "duration": 26,
    "start_time": "2021-12-10T09:22:29.907Z"
   },
   {
    "duration": 48,
    "start_time": "2021-12-10T09:22:29.936Z"
   },
   {
    "duration": 10,
    "start_time": "2021-12-10T09:22:29.987Z"
   },
   {
    "duration": 4870,
    "start_time": "2021-12-10T09:22:30.005Z"
   },
   {
    "duration": 21,
    "start_time": "2021-12-10T09:22:34.878Z"
   },
   {
    "duration": 507,
    "start_time": "2021-12-10T09:22:34.901Z"
   },
   {
    "duration": 691,
    "start_time": "2021-12-10T09:22:35.411Z"
   },
   {
    "duration": 62,
    "start_time": "2021-12-10T09:22:36.105Z"
   },
   {
    "duration": 10,
    "start_time": "2021-12-10T09:22:36.169Z"
   },
   {
    "duration": 26,
    "start_time": "2021-12-10T09:22:36.182Z"
   },
   {
    "duration": 46,
    "start_time": "2021-12-10T09:22:36.210Z"
   },
   {
    "duration": 23,
    "start_time": "2021-12-10T09:22:36.259Z"
   },
   {
    "duration": 29,
    "start_time": "2021-12-10T09:22:36.284Z"
   },
   {
    "duration": 18,
    "start_time": "2021-12-10T09:22:36.315Z"
   },
   {
    "duration": 28,
    "start_time": "2021-12-10T09:22:36.368Z"
   },
   {
    "duration": 20,
    "start_time": "2021-12-10T09:22:36.398Z"
   },
   {
    "duration": 52,
    "start_time": "2021-12-10T09:22:36.421Z"
   },
   {
    "duration": 17,
    "start_time": "2021-12-10T09:22:36.475Z"
   },
   {
    "duration": 127,
    "start_time": "2021-12-10T09:34:56.659Z"
   },
   {
    "duration": 14,
    "start_time": "2021-12-10T09:34:56.789Z"
   },
   {
    "duration": 77,
    "start_time": "2021-12-10T09:34:56.806Z"
   },
   {
    "duration": 16,
    "start_time": "2021-12-10T09:34:56.885Z"
   },
   {
    "duration": 13,
    "start_time": "2021-12-10T09:34:56.903Z"
   },
   {
    "duration": 106,
    "start_time": "2021-12-10T09:34:56.918Z"
   },
   {
    "duration": 19,
    "start_time": "2021-12-10T09:34:57.026Z"
   },
   {
    "duration": 45,
    "start_time": "2021-12-10T09:34:57.049Z"
   },
   {
    "duration": 19,
    "start_time": "2021-12-10T09:34:57.097Z"
   },
   {
    "duration": 61,
    "start_time": "2021-12-10T09:34:57.118Z"
   },
   {
    "duration": 7,
    "start_time": "2021-12-10T09:34:57.181Z"
   },
   {
    "duration": 11,
    "start_time": "2021-12-10T09:34:57.191Z"
   },
   {
    "duration": 10,
    "start_time": "2021-12-10T09:34:57.204Z"
   },
   {
    "duration": 9,
    "start_time": "2021-12-10T09:34:57.216Z"
   },
   {
    "duration": 12,
    "start_time": "2021-12-10T09:34:57.268Z"
   },
   {
    "duration": 10,
    "start_time": "2021-12-10T09:34:57.282Z"
   },
   {
    "duration": 12,
    "start_time": "2021-12-10T09:34:57.294Z"
   },
   {
    "duration": 58,
    "start_time": "2021-12-10T09:34:57.309Z"
   },
   {
    "duration": 26,
    "start_time": "2021-12-10T09:34:57.370Z"
   },
   {
    "duration": 25,
    "start_time": "2021-12-10T09:34:57.398Z"
   },
   {
    "duration": 51,
    "start_time": "2021-12-10T09:34:57.425Z"
   },
   {
    "duration": 9,
    "start_time": "2021-12-10T09:34:57.479Z"
   },
   {
    "duration": 4694,
    "start_time": "2021-12-10T09:34:57.494Z"
   },
   {
    "duration": 19,
    "start_time": "2021-12-10T09:35:02.191Z"
   },
   {
    "duration": 494,
    "start_time": "2021-12-10T09:35:02.212Z"
   },
   {
    "duration": 684,
    "start_time": "2021-12-10T09:35:02.708Z"
   },
   {
    "duration": 46,
    "start_time": "2021-12-10T09:35:03.394Z"
   },
   {
    "duration": 29,
    "start_time": "2021-12-10T09:35:03.443Z"
   },
   {
    "duration": 32,
    "start_time": "2021-12-10T09:35:03.474Z"
   },
   {
    "duration": 46,
    "start_time": "2021-12-10T09:35:03.508Z"
   },
   {
    "duration": 22,
    "start_time": "2021-12-10T09:35:03.557Z"
   },
   {
    "duration": 32,
    "start_time": "2021-12-10T09:35:03.581Z"
   },
   {
    "duration": 17,
    "start_time": "2021-12-10T09:35:03.616Z"
   },
   {
    "duration": 54,
    "start_time": "2021-12-10T09:35:03.635Z"
   },
   {
    "duration": 16,
    "start_time": "2021-12-10T09:35:03.692Z"
   },
   {
    "duration": 27,
    "start_time": "2021-12-10T09:35:03.711Z"
   },
   {
    "duration": 17,
    "start_time": "2021-12-10T09:35:03.768Z"
   },
   {
    "duration": 159,
    "start_time": "2021-12-10T09:35:30.575Z"
   },
   {
    "duration": 104,
    "start_time": "2021-12-10T10:05:16.797Z"
   },
   {
    "duration": 137,
    "start_time": "2021-12-10T10:14:13.972Z"
   },
   {
    "duration": 15,
    "start_time": "2021-12-10T10:14:14.111Z"
   },
   {
    "duration": 74,
    "start_time": "2021-12-10T10:14:14.129Z"
   },
   {
    "duration": 15,
    "start_time": "2021-12-10T10:14:14.205Z"
   },
   {
    "duration": 46,
    "start_time": "2021-12-10T10:14:14.222Z"
   },
   {
    "duration": 67,
    "start_time": "2021-12-10T10:14:14.271Z"
   },
   {
    "duration": 39,
    "start_time": "2021-12-10T10:14:14.341Z"
   },
   {
    "duration": 28,
    "start_time": "2021-12-10T10:14:14.384Z"
   },
   {
    "duration": 19,
    "start_time": "2021-12-10T10:14:14.416Z"
   },
   {
    "duration": 55,
    "start_time": "2021-12-10T10:14:14.438Z"
   },
   {
    "duration": 7,
    "start_time": "2021-12-10T10:14:14.496Z"
   },
   {
    "duration": 13,
    "start_time": "2021-12-10T10:14:14.506Z"
   },
   {
    "duration": 52,
    "start_time": "2021-12-10T10:14:14.522Z"
   },
   {
    "duration": 12,
    "start_time": "2021-12-10T10:14:14.577Z"
   },
   {
    "duration": 18,
    "start_time": "2021-12-10T10:14:14.592Z"
   },
   {
    "duration": 13,
    "start_time": "2021-12-10T10:14:14.613Z"
   },
   {
    "duration": 48,
    "start_time": "2021-12-10T10:14:14.629Z"
   },
   {
    "duration": 28,
    "start_time": "2021-12-10T10:14:14.680Z"
   },
   {
    "duration": 57,
    "start_time": "2021-12-10T10:14:14.711Z"
   },
   {
    "duration": 27,
    "start_time": "2021-12-10T10:14:14.772Z"
   },
   {
    "duration": 24,
    "start_time": "2021-12-10T10:14:14.802Z"
   },
   {
    "duration": 45,
    "start_time": "2021-12-10T10:14:14.829Z"
   },
   {
    "duration": 4837,
    "start_time": "2021-12-10T10:14:14.882Z"
   },
   {
    "duration": 28,
    "start_time": "2021-12-10T10:14:19.723Z"
   },
   {
    "duration": 528,
    "start_time": "2021-12-10T10:14:19.768Z"
   },
   {
    "duration": 670,
    "start_time": "2021-12-10T10:14:20.299Z"
   },
   {
    "duration": 48,
    "start_time": "2021-12-10T10:14:20.972Z"
   },
   {
    "duration": 11,
    "start_time": "2021-12-10T10:14:21.023Z"
   },
   {
    "duration": 38,
    "start_time": "2021-12-10T10:14:21.037Z"
   },
   {
    "duration": 36,
    "start_time": "2021-12-10T10:14:21.078Z"
   },
   {
    "duration": 54,
    "start_time": "2021-12-10T10:14:21.117Z"
   },
   {
    "duration": 30,
    "start_time": "2021-12-10T10:14:21.174Z"
   },
   {
    "duration": 19,
    "start_time": "2021-12-10T10:14:21.207Z"
   },
   {
    "duration": 63,
    "start_time": "2021-12-10T10:14:21.229Z"
   },
   {
    "duration": 16,
    "start_time": "2021-12-10T10:14:21.294Z"
   },
   {
    "duration": 61,
    "start_time": "2021-12-10T10:14:21.312Z"
   },
   {
    "duration": 17,
    "start_time": "2021-12-10T10:14:21.375Z"
   },
   {
    "duration": 1031,
    "start_time": "2021-12-10T10:30:56.499Z"
   },
   {
    "duration": 27,
    "start_time": "2021-12-10T10:30:57.533Z"
   },
   {
    "duration": 47,
    "start_time": "2021-12-10T10:30:57.563Z"
   },
   {
    "duration": 13,
    "start_time": "2021-12-10T10:30:57.612Z"
   },
   {
    "duration": 14,
    "start_time": "2021-12-10T10:30:57.659Z"
   },
   {
    "duration": 85,
    "start_time": "2021-12-10T10:30:57.675Z"
   },
   {
    "duration": 21,
    "start_time": "2021-12-10T10:30:57.763Z"
   },
   {
    "duration": 29,
    "start_time": "2021-12-10T10:30:57.789Z"
   },
   {
    "duration": 56,
    "start_time": "2021-12-10T10:30:57.822Z"
   },
   {
    "duration": 32,
    "start_time": "2021-12-10T10:30:57.881Z"
   },
   {
    "duration": 8,
    "start_time": "2021-12-10T10:30:57.916Z"
   },
   {
    "duration": 46,
    "start_time": "2021-12-10T10:30:57.927Z"
   },
   {
    "duration": 11,
    "start_time": "2021-12-10T10:30:57.977Z"
   },
   {
    "duration": 11,
    "start_time": "2021-12-10T10:30:57.990Z"
   },
   {
    "duration": 18,
    "start_time": "2021-12-10T10:30:58.003Z"
   },
   {
    "duration": 40,
    "start_time": "2021-12-10T10:30:58.023Z"
   },
   {
    "duration": 16,
    "start_time": "2021-12-10T10:30:58.066Z"
   },
   {
    "duration": 38,
    "start_time": "2021-12-10T10:30:58.085Z"
   },
   {
    "duration": 58,
    "start_time": "2021-12-10T10:30:58.126Z"
   },
   {
    "duration": 28,
    "start_time": "2021-12-10T10:30:58.186Z"
   },
   {
    "duration": 47,
    "start_time": "2021-12-10T10:30:58.217Z"
   },
   {
    "duration": 11,
    "start_time": "2021-12-10T10:30:58.267Z"
   },
   {
    "duration": 5354,
    "start_time": "2021-12-10T10:30:58.284Z"
   },
   {
    "duration": 33,
    "start_time": "2021-12-10T10:31:03.641Z"
   },
   {
    "duration": 472,
    "start_time": "2021-12-10T10:31:03.676Z"
   },
   {
    "duration": 657,
    "start_time": "2021-12-10T10:31:04.150Z"
   },
   {
    "duration": 58,
    "start_time": "2021-12-10T10:31:04.809Z"
   },
   {
    "duration": 11,
    "start_time": "2021-12-10T10:31:04.870Z"
   },
   {
    "duration": 12,
    "start_time": "2021-12-10T10:31:04.884Z"
   },
   {
    "duration": 72,
    "start_time": "2021-12-10T10:31:04.899Z"
   },
   {
    "duration": 21,
    "start_time": "2021-12-10T10:31:04.974Z"
   },
   {
    "duration": 61,
    "start_time": "2021-12-10T10:31:04.998Z"
   },
   {
    "duration": 19,
    "start_time": "2021-12-10T10:31:05.062Z"
   },
   {
    "duration": 46,
    "start_time": "2021-12-10T10:31:05.084Z"
   },
   {
    "duration": 38,
    "start_time": "2021-12-10T10:31:05.134Z"
   },
   {
    "duration": 26,
    "start_time": "2021-12-10T10:31:05.174Z"
   },
   {
    "duration": 16,
    "start_time": "2021-12-10T10:31:05.202Z"
   },
   {
    "duration": 973,
    "start_time": "2021-12-26T08:37:02.202Z"
   },
   {
    "duration": 15,
    "start_time": "2021-12-26T08:37:03.177Z"
   },
   {
    "duration": 72,
    "start_time": "2021-12-26T08:37:03.196Z"
   },
   {
    "duration": 13,
    "start_time": "2021-12-26T08:37:03.271Z"
   },
   {
    "duration": 14,
    "start_time": "2021-12-26T08:37:03.287Z"
   },
   {
    "duration": 114,
    "start_time": "2021-12-26T08:37:03.303Z"
   },
   {
    "duration": 19,
    "start_time": "2021-12-26T08:37:03.420Z"
   },
   {
    "duration": 53,
    "start_time": "2021-12-26T08:37:03.443Z"
   },
   {
    "duration": 19,
    "start_time": "2021-12-26T08:37:03.499Z"
   },
   {
    "duration": 68,
    "start_time": "2021-12-26T08:37:03.520Z"
   },
   {
    "duration": 8,
    "start_time": "2021-12-26T08:37:03.590Z"
   },
   {
    "duration": 12,
    "start_time": "2021-12-26T08:37:03.600Z"
   },
   {
    "duration": 53,
    "start_time": "2021-12-26T08:37:03.616Z"
   },
   {
    "duration": 14,
    "start_time": "2021-12-26T08:37:03.672Z"
   },
   {
    "duration": 17,
    "start_time": "2021-12-26T08:37:03.689Z"
   },
   {
    "duration": 16,
    "start_time": "2021-12-26T08:37:03.710Z"
   },
   {
    "duration": 48,
    "start_time": "2021-12-26T08:37:03.729Z"
   },
   {
    "duration": 39,
    "start_time": "2021-12-26T08:37:03.781Z"
   },
   {
    "duration": 62,
    "start_time": "2021-12-26T08:37:03.823Z"
   },
   {
    "duration": 38,
    "start_time": "2021-12-26T08:37:03.889Z"
   },
   {
    "duration": 56,
    "start_time": "2021-12-26T08:37:03.930Z"
   },
   {
    "duration": 16,
    "start_time": "2021-12-26T08:37:03.990Z"
   },
   {
    "duration": 4895,
    "start_time": "2021-12-26T08:37:04.014Z"
   },
   {
    "duration": 23,
    "start_time": "2021-12-26T08:37:08.913Z"
   },
   {
    "duration": 504,
    "start_time": "2021-12-26T08:37:08.939Z"
   },
   {
    "duration": 696,
    "start_time": "2021-12-26T08:37:09.446Z"
   },
   {
    "duration": 49,
    "start_time": "2021-12-26T08:37:10.144Z"
   },
   {
    "duration": 11,
    "start_time": "2021-12-26T08:37:10.195Z"
   },
   {
    "duration": 14,
    "start_time": "2021-12-26T08:37:10.209Z"
   },
   {
    "duration": 67,
    "start_time": "2021-12-26T08:37:10.225Z"
   },
   {
    "duration": 17,
    "start_time": "2021-12-26T08:37:10.294Z"
   },
   {
    "duration": 30,
    "start_time": "2021-12-26T08:37:10.313Z"
   },
   {
    "duration": 18,
    "start_time": "2021-12-26T08:37:10.368Z"
   },
   {
    "duration": 29,
    "start_time": "2021-12-26T08:37:10.388Z"
   },
   {
    "duration": 51,
    "start_time": "2021-12-26T08:37:10.419Z"
   },
   {
    "duration": 30,
    "start_time": "2021-12-26T08:37:10.472Z"
   },
   {
    "duration": 17,
    "start_time": "2021-12-26T08:37:10.504Z"
   },
   {
    "duration": 107,
    "start_time": "2021-12-26T08:38:41.739Z"
   },
   {
    "duration": 18,
    "start_time": "2021-12-26T08:38:41.849Z"
   },
   {
    "duration": 50,
    "start_time": "2021-12-26T08:38:41.869Z"
   },
   {
    "duration": 14,
    "start_time": "2021-12-26T08:38:41.921Z"
   },
   {
    "duration": 42,
    "start_time": "2021-12-26T08:38:41.937Z"
   },
   {
    "duration": 87,
    "start_time": "2021-12-26T08:38:41.981Z"
   },
   {
    "duration": 23,
    "start_time": "2021-12-26T08:38:42.071Z"
   },
   {
    "duration": 28,
    "start_time": "2021-12-26T08:38:42.096Z"
   },
   {
    "duration": 52,
    "start_time": "2021-12-26T08:38:42.127Z"
   },
   {
    "duration": 32,
    "start_time": "2021-12-26T08:38:42.181Z"
   },
   {
    "duration": 8,
    "start_time": "2021-12-26T08:38:42.215Z"
   },
   {
    "duration": 41,
    "start_time": "2021-12-26T08:38:42.226Z"
   },
   {
    "duration": 9,
    "start_time": "2021-12-26T08:38:42.270Z"
   },
   {
    "duration": 10,
    "start_time": "2021-12-26T08:38:42.281Z"
   },
   {
    "duration": 13,
    "start_time": "2021-12-26T08:38:42.293Z"
   },
   {
    "duration": 11,
    "start_time": "2021-12-26T08:38:42.308Z"
   },
   {
    "duration": 50,
    "start_time": "2021-12-26T08:38:42.321Z"
   },
   {
    "duration": 24,
    "start_time": "2021-12-26T08:38:42.374Z"
   },
   {
    "duration": 29,
    "start_time": "2021-12-26T08:38:42.401Z"
   },
   {
    "duration": 56,
    "start_time": "2021-12-26T08:38:42.433Z"
   },
   {
    "duration": 22,
    "start_time": "2021-12-26T08:38:42.492Z"
   },
   {
    "duration": 11,
    "start_time": "2021-12-26T08:38:42.517Z"
   },
   {
    "duration": 5275,
    "start_time": "2021-12-26T08:38:42.530Z"
   },
   {
    "duration": 20,
    "start_time": "2021-12-26T08:38:47.808Z"
   },
   {
    "duration": 498,
    "start_time": "2021-12-26T08:38:47.830Z"
   },
   {
    "duration": 684,
    "start_time": "2021-12-26T08:38:48.331Z"
   },
   {
    "duration": 58,
    "start_time": "2021-12-26T08:38:49.022Z"
   },
   {
    "duration": 12,
    "start_time": "2021-12-26T08:38:49.083Z"
   },
   {
    "duration": 12,
    "start_time": "2021-12-26T08:38:49.098Z"
   },
   {
    "duration": 72,
    "start_time": "2021-12-26T08:38:49.113Z"
   },
   {
    "duration": 19,
    "start_time": "2021-12-26T08:38:49.188Z"
   },
   {
    "duration": 28,
    "start_time": "2021-12-26T08:38:49.209Z"
   },
   {
    "duration": 40,
    "start_time": "2021-12-26T08:38:49.268Z"
   },
   {
    "duration": 57,
    "start_time": "2021-12-26T08:38:49.312Z"
   },
   {
    "duration": 24,
    "start_time": "2021-12-26T08:38:49.372Z"
   },
   {
    "duration": 30,
    "start_time": "2021-12-26T08:38:49.399Z"
   },
   {
    "duration": 49,
    "start_time": "2021-12-26T08:38:49.432Z"
   }
  ],
  "kernelspec": {
   "display_name": "Python 3 (ipykernel)",
   "language": "python",
   "name": "python3"
  },
  "language_info": {
   "codemirror_mode": {
    "name": "ipython",
    "version": 3
   },
   "file_extension": ".py",
   "mimetype": "text/x-python",
   "name": "python",
   "nbconvert_exporter": "python",
   "pygments_lexer": "ipython3",
   "version": "3.9.5"
  },
  "toc": {
   "base_numbering": 1,
   "nav_menu": {},
   "number_sections": true,
   "sideBar": true,
   "skip_h1_title": true,
   "title_cell": "Table of Contents",
   "title_sidebar": "Contents",
   "toc_cell": false,
   "toc_position": {},
   "toc_section_display": true,
   "toc_window_display": false
  }
 },
 "nbformat": 4,
 "nbformat_minor": 2
}
