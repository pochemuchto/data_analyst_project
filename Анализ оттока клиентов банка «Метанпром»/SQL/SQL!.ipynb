{
 "cells": [
  {
   "cell_type": "markdown",
   "id": "19d1bfb4-f384-4f79-8a7f-4388e4e7ce52",
   "metadata": {},
   "source": [
    "# SQL\n",
    "\n",
    "**Цели исследования:** \n",
    "\n",
    "- Проанализировать базу данных c информацией о книгах, издательствах, авторах, а также пользовательских обзоров книг; \n",
    "- Ответить на поставленные вопросы;\n",
    "- Сформулировать ценностное предложение для нового продукта."
   ]
  },
  {
   "cell_type": "code",
   "execution_count": 1,
   "id": "095fe6fc-4a8b-4fb6-a873-1d00284b0df1",
   "metadata": {},
   "outputs": [],
   "source": [
    "# импортируем библиотеки\n",
    "import pandas as pd\n",
    "from sqlalchemy import create_engine"
   ]
  },
  {
   "cell_type": "code",
   "execution_count": 2,
   "id": "081ab8ed-5b80-43e6-934f-a35e6b0dbf71",
   "metadata": {},
   "outputs": [],
   "source": [
    "# устанавливаем параметры\n",
    "db_config = {'user': 'praktikum_student', # имя пользователя\n",
    "             'pwd': 'Sdf4$2;d-d30pp', # пароль\n",
    "             'host': 'rc1b-wcoijxj3yxfsf3fs.mdb.yandexcloud.net',\n",
    "             'port': 6432, # порт подключения\n",
    "             'db': 'data-analyst-final-project-db'} # название базы данных\n",
    "\n",
    "connection_string = 'postgresql://{}:{}@{}:{}/{}'.format(db_config['user'],\n",
    "                                                         db_config['pwd'],\n",
    "                                                         db_config['host'],\n",
    "                                                         db_config['port'],\n",
    "                                                         db_config['db'])"
   ]
  },
  {
   "cell_type": "code",
   "execution_count": 3,
   "id": "64084386-12c0-42a9-b424-8e549aab03f9",
   "metadata": {},
   "outputs": [],
   "source": [
    "# сохраняем коннектор\n",
    "engine = create_engine(connection_string, connect_args={'sslmode':'require'}) "
   ]
  },
  {
   "cell_type": "markdown",
   "id": "9fc9443d-04a2-45bd-b005-0cc6ea667c7a",
   "metadata": {},
   "source": [
    "## Загрузка и обзор данных\n",
    "\n",
    "### Таблица `books`\n",
    "\n",
    "Содержит данные о книгах:"
   ]
  },
  {
   "cell_type": "code",
   "execution_count": 4,
   "id": "5e3eab59-6c36-456d-88cc-19940928f36a",
   "metadata": {},
   "outputs": [
    {
     "data": {
      "text/html": [
       "<div>\n",
       "<style scoped>\n",
       "    .dataframe tbody tr th:only-of-type {\n",
       "        vertical-align: middle;\n",
       "    }\n",
       "\n",
       "    .dataframe tbody tr th {\n",
       "        vertical-align: top;\n",
       "    }\n",
       "\n",
       "    .dataframe thead th {\n",
       "        text-align: right;\n",
       "    }\n",
       "</style>\n",
       "<table border=\"1\" class=\"dataframe\">\n",
       "  <thead>\n",
       "    <tr style=\"text-align: right;\">\n",
       "      <th></th>\n",
       "      <th>book_id</th>\n",
       "      <th>author_id</th>\n",
       "      <th>title</th>\n",
       "      <th>num_pages</th>\n",
       "      <th>publication_date</th>\n",
       "      <th>publisher_id</th>\n",
       "    </tr>\n",
       "  </thead>\n",
       "  <tbody>\n",
       "    <tr>\n",
       "      <th>0</th>\n",
       "      <td>1</td>\n",
       "      <td>546</td>\n",
       "      <td>'Salem's Lot</td>\n",
       "      <td>594</td>\n",
       "      <td>2005-11-01</td>\n",
       "      <td>93</td>\n",
       "    </tr>\n",
       "    <tr>\n",
       "      <th>1</th>\n",
       "      <td>2</td>\n",
       "      <td>465</td>\n",
       "      <td>1 000 Places to See Before You Die</td>\n",
       "      <td>992</td>\n",
       "      <td>2003-05-22</td>\n",
       "      <td>336</td>\n",
       "    </tr>\n",
       "    <tr>\n",
       "      <th>2</th>\n",
       "      <td>3</td>\n",
       "      <td>407</td>\n",
       "      <td>13 Little Blue Envelopes (Little Blue Envelope...</td>\n",
       "      <td>322</td>\n",
       "      <td>2010-12-21</td>\n",
       "      <td>135</td>\n",
       "    </tr>\n",
       "    <tr>\n",
       "      <th>3</th>\n",
       "      <td>4</td>\n",
       "      <td>82</td>\n",
       "      <td>1491: New Revelations of the Americas Before C...</td>\n",
       "      <td>541</td>\n",
       "      <td>2006-10-10</td>\n",
       "      <td>309</td>\n",
       "    </tr>\n",
       "    <tr>\n",
       "      <th>4</th>\n",
       "      <td>5</td>\n",
       "      <td>125</td>\n",
       "      <td>1776</td>\n",
       "      <td>386</td>\n",
       "      <td>2006-07-04</td>\n",
       "      <td>268</td>\n",
       "    </tr>\n",
       "  </tbody>\n",
       "</table>\n",
       "</div>"
      ],
      "text/plain": [
       "   book_id  author_id                                              title  \\\n",
       "0        1        546                                       'Salem's Lot   \n",
       "1        2        465                 1 000 Places to See Before You Die   \n",
       "2        3        407  13 Little Blue Envelopes (Little Blue Envelope...   \n",
       "3        4         82  1491: New Revelations of the Americas Before C...   \n",
       "4        5        125                                               1776   \n",
       "\n",
       "   num_pages publication_date  publisher_id  \n",
       "0        594       2005-11-01            93  \n",
       "1        992       2003-05-22           336  \n",
       "2        322       2010-12-21           135  \n",
       "3        541       2006-10-10           309  \n",
       "4        386       2006-07-04           268  "
      ]
     },
     "execution_count": 4,
     "metadata": {},
     "output_type": "execute_result"
    }
   ],
   "source": [
    "query = '''SELECT *\n",
    "           FROM books\n",
    "           LIMIT 5;\n",
    "        '''\n",
    "\n",
    "query = pd.io.sql.read_sql(query, con = engine) \n",
    "query"
   ]
  },
  {
   "cell_type": "markdown",
   "id": "82b76de4-ddb1-4e47-a608-1a56eeb3cfa4",
   "metadata": {},
   "source": [
    "- `book_id` — идентификатор книги;\n",
    "- `author_id` — идентификатор автора;\n",
    "- `title` — название книги;\n",
    "- `num_pages` — количество страниц;\n",
    "- `publication_date` — дата публикации книги;\n",
    "- `publisher_id` — идентификатор издателя."
   ]
  },
  {
   "cell_type": "markdown",
   "id": "8922a349-34fd-4830-bbd1-6ac7188b145c",
   "metadata": {},
   "source": [
    "### Таблица `authors`\n",
    "\n",
    "Содержит данные об авторах"
   ]
  },
  {
   "cell_type": "code",
   "execution_count": 5,
   "id": "72a52219-ca20-426f-8d3f-6314381a287a",
   "metadata": {},
   "outputs": [
    {
     "data": {
      "text/html": [
       "<div>\n",
       "<style scoped>\n",
       "    .dataframe tbody tr th:only-of-type {\n",
       "        vertical-align: middle;\n",
       "    }\n",
       "\n",
       "    .dataframe tbody tr th {\n",
       "        vertical-align: top;\n",
       "    }\n",
       "\n",
       "    .dataframe thead th {\n",
       "        text-align: right;\n",
       "    }\n",
       "</style>\n",
       "<table border=\"1\" class=\"dataframe\">\n",
       "  <thead>\n",
       "    <tr style=\"text-align: right;\">\n",
       "      <th></th>\n",
       "      <th>author_id</th>\n",
       "      <th>author</th>\n",
       "    </tr>\n",
       "  </thead>\n",
       "  <tbody>\n",
       "    <tr>\n",
       "      <th>0</th>\n",
       "      <td>1</td>\n",
       "      <td>A.S. Byatt</td>\n",
       "    </tr>\n",
       "    <tr>\n",
       "      <th>1</th>\n",
       "      <td>2</td>\n",
       "      <td>Aesop/Laura Harris/Laura Gibbs</td>\n",
       "    </tr>\n",
       "    <tr>\n",
       "      <th>2</th>\n",
       "      <td>3</td>\n",
       "      <td>Agatha Christie</td>\n",
       "    </tr>\n",
       "    <tr>\n",
       "      <th>3</th>\n",
       "      <td>4</td>\n",
       "      <td>Alan Brennert</td>\n",
       "    </tr>\n",
       "    <tr>\n",
       "      <th>4</th>\n",
       "      <td>5</td>\n",
       "      <td>Alan Moore/David   Lloyd</td>\n",
       "    </tr>\n",
       "  </tbody>\n",
       "</table>\n",
       "</div>"
      ],
      "text/plain": [
       "   author_id                          author\n",
       "0          1                      A.S. Byatt\n",
       "1          2  Aesop/Laura Harris/Laura Gibbs\n",
       "2          3                 Agatha Christie\n",
       "3          4                   Alan Brennert\n",
       "4          5        Alan Moore/David   Lloyd"
      ]
     },
     "execution_count": 5,
     "metadata": {},
     "output_type": "execute_result"
    }
   ],
   "source": [
    "query = '''SELECT *\n",
    "           FROM authors\n",
    "           LIMIT 5;\n",
    "        '''\n",
    "\n",
    "query = pd.io.sql.read_sql(query, con = engine) \n",
    "query"
   ]
  },
  {
   "cell_type": "markdown",
   "id": "a392307c-1aa1-44f7-8e8d-662026a19f33",
   "metadata": {},
   "source": [
    "- `author_id` — идентификатор автора;\n",
    "- `author` — имя автора."
   ]
  },
  {
   "cell_type": "markdown",
   "id": "3275dd5a-3676-49f0-a430-4105c62c6eb2",
   "metadata": {},
   "source": [
    "### Таблица `publishers`\n",
    "\n",
    "Содержит данные об издательствах:"
   ]
  },
  {
   "cell_type": "code",
   "execution_count": 6,
   "id": "c33d4373-1aca-4a7b-8f75-e28b76e91555",
   "metadata": {},
   "outputs": [
    {
     "data": {
      "text/html": [
       "<div>\n",
       "<style scoped>\n",
       "    .dataframe tbody tr th:only-of-type {\n",
       "        vertical-align: middle;\n",
       "    }\n",
       "\n",
       "    .dataframe tbody tr th {\n",
       "        vertical-align: top;\n",
       "    }\n",
       "\n",
       "    .dataframe thead th {\n",
       "        text-align: right;\n",
       "    }\n",
       "</style>\n",
       "<table border=\"1\" class=\"dataframe\">\n",
       "  <thead>\n",
       "    <tr style=\"text-align: right;\">\n",
       "      <th></th>\n",
       "      <th>publisher_id</th>\n",
       "      <th>publisher</th>\n",
       "    </tr>\n",
       "  </thead>\n",
       "  <tbody>\n",
       "    <tr>\n",
       "      <th>0</th>\n",
       "      <td>1</td>\n",
       "      <td>Ace</td>\n",
       "    </tr>\n",
       "    <tr>\n",
       "      <th>1</th>\n",
       "      <td>2</td>\n",
       "      <td>Ace Book</td>\n",
       "    </tr>\n",
       "    <tr>\n",
       "      <th>2</th>\n",
       "      <td>3</td>\n",
       "      <td>Ace Books</td>\n",
       "    </tr>\n",
       "    <tr>\n",
       "      <th>3</th>\n",
       "      <td>4</td>\n",
       "      <td>Ace Hardcover</td>\n",
       "    </tr>\n",
       "    <tr>\n",
       "      <th>4</th>\n",
       "      <td>5</td>\n",
       "      <td>Addison Wesley Publishing Company</td>\n",
       "    </tr>\n",
       "  </tbody>\n",
       "</table>\n",
       "</div>"
      ],
      "text/plain": [
       "   publisher_id                          publisher\n",
       "0             1                                Ace\n",
       "1             2                           Ace Book\n",
       "2             3                          Ace Books\n",
       "3             4                      Ace Hardcover\n",
       "4             5  Addison Wesley Publishing Company"
      ]
     },
     "execution_count": 6,
     "metadata": {},
     "output_type": "execute_result"
    }
   ],
   "source": [
    "query = '''SELECT *\n",
    "           FROM publishers\n",
    "           LIMIT 5;\n",
    "        '''\n",
    "\n",
    "query = pd.io.sql.read_sql(query, con = engine) \n",
    "query"
   ]
  },
  {
   "cell_type": "markdown",
   "id": "494caa53-0a6e-44e9-9c0c-1c69f74218f3",
   "metadata": {},
   "source": [
    "- `publisher_id` — идентификатор издательства;\n",
    "- `publisher` — название издательства;"
   ]
  },
  {
   "cell_type": "markdown",
   "id": "591a7456-27cf-4dd1-839b-1be162d12127",
   "metadata": {},
   "source": [
    "### Таблица `ratings`\n",
    "\n",
    "Содержит данные о пользовательских оценках книг"
   ]
  },
  {
   "cell_type": "code",
   "execution_count": 7,
   "id": "1af356e1-b3ba-45a8-929d-1bc5af7ddf32",
   "metadata": {},
   "outputs": [
    {
     "data": {
      "text/html": [
       "<div>\n",
       "<style scoped>\n",
       "    .dataframe tbody tr th:only-of-type {\n",
       "        vertical-align: middle;\n",
       "    }\n",
       "\n",
       "    .dataframe tbody tr th {\n",
       "        vertical-align: top;\n",
       "    }\n",
       "\n",
       "    .dataframe thead th {\n",
       "        text-align: right;\n",
       "    }\n",
       "</style>\n",
       "<table border=\"1\" class=\"dataframe\">\n",
       "  <thead>\n",
       "    <tr style=\"text-align: right;\">\n",
       "      <th></th>\n",
       "      <th>rating_id</th>\n",
       "      <th>book_id</th>\n",
       "      <th>username</th>\n",
       "      <th>rating</th>\n",
       "    </tr>\n",
       "  </thead>\n",
       "  <tbody>\n",
       "    <tr>\n",
       "      <th>0</th>\n",
       "      <td>1</td>\n",
       "      <td>1</td>\n",
       "      <td>ryanfranco</td>\n",
       "      <td>4</td>\n",
       "    </tr>\n",
       "    <tr>\n",
       "      <th>1</th>\n",
       "      <td>2</td>\n",
       "      <td>1</td>\n",
       "      <td>grantpatricia</td>\n",
       "      <td>2</td>\n",
       "    </tr>\n",
       "    <tr>\n",
       "      <th>2</th>\n",
       "      <td>3</td>\n",
       "      <td>1</td>\n",
       "      <td>brandtandrea</td>\n",
       "      <td>5</td>\n",
       "    </tr>\n",
       "    <tr>\n",
       "      <th>3</th>\n",
       "      <td>4</td>\n",
       "      <td>2</td>\n",
       "      <td>lorichen</td>\n",
       "      <td>3</td>\n",
       "    </tr>\n",
       "    <tr>\n",
       "      <th>4</th>\n",
       "      <td>5</td>\n",
       "      <td>2</td>\n",
       "      <td>mariokeller</td>\n",
       "      <td>2</td>\n",
       "    </tr>\n",
       "  </tbody>\n",
       "</table>\n",
       "</div>"
      ],
      "text/plain": [
       "   rating_id  book_id       username  rating\n",
       "0          1        1     ryanfranco       4\n",
       "1          2        1  grantpatricia       2\n",
       "2          3        1   brandtandrea       5\n",
       "3          4        2       lorichen       3\n",
       "4          5        2    mariokeller       2"
      ]
     },
     "execution_count": 7,
     "metadata": {},
     "output_type": "execute_result"
    }
   ],
   "source": [
    "query = '''SELECT *\n",
    "           FROM ratings\n",
    "           LIMIT 5;\n",
    "        '''\n",
    "\n",
    "query = pd.io.sql.read_sql(query, con = engine) \n",
    "query"
   ]
  },
  {
   "cell_type": "markdown",
   "id": "ff66190c-c4da-4d5f-9a99-518847374ae3",
   "metadata": {},
   "source": [
    "- `rating_id` — идентификатор оценки;\n",
    "- `book_id` — идентификатор книги;\n",
    "- `username` — имя пользователя, оставившего оценку;\n",
    "- `rating` — оценка книги."
   ]
  },
  {
   "cell_type": "markdown",
   "id": "c41815a4-3300-4a78-9fa1-8b81b2f301c0",
   "metadata": {},
   "source": [
    "### Таблица `reviews`\n",
    "\n",
    "Содержит данные о пользовательских обзорах на книги"
   ]
  },
  {
   "cell_type": "code",
   "execution_count": 8,
   "id": "687207a1-24dc-46db-bff3-aad3975d0f7f",
   "metadata": {},
   "outputs": [
    {
     "data": {
      "text/html": [
       "<div>\n",
       "<style scoped>\n",
       "    .dataframe tbody tr th:only-of-type {\n",
       "        vertical-align: middle;\n",
       "    }\n",
       "\n",
       "    .dataframe tbody tr th {\n",
       "        vertical-align: top;\n",
       "    }\n",
       "\n",
       "    .dataframe thead th {\n",
       "        text-align: right;\n",
       "    }\n",
       "</style>\n",
       "<table border=\"1\" class=\"dataframe\">\n",
       "  <thead>\n",
       "    <tr style=\"text-align: right;\">\n",
       "      <th></th>\n",
       "      <th>review_id</th>\n",
       "      <th>book_id</th>\n",
       "      <th>username</th>\n",
       "      <th>text</th>\n",
       "    </tr>\n",
       "  </thead>\n",
       "  <tbody>\n",
       "    <tr>\n",
       "      <th>0</th>\n",
       "      <td>1</td>\n",
       "      <td>1</td>\n",
       "      <td>brandtandrea</td>\n",
       "      <td>Mention society tell send professor analysis. ...</td>\n",
       "    </tr>\n",
       "    <tr>\n",
       "      <th>1</th>\n",
       "      <td>2</td>\n",
       "      <td>1</td>\n",
       "      <td>ryanfranco</td>\n",
       "      <td>Foot glass pretty audience hit themselves. Amo...</td>\n",
       "    </tr>\n",
       "    <tr>\n",
       "      <th>2</th>\n",
       "      <td>3</td>\n",
       "      <td>2</td>\n",
       "      <td>lorichen</td>\n",
       "      <td>Listen treat keep worry. Miss husband tax but ...</td>\n",
       "    </tr>\n",
       "    <tr>\n",
       "      <th>3</th>\n",
       "      <td>4</td>\n",
       "      <td>3</td>\n",
       "      <td>johnsonamanda</td>\n",
       "      <td>Finally month interesting blue could nature cu...</td>\n",
       "    </tr>\n",
       "    <tr>\n",
       "      <th>4</th>\n",
       "      <td>5</td>\n",
       "      <td>3</td>\n",
       "      <td>scotttamara</td>\n",
       "      <td>Nation purpose heavy give wait song will. List...</td>\n",
       "    </tr>\n",
       "  </tbody>\n",
       "</table>\n",
       "</div>"
      ],
      "text/plain": [
       "   review_id  book_id       username  \\\n",
       "0          1        1   brandtandrea   \n",
       "1          2        1     ryanfranco   \n",
       "2          3        2       lorichen   \n",
       "3          4        3  johnsonamanda   \n",
       "4          5        3    scotttamara   \n",
       "\n",
       "                                                text  \n",
       "0  Mention society tell send professor analysis. ...  \n",
       "1  Foot glass pretty audience hit themselves. Amo...  \n",
       "2  Listen treat keep worry. Miss husband tax but ...  \n",
       "3  Finally month interesting blue could nature cu...  \n",
       "4  Nation purpose heavy give wait song will. List...  "
      ]
     },
     "execution_count": 8,
     "metadata": {},
     "output_type": "execute_result"
    }
   ],
   "source": [
    "query = '''SELECT *\n",
    "           FROM reviews\n",
    "           LIMIT 5;\n",
    "        '''\n",
    "\n",
    "query = pd.io.sql.read_sql(query, con = engine) \n",
    "query"
   ]
  },
  {
   "cell_type": "markdown",
   "id": "b5b634da-fe8b-4ff1-bea9-671fc4d39d36",
   "metadata": {},
   "source": [
    "- `review_id` — идентификатор обзора;\n",
    "- `book_id` — идентификатор книги;\n",
    "- `username` — имя пользователя, написавшего обзор;\n",
    "- `text` — текст обзора."
   ]
  },
  {
   "cell_type": "markdown",
   "id": "c3c76aa6-010b-4b5a-883e-f614efbe27a0",
   "metadata": {},
   "source": [
    "## Сколько книг вышло после 1 января 2000 года"
   ]
  },
  {
   "cell_type": "code",
   "execution_count": 9,
   "id": "9e84c84c-1638-4f42-b8db-da4784e7288f",
   "metadata": {},
   "outputs": [
    {
     "data": {
      "text/html": [
       "<div>\n",
       "<style scoped>\n",
       "    .dataframe tbody tr th:only-of-type {\n",
       "        vertical-align: middle;\n",
       "    }\n",
       "\n",
       "    .dataframe tbody tr th {\n",
       "        vertical-align: top;\n",
       "    }\n",
       "\n",
       "    .dataframe thead th {\n",
       "        text-align: right;\n",
       "    }\n",
       "</style>\n",
       "<table border=\"1\" class=\"dataframe\">\n",
       "  <thead>\n",
       "    <tr style=\"text-align: right;\">\n",
       "      <th></th>\n",
       "      <th>cnt_books</th>\n",
       "    </tr>\n",
       "  </thead>\n",
       "  <tbody>\n",
       "    <tr>\n",
       "      <th>0</th>\n",
       "      <td>819</td>\n",
       "    </tr>\n",
       "  </tbody>\n",
       "</table>\n",
       "</div>"
      ],
      "text/plain": [
       "   cnt_books\n",
       "0        819"
      ]
     },
     "execution_count": 9,
     "metadata": {},
     "output_type": "execute_result"
    }
   ],
   "source": [
    "query = '''SELECT COUNT(book_id) AS cnt_books\n",
    "           FROM books\n",
    "           WHERE publication_date > '2000-01-01';\n",
    "            '''\n",
    "\n",
    "query = pd.io.sql.read_sql(query, con = engine) \n",
    "query"
   ]
  },
  {
   "cell_type": "markdown",
   "id": "4ca2386b-a5ff-4222-ab1f-a329f9a8c961",
   "metadata": {},
   "source": [
    "После 1 января 2000г вышло 819 книг"
   ]
  },
  {
   "cell_type": "markdown",
   "id": "911659a6-13ca-4eed-81e3-fcbfaab2d01e",
   "metadata": {},
   "source": [
    "## Посчитать количество обзоров и среднюю оценку для каждой книги"
   ]
  },
  {
   "cell_type": "code",
   "execution_count": 10,
   "id": "5c730ad1-0dee-41ae-b3c8-ac7f225c1e6c",
   "metadata": {},
   "outputs": [
    {
     "data": {
      "text/html": [
       "<div>\n",
       "<style scoped>\n",
       "    .dataframe tbody tr th:only-of-type {\n",
       "        vertical-align: middle;\n",
       "    }\n",
       "\n",
       "    .dataframe tbody tr th {\n",
       "        vertical-align: top;\n",
       "    }\n",
       "\n",
       "    .dataframe thead th {\n",
       "        text-align: right;\n",
       "    }\n",
       "</style>\n",
       "<table border=\"1\" class=\"dataframe\">\n",
       "  <thead>\n",
       "    <tr style=\"text-align: right;\">\n",
       "      <th></th>\n",
       "      <th>book_id</th>\n",
       "      <th>title</th>\n",
       "      <th>cnt_reviews</th>\n",
       "      <th>avg_rating</th>\n",
       "    </tr>\n",
       "  </thead>\n",
       "  <tbody>\n",
       "    <tr>\n",
       "      <th>0</th>\n",
       "      <td>948</td>\n",
       "      <td>Twilight (Twilight  #1)</td>\n",
       "      <td>7</td>\n",
       "      <td>3.7</td>\n",
       "    </tr>\n",
       "    <tr>\n",
       "      <th>1</th>\n",
       "      <td>963</td>\n",
       "      <td>Water for Elephants</td>\n",
       "      <td>6</td>\n",
       "      <td>4.0</td>\n",
       "    </tr>\n",
       "    <tr>\n",
       "      <th>2</th>\n",
       "      <td>734</td>\n",
       "      <td>The Glass Castle</td>\n",
       "      <td>6</td>\n",
       "      <td>4.2</td>\n",
       "    </tr>\n",
       "    <tr>\n",
       "      <th>3</th>\n",
       "      <td>302</td>\n",
       "      <td>Harry Potter and the Prisoner of Azkaban (Harr...</td>\n",
       "      <td>6</td>\n",
       "      <td>4.4</td>\n",
       "    </tr>\n",
       "    <tr>\n",
       "      <th>4</th>\n",
       "      <td>695</td>\n",
       "      <td>The Curious Incident of the Dog in the Night-Time</td>\n",
       "      <td>6</td>\n",
       "      <td>4.1</td>\n",
       "    </tr>\n",
       "    <tr>\n",
       "      <th>...</th>\n",
       "      <td>...</td>\n",
       "      <td>...</td>\n",
       "      <td>...</td>\n",
       "      <td>...</td>\n",
       "    </tr>\n",
       "    <tr>\n",
       "      <th>995</th>\n",
       "      <td>83</td>\n",
       "      <td>Anne Rice's The Vampire Lestat: A Graphic Novel</td>\n",
       "      <td>0</td>\n",
       "      <td>3.7</td>\n",
       "    </tr>\n",
       "    <tr>\n",
       "      <th>996</th>\n",
       "      <td>808</td>\n",
       "      <td>The Natural Way to Draw</td>\n",
       "      <td>0</td>\n",
       "      <td>3.0</td>\n",
       "    </tr>\n",
       "    <tr>\n",
       "      <th>997</th>\n",
       "      <td>672</td>\n",
       "      <td>The Cat in the Hat and Other Dr. Seuss Favorites</td>\n",
       "      <td>0</td>\n",
       "      <td>5.0</td>\n",
       "    </tr>\n",
       "    <tr>\n",
       "      <th>998</th>\n",
       "      <td>221</td>\n",
       "      <td>Essential Tales and Poems</td>\n",
       "      <td>0</td>\n",
       "      <td>4.0</td>\n",
       "    </tr>\n",
       "    <tr>\n",
       "      <th>999</th>\n",
       "      <td>191</td>\n",
       "      <td>Disney's Beauty and the Beast (A Little Golden...</td>\n",
       "      <td>0</td>\n",
       "      <td>4.0</td>\n",
       "    </tr>\n",
       "  </tbody>\n",
       "</table>\n",
       "<p>1000 rows × 4 columns</p>\n",
       "</div>"
      ],
      "text/plain": [
       "     book_id                                              title  cnt_reviews  \\\n",
       "0        948                            Twilight (Twilight  #1)            7   \n",
       "1        963                                Water for Elephants            6   \n",
       "2        734                                   The Glass Castle            6   \n",
       "3        302  Harry Potter and the Prisoner of Azkaban (Harr...            6   \n",
       "4        695  The Curious Incident of the Dog in the Night-Time            6   \n",
       "..       ...                                                ...          ...   \n",
       "995       83    Anne Rice's The Vampire Lestat: A Graphic Novel            0   \n",
       "996      808                            The Natural Way to Draw            0   \n",
       "997      672   The Cat in the Hat and Other Dr. Seuss Favorites            0   \n",
       "998      221                          Essential Tales and Poems            0   \n",
       "999      191  Disney's Beauty and the Beast (A Little Golden...            0   \n",
       "\n",
       "     avg_rating  \n",
       "0           3.7  \n",
       "1           4.0  \n",
       "2           4.2  \n",
       "3           4.4  \n",
       "4           4.1  \n",
       "..          ...  \n",
       "995         3.7  \n",
       "996         3.0  \n",
       "997         5.0  \n",
       "998         4.0  \n",
       "999         4.0  \n",
       "\n",
       "[1000 rows x 4 columns]"
      ]
     },
     "execution_count": 10,
     "metadata": {},
     "output_type": "execute_result"
    }
   ],
   "source": [
    "query = '''SELECT b.book_id,\n",
    "                  b.title,\n",
    "                  COUNT(DISTINCT re.review_id) AS cnt_reviews,\n",
    "                  ROUND(AVG(ra.rating),1) AS avg_rating\n",
    "           FROM books b\n",
    "           LEFT JOIN ratings ra ON b.book_id=ra.book_id\n",
    "           LEFT JOIN reviews re ON b.book_id=re.book_id\n",
    "           GROUP BY 1,2\n",
    "           ORDER BY 3 DESC;\n",
    "        '''\n",
    "\n",
    "query = pd.io.sql.read_sql(query, con = engine) \n",
    "query"
   ]
  },
  {
   "cell_type": "markdown",
   "id": "66e05d86-0cb4-471a-9ba0-9f1f72ce0d80",
   "metadata": {},
   "source": [
    "Больше всего ревью получила книга `Twilight (Twilight #1)` и срднюю оценку 3.7."
   ]
  },
  {
   "cell_type": "markdown",
   "id": "65aeeca9-d23a-4248-b761-bc612eff77cc",
   "metadata": {},
   "source": [
    "## Определить издательство, которое выпустило наибольшее число книг толще 50 страниц"
   ]
  },
  {
   "cell_type": "code",
   "execution_count": 11,
   "id": "dc4d675c-e837-4493-be9b-ddb3817310f6",
   "metadata": {},
   "outputs": [
    {
     "data": {
      "text/html": [
       "<div>\n",
       "<style scoped>\n",
       "    .dataframe tbody tr th:only-of-type {\n",
       "        vertical-align: middle;\n",
       "    }\n",
       "\n",
       "    .dataframe tbody tr th {\n",
       "        vertical-align: top;\n",
       "    }\n",
       "\n",
       "    .dataframe thead th {\n",
       "        text-align: right;\n",
       "    }\n",
       "</style>\n",
       "<table border=\"1\" class=\"dataframe\">\n",
       "  <thead>\n",
       "    <tr style=\"text-align: right;\">\n",
       "      <th></th>\n",
       "      <th>publisher</th>\n",
       "      <th>cnt_books</th>\n",
       "    </tr>\n",
       "  </thead>\n",
       "  <tbody>\n",
       "    <tr>\n",
       "      <th>0</th>\n",
       "      <td>Penguin Books</td>\n",
       "      <td>42</td>\n",
       "    </tr>\n",
       "    <tr>\n",
       "      <th>1</th>\n",
       "      <td>Vintage</td>\n",
       "      <td>31</td>\n",
       "    </tr>\n",
       "    <tr>\n",
       "      <th>2</th>\n",
       "      <td>Grand Central Publishing</td>\n",
       "      <td>25</td>\n",
       "    </tr>\n",
       "  </tbody>\n",
       "</table>\n",
       "</div>"
      ],
      "text/plain": [
       "                  publisher  cnt_books\n",
       "0             Penguin Books         42\n",
       "1                   Vintage         31\n",
       "2  Grand Central Publishing         25"
      ]
     },
     "execution_count": 11,
     "metadata": {},
     "output_type": "execute_result"
    }
   ],
   "source": [
    "query = '''SELECT p.publisher,\n",
    "                  COUNT(b.book_id) AS cnt_books                \n",
    "           FROM books b\n",
    "           INNER JOIN publishers p ON b.publisher_id=p.publisher_id\n",
    "           WHERE b.num_pages>50\n",
    "           GROUP BY 1\n",
    "           ORDER BY 2 DESC\n",
    "           LIMIT 3;\n",
    "        '''\n",
    "\n",
    "query = pd.io.sql.read_sql(query, con = engine) \n",
    "query"
   ]
  },
  {
   "cell_type": "markdown",
   "id": "63e2b363-386a-4d98-a070-cb17c752bc84",
   "metadata": {},
   "source": [
    "Издательство `Penguin Books` выпустило наибольшее число книг."
   ]
  },
  {
   "cell_type": "markdown",
   "id": "7c3134c9-e07c-46e2-a705-5233d9c6bd50",
   "metadata": {},
   "source": [
    "## Определить автора с самой высокой средней оценкой книг (учитывайть только книги с 50 и более оценками)"
   ]
  },
  {
   "cell_type": "code",
   "execution_count": 12,
   "id": "3972e54e-6c31-4683-89b0-7d32f575b463",
   "metadata": {},
   "outputs": [
    {
     "data": {
      "text/html": [
       "<div>\n",
       "<style scoped>\n",
       "    .dataframe tbody tr th:only-of-type {\n",
       "        vertical-align: middle;\n",
       "    }\n",
       "\n",
       "    .dataframe tbody tr th {\n",
       "        vertical-align: top;\n",
       "    }\n",
       "\n",
       "    .dataframe thead th {\n",
       "        text-align: right;\n",
       "    }\n",
       "</style>\n",
       "<table border=\"1\" class=\"dataframe\">\n",
       "  <thead>\n",
       "    <tr style=\"text-align: right;\">\n",
       "      <th></th>\n",
       "      <th>author</th>\n",
       "      <th>avg_rating</th>\n",
       "    </tr>\n",
       "  </thead>\n",
       "  <tbody>\n",
       "    <tr>\n",
       "      <th>0</th>\n",
       "      <td>J.K. Rowling/Mary GrandPré</td>\n",
       "      <td>4.29</td>\n",
       "    </tr>\n",
       "    <tr>\n",
       "      <th>1</th>\n",
       "      <td>Markus Zusak/Cao Xuân Việt Khương</td>\n",
       "      <td>4.26</td>\n",
       "    </tr>\n",
       "    <tr>\n",
       "      <th>2</th>\n",
       "      <td>J.R.R. Tolkien</td>\n",
       "      <td>4.25</td>\n",
       "    </tr>\n",
       "    <tr>\n",
       "      <th>3</th>\n",
       "      <td>Louisa May Alcott</td>\n",
       "      <td>4.19</td>\n",
       "    </tr>\n",
       "    <tr>\n",
       "      <th>4</th>\n",
       "      <td>Rick Riordan</td>\n",
       "      <td>4.08</td>\n",
       "    </tr>\n",
       "    <tr>\n",
       "      <th>5</th>\n",
       "      <td>William Golding</td>\n",
       "      <td>3.90</td>\n",
       "    </tr>\n",
       "    <tr>\n",
       "      <th>6</th>\n",
       "      <td>J.D. Salinger</td>\n",
       "      <td>3.83</td>\n",
       "    </tr>\n",
       "    <tr>\n",
       "      <th>7</th>\n",
       "      <td>William Shakespeare/Paul Werstine/Barbara A. M...</td>\n",
       "      <td>3.79</td>\n",
       "    </tr>\n",
       "    <tr>\n",
       "      <th>8</th>\n",
       "      <td>Paulo Coelho/Alan R. Clarke/Özdemir İnce</td>\n",
       "      <td>3.79</td>\n",
       "    </tr>\n",
       "    <tr>\n",
       "      <th>9</th>\n",
       "      <td>Lois Lowry</td>\n",
       "      <td>3.75</td>\n",
       "    </tr>\n",
       "    <tr>\n",
       "      <th>10</th>\n",
       "      <td>Dan Brown</td>\n",
       "      <td>3.74</td>\n",
       "    </tr>\n",
       "    <tr>\n",
       "      <th>11</th>\n",
       "      <td>George Orwell/Boris Grabnar/Peter Škerl</td>\n",
       "      <td>3.73</td>\n",
       "    </tr>\n",
       "    <tr>\n",
       "      <th>12</th>\n",
       "      <td>Stephenie Meyer</td>\n",
       "      <td>3.66</td>\n",
       "    </tr>\n",
       "    <tr>\n",
       "      <th>13</th>\n",
       "      <td>John Steinbeck</td>\n",
       "      <td>3.62</td>\n",
       "    </tr>\n",
       "  </tbody>\n",
       "</table>\n",
       "</div>"
      ],
      "text/plain": [
       "                                               author  avg_rating\n",
       "0                          J.K. Rowling/Mary GrandPré        4.29\n",
       "1                   Markus Zusak/Cao Xuân Việt Khương        4.26\n",
       "2                                      J.R.R. Tolkien        4.25\n",
       "3                                   Louisa May Alcott        4.19\n",
       "4                                        Rick Riordan        4.08\n",
       "5                                     William Golding        3.90\n",
       "6                                       J.D. Salinger        3.83\n",
       "7   William Shakespeare/Paul Werstine/Barbara A. M...        3.79\n",
       "8            Paulo Coelho/Alan R. Clarke/Özdemir İnce        3.79\n",
       "9                                          Lois Lowry        3.75\n",
       "10                                          Dan Brown        3.74\n",
       "11            George Orwell/Boris Grabnar/Peter Škerl        3.73\n",
       "12                                    Stephenie Meyer        3.66\n",
       "13                                     John Steinbeck        3.62"
      ]
     },
     "execution_count": 12,
     "metadata": {},
     "output_type": "execute_result"
    }
   ],
   "source": [
    "query = '''SELECT a.author,\n",
    "                  ROUND(AVG(ra.rating),2) AS avg_rating\n",
    "           FROM books b\n",
    "           JOIN authors a ON b.author_id = a.author_id\n",
    "           JOIN ratings ra ON b.book_id = ra.book_id\n",
    "           WHERE b.book_id IN ( SELECT book_id\n",
    "                                FROM ratings\n",
    "                                GROUP BY 1\n",
    "                                HAVING COUNT(rating_id)>=50)\n",
    "           GROUP BY a.author\n",
    "           ORDER BY 2 DESC;\n",
    "        '''\n",
    "\n",
    "query = pd.io.sql.read_sql(query, con = engine) \n",
    "query"
   ]
  },
  {
   "cell_type": "markdown",
   "id": "efafa66d-6290-4769-ace3-9856b7dacf96",
   "metadata": {},
   "source": [
    "J.K. Rowling/Mary GrandPré авторы с наивысшей средней оценкой, среди книг, у которых больше 50 оценок"
   ]
  },
  {
   "cell_type": "markdown",
   "id": "bcfd931b-c64d-4ba4-b59b-21e9dd29e53e",
   "metadata": {},
   "source": [
    "## Посчитать среднее количество обзоров от пользователей (которые поставили больше 50 оценок)"
   ]
  },
  {
   "cell_type": "code",
   "execution_count": 13,
   "id": "ae92d8f3-3674-4451-9ad5-8c6639a3bfa1",
   "metadata": {},
   "outputs": [
    {
     "data": {
      "text/html": [
       "<div>\n",
       "<style scoped>\n",
       "    .dataframe tbody tr th:only-of-type {\n",
       "        vertical-align: middle;\n",
       "    }\n",
       "\n",
       "    .dataframe tbody tr th {\n",
       "        vertical-align: top;\n",
       "    }\n",
       "\n",
       "    .dataframe thead th {\n",
       "        text-align: right;\n",
       "    }\n",
       "</style>\n",
       "<table border=\"1\" class=\"dataframe\">\n",
       "  <thead>\n",
       "    <tr style=\"text-align: right;\">\n",
       "      <th></th>\n",
       "      <th>avg_reviews</th>\n",
       "    </tr>\n",
       "  </thead>\n",
       "  <tbody>\n",
       "    <tr>\n",
       "      <th>0</th>\n",
       "      <td>24</td>\n",
       "    </tr>\n",
       "  </tbody>\n",
       "</table>\n",
       "</div>"
      ],
      "text/plain": [
       "   avg_reviews\n",
       "0           24"
      ]
     },
     "execution_count": 13,
     "metadata": {},
     "output_type": "execute_result"
    }
   ],
   "source": [
    "query = '''SELECT COUNT(DISTINCT re.text) / COUNT(DISTINCT re.username) AS avg_reviews\n",
    "           FROM ratings ra\n",
    "           JOIN reviews re ON ra.book_id = re.book_id\n",
    "           WHERE re.username IN ( SELECT username\n",
    "                                FROM ratings\n",
    "                                GROUP BY 1\n",
    "                                HAVING COUNT(rating_id)>50\n",
    "                               );\n",
    "        '''\n",
    "\n",
    "query = pd.io.sql.read_sql(query, con = engine) \n",
    "query"
   ]
  },
  {
   "cell_type": "markdown",
   "id": "601c4685-6610-4301-98c9-00cafd0de745",
   "metadata": {},
   "source": [
    "Активные пользователи (которые поставили больше 50 оценок) в среднем пишут 24 ревью."
   ]
  },
  {
   "cell_type": "markdown",
   "id": "3106dce9",
   "metadata": {},
   "source": [
    "## Вывод\n",
    "\n",
    "- С 2000 г было выпущено 819 книг;\n",
    "- Лидером по количеству отзывов стала книга `Twilight (Twilight #1)` и получила среднюю оценку 3.7;\n",
    "- Издательство выпустившее наибольшее число книг - `Penguin Books` 42шт;\n",
    "- `J.K. Rowling/Mary GrandPré` авторы с наивысшей средней оценкой, среди книг, у которых больше 50 оценок;\n",
    "- Активные пользователи (которые поставили более 50 оценок) в среднем пишут 24 ревью, т.е. примерно половину от выставленных оценок."
   ]
  }
 ],
 "metadata": {
  "ExecuteTimeLog": [
   {
    "duration": 504,
    "start_time": "2023-05-03T00:35:44.153Z"
   },
   {
    "duration": 3,
    "start_time": "2023-05-03T00:35:44.659Z"
   },
   {
    "duration": 10395,
    "start_time": "2023-05-03T00:35:44.663Z"
   },
   {
    "duration": 256,
    "start_time": "2023-05-03T00:35:55.060Z"
   },
   {
    "duration": 74,
    "start_time": "2023-05-03T00:35:55.318Z"
   },
   {
    "duration": 75,
    "start_time": "2023-05-03T00:35:55.394Z"
   },
   {
    "duration": 74,
    "start_time": "2023-05-03T00:35:55.471Z"
   },
   {
    "duration": 73,
    "start_time": "2023-05-03T00:35:55.546Z"
   },
   {
    "duration": 73,
    "start_time": "2023-05-03T00:35:55.621Z"
   },
   {
    "duration": 113,
    "start_time": "2023-05-03T00:35:55.698Z"
   },
   {
    "duration": 75,
    "start_time": "2023-05-03T00:35:55.812Z"
   },
   {
    "duration": 85,
    "start_time": "2023-05-03T00:35:55.889Z"
   },
   {
    "duration": 84,
    "start_time": "2023-05-03T00:35:55.975Z"
   },
   {
    "duration": 51,
    "start_time": "2023-05-03T07:05:51.298Z"
   },
   {
    "duration": 553,
    "start_time": "2023-05-03T07:07:17.443Z"
   },
   {
    "duration": 4,
    "start_time": "2023-05-03T07:07:17.998Z"
   },
   {
    "duration": 5028,
    "start_time": "2023-05-03T07:07:18.003Z"
   },
   {
    "duration": 63,
    "start_time": "2023-05-03T07:07:23.033Z"
   },
   {
    "duration": 11,
    "start_time": "2023-05-03T07:07:23.097Z"
   },
   {
    "duration": 21,
    "start_time": "2023-05-03T07:07:23.109Z"
   },
   {
    "duration": 25,
    "start_time": "2023-05-03T07:07:23.132Z"
   },
   {
    "duration": 12,
    "start_time": "2023-05-03T07:07:23.159Z"
   },
   {
    "duration": 11,
    "start_time": "2023-05-03T07:07:23.172Z"
   },
   {
    "duration": 45,
    "start_time": "2023-05-03T07:07:23.186Z"
   },
   {
    "duration": 10,
    "start_time": "2023-05-03T07:07:23.233Z"
   },
   {
    "duration": 14,
    "start_time": "2023-05-03T07:07:23.245Z"
   },
   {
    "duration": 13,
    "start_time": "2023-05-03T07:07:23.261Z"
   },
   {
    "duration": 18,
    "start_time": "2023-05-03T07:07:40.020Z"
   },
   {
    "duration": 564,
    "start_time": "2023-05-03T07:07:53.549Z"
   },
   {
    "duration": 3,
    "start_time": "2023-05-03T07:07:54.115Z"
   },
   {
    "duration": 5009,
    "start_time": "2023-05-03T07:07:54.120Z"
   },
   {
    "duration": 48,
    "start_time": "2023-05-03T07:07:59.131Z"
   },
   {
    "duration": 10,
    "start_time": "2023-05-03T07:07:59.182Z"
   },
   {
    "duration": 18,
    "start_time": "2023-05-03T07:07:59.194Z"
   },
   {
    "duration": 59,
    "start_time": "2023-05-03T07:07:59.215Z"
   },
   {
    "duration": 13,
    "start_time": "2023-05-03T07:07:59.276Z"
   },
   {
    "duration": 16,
    "start_time": "2023-05-03T07:07:59.291Z"
   },
   {
    "duration": 31,
    "start_time": "2023-05-03T07:07:59.309Z"
   },
   {
    "duration": 12,
    "start_time": "2023-05-03T07:07:59.342Z"
   },
   {
    "duration": 19,
    "start_time": "2023-05-03T07:07:59.356Z"
   },
   {
    "duration": 29,
    "start_time": "2023-05-03T07:07:59.377Z"
   },
   {
    "duration": 558,
    "start_time": "2023-05-03T07:47:07.177Z"
   },
   {
    "duration": 4,
    "start_time": "2023-05-03T07:47:07.737Z"
   },
   {
    "duration": 5080,
    "start_time": "2023-05-03T07:47:07.743Z"
   },
   {
    "duration": 41,
    "start_time": "2023-05-03T07:47:12.825Z"
   },
   {
    "duration": 11,
    "start_time": "2023-05-03T07:47:12.868Z"
   },
   {
    "duration": 11,
    "start_time": "2023-05-03T07:47:12.881Z"
   },
   {
    "duration": 12,
    "start_time": "2023-05-03T07:47:12.893Z"
   },
   {
    "duration": 10,
    "start_time": "2023-05-03T07:47:12.907Z"
   },
   {
    "duration": 10,
    "start_time": "2023-05-03T07:47:12.919Z"
   },
   {
    "duration": 33,
    "start_time": "2023-05-03T07:47:12.958Z"
   },
   {
    "duration": 11,
    "start_time": "2023-05-03T07:47:12.993Z"
   },
   {
    "duration": 15,
    "start_time": "2023-05-03T07:47:13.006Z"
   },
   {
    "duration": 13,
    "start_time": "2023-05-03T07:47:13.022Z"
   }
  ],
  "kernelspec": {
   "display_name": "Python 3 (ipykernel)",
   "language": "python",
   "name": "python3"
  },
  "language_info": {
   "codemirror_mode": {
    "name": "ipython",
    "version": 3
   },
   "file_extension": ".py",
   "mimetype": "text/x-python",
   "name": "python",
   "nbconvert_exporter": "python",
   "pygments_lexer": "ipython3",
   "version": "3.9.2"
  },
  "toc": {
   "base_numbering": 1,
   "nav_menu": {},
   "number_sections": true,
   "sideBar": true,
   "skip_h1_title": true,
   "title_cell": "Table of Contents",
   "title_sidebar": "Contents",
   "toc_cell": false,
   "toc_position": {},
   "toc_section_display": true,
   "toc_window_display": true
  }
 },
 "nbformat": 4,
 "nbformat_minor": 5
}
