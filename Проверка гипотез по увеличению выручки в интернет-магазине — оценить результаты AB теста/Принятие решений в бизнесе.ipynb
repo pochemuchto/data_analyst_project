{
 "cells": [
  {
   "cell_type": "markdown",
   "metadata": {},
   "source": [
    "# Проверка гипотез по увеличению выручки в интернет-магазине. Оценить результаты A/B теста."
   ]
  },
  {
   "cell_type": "markdown",
   "metadata": {},
   "source": [
    "**Цель исследования:**\n",
    "\n",
    "- Приоритизировать гипотезы, после выбрать самую перспективную;\n",
    "- Запустите A/B-тест и проанализируйте результаты.\n"
   ]
  },
  {
   "cell_type": "markdown",
   "metadata": {},
   "source": [
    "**Ход исследования:**\n",
    "\n",
    "1. Загрузка данных и подготовка их к анализу\n",
    "2. Приоритизация гипотез\n",
    "3. Анализ A/B-теста\n",
    "    1. Расчет кумулятивных показателей\n",
    "    2. Анализ выбросов\n",
    "    3. Проверка статистических гипотез\n",
    "4. Общий вывод"
   ]
  },
  {
   "cell_type": "markdown",
   "metadata": {},
   "source": [
    "##  Загрузка данных и подготовка их к анализу"
   ]
  },
  {
   "cell_type": "code",
   "execution_count": 1,
   "metadata": {},
   "outputs": [],
   "source": [
    "# Импортируем библиотеки\n",
    "import pandas as pd\n",
    "from scipy import stats as st\n",
    "from datetime import datetime, timedelta\n",
    "import numpy as np\n",
    "import seaborn as sns\n",
    "import matplotlib.pyplot as plt"
   ]
  },
  {
   "cell_type": "code",
   "execution_count": 2,
   "metadata": {},
   "outputs": [],
   "source": [
    "# Откроем файлы с данными\n",
    "try:\n",
    "    hypothesis, orders, visitors = (\n",
    "        pd.read_csv('hypothesis.csv'),\n",
    "        pd.read_csv('orders.csv'),\n",
    "        pd.read_csv('visitors.csv'))\n",
    "except:\n",
    "    hypothesis, orders, visitors = (\n",
    "        pd.read_csv('/datasets/hypothesis.csv'),\n",
    "        pd.read_csv('/datasets/orders.csv'),\n",
    "        pd.read_csv('/datasets/visitors.csv'))"
   ]
  },
  {
   "cell_type": "markdown",
   "metadata": {},
   "source": [
    "Ознакомимся с таблицей **hypothesis**"
   ]
  },
  {
   "cell_type": "code",
   "execution_count": 3,
   "metadata": {},
   "outputs": [
    {
     "data": {
      "text/html": [
       "<div>\n",
       "<style scoped>\n",
       "    .dataframe tbody tr th:only-of-type {\n",
       "        vertical-align: middle;\n",
       "    }\n",
       "\n",
       "    .dataframe tbody tr th {\n",
       "        vertical-align: top;\n",
       "    }\n",
       "\n",
       "    .dataframe thead th {\n",
       "        text-align: right;\n",
       "    }\n",
       "</style>\n",
       "<table border=\"1\" class=\"dataframe\">\n",
       "  <thead>\n",
       "    <tr style=\"text-align: right;\">\n",
       "      <th></th>\n",
       "      <th>Hypothesis</th>\n",
       "      <th>Reach</th>\n",
       "      <th>Impact</th>\n",
       "      <th>Confidence</th>\n",
       "      <th>Efforts</th>\n",
       "    </tr>\n",
       "  </thead>\n",
       "  <tbody>\n",
       "    <tr>\n",
       "      <th>0</th>\n",
       "      <td>Добавить два новых канала привлечения трафика, что позволит привлекать на 30% больше пользователей</td>\n",
       "      <td>3</td>\n",
       "      <td>10</td>\n",
       "      <td>8</td>\n",
       "      <td>6</td>\n",
       "    </tr>\n",
       "    <tr>\n",
       "      <th>1</th>\n",
       "      <td>Запустить собственную службу доставки, что сократит срок доставки заказов</td>\n",
       "      <td>2</td>\n",
       "      <td>5</td>\n",
       "      <td>4</td>\n",
       "      <td>10</td>\n",
       "    </tr>\n",
       "    <tr>\n",
       "      <th>2</th>\n",
       "      <td>Добавить блоки рекомендаций товаров на сайт интернет магазина, чтобы повысить конверсию и средний чек заказа</td>\n",
       "      <td>8</td>\n",
       "      <td>3</td>\n",
       "      <td>7</td>\n",
       "      <td>3</td>\n",
       "    </tr>\n",
       "    <tr>\n",
       "      <th>3</th>\n",
       "      <td>Изменить структура категорий, что увеличит конверсию, т.к. пользователи быстрее найдут нужный товар</td>\n",
       "      <td>8</td>\n",
       "      <td>3</td>\n",
       "      <td>3</td>\n",
       "      <td>8</td>\n",
       "    </tr>\n",
       "    <tr>\n",
       "      <th>4</th>\n",
       "      <td>Изменить цвет фона главной страницы, чтобы увеличить вовлеченность пользователей</td>\n",
       "      <td>3</td>\n",
       "      <td>1</td>\n",
       "      <td>1</td>\n",
       "      <td>1</td>\n",
       "    </tr>\n",
       "    <tr>\n",
       "      <th>5</th>\n",
       "      <td>Добавить страницу отзывов клиентов о магазине, что позволит увеличить количество заказов</td>\n",
       "      <td>3</td>\n",
       "      <td>2</td>\n",
       "      <td>2</td>\n",
       "      <td>3</td>\n",
       "    </tr>\n",
       "    <tr>\n",
       "      <th>6</th>\n",
       "      <td>Показать на главной странице баннеры с актуальными акциями и распродажами, чтобы увеличить конверсию</td>\n",
       "      <td>5</td>\n",
       "      <td>3</td>\n",
       "      <td>8</td>\n",
       "      <td>3</td>\n",
       "    </tr>\n",
       "    <tr>\n",
       "      <th>7</th>\n",
       "      <td>Добавить форму подписки на все основные страницы, чтобы собрать базу клиентов для email-рассылок</td>\n",
       "      <td>10</td>\n",
       "      <td>7</td>\n",
       "      <td>8</td>\n",
       "      <td>5</td>\n",
       "    </tr>\n",
       "    <tr>\n",
       "      <th>8</th>\n",
       "      <td>Запустить акцию, дающую скидку на товар в день рождения</td>\n",
       "      <td>1</td>\n",
       "      <td>9</td>\n",
       "      <td>9</td>\n",
       "      <td>5</td>\n",
       "    </tr>\n",
       "  </tbody>\n",
       "</table>\n",
       "</div>"
      ],
      "text/plain": [
       "                                                                                                     Hypothesis  \\\n",
       "0            Добавить два новых канала привлечения трафика, что позволит привлекать на 30% больше пользователей   \n",
       "1                                     Запустить собственную службу доставки, что сократит срок доставки заказов   \n",
       "2  Добавить блоки рекомендаций товаров на сайт интернет магазина, чтобы повысить конверсию и средний чек заказа   \n",
       "3           Изменить структура категорий, что увеличит конверсию, т.к. пользователи быстрее найдут нужный товар   \n",
       "4                              Изменить цвет фона главной страницы, чтобы увеличить вовлеченность пользователей   \n",
       "5                      Добавить страницу отзывов клиентов о магазине, что позволит увеличить количество заказов   \n",
       "6          Показать на главной странице баннеры с актуальными акциями и распродажами, чтобы увеличить конверсию   \n",
       "7              Добавить форму подписки на все основные страницы, чтобы собрать базу клиентов для email-рассылок   \n",
       "8                                                       Запустить акцию, дающую скидку на товар в день рождения   \n",
       "\n",
       "   Reach  Impact  Confidence  Efforts  \n",
       "0      3      10           8        6  \n",
       "1      2       5           4       10  \n",
       "2      8       3           7        3  \n",
       "3      8       3           3        8  \n",
       "4      3       1           1        1  \n",
       "5      3       2           2        3  \n",
       "6      5       3           8        3  \n",
       "7     10       7           8        5  \n",
       "8      1       9           9        5  "
      ]
     },
     "metadata": {},
     "output_type": "display_data"
    },
    {
     "name": "stdout",
     "output_type": "stream",
     "text": [
      "<class 'pandas.core.frame.DataFrame'>\n",
      "RangeIndex: 9 entries, 0 to 8\n",
      "Data columns (total 5 columns):\n",
      " #   Column      Non-Null Count  Dtype \n",
      "---  ------      --------------  ----- \n",
      " 0   Hypothesis  9 non-null      object\n",
      " 1   Reach       9 non-null      int64 \n",
      " 2   Impact      9 non-null      int64 \n",
      " 3   Confidence  9 non-null      int64 \n",
      " 4   Efforts     9 non-null      int64 \n",
      "dtypes: int64(4), object(1)\n",
      "memory usage: 488.0+ bytes\n"
     ]
    }
   ],
   "source": [
    "pd.options.display.max_colwidth = 120\n",
    "display(hypothesis)\n",
    "hypothesis.info()"
   ]
  },
  {
   "cell_type": "markdown",
   "metadata": {},
   "source": [
    "Таблица **hypothesis**:\n",
    "\n",
    "- `Hypothesis` — краткое описание гипотезы;\n",
    "- `Reach` — охват пользователей по 10-балльной шкале;\n",
    "- `Impact` — влияние на пользователей по 10-балльной шкале;\n",
    "- `Confidence` — уверенность в гипотезе по 10-балльной шкале;\n",
    "- `Efforts` — затраты ресурсов на проверку гипотезы по 10-балльной шкале. Чем больше значение Efforts, тем дороже проверка гипотезы.\n",
    "____"
   ]
  },
  {
   "cell_type": "markdown",
   "metadata": {},
   "source": [
    "Ознакомимся с таблицей **orders**"
   ]
  },
  {
   "cell_type": "code",
   "execution_count": 4,
   "metadata": {},
   "outputs": [
    {
     "data": {
      "text/html": [
       "<div>\n",
       "<style scoped>\n",
       "    .dataframe tbody tr th:only-of-type {\n",
       "        vertical-align: middle;\n",
       "    }\n",
       "\n",
       "    .dataframe tbody tr th {\n",
       "        vertical-align: top;\n",
       "    }\n",
       "\n",
       "    .dataframe thead th {\n",
       "        text-align: right;\n",
       "    }\n",
       "</style>\n",
       "<table border=\"1\" class=\"dataframe\">\n",
       "  <thead>\n",
       "    <tr style=\"text-align: right;\">\n",
       "      <th></th>\n",
       "      <th>transactionId</th>\n",
       "      <th>visitorId</th>\n",
       "      <th>date</th>\n",
       "      <th>revenue</th>\n",
       "      <th>group</th>\n",
       "    </tr>\n",
       "  </thead>\n",
       "  <tbody>\n",
       "    <tr>\n",
       "      <th>0</th>\n",
       "      <td>3667963787</td>\n",
       "      <td>3312258926</td>\n",
       "      <td>2019-08-15</td>\n",
       "      <td>1650</td>\n",
       "      <td>B</td>\n",
       "    </tr>\n",
       "    <tr>\n",
       "      <th>1</th>\n",
       "      <td>2804400009</td>\n",
       "      <td>3642806036</td>\n",
       "      <td>2019-08-15</td>\n",
       "      <td>730</td>\n",
       "      <td>B</td>\n",
       "    </tr>\n",
       "    <tr>\n",
       "      <th>2</th>\n",
       "      <td>2961555356</td>\n",
       "      <td>4069496402</td>\n",
       "      <td>2019-08-15</td>\n",
       "      <td>400</td>\n",
       "      <td>A</td>\n",
       "    </tr>\n",
       "    <tr>\n",
       "      <th>3</th>\n",
       "      <td>3797467345</td>\n",
       "      <td>1196621759</td>\n",
       "      <td>2019-08-15</td>\n",
       "      <td>9759</td>\n",
       "      <td>B</td>\n",
       "    </tr>\n",
       "    <tr>\n",
       "      <th>4</th>\n",
       "      <td>2282983706</td>\n",
       "      <td>2322279887</td>\n",
       "      <td>2019-08-15</td>\n",
       "      <td>2308</td>\n",
       "      <td>B</td>\n",
       "    </tr>\n",
       "  </tbody>\n",
       "</table>\n",
       "</div>"
      ],
      "text/plain": [
       "   transactionId   visitorId        date  revenue group\n",
       "0     3667963787  3312258926  2019-08-15     1650     B\n",
       "1     2804400009  3642806036  2019-08-15      730     B\n",
       "2     2961555356  4069496402  2019-08-15      400     A\n",
       "3     3797467345  1196621759  2019-08-15     9759     B\n",
       "4     2282983706  2322279887  2019-08-15     2308     B"
      ]
     },
     "metadata": {},
     "output_type": "display_data"
    },
    {
     "name": "stdout",
     "output_type": "stream",
     "text": [
      "<class 'pandas.core.frame.DataFrame'>\n",
      "RangeIndex: 1197 entries, 0 to 1196\n",
      "Data columns (total 5 columns):\n",
      " #   Column         Non-Null Count  Dtype \n",
      "---  ------         --------------  ----- \n",
      " 0   transactionId  1197 non-null   int64 \n",
      " 1   visitorId      1197 non-null   int64 \n",
      " 2   date           1197 non-null   object\n",
      " 3   revenue        1197 non-null   int64 \n",
      " 4   group          1197 non-null   object\n",
      "dtypes: int64(3), object(2)\n",
      "memory usage: 46.9+ KB\n"
     ]
    }
   ],
   "source": [
    "display(orders.head())\n",
    "orders.info()"
   ]
  },
  {
   "cell_type": "markdown",
   "metadata": {},
   "source": [
    "Таблица **orders**:\n",
    "\n",
    "- `transactionId` — идентификатор заказа;\n",
    "- `visitorId` — идентификатор пользователя, совершившего заказ;\n",
    "- `date` — дата, когда был совершён заказ;\n",
    "- `revenue` — выручка заказа;\n",
    "- `group` — группа A/B-теста, в которую попал заказ.\n",
    "\n",
    "___"
   ]
  },
  {
   "cell_type": "markdown",
   "metadata": {},
   "source": [
    "Ознакомимся с таблицей **visitors**"
   ]
  },
  {
   "cell_type": "code",
   "execution_count": 5,
   "metadata": {},
   "outputs": [
    {
     "data": {
      "text/html": [
       "<div>\n",
       "<style scoped>\n",
       "    .dataframe tbody tr th:only-of-type {\n",
       "        vertical-align: middle;\n",
       "    }\n",
       "\n",
       "    .dataframe tbody tr th {\n",
       "        vertical-align: top;\n",
       "    }\n",
       "\n",
       "    .dataframe thead th {\n",
       "        text-align: right;\n",
       "    }\n",
       "</style>\n",
       "<table border=\"1\" class=\"dataframe\">\n",
       "  <thead>\n",
       "    <tr style=\"text-align: right;\">\n",
       "      <th></th>\n",
       "      <th>date</th>\n",
       "      <th>group</th>\n",
       "      <th>visitors</th>\n",
       "    </tr>\n",
       "  </thead>\n",
       "  <tbody>\n",
       "    <tr>\n",
       "      <th>0</th>\n",
       "      <td>2019-08-01</td>\n",
       "      <td>A</td>\n",
       "      <td>719</td>\n",
       "    </tr>\n",
       "    <tr>\n",
       "      <th>1</th>\n",
       "      <td>2019-08-02</td>\n",
       "      <td>A</td>\n",
       "      <td>619</td>\n",
       "    </tr>\n",
       "    <tr>\n",
       "      <th>2</th>\n",
       "      <td>2019-08-03</td>\n",
       "      <td>A</td>\n",
       "      <td>507</td>\n",
       "    </tr>\n",
       "    <tr>\n",
       "      <th>3</th>\n",
       "      <td>2019-08-04</td>\n",
       "      <td>A</td>\n",
       "      <td>717</td>\n",
       "    </tr>\n",
       "    <tr>\n",
       "      <th>4</th>\n",
       "      <td>2019-08-05</td>\n",
       "      <td>A</td>\n",
       "      <td>756</td>\n",
       "    </tr>\n",
       "  </tbody>\n",
       "</table>\n",
       "</div>"
      ],
      "text/plain": [
       "         date group  visitors\n",
       "0  2019-08-01     A       719\n",
       "1  2019-08-02     A       619\n",
       "2  2019-08-03     A       507\n",
       "3  2019-08-04     A       717\n",
       "4  2019-08-05     A       756"
      ]
     },
     "metadata": {},
     "output_type": "display_data"
    },
    {
     "name": "stdout",
     "output_type": "stream",
     "text": [
      "<class 'pandas.core.frame.DataFrame'>\n",
      "RangeIndex: 62 entries, 0 to 61\n",
      "Data columns (total 3 columns):\n",
      " #   Column    Non-Null Count  Dtype \n",
      "---  ------    --------------  ----- \n",
      " 0   date      62 non-null     object\n",
      " 1   group     62 non-null     object\n",
      " 2   visitors  62 non-null     int64 \n",
      "dtypes: int64(1), object(2)\n",
      "memory usage: 1.6+ KB\n"
     ]
    }
   ],
   "source": [
    "display(visitors.head())\n",
    "visitors.info()"
   ]
  },
  {
   "cell_type": "markdown",
   "metadata": {},
   "source": [
    "Таблица **visitors**:\n",
    "\n",
    "- `date` — дата;\n",
    "- `group` — группа A/B-теста;\n",
    "- `visitors` — количество пользователей в указанную дату в указанной группе A/B-теста\n",
    "____"
   ]
  },
  {
   "cell_type": "markdown",
   "metadata": {},
   "source": [
    "Подготовим данные, сделаем следующее:\n",
    "- Приведем названия столбцов всех таблиц к нижнему регистру;\n",
    "- Проверим таблицы на пропуски и дубликаты;\n",
    "- Пронумеруем гипотезы, добавив столбец с индексом;\n",
    "- Заменим тип данных в  столбцах *data*;\n",
    "- Проверим не попадают ли пользователи в обе группы."
   ]
  },
  {
   "cell_type": "code",
   "execution_count": 6,
   "metadata": {},
   "outputs": [],
   "source": [
    "# Приведём название столбцов к нижнему регистру\n",
    "hypothesis.columns = hypothesis.columns.str.lower()\n",
    "orders.columns = orders.columns.str.lower()\n",
    "visitors.columns = visitors.columns.str.lower()"
   ]
  },
  {
   "cell_type": "code",
   "execution_count": 7,
   "metadata": {},
   "outputs": [
    {
     "name": "stdout",
     "output_type": "stream",
     "text": [
      "hypothesis    0\n",
      "reach         0\n",
      "impact        0\n",
      "confidence    0\n",
      "efforts       0\n",
      "dtype: int64\n",
      "-------------------------------------\n",
      "transactionid    0\n",
      "visitorid        0\n",
      "date             0\n",
      "revenue          0\n",
      "group            0\n",
      "dtype: int64\n",
      "-------------------------------------\n",
      "date        0\n",
      "group       0\n",
      "visitors    0\n",
      "dtype: int64\n"
     ]
    }
   ],
   "source": [
    "# Проверим на пропуски\n",
    "print(hypothesis.isna().sum())\n",
    "print('-------------------------------------')\n",
    "print(orders.isna().sum())\n",
    "print('-------------------------------------')\n",
    "print(visitors.isna().sum())"
   ]
  },
  {
   "cell_type": "code",
   "execution_count": 8,
   "metadata": {},
   "outputs": [
    {
     "name": "stdout",
     "output_type": "stream",
     "text": [
      "0\n",
      "0\n",
      "0\n"
     ]
    }
   ],
   "source": [
    "# Проверим на дубликаты\n",
    "print(hypothesis.duplicated().sum())\n",
    "print(orders.duplicated().sum())\n",
    "print(visitors.duplicated().sum())"
   ]
  },
  {
   "cell_type": "code",
   "execution_count": 9,
   "metadata": {},
   "outputs": [],
   "source": [
    "# Присвоим столбец с номером гипотезы\n",
    "hypothesis = hypothesis.reset_index()"
   ]
  },
  {
   "cell_type": "code",
   "execution_count": 10,
   "metadata": {},
   "outputs": [],
   "source": [
    "# Заменим тип данных\n",
    "orders['date'] = pd.to_datetime(orders['date'], format='%Y-%m-%d')\n",
    "visitors['date'] = pd.to_datetime(visitors['date'], format='%Y-%m-%d')"
   ]
  },
  {
   "cell_type": "markdown",
   "metadata": {},
   "source": [
    "Так же необхоимо проверить, не попадаются ли пользователи в обе тестовые группы."
   ]
  },
  {
   "cell_type": "code",
   "execution_count": 11,
   "metadata": {},
   "outputs": [
    {
     "name": "stdout",
     "output_type": "stream",
     "text": [
      "Уникальных пользователей, сделавших заказ: 1031\n"
     ]
    }
   ],
   "source": [
    "print('Уникальных пользователей, сделавших заказ:', orders['visitorid'].nunique())"
   ]
  },
  {
   "cell_type": "code",
   "execution_count": 12,
   "metadata": {},
   "outputs": [
    {
     "data": {
      "text/html": [
       "<div>\n",
       "<style scoped>\n",
       "    .dataframe tbody tr th:only-of-type {\n",
       "        vertical-align: middle;\n",
       "    }\n",
       "\n",
       "    .dataframe tbody tr th {\n",
       "        vertical-align: top;\n",
       "    }\n",
       "\n",
       "    .dataframe thead th {\n",
       "        text-align: right;\n",
       "    }\n",
       "</style>\n",
       "<table border=\"1\" class=\"dataframe\">\n",
       "  <thead>\n",
       "    <tr style=\"text-align: right;\">\n",
       "      <th></th>\n",
       "      <th>transactionid</th>\n",
       "      <th>visitorid</th>\n",
       "      <th>date</th>\n",
       "    </tr>\n",
       "    <tr>\n",
       "      <th>group</th>\n",
       "      <th></th>\n",
       "      <th></th>\n",
       "      <th></th>\n",
       "    </tr>\n",
       "  </thead>\n",
       "  <tbody>\n",
       "    <tr>\n",
       "      <th>A</th>\n",
       "      <td>557</td>\n",
       "      <td>503</td>\n",
       "      <td>31</td>\n",
       "    </tr>\n",
       "    <tr>\n",
       "      <th>B</th>\n",
       "      <td>640</td>\n",
       "      <td>586</td>\n",
       "      <td>31</td>\n",
       "    </tr>\n",
       "  </tbody>\n",
       "</table>\n",
       "</div>"
      ],
      "text/plain": [
       "       transactionid  visitorid  date\n",
       "group                                \n",
       "A                557        503    31\n",
       "B                640        586    31"
      ]
     },
     "execution_count": 12,
     "metadata": {},
     "output_type": "execute_result"
    }
   ],
   "source": [
    "# Выведим таблицу с общим количеством идентификаторов заказов, уникальные идентификаторы пользователя \n",
    "# и дней тестирования по группам\n",
    "stat_group = orders.groupby('group').agg({'transactionid':'count', 'visitorid':'nunique', 'date':'nunique'})\n",
    "stat_group"
   ]
  },
  {
   "cell_type": "code",
   "execution_count": 13,
   "metadata": {},
   "outputs": [
    {
     "name": "stdout",
     "output_type": "stream",
     "text": [
      "Всего заказов по двум группам: 1089\n"
     ]
    }
   ],
   "source": [
    "print('Всего заказов по двум группам:',stat_group['visitorid'].sum())"
   ]
  },
  {
   "cell_type": "markdown",
   "metadata": {},
   "source": [
    "Получили подтверждение того, что пользоватли попали сразу в две тестовые группы, т.к. количество уникальных пользователей отличается от суммы заказов по группам."
   ]
  },
  {
   "cell_type": "code",
   "execution_count": 14,
   "metadata": {
    "scrolled": true
   },
   "outputs": [
    {
     "name": "stdout",
     "output_type": "stream",
     "text": [
      "Заказов пользователей попало в две группы: 58\n"
     ]
    },
    {
     "data": {
      "text/plain": [
       "Int64Index([   8300375,  199603092,  232979603,  237748145,  276558944,\n",
       "             351125977,  393266494,  457167155,  471551937,  477780734,\n",
       "             818047933,  963407295, 1230306981, 1294878855, 1316129916,\n",
       "            1333886533, 1404934699, 1602967004, 1614305549, 1648269707,\n",
       "            1668030113, 1738359350, 1801183820, 1959144690, 2038680547,\n",
       "            2044997962, 2378935119, 2458001652, 2579882178, 2587333274,\n",
       "            2600415354, 2654030115, 2686716486, 2712142231, 2716752286,\n",
       "            2780786433, 2927087541, 2949041841, 2954449915, 3062433592,\n",
       "            3202540741, 3234906277, 3656415546, 3717692402, 3766097110,\n",
       "            3803269165, 3891541246, 3941795274, 3951559397, 3957174400,\n",
       "            3963646447, 3972127743, 3984495233, 4069496402, 4120364173,\n",
       "            4186807279, 4256040402, 4266935830],\n",
       "           dtype='int64', name='visitorid')"
      ]
     },
     "execution_count": 14,
     "metadata": {},
     "output_type": "execute_result"
    }
   ],
   "source": [
    "# Проверю, сколько пользователей, попали в две группы\n",
    "erroneous_dt= orders.groupby('visitorid').agg({'group':'nunique'}).query('group > 1').index\n",
    "print('Заказов пользователей попало в две группы:', len(erroneous_dt))\n",
    "erroneous_dt"
   ]
  },
  {
   "cell_type": "markdown",
   "metadata": {},
   "source": [
    "Удалим данные 58 пользователей попавших в обе группы, что бы результаты исследования не исказились."
   ]
  },
  {
   "cell_type": "code",
   "execution_count": 15,
   "metadata": {},
   "outputs": [
    {
     "name": "stdout",
     "output_type": "stream",
     "text": [
      "<class 'pandas.core.frame.DataFrame'>\n",
      "Int64Index: 1016 entries, 0 to 1196\n",
      "Data columns (total 5 columns):\n",
      " #   Column         Non-Null Count  Dtype         \n",
      "---  ------         --------------  -----         \n",
      " 0   transactionid  1016 non-null   int64         \n",
      " 1   visitorid      1016 non-null   int64         \n",
      " 2   date           1016 non-null   datetime64[ns]\n",
      " 3   revenue        1016 non-null   int64         \n",
      " 4   group          1016 non-null   object        \n",
      "dtypes: datetime64[ns](1), int64(3), object(1)\n",
      "memory usage: 47.6+ KB\n"
     ]
    }
   ],
   "source": [
    "# Удалим данные из таблицы orders\n",
    "orders = orders.query('visitorid not in @erroneous_dt')\n",
    "orders.info()"
   ]
  },
  {
   "cell_type": "code",
   "execution_count": 16,
   "metadata": {},
   "outputs": [
    {
     "data": {
      "text/html": [
       "<div>\n",
       "<style scoped>\n",
       "    .dataframe tbody tr th:only-of-type {\n",
       "        vertical-align: middle;\n",
       "    }\n",
       "\n",
       "    .dataframe tbody tr th {\n",
       "        vertical-align: top;\n",
       "    }\n",
       "\n",
       "    .dataframe thead th {\n",
       "        text-align: right;\n",
       "    }\n",
       "</style>\n",
       "<table border=\"1\" class=\"dataframe\">\n",
       "  <thead>\n",
       "    <tr style=\"text-align: right;\">\n",
       "      <th></th>\n",
       "      <th>transactionid</th>\n",
       "      <th>visitorid</th>\n",
       "      <th>date</th>\n",
       "    </tr>\n",
       "    <tr>\n",
       "      <th>group</th>\n",
       "      <th></th>\n",
       "      <th></th>\n",
       "      <th></th>\n",
       "    </tr>\n",
       "  </thead>\n",
       "  <tbody>\n",
       "    <tr>\n",
       "      <th>A</th>\n",
       "      <td>468</td>\n",
       "      <td>445</td>\n",
       "      <td>31</td>\n",
       "    </tr>\n",
       "    <tr>\n",
       "      <th>B</th>\n",
       "      <td>548</td>\n",
       "      <td>528</td>\n",
       "      <td>31</td>\n",
       "    </tr>\n",
       "  </tbody>\n",
       "</table>\n",
       "</div>"
      ],
      "text/plain": [
       "       transactionid  visitorid  date\n",
       "group                                \n",
       "A                468        445    31\n",
       "B                548        528    31"
      ]
     },
     "execution_count": 16,
     "metadata": {},
     "output_type": "execute_result"
    }
   ],
   "source": [
    "# Проверим, что получилось\n",
    "stat_group2 = orders.groupby('group').agg({'transactionid':'count', 'visitorid':'nunique', 'date':'nunique'})\n",
    "stat_group2"
   ]
  },
  {
   "cell_type": "markdown",
   "metadata": {},
   "source": [
    "**Вывод**\n",
    "\n",
    "- Ознакомились с таблицами **hypothesis**, **orders**, **visitors**;\n",
    "- Предобработали данные для исследования.\n",
    "\n",
    "____"
   ]
  },
  {
   "cell_type": "markdown",
   "metadata": {},
   "source": [
    "## Приоритизация гипотез"
   ]
  },
  {
   "cell_type": "markdown",
   "metadata": {},
   "source": [
    "Расчитаем фреймворк ICE по формуле: \n",
    "    \n",
    "- **ICE = (Impact x Confidence) / Efforts**\n",
    "\n",
    "Отсортируем по убыванию приоритета."
   ]
  },
  {
   "cell_type": "code",
   "execution_count": 17,
   "metadata": {},
   "outputs": [
    {
     "data": {
      "text/html": [
       "<div>\n",
       "<style scoped>\n",
       "    .dataframe tbody tr th:only-of-type {\n",
       "        vertical-align: middle;\n",
       "    }\n",
       "\n",
       "    .dataframe tbody tr th {\n",
       "        vertical-align: top;\n",
       "    }\n",
       "\n",
       "    .dataframe thead th {\n",
       "        text-align: right;\n",
       "    }\n",
       "</style>\n",
       "<table border=\"1\" class=\"dataframe\">\n",
       "  <thead>\n",
       "    <tr style=\"text-align: right;\">\n",
       "      <th></th>\n",
       "      <th>index</th>\n",
       "      <th>hypothesis</th>\n",
       "      <th>ice</th>\n",
       "    </tr>\n",
       "  </thead>\n",
       "  <tbody>\n",
       "    <tr>\n",
       "      <th>8</th>\n",
       "      <td>8</td>\n",
       "      <td>Запустить акцию, дающую скидку на товар в день рождения</td>\n",
       "      <td>16.2</td>\n",
       "    </tr>\n",
       "    <tr>\n",
       "      <th>0</th>\n",
       "      <td>0</td>\n",
       "      <td>Добавить два новых канала привлечения трафика, что позволит привлекать на 30% больше пользователей</td>\n",
       "      <td>13.3</td>\n",
       "    </tr>\n",
       "    <tr>\n",
       "      <th>7</th>\n",
       "      <td>7</td>\n",
       "      <td>Добавить форму подписки на все основные страницы, чтобы собрать базу клиентов для email-рассылок</td>\n",
       "      <td>11.2</td>\n",
       "    </tr>\n",
       "    <tr>\n",
       "      <th>6</th>\n",
       "      <td>6</td>\n",
       "      <td>Показать на главной странице баннеры с актуальными акциями и распродажами, чтобы увеличить конверсию</td>\n",
       "      <td>8.0</td>\n",
       "    </tr>\n",
       "    <tr>\n",
       "      <th>2</th>\n",
       "      <td>2</td>\n",
       "      <td>Добавить блоки рекомендаций товаров на сайт интернет магазина, чтобы повысить конверсию и средний чек заказа</td>\n",
       "      <td>7.0</td>\n",
       "    </tr>\n",
       "    <tr>\n",
       "      <th>1</th>\n",
       "      <td>1</td>\n",
       "      <td>Запустить собственную службу доставки, что сократит срок доставки заказов</td>\n",
       "      <td>2.0</td>\n",
       "    </tr>\n",
       "    <tr>\n",
       "      <th>5</th>\n",
       "      <td>5</td>\n",
       "      <td>Добавить страницу отзывов клиентов о магазине, что позволит увеличить количество заказов</td>\n",
       "      <td>1.3</td>\n",
       "    </tr>\n",
       "    <tr>\n",
       "      <th>3</th>\n",
       "      <td>3</td>\n",
       "      <td>Изменить структура категорий, что увеличит конверсию, т.к. пользователи быстрее найдут нужный товар</td>\n",
       "      <td>1.1</td>\n",
       "    </tr>\n",
       "    <tr>\n",
       "      <th>4</th>\n",
       "      <td>4</td>\n",
       "      <td>Изменить цвет фона главной страницы, чтобы увеличить вовлеченность пользователей</td>\n",
       "      <td>1.0</td>\n",
       "    </tr>\n",
       "  </tbody>\n",
       "</table>\n",
       "</div>"
      ],
      "text/plain": [
       "   index  \\\n",
       "8      8   \n",
       "0      0   \n",
       "7      7   \n",
       "6      6   \n",
       "2      2   \n",
       "1      1   \n",
       "5      5   \n",
       "3      3   \n",
       "4      4   \n",
       "\n",
       "                                                                                                     hypothesis  \\\n",
       "8                                                       Запустить акцию, дающую скидку на товар в день рождения   \n",
       "0            Добавить два новых канала привлечения трафика, что позволит привлекать на 30% больше пользователей   \n",
       "7              Добавить форму подписки на все основные страницы, чтобы собрать базу клиентов для email-рассылок   \n",
       "6          Показать на главной странице баннеры с актуальными акциями и распродажами, чтобы увеличить конверсию   \n",
       "2  Добавить блоки рекомендаций товаров на сайт интернет магазина, чтобы повысить конверсию и средний чек заказа   \n",
       "1                                     Запустить собственную службу доставки, что сократит срок доставки заказов   \n",
       "5                      Добавить страницу отзывов клиентов о магазине, что позволит увеличить количество заказов   \n",
       "3           Изменить структура категорий, что увеличит конверсию, т.к. пользователи быстрее найдут нужный товар   \n",
       "4                              Изменить цвет фона главной страницы, чтобы увеличить вовлеченность пользователей   \n",
       "\n",
       "    ice  \n",
       "8  16.2  \n",
       "0  13.3  \n",
       "7  11.2  \n",
       "6   8.0  \n",
       "2   7.0  \n",
       "1   2.0  \n",
       "5   1.3  \n",
       "3   1.1  \n",
       "4   1.0  "
      ]
     },
     "metadata": {},
     "output_type": "display_data"
    },
    {
     "data": {
      "image/png": "[encoded data removed]",
      "text/plain": [
       "<Figure size 1080x504 with 1 Axes>"
      ]
     },
     "metadata": {
      "needs_background": "light"
     },
     "output_type": "display_data"
    }
   ],
   "source": [
    "# Рассчитаем ICE\n",
    "hypothesis['ice'] = ((hypothesis['impact'] * hypothesis['confidence']) / hypothesis['efforts']).round(1)\n",
    "\n",
    "# Выведем таблицу с гипотезами на экран и отсортируем по убыванию ICE\n",
    "ice = hypothesis[['index','hypothesis','ice']].sort_values(by='ice', ascending=False)\n",
    "display(ice)\n",
    "\n",
    "ice.plot(x='index', y='ice', kind='bar',grid=True, alpha=0.4, figsize = (15,7))\n",
    "plt.title('ICE')\n",
    "plt.xlabel('Номер гипотезы')\n",
    "plt.ylabel('Приоритет')\n",
    "plt.show()"
   ]
  },
  {
   "cell_type": "markdown",
   "metadata": {},
   "source": [
    "Расчитаем фреймворк RICE по формуле :\n",
    "\n",
    "- **RICE = (Reach x Impact x Confidence) / Efforts**\n",
    "\n",
    "Отсортирую по убыванию приоритета."
   ]
  },
  {
   "cell_type": "code",
   "execution_count": 18,
   "metadata": {},
   "outputs": [
    {
     "data": {
      "text/html": [
       "<div>\n",
       "<style scoped>\n",
       "    .dataframe tbody tr th:only-of-type {\n",
       "        vertical-align: middle;\n",
       "    }\n",
       "\n",
       "    .dataframe tbody tr th {\n",
       "        vertical-align: top;\n",
       "    }\n",
       "\n",
       "    .dataframe thead th {\n",
       "        text-align: right;\n",
       "    }\n",
       "</style>\n",
       "<table border=\"1\" class=\"dataframe\">\n",
       "  <thead>\n",
       "    <tr style=\"text-align: right;\">\n",
       "      <th></th>\n",
       "      <th>index</th>\n",
       "      <th>hypothesis</th>\n",
       "      <th>rice</th>\n",
       "    </tr>\n",
       "  </thead>\n",
       "  <tbody>\n",
       "    <tr>\n",
       "      <th>7</th>\n",
       "      <td>7</td>\n",
       "      <td>Добавить форму подписки на все основные страницы, чтобы собрать базу клиентов для email-рассылок</td>\n",
       "      <td>112.0</td>\n",
       "    </tr>\n",
       "    <tr>\n",
       "      <th>2</th>\n",
       "      <td>2</td>\n",
       "      <td>Добавить блоки рекомендаций товаров на сайт интернет магазина, чтобы повысить конверсию и средний чек заказа</td>\n",
       "      <td>56.0</td>\n",
       "    </tr>\n",
       "    <tr>\n",
       "      <th>0</th>\n",
       "      <td>0</td>\n",
       "      <td>Добавить два новых канала привлечения трафика, что позволит привлекать на 30% больше пользователей</td>\n",
       "      <td>40.0</td>\n",
       "    </tr>\n",
       "    <tr>\n",
       "      <th>6</th>\n",
       "      <td>6</td>\n",
       "      <td>Показать на главной странице баннеры с актуальными акциями и распродажами, чтобы увеличить конверсию</td>\n",
       "      <td>40.0</td>\n",
       "    </tr>\n",
       "    <tr>\n",
       "      <th>8</th>\n",
       "      <td>8</td>\n",
       "      <td>Запустить акцию, дающую скидку на товар в день рождения</td>\n",
       "      <td>16.2</td>\n",
       "    </tr>\n",
       "    <tr>\n",
       "      <th>3</th>\n",
       "      <td>3</td>\n",
       "      <td>Изменить структура категорий, что увеличит конверсию, т.к. пользователи быстрее найдут нужный товар</td>\n",
       "      <td>9.0</td>\n",
       "    </tr>\n",
       "    <tr>\n",
       "      <th>1</th>\n",
       "      <td>1</td>\n",
       "      <td>Запустить собственную службу доставки, что сократит срок доставки заказов</td>\n",
       "      <td>4.0</td>\n",
       "    </tr>\n",
       "    <tr>\n",
       "      <th>5</th>\n",
       "      <td>5</td>\n",
       "      <td>Добавить страницу отзывов клиентов о магазине, что позволит увеличить количество заказов</td>\n",
       "      <td>4.0</td>\n",
       "    </tr>\n",
       "    <tr>\n",
       "      <th>4</th>\n",
       "      <td>4</td>\n",
       "      <td>Изменить цвет фона главной страницы, чтобы увеличить вовлеченность пользователей</td>\n",
       "      <td>3.0</td>\n",
       "    </tr>\n",
       "  </tbody>\n",
       "</table>\n",
       "</div>"
      ],
      "text/plain": [
       "   index  \\\n",
       "7      7   \n",
       "2      2   \n",
       "0      0   \n",
       "6      6   \n",
       "8      8   \n",
       "3      3   \n",
       "1      1   \n",
       "5      5   \n",
       "4      4   \n",
       "\n",
       "                                                                                                     hypothesis  \\\n",
       "7              Добавить форму подписки на все основные страницы, чтобы собрать базу клиентов для email-рассылок   \n",
       "2  Добавить блоки рекомендаций товаров на сайт интернет магазина, чтобы повысить конверсию и средний чек заказа   \n",
       "0            Добавить два новых канала привлечения трафика, что позволит привлекать на 30% больше пользователей   \n",
       "6          Показать на главной странице баннеры с актуальными акциями и распродажами, чтобы увеличить конверсию   \n",
       "8                                                       Запустить акцию, дающую скидку на товар в день рождения   \n",
       "3           Изменить структура категорий, что увеличит конверсию, т.к. пользователи быстрее найдут нужный товар   \n",
       "1                                     Запустить собственную службу доставки, что сократит срок доставки заказов   \n",
       "5                      Добавить страницу отзывов клиентов о магазине, что позволит увеличить количество заказов   \n",
       "4                              Изменить цвет фона главной страницы, чтобы увеличить вовлеченность пользователей   \n",
       "\n",
       "    rice  \n",
       "7  112.0  \n",
       "2   56.0  \n",
       "0   40.0  \n",
       "6   40.0  \n",
       "8   16.2  \n",
       "3    9.0  \n",
       "1    4.0  \n",
       "5    4.0  \n",
       "4    3.0  "
      ]
     },
     "metadata": {},
     "output_type": "display_data"
    },
    {
     "data": {
      "image/png": "[encoded data removed]",
      "text/plain": [
       "<Figure size 1080x504 with 1 Axes>"
      ]
     },
     "metadata": {
      "needs_background": "light"
     },
     "output_type": "display_data"
    }
   ],
   "source": [
    "# Рассчитаем RICE\n",
    "hypothesis['rice'] = (hypothesis['reach'] * hypothesis['impact'] * hypothesis['confidence']) / hypothesis['efforts']\n",
    "\n",
    "# Выведем таблицу с гипотезами на экран и отсортируем по убыванию RICE\n",
    "rice = hypothesis[['index','hypothesis','rice']].sort_values(by='rice', ascending=False)\n",
    "display(rice)\n",
    "\n",
    "rice.plot(x='index', y='rice', kind='bar',grid=True, alpha=0.4, figsize = (15,7))\n",
    "plt.title('RICE')\n",
    "plt.xlabel('Номер гипотезы')\n",
    "plt.ylabel('Приоритет')\n",
    "plt.show()"
   ]
  },
  {
   "cell_type": "markdown",
   "metadata": {},
   "source": [
    "**Вывод**\n",
    "\n",
    "После применения методов ICE и RICE по показателям видно, что в первой пятерке выявили одинаковые гипотезы под номером: \n",
    "- №0 Добавить два новых канала привлечения трафика, что позволит привлекать на 30% больше пользователей;\n",
    "- №2 Добавить блоки рекомендаций товаров на сайт интернет магазина, чтобы повысить конверсию и средний чек заказа;\n",
    "- №6 Показать на главной странице баннеры с актуальными акциями и распродажами, чтобы увеличить конверсию;\n",
    "- №7 Добавить форму подписки на все основные страницы, чтобы собрать базу клиентов для email-рассылок;\n",
    "- №8 Запустить акцию, дающую скидку на товар в день рождения. \n",
    "\n",
    "Применив метод RICE, мы видим, что увеличился показатель гипотез:\n",
    "\n",
    "- №2 Добавить блоки рекомендаций товаров на сайт интернет магазина, чтобы повысить конверсию и средний чек заказа;\n",
    "- №7 Добавить форму подписки на все основные страницы, чтобы собрать базу клиентов для email-рассылок.\n",
    "\n",
    "Т.к. в данном методе добавляется параметр Reach показывающий скольких пользователей затронет изменение, которое хотим внести. Так же в первой тройке осталась гипотеза под номером 0, удержала позицию за счет высокого показателя Impact, равному 10.\n",
    "____"
   ]
  },
  {
   "cell_type": "markdown",
   "metadata": {},
   "source": [
    "## Анализ A/B-теста\n",
    "### Расчет кумулятивных показателей\n",
    "#### Построить график кумулятивной выручки по группам"
   ]
  },
  {
   "cell_type": "code",
   "execution_count": 19,
   "metadata": {
    "scrolled": true
   },
   "outputs": [],
   "source": [
    "# создаем массив уникальных пар значений дат и групп теста\n",
    "datesGroups = orders[['date','group']].drop_duplicates()"
   ]
  },
  {
   "cell_type": "code",
   "execution_count": 20,
   "metadata": {
    "scrolled": true
   },
   "outputs": [
    {
     "name": "stdout",
     "output_type": "stream",
     "text": [
      "<class 'pandas.core.frame.DataFrame'>\n",
      "Int64Index: 62 entries, 55 to 930\n",
      "Data columns (total 5 columns):\n",
      " #   Column         Non-Null Count  Dtype         \n",
      "---  ------         --------------  -----         \n",
      " 0   date           62 non-null     datetime64[ns]\n",
      " 1   group          62 non-null     object        \n",
      " 2   transactionid  62 non-null     int64         \n",
      " 3   visitorid      62 non-null     int64         \n",
      " 4   revenue        62 non-null     int64         \n",
      "dtypes: datetime64[ns](1), int64(3), object(1)\n",
      "memory usage: 2.9+ KB\n"
     ]
    }
   ],
   "source": [
    "# получаем агрегированные кумулятивные по дням данные о заказах \n",
    "ordersAggregated = datesGroups.apply(\n",
    "    lambda x: orders[np.logical_and(orders['date'] <= x['date'], orders['group'] == x['group'])]\n",
    "    .agg({'date': 'max',\n",
    "        'group': 'max',\n",
    "        'transactionid': 'nunique',\n",
    "        'visitorid': 'nunique',\n",
    "        'revenue': 'sum'}),\n",
    "    axis=1,).sort_values(by=['date', 'group'])\n",
    "\n",
    "ordersAggregated.info()"
   ]
  },
  {
   "cell_type": "code",
   "execution_count": 21,
   "metadata": {
    "scrolled": true
   },
   "outputs": [
    {
     "name": "stdout",
     "output_type": "stream",
     "text": [
      "<class 'pandas.core.frame.DataFrame'>\n",
      "Int64Index: 62 entries, 55 to 930\n",
      "Data columns (total 3 columns):\n",
      " #   Column    Non-Null Count  Dtype         \n",
      "---  ------    --------------  -----         \n",
      " 0   date      62 non-null     datetime64[ns]\n",
      " 1   group     62 non-null     object        \n",
      " 2   visitors  62 non-null     int64         \n",
      "dtypes: datetime64[ns](1), int64(1), object(1)\n",
      "memory usage: 1.9+ KB\n"
     ]
    }
   ],
   "source": [
    "# получаем агрегированные кумулятивные по дням данные о посетителях интернет-магазина \n",
    "visitorsAggregated = datesGroups.apply(\n",
    "    lambda x: visitors[np.logical_and(visitors['date'] <= x['date'], visitors['group'] == x['group'])]\n",
    "    .agg({'date': 'max', \n",
    "         'group': 'max', \n",
    "         'visitors': 'sum'}),\n",
    "    axis=1,).sort_values(by=['date', 'group'])\n",
    "\n",
    "visitorsAggregated.info()"
   ]
  },
  {
   "cell_type": "code",
   "execution_count": 22,
   "metadata": {
    "scrolled": true
   },
   "outputs": [
    {
     "name": "stdout",
     "output_type": "stream",
     "text": [
      "         date group  orders  buyers  revenue  visitors\n",
      "0  2019-08-01     A      23      19   142779       719\n",
      "1  2019-08-01     B      17      17    59758       713\n",
      "2  2019-08-02     A      42      36   234381      1338\n",
      "3  2019-08-02     B      40      39   221801      1294\n",
      "4  2019-08-03     A      66      60   346854      1845\n",
      "5  2019-08-03     B      54      53   288850      1803\n",
      "6  2019-08-04     A      77      71   388030      2562\n",
      "7  2019-08-04     B      68      66   385740      2573\n",
      "8  2019-08-05     A      99      92   474413      3318\n",
      "9  2019-08-05     B      89      87   475648      3280\n",
      "10 2019-08-06     A     114     104   515332      3985\n",
      "11 2019-08-06     B     112     109   690490      3935\n",
      "12 2019-08-07     A     130     120   638580      4629\n",
      "13 2019-08-07     B     135     132   909654      4644\n",
      "14 2019-08-08     A     144     133   727219      5239\n",
      "15 2019-08-08     B     157     154  1059795      5298\n",
      "16 2019-08-09     A     155     143   861456      5856\n",
      "17 2019-08-09     B     176     173  1162961      5908\n",
      "18 2019-08-10     A     170     158  1013731      6262\n",
      "19 2019-08-10     B     198     195  1268123      6277\n",
      "20 2019-08-11     A     181     169  1074396      6980\n",
      "21 2019-08-11     B     210     207  1321183      6998\n",
      "22 2019-08-12     A     200     188  1294788      7575\n",
      "23 2019-08-12     B     229     225  1425237      7541\n",
      "24 2019-08-13     A     214     201  1558426      8323\n",
      "25 2019-08-13     B     249     244  1542928      8310\n",
      "26 2019-08-14     A     231     218  1601692      9058\n",
      "27 2019-08-14     B     263     258  1650268      9056\n",
      "28 2019-08-15     A     241     228  1682569      9686\n",
      "29 2019-08-15     B     289     284  1960427      9600\n",
      "30 2019-08-16     A     259     246  1782420     10047\n",
      "31 2019-08-16     B     307     302  2074677     10013\n",
      "32 2019-08-17     A     265     251  1817160     10459\n",
      "33 2019-08-17     B     320     314  2155542     10434\n",
      "34 2019-08-18     A     278     264  1876741     11127\n",
      "35 2019-08-18     B     327     321  2190865     11171\n",
      "36 2019-08-19     A     299     283  2044934     11629\n",
      "37 2019-08-19     B     348     341  3620785     11658\n",
      "38 2019-08-20     A     309     293  2103613     12204\n",
      "39 2019-08-20     B     368     360  3768059     12218\n",
      "40 2019-08-21     A     329     311  2273782     12850\n",
      "41 2019-08-21     B     380     370  3908406     12874\n",
      "42 2019-08-22     A     339     321  2366147     13459\n",
      "43 2019-08-22     B     401     388  4050134     13524\n",
      "44 2019-08-23     A     359     341  2424010     13927\n",
      "45 2019-08-23     B     414     400  4127403     14070\n",
      "46 2019-08-24     A     372     354  2546023     14322\n",
      "47 2019-08-24     B     428     412  4215269     14448\n",
      "48 2019-08-25     A     380     362  2597907     14943\n",
      "49 2019-08-25     B     440     424  4294526     15127\n",
      "50 2019-08-26     A     396     378  2755121     15665\n",
      "51 2019-08-26     B     462     446  4467965     15803\n",
      "52 2019-08-27     A     419     400  2940471     16376\n",
      "53 2019-08-27     B     473     456  4579312     16523\n",
      "54 2019-08-28     A     434     413  3036933     16970\n",
      "55 2019-08-28     B     495     476  4640510     17177\n",
      "56 2019-08-29     A     451     430  3233233     17547\n",
      "57 2019-08-29     B     510     490  4746610     17708\n",
      "58 2019-08-30     A     460     437  3311413     18037\n",
      "59 2019-08-30     B     531     511  4955833     18198\n",
      "60 2019-08-31     A     468     445  3364656     18736\n",
      "61 2019-08-31     B     548     528  5068972     18916\n"
     ]
    }
   ],
   "source": [
    "# объединяем кумулятивные данные в одной таблице и присваиваем ее столбцам понятные названия\n",
    "cumulativeData = ordersAggregated.merge(visitorsAggregated, left_on=['date', 'group'], right_on=['date', 'group'])\n",
    "cumulativeData.columns = ['date', 'group', 'orders', 'buyers', 'revenue', 'visitors']\n",
    "\n",
    "print(cumulativeData.to_string())"
   ]
  },
  {
   "cell_type": "code",
   "execution_count": 23,
   "metadata": {},
   "outputs": [],
   "source": [
    "# датафрейм с кумулятивным количеством заказов и кумулятивной выручкой по дням в группе А и В\n",
    "cumulativeRevenueA = cumulativeData[cumulativeData['group'] == 'A'][['date', 'revenue', 'orders']]\n",
    "cumulativeRevenueB = cumulativeData[cumulativeData['group'] == 'B'][['date', 'revenue', 'orders']]"
   ]
  },
  {
   "cell_type": "code",
   "execution_count": 24,
   "metadata": {
    "scrolled": true
   },
   "outputs": [
    {
     "data": {
      "image/png": "[encoded data removed]",
      "text/plain": [
       "<Figure size 1080x504 with 1 Axes>"
      ]
     },
     "metadata": {
      "needs_background": "light"
     },
     "output_type": "display_data"
    }
   ],
   "source": [
    "# задаём сетку отрисовки графика\n",
    "plt.figure(figsize=(15, 7))\n",
    "\n",
    "# Строим график выручки группы А и группы В\n",
    "plt.plot(cumulativeRevenueA['date'], cumulativeRevenueA['revenue'], label='группа «А»')\n",
    "plt.plot(cumulativeRevenueB['date'], cumulativeRevenueB['revenue'], label='группа «В»')\n",
    "\n",
    "plt.title('Кумулятивная выручка по дням')\n",
    "plt.xlabel('Дата')\n",
    "plt.ylabel('Выручка')\n",
    "plt.grid(True)\n",
    "plt.legend()\n",
    "plt.show()"
   ]
  },
  {
   "cell_type": "markdown",
   "metadata": {},
   "source": [
    "**Вывод**\n",
    "\n",
    "Во время проведения теста (31 день) выручка групп «А» и «В» равномерно увеличивается. \n",
    "\n",
    "Так же видно резкий скачок в выручке группы «В» 19 числа. Это может сигнализировать о всплесках числа заказов, либо о появлении очень дорогих заказов в выборке.\n",
    "\n",
    "___\n"
   ]
  },
  {
   "cell_type": "markdown",
   "metadata": {},
   "source": [
    "#### Построить график кумулятивного среднего чека по группам"
   ]
  },
  {
   "cell_type": "code",
   "execution_count": 25,
   "metadata": {},
   "outputs": [
    {
     "data": {
      "image/png": "[encoded data removed]",
      "text/plain": [
       "<Figure size 1080x504 with 1 Axes>"
      ]
     },
     "metadata": {
      "needs_background": "light"
     },
     "output_type": "display_data"
    }
   ],
   "source": [
    "# задаём сетку отрисовки графика\n",
    "plt.figure(figsize=(15, 7))\n",
    "\n",
    "# Строим график выручки группы А\n",
    "plt.plot(cumulativeRevenueA['date'], cumulativeRevenueA['revenue']/cumulativeRevenueA['orders'], label='группа «А»')\n",
    "\n",
    "# Строим график выручки группы B\n",
    "plt.plot(cumulativeRevenueB['date'], cumulativeRevenueB['revenue']/cumulativeRevenueB['orders'], label='группа «В»')\n",
    "\n",
    "plt.title('Кумулятивный средний чек по дням')\n",
    "plt.xlabel('Дата')\n",
    "plt.ylabel('Сумма среднего чека')\n",
    "plt.grid(True)\n",
    "plt.legend()\n",
    "plt.show()"
   ]
  },
  {
   "cell_type": "markdown",
   "metadata": {},
   "source": [
    "**Вывод**\n",
    "\n",
    "Кумулятивное значение среднего чека колеблется до 19 дня тестового периода исследования, после показатель среднего чека стабилизировался.\n",
    "\n",
    "Так же средний чек группы  «А» медленно растет, а в группе «В»  после резкого скачка значение постепенно снижается.\n",
    "Принимать решения по этой метрике рано, возможно выбросы искажают результаты.\n",
    "____"
   ]
  },
  {
   "cell_type": "markdown",
   "metadata": {},
   "source": [
    "#### Построить график относительного изменения кумулятивного среднего чека группы «В» к группе «А»"
   ]
  },
  {
   "cell_type": "code",
   "execution_count": 26,
   "metadata": {},
   "outputs": [
    {
     "data": {
      "image/png": "[encoded data removed]",
      "text/plain": [
       "<Figure size 1080x504 with 1 Axes>"
      ]
     },
     "metadata": {
      "needs_background": "light"
     },
     "output_type": "display_data"
    }
   ],
   "source": [
    "# задаём сетку отрисовки графика\n",
    "plt.figure(figsize=(15, 7))\n",
    "\n",
    "# собираем данные в одном датафрейме\n",
    "mergedCumulativeRevenue = cumulativeRevenueA.merge(cumulativeRevenueB, \n",
    "                                                   left_on='date', \n",
    "                                                   right_on='date', \n",
    "                                                   how='left', \n",
    "                                                   suffixes=['A', 'B'])\n",
    "\n",
    "# cтроим отношение средних чеков\n",
    "plt.plot(mergedCumulativeRevenue['date'], \n",
    "        (mergedCumulativeRevenue['revenueB']/mergedCumulativeRevenue['ordersB'])/\n",
    "        (mergedCumulativeRevenue['revenueA']/mergedCumulativeRevenue['ordersA'])-1)\n",
    "\n",
    "plt.axhline(y=0, color='black', linestyle='--') \n",
    "plt.title('Относительное изменение кумулятивного среднего чека группы «В» к группе «А»')\n",
    "plt.xlabel('Дата')\n",
    "plt.ylabel('Изменение среднего чека')\n",
    "plt.grid(True)\n",
    "plt.show()"
   ]
  },
  {
   "cell_type": "markdown",
   "metadata": {},
   "source": [
    "**Вывод**\n",
    "\n",
    "В нескольких точках график различия между сегментами резко колеблется в определённых числах. \n",
    "___"
   ]
  },
  {
   "cell_type": "markdown",
   "metadata": {},
   "source": [
    "#### Построить график кумулятивного среднего количества заказов по группам"
   ]
  },
  {
   "cell_type": "code",
   "execution_count": 27,
   "metadata": {},
   "outputs": [],
   "source": [
    "# считаем кумулятивную конверсию\n",
    "cumulativeData['conversion'] = cumulativeData['orders']/cumulativeData['visitors']\n",
    "\n",
    "# отделяем данные по группе A\n",
    "cumulativeDataA = cumulativeData[cumulativeData['group']=='A']\n",
    "\n",
    "# отделяем данные по группе B\n",
    "cumulativeDataB = cumulativeData[cumulativeData['group']=='B']"
   ]
  },
  {
   "cell_type": "code",
   "execution_count": 28,
   "metadata": {
    "scrolled": true
   },
   "outputs": [
    {
     "data": {
      "image/png": "[encoded data removed]",
      "text/plain": [
       "<Figure size 1080x504 with 1 Axes>"
      ]
     },
     "metadata": {
      "needs_background": "light"
     },
     "output_type": "display_data"
    }
   ],
   "source": [
    "# задаём сетку отрисовки графика\n",
    "plt.figure(figsize=(15, 7))\n",
    "\n",
    "# строим графики\n",
    "plt.plot(cumulativeDataA['date'], cumulativeDataA['conversion'], label='группа «А»')\n",
    "plt.plot(cumulativeDataB['date'], cumulativeDataB['conversion'], label='группа «В»')\n",
    "\n",
    "plt.title('Кумулятивная конверсия по дням')\n",
    "plt.xlabel('Дата')\n",
    "plt.ylabel('Конверсия')\n",
    "plt.grid(True)\n",
    "plt.legend()\n",
    "plt.show()"
   ]
  },
  {
   "cell_type": "markdown",
   "metadata": {},
   "source": [
    "**Вывод**\n",
    "\n",
    "Конверсия нестабильна с первого дня тестирования.\n",
    "\n",
    "На седьмой день тестового периода конверсия группы «В» стала намного выше, чем у группы «А».\n",
    "\n",
    "___"
   ]
  },
  {
   "cell_type": "markdown",
   "metadata": {},
   "source": [
    "#### Построить график относительного различия конверсии группы «В» к группе «А»"
   ]
  },
  {
   "cell_type": "code",
   "execution_count": 29,
   "metadata": {},
   "outputs": [
    {
     "data": {
      "text/html": [
       "<div>\n",
       "<style scoped>\n",
       "    .dataframe tbody tr th:only-of-type {\n",
       "        vertical-align: middle;\n",
       "    }\n",
       "\n",
       "    .dataframe tbody tr th {\n",
       "        vertical-align: top;\n",
       "    }\n",
       "\n",
       "    .dataframe thead th {\n",
       "        text-align: right;\n",
       "    }\n",
       "</style>\n",
       "<table border=\"1\" class=\"dataframe\">\n",
       "  <thead>\n",
       "    <tr style=\"text-align: right;\">\n",
       "      <th></th>\n",
       "      <th>date</th>\n",
       "      <th>conversionA</th>\n",
       "      <th>conversionB</th>\n",
       "    </tr>\n",
       "  </thead>\n",
       "  <tbody>\n",
       "    <tr>\n",
       "      <th>0</th>\n",
       "      <td>2019-08-01</td>\n",
       "      <td>0.031989</td>\n",
       "      <td>0.023843</td>\n",
       "    </tr>\n",
       "    <tr>\n",
       "      <th>1</th>\n",
       "      <td>2019-08-02</td>\n",
       "      <td>0.031390</td>\n",
       "      <td>0.030912</td>\n",
       "    </tr>\n",
       "    <tr>\n",
       "      <th>2</th>\n",
       "      <td>2019-08-03</td>\n",
       "      <td>0.035772</td>\n",
       "      <td>0.029950</td>\n",
       "    </tr>\n",
       "    <tr>\n",
       "      <th>3</th>\n",
       "      <td>2019-08-04</td>\n",
       "      <td>0.030055</td>\n",
       "      <td>0.026428</td>\n",
       "    </tr>\n",
       "    <tr>\n",
       "      <th>4</th>\n",
       "      <td>2019-08-05</td>\n",
       "      <td>0.029837</td>\n",
       "      <td>0.027134</td>\n",
       "    </tr>\n",
       "  </tbody>\n",
       "</table>\n",
       "</div>"
      ],
      "text/plain": [
       "        date  conversionA  conversionB\n",
       "0 2019-08-01     0.031989     0.023843\n",
       "1 2019-08-02     0.031390     0.030912\n",
       "2 2019-08-03     0.035772     0.029950\n",
       "3 2019-08-04     0.030055     0.026428\n",
       "4 2019-08-05     0.029837     0.027134"
      ]
     },
     "execution_count": 29,
     "metadata": {},
     "output_type": "execute_result"
    }
   ],
   "source": [
    "mergedCumulativeConversions = cumulativeDataA[['date','conversion']].merge(\n",
    "                              cumulativeDataB[['date','conversion']],left_on='date', \n",
    "                                                                     right_on='date',\n",
    "                                                                     how='left', \n",
    "                                                                     suffixes=['A', 'B'])\n",
    "mergedCumulativeConversions.head()"
   ]
  },
  {
   "cell_type": "code",
   "execution_count": 30,
   "metadata": {
    "scrolled": true
   },
   "outputs": [
    {
     "name": "stderr",
     "output_type": "stream",
     "text": [
      "No artists with labels found to put in legend.  Note that artists whose label start with an underscore are ignored when legend() is called with no argument.\n"
     ]
    },
    {
     "data": {
      "image/png": "[encoded data removed]",
      "text/plain": [
       "<Figure size 1080x504 with 1 Axes>"
      ]
     },
     "metadata": {
      "needs_background": "light"
     },
     "output_type": "display_data"
    }
   ],
   "source": [
    "# задаём сетку отрисовки графика\n",
    "plt.figure(figsize=(15, 7))\n",
    "\n",
    "# Построим график относительного различия кумулятивных конверсий:\n",
    "plt.plot(mergedCumulativeConversions['date'], \n",
    "         mergedCumulativeConversions['conversionB']/mergedCumulativeConversions['conversionA']-1)\n",
    "\n",
    "plt.axhline(y=0, color='black', linestyle='--')\n",
    "plt.axhline(y=0.1, color='grey', linestyle='--')\n",
    "\n",
    "plt.title('Относительное различие конверсии группы «В» к группе «А»')\n",
    "plt.xlabel('Дата')\n",
    "plt.ylabel('Конверсия')\n",
    "plt.grid(True)\n",
    "plt.legend()\n",
    "plt.show()"
   ]
  },
  {
   "cell_type": "markdown",
   "metadata": {},
   "source": [
    "**Вывод**\n",
    "\n",
    "Почти с самого начала группа «В» лидирует. По конверсии виден стабильный показатель в 10% относительно группы «А».\n",
    "В целом отношение конверсии ещё не установилось, и сейчас делать какие-либо выводы по тесту нельзя. Впрочем, сперва стоит проанализировать аномалии, возможно, они изменят картину.\n",
    "___"
   ]
  },
  {
   "cell_type": "markdown",
   "metadata": {},
   "source": [
    "### Поиск выбросов\n",
    "#### Построить точечный график количества заказов по пользователям"
   ]
  },
  {
   "cell_type": "code",
   "execution_count": 31,
   "metadata": {},
   "outputs": [
    {
     "data": {
      "text/html": [
       "<div>\n",
       "<style scoped>\n",
       "    .dataframe tbody tr th:only-of-type {\n",
       "        vertical-align: middle;\n",
       "    }\n",
       "\n",
       "    .dataframe tbody tr th {\n",
       "        vertical-align: top;\n",
       "    }\n",
       "\n",
       "    .dataframe thead th {\n",
       "        text-align: right;\n",
       "    }\n",
       "</style>\n",
       "<table border=\"1\" class=\"dataframe\">\n",
       "  <thead>\n",
       "    <tr style=\"text-align: right;\">\n",
       "      <th></th>\n",
       "      <th>userid</th>\n",
       "      <th>orders</th>\n",
       "    </tr>\n",
       "  </thead>\n",
       "  <tbody>\n",
       "    <tr>\n",
       "      <th>908</th>\n",
       "      <td>3967698036</td>\n",
       "      <td>3</td>\n",
       "    </tr>\n",
       "    <tr>\n",
       "      <th>55</th>\n",
       "      <td>249864742</td>\n",
       "      <td>3</td>\n",
       "    </tr>\n",
       "    <tr>\n",
       "      <th>478</th>\n",
       "      <td>2108163459</td>\n",
       "      <td>3</td>\n",
       "    </tr>\n",
       "    <tr>\n",
       "      <th>687</th>\n",
       "      <td>2988190573</td>\n",
       "      <td>3</td>\n",
       "    </tr>\n",
       "    <tr>\n",
       "      <th>890</th>\n",
       "      <td>3908431265</td>\n",
       "      <td>3</td>\n",
       "    </tr>\n",
       "  </tbody>\n",
       "</table>\n",
       "</div>"
      ],
      "text/plain": [
       "         userid  orders\n",
       "908  3967698036       3\n",
       "55    249864742       3\n",
       "478  2108163459       3\n",
       "687  2988190573       3\n",
       "890  3908431265       3"
      ]
     },
     "execution_count": 31,
     "metadata": {},
     "output_type": "execute_result"
    }
   ],
   "source": [
    "ordersByUsers = (orders.groupby('visitorid', as_index=False)\n",
    "                       .agg({'transactionid': 'nunique'}))\n",
    "\n",
    "ordersByUsers.columns = ['userid', 'orders']\n",
    "\n",
    "# Построю таблицу, группирую по id заказа\n",
    "ordersByUsers.sort_values(by='orders', ascending=False).head(5)"
   ]
  },
  {
   "cell_type": "markdown",
   "metadata": {},
   "source": [
    "Есть пользователи совершившие 11, 9 и 8 заказов за месяц."
   ]
  },
  {
   "cell_type": "code",
   "execution_count": 32,
   "metadata": {
    "scrolled": true
   },
   "outputs": [
    {
     "name": "stderr",
     "output_type": "stream",
     "text": [
      "No artists with labels found to put in legend.  Note that artists whose label start with an underscore are ignored when legend() is called with no argument.\n"
     ]
    },
    {
     "data": {
      "image/png": "[encoded data removed]",
      "text/plain": [
       "<Figure size 1080x504 with 1 Axes>"
      ]
     },
     "metadata": {
      "needs_background": "light"
     },
     "output_type": "display_data"
    }
   ],
   "source": [
    "# задаём сетку отрисовки графика\n",
    "plt.figure(figsize=(15, 7))\n",
    "\n",
    "# Построю гистограмму распределения количества заказов на одного пользователя\n",
    "plt.hist(ordersByUsers['orders']) \n",
    "plt.title('Гистограмма распределения количества заказов')\n",
    "plt.xlabel('Количество пользователей')\n",
    "plt.ylabel('Количество заказов')\n",
    "plt.grid(True)\n",
    "plt.legend()\n",
    "plt.show()"
   ]
  },
  {
   "cell_type": "markdown",
   "metadata": {},
   "source": [
    "Покупатели чаще всего делают только один заказ за месяц, так же доля тех, кто делает 2-4 заказа в месяц - значительна.\n",
    "Оценим количество заказов ещё одним способом."
   ]
  },
  {
   "cell_type": "code",
   "execution_count": 33,
   "metadata": {},
   "outputs": [
    {
     "name": "stderr",
     "output_type": "stream",
     "text": [
      "No artists with labels found to put in legend.  Note that artists whose label start with an underscore are ignored when legend() is called with no argument.\n"
     ]
    },
    {
     "data": {
      "image/png": "[encoded data removed]",
      "text/plain": [
       "<Figure size 1080x504 with 1 Axes>"
      ]
     },
     "metadata": {
      "needs_background": "light"
     },
     "output_type": "display_data"
    }
   ],
   "source": [
    "# задаём сетку отрисовки графиков\n",
    "plt.figure(figsize=(15, 7))\n",
    "\n",
    "# Построю точечный график\n",
    "x_values = pd.Series(range(0,len(orders['visitorid'].unique())))\n",
    "plt.scatter(x_values, ordersByUsers['orders'])\n",
    "\n",
    "plt.title('Распределение количества заказов')\n",
    "plt.xlabel('Количество пользователей')\n",
    "plt.ylabel('Количество заказов')\n",
    "plt.grid(True)\n",
    "plt.legend()\n",
    "plt.show()"
   ]
  },
  {
   "cell_type": "markdown",
   "metadata": {},
   "source": [
    "На графике видно, много покупателей совершают больше одной покупки за месяц. Ответим на этот вопрос точно посчитав выборочные перцентили.\n",
    "___"
   ]
  },
  {
   "cell_type": "code",
   "execution_count": 34,
   "metadata": {},
   "outputs": [
    {
     "data": {
      "text/plain": [
       "array([1., 2.])"
      ]
     },
     "execution_count": 34,
     "metadata": {},
     "output_type": "execute_result"
    }
   ],
   "source": [
    "# Посчитаю 95-й и 99-й перцентили количества заказов на пользователя\n",
    "np.percentile(ordersByUsers['orders'], [95, 99])"
   ]
  },
  {
   "cell_type": "markdown",
   "metadata": {},
   "source": [
    "**Вывод**\n",
    "\n",
    "Не более 5% покупателей делают больше 2 заказов месяц и не более 1% больше 4 заказов в месяц.\n",
    "Буду считать аномальным значением - от трёх и больше заказа в месяц.\n",
    "___"
   ]
  },
  {
   "cell_type": "markdown",
   "metadata": {},
   "source": [
    "#### Построить точечный график стоимостей заказов"
   ]
  },
  {
   "cell_type": "code",
   "execution_count": 35,
   "metadata": {},
   "outputs": [
    {
     "name": "stderr",
     "output_type": "stream",
     "text": [
      "No artists with labels found to put in legend.  Note that artists whose label start with an underscore are ignored when legend() is called with no argument.\n"
     ]
    },
    {
     "data": {
      "image/png": "[encoded data removed]",
      "text/plain": [
       "<Figure size 1080x504 with 1 Axes>"
      ]
     },
     "metadata": {
      "needs_background": "light"
     },
     "output_type": "display_data"
    }
   ],
   "source": [
    "# задаём сетку отрисовки графиков\n",
    "plt.figure(figsize=(15, 7))\n",
    "\n",
    "x_values = pd.Series(range(0,len(orders['revenue'])))\n",
    "\n",
    "# Построю точечный график распределения количества заказов на одного пользователя\n",
    "plt.scatter(x_values, orders['revenue']) \n",
    "plt.title('Распределение стоимостей заказов')\n",
    "plt.xlabel('Стоимость заказов')\n",
    "plt.ylabel('Количество пользователей')\n",
    "plt.grid(True)\n",
    "plt.legend()\n",
    "plt.show()"
   ]
  },
  {
   "cell_type": "markdown",
   "metadata": {},
   "source": [
    "На графике видно 2 аномальных значения. Увеличу график, что бы подробнее рассмотреть распределение заказов."
   ]
  },
  {
   "cell_type": "code",
   "execution_count": 36,
   "metadata": {},
   "outputs": [
    {
     "name": "stderr",
     "output_type": "stream",
     "text": [
      "No artists with labels found to put in legend.  Note that artists whose label start with an underscore are ignored when legend() is called with no argument.\n"
     ]
    },
    {
     "data": {
      "image/png": "[encoded data removed]",
      "text/plain": [
       "<Figure size 1080x504 with 1 Axes>"
      ]
     },
     "metadata": {
      "needs_background": "light"
     },
     "output_type": "display_data"
    }
   ],
   "source": [
    "# задаём сетку отрисовки графиков\n",
    "plt.figure(figsize=(15, 7))\n",
    "\n",
    "x_values = pd.Series(range(0,len(orders.query('revenue <=150000')['revenue'])))\n",
    "\n",
    "plt.scatter(x_values, orders.query('revenue <=150000')['revenue']) \n",
    "plt.title('Распределение стоимостей заказов')\n",
    "plt.xlabel('Стоимость заказов')\n",
    "plt.ylabel('Количество пользователей')\n",
    "plt.grid(True)\n",
    "plt.legend()\n",
    "plt.show()"
   ]
  },
  {
   "cell_type": "markdown",
   "metadata": {},
   "source": [
    "Основная масса заказов суммой до 10 000, а вот заказы более чем 30 000 встречаются реже. Ответим на этот вопрос точно посчитав выборочные перцентили."
   ]
  },
  {
   "cell_type": "code",
   "execution_count": 37,
   "metadata": {},
   "outputs": [
    {
     "data": {
      "text/plain": [
       "array([26785., 53904.])"
      ]
     },
     "execution_count": 37,
     "metadata": {},
     "output_type": "execute_result"
    }
   ],
   "source": [
    "# Посчитаю 95-й и 99-й перцентили стоимости заказов\n",
    "np.percentile(orders['revenue'], [95, 99])"
   ]
  },
  {
   "cell_type": "markdown",
   "metadata": {},
   "source": [
    "**Вывод**\n",
    "\n",
    "Не более 5% покупателей делают заказ больше чем на 28 000 месяц и не более 1% тратят 58 000 на заказ в месяц.\n",
    "Будем считать аномальным значением заказы суммой больше 28 000.\n",
    "___"
   ]
  },
  {
   "cell_type": "markdown",
   "metadata": {},
   "source": [
    "### Проверка статистических гипотез\n",
    "#### Посчитать статистическую значимость различий в среднем количестве заказов между группами по «сырым» данным"
   ]
  },
  {
   "cell_type": "code",
   "execution_count": 38,
   "metadata": {},
   "outputs": [
    {
     "data": {
      "text/html": [
       "<div>\n",
       "<style scoped>\n",
       "    .dataframe tbody tr th:only-of-type {\n",
       "        vertical-align: middle;\n",
       "    }\n",
       "\n",
       "    .dataframe tbody tr th {\n",
       "        vertical-align: top;\n",
       "    }\n",
       "\n",
       "    .dataframe thead th {\n",
       "        text-align: right;\n",
       "    }\n",
       "</style>\n",
       "<table border=\"1\" class=\"dataframe\">\n",
       "  <thead>\n",
       "    <tr style=\"text-align: right;\">\n",
       "      <th></th>\n",
       "      <th>date</th>\n",
       "      <th>visitorsCummulativeA</th>\n",
       "    </tr>\n",
       "  </thead>\n",
       "  <tbody>\n",
       "    <tr>\n",
       "      <th>0</th>\n",
       "      <td>2019-08-01</td>\n",
       "      <td>719</td>\n",
       "    </tr>\n",
       "    <tr>\n",
       "      <th>1</th>\n",
       "      <td>2019-08-02</td>\n",
       "      <td>1338</td>\n",
       "    </tr>\n",
       "    <tr>\n",
       "      <th>2</th>\n",
       "      <td>2019-08-03</td>\n",
       "      <td>1845</td>\n",
       "    </tr>\n",
       "    <tr>\n",
       "      <th>3</th>\n",
       "      <td>2019-08-04</td>\n",
       "      <td>2562</td>\n",
       "    </tr>\n",
       "    <tr>\n",
       "      <th>4</th>\n",
       "      <td>2019-08-05</td>\n",
       "      <td>3318</td>\n",
       "    </tr>\n",
       "  </tbody>\n",
       "</table>\n",
       "</div>"
      ],
      "text/plain": [
       "        date  visitorsCummulativeA\n",
       "0 2019-08-01                   719\n",
       "1 2019-08-02                  1338\n",
       "2 2019-08-03                  1845\n",
       "3 2019-08-04                  2562\n",
       "4 2019-08-05                  3318"
      ]
     },
     "execution_count": 38,
     "metadata": {},
     "output_type": "execute_result"
    }
   ],
   "source": [
    "# Ежедневное количество посещений в группе «А» \n",
    "visitorsADaily = visitors[visitors['group'] == 'A'][['date', 'visitors']]\n",
    "visitorsADaily.columns = ['date', 'visitorsPerDateA']\n",
    "\n",
    "# Выведем таблицу с посещениеми пользователей по дням в группе «А» \n",
    "visitorsACummulative = visitorsADaily.apply(lambda x: visitorsADaily[visitorsADaily['date'] <= x['date']]\n",
    "    .agg({'date': 'max', \n",
    "          'visitorsPerDateA': 'sum'}), axis=1)\n",
    "visitorsACummulative.columns = ['date', 'visitorsCummulativeA']\n",
    "\n",
    "visitorsACummulative.head()"
   ]
  },
  {
   "cell_type": "code",
   "execution_count": 39,
   "metadata": {},
   "outputs": [
    {
     "data": {
      "text/html": [
       "<div>\n",
       "<style scoped>\n",
       "    .dataframe tbody tr th:only-of-type {\n",
       "        vertical-align: middle;\n",
       "    }\n",
       "\n",
       "    .dataframe tbody tr th {\n",
       "        vertical-align: top;\n",
       "    }\n",
       "\n",
       "    .dataframe thead th {\n",
       "        text-align: right;\n",
       "    }\n",
       "</style>\n",
       "<table border=\"1\" class=\"dataframe\">\n",
       "  <thead>\n",
       "    <tr style=\"text-align: right;\">\n",
       "      <th></th>\n",
       "      <th>date</th>\n",
       "      <th>visitorsCummulativeB</th>\n",
       "    </tr>\n",
       "  </thead>\n",
       "  <tbody>\n",
       "    <tr>\n",
       "      <th>31</th>\n",
       "      <td>2019-08-01</td>\n",
       "      <td>713</td>\n",
       "    </tr>\n",
       "    <tr>\n",
       "      <th>32</th>\n",
       "      <td>2019-08-02</td>\n",
       "      <td>1294</td>\n",
       "    </tr>\n",
       "    <tr>\n",
       "      <th>33</th>\n",
       "      <td>2019-08-03</td>\n",
       "      <td>1803</td>\n",
       "    </tr>\n",
       "    <tr>\n",
       "      <th>34</th>\n",
       "      <td>2019-08-04</td>\n",
       "      <td>2573</td>\n",
       "    </tr>\n",
       "    <tr>\n",
       "      <th>35</th>\n",
       "      <td>2019-08-05</td>\n",
       "      <td>3280</td>\n",
       "    </tr>\n",
       "  </tbody>\n",
       "</table>\n",
       "</div>"
      ],
      "text/plain": [
       "         date  visitorsCummulativeB\n",
       "31 2019-08-01                   713\n",
       "32 2019-08-02                  1294\n",
       "33 2019-08-03                  1803\n",
       "34 2019-08-04                  2573\n",
       "35 2019-08-05                  3280"
      ]
     },
     "execution_count": 39,
     "metadata": {},
     "output_type": "execute_result"
    }
   ],
   "source": [
    "# Ежедневное количество посещений в группе «В»\n",
    "visitorsBDaily = visitors[visitors['group'] == 'B'][['date', 'visitors']]\n",
    "visitorsBDaily.columns = ['date', 'visitorsPerDateB']\n",
    "\n",
    "# Выведем таблицу с посещениеми пользователей по дням в группе «В»\n",
    "visitorsBCummulative = visitorsBDaily.apply(lambda x: visitorsBDaily[visitorsBDaily['date'] <= x['date']]\n",
    "    .agg({'date': 'max', \n",
    "          'visitorsPerDateB': 'sum'}),axis=1)\n",
    "visitorsBCummulative.columns = ['date', 'visitorsCummulativeB']\n",
    "\n",
    "visitorsBCummulative.head()"
   ]
  },
  {
   "cell_type": "code",
   "execution_count": 40,
   "metadata": {},
   "outputs": [
    {
     "data": {
      "text/html": [
       "<div>\n",
       "<style scoped>\n",
       "    .dataframe tbody tr th:only-of-type {\n",
       "        vertical-align: middle;\n",
       "    }\n",
       "\n",
       "    .dataframe tbody tr th {\n",
       "        vertical-align: top;\n",
       "    }\n",
       "\n",
       "    .dataframe thead th {\n",
       "        text-align: right;\n",
       "    }\n",
       "</style>\n",
       "<table border=\"1\" class=\"dataframe\">\n",
       "  <thead>\n",
       "    <tr style=\"text-align: right;\">\n",
       "      <th></th>\n",
       "      <th>date</th>\n",
       "      <th>ordersPerDateA</th>\n",
       "      <th>revenuePerDateA</th>\n",
       "    </tr>\n",
       "  </thead>\n",
       "  <tbody>\n",
       "    <tr>\n",
       "      <th>0</th>\n",
       "      <td>2019-08-01</td>\n",
       "      <td>23</td>\n",
       "      <td>142779</td>\n",
       "    </tr>\n",
       "    <tr>\n",
       "      <th>1</th>\n",
       "      <td>2019-08-02</td>\n",
       "      <td>19</td>\n",
       "      <td>91602</td>\n",
       "    </tr>\n",
       "    <tr>\n",
       "      <th>2</th>\n",
       "      <td>2019-08-03</td>\n",
       "      <td>24</td>\n",
       "      <td>112473</td>\n",
       "    </tr>\n",
       "    <tr>\n",
       "      <th>3</th>\n",
       "      <td>2019-08-04</td>\n",
       "      <td>11</td>\n",
       "      <td>41176</td>\n",
       "    </tr>\n",
       "    <tr>\n",
       "      <th>4</th>\n",
       "      <td>2019-08-05</td>\n",
       "      <td>22</td>\n",
       "      <td>86383</td>\n",
       "    </tr>\n",
       "  </tbody>\n",
       "</table>\n",
       "</div>"
      ],
      "text/plain": [
       "        date  ordersPerDateA  revenuePerDateA\n",
       "0 2019-08-01              23           142779\n",
       "1 2019-08-02              19            91602\n",
       "2 2019-08-03              24           112473\n",
       "3 2019-08-04              11            41176\n",
       "4 2019-08-05              22            86383"
      ]
     },
     "execution_count": 40,
     "metadata": {},
     "output_type": "execute_result"
    }
   ],
   "source": [
    "# Ежедневное количество заказов и сумма заказов в группе «А» \n",
    "ordersADaily = (\n",
    "    orders[orders['group'] == 'A'][['date', 'transactionid', 'visitorid', 'revenue']]\n",
    "    .groupby('date', as_index=False)\n",
    "    .agg({'transactionid': 'nunique', 'revenue': 'sum'}))\n",
    "ordersADaily.columns = ['date', 'ordersPerDateA', 'revenuePerDateA']\n",
    "\n",
    "# Сумма заказов и выручки в группе «А»\n",
    "ordersACummulative = ordersADaily.apply(\n",
    "    lambda x: ordersADaily[ordersADaily['date'] <= x['date']].agg(\n",
    "        {'date': 'max', \n",
    "         'ordersPerDateA': 'sum', \n",
    "         'revenuePerDateA': 'sum'}),axis=1,).sort_values(by=['date'])\n",
    "ordersACummulative.columns = ['date', 'ordersCummulativeA', 'revenueCummulativeA']\n",
    "\n",
    "ordersADaily.head()"
   ]
  },
  {
   "cell_type": "code",
   "execution_count": 41,
   "metadata": {
    "scrolled": true
   },
   "outputs": [
    {
     "data": {
      "text/html": [
       "<div>\n",
       "<style scoped>\n",
       "    .dataframe tbody tr th:only-of-type {\n",
       "        vertical-align: middle;\n",
       "    }\n",
       "\n",
       "    .dataframe tbody tr th {\n",
       "        vertical-align: top;\n",
       "    }\n",
       "\n",
       "    .dataframe thead th {\n",
       "        text-align: right;\n",
       "    }\n",
       "</style>\n",
       "<table border=\"1\" class=\"dataframe\">\n",
       "  <thead>\n",
       "    <tr style=\"text-align: right;\">\n",
       "      <th></th>\n",
       "      <th>date</th>\n",
       "      <th>ordersPerDateB</th>\n",
       "      <th>revenuePerDateB</th>\n",
       "    </tr>\n",
       "  </thead>\n",
       "  <tbody>\n",
       "    <tr>\n",
       "      <th>0</th>\n",
       "      <td>2019-08-01</td>\n",
       "      <td>17</td>\n",
       "      <td>59758</td>\n",
       "    </tr>\n",
       "    <tr>\n",
       "      <th>1</th>\n",
       "      <td>2019-08-02</td>\n",
       "      <td>23</td>\n",
       "      <td>162043</td>\n",
       "    </tr>\n",
       "    <tr>\n",
       "      <th>2</th>\n",
       "      <td>2019-08-03</td>\n",
       "      <td>14</td>\n",
       "      <td>67049</td>\n",
       "    </tr>\n",
       "    <tr>\n",
       "      <th>3</th>\n",
       "      <td>2019-08-04</td>\n",
       "      <td>14</td>\n",
       "      <td>96890</td>\n",
       "    </tr>\n",
       "    <tr>\n",
       "      <th>4</th>\n",
       "      <td>2019-08-05</td>\n",
       "      <td>21</td>\n",
       "      <td>89908</td>\n",
       "    </tr>\n",
       "  </tbody>\n",
       "</table>\n",
       "</div>"
      ],
      "text/plain": [
       "        date  ordersPerDateB  revenuePerDateB\n",
       "0 2019-08-01              17            59758\n",
       "1 2019-08-02              23           162043\n",
       "2 2019-08-03              14            67049\n",
       "3 2019-08-04              14            96890\n",
       "4 2019-08-05              21            89908"
      ]
     },
     "execution_count": 41,
     "metadata": {},
     "output_type": "execute_result"
    }
   ],
   "source": [
    "# Ежедневное количество заказов и сумма заказов в группе «В» \n",
    "ordersBDaily = (orders[orders['group'] == 'B'][['date', 'transactionid', 'visitorid', 'revenue']]\n",
    "               .groupby('date', as_index=False)\n",
    "               .agg({'transactionid': 'nunique', 'revenue': 'sum'}))\n",
    "ordersBDaily.columns = ['date', 'ordersPerDateB', 'revenuePerDateB']\n",
    "\n",
    "# Сумма заказов и выручки в группе «В» \n",
    "ordersBCummulative = ordersBDaily.apply(lambda x: ordersBDaily[ordersBDaily['date'] <= x['date']].agg(\n",
    "        {'date': 'max', \n",
    "         'ordersPerDateB': 'sum', \n",
    "         'revenuePerDateB': 'sum'}), axis=1).sort_values(by=['date'])\n",
    "ordersBCummulative.columns = ['date', 'ordersCummulativeB', 'revenueCummulativeB']\n",
    "ordersBDaily.head()"
   ]
  },
  {
   "cell_type": "code",
   "execution_count": 42,
   "metadata": {},
   "outputs": [],
   "source": [
    "# Объединим данные в одну таблицу\n",
    "data = (ordersADaily.merge(ordersBDaily, left_on='date', right_on='date', how='left')\n",
    "                    .merge(ordersACummulative, left_on='date', right_on='date', how='left')\n",
    "                    .merge(ordersBCummulative, left_on='date', right_on='date', how='left')\n",
    "                    .merge(visitorsADaily, left_on='date', right_on='date', how='left')\n",
    "                    .merge(visitorsBDaily, left_on='date', right_on='date', how='left')\n",
    "                    .merge(visitorsACummulative, left_on='date', right_on='date', how='left')\n",
    "                    .merge(visitorsBCummulative, left_on='date', right_on='date', how='left'))"
   ]
  },
  {
   "cell_type": "code",
   "execution_count": 43,
   "metadata": {
    "scrolled": true
   },
   "outputs": [
    {
     "name": "stdout",
     "output_type": "stream",
     "text": [
      "        date  ordersPerDateA  revenuePerDateA  ordersPerDateB  \\\n",
      "0 2019-08-01              23           142779              17   \n",
      "1 2019-08-02              19            91602              23   \n",
      "2 2019-08-03              24           112473              14   \n",
      "3 2019-08-04              11            41176              14   \n",
      "4 2019-08-05              22            86383              21   \n",
      "\n",
      "   revenuePerDateB  ordersCummulativeA  revenueCummulativeA  \\\n",
      "0            59758                  23               142779   \n",
      "1           162043                  42               234381   \n",
      "2            67049                  66               346854   \n",
      "3            96890                  77               388030   \n",
      "4            89908                  99               474413   \n",
      "\n",
      "   ordersCummulativeB  revenueCummulativeB  visitorsPerDateA  \\\n",
      "0                  17                59758               719   \n",
      "1                  40               221801               619   \n",
      "2                  54               288850               507   \n",
      "3                  68               385740               717   \n",
      "4                  89               475648               756   \n",
      "\n",
      "   visitorsPerDateB  visitorsCummulativeA  visitorsCummulativeB  \n",
      "0               713                   719                   713  \n",
      "1               581                  1338                  1294  \n",
      "2               509                  1845                  1803  \n",
      "3               770                  2562                  2573  \n",
      "4               707                  3318                  3280  \n"
     ]
    }
   ],
   "source": [
    "print(data.head(5)) "
   ]
  },
  {
   "cell_type": "code",
   "execution_count": 44,
   "metadata": {},
   "outputs": [
    {
     "data": {
      "text/html": [
       "<div>\n",
       "<style scoped>\n",
       "    .dataframe tbody tr th:only-of-type {\n",
       "        vertical-align: middle;\n",
       "    }\n",
       "\n",
       "    .dataframe tbody tr th {\n",
       "        vertical-align: top;\n",
       "    }\n",
       "\n",
       "    .dataframe thead th {\n",
       "        text-align: right;\n",
       "    }\n",
       "</style>\n",
       "<table border=\"1\" class=\"dataframe\">\n",
       "  <thead>\n",
       "    <tr style=\"text-align: right;\">\n",
       "      <th></th>\n",
       "      <th>userid</th>\n",
       "      <th>orders</th>\n",
       "    </tr>\n",
       "  </thead>\n",
       "  <tbody>\n",
       "    <tr>\n",
       "      <th>0</th>\n",
       "      <td>11685486</td>\n",
       "      <td>1</td>\n",
       "    </tr>\n",
       "    <tr>\n",
       "      <th>1</th>\n",
       "      <td>54447517</td>\n",
       "      <td>1</td>\n",
       "    </tr>\n",
       "    <tr>\n",
       "      <th>2</th>\n",
       "      <td>66685450</td>\n",
       "      <td>1</td>\n",
       "    </tr>\n",
       "    <tr>\n",
       "      <th>3</th>\n",
       "      <td>78758296</td>\n",
       "      <td>1</td>\n",
       "    </tr>\n",
       "    <tr>\n",
       "      <th>4</th>\n",
       "      <td>85103373</td>\n",
       "      <td>1</td>\n",
       "    </tr>\n",
       "  </tbody>\n",
       "</table>\n",
       "</div>"
      ],
      "text/plain": [
       "     userid  orders\n",
       "0  11685486       1\n",
       "1  54447517       1\n",
       "2  66685450       1\n",
       "3  78758296       1\n",
       "4  85103373       1"
      ]
     },
     "execution_count": 44,
     "metadata": {},
     "output_type": "execute_result"
    }
   ],
   "source": [
    "# Посчитаем статистическую значимость различия в среднем количестве заказов между группами \n",
    "# для пользователей, которые сделали хотябы один заказ, укажем число совершённых заказов\n",
    "ordersByUsersA = (orders[orders['group']=='A'].groupby('visitorid', as_index=False).agg({'transactionid': 'nunique'}))\n",
    "ordersByUsersA.columns = ['userid', 'orders']\n",
    "\n",
    "ordersByUsersB = (orders[orders['group']=='B'].groupby('visitorid', as_index=False).agg({'transactionid': 'nunique'}))\n",
    "ordersByUsersB.columns = ['userid', 'orders'] \n",
    "\n",
    "ordersByUsersA.head()"
   ]
  },
  {
   "cell_type": "code",
   "execution_count": 45,
   "metadata": {},
   "outputs": [],
   "source": [
    "# Зададим переменные в которых пользователям из разных групп будет соответствовать количество заказов \n",
    "sampleA = pd.concat([ordersByUsersA['orders'],pd.Series(\n",
    "          0, index=np.arange(data['visitorsPerDateA'].sum() - len(ordersByUsersA['orders'])), \n",
    "          name='orders')],axis=0)\n",
    "\n",
    "sampleB = pd.concat([ordersByUsersB['orders'],pd.Series(\n",
    "          0, index=np.arange(data['visitorsPerDateB'].sum() - len(ordersByUsersB['orders'])), \n",
    "          name='orders')],axis=0) "
   ]
  },
  {
   "cell_type": "markdown",
   "metadata": {},
   "source": [
    "Сформулируем нулевую(H₀) и альтернативную(На) гипотезы для «сырых» данных:\n",
    "- H₀ - Статистически значимых различий конверсии между группами нет;\n",
    "\n",
    "- На - Статистически значимые различия конверсии между группами есть."
   ]
  },
  {
   "cell_type": "code",
   "execution_count": 46,
   "metadata": {},
   "outputs": [
    {
     "name": "stdout",
     "output_type": "stream",
     "text": [
      "p-value: 0.011\n",
      "Относительное различие конверсии: 0.160\n"
     ]
    }
   ],
   "source": [
    "print('p-value:', '{0:.3f}'.format(st.mannwhitneyu(sampleA, sampleB)[1]))\n",
    "\n",
    "print('Относительное различие конверсии:', '{0:.3f}'.format(sampleB.mean() / sampleA.mean() - 1))"
   ]
  },
  {
   "cell_type": "markdown",
   "metadata": {},
   "source": [
    "**Вывод**\n",
    "\n",
    "P-value меньше 0.05, значит, существует различия в конверсии по сырым данных между группами, поэтому нулевую гипотезу отвергаем.\n",
    "\n",
    "Прирост конверсии группы «В», относительно группы «А» составляет 16%.\n",
    "___"
   ]
  },
  {
   "cell_type": "markdown",
   "metadata": {},
   "source": [
    "#### Посчитать статистическую значимость различий в среднем чеке заказа между группами по «сырым» данным"
   ]
  },
  {
   "cell_type": "markdown",
   "metadata": {},
   "source": [
    "Сформулируем нулевую(H₀) и альтернативную(На) гипотезы для «сырых» данных:\n",
    "- H₀ - Статистически значимых различий в среднем чеке между группами нет;\n",
    "\n",
    "- На - Статистически значимые различия в среднем чеке между группами есть."
   ]
  },
  {
   "cell_type": "code",
   "execution_count": 47,
   "metadata": {},
   "outputs": [
    {
     "name": "stdout",
     "output_type": "stream",
     "text": [
      "p-value: 0.829\n",
      "Относительное различие среднего чека: 0.287\n"
     ]
    }
   ],
   "source": [
    "print('p-value:', '{0:.3f}'.format(st.mannwhitneyu(orders[orders['group']=='A']['revenue'], \n",
    "                                          orders[orders['group']=='B']['revenue'])[1]))\n",
    "\n",
    "print('Относительное различие среднего чека:', '{0:.3f}'.format(orders[orders['group']=='B']['revenue'].mean()/\n",
    "                       orders[orders['group']=='A']['revenue'].mean()-1)) "
   ]
  },
  {
   "cell_type": "markdown",
   "metadata": {},
   "source": [
    "**Вывод**\n",
    "\n",
    "P-value 0.829 больше 0.05, значит, что статистически значимых различий в среднем чеке между группами нет, нулевую гипотезу не отвергаем.\n",
    "\n",
    "Относительная разница среднего чека группы «В» на 29% Выше, чем в группе «А». \n",
    "\n",
    "Скорее всего такая разница вызвана аномальными значениями, отчистим данные для дальнейшего анализа.\n",
    "___"
   ]
  },
  {
   "cell_type": "markdown",
   "metadata": {},
   "source": [
    "#### Посчитать статистическую значимость различий в среднем количестве заказов между группами по «очищенным» данным"
   ]
  },
  {
   "cell_type": "code",
   "execution_count": 48,
   "metadata": {},
   "outputs": [
    {
     "name": "stdout",
     "output_type": "stream",
     "text": [
      "Всего аномальных пользователей: 55\n"
     ]
    }
   ],
   "source": [
    "# Узнаем, сколько всего аномальных пользователей\n",
    "usersWithManyOrders = pd.concat(\n",
    "    [\n",
    "        ordersByUsersA[ordersByUsersA['orders'] > 2]['userid'],\n",
    "        ordersByUsersB[ordersByUsersB['orders'] > 2]['userid'],\n",
    "    ],\n",
    "    axis=0,\n",
    ")\n",
    "usersWithExpensiveOrders = orders[orders['revenue'] >= 28000]['visitorid']\n",
    "abnormalUsers = (\n",
    "    pd.concat([usersWithManyOrders, usersWithExpensiveOrders], axis=0)\n",
    "    .drop_duplicates()\n",
    "    .sort_values()\n",
    ")\n",
    "print('Всего аномальных пользователей:',abnormalUsers.shape[0])"
   ]
  },
  {
   "cell_type": "code",
   "execution_count": 49,
   "metadata": {},
   "outputs": [],
   "source": [
    "# Задам переменные, в которых будут очищенные данные по количеству заказов  пользователей из разных групп теста\n",
    "sampleAFiltered = pd.concat(\n",
    "            [ordersByUsersA[np.logical_not(ordersByUsersA['userid'].isin(abnormalUsers))]['orders'],\n",
    "                  pd.Series(\n",
    "            0, index=np.arange(cumulativeDataA['visitors'].sum() - len(ordersByUsersA['orders'])),name='orders')], axis=0)\n",
    "\n",
    "sampleBFiltered = pd.concat(\n",
    "            [ordersByUsersB[np.logical_not(ordersByUsersB['userid'].isin(abnormalUsers))]['orders'],\n",
    "                  pd.Series(\n",
    "            0, index=np.arange(cumulativeDataB['visitors'].sum() - len(ordersByUsersB['orders'])),name='orders')], axis=0)"
   ]
  },
  {
   "cell_type": "markdown",
   "metadata": {},
   "source": [
    "Сформулируем нулевую(H₀) и альтернативную(На) гипотезы для «очищенных» данных:\n",
    "\n",
    "- H₀ - Статистически значимых различий конверсии между группами нет;\n",
    "\n",
    "- На - Статистически значимые различия конверсии между группами есть."
   ]
  },
  {
   "cell_type": "code",
   "execution_count": 50,
   "metadata": {},
   "outputs": [
    {
     "name": "stdout",
     "output_type": "stream",
     "text": [
      "p-value:0.008\n",
      "Относительное различие конверсии: 0.194\n"
     ]
    }
   ],
   "source": [
    "print('p-value:''{0:.3f}'.format(st.mannwhitneyu(sampleAFiltered, sampleBFiltered)[1]))\n",
    "print('Относительное различие конверсии:', '{0:.3f}'.format(sampleBFiltered.mean()/sampleAFiltered.mean()-1))"
   ]
  },
  {
   "cell_type": "markdown",
   "metadata": {},
   "source": [
    "**Вывод**\n",
    "\n",
    "P-value меньше 0.05,анализ очищенных данных показывает, что существует различия в конверсии по очищенным данным между группами, поэтому нулевую гипотезу отвергаем.\n",
    "\n",
    "Прирост конверсии группы «В», относительно группы «А» теперь составляет 19%.\n",
    "____"
   ]
  },
  {
   "cell_type": "markdown",
   "metadata": {},
   "source": [
    "#### Посчитать статистическую значимость различий в среднем чеке заказа между группами по «очищенным» данным"
   ]
  },
  {
   "cell_type": "markdown",
   "metadata": {},
   "source": [
    "Сформулируем нулевую(H₀) и альтернативную(На) гипотезы для «очищенных» данных:\n",
    "- H₀ - Статистически значимых различий в среднем чеке между группами нет;\n",
    "\n",
    "- На - Статистически значимые различия в среднем чеке между группами есть."
   ]
  },
  {
   "cell_type": "code",
   "execution_count": 51,
   "metadata": {},
   "outputs": [
    {
     "name": "stdout",
     "output_type": "stream",
     "text": [
      "p-value: 0.762\n",
      "Относительное различие среднего чека: -0.022\n"
     ]
    }
   ],
   "source": [
    "print('p-value:', '{0:.3f}'.format(st.mannwhitneyu(orders[np.logical_and(orders['group'] == 'A',\n",
    "            np.logical_not(orders['visitorid'].isin(abnormalUsers)))]['revenue'],\n",
    "            orders[np.logical_and(orders['group'] == 'B', np.logical_not(orders['visitorid'].isin(abnormalUsers)))]['revenue'])[1]))\n",
    "\n",
    "print('Относительное различие среднего чека:', '{0:.3f}'.format(orders[np.logical_and(orders['group'] == 'B',\n",
    "            np.logical_not(orders['visitorid'].isin(abnormalUsers)))]['revenue'].mean()/orders[\n",
    "            np.logical_and(orders['group'] == 'A',\n",
    "            np.logical_not(orders['visitorid'].isin(abnormalUsers)))]['revenue'].mean()- 1))"
   ]
  },
  {
   "cell_type": "markdown",
   "metadata": {},
   "source": [
    "**Вывод**\n",
    "\n",
    "После удаления выбросов статистически значимых различий в среднем чеке между группами всё так же нет, нулевую гипотеу не отвергаем.\n",
    "\n",
    "Теперь относительный проигрыш группы «В» равен 2%.\n",
    "____"
   ]
  },
  {
   "cell_type": "markdown",
   "metadata": {},
   "source": [
    "### Общий вывод\n",
    "\n",
    "1. В ходе исследования загрузили данные таблиц  **hypothesis**, **orders**, **visitors** и подготовили их к анализу.\n",
    "\n",
    "1. При приоритизации гипотез использовали по фреймворкам ICE и RICE, выявили самые перспективные, стоит проверить их в следующем порядке:\n",
    "\n",
    "\n",
    "    1. №7 Добавить форму подписки на все основные страницы, чтобы собрать базу клиентов для email-рассылок (RICE=112)\n",
    "    2. №2 Добавить блоки рекомендаций товаров на сайт инт. магазина, чтобы повысить конверсию и средний чек заказа (RICE=56)\n",
    "    3. №0 Добавить два новых канала привлечения трафика, что позволит привлекать на 30% больше пользователей (RICE=40)\n",
    "\n",
    "3. При проведении А/В- теста построили графики кумулятивной выручки, среднего чека, конверсии по группам, а затем посчитали статистическую значимость различий конверсий и средних чеков по сырым и очищенным данным.\n",
    "\n",
    "В ходе теста было выявлено:\n",
    "\n",
    "- Значимое различие конверсии между группами. Прирост конверсии группы «В», относительно группы «А» теперь составляет 19% на очищенных от выбросов данных. \n",
    "\n",
    "- Различие в сумме среднего чека незначительная, относительный проигрыш группы «В» равен 2%  \n",
    "\n",
    "Предлагаю остановить тест и зафиксировать победу группы «В», т.к. и до и после отчистки данных от аномальных значений показатели конверсии по этой группе выше, чем у группы «А».\n",
    "\n",
    "___"
   ]
  }
 ],
 "metadata": {
  "ExecuteTimeLog": [
   {
    "duration": 47,
    "start_time": "2022-10-31T16:36:31.104Z"
   },
   {
    "duration": 6,
    "start_time": "2022-10-31T16:36:31.386Z"
   },
   {
    "duration": 8,
    "start_time": "2022-10-31T16:36:31.788Z"
   },
   {
    "duration": 1344,
    "start_time": "2022-10-31T16:36:34.094Z"
   },
   {
    "duration": 248,
    "start_time": "2022-10-31T16:36:35.441Z"
   },
   {
    "duration": 16,
    "start_time": "2022-10-31T16:36:36.271Z"
   },
   {
    "duration": 8,
    "start_time": "2022-10-31T16:36:36.616Z"
   },
   {
    "duration": 8,
    "start_time": "2022-10-31T16:36:36.963Z"
   },
   {
    "duration": 83,
    "start_time": "2022-10-31T16:36:50.615Z"
   },
   {
    "duration": 15,
    "start_time": "2022-10-31T16:37:19.429Z"
   },
   {
    "duration": 10,
    "start_time": "2022-10-31T16:37:19.675Z"
   },
   {
    "duration": 12,
    "start_time": "2022-10-31T16:37:33.595Z"
   },
   {
    "duration": 16,
    "start_time": "2022-10-31T16:37:52.781Z"
   },
   {
    "duration": 21,
    "start_time": "2022-10-31T16:38:08.531Z"
   },
   {
    "duration": 17,
    "start_time": "2022-10-31T16:38:20.620Z"
   },
   {
    "duration": 19,
    "start_time": "2022-10-31T16:45:35.355Z"
   },
   {
    "duration": 23,
    "start_time": "2022-10-31T16:46:15.096Z"
   },
   {
    "duration": 22,
    "start_time": "2022-10-31T16:46:42.331Z"
   },
   {
    "duration": 1093,
    "start_time": "2022-10-31T18:17:04.990Z"
   },
   {
    "duration": 46,
    "start_time": "2022-10-31T18:17:06.085Z"
   },
   {
    "duration": 18,
    "start_time": "2022-10-31T18:17:06.133Z"
   },
   {
    "duration": 99,
    "start_time": "2022-10-31T18:17:06.152Z"
   },
   {
    "duration": 5,
    "start_time": "2022-10-31T18:27:42.186Z"
   },
   {
    "duration": 7,
    "start_time": "2022-10-31T18:28:24.169Z"
   },
   {
    "duration": 6,
    "start_time": "2022-10-31T18:29:54.643Z"
   },
   {
    "duration": 1226,
    "start_time": "2022-10-31T18:34:07.032Z"
   },
   {
    "duration": 78,
    "start_time": "2022-10-31T18:34:08.259Z"
   },
   {
    "duration": 18,
    "start_time": "2022-10-31T18:34:08.338Z"
   },
   {
    "duration": 3,
    "start_time": "2022-10-31T18:34:08.358Z"
   },
   {
    "duration": 10,
    "start_time": "2022-10-31T18:34:08.363Z"
   },
   {
    "duration": 6,
    "start_time": "2022-10-31T18:34:08.375Z"
   },
   {
    "duration": 1021,
    "start_time": "2022-10-31T18:34:08.383Z"
   },
   {
    "duration": 0,
    "start_time": "2022-10-31T18:34:09.406Z"
   },
   {
    "duration": 5,
    "start_time": "2022-10-31T18:34:49.210Z"
   },
   {
    "duration": 1007,
    "start_time": "2022-10-31T18:41:07.522Z"
   },
   {
    "duration": 10,
    "start_time": "2022-10-31T18:41:21.510Z"
   },
   {
    "duration": 14,
    "start_time": "2022-10-31T18:57:38.268Z"
   },
   {
    "duration": 12,
    "start_time": "2022-10-31T18:57:44.326Z"
   },
   {
    "duration": 100,
    "start_time": "2022-10-31T19:29:39.220Z"
   },
   {
    "duration": 4,
    "start_time": "2022-10-31T19:29:42.255Z"
   },
   {
    "duration": 8,
    "start_time": "2022-10-31T19:29:42.561Z"
   },
   {
    "duration": 6,
    "start_time": "2022-10-31T19:29:42.875Z"
   },
   {
    "duration": 6,
    "start_time": "2022-10-31T19:29:43.287Z"
   },
   {
    "duration": 6,
    "start_time": "2022-10-31T19:29:43.593Z"
   },
   {
    "duration": 9,
    "start_time": "2022-10-31T19:30:20.786Z"
   },
   {
    "duration": 9,
    "start_time": "2022-10-31T19:30:33.473Z"
   },
   {
    "duration": 9,
    "start_time": "2022-10-31T19:30:46.834Z"
   },
   {
    "duration": 102,
    "start_time": "2022-10-31T19:38:11.693Z"
   },
   {
    "duration": 6,
    "start_time": "2022-10-31T19:38:19.511Z"
   },
   {
    "duration": 11,
    "start_time": "2022-10-31T19:38:43.085Z"
   },
   {
    "duration": 1139,
    "start_time": "2022-10-31T19:39:22.329Z"
   },
   {
    "duration": 59,
    "start_time": "2022-10-31T19:39:23.470Z"
   },
   {
    "duration": 22,
    "start_time": "2022-10-31T19:39:23.530Z"
   },
   {
    "duration": 3,
    "start_time": "2022-10-31T19:39:23.554Z"
   },
   {
    "duration": 9,
    "start_time": "2022-10-31T19:39:23.559Z"
   },
   {
    "duration": 8,
    "start_time": "2022-10-31T19:39:23.569Z"
   },
   {
    "duration": 7,
    "start_time": "2022-10-31T19:39:23.579Z"
   },
   {
    "duration": 9,
    "start_time": "2022-10-31T19:39:23.588Z"
   },
   {
    "duration": 41,
    "start_time": "2022-10-31T19:39:23.599Z"
   },
   {
    "duration": 94,
    "start_time": "2022-10-31T19:39:23.643Z"
   },
   {
    "duration": 4,
    "start_time": "2022-10-31T19:39:23.739Z"
   },
   {
    "duration": 15,
    "start_time": "2022-10-31T19:39:23.745Z"
   },
   {
    "duration": 9,
    "start_time": "2022-10-31T19:39:23.761Z"
   },
   {
    "duration": 9,
    "start_time": "2022-10-31T19:39:23.771Z"
   },
   {
    "duration": 14,
    "start_time": "2022-10-31T19:39:23.781Z"
   },
   {
    "duration": 24,
    "start_time": "2022-10-31T19:40:17.114Z"
   },
   {
    "duration": 7,
    "start_time": "2022-10-31T20:06:54.312Z"
   },
   {
    "duration": 10,
    "start_time": "2022-10-31T20:06:54.694Z"
   },
   {
    "duration": 4,
    "start_time": "2022-10-31T20:58:47.106Z"
   },
   {
    "duration": 11,
    "start_time": "2022-10-31T20:58:52.932Z"
   },
   {
    "duration": 493,
    "start_time": "2022-10-31T21:18:04.481Z"
   },
   {
    "duration": 253,
    "start_time": "2022-10-31T21:18:35.307Z"
   },
   {
    "duration": 1081,
    "start_time": "2022-10-31T21:19:03.396Z"
   },
   {
    "duration": 54,
    "start_time": "2022-10-31T21:19:04.479Z"
   },
   {
    "duration": 26,
    "start_time": "2022-10-31T21:19:04.535Z"
   },
   {
    "duration": 3,
    "start_time": "2022-10-31T21:19:04.563Z"
   },
   {
    "duration": 9,
    "start_time": "2022-10-31T21:19:04.567Z"
   },
   {
    "duration": 7,
    "start_time": "2022-10-31T21:19:04.577Z"
   },
   {
    "duration": 8,
    "start_time": "2022-10-31T21:19:04.585Z"
   },
   {
    "duration": 8,
    "start_time": "2022-10-31T21:19:04.595Z"
   },
   {
    "duration": 13,
    "start_time": "2022-10-31T21:19:04.605Z"
   },
   {
    "duration": 105,
    "start_time": "2022-10-31T21:19:04.646Z"
   },
   {
    "duration": 4,
    "start_time": "2022-10-31T21:19:04.753Z"
   },
   {
    "duration": 12,
    "start_time": "2022-10-31T21:19:04.758Z"
   },
   {
    "duration": 7,
    "start_time": "2022-10-31T21:19:04.771Z"
   },
   {
    "duration": 5,
    "start_time": "2022-10-31T21:19:04.779Z"
   },
   {
    "duration": 17,
    "start_time": "2022-10-31T21:19:04.786Z"
   },
   {
    "duration": 41,
    "start_time": "2022-10-31T21:19:04.805Z"
   },
   {
    "duration": 505,
    "start_time": "2022-10-31T21:19:04.847Z"
   },
   {
    "duration": 55,
    "start_time": "2022-11-01T11:20:57.991Z"
   },
   {
    "duration": 1310,
    "start_time": "2022-11-01T11:25:12.727Z"
   },
   {
    "duration": 240,
    "start_time": "2022-11-01T11:25:14.039Z"
   },
   {
    "duration": 19,
    "start_time": "2022-11-01T11:25:39.526Z"
   },
   {
    "duration": 9,
    "start_time": "2022-11-01T11:28:39.632Z"
   },
   {
    "duration": 9,
    "start_time": "2022-11-01T11:28:49.878Z"
   },
   {
    "duration": 15,
    "start_time": "2022-11-01T13:46:36.580Z"
   },
   {
    "duration": 18,
    "start_time": "2022-11-01T13:48:38.987Z"
   },
   {
    "duration": 14,
    "start_time": "2022-11-01T13:49:22.238Z"
   },
   {
    "duration": 51,
    "start_time": "2022-11-01T13:51:20.833Z"
   },
   {
    "duration": 837,
    "start_time": "2022-11-01T16:32:18.637Z"
   },
   {
    "duration": 9,
    "start_time": "2022-11-01T16:33:56.481Z"
   },
   {
    "duration": 7,
    "start_time": "2022-11-01T16:34:03.643Z"
   },
   {
    "duration": 8,
    "start_time": "2022-11-01T16:34:24.179Z"
   },
   {
    "duration": 1090,
    "start_time": "2022-11-01T16:36:42.367Z"
   },
   {
    "duration": 287,
    "start_time": "2022-11-01T16:36:43.458Z"
   },
   {
    "duration": 19,
    "start_time": "2022-11-01T16:36:43.746Z"
   },
   {
    "duration": 4,
    "start_time": "2022-11-01T16:36:43.767Z"
   },
   {
    "duration": 10,
    "start_time": "2022-11-01T16:36:43.772Z"
   },
   {
    "duration": 8,
    "start_time": "2022-11-01T16:36:43.783Z"
   },
   {
    "duration": 11,
    "start_time": "2022-11-01T16:36:43.792Z"
   },
   {
    "duration": 9,
    "start_time": "2022-11-01T16:36:43.805Z"
   },
   {
    "duration": 26,
    "start_time": "2022-11-01T16:36:43.816Z"
   },
   {
    "duration": 8,
    "start_time": "2022-11-01T16:36:43.844Z"
   },
   {
    "duration": 7,
    "start_time": "2022-11-01T16:36:43.854Z"
   },
   {
    "duration": 17,
    "start_time": "2022-11-01T16:36:43.862Z"
   },
   {
    "duration": 10,
    "start_time": "2022-11-01T16:36:43.908Z"
   },
   {
    "duration": 487,
    "start_time": "2022-11-01T16:36:43.920Z"
   },
   {
    "duration": 0,
    "start_time": "2022-11-01T16:36:44.409Z"
   },
   {
    "duration": 134,
    "start_time": "2022-11-01T18:40:30.968Z"
   },
   {
    "duration": 112,
    "start_time": "2022-11-01T18:40:44.978Z"
   },
   {
    "duration": 1349,
    "start_time": "2022-11-01T18:40:53.846Z"
   },
   {
    "duration": 334,
    "start_time": "2022-11-01T18:40:55.197Z"
   },
   {
    "duration": 72,
    "start_time": "2022-11-01T18:40:55.533Z"
   },
   {
    "duration": 0,
    "start_time": "2022-11-01T18:40:55.608Z"
   },
   {
    "duration": 0,
    "start_time": "2022-11-01T18:40:55.609Z"
   },
   {
    "duration": 0,
    "start_time": "2022-11-01T18:40:55.613Z"
   },
   {
    "duration": 0,
    "start_time": "2022-11-01T18:40:55.615Z"
   },
   {
    "duration": 0,
    "start_time": "2022-11-01T18:40:55.616Z"
   },
   {
    "duration": 0,
    "start_time": "2022-11-01T18:40:55.618Z"
   },
   {
    "duration": 0,
    "start_time": "2022-11-01T18:40:55.619Z"
   },
   {
    "duration": 0,
    "start_time": "2022-11-01T18:40:55.621Z"
   },
   {
    "duration": 0,
    "start_time": "2022-11-01T18:40:55.623Z"
   },
   {
    "duration": 0,
    "start_time": "2022-11-01T18:40:55.624Z"
   },
   {
    "duration": 0,
    "start_time": "2022-11-01T18:40:55.629Z"
   },
   {
    "duration": 0,
    "start_time": "2022-11-01T18:40:55.631Z"
   },
   {
    "duration": 104,
    "start_time": "2022-11-01T18:41:11.286Z"
   },
   {
    "duration": 8,
    "start_time": "2022-11-01T18:42:12.929Z"
   },
   {
    "duration": 8,
    "start_time": "2022-11-01T18:42:21.234Z"
   },
   {
    "duration": 21,
    "start_time": "2022-11-01T18:42:28.822Z"
   },
   {
    "duration": 24,
    "start_time": "2022-11-01T18:45:55.098Z"
   },
   {
    "duration": 13,
    "start_time": "2022-11-01T18:46:00.485Z"
   },
   {
    "duration": 6,
    "start_time": "2022-11-01T18:46:09.845Z"
   },
   {
    "duration": 23,
    "start_time": "2022-11-01T18:46:52.898Z"
   },
   {
    "duration": 1121,
    "start_time": "2022-11-01T18:47:16.735Z"
   },
   {
    "duration": 125,
    "start_time": "2022-11-01T18:47:17.858Z"
   },
   {
    "duration": 26,
    "start_time": "2022-11-01T18:47:17.985Z"
   },
   {
    "duration": 39,
    "start_time": "2022-11-01T18:47:18.012Z"
   },
   {
    "duration": 9,
    "start_time": "2022-11-01T18:47:18.053Z"
   },
   {
    "duration": 5,
    "start_time": "2022-11-01T18:47:18.064Z"
   },
   {
    "duration": 107,
    "start_time": "2022-11-01T18:47:18.071Z"
   },
   {
    "duration": 0,
    "start_time": "2022-11-01T18:47:18.179Z"
   },
   {
    "duration": 0,
    "start_time": "2022-11-01T18:47:18.180Z"
   },
   {
    "duration": 0,
    "start_time": "2022-11-01T18:47:18.181Z"
   },
   {
    "duration": 0,
    "start_time": "2022-11-01T18:47:18.182Z"
   },
   {
    "duration": 0,
    "start_time": "2022-11-01T18:47:18.183Z"
   },
   {
    "duration": 0,
    "start_time": "2022-11-01T18:47:18.184Z"
   },
   {
    "duration": 0,
    "start_time": "2022-11-01T18:47:18.185Z"
   },
   {
    "duration": 0,
    "start_time": "2022-11-01T18:47:18.186Z"
   },
   {
    "duration": 0,
    "start_time": "2022-11-01T18:47:18.187Z"
   },
   {
    "duration": 0,
    "start_time": "2022-11-01T18:47:18.188Z"
   },
   {
    "duration": 8,
    "start_time": "2022-11-01T18:47:33.267Z"
   },
   {
    "duration": 7,
    "start_time": "2022-11-01T18:47:41.281Z"
   },
   {
    "duration": 11,
    "start_time": "2022-11-01T18:47:41.363Z"
   },
   {
    "duration": 1066,
    "start_time": "2022-11-01T18:47:49.562Z"
   },
   {
    "duration": 135,
    "start_time": "2022-11-01T18:47:50.633Z"
   },
   {
    "duration": 19,
    "start_time": "2022-11-01T18:47:50.769Z"
   },
   {
    "duration": 11,
    "start_time": "2022-11-01T18:47:50.790Z"
   },
   {
    "duration": 17,
    "start_time": "2022-11-01T18:47:50.802Z"
   },
   {
    "duration": 10,
    "start_time": "2022-11-01T18:47:50.820Z"
   },
   {
    "duration": 8,
    "start_time": "2022-11-01T18:47:50.831Z"
   },
   {
    "duration": 10,
    "start_time": "2022-11-01T18:47:50.841Z"
   },
   {
    "duration": 11,
    "start_time": "2022-11-01T18:47:50.852Z"
   },
   {
    "duration": 10,
    "start_time": "2022-11-01T18:47:50.864Z"
   },
   {
    "duration": 45,
    "start_time": "2022-11-01T18:47:50.875Z"
   },
   {
    "duration": 8,
    "start_time": "2022-11-01T18:47:50.922Z"
   },
   {
    "duration": 6,
    "start_time": "2022-11-01T18:47:50.931Z"
   },
   {
    "duration": 20,
    "start_time": "2022-11-01T18:47:50.938Z"
   },
   {
    "duration": 9,
    "start_time": "2022-11-01T18:47:50.960Z"
   },
   {
    "duration": 489,
    "start_time": "2022-11-01T18:47:50.971Z"
   },
   {
    "duration": 0,
    "start_time": "2022-11-01T18:47:51.462Z"
   },
   {
    "duration": 5,
    "start_time": "2022-11-01T18:48:29.246Z"
   },
   {
    "duration": 10,
    "start_time": "2022-11-01T18:48:30.323Z"
   },
   {
    "duration": 5,
    "start_time": "2022-11-01T18:48:38.793Z"
   },
   {
    "duration": 8,
    "start_time": "2022-11-01T18:48:39.053Z"
   },
   {
    "duration": 1146,
    "start_time": "2022-11-01T18:49:19.029Z"
   },
   {
    "duration": 107,
    "start_time": "2022-11-01T18:49:20.177Z"
   },
   {
    "duration": 17,
    "start_time": "2022-11-01T18:49:20.287Z"
   },
   {
    "duration": 8,
    "start_time": "2022-11-01T18:49:20.306Z"
   },
   {
    "duration": 8,
    "start_time": "2022-11-01T18:49:20.315Z"
   },
   {
    "duration": 9,
    "start_time": "2022-11-01T18:49:20.325Z"
   },
   {
    "duration": 10,
    "start_time": "2022-11-01T18:49:20.336Z"
   },
   {
    "duration": 10,
    "start_time": "2022-11-01T18:49:20.347Z"
   },
   {
    "duration": 10,
    "start_time": "2022-11-01T18:49:20.358Z"
   },
   {
    "duration": 9,
    "start_time": "2022-11-01T18:49:20.369Z"
   },
   {
    "duration": 35,
    "start_time": "2022-11-01T18:49:20.406Z"
   },
   {
    "duration": 7,
    "start_time": "2022-11-01T18:49:20.442Z"
   },
   {
    "duration": 8,
    "start_time": "2022-11-01T18:49:20.452Z"
   },
   {
    "duration": 46,
    "start_time": "2022-11-01T18:49:20.461Z"
   },
   {
    "duration": 24,
    "start_time": "2022-11-01T18:49:20.508Z"
   },
   {
    "duration": 411,
    "start_time": "2022-11-01T18:49:20.533Z"
   },
   {
    "duration": 0,
    "start_time": "2022-11-01T18:49:20.945Z"
   },
   {
    "duration": 1175,
    "start_time": "2022-11-01T18:49:56.182Z"
   },
   {
    "duration": 181,
    "start_time": "2022-11-01T18:49:57.360Z"
   },
   {
    "duration": 16,
    "start_time": "2022-11-01T18:49:57.543Z"
   },
   {
    "duration": 6,
    "start_time": "2022-11-01T18:49:57.561Z"
   },
   {
    "duration": 4,
    "start_time": "2022-11-01T18:49:57.569Z"
   },
   {
    "duration": 6,
    "start_time": "2022-11-01T18:49:57.574Z"
   },
   {
    "duration": 10,
    "start_time": "2022-11-01T18:49:57.581Z"
   },
   {
    "duration": 14,
    "start_time": "2022-11-01T18:49:57.593Z"
   },
   {
    "duration": 14,
    "start_time": "2022-11-01T18:49:57.610Z"
   },
   {
    "duration": 13,
    "start_time": "2022-11-01T18:49:57.626Z"
   },
   {
    "duration": 11,
    "start_time": "2022-11-01T18:49:57.640Z"
   },
   {
    "duration": 24,
    "start_time": "2022-11-01T18:49:57.652Z"
   },
   {
    "duration": 12,
    "start_time": "2022-11-01T18:49:57.707Z"
   },
   {
    "duration": 9,
    "start_time": "2022-11-01T18:49:57.722Z"
   },
   {
    "duration": 35,
    "start_time": "2022-11-01T18:49:57.733Z"
   },
   {
    "duration": 10,
    "start_time": "2022-11-01T18:49:57.770Z"
   },
   {
    "duration": 445,
    "start_time": "2022-11-01T18:49:57.782Z"
   },
   {
    "duration": 0,
    "start_time": "2022-11-01T18:49:58.228Z"
   },
   {
    "duration": 5,
    "start_time": "2022-11-01T18:50:43.302Z"
   },
   {
    "duration": 16,
    "start_time": "2022-11-01T18:50:43.711Z"
   },
   {
    "duration": 1082,
    "start_time": "2022-11-01T18:50:55.213Z"
   },
   {
    "duration": 109,
    "start_time": "2022-11-01T18:50:56.296Z"
   },
   {
    "duration": 29,
    "start_time": "2022-11-01T18:50:56.407Z"
   },
   {
    "duration": 7,
    "start_time": "2022-11-01T18:50:56.437Z"
   },
   {
    "duration": 5,
    "start_time": "2022-11-01T18:50:56.446Z"
   },
   {
    "duration": 5,
    "start_time": "2022-11-01T18:50:56.452Z"
   },
   {
    "duration": 8,
    "start_time": "2022-11-01T18:50:56.459Z"
   },
   {
    "duration": 8,
    "start_time": "2022-11-01T18:50:56.469Z"
   },
   {
    "duration": 34,
    "start_time": "2022-11-01T18:50:56.479Z"
   },
   {
    "duration": 19,
    "start_time": "2022-11-01T18:50:56.514Z"
   },
   {
    "duration": 11,
    "start_time": "2022-11-01T18:50:56.535Z"
   },
   {
    "duration": 25,
    "start_time": "2022-11-01T18:50:56.547Z"
   },
   {
    "duration": 38,
    "start_time": "2022-11-01T18:50:56.574Z"
   },
   {
    "duration": 6,
    "start_time": "2022-11-01T18:50:56.615Z"
   },
   {
    "duration": 31,
    "start_time": "2022-11-01T18:50:56.623Z"
   },
   {
    "duration": 11,
    "start_time": "2022-11-01T18:50:56.656Z"
   },
   {
    "duration": 415,
    "start_time": "2022-11-01T18:50:56.669Z"
   },
   {
    "duration": 0,
    "start_time": "2022-11-01T18:50:57.085Z"
   },
   {
    "duration": 9,
    "start_time": "2022-11-01T18:55:23.387Z"
   },
   {
    "duration": 15,
    "start_time": "2022-11-01T18:55:39.217Z"
   },
   {
    "duration": 3,
    "start_time": "2022-11-01T18:55:48.677Z"
   },
   {
    "duration": 18,
    "start_time": "2022-11-01T18:55:55.314Z"
   },
   {
    "duration": 10,
    "start_time": "2022-11-01T18:56:00.034Z"
   },
   {
    "duration": 22,
    "start_time": "2022-11-01T18:56:18.494Z"
   },
   {
    "duration": 10,
    "start_time": "2022-11-01T18:57:30.330Z"
   },
   {
    "duration": 10,
    "start_time": "2022-11-01T18:57:33.175Z"
   },
   {
    "duration": 13,
    "start_time": "2022-11-01T19:00:07.288Z"
   },
   {
    "duration": 10,
    "start_time": "2022-11-01T19:01:06.156Z"
   },
   {
    "duration": 277,
    "start_time": "2022-11-01T19:56:39.235Z"
   },
   {
    "duration": 256,
    "start_time": "2022-11-01T19:58:11.339Z"
   },
   {
    "duration": 11,
    "start_time": "2022-11-01T19:58:20.827Z"
   },
   {
    "duration": 1128,
    "start_time": "2022-11-01T19:59:09.776Z"
   },
   {
    "duration": 104,
    "start_time": "2022-11-01T19:59:10.905Z"
   },
   {
    "duration": 18,
    "start_time": "2022-11-01T19:59:11.011Z"
   },
   {
    "duration": 4,
    "start_time": "2022-11-01T19:59:11.031Z"
   },
   {
    "duration": 5,
    "start_time": "2022-11-01T19:59:11.036Z"
   },
   {
    "duration": 9,
    "start_time": "2022-11-01T19:59:11.043Z"
   },
   {
    "duration": 7,
    "start_time": "2022-11-01T19:59:11.053Z"
   },
   {
    "duration": 16,
    "start_time": "2022-11-01T19:59:11.061Z"
   },
   {
    "duration": 10,
    "start_time": "2022-11-01T19:59:11.105Z"
   },
   {
    "duration": 13,
    "start_time": "2022-11-01T19:59:11.117Z"
   },
   {
    "duration": 24,
    "start_time": "2022-11-01T19:59:11.131Z"
   },
   {
    "duration": 6,
    "start_time": "2022-11-01T19:59:11.156Z"
   },
   {
    "duration": 5,
    "start_time": "2022-11-01T19:59:11.164Z"
   },
   {
    "duration": 52,
    "start_time": "2022-11-01T19:59:11.170Z"
   },
   {
    "duration": 13,
    "start_time": "2022-11-01T19:59:11.224Z"
   },
   {
    "duration": 397,
    "start_time": "2022-11-01T19:59:11.238Z"
   },
   {
    "duration": 0,
    "start_time": "2022-11-01T19:59:11.636Z"
   },
   {
    "duration": 151,
    "start_time": "2022-11-01T19:59:35.656Z"
   },
   {
    "duration": 15,
    "start_time": "2022-11-01T19:59:55.456Z"
   },
   {
    "duration": 12,
    "start_time": "2022-11-01T20:01:24.863Z"
   },
   {
    "duration": 69,
    "start_time": "2022-11-01T20:02:07.788Z"
   },
   {
    "duration": 12,
    "start_time": "2022-11-01T20:02:11.507Z"
   },
   {
    "duration": 157,
    "start_time": "2022-11-01T20:02:59.696Z"
   },
   {
    "duration": 71,
    "start_time": "2022-11-01T20:03:07.490Z"
   },
   {
    "duration": 11,
    "start_time": "2022-11-01T20:03:20.316Z"
   },
   {
    "duration": 10,
    "start_time": "2022-11-01T20:04:09.850Z"
   },
   {
    "duration": 1078,
    "start_time": "2022-11-01T20:04:23.824Z"
   },
   {
    "duration": 123,
    "start_time": "2022-11-01T20:04:24.904Z"
   },
   {
    "duration": 17,
    "start_time": "2022-11-01T20:04:25.029Z"
   },
   {
    "duration": 4,
    "start_time": "2022-11-01T20:04:25.048Z"
   },
   {
    "duration": 8,
    "start_time": "2022-11-01T20:04:25.053Z"
   },
   {
    "duration": 12,
    "start_time": "2022-11-01T20:04:25.062Z"
   },
   {
    "duration": 12,
    "start_time": "2022-11-01T20:04:25.075Z"
   },
   {
    "duration": 3,
    "start_time": "2022-11-01T20:04:25.089Z"
   },
   {
    "duration": 158,
    "start_time": "2022-11-01T20:04:25.093Z"
   },
   {
    "duration": 11,
    "start_time": "2022-11-01T20:04:25.253Z"
   },
   {
    "duration": 147,
    "start_time": "2022-11-01T20:04:25.266Z"
   },
   {
    "duration": 25,
    "start_time": "2022-11-01T20:04:25.415Z"
   },
   {
    "duration": 8,
    "start_time": "2022-11-01T20:04:25.442Z"
   },
   {
    "duration": 6,
    "start_time": "2022-11-01T20:04:25.452Z"
   },
   {
    "duration": 47,
    "start_time": "2022-11-01T20:04:25.459Z"
   },
   {
    "duration": 11,
    "start_time": "2022-11-01T20:04:25.508Z"
   },
   {
    "duration": 423,
    "start_time": "2022-11-01T20:04:25.521Z"
   },
   {
    "duration": 0,
    "start_time": "2022-11-01T20:04:25.945Z"
   },
   {
    "duration": 141,
    "start_time": "2022-11-01T20:05:06.748Z"
   },
   {
    "duration": 174,
    "start_time": "2022-11-01T20:06:39.801Z"
   },
   {
    "duration": 155,
    "start_time": "2022-11-01T20:07:08.787Z"
   },
   {
    "duration": 160,
    "start_time": "2022-11-01T20:07:47.539Z"
   },
   {
    "duration": 187,
    "start_time": "2022-11-01T20:08:02.700Z"
   },
   {
    "duration": 1137,
    "start_time": "2022-11-01T20:08:45.569Z"
   },
   {
    "duration": 172,
    "start_time": "2022-11-01T20:08:58.885Z"
   },
   {
    "duration": 18,
    "start_time": "2022-11-01T20:10:07.482Z"
   },
   {
    "duration": 176,
    "start_time": "2022-11-01T20:10:15.555Z"
   },
   {
    "duration": 15,
    "start_time": "2022-11-01T20:42:47.296Z"
   },
   {
    "duration": 4,
    "start_time": "2022-11-01T20:45:01.525Z"
   },
   {
    "duration": 4,
    "start_time": "2022-11-01T20:45:23.151Z"
   },
   {
    "duration": 4,
    "start_time": "2022-11-01T20:46:16.978Z"
   },
   {
    "duration": 68,
    "start_time": "2022-11-01T20:46:21.458Z"
   },
   {
    "duration": 17,
    "start_time": "2022-11-01T20:47:17.708Z"
   },
   {
    "duration": 1030,
    "start_time": "2022-11-01T20:47:33.666Z"
   },
   {
    "duration": 109,
    "start_time": "2022-11-01T20:47:34.698Z"
   },
   {
    "duration": 19,
    "start_time": "2022-11-01T20:47:34.808Z"
   },
   {
    "duration": 4,
    "start_time": "2022-11-01T20:47:34.829Z"
   },
   {
    "duration": 7,
    "start_time": "2022-11-01T20:47:34.835Z"
   },
   {
    "duration": 9,
    "start_time": "2022-11-01T20:47:34.844Z"
   },
   {
    "duration": 8,
    "start_time": "2022-11-01T20:47:34.855Z"
   },
   {
    "duration": 4,
    "start_time": "2022-11-01T20:47:34.864Z"
   },
   {
    "duration": 219,
    "start_time": "2022-11-01T20:47:34.869Z"
   },
   {
    "duration": 171,
    "start_time": "2022-11-01T20:47:35.090Z"
   },
   {
    "duration": 25,
    "start_time": "2022-11-01T20:47:35.263Z"
   },
   {
    "duration": 29,
    "start_time": "2022-11-01T20:47:35.289Z"
   },
   {
    "duration": 5,
    "start_time": "2022-11-01T20:47:35.320Z"
   },
   {
    "duration": 16,
    "start_time": "2022-11-01T20:47:35.327Z"
   },
   {
    "duration": 13,
    "start_time": "2022-11-01T20:47:35.345Z"
   },
   {
    "duration": 68,
    "start_time": "2022-11-01T20:47:35.360Z"
   },
   {
    "duration": 0,
    "start_time": "2022-11-01T20:47:35.429Z"
   },
   {
    "duration": 72,
    "start_time": "2022-11-01T20:48:12.441Z"
   },
   {
    "duration": 75,
    "start_time": "2022-11-01T20:48:16.624Z"
   },
   {
    "duration": 73,
    "start_time": "2022-11-01T20:48:23.085Z"
   },
   {
    "duration": 75,
    "start_time": "2022-11-01T20:48:53.008Z"
   },
   {
    "duration": 91,
    "start_time": "2022-11-01T20:50:40.244Z"
   },
   {
    "duration": 14,
    "start_time": "2022-11-01T20:50:58.133Z"
   },
   {
    "duration": 23,
    "start_time": "2022-11-01T20:50:58.867Z"
   },
   {
    "duration": 146,
    "start_time": "2022-11-01T20:51:15.480Z"
   },
   {
    "duration": 143,
    "start_time": "2022-11-01T20:52:15.801Z"
   },
   {
    "duration": 143,
    "start_time": "2022-11-01T20:52:29.713Z"
   },
   {
    "duration": 125,
    "start_time": "2022-11-01T20:54:04.892Z"
   },
   {
    "duration": 185,
    "start_time": "2022-11-01T20:54:07.169Z"
   },
   {
    "duration": 16,
    "start_time": "2022-11-01T20:57:39.653Z"
   },
   {
    "duration": 9,
    "start_time": "2022-11-01T20:59:43.721Z"
   },
   {
    "duration": 95,
    "start_time": "2022-11-01T21:00:35.977Z"
   },
   {
    "duration": 6,
    "start_time": "2022-11-01T21:02:19.957Z"
   },
   {
    "duration": 213,
    "start_time": "2022-11-01T21:04:35.216Z"
   },
   {
    "duration": 174,
    "start_time": "2022-11-01T21:08:37.669Z"
   },
   {
    "duration": 149,
    "start_time": "2022-11-01T21:09:13.705Z"
   },
   {
    "duration": 139,
    "start_time": "2022-11-01T21:09:30.225Z"
   },
   {
    "duration": 233,
    "start_time": "2022-11-01T21:12:32.903Z"
   },
   {
    "duration": 161,
    "start_time": "2022-11-01T21:12:43.552Z"
   },
   {
    "duration": 184,
    "start_time": "2022-11-01T21:12:47.405Z"
   },
   {
    "duration": 288,
    "start_time": "2022-11-01T21:13:52.722Z"
   },
   {
    "duration": 267,
    "start_time": "2022-11-01T21:14:34.321Z"
   },
   {
    "duration": 144,
    "start_time": "2022-11-01T21:14:43.633Z"
   },
   {
    "duration": 83,
    "start_time": "2022-11-01T21:14:51.768Z"
   },
   {
    "duration": 182,
    "start_time": "2022-11-01T21:16:20.975Z"
   },
   {
    "duration": 185,
    "start_time": "2022-11-01T21:16:30.125Z"
   },
   {
    "duration": 181,
    "start_time": "2022-11-01T21:16:57.824Z"
   },
   {
    "duration": 174,
    "start_time": "2022-11-01T21:24:22.462Z"
   },
   {
    "duration": 1850,
    "start_time": "2022-11-01T21:35:47.748Z"
   },
   {
    "duration": 169,
    "start_time": "2022-11-01T21:39:30.586Z"
   },
   {
    "duration": 1420,
    "start_time": "2022-11-01T21:39:49.305Z"
   },
   {
    "duration": 1100,
    "start_time": "2022-11-01T21:40:33.082Z"
   },
   {
    "duration": 133,
    "start_time": "2022-11-01T21:40:34.184Z"
   },
   {
    "duration": 18,
    "start_time": "2022-11-01T21:40:34.318Z"
   },
   {
    "duration": 3,
    "start_time": "2022-11-01T21:40:34.338Z"
   },
   {
    "duration": 5,
    "start_time": "2022-11-01T21:40:34.343Z"
   },
   {
    "duration": 9,
    "start_time": "2022-11-01T21:40:34.349Z"
   },
   {
    "duration": 8,
    "start_time": "2022-11-01T21:40:34.359Z"
   },
   {
    "duration": 3,
    "start_time": "2022-11-01T21:40:34.369Z"
   },
   {
    "duration": 202,
    "start_time": "2022-11-01T21:40:34.374Z"
   },
   {
    "duration": 173,
    "start_time": "2022-11-01T21:40:34.579Z"
   },
   {
    "duration": 24,
    "start_time": "2022-11-01T21:40:34.754Z"
   },
   {
    "duration": 7,
    "start_time": "2022-11-01T21:40:34.779Z"
   },
   {
    "duration": 5,
    "start_time": "2022-11-01T21:40:34.805Z"
   },
   {
    "duration": 17,
    "start_time": "2022-11-01T21:40:34.812Z"
   },
   {
    "duration": 13,
    "start_time": "2022-11-01T21:40:34.831Z"
   },
   {
    "duration": 169,
    "start_time": "2022-11-01T21:40:34.846Z"
   },
   {
    "duration": 117,
    "start_time": "2022-11-01T21:40:35.017Z"
   },
   {
    "duration": 9,
    "start_time": "2022-11-01T21:40:35.135Z"
   },
   {
    "duration": 9,
    "start_time": "2022-11-01T21:40:35.146Z"
   },
   {
    "duration": 240,
    "start_time": "2022-11-01T21:40:35.157Z"
   },
   {
    "duration": 6,
    "start_time": "2022-11-01T21:40:35.404Z"
   },
   {
    "duration": 181,
    "start_time": "2022-11-01T21:40:35.412Z"
   },
   {
    "duration": 151,
    "start_time": "2022-11-01T21:45:57.366Z"
   },
   {
    "duration": 305,
    "start_time": "2022-11-01T21:46:11.602Z"
   },
   {
    "duration": 273,
    "start_time": "2022-11-01T21:46:30.025Z"
   },
   {
    "duration": 271,
    "start_time": "2022-11-01T21:47:48.461Z"
   },
   {
    "duration": 360,
    "start_time": "2022-11-01T21:47:56.539Z"
   },
   {
    "duration": 307,
    "start_time": "2022-11-01T21:48:02.508Z"
   },
   {
    "duration": 304,
    "start_time": "2022-11-01T21:48:07.770Z"
   },
   {
    "duration": 182,
    "start_time": "2022-11-01T21:49:16.310Z"
   },
   {
    "duration": 6,
    "start_time": "2022-11-01T21:49:17.749Z"
   },
   {
    "duration": 182,
    "start_time": "2022-11-01T21:49:18.358Z"
   },
   {
    "duration": 274,
    "start_time": "2022-11-01T21:49:23.551Z"
   },
   {
    "duration": 177,
    "start_time": "2022-11-01T21:53:11.724Z"
   },
   {
    "duration": 198,
    "start_time": "2022-11-01T21:53:38.951Z"
   },
   {
    "duration": 217,
    "start_time": "2022-11-01T21:53:50.233Z"
   },
   {
    "duration": 265,
    "start_time": "2022-11-01T21:54:13.475Z"
   },
   {
    "duration": 189,
    "start_time": "2022-11-01T21:54:48.799Z"
   },
   {
    "duration": 303,
    "start_time": "2022-11-01T21:54:52.020Z"
   },
   {
    "duration": 1037,
    "start_time": "2022-11-01T21:55:10.369Z"
   },
   {
    "duration": 105,
    "start_time": "2022-11-01T21:55:11.407Z"
   },
   {
    "duration": 20,
    "start_time": "2022-11-01T21:55:11.514Z"
   },
   {
    "duration": 6,
    "start_time": "2022-11-01T21:55:11.536Z"
   },
   {
    "duration": 8,
    "start_time": "2022-11-01T21:55:11.544Z"
   },
   {
    "duration": 24,
    "start_time": "2022-11-01T21:55:11.553Z"
   },
   {
    "duration": 16,
    "start_time": "2022-11-01T21:55:11.579Z"
   },
   {
    "duration": 6,
    "start_time": "2022-11-01T21:55:11.597Z"
   },
   {
    "duration": 203,
    "start_time": "2022-11-01T21:55:11.604Z"
   },
   {
    "duration": 187,
    "start_time": "2022-11-01T21:55:11.808Z"
   },
   {
    "duration": 28,
    "start_time": "2022-11-01T21:55:11.996Z"
   },
   {
    "duration": 8,
    "start_time": "2022-11-01T21:55:12.025Z"
   },
   {
    "duration": 7,
    "start_time": "2022-11-01T21:55:12.034Z"
   },
   {
    "duration": 18,
    "start_time": "2022-11-01T21:55:12.043Z"
   },
   {
    "duration": 44,
    "start_time": "2022-11-01T21:55:12.062Z"
   },
   {
    "duration": 158,
    "start_time": "2022-11-01T21:55:12.108Z"
   },
   {
    "duration": 119,
    "start_time": "2022-11-01T21:55:12.268Z"
   },
   {
    "duration": 16,
    "start_time": "2022-11-01T21:55:12.389Z"
   },
   {
    "duration": 10,
    "start_time": "2022-11-01T21:55:12.407Z"
   },
   {
    "duration": 266,
    "start_time": "2022-11-01T21:55:12.418Z"
   },
   {
    "duration": 5,
    "start_time": "2022-11-01T21:55:12.686Z"
   },
   {
    "duration": 212,
    "start_time": "2022-11-01T21:55:12.693Z"
   },
   {
    "duration": 319,
    "start_time": "2022-11-01T21:55:12.907Z"
   },
   {
    "duration": 244,
    "start_time": "2022-11-01T21:55:13.227Z"
   },
   {
    "duration": 230,
    "start_time": "2022-11-01T21:56:21.975Z"
   },
   {
    "duration": 164,
    "start_time": "2022-11-01T21:58:44.298Z"
   },
   {
    "duration": 341,
    "start_time": "2022-11-01T21:58:58.249Z"
   },
   {
    "duration": 356,
    "start_time": "2022-11-01T22:12:22.667Z"
   },
   {
    "duration": 1247,
    "start_time": "2022-11-02T08:21:25.486Z"
   },
   {
    "duration": 235,
    "start_time": "2022-11-02T08:21:26.735Z"
   },
   {
    "duration": 18,
    "start_time": "2022-11-02T08:21:26.972Z"
   },
   {
    "duration": 3,
    "start_time": "2022-11-02T08:21:26.991Z"
   },
   {
    "duration": 6,
    "start_time": "2022-11-02T08:21:26.996Z"
   },
   {
    "duration": 10,
    "start_time": "2022-11-02T08:21:27.003Z"
   },
   {
    "duration": 8,
    "start_time": "2022-11-02T08:21:27.015Z"
   },
   {
    "duration": 4,
    "start_time": "2022-11-02T08:21:27.025Z"
   },
   {
    "duration": 194,
    "start_time": "2022-11-02T08:21:27.031Z"
   },
   {
    "duration": 187,
    "start_time": "2022-11-02T08:21:27.227Z"
   },
   {
    "duration": 29,
    "start_time": "2022-11-02T08:21:27.416Z"
   },
   {
    "duration": 8,
    "start_time": "2022-11-02T08:21:27.447Z"
   },
   {
    "duration": 12,
    "start_time": "2022-11-02T08:21:27.457Z"
   },
   {
    "duration": 47,
    "start_time": "2022-11-02T08:21:27.472Z"
   },
   {
    "duration": 15,
    "start_time": "2022-11-02T08:21:27.521Z"
   },
   {
    "duration": 180,
    "start_time": "2022-11-02T08:21:27.538Z"
   },
   {
    "duration": 114,
    "start_time": "2022-11-02T08:21:27.719Z"
   },
   {
    "duration": 9,
    "start_time": "2022-11-02T08:21:27.834Z"
   },
   {
    "duration": 11,
    "start_time": "2022-11-02T08:21:27.845Z"
   },
   {
    "duration": 295,
    "start_time": "2022-11-02T08:21:27.857Z"
   },
   {
    "duration": 5,
    "start_time": "2022-11-02T08:21:28.154Z"
   },
   {
    "duration": 212,
    "start_time": "2022-11-02T08:21:28.161Z"
   },
   {
    "duration": 376,
    "start_time": "2022-11-02T08:21:28.375Z"
   },
   {
    "duration": 229,
    "start_time": "2022-11-02T08:21:28.752Z"
   },
   {
    "duration": 348,
    "start_time": "2022-11-02T08:21:28.983Z"
   },
   {
    "duration": 290,
    "start_time": "2022-11-02T08:31:01.347Z"
   },
   {
    "duration": 92,
    "start_time": "2022-11-02T08:34:19.200Z"
   },
   {
    "duration": 1103,
    "start_time": "2022-11-02T08:34:26.104Z"
   },
   {
    "duration": 113,
    "start_time": "2022-11-02T08:34:27.209Z"
   },
   {
    "duration": 21,
    "start_time": "2022-11-02T08:34:27.324Z"
   },
   {
    "duration": 9,
    "start_time": "2022-11-02T08:34:27.348Z"
   },
   {
    "duration": 9,
    "start_time": "2022-11-02T08:34:27.359Z"
   },
   {
    "duration": 23,
    "start_time": "2022-11-02T08:34:27.372Z"
   },
   {
    "duration": 15,
    "start_time": "2022-11-02T08:34:27.397Z"
   },
   {
    "duration": 9,
    "start_time": "2022-11-02T08:34:27.414Z"
   },
   {
    "duration": 244,
    "start_time": "2022-11-02T08:34:27.424Z"
   },
   {
    "duration": 179,
    "start_time": "2022-11-02T08:34:27.670Z"
   },
   {
    "duration": 24,
    "start_time": "2022-11-02T08:34:27.850Z"
   },
   {
    "duration": 6,
    "start_time": "2022-11-02T08:34:27.876Z"
   },
   {
    "duration": 21,
    "start_time": "2022-11-02T08:34:27.884Z"
   },
   {
    "duration": 21,
    "start_time": "2022-11-02T08:34:27.907Z"
   },
   {
    "duration": 17,
    "start_time": "2022-11-02T08:34:27.930Z"
   },
   {
    "duration": 173,
    "start_time": "2022-11-02T08:34:27.949Z"
   },
   {
    "duration": 124,
    "start_time": "2022-11-02T08:34:28.123Z"
   },
   {
    "duration": 6,
    "start_time": "2022-11-02T08:34:28.248Z"
   },
   {
    "duration": 13,
    "start_time": "2022-11-02T08:34:28.256Z"
   },
   {
    "duration": 272,
    "start_time": "2022-11-02T08:34:28.270Z"
   },
   {
    "duration": 6,
    "start_time": "2022-11-02T08:34:28.543Z"
   },
   {
    "duration": 208,
    "start_time": "2022-11-02T08:34:28.550Z"
   },
   {
    "duration": 288,
    "start_time": "2022-11-02T08:34:28.759Z"
   },
   {
    "duration": 229,
    "start_time": "2022-11-02T08:34:29.048Z"
   },
   {
    "duration": 339,
    "start_time": "2022-11-02T08:34:29.279Z"
   },
   {
    "duration": 95,
    "start_time": "2022-11-02T08:34:29.620Z"
   },
   {
    "duration": 13,
    "start_time": "2022-11-02T08:40:56.401Z"
   },
   {
    "duration": 8,
    "start_time": "2022-11-02T08:41:52.767Z"
   },
   {
    "duration": 10,
    "start_time": "2022-11-02T08:42:53.074Z"
   },
   {
    "duration": 179,
    "start_time": "2022-11-02T08:43:09.254Z"
   },
   {
    "duration": 98,
    "start_time": "2022-11-02T08:43:22.380Z"
   },
   {
    "duration": 119,
    "start_time": "2022-11-02T08:45:23.031Z"
   },
   {
    "duration": 117,
    "start_time": "2022-11-02T08:45:25.030Z"
   },
   {
    "duration": 4,
    "start_time": "2022-11-02T08:47:21.783Z"
   },
   {
    "duration": 116,
    "start_time": "2022-11-02T08:53:03.593Z"
   },
   {
    "duration": 116,
    "start_time": "2022-11-02T09:08:29.269Z"
   },
   {
    "duration": 118,
    "start_time": "2022-11-02T09:08:49.414Z"
   },
   {
    "duration": 1165,
    "start_time": "2022-11-02T09:09:04.088Z"
   },
   {
    "duration": 116,
    "start_time": "2022-11-02T09:10:02.238Z"
   },
   {
    "duration": 1450,
    "start_time": "2022-11-02T09:13:31.645Z"
   },
   {
    "duration": 134,
    "start_time": "2022-11-02T09:14:35.527Z"
   },
   {
    "duration": 4,
    "start_time": "2022-11-02T09:15:05.585Z"
   },
   {
    "duration": 5,
    "start_time": "2022-11-02T09:15:28.152Z"
   },
   {
    "duration": 106,
    "start_time": "2022-11-02T11:13:25.641Z"
   },
   {
    "duration": 106,
    "start_time": "2022-11-02T11:14:33.115Z"
   },
   {
    "duration": 164,
    "start_time": "2022-11-02T11:15:19.905Z"
   },
   {
    "duration": 201,
    "start_time": "2022-11-02T11:15:35.847Z"
   },
   {
    "duration": 241,
    "start_time": "2022-11-02T11:15:43.512Z"
   },
   {
    "duration": 240,
    "start_time": "2022-11-02T11:15:53.329Z"
   },
   {
    "duration": 133,
    "start_time": "2022-11-02T11:17:07.749Z"
   },
   {
    "duration": 10,
    "start_time": "2022-11-02T11:17:37.998Z"
   },
   {
    "duration": 9,
    "start_time": "2022-11-02T11:19:26.868Z"
   },
   {
    "duration": 4,
    "start_time": "2022-11-02T11:19:52.823Z"
   },
   {
    "duration": 21,
    "start_time": "2022-11-02T11:19:56.971Z"
   },
   {
    "duration": 32,
    "start_time": "2022-11-02T11:20:09.528Z"
   },
   {
    "duration": 30,
    "start_time": "2022-11-02T11:20:50.843Z"
   },
   {
    "duration": 1124,
    "start_time": "2022-11-02T11:21:03.425Z"
   },
   {
    "duration": 113,
    "start_time": "2022-11-02T11:21:04.551Z"
   },
   {
    "duration": 18,
    "start_time": "2022-11-02T11:21:04.666Z"
   },
   {
    "duration": 4,
    "start_time": "2022-11-02T11:21:04.686Z"
   },
   {
    "duration": 25,
    "start_time": "2022-11-02T11:21:04.692Z"
   },
   {
    "duration": 25,
    "start_time": "2022-11-02T11:21:04.718Z"
   },
   {
    "duration": 15,
    "start_time": "2022-11-02T11:21:04.745Z"
   },
   {
    "duration": 12,
    "start_time": "2022-11-02T11:21:04.761Z"
   },
   {
    "duration": 216,
    "start_time": "2022-11-02T11:21:04.775Z"
   },
   {
    "duration": 193,
    "start_time": "2022-11-02T11:21:04.995Z"
   },
   {
    "duration": 33,
    "start_time": "2022-11-02T11:21:05.190Z"
   },
   {
    "duration": 7,
    "start_time": "2022-11-02T11:21:05.224Z"
   },
   {
    "duration": 5,
    "start_time": "2022-11-02T11:21:05.233Z"
   },
   {
    "duration": 18,
    "start_time": "2022-11-02T11:21:05.240Z"
   },
   {
    "duration": 48,
    "start_time": "2022-11-02T11:21:05.260Z"
   },
   {
    "duration": 168,
    "start_time": "2022-11-02T11:21:05.310Z"
   },
   {
    "duration": 132,
    "start_time": "2022-11-02T11:21:05.480Z"
   },
   {
    "duration": 8,
    "start_time": "2022-11-02T11:21:05.614Z"
   },
   {
    "duration": 10,
    "start_time": "2022-11-02T11:21:05.624Z"
   },
   {
    "duration": 298,
    "start_time": "2022-11-02T11:21:05.636Z"
   },
   {
    "duration": 6,
    "start_time": "2022-11-02T11:21:05.936Z"
   },
   {
    "duration": 214,
    "start_time": "2022-11-02T11:21:05.944Z"
   },
   {
    "duration": 310,
    "start_time": "2022-11-02T11:21:06.159Z"
   },
   {
    "duration": 234,
    "start_time": "2022-11-02T11:21:06.471Z"
   },
   {
    "duration": 339,
    "start_time": "2022-11-02T11:21:06.707Z"
   },
   {
    "duration": 15,
    "start_time": "2022-11-02T11:21:07.048Z"
   },
   {
    "duration": 169,
    "start_time": "2022-11-02T11:21:07.065Z"
   },
   {
    "duration": 296,
    "start_time": "2022-11-02T11:21:07.237Z"
   },
   {
    "duration": 6,
    "start_time": "2022-11-02T11:21:07.536Z"
   },
   {
    "duration": 204,
    "start_time": "2022-11-02T11:21:07.544Z"
   },
   {
    "duration": 6,
    "start_time": "2022-11-02T11:21:07.751Z"
   },
   {
    "duration": 326,
    "start_time": "2022-11-02T11:21:07.759Z"
   },
   {
    "duration": 149,
    "start_time": "2022-11-02T11:21:08.087Z"
   },
   {
    "duration": 8,
    "start_time": "2022-11-02T11:21:08.239Z"
   },
   {
    "duration": 38,
    "start_time": "2022-11-02T11:21:08.249Z"
   },
   {
    "duration": 174,
    "start_time": "2022-11-02T11:26:06.089Z"
   },
   {
    "duration": 22,
    "start_time": "2022-11-02T11:26:37.534Z"
   },
   {
    "duration": 23,
    "start_time": "2022-11-02T11:39:58.328Z"
   },
   {
    "duration": 1118,
    "start_time": "2022-11-02T11:59:36.313Z"
   },
   {
    "duration": 109,
    "start_time": "2022-11-02T11:59:37.434Z"
   },
   {
    "duration": 22,
    "start_time": "2022-11-02T11:59:37.545Z"
   },
   {
    "duration": 4,
    "start_time": "2022-11-02T11:59:37.569Z"
   },
   {
    "duration": 5,
    "start_time": "2022-11-02T11:59:37.575Z"
   },
   {
    "duration": 12,
    "start_time": "2022-11-02T11:59:37.581Z"
   },
   {
    "duration": 8,
    "start_time": "2022-11-02T11:59:37.594Z"
   },
   {
    "duration": 7,
    "start_time": "2022-11-02T11:59:37.603Z"
   },
   {
    "duration": 201,
    "start_time": "2022-11-02T11:59:37.611Z"
   },
   {
    "duration": 199,
    "start_time": "2022-11-02T11:59:37.814Z"
   },
   {
    "duration": 32,
    "start_time": "2022-11-02T11:59:38.015Z"
   },
   {
    "duration": 12,
    "start_time": "2022-11-02T11:59:38.049Z"
   },
   {
    "duration": 14,
    "start_time": "2022-11-02T11:59:38.063Z"
   },
   {
    "duration": 34,
    "start_time": "2022-11-02T11:59:38.079Z"
   },
   {
    "duration": 18,
    "start_time": "2022-11-02T11:59:38.115Z"
   },
   {
    "duration": 183,
    "start_time": "2022-11-02T11:59:38.135Z"
   },
   {
    "duration": 114,
    "start_time": "2022-11-02T11:59:38.319Z"
   },
   {
    "duration": 6,
    "start_time": "2022-11-02T11:59:38.435Z"
   },
   {
    "duration": 9,
    "start_time": "2022-11-02T11:59:38.443Z"
   },
   {
    "duration": 275,
    "start_time": "2022-11-02T11:59:38.453Z"
   },
   {
    "duration": 6,
    "start_time": "2022-11-02T11:59:38.729Z"
   },
   {
    "duration": 212,
    "start_time": "2022-11-02T11:59:38.736Z"
   },
   {
    "duration": 292,
    "start_time": "2022-11-02T11:59:38.950Z"
   },
   {
    "duration": 232,
    "start_time": "2022-11-02T11:59:39.244Z"
   },
   {
    "duration": 354,
    "start_time": "2022-11-02T11:59:39.478Z"
   },
   {
    "duration": 11,
    "start_time": "2022-11-02T11:59:39.834Z"
   },
   {
    "duration": 144,
    "start_time": "2022-11-02T11:59:39.846Z"
   },
   {
    "duration": 216,
    "start_time": "2022-11-02T11:59:39.991Z"
   },
   {
    "duration": 5,
    "start_time": "2022-11-02T11:59:40.208Z"
   },
   {
    "duration": 167,
    "start_time": "2022-11-02T11:59:40.215Z"
   },
   {
    "duration": 5,
    "start_time": "2022-11-02T11:59:40.384Z"
   },
   {
    "duration": 90,
    "start_time": "2022-11-02T11:59:40.390Z"
   },
   {
    "duration": 119,
    "start_time": "2022-11-02T11:59:40.482Z"
   },
   {
    "duration": 22,
    "start_time": "2022-11-02T11:59:40.603Z"
   },
   {
    "duration": 144,
    "start_time": "2022-11-02T11:59:40.627Z"
   },
   {
    "duration": 6,
    "start_time": "2022-11-02T11:59:40.772Z"
   },
   {
    "duration": 33,
    "start_time": "2022-11-02T11:59:40.779Z"
   },
   {
    "duration": 57,
    "start_time": "2022-11-02T12:03:18.043Z"
   },
   {
    "duration": 57,
    "start_time": "2022-11-02T12:03:21.863Z"
   },
   {
    "duration": 1139,
    "start_time": "2022-11-02T12:07:10.795Z"
   },
   {
    "duration": 105,
    "start_time": "2022-11-02T12:07:11.937Z"
   },
   {
    "duration": 17,
    "start_time": "2022-11-02T12:07:12.044Z"
   },
   {
    "duration": 3,
    "start_time": "2022-11-02T12:07:12.062Z"
   },
   {
    "duration": 5,
    "start_time": "2022-11-02T12:07:12.067Z"
   },
   {
    "duration": 9,
    "start_time": "2022-11-02T12:07:12.073Z"
   },
   {
    "duration": 7,
    "start_time": "2022-11-02T12:07:12.084Z"
   },
   {
    "duration": 6,
    "start_time": "2022-11-02T12:07:12.092Z"
   },
   {
    "duration": 200,
    "start_time": "2022-11-02T12:07:12.099Z"
   },
   {
    "duration": 178,
    "start_time": "2022-11-02T12:07:12.300Z"
   },
   {
    "duration": 39,
    "start_time": "2022-11-02T12:07:12.479Z"
   },
   {
    "duration": 9,
    "start_time": "2022-11-02T12:07:12.520Z"
   },
   {
    "duration": 6,
    "start_time": "2022-11-02T12:07:12.531Z"
   },
   {
    "duration": 16,
    "start_time": "2022-11-02T12:07:12.540Z"
   },
   {
    "duration": 20,
    "start_time": "2022-11-02T12:07:12.558Z"
   },
   {
    "duration": 166,
    "start_time": "2022-11-02T12:07:12.606Z"
   },
   {
    "duration": 122,
    "start_time": "2022-11-02T12:07:12.774Z"
   },
   {
    "duration": 8,
    "start_time": "2022-11-02T12:07:12.905Z"
   },
   {
    "duration": 8,
    "start_time": "2022-11-02T12:07:12.915Z"
   },
   {
    "duration": 281,
    "start_time": "2022-11-02T12:07:12.924Z"
   },
   {
    "duration": 6,
    "start_time": "2022-11-02T12:07:13.207Z"
   },
   {
    "duration": 218,
    "start_time": "2022-11-02T12:07:13.215Z"
   },
   {
    "duration": 307,
    "start_time": "2022-11-02T12:07:13.434Z"
   },
   {
    "duration": 238,
    "start_time": "2022-11-02T12:07:13.743Z"
   },
   {
    "duration": 369,
    "start_time": "2022-11-02T12:07:13.983Z"
   },
   {
    "duration": 13,
    "start_time": "2022-11-02T12:07:14.355Z"
   },
   {
    "duration": 153,
    "start_time": "2022-11-02T12:07:14.370Z"
   },
   {
    "duration": 214,
    "start_time": "2022-11-02T12:07:14.524Z"
   },
   {
    "duration": 5,
    "start_time": "2022-11-02T12:07:14.740Z"
   },
   {
    "duration": 159,
    "start_time": "2022-11-02T12:07:14.747Z"
   },
   {
    "duration": 4,
    "start_time": "2022-11-02T12:07:14.908Z"
   },
   {
    "duration": 15,
    "start_time": "2022-11-02T12:07:14.914Z"
   },
   {
    "duration": 101,
    "start_time": "2022-11-02T12:07:14.930Z"
   },
   {
    "duration": 64,
    "start_time": "2022-11-02T12:07:15.033Z"
   },
   {
    "duration": 53,
    "start_time": "2022-11-02T12:07:15.099Z"
   },
   {
    "duration": 44,
    "start_time": "2022-11-02T12:07:15.154Z"
   },
   {
    "duration": 120,
    "start_time": "2022-11-02T12:07:15.199Z"
   },
   {
    "duration": 5,
    "start_time": "2022-11-02T12:07:15.320Z"
   },
   {
    "duration": 21,
    "start_time": "2022-11-02T12:07:15.326Z"
   },
   {
    "duration": 63,
    "start_time": "2022-11-02T12:07:27.056Z"
   },
   {
    "duration": 20,
    "start_time": "2022-11-02T12:09:01.518Z"
   },
   {
    "duration": 19,
    "start_time": "2022-11-02T12:09:06.520Z"
   },
   {
    "duration": 25,
    "start_time": "2022-11-02T12:10:12.254Z"
   },
   {
    "duration": 123,
    "start_time": "2022-11-02T12:11:13.270Z"
   },
   {
    "duration": 6,
    "start_time": "2022-11-02T12:11:29.335Z"
   },
   {
    "duration": 20,
    "start_time": "2022-11-02T12:12:05.039Z"
   },
   {
    "duration": 10,
    "start_time": "2022-11-02T12:13:19.721Z"
   },
   {
    "duration": 10,
    "start_time": "2022-11-02T12:14:37.048Z"
   },
   {
    "duration": 9,
    "start_time": "2022-11-02T12:15:29.136Z"
   },
   {
    "duration": 1066,
    "start_time": "2022-11-02T12:15:37.350Z"
   },
   {
    "duration": 108,
    "start_time": "2022-11-02T12:15:38.418Z"
   },
   {
    "duration": 19,
    "start_time": "2022-11-02T12:15:38.527Z"
   },
   {
    "duration": 3,
    "start_time": "2022-11-02T12:15:38.548Z"
   },
   {
    "duration": 5,
    "start_time": "2022-11-02T12:15:38.553Z"
   },
   {
    "duration": 8,
    "start_time": "2022-11-02T12:15:38.560Z"
   },
   {
    "duration": 7,
    "start_time": "2022-11-02T12:15:38.570Z"
   },
   {
    "duration": 4,
    "start_time": "2022-11-02T12:15:38.578Z"
   },
   {
    "duration": 205,
    "start_time": "2022-11-02T12:15:38.583Z"
   },
   {
    "duration": 173,
    "start_time": "2022-11-02T12:15:38.791Z"
   },
   {
    "duration": 24,
    "start_time": "2022-11-02T12:15:38.965Z"
   },
   {
    "duration": 6,
    "start_time": "2022-11-02T12:15:39.006Z"
   },
   {
    "duration": 4,
    "start_time": "2022-11-02T12:15:39.014Z"
   },
   {
    "duration": 16,
    "start_time": "2022-11-02T12:15:39.020Z"
   },
   {
    "duration": 14,
    "start_time": "2022-11-02T12:15:39.038Z"
   },
   {
    "duration": 178,
    "start_time": "2022-11-02T12:15:39.053Z"
   },
   {
    "duration": 124,
    "start_time": "2022-11-02T12:15:39.233Z"
   },
   {
    "duration": 7,
    "start_time": "2022-11-02T12:15:39.359Z"
   },
   {
    "duration": 11,
    "start_time": "2022-11-02T12:15:39.367Z"
   },
   {
    "duration": 284,
    "start_time": "2022-11-02T12:15:39.379Z"
   },
   {
    "duration": 6,
    "start_time": "2022-11-02T12:15:39.665Z"
   },
   {
    "duration": 221,
    "start_time": "2022-11-02T12:15:39.673Z"
   },
   {
    "duration": 340,
    "start_time": "2022-11-02T12:15:39.896Z"
   },
   {
    "duration": 234,
    "start_time": "2022-11-02T12:15:40.238Z"
   },
   {
    "duration": 371,
    "start_time": "2022-11-02T12:15:40.474Z"
   },
   {
    "duration": 12,
    "start_time": "2022-11-02T12:15:40.847Z"
   },
   {
    "duration": 135,
    "start_time": "2022-11-02T12:15:40.860Z"
   },
   {
    "duration": 208,
    "start_time": "2022-11-02T12:15:40.999Z"
   },
   {
    "duration": 5,
    "start_time": "2022-11-02T12:15:41.209Z"
   },
   {
    "duration": 154,
    "start_time": "2022-11-02T12:15:41.215Z"
   },
   {
    "duration": 5,
    "start_time": "2022-11-02T12:15:41.370Z"
   },
   {
    "duration": 9,
    "start_time": "2022-11-02T12:15:41.376Z"
   },
   {
    "duration": 95,
    "start_time": "2022-11-02T12:15:41.386Z"
   },
   {
    "duration": 74,
    "start_time": "2022-11-02T12:15:41.483Z"
   },
   {
    "duration": 70,
    "start_time": "2022-11-02T12:15:41.559Z"
   },
   {
    "duration": 25,
    "start_time": "2022-11-02T12:15:41.630Z"
   },
   {
    "duration": 170,
    "start_time": "2022-11-02T12:15:41.656Z"
   },
   {
    "duration": 6,
    "start_time": "2022-11-02T12:15:41.827Z"
   },
   {
    "duration": 26,
    "start_time": "2022-11-02T12:15:41.834Z"
   },
   {
    "duration": 10,
    "start_time": "2022-11-02T12:15:41.862Z"
   },
   {
    "duration": 1339,
    "start_time": "2022-11-02T12:20:54.375Z"
   },
   {
    "duration": 7,
    "start_time": "2022-11-02T12:22:28.978Z"
   },
   {
    "duration": 9,
    "start_time": "2022-11-02T12:22:40.872Z"
   },
   {
    "duration": 8,
    "start_time": "2022-11-02T12:24:45.710Z"
   },
   {
    "duration": 1158,
    "start_time": "2022-11-02T12:58:05.490Z"
   },
   {
    "duration": 104,
    "start_time": "2022-11-02T12:58:06.650Z"
   },
   {
    "duration": 19,
    "start_time": "2022-11-02T12:58:06.755Z"
   },
   {
    "duration": 6,
    "start_time": "2022-11-02T12:58:06.776Z"
   },
   {
    "duration": 26,
    "start_time": "2022-11-02T12:58:06.784Z"
   },
   {
    "duration": 35,
    "start_time": "2022-11-02T12:58:06.812Z"
   },
   {
    "duration": 22,
    "start_time": "2022-11-02T12:58:06.848Z"
   },
   {
    "duration": 24,
    "start_time": "2022-11-02T12:58:06.872Z"
   },
   {
    "duration": 215,
    "start_time": "2022-11-02T12:58:06.898Z"
   },
   {
    "duration": 192,
    "start_time": "2022-11-02T12:58:07.115Z"
   },
   {
    "duration": 29,
    "start_time": "2022-11-02T12:58:07.309Z"
   },
   {
    "duration": 17,
    "start_time": "2022-11-02T12:58:07.339Z"
   },
   {
    "duration": 29,
    "start_time": "2022-11-02T12:58:07.358Z"
   },
   {
    "duration": 40,
    "start_time": "2022-11-02T12:58:07.391Z"
   },
   {
    "duration": 40,
    "start_time": "2022-11-02T12:58:07.433Z"
   },
   {
    "duration": 214,
    "start_time": "2022-11-02T12:58:07.474Z"
   },
   {
    "duration": 125,
    "start_time": "2022-11-02T12:58:07.689Z"
   },
   {
    "duration": 25,
    "start_time": "2022-11-02T12:58:07.816Z"
   },
   {
    "duration": 45,
    "start_time": "2022-11-02T12:58:07.843Z"
   },
   {
    "duration": 351,
    "start_time": "2022-11-02T12:58:07.890Z"
   },
   {
    "duration": 6,
    "start_time": "2022-11-02T12:58:08.244Z"
   },
   {
    "duration": 236,
    "start_time": "2022-11-02T12:58:08.252Z"
   },
   {
    "duration": 370,
    "start_time": "2022-11-02T12:58:08.490Z"
   },
   {
    "duration": 251,
    "start_time": "2022-11-02T12:58:08.862Z"
   },
   {
    "duration": 341,
    "start_time": "2022-11-02T12:58:09.115Z"
   },
   {
    "duration": 13,
    "start_time": "2022-11-02T12:58:09.458Z"
   },
   {
    "duration": 162,
    "start_time": "2022-11-02T12:58:09.473Z"
   },
   {
    "duration": 223,
    "start_time": "2022-11-02T12:58:09.637Z"
   },
   {
    "duration": 5,
    "start_time": "2022-11-02T12:58:09.862Z"
   },
   {
    "duration": 163,
    "start_time": "2022-11-02T12:58:09.869Z"
   },
   {
    "duration": 6,
    "start_time": "2022-11-02T12:58:10.033Z"
   },
   {
    "duration": 10,
    "start_time": "2022-11-02T12:58:10.040Z"
   },
   {
    "duration": 97,
    "start_time": "2022-11-02T12:58:10.052Z"
   },
   {
    "duration": 80,
    "start_time": "2022-11-02T12:58:10.151Z"
   },
   {
    "duration": 73,
    "start_time": "2022-11-02T12:58:10.233Z"
   },
   {
    "duration": 23,
    "start_time": "2022-11-02T12:58:10.308Z"
   },
   {
    "duration": 148,
    "start_time": "2022-11-02T12:58:10.333Z"
   },
   {
    "duration": 5,
    "start_time": "2022-11-02T12:58:10.483Z"
   },
   {
    "duration": 34,
    "start_time": "2022-11-02T12:58:10.490Z"
   },
   {
    "duration": 10,
    "start_time": "2022-11-02T12:58:10.526Z"
   },
   {
    "duration": 9,
    "start_time": "2022-11-02T12:58:10.539Z"
   },
   {
    "duration": 10,
    "start_time": "2022-11-02T13:46:47.768Z"
   },
   {
    "duration": 12,
    "start_time": "2022-11-02T13:53:37.373Z"
   },
   {
    "duration": 9,
    "start_time": "2022-11-02T13:55:18.496Z"
   },
   {
    "duration": 10,
    "start_time": "2022-11-02T14:11:40.130Z"
   },
   {
    "duration": 18,
    "start_time": "2022-11-02T14:11:50.169Z"
   },
   {
    "duration": 21,
    "start_time": "2022-11-02T14:12:45.370Z"
   },
   {
    "duration": 29,
    "start_time": "2022-11-02T14:12:53.987Z"
   },
   {
    "duration": 22,
    "start_time": "2022-11-02T14:18:24.122Z"
   },
   {
    "duration": 19,
    "start_time": "2022-11-02T14:26:27.058Z"
   },
   {
    "duration": 26,
    "start_time": "2022-11-02T14:26:34.921Z"
   },
   {
    "duration": 9,
    "start_time": "2022-11-02T14:27:36.696Z"
   },
   {
    "duration": 9,
    "start_time": "2022-11-02T14:28:18.968Z"
   },
   {
    "duration": 20,
    "start_time": "2022-11-02T14:28:54.781Z"
   },
   {
    "duration": 21,
    "start_time": "2022-11-02T14:29:27.881Z"
   },
   {
    "duration": 7,
    "start_time": "2022-11-02T14:33:28.449Z"
   },
   {
    "duration": 19,
    "start_time": "2022-11-02T14:33:28.723Z"
   },
   {
    "duration": 1305,
    "start_time": "2022-11-02T14:39:29.551Z"
   },
   {
    "duration": 1273,
    "start_time": "2022-11-02T14:44:57.517Z"
   },
   {
    "duration": 13,
    "start_time": "2022-11-02T14:45:12.372Z"
   },
   {
    "duration": 180,
    "start_time": "2022-11-02T14:47:04.182Z"
   },
   {
    "duration": 1148,
    "start_time": "2022-11-02T14:48:21.799Z"
   },
   {
    "duration": 111,
    "start_time": "2022-11-02T14:48:22.949Z"
   },
   {
    "duration": 18,
    "start_time": "2022-11-02T14:48:23.062Z"
   },
   {
    "duration": 4,
    "start_time": "2022-11-02T14:48:23.082Z"
   },
   {
    "duration": 10,
    "start_time": "2022-11-02T14:48:23.088Z"
   },
   {
    "duration": 11,
    "start_time": "2022-11-02T14:48:23.100Z"
   },
   {
    "duration": 7,
    "start_time": "2022-11-02T14:48:23.113Z"
   },
   {
    "duration": 3,
    "start_time": "2022-11-02T14:48:23.122Z"
   },
   {
    "duration": 220,
    "start_time": "2022-11-02T14:48:23.127Z"
   },
   {
    "duration": 184,
    "start_time": "2022-11-02T14:48:23.349Z"
   },
   {
    "duration": 25,
    "start_time": "2022-11-02T14:48:23.534Z"
   },
   {
    "duration": 7,
    "start_time": "2022-11-02T14:48:23.560Z"
   },
   {
    "duration": 5,
    "start_time": "2022-11-02T14:48:23.569Z"
   },
   {
    "duration": 40,
    "start_time": "2022-11-02T14:48:23.576Z"
   },
   {
    "duration": 13,
    "start_time": "2022-11-02T14:48:23.617Z"
   },
   {
    "duration": 190,
    "start_time": "2022-11-02T14:48:23.631Z"
   },
   {
    "duration": 121,
    "start_time": "2022-11-02T14:48:23.822Z"
   },
   {
    "duration": 6,
    "start_time": "2022-11-02T14:48:23.945Z"
   },
   {
    "duration": 34,
    "start_time": "2022-11-02T14:48:23.953Z"
   },
   {
    "duration": 311,
    "start_time": "2022-11-02T14:48:23.989Z"
   },
   {
    "duration": 224,
    "start_time": "2022-11-02T14:48:24.301Z"
   },
   {
    "duration": 304,
    "start_time": "2022-11-02T14:48:24.527Z"
   },
   {
    "duration": 231,
    "start_time": "2022-11-02T14:48:24.832Z"
   },
   {
    "duration": 320,
    "start_time": "2022-11-02T14:48:25.065Z"
   },
   {
    "duration": 18,
    "start_time": "2022-11-02T14:48:25.387Z"
   },
   {
    "duration": 138,
    "start_time": "2022-11-02T14:48:25.407Z"
   },
   {
    "duration": 222,
    "start_time": "2022-11-02T14:48:25.547Z"
   },
   {
    "duration": 5,
    "start_time": "2022-11-02T14:48:25.770Z"
   },
   {
    "duration": 165,
    "start_time": "2022-11-02T14:48:25.776Z"
   },
   {
    "duration": 5,
    "start_time": "2022-11-02T14:48:25.942Z"
   },
   {
    "duration": 19,
    "start_time": "2022-11-02T14:48:25.948Z"
   },
   {
    "duration": 95,
    "start_time": "2022-11-02T14:48:25.969Z"
   },
   {
    "duration": 85,
    "start_time": "2022-11-02T14:48:26.066Z"
   },
   {
    "duration": 59,
    "start_time": "2022-11-02T14:48:26.152Z"
   },
   {
    "duration": 33,
    "start_time": "2022-11-02T14:48:26.212Z"
   },
   {
    "duration": 138,
    "start_time": "2022-11-02T14:48:26.247Z"
   },
   {
    "duration": 18,
    "start_time": "2022-11-02T14:48:26.386Z"
   },
   {
    "duration": 21,
    "start_time": "2022-11-02T14:48:26.406Z"
   },
   {
    "duration": 9,
    "start_time": "2022-11-02T14:48:26.429Z"
   },
   {
    "duration": 9,
    "start_time": "2022-11-02T14:48:26.439Z"
   },
   {
    "duration": 6,
    "start_time": "2022-11-02T14:48:26.451Z"
   },
   {
    "duration": 20,
    "start_time": "2022-11-02T14:48:26.459Z"
   },
   {
    "duration": 37,
    "start_time": "2022-11-02T14:48:26.480Z"
   },
   {
    "duration": 1053,
    "start_time": "2022-11-02T14:58:33.050Z"
   },
   {
    "duration": 103,
    "start_time": "2022-11-02T14:58:34.105Z"
   },
   {
    "duration": 17,
    "start_time": "2022-11-02T14:58:34.210Z"
   },
   {
    "duration": 3,
    "start_time": "2022-11-02T14:58:34.229Z"
   },
   {
    "duration": 13,
    "start_time": "2022-11-02T14:58:34.234Z"
   },
   {
    "duration": 11,
    "start_time": "2022-11-02T14:58:34.249Z"
   },
   {
    "duration": 14,
    "start_time": "2022-11-02T14:58:34.261Z"
   },
   {
    "duration": 3,
    "start_time": "2022-11-02T14:58:34.277Z"
   },
   {
    "duration": 218,
    "start_time": "2022-11-02T14:58:34.282Z"
   },
   {
    "duration": 176,
    "start_time": "2022-11-02T14:58:34.504Z"
   },
   {
    "duration": 35,
    "start_time": "2022-11-02T14:58:34.682Z"
   },
   {
    "duration": 8,
    "start_time": "2022-11-02T14:58:34.719Z"
   },
   {
    "duration": 6,
    "start_time": "2022-11-02T14:58:34.728Z"
   },
   {
    "duration": 17,
    "start_time": "2022-11-02T14:58:34.738Z"
   },
   {
    "duration": 13,
    "start_time": "2022-11-02T14:58:34.757Z"
   },
   {
    "duration": 172,
    "start_time": "2022-11-02T14:58:34.804Z"
   },
   {
    "duration": 115,
    "start_time": "2022-11-02T14:58:34.978Z"
   },
   {
    "duration": 7,
    "start_time": "2022-11-02T14:58:35.104Z"
   },
   {
    "duration": 27,
    "start_time": "2022-11-02T14:58:35.112Z"
   },
   {
    "duration": 269,
    "start_time": "2022-11-02T14:58:35.141Z"
   },
   {
    "duration": 200,
    "start_time": "2022-11-02T14:58:35.411Z"
   },
   {
    "duration": 341,
    "start_time": "2022-11-02T14:58:35.613Z"
   },
   {
    "duration": 241,
    "start_time": "2022-11-02T14:58:35.956Z"
   },
   {
    "duration": 333,
    "start_time": "2022-11-02T14:58:36.205Z"
   },
   {
    "duration": 67,
    "start_time": "2022-11-02T14:58:36.540Z"
   },
   {
    "duration": 0,
    "start_time": "2022-11-02T14:58:36.609Z"
   },
   {
    "duration": 0,
    "start_time": "2022-11-02T14:58:36.609Z"
   },
   {
    "duration": 0,
    "start_time": "2022-11-02T14:58:36.611Z"
   },
   {
    "duration": 0,
    "start_time": "2022-11-02T14:58:36.612Z"
   },
   {
    "duration": 0,
    "start_time": "2022-11-02T14:58:36.613Z"
   },
   {
    "duration": 0,
    "start_time": "2022-11-02T14:58:36.614Z"
   },
   {
    "duration": 0,
    "start_time": "2022-11-02T14:58:36.615Z"
   },
   {
    "duration": 0,
    "start_time": "2022-11-02T14:58:36.616Z"
   },
   {
    "duration": 0,
    "start_time": "2022-11-02T14:58:36.616Z"
   },
   {
    "duration": 0,
    "start_time": "2022-11-02T14:58:36.617Z"
   },
   {
    "duration": 0,
    "start_time": "2022-11-02T14:58:36.618Z"
   },
   {
    "duration": 0,
    "start_time": "2022-11-02T14:58:36.619Z"
   },
   {
    "duration": 0,
    "start_time": "2022-11-02T14:58:36.620Z"
   },
   {
    "duration": 0,
    "start_time": "2022-11-02T14:58:36.621Z"
   },
   {
    "duration": 0,
    "start_time": "2022-11-02T14:58:36.622Z"
   },
   {
    "duration": 0,
    "start_time": "2022-11-02T14:58:36.623Z"
   },
   {
    "duration": 0,
    "start_time": "2022-11-02T14:58:36.624Z"
   },
   {
    "duration": 0,
    "start_time": "2022-11-02T14:58:36.625Z"
   },
   {
    "duration": 72,
    "start_time": "2022-11-02T14:59:11.712Z"
   },
   {
    "duration": 162,
    "start_time": "2022-11-02T14:59:20.931Z"
   },
   {
    "duration": 1132,
    "start_time": "2022-11-02T14:59:27.581Z"
   },
   {
    "duration": 102,
    "start_time": "2022-11-02T14:59:28.715Z"
   },
   {
    "duration": 19,
    "start_time": "2022-11-02T14:59:28.819Z"
   },
   {
    "duration": 5,
    "start_time": "2022-11-02T14:59:28.839Z"
   },
   {
    "duration": 4,
    "start_time": "2022-11-02T14:59:28.846Z"
   },
   {
    "duration": 9,
    "start_time": "2022-11-02T14:59:28.852Z"
   },
   {
    "duration": 8,
    "start_time": "2022-11-02T14:59:28.862Z"
   },
   {
    "duration": 3,
    "start_time": "2022-11-02T14:59:28.872Z"
   },
   {
    "duration": 231,
    "start_time": "2022-11-02T14:59:28.877Z"
   },
   {
    "duration": 186,
    "start_time": "2022-11-02T14:59:29.110Z"
   },
   {
    "duration": 27,
    "start_time": "2022-11-02T14:59:29.298Z"
   },
   {
    "duration": 7,
    "start_time": "2022-11-02T14:59:29.326Z"
   },
   {
    "duration": 6,
    "start_time": "2022-11-02T14:59:29.334Z"
   },
   {
    "duration": 18,
    "start_time": "2022-11-02T14:59:29.342Z"
   },
   {
    "duration": 13,
    "start_time": "2022-11-02T14:59:29.361Z"
   },
   {
    "duration": 205,
    "start_time": "2022-11-02T14:59:29.375Z"
   },
   {
    "duration": 109,
    "start_time": "2022-11-02T14:59:29.581Z"
   },
   {
    "duration": 13,
    "start_time": "2022-11-02T14:59:29.692Z"
   },
   {
    "duration": 11,
    "start_time": "2022-11-02T14:59:29.707Z"
   },
   {
    "duration": 268,
    "start_time": "2022-11-02T14:59:29.720Z"
   },
   {
    "duration": 213,
    "start_time": "2022-11-02T14:59:29.989Z"
   },
   {
    "duration": 328,
    "start_time": "2022-11-02T14:59:30.205Z"
   },
   {
    "duration": 234,
    "start_time": "2022-11-02T14:59:30.535Z"
   },
   {
    "duration": 364,
    "start_time": "2022-11-02T14:59:30.772Z"
   },
   {
    "duration": 136,
    "start_time": "2022-11-02T14:59:31.138Z"
   },
   {
    "duration": 132,
    "start_time": "2022-11-02T14:59:31.276Z"
   },
   {
    "duration": 208,
    "start_time": "2022-11-02T14:59:31.410Z"
   },
   {
    "duration": 5,
    "start_time": "2022-11-02T14:59:31.620Z"
   },
   {
    "duration": 146,
    "start_time": "2022-11-02T14:59:31.626Z"
   },
   {
    "duration": 4,
    "start_time": "2022-11-02T14:59:31.774Z"
   },
   {
    "duration": 8,
    "start_time": "2022-11-02T14:59:31.779Z"
   },
   {
    "duration": 86,
    "start_time": "2022-11-02T14:59:31.789Z"
   },
   {
    "duration": 71,
    "start_time": "2022-11-02T14:59:31.877Z"
   },
   {
    "duration": 64,
    "start_time": "2022-11-02T14:59:31.950Z"
   },
   {
    "duration": 22,
    "start_time": "2022-11-02T14:59:32.016Z"
   },
   {
    "duration": 133,
    "start_time": "2022-11-02T14:59:32.040Z"
   },
   {
    "duration": 6,
    "start_time": "2022-11-02T14:59:32.174Z"
   },
   {
    "duration": 32,
    "start_time": "2022-11-02T14:59:32.181Z"
   },
   {
    "duration": 9,
    "start_time": "2022-11-02T14:59:32.214Z"
   },
   {
    "duration": 8,
    "start_time": "2022-11-02T14:59:32.224Z"
   },
   {
    "duration": 9,
    "start_time": "2022-11-02T14:59:32.235Z"
   },
   {
    "duration": 25,
    "start_time": "2022-11-02T14:59:32.245Z"
   },
   {
    "duration": 40,
    "start_time": "2022-11-02T14:59:32.271Z"
   },
   {
    "duration": 1089,
    "start_time": "2022-11-02T15:01:01.610Z"
   },
   {
    "duration": 120,
    "start_time": "2022-11-02T15:01:02.701Z"
   },
   {
    "duration": 19,
    "start_time": "2022-11-02T15:01:02.823Z"
   },
   {
    "duration": 4,
    "start_time": "2022-11-02T15:01:02.843Z"
   },
   {
    "duration": 8,
    "start_time": "2022-11-02T15:01:02.849Z"
   },
   {
    "duration": 12,
    "start_time": "2022-11-02T15:01:02.858Z"
   },
   {
    "duration": 9,
    "start_time": "2022-11-02T15:01:02.872Z"
   },
   {
    "duration": 4,
    "start_time": "2022-11-02T15:01:02.883Z"
   },
   {
    "duration": 224,
    "start_time": "2022-11-02T15:01:02.889Z"
   },
   {
    "duration": 185,
    "start_time": "2022-11-02T15:01:03.115Z"
   },
   {
    "duration": 29,
    "start_time": "2022-11-02T15:01:03.301Z"
   },
   {
    "duration": 8,
    "start_time": "2022-11-02T15:01:03.332Z"
   },
   {
    "duration": 5,
    "start_time": "2022-11-02T15:01:03.341Z"
   },
   {
    "duration": 19,
    "start_time": "2022-11-02T15:01:03.348Z"
   },
   {
    "duration": 47,
    "start_time": "2022-11-02T15:01:03.368Z"
   },
   {
    "duration": 191,
    "start_time": "2022-11-02T15:01:03.417Z"
   },
   {
    "duration": 120,
    "start_time": "2022-11-02T15:01:03.610Z"
   },
   {
    "duration": 7,
    "start_time": "2022-11-02T15:01:03.732Z"
   },
   {
    "duration": 14,
    "start_time": "2022-11-02T15:01:03.741Z"
   },
   {
    "duration": 281,
    "start_time": "2022-11-02T15:01:03.757Z"
   },
   {
    "duration": 220,
    "start_time": "2022-11-02T15:01:04.040Z"
   },
   {
    "duration": 315,
    "start_time": "2022-11-02T15:01:04.262Z"
   },
   {
    "duration": 223,
    "start_time": "2022-11-02T15:01:04.578Z"
   },
   {
    "duration": 344,
    "start_time": "2022-11-02T15:01:04.804Z"
   },
   {
    "duration": 155,
    "start_time": "2022-11-02T15:01:05.150Z"
   },
   {
    "duration": 128,
    "start_time": "2022-11-02T15:01:05.307Z"
   },
   {
    "duration": 210,
    "start_time": "2022-11-02T15:01:05.437Z"
   },
   {
    "duration": 5,
    "start_time": "2022-11-02T15:01:05.650Z"
   },
   {
    "duration": 151,
    "start_time": "2022-11-02T15:01:05.657Z"
   },
   {
    "duration": 5,
    "start_time": "2022-11-02T15:01:05.809Z"
   },
   {
    "duration": 8,
    "start_time": "2022-11-02T15:01:05.815Z"
   },
   {
    "duration": 92,
    "start_time": "2022-11-02T15:01:05.824Z"
   },
   {
    "duration": 60,
    "start_time": "2022-11-02T15:01:05.918Z"
   },
   {
    "duration": 67,
    "start_time": "2022-11-02T15:01:05.979Z"
   },
   {
    "duration": 36,
    "start_time": "2022-11-02T15:01:06.048Z"
   },
   {
    "duration": 138,
    "start_time": "2022-11-02T15:01:06.085Z"
   },
   {
    "duration": 5,
    "start_time": "2022-11-02T15:01:06.225Z"
   },
   {
    "duration": 32,
    "start_time": "2022-11-02T15:01:06.240Z"
   },
   {
    "duration": 12,
    "start_time": "2022-11-02T15:01:06.273Z"
   },
   {
    "duration": 20,
    "start_time": "2022-11-02T15:01:06.286Z"
   },
   {
    "duration": 9,
    "start_time": "2022-11-02T15:01:06.307Z"
   },
   {
    "duration": 23,
    "start_time": "2022-11-02T15:01:06.317Z"
   },
   {
    "duration": 14,
    "start_time": "2022-11-02T15:01:06.341Z"
   },
   {
    "duration": 7,
    "start_time": "2022-11-02T15:05:43.350Z"
   },
   {
    "duration": 20,
    "start_time": "2022-11-02T15:05:48.637Z"
   },
   {
    "duration": 1085,
    "start_time": "2022-11-02T15:05:55.110Z"
   },
   {
    "duration": 104,
    "start_time": "2022-11-02T15:05:56.196Z"
   },
   {
    "duration": 19,
    "start_time": "2022-11-02T15:05:56.302Z"
   },
   {
    "duration": 5,
    "start_time": "2022-11-02T15:05:56.323Z"
   },
   {
    "duration": 5,
    "start_time": "2022-11-02T15:05:56.329Z"
   },
   {
    "duration": 11,
    "start_time": "2022-11-02T15:05:56.336Z"
   },
   {
    "duration": 8,
    "start_time": "2022-11-02T15:05:56.349Z"
   },
   {
    "duration": 6,
    "start_time": "2022-11-02T15:05:56.358Z"
   },
   {
    "duration": 228,
    "start_time": "2022-11-02T15:05:56.366Z"
   },
   {
    "duration": 181,
    "start_time": "2022-11-02T15:05:56.598Z"
   },
   {
    "duration": 40,
    "start_time": "2022-11-02T15:05:56.781Z"
   },
   {
    "duration": 8,
    "start_time": "2022-11-02T15:05:56.823Z"
   },
   {
    "duration": 6,
    "start_time": "2022-11-02T15:05:56.833Z"
   },
   {
    "duration": 19,
    "start_time": "2022-11-02T15:05:56.840Z"
   },
   {
    "duration": 13,
    "start_time": "2022-11-02T15:05:56.860Z"
   },
   {
    "duration": 192,
    "start_time": "2022-11-02T15:05:56.875Z"
   },
   {
    "duration": 115,
    "start_time": "2022-11-02T15:05:57.069Z"
   },
   {
    "duration": 19,
    "start_time": "2022-11-02T15:05:57.186Z"
   },
   {
    "duration": 7,
    "start_time": "2022-11-02T15:05:57.207Z"
   },
   {
    "duration": 339,
    "start_time": "2022-11-02T15:05:57.215Z"
   },
   {
    "duration": 201,
    "start_time": "2022-11-02T15:05:57.556Z"
   },
   {
    "duration": 327,
    "start_time": "2022-11-02T15:05:57.759Z"
   },
   {
    "duration": 234,
    "start_time": "2022-11-02T15:05:58.088Z"
   },
   {
    "duration": 314,
    "start_time": "2022-11-02T15:05:58.324Z"
   },
   {
    "duration": 118,
    "start_time": "2022-11-02T15:05:58.639Z"
   },
   {
    "duration": 122,
    "start_time": "2022-11-02T15:05:58.759Z"
   },
   {
    "duration": 216,
    "start_time": "2022-11-02T15:05:58.882Z"
   },
   {
    "duration": 5,
    "start_time": "2022-11-02T15:05:59.104Z"
   },
   {
    "duration": 155,
    "start_time": "2022-11-02T15:05:59.111Z"
   },
   {
    "duration": 6,
    "start_time": "2022-11-02T15:05:59.268Z"
   },
   {
    "duration": 30,
    "start_time": "2022-11-02T15:05:59.275Z"
   },
   {
    "duration": 91,
    "start_time": "2022-11-02T15:05:59.307Z"
   },
   {
    "duration": 78,
    "start_time": "2022-11-02T15:05:59.400Z"
   },
   {
    "duration": 52,
    "start_time": "2022-11-02T15:05:59.479Z"
   },
   {
    "duration": 21,
    "start_time": "2022-11-02T15:05:59.533Z"
   },
   {
    "duration": 123,
    "start_time": "2022-11-02T15:05:59.556Z"
   },
   {
    "duration": 5,
    "start_time": "2022-11-02T15:05:59.681Z"
   },
   {
    "duration": 34,
    "start_time": "2022-11-02T15:05:59.688Z"
   },
   {
    "duration": 8,
    "start_time": "2022-11-02T15:05:59.724Z"
   },
   {
    "duration": 18,
    "start_time": "2022-11-02T15:05:59.734Z"
   },
   {
    "duration": 30,
    "start_time": "2022-11-02T15:05:59.753Z"
   },
   {
    "duration": 35,
    "start_time": "2022-11-02T15:05:59.785Z"
   },
   {
    "duration": 18,
    "start_time": "2022-11-02T15:05:59.822Z"
   },
   {
    "duration": 1114,
    "start_time": "2022-11-02T15:12:53.500Z"
   },
   {
    "duration": 108,
    "start_time": "2022-11-02T15:12:54.615Z"
   },
   {
    "duration": 18,
    "start_time": "2022-11-02T15:12:54.724Z"
   },
   {
    "duration": 4,
    "start_time": "2022-11-02T15:12:54.743Z"
   },
   {
    "duration": 12,
    "start_time": "2022-11-02T15:12:54.748Z"
   },
   {
    "duration": 9,
    "start_time": "2022-11-02T15:12:54.761Z"
   },
   {
    "duration": 4,
    "start_time": "2022-11-02T15:12:54.771Z"
   },
   {
    "duration": 200,
    "start_time": "2022-11-02T15:12:54.776Z"
   },
   {
    "duration": 182,
    "start_time": "2022-11-02T15:12:54.978Z"
   },
   {
    "duration": 23,
    "start_time": "2022-11-02T15:12:55.163Z"
   },
   {
    "duration": 20,
    "start_time": "2022-11-02T15:12:55.188Z"
   },
   {
    "duration": 6,
    "start_time": "2022-11-02T15:12:55.209Z"
   },
   {
    "duration": 18,
    "start_time": "2022-11-02T15:12:55.216Z"
   },
   {
    "duration": 13,
    "start_time": "2022-11-02T15:12:55.236Z"
   },
   {
    "duration": 130,
    "start_time": "2022-11-02T15:12:55.250Z"
   },
   {
    "duration": 0,
    "start_time": "2022-11-02T15:12:55.382Z"
   },
   {
    "duration": 0,
    "start_time": "2022-11-02T15:12:55.383Z"
   },
   {
    "duration": 0,
    "start_time": "2022-11-02T15:12:55.384Z"
   },
   {
    "duration": 0,
    "start_time": "2022-11-02T15:12:55.385Z"
   },
   {
    "duration": 0,
    "start_time": "2022-11-02T15:12:55.386Z"
   },
   {
    "duration": 0,
    "start_time": "2022-11-02T15:12:55.387Z"
   },
   {
    "duration": 0,
    "start_time": "2022-11-02T15:12:55.387Z"
   },
   {
    "duration": 0,
    "start_time": "2022-11-02T15:12:55.388Z"
   },
   {
    "duration": 0,
    "start_time": "2022-11-02T15:12:55.405Z"
   },
   {
    "duration": 0,
    "start_time": "2022-11-02T15:12:55.405Z"
   },
   {
    "duration": 0,
    "start_time": "2022-11-02T15:12:55.406Z"
   },
   {
    "duration": 0,
    "start_time": "2022-11-02T15:12:55.407Z"
   },
   {
    "duration": 0,
    "start_time": "2022-11-02T15:12:55.408Z"
   },
   {
    "duration": 0,
    "start_time": "2022-11-02T15:12:55.409Z"
   },
   {
    "duration": 0,
    "start_time": "2022-11-02T15:12:55.410Z"
   },
   {
    "duration": 0,
    "start_time": "2022-11-02T15:12:55.411Z"
   },
   {
    "duration": 0,
    "start_time": "2022-11-02T15:12:55.412Z"
   },
   {
    "duration": 0,
    "start_time": "2022-11-02T15:12:55.412Z"
   },
   {
    "duration": 0,
    "start_time": "2022-11-02T15:12:55.413Z"
   },
   {
    "duration": 0,
    "start_time": "2022-11-02T15:12:55.414Z"
   },
   {
    "duration": 0,
    "start_time": "2022-11-02T15:12:55.415Z"
   },
   {
    "duration": 0,
    "start_time": "2022-11-02T15:12:55.416Z"
   },
   {
    "duration": 0,
    "start_time": "2022-11-02T15:12:55.417Z"
   },
   {
    "duration": 0,
    "start_time": "2022-11-02T15:12:55.418Z"
   },
   {
    "duration": 0,
    "start_time": "2022-11-02T15:12:55.419Z"
   },
   {
    "duration": 0,
    "start_time": "2022-11-02T15:12:55.420Z"
   },
   {
    "duration": 0,
    "start_time": "2022-11-02T15:12:55.421Z"
   },
   {
    "duration": 22,
    "start_time": "2022-11-02T15:15:25.348Z"
   },
   {
    "duration": 1036,
    "start_time": "2022-11-02T15:15:36.058Z"
   },
   {
    "duration": 108,
    "start_time": "2022-11-02T15:15:37.095Z"
   },
   {
    "duration": 18,
    "start_time": "2022-11-02T15:15:37.204Z"
   },
   {
    "duration": 4,
    "start_time": "2022-11-02T15:15:37.223Z"
   },
   {
    "duration": 11,
    "start_time": "2022-11-02T15:15:37.229Z"
   },
   {
    "duration": 8,
    "start_time": "2022-11-02T15:15:37.241Z"
   },
   {
    "duration": 4,
    "start_time": "2022-11-02T15:15:37.251Z"
   },
   {
    "duration": 222,
    "start_time": "2022-11-02T15:15:37.256Z"
   },
   {
    "duration": 218,
    "start_time": "2022-11-02T15:15:37.480Z"
   },
   {
    "duration": 24,
    "start_time": "2022-11-02T15:15:37.705Z"
   },
   {
    "duration": 8,
    "start_time": "2022-11-02T15:15:37.730Z"
   },
   {
    "duration": 6,
    "start_time": "2022-11-02T15:15:37.739Z"
   },
   {
    "duration": 17,
    "start_time": "2022-11-02T15:15:37.746Z"
   },
   {
    "duration": 42,
    "start_time": "2022-11-02T15:15:37.764Z"
   },
   {
    "duration": 201,
    "start_time": "2022-11-02T15:15:37.808Z"
   },
   {
    "duration": 126,
    "start_time": "2022-11-02T15:15:38.011Z"
   },
   {
    "duration": 6,
    "start_time": "2022-11-02T15:15:38.139Z"
   },
   {
    "duration": 8,
    "start_time": "2022-11-02T15:15:38.146Z"
   },
   {
    "duration": 280,
    "start_time": "2022-11-02T15:15:38.156Z"
   },
   {
    "duration": 202,
    "start_time": "2022-11-02T15:15:38.437Z"
   },
   {
    "duration": 285,
    "start_time": "2022-11-02T15:15:38.640Z"
   },
   {
    "duration": 236,
    "start_time": "2022-11-02T15:15:38.927Z"
   },
   {
    "duration": 314,
    "start_time": "2022-11-02T15:15:39.164Z"
   },
   {
    "duration": 119,
    "start_time": "2022-11-02T15:15:39.480Z"
   },
   {
    "duration": 131,
    "start_time": "2022-11-02T15:15:39.601Z"
   },
   {
    "duration": 208,
    "start_time": "2022-11-02T15:15:39.734Z"
   },
   {
    "duration": 4,
    "start_time": "2022-11-02T15:15:39.944Z"
   },
   {
    "duration": 160,
    "start_time": "2022-11-02T15:15:39.951Z"
   },
   {
    "duration": 4,
    "start_time": "2022-11-02T15:15:40.113Z"
   },
   {
    "duration": 12,
    "start_time": "2022-11-02T15:15:40.118Z"
   },
   {
    "duration": 96,
    "start_time": "2022-11-02T15:15:40.131Z"
   },
   {
    "duration": 62,
    "start_time": "2022-11-02T15:15:40.229Z"
   },
   {
    "duration": 61,
    "start_time": "2022-11-02T15:15:40.293Z"
   },
   {
    "duration": 25,
    "start_time": "2022-11-02T15:15:40.356Z"
   },
   {
    "duration": 147,
    "start_time": "2022-11-02T15:15:40.382Z"
   },
   {
    "duration": 8,
    "start_time": "2022-11-02T15:15:40.530Z"
   },
   {
    "duration": 27,
    "start_time": "2022-11-02T15:15:40.540Z"
   },
   {
    "duration": 10,
    "start_time": "2022-11-02T15:15:40.568Z"
   },
   {
    "duration": 29,
    "start_time": "2022-11-02T15:15:40.580Z"
   },
   {
    "duration": 10,
    "start_time": "2022-11-02T15:15:40.611Z"
   },
   {
    "duration": 19,
    "start_time": "2022-11-02T15:15:40.622Z"
   },
   {
    "duration": 11,
    "start_time": "2022-11-02T15:15:40.643Z"
   },
   {
    "duration": 13,
    "start_time": "2022-11-02T15:16:15.999Z"
   },
   {
    "duration": 10,
    "start_time": "2022-11-02T15:18:34.892Z"
   },
   {
    "duration": 1064,
    "start_time": "2022-11-02T17:48:10.430Z"
   },
   {
    "duration": 100,
    "start_time": "2022-11-02T17:48:11.496Z"
   },
   {
    "duration": 19,
    "start_time": "2022-11-02T17:48:11.600Z"
   },
   {
    "duration": 4,
    "start_time": "2022-11-02T17:48:11.622Z"
   },
   {
    "duration": 13,
    "start_time": "2022-11-02T17:48:11.627Z"
   },
   {
    "duration": 10,
    "start_time": "2022-11-02T17:48:11.642Z"
   },
   {
    "duration": 5,
    "start_time": "2022-11-02T17:48:11.653Z"
   },
   {
    "duration": 223,
    "start_time": "2022-11-02T17:48:11.659Z"
   },
   {
    "duration": 177,
    "start_time": "2022-11-02T17:48:11.884Z"
   },
   {
    "duration": 23,
    "start_time": "2022-11-02T17:48:12.063Z"
   },
   {
    "duration": 23,
    "start_time": "2022-11-02T17:48:12.087Z"
   },
   {
    "duration": 5,
    "start_time": "2022-11-02T17:48:12.112Z"
   },
   {
    "duration": 15,
    "start_time": "2022-11-02T17:48:12.121Z"
   },
   {
    "duration": 9,
    "start_time": "2022-11-02T17:48:12.138Z"
   },
   {
    "duration": 183,
    "start_time": "2022-11-02T17:48:12.148Z"
   },
   {
    "duration": 110,
    "start_time": "2022-11-02T17:48:12.332Z"
   },
   {
    "duration": 6,
    "start_time": "2022-11-02T17:48:12.444Z"
   },
   {
    "duration": 9,
    "start_time": "2022-11-02T17:48:12.451Z"
   },
   {
    "duration": 270,
    "start_time": "2022-11-02T17:48:12.461Z"
   },
   {
    "duration": 207,
    "start_time": "2022-11-02T17:48:12.733Z"
   },
   {
    "duration": 301,
    "start_time": "2022-11-02T17:48:12.941Z"
   },
   {
    "duration": 225,
    "start_time": "2022-11-02T17:48:13.244Z"
   },
   {
    "duration": 362,
    "start_time": "2022-11-02T17:48:13.471Z"
   },
   {
    "duration": 13,
    "start_time": "2022-11-02T17:48:13.835Z"
   },
   {
    "duration": 155,
    "start_time": "2022-11-02T17:48:13.849Z"
   },
   {
    "duration": 200,
    "start_time": "2022-11-02T17:48:14.005Z"
   },
   {
    "duration": 4,
    "start_time": "2022-11-02T17:48:14.206Z"
   },
   {
    "duration": 144,
    "start_time": "2022-11-02T17:48:14.211Z"
   },
   {
    "duration": 4,
    "start_time": "2022-11-02T17:48:14.357Z"
   },
   {
    "duration": 7,
    "start_time": "2022-11-02T17:48:14.363Z"
   },
   {
    "duration": 89,
    "start_time": "2022-11-02T17:48:14.371Z"
   },
   {
    "duration": 61,
    "start_time": "2022-11-02T17:48:14.462Z"
   },
   {
    "duration": 51,
    "start_time": "2022-11-02T17:48:14.524Z"
   },
   {
    "duration": 37,
    "start_time": "2022-11-02T17:48:14.576Z"
   },
   {
    "duration": 13,
    "start_time": "2022-11-02T17:48:14.615Z"
   },
   {
    "duration": 5,
    "start_time": "2022-11-02T17:48:14.629Z"
   },
   {
    "duration": 22,
    "start_time": "2022-11-02T17:48:14.636Z"
   },
   {
    "duration": 9,
    "start_time": "2022-11-02T17:48:14.659Z"
   },
   {
    "duration": 36,
    "start_time": "2022-11-02T17:48:14.670Z"
   },
   {
    "duration": 7,
    "start_time": "2022-11-02T17:48:14.709Z"
   },
   {
    "duration": 19,
    "start_time": "2022-11-02T17:48:14.718Z"
   },
   {
    "duration": 11,
    "start_time": "2022-11-02T17:48:14.739Z"
   },
   {
    "duration": 1098,
    "start_time": "2022-11-02T17:54:45.305Z"
   },
   {
    "duration": 110,
    "start_time": "2022-11-02T17:54:46.405Z"
   },
   {
    "duration": 18,
    "start_time": "2022-11-02T17:54:46.517Z"
   },
   {
    "duration": 4,
    "start_time": "2022-11-02T17:54:46.537Z"
   },
   {
    "duration": 8,
    "start_time": "2022-11-02T17:54:46.544Z"
   },
   {
    "duration": 8,
    "start_time": "2022-11-02T17:54:46.553Z"
   },
   {
    "duration": 4,
    "start_time": "2022-11-02T17:54:46.563Z"
   },
   {
    "duration": 228,
    "start_time": "2022-11-02T17:54:46.568Z"
   },
   {
    "duration": 177,
    "start_time": "2022-11-02T17:54:46.798Z"
   },
   {
    "duration": 29,
    "start_time": "2022-11-02T17:54:46.977Z"
   },
   {
    "duration": 7,
    "start_time": "2022-11-02T17:54:47.007Z"
   },
   {
    "duration": 5,
    "start_time": "2022-11-02T17:54:47.015Z"
   },
   {
    "duration": 18,
    "start_time": "2022-11-02T17:54:47.021Z"
   },
   {
    "duration": 8,
    "start_time": "2022-11-02T17:54:47.042Z"
   },
   {
    "duration": 176,
    "start_time": "2022-11-02T17:54:47.051Z"
   },
   {
    "duration": 119,
    "start_time": "2022-11-02T17:54:47.228Z"
   },
   {
    "duration": 8,
    "start_time": "2022-11-02T17:54:47.349Z"
   },
   {
    "duration": 18,
    "start_time": "2022-11-02T17:54:47.359Z"
   },
   {
    "duration": 315,
    "start_time": "2022-11-02T17:54:47.379Z"
   },
   {
    "duration": 206,
    "start_time": "2022-11-02T17:54:47.696Z"
   },
   {
    "duration": 329,
    "start_time": "2022-11-02T17:54:47.905Z"
   },
   {
    "duration": 6,
    "start_time": "2022-11-02T17:54:48.236Z"
   },
   {
    "duration": 225,
    "start_time": "2022-11-02T17:54:48.244Z"
   },
   {
    "duration": 348,
    "start_time": "2022-11-02T17:54:48.470Z"
   },
   {
    "duration": 12,
    "start_time": "2022-11-02T17:54:48.819Z"
   },
   {
    "duration": 136,
    "start_time": "2022-11-02T17:54:48.832Z"
   },
   {
    "duration": 214,
    "start_time": "2022-11-02T17:54:48.970Z"
   },
   {
    "duration": 5,
    "start_time": "2022-11-02T17:54:49.186Z"
   },
   {
    "duration": 158,
    "start_time": "2022-11-02T17:54:49.193Z"
   },
   {
    "duration": 4,
    "start_time": "2022-11-02T17:54:49.353Z"
   },
   {
    "duration": 17,
    "start_time": "2022-11-02T17:54:49.359Z"
   },
   {
    "duration": 105,
    "start_time": "2022-11-02T17:54:49.377Z"
   },
   {
    "duration": 66,
    "start_time": "2022-11-02T17:54:49.484Z"
   },
   {
    "duration": 53,
    "start_time": "2022-11-02T17:54:49.552Z"
   },
   {
    "duration": 23,
    "start_time": "2022-11-02T17:54:49.607Z"
   },
   {
    "duration": 13,
    "start_time": "2022-11-02T17:54:49.632Z"
   },
   {
    "duration": 12,
    "start_time": "2022-11-02T17:54:49.646Z"
   },
   {
    "duration": 22,
    "start_time": "2022-11-02T17:54:49.659Z"
   },
   {
    "duration": 31,
    "start_time": "2022-11-02T17:54:49.682Z"
   },
   {
    "duration": 8,
    "start_time": "2022-11-02T17:54:49.715Z"
   },
   {
    "duration": 33,
    "start_time": "2022-11-02T17:54:49.726Z"
   },
   {
    "duration": 30,
    "start_time": "2022-11-02T17:54:49.760Z"
   },
   {
    "duration": 14,
    "start_time": "2022-11-02T17:54:49.791Z"
   },
   {
    "duration": 14,
    "start_time": "2022-11-02T17:55:58.654Z"
   },
   {
    "duration": 93,
    "start_time": "2022-11-02T17:56:03.863Z"
   },
   {
    "duration": 12,
    "start_time": "2022-11-02T17:56:11.190Z"
   },
   {
    "duration": 14,
    "start_time": "2022-11-02T17:56:13.270Z"
   },
   {
    "duration": 70,
    "start_time": "2022-11-02T17:59:53.695Z"
   },
   {
    "duration": 1211,
    "start_time": "2022-11-02T18:00:16.196Z"
   },
   {
    "duration": 111,
    "start_time": "2022-11-02T18:00:17.410Z"
   },
   {
    "duration": 25,
    "start_time": "2022-11-02T18:00:17.523Z"
   },
   {
    "duration": 6,
    "start_time": "2022-11-02T18:00:17.550Z"
   },
   {
    "duration": 10,
    "start_time": "2022-11-02T18:00:17.557Z"
   },
   {
    "duration": 9,
    "start_time": "2022-11-02T18:00:17.568Z"
   },
   {
    "duration": 6,
    "start_time": "2022-11-02T18:00:17.579Z"
   },
   {
    "duration": 235,
    "start_time": "2022-11-02T18:00:17.586Z"
   },
   {
    "duration": 222,
    "start_time": "2022-11-02T18:00:17.823Z"
   },
   {
    "duration": 30,
    "start_time": "2022-11-02T18:00:18.048Z"
   },
   {
    "duration": 29,
    "start_time": "2022-11-02T18:00:18.081Z"
   },
   {
    "duration": 6,
    "start_time": "2022-11-02T18:00:18.112Z"
   },
   {
    "duration": 20,
    "start_time": "2022-11-02T18:00:18.120Z"
   },
   {
    "duration": 11,
    "start_time": "2022-11-02T18:00:18.142Z"
   },
   {
    "duration": 186,
    "start_time": "2022-11-02T18:00:18.154Z"
   },
   {
    "duration": 130,
    "start_time": "2022-11-02T18:00:18.342Z"
   },
   {
    "duration": 6,
    "start_time": "2022-11-02T18:00:18.474Z"
   },
   {
    "duration": 24,
    "start_time": "2022-11-02T18:00:18.481Z"
   },
   {
    "duration": 278,
    "start_time": "2022-11-02T18:00:18.507Z"
   },
   {
    "duration": 212,
    "start_time": "2022-11-02T18:00:18.786Z"
   },
   {
    "duration": 339,
    "start_time": "2022-11-02T18:00:19.000Z"
   },
   {
    "duration": 6,
    "start_time": "2022-11-02T18:00:19.340Z"
   },
   {
    "duration": 237,
    "start_time": "2022-11-02T18:00:19.348Z"
   },
   {
    "duration": 18,
    "start_time": "2022-11-02T18:00:19.587Z"
   },
   {
    "duration": 347,
    "start_time": "2022-11-02T18:00:19.606Z"
   },
   {
    "duration": 75,
    "start_time": "2022-11-02T18:00:19.954Z"
   },
   {
    "duration": 0,
    "start_time": "2022-11-02T18:00:20.031Z"
   },
   {
    "duration": 0,
    "start_time": "2022-11-02T18:00:20.032Z"
   },
   {
    "duration": 0,
    "start_time": "2022-11-02T18:00:20.033Z"
   },
   {
    "duration": 0,
    "start_time": "2022-11-02T18:00:20.034Z"
   },
   {
    "duration": 0,
    "start_time": "2022-11-02T18:00:20.035Z"
   },
   {
    "duration": 0,
    "start_time": "2022-11-02T18:00:20.036Z"
   },
   {
    "duration": 0,
    "start_time": "2022-11-02T18:00:20.037Z"
   },
   {
    "duration": 0,
    "start_time": "2022-11-02T18:00:20.038Z"
   },
   {
    "duration": 0,
    "start_time": "2022-11-02T18:00:20.039Z"
   },
   {
    "duration": 0,
    "start_time": "2022-11-02T18:00:20.040Z"
   },
   {
    "duration": 0,
    "start_time": "2022-11-02T18:00:20.041Z"
   },
   {
    "duration": 0,
    "start_time": "2022-11-02T18:00:20.042Z"
   },
   {
    "duration": 0,
    "start_time": "2022-11-02T18:00:20.043Z"
   },
   {
    "duration": 0,
    "start_time": "2022-11-02T18:00:20.044Z"
   },
   {
    "duration": 0,
    "start_time": "2022-11-02T18:00:20.045Z"
   },
   {
    "duration": 0,
    "start_time": "2022-11-02T18:00:20.046Z"
   },
   {
    "duration": 0,
    "start_time": "2022-11-02T18:00:20.047Z"
   },
   {
    "duration": 0,
    "start_time": "2022-11-02T18:00:20.048Z"
   },
   {
    "duration": 70,
    "start_time": "2022-11-02T18:00:32.829Z"
   },
   {
    "duration": 11,
    "start_time": "2022-11-02T18:00:37.293Z"
   },
   {
    "duration": 134,
    "start_time": "2022-11-02T18:00:48.107Z"
   },
   {
    "duration": 221,
    "start_time": "2022-11-02T18:00:49.772Z"
   },
   {
    "duration": 583,
    "start_time": "2022-11-02T18:01:04.955Z"
   },
   {
    "duration": 123,
    "start_time": "2022-11-02T18:01:09.277Z"
   },
   {
    "duration": 123,
    "start_time": "2022-11-02T18:01:34.735Z"
   },
   {
    "duration": 6,
    "start_time": "2022-11-02T18:01:35.214Z"
   },
   {
    "duration": 139,
    "start_time": "2022-11-02T18:01:35.564Z"
   },
   {
    "duration": 6,
    "start_time": "2022-11-02T18:01:36.088Z"
   },
   {
    "duration": 6,
    "start_time": "2022-11-02T18:01:36.617Z"
   },
   {
    "duration": 81,
    "start_time": "2022-11-02T18:01:36.819Z"
   },
   {
    "duration": 56,
    "start_time": "2022-11-02T18:01:36.981Z"
   },
   {
    "duration": 52,
    "start_time": "2022-11-02T18:01:37.170Z"
   },
   {
    "duration": 30,
    "start_time": "2022-11-02T18:01:37.394Z"
   },
   {
    "duration": 13,
    "start_time": "2022-11-02T18:01:37.563Z"
   },
   {
    "duration": 6,
    "start_time": "2022-11-02T18:01:37.790Z"
   },
   {
    "duration": 21,
    "start_time": "2022-11-02T18:01:37.959Z"
   },
   {
    "duration": 11,
    "start_time": "2022-11-02T18:01:38.352Z"
   },
   {
    "duration": 10,
    "start_time": "2022-11-02T18:01:39.821Z"
   },
   {
    "duration": 10,
    "start_time": "2022-11-02T18:01:40.575Z"
   },
   {
    "duration": 20,
    "start_time": "2022-11-02T18:01:40.967Z"
   },
   {
    "duration": 13,
    "start_time": "2022-11-02T18:01:42.443Z"
   },
   {
    "duration": 56,
    "start_time": "2022-11-02T18:02:00.706Z"
   },
   {
    "duration": 1081,
    "start_time": "2022-11-02T18:10:10.839Z"
   },
   {
    "duration": 108,
    "start_time": "2022-11-02T18:10:11.922Z"
   },
   {
    "duration": 17,
    "start_time": "2022-11-02T18:10:12.032Z"
   },
   {
    "duration": 4,
    "start_time": "2022-11-02T18:10:12.050Z"
   },
   {
    "duration": 11,
    "start_time": "2022-11-02T18:10:12.056Z"
   },
   {
    "duration": 8,
    "start_time": "2022-11-02T18:10:12.068Z"
   },
   {
    "duration": 3,
    "start_time": "2022-11-02T18:10:12.078Z"
   },
   {
    "duration": 226,
    "start_time": "2022-11-02T18:10:12.083Z"
   },
   {
    "duration": 177,
    "start_time": "2022-11-02T18:10:12.311Z"
   },
   {
    "duration": 30,
    "start_time": "2022-11-02T18:10:12.489Z"
   },
   {
    "duration": 6,
    "start_time": "2022-11-02T18:10:12.520Z"
   },
   {
    "duration": 5,
    "start_time": "2022-11-02T18:10:12.528Z"
   },
   {
    "duration": 17,
    "start_time": "2022-11-02T18:10:12.535Z"
   },
   {
    "duration": 11,
    "start_time": "2022-11-02T18:10:12.555Z"
   },
   {
    "duration": 178,
    "start_time": "2022-11-02T18:10:12.567Z"
   },
   {
    "duration": 120,
    "start_time": "2022-11-02T18:10:12.746Z"
   },
   {
    "duration": 6,
    "start_time": "2022-11-02T18:10:12.867Z"
   },
   {
    "duration": 8,
    "start_time": "2022-11-02T18:10:12.874Z"
   },
   {
    "duration": 274,
    "start_time": "2022-11-02T18:10:12.883Z"
   },
   {
    "duration": 208,
    "start_time": "2022-11-02T18:10:13.158Z"
   },
   {
    "duration": 307,
    "start_time": "2022-11-02T18:10:13.367Z"
   },
   {
    "duration": 5,
    "start_time": "2022-11-02T18:10:13.675Z"
   },
   {
    "duration": 225,
    "start_time": "2022-11-02T18:10:13.682Z"
   },
   {
    "duration": 12,
    "start_time": "2022-11-02T18:10:13.909Z"
   },
   {
    "duration": 332,
    "start_time": "2022-11-02T18:10:13.923Z"
   },
   {
    "duration": 10,
    "start_time": "2022-11-02T18:10:14.257Z"
   },
   {
    "duration": 130,
    "start_time": "2022-11-02T18:10:14.269Z"
   },
   {
    "duration": 193,
    "start_time": "2022-11-02T18:10:14.405Z"
   },
   {
    "duration": 8,
    "start_time": "2022-11-02T18:10:14.599Z"
   },
   {
    "duration": 175,
    "start_time": "2022-11-02T18:10:14.608Z"
   },
   {
    "duration": 5,
    "start_time": "2022-11-02T18:10:14.785Z"
   },
   {
    "duration": 59,
    "start_time": "2022-11-02T18:10:14.791Z"
   },
   {
    "duration": 54,
    "start_time": "2022-11-02T18:10:14.851Z"
   },
   {
    "duration": 59,
    "start_time": "2022-11-02T18:10:14.907Z"
   },
   {
    "duration": 65,
    "start_time": "2022-11-02T18:10:14.967Z"
   },
   {
    "duration": 24,
    "start_time": "2022-11-02T18:10:15.034Z"
   },
   {
    "duration": 14,
    "start_time": "2022-11-02T18:10:15.060Z"
   },
   {
    "duration": 29,
    "start_time": "2022-11-02T18:10:15.076Z"
   },
   {
    "duration": 21,
    "start_time": "2022-11-02T18:10:15.107Z"
   },
   {
    "duration": 12,
    "start_time": "2022-11-02T18:10:15.129Z"
   },
   {
    "duration": 9,
    "start_time": "2022-11-02T18:10:15.145Z"
   },
   {
    "duration": 14,
    "start_time": "2022-11-02T18:10:15.156Z"
   },
   {
    "duration": 45,
    "start_time": "2022-11-02T18:10:15.171Z"
   },
   {
    "duration": 13,
    "start_time": "2022-11-02T18:10:15.218Z"
   },
   {
    "duration": 90,
    "start_time": "2022-11-02T18:15:06.761Z"
   },
   {
    "duration": 1083,
    "start_time": "2022-11-02T18:16:34.708Z"
   },
   {
    "duration": 103,
    "start_time": "2022-11-02T18:16:35.793Z"
   },
   {
    "duration": 19,
    "start_time": "2022-11-02T18:16:35.899Z"
   },
   {
    "duration": 4,
    "start_time": "2022-11-02T18:16:35.920Z"
   },
   {
    "duration": 27,
    "start_time": "2022-11-02T18:16:35.925Z"
   },
   {
    "duration": 21,
    "start_time": "2022-11-02T18:16:35.953Z"
   },
   {
    "duration": 15,
    "start_time": "2022-11-02T18:16:35.976Z"
   },
   {
    "duration": 205,
    "start_time": "2022-11-02T18:16:35.992Z"
   },
   {
    "duration": 198,
    "start_time": "2022-11-02T18:16:36.198Z"
   },
   {
    "duration": 31,
    "start_time": "2022-11-02T18:16:36.398Z"
   },
   {
    "duration": 11,
    "start_time": "2022-11-02T18:16:36.430Z"
   },
   {
    "duration": 24,
    "start_time": "2022-11-02T18:16:36.442Z"
   },
   {
    "duration": 24,
    "start_time": "2022-11-02T18:16:36.469Z"
   },
   {
    "duration": 21,
    "start_time": "2022-11-02T18:16:36.494Z"
   },
   {
    "duration": 150,
    "start_time": "2022-11-02T18:16:36.517Z"
   },
   {
    "duration": 115,
    "start_time": "2022-11-02T18:16:36.668Z"
   },
   {
    "duration": 5,
    "start_time": "2022-11-02T18:16:36.785Z"
   },
   {
    "duration": 18,
    "start_time": "2022-11-02T18:16:36.791Z"
   },
   {
    "duration": 281,
    "start_time": "2022-11-02T18:16:36.810Z"
   },
   {
    "duration": 226,
    "start_time": "2022-11-02T18:16:37.093Z"
   },
   {
    "duration": 316,
    "start_time": "2022-11-02T18:16:37.321Z"
   },
   {
    "duration": 5,
    "start_time": "2022-11-02T18:16:37.639Z"
   },
   {
    "duration": 245,
    "start_time": "2022-11-02T18:16:37.645Z"
   },
   {
    "duration": 18,
    "start_time": "2022-11-02T18:16:37.892Z"
   },
   {
    "duration": 332,
    "start_time": "2022-11-02T18:16:37.912Z"
   },
   {
    "duration": 11,
    "start_time": "2022-11-02T18:16:38.245Z"
   },
   {
    "duration": 135,
    "start_time": "2022-11-02T18:16:38.258Z"
   },
   {
    "duration": 211,
    "start_time": "2022-11-02T18:16:38.395Z"
   },
   {
    "duration": 4,
    "start_time": "2022-11-02T18:16:38.608Z"
   },
   {
    "duration": 157,
    "start_time": "2022-11-02T18:16:38.614Z"
   },
   {
    "duration": 4,
    "start_time": "2022-11-02T18:16:38.774Z"
   },
   {
    "duration": 60,
    "start_time": "2022-11-02T18:16:38.780Z"
   },
   {
    "duration": 65,
    "start_time": "2022-11-02T18:16:38.841Z"
   },
   {
    "duration": 93,
    "start_time": "2022-11-02T18:16:38.908Z"
   },
   {
    "duration": 52,
    "start_time": "2022-11-02T18:16:39.002Z"
   },
   {
    "duration": 23,
    "start_time": "2022-11-02T18:16:39.055Z"
   },
   {
    "duration": 28,
    "start_time": "2022-11-02T18:16:39.079Z"
   },
   {
    "duration": 20,
    "start_time": "2022-11-02T18:16:39.109Z"
   },
   {
    "duration": 37,
    "start_time": "2022-11-02T18:16:39.131Z"
   },
   {
    "duration": 92,
    "start_time": "2022-11-02T18:16:39.172Z"
   },
   {
    "duration": 0,
    "start_time": "2022-11-02T18:16:39.266Z"
   },
   {
    "duration": 0,
    "start_time": "2022-11-02T18:16:39.267Z"
   },
   {
    "duration": 0,
    "start_time": "2022-11-02T18:16:39.268Z"
   },
   {
    "duration": 0,
    "start_time": "2022-11-02T18:16:39.269Z"
   },
   {
    "duration": 0,
    "start_time": "2022-11-02T18:16:39.270Z"
   },
   {
    "duration": 26,
    "start_time": "2022-11-02T18:16:50.846Z"
   },
   {
    "duration": 20,
    "start_time": "2022-11-02T18:16:53.655Z"
   },
   {
    "duration": 10,
    "start_time": "2022-11-02T18:18:31.136Z"
   },
   {
    "duration": 9,
    "start_time": "2022-11-02T18:18:32.537Z"
   },
   {
    "duration": 7,
    "start_time": "2022-11-02T18:18:33.192Z"
   },
   {
    "duration": 19,
    "start_time": "2022-11-02T18:18:33.855Z"
   },
   {
    "duration": 9,
    "start_time": "2022-11-02T18:18:45.370Z"
   },
   {
    "duration": 9,
    "start_time": "2022-11-02T18:18:56.302Z"
   },
   {
    "duration": 20,
    "start_time": "2022-11-02T18:19:13.322Z"
   },
   {
    "duration": 9,
    "start_time": "2022-11-02T18:31:53.986Z"
   },
   {
    "duration": 21,
    "start_time": "2022-11-02T18:32:00.251Z"
   },
   {
    "duration": 13,
    "start_time": "2022-11-02T18:32:57.467Z"
   },
   {
    "duration": 8,
    "start_time": "2022-11-02T18:33:23.218Z"
   },
   {
    "duration": 10,
    "start_time": "2022-11-02T18:33:56.193Z"
   },
   {
    "duration": 1133,
    "start_time": "2022-11-02T18:38:14.165Z"
   },
   {
    "duration": 1146,
    "start_time": "2022-11-02T18:38:38.644Z"
   },
   {
    "duration": 9,
    "start_time": "2022-11-02T18:39:37.096Z"
   },
   {
    "duration": 12,
    "start_time": "2022-11-02T18:39:52.260Z"
   },
   {
    "duration": 7,
    "start_time": "2022-11-02T18:40:08.160Z"
   },
   {
    "duration": 1823,
    "start_time": "2022-11-02T18:40:21.644Z"
   },
   {
    "duration": 8,
    "start_time": "2022-11-02T18:40:24.632Z"
   },
   {
    "duration": 8,
    "start_time": "2022-11-02T18:40:58.427Z"
   },
   {
    "duration": 1134,
    "start_time": "2022-11-02T18:41:08.581Z"
   },
   {
    "duration": 1152,
    "start_time": "2022-11-02T18:41:16.420Z"
   },
   {
    "duration": 14,
    "start_time": "2022-11-02T18:41:23.487Z"
   },
   {
    "duration": 309,
    "start_time": "2022-11-02T18:41:27.756Z"
   },
   {
    "duration": 13,
    "start_time": "2022-11-02T18:41:51.905Z"
   },
   {
    "duration": 15,
    "start_time": "2022-11-02T19:27:03.232Z"
   },
   {
    "duration": 18,
    "start_time": "2022-11-02T19:28:59.786Z"
   },
   {
    "duration": 18,
    "start_time": "2022-11-02T19:29:08.601Z"
   },
   {
    "duration": 18,
    "start_time": "2022-11-02T19:29:12.180Z"
   },
   {
    "duration": 20,
    "start_time": "2022-11-02T19:29:15.991Z"
   },
   {
    "duration": 1176,
    "start_time": "2022-11-02T19:29:27.292Z"
   },
   {
    "duration": 115,
    "start_time": "2022-11-02T19:29:28.470Z"
   },
   {
    "duration": 19,
    "start_time": "2022-11-02T19:29:28.586Z"
   },
   {
    "duration": 13,
    "start_time": "2022-11-02T19:29:28.607Z"
   },
   {
    "duration": 13,
    "start_time": "2022-11-02T19:29:28.623Z"
   },
   {
    "duration": 4,
    "start_time": "2022-11-02T19:29:28.638Z"
   },
   {
    "duration": 10,
    "start_time": "2022-11-02T19:29:28.643Z"
   },
   {
    "duration": 7,
    "start_time": "2022-11-02T19:29:28.655Z"
   },
   {
    "duration": 18,
    "start_time": "2022-11-02T19:29:28.664Z"
   },
   {
    "duration": 209,
    "start_time": "2022-11-02T19:29:28.705Z"
   },
   {
    "duration": 185,
    "start_time": "2022-11-02T19:29:28.916Z"
   },
   {
    "duration": 8,
    "start_time": "2022-11-02T19:29:29.102Z"
   },
   {
    "duration": 5,
    "start_time": "2022-11-02T19:29:29.112Z"
   },
   {
    "duration": 16,
    "start_time": "2022-11-02T19:29:29.120Z"
   },
   {
    "duration": 9,
    "start_time": "2022-11-02T19:29:29.137Z"
   },
   {
    "duration": 183,
    "start_time": "2022-11-02T19:29:29.147Z"
   },
   {
    "duration": 118,
    "start_time": "2022-11-02T19:29:29.332Z"
   },
   {
    "duration": 7,
    "start_time": "2022-11-02T19:29:29.451Z"
   },
   {
    "duration": 12,
    "start_time": "2022-11-02T19:29:29.459Z"
   },
   {
    "duration": 273,
    "start_time": "2022-11-02T19:29:29.472Z"
   },
   {
    "duration": 213,
    "start_time": "2022-11-02T19:29:29.746Z"
   },
   {
    "duration": 308,
    "start_time": "2022-11-02T19:29:29.960Z"
   },
   {
    "duration": 7,
    "start_time": "2022-11-02T19:29:30.270Z"
   },
   {
    "duration": 249,
    "start_time": "2022-11-02T19:29:30.279Z"
   },
   {
    "duration": 13,
    "start_time": "2022-11-02T19:29:30.530Z"
   },
   {
    "duration": 311,
    "start_time": "2022-11-02T19:29:30.545Z"
   },
   {
    "duration": 12,
    "start_time": "2022-11-02T19:29:30.858Z"
   },
   {
    "duration": 144,
    "start_time": "2022-11-02T19:29:30.872Z"
   },
   {
    "duration": 211,
    "start_time": "2022-11-02T19:29:31.018Z"
   },
   {
    "duration": 4,
    "start_time": "2022-11-02T19:29:31.231Z"
   },
   {
    "duration": 150,
    "start_time": "2022-11-02T19:29:31.237Z"
   },
   {
    "duration": 4,
    "start_time": "2022-11-02T19:29:31.389Z"
   },
   {
    "duration": 54,
    "start_time": "2022-11-02T19:29:31.395Z"
   },
   {
    "duration": 49,
    "start_time": "2022-11-02T19:29:31.451Z"
   },
   {
    "duration": 60,
    "start_time": "2022-11-02T19:29:31.502Z"
   },
   {
    "duration": 49,
    "start_time": "2022-11-02T19:29:31.564Z"
   },
   {
    "duration": 22,
    "start_time": "2022-11-02T19:29:31.614Z"
   },
   {
    "duration": 14,
    "start_time": "2022-11-02T19:29:31.638Z"
   },
   {
    "duration": 6,
    "start_time": "2022-11-02T19:29:31.653Z"
   },
   {
    "duration": 47,
    "start_time": "2022-11-02T19:29:31.661Z"
   },
   {
    "duration": 10,
    "start_time": "2022-11-02T19:29:31.711Z"
   },
   {
    "duration": 10,
    "start_time": "2022-11-02T19:29:31.723Z"
   },
   {
    "duration": 18,
    "start_time": "2022-11-02T19:29:31.735Z"
   },
   {
    "duration": 9,
    "start_time": "2022-11-02T19:29:31.754Z"
   },
   {
    "duration": 303,
    "start_time": "2022-11-02T19:29:31.764Z"
   },
   {
    "duration": 13,
    "start_time": "2022-11-02T19:29:32.069Z"
   },
   {
    "duration": 17,
    "start_time": "2022-11-02T19:29:54.313Z"
   },
   {
    "duration": 22,
    "start_time": "2022-11-02T19:30:06.950Z"
   },
   {
    "duration": 6,
    "start_time": "2022-11-02T19:39:00.035Z"
   },
   {
    "duration": 183,
    "start_time": "2022-11-02T19:55:22.824Z"
   },
   {
    "duration": 6,
    "start_time": "2022-11-02T20:19:15.933Z"
   },
   {
    "duration": 8,
    "start_time": "2022-11-02T20:21:41.057Z"
   },
   {
    "duration": 198,
    "start_time": "2022-11-02T20:55:29.507Z"
   },
   {
    "duration": 188,
    "start_time": "2022-11-02T20:58:08.981Z"
   },
   {
    "duration": 187,
    "start_time": "2022-11-02T20:59:02.094Z"
   },
   {
    "duration": 190,
    "start_time": "2022-11-02T20:59:35.370Z"
   },
   {
    "duration": 204,
    "start_time": "2022-11-02T20:59:43.744Z"
   },
   {
    "duration": 312,
    "start_time": "2022-11-02T21:11:11.523Z"
   },
   {
    "duration": 221,
    "start_time": "2022-11-02T21:36:13.072Z"
   },
   {
    "duration": 318,
    "start_time": "2022-11-02T21:51:33.211Z"
   },
   {
    "duration": 391,
    "start_time": "2022-11-02T22:00:08.938Z"
   },
   {
    "duration": 280,
    "start_time": "2022-11-02T22:00:39.456Z"
   },
   {
    "duration": 341,
    "start_time": "2022-11-02T22:00:48.993Z"
   },
   {
    "duration": 156,
    "start_time": "2022-11-02T22:00:58.979Z"
   },
   {
    "duration": 266,
    "start_time": "2022-11-02T22:01:03.159Z"
   },
   {
    "duration": 276,
    "start_time": "2022-11-02T22:01:47.444Z"
   },
   {
    "duration": 98,
    "start_time": "2022-11-02T22:41:18.043Z"
   },
   {
    "duration": 111,
    "start_time": "2022-11-02T22:41:28.463Z"
   },
   {
    "duration": 117,
    "start_time": "2022-11-02T22:42:31.140Z"
   },
   {
    "duration": 115,
    "start_time": "2022-11-02T22:42:41.762Z"
   },
   {
    "duration": 101,
    "start_time": "2022-11-02T22:44:24.805Z"
   },
   {
    "duration": 92,
    "start_time": "2022-11-02T22:44:40.655Z"
   },
   {
    "duration": 1052,
    "start_time": "2022-11-02T22:44:54.035Z"
   },
   {
    "duration": 116,
    "start_time": "2022-11-02T22:44:55.089Z"
   },
   {
    "duration": 18,
    "start_time": "2022-11-02T22:44:55.206Z"
   },
   {
    "duration": 13,
    "start_time": "2022-11-02T22:44:55.225Z"
   },
   {
    "duration": 12,
    "start_time": "2022-11-02T22:44:55.240Z"
   },
   {
    "duration": 6,
    "start_time": "2022-11-02T22:44:55.253Z"
   },
   {
    "duration": 18,
    "start_time": "2022-11-02T22:44:55.260Z"
   },
   {
    "duration": 30,
    "start_time": "2022-11-02T22:44:55.279Z"
   },
   {
    "duration": 3,
    "start_time": "2022-11-02T22:44:55.310Z"
   },
   {
    "duration": 7,
    "start_time": "2022-11-02T22:44:55.315Z"
   },
   {
    "duration": 203,
    "start_time": "2022-11-02T22:44:55.323Z"
   },
   {
    "duration": 171,
    "start_time": "2022-11-02T22:44:55.527Z"
   },
   {
    "duration": 261,
    "start_time": "2022-11-02T22:44:55.700Z"
   },
   {
    "duration": 5,
    "start_time": "2022-11-02T22:44:55.965Z"
   },
   {
    "duration": 9,
    "start_time": "2022-11-02T22:44:55.972Z"
   },
   {
    "duration": 270,
    "start_time": "2022-11-02T22:44:55.983Z"
   },
   {
    "duration": 200,
    "start_time": "2022-11-02T22:44:56.255Z"
   },
   {
    "duration": 279,
    "start_time": "2022-11-02T22:44:56.456Z"
   },
   {
    "duration": 5,
    "start_time": "2022-11-02T22:44:56.737Z"
   },
   {
    "duration": 222,
    "start_time": "2022-11-02T22:44:56.743Z"
   },
   {
    "duration": 13,
    "start_time": "2022-11-02T22:44:56.967Z"
   },
   {
    "duration": 358,
    "start_time": "2022-11-02T22:44:56.981Z"
   },
   {
    "duration": 13,
    "start_time": "2022-11-02T22:44:57.341Z"
   },
   {
    "duration": 140,
    "start_time": "2022-11-02T22:44:57.356Z"
   },
   {
    "duration": 193,
    "start_time": "2022-11-02T22:44:57.504Z"
   },
   {
    "duration": 5,
    "start_time": "2022-11-02T22:44:57.705Z"
   },
   {
    "duration": 148,
    "start_time": "2022-11-02T22:44:57.711Z"
   },
   {
    "duration": 4,
    "start_time": "2022-11-02T22:44:57.860Z"
   },
   {
    "duration": 56,
    "start_time": "2022-11-02T22:44:57.865Z"
   },
   {
    "duration": 50,
    "start_time": "2022-11-02T22:44:57.923Z"
   },
   {
    "duration": 67,
    "start_time": "2022-11-02T22:44:57.974Z"
   },
   {
    "duration": 63,
    "start_time": "2022-11-02T22:44:58.042Z"
   },
   {
    "duration": 23,
    "start_time": "2022-11-02T22:44:58.107Z"
   },
   {
    "duration": 14,
    "start_time": "2022-11-02T22:44:58.132Z"
   },
   {
    "duration": 6,
    "start_time": "2022-11-02T22:44:58.148Z"
   },
   {
    "duration": 21,
    "start_time": "2022-11-02T22:44:58.155Z"
   },
   {
    "duration": 11,
    "start_time": "2022-11-02T22:44:58.205Z"
   },
   {
    "duration": 9,
    "start_time": "2022-11-02T22:44:58.217Z"
   },
   {
    "duration": 17,
    "start_time": "2022-11-02T22:44:58.229Z"
   },
   {
    "duration": 8,
    "start_time": "2022-11-02T22:44:58.248Z"
   },
   {
    "duration": 304,
    "start_time": "2022-11-02T22:44:58.259Z"
   },
   {
    "duration": 12,
    "start_time": "2022-11-02T22:44:58.564Z"
   },
   {
    "duration": 1219,
    "start_time": "2022-11-02T22:45:34.062Z"
   },
   {
    "duration": 1108,
    "start_time": "2022-11-02T22:45:48.744Z"
   },
   {
    "duration": 115,
    "start_time": "2022-11-02T22:46:08.514Z"
   },
   {
    "duration": 1088,
    "start_time": "2022-11-02T22:46:22.993Z"
   },
   {
    "duration": 114,
    "start_time": "2022-11-02T22:46:24.083Z"
   },
   {
    "duration": 17,
    "start_time": "2022-11-02T22:46:24.199Z"
   },
   {
    "duration": 14,
    "start_time": "2022-11-02T22:46:24.218Z"
   },
   {
    "duration": 14,
    "start_time": "2022-11-02T22:46:24.234Z"
   },
   {
    "duration": 3,
    "start_time": "2022-11-02T22:46:24.250Z"
   },
   {
    "duration": 21,
    "start_time": "2022-11-02T22:46:24.255Z"
   },
   {
    "duration": 11,
    "start_time": "2022-11-02T22:46:24.278Z"
   },
   {
    "duration": 3,
    "start_time": "2022-11-02T22:46:24.305Z"
   },
   {
    "duration": 7,
    "start_time": "2022-11-02T22:46:24.310Z"
   },
   {
    "duration": 203,
    "start_time": "2022-11-02T22:46:24.318Z"
   },
   {
    "duration": 169,
    "start_time": "2022-11-02T22:46:24.523Z"
   },
   {
    "duration": 245,
    "start_time": "2022-11-02T22:46:24.693Z"
   },
   {
    "duration": 7,
    "start_time": "2022-11-02T22:46:24.940Z"
   },
   {
    "duration": 8,
    "start_time": "2022-11-02T22:46:24.948Z"
   },
   {
    "duration": 262,
    "start_time": "2022-11-02T22:46:24.957Z"
   },
   {
    "duration": 202,
    "start_time": "2022-11-02T22:46:25.221Z"
   },
   {
    "duration": 294,
    "start_time": "2022-11-02T22:46:25.425Z"
   },
   {
    "duration": 6,
    "start_time": "2022-11-02T22:46:25.721Z"
   },
   {
    "duration": 222,
    "start_time": "2022-11-02T22:46:25.729Z"
   },
   {
    "duration": 13,
    "start_time": "2022-11-02T22:46:25.952Z"
   },
   {
    "duration": 300,
    "start_time": "2022-11-02T22:46:25.967Z"
   },
   {
    "duration": 11,
    "start_time": "2022-11-02T22:46:26.269Z"
   },
   {
    "duration": 128,
    "start_time": "2022-11-02T22:46:26.281Z"
   },
   {
    "duration": 197,
    "start_time": "2022-11-02T22:46:26.410Z"
   },
   {
    "duration": 5,
    "start_time": "2022-11-02T22:46:26.609Z"
   },
   {
    "duration": 141,
    "start_time": "2022-11-02T22:46:26.615Z"
   },
   {
    "duration": 5,
    "start_time": "2022-11-02T22:46:26.759Z"
   },
   {
    "duration": 55,
    "start_time": "2022-11-02T22:46:26.765Z"
   },
   {
    "duration": 45,
    "start_time": "2022-11-02T22:46:26.821Z"
   },
   {
    "duration": 60,
    "start_time": "2022-11-02T22:46:26.867Z"
   },
   {
    "duration": 49,
    "start_time": "2022-11-02T22:46:26.928Z"
   },
   {
    "duration": 35,
    "start_time": "2022-11-02T22:46:26.978Z"
   },
   {
    "duration": 12,
    "start_time": "2022-11-02T22:46:27.015Z"
   },
   {
    "duration": 4,
    "start_time": "2022-11-02T22:46:27.029Z"
   },
   {
    "duration": 19,
    "start_time": "2022-11-02T22:46:27.035Z"
   },
   {
    "duration": 9,
    "start_time": "2022-11-02T22:46:27.055Z"
   },
   {
    "duration": 8,
    "start_time": "2022-11-02T22:46:27.066Z"
   },
   {
    "duration": 43,
    "start_time": "2022-11-02T22:46:27.075Z"
   },
   {
    "duration": 7,
    "start_time": "2022-11-02T22:46:27.119Z"
   },
   {
    "duration": 330,
    "start_time": "2022-11-02T22:46:27.127Z"
   },
   {
    "duration": 12,
    "start_time": "2022-11-02T22:46:27.459Z"
   },
   {
    "duration": 121,
    "start_time": "2022-11-02T22:47:46.253Z"
   },
   {
    "duration": 11,
    "start_time": "2022-11-02T22:50:23.787Z"
   },
   {
    "duration": 121,
    "start_time": "2022-11-02T22:50:24.930Z"
   },
   {
    "duration": 116,
    "start_time": "2022-11-02T22:50:25.265Z"
   },
   {
    "duration": 10,
    "start_time": "2022-11-02T22:57:05.557Z"
   },
   {
    "duration": 7,
    "start_time": "2022-11-02T22:57:10.058Z"
   },
   {
    "duration": 124,
    "start_time": "2022-11-02T22:57:12.112Z"
   },
   {
    "duration": 124,
    "start_time": "2022-11-02T22:57:12.736Z"
   },
   {
    "duration": 96,
    "start_time": "2022-11-02T22:57:40.109Z"
   },
   {
    "duration": 7,
    "start_time": "2022-11-02T22:57:54.322Z"
   },
   {
    "duration": 124,
    "start_time": "2022-11-02T22:57:55.787Z"
   },
   {
    "duration": 7,
    "start_time": "2022-11-02T22:58:01.485Z"
   },
   {
    "duration": 10,
    "start_time": "2022-11-02T23:05:52.478Z"
   },
   {
    "duration": 146,
    "start_time": "2022-11-02T23:12:18.072Z"
   },
   {
    "duration": 160,
    "start_time": "2022-11-02T23:12:59.397Z"
   },
   {
    "duration": 1067,
    "start_time": "2022-11-02T23:13:10.913Z"
   },
   {
    "duration": 113,
    "start_time": "2022-11-02T23:13:11.981Z"
   },
   {
    "duration": 18,
    "start_time": "2022-11-02T23:13:12.096Z"
   },
   {
    "duration": 13,
    "start_time": "2022-11-02T23:13:12.116Z"
   },
   {
    "duration": 13,
    "start_time": "2022-11-02T23:13:12.131Z"
   },
   {
    "duration": 3,
    "start_time": "2022-11-02T23:13:12.145Z"
   },
   {
    "duration": 12,
    "start_time": "2022-11-02T23:13:12.149Z"
   },
   {
    "duration": 8,
    "start_time": "2022-11-02T23:13:12.162Z"
   },
   {
    "duration": 2,
    "start_time": "2022-11-02T23:13:12.172Z"
   },
   {
    "duration": 34,
    "start_time": "2022-11-02T23:13:12.175Z"
   },
   {
    "duration": 195,
    "start_time": "2022-11-02T23:13:12.210Z"
   },
   {
    "duration": 173,
    "start_time": "2022-11-02T23:13:12.406Z"
   },
   {
    "duration": 256,
    "start_time": "2022-11-02T23:13:12.581Z"
   },
   {
    "duration": 5,
    "start_time": "2022-11-02T23:13:12.840Z"
   },
   {
    "duration": 10,
    "start_time": "2022-11-02T23:13:12.847Z"
   },
   {
    "duration": 262,
    "start_time": "2022-11-02T23:13:12.858Z"
   },
   {
    "duration": 204,
    "start_time": "2022-11-02T23:13:13.122Z"
   },
   {
    "duration": 303,
    "start_time": "2022-11-02T23:13:13.328Z"
   },
   {
    "duration": 5,
    "start_time": "2022-11-02T23:13:13.633Z"
   },
   {
    "duration": 219,
    "start_time": "2022-11-02T23:13:13.640Z"
   },
   {
    "duration": 12,
    "start_time": "2022-11-02T23:13:13.861Z"
   },
   {
    "duration": 338,
    "start_time": "2022-11-02T23:13:13.875Z"
   },
   {
    "duration": 10,
    "start_time": "2022-11-02T23:13:14.215Z"
   },
   {
    "duration": 160,
    "start_time": "2022-11-02T23:13:14.226Z"
   },
   {
    "duration": 261,
    "start_time": "2022-11-02T23:13:14.388Z"
   },
   {
    "duration": 5,
    "start_time": "2022-11-02T23:13:14.651Z"
   },
   {
    "duration": 151,
    "start_time": "2022-11-02T23:13:14.657Z"
   },
   {
    "duration": 4,
    "start_time": "2022-11-02T23:13:14.810Z"
   },
   {
    "duration": 44,
    "start_time": "2022-11-02T23:13:14.815Z"
   },
   {
    "duration": 55,
    "start_time": "2022-11-02T23:13:14.860Z"
   },
   {
    "duration": 52,
    "start_time": "2022-11-02T23:13:14.917Z"
   },
   {
    "duration": 61,
    "start_time": "2022-11-02T23:13:14.971Z"
   },
   {
    "duration": 22,
    "start_time": "2022-11-02T23:13:15.033Z"
   },
   {
    "duration": 24,
    "start_time": "2022-11-02T23:13:15.056Z"
   },
   {
    "duration": 6,
    "start_time": "2022-11-02T23:13:15.082Z"
   },
   {
    "duration": 31,
    "start_time": "2022-11-02T23:13:15.090Z"
   },
   {
    "duration": 10,
    "start_time": "2022-11-02T23:13:15.122Z"
   },
   {
    "duration": 9,
    "start_time": "2022-11-02T23:13:15.133Z"
   },
   {
    "duration": 15,
    "start_time": "2022-11-02T23:13:15.143Z"
   },
   {
    "duration": 8,
    "start_time": "2022-11-02T23:13:15.160Z"
   },
   {
    "duration": 308,
    "start_time": "2022-11-02T23:13:15.172Z"
   },
   {
    "duration": 27,
    "start_time": "2022-11-02T23:13:15.482Z"
   },
   {
    "duration": 147,
    "start_time": "2022-11-02T23:13:25.815Z"
   },
   {
    "duration": 153,
    "start_time": "2022-11-02T23:13:48.771Z"
   },
   {
    "duration": 5,
    "start_time": "2022-11-02T23:25:08.219Z"
   },
   {
    "duration": 5,
    "start_time": "2022-11-02T23:25:49.240Z"
   },
   {
    "duration": 175,
    "start_time": "2022-11-02T23:45:15.567Z"
   },
   {
    "duration": 154,
    "start_time": "2022-11-02T23:47:25.366Z"
   },
   {
    "duration": 75,
    "start_time": "2022-11-02T23:49:47.276Z"
   },
   {
    "duration": 360,
    "start_time": "2022-11-02T23:49:51.059Z"
   },
   {
    "duration": 279,
    "start_time": "2022-11-02T23:50:30.560Z"
   },
   {
    "duration": 178,
    "start_time": "2022-11-02T23:51:25.154Z"
   },
   {
    "duration": 251,
    "start_time": "2022-11-02T23:51:37.981Z"
   },
   {
    "duration": 11,
    "start_time": "2022-11-02T23:51:42.402Z"
   },
   {
    "duration": 12,
    "start_time": "2022-11-02T23:52:16.697Z"
   },
   {
    "duration": 97,
    "start_time": "2022-11-02T23:53:58.039Z"
   },
   {
    "duration": 94,
    "start_time": "2022-11-02T23:54:03.364Z"
   },
   {
    "duration": 108,
    "start_time": "2022-11-02T23:54:29.050Z"
   },
   {
    "duration": 102,
    "start_time": "2022-11-02T23:54:32.447Z"
   },
   {
    "duration": 93,
    "start_time": "2022-11-02T23:55:48.949Z"
   },
   {
    "duration": 92,
    "start_time": "2022-11-02T23:56:20.578Z"
   },
   {
    "duration": 91,
    "start_time": "2022-11-02T23:57:24.845Z"
   },
   {
    "duration": 133,
    "start_time": "2022-11-02T23:57:36.775Z"
   },
   {
    "duration": 133,
    "start_time": "2022-11-02T23:58:26.512Z"
   },
   {
    "duration": 168,
    "start_time": "2022-11-02T23:58:49.898Z"
   },
   {
    "duration": 1217,
    "start_time": "2022-11-03T09:11:18.337Z"
   },
   {
    "duration": 228,
    "start_time": "2022-11-03T09:11:19.556Z"
   },
   {
    "duration": 18,
    "start_time": "2022-11-03T09:11:19.786Z"
   },
   {
    "duration": 18,
    "start_time": "2022-11-03T09:11:19.806Z"
   },
   {
    "duration": 11,
    "start_time": "2022-11-03T09:11:19.826Z"
   },
   {
    "duration": 9,
    "start_time": "2022-11-03T09:11:19.838Z"
   },
   {
    "duration": 15,
    "start_time": "2022-11-03T09:11:19.849Z"
   },
   {
    "duration": 9,
    "start_time": "2022-11-03T09:11:19.866Z"
   },
   {
    "duration": 7,
    "start_time": "2022-11-03T09:11:19.876Z"
   },
   {
    "duration": 16,
    "start_time": "2022-11-03T09:11:19.884Z"
   },
   {
    "duration": 209,
    "start_time": "2022-11-03T09:11:19.901Z"
   },
   {
    "duration": 169,
    "start_time": "2022-11-03T09:11:20.112Z"
   },
   {
    "duration": 302,
    "start_time": "2022-11-03T09:11:20.283Z"
   },
   {
    "duration": 6,
    "start_time": "2022-11-03T09:11:20.587Z"
   },
   {
    "duration": 12,
    "start_time": "2022-11-03T09:11:20.621Z"
   },
   {
    "duration": 270,
    "start_time": "2022-11-03T09:11:20.634Z"
   },
   {
    "duration": 225,
    "start_time": "2022-11-03T09:11:20.905Z"
   },
   {
    "duration": 345,
    "start_time": "2022-11-03T09:11:21.132Z"
   },
   {
    "duration": 6,
    "start_time": "2022-11-03T09:11:21.478Z"
   },
   {
    "duration": 243,
    "start_time": "2022-11-03T09:11:21.485Z"
   },
   {
    "duration": 12,
    "start_time": "2022-11-03T09:11:21.730Z"
   },
   {
    "duration": 307,
    "start_time": "2022-11-03T09:11:21.744Z"
   },
   {
    "duration": 11,
    "start_time": "2022-11-03T09:11:22.053Z"
   },
   {
    "duration": 157,
    "start_time": "2022-11-03T09:11:22.065Z"
   },
   {
    "duration": 231,
    "start_time": "2022-11-03T09:11:22.223Z"
   },
   {
    "duration": 4,
    "start_time": "2022-11-03T09:11:22.456Z"
   },
   {
    "duration": 178,
    "start_time": "2022-11-03T09:11:22.461Z"
   },
   {
    "duration": 170,
    "start_time": "2022-11-03T09:11:22.641Z"
   },
   {
    "duration": 10,
    "start_time": "2022-11-03T09:11:22.812Z"
   },
   {
    "duration": 45,
    "start_time": "2022-11-03T09:11:22.823Z"
   },
   {
    "duration": 51,
    "start_time": "2022-11-03T09:11:22.870Z"
   },
   {
    "duration": 52,
    "start_time": "2022-11-03T09:11:22.923Z"
   },
   {
    "duration": 54,
    "start_time": "2022-11-03T09:11:22.976Z"
   },
   {
    "duration": 22,
    "start_time": "2022-11-03T09:11:23.031Z"
   },
   {
    "duration": 12,
    "start_time": "2022-11-03T09:11:23.055Z"
   },
   {
    "duration": 6,
    "start_time": "2022-11-03T09:11:23.068Z"
   },
   {
    "duration": 19,
    "start_time": "2022-11-03T09:11:23.075Z"
   },
   {
    "duration": 32,
    "start_time": "2022-11-03T09:11:23.096Z"
   },
   {
    "duration": 8,
    "start_time": "2022-11-03T09:11:23.130Z"
   },
   {
    "duration": 24,
    "start_time": "2022-11-03T09:11:23.139Z"
   },
   {
    "duration": 7,
    "start_time": "2022-11-03T09:11:23.166Z"
   },
   {
    "duration": 303,
    "start_time": "2022-11-03T09:11:23.175Z"
   },
   {
    "duration": 12,
    "start_time": "2022-11-03T09:11:23.480Z"
   },
   {
    "duration": 47,
    "start_time": "2022-11-03T09:46:02.630Z"
   },
   {
    "duration": 48,
    "start_time": "2022-11-03T09:49:59.083Z"
   },
   {
    "duration": 149,
    "start_time": "2022-11-03T09:50:07.709Z"
   },
   {
    "duration": 56,
    "start_time": "2022-11-03T09:50:14.182Z"
   },
   {
    "duration": 47,
    "start_time": "2022-11-03T09:50:22.169Z"
   },
   {
    "duration": 49,
    "start_time": "2022-11-03T09:53:03.346Z"
   },
   {
    "duration": 48,
    "start_time": "2022-11-03T09:53:04.417Z"
   },
   {
    "duration": 61,
    "start_time": "2022-11-03T09:58:58.211Z"
   },
   {
    "duration": 61,
    "start_time": "2022-11-03T09:59:05.115Z"
   },
   {
    "duration": 66,
    "start_time": "2022-11-03T09:59:15.719Z"
   },
   {
    "duration": 69,
    "start_time": "2022-11-03T10:12:38.165Z"
   },
   {
    "duration": 64,
    "start_time": "2022-11-03T10:12:47.378Z"
   },
   {
    "duration": 25,
    "start_time": "2022-11-03T10:15:52.342Z"
   },
   {
    "duration": 6,
    "start_time": "2022-11-03T10:20:23.924Z"
   },
   {
    "duration": 20,
    "start_time": "2022-11-03T10:20:25.731Z"
   },
   {
    "duration": 6,
    "start_time": "2022-11-03T10:20:26.577Z"
   },
   {
    "duration": 13,
    "start_time": "2022-11-03T10:21:19.676Z"
   },
   {
    "duration": 14,
    "start_time": "2022-11-03T10:24:05.549Z"
   },
   {
    "duration": 12,
    "start_time": "2022-11-03T10:24:55.541Z"
   },
   {
    "duration": 8,
    "start_time": "2022-11-03T10:25:01.599Z"
   },
   {
    "duration": 5,
    "start_time": "2022-11-03T10:27:38.585Z"
   },
   {
    "duration": 18,
    "start_time": "2022-11-03T10:28:37.843Z"
   },
   {
    "duration": 68,
    "start_time": "2022-11-03T10:36:35.373Z"
   },
   {
    "duration": 1034,
    "start_time": "2022-11-03T10:37:14.089Z"
   },
   {
    "duration": 114,
    "start_time": "2022-11-03T10:37:15.124Z"
   },
   {
    "duration": 17,
    "start_time": "2022-11-03T10:37:15.239Z"
   },
   {
    "duration": 13,
    "start_time": "2022-11-03T10:37:15.258Z"
   },
   {
    "duration": 12,
    "start_time": "2022-11-03T10:37:15.272Z"
   },
   {
    "duration": 4,
    "start_time": "2022-11-03T10:37:15.285Z"
   },
   {
    "duration": 10,
    "start_time": "2022-11-03T10:37:15.290Z"
   },
   {
    "duration": 25,
    "start_time": "2022-11-03T10:37:15.301Z"
   },
   {
    "duration": 4,
    "start_time": "2022-11-03T10:37:15.328Z"
   },
   {
    "duration": 9,
    "start_time": "2022-11-03T10:37:15.333Z"
   },
   {
    "duration": 223,
    "start_time": "2022-11-03T10:37:15.343Z"
   },
   {
    "duration": 184,
    "start_time": "2022-11-03T10:37:15.568Z"
   },
   {
    "duration": 270,
    "start_time": "2022-11-03T10:37:15.754Z"
   },
   {
    "duration": 9,
    "start_time": "2022-11-03T10:37:16.031Z"
   },
   {
    "duration": 10,
    "start_time": "2022-11-03T10:37:16.042Z"
   },
   {
    "duration": 329,
    "start_time": "2022-11-03T10:37:16.054Z"
   },
   {
    "duration": 207,
    "start_time": "2022-11-03T10:37:16.385Z"
   },
   {
    "duration": 354,
    "start_time": "2022-11-03T10:37:16.593Z"
   },
   {
    "duration": 5,
    "start_time": "2022-11-03T10:37:16.949Z"
   },
   {
    "duration": 233,
    "start_time": "2022-11-03T10:37:16.956Z"
   },
   {
    "duration": 12,
    "start_time": "2022-11-03T10:37:17.191Z"
   },
   {
    "duration": 357,
    "start_time": "2022-11-03T10:37:17.205Z"
   },
   {
    "duration": 12,
    "start_time": "2022-11-03T10:37:17.563Z"
   },
   {
    "duration": 181,
    "start_time": "2022-11-03T10:37:17.576Z"
   },
   {
    "duration": 249,
    "start_time": "2022-11-03T10:37:17.758Z"
   },
   {
    "duration": 12,
    "start_time": "2022-11-03T10:37:18.009Z"
   },
   {
    "duration": 183,
    "start_time": "2022-11-03T10:37:18.023Z"
   },
   {
    "duration": 179,
    "start_time": "2022-11-03T10:37:18.207Z"
   },
   {
    "duration": 4,
    "start_time": "2022-11-03T10:37:18.388Z"
   },
   {
    "duration": 62,
    "start_time": "2022-11-03T10:37:18.393Z"
   },
   {
    "duration": 49,
    "start_time": "2022-11-03T10:37:18.456Z"
   },
   {
    "duration": 63,
    "start_time": "2022-11-03T10:37:18.506Z"
   },
   {
    "duration": 67,
    "start_time": "2022-11-03T10:37:18.570Z"
   },
   {
    "duration": 29,
    "start_time": "2022-11-03T10:37:18.639Z"
   },
   {
    "duration": 6,
    "start_time": "2022-11-03T10:37:18.669Z"
   },
   {
    "duration": 18,
    "start_time": "2022-11-03T10:37:18.677Z"
   },
   {
    "duration": 5,
    "start_time": "2022-11-03T10:37:18.697Z"
   },
   {
    "duration": 71,
    "start_time": "2022-11-03T10:37:18.721Z"
   },
   {
    "duration": 0,
    "start_time": "2022-11-03T10:37:18.794Z"
   },
   {
    "duration": 0,
    "start_time": "2022-11-03T10:37:18.796Z"
   },
   {
    "duration": 0,
    "start_time": "2022-11-03T10:37:18.796Z"
   },
   {
    "duration": 0,
    "start_time": "2022-11-03T10:37:18.798Z"
   },
   {
    "duration": 0,
    "start_time": "2022-11-03T10:37:18.799Z"
   },
   {
    "duration": 0,
    "start_time": "2022-11-03T10:37:18.800Z"
   },
   {
    "duration": 0,
    "start_time": "2022-11-03T10:37:18.801Z"
   },
   {
    "duration": 22,
    "start_time": "2022-11-03T10:43:36.843Z"
   },
   {
    "duration": 12,
    "start_time": "2022-11-03T11:05:22.315Z"
   },
   {
    "duration": 9,
    "start_time": "2022-11-03T11:32:54.593Z"
   },
   {
    "duration": 95,
    "start_time": "2022-11-03T11:33:33.529Z"
   },
   {
    "duration": 16,
    "start_time": "2022-11-03T11:33:39.703Z"
   },
   {
    "duration": 13,
    "start_time": "2022-11-03T11:33:45.047Z"
   },
   {
    "duration": 8,
    "start_time": "2022-11-03T11:37:12.703Z"
   },
   {
    "duration": 8,
    "start_time": "2022-11-03T11:39:25.810Z"
   },
   {
    "duration": 7,
    "start_time": "2022-11-03T11:39:45.971Z"
   },
   {
    "duration": 7,
    "start_time": "2022-11-03T11:46:27.952Z"
   },
   {
    "duration": 9,
    "start_time": "2022-11-03T11:46:40.357Z"
   },
   {
    "duration": 1068,
    "start_time": "2022-11-03T11:46:49.743Z"
   },
   {
    "duration": 128,
    "start_time": "2022-11-03T11:46:50.813Z"
   },
   {
    "duration": 19,
    "start_time": "2022-11-03T11:46:50.942Z"
   },
   {
    "duration": 13,
    "start_time": "2022-11-03T11:46:50.963Z"
   },
   {
    "duration": 13,
    "start_time": "2022-11-03T11:46:50.977Z"
   },
   {
    "duration": 4,
    "start_time": "2022-11-03T11:46:50.992Z"
   },
   {
    "duration": 26,
    "start_time": "2022-11-03T11:46:50.997Z"
   },
   {
    "duration": 10,
    "start_time": "2022-11-03T11:46:51.024Z"
   },
   {
    "duration": 4,
    "start_time": "2022-11-03T11:46:51.036Z"
   },
   {
    "duration": 7,
    "start_time": "2022-11-03T11:46:51.043Z"
   },
   {
    "duration": 218,
    "start_time": "2022-11-03T11:46:51.052Z"
   },
   {
    "duration": 185,
    "start_time": "2022-11-03T11:46:51.272Z"
   },
   {
    "duration": 259,
    "start_time": "2022-11-03T11:46:51.458Z"
   },
   {
    "duration": 7,
    "start_time": "2022-11-03T11:46:51.718Z"
   },
   {
    "duration": 12,
    "start_time": "2022-11-03T11:46:51.727Z"
   },
   {
    "duration": 282,
    "start_time": "2022-11-03T11:46:51.740Z"
   },
   {
    "duration": 214,
    "start_time": "2022-11-03T11:46:52.023Z"
   },
   {
    "duration": 317,
    "start_time": "2022-11-03T11:46:52.239Z"
   },
   {
    "duration": 5,
    "start_time": "2022-11-03T11:46:52.558Z"
   },
   {
    "duration": 229,
    "start_time": "2022-11-03T11:46:52.565Z"
   },
   {
    "duration": 13,
    "start_time": "2022-11-03T11:46:52.795Z"
   },
   {
    "duration": 334,
    "start_time": "2022-11-03T11:46:52.810Z"
   },
   {
    "duration": 11,
    "start_time": "2022-11-03T11:46:53.145Z"
   },
   {
    "duration": 160,
    "start_time": "2022-11-03T11:46:53.157Z"
   },
   {
    "duration": 227,
    "start_time": "2022-11-03T11:46:53.321Z"
   },
   {
    "duration": 3,
    "start_time": "2022-11-03T11:46:53.550Z"
   },
   {
    "duration": 171,
    "start_time": "2022-11-03T11:46:53.555Z"
   },
   {
    "duration": 174,
    "start_time": "2022-11-03T11:46:53.729Z"
   },
   {
    "duration": 4,
    "start_time": "2022-11-03T11:46:53.905Z"
   },
   {
    "duration": 57,
    "start_time": "2022-11-03T11:46:53.910Z"
   },
   {
    "duration": 64,
    "start_time": "2022-11-03T11:46:53.969Z"
   },
   {
    "duration": 54,
    "start_time": "2022-11-03T11:46:54.035Z"
   },
   {
    "duration": 65,
    "start_time": "2022-11-03T11:46:54.091Z"
   },
   {
    "duration": 20,
    "start_time": "2022-11-03T11:46:54.158Z"
   },
   {
    "duration": 10,
    "start_time": "2022-11-03T11:46:54.179Z"
   },
   {
    "duration": 20,
    "start_time": "2022-11-03T11:46:54.191Z"
   },
   {
    "duration": 6,
    "start_time": "2022-11-03T11:46:54.222Z"
   },
   {
    "duration": 28,
    "start_time": "2022-11-03T11:46:54.229Z"
   },
   {
    "duration": 73,
    "start_time": "2022-11-03T11:46:54.259Z"
   },
   {
    "duration": 0,
    "start_time": "2022-11-03T11:46:54.333Z"
   },
   {
    "duration": 0,
    "start_time": "2022-11-03T11:46:54.334Z"
   },
   {
    "duration": 0,
    "start_time": "2022-11-03T11:46:54.335Z"
   },
   {
    "duration": 0,
    "start_time": "2022-11-03T11:46:54.336Z"
   },
   {
    "duration": 0,
    "start_time": "2022-11-03T11:46:54.337Z"
   },
   {
    "duration": 101,
    "start_time": "2022-11-03T11:51:27.896Z"
   },
   {
    "duration": 9,
    "start_time": "2022-11-03T11:51:28.074Z"
   },
   {
    "duration": 9,
    "start_time": "2022-11-03T11:51:31.852Z"
   },
   {
    "duration": 14,
    "start_time": "2022-11-03T11:51:32.137Z"
   },
   {
    "duration": 282,
    "start_time": "2022-11-03T11:51:33.415Z"
   },
   {
    "duration": 82,
    "start_time": "2022-11-03T11:52:23.685Z"
   },
   {
    "duration": 79,
    "start_time": "2022-11-03T11:52:47.735Z"
   },
   {
    "duration": 1101,
    "start_time": "2022-11-03T12:00:27.908Z"
   },
   {
    "duration": 114,
    "start_time": "2022-11-03T12:00:29.011Z"
   },
   {
    "duration": 17,
    "start_time": "2022-11-03T12:00:29.126Z"
   },
   {
    "duration": 14,
    "start_time": "2022-11-03T12:00:29.144Z"
   },
   {
    "duration": 21,
    "start_time": "2022-11-03T12:00:29.160Z"
   },
   {
    "duration": 6,
    "start_time": "2022-11-03T12:00:29.182Z"
   },
   {
    "duration": 10,
    "start_time": "2022-11-03T12:00:29.189Z"
   },
   {
    "duration": 25,
    "start_time": "2022-11-03T12:00:29.200Z"
   },
   {
    "duration": 3,
    "start_time": "2022-11-03T12:00:29.227Z"
   },
   {
    "duration": 10,
    "start_time": "2022-11-03T12:00:29.231Z"
   },
   {
    "duration": 217,
    "start_time": "2022-11-03T12:00:29.243Z"
   },
   {
    "duration": 174,
    "start_time": "2022-11-03T12:00:29.461Z"
   },
   {
    "duration": 261,
    "start_time": "2022-11-03T12:00:29.636Z"
   },
   {
    "duration": 6,
    "start_time": "2022-11-03T12:00:29.900Z"
   },
   {
    "duration": 15,
    "start_time": "2022-11-03T12:00:29.907Z"
   },
   {
    "duration": 259,
    "start_time": "2022-11-03T12:00:29.924Z"
   },
   {
    "duration": 210,
    "start_time": "2022-11-03T12:00:30.184Z"
   },
   {
    "duration": 341,
    "start_time": "2022-11-03T12:00:30.395Z"
   },
   {
    "duration": 6,
    "start_time": "2022-11-03T12:00:30.738Z"
   },
   {
    "duration": 252,
    "start_time": "2022-11-03T12:00:30.746Z"
   },
   {
    "duration": 16,
    "start_time": "2022-11-03T12:00:30.999Z"
   },
   {
    "duration": 326,
    "start_time": "2022-11-03T12:00:31.022Z"
   },
   {
    "duration": 13,
    "start_time": "2022-11-03T12:00:31.350Z"
   },
   {
    "duration": 172,
    "start_time": "2022-11-03T12:00:31.365Z"
   },
   {
    "duration": 232,
    "start_time": "2022-11-03T12:00:31.539Z"
   },
   {
    "duration": 6,
    "start_time": "2022-11-03T12:00:31.779Z"
   },
   {
    "duration": 209,
    "start_time": "2022-11-03T12:00:31.786Z"
   },
   {
    "duration": 179,
    "start_time": "2022-11-03T12:00:31.996Z"
   },
   {
    "duration": 4,
    "start_time": "2022-11-03T12:00:32.176Z"
   },
   {
    "duration": 56,
    "start_time": "2022-11-03T12:00:32.182Z"
   },
   {
    "duration": 58,
    "start_time": "2022-11-03T12:00:32.240Z"
   },
   {
    "duration": 60,
    "start_time": "2022-11-03T12:00:32.300Z"
   },
   {
    "duration": 64,
    "start_time": "2022-11-03T12:00:32.361Z"
   },
   {
    "duration": 18,
    "start_time": "2022-11-03T12:00:32.427Z"
   },
   {
    "duration": 6,
    "start_time": "2022-11-03T12:00:32.447Z"
   },
   {
    "duration": 34,
    "start_time": "2022-11-03T12:00:32.455Z"
   },
   {
    "duration": 16,
    "start_time": "2022-11-03T12:00:32.491Z"
   },
   {
    "duration": 22,
    "start_time": "2022-11-03T12:00:32.509Z"
   },
   {
    "duration": 10,
    "start_time": "2022-11-03T12:00:32.532Z"
   },
   {
    "duration": 20,
    "start_time": "2022-11-03T12:00:32.543Z"
   },
   {
    "duration": 30,
    "start_time": "2022-11-03T12:00:32.566Z"
   },
   {
    "duration": 13,
    "start_time": "2022-11-03T12:00:32.598Z"
   },
   {
    "duration": 281,
    "start_time": "2022-11-03T12:00:53.983Z"
   },
   {
    "duration": 288,
    "start_time": "2022-11-03T12:07:03.799Z"
   },
   {
    "duration": 1104,
    "start_time": "2022-11-03T12:22:27.613Z"
   },
   {
    "duration": 111,
    "start_time": "2022-11-03T12:22:28.719Z"
   },
   {
    "duration": 18,
    "start_time": "2022-11-03T12:22:28.831Z"
   },
   {
    "duration": 13,
    "start_time": "2022-11-03T12:22:28.851Z"
   },
   {
    "duration": 12,
    "start_time": "2022-11-03T12:22:28.865Z"
   },
   {
    "duration": 4,
    "start_time": "2022-11-03T12:22:28.878Z"
   },
   {
    "duration": 10,
    "start_time": "2022-11-03T12:22:28.883Z"
   },
   {
    "duration": 31,
    "start_time": "2022-11-03T12:22:28.894Z"
   },
   {
    "duration": 5,
    "start_time": "2022-11-03T12:22:28.927Z"
   },
   {
    "duration": 10,
    "start_time": "2022-11-03T12:22:28.934Z"
   },
   {
    "duration": 206,
    "start_time": "2022-11-03T12:22:28.946Z"
   },
   {
    "duration": 174,
    "start_time": "2022-11-03T12:22:29.154Z"
   },
   {
    "duration": 267,
    "start_time": "2022-11-03T12:22:29.330Z"
   },
   {
    "duration": 6,
    "start_time": "2022-11-03T12:22:29.601Z"
   },
   {
    "duration": 22,
    "start_time": "2022-11-03T12:22:29.609Z"
   },
   {
    "duration": 285,
    "start_time": "2022-11-03T12:22:29.632Z"
   },
   {
    "duration": 210,
    "start_time": "2022-11-03T12:22:29.922Z"
   },
   {
    "duration": 311,
    "start_time": "2022-11-03T12:22:30.134Z"
   },
   {
    "duration": 6,
    "start_time": "2022-11-03T12:22:30.447Z"
   },
   {
    "duration": 271,
    "start_time": "2022-11-03T12:22:30.455Z"
   },
   {
    "duration": 15,
    "start_time": "2022-11-03T12:22:30.728Z"
   },
   {
    "duration": 349,
    "start_time": "2022-11-03T12:22:30.744Z"
   },
   {
    "duration": 11,
    "start_time": "2022-11-03T12:22:31.095Z"
   },
   {
    "duration": 193,
    "start_time": "2022-11-03T12:22:31.108Z"
   },
   {
    "duration": 259,
    "start_time": "2022-11-03T12:22:31.303Z"
   },
   {
    "duration": 5,
    "start_time": "2022-11-03T12:22:31.563Z"
   },
   {
    "duration": 180,
    "start_time": "2022-11-03T12:22:31.569Z"
   },
   {
    "duration": 186,
    "start_time": "2022-11-03T12:22:31.750Z"
   },
   {
    "duration": 4,
    "start_time": "2022-11-03T12:22:31.937Z"
   },
   {
    "duration": 175,
    "start_time": "2022-11-03T12:22:31.943Z"
   },
   {
    "duration": 64,
    "start_time": "2022-11-03T12:22:32.120Z"
   },
   {
    "duration": 64,
    "start_time": "2022-11-03T12:22:32.186Z"
   },
   {
    "duration": 57,
    "start_time": "2022-11-03T12:22:32.251Z"
   },
   {
    "duration": 30,
    "start_time": "2022-11-03T12:22:32.309Z"
   },
   {
    "duration": 7,
    "start_time": "2022-11-03T12:22:32.340Z"
   },
   {
    "duration": 17,
    "start_time": "2022-11-03T12:22:32.348Z"
   },
   {
    "duration": 9,
    "start_time": "2022-11-03T12:22:32.366Z"
   },
   {
    "duration": 45,
    "start_time": "2022-11-03T12:22:32.377Z"
   },
   {
    "duration": 10,
    "start_time": "2022-11-03T12:22:32.424Z"
   },
   {
    "duration": 8,
    "start_time": "2022-11-03T12:22:32.435Z"
   },
   {
    "duration": 30,
    "start_time": "2022-11-03T12:22:32.446Z"
   },
   {
    "duration": 285,
    "start_time": "2022-11-03T12:22:32.477Z"
   },
   {
    "duration": 13,
    "start_time": "2022-11-03T12:22:32.763Z"
   },
   {
    "duration": 1156,
    "start_time": "2022-11-03T13:02:25.761Z"
   },
   {
    "duration": 111,
    "start_time": "2022-11-03T13:02:26.919Z"
   },
   {
    "duration": 17,
    "start_time": "2022-11-03T13:02:27.032Z"
   },
   {
    "duration": 14,
    "start_time": "2022-11-03T13:02:27.050Z"
   },
   {
    "duration": 14,
    "start_time": "2022-11-03T13:02:27.066Z"
   },
   {
    "duration": 27,
    "start_time": "2022-11-03T13:02:27.081Z"
   },
   {
    "duration": 12,
    "start_time": "2022-11-03T13:02:27.110Z"
   },
   {
    "duration": 8,
    "start_time": "2022-11-03T13:02:27.123Z"
   },
   {
    "duration": 3,
    "start_time": "2022-11-03T13:02:27.132Z"
   },
   {
    "duration": 9,
    "start_time": "2022-11-03T13:02:27.137Z"
   },
   {
    "duration": 217,
    "start_time": "2022-11-03T13:02:27.147Z"
   },
   {
    "duration": 187,
    "start_time": "2022-11-03T13:02:27.366Z"
   },
   {
    "duration": 267,
    "start_time": "2022-11-03T13:02:27.555Z"
   },
   {
    "duration": 6,
    "start_time": "2022-11-03T13:02:27.826Z"
   },
   {
    "duration": 15,
    "start_time": "2022-11-03T13:02:27.834Z"
   },
   {
    "duration": 292,
    "start_time": "2022-11-03T13:02:27.851Z"
   },
   {
    "duration": 210,
    "start_time": "2022-11-03T13:02:28.144Z"
   },
   {
    "duration": 296,
    "start_time": "2022-11-03T13:02:28.355Z"
   },
   {
    "duration": 5,
    "start_time": "2022-11-03T13:02:28.653Z"
   },
   {
    "duration": 216,
    "start_time": "2022-11-03T13:02:28.660Z"
   },
   {
    "duration": 12,
    "start_time": "2022-11-03T13:02:28.878Z"
   },
   {
    "duration": 340,
    "start_time": "2022-11-03T13:02:28.891Z"
   },
   {
    "duration": 12,
    "start_time": "2022-11-03T13:02:29.233Z"
   },
   {
    "duration": 170,
    "start_time": "2022-11-03T13:02:29.246Z"
   },
   {
    "duration": 240,
    "start_time": "2022-11-03T13:02:29.421Z"
   },
   {
    "duration": 6,
    "start_time": "2022-11-03T13:02:29.663Z"
   },
   {
    "duration": 191,
    "start_time": "2022-11-03T13:02:29.671Z"
   },
   {
    "duration": 178,
    "start_time": "2022-11-03T13:02:29.863Z"
   },
   {
    "duration": 5,
    "start_time": "2022-11-03T13:02:30.043Z"
   },
   {
    "duration": 73,
    "start_time": "2022-11-03T13:02:30.049Z"
   },
   {
    "duration": 53,
    "start_time": "2022-11-03T13:02:30.123Z"
   },
   {
    "duration": 66,
    "start_time": "2022-11-03T13:02:30.177Z"
   },
   {
    "duration": 53,
    "start_time": "2022-11-03T13:02:30.244Z"
   },
   {
    "duration": 32,
    "start_time": "2022-11-03T13:02:30.299Z"
   },
   {
    "duration": 6,
    "start_time": "2022-11-03T13:02:30.333Z"
   },
   {
    "duration": 32,
    "start_time": "2022-11-03T13:02:30.341Z"
   },
   {
    "duration": 20,
    "start_time": "2022-11-03T13:02:30.375Z"
   },
   {
    "duration": 37,
    "start_time": "2022-11-03T13:02:30.397Z"
   },
   {
    "duration": 23,
    "start_time": "2022-11-03T13:02:30.436Z"
   },
   {
    "duration": 24,
    "start_time": "2022-11-03T13:02:30.460Z"
   },
   {
    "duration": 61,
    "start_time": "2022-11-03T13:02:30.488Z"
   },
   {
    "duration": 324,
    "start_time": "2022-11-03T13:02:30.551Z"
   },
   {
    "duration": 12,
    "start_time": "2022-11-03T13:02:30.877Z"
   },
   {
    "duration": 1124,
    "start_time": "2022-11-03T13:29:55.742Z"
   },
   {
    "duration": 111,
    "start_time": "2022-11-03T13:29:56.868Z"
   },
   {
    "duration": 18,
    "start_time": "2022-11-03T13:29:56.980Z"
   },
   {
    "duration": 14,
    "start_time": "2022-11-03T13:29:57.000Z"
   },
   {
    "duration": 13,
    "start_time": "2022-11-03T13:29:57.016Z"
   },
   {
    "duration": 3,
    "start_time": "2022-11-03T13:29:57.031Z"
   },
   {
    "duration": 11,
    "start_time": "2022-11-03T13:29:57.035Z"
   },
   {
    "duration": 25,
    "start_time": "2022-11-03T13:29:57.048Z"
   },
   {
    "duration": 20,
    "start_time": "2022-11-03T13:29:57.074Z"
   },
   {
    "duration": 52,
    "start_time": "2022-11-03T13:29:57.096Z"
   },
   {
    "duration": 209,
    "start_time": "2022-11-03T13:29:57.150Z"
   },
   {
    "duration": 199,
    "start_time": "2022-11-03T13:29:57.361Z"
   },
   {
    "duration": 283,
    "start_time": "2022-11-03T13:29:57.562Z"
   },
   {
    "duration": 7,
    "start_time": "2022-11-03T13:29:57.848Z"
   },
   {
    "duration": 16,
    "start_time": "2022-11-03T13:29:57.856Z"
   },
   {
    "duration": 333,
    "start_time": "2022-11-03T13:29:57.874Z"
   },
   {
    "duration": 229,
    "start_time": "2022-11-03T13:29:58.208Z"
   },
   {
    "duration": 324,
    "start_time": "2022-11-03T13:29:58.438Z"
   },
   {
    "duration": 6,
    "start_time": "2022-11-03T13:29:58.763Z"
   },
   {
    "duration": 241,
    "start_time": "2022-11-03T13:29:58.770Z"
   },
   {
    "duration": 17,
    "start_time": "2022-11-03T13:29:59.013Z"
   },
   {
    "duration": 320,
    "start_time": "2022-11-03T13:29:59.031Z"
   },
   {
    "duration": 11,
    "start_time": "2022-11-03T13:29:59.353Z"
   },
   {
    "duration": 171,
    "start_time": "2022-11-03T13:29:59.366Z"
   },
   {
    "duration": 230,
    "start_time": "2022-11-03T13:29:59.538Z"
   },
   {
    "duration": 4,
    "start_time": "2022-11-03T13:29:59.770Z"
   },
   {
    "duration": 175,
    "start_time": "2022-11-03T13:29:59.776Z"
   },
   {
    "duration": 185,
    "start_time": "2022-11-03T13:29:59.953Z"
   },
   {
    "duration": 5,
    "start_time": "2022-11-03T13:30:00.139Z"
   },
   {
    "duration": 84,
    "start_time": "2022-11-03T13:30:00.146Z"
   },
   {
    "duration": 68,
    "start_time": "2022-11-03T13:30:00.232Z"
   },
   {
    "duration": 75,
    "start_time": "2022-11-03T13:30:00.302Z"
   },
   {
    "duration": 55,
    "start_time": "2022-11-03T13:30:00.379Z"
   },
   {
    "duration": 21,
    "start_time": "2022-11-03T13:30:00.436Z"
   },
   {
    "duration": 53,
    "start_time": "2022-11-03T13:30:00.459Z"
   },
   {
    "duration": 31,
    "start_time": "2022-11-03T13:30:00.514Z"
   },
   {
    "duration": 35,
    "start_time": "2022-11-03T13:30:00.546Z"
   },
   {
    "duration": 41,
    "start_time": "2022-11-03T13:30:00.583Z"
   },
   {
    "duration": 23,
    "start_time": "2022-11-03T13:30:00.626Z"
   },
   {
    "duration": 41,
    "start_time": "2022-11-03T13:30:00.650Z"
   },
   {
    "duration": 79,
    "start_time": "2022-11-03T13:30:00.695Z"
   },
   {
    "duration": 359,
    "start_time": "2022-11-03T13:30:00.776Z"
   },
   {
    "duration": 13,
    "start_time": "2022-11-03T13:30:01.139Z"
   },
   {
    "duration": 49,
    "start_time": "2022-11-03T20:29:32.124Z"
   },
   {
    "duration": 1306,
    "start_time": "2022-11-03T20:29:38.971Z"
   },
   {
    "duration": 215,
    "start_time": "2022-11-03T20:29:40.279Z"
   },
   {
    "duration": 23,
    "start_time": "2022-11-03T20:29:40.496Z"
   },
   {
    "duration": 17,
    "start_time": "2022-11-03T20:29:40.521Z"
   },
   {
    "duration": 15,
    "start_time": "2022-11-03T20:29:40.540Z"
   },
   {
    "duration": 5,
    "start_time": "2022-11-03T20:29:40.556Z"
   },
   {
    "duration": 11,
    "start_time": "2022-11-03T20:29:40.562Z"
   },
   {
    "duration": 9,
    "start_time": "2022-11-03T20:29:40.575Z"
   },
   {
    "duration": 4,
    "start_time": "2022-11-03T20:29:40.586Z"
   },
   {
    "duration": 6,
    "start_time": "2022-11-03T20:29:40.592Z"
   },
   {
    "duration": 260,
    "start_time": "2022-11-03T20:29:40.600Z"
   },
   {
    "duration": 216,
    "start_time": "2022-11-03T20:29:40.861Z"
   },
   {
    "duration": 306,
    "start_time": "2022-11-03T20:29:41.079Z"
   },
   {
    "duration": 18,
    "start_time": "2022-11-03T20:29:41.387Z"
   },
   {
    "duration": 7,
    "start_time": "2022-11-03T20:29:41.407Z"
   },
   {
    "duration": 397,
    "start_time": "2022-11-03T20:29:41.416Z"
   },
   {
    "duration": 251,
    "start_time": "2022-11-03T20:29:41.814Z"
   },
   {
    "duration": 417,
    "start_time": "2022-11-03T20:29:42.067Z"
   },
   {
    "duration": 6,
    "start_time": "2022-11-03T20:29:42.486Z"
   },
   {
    "duration": 282,
    "start_time": "2022-11-03T20:29:42.493Z"
   },
   {
    "duration": 14,
    "start_time": "2022-11-03T20:29:42.776Z"
   },
   {
    "duration": 340,
    "start_time": "2022-11-03T20:29:42.793Z"
   },
   {
    "duration": 24,
    "start_time": "2022-11-03T20:29:43.135Z"
   },
   {
    "duration": 187,
    "start_time": "2022-11-03T20:29:43.161Z"
   },
   {
    "duration": 291,
    "start_time": "2022-11-03T20:29:43.350Z"
   },
   {
    "duration": 11,
    "start_time": "2022-11-03T20:29:43.643Z"
   },
   {
    "duration": 210,
    "start_time": "2022-11-03T20:29:43.656Z"
   },
   {
    "duration": 216,
    "start_time": "2022-11-03T20:29:43.869Z"
   },
   {
    "duration": 5,
    "start_time": "2022-11-03T20:29:44.087Z"
   },
   {
    "duration": 69,
    "start_time": "2022-11-03T20:29:44.094Z"
   },
   {
    "duration": 57,
    "start_time": "2022-11-03T20:29:44.165Z"
   },
   {
    "duration": 72,
    "start_time": "2022-11-03T20:29:44.224Z"
   },
   {
    "duration": 67,
    "start_time": "2022-11-03T20:29:44.298Z"
   },
   {
    "duration": 22,
    "start_time": "2022-11-03T20:29:44.367Z"
   },
   {
    "duration": 32,
    "start_time": "2022-11-03T20:29:44.391Z"
   },
   {
    "duration": 30,
    "start_time": "2022-11-03T20:29:44.425Z"
   },
   {
    "duration": 17,
    "start_time": "2022-11-03T20:29:44.457Z"
   },
   {
    "duration": 35,
    "start_time": "2022-11-03T20:29:44.475Z"
   },
   {
    "duration": 10,
    "start_time": "2022-11-03T20:29:44.512Z"
   },
   {
    "duration": 26,
    "start_time": "2022-11-03T20:29:44.524Z"
   },
   {
    "duration": 39,
    "start_time": "2022-11-03T20:29:44.552Z"
   },
   {
    "duration": 336,
    "start_time": "2022-11-03T20:29:44.593Z"
   },
   {
    "duration": 26,
    "start_time": "2022-11-03T20:29:44.931Z"
   },
   {
    "duration": 47,
    "start_time": "2022-11-04T20:16:02.658Z"
   },
   {
    "duration": 1299,
    "start_time": "2022-11-04T20:16:08.731Z"
   },
   {
    "duration": 232,
    "start_time": "2022-11-04T20:16:10.031Z"
   },
   {
    "duration": 19,
    "start_time": "2022-11-04T20:16:10.265Z"
   },
   {
    "duration": 13,
    "start_time": "2022-11-04T20:16:10.286Z"
   },
   {
    "duration": 13,
    "start_time": "2022-11-04T20:16:10.301Z"
   },
   {
    "duration": 3,
    "start_time": "2022-11-04T20:16:10.316Z"
   },
   {
    "duration": 13,
    "start_time": "2022-11-04T20:16:10.320Z"
   },
   {
    "duration": 8,
    "start_time": "2022-11-04T20:16:10.335Z"
   },
   {
    "duration": 3,
    "start_time": "2022-11-04T20:16:10.345Z"
   },
   {
    "duration": 8,
    "start_time": "2022-11-04T20:16:10.349Z"
   },
   {
    "duration": 212,
    "start_time": "2022-11-04T20:16:10.358Z"
   },
   {
    "duration": 177,
    "start_time": "2022-11-04T20:16:10.571Z"
   },
   {
    "duration": 272,
    "start_time": "2022-11-04T20:16:10.750Z"
   },
   {
    "duration": 108,
    "start_time": "2022-11-04T20:16:11.026Z"
   },
   {
    "duration": 0,
    "start_time": "2022-11-04T20:16:11.135Z"
   },
   {
    "duration": 0,
    "start_time": "2022-11-04T20:16:11.137Z"
   },
   {
    "duration": 0,
    "start_time": "2022-11-04T20:16:11.138Z"
   },
   {
    "duration": 0,
    "start_time": "2022-11-04T20:16:11.139Z"
   },
   {
    "duration": 0,
    "start_time": "2022-11-04T20:16:11.140Z"
   },
   {
    "duration": 0,
    "start_time": "2022-11-04T20:16:11.141Z"
   },
   {
    "duration": 0,
    "start_time": "2022-11-04T20:16:11.142Z"
   },
   {
    "duration": 0,
    "start_time": "2022-11-04T20:16:11.143Z"
   },
   {
    "duration": 1,
    "start_time": "2022-11-04T20:16:11.144Z"
   },
   {
    "duration": 0,
    "start_time": "2022-11-04T20:16:11.146Z"
   },
   {
    "duration": 0,
    "start_time": "2022-11-04T20:16:11.146Z"
   },
   {
    "duration": 0,
    "start_time": "2022-11-04T20:16:11.147Z"
   },
   {
    "duration": 0,
    "start_time": "2022-11-04T20:16:11.148Z"
   },
   {
    "duration": 0,
    "start_time": "2022-11-04T20:16:11.149Z"
   },
   {
    "duration": 0,
    "start_time": "2022-11-04T20:16:11.150Z"
   },
   {
    "duration": 0,
    "start_time": "2022-11-04T20:16:11.151Z"
   },
   {
    "duration": 0,
    "start_time": "2022-11-04T20:16:11.152Z"
   },
   {
    "duration": 0,
    "start_time": "2022-11-04T20:16:11.153Z"
   },
   {
    "duration": 0,
    "start_time": "2022-11-04T20:16:11.154Z"
   },
   {
    "duration": 0,
    "start_time": "2022-11-04T20:16:11.155Z"
   },
   {
    "duration": 0,
    "start_time": "2022-11-04T20:16:11.156Z"
   },
   {
    "duration": 0,
    "start_time": "2022-11-04T20:16:11.157Z"
   },
   {
    "duration": 0,
    "start_time": "2022-11-04T20:16:11.158Z"
   },
   {
    "duration": 1,
    "start_time": "2022-11-04T20:16:11.158Z"
   },
   {
    "duration": 0,
    "start_time": "2022-11-04T20:16:11.159Z"
   },
   {
    "duration": 0,
    "start_time": "2022-11-04T20:16:11.161Z"
   },
   {
    "duration": 0,
    "start_time": "2022-11-04T20:16:11.161Z"
   },
   {
    "duration": 0,
    "start_time": "2022-11-04T20:16:11.162Z"
   },
   {
    "duration": 0,
    "start_time": "2022-11-04T20:16:11.164Z"
   },
   {
    "duration": 47,
    "start_time": "2022-11-04T20:18:44.894Z"
   },
   {
    "duration": 10,
    "start_time": "2022-11-04T20:18:48.154Z"
   },
   {
    "duration": 10,
    "start_time": "2022-11-04T20:21:41.925Z"
   },
   {
    "duration": 18,
    "start_time": "2022-11-04T20:22:22.741Z"
   },
   {
    "duration": 17,
    "start_time": "2022-11-04T20:23:10.154Z"
   },
   {
    "duration": 14,
    "start_time": "2022-11-04T20:23:15.463Z"
   },
   {
    "duration": 11,
    "start_time": "2022-11-04T20:23:57.771Z"
   },
   {
    "duration": 13,
    "start_time": "2022-11-04T20:25:28.160Z"
   },
   {
    "duration": 9,
    "start_time": "2022-11-04T20:25:32.351Z"
   },
   {
    "duration": 10,
    "start_time": "2022-11-04T20:25:54.248Z"
   },
   {
    "duration": 10,
    "start_time": "2022-11-04T20:26:04.093Z"
   },
   {
    "duration": 11,
    "start_time": "2022-11-04T20:26:17.447Z"
   },
   {
    "duration": 11,
    "start_time": "2022-11-04T20:26:22.217Z"
   },
   {
    "duration": 158,
    "start_time": "2022-11-04T20:32:18.628Z"
   },
   {
    "duration": 132,
    "start_time": "2022-11-04T20:32:42.090Z"
   },
   {
    "duration": 154,
    "start_time": "2022-11-04T20:33:39.643Z"
   },
   {
    "duration": 10,
    "start_time": "2022-11-04T20:34:04.969Z"
   },
   {
    "duration": 11,
    "start_time": "2022-11-04T20:34:10.224Z"
   },
   {
    "duration": 9,
    "start_time": "2022-11-04T20:34:16.869Z"
   },
   {
    "duration": 192,
    "start_time": "2022-11-04T20:34:38.825Z"
   },
   {
    "duration": 114,
    "start_time": "2022-11-04T20:34:47.239Z"
   },
   {
    "duration": 116,
    "start_time": "2022-11-04T20:34:50.143Z"
   },
   {
    "duration": 14,
    "start_time": "2022-11-04T20:44:07.856Z"
   },
   {
    "duration": 10,
    "start_time": "2022-11-04T20:44:16.785Z"
   },
   {
    "duration": 12,
    "start_time": "2022-11-04T21:16:11.890Z"
   },
   {
    "duration": 55,
    "start_time": "2022-11-04T21:17:20.695Z"
   },
   {
    "duration": 39,
    "start_time": "2022-11-04T21:17:43.183Z"
   },
   {
    "duration": 7,
    "start_time": "2022-11-04T21:17:58.368Z"
   },
   {
    "duration": 9,
    "start_time": "2022-11-04T21:19:37.338Z"
   },
   {
    "duration": 10,
    "start_time": "2022-11-04T21:20:43.851Z"
   },
   {
    "duration": 5,
    "start_time": "2022-11-04T21:21:45.830Z"
   },
   {
    "duration": 6,
    "start_time": "2022-11-04T21:22:08.763Z"
   },
   {
    "duration": 10,
    "start_time": "2022-11-04T21:22:14.299Z"
   },
   {
    "duration": 4,
    "start_time": "2022-11-04T21:22:33.889Z"
   },
   {
    "duration": 4,
    "start_time": "2022-11-04T21:22:48.277Z"
   },
   {
    "duration": 5,
    "start_time": "2022-11-04T21:25:16.415Z"
   },
   {
    "duration": 10,
    "start_time": "2022-11-04T21:25:22.685Z"
   },
   {
    "duration": 9,
    "start_time": "2022-11-04T21:25:30.352Z"
   },
   {
    "duration": 10,
    "start_time": "2022-11-04T21:26:50.353Z"
   },
   {
    "duration": 25,
    "start_time": "2022-11-04T21:34:28.596Z"
   },
   {
    "duration": 1045,
    "start_time": "2022-11-04T21:34:45.450Z"
   },
   {
    "duration": 103,
    "start_time": "2022-11-04T21:34:46.497Z"
   },
   {
    "duration": 18,
    "start_time": "2022-11-04T21:34:46.602Z"
   },
   {
    "duration": 13,
    "start_time": "2022-11-04T21:34:46.622Z"
   },
   {
    "duration": 12,
    "start_time": "2022-11-04T21:34:46.636Z"
   },
   {
    "duration": 3,
    "start_time": "2022-11-04T21:34:46.649Z"
   },
   {
    "duration": 10,
    "start_time": "2022-11-04T21:34:46.653Z"
   },
   {
    "duration": 7,
    "start_time": "2022-11-04T21:34:46.664Z"
   },
   {
    "duration": 3,
    "start_time": "2022-11-04T21:34:46.672Z"
   },
   {
    "duration": 6,
    "start_time": "2022-11-04T21:34:46.677Z"
   },
   {
    "duration": 229,
    "start_time": "2022-11-04T21:34:46.684Z"
   },
   {
    "duration": 192,
    "start_time": "2022-11-04T21:34:46.914Z"
   },
   {
    "duration": 15,
    "start_time": "2022-11-04T21:34:47.107Z"
   },
   {
    "duration": 154,
    "start_time": "2022-11-04T21:34:47.125Z"
   },
   {
    "duration": 9,
    "start_time": "2022-11-04T21:34:47.281Z"
   },
   {
    "duration": 101,
    "start_time": "2022-11-04T21:34:47.292Z"
   },
   {
    "duration": 0,
    "start_time": "2022-11-04T21:34:47.395Z"
   },
   {
    "duration": 0,
    "start_time": "2022-11-04T21:34:47.396Z"
   },
   {
    "duration": 0,
    "start_time": "2022-11-04T21:34:47.397Z"
   },
   {
    "duration": 0,
    "start_time": "2022-11-04T21:34:47.398Z"
   },
   {
    "duration": 0,
    "start_time": "2022-11-04T21:34:47.399Z"
   },
   {
    "duration": 0,
    "start_time": "2022-11-04T21:34:47.400Z"
   },
   {
    "duration": 0,
    "start_time": "2022-11-04T21:34:47.401Z"
   },
   {
    "duration": 0,
    "start_time": "2022-11-04T21:34:47.402Z"
   },
   {
    "duration": 0,
    "start_time": "2022-11-04T21:34:47.403Z"
   },
   {
    "duration": 0,
    "start_time": "2022-11-04T21:34:47.421Z"
   },
   {
    "duration": 0,
    "start_time": "2022-11-04T21:34:47.422Z"
   },
   {
    "duration": 0,
    "start_time": "2022-11-04T21:34:47.423Z"
   },
   {
    "duration": 0,
    "start_time": "2022-11-04T21:34:47.424Z"
   },
   {
    "duration": 0,
    "start_time": "2022-11-04T21:34:47.425Z"
   },
   {
    "duration": 0,
    "start_time": "2022-11-04T21:34:47.426Z"
   },
   {
    "duration": 0,
    "start_time": "2022-11-04T21:34:47.427Z"
   },
   {
    "duration": 0,
    "start_time": "2022-11-04T21:34:47.428Z"
   },
   {
    "duration": 0,
    "start_time": "2022-11-04T21:34:47.429Z"
   },
   {
    "duration": 0,
    "start_time": "2022-11-04T21:34:47.430Z"
   },
   {
    "duration": 0,
    "start_time": "2022-11-04T21:34:47.430Z"
   },
   {
    "duration": 0,
    "start_time": "2022-11-04T21:34:47.431Z"
   },
   {
    "duration": 0,
    "start_time": "2022-11-04T21:34:47.432Z"
   },
   {
    "duration": 0,
    "start_time": "2022-11-04T21:34:47.433Z"
   },
   {
    "duration": 0,
    "start_time": "2022-11-04T21:34:47.434Z"
   },
   {
    "duration": 0,
    "start_time": "2022-11-04T21:34:47.435Z"
   },
   {
    "duration": 0,
    "start_time": "2022-11-04T21:34:47.436Z"
   },
   {
    "duration": 0,
    "start_time": "2022-11-04T21:34:47.437Z"
   },
   {
    "duration": 0,
    "start_time": "2022-11-04T21:34:47.438Z"
   },
   {
    "duration": 0,
    "start_time": "2022-11-04T21:34:47.438Z"
   },
   {
    "duration": 0,
    "start_time": "2022-11-04T21:34:47.439Z"
   },
   {
    "duration": 0,
    "start_time": "2022-11-04T21:34:47.440Z"
   },
   {
    "duration": 0,
    "start_time": "2022-11-04T21:34:47.441Z"
   },
   {
    "duration": 0,
    "start_time": "2022-11-04T21:34:47.442Z"
   },
   {
    "duration": 0,
    "start_time": "2022-11-04T21:34:47.443Z"
   },
   {
    "duration": 0,
    "start_time": "2022-11-04T21:34:47.444Z"
   },
   {
    "duration": 0,
    "start_time": "2022-11-04T21:34:47.445Z"
   },
   {
    "duration": 0,
    "start_time": "2022-11-04T21:34:47.446Z"
   },
   {
    "duration": 122,
    "start_time": "2022-11-04T21:35:21.056Z"
   },
   {
    "duration": 10,
    "start_time": "2022-11-04T21:35:21.309Z"
   },
   {
    "duration": 12,
    "start_time": "2022-11-04T21:35:50.407Z"
   },
   {
    "duration": 5,
    "start_time": "2022-11-04T21:35:50.758Z"
   },
   {
    "duration": 12,
    "start_time": "2022-11-04T21:35:51.066Z"
   },
   {
    "duration": 4,
    "start_time": "2022-11-04T21:35:51.273Z"
   },
   {
    "duration": 10,
    "start_time": "2022-11-04T21:35:52.655Z"
   },
   {
    "duration": 32,
    "start_time": "2022-11-04T21:35:52.959Z"
   },
   {
    "duration": 5,
    "start_time": "2022-11-04T21:36:00.093Z"
   },
   {
    "duration": 9,
    "start_time": "2022-11-04T21:36:16.859Z"
   },
   {
    "duration": 12,
    "start_time": "2022-11-04T21:37:42.365Z"
   },
   {
    "duration": 1075,
    "start_time": "2022-11-04T21:38:23.617Z"
   },
   {
    "duration": 95,
    "start_time": "2022-11-04T21:38:24.693Z"
   },
   {
    "duration": 18,
    "start_time": "2022-11-04T21:38:24.789Z"
   },
   {
    "duration": 19,
    "start_time": "2022-11-04T21:38:24.808Z"
   },
   {
    "duration": 17,
    "start_time": "2022-11-04T21:38:24.829Z"
   },
   {
    "duration": 16,
    "start_time": "2022-11-04T21:38:24.848Z"
   },
   {
    "duration": 19,
    "start_time": "2022-11-04T21:38:24.866Z"
   },
   {
    "duration": 18,
    "start_time": "2022-11-04T21:38:24.886Z"
   },
   {
    "duration": 20,
    "start_time": "2022-11-04T21:38:24.906Z"
   },
   {
    "duration": 14,
    "start_time": "2022-11-04T21:38:24.927Z"
   },
   {
    "duration": 218,
    "start_time": "2022-11-04T21:38:24.942Z"
   },
   {
    "duration": 176,
    "start_time": "2022-11-04T21:38:25.161Z"
   },
   {
    "duration": 8,
    "start_time": "2022-11-04T21:38:25.338Z"
   },
   {
    "duration": 167,
    "start_time": "2022-11-04T21:38:25.349Z"
   },
   {
    "duration": 11,
    "start_time": "2022-11-04T21:38:25.517Z"
   },
   {
    "duration": 128,
    "start_time": "2022-11-04T21:38:25.530Z"
   },
   {
    "duration": 10,
    "start_time": "2022-11-04T21:38:25.660Z"
   },
   {
    "duration": 30,
    "start_time": "2022-11-04T21:38:25.671Z"
   },
   {
    "duration": 31,
    "start_time": "2022-11-04T21:38:25.702Z"
   },
   {
    "duration": 24,
    "start_time": "2022-11-04T21:38:25.735Z"
   },
   {
    "duration": 11,
    "start_time": "2022-11-04T21:38:25.761Z"
   },
   {
    "duration": 28,
    "start_time": "2022-11-04T21:38:25.773Z"
   },
   {
    "duration": 19,
    "start_time": "2022-11-04T21:38:25.803Z"
   },
   {
    "duration": 12,
    "start_time": "2022-11-04T21:38:25.824Z"
   },
   {
    "duration": 12,
    "start_time": "2022-11-04T21:38:25.838Z"
   },
   {
    "duration": 274,
    "start_time": "2022-11-04T21:38:25.852Z"
   },
   {
    "duration": 203,
    "start_time": "2022-11-04T21:38:26.128Z"
   },
   {
    "duration": 303,
    "start_time": "2022-11-04T21:38:26.332Z"
   },
   {
    "duration": 5,
    "start_time": "2022-11-04T21:38:26.637Z"
   },
   {
    "duration": 239,
    "start_time": "2022-11-04T21:38:26.643Z"
   },
   {
    "duration": 12,
    "start_time": "2022-11-04T21:38:26.884Z"
   },
   {
    "duration": 338,
    "start_time": "2022-11-04T21:38:26.897Z"
   },
   {
    "duration": 10,
    "start_time": "2022-11-04T21:38:27.236Z"
   },
   {
    "duration": 167,
    "start_time": "2022-11-04T21:38:27.248Z"
   },
   {
    "duration": 242,
    "start_time": "2022-11-04T21:38:27.417Z"
   },
   {
    "duration": 4,
    "start_time": "2022-11-04T21:38:27.661Z"
   },
   {
    "duration": 184,
    "start_time": "2022-11-04T21:38:27.666Z"
   },
   {
    "duration": 188,
    "start_time": "2022-11-04T21:38:27.852Z"
   },
   {
    "duration": 4,
    "start_time": "2022-11-04T21:38:28.042Z"
   },
   {
    "duration": 75,
    "start_time": "2022-11-04T21:38:28.048Z"
   },
   {
    "duration": 52,
    "start_time": "2022-11-04T21:38:28.126Z"
   },
   {
    "duration": 89,
    "start_time": "2022-11-04T21:38:28.179Z"
   },
   {
    "duration": 56,
    "start_time": "2022-11-04T21:38:28.269Z"
   },
   {
    "duration": 18,
    "start_time": "2022-11-04T21:38:28.327Z"
   },
   {
    "duration": 15,
    "start_time": "2022-11-04T21:38:28.347Z"
   },
   {
    "duration": 16,
    "start_time": "2022-11-04T21:38:28.364Z"
   },
   {
    "duration": 24,
    "start_time": "2022-11-04T21:38:28.382Z"
   },
   {
    "duration": 44,
    "start_time": "2022-11-04T21:38:28.407Z"
   },
   {
    "duration": 10,
    "start_time": "2022-11-04T21:38:28.452Z"
   },
   {
    "duration": 17,
    "start_time": "2022-11-04T21:38:28.464Z"
   },
   {
    "duration": 51,
    "start_time": "2022-11-04T21:38:28.482Z"
   },
   {
    "duration": 345,
    "start_time": "2022-11-04T21:38:28.534Z"
   },
   {
    "duration": 15,
    "start_time": "2022-11-04T21:38:28.881Z"
   },
   {
    "duration": 14,
    "start_time": "2022-11-04T21:40:14.283Z"
   },
   {
    "duration": 1075,
    "start_time": "2022-11-04T21:40:23.028Z"
   },
   {
    "duration": 109,
    "start_time": "2022-11-04T21:40:24.105Z"
   },
   {
    "duration": 18,
    "start_time": "2022-11-04T21:40:24.215Z"
   },
   {
    "duration": 13,
    "start_time": "2022-11-04T21:40:24.235Z"
   },
   {
    "duration": 14,
    "start_time": "2022-11-04T21:40:24.250Z"
   },
   {
    "duration": 4,
    "start_time": "2022-11-04T21:40:24.265Z"
   },
   {
    "duration": 10,
    "start_time": "2022-11-04T21:40:24.270Z"
   },
   {
    "duration": 8,
    "start_time": "2022-11-04T21:40:24.281Z"
   },
   {
    "duration": 35,
    "start_time": "2022-11-04T21:40:24.290Z"
   },
   {
    "duration": 8,
    "start_time": "2022-11-04T21:40:24.328Z"
   },
   {
    "duration": 211,
    "start_time": "2022-11-04T21:40:24.337Z"
   },
   {
    "duration": 196,
    "start_time": "2022-11-04T21:40:24.550Z"
   },
   {
    "duration": 9,
    "start_time": "2022-11-04T21:40:24.748Z"
   },
   {
    "duration": 169,
    "start_time": "2022-11-04T21:40:24.758Z"
   },
   {
    "duration": 9,
    "start_time": "2022-11-04T21:40:24.929Z"
   },
   {
    "duration": 137,
    "start_time": "2022-11-04T21:40:24.940Z"
   },
   {
    "duration": 23,
    "start_time": "2022-11-04T21:40:25.079Z"
   },
   {
    "duration": 16,
    "start_time": "2022-11-04T21:40:25.103Z"
   },
   {
    "duration": 7,
    "start_time": "2022-11-04T21:40:25.120Z"
   },
   {
    "duration": 10,
    "start_time": "2022-11-04T21:40:25.128Z"
   },
   {
    "duration": 3,
    "start_time": "2022-11-04T21:40:25.139Z"
   },
   {
    "duration": 12,
    "start_time": "2022-11-04T21:40:25.144Z"
   },
   {
    "duration": 10,
    "start_time": "2022-11-04T21:40:25.157Z"
   },
   {
    "duration": 9,
    "start_time": "2022-11-04T21:40:25.168Z"
   },
   {
    "duration": 8,
    "start_time": "2022-11-04T21:40:25.179Z"
   },
   {
    "duration": 293,
    "start_time": "2022-11-04T21:40:25.188Z"
   },
   {
    "duration": 218,
    "start_time": "2022-11-04T21:40:25.483Z"
   },
   {
    "duration": 344,
    "start_time": "2022-11-04T21:40:25.706Z"
   },
   {
    "duration": 6,
    "start_time": "2022-11-04T21:40:26.052Z"
   },
   {
    "duration": 233,
    "start_time": "2022-11-04T21:40:26.059Z"
   },
   {
    "duration": 13,
    "start_time": "2022-11-04T21:40:26.293Z"
   },
   {
    "duration": 329,
    "start_time": "2022-11-04T21:40:26.308Z"
   },
   {
    "duration": 10,
    "start_time": "2022-11-04T21:40:26.638Z"
   },
   {
    "duration": 169,
    "start_time": "2022-11-04T21:40:26.650Z"
   },
   {
    "duration": 264,
    "start_time": "2022-11-04T21:40:26.820Z"
   },
   {
    "duration": 4,
    "start_time": "2022-11-04T21:40:27.086Z"
   },
   {
    "duration": 188,
    "start_time": "2022-11-04T21:40:27.092Z"
   },
   {
    "duration": 182,
    "start_time": "2022-11-04T21:40:27.282Z"
   },
   {
    "duration": 4,
    "start_time": "2022-11-04T21:40:27.466Z"
   },
   {
    "duration": 67,
    "start_time": "2022-11-04T21:40:27.472Z"
   },
   {
    "duration": 51,
    "start_time": "2022-11-04T21:40:27.541Z"
   },
   {
    "duration": 59,
    "start_time": "2022-11-04T21:40:27.594Z"
   },
   {
    "duration": 53,
    "start_time": "2022-11-04T21:40:27.654Z"
   },
   {
    "duration": 18,
    "start_time": "2022-11-04T21:40:27.722Z"
   },
   {
    "duration": 6,
    "start_time": "2022-11-04T21:40:27.741Z"
   },
   {
    "duration": 14,
    "start_time": "2022-11-04T21:40:27.748Z"
   },
   {
    "duration": 6,
    "start_time": "2022-11-04T21:40:27.763Z"
   },
   {
    "duration": 21,
    "start_time": "2022-11-04T21:40:27.770Z"
   },
   {
    "duration": 10,
    "start_time": "2022-11-04T21:40:27.821Z"
   },
   {
    "duration": 8,
    "start_time": "2022-11-04T21:40:27.832Z"
   },
   {
    "duration": 20,
    "start_time": "2022-11-04T21:40:27.841Z"
   },
   {
    "duration": 338,
    "start_time": "2022-11-04T21:40:27.863Z"
   },
   {
    "duration": 21,
    "start_time": "2022-11-04T21:40:28.203Z"
   },
   {
    "duration": 6,
    "start_time": "2022-11-04T21:41:26.101Z"
   },
   {
    "duration": 12,
    "start_time": "2022-11-04T21:42:59.953Z"
   },
   {
    "duration": 6,
    "start_time": "2022-11-04T21:43:00.708Z"
   },
   {
    "duration": 5,
    "start_time": "2022-11-04T21:44:33.663Z"
   },
   {
    "duration": 5,
    "start_time": "2022-11-04T21:44:53.753Z"
   },
   {
    "duration": 1095,
    "start_time": "2022-11-04T21:46:48.804Z"
   },
   {
    "duration": 102,
    "start_time": "2022-11-04T21:46:49.901Z"
   },
   {
    "duration": 18,
    "start_time": "2022-11-04T21:46:50.004Z"
   },
   {
    "duration": 12,
    "start_time": "2022-11-04T21:46:50.024Z"
   },
   {
    "duration": 15,
    "start_time": "2022-11-04T21:46:50.037Z"
   },
   {
    "duration": 3,
    "start_time": "2022-11-04T21:46:50.054Z"
   },
   {
    "duration": 13,
    "start_time": "2022-11-04T21:46:50.058Z"
   },
   {
    "duration": 14,
    "start_time": "2022-11-04T21:46:50.072Z"
   },
   {
    "duration": 9,
    "start_time": "2022-11-04T21:46:50.087Z"
   },
   {
    "duration": 6,
    "start_time": "2022-11-04T21:46:50.098Z"
   },
   {
    "duration": 198,
    "start_time": "2022-11-04T21:46:50.121Z"
   },
   {
    "duration": 182,
    "start_time": "2022-11-04T21:46:50.320Z"
   },
   {
    "duration": 7,
    "start_time": "2022-11-04T21:46:50.504Z"
   },
   {
    "duration": 153,
    "start_time": "2022-11-04T21:46:50.522Z"
   },
   {
    "duration": 9,
    "start_time": "2022-11-04T21:46:50.677Z"
   },
   {
    "duration": 119,
    "start_time": "2022-11-04T21:46:50.687Z"
   },
   {
    "duration": 15,
    "start_time": "2022-11-04T21:46:50.807Z"
   },
   {
    "duration": 21,
    "start_time": "2022-11-04T21:46:50.823Z"
   },
   {
    "duration": 11,
    "start_time": "2022-11-04T21:46:50.845Z"
   },
   {
    "duration": 22,
    "start_time": "2022-11-04T21:46:50.857Z"
   },
   {
    "duration": 10,
    "start_time": "2022-11-04T21:46:50.880Z"
   },
   {
    "duration": 34,
    "start_time": "2022-11-04T21:46:50.891Z"
   },
   {
    "duration": 10,
    "start_time": "2022-11-04T21:46:50.927Z"
   },
   {
    "duration": 17,
    "start_time": "2022-11-04T21:46:50.938Z"
   },
   {
    "duration": 10,
    "start_time": "2022-11-04T21:46:50.956Z"
   },
   {
    "duration": 13,
    "start_time": "2022-11-04T21:46:50.967Z"
   },
   {
    "duration": 9,
    "start_time": "2022-11-04T21:46:50.981Z"
   },
   {
    "duration": 292,
    "start_time": "2022-11-04T21:46:50.992Z"
   },
   {
    "duration": 217,
    "start_time": "2022-11-04T21:46:51.286Z"
   },
   {
    "duration": 382,
    "start_time": "2022-11-04T21:46:51.505Z"
   },
   {
    "duration": 6,
    "start_time": "2022-11-04T21:46:51.888Z"
   },
   {
    "duration": 246,
    "start_time": "2022-11-04T21:46:51.896Z"
   },
   {
    "duration": 17,
    "start_time": "2022-11-04T21:46:52.145Z"
   },
   {
    "duration": 336,
    "start_time": "2022-11-04T21:46:52.164Z"
   },
   {
    "duration": 22,
    "start_time": "2022-11-04T21:46:52.502Z"
   },
   {
    "duration": 149,
    "start_time": "2022-11-04T21:46:52.526Z"
   },
   {
    "duration": 242,
    "start_time": "2022-11-04T21:46:52.676Z"
   },
   {
    "duration": 5,
    "start_time": "2022-11-04T21:46:52.921Z"
   },
   {
    "duration": 191,
    "start_time": "2022-11-04T21:46:52.927Z"
   },
   {
    "duration": 174,
    "start_time": "2022-11-04T21:46:53.121Z"
   },
   {
    "duration": 5,
    "start_time": "2022-11-04T21:46:53.296Z"
   },
   {
    "duration": 58,
    "start_time": "2022-11-04T21:46:53.302Z"
   },
   {
    "duration": 49,
    "start_time": "2022-11-04T21:46:53.362Z"
   },
   {
    "duration": 59,
    "start_time": "2022-11-04T21:46:53.413Z"
   },
   {
    "duration": 67,
    "start_time": "2022-11-04T21:46:53.474Z"
   },
   {
    "duration": 19,
    "start_time": "2022-11-04T21:46:53.543Z"
   },
   {
    "duration": 6,
    "start_time": "2022-11-04T21:46:53.563Z"
   },
   {
    "duration": 14,
    "start_time": "2022-11-04T21:46:53.571Z"
   },
   {
    "duration": 5,
    "start_time": "2022-11-04T21:46:53.587Z"
   },
   {
    "duration": 45,
    "start_time": "2022-11-04T21:46:53.593Z"
   },
   {
    "duration": 9,
    "start_time": "2022-11-04T21:46:53.640Z"
   },
   {
    "duration": 9,
    "start_time": "2022-11-04T21:46:53.651Z"
   },
   {
    "duration": 17,
    "start_time": "2022-11-04T21:46:53.661Z"
   },
   {
    "duration": 352,
    "start_time": "2022-11-04T21:46:53.680Z"
   },
   {
    "duration": 12,
    "start_time": "2022-11-04T21:46:54.034Z"
   },
   {
    "duration": 10,
    "start_time": "2022-11-04T21:50:36.389Z"
   },
   {
    "duration": 96,
    "start_time": "2022-11-04T21:52:09.715Z"
   },
   {
    "duration": 11,
    "start_time": "2022-11-04T21:52:19.027Z"
   },
   {
    "duration": 5,
    "start_time": "2022-11-04T21:52:20.800Z"
   },
   {
    "duration": 11,
    "start_time": "2022-11-04T21:52:22.102Z"
   },
   {
    "duration": 1082,
    "start_time": "2022-11-04T21:54:12.420Z"
   },
   {
    "duration": 99,
    "start_time": "2022-11-04T21:54:13.504Z"
   },
   {
    "duration": 17,
    "start_time": "2022-11-04T21:54:13.604Z"
   },
   {
    "duration": 12,
    "start_time": "2022-11-04T21:54:13.623Z"
   },
   {
    "duration": 12,
    "start_time": "2022-11-04T21:54:13.637Z"
   },
   {
    "duration": 4,
    "start_time": "2022-11-04T21:54:13.650Z"
   },
   {
    "duration": 14,
    "start_time": "2022-11-04T21:54:13.655Z"
   },
   {
    "duration": 6,
    "start_time": "2022-11-04T21:54:13.670Z"
   },
   {
    "duration": 4,
    "start_time": "2022-11-04T21:54:13.677Z"
   },
   {
    "duration": 7,
    "start_time": "2022-11-04T21:54:13.682Z"
   },
   {
    "duration": 215,
    "start_time": "2022-11-04T21:54:13.690Z"
   },
   {
    "duration": 190,
    "start_time": "2022-11-04T21:54:13.906Z"
   },
   {
    "duration": 7,
    "start_time": "2022-11-04T21:54:14.098Z"
   },
   {
    "duration": 161,
    "start_time": "2022-11-04T21:54:14.108Z"
   },
   {
    "duration": 9,
    "start_time": "2022-11-04T21:54:14.271Z"
   },
   {
    "duration": 126,
    "start_time": "2022-11-04T21:54:14.281Z"
   },
   {
    "duration": 19,
    "start_time": "2022-11-04T21:54:14.408Z"
   },
   {
    "duration": 12,
    "start_time": "2022-11-04T21:54:14.429Z"
   },
   {
    "duration": 6,
    "start_time": "2022-11-04T21:54:14.442Z"
   },
   {
    "duration": 10,
    "start_time": "2022-11-04T21:54:14.449Z"
   },
   {
    "duration": 4,
    "start_time": "2022-11-04T21:54:14.460Z"
   },
   {
    "duration": 9,
    "start_time": "2022-11-04T21:54:14.466Z"
   },
   {
    "duration": 14,
    "start_time": "2022-11-04T21:54:14.476Z"
   },
   {
    "duration": 34,
    "start_time": "2022-11-04T21:54:14.491Z"
   },
   {
    "duration": 6,
    "start_time": "2022-11-04T21:54:14.526Z"
   },
   {
    "duration": 10,
    "start_time": "2022-11-04T21:54:14.534Z"
   },
   {
    "duration": 7,
    "start_time": "2022-11-04T21:54:14.545Z"
   },
   {
    "duration": 291,
    "start_time": "2022-11-04T21:54:14.554Z"
   },
   {
    "duration": 209,
    "start_time": "2022-11-04T21:54:14.847Z"
   },
   {
    "duration": 308,
    "start_time": "2022-11-04T21:54:15.057Z"
   },
   {
    "duration": 5,
    "start_time": "2022-11-04T21:54:15.367Z"
   },
   {
    "duration": 223,
    "start_time": "2022-11-04T21:54:15.374Z"
   },
   {
    "duration": 13,
    "start_time": "2022-11-04T21:54:15.598Z"
   },
   {
    "duration": 333,
    "start_time": "2022-11-04T21:54:15.622Z"
   },
   {
    "duration": 10,
    "start_time": "2022-11-04T21:54:15.956Z"
   },
   {
    "duration": 171,
    "start_time": "2022-11-04T21:54:15.968Z"
   },
   {
    "duration": 267,
    "start_time": "2022-11-04T21:54:16.141Z"
   },
   {
    "duration": 4,
    "start_time": "2022-11-04T21:54:16.410Z"
   },
   {
    "duration": 166,
    "start_time": "2022-11-04T21:54:16.422Z"
   },
   {
    "duration": 164,
    "start_time": "2022-11-04T21:54:16.589Z"
   },
   {
    "duration": 4,
    "start_time": "2022-11-04T21:54:16.756Z"
   },
   {
    "duration": 62,
    "start_time": "2022-11-04T21:54:16.761Z"
   },
   {
    "duration": 51,
    "start_time": "2022-11-04T21:54:16.825Z"
   },
   {
    "duration": 62,
    "start_time": "2022-11-04T21:54:16.877Z"
   },
   {
    "duration": 54,
    "start_time": "2022-11-04T21:54:16.941Z"
   },
   {
    "duration": 29,
    "start_time": "2022-11-04T21:54:16.997Z"
   },
   {
    "duration": 5,
    "start_time": "2022-11-04T21:54:17.028Z"
   },
   {
    "duration": 16,
    "start_time": "2022-11-04T21:54:17.035Z"
   },
   {
    "duration": 6,
    "start_time": "2022-11-04T21:54:17.052Z"
   },
   {
    "duration": 26,
    "start_time": "2022-11-04T21:54:17.059Z"
   },
   {
    "duration": 38,
    "start_time": "2022-11-04T21:54:17.086Z"
   },
   {
    "duration": 8,
    "start_time": "2022-11-04T21:54:17.125Z"
   },
   {
    "duration": 19,
    "start_time": "2022-11-04T21:54:17.134Z"
   },
   {
    "duration": 338,
    "start_time": "2022-11-04T21:54:17.154Z"
   },
   {
    "duration": 12,
    "start_time": "2022-11-04T21:54:17.494Z"
   },
   {
    "duration": 5,
    "start_time": "2022-11-04T22:01:48.835Z"
   },
   {
    "duration": 14,
    "start_time": "2022-11-04T22:01:49.267Z"
   },
   {
    "duration": 8,
    "start_time": "2022-11-04T22:01:50.906Z"
   },
   {
    "duration": 10,
    "start_time": "2022-11-04T22:03:29.173Z"
   },
   {
    "duration": 22,
    "start_time": "2022-11-04T22:08:13.017Z"
   },
   {
    "duration": 1290,
    "start_time": "2022-11-05T14:30:19.716Z"
   },
   {
    "duration": 262,
    "start_time": "2022-11-05T14:30:21.008Z"
   },
   {
    "duration": 20,
    "start_time": "2022-11-05T14:30:21.272Z"
   },
   {
    "duration": 15,
    "start_time": "2022-11-05T14:30:21.295Z"
   },
   {
    "duration": 13,
    "start_time": "2022-11-05T14:30:21.311Z"
   },
   {
    "duration": 3,
    "start_time": "2022-11-05T14:30:21.326Z"
   },
   {
    "duration": 15,
    "start_time": "2022-11-05T14:30:21.331Z"
   },
   {
    "duration": 14,
    "start_time": "2022-11-05T14:30:21.347Z"
   },
   {
    "duration": 10,
    "start_time": "2022-11-05T14:30:21.363Z"
   },
   {
    "duration": 6,
    "start_time": "2022-11-05T14:30:21.392Z"
   },
   {
    "duration": 20,
    "start_time": "2022-11-05T14:30:21.399Z"
   },
   {
    "duration": 14,
    "start_time": "2022-11-05T14:30:21.421Z"
   },
   {
    "duration": 9,
    "start_time": "2022-11-05T14:30:21.436Z"
   },
   {
    "duration": 16,
    "start_time": "2022-11-05T14:30:21.446Z"
   },
   {
    "duration": 20,
    "start_time": "2022-11-05T14:30:21.464Z"
   },
   {
    "duration": 22,
    "start_time": "2022-11-05T14:30:21.486Z"
   },
   {
    "duration": 213,
    "start_time": "2022-11-05T14:30:21.510Z"
   },
   {
    "duration": 198,
    "start_time": "2022-11-05T14:30:21.724Z"
   },
   {
    "duration": 9,
    "start_time": "2022-11-05T14:30:21.923Z"
   },
   {
    "duration": 175,
    "start_time": "2022-11-05T14:30:21.934Z"
   },
   {
    "duration": 11,
    "start_time": "2022-11-05T14:30:22.110Z"
   },
   {
    "duration": 137,
    "start_time": "2022-11-05T14:30:22.122Z"
   },
   {
    "duration": 9,
    "start_time": "2022-11-05T14:30:22.261Z"
   },
   {
    "duration": 27,
    "start_time": "2022-11-05T14:30:22.272Z"
   },
   {
    "duration": 7,
    "start_time": "2022-11-05T14:30:22.300Z"
   },
   {
    "duration": 285,
    "start_time": "2022-11-05T14:30:22.309Z"
   },
   {
    "duration": 223,
    "start_time": "2022-11-05T14:30:22.596Z"
   },
   {
    "duration": 326,
    "start_time": "2022-11-05T14:30:22.823Z"
   },
   {
    "duration": 5,
    "start_time": "2022-11-05T14:30:23.151Z"
   },
   {
    "duration": 233,
    "start_time": "2022-11-05T14:30:23.158Z"
   },
   {
    "duration": 13,
    "start_time": "2022-11-05T14:30:23.392Z"
   },
   {
    "duration": 309,
    "start_time": "2022-11-05T14:30:23.407Z"
   },
   {
    "duration": 11,
    "start_time": "2022-11-05T14:30:23.717Z"
   },
   {
    "duration": 187,
    "start_time": "2022-11-05T14:30:23.729Z"
   },
   {
    "duration": 255,
    "start_time": "2022-11-05T14:30:23.918Z"
   },
   {
    "duration": 15,
    "start_time": "2022-11-05T14:30:24.175Z"
   },
   {
    "duration": 189,
    "start_time": "2022-11-05T14:30:24.192Z"
   },
   {
    "duration": 214,
    "start_time": "2022-11-05T14:30:24.382Z"
   },
   {
    "duration": 5,
    "start_time": "2022-11-05T14:30:24.598Z"
   },
   {
    "duration": 54,
    "start_time": "2022-11-05T14:30:24.604Z"
   },
   {
    "duration": 71,
    "start_time": "2022-11-05T14:30:24.660Z"
   },
   {
    "duration": 64,
    "start_time": "2022-11-05T14:30:24.733Z"
   },
   {
    "duration": 58,
    "start_time": "2022-11-05T14:30:24.798Z"
   },
   {
    "duration": 39,
    "start_time": "2022-11-05T14:30:24.858Z"
   },
   {
    "duration": 6,
    "start_time": "2022-11-05T14:30:24.899Z"
   },
   {
    "duration": 20,
    "start_time": "2022-11-05T14:30:24.907Z"
   },
   {
    "duration": 7,
    "start_time": "2022-11-05T14:30:24.929Z"
   },
   {
    "duration": 28,
    "start_time": "2022-11-05T14:30:24.937Z"
   },
   {
    "duration": 28,
    "start_time": "2022-11-05T14:30:24.966Z"
   },
   {
    "duration": 10,
    "start_time": "2022-11-05T14:30:24.995Z"
   },
   {
    "duration": 23,
    "start_time": "2022-11-05T14:30:25.007Z"
   },
   {
    "duration": 310,
    "start_time": "2022-11-05T14:30:25.032Z"
   },
   {
    "duration": 13,
    "start_time": "2022-11-05T14:30:25.343Z"
   },
   {
    "duration": 1142,
    "start_time": "2022-11-05T14:43:57.816Z"
   },
   {
    "duration": 108,
    "start_time": "2022-11-05T14:43:58.960Z"
   },
   {
    "duration": 21,
    "start_time": "2022-11-05T14:43:59.069Z"
   },
   {
    "duration": 15,
    "start_time": "2022-11-05T14:43:59.092Z"
   },
   {
    "duration": 14,
    "start_time": "2022-11-05T14:43:59.110Z"
   },
   {
    "duration": 4,
    "start_time": "2022-11-05T14:43:59.125Z"
   },
   {
    "duration": 10,
    "start_time": "2022-11-05T14:43:59.131Z"
   },
   {
    "duration": 8,
    "start_time": "2022-11-05T14:43:59.143Z"
   },
   {
    "duration": 40,
    "start_time": "2022-11-05T14:43:59.153Z"
   },
   {
    "duration": 7,
    "start_time": "2022-11-05T14:43:59.197Z"
   },
   {
    "duration": 8,
    "start_time": "2022-11-05T14:43:59.205Z"
   },
   {
    "duration": 10,
    "start_time": "2022-11-05T14:43:59.214Z"
   },
   {
    "duration": 4,
    "start_time": "2022-11-05T14:43:59.226Z"
   },
   {
    "duration": 10,
    "start_time": "2022-11-05T14:43:59.231Z"
   },
   {
    "duration": 145,
    "start_time": "2022-11-05T14:43:59.243Z"
   },
   {
    "duration": 0,
    "start_time": "2022-11-05T14:43:59.391Z"
   },
   {
    "duration": 0,
    "start_time": "2022-11-05T14:43:59.393Z"
   },
   {
    "duration": 0,
    "start_time": "2022-11-05T14:43:59.394Z"
   },
   {
    "duration": 0,
    "start_time": "2022-11-05T14:43:59.395Z"
   },
   {
    "duration": 0,
    "start_time": "2022-11-05T14:43:59.396Z"
   },
   {
    "duration": 0,
    "start_time": "2022-11-05T14:43:59.396Z"
   },
   {
    "duration": 0,
    "start_time": "2022-11-05T14:43:59.397Z"
   },
   {
    "duration": 0,
    "start_time": "2022-11-05T14:43:59.399Z"
   },
   {
    "duration": 0,
    "start_time": "2022-11-05T14:43:59.400Z"
   },
   {
    "duration": 0,
    "start_time": "2022-11-05T14:43:59.402Z"
   },
   {
    "duration": 0,
    "start_time": "2022-11-05T14:43:59.403Z"
   },
   {
    "duration": 0,
    "start_time": "2022-11-05T14:43:59.404Z"
   },
   {
    "duration": 0,
    "start_time": "2022-11-05T14:43:59.406Z"
   },
   {
    "duration": 0,
    "start_time": "2022-11-05T14:43:59.407Z"
   },
   {
    "duration": 0,
    "start_time": "2022-11-05T14:43:59.408Z"
   },
   {
    "duration": 0,
    "start_time": "2022-11-05T14:43:59.410Z"
   },
   {
    "duration": 0,
    "start_time": "2022-11-05T14:43:59.411Z"
   },
   {
    "duration": 0,
    "start_time": "2022-11-05T14:43:59.412Z"
   },
   {
    "duration": 0,
    "start_time": "2022-11-05T14:43:59.414Z"
   },
   {
    "duration": 0,
    "start_time": "2022-11-05T14:43:59.415Z"
   },
   {
    "duration": 0,
    "start_time": "2022-11-05T14:43:59.416Z"
   },
   {
    "duration": 0,
    "start_time": "2022-11-05T14:43:59.417Z"
   },
   {
    "duration": 0,
    "start_time": "2022-11-05T14:43:59.419Z"
   },
   {
    "duration": 0,
    "start_time": "2022-11-05T14:43:59.420Z"
   },
   {
    "duration": 0,
    "start_time": "2022-11-05T14:43:59.421Z"
   },
   {
    "duration": 0,
    "start_time": "2022-11-05T14:43:59.423Z"
   },
   {
    "duration": 0,
    "start_time": "2022-11-05T14:43:59.424Z"
   },
   {
    "duration": 0,
    "start_time": "2022-11-05T14:43:59.425Z"
   },
   {
    "duration": 0,
    "start_time": "2022-11-05T14:43:59.427Z"
   },
   {
    "duration": 0,
    "start_time": "2022-11-05T14:43:59.428Z"
   },
   {
    "duration": 0,
    "start_time": "2022-11-05T14:43:59.429Z"
   },
   {
    "duration": 0,
    "start_time": "2022-11-05T14:43:59.431Z"
   },
   {
    "duration": 0,
    "start_time": "2022-11-05T14:43:59.432Z"
   },
   {
    "duration": 0,
    "start_time": "2022-11-05T14:43:59.492Z"
   },
   {
    "duration": 0,
    "start_time": "2022-11-05T14:43:59.493Z"
   },
   {
    "duration": 0,
    "start_time": "2022-11-05T14:43:59.495Z"
   },
   {
    "duration": 0,
    "start_time": "2022-11-05T14:43:59.496Z"
   },
   {
    "duration": 0,
    "start_time": "2022-11-05T14:43:59.497Z"
   },
   {
    "duration": 13,
    "start_time": "2022-11-05T14:49:48.105Z"
   },
   {
    "duration": 4,
    "start_time": "2022-11-05T14:51:02.260Z"
   },
   {
    "duration": 3,
    "start_time": "2022-11-05T14:57:00.570Z"
   },
   {
    "duration": 8,
    "start_time": "2022-11-05T14:58:21.029Z"
   },
   {
    "duration": 9,
    "start_time": "2022-11-05T14:58:38.776Z"
   },
   {
    "duration": 11,
    "start_time": "2022-11-05T14:58:47.811Z"
   },
   {
    "duration": 1129,
    "start_time": "2022-11-05T14:59:17.913Z"
   },
   {
    "duration": 110,
    "start_time": "2022-11-05T14:59:19.044Z"
   },
   {
    "duration": 20,
    "start_time": "2022-11-05T14:59:19.155Z"
   },
   {
    "duration": 16,
    "start_time": "2022-11-05T14:59:19.177Z"
   },
   {
    "duration": 13,
    "start_time": "2022-11-05T14:59:19.194Z"
   },
   {
    "duration": 4,
    "start_time": "2022-11-05T14:59:19.208Z"
   },
   {
    "duration": 11,
    "start_time": "2022-11-05T14:59:19.213Z"
   },
   {
    "duration": 7,
    "start_time": "2022-11-05T14:59:19.225Z"
   },
   {
    "duration": 3,
    "start_time": "2022-11-05T14:59:19.234Z"
   },
   {
    "duration": 8,
    "start_time": "2022-11-05T14:59:19.240Z"
   },
   {
    "duration": 6,
    "start_time": "2022-11-05T14:59:19.249Z"
   },
   {
    "duration": 44,
    "start_time": "2022-11-05T14:59:19.256Z"
   },
   {
    "duration": 4,
    "start_time": "2022-11-05T14:59:19.302Z"
   },
   {
    "duration": 13,
    "start_time": "2022-11-05T14:59:19.308Z"
   },
   {
    "duration": 13,
    "start_time": "2022-11-05T14:59:19.322Z"
   },
   {
    "duration": 11,
    "start_time": "2022-11-05T14:59:19.336Z"
   },
   {
    "duration": 251,
    "start_time": "2022-11-05T14:59:19.349Z"
   },
   {
    "duration": 214,
    "start_time": "2022-11-05T14:59:19.601Z"
   },
   {
    "duration": 9,
    "start_time": "2022-11-05T14:59:19.817Z"
   },
   {
    "duration": 181,
    "start_time": "2022-11-05T14:59:19.828Z"
   },
   {
    "duration": 10,
    "start_time": "2022-11-05T14:59:20.011Z"
   },
   {
    "duration": 137,
    "start_time": "2022-11-05T14:59:20.023Z"
   },
   {
    "duration": 9,
    "start_time": "2022-11-05T14:59:20.163Z"
   },
   {
    "duration": 25,
    "start_time": "2022-11-05T14:59:20.174Z"
   },
   {
    "duration": 6,
    "start_time": "2022-11-05T14:59:20.201Z"
   },
   {
    "duration": 294,
    "start_time": "2022-11-05T14:59:20.209Z"
   },
   {
    "duration": 229,
    "start_time": "2022-11-05T14:59:20.505Z"
   },
   {
    "duration": 293,
    "start_time": "2022-11-05T14:59:20.738Z"
   },
   {
    "duration": 5,
    "start_time": "2022-11-05T14:59:21.033Z"
   },
   {
    "duration": 232,
    "start_time": "2022-11-05T14:59:21.040Z"
   },
   {
    "duration": 17,
    "start_time": "2022-11-05T14:59:21.274Z"
   },
   {
    "duration": 320,
    "start_time": "2022-11-05T14:59:21.293Z"
   },
   {
    "duration": 19,
    "start_time": "2022-11-05T14:59:21.615Z"
   },
   {
    "duration": 193,
    "start_time": "2022-11-05T14:59:21.636Z"
   },
   {
    "duration": 268,
    "start_time": "2022-11-05T14:59:21.831Z"
   },
   {
    "duration": 5,
    "start_time": "2022-11-05T14:59:22.101Z"
   },
   {
    "duration": 197,
    "start_time": "2022-11-05T14:59:22.108Z"
   },
   {
    "duration": 204,
    "start_time": "2022-11-05T14:59:22.307Z"
   },
   {
    "duration": 6,
    "start_time": "2022-11-05T14:59:22.513Z"
   },
   {
    "duration": 71,
    "start_time": "2022-11-05T14:59:22.521Z"
   },
   {
    "duration": 54,
    "start_time": "2022-11-05T14:59:22.594Z"
   },
   {
    "duration": 81,
    "start_time": "2022-11-05T14:59:22.650Z"
   },
   {
    "duration": 64,
    "start_time": "2022-11-05T14:59:22.732Z"
   },
   {
    "duration": 21,
    "start_time": "2022-11-05T14:59:22.798Z"
   },
   {
    "duration": 6,
    "start_time": "2022-11-05T14:59:22.821Z"
   },
   {
    "duration": 16,
    "start_time": "2022-11-05T14:59:22.828Z"
   },
   {
    "duration": 6,
    "start_time": "2022-11-05T14:59:22.846Z"
   },
   {
    "duration": 54,
    "start_time": "2022-11-05T14:59:22.854Z"
   },
   {
    "duration": 10,
    "start_time": "2022-11-05T14:59:22.910Z"
   },
   {
    "duration": 8,
    "start_time": "2022-11-05T14:59:22.922Z"
   },
   {
    "duration": 17,
    "start_time": "2022-11-05T14:59:22.932Z"
   },
   {
    "duration": 313,
    "start_time": "2022-11-05T14:59:22.950Z"
   },
   {
    "duration": 13,
    "start_time": "2022-11-05T14:59:23.264Z"
   },
   {
    "duration": 1092,
    "start_time": "2022-11-05T15:00:25.146Z"
   },
   {
    "duration": 113,
    "start_time": "2022-11-05T15:00:26.240Z"
   },
   {
    "duration": 22,
    "start_time": "2022-11-05T15:00:26.355Z"
   },
   {
    "duration": 15,
    "start_time": "2022-11-05T15:00:26.378Z"
   },
   {
    "duration": 15,
    "start_time": "2022-11-05T15:00:26.395Z"
   },
   {
    "duration": 4,
    "start_time": "2022-11-05T15:00:26.411Z"
   },
   {
    "duration": 10,
    "start_time": "2022-11-05T15:00:26.417Z"
   },
   {
    "duration": 8,
    "start_time": "2022-11-05T15:00:26.429Z"
   },
   {
    "duration": 4,
    "start_time": "2022-11-05T15:00:26.439Z"
   },
   {
    "duration": 8,
    "start_time": "2022-11-05T15:00:26.446Z"
   },
   {
    "duration": 6,
    "start_time": "2022-11-05T15:00:26.491Z"
   },
   {
    "duration": 20,
    "start_time": "2022-11-05T15:00:26.498Z"
   },
   {
    "duration": 4,
    "start_time": "2022-11-05T15:00:26.520Z"
   },
   {
    "duration": 13,
    "start_time": "2022-11-05T15:00:26.526Z"
   },
   {
    "duration": 15,
    "start_time": "2022-11-05T15:00:26.540Z"
   },
   {
    "duration": 37,
    "start_time": "2022-11-05T15:00:26.557Z"
   },
   {
    "duration": 281,
    "start_time": "2022-11-05T15:00:26.596Z"
   },
   {
    "duration": 204,
    "start_time": "2022-11-05T15:00:26.879Z"
   },
   {
    "duration": 6,
    "start_time": "2022-11-05T15:00:27.090Z"
   },
   {
    "duration": 175,
    "start_time": "2022-11-05T15:00:27.097Z"
   },
   {
    "duration": 135,
    "start_time": "2022-11-05T15:00:27.273Z"
   },
   {
    "duration": 10,
    "start_time": "2022-11-05T15:00:27.410Z"
   },
   {
    "duration": 12,
    "start_time": "2022-11-05T15:00:27.422Z"
   },
   {
    "duration": 293,
    "start_time": "2022-11-05T15:00:27.436Z"
   },
   {
    "duration": 231,
    "start_time": "2022-11-05T15:00:27.731Z"
   },
   {
    "duration": 337,
    "start_time": "2022-11-05T15:00:27.964Z"
   },
   {
    "duration": 6,
    "start_time": "2022-11-05T15:00:28.302Z"
   },
   {
    "duration": 256,
    "start_time": "2022-11-05T15:00:28.311Z"
   },
   {
    "duration": 22,
    "start_time": "2022-11-05T15:00:28.569Z"
   },
   {
    "duration": 355,
    "start_time": "2022-11-05T15:00:28.592Z"
   },
   {
    "duration": 13,
    "start_time": "2022-11-05T15:00:28.948Z"
   },
   {
    "duration": 200,
    "start_time": "2022-11-05T15:00:28.963Z"
   },
   {
    "duration": 282,
    "start_time": "2022-11-05T15:00:29.165Z"
   },
   {
    "duration": 5,
    "start_time": "2022-11-05T15:00:29.449Z"
   },
   {
    "duration": 196,
    "start_time": "2022-11-05T15:00:29.455Z"
   },
   {
    "duration": 191,
    "start_time": "2022-11-05T15:00:29.654Z"
   },
   {
    "duration": 5,
    "start_time": "2022-11-05T15:00:29.847Z"
   },
   {
    "duration": 70,
    "start_time": "2022-11-05T15:00:29.854Z"
   },
   {
    "duration": 52,
    "start_time": "2022-11-05T15:00:29.925Z"
   },
   {
    "duration": 67,
    "start_time": "2022-11-05T15:00:29.978Z"
   },
   {
    "duration": 81,
    "start_time": "2022-11-05T15:00:30.046Z"
   },
   {
    "duration": 23,
    "start_time": "2022-11-05T15:00:30.129Z"
   },
   {
    "duration": 24,
    "start_time": "2022-11-05T15:00:30.153Z"
   },
   {
    "duration": 46,
    "start_time": "2022-11-05T15:00:30.179Z"
   },
   {
    "duration": 17,
    "start_time": "2022-11-05T15:00:30.227Z"
   },
   {
    "duration": 32,
    "start_time": "2022-11-05T15:00:30.246Z"
   },
   {
    "duration": 17,
    "start_time": "2022-11-05T15:00:30.279Z"
   },
   {
    "duration": 26,
    "start_time": "2022-11-05T15:00:30.297Z"
   },
   {
    "duration": 49,
    "start_time": "2022-11-05T15:00:30.325Z"
   },
   {
    "duration": 301,
    "start_time": "2022-11-05T15:00:30.375Z"
   },
   {
    "duration": 20,
    "start_time": "2022-11-05T15:00:30.677Z"
   },
   {
    "duration": 10,
    "start_time": "2022-11-05T15:01:23.808Z"
   },
   {
    "duration": 1190,
    "start_time": "2022-11-05T15:49:41.564Z"
   },
   {
    "duration": 112,
    "start_time": "2022-11-05T15:49:42.756Z"
   },
   {
    "duration": 20,
    "start_time": "2022-11-05T15:49:42.869Z"
   },
   {
    "duration": 16,
    "start_time": "2022-11-05T15:49:42.890Z"
   },
   {
    "duration": 14,
    "start_time": "2022-11-05T15:49:42.908Z"
   },
   {
    "duration": 4,
    "start_time": "2022-11-05T15:49:42.924Z"
   },
   {
    "duration": 9,
    "start_time": "2022-11-05T15:49:42.930Z"
   },
   {
    "duration": 8,
    "start_time": "2022-11-05T15:49:42.941Z"
   },
   {
    "duration": 43,
    "start_time": "2022-11-05T15:49:42.950Z"
   },
   {
    "duration": 8,
    "start_time": "2022-11-05T15:49:42.994Z"
   },
   {
    "duration": 10,
    "start_time": "2022-11-05T15:49:43.003Z"
   },
   {
    "duration": 11,
    "start_time": "2022-11-05T15:49:43.014Z"
   },
   {
    "duration": 3,
    "start_time": "2022-11-05T15:49:43.026Z"
   },
   {
    "duration": 11,
    "start_time": "2022-11-05T15:49:43.032Z"
   },
   {
    "duration": 12,
    "start_time": "2022-11-05T15:49:43.044Z"
   },
   {
    "duration": 43,
    "start_time": "2022-11-05T15:49:43.057Z"
   },
   {
    "duration": 232,
    "start_time": "2022-11-05T15:49:43.102Z"
   },
   {
    "duration": 195,
    "start_time": "2022-11-05T15:49:43.336Z"
   },
   {
    "duration": 6,
    "start_time": "2022-11-05T15:49:43.532Z"
   },
   {
    "duration": 180,
    "start_time": "2022-11-05T15:49:43.540Z"
   },
   {
    "duration": 140,
    "start_time": "2022-11-05T15:49:43.721Z"
   },
   {
    "duration": 9,
    "start_time": "2022-11-05T15:49:43.862Z"
   },
   {
    "duration": 22,
    "start_time": "2022-11-05T15:49:43.873Z"
   },
   {
    "duration": 287,
    "start_time": "2022-11-05T15:49:43.896Z"
   },
   {
    "duration": 236,
    "start_time": "2022-11-05T15:49:44.184Z"
   },
   {
    "duration": 317,
    "start_time": "2022-11-05T15:49:44.422Z"
   },
   {
    "duration": 5,
    "start_time": "2022-11-05T15:49:44.741Z"
   },
   {
    "duration": 238,
    "start_time": "2022-11-05T15:49:44.748Z"
   },
   {
    "duration": 13,
    "start_time": "2022-11-05T15:49:44.991Z"
   },
   {
    "duration": 328,
    "start_time": "2022-11-05T15:49:45.006Z"
   },
   {
    "duration": 12,
    "start_time": "2022-11-05T15:49:45.335Z"
   },
   {
    "duration": 206,
    "start_time": "2022-11-05T15:49:45.349Z"
   },
   {
    "duration": 275,
    "start_time": "2022-11-05T15:49:45.557Z"
   },
   {
    "duration": 5,
    "start_time": "2022-11-05T15:49:45.834Z"
   },
   {
    "duration": 199,
    "start_time": "2022-11-05T15:49:45.841Z"
   },
   {
    "duration": 203,
    "start_time": "2022-11-05T15:49:46.041Z"
   },
   {
    "duration": 7,
    "start_time": "2022-11-05T15:49:46.246Z"
   },
   {
    "duration": 82,
    "start_time": "2022-11-05T15:49:46.255Z"
   },
   {
    "duration": 67,
    "start_time": "2022-11-05T15:49:46.339Z"
   },
   {
    "duration": 67,
    "start_time": "2022-11-05T15:49:46.409Z"
   },
   {
    "duration": 65,
    "start_time": "2022-11-05T15:49:46.491Z"
   },
   {
    "duration": 43,
    "start_time": "2022-11-05T15:49:46.558Z"
   },
   {
    "duration": 10,
    "start_time": "2022-11-05T15:49:46.603Z"
   },
   {
    "duration": 23,
    "start_time": "2022-11-05T15:49:46.615Z"
   },
   {
    "duration": 8,
    "start_time": "2022-11-05T15:49:46.640Z"
   },
   {
    "duration": 68,
    "start_time": "2022-11-05T15:49:46.651Z"
   },
   {
    "duration": 15,
    "start_time": "2022-11-05T15:49:46.721Z"
   },
   {
    "duration": 13,
    "start_time": "2022-11-05T15:49:46.738Z"
   },
   {
    "duration": 45,
    "start_time": "2022-11-05T15:49:46.753Z"
   },
   {
    "duration": 315,
    "start_time": "2022-11-05T15:49:46.800Z"
   },
   {
    "duration": 15,
    "start_time": "2022-11-05T15:49:47.117Z"
   },
   {
    "duration": 33,
    "start_time": "2022-11-05T16:27:49.791Z"
   },
   {
    "duration": 31,
    "start_time": "2022-11-05T16:29:35.785Z"
   },
   {
    "duration": 12,
    "start_time": "2022-11-05T16:31:10.603Z"
   },
   {
    "duration": 1144,
    "start_time": "2022-11-05T16:35:11.504Z"
   },
   {
    "duration": 114,
    "start_time": "2022-11-05T16:35:12.649Z"
   },
   {
    "duration": 19,
    "start_time": "2022-11-05T16:35:12.765Z"
   },
   {
    "duration": 15,
    "start_time": "2022-11-05T16:35:12.786Z"
   },
   {
    "duration": 15,
    "start_time": "2022-11-05T16:35:12.803Z"
   },
   {
    "duration": 4,
    "start_time": "2022-11-05T16:35:12.820Z"
   },
   {
    "duration": 10,
    "start_time": "2022-11-05T16:35:12.825Z"
   },
   {
    "duration": 7,
    "start_time": "2022-11-05T16:35:12.837Z"
   },
   {
    "duration": 4,
    "start_time": "2022-11-05T16:35:12.846Z"
   },
   {
    "duration": 41,
    "start_time": "2022-11-05T16:35:12.853Z"
   },
   {
    "duration": 5,
    "start_time": "2022-11-05T16:35:12.896Z"
   },
   {
    "duration": 10,
    "start_time": "2022-11-05T16:35:12.903Z"
   },
   {
    "duration": 3,
    "start_time": "2022-11-05T16:35:12.915Z"
   },
   {
    "duration": 13,
    "start_time": "2022-11-05T16:35:12.919Z"
   },
   {
    "duration": 13,
    "start_time": "2022-11-05T16:35:12.934Z"
   },
   {
    "duration": 48,
    "start_time": "2022-11-05T16:35:12.948Z"
   },
   {
    "duration": 232,
    "start_time": "2022-11-05T16:35:12.998Z"
   },
   {
    "duration": 206,
    "start_time": "2022-11-05T16:35:13.233Z"
   },
   {
    "duration": 6,
    "start_time": "2022-11-05T16:35:13.441Z"
   },
   {
    "duration": 179,
    "start_time": "2022-11-05T16:35:13.448Z"
   },
   {
    "duration": 143,
    "start_time": "2022-11-05T16:35:13.629Z"
   },
   {
    "duration": 18,
    "start_time": "2022-11-05T16:35:13.773Z"
   },
   {
    "duration": 8,
    "start_time": "2022-11-05T16:35:13.793Z"
   },
   {
    "duration": 315,
    "start_time": "2022-11-05T16:35:13.802Z"
   },
   {
    "duration": 228,
    "start_time": "2022-11-05T16:35:14.118Z"
   },
   {
    "duration": 366,
    "start_time": "2022-11-05T16:35:14.347Z"
   },
   {
    "duration": 6,
    "start_time": "2022-11-05T16:35:14.715Z"
   },
   {
    "duration": 245,
    "start_time": "2022-11-05T16:35:14.725Z"
   },
   {
    "duration": 20,
    "start_time": "2022-11-05T16:35:14.972Z"
   },
   {
    "duration": 337,
    "start_time": "2022-11-05T16:35:14.993Z"
   },
   {
    "duration": 12,
    "start_time": "2022-11-05T16:35:15.331Z"
   },
   {
    "duration": 198,
    "start_time": "2022-11-05T16:35:15.345Z"
   },
   {
    "duration": 265,
    "start_time": "2022-11-05T16:35:15.546Z"
   },
   {
    "duration": 6,
    "start_time": "2022-11-05T16:35:15.813Z"
   },
   {
    "duration": 200,
    "start_time": "2022-11-05T16:35:15.821Z"
   },
   {
    "duration": 187,
    "start_time": "2022-11-05T16:35:16.023Z"
   },
   {
    "duration": 5,
    "start_time": "2022-11-05T16:35:16.212Z"
   },
   {
    "duration": 52,
    "start_time": "2022-11-05T16:35:16.218Z"
   },
   {
    "duration": 78,
    "start_time": "2022-11-05T16:35:16.272Z"
   },
   {
    "duration": 71,
    "start_time": "2022-11-05T16:35:16.351Z"
   },
   {
    "duration": 73,
    "start_time": "2022-11-05T16:35:16.424Z"
   },
   {
    "duration": 29,
    "start_time": "2022-11-05T16:35:16.499Z"
   },
   {
    "duration": 9,
    "start_time": "2022-11-05T16:35:16.530Z"
   },
   {
    "duration": 23,
    "start_time": "2022-11-05T16:35:16.542Z"
   },
   {
    "duration": 28,
    "start_time": "2022-11-05T16:35:16.567Z"
   },
   {
    "duration": 29,
    "start_time": "2022-11-05T16:35:16.598Z"
   },
   {
    "duration": 15,
    "start_time": "2022-11-05T16:35:16.629Z"
   },
   {
    "duration": 11,
    "start_time": "2022-11-05T16:35:16.645Z"
   },
   {
    "duration": 52,
    "start_time": "2022-11-05T16:35:16.658Z"
   },
   {
    "duration": 315,
    "start_time": "2022-11-05T16:35:16.712Z"
   },
   {
    "duration": 173,
    "start_time": "2022-11-05T16:35:17.029Z"
   },
   {
    "duration": 16,
    "start_time": "2022-11-05T16:40:04.527Z"
   },
   {
    "duration": 1165,
    "start_time": "2022-11-05T16:56:54.403Z"
   },
   {
    "duration": 112,
    "start_time": "2022-11-05T16:56:55.571Z"
   },
   {
    "duration": 20,
    "start_time": "2022-11-05T16:56:55.684Z"
   },
   {
    "duration": 22,
    "start_time": "2022-11-05T16:56:55.706Z"
   },
   {
    "duration": 21,
    "start_time": "2022-11-05T16:56:55.731Z"
   },
   {
    "duration": 10,
    "start_time": "2022-11-05T16:56:55.754Z"
   },
   {
    "duration": 29,
    "start_time": "2022-11-05T16:56:55.766Z"
   },
   {
    "duration": 9,
    "start_time": "2022-11-05T16:56:55.797Z"
   },
   {
    "duration": 14,
    "start_time": "2022-11-05T16:56:55.807Z"
   },
   {
    "duration": 18,
    "start_time": "2022-11-05T16:56:55.823Z"
   },
   {
    "duration": 11,
    "start_time": "2022-11-05T16:56:55.843Z"
   },
   {
    "duration": 33,
    "start_time": "2022-11-05T16:56:55.855Z"
   },
   {
    "duration": 11,
    "start_time": "2022-11-05T16:56:55.890Z"
   },
   {
    "duration": 32,
    "start_time": "2022-11-05T16:56:55.904Z"
   },
   {
    "duration": 13,
    "start_time": "2022-11-05T16:56:55.938Z"
   },
   {
    "duration": 40,
    "start_time": "2022-11-05T16:56:55.953Z"
   },
   {
    "duration": 237,
    "start_time": "2022-11-05T16:56:55.995Z"
   },
   {
    "duration": 214,
    "start_time": "2022-11-05T16:56:56.234Z"
   },
   {
    "duration": 8,
    "start_time": "2022-11-05T16:56:56.449Z"
   },
   {
    "duration": 202,
    "start_time": "2022-11-05T16:56:56.459Z"
   },
   {
    "duration": 158,
    "start_time": "2022-11-05T16:56:56.663Z"
   },
   {
    "duration": 9,
    "start_time": "2022-11-05T16:56:56.823Z"
   },
   {
    "duration": 15,
    "start_time": "2022-11-05T16:56:56.834Z"
   },
   {
    "duration": 296,
    "start_time": "2022-11-05T16:56:56.850Z"
   },
   {
    "duration": 223,
    "start_time": "2022-11-05T16:56:57.147Z"
   },
   {
    "duration": 345,
    "start_time": "2022-11-05T16:56:57.371Z"
   },
   {
    "duration": 6,
    "start_time": "2022-11-05T16:56:57.718Z"
   },
   {
    "duration": 232,
    "start_time": "2022-11-05T16:56:57.726Z"
   },
   {
    "duration": 14,
    "start_time": "2022-11-05T16:56:57.959Z"
   },
   {
    "duration": 356,
    "start_time": "2022-11-05T16:56:57.975Z"
   },
   {
    "duration": 10,
    "start_time": "2022-11-05T16:56:58.333Z"
   },
   {
    "duration": 211,
    "start_time": "2022-11-05T16:56:58.345Z"
   },
   {
    "duration": 283,
    "start_time": "2022-11-05T16:56:58.557Z"
   },
   {
    "duration": 5,
    "start_time": "2022-11-05T16:56:58.842Z"
   },
   {
    "duration": 201,
    "start_time": "2022-11-05T16:56:58.849Z"
   },
   {
    "duration": 186,
    "start_time": "2022-11-05T16:56:59.052Z"
   },
   {
    "duration": 5,
    "start_time": "2022-11-05T16:56:59.240Z"
   },
   {
    "duration": 60,
    "start_time": "2022-11-05T16:56:59.246Z"
   },
   {
    "duration": 49,
    "start_time": "2022-11-05T16:56:59.308Z"
   },
   {
    "duration": 82,
    "start_time": "2022-11-05T16:56:59.359Z"
   },
   {
    "duration": 62,
    "start_time": "2022-11-05T16:56:59.444Z"
   },
   {
    "duration": 22,
    "start_time": "2022-11-05T16:56:59.508Z"
   },
   {
    "duration": 6,
    "start_time": "2022-11-05T16:56:59.532Z"
   },
   {
    "duration": 16,
    "start_time": "2022-11-05T16:56:59.540Z"
   },
   {
    "duration": 33,
    "start_time": "2022-11-05T16:56:59.558Z"
   },
   {
    "duration": 25,
    "start_time": "2022-11-05T16:56:59.593Z"
   },
   {
    "duration": 13,
    "start_time": "2022-11-05T16:56:59.620Z"
   },
   {
    "duration": 9,
    "start_time": "2022-11-05T16:56:59.635Z"
   },
   {
    "duration": 48,
    "start_time": "2022-11-05T16:56:59.646Z"
   },
   {
    "duration": 298,
    "start_time": "2022-11-05T16:56:59.696Z"
   },
   {
    "duration": 14,
    "start_time": "2022-11-05T16:56:59.995Z"
   },
   {
    "duration": 1341,
    "start_time": "2023-05-17T17:54:19.103Z"
   },
   {
    "duration": 274,
    "start_time": "2023-05-17T17:54:20.446Z"
   },
   {
    "duration": 23,
    "start_time": "2023-05-17T17:54:20.722Z"
   },
   {
    "duration": 18,
    "start_time": "2023-05-17T17:54:20.746Z"
   },
   {
    "duration": 25,
    "start_time": "2023-05-17T17:54:20.766Z"
   },
   {
    "duration": 24,
    "start_time": "2023-05-17T17:54:20.793Z"
   },
   {
    "duration": 26,
    "start_time": "2023-05-17T17:54:20.818Z"
   },
   {
    "duration": 30,
    "start_time": "2023-05-17T17:54:20.846Z"
   },
   {
    "duration": 7,
    "start_time": "2023-05-17T17:54:20.878Z"
   },
   {
    "duration": 41,
    "start_time": "2023-05-17T17:54:20.887Z"
   },
   {
    "duration": 15,
    "start_time": "2023-05-17T17:54:20.930Z"
   },
   {
    "duration": 28,
    "start_time": "2023-05-17T17:54:20.947Z"
   },
   {
    "duration": 36,
    "start_time": "2023-05-17T17:54:20.977Z"
   },
   {
    "duration": 21,
    "start_time": "2023-05-17T17:54:21.017Z"
   },
   {
    "duration": 46,
    "start_time": "2023-05-17T17:54:21.040Z"
   },
   {
    "duration": 12,
    "start_time": "2023-05-17T17:54:21.089Z"
   },
   {
    "duration": 249,
    "start_time": "2023-05-17T17:54:21.104Z"
   },
   {
    "duration": 193,
    "start_time": "2023-05-17T17:54:21.355Z"
   },
   {
    "duration": 6,
    "start_time": "2023-05-17T17:54:21.550Z"
   },
   {
    "duration": 177,
    "start_time": "2023-05-17T17:54:21.558Z"
   },
   {
    "duration": 134,
    "start_time": "2023-05-17T17:54:21.737Z"
   },
   {
    "duration": 10,
    "start_time": "2023-05-17T17:54:21.873Z"
   },
   {
    "duration": 59,
    "start_time": "2023-05-17T17:54:21.885Z"
   },
   {
    "duration": 319,
    "start_time": "2023-05-17T17:54:21.947Z"
   },
   {
    "duration": 225,
    "start_time": "2023-05-17T17:54:22.267Z"
   },
   {
    "duration": 380,
    "start_time": "2023-05-17T17:54:22.495Z"
   },
   {
    "duration": 6,
    "start_time": "2023-05-17T17:54:22.877Z"
   },
   {
    "duration": 241,
    "start_time": "2023-05-17T17:54:22.886Z"
   },
   {
    "duration": 15,
    "start_time": "2023-05-17T17:54:23.129Z"
   },
   {
    "duration": 311,
    "start_time": "2023-05-17T17:54:23.146Z"
   },
   {
    "duration": 11,
    "start_time": "2023-05-17T17:54:23.459Z"
   },
   {
    "duration": 198,
    "start_time": "2023-05-17T17:54:23.471Z"
   },
   {
    "duration": 309,
    "start_time": "2023-05-17T17:54:23.671Z"
   },
   {
    "duration": 5,
    "start_time": "2023-05-17T17:54:23.982Z"
   },
   {
    "duration": 194,
    "start_time": "2023-05-17T17:54:23.988Z"
   },
   {
    "duration": 193,
    "start_time": "2023-05-17T17:54:24.184Z"
   },
   {
    "duration": 5,
    "start_time": "2023-05-17T17:54:24.379Z"
   },
   {
    "duration": 82,
    "start_time": "2023-05-17T17:54:24.386Z"
   },
   {
    "duration": 64,
    "start_time": "2023-05-17T17:54:24.470Z"
   },
   {
    "duration": 58,
    "start_time": "2023-05-17T17:54:24.536Z"
   },
   {
    "duration": 74,
    "start_time": "2023-05-17T17:54:24.599Z"
   },
   {
    "duration": 21,
    "start_time": "2023-05-17T17:54:24.674Z"
   },
   {
    "duration": 6,
    "start_time": "2023-05-17T17:54:24.697Z"
   },
   {
    "duration": 45,
    "start_time": "2023-05-17T17:54:24.705Z"
   },
   {
    "duration": 7,
    "start_time": "2023-05-17T17:54:24.752Z"
   },
   {
    "duration": 35,
    "start_time": "2023-05-17T17:54:24.761Z"
   },
   {
    "duration": 17,
    "start_time": "2023-05-17T17:54:24.799Z"
   },
   {
    "duration": 20,
    "start_time": "2023-05-17T17:54:24.818Z"
   },
   {
    "duration": 42,
    "start_time": "2023-05-17T17:54:24.841Z"
   },
   {
    "duration": 361,
    "start_time": "2023-05-17T17:54:24.886Z"
   },
   {
    "duration": 15,
    "start_time": "2023-05-17T17:54:25.249Z"
   }
  ],
  "kernelspec": {
   "display_name": "Python 3 (ipykernel)",
   "language": "python",
   "name": "python3"
  },
  "language_info": {
   "codemirror_mode": {
    "name": "ipython",
    "version": 3
   },
   "file_extension": ".py",
   "mimetype": "text/x-python",
   "name": "python",
   "nbconvert_exporter": "python",
   "pygments_lexer": "ipython3",
   "version": "3.9.2"
  },
  "toc": {
   "base_numbering": 1,
   "nav_menu": {},
   "number_sections": true,
   "sideBar": true,
   "skip_h1_title": true,
   "title_cell": "Table of Contents",
   "title_sidebar": "Contents",
   "toc_cell": false,
   "toc_position": {},
   "toc_section_display": true,
   "toc_window_display": false
  }
 },
 "nbformat": 4,
 "nbformat_minor": 4
}
