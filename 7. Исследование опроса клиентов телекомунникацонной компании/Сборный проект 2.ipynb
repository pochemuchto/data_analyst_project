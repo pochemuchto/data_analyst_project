{
 "cells": [
  {
   "cell_type": "markdown",
   "id": "9722794f",
   "metadata": {},
   "source": [
    "# Анализ NPS"
   ]
  },
  {
   "cell_type": "markdown",
   "id": "1cf843a1",
   "metadata": {},
   "source": [
    "Заказчик данного исследования — большая телекоммуникационная компания, которая оказывает услуги на территории всего СНГ. Перед компанией стоит задача определить текущий уровень потребительской лояльности, или NPS (от англ. Net Promoter Score), среди клиентов из России.\n",
    "\n",
    "Компания провела опрос и попросила вас подготовить дашборд с его итогами. Большую базу данных для такой задачи разворачивать не стали и выгрузили данные в SQLite.\n",
    "\n",
    "Чтобы оценить результаты опроса, оценки обычно делят на три группы:\n",
    "- 9-10 баллов — «cторонники» (англ. promoters);\n",
    "- 7-8 баллов — «нейтралы» (англ. passives);\n",
    "- 0-6 баллов — «критики» (англ. detractors).\n",
    "\n",
    "Итоговое значение NPS рассчитывается по формуле: % «сторонников» - % «критиков»."
   ]
  },
  {
   "cell_type": "markdown",
   "id": "44cf1887",
   "metadata": {},
   "source": [
    "**Цель исследования** — ответить на следующие вопросы:\n",
    "\n",
    "- Как распределены участники опроса по возрасту, полу и возрасту? Каких пользователей больше: новых или старых? Пользователи из каких городов активнее участвовали в опросе?\n",
    "\n",
    "- Какие группы пользователей наиболее лояльны к сервису? Какие менее?\n",
    "\n",
    "- Какой общий NPS среди всех опрошенных?\n",
    "\n",
    "- Как можно описать клиентов, которые относятся к группе cторонников (англ. promoters)?"
   ]
  },
  {
   "cell_type": "code",
   "execution_count": 1,
   "id": "df5c5085",
   "metadata": {
    "tags": [
     "aa81075c-062f-4de0-b5fe-14c73dc7468e"
    ]
   },
   "outputs": [],
   "source": [
    "import pandas as pd\n",
    "import numpy as np\n",
    "\n",
    "from sqlalchemy import create_engine"
   ]
  },
  {
   "cell_type": "code",
   "execution_count": 2,
   "id": "942778e9",
   "metadata": {},
   "outputs": [],
   "source": [
    "path_to_db = '/datasets/telecomm_csi.db'\n",
    "engine = create_engine(f'sqlite:///{path_to_db}', echo = False)"
   ]
  },
  {
   "cell_type": "code",
   "execution_count": 3,
   "id": "1279772d",
   "metadata": {},
   "outputs": [],
   "source": [
    "query = \"\"\"\n",
    "SELECT u.user_id,\n",
    "       u.lt_day,\n",
    "       CASE \n",
    "           WHEN u.lt_day <= 365 THEN 'Новый'\n",
    "           ELSE 'Старый'\n",
    "           END AS is_new,\n",
    "       u.age,\n",
    "       CASE \n",
    "           WHEN u.gender_segment == 1 THEN 'Женщина'\n",
    "           WHEN u.gender_segment == 0 THEN 'Мужчина'\n",
    "           ELSE 'z'\n",
    "           END AS gender_segment,\n",
    "       u.os_name,\n",
    "       u.cpe_type_name,\n",
    "       location.country,\n",
    "       location.city,\n",
    "       SUBSTR(age_segment.title, 4) AS age_segment,\n",
    "       SUBSTR(traffic_segment.title, 4) AS traffic_segment,\n",
    "       SUBSTR(lifetime_segment.title, 4) AS lifetime_segment,\n",
    "       u.nps_score,\n",
    "       CASE \n",
    "           WHEN u.nps_score >= 9 THEN 'Cторонник'\n",
    "           WHEN u.nps_score >= 7 THEN 'Нейтрал'\n",
    "           ELSE 'Критик'\n",
    "           END AS nps_group\n",
    "FROM user AS u\n",
    "JOIN location ON u.location_id = location.location_id\n",
    "JOIN age_segment ON u.age_gr_id = age_segment.age_gr_id\n",
    "JOIN traffic_segment ON u.tr_gr_id = traffic_segment.tr_gr_id\n",
    "JOIN lifetime_segment ON u.lt_gr_id = lifetime_segment.lt_gr_id;\n",
    "\"\"\""
   ]
  },
  {
   "cell_type": "code",
   "execution_count": 4,
   "id": "9a462920",
   "metadata": {},
   "outputs": [
    {
     "data": {
      "text/html": [
       "<div>\n",
       "<style scoped>\n",
       "    .dataframe tbody tr th:only-of-type {\n",
       "        vertical-align: middle;\n",
       "    }\n",
       "\n",
       "    .dataframe tbody tr th {\n",
       "        vertical-align: top;\n",
       "    }\n",
       "\n",
       "    .dataframe thead th {\n",
       "        text-align: right;\n",
       "    }\n",
       "</style>\n",
       "<table border=\"1\" class=\"dataframe\">\n",
       "  <thead>\n",
       "    <tr style=\"text-align: right;\">\n",
       "      <th></th>\n",
       "      <th>user_id</th>\n",
       "      <th>lt_day</th>\n",
       "      <th>is_new</th>\n",
       "      <th>age</th>\n",
       "      <th>gender_segment</th>\n",
       "      <th>os_name</th>\n",
       "      <th>cpe_type_name</th>\n",
       "      <th>country</th>\n",
       "      <th>city</th>\n",
       "      <th>age_segment</th>\n",
       "      <th>traffic_segment</th>\n",
       "      <th>lifetime_segment</th>\n",
       "      <th>nps_score</th>\n",
       "      <th>nps_group</th>\n",
       "    </tr>\n",
       "  </thead>\n",
       "  <tbody>\n",
       "    <tr>\n",
       "      <th>335792</th>\n",
       "      <td>RDLG5G</td>\n",
       "      <td>4611</td>\n",
       "      <td>Старый</td>\n",
       "      <td>51.0</td>\n",
       "      <td>Женщина</td>\n",
       "      <td>ANDROID</td>\n",
       "      <td>SMARTPHONE</td>\n",
       "      <td>Россия</td>\n",
       "      <td>Астрахань</td>\n",
       "      <td>45-54</td>\n",
       "      <td>1-5</td>\n",
       "      <td>36+</td>\n",
       "      <td>7</td>\n",
       "      <td>Нейтрал</td>\n",
       "    </tr>\n",
       "    <tr>\n",
       "      <th>86724</th>\n",
       "      <td>EGYUD3</td>\n",
       "      <td>655</td>\n",
       "      <td>Старый</td>\n",
       "      <td>39.0</td>\n",
       "      <td>Женщина</td>\n",
       "      <td>ANDROID</td>\n",
       "      <td>SMARTPHONE</td>\n",
       "      <td>Россия</td>\n",
       "      <td>Уфа</td>\n",
       "      <td>35-44</td>\n",
       "      <td>30-35</td>\n",
       "      <td>13-24</td>\n",
       "      <td>7</td>\n",
       "      <td>Нейтрал</td>\n",
       "    </tr>\n",
       "    <tr>\n",
       "      <th>396055</th>\n",
       "      <td>UHXMEQ</td>\n",
       "      <td>5313</td>\n",
       "      <td>Старый</td>\n",
       "      <td>59.0</td>\n",
       "      <td>Мужчина</td>\n",
       "      <td>ANDROID</td>\n",
       "      <td>SMARTPHONE</td>\n",
       "      <td>Россия</td>\n",
       "      <td>СанктПетербург</td>\n",
       "      <td>55-64</td>\n",
       "      <td>15-20</td>\n",
       "      <td>36+</td>\n",
       "      <td>10</td>\n",
       "      <td>Cторонник</td>\n",
       "    </tr>\n",
       "    <tr>\n",
       "      <th>498792</th>\n",
       "      <td>ZSUIYW</td>\n",
       "      <td>861</td>\n",
       "      <td>Старый</td>\n",
       "      <td>28.0</td>\n",
       "      <td>Мужчина</td>\n",
       "      <td>ANDROID</td>\n",
       "      <td>SMARTPHONE</td>\n",
       "      <td>Россия</td>\n",
       "      <td>Махачкала</td>\n",
       "      <td>25-34</td>\n",
       "      <td>10-15</td>\n",
       "      <td>25-36</td>\n",
       "      <td>10</td>\n",
       "      <td>Cторонник</td>\n",
       "    </tr>\n",
       "    <tr>\n",
       "      <th>178986</th>\n",
       "      <td>J8PXUZ</td>\n",
       "      <td>210</td>\n",
       "      <td>Новый</td>\n",
       "      <td>23.0</td>\n",
       "      <td>Женщина</td>\n",
       "      <td>IOS</td>\n",
       "      <td>SMARTPHONE</td>\n",
       "      <td>Россия</td>\n",
       "      <td>Казань</td>\n",
       "      <td>16-24</td>\n",
       "      <td>5-10</td>\n",
       "      <td>7-12</td>\n",
       "      <td>7</td>\n",
       "      <td>Нейтрал</td>\n",
       "    </tr>\n",
       "    <tr>\n",
       "      <th>471916</th>\n",
       "      <td>YF3E5Y</td>\n",
       "      <td>3013</td>\n",
       "      <td>Старый</td>\n",
       "      <td>32.0</td>\n",
       "      <td>Женщина</td>\n",
       "      <td>ANDROID</td>\n",
       "      <td>SMARTPHONE</td>\n",
       "      <td>Россия</td>\n",
       "      <td>Махачкала</td>\n",
       "      <td>25-34</td>\n",
       "      <td>10-15</td>\n",
       "      <td>36+</td>\n",
       "      <td>7</td>\n",
       "      <td>Нейтрал</td>\n",
       "    </tr>\n",
       "    <tr>\n",
       "      <th>249349</th>\n",
       "      <td>MW6ORU</td>\n",
       "      <td>4079</td>\n",
       "      <td>Старый</td>\n",
       "      <td>45.0</td>\n",
       "      <td>Женщина</td>\n",
       "      <td>ANDROID</td>\n",
       "      <td>SMARTPHONE</td>\n",
       "      <td>Россия</td>\n",
       "      <td>Оренбург</td>\n",
       "      <td>45-54</td>\n",
       "      <td>0.01-0.1</td>\n",
       "      <td>36+</td>\n",
       "      <td>10</td>\n",
       "      <td>Cторонник</td>\n",
       "    </tr>\n",
       "    <tr>\n",
       "      <th>192582</th>\n",
       "      <td>JY8UNZ</td>\n",
       "      <td>642</td>\n",
       "      <td>Старый</td>\n",
       "      <td>52.0</td>\n",
       "      <td>Женщина</td>\n",
       "      <td>ANDROID</td>\n",
       "      <td>SMARTPHONE</td>\n",
       "      <td>Россия</td>\n",
       "      <td>Ульяновск</td>\n",
       "      <td>45-54</td>\n",
       "      <td>0.1-1</td>\n",
       "      <td>13-24</td>\n",
       "      <td>10</td>\n",
       "      <td>Cторонник</td>\n",
       "    </tr>\n",
       "    <tr>\n",
       "      <th>211702</th>\n",
       "      <td>KXRE6B</td>\n",
       "      <td>1320</td>\n",
       "      <td>Старый</td>\n",
       "      <td>32.0</td>\n",
       "      <td>Женщина</td>\n",
       "      <td>ANDROID</td>\n",
       "      <td>SMARTPHONE</td>\n",
       "      <td>Россия</td>\n",
       "      <td>Саратов</td>\n",
       "      <td>25-34</td>\n",
       "      <td>0.1-1</td>\n",
       "      <td>36+</td>\n",
       "      <td>4</td>\n",
       "      <td>Критик</td>\n",
       "    </tr>\n",
       "    <tr>\n",
       "      <th>232264</th>\n",
       "      <td>M08AF7</td>\n",
       "      <td>5702</td>\n",
       "      <td>Старый</td>\n",
       "      <td>33.0</td>\n",
       "      <td>Мужчина</td>\n",
       "      <td>IOS</td>\n",
       "      <td>SMARTPHONE</td>\n",
       "      <td>Россия</td>\n",
       "      <td>Волгоград</td>\n",
       "      <td>25-34</td>\n",
       "      <td>35-40</td>\n",
       "      <td>36+</td>\n",
       "      <td>1</td>\n",
       "      <td>Критик</td>\n",
       "    </tr>\n",
       "  </tbody>\n",
       "</table>\n",
       "</div>"
      ],
      "text/plain": [
       "       user_id  lt_day  is_new   age gender_segment  os_name cpe_type_name  \\\n",
       "335792  RDLG5G    4611  Старый  51.0        Женщина  ANDROID    SMARTPHONE   \n",
       "86724   EGYUD3     655  Старый  39.0        Женщина  ANDROID    SMARTPHONE   \n",
       "396055  UHXMEQ    5313  Старый  59.0        Мужчина  ANDROID    SMARTPHONE   \n",
       "498792  ZSUIYW     861  Старый  28.0        Мужчина  ANDROID    SMARTPHONE   \n",
       "178986  J8PXUZ     210   Новый  23.0        Женщина      IOS    SMARTPHONE   \n",
       "471916  YF3E5Y    3013  Старый  32.0        Женщина  ANDROID    SMARTPHONE   \n",
       "249349  MW6ORU    4079  Старый  45.0        Женщина  ANDROID    SMARTPHONE   \n",
       "192582  JY8UNZ     642  Старый  52.0        Женщина  ANDROID    SMARTPHONE   \n",
       "211702  KXRE6B    1320  Старый  32.0        Женщина  ANDROID    SMARTPHONE   \n",
       "232264  M08AF7    5702  Старый  33.0        Мужчина      IOS    SMARTPHONE   \n",
       "\n",
       "       country            city age_segment traffic_segment lifetime_segment  \\\n",
       "335792  Россия       Астрахань       45-54             1-5              36+   \n",
       "86724   Россия             Уфа       35-44           30-35            13-24   \n",
       "396055  Россия  СанктПетербург       55-64           15-20              36+   \n",
       "498792  Россия       Махачкала       25-34           10-15            25-36   \n",
       "178986  Россия          Казань       16-24            5-10             7-12   \n",
       "471916  Россия       Махачкала       25-34           10-15              36+   \n",
       "249349  Россия        Оренбург       45-54        0.01-0.1              36+   \n",
       "192582  Россия       Ульяновск       45-54           0.1-1            13-24   \n",
       "211702  Россия         Саратов       25-34           0.1-1              36+   \n",
       "232264  Россия       Волгоград       25-34           35-40              36+   \n",
       "\n",
       "        nps_score  nps_group  \n",
       "335792          7    Нейтрал  \n",
       "86724           7    Нейтрал  \n",
       "396055         10  Cторонник  \n",
       "498792         10  Cторонник  \n",
       "178986          7    Нейтрал  \n",
       "471916          7    Нейтрал  \n",
       "249349         10  Cторонник  \n",
       "192582         10  Cторонник  \n",
       "211702          4     Критик  \n",
       "232264          1     Критик  "
      ]
     },
     "execution_count": 4,
     "metadata": {},
     "output_type": "execute_result"
    }
   ],
   "source": [
    "df = pd.read_sql(query, engine)\n",
    "df.sample(10)"
   ]
  },
  {
   "cell_type": "markdown",
   "id": "a65978b8",
   "metadata": {},
   "source": [
    "В таблице 14 столбцов:\n",
    "\n",
    "- `user_id` — идентификатор клиента\n",
    "- `lt_day` — количество дней «жизни» клиента\n",
    "- `is_new` — поле хранит информацию о том, является ли клиент новым\n",
    "- `age` — возраст\n",
    "- `gender_segment` — пол\n",
    "- `os_name` — тип операционной системы\n",
    "- `cpe_type_name` — тип устройства\n",
    "- `country` — страна проживания\n",
    "- `city` — город проживания\n",
    "- `age_segment` — возрастной сегмент\n",
    "- `traffic_segment` — сегмент по объёму потребляемого трафика\n",
    "- `lifetime_segment` — сегмент по количеству дней «жизни»\n",
    "- `nps_score` — оценка клиента в NPS-опросе\n",
    "- `nps_group` — поле хранит информацию о том, к какой группе относится оценка клиента в опросе"
   ]
  },
  {
   "cell_type": "code",
   "execution_count": 5,
   "id": "7817b825",
   "metadata": {},
   "outputs": [
    {
     "name": "stdout",
     "output_type": "stream",
     "text": [
      "<class 'pandas.core.frame.DataFrame'>\n",
      "RangeIndex: 502493 entries, 0 to 502492\n",
      "Data columns (total 14 columns):\n",
      " #   Column            Non-Null Count   Dtype  \n",
      "---  ------            --------------   -----  \n",
      " 0   user_id           502493 non-null  object \n",
      " 1   lt_day            502493 non-null  int64  \n",
      " 2   is_new            502493 non-null  object \n",
      " 3   age               501939 non-null  float64\n",
      " 4   gender_segment    502493 non-null  object \n",
      " 5   os_name           502493 non-null  object \n",
      " 6   cpe_type_name     502493 non-null  object \n",
      " 7   country           502493 non-null  object \n",
      " 8   city              502493 non-null  object \n",
      " 9   age_segment       502493 non-null  object \n",
      " 10  traffic_segment   502493 non-null  object \n",
      " 11  lifetime_segment  502493 non-null  object \n",
      " 12  nps_score         502493 non-null  int64  \n",
      " 13  nps_group         502493 non-null  object \n",
      "dtypes: float64(1), int64(2), object(11)\n",
      "memory usage: 53.7+ MB\n"
     ]
    }
   ],
   "source": [
    "df.info()"
   ]
  },
  {
   "cell_type": "code",
   "execution_count": 6,
   "id": "1165f8de",
   "metadata": {},
   "outputs": [],
   "source": [
    "df.to_csv('telecomm_csi_tableau.csv', index=False)"
   ]
  },
  {
   "cell_type": "markdown",
   "id": "da6cd44e",
   "metadata": {},
   "source": [
    "# Ссылка на дашборд вTableau Public:"
   ]
  },
  {
   "cell_type": "markdown",
   "id": "cca915bd",
   "metadata": {},
   "source": [
    "https://public.tableau.com/app/profile/pochemuchto/viz/NPS_16489136364110/NPS_1"
   ]
  },
  {
   "cell_type": "markdown",
   "id": "919a025d",
   "metadata": {},
   "source": [
    "# Cсылка на pdf-файл с презентацией:"
   ]
  },
  {
   "cell_type": "markdown",
   "id": "5eddb7c4",
   "metadata": {},
   "source": [
    "https://disk.yandex.ru/i/HM07ovO66NnKfA"
   ]
  }
 ],
 "metadata": {
  "ExecuteTimeLog": [
   {
    "duration": 752,
    "start_time": "2021-10-03T17:40:52.731Z"
   },
   {
    "duration": 20,
    "start_time": "2021-10-03T17:40:53.486Z"
   },
   {
    "duration": 4,
    "start_time": "2021-10-03T17:41:04.638Z"
   },
   {
    "duration": 461,
    "start_time": "2021-10-03T17:41:04.912Z"
   },
   {
    "duration": 284,
    "start_time": "2021-10-03T17:41:05.376Z"
   },
   {
    "duration": 574,
    "start_time": "2021-10-06T07:55:05.029Z"
   },
   {
    "duration": 6,
    "start_time": "2021-10-06T07:55:05.605Z"
   },
   {
    "duration": 3,
    "start_time": "2021-10-06T07:55:14.685Z"
   },
   {
    "duration": 406,
    "start_time": "2021-10-06T07:55:15.522Z"
   },
   {
    "duration": 67,
    "start_time": "2021-10-06T07:55:15.929Z"
   },
   {
    "duration": 840,
    "start_time": "2021-10-07T07:54:04.647Z"
   },
   {
    "duration": 10,
    "start_time": "2021-10-07T07:54:05.490Z"
   },
   {
    "duration": 4,
    "start_time": "2021-10-07T07:54:05.544Z"
   },
   {
    "duration": 391,
    "start_time": "2021-10-07T07:54:06.237Z"
   },
   {
    "duration": 293,
    "start_time": "2021-10-07T07:54:06.654Z"
   },
   {
    "duration": 693,
    "start_time": "2022-03-30T14:06:32.071Z"
   },
   {
    "duration": 22,
    "start_time": "2022-03-30T14:06:32.767Z"
   },
   {
    "duration": 4,
    "start_time": "2022-03-30T14:06:32.791Z"
   },
   {
    "duration": 261,
    "start_time": "2022-03-30T14:06:32.798Z"
   },
   {
    "duration": 477,
    "start_time": "2022-03-30T14:06:33.061Z"
   },
   {
    "duration": 3,
    "start_time": "2022-03-30T14:15:59.163Z"
   },
   {
    "duration": 9016,
    "start_time": "2022-03-30T14:16:01.589Z"
   },
   {
    "duration": 5014,
    "start_time": "2022-03-30T14:16:10.609Z"
   },
   {
    "duration": 4,
    "start_time": "2022-03-30T14:17:09.694Z"
   },
   {
    "duration": 212,
    "start_time": "2022-03-30T14:17:10.532Z"
   },
   {
    "duration": 4,
    "start_time": "2022-03-30T14:33:28.143Z"
   },
   {
    "duration": 7058,
    "start_time": "2022-03-30T14:33:29.429Z"
   },
   {
    "duration": 4,
    "start_time": "2022-03-30T15:19:45.266Z"
   },
   {
    "duration": 470,
    "start_time": "2022-03-30T15:19:47.106Z"
   },
   {
    "duration": 893,
    "start_time": "2022-03-30T15:20:36.020Z"
   },
   {
    "duration": 19,
    "start_time": "2022-03-30T15:20:36.917Z"
   },
   {
    "duration": 4,
    "start_time": "2022-03-30T15:20:36.939Z"
   },
   {
    "duration": 795,
    "start_time": "2022-03-30T15:20:36.946Z"
   },
   {
    "duration": 0,
    "start_time": "2022-03-30T15:20:37.744Z"
   },
   {
    "duration": 4,
    "start_time": "2022-03-30T15:20:59.689Z"
   },
   {
    "duration": 4,
    "start_time": "2022-03-30T15:21:14.256Z"
   },
   {
    "duration": 5,
    "start_time": "2022-03-30T15:21:14.777Z"
   },
   {
    "duration": 3,
    "start_time": "2022-03-30T15:21:15.716Z"
   },
   {
    "duration": 440,
    "start_time": "2022-03-30T15:21:16.368Z"
   },
   {
    "duration": 4,
    "start_time": "2022-03-30T15:21:25.455Z"
   },
   {
    "duration": 4,
    "start_time": "2022-03-30T15:21:56.464Z"
   },
   {
    "duration": 4,
    "start_time": "2022-03-30T15:21:56.854Z"
   },
   {
    "duration": 5,
    "start_time": "2022-03-30T15:21:57.249Z"
   },
   {
    "duration": 7400,
    "start_time": "2022-03-30T15:21:57.605Z"
   },
   {
    "duration": 696,
    "start_time": "2022-03-30T15:24:30.826Z"
   },
   {
    "duration": 13,
    "start_time": "2022-03-30T15:24:31.525Z"
   },
   {
    "duration": 5,
    "start_time": "2022-03-30T15:24:31.541Z"
   },
   {
    "duration": 241,
    "start_time": "2022-03-30T15:24:31.548Z"
   },
   {
    "duration": 143,
    "start_time": "2022-03-30T15:24:31.793Z"
   },
   {
    "duration": 540,
    "start_time": "2022-03-30T17:43:23.675Z"
   },
   {
    "duration": 9,
    "start_time": "2022-03-30T17:43:24.217Z"
   },
   {
    "duration": 9,
    "start_time": "2022-03-30T17:43:24.228Z"
   },
   {
    "duration": 5365,
    "start_time": "2022-03-30T17:43:24.239Z"
   },
   {
    "duration": 3835,
    "start_time": "2022-03-30T17:43:29.606Z"
   },
   {
    "duration": 557,
    "start_time": "2022-03-30T17:43:50.207Z"
   },
   {
    "duration": 11,
    "start_time": "2022-03-30T17:43:50.766Z"
   },
   {
    "duration": 3,
    "start_time": "2022-03-30T17:43:50.779Z"
   },
   {
    "duration": 339,
    "start_time": "2022-03-30T17:43:50.785Z"
   },
   {
    "duration": 0,
    "start_time": "2022-03-30T17:43:51.127Z"
   },
   {
    "duration": 504,
    "start_time": "2022-03-30T17:44:47.157Z"
   },
   {
    "duration": 9,
    "start_time": "2022-03-30T17:44:47.663Z"
   },
   {
    "duration": 3,
    "start_time": "2022-03-30T17:44:47.674Z"
   },
   {
    "duration": 331,
    "start_time": "2022-03-30T17:44:47.679Z"
   },
   {
    "duration": 0,
    "start_time": "2022-03-30T17:44:48.012Z"
   },
   {
    "duration": 501,
    "start_time": "2022-03-30T17:56:26.380Z"
   },
   {
    "duration": 9,
    "start_time": "2022-03-30T17:56:26.884Z"
   },
   {
    "duration": 12,
    "start_time": "2022-03-30T17:56:26.894Z"
   },
   {
    "duration": 376,
    "start_time": "2022-03-30T17:56:26.907Z"
   },
   {
    "duration": 0,
    "start_time": "2022-03-30T17:56:27.285Z"
   },
   {
    "duration": 3,
    "start_time": "2022-03-30T17:57:09.987Z"
   },
   {
    "duration": 265,
    "start_time": "2022-03-30T17:57:10.490Z"
   },
   {
    "duration": 3,
    "start_time": "2022-03-30T17:58:26.389Z"
   },
   {
    "duration": 277,
    "start_time": "2022-03-30T17:58:27.309Z"
   },
   {
    "duration": 4,
    "start_time": "2022-03-30T17:59:29.566Z"
   },
   {
    "duration": 271,
    "start_time": "2022-03-30T17:59:30.070Z"
   },
   {
    "duration": 515,
    "start_time": "2022-03-30T18:02:10.929Z"
   },
   {
    "duration": 9,
    "start_time": "2022-03-30T18:02:11.446Z"
   },
   {
    "duration": 14,
    "start_time": "2022-03-30T18:02:11.456Z"
   },
   {
    "duration": 3913,
    "start_time": "2022-03-30T18:02:11.472Z"
   },
   {
    "duration": 2801,
    "start_time": "2022-03-30T18:02:15.387Z"
   },
   {
    "duration": 3,
    "start_time": "2022-03-30T18:04:58.092Z"
   },
   {
    "duration": 4045,
    "start_time": "2022-03-30T18:04:58.839Z"
   },
   {
    "duration": 549,
    "start_time": "2022-03-30T18:05:10.507Z"
   },
   {
    "duration": 9,
    "start_time": "2022-03-30T18:05:11.058Z"
   },
   {
    "duration": 3,
    "start_time": "2022-03-30T18:05:11.069Z"
   },
   {
    "duration": 4118,
    "start_time": "2022-03-30T18:05:11.074Z"
   },
   {
    "duration": 2869,
    "start_time": "2022-03-30T18:05:15.194Z"
   },
   {
    "duration": 3,
    "start_time": "2022-03-30T18:05:56.773Z"
   },
   {
    "duration": 318,
    "start_time": "2022-03-30T18:05:57.893Z"
   },
   {
    "duration": 3,
    "start_time": "2022-03-30T18:07:34.319Z"
   },
   {
    "duration": 4076,
    "start_time": "2022-03-30T18:07:34.847Z"
   },
   {
    "duration": 4242,
    "start_time": "2022-03-30T18:07:54.128Z"
   },
   {
    "duration": 3,
    "start_time": "2022-03-30T18:09:20.853Z"
   },
   {
    "duration": 280,
    "start_time": "2022-03-30T18:09:21.708Z"
   },
   {
    "duration": 3,
    "start_time": "2022-03-30T18:09:25.051Z"
   },
   {
    "duration": 4562,
    "start_time": "2022-03-30T18:09:25.298Z"
   },
   {
    "duration": 4499,
    "start_time": "2022-03-30T18:09:37.019Z"
   },
   {
    "duration": 3,
    "start_time": "2022-03-30T18:09:46.210Z"
   },
   {
    "duration": 4602,
    "start_time": "2022-03-30T18:09:46.701Z"
   },
   {
    "duration": 3,
    "start_time": "2022-03-30T18:11:10.731Z"
   },
   {
    "duration": 4541,
    "start_time": "2022-03-30T18:11:12.013Z"
   },
   {
    "duration": 3,
    "start_time": "2022-03-30T18:13:56.962Z"
   },
   {
    "duration": 4915,
    "start_time": "2022-03-30T18:13:57.481Z"
   },
   {
    "duration": 3,
    "start_time": "2022-03-30T18:14:28.035Z"
   },
   {
    "duration": 4709,
    "start_time": "2022-03-30T18:14:28.427Z"
   },
   {
    "duration": 3,
    "start_time": "2022-03-30T18:17:31.928Z"
   },
   {
    "duration": 268,
    "start_time": "2022-03-30T18:17:32.595Z"
   },
   {
    "duration": 3,
    "start_time": "2022-03-30T18:18:22.970Z"
   },
   {
    "duration": 273,
    "start_time": "2022-03-30T18:18:24.725Z"
   },
   {
    "duration": 3,
    "start_time": "2022-03-30T18:18:36.842Z"
   },
   {
    "duration": 266,
    "start_time": "2022-03-30T18:18:38.537Z"
   },
   {
    "duration": 3,
    "start_time": "2022-03-30T18:18:54.545Z"
   },
   {
    "duration": 257,
    "start_time": "2022-03-30T18:18:54.940Z"
   },
   {
    "duration": 3,
    "start_time": "2022-03-30T18:19:18.517Z"
   },
   {
    "duration": 4886,
    "start_time": "2022-03-30T18:19:18.522Z"
   },
   {
    "duration": 475,
    "start_time": "2022-03-30T18:20:37.693Z"
   },
   {
    "duration": 10,
    "start_time": "2022-03-30T18:20:38.170Z"
   },
   {
    "duration": 3,
    "start_time": "2022-03-30T18:20:38.182Z"
   },
   {
    "duration": 4768,
    "start_time": "2022-03-30T18:20:38.187Z"
   },
   {
    "duration": 3268,
    "start_time": "2022-03-30T18:20:42.957Z"
   },
   {
    "duration": 3,
    "start_time": "2022-03-30T18:21:34.953Z"
   },
   {
    "duration": 335,
    "start_time": "2022-03-30T18:21:35.291Z"
   },
   {
    "duration": 4,
    "start_time": "2022-03-30T18:21:53.586Z"
   },
   {
    "duration": 4739,
    "start_time": "2022-03-30T18:22:01.044Z"
   },
   {
    "duration": 4,
    "start_time": "2022-03-30T18:24:30.560Z"
   },
   {
    "duration": 5225,
    "start_time": "2022-03-30T18:24:30.933Z"
   },
   {
    "duration": 3,
    "start_time": "2022-03-30T18:27:37.767Z"
   },
   {
    "duration": 5330,
    "start_time": "2022-03-30T18:27:38.044Z"
   },
   {
    "duration": 8,
    "start_time": "2022-03-30T18:28:17.018Z"
   },
   {
    "duration": 589,
    "start_time": "2022-03-30T18:39:16.786Z"
   },
   {
    "duration": 18,
    "start_time": "2022-03-30T18:39:17.377Z"
   },
   {
    "duration": 3,
    "start_time": "2022-03-30T18:39:17.398Z"
   },
   {
    "duration": 5256,
    "start_time": "2022-03-30T18:39:17.408Z"
   },
   {
    "duration": 586,
    "start_time": "2022-03-30T18:39:22.666Z"
   },
   {
    "duration": 3432,
    "start_time": "2022-03-30T18:39:23.254Z"
   },
   {
    "duration": 2,
    "start_time": "2022-03-30T18:48:42.483Z"
   },
   {
    "duration": 5011,
    "start_time": "2022-03-30T18:48:42.863Z"
   },
   {
    "duration": 585,
    "start_time": "2022-03-30T18:48:48.264Z"
   },
   {
    "duration": 5123,
    "start_time": "2022-03-30T19:07:46.577Z"
   },
   {
    "duration": 513,
    "start_time": "2022-03-30T19:20:18.935Z"
   },
   {
    "duration": 9,
    "start_time": "2022-03-30T19:20:19.450Z"
   },
   {
    "duration": 4,
    "start_time": "2022-03-30T19:20:19.460Z"
   },
   {
    "duration": 5263,
    "start_time": "2022-03-30T19:20:19.465Z"
   },
   {
    "duration": 593,
    "start_time": "2022-03-30T19:20:24.730Z"
   },
   {
    "duration": 3603,
    "start_time": "2022-03-30T19:20:25.324Z"
   },
   {
    "duration": 579,
    "start_time": "2022-03-31T12:58:05.511Z"
   },
   {
    "duration": 12,
    "start_time": "2022-03-31T12:58:06.092Z"
   },
   {
    "duration": 4,
    "start_time": "2022-03-31T12:58:06.106Z"
   },
   {
    "duration": 6103,
    "start_time": "2022-03-31T12:58:06.112Z"
   },
   {
    "duration": 637,
    "start_time": "2022-03-31T12:58:12.216Z"
   },
   {
    "duration": 6223,
    "start_time": "2022-03-31T12:58:12.868Z"
   },
   {
    "duration": 616,
    "start_time": "2022-04-02T12:33:24.583Z"
   },
   {
    "duration": 13,
    "start_time": "2022-04-02T12:33:25.202Z"
   },
   {
    "duration": 4,
    "start_time": "2022-04-02T12:33:25.217Z"
   },
   {
    "duration": 6512,
    "start_time": "2022-04-02T12:33:25.223Z"
   },
   {
    "duration": 626,
    "start_time": "2022-04-02T12:33:31.738Z"
   },
   {
    "duration": 6284,
    "start_time": "2022-04-02T12:33:32.366Z"
   },
   {
    "duration": 528,
    "start_time": "2022-04-03T04:12:39.149Z"
   },
   {
    "duration": 10,
    "start_time": "2022-04-03T04:12:39.679Z"
   },
   {
    "duration": 4,
    "start_time": "2022-04-03T04:12:39.690Z"
   },
   {
    "duration": 5470,
    "start_time": "2022-04-03T04:12:39.696Z"
   },
   {
    "duration": 626,
    "start_time": "2022-04-03T04:12:45.168Z"
   },
   {
    "duration": 3834,
    "start_time": "2022-04-03T04:12:45.796Z"
   },
   {
    "duration": 49,
    "start_time": "2022-04-03T11:54:44.522Z"
   },
   {
    "duration": 6,
    "start_time": "2022-04-03T11:54:56.981Z"
   },
   {
    "duration": 511,
    "start_time": "2022-04-03T11:55:19.444Z"
   },
   {
    "duration": 10,
    "start_time": "2022-04-03T11:55:19.957Z"
   },
   {
    "duration": 3,
    "start_time": "2022-04-03T11:55:19.969Z"
   },
   {
    "duration": 4932,
    "start_time": "2022-04-03T11:55:19.974Z"
   },
   {
    "duration": 125,
    "start_time": "2022-04-03T11:55:24.908Z"
   },
   {
    "duration": 545,
    "start_time": "2022-04-03T11:55:25.034Z"
   },
   {
    "duration": 4634,
    "start_time": "2022-04-03T11:55:25.581Z"
   },
   {
    "duration": 554,
    "start_time": "2022-04-03T12:25:51.296Z"
   },
   {
    "duration": 10,
    "start_time": "2022-04-03T12:25:51.852Z"
   },
   {
    "duration": 6,
    "start_time": "2022-04-03T12:25:51.864Z"
   },
   {
    "duration": 300,
    "start_time": "2022-04-03T12:25:51.872Z"
   },
   {
    "duration": 0,
    "start_time": "2022-04-03T12:25:52.174Z"
   },
   {
    "duration": 0,
    "start_time": "2022-04-03T12:25:52.175Z"
   },
   {
    "duration": 3,
    "start_time": "2022-04-03T12:27:45.998Z"
   },
   {
    "duration": 281,
    "start_time": "2022-04-03T12:27:47.975Z"
   },
   {
    "duration": 574,
    "start_time": "2022-04-03T12:27:58.379Z"
   },
   {
    "duration": 11,
    "start_time": "2022-04-03T12:27:58.956Z"
   },
   {
    "duration": 3,
    "start_time": "2022-04-03T12:27:58.969Z"
   },
   {
    "duration": 312,
    "start_time": "2022-04-03T12:27:58.974Z"
   },
   {
    "duration": 0,
    "start_time": "2022-04-03T12:27:59.289Z"
   },
   {
    "duration": 0,
    "start_time": "2022-04-03T12:27:59.290Z"
   },
   {
    "duration": 3,
    "start_time": "2022-04-03T12:28:32.055Z"
   },
   {
    "duration": 231,
    "start_time": "2022-04-03T12:28:33.036Z"
   },
   {
    "duration": 554,
    "start_time": "2022-04-03T12:29:01.357Z"
   },
   {
    "duration": 10,
    "start_time": "2022-04-03T12:29:01.913Z"
   },
   {
    "duration": 14,
    "start_time": "2022-04-03T12:29:01.925Z"
   },
   {
    "duration": 361,
    "start_time": "2022-04-03T12:29:01.942Z"
   },
   {
    "duration": 0,
    "start_time": "2022-04-03T12:29:02.306Z"
   },
   {
    "duration": 0,
    "start_time": "2022-04-03T12:29:02.307Z"
   },
   {
    "duration": 3,
    "start_time": "2022-04-03T12:29:52.607Z"
   },
   {
    "duration": 273,
    "start_time": "2022-04-03T12:29:53.008Z"
   },
   {
    "duration": 3,
    "start_time": "2022-04-03T12:30:08.163Z"
   },
   {
    "duration": 230,
    "start_time": "2022-04-03T12:30:08.555Z"
   },
   {
    "duration": 5,
    "start_time": "2022-04-03T12:32:57.113Z"
   },
   {
    "duration": 5365,
    "start_time": "2022-04-03T12:32:57.617Z"
   },
   {
    "duration": 3,
    "start_time": "2022-04-03T12:34:07.027Z"
   },
   {
    "duration": 5456,
    "start_time": "2022-04-03T12:34:07.623Z"
   },
   {
    "duration": 4,
    "start_time": "2022-04-03T12:34:40.738Z"
   },
   {
    "duration": 5376,
    "start_time": "2022-04-03T12:34:41.052Z"
   },
   {
    "duration": 4,
    "start_time": "2022-04-03T12:34:51.600Z"
   },
   {
    "duration": 5451,
    "start_time": "2022-04-03T12:34:52.021Z"
   },
   {
    "duration": 4,
    "start_time": "2022-04-03T12:35:44.739Z"
   },
   {
    "duration": 5149,
    "start_time": "2022-04-03T12:35:45.178Z"
   },
   {
    "duration": 4,
    "start_time": "2022-04-03T12:36:36.906Z"
   },
   {
    "duration": 311,
    "start_time": "2022-04-03T12:36:37.541Z"
   },
   {
    "duration": 3,
    "start_time": "2022-04-03T12:36:43.217Z"
   },
   {
    "duration": 5230,
    "start_time": "2022-04-03T12:36:43.612Z"
   },
   {
    "duration": 592,
    "start_time": "2022-04-03T12:39:32.060Z"
   },
   {
    "duration": 11,
    "start_time": "2022-04-03T12:39:32.654Z"
   },
   {
    "duration": 5,
    "start_time": "2022-04-03T12:39:32.667Z"
   },
   {
    "duration": 5340,
    "start_time": "2022-04-03T12:39:32.674Z"
   },
   {
    "duration": 611,
    "start_time": "2022-04-03T12:39:38.016Z"
   },
   {
    "duration": 5205,
    "start_time": "2022-04-03T12:39:38.629Z"
   },
   {
    "duration": 120,
    "start_time": "2022-04-03T12:40:16.811Z"
   },
   {
    "duration": 3,
    "start_time": "2022-04-03T12:43:20.930Z"
   },
   {
    "duration": 386,
    "start_time": "2022-04-03T12:43:21.532Z"
   },
   {
    "duration": 3,
    "start_time": "2022-04-03T12:44:00.935Z"
   },
   {
    "duration": 5334,
    "start_time": "2022-04-03T12:44:01.285Z"
   },
   {
    "duration": 587,
    "start_time": "2022-04-03T14:03:59.628Z"
   },
   {
    "duration": 12,
    "start_time": "2022-04-03T14:04:00.218Z"
   },
   {
    "duration": 5,
    "start_time": "2022-04-03T14:04:00.233Z"
   },
   {
    "duration": 5609,
    "start_time": "2022-04-03T14:04:00.240Z"
   },
   {
    "duration": 635,
    "start_time": "2022-04-03T14:04:05.852Z"
   },
   {
    "duration": 4814,
    "start_time": "2022-04-03T14:04:06.501Z"
   },
   {
    "duration": 680,
    "start_time": "2022-04-04T03:16:47.787Z"
   },
   {
    "duration": 18,
    "start_time": "2022-04-04T03:16:48.470Z"
   },
   {
    "duration": 4,
    "start_time": "2022-04-04T03:16:48.490Z"
   },
   {
    "duration": 7370,
    "start_time": "2022-04-04T03:16:48.496Z"
   },
   {
    "duration": 764,
    "start_time": "2022-04-04T03:16:55.869Z"
   },
   {
    "duration": 5850,
    "start_time": "2022-04-04T03:16:56.635Z"
   }
  ],
  "kernelspec": {
   "display_name": "Python 3 (ipykernel)",
   "language": "python",
   "name": "python3"
  },
  "language_info": {
   "codemirror_mode": {
    "name": "ipython",
    "version": 3
   },
   "file_extension": ".py",
   "mimetype": "text/x-python",
   "name": "python",
   "nbconvert_exporter": "python",
   "pygments_lexer": "ipython3",
   "version": "3.9.2"
  },
  "toc": {
   "base_numbering": 1,
   "nav_menu": {},
   "number_sections": true,
   "sideBar": true,
   "skip_h1_title": true,
   "title_cell": "Table of Contents",
   "title_sidebar": "Contents",
   "toc_cell": false,
   "toc_position": {},
   "toc_section_display": true,
   "toc_window_display": false
  }
 },
 "nbformat": 4,
 "nbformat_minor": 5
}
