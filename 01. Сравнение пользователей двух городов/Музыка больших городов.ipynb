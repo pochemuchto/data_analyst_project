{
 "cells": [
  {
   "cell_type": "markdown",
   "metadata": {
    "id": "E0vqbgi9ay0H"
   },
   "source": [
    "# Яндекс.Музыка"
   ]
  },
  {
   "cell_type": "markdown",
   "metadata": {
    "id": "VUC88oWjTJw2"
   },
   "source": [
    "Сравнение Москвы и Петербурга окружено мифами. Например:\n",
    " * Москва — мегаполис, подчинённый жёсткому ритму рабочей недели;\n",
    " * Петербург — культурная столица, со своими вкусами.\n",
    "\n",
    "На данных Яндекс.Музыки вы сравните поведение пользователей двух столиц.\n",
    "\n",
    "**Цель исследования** — проверьте три гипотезы:\n",
    "1. Активность пользователей зависит от дня недели. Причём в Москве и Петербурге это проявляется по-разному.\n",
    "2. В понедельник утром в Москве преобладают одни жанры, а в Петербурге — другие. Так же и вечером пятницы преобладают разные жанры — в зависимости от города. \n",
    "3. Москва и Петербург предпочитают разные жанры музыки. В Москве чаще слушают поп-музыку, в Петербурге — русский рэп.\n",
    "\n",
    "**Ход исследования**\n",
    "\n",
    "Данные о поведении пользователей вы получите из файла `yandex_music_project.csv`. О качестве данных ничего не известно. Поэтому перед проверкой гипотез понадобится обзор данных. \n",
    "\n",
    "Вы проверите данные на ошибки и оцените их влияние на исследование. Затем, на этапе предобработки вы поищете возможность исправить самые критичные ошибки данных.\n",
    " \n",
    "Таким образом, исследование пройдёт в три этапа:\n",
    " 1. Обзор данных.\n",
    " 2. Предобработка данных.\n",
    " 3. Проверка гипотез.\n",
    "\n"
   ]
  },
  {
   "cell_type": "markdown",
   "metadata": {
    "id": "Ml1hmfXC_Zcs"
   },
   "source": [
    "## Обзор данных\n",
    "\n",
    "Составьте первое представление о данных Яндекс.Музыки."
   ]
  },
  {
   "cell_type": "markdown",
   "metadata": {
    "id": "57eAOGIz_Zcs"
   },
   "source": [
    "Основной инструмент аналитика — `pandas`. Импортируйте эту библиотеку."
   ]
  },
  {
   "cell_type": "code",
   "execution_count": 1,
   "metadata": {
    "id": "AXN7PHPN_Zcs"
   },
   "outputs": [],
   "source": [
    "import pandas as pd # импорт библиотеки pandas"
   ]
  },
  {
   "cell_type": "markdown",
   "metadata": {
    "id": "SG23P8tt_Zcs"
   },
   "source": [
    "Прочитайте файл `yandex_music_project.csv` из папки `/datasets` и сохраните его в переменной `df`:"
   ]
  },
  {
   "cell_type": "code",
   "execution_count": 2,
   "metadata": {
    "id": "fFVu7vqh_Zct"
   },
   "outputs": [],
   "source": [
    "df = pd.read_csv('/datasets/yandex_music_project.csv') # чтение файла с данными и сохранение в df"
   ]
  },
  {
   "cell_type": "markdown",
   "metadata": {
    "id": "rDoOMd3uTqnZ"
   },
   "source": [
    "Выведите на экран первые десять строк таблицы:"
   ]
  },
  {
   "cell_type": "code",
   "execution_count": 3,
   "metadata": {
    "id": "oWTVX3gW_Zct"
   },
   "outputs": [
    {
     "data": {
      "text/html": [
       "<div>\n",
       "<style scoped>\n",
       "    .dataframe tbody tr th:only-of-type {\n",
       "        vertical-align: middle;\n",
       "    }\n",
       "\n",
       "    .dataframe tbody tr th {\n",
       "        vertical-align: top;\n",
       "    }\n",
       "\n",
       "    .dataframe thead th {\n",
       "        text-align: right;\n",
       "    }\n",
       "</style>\n",
       "<table border=\"1\" class=\"dataframe\">\n",
       "  <thead>\n",
       "    <tr style=\"text-align: right;\">\n",
       "      <th></th>\n",
       "      <th>userID</th>\n",
       "      <th>Track</th>\n",
       "      <th>artist</th>\n",
       "      <th>genre</th>\n",
       "      <th>City</th>\n",
       "      <th>time</th>\n",
       "      <th>Day</th>\n",
       "    </tr>\n",
       "  </thead>\n",
       "  <tbody>\n",
       "    <tr>\n",
       "      <td>0</td>\n",
       "      <td>FFB692EC</td>\n",
       "      <td>Kamigata To Boots</td>\n",
       "      <td>The Mass Missile</td>\n",
       "      <td>rock</td>\n",
       "      <td>Saint-Petersburg</td>\n",
       "      <td>20:28:33</td>\n",
       "      <td>Wednesday</td>\n",
       "    </tr>\n",
       "    <tr>\n",
       "      <td>1</td>\n",
       "      <td>55204538</td>\n",
       "      <td>Delayed Because of Accident</td>\n",
       "      <td>Andreas Rönnberg</td>\n",
       "      <td>rock</td>\n",
       "      <td>Moscow</td>\n",
       "      <td>14:07:09</td>\n",
       "      <td>Friday</td>\n",
       "    </tr>\n",
       "    <tr>\n",
       "      <td>2</td>\n",
       "      <td>20EC38</td>\n",
       "      <td>Funiculì funiculà</td>\n",
       "      <td>Mario Lanza</td>\n",
       "      <td>pop</td>\n",
       "      <td>Saint-Petersburg</td>\n",
       "      <td>20:58:07</td>\n",
       "      <td>Wednesday</td>\n",
       "    </tr>\n",
       "    <tr>\n",
       "      <td>3</td>\n",
       "      <td>A3DD03C9</td>\n",
       "      <td>Dragons in the Sunset</td>\n",
       "      <td>Fire + Ice</td>\n",
       "      <td>folk</td>\n",
       "      <td>Saint-Petersburg</td>\n",
       "      <td>08:37:09</td>\n",
       "      <td>Monday</td>\n",
       "    </tr>\n",
       "    <tr>\n",
       "      <td>4</td>\n",
       "      <td>E2DC1FAE</td>\n",
       "      <td>Soul People</td>\n",
       "      <td>Space Echo</td>\n",
       "      <td>dance</td>\n",
       "      <td>Moscow</td>\n",
       "      <td>08:34:34</td>\n",
       "      <td>Monday</td>\n",
       "    </tr>\n",
       "    <tr>\n",
       "      <td>5</td>\n",
       "      <td>842029A1</td>\n",
       "      <td>Преданная</td>\n",
       "      <td>IMPERVTOR</td>\n",
       "      <td>rusrap</td>\n",
       "      <td>Saint-Petersburg</td>\n",
       "      <td>13:09:41</td>\n",
       "      <td>Friday</td>\n",
       "    </tr>\n",
       "    <tr>\n",
       "      <td>6</td>\n",
       "      <td>4CB90AA5</td>\n",
       "      <td>True</td>\n",
       "      <td>Roman Messer</td>\n",
       "      <td>dance</td>\n",
       "      <td>Moscow</td>\n",
       "      <td>13:00:07</td>\n",
       "      <td>Wednesday</td>\n",
       "    </tr>\n",
       "    <tr>\n",
       "      <td>7</td>\n",
       "      <td>F03E1C1F</td>\n",
       "      <td>Feeling This Way</td>\n",
       "      <td>Polina Griffith</td>\n",
       "      <td>dance</td>\n",
       "      <td>Moscow</td>\n",
       "      <td>20:47:49</td>\n",
       "      <td>Wednesday</td>\n",
       "    </tr>\n",
       "    <tr>\n",
       "      <td>8</td>\n",
       "      <td>8FA1D3BE</td>\n",
       "      <td>И вновь продолжается бой</td>\n",
       "      <td>NaN</td>\n",
       "      <td>ruspop</td>\n",
       "      <td>Moscow</td>\n",
       "      <td>09:17:40</td>\n",
       "      <td>Friday</td>\n",
       "    </tr>\n",
       "    <tr>\n",
       "      <td>9</td>\n",
       "      <td>E772D5C0</td>\n",
       "      <td>Pessimist</td>\n",
       "      <td>NaN</td>\n",
       "      <td>dance</td>\n",
       "      <td>Saint-Petersburg</td>\n",
       "      <td>21:20:49</td>\n",
       "      <td>Wednesday</td>\n",
       "    </tr>\n",
       "  </tbody>\n",
       "</table>\n",
       "</div>"
      ],
      "text/plain": [
       "     userID                        Track            artist   genre  \\\n",
       "0  FFB692EC            Kamigata To Boots  The Mass Missile    rock   \n",
       "1  55204538  Delayed Because of Accident  Andreas Rönnberg    rock   \n",
       "2    20EC38            Funiculì funiculà       Mario Lanza     pop   \n",
       "3  A3DD03C9        Dragons in the Sunset        Fire + Ice    folk   \n",
       "4  E2DC1FAE                  Soul People        Space Echo   dance   \n",
       "5  842029A1                    Преданная         IMPERVTOR  rusrap   \n",
       "6  4CB90AA5                         True      Roman Messer   dance   \n",
       "7  F03E1C1F             Feeling This Way   Polina Griffith   dance   \n",
       "8  8FA1D3BE     И вновь продолжается бой               NaN  ruspop   \n",
       "9  E772D5C0                    Pessimist               NaN   dance   \n",
       "\n",
       "             City        time        Day  \n",
       "0  Saint-Petersburg  20:28:33  Wednesday  \n",
       "1            Moscow  14:07:09     Friday  \n",
       "2  Saint-Petersburg  20:58:07  Wednesday  \n",
       "3  Saint-Petersburg  08:37:09     Monday  \n",
       "4            Moscow  08:34:34     Monday  \n",
       "5  Saint-Petersburg  13:09:41     Friday  \n",
       "6            Moscow  13:00:07  Wednesday  \n",
       "7            Moscow  20:47:49  Wednesday  \n",
       "8            Moscow  09:17:40     Friday  \n",
       "9  Saint-Petersburg  21:20:49  Wednesday  "
      ]
     },
     "execution_count": 3,
     "metadata": {},
     "output_type": "execute_result"
    }
   ],
   "source": [
    "df.head(10)# получение первых 10 строк таблицы df"
   ]
  },
  {
   "cell_type": "markdown",
   "metadata": {
    "id": "EO73Kwic_Zct"
   },
   "source": [
    "Одной командой получить общую информацию о таблице:"
   ]
  },
  {
   "cell_type": "code",
   "execution_count": 4,
   "metadata": {
    "id": "DSf2kIb-_Zct"
   },
   "outputs": [
    {
     "name": "stdout",
     "output_type": "stream",
     "text": [
      "<class 'pandas.core.frame.DataFrame'>\n",
      "RangeIndex: 65079 entries, 0 to 65078\n",
      "Data columns (total 7 columns):\n",
      "  userID    65079 non-null object\n",
      "Track       63848 non-null object\n",
      "artist      57876 non-null object\n",
      "genre       63881 non-null object\n",
      "  City      65079 non-null object\n",
      "time        65079 non-null object\n",
      "Day         65079 non-null object\n",
      "dtypes: object(7)\n",
      "memory usage: 3.5+ MB\n"
     ]
    }
   ],
   "source": [
    "df.info() # получение общей информации о данных в таблице df"
   ]
  },
  {
   "cell_type": "markdown",
   "metadata": {
    "id": "TaQ2Iwbr_Zct"
   },
   "source": [
    "Итак, в таблице семь столбцов. Тип данных во всех столбцах — `object`.\n",
    "\n",
    "Согласно документации к данным:\n",
    "* `userID` — идентификатор пользователя;\n",
    "* `Track` — название трека;  \n",
    "* `artist` — имя исполнителя;\n",
    "* `genre` — название жанра;\n",
    "* `City` — город пользователя;\n",
    "* `time` — время начала прослушивания;\n",
    "* `Day` — день недели.\n",
    "\n",
    "В названиях колонок видны три нарушения стиля:\n",
    "1. Строчные буквы сочетаются с прописными.\n",
    "2. Встречаются пробелы.\n",
    "3. Найдите ещё одну проблему в названии колонок и опишите её в этом пункте.\n",
    "\n",
    "\n",
    "\n",
    "Количество значений в столбцах различается. Значит, в данных есть пропущенные значения.\n"
   ]
  },
  {
   "cell_type": "markdown",
   "metadata": {
    "id": "MCB6-dXG_Zct"
   },
   "source": [
    "**Выводы**\n",
    "\n",
    "В каждой строке таблицы — данные о прослушанном треке. Часть колонок описывает саму композицию: название, исполнителя и жанр. Остальные данные рассказывают о пользователе: из какого он города, когда он слушал музыку. \n",
    "\n",
    "Предварительно можно утверждать, что, данных достаточно для проверки гипотез. Но встречаются пропуски в данных, а в названиях колонок — расхождения с хорошим стилем.\n",
    "\n",
    "Чтобы двигаться дальше, нужно устранить проблемы в данных."
   ]
  },
  {
   "cell_type": "markdown",
   "metadata": {
    "id": "SjYF6Ub9_Zct"
   },
   "source": [
    "## Предобработка данных\n",
    "Исправьте стиль в заголовках столбцов, исключите пропуски. Затем проверьте данные на дубликаты."
   ]
  },
  {
   "cell_type": "markdown",
   "metadata": {
    "id": "dIaKXr29_Zct"
   },
   "source": [
    "### Стиль заголовков\n",
    "Выведите на экран названия столбцов:"
   ]
  },
  {
   "cell_type": "code",
   "execution_count": 5,
   "metadata": {
    "id": "oKOTdF_Q_Zct"
   },
   "outputs": [
    {
     "data": {
      "text/plain": [
       "Index(['  userID', 'Track', 'artist', 'genre', '  City  ', 'time', 'Day'], dtype='object')"
      ]
     },
     "execution_count": 5,
     "metadata": {},
     "output_type": "execute_result"
    }
   ],
   "source": [
    "df.columns # перечень названий столбцов таблицы df"
   ]
  },
  {
   "cell_type": "markdown",
   "metadata": {
    "id": "zj5534cv_Zct"
   },
   "source": [
    "Приведите названия в соответствие с хорошим стилем:\n",
    "* несколько слов в названии запишите в «змеином_регистре»,\n",
    "* все символы сделайте строчными,\n",
    "* устраните пробелы.\n",
    "\n",
    "Для этого переименуйте колонки так:\n",
    "* `'  userID'` → `'user_id'`;\n",
    "* `'Track'` → `'track'`;\n",
    "* `'  City  '` → `'city'`;\n",
    "* `'Day'` → `'day'`."
   ]
  },
  {
   "cell_type": "code",
   "execution_count": 6,
   "metadata": {
    "id": "ISlFqs5y_Zct"
   },
   "outputs": [],
   "source": [
    "df = df.rename(columns={'  userID': 'user_id', 'Track': 'track_name', '  City  ': 'city', 'Day': 'day'}) # переименование столбцов"
   ]
  },
  {
   "cell_type": "markdown",
   "metadata": {
    "id": "1dqbh00J_Zct"
   },
   "source": [
    "Проверьте результат. Для этого ещё раз выведите на экран названия столбцов:"
   ]
  },
  {
   "cell_type": "code",
   "execution_count": 7,
   "metadata": {
    "id": "d4NOAmTW_Zct"
   },
   "outputs": [
    {
     "data": {
      "text/plain": [
       "Index(['user_id', 'track_name', 'artist', 'genre', 'city', 'time', 'day'], dtype='object')"
      ]
     },
     "execution_count": 7,
     "metadata": {},
     "output_type": "execute_result"
    }
   ],
   "source": [
    "df.columns # проверка результатов - перечень названий столбцов"
   ]
  },
  {
   "cell_type": "markdown",
   "metadata": {
    "id": "5ISfbcfY_Zct"
   },
   "source": [
    "### Пропуски значений\n",
    "Сначала посчитайте, сколько в таблице пропущенных значений. Для этого достаточно двух методов `pandas`:"
   ]
  },
  {
   "cell_type": "code",
   "execution_count": 8,
   "metadata": {
    "id": "RskX29qr_Zct"
   },
   "outputs": [
    {
     "data": {
      "text/plain": [
       "user_id          0\n",
       "track_name    1231\n",
       "artist        7203\n",
       "genre         1198\n",
       "city             0\n",
       "time             0\n",
       "day              0\n",
       "dtype: int64"
      ]
     },
     "execution_count": 8,
     "metadata": {},
     "output_type": "execute_result"
    }
   ],
   "source": [
    "df.isna().sum() # подсчёт пропусков"
   ]
  },
  {
   "cell_type": "markdown",
   "metadata": {
    "id": "qubhgnlO_Zct"
   },
   "source": [
    "Не все пропущенные значения влияют на исследование. Так в `track` и `artist` пропуски не важны для вашей работы. Достаточно заменить их явными обозначениями.\n",
    "\n",
    "Но пропуски в `genre` могут помешать сравнению музыкальных вкусов в Москве и Санкт-Петербурге. На практике было бы правильно установить причину пропусков и восстановить данные. Такой возможности нет в учебном проекте. Придётся:\n",
    "* заполнить и эти пропуски явными обозначениями,\n",
    "* оценить, насколько они повредят расчётам. "
   ]
  },
  {
   "cell_type": "markdown",
   "metadata": {
    "id": "fSv2laPA_Zct"
   },
   "source": [
    "Замените пропущенные значения в столбцах `track_name`, `artist` и `genre` на строку `'unknown'`. Для этого создайте список `columns_to_replace`, переберите его элементы циклом `for` и для каждого столбца выполните замену пропущенных значений:"
   ]
  },
  {
   "cell_type": "code",
   "execution_count": 9,
   "metadata": {
    "id": "KplB5qWs_Zct"
   },
   "outputs": [],
   "source": [
    " # перебор названий столбцов в цикле и замена пропущенных значений на 'unknown'\n",
    "columns_to_replace = df.loc[:, 'track_name':'city']\n",
    "for value in columns_to_replace:\n",
    "    df[value] = df[value].fillna('unknown')"
   ]
  },
  {
   "cell_type": "markdown",
   "metadata": {
    "id": "Ilsm-MZo_Zct"
   },
   "source": [
    "Убедитесь, что в таблице не осталось пропусков. Для этого ещё раз посчитайте пропущенные значения."
   ]
  },
  {
   "cell_type": "code",
   "execution_count": 10,
   "metadata": {
    "id": "Tq4nYRX4_Zct"
   },
   "outputs": [
    {
     "data": {
      "text/plain": [
       "user_id       0\n",
       "track_name    0\n",
       "artist        0\n",
       "genre         0\n",
       "city          0\n",
       "time          0\n",
       "day           0\n",
       "dtype: int64"
      ]
     },
     "execution_count": 10,
     "metadata": {},
     "output_type": "execute_result"
    }
   ],
   "source": [
    "df.isna().sum() # подсчёт пропусков"
   ]
  },
  {
   "cell_type": "markdown",
   "metadata": {
    "id": "BWKRtBJ3_Zct"
   },
   "source": [
    "### Дубликаты\n",
    "Посчитайте явные дубликаты в таблице одной командой:"
   ]
  },
  {
   "cell_type": "code",
   "execution_count": 11,
   "metadata": {
    "id": "36eES_S0_Zct"
   },
   "outputs": [
    {
     "data": {
      "text/plain": [
       "3826"
      ]
     },
     "execution_count": 11,
     "metadata": {},
     "output_type": "execute_result"
    }
   ],
   "source": [
    "df.duplicated().sum() # подсчёт явных дубликатов"
   ]
  },
  {
   "cell_type": "markdown",
   "metadata": {
    "id": "Ot25h6XR_Zct"
   },
   "source": [
    "Вызовите специальный метод `pandas`, чтобы удалить явные дубликаты:"
   ]
  },
  {
   "cell_type": "code",
   "execution_count": 12,
   "metadata": {
    "id": "exFHq6tt_Zct"
   },
   "outputs": [],
   "source": [
    "df = df.drop_duplicates().reset_index(drop = True) # удаление явных дубликатов (с удалением старых индексов и формированием новых)"
   ]
  },
  {
   "cell_type": "markdown",
   "metadata": {
    "id": "Im2YwBEG_Zct"
   },
   "source": [
    "Ещё раз посчитайте явные дубликаты в таблице — убедитесь, что полностью от них избавились:"
   ]
  },
  {
   "cell_type": "code",
   "execution_count": 13,
   "metadata": {
    "id": "-8PuNWQ0_Zct"
   },
   "outputs": [
    {
     "data": {
      "text/plain": [
       "0"
      ]
     },
     "execution_count": 13,
     "metadata": {},
     "output_type": "execute_result"
    }
   ],
   "source": [
    "df.duplicated().sum() # проверка на отсутствие дубликатов"
   ]
  },
  {
   "cell_type": "markdown",
   "metadata": {
    "id": "QlFBsxAr_Zct"
   },
   "source": [
    "Теперь избавьтесь от неявных дубликатов в колонке `genre`. Например, название одного и того же жанра может быть записано немного по-разному. Такие ошибки тоже повлияют на результат исследования."
   ]
  },
  {
   "cell_type": "markdown",
   "metadata": {
    "id": "eSjWwsOh_Zct"
   },
   "source": [
    "Выведите на экран список уникальных названий жанров, отсортированный в алфавитном порядке. Для этого:\n",
    "* извлеките нужный столбец датафрейма, \n",
    "* примените к нему метод сортировки,\n",
    "* для отсортированного столбца вызовите метод, который вернёт уникальные значения из столбца."
   ]
  },
  {
   "cell_type": "code",
   "execution_count": 14,
   "metadata": {
    "id": "JIUcqzZN_Zct",
    "scrolled": true
   },
   "outputs": [
    {
     "data": {
      "text/plain": [
       "['acid',\n",
       " 'acoustic',\n",
       " 'action',\n",
       " 'adult',\n",
       " 'africa',\n",
       " 'afrikaans',\n",
       " 'alternative',\n",
       " 'alternativepunk',\n",
       " 'ambient',\n",
       " 'americana',\n",
       " 'animated',\n",
       " 'anime',\n",
       " 'arabesk',\n",
       " 'arabic',\n",
       " 'arena',\n",
       " 'argentinetango',\n",
       " 'art',\n",
       " 'audiobook',\n",
       " 'author',\n",
       " 'avantgarde',\n",
       " 'axé',\n",
       " 'baile',\n",
       " 'balkan',\n",
       " 'beats',\n",
       " 'bigroom',\n",
       " 'black',\n",
       " 'bluegrass',\n",
       " 'blues',\n",
       " 'bollywood',\n",
       " 'bossa',\n",
       " 'brazilian',\n",
       " 'breakbeat',\n",
       " 'breaks',\n",
       " 'broadway',\n",
       " 'cantautori',\n",
       " 'cantopop',\n",
       " 'canzone',\n",
       " 'caribbean',\n",
       " 'caucasian',\n",
       " 'celtic',\n",
       " 'chamber',\n",
       " 'chanson',\n",
       " 'children',\n",
       " 'chill',\n",
       " 'chinese',\n",
       " 'choral',\n",
       " 'christian',\n",
       " 'christmas',\n",
       " 'classical',\n",
       " 'classicmetal',\n",
       " 'club',\n",
       " 'colombian',\n",
       " 'comedy',\n",
       " 'conjazz',\n",
       " 'contemporary',\n",
       " 'country',\n",
       " 'cuban',\n",
       " 'dance',\n",
       " 'dancehall',\n",
       " 'dancepop',\n",
       " 'dark',\n",
       " 'death',\n",
       " 'deep',\n",
       " 'deutschrock',\n",
       " 'deutschspr',\n",
       " 'dirty',\n",
       " 'disco',\n",
       " 'dnb',\n",
       " 'documentary',\n",
       " 'downbeat',\n",
       " 'downtempo',\n",
       " 'drum',\n",
       " 'dub',\n",
       " 'dubstep',\n",
       " 'eastern',\n",
       " 'easy',\n",
       " 'electronic',\n",
       " 'electropop',\n",
       " 'emo',\n",
       " 'entehno',\n",
       " 'epicmetal',\n",
       " 'estrada',\n",
       " 'ethnic',\n",
       " 'eurofolk',\n",
       " 'european',\n",
       " 'experimental',\n",
       " 'extrememetal',\n",
       " 'fado',\n",
       " 'fairytail',\n",
       " 'film',\n",
       " 'fitness',\n",
       " 'flamenco',\n",
       " 'folk',\n",
       " 'folklore',\n",
       " 'folkmetal',\n",
       " 'folkrock',\n",
       " 'folktronica',\n",
       " 'forró',\n",
       " 'frankreich',\n",
       " 'französisch',\n",
       " 'french',\n",
       " 'funk',\n",
       " 'future',\n",
       " 'gangsta',\n",
       " 'garage',\n",
       " 'german',\n",
       " 'ghazal',\n",
       " 'gitarre',\n",
       " 'glitch',\n",
       " 'gospel',\n",
       " 'gothic',\n",
       " 'grime',\n",
       " 'grunge',\n",
       " 'gypsy',\n",
       " 'handsup',\n",
       " \"hard'n'heavy\",\n",
       " 'hardcore',\n",
       " 'hardstyle',\n",
       " 'hardtechno',\n",
       " 'hip',\n",
       " 'hip-hop',\n",
       " 'hiphop',\n",
       " 'historisch',\n",
       " 'holiday',\n",
       " 'hop',\n",
       " 'horror',\n",
       " 'house',\n",
       " 'hymn',\n",
       " 'idm',\n",
       " 'independent',\n",
       " 'indian',\n",
       " 'indie',\n",
       " 'indipop',\n",
       " 'industrial',\n",
       " 'inspirational',\n",
       " 'instrumental',\n",
       " 'international',\n",
       " 'irish',\n",
       " 'jam',\n",
       " 'japanese',\n",
       " 'jazz',\n",
       " 'jewish',\n",
       " 'jpop',\n",
       " 'jungle',\n",
       " 'k-pop',\n",
       " 'karadeniz',\n",
       " 'karaoke',\n",
       " 'kayokyoku',\n",
       " 'korean',\n",
       " 'laiko',\n",
       " 'latin',\n",
       " 'latino',\n",
       " 'leftfield',\n",
       " 'local',\n",
       " 'lounge',\n",
       " 'loungeelectronic',\n",
       " 'lovers',\n",
       " 'malaysian',\n",
       " 'mandopop',\n",
       " 'marschmusik',\n",
       " 'meditative',\n",
       " 'mediterranean',\n",
       " 'melodic',\n",
       " 'metal',\n",
       " 'metalcore',\n",
       " 'mexican',\n",
       " 'middle',\n",
       " 'minimal',\n",
       " 'miscellaneous',\n",
       " 'modern',\n",
       " 'mood',\n",
       " 'mpb',\n",
       " 'muslim',\n",
       " 'native',\n",
       " 'neoklassik',\n",
       " 'neue',\n",
       " 'new',\n",
       " 'newage',\n",
       " 'newwave',\n",
       " 'nu',\n",
       " 'nujazz',\n",
       " 'numetal',\n",
       " 'oceania',\n",
       " 'old',\n",
       " 'opera',\n",
       " 'orchestral',\n",
       " 'other',\n",
       " 'piano',\n",
       " 'podcasts',\n",
       " 'pop',\n",
       " 'popdance',\n",
       " 'popelectronic',\n",
       " 'popeurodance',\n",
       " 'poprussian',\n",
       " 'post',\n",
       " 'posthardcore',\n",
       " 'postrock',\n",
       " 'power',\n",
       " 'progmetal',\n",
       " 'progressive',\n",
       " 'psychedelic',\n",
       " 'punjabi',\n",
       " 'punk',\n",
       " 'quebecois',\n",
       " 'ragga',\n",
       " 'ram',\n",
       " 'rancheras',\n",
       " 'rap',\n",
       " 'rave',\n",
       " 'reggae',\n",
       " 'reggaeton',\n",
       " 'regional',\n",
       " 'relax',\n",
       " 'religious',\n",
       " 'retro',\n",
       " 'rhythm',\n",
       " 'rnb',\n",
       " 'rnr',\n",
       " 'rock',\n",
       " 'rockabilly',\n",
       " 'rockalternative',\n",
       " 'rockindie',\n",
       " 'rockother',\n",
       " 'romance',\n",
       " 'roots',\n",
       " 'ruspop',\n",
       " 'rusrap',\n",
       " 'rusrock',\n",
       " 'russian',\n",
       " 'salsa',\n",
       " 'samba',\n",
       " 'scenic',\n",
       " 'schlager',\n",
       " 'self',\n",
       " 'sertanejo',\n",
       " 'shanson',\n",
       " 'shoegazing',\n",
       " 'showtunes',\n",
       " 'singer',\n",
       " 'ska',\n",
       " 'skarock',\n",
       " 'slow',\n",
       " 'smooth',\n",
       " 'soft',\n",
       " 'soul',\n",
       " 'soulful',\n",
       " 'sound',\n",
       " 'soundtrack',\n",
       " 'southern',\n",
       " 'specialty',\n",
       " 'speech',\n",
       " 'spiritual',\n",
       " 'sport',\n",
       " 'stonerrock',\n",
       " 'surf',\n",
       " 'swing',\n",
       " 'synthpop',\n",
       " 'synthrock',\n",
       " 'sängerportrait',\n",
       " 'tango',\n",
       " 'tanzorchester',\n",
       " 'taraftar',\n",
       " 'tatar',\n",
       " 'tech',\n",
       " 'techno',\n",
       " 'teen',\n",
       " 'thrash',\n",
       " 'top',\n",
       " 'traditional',\n",
       " 'tradjazz',\n",
       " 'trance',\n",
       " 'tribal',\n",
       " 'trip',\n",
       " 'triphop',\n",
       " 'tropical',\n",
       " 'türk',\n",
       " 'türkçe',\n",
       " 'ukrrock',\n",
       " 'unknown',\n",
       " 'urban',\n",
       " 'uzbek',\n",
       " 'variété',\n",
       " 'vi',\n",
       " 'videogame',\n",
       " 'vocal',\n",
       " 'western',\n",
       " 'world',\n",
       " 'worldbeat',\n",
       " 'ïîï',\n",
       " 'электроника']"
      ]
     },
     "execution_count": 14,
     "metadata": {},
     "output_type": "execute_result"
    }
   ],
   "source": [
    "sorted(df['genre'].unique())# Просмотр уникальных названий жанров"
   ]
  },
  {
   "cell_type": "markdown",
   "metadata": {
    "id": "qej-Qmuo_Zct"
   },
   "source": [
    "Просмотрите список и найдите неявные дубликаты названия `hiphop`. Это могут быть названия с ошибками или альтернативные названия того же жанра.\n",
    "\n",
    "Вы увидите следующие неявные дубликаты:\n",
    "* *hip*,\n",
    "* *hop*,\n",
    "* *hip-hop*.\n",
    "\n",
    "Чтобы очистить от них таблицу, напишите функцию `replace_wrong_genres()` с двумя параметрами: \n",
    "* `wrong_genres` — список дубликатов,\n",
    "* `correct_genre` — строка с правильным значением.\n",
    "\n",
    "Функция должна исправить колонку `genre` в таблице `df`: заменить каждое значение из списка `wrong_genres` на значение из `correct_genre`."
   ]
  },
  {
   "cell_type": "code",
   "execution_count": 15,
   "metadata": {
    "id": "ErNDkmns_Zct"
   },
   "outputs": [],
   "source": [
    "def replace_wrong_genres(wrong_genres,correct_genre): # Функция для замены неявных дубликатов\n",
    "    for i in wrong_genres:\n",
    "        df['genre'] = df['genre'].replace(i, correct_genre)"
   ]
  },
  {
   "cell_type": "markdown",
   "metadata": {
    "id": "aDoBJxbA_Zct"
   },
   "source": [
    "Вызовите `replace_wrong_genres()` и передайте ей такие аргументы, чтобы она устранила неявные дубликаты: вместо `hip`, `hop` и `hip-hop` в таблице должно быть значение `hiphop`:"
   ]
  },
  {
   "cell_type": "code",
   "execution_count": 16,
   "metadata": {
    "id": "YN5i2hpmSo09"
   },
   "outputs": [],
   "source": [
    "duplicates = ['hip','hop','hip-hop']\n",
    "name = 'hiphop'\n",
    "replace_wrong_genres(duplicates, name) # Устранение неявных дубликатов"
   ]
  },
  {
   "cell_type": "markdown",
   "metadata": {
    "id": "zQKF16_RG15m"
   },
   "source": [
    "Проверьте, что заменили неправильные названия:\n",
    "\n",
    "*   hip\n",
    "*   hop\n",
    "*   hip-hop\n",
    "\n",
    "Выведите отсортированный список уникальных значений столбца `genre`:"
   ]
  },
  {
   "cell_type": "code",
   "execution_count": 17,
   "metadata": {
    "id": "wvixALnFG15m"
   },
   "outputs": [
    {
     "data": {
      "text/plain": [
       "['acid',\n",
       " 'acoustic',\n",
       " 'action',\n",
       " 'adult',\n",
       " 'africa',\n",
       " 'afrikaans',\n",
       " 'alternative',\n",
       " 'alternativepunk',\n",
       " 'ambient',\n",
       " 'americana',\n",
       " 'animated',\n",
       " 'anime',\n",
       " 'arabesk',\n",
       " 'arabic',\n",
       " 'arena',\n",
       " 'argentinetango',\n",
       " 'art',\n",
       " 'audiobook',\n",
       " 'author',\n",
       " 'avantgarde',\n",
       " 'axé',\n",
       " 'baile',\n",
       " 'balkan',\n",
       " 'beats',\n",
       " 'bigroom',\n",
       " 'black',\n",
       " 'bluegrass',\n",
       " 'blues',\n",
       " 'bollywood',\n",
       " 'bossa',\n",
       " 'brazilian',\n",
       " 'breakbeat',\n",
       " 'breaks',\n",
       " 'broadway',\n",
       " 'cantautori',\n",
       " 'cantopop',\n",
       " 'canzone',\n",
       " 'caribbean',\n",
       " 'caucasian',\n",
       " 'celtic',\n",
       " 'chamber',\n",
       " 'chanson',\n",
       " 'children',\n",
       " 'chill',\n",
       " 'chinese',\n",
       " 'choral',\n",
       " 'christian',\n",
       " 'christmas',\n",
       " 'classical',\n",
       " 'classicmetal',\n",
       " 'club',\n",
       " 'colombian',\n",
       " 'comedy',\n",
       " 'conjazz',\n",
       " 'contemporary',\n",
       " 'country',\n",
       " 'cuban',\n",
       " 'dance',\n",
       " 'dancehall',\n",
       " 'dancepop',\n",
       " 'dark',\n",
       " 'death',\n",
       " 'deep',\n",
       " 'deutschrock',\n",
       " 'deutschspr',\n",
       " 'dirty',\n",
       " 'disco',\n",
       " 'dnb',\n",
       " 'documentary',\n",
       " 'downbeat',\n",
       " 'downtempo',\n",
       " 'drum',\n",
       " 'dub',\n",
       " 'dubstep',\n",
       " 'eastern',\n",
       " 'easy',\n",
       " 'electronic',\n",
       " 'electropop',\n",
       " 'emo',\n",
       " 'entehno',\n",
       " 'epicmetal',\n",
       " 'estrada',\n",
       " 'ethnic',\n",
       " 'eurofolk',\n",
       " 'european',\n",
       " 'experimental',\n",
       " 'extrememetal',\n",
       " 'fado',\n",
       " 'fairytail',\n",
       " 'film',\n",
       " 'fitness',\n",
       " 'flamenco',\n",
       " 'folk',\n",
       " 'folklore',\n",
       " 'folkmetal',\n",
       " 'folkrock',\n",
       " 'folktronica',\n",
       " 'forró',\n",
       " 'frankreich',\n",
       " 'französisch',\n",
       " 'french',\n",
       " 'funk',\n",
       " 'future',\n",
       " 'gangsta',\n",
       " 'garage',\n",
       " 'german',\n",
       " 'ghazal',\n",
       " 'gitarre',\n",
       " 'glitch',\n",
       " 'gospel',\n",
       " 'gothic',\n",
       " 'grime',\n",
       " 'grunge',\n",
       " 'gypsy',\n",
       " 'handsup',\n",
       " \"hard'n'heavy\",\n",
       " 'hardcore',\n",
       " 'hardstyle',\n",
       " 'hardtechno',\n",
       " 'hiphop',\n",
       " 'historisch',\n",
       " 'holiday',\n",
       " 'horror',\n",
       " 'house',\n",
       " 'hymn',\n",
       " 'idm',\n",
       " 'independent',\n",
       " 'indian',\n",
       " 'indie',\n",
       " 'indipop',\n",
       " 'industrial',\n",
       " 'inspirational',\n",
       " 'instrumental',\n",
       " 'international',\n",
       " 'irish',\n",
       " 'jam',\n",
       " 'japanese',\n",
       " 'jazz',\n",
       " 'jewish',\n",
       " 'jpop',\n",
       " 'jungle',\n",
       " 'k-pop',\n",
       " 'karadeniz',\n",
       " 'karaoke',\n",
       " 'kayokyoku',\n",
       " 'korean',\n",
       " 'laiko',\n",
       " 'latin',\n",
       " 'latino',\n",
       " 'leftfield',\n",
       " 'local',\n",
       " 'lounge',\n",
       " 'loungeelectronic',\n",
       " 'lovers',\n",
       " 'malaysian',\n",
       " 'mandopop',\n",
       " 'marschmusik',\n",
       " 'meditative',\n",
       " 'mediterranean',\n",
       " 'melodic',\n",
       " 'metal',\n",
       " 'metalcore',\n",
       " 'mexican',\n",
       " 'middle',\n",
       " 'minimal',\n",
       " 'miscellaneous',\n",
       " 'modern',\n",
       " 'mood',\n",
       " 'mpb',\n",
       " 'muslim',\n",
       " 'native',\n",
       " 'neoklassik',\n",
       " 'neue',\n",
       " 'new',\n",
       " 'newage',\n",
       " 'newwave',\n",
       " 'nu',\n",
       " 'nujazz',\n",
       " 'numetal',\n",
       " 'oceania',\n",
       " 'old',\n",
       " 'opera',\n",
       " 'orchestral',\n",
       " 'other',\n",
       " 'piano',\n",
       " 'podcasts',\n",
       " 'pop',\n",
       " 'popdance',\n",
       " 'popelectronic',\n",
       " 'popeurodance',\n",
       " 'poprussian',\n",
       " 'post',\n",
       " 'posthardcore',\n",
       " 'postrock',\n",
       " 'power',\n",
       " 'progmetal',\n",
       " 'progressive',\n",
       " 'psychedelic',\n",
       " 'punjabi',\n",
       " 'punk',\n",
       " 'quebecois',\n",
       " 'ragga',\n",
       " 'ram',\n",
       " 'rancheras',\n",
       " 'rap',\n",
       " 'rave',\n",
       " 'reggae',\n",
       " 'reggaeton',\n",
       " 'regional',\n",
       " 'relax',\n",
       " 'religious',\n",
       " 'retro',\n",
       " 'rhythm',\n",
       " 'rnb',\n",
       " 'rnr',\n",
       " 'rock',\n",
       " 'rockabilly',\n",
       " 'rockalternative',\n",
       " 'rockindie',\n",
       " 'rockother',\n",
       " 'romance',\n",
       " 'roots',\n",
       " 'ruspop',\n",
       " 'rusrap',\n",
       " 'rusrock',\n",
       " 'russian',\n",
       " 'salsa',\n",
       " 'samba',\n",
       " 'scenic',\n",
       " 'schlager',\n",
       " 'self',\n",
       " 'sertanejo',\n",
       " 'shanson',\n",
       " 'shoegazing',\n",
       " 'showtunes',\n",
       " 'singer',\n",
       " 'ska',\n",
       " 'skarock',\n",
       " 'slow',\n",
       " 'smooth',\n",
       " 'soft',\n",
       " 'soul',\n",
       " 'soulful',\n",
       " 'sound',\n",
       " 'soundtrack',\n",
       " 'southern',\n",
       " 'specialty',\n",
       " 'speech',\n",
       " 'spiritual',\n",
       " 'sport',\n",
       " 'stonerrock',\n",
       " 'surf',\n",
       " 'swing',\n",
       " 'synthpop',\n",
       " 'synthrock',\n",
       " 'sängerportrait',\n",
       " 'tango',\n",
       " 'tanzorchester',\n",
       " 'taraftar',\n",
       " 'tatar',\n",
       " 'tech',\n",
       " 'techno',\n",
       " 'teen',\n",
       " 'thrash',\n",
       " 'top',\n",
       " 'traditional',\n",
       " 'tradjazz',\n",
       " 'trance',\n",
       " 'tribal',\n",
       " 'trip',\n",
       " 'triphop',\n",
       " 'tropical',\n",
       " 'türk',\n",
       " 'türkçe',\n",
       " 'ukrrock',\n",
       " 'unknown',\n",
       " 'urban',\n",
       " 'uzbek',\n",
       " 'variété',\n",
       " 'vi',\n",
       " 'videogame',\n",
       " 'vocal',\n",
       " 'western',\n",
       " 'world',\n",
       " 'worldbeat',\n",
       " 'ïîï',\n",
       " 'электроника']"
      ]
     },
     "execution_count": 17,
     "metadata": {},
     "output_type": "execute_result"
    }
   ],
   "source": [
    "sorted(df['genre'].unique())# Просмотр уникальных названий жанров\n",
    " # Проверка на неявные дубликаты"
   ]
  },
  {
   "cell_type": "markdown",
   "metadata": {
    "id": "jz6a9-7HQUDd"
   },
   "source": [
    "**Выводы**\n",
    "\n",
    "Предобработка обнаружила три проблемы в данных:\n",
    "\n",
    "- нарушения в стиле заголовков,\n",
    "- пропущенные значения,\n",
    "- дубликаты — явные и неявные.\n",
    "\n",
    "Вы исправили заголовки, чтобы упростить работу с таблицей. Без дубликатов исследование станет более точным.\n",
    "\n",
    "Пропущенные значения вы заменили на `'unknown'`. Ещё предстоит увидеть, не повредят ли исследованию пропуски в колонке `genre`.\n",
    "\n",
    "Теперь можно перейти к проверке гипотез. "
   ]
  },
  {
   "cell_type": "markdown",
   "metadata": {
    "id": "WttZHXH0SqKk"
   },
   "source": [
    "## Проверка гипотез"
   ]
  },
  {
   "cell_type": "markdown",
   "metadata": {
    "id": "Im936VVi_Zcu"
   },
   "source": [
    "### Сравнение поведения пользователей двух столиц"
   ]
  },
  {
   "cell_type": "markdown",
   "metadata": {
    "id": "nwt_MuaL_Zcu"
   },
   "source": [
    "Первая гипотеза утверждает, что пользователи по-разному слушают музыку в Москве и Санкт-Петербурге. Проверьте это предположение по данным о трёх днях недели — понедельнике, среде и пятнице. Для этого:\n",
    "\n",
    "* Разделите пользователей Москвы и Санкт-Петербурга\n",
    "* Сравните, сколько треков послушала каждая группа пользователей в понедельник, среду и пятницу.\n"
   ]
  },
  {
   "cell_type": "markdown",
   "metadata": {
    "id": "8Dw_YMmT_Zcu"
   },
   "source": [
    "Для тренировки сначала выполните каждый из расчётов по отдельности. \n",
    "\n",
    "Оцените активность пользователей в каждом городе. Сгруппируйте данные по городу и посчитайте прослушивания в каждой группе.\n",
    "\n"
   ]
  },
  {
   "cell_type": "code",
   "execution_count": 18,
   "metadata": {
    "id": "0_Qs96oh_Zcu"
   },
   "outputs": [
    {
     "data": {
      "text/plain": [
       "city\n",
       "Moscow              42741\n",
       "Saint-Petersburg    18512\n",
       "Name: genre, dtype: int64"
      ]
     },
     "execution_count": 18,
     "metadata": {},
     "output_type": "execute_result"
    }
   ],
   "source": [
    "df.groupby('city')['genre'].count()# Подсчёт прослушиваний в каждом городе"
   ]
  },
  {
   "cell_type": "markdown",
   "metadata": {
    "id": "dzli3w8o_Zcu"
   },
   "source": [
    "В Москве прослушиваний больше, чем в Петербурге. Из этого не следует, что московские пользователи чаще слушают музыку. Просто самих пользователей в Москве больше.\n",
    "\n",
    "Теперь сгруппируйте данные по дню недели и подсчитайте прослушивания в понедельник, среду и пятницу. Учтите, что в данных есть информация только о прослушиваниях только за эти дни.\n"
   ]
  },
  {
   "cell_type": "code",
   "execution_count": 19,
   "metadata": {
    "id": "uZMKjiJz_Zcu",
    "scrolled": true
   },
   "outputs": [
    {
     "data": {
      "text/plain": [
       "day\n",
       "Friday       21840\n",
       "Monday       21354\n",
       "Wednesday    18059\n",
       "Name: genre, dtype: int64"
      ]
     },
     "execution_count": 19,
     "metadata": {},
     "output_type": "execute_result"
    }
   ],
   "source": [
    "df.groupby('day')['genre'].count() # Подсчёт прослушиваний в каждый из трёх дней"
   ]
  },
  {
   "cell_type": "markdown",
   "metadata": {
    "id": "cC2tNrlL_Zcu"
   },
   "source": [
    "В среднем пользователи из двух городов менее активны по средам. Но картина может измениться, если рассмотреть каждый город в отдельности."
   ]
  },
  {
   "cell_type": "markdown",
   "metadata": {
    "id": "POzs8bGa_Zcu"
   },
   "source": [
    "Вы видели, как работает группировка по городу и по дням недели. Теперь напишите функцию, которая объединит два эти расчёта.\n",
    "\n",
    "Создайте функцию `number_tracks()`, которая посчитает прослушивания для заданного дня и города. Ей понадобятся два параметра:\n",
    "* день недели,\n",
    "* название города.\n",
    "\n",
    "В функции сохраните в переменную строки исходной таблицы, у которых значение:\n",
    "  * в колонке `day` равно параметру `day`,\n",
    "  * в колонке `city` равно параметру `city`.\n",
    "\n",
    "Для этого примените последовательную фильтрацию с логической индексацией.\n",
    "\n",
    "Затем посчитайте значения в столбце `user_id` получившейся таблицы. Результат сохраните в новую переменную. Верните эту переменную из функции."
   ]
  },
  {
   "cell_type": "code",
   "execution_count": 20,
   "metadata": {
    "id": "Nz3GdQB1_Zcu"
   },
   "outputs": [],
   "source": [
    "# <создание функции number_tracks()>\n",
    "# Объявляется функция с двумя параметрами: day, city.\n",
    "# В переменной track_list сохраняются те строки таблицы df, для которых \n",
    "# значение в столбце 'day' равно параметру day и одновременно значение\n",
    "# в столбце 'city' равно параметру city (используйте последовательную фильтрацию\n",
    "# с помощью логической индексации).\n",
    "# В переменной track_list_count сохраняется число значений столбца 'user_id',\n",
    "# рассчитанное методом count() для таблицы track_list.\n",
    "# Функция возвращает число - значение track_list_count.\n",
    "def number_tracks(day,city):\n",
    "    track_list=df[(df['day']==day)&(df['city']==city)]\n",
    "    track_list_count = track_list['user_id'].count()\n",
    "    return track_list_count\n",
    "# Функция для подсчёта прослушиваний для конкретного города и дня.\n",
    "# С помощью последовательной фильтрации с логической индексацией она \n",
    "# сначала получит из исходной таблицы строки с нужным днём,\n",
    "# затем из результата отфильтрует строки с нужным городом,\n",
    "# методом count() посчитает количество значений в колонке user_id. \n",
    "# Это количество функция вернёт в качестве результата"
   ]
  },
  {
   "cell_type": "markdown",
   "metadata": {
    "id": "ytf7xFrFJQ2r"
   },
   "source": [
    "Вызовите `number_tracks()` шесть раз, меняя значение параметров — так, чтобы получить данные для каждого города в каждый из трёх дней."
   ]
  },
  {
   "cell_type": "code",
   "execution_count": 21,
   "metadata": {
    "id": "rJcRATNQ_Zcu"
   },
   "outputs": [
    {
     "data": {
      "text/plain": [
       "15740"
      ]
     },
     "execution_count": 21,
     "metadata": {},
     "output_type": "execute_result"
    }
   ],
   "source": [
    "number_tracks('Monday','Moscow') # количество прослушиваний в Москве по понедельникам"
   ]
  },
  {
   "cell_type": "code",
   "execution_count": 22,
   "metadata": {
    "id": "hq_ncZ5T_Zcu"
   },
   "outputs": [
    {
     "data": {
      "text/plain": [
       "5614"
      ]
     },
     "execution_count": 22,
     "metadata": {},
     "output_type": "execute_result"
    }
   ],
   "source": [
    "number_tracks('Monday','Saint-Petersburg') # количество прослушиваний в Санкт-Петербурге по понедельникам"
   ]
  },
  {
   "cell_type": "code",
   "execution_count": 23,
   "metadata": {
    "id": "_NTy2VPU_Zcu"
   },
   "outputs": [
    {
     "data": {
      "text/plain": [
       "11056"
      ]
     },
     "execution_count": 23,
     "metadata": {},
     "output_type": "execute_result"
    }
   ],
   "source": [
    "number_tracks('Wednesday','Moscow') # количество прослушиваний в Москве по средам"
   ]
  },
  {
   "cell_type": "code",
   "execution_count": 24,
   "metadata": {
    "id": "j2y3TAwo_Zcu"
   },
   "outputs": [
    {
     "data": {
      "text/plain": [
       "7003"
      ]
     },
     "execution_count": 24,
     "metadata": {},
     "output_type": "execute_result"
    }
   ],
   "source": [
    "number_tracks('Wednesday','Saint-Petersburg') # количество прослушиваний в Санкт-Петербурге по средам"
   ]
  },
  {
   "cell_type": "code",
   "execution_count": 25,
   "metadata": {
    "id": "vYDw5u_K_Zcu"
   },
   "outputs": [
    {
     "data": {
      "text/plain": [
       "15945"
      ]
     },
     "execution_count": 25,
     "metadata": {},
     "output_type": "execute_result"
    }
   ],
   "source": [
    "number_tracks('Friday','Moscow') # количество прослушиваний в Москве по пятницам"
   ]
  },
  {
   "cell_type": "code",
   "execution_count": 26,
   "metadata": {
    "id": "8_yzFtW3_Zcu"
   },
   "outputs": [
    {
     "data": {
      "text/plain": [
       "5895"
      ]
     },
     "execution_count": 26,
     "metadata": {},
     "output_type": "execute_result"
    }
   ],
   "source": [
    "number_tracks('Friday','Saint-Petersburg') # количество прослушиваний в Санкт-Петербурге по пятницам"
   ]
  },
  {
   "cell_type": "markdown",
   "metadata": {
    "id": "7QXffbO-_Zcu"
   },
   "source": [
    "Создайте c помощью конструктора `pd.DataFrame` таблицу, где\n",
    "* названия колонок — `['city', 'monday', 'wednesday', 'friday']`;\n",
    "* данные — результаты, которые вы получили с помощью `number_tracks`."
   ]
  },
  {
   "cell_type": "code",
   "execution_count": 27,
   "metadata": {
    "id": "APAcLpOr_Zcu",
    "scrolled": true
   },
   "outputs": [
    {
     "data": {
      "text/html": [
       "<div>\n",
       "<style scoped>\n",
       "    .dataframe tbody tr th:only-of-type {\n",
       "        vertical-align: middle;\n",
       "    }\n",
       "\n",
       "    .dataframe tbody tr th {\n",
       "        vertical-align: top;\n",
       "    }\n",
       "\n",
       "    .dataframe thead th {\n",
       "        text-align: right;\n",
       "    }\n",
       "</style>\n",
       "<table border=\"1\" class=\"dataframe\">\n",
       "  <thead>\n",
       "    <tr style=\"text-align: right;\">\n",
       "      <th></th>\n",
       "      <th>city</th>\n",
       "      <th>monday</th>\n",
       "      <th>wednesday</th>\n",
       "      <th>friday</th>\n",
       "    </tr>\n",
       "  </thead>\n",
       "  <tbody>\n",
       "    <tr>\n",
       "      <td>0</td>\n",
       "      <td>Moscow</td>\n",
       "      <td>15740</td>\n",
       "      <td>11056</td>\n",
       "      <td>15945</td>\n",
       "    </tr>\n",
       "    <tr>\n",
       "      <td>1</td>\n",
       "      <td>Saint-Petersburg</td>\n",
       "      <td>5614</td>\n",
       "      <td>7003</td>\n",
       "      <td>5895</td>\n",
       "    </tr>\n",
       "  </tbody>\n",
       "</table>\n",
       "</div>"
      ],
      "text/plain": [
       "               city  monday  wednesday  friday\n",
       "0            Moscow   15740      11056   15945\n",
       "1  Saint-Petersburg    5614       7003    5895"
      ]
     },
     "metadata": {},
     "output_type": "display_data"
    }
   ],
   "source": [
    "columns = ['city', 'monday', 'wednesday', 'friday']\n",
    "data = [['Moscow',15740,11056,15945],\n",
    "       ['Saint-Petersburg',5614,7003,5895]] # Таблица с результатами\n",
    "display(pd.DataFrame(columns = columns, data = data))"
   ]
  },
  {
   "cell_type": "markdown",
   "metadata": {
    "id": "-EgPIHYu_Zcu"
   },
   "source": [
    "**Выводы**\n",
    "\n",
    "Данные показывают разницу поведения пользователей:\n",
    "\n",
    "- В Москве пик прослушиваний приходится на понедельник и пятницу, а в среду заметен спад.\n",
    "- В Петербурге, наоборот, больше слушают музыку по средам. Активность в понедельник и пятницу здесь почти в равной мере уступает среде.\n",
    "\n",
    "Значит, данные говорят в пользу первой гипотезы."
   ]
  },
  {
   "cell_type": "markdown",
   "metadata": {
    "id": "atZAxtq4_Zcu"
   },
   "source": [
    "### Музыка в начале и в конце недели"
   ]
  },
  {
   "cell_type": "markdown",
   "metadata": {
    "id": "eXrQqXFH_Zcu"
   },
   "source": [
    "Согласно второй гипотезе, утром в понедельник в Москве преобладают одни жанры, а в Петербурге — другие. Так же и вечером пятницы преобладают разные жанры — в зависимости от города."
   ]
  },
  {
   "cell_type": "markdown",
   "metadata": {
    "id": "S8UcW6Hw_Zcu"
   },
   "source": [
    "Сохраните таблицы с данными в две переменные:\n",
    "* по Москве — в `moscow_general`;\n",
    "* по Санкт-Петербургу — в `spb_general`."
   ]
  },
  {
   "cell_type": "code",
   "execution_count": 28,
   "metadata": {
    "id": "qeaFfM_P_Zcu"
   },
   "outputs": [],
   "source": [
    "# получение таблицы moscow_general из тех строк таблицы df, \n",
    "# для которых значение в столбце 'city' равно 'Moscow'\n",
    "moscow_general = df[df['city']=='Moscow']"
   ]
  },
  {
   "cell_type": "code",
   "execution_count": 29,
   "metadata": {
    "id": "ORaVRKto_Zcu"
   },
   "outputs": [],
   "source": [
    "# получение таблицы spb_general из тех строк таблицы df,\n",
    "# для которых значение в столбце 'city' равно 'Saint-Petersburg'\n",
    "spb_general = df[df['city']=='Saint-Petersburg']"
   ]
  },
  {
   "cell_type": "markdown",
   "metadata": {
    "id": "MEJV-CX2_Zcu"
   },
   "source": [
    "Создайте функцию `genre_weekday()` с четырьмя параметрами:\n",
    "* таблица (датафрейм) с данными,\n",
    "* день недели,\n",
    "* начальная временная метка в формате 'hh:mm', \n",
    "* последняя временная метка в формате 'hh:mm'.\n",
    "\n",
    "Функция должна вернуть информацию о топ-10 жанров тех треков, которые прослушивали в указанный день, в промежутке между двумя отметками времени."
   ]
  },
  {
   "cell_type": "code",
   "execution_count": 30,
   "metadata": {
    "id": "laJT9BYl_Zcu"
   },
   "outputs": [],
   "source": [
    "# Объявление функции genre_weekday() с параметрами table, day, time1, time2,\n",
    "# которая возвращает информацию о самых популярных жанрах в указанный день в\n",
    "# заданное время:\n",
    "# 1) в переменную genre_df сохраняются те строки переданного датафрейма table, для\n",
    "#    которых одновременно:\n",
    "#    - значение в столбце day равно значению аргумента day\n",
    "#    - значение в столбце time больше значения аргумента time1\n",
    "#    - значение в столбце time меньше значения аргумента time2\n",
    "#    Используйте последовательную фильтрацию с помощью логической индексации.\n",
    "# 2) сгруппировать датафрейм genre_df по столбцу genre, взять один из его\n",
    "#    столбцов и посчитать методом count() количество записей для каждого из\n",
    "#    присутствующих жанров, получившийся Series записать в переменную\n",
    "#    genre_df_count\n",
    "# 3) отсортировать genre_df_count по убыванию встречаемости и сохранить\n",
    "#    в переменную genre_df_sorted\n",
    "# 4) вернуть Series из 10 первых значений genre_df_sorted, это будут топ-10\n",
    "#    популярных жанров (в указанный день, в заданное время)\n",
    "def genre_weekday(table,day,time1,time2):\n",
    "    genre_df = table[(table['day'] == day) & (table['time'] > time1) & (table['time']<time2)]\n",
    "    genre_df_count = genre_df.groupby('genre').count()\n",
    "    genre_df_sorted = genre_df.groupby('genre')['genre'].count().sort_values(ascending = False).head(10)\n",
    "    return genre_df_sorted"
   ]
  },
  {
   "cell_type": "markdown",
   "metadata": {},
   "source": []
  },
  {
   "cell_type": "markdown",
   "metadata": {
    "id": "la2s2_PF_Zcu"
   },
   "source": [
    "Cравните результаты функции `genre_weekday()` для Москвы и Санкт-Петербурга в понедельник утром (с 7:00 до 11:00) и в пятницу вечером (с 17:00 до 23:00):"
   ]
  },
  {
   "cell_type": "code",
   "execution_count": 31,
   "metadata": {
    "id": "yz7itPUQ_Zcu"
   },
   "outputs": [
    {
     "data": {
      "text/plain": [
       "genre\n",
       "pop            781\n",
       "dance          549\n",
       "electronic     480\n",
       "rock           474\n",
       "hiphop         286\n",
       "ruspop         186\n",
       "world          181\n",
       "rusrap         175\n",
       "alternative    164\n",
       "unknown        161\n",
       "Name: genre, dtype: int64"
      ]
     },
     "execution_count": 31,
     "metadata": {},
     "output_type": "execute_result"
    }
   ],
   "source": [
    "# вызов функции для утра понедельника в Москве (вместо df — таблица moscow_general)\n",
    "# объекты, хранящие время, являются строками и сравниваются как строки\n",
    "# пример вызова: genre_weekday(moscow_general, 'Monday', '07:00', '11:00')\n",
    "genre_weekday(moscow_general, 'Monday', '07:00', '11:00')"
   ]
  },
  {
   "cell_type": "code",
   "execution_count": 32,
   "metadata": {
    "id": "kwUcHPdy_Zcu"
   },
   "outputs": [
    {
     "data": {
      "text/plain": [
       "genre\n",
       "pop            218\n",
       "dance          182\n",
       "rock           162\n",
       "electronic     147\n",
       "hiphop          80\n",
       "ruspop          64\n",
       "alternative     58\n",
       "rusrap          55\n",
       "jazz            44\n",
       "classical       40\n",
       "Name: genre, dtype: int64"
      ]
     },
     "execution_count": 32,
     "metadata": {},
     "output_type": "execute_result"
    }
   ],
   "source": [
    "# вызов функции для утра понедельника в Петербурге (вместо df — таблица spb_general)\n",
    "genre_weekday(spb_general, 'Monday','07:00', '11:00')"
   ]
  },
  {
   "cell_type": "code",
   "execution_count": 33,
   "metadata": {
    "id": "EzXVRE1o_Zcu"
   },
   "outputs": [
    {
     "data": {
      "text/plain": [
       "genre\n",
       "pop            713\n",
       "rock           517\n",
       "dance          495\n",
       "electronic     482\n",
       "hiphop         273\n",
       "world          208\n",
       "ruspop         170\n",
       "alternative    163\n",
       "classical      163\n",
       "rusrap         142\n",
       "Name: genre, dtype: int64"
      ]
     },
     "execution_count": 33,
     "metadata": {},
     "output_type": "execute_result"
    }
   ],
   "source": [
    "# вызов функции для вечера пятницы в Москве\n",
    "genre_weekday(moscow_general, 'Friday','17:00', '23:00')"
   ]
  },
  {
   "cell_type": "code",
   "execution_count": 34,
   "metadata": {
    "id": "JZaEKu5v_Zcu"
   },
   "outputs": [
    {
     "data": {
      "text/plain": [
       "genre\n",
       "pop            256\n",
       "rock           216\n",
       "electronic     216\n",
       "dance          210\n",
       "hiphop          97\n",
       "alternative     63\n",
       "jazz            61\n",
       "classical       60\n",
       "rusrap          59\n",
       "world           54\n",
       "Name: genre, dtype: int64"
      ]
     },
     "execution_count": 34,
     "metadata": {},
     "output_type": "execute_result"
    }
   ],
   "source": [
    "# вызов функции для вечера пятницы в Петербурге\n",
    "genre_weekday(spb_general, 'Friday','17:00', '23:00')"
   ]
  },
  {
   "cell_type": "markdown",
   "metadata": {
    "id": "wrCe4MNX_Zcu"
   },
   "source": [
    "**Выводы**\n",
    "\n",
    "Если сравнить топ-10 жанров в понедельник утром, можно сделать такие выводы:\n",
    "\n",
    "1. В Москве и Петербурге слушают похожую музыку. Единственное отличие — в московский рейтинг вошёл жанр “world”, а в петербургский — джаз и классика.\n",
    "\n",
    "2. В Москве пропущенных значений оказалось так много, что значение `'unknown'` заняло десятое место среди самых популярных жанров. Значит, пропущенные значения занимают существенную долю в данных и угрожают достоверности исследования.\n",
    "\n",
    "Вечер пятницы не меняет эту картину. Некоторые жанры поднимаются немного выше, другие спускаются, но в целом топ-10 остаётся тем же самым.\n",
    "\n",
    "Таким образом, вторая гипотеза подтвердилась лишь частично:\n",
    "* Пользователи слушают похожую музыку в начале недели и в конце.\n",
    "* Разница между Москвой и Петербургом не слишком выражена. В Москве чаще слушают русскую популярную музыку, в Петербурге — джаз.\n",
    "\n",
    "Однако пропуски в данных ставят под сомнение этот результат. В Москве их так много, что рейтинг топ-10 мог бы выглядеть иначе, если бы не утерянные  данные о жанрах."
   ]
  },
  {
   "cell_type": "markdown",
   "metadata": {
    "id": "JolODAqr_Zcu"
   },
   "source": [
    "### Жанровые предпочтения в Москве и Петербурге\n",
    "\n",
    "Гипотеза: Петербург — столица рэпа, музыку этого жанра там слушают чаще, чем в Москве.  А Москва — город контрастов, в котором, тем не менее, преобладает поп-музыка."
   ]
  },
  {
   "cell_type": "markdown",
   "metadata": {
    "id": "DlegSvaT_Zcu"
   },
   "source": [
    "Сгруппируйте таблицу `moscow_general` по жанру и посчитайте прослушивания треков каждого жанра методом `count()`. Затем отсортируйте результат в порядке убывания и сохраните его в таблице `moscow_genres`."
   ]
  },
  {
   "cell_type": "code",
   "execution_count": 35,
   "metadata": {
    "id": "r19lIPke_Zcu"
   },
   "outputs": [],
   "source": [
    "# одной строкой: группировка таблицы moscow_general по столбцу 'genre', \n",
    "# подсчёт числа значений 'genre' в этой группировке методом count(), \n",
    "# сортировка получившегося Series в порядке убывания и сохранение в moscow_genres\n",
    "moscow_genres = moscow_general.groupby('genre')['genre'].count().sort_values(ascending = False)"
   ]
  },
  {
   "cell_type": "markdown",
   "metadata": {
    "id": "6kMuomxTiIr8"
   },
   "source": [
    "Выведите на экран первые десять строк `moscow_genres`:"
   ]
  },
  {
   "cell_type": "code",
   "execution_count": 36,
   "metadata": {
    "id": "WhCSooF8_Zcv"
   },
   "outputs": [
    {
     "data": {
      "text/plain": [
       "genre\n",
       "pop            5892\n",
       "dance          4435\n",
       "rock           3965\n",
       "electronic     3786\n",
       "hiphop         2096\n",
       "classical      1616\n",
       "world          1432\n",
       "alternative    1379\n",
       "ruspop         1372\n",
       "rusrap         1161\n",
       "Name: genre, dtype: int64"
      ]
     },
     "execution_count": 36,
     "metadata": {},
     "output_type": "execute_result"
    }
   ],
   "source": [
    "moscow_genres.head(10)# просмотр первых 10 строк moscow_genres"
   ]
  },
  {
   "cell_type": "markdown",
   "metadata": {
    "id": "cnPG2vnN_Zcv"
   },
   "source": [
    "Теперь повторите то же и для Петербурга.\n",
    "\n",
    "Сгруппируйте таблицу `spb_general` по жанру. Посчитайте прослушивания треков каждого жанра. Результат отсортируйте в порядке убывания и сохраните в таблице `spb_genres`:\n"
   ]
  },
  {
   "cell_type": "code",
   "execution_count": 37,
   "metadata": {
    "id": "gluLIpE7_Zcv"
   },
   "outputs": [],
   "source": [
    "# одной строкой: группировка таблицы spb_general по столбцу 'genre', \n",
    "# подсчёт числа значений 'genre' в этой группировке методом count(), \n",
    "# сортировка получившегося Series в порядке убывания и сохранение в spb_genres\n",
    "spb_general = spb_general.groupby('genre')['genre'].count().sort_values(ascending = False)"
   ]
  },
  {
   "cell_type": "markdown",
   "metadata": {
    "id": "5Doha_ODgyQ8"
   },
   "source": [
    "Выведите на экран первые десять строк `spb_genres`:"
   ]
  },
  {
   "cell_type": "code",
   "execution_count": 38,
   "metadata": {
    "id": "uaGJHjVU_Zcv"
   },
   "outputs": [
    {
     "data": {
      "text/plain": [
       "genre\n",
       "pop            2431\n",
       "dance          1932\n",
       "rock           1879\n",
       "electronic     1736\n",
       "hiphop          960\n",
       "alternative     649\n",
       "classical       646\n",
       "rusrap          564\n",
       "ruspop          538\n",
       "world           515\n",
       "Name: genre, dtype: int64"
      ]
     },
     "execution_count": 38,
     "metadata": {},
     "output_type": "execute_result"
    }
   ],
   "source": [
    "spb_general.head(10) # просмотр первых 10 строк spb_genres"
   ]
  },
  {
   "cell_type": "markdown",
   "metadata": {
    "id": "RY51YJYu_Zcv"
   },
   "source": [
    "**Выводы**"
   ]
  },
  {
   "cell_type": "markdown",
   "metadata": {
    "id": "nVhnJEm__Zcv"
   },
   "source": [
    "Гипотеза частично подтвердилась:\n",
    "* Поп-музыка — самый популярный жанр в Москве, как и предполагала гипотеза. Более того, в топ-10 жанров встречается близкий жанр — русская популярная музыка.\n",
    "* Вопреки ожиданиям, рэп одинаково популярен в Москве и Петербурге. \n"
   ]
  },
  {
   "cell_type": "markdown",
   "metadata": {
    "id": "ykKQ0N65_Zcv"
   },
   "source": [
    "## Итоги исследования"
   ]
  },
  {
   "cell_type": "markdown",
   "metadata": {
    "id": "tjUwbHb3_Zcv"
   },
   "source": [
    "Вы проверили три гипотезы и установили:\n",
    "\n",
    "1. День недели по-разному влияет на активность пользователей в Москве и Петербурге. \n",
    "\n",
    "Первая гипотеза полностью подтвердилась.\n",
    "\n",
    "2. Музыкальные предпочтения не сильно меняются в течение недели — будь то Москва или Петербург. Небольшие различия заметны в начале недели, по понедельникам:\n",
    "* в Москве слушают музыку жанра “world”,\n",
    "* в Петербурге — джаз и классику.\n",
    "\n",
    "Таким образом, вторая гипотеза подтвердилась лишь отчасти. Этот результат мог оказаться иным, если бы не пропуски в данных.\n",
    "\n",
    "3. Во вкусах пользователей Москвы и Петербурга больше общего чем различий. Вопреки ожиданиям, предпочтения жанров в Петербурге напоминают московские.\n",
    "\n",
    "Третья гипотеза не подтвердилась. Если различия в предпочтениях и существуют, на основной массе пользователей они незаметны.\n",
    "\n",
    "**На практике исследования содержат проверки статистических гипотез.**\n",
    "Из данных одного сервиса не всегда можно сделать вывод о всех жителях города.\n",
    "Проверки статистических гипотез покажут, насколько они достоверны, исходя из имеющихся данных. \n",
    "С методами проверок гипотез вы ещё познакомитесь в следующих темах."
   ]
  }
 ],
 "metadata": {
  "ExecuteTimeLog": [
   {
    "duration": 810,
    "start_time": "2021-10-27T15:11:03.320Z"
   },
   {
    "duration": 4,
    "start_time": "2021-10-27T15:11:17.736Z"
   },
   {
    "duration": 298,
    "start_time": "2021-10-27T18:46:46.015Z"
   },
   {
    "duration": 261,
    "start_time": "2021-10-27T18:47:40.992Z"
   },
   {
    "duration": 280,
    "start_time": "2021-10-27T18:48:19.016Z"
   },
   {
    "duration": 569,
    "start_time": "2021-10-27T18:48:52.670Z"
   },
   {
    "duration": 579,
    "start_time": "2021-10-27T18:49:15.269Z"
   },
   {
    "duration": 137,
    "start_time": "2021-10-27T18:49:19.109Z"
   },
   {
    "duration": 35,
    "start_time": "2021-10-27T18:49:25.607Z"
   },
   {
    "duration": 23,
    "start_time": "2021-10-27T20:03:00.309Z"
   },
   {
    "duration": 5,
    "start_time": "2021-10-27T20:51:08.123Z"
   },
   {
    "duration": 19,
    "start_time": "2021-10-27T21:21:54.794Z"
   },
   {
    "duration": 21,
    "start_time": "2021-10-27T21:21:56.758Z"
   },
   {
    "duration": 17,
    "start_time": "2021-10-27T21:22:01.094Z"
   },
   {
    "duration": 4,
    "start_time": "2021-10-27T21:22:10.751Z"
   },
   {
    "duration": 8,
    "start_time": "2021-10-27T21:31:05.835Z"
   },
   {
    "duration": 11,
    "start_time": "2021-10-27T21:40:17.925Z"
   },
   {
    "duration": 5,
    "start_time": "2021-10-27T21:40:21.685Z"
   },
   {
    "duration": 4,
    "start_time": "2021-10-27T21:40:24.213Z"
   },
   {
    "duration": 15,
    "start_time": "2021-10-27T21:40:29.219Z"
   },
   {
    "duration": 4,
    "start_time": "2021-10-27T21:40:31.773Z"
   },
   {
    "duration": 530,
    "start_time": "2021-10-27T21:41:03.211Z"
   },
   {
    "duration": 290,
    "start_time": "2021-10-27T21:41:03.455Z"
   },
   {
    "duration": 285,
    "start_time": "2021-10-27T21:41:03.461Z"
   },
   {
    "duration": 285,
    "start_time": "2021-10-27T21:41:03.463Z"
   },
   {
    "duration": 282,
    "start_time": "2021-10-27T21:41:03.467Z"
   },
   {
    "duration": 275,
    "start_time": "2021-10-27T21:41:03.475Z"
   },
   {
    "duration": 274,
    "start_time": "2021-10-27T21:41:03.478Z"
   },
   {
    "duration": 273,
    "start_time": "2021-10-27T21:41:03.481Z"
   },
   {
    "duration": 272,
    "start_time": "2021-10-27T21:41:03.483Z"
   },
   {
    "duration": 269,
    "start_time": "2021-10-27T21:41:03.487Z"
   },
   {
    "duration": 269,
    "start_time": "2021-10-27T21:41:03.489Z"
   },
   {
    "duration": 268,
    "start_time": "2021-10-27T21:41:03.492Z"
   },
   {
    "duration": 263,
    "start_time": "2021-10-27T21:41:03.498Z"
   },
   {
    "duration": 261,
    "start_time": "2021-10-27T21:41:03.502Z"
   },
   {
    "duration": 259,
    "start_time": "2021-10-27T21:41:03.505Z"
   },
   {
    "duration": 259,
    "start_time": "2021-10-27T21:41:03.507Z"
   },
   {
    "duration": 259,
    "start_time": "2021-10-27T21:41:03.509Z"
   },
   {
    "duration": 257,
    "start_time": "2021-10-27T21:41:03.512Z"
   },
   {
    "duration": 257,
    "start_time": "2021-10-27T21:41:03.514Z"
   },
   {
    "duration": 230,
    "start_time": "2021-10-27T21:41:03.542Z"
   },
   {
    "duration": 229,
    "start_time": "2021-10-27T21:41:03.545Z"
   },
   {
    "duration": 227,
    "start_time": "2021-10-27T21:41:03.548Z"
   },
   {
    "duration": 223,
    "start_time": "2021-10-27T21:41:03.554Z"
   },
   {
    "duration": 222,
    "start_time": "2021-10-27T21:41:03.557Z"
   },
   {
    "duration": 217,
    "start_time": "2021-10-27T21:41:03.563Z"
   },
   {
    "duration": 216,
    "start_time": "2021-10-27T21:41:03.566Z"
   },
   {
    "duration": 215,
    "start_time": "2021-10-27T21:41:03.568Z"
   },
   {
    "duration": 214,
    "start_time": "2021-10-27T21:41:03.571Z"
   },
   {
    "duration": 213,
    "start_time": "2021-10-27T21:41:03.573Z"
   },
   {
    "duration": 270,
    "start_time": "2021-10-27T21:41:03.575Z"
   },
   {
    "duration": 267,
    "start_time": "2021-10-27T21:41:03.579Z"
   },
   {
    "duration": 267,
    "start_time": "2021-10-27T21:41:03.581Z"
   },
   {
    "duration": 621,
    "start_time": "2021-10-27T21:41:27.523Z"
   },
   {
    "duration": 133,
    "start_time": "2021-10-27T21:41:28.145Z"
   },
   {
    "duration": 16,
    "start_time": "2021-10-27T21:41:28.280Z"
   },
   {
    "duration": 25,
    "start_time": "2021-10-27T21:41:28.298Z"
   },
   {
    "duration": 4,
    "start_time": "2021-10-27T21:41:28.325Z"
   },
   {
    "duration": 18,
    "start_time": "2021-10-27T21:41:28.345Z"
   },
   {
    "duration": 4,
    "start_time": "2021-10-27T21:42:05.486Z"
   },
   {
    "duration": 327,
    "start_time": "2021-10-27T21:43:34.995Z"
   },
   {
    "duration": 23,
    "start_time": "2021-10-27T21:43:52.438Z"
   },
   {
    "duration": 22,
    "start_time": "2021-10-27T21:53:03.820Z"
   },
   {
    "duration": 7,
    "start_time": "2021-10-27T21:58:28.137Z"
   },
   {
    "duration": 7,
    "start_time": "2021-10-27T21:58:32.665Z"
   },
   {
    "duration": 552,
    "start_time": "2021-10-27T21:58:43.198Z"
   },
   {
    "duration": 129,
    "start_time": "2021-10-27T21:58:43.752Z"
   },
   {
    "duration": 17,
    "start_time": "2021-10-27T21:58:43.883Z"
   },
   {
    "duration": 25,
    "start_time": "2021-10-27T21:58:43.901Z"
   },
   {
    "duration": 4,
    "start_time": "2021-10-27T21:58:43.928Z"
   },
   {
    "duration": 19,
    "start_time": "2021-10-27T21:58:43.944Z"
   },
   {
    "duration": 4,
    "start_time": "2021-10-27T21:58:43.964Z"
   },
   {
    "duration": 23,
    "start_time": "2021-10-27T21:58:43.970Z"
   },
   {
    "duration": 22,
    "start_time": "2021-10-27T21:59:00.191Z"
   },
   {
    "duration": 8,
    "start_time": "2021-10-27T22:01:01.138Z"
   },
   {
    "duration": 21,
    "start_time": "2021-10-27T22:01:03.726Z"
   },
   {
    "duration": 517,
    "start_time": "2021-10-28T11:47:56.652Z"
   },
   {
    "duration": 815,
    "start_time": "2021-10-28T12:02:00.086Z"
   },
   {
    "duration": 187,
    "start_time": "2021-10-28T12:02:00.904Z"
   },
   {
    "duration": 27,
    "start_time": "2021-10-28T12:02:01.095Z"
   },
   {
    "duration": 57,
    "start_time": "2021-10-28T12:02:01.126Z"
   },
   {
    "duration": 40,
    "start_time": "2021-10-28T12:02:01.186Z"
   },
   {
    "duration": 42,
    "start_time": "2021-10-28T12:02:01.229Z"
   },
   {
    "duration": 31,
    "start_time": "2021-10-28T12:02:01.274Z"
   },
   {
    "duration": 38,
    "start_time": "2021-10-28T12:02:01.308Z"
   },
   {
    "duration": 5,
    "start_time": "2021-10-28T12:02:20.779Z"
   },
   {
    "duration": 4,
    "start_time": "2021-10-28T12:02:27.459Z"
   },
   {
    "duration": 9,
    "start_time": "2021-10-28T12:02:40.890Z"
   },
   {
    "duration": 28,
    "start_time": "2021-10-28T12:04:46.151Z"
   },
   {
    "duration": 18,
    "start_time": "2021-10-28T12:05:03.598Z"
   },
   {
    "duration": 32,
    "start_time": "2021-10-28T12:05:05.261Z"
   },
   {
    "duration": 32,
    "start_time": "2021-10-28T12:05:07.541Z"
   },
   {
    "duration": 10,
    "start_time": "2021-10-28T12:15:40.664Z"
   },
   {
    "duration": -918,
    "start_time": "2021-10-28T12:16:01.669Z"
   },
   {
    "duration": -924,
    "start_time": "2021-10-28T12:16:09.267Z"
   },
   {
    "duration": 121,
    "start_time": "2021-10-28T12:16:16.787Z"
   },
   {
    "duration": 204,
    "start_time": "2021-10-28T12:20:03.380Z"
   },
   {
    "duration": 30,
    "start_time": "2021-10-28T12:20:06.153Z"
   },
   {
    "duration": 174,
    "start_time": "2021-10-28T12:20:09.482Z"
   },
   {
    "duration": 195,
    "start_time": "2021-10-28T12:20:26.249Z"
   },
   {
    "duration": 30,
    "start_time": "2021-10-28T12:20:43.692Z"
   },
   {
    "duration": 392,
    "start_time": "2021-10-28T12:21:00.583Z"
   },
   {
    "duration": 35,
    "start_time": "2021-10-28T12:22:53.199Z"
   },
   {
    "duration": 48,
    "start_time": "2021-10-28T12:22:56.157Z"
   },
   {
    "duration": 767,
    "start_time": "2021-10-28T12:23:05.763Z"
   },
   {
    "duration": 187,
    "start_time": "2021-10-28T12:23:06.533Z"
   },
   {
    "duration": 35,
    "start_time": "2021-10-28T12:23:06.723Z"
   },
   {
    "duration": 32,
    "start_time": "2021-10-28T12:23:06.761Z"
   },
   {
    "duration": 5,
    "start_time": "2021-10-28T12:23:06.795Z"
   },
   {
    "duration": 56,
    "start_time": "2021-10-28T12:23:06.802Z"
   },
   {
    "duration": 22,
    "start_time": "2021-10-28T12:23:06.861Z"
   },
   {
    "duration": 35,
    "start_time": "2021-10-28T12:23:06.886Z"
   },
   {
    "duration": 36,
    "start_time": "2021-10-28T12:23:06.924Z"
   },
   {
    "duration": 45,
    "start_time": "2021-10-28T12:23:19.577Z"
   },
   {
    "duration": 39,
    "start_time": "2021-10-28T12:32:09.564Z"
   },
   {
    "duration": 29,
    "start_time": "2021-10-28T12:32:14.126Z"
   },
   {
    "duration": 35,
    "start_time": "2021-10-28T12:32:16.836Z"
   },
   {
    "duration": 439,
    "start_time": "2021-10-28T12:33:43.809Z"
   },
   {
    "duration": 25,
    "start_time": "2021-10-28T12:33:55.336Z"
   },
   {
    "duration": 1079,
    "start_time": "2021-10-28T12:34:05.435Z"
   },
   {
    "duration": 184,
    "start_time": "2021-10-28T12:34:06.516Z"
   },
   {
    "duration": 26,
    "start_time": "2021-10-28T12:34:06.702Z"
   },
   {
    "duration": 48,
    "start_time": "2021-10-28T12:34:06.731Z"
   },
   {
    "duration": 13,
    "start_time": "2021-10-28T12:34:06.782Z"
   },
   {
    "duration": 31,
    "start_time": "2021-10-28T12:34:06.798Z"
   },
   {
    "duration": 5,
    "start_time": "2021-10-28T12:34:06.831Z"
   },
   {
    "duration": 30,
    "start_time": "2021-10-28T12:34:06.859Z"
   },
   {
    "duration": 35,
    "start_time": "2021-10-28T12:34:06.892Z"
   },
   {
    "duration": 22,
    "start_time": "2021-10-28T12:34:14.378Z"
   },
   {
    "duration": 46,
    "start_time": "2021-10-28T12:34:18.262Z"
   },
   {
    "duration": 452,
    "start_time": "2021-10-28T12:35:26.000Z"
   },
   {
    "duration": 768,
    "start_time": "2021-10-28T12:36:13.693Z"
   },
   {
    "duration": 741,
    "start_time": "2021-10-28T12:36:22.590Z"
   },
   {
    "duration": 267,
    "start_time": "2021-10-28T12:36:25.240Z"
   },
   {
    "duration": 28,
    "start_time": "2021-10-28T12:36:27.089Z"
   },
   {
    "duration": 33,
    "start_time": "2021-10-28T12:36:30.233Z"
   },
   {
    "duration": 6,
    "start_time": "2021-10-28T12:36:36.459Z"
   },
   {
    "duration": 31,
    "start_time": "2021-10-28T12:36:39.047Z"
   },
   {
    "duration": 6,
    "start_time": "2021-10-28T12:36:41.636Z"
   },
   {
    "duration": 31,
    "start_time": "2021-10-28T12:36:44.039Z"
   },
   {
    "duration": 38,
    "start_time": "2021-10-28T12:36:46.197Z"
   },
   {
    "duration": 33,
    "start_time": "2021-10-28T12:36:49.216Z"
   },
   {
    "duration": 82,
    "start_time": "2021-10-28T12:45:40.431Z"
   },
   {
    "duration": 121,
    "start_time": "2021-10-28T12:47:50.487Z"
   },
   {
    "duration": 410,
    "start_time": "2021-10-28T12:48:03.184Z"
   },
   {
    "duration": 120,
    "start_time": "2021-10-28T12:48:15.390Z"
   },
   {
    "duration": 123,
    "start_time": "2021-10-28T12:52:27.499Z"
   },
   {
    "duration": 80,
    "start_time": "2021-10-28T12:53:09.805Z"
   },
   {
    "duration": 100,
    "start_time": "2021-10-28T12:53:32.839Z"
   },
   {
    "duration": 86,
    "start_time": "2021-10-28T13:01:46.413Z"
   },
   {
    "duration": 93,
    "start_time": "2021-10-28T13:01:49.986Z"
   },
   {
    "duration": 77,
    "start_time": "2021-10-28T13:01:52.884Z"
   },
   {
    "duration": 8,
    "start_time": "2021-10-28T13:04:31.244Z"
   },
   {
    "duration": 9,
    "start_time": "2021-10-28T13:04:35.312Z"
   },
   {
    "duration": 9,
    "start_time": "2021-10-28T13:04:55.468Z"
   },
   {
    "duration": 13,
    "start_time": "2021-10-28T13:05:11.497Z"
   },
   {
    "duration": 25,
    "start_time": "2021-10-28T13:51:28.747Z"
   },
   {
    "duration": 16,
    "start_time": "2021-10-28T13:56:57.077Z"
   },
   {
    "duration": -1066,
    "start_time": "2021-10-28T13:59:46.875Z"
   },
   {
    "duration": -1067,
    "start_time": "2021-10-28T13:59:46.878Z"
   },
   {
    "duration": 30,
    "start_time": "2021-10-28T13:59:49.340Z"
   },
   {
    "duration": 7070,
    "start_time": "2021-10-28T13:59:52.421Z"
   },
   {
    "duration": 373,
    "start_time": "2021-10-28T14:00:14.118Z"
   },
   {
    "duration": 23,
    "start_time": "2021-10-28T14:00:29.280Z"
   },
   {
    "duration": 369,
    "start_time": "2021-10-28T14:01:07.492Z"
   },
   {
    "duration": 23,
    "start_time": "2021-10-28T14:04:30.139Z"
   },
   {
    "duration": 29,
    "start_time": "2021-10-28T14:04:31.679Z"
   },
   {
    "duration": 370,
    "start_time": "2021-10-28T14:09:11.364Z"
   },
   {
    "duration": 366,
    "start_time": "2021-10-28T14:15:49.127Z"
   },
   {
    "duration": 382,
    "start_time": "2021-10-28T14:16:53.530Z"
   },
   {
    "duration": 790,
    "start_time": "2021-10-28T14:17:16.218Z"
   },
   {
    "duration": 191,
    "start_time": "2021-10-28T14:17:17.011Z"
   },
   {
    "duration": 26,
    "start_time": "2021-10-28T14:17:17.205Z"
   },
   {
    "duration": 52,
    "start_time": "2021-10-28T14:17:17.234Z"
   },
   {
    "duration": 7,
    "start_time": "2021-10-28T14:17:17.288Z"
   },
   {
    "duration": 30,
    "start_time": "2021-10-28T14:17:17.298Z"
   },
   {
    "duration": 6,
    "start_time": "2021-10-28T14:17:17.358Z"
   },
   {
    "duration": 46,
    "start_time": "2021-10-28T14:17:17.366Z"
   },
   {
    "duration": 62,
    "start_time": "2021-10-28T14:17:17.417Z"
   },
   {
    "duration": 50,
    "start_time": "2021-10-28T14:17:17.482Z"
   },
   {
    "duration": 124,
    "start_time": "2021-10-28T14:17:17.557Z"
   },
   {
    "duration": 136,
    "start_time": "2021-10-28T14:17:17.685Z"
   },
   {
    "duration": 111,
    "start_time": "2021-10-28T14:17:17.824Z"
   },
   {
    "duration": 29,
    "start_time": "2021-10-28T14:17:17.937Z"
   },
   {
    "duration": 4,
    "start_time": "2021-10-28T14:17:17.969Z"
   },
   {
    "duration": 4,
    "start_time": "2021-10-28T14:17:22.926Z"
   },
   {
    "duration": 939,
    "start_time": "2021-10-28T14:17:24.896Z"
   },
   {
    "duration": 7,
    "start_time": "2021-10-28T14:18:12.231Z"
   },
   {
    "duration": 7,
    "start_time": "2021-10-28T14:18:17.344Z"
   },
   {
    "duration": 14,
    "start_time": "2021-10-28T14:18:24.555Z"
   },
   {
    "duration": 19,
    "start_time": "2021-10-28T14:18:32.753Z"
   },
   {
    "duration": 835,
    "start_time": "2021-10-28T14:19:21.317Z"
   },
   {
    "duration": 4,
    "start_time": "2021-10-28T14:19:49.975Z"
   },
   {
    "duration": 751,
    "start_time": "2021-10-28T14:20:16.785Z"
   },
   {
    "duration": 1093,
    "start_time": "2021-10-28T14:20:29.419Z"
   },
   {
    "duration": 727,
    "start_time": "2021-10-28T14:22:30.893Z"
   },
   {
    "duration": 4,
    "start_time": "2021-10-28T14:22:59.983Z"
   },
   {
    "duration": 718,
    "start_time": "2021-10-28T14:23:03.126Z"
   },
   {
    "duration": 719,
    "start_time": "2021-10-28T14:23:27.839Z"
   },
   {
    "duration": 14,
    "start_time": "2021-10-28T14:23:45.219Z"
   },
   {
    "duration": 852,
    "start_time": "2021-10-28T14:25:17.541Z"
   },
   {
    "duration": 4,
    "start_time": "2021-10-28T14:25:19.635Z"
   },
   {
    "duration": 4,
    "start_time": "2021-10-28T14:25:21.855Z"
   },
   {
    "duration": 766,
    "start_time": "2021-10-28T14:25:22.902Z"
   },
   {
    "duration": 4,
    "start_time": "2021-10-28T14:25:30.247Z"
   },
   {
    "duration": 215,
    "start_time": "2021-10-28T14:25:30.254Z"
   },
   {
    "duration": 21,
    "start_time": "2021-10-28T14:25:30.473Z"
   },
   {
    "duration": 57,
    "start_time": "2021-10-28T14:25:30.497Z"
   },
   {
    "duration": 17,
    "start_time": "2021-10-28T14:25:30.557Z"
   },
   {
    "duration": 39,
    "start_time": "2021-10-28T14:25:30.576Z"
   },
   {
    "duration": 7,
    "start_time": "2021-10-28T14:25:30.618Z"
   },
   {
    "duration": 74,
    "start_time": "2021-10-28T14:25:30.629Z"
   },
   {
    "duration": 32,
    "start_time": "2021-10-28T14:25:30.705Z"
   },
   {
    "duration": 43,
    "start_time": "2021-10-28T14:25:30.740Z"
   },
   {
    "duration": 100,
    "start_time": "2021-10-28T14:25:30.785Z"
   },
   {
    "duration": 100,
    "start_time": "2021-10-28T14:25:30.888Z"
   },
   {
    "duration": 90,
    "start_time": "2021-10-28T14:25:30.990Z"
   },
   {
    "duration": 14,
    "start_time": "2021-10-28T14:25:31.083Z"
   },
   {
    "duration": 11,
    "start_time": "2021-10-28T14:25:31.099Z"
   },
   {
    "duration": 800,
    "start_time": "2021-10-28T14:25:31.113Z"
   },
   {
    "duration": 754,
    "start_time": "2021-10-28T14:26:58.984Z"
   },
   {
    "duration": 1669,
    "start_time": "2021-10-28T14:30:06.759Z"
   },
   {
    "duration": 979,
    "start_time": "2021-10-28T14:30:08.431Z"
   },
   {
    "duration": 29,
    "start_time": "2021-10-28T14:30:09.413Z"
   },
   {
    "duration": 56,
    "start_time": "2021-10-28T14:30:09.445Z"
   },
   {
    "duration": 7,
    "start_time": "2021-10-28T14:30:09.504Z"
   },
   {
    "duration": 62,
    "start_time": "2021-10-28T14:30:09.515Z"
   },
   {
    "duration": 7,
    "start_time": "2021-10-28T14:30:09.580Z"
   },
   {
    "duration": 70,
    "start_time": "2021-10-28T14:30:09.592Z"
   },
   {
    "duration": 25,
    "start_time": "2021-10-28T14:30:09.665Z"
   },
   {
    "duration": 63,
    "start_time": "2021-10-28T14:30:09.693Z"
   },
   {
    "duration": 100,
    "start_time": "2021-10-28T14:30:09.759Z"
   },
   {
    "duration": 124,
    "start_time": "2021-10-28T14:30:09.861Z"
   },
   {
    "duration": 106,
    "start_time": "2021-10-28T14:30:09.988Z"
   },
   {
    "duration": 13,
    "start_time": "2021-10-28T14:30:10.097Z"
   },
   {
    "duration": 5,
    "start_time": "2021-10-28T14:30:10.112Z"
   },
   {
    "duration": 850,
    "start_time": "2021-10-28T14:30:10.120Z"
   },
   {
    "duration": -1114,
    "start_time": "2021-10-28T14:30:12.089Z"
   },
   {
    "duration": -1121,
    "start_time": "2021-10-28T14:30:12.098Z"
   },
   {
    "duration": -1132,
    "start_time": "2021-10-28T14:30:12.111Z"
   },
   {
    "duration": -1143,
    "start_time": "2021-10-28T14:30:12.123Z"
   },
   {
    "duration": -1150,
    "start_time": "2021-10-28T14:30:12.132Z"
   },
   {
    "duration": -1160,
    "start_time": "2021-10-28T14:30:12.143Z"
   },
   {
    "duration": -1168,
    "start_time": "2021-10-28T14:30:12.152Z"
   },
   {
    "duration": -1181,
    "start_time": "2021-10-28T14:30:12.167Z"
   },
   {
    "duration": -1195,
    "start_time": "2021-10-28T14:30:12.182Z"
   },
   {
    "duration": -1211,
    "start_time": "2021-10-28T14:30:12.200Z"
   },
   {
    "duration": -1212,
    "start_time": "2021-10-28T14:30:12.202Z"
   },
   {
    "duration": -1214,
    "start_time": "2021-10-28T14:30:12.205Z"
   },
   {
    "duration": -1215,
    "start_time": "2021-10-28T14:30:12.208Z"
   },
   {
    "duration": -1216,
    "start_time": "2021-10-28T14:30:12.210Z"
   },
   {
    "duration": -1219,
    "start_time": "2021-10-28T14:30:12.214Z"
   },
   {
    "duration": -1219,
    "start_time": "2021-10-28T14:30:12.216Z"
   },
   {
    "duration": -1221,
    "start_time": "2021-10-28T14:30:12.219Z"
   },
   {
    "duration": -1223,
    "start_time": "2021-10-28T14:30:12.222Z"
   },
   {
    "duration": -1224,
    "start_time": "2021-10-28T14:30:12.225Z"
   },
   {
    "duration": -1226,
    "start_time": "2021-10-28T14:30:12.228Z"
   },
   {
    "duration": -1227,
    "start_time": "2021-10-28T14:30:12.231Z"
   },
   {
    "duration": -1229,
    "start_time": "2021-10-28T14:30:12.234Z"
   },
   {
    "duration": 775,
    "start_time": "2021-10-28T14:31:26.467Z"
   },
   {
    "duration": 4,
    "start_time": "2021-10-28T14:31:28.369Z"
   },
   {
    "duration": -1109,
    "start_time": "2021-10-28T14:31:40.612Z"
   },
   {
    "duration": -1111,
    "start_time": "2021-10-28T14:31:40.615Z"
   },
   {
    "duration": 768,
    "start_time": "2021-10-28T14:31:58.134Z"
   },
   {
    "duration": 184,
    "start_time": "2021-10-28T14:31:58.904Z"
   },
   {
    "duration": 25,
    "start_time": "2021-10-28T14:31:59.092Z"
   },
   {
    "duration": 49,
    "start_time": "2021-10-28T14:31:59.120Z"
   },
   {
    "duration": 5,
    "start_time": "2021-10-28T14:31:59.172Z"
   },
   {
    "duration": 26,
    "start_time": "2021-10-28T14:31:59.179Z"
   },
   {
    "duration": 10,
    "start_time": "2021-10-28T14:31:59.208Z"
   },
   {
    "duration": 58,
    "start_time": "2021-10-28T14:31:59.221Z"
   },
   {
    "duration": 25,
    "start_time": "2021-10-28T14:31:59.281Z"
   },
   {
    "duration": 53,
    "start_time": "2021-10-28T14:31:59.308Z"
   },
   {
    "duration": 105,
    "start_time": "2021-10-28T14:31:59.365Z"
   },
   {
    "duration": 101,
    "start_time": "2021-10-28T14:31:59.472Z"
   },
   {
    "duration": 82,
    "start_time": "2021-10-28T14:31:59.576Z"
   },
   {
    "duration": 13,
    "start_time": "2021-10-28T14:31:59.661Z"
   },
   {
    "duration": 12,
    "start_time": "2021-10-28T14:31:59.676Z"
   },
   {
    "duration": 14660,
    "start_time": "2021-10-28T14:31:59.691Z"
   },
   {
    "duration": -1120,
    "start_time": "2021-10-28T14:32:15.473Z"
   },
   {
    "duration": 4,
    "start_time": "2021-10-28T14:33:03.212Z"
   },
   {
    "duration": 737,
    "start_time": "2021-10-28T14:33:07.959Z"
   },
   {
    "duration": 15,
    "start_time": "2021-10-28T14:33:11.039Z"
   },
   {
    "duration": 759,
    "start_time": "2021-10-28T14:33:53.588Z"
   },
   {
    "duration": 187,
    "start_time": "2021-10-28T14:33:54.350Z"
   },
   {
    "duration": 28,
    "start_time": "2021-10-28T14:33:54.539Z"
   },
   {
    "duration": 34,
    "start_time": "2021-10-28T14:33:54.570Z"
   },
   {
    "duration": 6,
    "start_time": "2021-10-28T14:33:54.607Z"
   },
   {
    "duration": 65,
    "start_time": "2021-10-28T14:33:54.615Z"
   },
   {
    "duration": 6,
    "start_time": "2021-10-28T14:33:54.683Z"
   },
   {
    "duration": 32,
    "start_time": "2021-10-28T14:33:54.693Z"
   },
   {
    "duration": 25,
    "start_time": "2021-10-28T14:33:54.757Z"
   },
   {
    "duration": 31,
    "start_time": "2021-10-28T14:33:54.785Z"
   },
   {
    "duration": 119,
    "start_time": "2021-10-28T14:33:54.819Z"
   },
   {
    "duration": 98,
    "start_time": "2021-10-28T14:33:54.940Z"
   },
   {
    "duration": 91,
    "start_time": "2021-10-28T14:33:55.040Z"
   },
   {
    "duration": 29,
    "start_time": "2021-10-28T14:33:55.134Z"
   },
   {
    "duration": 5,
    "start_time": "2021-10-28T14:33:55.165Z"
   },
   {
    "duration": 849,
    "start_time": "2021-10-28T14:33:55.173Z"
   },
   {
    "duration": 703,
    "start_time": "2021-10-28T14:43:26.226Z"
   },
   {
    "duration": 119,
    "start_time": "2021-10-28T14:43:49.400Z"
   },
   {
    "duration": 757,
    "start_time": "2021-10-28T14:43:55.255Z"
   },
   {
    "duration": 770,
    "start_time": "2021-10-28T14:45:23.509Z"
   },
   {
    "duration": 15,
    "start_time": "2021-10-28T14:45:40.148Z"
   },
   {
    "duration": 6,
    "start_time": "2021-10-28T14:48:05.657Z"
   },
   {
    "duration": 4,
    "start_time": "2021-10-28T14:48:07.749Z"
   },
   {
    "duration": 4,
    "start_time": "2021-10-28T14:48:43.802Z"
   },
   {
    "duration": 4,
    "start_time": "2021-10-28T14:49:37.670Z"
   },
   {
    "duration": 19,
    "start_time": "2021-10-28T14:49:39.455Z"
   },
   {
    "duration": 15,
    "start_time": "2021-10-28T14:49:42.352Z"
   },
   {
    "duration": 16,
    "start_time": "2021-10-28T14:57:28.587Z"
   },
   {
    "duration": 6,
    "start_time": "2021-10-28T15:07:08.645Z"
   },
   {
    "duration": 8,
    "start_time": "2021-10-28T15:07:13.637Z"
   },
   {
    "duration": 20,
    "start_time": "2021-10-28T15:07:21.464Z"
   },
   {
    "duration": 119,
    "start_time": "2021-10-28T16:42:38.866Z"
   },
   {
    "duration": 345,
    "start_time": "2021-10-28T16:43:11.468Z"
   },
   {
    "duration": 373,
    "start_time": "2021-10-28T16:43:48.631Z"
   },
   {
    "duration": 599,
    "start_time": "2021-10-28T16:44:20.619Z"
   },
   {
    "duration": 1410,
    "start_time": "2021-10-28T16:44:41.016Z"
   },
   {
    "duration": 653,
    "start_time": "2021-10-28T16:47:06.399Z"
   },
   {
    "duration": 379,
    "start_time": "2021-10-28T16:47:56.317Z"
   },
   {
    "duration": 348,
    "start_time": "2021-10-28T16:48:17.149Z"
   },
   {
    "duration": 358,
    "start_time": "2021-10-28T16:48:32.372Z"
   },
   {
    "duration": 414,
    "start_time": "2021-10-28T16:48:39.580Z"
   },
   {
    "duration": 372,
    "start_time": "2021-10-28T16:48:46.853Z"
   },
   {
    "duration": 141,
    "start_time": "2021-10-28T16:52:03.638Z"
   },
   {
    "duration": 5,
    "start_time": "2021-10-28T16:52:27.614Z"
   },
   {
    "duration": 374,
    "start_time": "2021-10-28T16:52:37.659Z"
   },
   {
    "duration": 5,
    "start_time": "2021-10-28T16:52:49.061Z"
   },
   {
    "duration": 29,
    "start_time": "2021-10-28T16:59:52.829Z"
   },
   {
    "duration": 25,
    "start_time": "2021-10-28T16:59:53.443Z"
   },
   {
    "duration": 30,
    "start_time": "2021-10-28T16:59:53.936Z"
   },
   {
    "duration": 25,
    "start_time": "2021-10-28T16:59:54.984Z"
   },
   {
    "duration": 31,
    "start_time": "2021-10-28T16:59:55.601Z"
   },
   {
    "duration": 24,
    "start_time": "2021-10-28T16:59:56.772Z"
   },
   {
    "duration": 383,
    "start_time": "2021-10-28T17:00:44.966Z"
   },
   {
    "duration": 29,
    "start_time": "2021-10-28T17:00:54.518Z"
   },
   {
    "duration": 5,
    "start_time": "2021-10-28T17:02:10.630Z"
   },
   {
    "duration": 22,
    "start_time": "2021-10-28T17:02:12.109Z"
   },
   {
    "duration": 22,
    "start_time": "2021-10-28T17:02:12.724Z"
   },
   {
    "duration": 19,
    "start_time": "2021-10-28T17:02:13.157Z"
   },
   {
    "duration": 20,
    "start_time": "2021-10-28T17:02:13.650Z"
   },
   {
    "duration": 22,
    "start_time": "2021-10-28T17:02:14.018Z"
   },
   {
    "duration": 28,
    "start_time": "2021-10-28T17:02:15.437Z"
   },
   {
    "duration": 356,
    "start_time": "2021-10-28T17:12:40.105Z"
   },
   {
    "duration": 356,
    "start_time": "2021-10-28T17:15:05.793Z"
   },
   {
    "duration": 361,
    "start_time": "2021-10-28T17:17:47.878Z"
   },
   {
    "duration": 12,
    "start_time": "2021-10-28T17:18:05.873Z"
   },
   {
    "duration": 13,
    "start_time": "2021-10-28T17:18:32.875Z"
   },
   {
    "duration": 9,
    "start_time": "2021-10-28T18:05:33.283Z"
   },
   {
    "duration": 12,
    "start_time": "2021-10-28T18:05:49.422Z"
   },
   {
    "duration": 4,
    "start_time": "2021-10-28T18:17:59.324Z"
   },
   {
    "duration": 5,
    "start_time": "2021-10-28T18:18:52.263Z"
   },
   {
    "duration": 365,
    "start_time": "2021-10-28T18:46:05.007Z"
   },
   {
    "duration": 5,
    "start_time": "2021-10-28T18:46:10.122Z"
   },
   {
    "duration": 5,
    "start_time": "2021-10-28T18:46:11.538Z"
   },
   {
    "duration": 21,
    "start_time": "2021-10-28T18:46:18.935Z"
   },
   {
    "duration": 12,
    "start_time": "2021-10-28T18:46:19.674Z"
   },
   {
    "duration": 5,
    "start_time": "2021-10-28T18:46:21.153Z"
   },
   {
    "duration": 348,
    "start_time": "2021-10-28T18:48:16.090Z"
   },
   {
    "duration": 6,
    "start_time": "2021-10-28T18:51:31.821Z"
   },
   {
    "duration": 931,
    "start_time": "2021-10-28T18:52:24.287Z"
   },
   {
    "duration": 188,
    "start_time": "2021-10-28T18:52:25.220Z"
   },
   {
    "duration": 28,
    "start_time": "2021-10-28T18:52:25.411Z"
   },
   {
    "duration": 50,
    "start_time": "2021-10-28T18:52:25.442Z"
   },
   {
    "duration": 7,
    "start_time": "2021-10-28T18:52:25.495Z"
   },
   {
    "duration": 63,
    "start_time": "2021-10-28T18:52:25.505Z"
   },
   {
    "duration": 9,
    "start_time": "2021-10-28T18:52:25.571Z"
   },
   {
    "duration": 31,
    "start_time": "2021-10-28T18:52:25.586Z"
   },
   {
    "duration": 58,
    "start_time": "2021-10-28T18:52:25.621Z"
   },
   {
    "duration": 30,
    "start_time": "2021-10-28T18:52:25.681Z"
   },
   {
    "duration": 110,
    "start_time": "2021-10-28T18:52:25.713Z"
   },
   {
    "duration": 105,
    "start_time": "2021-10-28T18:52:25.825Z"
   },
   {
    "duration": 83,
    "start_time": "2021-10-28T18:52:25.932Z"
   },
   {
    "duration": 15,
    "start_time": "2021-10-28T18:52:26.018Z"
   },
   {
    "duration": 3,
    "start_time": "2021-10-28T18:52:26.036Z"
   },
   {
    "duration": 14,
    "start_time": "2021-10-28T18:52:26.058Z"
   },
   {
    "duration": 21,
    "start_time": "2021-10-28T18:52:26.074Z"
   },
   {
    "duration": 15,
    "start_time": "2021-10-28T18:52:26.098Z"
   },
   {
    "duration": 44,
    "start_time": "2021-10-28T18:52:26.115Z"
   },
   {
    "duration": 5,
    "start_time": "2021-10-28T18:52:26.161Z"
   },
   {
    "duration": 25,
    "start_time": "2021-10-28T18:52:26.168Z"
   },
   {
    "duration": 18,
    "start_time": "2021-10-28T18:52:26.195Z"
   },
   {
    "duration": 51,
    "start_time": "2021-10-28T18:52:26.217Z"
   },
   {
    "duration": 17,
    "start_time": "2021-10-28T18:52:26.271Z"
   },
   {
    "duration": 21,
    "start_time": "2021-10-28T18:52:26.291Z"
   },
   {
    "duration": 52,
    "start_time": "2021-10-28T18:52:26.315Z"
   },
   {
    "duration": 11,
    "start_time": "2021-10-28T18:52:26.370Z"
   },
   {
    "duration": 15,
    "start_time": "2021-10-28T18:52:26.384Z"
   },
   {
    "duration": 12,
    "start_time": "2021-10-28T18:52:26.402Z"
   },
   {
    "duration": 5,
    "start_time": "2021-10-28T18:52:32.226Z"
   },
   {
    "duration": 1017,
    "start_time": "2021-10-28T18:53:38.169Z"
   },
   {
    "duration": 5,
    "start_time": "2021-10-28T18:53:42.483Z"
   },
   {
    "duration": 13,
    "start_time": "2021-10-28T18:53:46.919Z"
   },
   {
    "duration": 15,
    "start_time": "2021-10-28T18:53:48.090Z"
   },
   {
    "duration": 6,
    "start_time": "2021-10-28T18:53:48.831Z"
   },
   {
    "duration": 5,
    "start_time": "2021-10-28T18:54:56.067Z"
   },
   {
    "duration": 33,
    "start_time": "2021-10-28T18:54:57.915Z"
   },
   {
    "duration": 35,
    "start_time": "2021-10-28T18:55:00.257Z"
   },
   {
    "duration": 5,
    "start_time": "2021-10-28T18:55:14.543Z"
   },
   {
    "duration": 3,
    "start_time": "2021-10-28T18:55:34.381Z"
   },
   {
    "duration": 211,
    "start_time": "2021-10-28T18:55:34.387Z"
   },
   {
    "duration": 16,
    "start_time": "2021-10-28T18:55:34.601Z"
   },
   {
    "duration": 50,
    "start_time": "2021-10-28T18:55:34.620Z"
   },
   {
    "duration": 9,
    "start_time": "2021-10-28T18:55:34.673Z"
   },
   {
    "duration": 32,
    "start_time": "2021-10-28T18:55:34.684Z"
   },
   {
    "duration": 6,
    "start_time": "2021-10-28T18:55:34.719Z"
   },
   {
    "duration": 60,
    "start_time": "2021-10-28T18:55:34.727Z"
   },
   {
    "duration": 27,
    "start_time": "2021-10-28T18:55:34.791Z"
   },
   {
    "duration": 46,
    "start_time": "2021-10-28T18:55:34.820Z"
   },
   {
    "duration": 102,
    "start_time": "2021-10-28T18:55:34.868Z"
   },
   {
    "duration": 100,
    "start_time": "2021-10-28T18:55:34.972Z"
   },
   {
    "duration": 88,
    "start_time": "2021-10-28T18:55:35.074Z"
   },
   {
    "duration": 14,
    "start_time": "2021-10-28T18:55:35.165Z"
   },
   {
    "duration": 3,
    "start_time": "2021-10-28T18:55:35.182Z"
   },
   {
    "duration": 16,
    "start_time": "2021-10-28T18:55:35.187Z"
   },
   {
    "duration": 17,
    "start_time": "2021-10-28T18:55:35.206Z"
   },
   {
    "duration": 14,
    "start_time": "2021-10-28T18:55:35.258Z"
   },
   {
    "duration": 15,
    "start_time": "2021-10-28T18:55:35.276Z"
   },
   {
    "duration": 4,
    "start_time": "2021-10-28T18:55:35.295Z"
   },
   {
    "duration": 65,
    "start_time": "2021-10-28T18:55:35.302Z"
   },
   {
    "duration": 22,
    "start_time": "2021-10-28T18:55:35.370Z"
   },
   {
    "duration": 22,
    "start_time": "2021-10-28T18:55:35.396Z"
   },
   {
    "duration": 53,
    "start_time": "2021-10-28T18:55:35.420Z"
   },
   {
    "duration": 21,
    "start_time": "2021-10-28T18:55:35.475Z"
   },
   {
    "duration": 18,
    "start_time": "2021-10-28T18:55:35.498Z"
   },
   {
    "duration": 41,
    "start_time": "2021-10-28T18:55:35.519Z"
   },
   {
    "duration": 24,
    "start_time": "2021-10-28T18:55:35.563Z"
   },
   {
    "duration": 13,
    "start_time": "2021-10-28T18:55:35.589Z"
   },
   {
    "duration": 5,
    "start_time": "2021-10-28T18:55:39.882Z"
   },
   {
    "duration": 7,
    "start_time": "2021-10-28T18:55:42.469Z"
   },
   {
    "duration": 30,
    "start_time": "2021-10-28T18:55:44.255Z"
   },
   {
    "duration": 29,
    "start_time": "2021-10-28T18:55:53.028Z"
   },
   {
    "duration": 3,
    "start_time": "2021-10-28T18:56:19.694Z"
   },
   {
    "duration": 29,
    "start_time": "2021-10-28T18:56:56.979Z"
   },
   {
    "duration": 39,
    "start_time": "2021-10-28T18:56:57.533Z"
   },
   {
    "duration": 28,
    "start_time": "2021-10-28T18:56:57.903Z"
   },
   {
    "duration": 30,
    "start_time": "2021-10-28T18:56:58.335Z"
   },
   {
    "duration": 6,
    "start_time": "2021-10-28T18:58:19.440Z"
   },
   {
    "duration": 724,
    "start_time": "2021-10-28T18:58:20.794Z"
   },
   {
    "duration": -1511,
    "start_time": "2021-10-28T18:58:23.031Z"
   },
   {
    "duration": 6,
    "start_time": "2021-10-28T19:00:09.137Z"
   },
   {
    "duration": 31,
    "start_time": "2021-10-28T19:00:11.047Z"
   },
   {
    "duration": 29,
    "start_time": "2021-10-28T19:00:14.928Z"
   },
   {
    "duration": 32,
    "start_time": "2021-10-28T19:00:15.360Z"
   },
   {
    "duration": 28,
    "start_time": "2021-10-28T19:00:15.853Z"
   },
   {
    "duration": 36,
    "start_time": "2021-10-28T19:00:16.284Z"
   },
   {
    "duration": 6,
    "start_time": "2021-10-28T19:02:06.845Z"
   },
   {
    "duration": 883,
    "start_time": "2021-10-28T19:02:08.755Z"
   },
   {
    "duration": 5,
    "start_time": "2021-10-28T19:03:34.789Z"
   },
   {
    "duration": 57,
    "start_time": "2021-10-28T19:03:41.755Z"
   },
   {
    "duration": 3,
    "start_time": "2021-10-28T19:03:48.707Z"
   },
   {
    "duration": 187,
    "start_time": "2021-10-28T19:03:48.713Z"
   },
   {
    "duration": 18,
    "start_time": "2021-10-28T19:03:48.903Z"
   },
   {
    "duration": 49,
    "start_time": "2021-10-28T19:03:48.924Z"
   },
   {
    "duration": 5,
    "start_time": "2021-10-28T19:03:48.976Z"
   },
   {
    "duration": 21,
    "start_time": "2021-10-28T19:03:48.983Z"
   },
   {
    "duration": 5,
    "start_time": "2021-10-28T19:03:49.006Z"
   },
   {
    "duration": 66,
    "start_time": "2021-10-28T19:03:49.014Z"
   },
   {
    "duration": 25,
    "start_time": "2021-10-28T19:03:49.084Z"
   },
   {
    "duration": 49,
    "start_time": "2021-10-28T19:03:49.112Z"
   },
   {
    "duration": 93,
    "start_time": "2021-10-28T19:03:49.164Z"
   },
   {
    "duration": 97,
    "start_time": "2021-10-28T19:03:49.260Z"
   },
   {
    "duration": 77,
    "start_time": "2021-10-28T19:03:49.360Z"
   },
   {
    "duration": 32,
    "start_time": "2021-10-28T19:03:49.440Z"
   },
   {
    "duration": 5,
    "start_time": "2021-10-28T19:03:49.475Z"
   },
   {
    "duration": 17,
    "start_time": "2021-10-28T19:03:49.483Z"
   },
   {
    "duration": 54,
    "start_time": "2021-10-28T19:03:49.502Z"
   },
   {
    "duration": 15,
    "start_time": "2021-10-28T19:03:49.559Z"
   },
   {
    "duration": 13,
    "start_time": "2021-10-28T19:03:49.576Z"
   },
   {
    "duration": 4,
    "start_time": "2021-10-28T19:03:49.591Z"
   },
   {
    "duration": 60,
    "start_time": "2021-10-28T19:03:49.598Z"
   },
   {
    "duration": 19,
    "start_time": "2021-10-28T19:03:49.660Z"
   },
   {
    "duration": 18,
    "start_time": "2021-10-28T19:03:49.683Z"
   },
   {
    "duration": 17,
    "start_time": "2021-10-28T19:03:49.703Z"
   },
   {
    "duration": 54,
    "start_time": "2021-10-28T19:03:49.723Z"
   },
   {
    "duration": 20,
    "start_time": "2021-10-28T19:03:49.779Z"
   },
   {
    "duration": 12,
    "start_time": "2021-10-28T19:03:49.801Z"
   },
   {
    "duration": 53,
    "start_time": "2021-10-28T19:03:49.815Z"
   },
   {
    "duration": 12,
    "start_time": "2021-10-28T19:03:49.871Z"
   },
   {
    "duration": 6,
    "start_time": "2021-10-28T19:03:49.886Z"
   },
   {
    "duration": 57,
    "start_time": "2021-10-28T19:03:52.661Z"
   },
   {
    "duration": 58,
    "start_time": "2021-10-28T19:03:54.572Z"
   },
   {
    "duration": 59,
    "start_time": "2021-10-28T19:03:55.990Z"
   },
   {
    "duration": 5,
    "start_time": "2021-10-28T19:03:58.332Z"
   },
   {
    "duration": 6,
    "start_time": "2021-10-28T19:04:56.572Z"
   },
   {
    "duration": 65,
    "start_time": "2021-10-28T19:04:58.111Z"
   },
   {
    "duration": 76,
    "start_time": "2021-10-28T19:05:05.014Z"
   },
   {
    "duration": 65,
    "start_time": "2021-10-28T19:05:08.466Z"
   },
   {
    "duration": 64,
    "start_time": "2021-10-28T19:05:10.622Z"
   },
   {
    "duration": 5,
    "start_time": "2021-10-28T19:06:29.139Z"
   },
   {
    "duration": 745,
    "start_time": "2021-10-28T19:06:30.926Z"
   },
   {
    "duration": 5,
    "start_time": "2021-10-28T19:07:00.448Z"
   },
   {
    "duration": 39,
    "start_time": "2021-10-28T19:07:02.419Z"
   },
   {
    "duration": 36,
    "start_time": "2021-10-28T19:07:06.980Z"
   },
   {
    "duration": 37,
    "start_time": "2021-10-28T19:07:08.028Z"
   },
   {
    "duration": 39,
    "start_time": "2021-10-28T19:07:10.185Z"
   },
   {
    "duration": 5,
    "start_time": "2021-10-28T19:08:10.458Z"
   },
   {
    "duration": 758,
    "start_time": "2021-10-28T19:08:11.629Z"
   },
   {
    "duration": 6,
    "start_time": "2021-10-28T19:16:36.748Z"
   },
   {
    "duration": 37,
    "start_time": "2021-10-28T19:16:38.042Z"
   },
   {
    "duration": 6,
    "start_time": "2021-10-28T19:17:01.893Z"
   },
   {
    "duration": 772,
    "start_time": "2021-10-28T19:17:02.879Z"
   },
   {
    "duration": 7,
    "start_time": "2021-10-28T19:17:30.611Z"
   },
   {
    "duration": 727,
    "start_time": "2021-10-28T19:17:31.781Z"
   },
   {
    "duration": 6,
    "start_time": "2021-10-28T19:17:49.347Z"
   },
   {
    "duration": 716,
    "start_time": "2021-10-28T19:17:51.625Z"
   },
   {
    "duration": 6,
    "start_time": "2021-10-28T19:18:07.833Z"
   },
   {
    "duration": 786,
    "start_time": "2021-10-28T19:18:09.867Z"
   },
   {
    "duration": 5,
    "start_time": "2021-10-28T19:20:44.621Z"
   },
   {
    "duration": 37,
    "start_time": "2021-10-28T19:20:45.853Z"
   },
   {
    "duration": 5,
    "start_time": "2021-10-28T19:22:34.875Z"
   },
   {
    "duration": 48,
    "start_time": "2021-10-28T19:22:36.292Z"
   },
   {
    "duration": 45,
    "start_time": "2021-10-28T19:22:52.994Z"
   },
   {
    "duration": 47,
    "start_time": "2021-10-28T19:22:59.897Z"
   },
   {
    "duration": 50,
    "start_time": "2021-10-28T19:23:00.823Z"
   },
   {
    "duration": 14,
    "start_time": "2021-10-28T19:25:23.062Z"
   },
   {
    "duration": 14,
    "start_time": "2021-10-28T19:25:23.676Z"
   },
   {
    "duration": 27,
    "start_time": "2021-10-28T19:25:25.033Z"
   },
   {
    "duration": 48,
    "start_time": "2021-10-28T19:25:27.375Z"
   },
   {
    "duration": 46,
    "start_time": "2021-10-28T19:25:28.792Z"
   },
   {
    "duration": 46,
    "start_time": "2021-10-28T19:25:29.840Z"
   },
   {
    "duration": 57,
    "start_time": "2021-10-28T19:25:32.675Z"
   },
   {
    "duration": 3,
    "start_time": "2021-10-28T19:26:25.766Z"
   },
   {
    "duration": 196,
    "start_time": "2021-10-28T19:26:25.772Z"
   },
   {
    "duration": 15,
    "start_time": "2021-10-28T19:26:25.971Z"
   },
   {
    "duration": 35,
    "start_time": "2021-10-28T19:26:25.988Z"
   },
   {
    "duration": 5,
    "start_time": "2021-10-28T19:26:26.025Z"
   },
   {
    "duration": 15,
    "start_time": "2021-10-28T19:26:26.057Z"
   },
   {
    "duration": 5,
    "start_time": "2021-10-28T19:26:26.075Z"
   },
   {
    "duration": 32,
    "start_time": "2021-10-28T19:26:26.083Z"
   },
   {
    "duration": 62,
    "start_time": "2021-10-28T19:26:26.118Z"
   },
   {
    "duration": 31,
    "start_time": "2021-10-28T19:26:26.183Z"
   },
   {
    "duration": 104,
    "start_time": "2021-10-28T19:26:26.217Z"
   },
   {
    "duration": 105,
    "start_time": "2021-10-28T19:26:26.324Z"
   },
   {
    "duration": 81,
    "start_time": "2021-10-28T19:26:26.431Z"
   },
   {
    "duration": 14,
    "start_time": "2021-10-28T19:26:26.515Z"
   },
   {
    "duration": 4,
    "start_time": "2021-10-28T19:26:26.531Z"
   },
   {
    "duration": 32,
    "start_time": "2021-10-28T19:26:26.537Z"
   },
   {
    "duration": 17,
    "start_time": "2021-10-28T19:26:26.571Z"
   },
   {
    "duration": 14,
    "start_time": "2021-10-28T19:26:26.590Z"
   },
   {
    "duration": 15,
    "start_time": "2021-10-28T19:26:26.606Z"
   },
   {
    "duration": 5,
    "start_time": "2021-10-28T19:26:26.658Z"
   },
   {
    "duration": 30,
    "start_time": "2021-10-28T19:26:26.665Z"
   },
   {
    "duration": 18,
    "start_time": "2021-10-28T19:26:26.697Z"
   },
   {
    "duration": 46,
    "start_time": "2021-10-28T19:26:26.720Z"
   },
   {
    "duration": 19,
    "start_time": "2021-10-28T19:26:26.769Z"
   },
   {
    "duration": 22,
    "start_time": "2021-10-28T19:26:26.790Z"
   },
   {
    "duration": 47,
    "start_time": "2021-10-28T19:26:26.815Z"
   },
   {
    "duration": 12,
    "start_time": "2021-10-28T19:26:26.864Z"
   },
   {
    "duration": 25,
    "start_time": "2021-10-28T19:26:26.879Z"
   },
   {
    "duration": 14,
    "start_time": "2021-10-28T19:26:26.907Z"
   },
   {
    "duration": 34,
    "start_time": "2021-10-28T19:26:26.924Z"
   },
   {
    "duration": 49,
    "start_time": "2021-10-28T19:26:26.961Z"
   },
   {
    "duration": 62,
    "start_time": "2021-10-28T19:26:27.013Z"
   },
   {
    "duration": 47,
    "start_time": "2021-10-28T19:26:27.077Z"
   },
   {
    "duration": 4,
    "start_time": "2021-10-28T19:27:17.647Z"
   },
   {
    "duration": 183,
    "start_time": "2021-10-28T19:27:18.213Z"
   },
   {
    "duration": 16,
    "start_time": "2021-10-28T19:27:18.575Z"
   },
   {
    "duration": 34,
    "start_time": "2021-10-28T19:27:18.916Z"
   },
   {
    "duration": 6,
    "start_time": "2021-10-28T19:27:20.921Z"
   },
   {
    "duration": 16,
    "start_time": "2021-10-28T19:27:22.214Z"
   },
   {
    "duration": 5,
    "start_time": "2021-10-28T19:27:22.868Z"
   },
   {
    "duration": 32,
    "start_time": "2021-10-28T19:27:23.260Z"
   },
   {
    "duration": 28,
    "start_time": "2021-10-28T19:27:23.791Z"
   },
   {
    "duration": 31,
    "start_time": "2021-10-28T19:27:24.174Z"
   },
   {
    "duration": 79,
    "start_time": "2021-10-28T19:27:24.536Z"
   },
   {
    "duration": 91,
    "start_time": "2021-10-28T19:27:30.900Z"
   },
   {
    "duration": 76,
    "start_time": "2021-10-28T19:27:31.564Z"
   },
   {
    "duration": 16,
    "start_time": "2021-10-28T19:27:33.103Z"
   },
   {
    "duration": 4,
    "start_time": "2021-10-28T19:27:33.958Z"
   },
   {
    "duration": 15,
    "start_time": "2021-10-28T19:27:34.652Z"
   },
   {
    "duration": 13,
    "start_time": "2021-10-28T19:27:35.034Z"
   },
   {
    "duration": 15,
    "start_time": "2021-10-28T19:27:36.150Z"
   },
   {
    "duration": 17,
    "start_time": "2021-10-28T19:27:38.473Z"
   },
   {
    "duration": 5,
    "start_time": "2021-10-28T19:27:40.073Z"
   },
   {
    "duration": 20,
    "start_time": "2021-10-28T19:27:41.542Z"
   },
   {
    "duration": 22,
    "start_time": "2021-10-28T19:27:42.185Z"
   },
   {
    "duration": 23,
    "start_time": "2021-10-28T19:27:42.939Z"
   },
   {
    "duration": 18,
    "start_time": "2021-10-28T19:27:43.241Z"
   },
   {
    "duration": 21,
    "start_time": "2021-10-28T19:27:43.582Z"
   },
   {
    "duration": 22,
    "start_time": "2021-10-28T19:27:43.946Z"
   },
   {
    "duration": 14,
    "start_time": "2021-10-28T19:27:44.850Z"
   },
   {
    "duration": 19,
    "start_time": "2021-10-28T19:27:48.018Z"
   },
   {
    "duration": 16,
    "start_time": "2021-10-28T19:27:48.822Z"
   },
   {
    "duration": 18,
    "start_time": "2021-10-28T19:28:58.951Z"
   },
   {
    "duration": 14,
    "start_time": "2021-10-28T19:28:59.499Z"
   },
   {
    "duration": 6,
    "start_time": "2021-10-28T19:29:00.730Z"
   },
   {
    "duration": 49,
    "start_time": "2021-10-28T19:29:02.519Z"
   },
   {
    "duration": 48,
    "start_time": "2021-10-28T19:29:03.768Z"
   },
   {
    "duration": 49,
    "start_time": "2021-10-28T19:29:05.441Z"
   },
   {
    "duration": 46,
    "start_time": "2021-10-28T19:29:06.057Z"
   },
   {
    "duration": 6,
    "start_time": "2021-10-28T19:30:32.868Z"
   },
   {
    "duration": 43,
    "start_time": "2021-10-28T19:30:33.977Z"
   },
   {
    "duration": 43,
    "start_time": "2021-10-28T19:30:34.901Z"
   },
   {
    "duration": 45,
    "start_time": "2021-10-28T19:30:40.448Z"
   },
   {
    "duration": 44,
    "start_time": "2021-10-28T19:30:41.127Z"
   },
   {
    "duration": 16,
    "start_time": "2021-10-28T19:32:16.281Z"
   },
   {
    "duration": 13,
    "start_time": "2021-10-28T19:32:16.712Z"
   },
   {
    "duration": 6,
    "start_time": "2021-10-28T19:32:18.006Z"
   },
   {
    "duration": 44,
    "start_time": "2021-10-28T19:32:20.101Z"
   },
   {
    "duration": 7,
    "start_time": "2021-10-28T19:33:02.379Z"
   },
   {
    "duration": 47,
    "start_time": "2021-10-28T19:33:03.613Z"
   },
   {
    "duration": 48,
    "start_time": "2021-10-28T19:34:14.547Z"
   },
   {
    "duration": 45,
    "start_time": "2021-10-28T19:34:16.703Z"
   },
   {
    "duration": 46,
    "start_time": "2021-10-28T19:34:26.132Z"
   },
   {
    "duration": 48,
    "start_time": "2021-10-28T19:34:55.839Z"
   },
   {
    "duration": 47,
    "start_time": "2021-10-28T19:35:10.505Z"
   },
   {
    "duration": 48,
    "start_time": "2021-10-28T19:35:15.683Z"
   },
   {
    "duration": 48,
    "start_time": "2021-10-28T19:35:18.828Z"
   },
   {
    "duration": 49,
    "start_time": "2021-10-28T19:35:24.374Z"
   },
   {
    "duration": 47,
    "start_time": "2021-10-28T19:35:27.826Z"
   },
   {
    "duration": 19,
    "start_time": "2021-10-28T19:35:58.207Z"
   },
   {
    "duration": 14,
    "start_time": "2021-10-28T19:35:58.639Z"
   },
   {
    "duration": 5,
    "start_time": "2021-10-28T19:36:00.119Z"
   },
   {
    "duration": 55,
    "start_time": "2021-10-28T19:36:01.721Z"
   },
   {
    "duration": 48,
    "start_time": "2021-10-28T19:36:02.275Z"
   },
   {
    "duration": 48,
    "start_time": "2021-10-28T19:36:02.831Z"
   },
   {
    "duration": 46,
    "start_time": "2021-10-28T19:36:03.386Z"
   },
   {
    "duration": 17,
    "start_time": "2021-10-28T19:37:27.139Z"
   },
   {
    "duration": 13,
    "start_time": "2021-10-28T19:37:28.187Z"
   },
   {
    "duration": 7,
    "start_time": "2021-10-28T19:37:30.158Z"
   },
   {
    "duration": 47,
    "start_time": "2021-10-28T19:37:38.170Z"
   },
   {
    "duration": 47,
    "start_time": "2021-10-28T19:37:39.033Z"
   },
   {
    "duration": 45,
    "start_time": "2021-10-28T19:37:45.505Z"
   },
   {
    "duration": 48,
    "start_time": "2021-10-28T19:37:46.245Z"
   },
   {
    "duration": 17,
    "start_time": "2021-10-28T19:39:26.207Z"
   },
   {
    "duration": 13,
    "start_time": "2021-10-28T19:39:26.699Z"
   },
   {
    "duration": 5,
    "start_time": "2021-10-28T19:39:28.364Z"
   },
   {
    "duration": 60,
    "start_time": "2021-10-28T19:39:30.275Z"
   },
   {
    "duration": 4,
    "start_time": "2021-10-28T19:43:00.892Z"
   },
   {
    "duration": 209,
    "start_time": "2021-10-28T19:43:00.899Z"
   },
   {
    "duration": 16,
    "start_time": "2021-10-28T19:43:01.111Z"
   },
   {
    "duration": 49,
    "start_time": "2021-10-28T19:43:01.130Z"
   },
   {
    "duration": 14,
    "start_time": "2021-10-28T19:43:01.181Z"
   },
   {
    "duration": 40,
    "start_time": "2021-10-28T19:43:01.197Z"
   },
   {
    "duration": 7,
    "start_time": "2021-10-28T19:43:01.239Z"
   },
   {
    "duration": 33,
    "start_time": "2021-10-28T19:43:01.262Z"
   },
   {
    "duration": 38,
    "start_time": "2021-10-28T19:43:01.298Z"
   },
   {
    "duration": 56,
    "start_time": "2021-10-28T19:43:01.339Z"
   },
   {
    "duration": 110,
    "start_time": "2021-10-28T19:43:01.397Z"
   },
   {
    "duration": 101,
    "start_time": "2021-10-28T19:43:01.509Z"
   },
   {
    "duration": 90,
    "start_time": "2021-10-28T19:43:01.613Z"
   },
   {
    "duration": 15,
    "start_time": "2021-10-28T19:43:01.705Z"
   },
   {
    "duration": 8,
    "start_time": "2021-10-28T19:43:01.722Z"
   },
   {
    "duration": 36,
    "start_time": "2021-10-28T19:43:01.732Z"
   },
   {
    "duration": 20,
    "start_time": "2021-10-28T19:43:01.770Z"
   },
   {
    "duration": 23,
    "start_time": "2021-10-28T19:43:01.793Z"
   },
   {
    "duration": 39,
    "start_time": "2021-10-28T19:43:01.819Z"
   },
   {
    "duration": 5,
    "start_time": "2021-10-28T19:43:01.860Z"
   },
   {
    "duration": 53,
    "start_time": "2021-10-28T19:43:01.867Z"
   },
   {
    "duration": 20,
    "start_time": "2021-10-28T19:43:01.923Z"
   },
   {
    "duration": 20,
    "start_time": "2021-10-28T19:43:01.947Z"
   },
   {
    "duration": 32,
    "start_time": "2021-10-28T19:43:01.969Z"
   },
   {
    "duration": 28,
    "start_time": "2021-10-28T19:43:02.003Z"
   },
   {
    "duration": 26,
    "start_time": "2021-10-28T19:43:02.033Z"
   },
   {
    "duration": 11,
    "start_time": "2021-10-28T19:43:02.062Z"
   },
   {
    "duration": 25,
    "start_time": "2021-10-28T19:43:02.076Z"
   },
   {
    "duration": 21,
    "start_time": "2021-10-28T19:43:02.103Z"
   },
   {
    "duration": 6,
    "start_time": "2021-10-28T19:43:02.126Z"
   },
   {
    "duration": 50,
    "start_time": "2021-10-28T19:43:02.159Z"
   },
   {
    "duration": 62,
    "start_time": "2021-10-28T19:43:02.212Z"
   },
   {
    "duration": 46,
    "start_time": "2021-10-28T19:43:02.276Z"
   },
   {
    "duration": 13,
    "start_time": "2021-10-28T19:46:30.706Z"
   },
   {
    "duration": 13,
    "start_time": "2021-10-28T19:46:31.260Z"
   },
   {
    "duration": 6,
    "start_time": "2021-10-28T19:46:32.184Z"
   },
   {
    "duration": 75,
    "start_time": "2021-10-28T19:46:33.172Z"
   },
   {
    "duration": 70,
    "start_time": "2021-10-28T19:46:34.836Z"
   },
   {
    "duration": 71,
    "start_time": "2021-10-28T19:46:35.699Z"
   },
   {
    "duration": 50,
    "start_time": "2021-10-28T19:46:36.623Z"
   },
   {
    "duration": 15,
    "start_time": "2021-10-28T19:47:06.512Z"
   },
   {
    "duration": 32,
    "start_time": "2021-10-28T19:47:18.345Z"
   },
   {
    "duration": 13,
    "start_time": "2021-10-28T19:47:25.063Z"
   },
   {
    "duration": 28,
    "start_time": "2021-10-28T19:47:29.316Z"
   },
   {
    "duration": 6,
    "start_time": "2021-10-28T19:49:45.764Z"
   },
   {
    "duration": 719,
    "start_time": "2021-10-28T19:49:46.934Z"
   },
   {
    "duration": 6,
    "start_time": "2021-10-28T19:50:22.370Z"
   },
   {
    "duration": 702,
    "start_time": "2021-10-28T19:50:23.417Z"
   },
   {
    "duration": 5,
    "start_time": "2021-10-28T19:51:35.029Z"
   },
   {
    "duration": 986,
    "start_time": "2021-10-28T19:51:37.555Z"
   },
   {
    "duration": 6,
    "start_time": "2021-10-28T19:52:11.822Z"
   },
   {
    "duration": 5,
    "start_time": "2021-10-28T19:52:18.724Z"
   },
   {
    "duration": 390,
    "start_time": "2021-10-28T19:52:35.673Z"
   },
   {
    "duration": 454,
    "start_time": "2021-10-28T19:52:52.497Z"
   },
   {
    "duration": 5,
    "start_time": "2021-10-28T19:53:01.555Z"
   },
   {
    "duration": 39,
    "start_time": "2021-10-28T19:53:05.191Z"
   },
   {
    "duration": 31,
    "start_time": "2021-10-28T19:53:07.349Z"
   },
   {
    "duration": 39,
    "start_time": "2021-10-28T19:53:09.349Z"
   },
   {
    "duration": 33,
    "start_time": "2021-10-28T19:53:11.662Z"
   },
   {
    "duration": 74,
    "start_time": "2021-10-28T20:03:45.391Z"
   },
   {
    "duration": 74,
    "start_time": "2021-10-28T20:04:39.562Z"
   },
   {
    "duration": 17,
    "start_time": "2021-10-28T20:05:09.335Z"
   },
   {
    "duration": 29,
    "start_time": "2021-10-28T20:06:42.325Z"
   },
   {
    "duration": 12,
    "start_time": "2021-10-28T20:06:43.498Z"
   },
   {
    "duration": 32,
    "start_time": "2021-10-28T20:06:55.700Z"
   },
   {
    "duration": 32,
    "start_time": "2021-10-28T20:07:09.442Z"
   },
   {
    "duration": 12,
    "start_time": "2021-10-28T20:07:10.552Z"
   },
   {
    "duration": 30,
    "start_time": "2021-10-28T20:07:12.955Z"
   },
   {
    "duration": 12,
    "start_time": "2021-10-28T20:07:14.373Z"
   },
   {
    "duration": 40,
    "start_time": "2021-10-28T20:07:39.579Z"
   },
   {
    "duration": 41,
    "start_time": "2021-10-28T20:07:41.551Z"
   },
   {
    "duration": 45,
    "start_time": "2021-10-28T20:08:00.411Z"
   },
   {
    "duration": 12,
    "start_time": "2021-10-28T20:08:02.751Z"
   },
   {
    "duration": 367,
    "start_time": "2021-10-28T20:08:21.917Z"
   },
   {
    "duration": 30,
    "start_time": "2021-10-28T20:08:47.863Z"
   },
   {
    "duration": 14,
    "start_time": "2021-10-28T20:08:50.082Z"
   },
   {
    "duration": 30,
    "start_time": "2021-10-28T20:09:33.468Z"
   },
   {
    "duration": 12,
    "start_time": "2021-10-28T20:09:34.516Z"
   },
   {
    "duration": 383,
    "start_time": "2021-10-28T20:09:46.164Z"
   },
   {
    "duration": 13,
    "start_time": "2021-10-28T20:09:47.642Z"
   },
   {
    "duration": 112,
    "start_time": "2021-10-28T20:09:55.839Z"
   },
   {
    "duration": 145,
    "start_time": "2021-10-28T20:10:25.420Z"
   },
   {
    "duration": 116,
    "start_time": "2021-10-28T20:10:57.221Z"
   },
   {
    "duration": 16,
    "start_time": "2021-10-28T20:11:02.461Z"
   },
   {
    "duration": 112,
    "start_time": "2021-10-28T20:13:04.915Z"
   },
   {
    "duration": 13,
    "start_time": "2021-10-28T20:13:06.763Z"
   },
   {
    "duration": 378,
    "start_time": "2021-10-28T20:14:30.578Z"
   },
   {
    "duration": 13,
    "start_time": "2021-10-28T20:14:34.646Z"
   },
   {
    "duration": 33,
    "start_time": "2021-10-28T20:14:42.599Z"
   },
   {
    "duration": 17,
    "start_time": "2021-10-28T20:14:44.382Z"
   },
   {
    "duration": 46,
    "start_time": "2021-10-28T20:15:01.763Z"
   },
   {
    "duration": 12,
    "start_time": "2021-10-28T20:15:03.487Z"
   },
   {
    "duration": 415,
    "start_time": "2021-10-28T20:15:17.479Z"
   },
   {
    "duration": 47,
    "start_time": "2021-10-28T20:15:36.398Z"
   },
   {
    "duration": 13,
    "start_time": "2021-10-28T20:15:38.556Z"
   },
   {
    "duration": 362,
    "start_time": "2021-10-28T20:15:57.043Z"
   },
   {
    "duration": 10,
    "start_time": "2021-10-28T20:16:11.098Z"
   },
   {
    "duration": 7,
    "start_time": "2021-10-28T20:16:12.265Z"
   },
   {
    "duration": 370,
    "start_time": "2021-10-28T20:19:18.631Z"
   },
   {
    "duration": 10,
    "start_time": "2021-10-28T20:19:30.403Z"
   },
   {
    "duration": 6,
    "start_time": "2021-10-28T20:19:31.574Z"
   },
   {
    "duration": 3,
    "start_time": "2021-10-28T20:19:46.983Z"
   },
   {
    "duration": 8,
    "start_time": "2021-10-28T20:20:17.613Z"
   },
   {
    "duration": 365,
    "start_time": "2021-10-28T20:20:19.831Z"
   },
   {
    "duration": 652,
    "start_time": "2021-10-28T20:22:56.497Z"
   },
   {
    "duration": 7,
    "start_time": "2021-10-28T20:23:05.741Z"
   },
   {
    "duration": 8,
    "start_time": "2021-10-28T20:23:07.590Z"
   },
   {
    "duration": 359,
    "start_time": "2021-10-28T20:23:24.909Z"
   },
   {
    "duration": 841,
    "start_time": "2021-10-28T20:23:59.793Z"
   },
   {
    "duration": 368,
    "start_time": "2021-10-28T20:24:39.485Z"
   },
   {
    "duration": 358,
    "start_time": "2021-10-28T20:25:29.468Z"
   },
   {
    "duration": 412,
    "start_time": "2021-10-28T20:25:50.053Z"
   },
   {
    "duration": 7,
    "start_time": "2021-10-28T20:26:16.555Z"
   },
   {
    "duration": 6,
    "start_time": "2021-10-28T20:26:30.423Z"
   },
   {
    "duration": 357,
    "start_time": "2021-10-28T20:26:59.019Z"
   },
   {
    "duration": 408,
    "start_time": "2021-10-28T20:27:38.953Z"
   },
   {
    "duration": 12,
    "start_time": "2021-10-28T20:28:11.432Z"
   },
   {
    "duration": 7,
    "start_time": "2021-10-28T20:28:16.977Z"
   },
   {
    "duration": 356,
    "start_time": "2021-10-28T20:28:25.115Z"
   },
   {
    "duration": 4,
    "start_time": "2021-10-28T20:29:52.583Z"
   },
   {
    "duration": 205,
    "start_time": "2021-10-28T20:29:52.589Z"
   },
   {
    "duration": 16,
    "start_time": "2021-10-28T20:29:52.797Z"
   },
   {
    "duration": 48,
    "start_time": "2021-10-28T20:29:52.816Z"
   },
   {
    "duration": 6,
    "start_time": "2021-10-28T20:29:52.866Z"
   },
   {
    "duration": 21,
    "start_time": "2021-10-28T20:29:52.874Z"
   },
   {
    "duration": 5,
    "start_time": "2021-10-28T20:29:52.899Z"
   },
   {
    "duration": 69,
    "start_time": "2021-10-28T20:29:52.908Z"
   },
   {
    "duration": 27,
    "start_time": "2021-10-28T20:29:52.979Z"
   },
   {
    "duration": 49,
    "start_time": "2021-10-28T20:29:53.008Z"
   },
   {
    "duration": 80,
    "start_time": "2021-10-28T20:29:53.060Z"
   },
   {
    "duration": 100,
    "start_time": "2021-10-28T20:29:53.142Z"
   },
   {
    "duration": 84,
    "start_time": "2021-10-28T20:29:53.244Z"
   },
   {
    "duration": 30,
    "start_time": "2021-10-28T20:29:53.330Z"
   },
   {
    "duration": 4,
    "start_time": "2021-10-28T20:29:53.362Z"
   },
   {
    "duration": 28,
    "start_time": "2021-10-28T20:29:53.368Z"
   },
   {
    "duration": 20,
    "start_time": "2021-10-28T20:29:53.398Z"
   },
   {
    "duration": 19,
    "start_time": "2021-10-28T20:29:53.420Z"
   },
   {
    "duration": 26,
    "start_time": "2021-10-28T20:29:53.444Z"
   },
   {
    "duration": 8,
    "start_time": "2021-10-28T20:29:53.474Z"
   },
   {
    "duration": 37,
    "start_time": "2021-10-28T20:29:53.484Z"
   },
   {
    "duration": 36,
    "start_time": "2021-10-28T20:29:53.523Z"
   },
   {
    "duration": 19,
    "start_time": "2021-10-28T20:29:53.562Z"
   },
   {
    "duration": 23,
    "start_time": "2021-10-28T20:29:53.583Z"
   },
   {
    "duration": 28,
    "start_time": "2021-10-28T20:29:53.608Z"
   },
   {
    "duration": 19,
    "start_time": "2021-10-28T20:29:53.658Z"
   },
   {
    "duration": 11,
    "start_time": "2021-10-28T20:29:53.680Z"
   },
   {
    "duration": 34,
    "start_time": "2021-10-28T20:29:53.694Z"
   },
   {
    "duration": 24,
    "start_time": "2021-10-28T20:29:53.730Z"
   },
   {
    "duration": 19,
    "start_time": "2021-10-28T20:29:53.756Z"
   },
   {
    "duration": 58,
    "start_time": "2021-10-28T20:29:53.778Z"
   },
   {
    "duration": 28,
    "start_time": "2021-10-28T20:29:53.838Z"
   },
   {
    "duration": 40,
    "start_time": "2021-10-28T20:29:53.868Z"
   },
   {
    "duration": 49,
    "start_time": "2021-10-28T20:29:53.910Z"
   },
   {
    "duration": 10,
    "start_time": "2021-10-28T20:29:53.962Z"
   },
   {
    "duration": 17,
    "start_time": "2021-10-28T20:29:53.974Z"
   },
   {
    "duration": 16,
    "start_time": "2021-10-28T20:29:53.993Z"
   },
   {
    "duration": 6,
    "start_time": "2021-10-28T20:29:58.120Z"
   },
   {
    "duration": 4,
    "start_time": "2021-10-28T20:32:13.201Z"
   },
   {
    "duration": 218,
    "start_time": "2021-10-28T20:32:13.208Z"
   },
   {
    "duration": 27,
    "start_time": "2021-10-28T20:32:13.429Z"
   },
   {
    "duration": 36,
    "start_time": "2021-10-28T20:32:13.459Z"
   },
   {
    "duration": 7,
    "start_time": "2021-10-28T20:32:13.497Z"
   },
   {
    "duration": 56,
    "start_time": "2021-10-28T20:32:13.507Z"
   },
   {
    "duration": 6,
    "start_time": "2021-10-28T20:32:13.566Z"
   },
   {
    "duration": 32,
    "start_time": "2021-10-28T20:32:13.576Z"
   },
   {
    "duration": 57,
    "start_time": "2021-10-28T20:32:13.611Z"
   },
   {
    "duration": 33,
    "start_time": "2021-10-28T20:32:13.671Z"
   },
   {
    "duration": 100,
    "start_time": "2021-10-28T20:32:13.706Z"
   },
   {
    "duration": 106,
    "start_time": "2021-10-28T20:32:13.808Z"
   },
   {
    "duration": 91,
    "start_time": "2021-10-28T20:32:13.916Z"
   },
   {
    "duration": 14,
    "start_time": "2021-10-28T20:32:14.009Z"
   },
   {
    "duration": 5,
    "start_time": "2021-10-28T20:32:14.026Z"
   },
   {
    "duration": 37,
    "start_time": "2021-10-28T20:32:14.034Z"
   },
   {
    "duration": 17,
    "start_time": "2021-10-28T20:32:14.074Z"
   },
   {
    "duration": 15,
    "start_time": "2021-10-28T20:32:14.094Z"
   },
   {
    "duration": 53,
    "start_time": "2021-10-28T20:32:14.112Z"
   },
   {
    "duration": 5,
    "start_time": "2021-10-28T20:32:14.168Z"
   },
   {
    "duration": 29,
    "start_time": "2021-10-28T20:32:14.176Z"
   },
   {
    "duration": 20,
    "start_time": "2021-10-28T20:32:14.207Z"
   },
   {
    "duration": 23,
    "start_time": "2021-10-28T20:32:14.260Z"
   },
   {
    "duration": 21,
    "start_time": "2021-10-28T20:32:14.287Z"
   },
   {
    "duration": 61,
    "start_time": "2021-10-28T20:32:14.311Z"
   },
   {
    "duration": 24,
    "start_time": "2021-10-28T20:32:14.375Z"
   },
   {
    "duration": 13,
    "start_time": "2021-10-28T20:32:14.402Z"
   },
   {
    "duration": 54,
    "start_time": "2021-10-28T20:32:14.417Z"
   },
   {
    "duration": 18,
    "start_time": "2021-10-28T20:32:14.473Z"
   },
   {
    "duration": 5,
    "start_time": "2021-10-28T20:32:14.494Z"
   },
   {
    "duration": 58,
    "start_time": "2021-10-28T20:32:14.501Z"
   },
   {
    "duration": 31,
    "start_time": "2021-10-28T20:32:14.561Z"
   },
   {
    "duration": 70,
    "start_time": "2021-10-28T20:32:14.594Z"
   },
   {
    "duration": 32,
    "start_time": "2021-10-28T20:32:14.667Z"
   },
   {
    "duration": 12,
    "start_time": "2021-10-28T20:32:14.701Z"
   },
   {
    "duration": 7,
    "start_time": "2021-10-28T20:32:14.715Z"
   },
   {
    "duration": 43,
    "start_time": "2021-10-28T20:32:14.724Z"
   },
   {
    "duration": 6,
    "start_time": "2021-10-28T20:32:14.769Z"
   },
   {
    "duration": 821,
    "start_time": "2021-10-29T09:00:04.169Z"
   },
   {
    "duration": 189,
    "start_time": "2021-10-29T09:00:04.993Z"
   },
   {
    "duration": 26,
    "start_time": "2021-10-29T09:00:05.185Z"
   },
   {
    "duration": 35,
    "start_time": "2021-10-29T09:00:05.214Z"
   },
   {
    "duration": 6,
    "start_time": "2021-10-29T09:00:05.251Z"
   },
   {
    "duration": 55,
    "start_time": "2021-10-29T09:00:05.259Z"
   },
   {
    "duration": 7,
    "start_time": "2021-10-29T09:00:05.317Z"
   },
   {
    "duration": 35,
    "start_time": "2021-10-29T09:00:05.327Z"
   },
   {
    "duration": 51,
    "start_time": "2021-10-29T09:00:05.368Z"
   },
   {
    "duration": 32,
    "start_time": "2021-10-29T09:00:05.423Z"
   },
   {
    "duration": 127,
    "start_time": "2021-10-29T09:00:05.457Z"
   },
   {
    "duration": 99,
    "start_time": "2021-10-29T09:00:05.587Z"
   },
   {
    "duration": 89,
    "start_time": "2021-10-29T09:00:05.688Z"
   },
   {
    "duration": 35,
    "start_time": "2021-10-29T09:00:05.780Z"
   },
   {
    "duration": 5,
    "start_time": "2021-10-29T09:00:05.818Z"
   },
   {
    "duration": 30,
    "start_time": "2021-10-29T09:00:05.826Z"
   },
   {
    "duration": 19,
    "start_time": "2021-10-29T09:00:05.858Z"
   },
   {
    "duration": 33,
    "start_time": "2021-10-29T09:00:05.880Z"
   },
   {
    "duration": 17,
    "start_time": "2021-10-29T09:00:05.916Z"
   },
   {
    "duration": 22,
    "start_time": "2021-10-29T09:00:05.935Z"
   },
   {
    "duration": 54,
    "start_time": "2021-10-29T09:00:05.959Z"
   },
   {
    "duration": 33,
    "start_time": "2021-10-29T09:00:06.016Z"
   },
   {
    "duration": 27,
    "start_time": "2021-10-29T09:00:06.052Z"
   },
   {
    "duration": 37,
    "start_time": "2021-10-29T09:00:06.081Z"
   },
   {
    "duration": 23,
    "start_time": "2021-10-29T09:00:06.121Z"
   },
   {
    "duration": 55,
    "start_time": "2021-10-29T09:00:06.147Z"
   },
   {
    "duration": 12,
    "start_time": "2021-10-29T09:00:06.209Z"
   },
   {
    "duration": 17,
    "start_time": "2021-10-29T09:00:06.224Z"
   },
   {
    "duration": 12,
    "start_time": "2021-10-29T09:00:06.243Z"
   },
   {
    "duration": 5,
    "start_time": "2021-10-29T09:00:06.258Z"
   },
   {
    "duration": 33,
    "start_time": "2021-10-29T09:00:06.301Z"
   },
   {
    "duration": 24,
    "start_time": "2021-10-29T09:00:06.336Z"
   },
   {
    "duration": 62,
    "start_time": "2021-10-29T09:00:06.362Z"
   },
   {
    "duration": 23,
    "start_time": "2021-10-29T09:00:06.426Z"
   },
   {
    "duration": 10,
    "start_time": "2021-10-29T09:00:06.452Z"
   },
   {
    "duration": 38,
    "start_time": "2021-10-29T09:00:06.464Z"
   },
   {
    "duration": 13,
    "start_time": "2021-10-29T09:00:06.506Z"
   },
   {
    "duration": 9,
    "start_time": "2021-10-29T09:00:06.522Z"
   },
   {
    "duration": 6,
    "start_time": "2021-10-29T09:00:15.651Z"
   },
   {
    "duration": 40,
    "start_time": "2021-10-29T09:00:17.293Z"
   },
   {
    "duration": 799,
    "start_time": "2021-10-29T09:00:27.502Z"
   },
   {
    "duration": 189,
    "start_time": "2021-10-29T09:00:28.304Z"
   },
   {
    "duration": 27,
    "start_time": "2021-10-29T09:00:28.496Z"
   },
   {
    "duration": 46,
    "start_time": "2021-10-29T09:00:28.526Z"
   },
   {
    "duration": 5,
    "start_time": "2021-10-29T09:00:28.575Z"
   },
   {
    "duration": 42,
    "start_time": "2021-10-29T09:00:28.583Z"
   },
   {
    "duration": 9,
    "start_time": "2021-10-29T09:00:28.628Z"
   },
   {
    "duration": 61,
    "start_time": "2021-10-29T09:00:28.641Z"
   },
   {
    "duration": 25,
    "start_time": "2021-10-29T09:00:28.705Z"
   },
   {
    "duration": 33,
    "start_time": "2021-10-29T09:00:28.733Z"
   },
   {
    "duration": 113,
    "start_time": "2021-10-29T09:00:28.768Z"
   },
   {
    "duration": 99,
    "start_time": "2021-10-29T09:00:28.883Z"
   },
   {
    "duration": 89,
    "start_time": "2021-10-29T09:00:28.985Z"
   },
   {
    "duration": 27,
    "start_time": "2021-10-29T09:00:29.077Z"
   },
   {
    "duration": 4,
    "start_time": "2021-10-29T09:00:29.106Z"
   },
   {
    "duration": 25,
    "start_time": "2021-10-29T09:00:29.113Z"
   },
   {
    "duration": 16,
    "start_time": "2021-10-29T09:00:29.141Z"
   },
   {
    "duration": 43,
    "start_time": "2021-10-29T09:00:29.159Z"
   },
   {
    "duration": 16,
    "start_time": "2021-10-29T09:00:29.204Z"
   },
   {
    "duration": 5,
    "start_time": "2021-10-29T09:00:29.222Z"
   },
   {
    "duration": 27,
    "start_time": "2021-10-29T09:00:29.230Z"
   },
   {
    "duration": 49,
    "start_time": "2021-10-29T09:00:29.260Z"
   },
   {
    "duration": 21,
    "start_time": "2021-10-29T09:00:29.315Z"
   },
   {
    "duration": 20,
    "start_time": "2021-10-29T09:00:29.340Z"
   },
   {
    "duration": 57,
    "start_time": "2021-10-29T09:00:29.363Z"
   },
   {
    "duration": 22,
    "start_time": "2021-10-29T09:00:29.423Z"
   },
   {
    "duration": 13,
    "start_time": "2021-10-29T09:00:29.448Z"
   },
   {
    "duration": 14,
    "start_time": "2021-10-29T09:00:29.501Z"
   },
   {
    "duration": 14,
    "start_time": "2021-10-29T09:00:29.517Z"
   },
   {
    "duration": 5,
    "start_time": "2021-10-29T09:00:29.534Z"
   },
   {
    "duration": 76,
    "start_time": "2021-10-29T09:00:29.541Z"
   },
   {
    "duration": 31,
    "start_time": "2021-10-29T09:00:29.619Z"
   },
   {
    "duration": 63,
    "start_time": "2021-10-29T09:00:29.652Z"
   },
   {
    "duration": 29,
    "start_time": "2021-10-29T09:00:29.717Z"
   },
   {
    "duration": 10,
    "start_time": "2021-10-29T09:00:29.748Z"
   },
   {
    "duration": 7,
    "start_time": "2021-10-29T09:00:29.760Z"
   },
   {
    "duration": 39,
    "start_time": "2021-10-29T09:00:29.769Z"
   },
   {
    "duration": 6,
    "start_time": "2021-10-29T09:00:29.810Z"
   },
   {
    "duration": 315,
    "start_time": "2021-11-11T13:17:06.585Z"
   },
   {
    "duration": 842,
    "start_time": "2021-11-11T13:17:11.692Z"
   },
   {
    "duration": 194,
    "start_time": "2021-11-11T13:17:12.536Z"
   },
   {
    "duration": 34,
    "start_time": "2021-11-11T13:17:12.733Z"
   },
   {
    "duration": 35,
    "start_time": "2021-11-11T13:17:12.770Z"
   },
   {
    "duration": 6,
    "start_time": "2021-11-11T13:17:12.807Z"
   },
   {
    "duration": 53,
    "start_time": "2021-11-11T13:17:12.815Z"
   },
   {
    "duration": 9,
    "start_time": "2021-11-11T13:17:12.871Z"
   },
   {
    "duration": 37,
    "start_time": "2021-11-11T13:17:12.883Z"
   },
   {
    "duration": 26,
    "start_time": "2021-11-11T13:17:15.838Z"
   },
   {
    "duration": 26,
    "start_time": "2021-11-11T13:17:20.021Z"
   },
   {
    "duration": 31,
    "start_time": "2021-11-11T13:17:21.747Z"
   },
   {
    "duration": 4882,
    "start_time": "2021-11-11T13:20:04.293Z"
   },
   {
    "duration": -496,
    "start_time": "2021-11-11T13:20:09.675Z"
   },
   {
    "duration": 244,
    "start_time": "2021-11-11T13:20:21.122Z"
   },
   {
    "duration": 92,
    "start_time": "2021-11-11T13:21:08.768Z"
   },
   {
    "duration": 30,
    "start_time": "2021-11-11T13:21:13.082Z"
   },
   {
    "duration": 4944,
    "start_time": "2021-11-11T13:22:27.852Z"
   },
   {
    "duration": -489,
    "start_time": "2021-11-11T13:22:33.288Z"
   },
   {
    "duration": 93,
    "start_time": "2021-11-11T13:22:39.318Z"
   },
   {
    "duration": 32,
    "start_time": "2021-11-11T13:22:43.447Z"
   },
   {
    "duration": 88,
    "start_time": "2021-11-11T13:26:49.142Z"
   },
   {
    "duration": 110,
    "start_time": "2021-11-11T13:37:40.819Z"
   },
   {
    "duration": 86,
    "start_time": "2021-11-11T13:37:56.901Z"
   },
   {
    "duration": 118,
    "start_time": "2021-11-11T13:37:59.981Z"
   },
   {
    "duration": 83,
    "start_time": "2021-11-11T13:39:21.291Z"
   },
   {
    "duration": 132,
    "start_time": "2021-11-11T13:43:00.792Z"
   },
   {
    "duration": 3719,
    "start_time": "2021-11-11T13:43:10.593Z"
   },
   {
    "duration": -527,
    "start_time": "2021-11-11T13:43:14.842Z"
   },
   {
    "duration": 22,
    "start_time": "2021-11-11T13:44:07.430Z"
   },
   {
    "duration": 31,
    "start_time": "2021-11-11T13:44:14.578Z"
   },
   {
    "duration": 3,
    "start_time": "2021-11-11T13:49:13.524Z"
   },
   {
    "duration": 186,
    "start_time": "2021-11-11T13:49:13.530Z"
   },
   {
    "duration": 15,
    "start_time": "2021-11-11T13:49:13.719Z"
   },
   {
    "duration": 52,
    "start_time": "2021-11-11T13:49:13.737Z"
   },
   {
    "duration": 10,
    "start_time": "2021-11-11T13:49:13.791Z"
   },
   {
    "duration": 27,
    "start_time": "2021-11-11T13:49:13.803Z"
   },
   {
    "duration": 5,
    "start_time": "2021-11-11T13:49:13.833Z"
   },
   {
    "duration": 56,
    "start_time": "2021-11-11T13:49:13.841Z"
   },
   {
    "duration": 36,
    "start_time": "2021-11-11T13:49:21.556Z"
   },
   {
    "duration": 24,
    "start_time": "2021-11-11T13:49:23.344Z"
   },
   {
    "duration": 17,
    "start_time": "2021-11-11T13:56:14.857Z"
   },
   {
    "duration": 27,
    "start_time": "2021-11-11T13:56:18.492Z"
   },
   {
    "duration": 3,
    "start_time": "2021-11-11T13:56:23.515Z"
   },
   {
    "duration": 197,
    "start_time": "2021-11-11T13:56:23.520Z"
   },
   {
    "duration": 15,
    "start_time": "2021-11-11T13:56:23.720Z"
   },
   {
    "duration": 50,
    "start_time": "2021-11-11T13:56:23.737Z"
   },
   {
    "duration": 5,
    "start_time": "2021-11-11T13:56:23.790Z"
   },
   {
    "duration": 19,
    "start_time": "2021-11-11T13:56:23.797Z"
   },
   {
    "duration": 5,
    "start_time": "2021-11-11T13:56:23.819Z"
   },
   {
    "duration": 60,
    "start_time": "2021-11-11T13:56:23.827Z"
   },
   {
    "duration": 18,
    "start_time": "2021-11-11T13:56:23.890Z"
   },
   {
    "duration": 25,
    "start_time": "2021-11-11T13:56:33.472Z"
   },
   {
    "duration": 31,
    "start_time": "2021-11-11T13:56:42.288Z"
   },
   {
    "duration": 21,
    "start_time": "2021-11-11T13:57:07.869Z"
   },
   {
    "duration": 32,
    "start_time": "2021-11-11T13:57:09.163Z"
   },
   {
    "duration": 31,
    "start_time": "2021-11-11T13:57:10.950Z"
   },
   {
    "duration": 26,
    "start_time": "2021-11-11T13:57:32.464Z"
   },
   {
    "duration": 30,
    "start_time": "2021-11-11T13:57:34.744Z"
   },
   {
    "duration": 91,
    "start_time": "2021-11-11T16:34:29.389Z"
   },
   {
    "duration": 84,
    "start_time": "2021-11-11T16:34:32.840Z"
   },
   {
    "duration": 95,
    "start_time": "2021-11-11T16:35:11.986Z"
   },
   {
    "duration": 92,
    "start_time": "2021-11-11T16:35:29.185Z"
   },
   {
    "duration": 80,
    "start_time": "2021-11-11T16:35:53.779Z"
   },
   {
    "duration": 79,
    "start_time": "2021-11-11T16:35:58.462Z"
   },
   {
    "duration": 127,
    "start_time": "2021-11-11T16:36:00.619Z"
   },
   {
    "duration": 84,
    "start_time": "2021-11-11T16:36:11.779Z"
   },
   {
    "duration": 75,
    "start_time": "2021-11-11T16:36:21.580Z"
   },
   {
    "duration": 96,
    "start_time": "2021-11-11T16:36:42.723Z"
   },
   {
    "duration": 85,
    "start_time": "2021-11-11T16:37:05.286Z"
   },
   {
    "duration": 88,
    "start_time": "2021-11-11T16:37:33.148Z"
   },
   {
    "duration": 86,
    "start_time": "2021-11-11T16:38:00.769Z"
   },
   {
    "duration": 92,
    "start_time": "2021-11-11T16:38:08.535Z"
   },
   {
    "duration": 84,
    "start_time": "2021-11-11T16:38:37.270Z"
   },
   {
    "duration": 95,
    "start_time": "2021-11-11T16:39:08.216Z"
   },
   {
    "duration": 101,
    "start_time": "2021-11-11T16:39:38.855Z"
   },
   {
    "duration": 100,
    "start_time": "2021-11-11T16:40:03.023Z"
   },
   {
    "duration": 85,
    "start_time": "2021-11-11T16:40:10.296Z"
   },
   {
    "duration": 101,
    "start_time": "2021-11-11T16:40:14.056Z"
   },
   {
    "duration": 92,
    "start_time": "2021-11-11T16:40:19.359Z"
   },
   {
    "duration": 97,
    "start_time": "2021-11-11T16:40:33.537Z"
   },
   {
    "duration": 103,
    "start_time": "2021-11-11T16:40:41.551Z"
   },
   {
    "duration": 4,
    "start_time": "2021-11-11T16:41:02.216Z"
   },
   {
    "duration": 206,
    "start_time": "2021-11-11T16:41:02.222Z"
   },
   {
    "duration": 16,
    "start_time": "2021-11-11T16:41:02.431Z"
   },
   {
    "duration": 43,
    "start_time": "2021-11-11T16:41:02.450Z"
   },
   {
    "duration": 8,
    "start_time": "2021-11-11T16:41:02.496Z"
   },
   {
    "duration": 31,
    "start_time": "2021-11-11T16:41:02.507Z"
   },
   {
    "duration": 32,
    "start_time": "2021-11-11T16:41:02.541Z"
   },
   {
    "duration": 40,
    "start_time": "2021-11-11T16:41:02.576Z"
   },
   {
    "duration": 59,
    "start_time": "2021-11-11T16:41:02.620Z"
   },
   {
    "duration": 111,
    "start_time": "2021-11-11T16:41:02.681Z"
   },
   {
    "duration": 91,
    "start_time": "2021-11-11T16:41:05.222Z"
   },
   {
    "duration": 15,
    "start_time": "2021-11-11T20:07:58.504Z"
   },
   {
    "duration": 14,
    "start_time": "2021-11-11T20:21:39.270Z"
   },
   {
    "duration": 15,
    "start_time": "2021-11-11T20:21:59.969Z"
   },
   {
    "duration": 15,
    "start_time": "2021-11-11T20:22:07.982Z"
   },
   {
    "duration": 4,
    "start_time": "2021-11-11T20:24:37.540Z"
   },
   {
    "duration": 196,
    "start_time": "2021-11-11T20:24:37.548Z"
   },
   {
    "duration": 24,
    "start_time": "2021-11-11T20:24:37.747Z"
   },
   {
    "duration": 36,
    "start_time": "2021-11-11T20:24:37.774Z"
   },
   {
    "duration": 8,
    "start_time": "2021-11-11T20:24:37.813Z"
   },
   {
    "duration": 57,
    "start_time": "2021-11-11T20:24:37.823Z"
   },
   {
    "duration": 5,
    "start_time": "2021-11-11T20:24:37.884Z"
   },
   {
    "duration": 33,
    "start_time": "2021-11-11T20:24:37.892Z"
   },
   {
    "duration": 60,
    "start_time": "2021-11-11T20:24:37.928Z"
   },
   {
    "duration": 30,
    "start_time": "2021-11-11T20:24:37.990Z"
   },
   {
    "duration": 109,
    "start_time": "2021-11-11T20:24:38.023Z"
   },
   {
    "duration": 98,
    "start_time": "2021-11-11T20:24:38.134Z"
   },
   {
    "duration": 92,
    "start_time": "2021-11-11T20:24:38.234Z"
   },
   {
    "duration": 16,
    "start_time": "2021-11-11T20:24:38.328Z"
   },
   {
    "duration": 22,
    "start_time": "2021-11-11T20:24:38.347Z"
   },
   {
    "duration": 16,
    "start_time": "2021-11-11T20:24:38.372Z"
   },
   {
    "duration": 19,
    "start_time": "2021-11-11T20:24:38.391Z"
   },
   {
    "duration": 16,
    "start_time": "2021-11-11T20:24:38.413Z"
   },
   {
    "duration": 15,
    "start_time": "2021-11-11T20:24:38.471Z"
   },
   {
    "duration": 5,
    "start_time": "2021-11-11T20:24:40.640Z"
   },
   {
    "duration": 6982,
    "start_time": "2021-11-11T20:24:42.243Z"
   },
   {
    "duration": 5,
    "start_time": "2021-11-11T20:26:33.617Z"
   },
   {
    "duration": 21,
    "start_time": "2021-11-11T20:26:35.095Z"
   },
   {
    "duration": 18,
    "start_time": "2021-11-11T20:26:36.832Z"
   },
   {
    "duration": 22,
    "start_time": "2021-11-11T20:26:37.807Z"
   },
   {
    "duration": 5,
    "start_time": "2021-11-11T20:29:44.487Z"
   },
   {
    "duration": 5,
    "start_time": "2021-11-11T20:36:21.390Z"
   },
   {
    "duration": 3,
    "start_time": "2021-11-11T20:36:35.206Z"
   },
   {
    "duration": 219,
    "start_time": "2021-11-11T20:36:35.212Z"
   },
   {
    "duration": 16,
    "start_time": "2021-11-11T20:36:35.434Z"
   },
   {
    "duration": 46,
    "start_time": "2021-11-11T20:36:35.453Z"
   },
   {
    "duration": 6,
    "start_time": "2021-11-11T20:36:35.501Z"
   },
   {
    "duration": 24,
    "start_time": "2021-11-11T20:36:35.509Z"
   },
   {
    "duration": 32,
    "start_time": "2021-11-11T20:36:35.536Z"
   },
   {
    "duration": 35,
    "start_time": "2021-11-11T20:36:35.571Z"
   },
   {
    "duration": 32,
    "start_time": "2021-11-11T20:36:35.608Z"
   },
   {
    "duration": 51,
    "start_time": "2021-11-11T20:36:35.642Z"
   },
   {
    "duration": 130,
    "start_time": "2021-11-11T20:36:35.696Z"
   },
   {
    "duration": 100,
    "start_time": "2021-11-11T20:36:35.829Z"
   },
   {
    "duration": 79,
    "start_time": "2021-11-11T20:36:35.931Z"
   },
   {
    "duration": 14,
    "start_time": "2021-11-11T20:36:36.013Z"
   },
   {
    "duration": 5,
    "start_time": "2021-11-11T20:36:36.030Z"
   },
   {
    "duration": 17,
    "start_time": "2021-11-11T20:36:36.037Z"
   },
   {
    "duration": 23,
    "start_time": "2021-11-11T20:36:36.057Z"
   },
   {
    "duration": 13,
    "start_time": "2021-11-11T20:36:36.083Z"
   },
   {
    "duration": 14,
    "start_time": "2021-11-11T20:36:36.100Z"
   },
   {
    "duration": 4,
    "start_time": "2021-11-11T20:36:36.117Z"
   },
   {
    "duration": 39,
    "start_time": "2021-11-11T20:36:36.124Z"
   },
   {
    "duration": 22,
    "start_time": "2021-11-11T20:36:36.165Z"
   },
   {
    "duration": 19,
    "start_time": "2021-11-11T20:36:36.190Z"
   },
   {
    "duration": 20,
    "start_time": "2021-11-11T20:36:36.212Z"
   },
   {
    "duration": 22,
    "start_time": "2021-11-11T20:36:36.235Z"
   },
   {
    "duration": 19,
    "start_time": "2021-11-11T20:36:36.259Z"
   },
   {
    "duration": 15,
    "start_time": "2021-11-11T20:36:36.280Z"
   },
   {
    "duration": 18,
    "start_time": "2021-11-11T20:36:36.298Z"
   },
   {
    "duration": 12,
    "start_time": "2021-11-11T20:36:36.318Z"
   },
   {
    "duration": 5,
    "start_time": "2021-11-11T20:36:38.770Z"
   },
   {
    "duration": 280,
    "start_time": "2021-11-11T20:37:06.933Z"
   },
   {
    "duration": 6,
    "start_time": "2021-11-11T20:37:17.471Z"
   },
   {
    "duration": 6,
    "start_time": "2021-11-11T20:37:24.189Z"
   },
   {
    "duration": 7,
    "start_time": "2021-11-11T20:38:57.930Z"
   },
   {
    "duration": 32,
    "start_time": "2021-11-11T20:39:01.134Z"
   },
   {
    "duration": 21,
    "start_time": "2021-11-11T20:39:59.125Z"
   },
   {
    "duration": 29,
    "start_time": "2021-11-11T20:40:01.962Z"
   },
   {
    "duration": 22,
    "start_time": "2021-11-11T20:40:03.009Z"
   },
   {
    "duration": 696,
    "start_time": "2021-11-12T07:34:15.884Z"
   },
   {
    "duration": 153,
    "start_time": "2021-11-12T07:34:16.582Z"
   },
   {
    "duration": 17,
    "start_time": "2021-11-12T07:34:16.738Z"
   },
   {
    "duration": 27,
    "start_time": "2021-11-12T07:34:16.764Z"
   },
   {
    "duration": 9,
    "start_time": "2021-11-12T07:34:16.792Z"
   },
   {
    "duration": 23,
    "start_time": "2021-11-12T07:34:16.802Z"
   },
   {
    "duration": 8,
    "start_time": "2021-11-12T07:34:16.828Z"
   },
   {
    "duration": 46,
    "start_time": "2021-11-12T07:34:16.838Z"
   },
   {
    "duration": 31,
    "start_time": "2021-11-12T07:34:16.888Z"
   },
   {
    "duration": 23,
    "start_time": "2021-11-12T07:34:16.922Z"
   },
   {
    "duration": 77,
    "start_time": "2021-11-12T07:34:16.947Z"
   },
   {
    "duration": 82,
    "start_time": "2021-11-12T07:34:17.026Z"
   },
   {
    "duration": 62,
    "start_time": "2021-11-12T07:34:17.110Z"
   },
   {
    "duration": 10,
    "start_time": "2021-11-12T07:34:17.173Z"
   },
   {
    "duration": 5,
    "start_time": "2021-11-12T07:34:17.184Z"
   },
   {
    "duration": 16,
    "start_time": "2021-11-12T07:34:17.191Z"
   },
   {
    "duration": 22,
    "start_time": "2021-11-12T07:34:17.209Z"
   },
   {
    "duration": 14,
    "start_time": "2021-11-12T07:34:17.233Z"
   },
   {
    "duration": 24,
    "start_time": "2021-11-12T07:34:17.248Z"
   },
   {
    "duration": 5,
    "start_time": "2021-11-12T07:34:17.274Z"
   },
   {
    "duration": 21,
    "start_time": "2021-11-12T07:34:17.281Z"
   },
   {
    "duration": 15,
    "start_time": "2021-11-12T07:34:17.304Z"
   },
   {
    "duration": 43,
    "start_time": "2021-11-12T07:34:17.321Z"
   },
   {
    "duration": 14,
    "start_time": "2021-11-12T07:34:17.366Z"
   },
   {
    "duration": 17,
    "start_time": "2021-11-12T07:34:17.382Z"
   },
   {
    "duration": 21,
    "start_time": "2021-11-12T07:34:17.401Z"
   },
   {
    "duration": 8,
    "start_time": "2021-11-12T07:34:17.427Z"
   },
   {
    "duration": 39,
    "start_time": "2021-11-12T07:34:17.437Z"
   },
   {
    "duration": 12,
    "start_time": "2021-11-12T07:34:17.478Z"
   },
   {
    "duration": 4,
    "start_time": "2021-11-12T07:34:17.492Z"
   },
   {
    "duration": 31,
    "start_time": "2021-11-12T07:34:17.498Z"
   },
   {
    "duration": 40,
    "start_time": "2021-11-12T07:34:17.530Z"
   },
   {
    "duration": 20,
    "start_time": "2021-11-12T07:34:17.572Z"
   },
   {
    "duration": 16,
    "start_time": "2021-11-12T07:34:17.593Z"
   },
   {
    "duration": 8,
    "start_time": "2021-11-12T07:34:17.611Z"
   },
   {
    "duration": 10,
    "start_time": "2021-11-12T07:34:17.620Z"
   },
   {
    "duration": 32,
    "start_time": "2021-11-12T07:34:17.632Z"
   },
   {
    "duration": 6,
    "start_time": "2021-11-12T07:34:17.665Z"
   }
  ],
  "colab": {
   "collapsed_sections": [
    "E0vqbgi9ay0H",
    "VUC88oWjTJw2"
   ],
   "name": "yandex_music_project_2021.2.ipynb",
   "provenance": []
  },
  "kernelspec": {
   "display_name": "Python 3 (ipykernel)",
   "language": "python",
   "name": "python3"
  },
  "language_info": {
   "codemirror_mode": {
    "name": "ipython",
    "version": 3
   },
   "file_extension": ".py",
   "mimetype": "text/x-python",
   "name": "python",
   "nbconvert_exporter": "python",
   "pygments_lexer": "ipython3",
   "version": "3.9.2"
  },
  "toc": {
   "base_numbering": 1,
   "nav_menu": {},
   "number_sections": true,
   "sideBar": true,
   "skip_h1_title": true,
   "title_cell": "Table of Contents",
   "title_sidebar": "Contents",
   "toc_cell": false,
   "toc_position": {},
   "toc_section_display": true,
   "toc_window_display": false
  }
 },
 "nbformat": 4,
 "nbformat_minor": 4
}
